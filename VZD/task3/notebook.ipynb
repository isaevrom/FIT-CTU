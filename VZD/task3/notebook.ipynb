{
 "cells": [
  {
   "cell_type": "markdown",
   "source": "# Úkol č. 3 - regrese\n\n * **Deadline je do 20. prosince 23:59**, pokud odevzdáte úkol do 27. prosince 23:59 budete penalizování -4 body, pozdější odevzdání je bez bodu.\n * V rámci tohoto úkolu se musíte vypořádat s problematikou regrese a hledání optimálních hyperparametrů.\n     \n> **Úkoly jsou zadány tak, aby Vám daly prostor pro invenci. Vymyslet _jak přesně_ budete úkol řešit, je důležitou součástí zadání a originalita či nápaditost bude také hodnocena!**\n\n## Dataset\n\n  * Zdrojem dat je soubor `LifeExpectancyData.csv` na course pages (originál zde: https://www.kaggle.com/kumarajarshi/life-expectancy-who).\n  * Popis datasetu najdete na uvedené stránce s originálem datasetu.\n  * Cílová (vysvětlovaná) proměnná se jmenuje `Life expectancy `.\n  \n\n## Pokyny k vypracování\n**Body zadání**, za jejichž (poctivé) vypracování získáte **16 bodů**:\n\n  1. Odeberte z dat body u kterých neznáte vysvětlovanou proměnnou.\n  1. Rozdělte data na trénovací a testovací množinu.\n  1. Proveďte základní průzkum dat a svá pozorování diskutujte. Na jeho základě adekvátně reagujte na problematické věci v datech (chybějící hodnoty, atd.) a vysvětlete motivaci k provedeným krokům.\n  1. Aplikujte lineární a hřebenovou regresi a výsledky řádně vyhodnoťte:\n      * K měření chyby použijte `mean_absolute_error`.\n\n  1. Zkoumejte, jak byste mohli modely vylepšit:\n      * Experimentujte s tvorbou nových příznaků (na základě těch dostupných).\n      * Experimentujte se standardizací/normalizací dat.\n      * Vyberte si hyperparametry modelů k ladění a najděte jejich nejlepší hodnoty.\n      * Získané výsledky vždy řádně okomentujte.\n    \n  1. Použijte i jiné modely (alespoň jeden) ukazované v předmětu VZD či i jiné, pokud víte, jak fungují.\n\n\n## Poznámky k odevzdání\n\n  * Řiďte se pokyny ze stránky https://courses.fit.cvut.cz/BI-VZD/homeworks/index.html.\n  * Opravující Vám může umožnit úkol dodělat či opravit a získat tak další body. První verze je ale důležitá a bude-li odbytá, budete za to penalizováni.",
   "metadata": {
    "tags": [],
    "cell_id": "00001-523d21f4-02af-4a7a-8d5e-290c8a2e2473",
    "deepnote_cell_type": "markdown",
    "deepnote_cell_height": 1019.953125
   }
  },
  {
   "cell_type": "markdown",
   "source": "## 1. Odeberte z dat body u kterých neznáte vysvětlovanou proměnnou.",
   "metadata": {
    "tags": [],
    "cell_id": "00002-859be1bd-addd-49f2-a1df-901e05c19ad7",
    "deepnote_cell_type": "markdown",
    "deepnote_cell_height": 110
   }
  },
  {
   "cell_type": "code",
   "metadata": {
    "tags": [],
    "cell_id": "00003-70d0c562-33d6-4b06-a5f8-ff1bd8ddb615",
    "deepnote_to_be_reexecuted": false,
    "source_hash": "9b82ee11",
    "execution_start": 1661363078495,
    "execution_millis": 24,
    "deepnote_cell_type": "code",
    "deepnote_cell_height": 76
   },
   "source": "import pandas as pd",
   "execution_count": 1,
   "outputs": []
  },
  {
   "cell_type": "code",
   "metadata": {
    "tags": [],
    "cell_id": "00004-4a407965-ae1e-44bf-b2b6-4af8206862f8",
    "deepnote_to_be_reexecuted": false,
    "source_hash": "53b52b50",
    "execution_start": 1661363078526,
    "execution_millis": 13,
    "deepnote_cell_type": "code",
    "deepnote_cell_height": 76
   },
   "source": "df = pd.read_csv('LifeExpectancyData.csv')",
   "execution_count": 2,
   "outputs": []
  },
  {
   "cell_type": "code",
   "metadata": {
    "tags": [],
    "cell_id": "00005-adfb3d6e-53fa-4cc4-a4d1-b04c570ef855",
    "deepnote_to_be_reexecuted": false,
    "source_hash": "a1200156",
    "execution_start": 1661363078547,
    "execution_millis": 9,
    "deepnote_cell_type": "code",
    "deepnote_cell_height": 224.859375
   },
   "source": "print(df.columns)",
   "execution_count": 3,
   "outputs": [
    {
     "name": "stdout",
     "text": "Index(['Country', 'Year', 'Status', 'Life expectancy ', 'Adult Mortality',\n       'infant deaths', 'Alcohol', 'percentage expenditure', 'Hepatitis B',\n       'Measles ', ' BMI ', 'under-five deaths ', 'Polio', 'Total expenditure',\n       'Diphtheria ', ' HIV/AIDS', 'GDP', 'Population',\n       ' thinness  1-19 years', ' thinness 5-9 years',\n       'Income composition of resources', 'Schooling'],\n      dtype='object')\n",
     "output_type": "stream"
    }
   ]
  },
  {
   "cell_type": "markdown",
   "source": "* K jednotlivým příznakům se bude nepohodlně přistupovat, neboť mají mezery po (nebo i před) svém názvu.\n* Proto tyto bílé znaky smažu.",
   "metadata": {
    "tags": [],
    "cell_id": "00006-8ebb67c9-0ea1-4f06-a466-bb5e6f11daa8",
    "deepnote_cell_type": "markdown",
    "deepnote_cell_height": 94.796875
   }
  },
  {
   "cell_type": "code",
   "metadata": {
    "tags": [],
    "cell_id": "00007-7596aa42-e656-48d1-8b24-d527f28bc219",
    "deepnote_to_be_reexecuted": false,
    "source_hash": "7600a612",
    "execution_start": 1661363078559,
    "execution_millis": 4,
    "deepnote_cell_type": "code",
    "deepnote_cell_height": 76
   },
   "source": "df.columns = df.columns.str.strip()",
   "execution_count": 4,
   "outputs": []
  },
  {
   "cell_type": "markdown",
   "source": "* Nyní je to použitelnější.",
   "metadata": {
    "tags": [],
    "cell_id": "00008-cb1f16fc-e2c4-489d-b7c1-cb7bb8de3fa4",
    "deepnote_cell_type": "markdown",
    "deepnote_cell_height": 69.390625
   }
  },
  {
   "cell_type": "code",
   "metadata": {
    "tags": [],
    "cell_id": "00008-0f3e1a4a-3469-4514-9880-f4fdd7f34af7",
    "deepnote_to_be_reexecuted": false,
    "source_hash": "a1200156",
    "execution_start": 1661363078564,
    "execution_millis": 16,
    "deepnote_cell_type": "code",
    "deepnote_cell_height": 205.171875
   },
   "source": "print(df.columns)",
   "execution_count": 5,
   "outputs": [
    {
     "name": "stdout",
     "text": "Index(['Country', 'Year', 'Status', 'Life expectancy', 'Adult Mortality',\n       'infant deaths', 'Alcohol', 'percentage expenditure', 'Hepatitis B',\n       'Measles', 'BMI', 'under-five deaths', 'Polio', 'Total expenditure',\n       'Diphtheria', 'HIV/AIDS', 'GDP', 'Population', 'thinness  1-19 years',\n       'thinness 5-9 years', 'Income composition of resources', 'Schooling'],\n      dtype='object')\n",
     "output_type": "stream"
    }
   ]
  },
  {
   "cell_type": "markdown",
   "source": "* Vysvětlovaná proměnná je 'Life expectancy', zbavím se tedy záznamů, u kterých je tato hodnota nedefinována.",
   "metadata": {
    "tags": [],
    "cell_id": "00007-2e5c1390-2d5b-4d20-96be-868fbd772c68",
    "deepnote_cell_type": "markdown",
    "deepnote_cell_height": 69.390625
   }
  },
  {
   "cell_type": "code",
   "metadata": {
    "tags": [],
    "cell_id": "00008-fb52c424-21ad-4ed4-b454-c2184135b7e1",
    "deepnote_to_be_reexecuted": false,
    "source_hash": "50b14414",
    "execution_start": 1661363078580,
    "execution_millis": 100,
    "deepnote_cell_type": "code",
    "deepnote_cell_height": 113.1875,
    "deepnote_output_heights": [
     20.1875
    ]
   },
   "source": "df.shape[0] - df[df['Life expectancy'].notnull()].shape[0]",
   "execution_count": 6,
   "outputs": [
    {
     "output_type": "execute_result",
     "execution_count": 6,
     "data": {
      "text/plain": "10"
     },
     "metadata": {}
    }
   ]
  },
  {
   "cell_type": "markdown",
   "source": "* 10 záznamů nemá definovanou 'Life expectancy' - o tyto záznamy dataframe ochudíme.",
   "metadata": {
    "tags": [],
    "cell_id": "00013-efbc4ae1-1293-4731-9c7b-4ec876dbcf99",
    "deepnote_cell_type": "markdown",
    "deepnote_cell_height": 69.390625
   }
  },
  {
   "cell_type": "code",
   "metadata": {
    "tags": [],
    "cell_id": "00014-2c3fdb37-c521-4b05-8c4c-daf03531a898",
    "deepnote_to_be_reexecuted": false,
    "source_hash": "a9ad1489",
    "execution_start": 1661363078679,
    "execution_millis": 0,
    "deepnote_cell_type": "code",
    "deepnote_cell_height": 76
   },
   "source": "df = df[df['Life expectancy'].notnull()]",
   "execution_count": 7,
   "outputs": []
  },
  {
   "cell_type": "markdown",
   "source": "## 2. Rozdělte data na trénovací a testovací množinu.",
   "metadata": {
    "tags": [],
    "cell_id": "00014-5673bd57-5c01-4985-9161-7779d31c62f3",
    "deepnote_cell_type": "markdown",
    "deepnote_cell_height": 70
   }
  },
  {
   "cell_type": "code",
   "metadata": {
    "tags": [],
    "cell_id": "00015-7dde87e3-5e1f-43e5-8a8d-37d0b329f58a",
    "deepnote_to_be_reexecuted": false,
    "source_hash": "746a4dbc",
    "execution_start": 1661363078679,
    "execution_millis": 1810,
    "deepnote_cell_type": "code",
    "deepnote_cell_height": 76
   },
   "source": "from sklearn.model_selection import train_test_split",
   "execution_count": 8,
   "outputs": []
  },
  {
   "cell_type": "code",
   "metadata": {
    "tags": [],
    "cell_id": "00016-f1fce2f7-6c89-4f11-ba5f-829ca26d2e7e",
    "deepnote_to_be_reexecuted": false,
    "source_hash": "8927facf",
    "execution_start": 1661363080497,
    "execution_millis": 12,
    "deepnote_cell_type": "code",
    "deepnote_cell_height": 252.390625
   },
   "source": "X, X_test, Y, Y_test = train_test_split(\n    df.drop(columns=['Life expectancy']), \n    df[\"Life expectancy\"],\n    test_size=0.25, \n    random_state=42\n)\nprint(\"Train X shape\", X.shape)\nprint(\"Test X shape\", X_test.shape)",
   "execution_count": 9,
   "outputs": [
    {
     "name": "stdout",
     "text": "Train X shape (2196, 21)\nTest X shape (732, 21)\n",
     "output_type": "stream"
    }
   ]
  },
  {
   "cell_type": "markdown",
   "source": "## 3. Proveďte základní průzkum dat a svá pozorování diskutujte. Na jeho základě adekvátně reagujte na problematické věci v datech (chybějící hodnoty, atd.) a vysvětlete motivaci k provedeným krokům.",
   "metadata": {
    "tags": [],
    "cell_id": "00017-20d71162-93b4-4431-a422-db18aa968300",
    "deepnote_cell_type": "markdown",
    "deepnote_cell_height": 190
   }
  },
  {
   "cell_type": "code",
   "metadata": {
    "tags": [],
    "cell_id": "00018-c4fee422-653a-4d75-9cba-3ee41a5a6b92",
    "deepnote_to_be_reexecuted": false,
    "source_hash": "f804c160",
    "execution_start": 1661363080512,
    "execution_millis": 157,
    "is_output_hidden": true,
    "deepnote_cell_type": "code",
    "deepnote_cell_height": 106.796875
   },
   "source": "df",
   "execution_count": 10,
   "outputs": [
    {
     "output_type": "execute_result",
     "execution_count": 10,
     "data": {
      "application/vnd.deepnote.dataframe.v3+json": {
       "column_count": 22,
       "row_count": 2928,
       "columns": [
        {
         "name": "Country",
         "dtype": "object",
         "stats": {
          "unique_count": 183,
          "nan_count": 0,
          "categories": [
           {
            "name": "Afghanistan",
            "count": 16
           },
           {
            "name": "Albania",
            "count": 16
           },
           {
            "name": "181 others",
            "count": 2896
           }
          ]
         }
        },
        {
         "name": "Year",
         "dtype": "int64",
         "stats": {
          "unique_count": 16,
          "nan_count": 0,
          "min": "2000",
          "max": "2015",
          "histogram": [
           {
            "bin_start": 2000,
            "bin_end": 2001.5,
            "count": 366
           },
           {
            "bin_start": 2001.5,
            "bin_end": 2003,
            "count": 183
           },
           {
            "bin_start": 2003,
            "bin_end": 2004.5,
            "count": 366
           },
           {
            "bin_start": 2004.5,
            "bin_end": 2006,
            "count": 183
           },
           {
            "bin_start": 2006,
            "bin_end": 2007.5,
            "count": 366
           },
           {
            "bin_start": 2007.5,
            "bin_end": 2009,
            "count": 183
           },
           {
            "bin_start": 2009,
            "bin_end": 2010.5,
            "count": 366
           },
           {
            "bin_start": 2010.5,
            "bin_end": 2012,
            "count": 183
           },
           {
            "bin_start": 2012,
            "bin_end": 2013.5,
            "count": 366
           },
           {
            "bin_start": 2013.5,
            "bin_end": 2015,
            "count": 366
           }
          ]
         }
        },
        {
         "name": "Status",
         "dtype": "object",
         "stats": {
          "unique_count": 2,
          "nan_count": 0,
          "categories": [
           {
            "name": "Developing",
            "count": 2416
           },
           {
            "name": "Developed",
            "count": 512
           }
          ]
         }
        },
        {
         "name": "Life expectancy",
         "dtype": "float64",
         "stats": {
          "unique_count": 362,
          "nan_count": 0,
          "min": "36.3",
          "max": "89.0",
          "histogram": [
           {
            "bin_start": 36.3,
            "bin_end": 41.57,
            "count": 4
           },
           {
            "bin_start": 41.57,
            "bin_end": 46.839999999999996,
            "count": 50
           },
           {
            "bin_start": 46.839999999999996,
            "bin_end": 52.11,
            "count": 134
           },
           {
            "bin_start": 52.11,
            "bin_end": 57.379999999999995,
            "count": 229
           },
           {
            "bin_start": 57.379999999999995,
            "bin_end": 62.65,
            "count": 277
           },
           {
            "bin_start": 62.65,
            "bin_end": 67.92,
            "count": 405
           },
           {
            "bin_start": 67.92,
            "bin_end": 73.19,
            "count": 580
           },
           {
            "bin_start": 73.19,
            "bin_end": 78.46000000000001,
            "count": 819
           },
           {
            "bin_start": 78.46000000000001,
            "bin_end": 83.73,
            "count": 362
           },
           {
            "bin_start": 83.73,
            "bin_end": 89,
            "count": 68
           }
          ]
         }
        },
        {
         "name": "Adult Mortality",
         "dtype": "float64",
         "stats": {
          "unique_count": 425,
          "nan_count": 0,
          "min": "1.0",
          "max": "723.0",
          "histogram": [
           {
            "bin_start": 1,
            "bin_end": 73.2,
            "count": 729
           },
           {
            "bin_start": 73.2,
            "bin_end": 145.4,
            "count": 765
           },
           {
            "bin_start": 145.4,
            "bin_end": 217.60000000000002,
            "count": 610
           },
           {
            "bin_start": 217.60000000000002,
            "bin_end": 289.8,
            "count": 423
           },
           {
            "bin_start": 289.8,
            "bin_end": 362,
            "count": 176
           },
           {
            "bin_start": 362,
            "bin_end": 434.20000000000005,
            "count": 117
           },
           {
            "bin_start": 434.20000000000005,
            "bin_end": 506.40000000000003,
            "count": 54
           },
           {
            "bin_start": 506.40000000000003,
            "bin_end": 578.6,
            "count": 24
           },
           {
            "bin_start": 578.6,
            "bin_end": 650.8000000000001,
            "count": 17
           },
           {
            "bin_start": 650.8000000000001,
            "bin_end": 723,
            "count": 13
           }
          ]
         }
        },
        {
         "name": "infant deaths",
         "dtype": "int64",
         "stats": {
          "unique_count": 209,
          "nan_count": 0,
          "min": "0",
          "max": "1800",
          "histogram": [
           {
            "bin_start": 0,
            "bin_end": 180,
            "count": 2835
           },
           {
            "bin_start": 180,
            "bin_end": 360,
            "count": 42
           },
           {
            "bin_start": 360,
            "bin_end": 540,
            "count": 27
           },
           {
            "bin_start": 540,
            "bin_end": 720,
            "count": 8
           },
           {
            "bin_start": 720,
            "bin_end": 900,
            "count": 0
           },
           {
            "bin_start": 900,
            "bin_end": 1080,
            "count": 3
           },
           {
            "bin_start": 1080,
            "bin_end": 1260,
            "count": 3
           },
           {
            "bin_start": 1260,
            "bin_end": 1440,
            "count": 3
           },
           {
            "bin_start": 1440,
            "bin_end": 1620,
            "count": 3
           },
           {
            "bin_start": 1620,
            "bin_end": 1800,
            "count": 4
           }
          ]
         }
        },
        {
         "name": "Alcohol",
         "dtype": "float64",
         "stats": {
          "unique_count": 1076,
          "nan_count": 193,
          "min": "0.01",
          "max": "17.87",
          "histogram": [
           {
            "bin_start": 0.01,
            "bin_end": 1.796,
            "count": 961
           },
           {
            "bin_start": 1.796,
            "bin_end": 3.582,
            "count": 375
           },
           {
            "bin_start": 3.582,
            "bin_end": 5.368,
            "count": 327
           },
           {
            "bin_start": 5.368,
            "bin_end": 7.154,
            "count": 289
           },
           {
            "bin_start": 7.154,
            "bin_end": 8.94,
            "count": 262
           },
           {
            "bin_start": 8.94,
            "bin_end": 10.726,
            "count": 242
           },
           {
            "bin_start": 10.726,
            "bin_end": 12.512,
            "count": 198
           },
           {
            "bin_start": 12.512,
            "bin_end": 14.298,
            "count": 66
           },
           {
            "bin_start": 14.298,
            "bin_end": 16.084000000000003,
            "count": 10
           },
           {
            "bin_start": 16.084000000000003,
            "bin_end": 17.87,
            "count": 5
           }
          ]
         }
        },
        {
         "name": "percentage expenditure",
         "dtype": "float64",
         "stats": {
          "unique_count": 2323,
          "nan_count": 0,
          "min": "0.0",
          "max": "19479.91161",
          "histogram": [
           {
            "bin_start": 0,
            "bin_end": 1947.991161,
            "count": 2647
           },
           {
            "bin_start": 1947.991161,
            "bin_end": 3895.982322,
            "count": 118
           },
           {
            "bin_start": 3895.982322,
            "bin_end": 5843.973483,
            "count": 54
           },
           {
            "bin_start": 5843.973483,
            "bin_end": 7791.964644,
            "count": 46
           },
           {
            "bin_start": 7791.964644,
            "bin_end": 9739.955805,
            "count": 27
           },
           {
            "bin_start": 9739.955805,
            "bin_end": 11687.946966,
            "count": 17
           },
           {
            "bin_start": 11687.946966,
            "bin_end": 13635.938127,
            "count": 7
           },
           {
            "bin_start": 13635.938127,
            "bin_end": 15583.929288,
            "count": 5
           },
           {
            "bin_start": 15583.929288,
            "bin_end": 17531.920448999997,
            "count": 2
           },
           {
            "bin_start": 17531.920448999997,
            "bin_end": 19479.91161,
            "count": 5
           }
          ]
         }
        },
        {
         "name": "Hepatitis B",
         "dtype": "float64",
         "stats": {
          "unique_count": 87,
          "nan_count": 553,
          "min": "1.0",
          "max": "99.0",
          "histogram": [
           {
            "bin_start": 1,
            "bin_end": 10.8,
            "count": 157
           },
           {
            "bin_start": 10.8,
            "bin_end": 20.6,
            "count": 16
           },
           {
            "bin_start": 20.6,
            "bin_end": 30.400000000000002,
            "count": 22
           },
           {
            "bin_start": 30.400000000000002,
            "bin_end": 40.2,
            "count": 21
           },
           {
            "bin_start": 40.2,
            "bin_end": 50,
            "count": 56
           },
           {
            "bin_start": 50,
            "bin_end": 59.800000000000004,
            "count": 48
           },
           {
            "bin_start": 59.800000000000004,
            "bin_end": 69.60000000000001,
            "count": 141
           },
           {
            "bin_start": 69.60000000000001,
            "bin_end": 79.4,
            "count": 202
           },
           {
            "bin_start": 79.4,
            "bin_end": 89.2,
            "count": 402
           },
           {
            "bin_start": 89.2,
            "bin_end": 99,
            "count": 1310
           }
          ]
         }
        },
        {
         "name": "Measles",
         "dtype": "int64",
         "stats": {
          "unique_count": 958,
          "nan_count": 0,
          "min": "0",
          "max": "212183",
          "histogram": [
           {
            "bin_start": 0,
            "bin_end": 21218.3,
            "count": 2848
           },
           {
            "bin_start": 21218.3,
            "bin_end": 42436.6,
            "count": 38
           },
           {
            "bin_start": 42436.6,
            "bin_end": 63654.899999999994,
            "count": 21
           },
           {
            "bin_start": 63654.899999999994,
            "bin_end": 84873.2,
            "count": 7
           },
           {
            "bin_start": 84873.2,
            "bin_end": 106091.5,
            "count": 4
           },
           {
            "bin_start": 106091.5,
            "bin_end": 127309.79999999999,
            "count": 4
           },
           {
            "bin_start": 127309.79999999999,
            "bin_end": 148528.1,
            "count": 3
           },
           {
            "bin_start": 148528.1,
            "bin_end": 169746.4,
            "count": 1
           },
           {
            "bin_start": 169746.4,
            "bin_end": 190964.69999999998,
            "count": 1
           },
           {
            "bin_start": 190964.69999999998,
            "bin_end": 212183,
            "count": 1
           }
          ]
         }
        },
        {
         "name": "BMI",
         "dtype": "float64",
         "stats": {
          "unique_count": 602,
          "nan_count": 32,
          "min": "1.0",
          "max": "77.6",
          "histogram": [
           {
            "bin_start": 1,
            "bin_end": 8.66,
            "count": 280
           },
           {
            "bin_start": 8.66,
            "bin_end": 16.32,
            "count": 210
           },
           {
            "bin_start": 16.32,
            "bin_end": 23.979999999999997,
            "count": 460
           },
           {
            "bin_start": 23.979999999999997,
            "bin_end": 31.639999999999997,
            "count": 246
           },
           {
            "bin_start": 31.639999999999997,
            "bin_end": 39.3,
            "count": 161
           },
           {
            "bin_start": 39.3,
            "bin_end": 46.959999999999994,
            "count": 249
           },
           {
            "bin_start": 46.959999999999994,
            "bin_end": 54.62,
            "count": 418
           },
           {
            "bin_start": 54.62,
            "bin_end": 62.279999999999994,
            "count": 614
           },
           {
            "bin_start": 62.279999999999994,
            "bin_end": 69.94,
            "count": 229
           },
           {
            "bin_start": 69.94,
            "bin_end": 77.6,
            "count": 29
           }
          ]
         }
        },
        {
         "name": "under-five deaths",
         "dtype": "int64",
         "stats": {
          "unique_count": 252,
          "nan_count": 0,
          "min": "0",
          "max": "2500",
          "histogram": [
           {
            "bin_start": 0,
            "bin_end": 250,
            "count": 2838
           },
           {
            "bin_start": 250,
            "bin_end": 500,
            "count": 55
           },
           {
            "bin_start": 500,
            "bin_end": 750,
            "count": 4
           },
           {
            "bin_start": 750,
            "bin_end": 1000,
            "count": 15
           },
           {
            "bin_start": 1000,
            "bin_end": 1250,
            "count": 2
           },
           {
            "bin_start": 1250,
            "bin_end": 1500,
            "count": 2
           },
           {
            "bin_start": 1500,
            "bin_end": 1750,
            "count": 3
           },
           {
            "bin_start": 1750,
            "bin_end": 2000,
            "count": 2
           },
           {
            "bin_start": 2000,
            "bin_end": 2250,
            "count": 4
           },
           {
            "bin_start": 2250,
            "bin_end": 2500,
            "count": 3
           }
          ]
         }
        },
        {
         "name": "Polio",
         "dtype": "float64",
         "stats": {
          "unique_count": 73,
          "nan_count": 19,
          "min": "3.0",
          "max": "99.0",
          "histogram": [
           {
            "bin_start": 3,
            "bin_end": 12.6,
            "count": 171
           },
           {
            "bin_start": 12.6,
            "bin_end": 22.2,
            "count": 1
           },
           {
            "bin_start": 22.2,
            "bin_end": 31.799999999999997,
            "count": 10
           },
           {
            "bin_start": 31.799999999999997,
            "bin_end": 41.4,
            "count": 26
           },
           {
            "bin_start": 41.4,
            "bin_end": 51,
            "count": 70
           },
           {
            "bin_start": 51,
            "bin_end": 60.599999999999994,
            "count": 85
           },
           {
            "bin_start": 60.599999999999994,
            "bin_end": 70.2,
            "count": 150
           },
           {
            "bin_start": 70.2,
            "bin_end": 79.8,
            "count": 270
           },
           {
            "bin_start": 79.8,
            "bin_end": 89.39999999999999,
            "count": 446
           },
           {
            "bin_start": 89.39999999999999,
            "bin_end": 99,
            "count": 1680
           }
          ]
         }
        },
        {
         "name": "Total expenditure",
         "dtype": "float64",
         "stats": {
          "unique_count": 816,
          "nan_count": 226,
          "min": "0.37",
          "max": "17.6",
          "histogram": [
           {
            "bin_start": 0.37,
            "bin_end": 2.093,
            "count": 150
           },
           {
            "bin_start": 2.093,
            "bin_end": 3.8160000000000003,
            "count": 383
           },
           {
            "bin_start": 3.8160000000000003,
            "bin_end": 5.539000000000001,
            "count": 706
           },
           {
            "bin_start": 5.539000000000001,
            "bin_end": 7.2620000000000005,
            "count": 719
           },
           {
            "bin_start": 7.2620000000000005,
            "bin_end": 8.985,
            "count": 460
           },
           {
            "bin_start": 8.985,
            "bin_end": 10.708,
            "count": 183
           },
           {
            "bin_start": 10.708,
            "bin_end": 12.431,
            "count": 71
           },
           {
            "bin_start": 12.431,
            "bin_end": 14.154,
            "count": 16
           },
           {
            "bin_start": 14.154,
            "bin_end": 15.877,
            "count": 7
           },
           {
            "bin_start": 15.877,
            "bin_end": 17.6,
            "count": 7
           }
          ]
         }
        },
        {
         "name": "Diphtheria",
         "dtype": "float64",
         "stats": {
          "unique_count": 81,
          "nan_count": 19,
          "min": "2.0",
          "max": "99.0",
          "histogram": [
           {
            "bin_start": 2,
            "bin_end": 11.7,
            "count": 169
           },
           {
            "bin_start": 11.7,
            "bin_end": 21.4,
            "count": 3
           },
           {
            "bin_start": 21.4,
            "bin_end": 31.099999999999998,
            "count": 22
           },
           {
            "bin_start": 31.099999999999998,
            "bin_end": 40.8,
            "count": 35
           },
           {
            "bin_start": 40.8,
            "bin_end": 50.5,
            "count": 68
           },
           {
            "bin_start": 50.5,
            "bin_end": 60.199999999999996,
            "count": 59
           },
           {
            "bin_start": 60.199999999999996,
            "bin_end": 69.89999999999999,
            "count": 149
           },
           {
            "bin_start": 69.89999999999999,
            "bin_end": 79.6,
            "count": 271
           },
           {
            "bin_start": 79.6,
            "bin_end": 89.3,
            "count": 469
           },
           {
            "bin_start": 89.3,
            "bin_end": 99,
            "count": 1664
           }
          ]
         }
        },
        {
         "name": "HIV/AIDS",
         "dtype": "float64",
         "stats": {
          "unique_count": 200,
          "nan_count": 0,
          "min": "0.1",
          "max": "50.6",
          "histogram": [
           {
            "bin_start": 0.1,
            "bin_end": 5.1499999999999995,
            "count": 2686
           },
           {
            "bin_start": 5.1499999999999995,
            "bin_end": 10.2,
            "count": 119
           },
           {
            "bin_start": 10.2,
            "bin_end": 15.249999999999998,
            "count": 44
           },
           {
            "bin_start": 15.249999999999998,
            "bin_end": 20.3,
            "count": 22
           },
           {
            "bin_start": 20.3,
            "bin_end": 25.35,
            "count": 19
           },
           {
            "bin_start": 25.35,
            "bin_end": 30.4,
            "count": 13
           },
           {
            "bin_start": 30.4,
            "bin_end": 35.45,
            "count": 10
           },
           {
            "bin_start": 35.45,
            "bin_end": 40.5,
            "count": 5
           },
           {
            "bin_start": 40.5,
            "bin_end": 45.55,
            "count": 4
           },
           {
            "bin_start": 45.55,
            "bin_end": 50.6,
            "count": 6
           }
          ]
         }
        },
        {
         "name": "GDP",
         "dtype": "float64",
         "stats": {
          "unique_count": 2485,
          "nan_count": 443,
          "min": "1.68135",
          "max": "119172.7418",
          "histogram": [
           {
            "bin_start": 1.68135,
            "bin_end": 11918.787395000001,
            "count": 2063
           },
           {
            "bin_start": 11918.787395000001,
            "bin_end": 23835.89344,
            "count": 175
           },
           {
            "bin_start": 23835.89344,
            "bin_end": 35752.999485,
            "count": 83
           },
           {
            "bin_start": 35752.999485,
            "bin_end": 47670.10553,
            "count": 80
           },
           {
            "bin_start": 47670.10553,
            "bin_end": 59587.211575,
            "count": 47
           },
           {
            "bin_start": 59587.211575,
            "bin_end": 71504.31762,
            "count": 18
           },
           {
            "bin_start": 71504.31762,
            "bin_end": 83421.42366500001,
            "count": 6
           },
           {
            "bin_start": 83421.42366500001,
            "bin_end": 95338.52971,
            "count": 9
           },
           {
            "bin_start": 95338.52971,
            "bin_end": 107255.635755,
            "count": 0
           },
           {
            "bin_start": 107255.635755,
            "bin_end": 119172.7418,
            "count": 4
           }
          ]
         }
        },
        {
         "name": "Population",
         "dtype": "float64",
         "stats": {
          "unique_count": 2277,
          "nan_count": 644,
          "min": "34.0",
          "max": "1293859294.0",
          "histogram": [
           {
            "bin_start": 34,
            "bin_end": 129385960,
            "count": 2242
           },
           {
            "bin_start": 129385960,
            "bin_end": 258771886,
            "count": 37
           },
           {
            "bin_start": 258771886,
            "bin_end": 388157812,
            "count": 0
           },
           {
            "bin_start": 388157812,
            "bin_end": 517543738,
            "count": 0
           },
           {
            "bin_start": 517543738,
            "bin_end": 646929664,
            "count": 0
           },
           {
            "bin_start": 646929664,
            "bin_end": 776315590,
            "count": 0
           },
           {
            "bin_start": 776315590,
            "bin_end": 905701516,
            "count": 0
           },
           {
            "bin_start": 905701516,
            "bin_end": 1035087442,
            "count": 0
           },
           {
            "bin_start": 1035087442,
            "bin_end": 1164473368,
            "count": 3
           },
           {
            "bin_start": 1164473368,
            "bin_end": 1293859294,
            "count": 2
           }
          ]
         }
        },
        {
         "name": "thinness  1-19 years",
         "dtype": "float64",
         "stats": {
          "unique_count": 200,
          "nan_count": 32,
          "min": "0.1",
          "max": "27.7",
          "histogram": [
           {
            "bin_start": 0.1,
            "bin_end": 2.86,
            "count": 1326
           },
           {
            "bin_start": 2.86,
            "bin_end": 5.619999999999999,
            "count": 515
           },
           {
            "bin_start": 5.619999999999999,
            "bin_end": 8.379999999999999,
            "count": 565
           },
           {
            "bin_start": 8.379999999999999,
            "bin_end": 11.139999999999999,
            "count": 238
           },
           {
            "bin_start": 11.139999999999999,
            "bin_end": 13.899999999999999,
            "count": 108
           },
           {
            "bin_start": 13.899999999999999,
            "bin_end": 16.66,
            "count": 71
           },
           {
            "bin_start": 16.66,
            "bin_end": 19.42,
            "count": 42
           },
           {
            "bin_start": 19.42,
            "bin_end": 22.18,
            "count": 14
           },
           {
            "bin_start": 22.18,
            "bin_end": 24.939999999999998,
            "count": 1
           },
           {
            "bin_start": 24.939999999999998,
            "bin_end": 27.7,
            "count": 16
           }
          ]
         }
        },
        {
         "name": "thinness 5-9 years",
         "dtype": "float64",
         "stats": {
          "unique_count": 207,
          "nan_count": 32,
          "min": "0.1",
          "max": "28.6",
          "histogram": [
           {
            "bin_start": 0.1,
            "bin_end": 2.95,
            "count": 1317
           },
           {
            "bin_start": 2.95,
            "bin_end": 5.8,
            "count": 542
           },
           {
            "bin_start": 5.8,
            "bin_end": 8.65,
            "count": 590
           },
           {
            "bin_start": 8.65,
            "bin_end": 11.5,
            "count": 215
           },
           {
            "bin_start": 11.5,
            "bin_end": 14.35,
            "count": 100
           },
           {
            "bin_start": 14.35,
            "bin_end": 17.200000000000003,
            "count": 58
           },
           {
            "bin_start": 17.200000000000003,
            "bin_end": 20.05,
            "count": 46
           },
           {
            "bin_start": 20.05,
            "bin_end": 22.900000000000002,
            "count": 12
           },
           {
            "bin_start": 22.900000000000002,
            "bin_end": 25.750000000000004,
            "count": 0
           },
           {
            "bin_start": 25.750000000000004,
            "bin_end": 28.6,
            "count": 16
           }
          ]
         }
        },
        {
         "name": "Income composition of resources",
         "dtype": "float64",
         "stats": {
          "unique_count": 625,
          "nan_count": 160,
          "min": "0.0",
          "max": "0.948",
          "histogram": [
           {
            "bin_start": 0,
            "bin_end": 0.0948,
            "count": 130
           },
           {
            "bin_start": 0.0948,
            "bin_end": 0.1896,
            "count": 0
           },
           {
            "bin_start": 0.1896,
            "bin_end": 0.2844,
            "count": 13
           },
           {
            "bin_start": 0.2844,
            "bin_end": 0.3792,
            "count": 118
           },
           {
            "bin_start": 0.3792,
            "bin_end": 0.474,
            "count": 338
           },
           {
            "bin_start": 0.474,
            "bin_end": 0.5688,
            "count": 302
           },
           {
            "bin_start": 0.5688,
            "bin_end": 0.6636,
            "count": 409
           },
           {
            "bin_start": 0.6636,
            "bin_end": 0.7584,
            "count": 654
           },
           {
            "bin_start": 0.7584,
            "bin_end": 0.8532,
            "count": 479
           },
           {
            "bin_start": 0.8532,
            "bin_end": 0.948,
            "count": 325
           }
          ]
         }
        },
        {
         "name": "Schooling",
         "dtype": "float64",
         "stats": {
          "unique_count": 173,
          "nan_count": 160,
          "min": "0.0",
          "max": "20.7",
          "histogram": [
           {
            "bin_start": 0,
            "bin_end": 2.07,
            "count": 26
           },
           {
            "bin_start": 2.07,
            "bin_end": 4.14,
            "count": 22
           },
           {
            "bin_start": 4.14,
            "bin_end": 6.209999999999999,
            "count": 109
           },
           {
            "bin_start": 6.209999999999999,
            "bin_end": 8.28,
            "count": 199
           },
           {
            "bin_start": 8.28,
            "bin_end": 10.35,
            "count": 402
           },
           {
            "bin_start": 10.35,
            "bin_end": 12.419999999999998,
            "count": 671
           },
           {
            "bin_start": 12.419999999999998,
            "bin_end": 14.489999999999998,
            "count": 702
           },
           {
            "bin_start": 14.489999999999998,
            "bin_end": 16.56,
            "count": 470
           },
           {
            "bin_start": 16.56,
            "bin_end": 18.63,
            "count": 131
           },
           {
            "bin_start": 18.63,
            "bin_end": 20.7,
            "count": 36
           }
          ]
         }
        },
        {
         "name": "_deepnote_index_column",
         "dtype": "int64"
        }
       ],
       "rows": [
        {
         "Country": "Afghanistan",
         "Year": 2015,
         "Status": "Developing",
         "Life expectancy": 65,
         "Adult Mortality": 263,
         "infant deaths": 62,
         "Alcohol": 0.01,
         "percentage expenditure": 71.27962362,
         "Hepatitis B": 65,
         "Measles": 1154,
         "BMI": 19.1,
         "under-five deaths": 83,
         "Polio": 6,
         "Total expenditure": 8.16,
         "Diphtheria": 65,
         "HIV/AIDS": 0.1,
         "GDP": 584.25921,
         "Population": 33736494,
         "thinness  1-19 years": 17.2,
         "thinness 5-9 years": 17.3,
         "Income composition of resources": 0.479,
         "Schooling": 10.1,
         "_deepnote_index_column": 0
        },
        {
         "Country": "Afghanistan",
         "Year": 2014,
         "Status": "Developing",
         "Life expectancy": 59.9,
         "Adult Mortality": 271,
         "infant deaths": 64,
         "Alcohol": 0.01,
         "percentage expenditure": 73.52358168,
         "Hepatitis B": 62,
         "Measles": 492,
         "BMI": 18.6,
         "under-five deaths": 86,
         "Polio": 58,
         "Total expenditure": 8.18,
         "Diphtheria": 62,
         "HIV/AIDS": 0.1,
         "GDP": 612.696514,
         "Population": 327582,
         "thinness  1-19 years": 17.5,
         "thinness 5-9 years": 17.5,
         "Income composition of resources": 0.476,
         "Schooling": 10,
         "_deepnote_index_column": 1
        },
        {
         "Country": "Afghanistan",
         "Year": 2013,
         "Status": "Developing",
         "Life expectancy": 59.9,
         "Adult Mortality": 268,
         "infant deaths": 66,
         "Alcohol": 0.01,
         "percentage expenditure": 73.21924272,
         "Hepatitis B": 64,
         "Measles": 430,
         "BMI": 18.1,
         "under-five deaths": 89,
         "Polio": 62,
         "Total expenditure": 8.13,
         "Diphtheria": 64,
         "HIV/AIDS": 0.1,
         "GDP": 631.744976,
         "Population": 31731688,
         "thinness  1-19 years": 17.7,
         "thinness 5-9 years": 17.7,
         "Income composition of resources": 0.47,
         "Schooling": 9.9,
         "_deepnote_index_column": 2
        },
        {
         "Country": "Afghanistan",
         "Year": 2012,
         "Status": "Developing",
         "Life expectancy": 59.5,
         "Adult Mortality": 272,
         "infant deaths": 69,
         "Alcohol": 0.01,
         "percentage expenditure": 78.1842153,
         "Hepatitis B": 67,
         "Measles": 2787,
         "BMI": 17.6,
         "under-five deaths": 93,
         "Polio": 67,
         "Total expenditure": 8.52,
         "Diphtheria": 67,
         "HIV/AIDS": 0.1,
         "GDP": 669.959,
         "Population": 3696958,
         "thinness  1-19 years": 17.9,
         "thinness 5-9 years": 18,
         "Income composition of resources": 0.463,
         "Schooling": 9.8,
         "_deepnote_index_column": 3
        },
        {
         "Country": "Afghanistan",
         "Year": 2011,
         "Status": "Developing",
         "Life expectancy": 59.2,
         "Adult Mortality": 275,
         "infant deaths": 71,
         "Alcohol": 0.01,
         "percentage expenditure": 7.097108703,
         "Hepatitis B": 68,
         "Measles": 3013,
         "BMI": 17.2,
         "under-five deaths": 97,
         "Polio": 68,
         "Total expenditure": 7.87,
         "Diphtheria": 68,
         "HIV/AIDS": 0.1,
         "GDP": 63.537231,
         "Population": 2978599,
         "thinness  1-19 years": 18.2,
         "thinness 5-9 years": 18.2,
         "Income composition of resources": 0.454,
         "Schooling": 9.5,
         "_deepnote_index_column": 4
        },
        {
         "Country": "Afghanistan",
         "Year": 2010,
         "Status": "Developing",
         "Life expectancy": 58.8,
         "Adult Mortality": 279,
         "infant deaths": 74,
         "Alcohol": 0.01,
         "percentage expenditure": 79.67936736,
         "Hepatitis B": 66,
         "Measles": 1989,
         "BMI": 16.7,
         "under-five deaths": 102,
         "Polio": 66,
         "Total expenditure": 9.2,
         "Diphtheria": 66,
         "HIV/AIDS": 0.1,
         "GDP": 553.32894,
         "Population": 2883167,
         "thinness  1-19 years": 18.4,
         "thinness 5-9 years": 18.4,
         "Income composition of resources": 0.448,
         "Schooling": 9.2,
         "_deepnote_index_column": 5
        },
        {
         "Country": "Afghanistan",
         "Year": 2009,
         "Status": "Developing",
         "Life expectancy": 58.6,
         "Adult Mortality": 281,
         "infant deaths": 77,
         "Alcohol": 0.01,
         "percentage expenditure": 56.76221682,
         "Hepatitis B": 63,
         "Measles": 2861,
         "BMI": 16.2,
         "under-five deaths": 106,
         "Polio": 63,
         "Total expenditure": 9.42,
         "Diphtheria": 63,
         "HIV/AIDS": 0.1,
         "GDP": 445.8932979,
         "Population": 284331,
         "thinness  1-19 years": 18.6,
         "thinness 5-9 years": 18.7,
         "Income composition of resources": 0.434,
         "Schooling": 8.9,
         "_deepnote_index_column": 6
        },
        {
         "Country": "Afghanistan",
         "Year": 2008,
         "Status": "Developing",
         "Life expectancy": 58.1,
         "Adult Mortality": 287,
         "infant deaths": 80,
         "Alcohol": 0.03,
         "percentage expenditure": 25.87392536,
         "Hepatitis B": 64,
         "Measles": 1599,
         "BMI": 15.7,
         "under-five deaths": 110,
         "Polio": 64,
         "Total expenditure": 8.33,
         "Diphtheria": 64,
         "HIV/AIDS": 0.1,
         "GDP": 373.3611163,
         "Population": 2729431,
         "thinness  1-19 years": 18.8,
         "thinness 5-9 years": 18.9,
         "Income composition of resources": 0.433,
         "Schooling": 8.7,
         "_deepnote_index_column": 7
        },
        {
         "Country": "Afghanistan",
         "Year": 2007,
         "Status": "Developing",
         "Life expectancy": 57.5,
         "Adult Mortality": 295,
         "infant deaths": 82,
         "Alcohol": 0.02,
         "percentage expenditure": 10.91015598,
         "Hepatitis B": 63,
         "Measles": 1141,
         "BMI": 15.2,
         "under-five deaths": 113,
         "Polio": 63,
         "Total expenditure": 6.73,
         "Diphtheria": 63,
         "HIV/AIDS": 0.1,
         "GDP": 369.835796,
         "Population": 26616792,
         "thinness  1-19 years": 19,
         "thinness 5-9 years": 19.1,
         "Income composition of resources": 0.415,
         "Schooling": 8.4,
         "_deepnote_index_column": 8
        },
        {
         "Country": "Afghanistan",
         "Year": 2006,
         "Status": "Developing",
         "Life expectancy": 57.3,
         "Adult Mortality": 295,
         "infant deaths": 84,
         "Alcohol": 0.03,
         "percentage expenditure": 17.17151751,
         "Hepatitis B": 64,
         "Measles": 1990,
         "BMI": 14.7,
         "under-five deaths": 116,
         "Polio": 58,
         "Total expenditure": 7.43,
         "Diphtheria": 58,
         "HIV/AIDS": 0.1,
         "GDP": 272.56377,
         "Population": 2589345,
         "thinness  1-19 years": 19.2,
         "thinness 5-9 years": 19.3,
         "Income composition of resources": 0.405,
         "Schooling": 8.1,
         "_deepnote_index_column": 9
        }
       ]
      },
      "text/plain": "          Country  Year      Status  Life expectancy  Adult Mortality  \\\n0     Afghanistan  2015  Developing             65.0            263.0   \n1     Afghanistan  2014  Developing             59.9            271.0   \n2     Afghanistan  2013  Developing             59.9            268.0   \n3     Afghanistan  2012  Developing             59.5            272.0   \n4     Afghanistan  2011  Developing             59.2            275.0   \n...           ...   ...         ...              ...              ...   \n2933     Zimbabwe  2004  Developing             44.3            723.0   \n2934     Zimbabwe  2003  Developing             44.5            715.0   \n2935     Zimbabwe  2002  Developing             44.8             73.0   \n2936     Zimbabwe  2001  Developing             45.3            686.0   \n2937     Zimbabwe  2000  Developing             46.0            665.0   \n\n      infant deaths  Alcohol  percentage expenditure  Hepatitis B  Measles  \\\n0                62     0.01               71.279624         65.0     1154   \n1                64     0.01               73.523582         62.0      492   \n2                66     0.01               73.219243         64.0      430   \n3                69     0.01               78.184215         67.0     2787   \n4                71     0.01                7.097109         68.0     3013   \n...             ...      ...                     ...          ...      ...   \n2933             27     4.36                0.000000         68.0       31   \n2934             26     4.06                0.000000          7.0      998   \n2935             25     4.43                0.000000         73.0      304   \n2936             25     1.72                0.000000         76.0      529   \n2937             24     1.68                0.000000         79.0     1483   \n\n      ...  Polio  Total expenditure  Diphtheria  HIV/AIDS         GDP  \\\n0     ...    6.0               8.16        65.0       0.1  584.259210   \n1     ...   58.0               8.18        62.0       0.1  612.696514   \n2     ...   62.0               8.13        64.0       0.1  631.744976   \n3     ...   67.0               8.52        67.0       0.1  669.959000   \n4     ...   68.0               7.87        68.0       0.1   63.537231   \n...   ...    ...                ...         ...       ...         ...   \n2933  ...   67.0               7.13        65.0      33.6  454.366654   \n2934  ...    7.0               6.52        68.0      36.7  453.351155   \n2935  ...   73.0               6.53        71.0      39.8   57.348340   \n2936  ...   76.0               6.16        75.0      42.1  548.587312   \n2937  ...   78.0               7.10        78.0      43.5  547.358878   \n\n      Population  thinness  1-19 years  thinness 5-9 years  \\\n0     33736494.0                  17.2                17.3   \n1       327582.0                  17.5                17.5   \n2     31731688.0                  17.7                17.7   \n3      3696958.0                  17.9                18.0   \n4      2978599.0                  18.2                18.2   \n...          ...                   ...                 ...   \n2933  12777511.0                   9.4                 9.4   \n2934  12633897.0                   9.8                 9.9   \n2935    125525.0                   1.2                 1.3   \n2936  12366165.0                   1.6                 1.7   \n2937  12222251.0                  11.0                11.2   \n\n      Income composition of resources  Schooling  \n0                               0.479       10.1  \n1                               0.476       10.0  \n2                               0.470        9.9  \n3                               0.463        9.8  \n4                               0.454        9.5  \n...                               ...        ...  \n2933                            0.407        9.2  \n2934                            0.418        9.5  \n2935                            0.427       10.0  \n2936                            0.427        9.8  \n2937                            0.434        9.8  \n\n[2928 rows x 22 columns]",
      "text/html": "<div>\n<style scoped>\n    .dataframe tbody tr th:only-of-type {\n        vertical-align: middle;\n    }\n\n    .dataframe tbody tr th {\n        vertical-align: top;\n    }\n\n    .dataframe thead th {\n        text-align: right;\n    }\n</style>\n<table border=\"1\" class=\"dataframe\">\n  <thead>\n    <tr style=\"text-align: right;\">\n      <th></th>\n      <th>Country</th>\n      <th>Year</th>\n      <th>Status</th>\n      <th>Life expectancy</th>\n      <th>Adult Mortality</th>\n      <th>infant deaths</th>\n      <th>Alcohol</th>\n      <th>percentage expenditure</th>\n      <th>Hepatitis B</th>\n      <th>Measles</th>\n      <th>...</th>\n      <th>Polio</th>\n      <th>Total expenditure</th>\n      <th>Diphtheria</th>\n      <th>HIV/AIDS</th>\n      <th>GDP</th>\n      <th>Population</th>\n      <th>thinness  1-19 years</th>\n      <th>thinness 5-9 years</th>\n      <th>Income composition of resources</th>\n      <th>Schooling</th>\n    </tr>\n  </thead>\n  <tbody>\n    <tr>\n      <th>0</th>\n      <td>Afghanistan</td>\n      <td>2015</td>\n      <td>Developing</td>\n      <td>65.0</td>\n      <td>263.0</td>\n      <td>62</td>\n      <td>0.01</td>\n      <td>71.279624</td>\n      <td>65.0</td>\n      <td>1154</td>\n      <td>...</td>\n      <td>6.0</td>\n      <td>8.16</td>\n      <td>65.0</td>\n      <td>0.1</td>\n      <td>584.259210</td>\n      <td>33736494.0</td>\n      <td>17.2</td>\n      <td>17.3</td>\n      <td>0.479</td>\n      <td>10.1</td>\n    </tr>\n    <tr>\n      <th>1</th>\n      <td>Afghanistan</td>\n      <td>2014</td>\n      <td>Developing</td>\n      <td>59.9</td>\n      <td>271.0</td>\n      <td>64</td>\n      <td>0.01</td>\n      <td>73.523582</td>\n      <td>62.0</td>\n      <td>492</td>\n      <td>...</td>\n      <td>58.0</td>\n      <td>8.18</td>\n      <td>62.0</td>\n      <td>0.1</td>\n      <td>612.696514</td>\n      <td>327582.0</td>\n      <td>17.5</td>\n      <td>17.5</td>\n      <td>0.476</td>\n      <td>10.0</td>\n    </tr>\n    <tr>\n      <th>2</th>\n      <td>Afghanistan</td>\n      <td>2013</td>\n      <td>Developing</td>\n      <td>59.9</td>\n      <td>268.0</td>\n      <td>66</td>\n      <td>0.01</td>\n      <td>73.219243</td>\n      <td>64.0</td>\n      <td>430</td>\n      <td>...</td>\n      <td>62.0</td>\n      <td>8.13</td>\n      <td>64.0</td>\n      <td>0.1</td>\n      <td>631.744976</td>\n      <td>31731688.0</td>\n      <td>17.7</td>\n      <td>17.7</td>\n      <td>0.470</td>\n      <td>9.9</td>\n    </tr>\n    <tr>\n      <th>3</th>\n      <td>Afghanistan</td>\n      <td>2012</td>\n      <td>Developing</td>\n      <td>59.5</td>\n      <td>272.0</td>\n      <td>69</td>\n      <td>0.01</td>\n      <td>78.184215</td>\n      <td>67.0</td>\n      <td>2787</td>\n      <td>...</td>\n      <td>67.0</td>\n      <td>8.52</td>\n      <td>67.0</td>\n      <td>0.1</td>\n      <td>669.959000</td>\n      <td>3696958.0</td>\n      <td>17.9</td>\n      <td>18.0</td>\n      <td>0.463</td>\n      <td>9.8</td>\n    </tr>\n    <tr>\n      <th>4</th>\n      <td>Afghanistan</td>\n      <td>2011</td>\n      <td>Developing</td>\n      <td>59.2</td>\n      <td>275.0</td>\n      <td>71</td>\n      <td>0.01</td>\n      <td>7.097109</td>\n      <td>68.0</td>\n      <td>3013</td>\n      <td>...</td>\n      <td>68.0</td>\n      <td>7.87</td>\n      <td>68.0</td>\n      <td>0.1</td>\n      <td>63.537231</td>\n      <td>2978599.0</td>\n      <td>18.2</td>\n      <td>18.2</td>\n      <td>0.454</td>\n      <td>9.5</td>\n    </tr>\n    <tr>\n      <th>...</th>\n      <td>...</td>\n      <td>...</td>\n      <td>...</td>\n      <td>...</td>\n      <td>...</td>\n      <td>...</td>\n      <td>...</td>\n      <td>...</td>\n      <td>...</td>\n      <td>...</td>\n      <td>...</td>\n      <td>...</td>\n      <td>...</td>\n      <td>...</td>\n      <td>...</td>\n      <td>...</td>\n      <td>...</td>\n      <td>...</td>\n      <td>...</td>\n      <td>...</td>\n      <td>...</td>\n    </tr>\n    <tr>\n      <th>2933</th>\n      <td>Zimbabwe</td>\n      <td>2004</td>\n      <td>Developing</td>\n      <td>44.3</td>\n      <td>723.0</td>\n      <td>27</td>\n      <td>4.36</td>\n      <td>0.000000</td>\n      <td>68.0</td>\n      <td>31</td>\n      <td>...</td>\n      <td>67.0</td>\n      <td>7.13</td>\n      <td>65.0</td>\n      <td>33.6</td>\n      <td>454.366654</td>\n      <td>12777511.0</td>\n      <td>9.4</td>\n      <td>9.4</td>\n      <td>0.407</td>\n      <td>9.2</td>\n    </tr>\n    <tr>\n      <th>2934</th>\n      <td>Zimbabwe</td>\n      <td>2003</td>\n      <td>Developing</td>\n      <td>44.5</td>\n      <td>715.0</td>\n      <td>26</td>\n      <td>4.06</td>\n      <td>0.000000</td>\n      <td>7.0</td>\n      <td>998</td>\n      <td>...</td>\n      <td>7.0</td>\n      <td>6.52</td>\n      <td>68.0</td>\n      <td>36.7</td>\n      <td>453.351155</td>\n      <td>12633897.0</td>\n      <td>9.8</td>\n      <td>9.9</td>\n      <td>0.418</td>\n      <td>9.5</td>\n    </tr>\n    <tr>\n      <th>2935</th>\n      <td>Zimbabwe</td>\n      <td>2002</td>\n      <td>Developing</td>\n      <td>44.8</td>\n      <td>73.0</td>\n      <td>25</td>\n      <td>4.43</td>\n      <td>0.000000</td>\n      <td>73.0</td>\n      <td>304</td>\n      <td>...</td>\n      <td>73.0</td>\n      <td>6.53</td>\n      <td>71.0</td>\n      <td>39.8</td>\n      <td>57.348340</td>\n      <td>125525.0</td>\n      <td>1.2</td>\n      <td>1.3</td>\n      <td>0.427</td>\n      <td>10.0</td>\n    </tr>\n    <tr>\n      <th>2936</th>\n      <td>Zimbabwe</td>\n      <td>2001</td>\n      <td>Developing</td>\n      <td>45.3</td>\n      <td>686.0</td>\n      <td>25</td>\n      <td>1.72</td>\n      <td>0.000000</td>\n      <td>76.0</td>\n      <td>529</td>\n      <td>...</td>\n      <td>76.0</td>\n      <td>6.16</td>\n      <td>75.0</td>\n      <td>42.1</td>\n      <td>548.587312</td>\n      <td>12366165.0</td>\n      <td>1.6</td>\n      <td>1.7</td>\n      <td>0.427</td>\n      <td>9.8</td>\n    </tr>\n    <tr>\n      <th>2937</th>\n      <td>Zimbabwe</td>\n      <td>2000</td>\n      <td>Developing</td>\n      <td>46.0</td>\n      <td>665.0</td>\n      <td>24</td>\n      <td>1.68</td>\n      <td>0.000000</td>\n      <td>79.0</td>\n      <td>1483</td>\n      <td>...</td>\n      <td>78.0</td>\n      <td>7.10</td>\n      <td>78.0</td>\n      <td>43.5</td>\n      <td>547.358878</td>\n      <td>12222251.0</td>\n      <td>11.0</td>\n      <td>11.2</td>\n      <td>0.434</td>\n      <td>9.8</td>\n    </tr>\n  </tbody>\n</table>\n<p>2928 rows × 22 columns</p>\n</div>"
     },
     "metadata": {}
    }
   ]
  },
  {
   "cell_type": "markdown",
   "source": "* Příznak 'Alcohol' je null-ový v některých záznamech. ",
   "metadata": {
    "tags": [],
    "cell_id": "00019-7f76726f-0bca-4e2e-b1da-498cfe733326",
    "deepnote_cell_type": "markdown",
    "deepnote_cell_height": 69.390625
   }
  },
  {
   "cell_type": "code",
   "metadata": {
    "tags": [],
    "cell_id": "00020-c307f600-d3e1-4719-8271-11beb12d0604",
    "deepnote_to_be_reexecuted": false,
    "source_hash": "1efb78b",
    "execution_start": 1661363080673,
    "execution_millis": 162,
    "is_output_hidden": true,
    "deepnote_cell_type": "code",
    "deepnote_cell_height": 106.796875
   },
   "source": "df[df['Alcohol'].isnull()]",
   "execution_count": 11,
   "outputs": [
    {
     "output_type": "execute_result",
     "execution_count": 11,
     "data": {
      "application/vnd.deepnote.dataframe.v3+json": {
       "column_count": 22,
       "row_count": 193,
       "columns": [
        {
         "name": "Country",
         "dtype": "object",
         "stats": {
          "unique_count": 177,
          "nan_count": 0,
          "categories": [
           {
            "name": "South Sudan",
            "count": 16
           },
           {
            "name": "Montenegro",
            "count": 2
           },
           {
            "name": "175 others",
            "count": 175
           }
          ]
         }
        },
        {
         "name": "Year",
         "dtype": "int64",
         "stats": {
          "unique_count": 16,
          "nan_count": 0,
          "min": "2000",
          "max": "2015",
          "histogram": [
           {
            "bin_start": 2000,
            "bin_end": 2001.5,
            "count": 2
           },
           {
            "bin_start": 2001.5,
            "bin_end": 2003,
            "count": 1
           },
           {
            "bin_start": 2003,
            "bin_end": 2004.5,
            "count": 2
           },
           {
            "bin_start": 2004.5,
            "bin_end": 2006,
            "count": 2
           },
           {
            "bin_start": 2006,
            "bin_end": 2007.5,
            "count": 2
           },
           {
            "bin_start": 2007.5,
            "bin_end": 2009,
            "count": 1
           },
           {
            "bin_start": 2009,
            "bin_end": 2010.5,
            "count": 2
           },
           {
            "bin_start": 2010.5,
            "bin_end": 2012,
            "count": 1
           },
           {
            "bin_start": 2012,
            "bin_end": 2013.5,
            "count": 2
           },
           {
            "bin_start": 2013.5,
            "bin_end": 2015,
            "count": 178
           }
          ]
         }
        },
        {
         "name": "Status",
         "dtype": "object",
         "stats": {
          "unique_count": 2,
          "nan_count": 0,
          "categories": [
           {
            "name": "Developing",
            "count": 165
           },
           {
            "name": "Developed",
            "count": 28
           }
          ]
         }
        },
        {
         "name": "Life expectancy",
         "dtype": "float64",
         "stats": {
          "unique_count": 139,
          "nan_count": 0,
          "min": "48.9",
          "max": "88.0",
          "histogram": [
           {
            "bin_start": 48.9,
            "bin_end": 52.81,
            "count": 9
           },
           {
            "bin_start": 52.81,
            "bin_end": 56.72,
            "count": 13
           },
           {
            "bin_start": 56.72,
            "bin_end": 60.629999999999995,
            "count": 15
           },
           {
            "bin_start": 60.629999999999995,
            "bin_end": 64.53999999999999,
            "count": 16
           },
           {
            "bin_start": 64.53999999999999,
            "bin_end": 68.45,
            "count": 20
           },
           {
            "bin_start": 68.45,
            "bin_end": 72.36,
            "count": 23
           },
           {
            "bin_start": 72.36,
            "bin_end": 76.27,
            "count": 50
           },
           {
            "bin_start": 76.27,
            "bin_end": 80.18,
            "count": 22
           },
           {
            "bin_start": 80.18,
            "bin_end": 84.09,
            "count": 21
           },
           {
            "bin_start": 84.09,
            "bin_end": 88,
            "count": 4
           }
          ]
         }
        },
        {
         "name": "Adult Mortality",
         "dtype": "float64",
         "stats": {
          "unique_count": 138,
          "nan_count": 0,
          "min": "1.0",
          "max": "484.0",
          "histogram": [
           {
            "bin_start": 1,
            "bin_end": 49.3,
            "count": 21
           },
           {
            "bin_start": 49.3,
            "bin_end": 97.6,
            "count": 38
           },
           {
            "bin_start": 97.6,
            "bin_end": 145.89999999999998,
            "count": 35
           },
           {
            "bin_start": 145.89999999999998,
            "bin_end": 194.2,
            "count": 33
           },
           {
            "bin_start": 194.2,
            "bin_end": 242.5,
            "count": 18
           },
           {
            "bin_start": 242.5,
            "bin_end": 290.79999999999995,
            "count": 17
           },
           {
            "bin_start": 290.79999999999995,
            "bin_end": 339.09999999999997,
            "count": 7
           },
           {
            "bin_start": 339.09999999999997,
            "bin_end": 387.4,
            "count": 20
           },
           {
            "bin_start": 387.4,
            "bin_end": 435.7,
            "count": 3
           },
           {
            "bin_start": 435.7,
            "bin_end": 484,
            "count": 1
           }
          ]
         }
        },
        {
         "name": "infant deaths",
         "dtype": "int64",
         "stats": {
          "unique_count": 53,
          "nan_count": 0,
          "min": "0",
          "max": "910",
          "histogram": [
           {
            "bin_start": 0,
            "bin_end": 91,
            "count": 185
           },
           {
            "bin_start": 91,
            "bin_end": 182,
            "count": 4
           },
           {
            "bin_start": 182,
            "bin_end": 273,
            "count": 1
           },
           {
            "bin_start": 273,
            "bin_end": 364,
            "count": 1
           },
           {
            "bin_start": 364,
            "bin_end": 455,
            "count": 0
           },
           {
            "bin_start": 455,
            "bin_end": 546,
            "count": 1
           },
           {
            "bin_start": 546,
            "bin_end": 637,
            "count": 0
           },
           {
            "bin_start": 637,
            "bin_end": 728,
            "count": 0
           },
           {
            "bin_start": 728,
            "bin_end": 819,
            "count": 0
           },
           {
            "bin_start": 819,
            "bin_end": 910,
            "count": 1
           }
          ]
         }
        },
        {
         "name": "Alcohol",
         "dtype": "float64",
         "stats": {
          "unique_count": 0,
          "nan_count": 193,
          "min": null,
          "max": null,
          "histogram": [
           {
            "bin_start": 0,
            "bin_end": 0.1,
            "count": 0
           },
           {
            "bin_start": 0.1,
            "bin_end": 0.2,
            "count": 0
           },
           {
            "bin_start": 0.2,
            "bin_end": 0.30000000000000004,
            "count": 0
           },
           {
            "bin_start": 0.30000000000000004,
            "bin_end": 0.4,
            "count": 0
           },
           {
            "bin_start": 0.4,
            "bin_end": 0.5,
            "count": 0
           },
           {
            "bin_start": 0.5,
            "bin_end": 0.6000000000000001,
            "count": 0
           },
           {
            "bin_start": 0.6000000000000001,
            "bin_end": 0.7000000000000001,
            "count": 0
           },
           {
            "bin_start": 0.7000000000000001,
            "bin_end": 0.8,
            "count": 0
           },
           {
            "bin_start": 0.8,
            "bin_end": 0.9,
            "count": 0
           },
           {
            "bin_start": 0.9,
            "bin_end": 1,
            "count": 0
           }
          ]
         }
        },
        {
         "name": "percentage expenditure",
         "dtype": "float64",
         "stats": {
          "unique_count": 5,
          "nan_count": 0,
          "min": "0.0",
          "max": "527.3076721",
          "histogram": [
           {
            "bin_start": 0,
            "bin_end": 52.730767209999996,
            "count": 192
           },
           {
            "bin_start": 52.730767209999996,
            "bin_end": 105.46153441999999,
            "count": 0
           },
           {
            "bin_start": 105.46153441999999,
            "bin_end": 158.19230162999997,
            "count": 0
           },
           {
            "bin_start": 158.19230162999997,
            "bin_end": 210.92306883999998,
            "count": 0
           },
           {
            "bin_start": 210.92306883999998,
            "bin_end": 263.65383605,
            "count": 0
           },
           {
            "bin_start": 263.65383605,
            "bin_end": 316.38460325999995,
            "count": 0
           },
           {
            "bin_start": 316.38460325999995,
            "bin_end": 369.11537046999996,
            "count": 0
           },
           {
            "bin_start": 369.11537046999996,
            "bin_end": 421.84613767999997,
            "count": 0
           },
           {
            "bin_start": 421.84613767999997,
            "bin_end": 474.57690489,
            "count": 0
           },
           {
            "bin_start": 474.57690489,
            "bin_end": 527.3076721,
            "count": 1
           }
          ]
         }
        },
        {
         "name": "Hepatitis B",
         "dtype": "float64",
         "stats": {
          "unique_count": 44,
          "nan_count": 23,
          "min": "6.0",
          "max": "99.0",
          "histogram": [
           {
            "bin_start": 6,
            "bin_end": 15.3,
            "count": 10
           },
           {
            "bin_start": 15.3,
            "bin_end": 24.6,
            "count": 2
           },
           {
            "bin_start": 24.6,
            "bin_end": 33.900000000000006,
            "count": 1
           },
           {
            "bin_start": 33.900000000000006,
            "bin_end": 43.2,
            "count": 2
           },
           {
            "bin_start": 43.2,
            "bin_end": 52.5,
            "count": 4
           },
           {
            "bin_start": 52.5,
            "bin_end": 61.800000000000004,
            "count": 4
           },
           {
            "bin_start": 61.800000000000004,
            "bin_end": 71.10000000000001,
            "count": 8
           },
           {
            "bin_start": 71.10000000000001,
            "bin_end": 80.4,
            "count": 12
           },
           {
            "bin_start": 80.4,
            "bin_end": 89.7,
            "count": 28
           },
           {
            "bin_start": 89.7,
            "bin_end": 99,
            "count": 99
           }
          ]
         }
        },
        {
         "name": "Measles",
         "dtype": "int64",
         "stats": {
          "unique_count": 98,
          "nan_count": 0,
          "min": "0",
          "max": "90387",
          "histogram": [
           {
            "bin_start": 0,
            "bin_end": 9038.7,
            "count": 186
           },
           {
            "bin_start": 9038.7,
            "bin_end": 18077.4,
            "count": 4
           },
           {
            "bin_start": 18077.4,
            "bin_end": 27116.100000000002,
            "count": 1
           },
           {
            "bin_start": 27116.100000000002,
            "bin_end": 36154.8,
            "count": 0
           },
           {
            "bin_start": 36154.8,
            "bin_end": 45193.5,
            "count": 1
           },
           {
            "bin_start": 45193.5,
            "bin_end": 54232.200000000004,
            "count": 0
           },
           {
            "bin_start": 54232.200000000004,
            "bin_end": 63270.90000000001,
            "count": 0
           },
           {
            "bin_start": 63270.90000000001,
            "bin_end": 72309.6,
            "count": 0
           },
           {
            "bin_start": 72309.6,
            "bin_end": 81348.3,
            "count": 0
           },
           {
            "bin_start": 81348.3,
            "bin_end": 90387,
            "count": 1
           }
          ]
         }
        },
        {
         "name": "BMI",
         "dtype": "float64",
         "stats": {
          "unique_count": 139,
          "nan_count": 17,
          "min": "2.5",
          "max": "77.6",
          "histogram": [
           {
            "bin_start": 2.5,
            "bin_end": 10.01,
            "count": 16
           },
           {
            "bin_start": 10.01,
            "bin_end": 17.52,
            "count": 2
           },
           {
            "bin_start": 17.52,
            "bin_end": 25.03,
            "count": 32
           },
           {
            "bin_start": 25.03,
            "bin_end": 32.54,
            "count": 18
           },
           {
            "bin_start": 32.54,
            "bin_end": 40.05,
            "count": 10
           },
           {
            "bin_start": 40.05,
            "bin_end": 47.56,
            "count": 7
           },
           {
            "bin_start": 47.56,
            "bin_end": 55.07,
            "count": 20
           },
           {
            "bin_start": 55.07,
            "bin_end": 62.58,
            "count": 38
           },
           {
            "bin_start": 62.58,
            "bin_end": 70.09,
            "count": 29
           },
           {
            "bin_start": 70.09,
            "bin_end": 77.6,
            "count": 4
           }
          ]
         }
        },
        {
         "name": "under-five deaths",
         "dtype": "int64",
         "stats": {
          "unique_count": 61,
          "nan_count": 0,
          "min": "0",
          "max": "1100",
          "histogram": [
           {
            "bin_start": 0,
            "bin_end": 110,
            "count": 184
           },
           {
            "bin_start": 110,
            "bin_end": 220,
            "count": 5
           },
           {
            "bin_start": 220,
            "bin_end": 330,
            "count": 1
           },
           {
            "bin_start": 330,
            "bin_end": 440,
            "count": 1
           },
           {
            "bin_start": 440,
            "bin_end": 550,
            "count": 0
           },
           {
            "bin_start": 550,
            "bin_end": 660,
            "count": 0
           },
           {
            "bin_start": 660,
            "bin_end": 770,
            "count": 1
           },
           {
            "bin_start": 770,
            "bin_end": 880,
            "count": 0
           },
           {
            "bin_start": 880,
            "bin_end": 990,
            "count": 0
           },
           {
            "bin_start": 990,
            "bin_end": 1100,
            "count": 1
           }
          ]
         }
        },
        {
         "name": "Polio",
         "dtype": "float64",
         "stats": {
          "unique_count": 43,
          "nan_count": 12,
          "min": "5.0",
          "max": "99.0",
          "histogram": [
           {
            "bin_start": 5,
            "bin_end": 14.4,
            "count": 12
           },
           {
            "bin_start": 14.4,
            "bin_end": 23.8,
            "count": 1
           },
           {
            "bin_start": 23.8,
            "bin_end": 33.2,
            "count": 0
           },
           {
            "bin_start": 33.2,
            "bin_end": 42.6,
            "count": 2
           },
           {
            "bin_start": 42.6,
            "bin_end": 52,
            "count": 5
           },
           {
            "bin_start": 52,
            "bin_end": 61.400000000000006,
            "count": 4
           },
           {
            "bin_start": 61.400000000000006,
            "bin_end": 70.8,
            "count": 8
           },
           {
            "bin_start": 70.8,
            "bin_end": 80.2,
            "count": 14
           },
           {
            "bin_start": 80.2,
            "bin_end": 89.60000000000001,
            "count": 29
           },
           {
            "bin_start": 89.60000000000001,
            "bin_end": 99,
            "count": 106
           }
          ]
         }
        },
        {
         "name": "Total expenditure",
         "dtype": "float64",
         "stats": {
          "unique_count": 4,
          "nan_count": 189,
          "min": "2.62",
          "max": "8.46",
          "histogram": [
           {
            "bin_start": 2.62,
            "bin_end": 3.204,
            "count": 3
           },
           {
            "bin_start": 3.204,
            "bin_end": 3.7880000000000003,
            "count": 0
           },
           {
            "bin_start": 3.7880000000000003,
            "bin_end": 4.372,
            "count": 0
           },
           {
            "bin_start": 4.372,
            "bin_end": 4.956,
            "count": 0
           },
           {
            "bin_start": 4.956,
            "bin_end": 5.540000000000001,
            "count": 0
           },
           {
            "bin_start": 5.540000000000001,
            "bin_end": 6.1240000000000006,
            "count": 0
           },
           {
            "bin_start": 6.1240000000000006,
            "bin_end": 6.708000000000001,
            "count": 0
           },
           {
            "bin_start": 6.708000000000001,
            "bin_end": 7.292000000000001,
            "count": 0
           },
           {
            "bin_start": 7.292000000000001,
            "bin_end": 7.876,
            "count": 0
           },
           {
            "bin_start": 7.876,
            "bin_end": 8.46,
            "count": 1
           }
          ]
         }
        },
        {
         "name": "Diphtheria",
         "dtype": "float64",
         "stats": {
          "unique_count": 47,
          "nan_count": 12,
          "min": "6.0",
          "max": "99.0",
          "histogram": [
           {
            "bin_start": 6,
            "bin_end": 15.3,
            "count": 8
           },
           {
            "bin_start": 15.3,
            "bin_end": 24.6,
            "count": 2
           },
           {
            "bin_start": 24.6,
            "bin_end": 33.900000000000006,
            "count": 1
           },
           {
            "bin_start": 33.900000000000006,
            "bin_end": 43.2,
            "count": 3
           },
           {
            "bin_start": 43.2,
            "bin_end": 52.5,
            "count": 5
           },
           {
            "bin_start": 52.5,
            "bin_end": 61.800000000000004,
            "count": 4
           },
           {
            "bin_start": 61.800000000000004,
            "bin_end": 71.10000000000001,
            "count": 7
           },
           {
            "bin_start": 71.10000000000001,
            "bin_end": 80.4,
            "count": 14
           },
           {
            "bin_start": 80.4,
            "bin_end": 89.7,
            "count": 26
           },
           {
            "bin_start": 89.7,
            "bin_end": 99,
            "count": 111
           }
          ]
         }
        },
        {
         "name": "HIV/AIDS",
         "dtype": "float64",
         "stats": {
          "unique_count": 37,
          "nan_count": 0,
          "min": "0.1",
          "max": "9.3",
          "histogram": [
           {
            "bin_start": 0.1,
            "bin_end": 1.0200000000000002,
            "count": 151
           },
           {
            "bin_start": 1.0200000000000002,
            "bin_end": 1.9400000000000004,
            "count": 6
           },
           {
            "bin_start": 1.9400000000000004,
            "bin_end": 2.8600000000000008,
            "count": 8
           },
           {
            "bin_start": 2.8600000000000008,
            "bin_end": 3.7800000000000007,
            "count": 11
           },
           {
            "bin_start": 3.7800000000000007,
            "bin_end": 4.7,
            "count": 13
           },
           {
            "bin_start": 4.7,
            "bin_end": 5.620000000000001,
            "count": 1
           },
           {
            "bin_start": 5.620000000000001,
            "bin_end": 6.540000000000001,
            "count": 1
           },
           {
            "bin_start": 6.540000000000001,
            "bin_end": 7.460000000000001,
            "count": 1
           },
           {
            "bin_start": 7.460000000000001,
            "bin_end": 8.38,
            "count": 0
           },
           {
            "bin_start": 8.38,
            "bin_end": 9.3,
            "count": 1
           }
          ]
         }
        },
        {
         "name": "GDP",
         "dtype": "float64",
         "stats": {
          "unique_count": 157,
          "nan_count": 36,
          "min": "33.681223",
          "max": "66346.52267",
          "histogram": [
           {
            "bin_start": 33.681223,
            "bin_end": 6664.9653677,
            "count": 119
           },
           {
            "bin_start": 6664.9653677,
            "bin_end": 13296.2495124,
            "count": 16
           },
           {
            "bin_start": 13296.2495124,
            "bin_end": 19927.5336571,
            "count": 9
           },
           {
            "bin_start": 19927.5336571,
            "bin_end": 26558.8178018,
            "count": 3
           },
           {
            "bin_start": 26558.8178018,
            "bin_end": 33190.1019465,
            "count": 1
           },
           {
            "bin_start": 33190.1019465,
            "bin_end": 39821.3860912,
            "count": 3
           },
           {
            "bin_start": 39821.3860912,
            "bin_end": 46452.6702359,
            "count": 4
           },
           {
            "bin_start": 46452.6702359,
            "bin_end": 53083.9543806,
            "count": 0
           },
           {
            "bin_start": 53083.9543806,
            "bin_end": 59715.2385253,
            "count": 1
           },
           {
            "bin_start": 59715.2385253,
            "bin_end": 66346.52267,
            "count": 1
           }
          ]
         }
        },
        {
         "name": "Population",
         "dtype": "float64",
         "stats": {
          "unique_count": 155,
          "nan_count": 38,
          "min": "2966.0",
          "max": "258162113.0",
          "histogram": [
           {
            "bin_start": 2966,
            "bin_end": 25818880.7,
            "count": 141
           },
           {
            "bin_start": 25818880.7,
            "bin_end": 51634795.4,
            "count": 10
           },
           {
            "bin_start": 51634795.4,
            "bin_end": 77450710.1,
            "count": 0
           },
           {
            "bin_start": 77450710.1,
            "bin_end": 103266624.8,
            "count": 2
           },
           {
            "bin_start": 103266624.8,
            "bin_end": 129082539.5,
            "count": 0
           },
           {
            "bin_start": 129082539.5,
            "bin_end": 154898454.2,
            "count": 0
           },
           {
            "bin_start": 154898454.2,
            "bin_end": 180714368.9,
            "count": 0
           },
           {
            "bin_start": 180714368.9,
            "bin_end": 206530283.6,
            "count": 1
           },
           {
            "bin_start": 206530283.6,
            "bin_end": 232346198.29999998,
            "count": 0
           },
           {
            "bin_start": 232346198.29999998,
            "bin_end": 258162113,
            "count": 1
           }
          ]
         }
        },
        {
         "name": "thinness  1-19 years",
         "dtype": "float64",
         "stats": {
          "unique_count": 76,
          "nan_count": 17,
          "min": "0.1",
          "max": "26.7",
          "histogram": [
           {
            "bin_start": 0.1,
            "bin_end": 2.76,
            "count": 79
           },
           {
            "bin_start": 2.76,
            "bin_end": 5.419999999999999,
            "count": 29
           },
           {
            "bin_start": 5.419999999999999,
            "bin_end": 8.079999999999998,
            "count": 46
           },
           {
            "bin_start": 8.079999999999998,
            "bin_end": 10.739999999999998,
            "count": 12
           },
           {
            "bin_start": 10.739999999999998,
            "bin_end": 13.399999999999999,
            "count": 1
           },
           {
            "bin_start": 13.399999999999999,
            "bin_end": 16.06,
            "count": 6
           },
           {
            "bin_start": 16.06,
            "bin_end": 18.72,
            "count": 1
           },
           {
            "bin_start": 18.72,
            "bin_end": 21.38,
            "count": 1
           },
           {
            "bin_start": 21.38,
            "bin_end": 24.04,
            "count": 0
           },
           {
            "bin_start": 24.04,
            "bin_end": 26.7,
            "count": 1
           }
          ]
         }
        },
        {
         "name": "thinness 5-9 years",
         "dtype": "float64",
         "stats": {
          "unique_count": 84,
          "nan_count": 17,
          "min": "0.1",
          "max": "27.3",
          "histogram": [
           {
            "bin_start": 0.1,
            "bin_end": 2.82,
            "count": 78
           },
           {
            "bin_start": 2.82,
            "bin_end": 5.539999999999999,
            "count": 37
           },
           {
            "bin_start": 5.539999999999999,
            "bin_end": 8.26,
            "count": 41
           },
           {
            "bin_start": 8.26,
            "bin_end": 10.979999999999999,
            "count": 9
           },
           {
            "bin_start": 10.979999999999999,
            "bin_end": 13.699999999999998,
            "count": 4
           },
           {
            "bin_start": 13.699999999999998,
            "bin_end": 16.42,
            "count": 4
           },
           {
            "bin_start": 16.42,
            "bin_end": 19.14,
            "count": 1
           },
           {
            "bin_start": 19.14,
            "bin_end": 21.86,
            "count": 1
           },
           {
            "bin_start": 21.86,
            "bin_end": 24.58,
            "count": 0
           },
           {
            "bin_start": 24.58,
            "bin_end": 27.3,
            "count": 1
           }
          ]
         }
        },
        {
         "name": "Income composition of resources",
         "dtype": "float64",
         "stats": {
          "unique_count": 148,
          "nan_count": 9,
          "min": "0.0",
          "max": "0.938",
          "histogram": [
           {
            "bin_start": 0,
            "bin_end": 0.0938,
            "count": 11
           },
           {
            "bin_start": 0.0938,
            "bin_end": 0.1876,
            "count": 0
           },
           {
            "bin_start": 0.1876,
            "bin_end": 0.2814,
            "count": 0
           },
           {
            "bin_start": 0.2814,
            "bin_end": 0.3752,
            "count": 2
           },
           {
            "bin_start": 0.3752,
            "bin_end": 0.469,
            "count": 17
           },
           {
            "bin_start": 0.469,
            "bin_end": 0.5628,
            "count": 27
           },
           {
            "bin_start": 0.5628,
            "bin_end": 0.6566,
            "count": 22
           },
           {
            "bin_start": 0.6566,
            "bin_end": 0.7504,
            "count": 38
           },
           {
            "bin_start": 0.7504,
            "bin_end": 0.8442,
            "count": 38
           },
           {
            "bin_start": 0.8442,
            "bin_end": 0.938,
            "count": 29
           }
          ]
         }
        },
        {
         "name": "Schooling",
         "dtype": "float64",
         "stats": {
          "unique_count": 89,
          "nan_count": 9,
          "min": "0.0",
          "max": "20.4",
          "histogram": [
           {
            "bin_start": 0,
            "bin_end": 2.04,
            "count": 11
           },
           {
            "bin_start": 2.04,
            "bin_end": 4.08,
            "count": 0
           },
           {
            "bin_start": 4.08,
            "bin_end": 6.12,
            "count": 7
           },
           {
            "bin_start": 6.12,
            "bin_end": 8.16,
            "count": 6
           },
           {
            "bin_start": 8.16,
            "bin_end": 10.2,
            "count": 20
           },
           {
            "bin_start": 10.2,
            "bin_end": 12.24,
            "count": 34
           },
           {
            "bin_start": 12.24,
            "bin_end": 14.280000000000001,
            "count": 51
           },
           {
            "bin_start": 14.280000000000001,
            "bin_end": 16.32,
            "count": 39
           },
           {
            "bin_start": 16.32,
            "bin_end": 18.36,
            "count": 12
           },
           {
            "bin_start": 18.36,
            "bin_end": 20.4,
            "count": 4
           }
          ]
         }
        },
        {
         "name": "_deepnote_index_column",
         "dtype": "int64"
        }
       ],
       "rows": [
        {
         "Country": "Algeria",
         "Year": 2015,
         "Status": "Developing",
         "Life expectancy": 75.6,
         "Adult Mortality": 19,
         "infant deaths": 21,
         "Alcohol": "nan",
         "percentage expenditure": 0,
         "Hepatitis B": 95,
         "Measles": 63,
         "BMI": 59.5,
         "under-five deaths": 24,
         "Polio": 95,
         "Total expenditure": "nan",
         "Diphtheria": 95,
         "HIV/AIDS": 0.1,
         "GDP": 4132.76292,
         "Population": 39871528,
         "thinness  1-19 years": 6,
         "thinness 5-9 years": 5.8,
         "Income composition of resources": 0.743,
         "Schooling": 14.4,
         "_deepnote_index_column": 32
        },
        {
         "Country": "Angola",
         "Year": 2015,
         "Status": "Developing",
         "Life expectancy": 52.4,
         "Adult Mortality": 335,
         "infant deaths": 66,
         "Alcohol": "nan",
         "percentage expenditure": 0,
         "Hepatitis B": 64,
         "Measles": 118,
         "BMI": 23.3,
         "under-five deaths": 98,
         "Polio": 7,
         "Total expenditure": "nan",
         "Diphtheria": 64,
         "HIV/AIDS": 1.9,
         "GDP": 3695.793748,
         "Population": 2785935,
         "thinness  1-19 years": 8.3,
         "thinness 5-9 years": 8.2,
         "Income composition of resources": 0.531,
         "Schooling": 11.4,
         "_deepnote_index_column": 48
        },
        {
         "Country": "Antigua and Barbuda",
         "Year": 2015,
         "Status": "Developing",
         "Life expectancy": 76.4,
         "Adult Mortality": 13,
         "infant deaths": 0,
         "Alcohol": "nan",
         "percentage expenditure": 0,
         "Hepatitis B": 99,
         "Measles": 0,
         "BMI": 47.7,
         "under-five deaths": 0,
         "Polio": 86,
         "Total expenditure": "nan",
         "Diphtheria": 99,
         "HIV/AIDS": 0.2,
         "GDP": 13566.9541,
         "Population": "nan",
         "thinness  1-19 years": 3.3,
         "thinness 5-9 years": 3.3,
         "Income composition of resources": 0.784,
         "Schooling": 13.9,
         "_deepnote_index_column": 64
        },
        {
         "Country": "Argentina",
         "Year": 2015,
         "Status": "Developing",
         "Life expectancy": 76.3,
         "Adult Mortality": 116,
         "infant deaths": 8,
         "Alcohol": "nan",
         "percentage expenditure": 0,
         "Hepatitis B": 94,
         "Measles": 0,
         "BMI": 62.8,
         "under-five deaths": 9,
         "Polio": 93,
         "Total expenditure": "nan",
         "Diphtheria": 94,
         "HIV/AIDS": 0.1,
         "GDP": 13467.1236,
         "Population": 43417765,
         "thinness  1-19 years": 1,
         "thinness 5-9 years": 0.9,
         "Income composition of resources": 0.826,
         "Schooling": 17.3,
         "_deepnote_index_column": 80
        },
        {
         "Country": "Armenia",
         "Year": 2015,
         "Status": "Developing",
         "Life expectancy": 74.8,
         "Adult Mortality": 118,
         "infant deaths": 1,
         "Alcohol": "nan",
         "percentage expenditure": 0,
         "Hepatitis B": 94,
         "Measles": 33,
         "BMI": 54.9,
         "under-five deaths": 1,
         "Polio": 96,
         "Total expenditure": "nan",
         "Diphtheria": 94,
         "HIV/AIDS": 0.1,
         "GDP": 369.654776,
         "Population": 291695,
         "thinness  1-19 years": 2.1,
         "thinness 5-9 years": 2.2,
         "Income composition of resources": 0.741,
         "Schooling": 12.7,
         "_deepnote_index_column": 96
        },
        {
         "Country": "Australia",
         "Year": 2015,
         "Status": "Developed",
         "Life expectancy": 82.8,
         "Adult Mortality": 59,
         "infant deaths": 1,
         "Alcohol": "nan",
         "percentage expenditure": 0,
         "Hepatitis B": 93,
         "Measles": 74,
         "BMI": 66.6,
         "under-five deaths": 1,
         "Polio": 93,
         "Total expenditure": "nan",
         "Diphtheria": 93,
         "HIV/AIDS": 0.1,
         "GDP": 56554.3876,
         "Population": 23789338,
         "thinness  1-19 years": 0.6,
         "thinness 5-9 years": 0.6,
         "Income composition of resources": 0.937,
         "Schooling": 20.4,
         "_deepnote_index_column": 112
        },
        {
         "Country": "Austria",
         "Year": 2015,
         "Status": "Developed",
         "Life expectancy": 81.5,
         "Adult Mortality": 65,
         "infant deaths": 0,
         "Alcohol": "nan",
         "percentage expenditure": 0,
         "Hepatitis B": 93,
         "Measles": 309,
         "BMI": 57.6,
         "under-five deaths": 0,
         "Polio": 93,
         "Total expenditure": "nan",
         "Diphtheria": 93,
         "HIV/AIDS": 0.1,
         "GDP": 43665.947,
         "Population": 8633169,
         "thinness  1-19 years": 1.9,
         "thinness 5-9 years": 2.1,
         "Income composition of resources": 0.892,
         "Schooling": 15.9,
         "_deepnote_index_column": 128
        },
        {
         "Country": "Azerbaijan",
         "Year": 2015,
         "Status": "Developing",
         "Life expectancy": 72.7,
         "Adult Mortality": 118,
         "infant deaths": 5,
         "Alcohol": "nan",
         "percentage expenditure": 0,
         "Hepatitis B": 96,
         "Measles": 0,
         "BMI": 52.5,
         "under-five deaths": 6,
         "Polio": 98,
         "Total expenditure": "nan",
         "Diphtheria": 96,
         "HIV/AIDS": 0.1,
         "GDP": 55.31382,
         "Population": 9649341,
         "thinness  1-19 years": 2.8,
         "thinness 5-9 years": 2.9,
         "Income composition of resources": 0.758,
         "Schooling": 12.7,
         "_deepnote_index_column": 144
        },
        {
         "Country": "Bahamas",
         "Year": 2015,
         "Status": "Developing",
         "Life expectancy": 76.1,
         "Adult Mortality": 147,
         "infant deaths": 0,
         "Alcohol": "nan",
         "percentage expenditure": 0,
         "Hepatitis B": 95,
         "Measles": 0,
         "BMI": 64.5,
         "under-five deaths": 0,
         "Polio": 95,
         "Total expenditure": "nan",
         "Diphtheria": 95,
         "HIV/AIDS": 0.1,
         "GDP": "nan",
         "Population": "nan",
         "thinness  1-19 years": 2.5,
         "thinness 5-9 years": 2.5,
         "Income composition of resources": 0.79,
         "Schooling": 12.6,
         "_deepnote_index_column": 160
        },
        {
         "Country": "Bahrain",
         "Year": 2015,
         "Status": "Developing",
         "Life expectancy": 76.9,
         "Adult Mortality": 69,
         "infant deaths": 0,
         "Alcohol": "nan",
         "percentage expenditure": 0,
         "Hepatitis B": 98,
         "Measles": 0,
         "BMI": 63.6,
         "under-five deaths": 0,
         "Polio": 98,
         "Total expenditure": "nan",
         "Diphtheria": 98,
         "HIV/AIDS": 0.1,
         "GDP": 22688.87824,
         "Population": "nan",
         "thinness  1-19 years": 6.2,
         "thinness 5-9 years": 6.1,
         "Income composition of resources": 0.823,
         "Schooling": 14.5,
         "_deepnote_index_column": 176
        }
       ]
      },
      "text/plain": "                                 Country  Year      Status  Life expectancy  \\\n32                               Algeria  2015  Developing             75.6   \n48                                Angola  2015  Developing             52.4   \n64                   Antigua and Barbuda  2015  Developing             76.4   \n80                             Argentina  2015  Developing             76.3   \n96                               Armenia  2015  Developing             74.8   \n...                                  ...   ...         ...              ...   \n2858  Venezuela (Bolivarian Republic of)  2015  Developing             74.1   \n2874                            Viet Nam  2015  Developing             76.0   \n2890                               Yemen  2015  Developing             65.7   \n2906                              Zambia  2015  Developing             61.8   \n2922                            Zimbabwe  2015  Developing             67.0   \n\n      Adult Mortality  infant deaths  Alcohol  percentage expenditure  \\\n32               19.0             21      NaN                     0.0   \n48              335.0             66      NaN                     0.0   \n64               13.0              0      NaN                     0.0   \n80              116.0              8      NaN                     0.0   \n96              118.0              1      NaN                     0.0   \n...               ...            ...      ...                     ...   \n2858            157.0              9      NaN                     0.0   \n2874            127.0             28      NaN                     0.0   \n2890            224.0             37      NaN                     0.0   \n2906             33.0             27      NaN                     0.0   \n2922            336.0             22      NaN                     0.0   \n\n      Hepatitis B  Measles  ...  Polio  Total expenditure  Diphtheria  \\\n32           95.0       63  ...   95.0                NaN        95.0   \n48           64.0      118  ...    7.0                NaN        64.0   \n64           99.0        0  ...   86.0                NaN        99.0   \n80           94.0        0  ...   93.0                NaN        94.0   \n96           94.0       33  ...   96.0                NaN        94.0   \n...           ...      ...  ...    ...                ...         ...   \n2858         87.0        0  ...   87.0                NaN        87.0   \n2874         97.0      256  ...   97.0                NaN        97.0   \n2890         69.0      468  ...   63.0                NaN        69.0   \n2906          9.0        9  ...    9.0                NaN         9.0   \n2922         87.0        0  ...   88.0                NaN        87.0   \n\n      HIV/AIDS           GDP  Population  thinness  1-19 years  \\\n32         0.1   4132.762920  39871528.0                   6.0   \n48         1.9   3695.793748   2785935.0                   8.3   \n64         0.2  13566.954100         NaN                   3.3   \n80         0.1  13467.123600  43417765.0                   1.0   \n96         0.1    369.654776    291695.0                   2.1   \n...        ...           ...         ...                   ...   \n2858       0.1           NaN         NaN                   1.6   \n2874       0.1           NaN         NaN                  14.2   \n2890       0.1           NaN         NaN                  13.6   \n2906       4.1   1313.889646    161587.0                   6.3   \n2922       6.2    118.693830  15777451.0                   5.6   \n\n      thinness 5-9 years  Income composition of resources  Schooling  \n32                   5.8                            0.743       14.4  \n48                   8.2                            0.531       11.4  \n64                   3.3                            0.784       13.9  \n80                   0.9                            0.826       17.3  \n96                   2.2                            0.741       12.7  \n...                  ...                              ...        ...  \n2858                 1.5                            0.769       14.3  \n2874                14.5                            0.678       12.6  \n2890                13.4                            0.499        9.0  \n2906                 6.1                            0.576       12.5  \n2922                 5.5                            0.507       10.3  \n\n[193 rows x 22 columns]",
      "text/html": "<div>\n<style scoped>\n    .dataframe tbody tr th:only-of-type {\n        vertical-align: middle;\n    }\n\n    .dataframe tbody tr th {\n        vertical-align: top;\n    }\n\n    .dataframe thead th {\n        text-align: right;\n    }\n</style>\n<table border=\"1\" class=\"dataframe\">\n  <thead>\n    <tr style=\"text-align: right;\">\n      <th></th>\n      <th>Country</th>\n      <th>Year</th>\n      <th>Status</th>\n      <th>Life expectancy</th>\n      <th>Adult Mortality</th>\n      <th>infant deaths</th>\n      <th>Alcohol</th>\n      <th>percentage expenditure</th>\n      <th>Hepatitis B</th>\n      <th>Measles</th>\n      <th>...</th>\n      <th>Polio</th>\n      <th>Total expenditure</th>\n      <th>Diphtheria</th>\n      <th>HIV/AIDS</th>\n      <th>GDP</th>\n      <th>Population</th>\n      <th>thinness  1-19 years</th>\n      <th>thinness 5-9 years</th>\n      <th>Income composition of resources</th>\n      <th>Schooling</th>\n    </tr>\n  </thead>\n  <tbody>\n    <tr>\n      <th>32</th>\n      <td>Algeria</td>\n      <td>2015</td>\n      <td>Developing</td>\n      <td>75.6</td>\n      <td>19.0</td>\n      <td>21</td>\n      <td>NaN</td>\n      <td>0.0</td>\n      <td>95.0</td>\n      <td>63</td>\n      <td>...</td>\n      <td>95.0</td>\n      <td>NaN</td>\n      <td>95.0</td>\n      <td>0.1</td>\n      <td>4132.762920</td>\n      <td>39871528.0</td>\n      <td>6.0</td>\n      <td>5.8</td>\n      <td>0.743</td>\n      <td>14.4</td>\n    </tr>\n    <tr>\n      <th>48</th>\n      <td>Angola</td>\n      <td>2015</td>\n      <td>Developing</td>\n      <td>52.4</td>\n      <td>335.0</td>\n      <td>66</td>\n      <td>NaN</td>\n      <td>0.0</td>\n      <td>64.0</td>\n      <td>118</td>\n      <td>...</td>\n      <td>7.0</td>\n      <td>NaN</td>\n      <td>64.0</td>\n      <td>1.9</td>\n      <td>3695.793748</td>\n      <td>2785935.0</td>\n      <td>8.3</td>\n      <td>8.2</td>\n      <td>0.531</td>\n      <td>11.4</td>\n    </tr>\n    <tr>\n      <th>64</th>\n      <td>Antigua and Barbuda</td>\n      <td>2015</td>\n      <td>Developing</td>\n      <td>76.4</td>\n      <td>13.0</td>\n      <td>0</td>\n      <td>NaN</td>\n      <td>0.0</td>\n      <td>99.0</td>\n      <td>0</td>\n      <td>...</td>\n      <td>86.0</td>\n      <td>NaN</td>\n      <td>99.0</td>\n      <td>0.2</td>\n      <td>13566.954100</td>\n      <td>NaN</td>\n      <td>3.3</td>\n      <td>3.3</td>\n      <td>0.784</td>\n      <td>13.9</td>\n    </tr>\n    <tr>\n      <th>80</th>\n      <td>Argentina</td>\n      <td>2015</td>\n      <td>Developing</td>\n      <td>76.3</td>\n      <td>116.0</td>\n      <td>8</td>\n      <td>NaN</td>\n      <td>0.0</td>\n      <td>94.0</td>\n      <td>0</td>\n      <td>...</td>\n      <td>93.0</td>\n      <td>NaN</td>\n      <td>94.0</td>\n      <td>0.1</td>\n      <td>13467.123600</td>\n      <td>43417765.0</td>\n      <td>1.0</td>\n      <td>0.9</td>\n      <td>0.826</td>\n      <td>17.3</td>\n    </tr>\n    <tr>\n      <th>96</th>\n      <td>Armenia</td>\n      <td>2015</td>\n      <td>Developing</td>\n      <td>74.8</td>\n      <td>118.0</td>\n      <td>1</td>\n      <td>NaN</td>\n      <td>0.0</td>\n      <td>94.0</td>\n      <td>33</td>\n      <td>...</td>\n      <td>96.0</td>\n      <td>NaN</td>\n      <td>94.0</td>\n      <td>0.1</td>\n      <td>369.654776</td>\n      <td>291695.0</td>\n      <td>2.1</td>\n      <td>2.2</td>\n      <td>0.741</td>\n      <td>12.7</td>\n    </tr>\n    <tr>\n      <th>...</th>\n      <td>...</td>\n      <td>...</td>\n      <td>...</td>\n      <td>...</td>\n      <td>...</td>\n      <td>...</td>\n      <td>...</td>\n      <td>...</td>\n      <td>...</td>\n      <td>...</td>\n      <td>...</td>\n      <td>...</td>\n      <td>...</td>\n      <td>...</td>\n      <td>...</td>\n      <td>...</td>\n      <td>...</td>\n      <td>...</td>\n      <td>...</td>\n      <td>...</td>\n      <td>...</td>\n    </tr>\n    <tr>\n      <th>2858</th>\n      <td>Venezuela (Bolivarian Republic of)</td>\n      <td>2015</td>\n      <td>Developing</td>\n      <td>74.1</td>\n      <td>157.0</td>\n      <td>9</td>\n      <td>NaN</td>\n      <td>0.0</td>\n      <td>87.0</td>\n      <td>0</td>\n      <td>...</td>\n      <td>87.0</td>\n      <td>NaN</td>\n      <td>87.0</td>\n      <td>0.1</td>\n      <td>NaN</td>\n      <td>NaN</td>\n      <td>1.6</td>\n      <td>1.5</td>\n      <td>0.769</td>\n      <td>14.3</td>\n    </tr>\n    <tr>\n      <th>2874</th>\n      <td>Viet Nam</td>\n      <td>2015</td>\n      <td>Developing</td>\n      <td>76.0</td>\n      <td>127.0</td>\n      <td>28</td>\n      <td>NaN</td>\n      <td>0.0</td>\n      <td>97.0</td>\n      <td>256</td>\n      <td>...</td>\n      <td>97.0</td>\n      <td>NaN</td>\n      <td>97.0</td>\n      <td>0.1</td>\n      <td>NaN</td>\n      <td>NaN</td>\n      <td>14.2</td>\n      <td>14.5</td>\n      <td>0.678</td>\n      <td>12.6</td>\n    </tr>\n    <tr>\n      <th>2890</th>\n      <td>Yemen</td>\n      <td>2015</td>\n      <td>Developing</td>\n      <td>65.7</td>\n      <td>224.0</td>\n      <td>37</td>\n      <td>NaN</td>\n      <td>0.0</td>\n      <td>69.0</td>\n      <td>468</td>\n      <td>...</td>\n      <td>63.0</td>\n      <td>NaN</td>\n      <td>69.0</td>\n      <td>0.1</td>\n      <td>NaN</td>\n      <td>NaN</td>\n      <td>13.6</td>\n      <td>13.4</td>\n      <td>0.499</td>\n      <td>9.0</td>\n    </tr>\n    <tr>\n      <th>2906</th>\n      <td>Zambia</td>\n      <td>2015</td>\n      <td>Developing</td>\n      <td>61.8</td>\n      <td>33.0</td>\n      <td>27</td>\n      <td>NaN</td>\n      <td>0.0</td>\n      <td>9.0</td>\n      <td>9</td>\n      <td>...</td>\n      <td>9.0</td>\n      <td>NaN</td>\n      <td>9.0</td>\n      <td>4.1</td>\n      <td>1313.889646</td>\n      <td>161587.0</td>\n      <td>6.3</td>\n      <td>6.1</td>\n      <td>0.576</td>\n      <td>12.5</td>\n    </tr>\n    <tr>\n      <th>2922</th>\n      <td>Zimbabwe</td>\n      <td>2015</td>\n      <td>Developing</td>\n      <td>67.0</td>\n      <td>336.0</td>\n      <td>22</td>\n      <td>NaN</td>\n      <td>0.0</td>\n      <td>87.0</td>\n      <td>0</td>\n      <td>...</td>\n      <td>88.0</td>\n      <td>NaN</td>\n      <td>87.0</td>\n      <td>6.2</td>\n      <td>118.693830</td>\n      <td>15777451.0</td>\n      <td>5.6</td>\n      <td>5.5</td>\n      <td>0.507</td>\n      <td>10.3</td>\n    </tr>\n  </tbody>\n</table>\n<p>193 rows × 22 columns</p>\n</div>"
     },
     "metadata": {}
    }
   ]
  },
  {
   "cell_type": "code",
   "metadata": {
    "tags": [],
    "cell_id": "00021-99d26223-a5e7-4c66-a83d-5dc5c575d81d",
    "deepnote_to_be_reexecuted": false,
    "source_hash": "ddd6ceb2",
    "execution_start": 1661363080848,
    "execution_millis": 9,
    "deepnote_cell_type": "code",
    "deepnote_cell_height": 169.5625,
    "deepnote_output_heights": [
     58.578125
    ]
   },
   "source": "grouped_alc = df.groupby(['Country'])['Alcohol'].mean()\ngrouped_alc[grouped_alc.isnull()]",
   "execution_count": 12,
   "outputs": [
    {
     "output_type": "execute_result",
     "execution_count": 12,
     "data": {
      "text/plain": "Country\nSouth Sudan   NaN\nName: Alcohol, dtype: float64"
     },
     "metadata": {}
    }
   ]
  },
  {
   "cell_type": "code",
   "metadata": {
    "tags": [],
    "cell_id": "00022-5d722449-2bd0-459d-8c97-fa6f82994b98",
    "deepnote_to_be_reexecuted": false,
    "source_hash": "8d5a594d",
    "execution_start": 1661363080864,
    "execution_millis": 4,
    "deepnote_cell_type": "code",
    "deepnote_cell_height": 162.390625
   },
   "source": "SS = df[df['Country'] == 'South Sudan']['Year']\nprint(SS.min())\nprint(SS.max())",
   "execution_count": 13,
   "outputs": [
    {
     "name": "stdout",
     "text": "2000\n2015\n",
     "output_type": "stream"
    }
   ]
  },
  {
   "cell_type": "markdown",
   "source": "* Pouze o 'South Sudan' nemáme žádný záznam o tom, kolik alkoholu se tam konzumuje.\n* Vzhledem k tomu, že data o této zemi máme od roku 2000 až po rok 2015, a alkohol v ní byl od roku 1983 do roku 2020 zakázan, položíme pro záznamy s touto zemí 'Alcohol' rovný nule.",
   "metadata": {
    "tags": [],
    "cell_id": "00022-e8078dfb-b444-489d-b442-242f2fa7372a",
    "deepnote_cell_type": "markdown",
    "deepnote_cell_height": 117.1875
   }
  },
  {
   "cell_type": "code",
   "metadata": {
    "tags": [],
    "cell_id": "00022-7b9763c2-fe15-42a9-95ed-ca28dc841357",
    "deepnote_to_be_reexecuted": false,
    "source_hash": "3742a331",
    "execution_start": 1661363080874,
    "execution_millis": 7,
    "deepnote_cell_type": "code",
    "deepnote_cell_height": 161
   },
   "source": "alc_dict = grouped_alc.to_dict()\nalc_dict['South Sudan'] = 0.0\n\nprint(alc_dict['South Sudan'])",
   "execution_count": 14,
   "outputs": [
    {
     "name": "stdout",
     "text": "0.0\n",
     "output_type": "stream"
    }
   ]
  },
  {
   "cell_type": "code",
   "source": "# alc_dict",
   "metadata": {
    "tags": [],
    "cell_id": "00028-ba5e02d7-b6cb-4c9a-bcce-ce91175c8e8a",
    "deepnote_to_be_reexecuted": false,
    "source_hash": "55a01991",
    "execution_start": 1661363080882,
    "execution_millis": 36,
    "is_output_hidden": true,
    "deepnote_cell_type": "code",
    "deepnote_cell_height": 106.796875
   },
   "execution_count": 15,
   "outputs": []
  },
  {
   "cell_type": "code",
   "metadata": {
    "tags": [],
    "cell_id": "00027-4d77b21b-9956-403b-8c16-2323cbdca4b1",
    "deepnote_to_be_reexecuted": false,
    "source_hash": "7430960a",
    "execution_start": 1661363080925,
    "execution_millis": 1,
    "deepnote_cell_type": "code",
    "deepnote_cell_height": 81
   },
   "source": "df.loc[df['Alcohol'].isnull(), 'Alcohol'] = df.loc[df['Alcohol'].isnull()]['Country'].apply(lambda x: alc_dict[x])",
   "execution_count": 16,
   "outputs": []
  },
  {
   "cell_type": "markdown",
   "source": "* Tedy záznamy, u kterých chyběla informace o konzumaci alkoholu, jsem nahradil zaznamenaným průměrem alkoholické konzumace v této zemi.",
   "metadata": {
    "tags": [],
    "cell_id": "00027-30712c93-5f75-48f9-a74a-48bd11818ea1",
    "deepnote_cell_type": "markdown",
    "deepnote_cell_height": 91.796875
   }
  },
  {
   "cell_type": "code",
   "metadata": {
    "tags": [],
    "cell_id": "00028-fba47f27-7f6a-4291-b067-44d8052bbf12",
    "deepnote_to_be_reexecuted": false,
    "source_hash": "766ff10e",
    "execution_start": 1661363080970,
    "execution_millis": 1,
    "deepnote_cell_type": "code",
    "deepnote_cell_height": 238
   },
   "source": "# funkce vrátí slovník, který \n# vznikne sloučením záznamů dle zemí \n# a nalezení průměru příznaku col_name \n# klíc    -> název země\n# hodnota -> průměr col_name pro tuto zem\n\ndef make_dict_by_country(col_name, df):\n    grouped = df.groupby(['Country'])[col_name].mean()\n    grouped[grouped.isnull()]\n    return grouped.to_dict()",
   "execution_count": 17,
   "outputs": []
  },
  {
   "cell_type": "code",
   "metadata": {
    "tags": [],
    "cell_id": "00028-d4db9bb8-f4cf-49e8-a44e-2807b94340b5",
    "deepnote_to_be_reexecuted": false,
    "source_hash": "f804c160",
    "execution_start": 1661363080971,
    "execution_millis": 173,
    "deepnote_cell_type": "code",
    "deepnote_cell_height": 610
   },
   "source": "df",
   "execution_count": 18,
   "outputs": [
    {
     "output_type": "execute_result",
     "execution_count": 18,
     "data": {
      "application/vnd.deepnote.dataframe.v3+json": {
       "column_count": 22,
       "row_count": 2928,
       "columns": [
        {
         "name": "Country",
         "dtype": "object",
         "stats": {
          "unique_count": 183,
          "nan_count": 0,
          "categories": [
           {
            "name": "Afghanistan",
            "count": 16
           },
           {
            "name": "Albania",
            "count": 16
           },
           {
            "name": "181 others",
            "count": 2896
           }
          ]
         }
        },
        {
         "name": "Year",
         "dtype": "int64",
         "stats": {
          "unique_count": 16,
          "nan_count": 0,
          "min": "2000",
          "max": "2015",
          "histogram": [
           {
            "bin_start": 2000,
            "bin_end": 2001.5,
            "count": 366
           },
           {
            "bin_start": 2001.5,
            "bin_end": 2003,
            "count": 183
           },
           {
            "bin_start": 2003,
            "bin_end": 2004.5,
            "count": 366
           },
           {
            "bin_start": 2004.5,
            "bin_end": 2006,
            "count": 183
           },
           {
            "bin_start": 2006,
            "bin_end": 2007.5,
            "count": 366
           },
           {
            "bin_start": 2007.5,
            "bin_end": 2009,
            "count": 183
           },
           {
            "bin_start": 2009,
            "bin_end": 2010.5,
            "count": 366
           },
           {
            "bin_start": 2010.5,
            "bin_end": 2012,
            "count": 183
           },
           {
            "bin_start": 2012,
            "bin_end": 2013.5,
            "count": 366
           },
           {
            "bin_start": 2013.5,
            "bin_end": 2015,
            "count": 366
           }
          ]
         }
        },
        {
         "name": "Status",
         "dtype": "object",
         "stats": {
          "unique_count": 2,
          "nan_count": 0,
          "categories": [
           {
            "name": "Developing",
            "count": 2416
           },
           {
            "name": "Developed",
            "count": 512
           }
          ]
         }
        },
        {
         "name": "Life expectancy",
         "dtype": "float64",
         "stats": {
          "unique_count": 362,
          "nan_count": 0,
          "min": "36.3",
          "max": "89.0",
          "histogram": [
           {
            "bin_start": 36.3,
            "bin_end": 41.57,
            "count": 4
           },
           {
            "bin_start": 41.57,
            "bin_end": 46.839999999999996,
            "count": 50
           },
           {
            "bin_start": 46.839999999999996,
            "bin_end": 52.11,
            "count": 134
           },
           {
            "bin_start": 52.11,
            "bin_end": 57.379999999999995,
            "count": 229
           },
           {
            "bin_start": 57.379999999999995,
            "bin_end": 62.65,
            "count": 277
           },
           {
            "bin_start": 62.65,
            "bin_end": 67.92,
            "count": 405
           },
           {
            "bin_start": 67.92,
            "bin_end": 73.19,
            "count": 580
           },
           {
            "bin_start": 73.19,
            "bin_end": 78.46000000000001,
            "count": 819
           },
           {
            "bin_start": 78.46000000000001,
            "bin_end": 83.73,
            "count": 362
           },
           {
            "bin_start": 83.73,
            "bin_end": 89,
            "count": 68
           }
          ]
         }
        },
        {
         "name": "Adult Mortality",
         "dtype": "float64",
         "stats": {
          "unique_count": 425,
          "nan_count": 0,
          "min": "1.0",
          "max": "723.0",
          "histogram": [
           {
            "bin_start": 1,
            "bin_end": 73.2,
            "count": 729
           },
           {
            "bin_start": 73.2,
            "bin_end": 145.4,
            "count": 765
           },
           {
            "bin_start": 145.4,
            "bin_end": 217.60000000000002,
            "count": 610
           },
           {
            "bin_start": 217.60000000000002,
            "bin_end": 289.8,
            "count": 423
           },
           {
            "bin_start": 289.8,
            "bin_end": 362,
            "count": 176
           },
           {
            "bin_start": 362,
            "bin_end": 434.20000000000005,
            "count": 117
           },
           {
            "bin_start": 434.20000000000005,
            "bin_end": 506.40000000000003,
            "count": 54
           },
           {
            "bin_start": 506.40000000000003,
            "bin_end": 578.6,
            "count": 24
           },
           {
            "bin_start": 578.6,
            "bin_end": 650.8000000000001,
            "count": 17
           },
           {
            "bin_start": 650.8000000000001,
            "bin_end": 723,
            "count": 13
           }
          ]
         }
        },
        {
         "name": "infant deaths",
         "dtype": "int64",
         "stats": {
          "unique_count": 209,
          "nan_count": 0,
          "min": "0",
          "max": "1800",
          "histogram": [
           {
            "bin_start": 0,
            "bin_end": 180,
            "count": 2835
           },
           {
            "bin_start": 180,
            "bin_end": 360,
            "count": 42
           },
           {
            "bin_start": 360,
            "bin_end": 540,
            "count": 27
           },
           {
            "bin_start": 540,
            "bin_end": 720,
            "count": 8
           },
           {
            "bin_start": 720,
            "bin_end": 900,
            "count": 0
           },
           {
            "bin_start": 900,
            "bin_end": 1080,
            "count": 3
           },
           {
            "bin_start": 1080,
            "bin_end": 1260,
            "count": 3
           },
           {
            "bin_start": 1260,
            "bin_end": 1440,
            "count": 3
           },
           {
            "bin_start": 1440,
            "bin_end": 1620,
            "count": 3
           },
           {
            "bin_start": 1620,
            "bin_end": 1800,
            "count": 4
           }
          ]
         }
        },
        {
         "name": "Alcohol",
         "dtype": "float64",
         "stats": {
          "unique_count": 1246,
          "nan_count": 0,
          "min": "0.0",
          "max": "17.87",
          "histogram": [
           {
            "bin_start": 0,
            "bin_end": 1.7870000000000001,
            "count": 1031
           },
           {
            "bin_start": 1.7870000000000001,
            "bin_end": 3.5740000000000003,
            "count": 404
           },
           {
            "bin_start": 3.5740000000000003,
            "bin_end": 5.361000000000001,
            "count": 353
           },
           {
            "bin_start": 5.361000000000001,
            "bin_end": 7.148000000000001,
            "count": 307
           },
           {
            "bin_start": 7.148000000000001,
            "bin_end": 8.935,
            "count": 284
           },
           {
            "bin_start": 8.935,
            "bin_end": 10.722000000000001,
            "count": 254
           },
           {
            "bin_start": 10.722000000000001,
            "bin_end": 12.509,
            "count": 210
           },
           {
            "bin_start": 12.509,
            "bin_end": 14.296000000000001,
            "count": 70
           },
           {
            "bin_start": 14.296000000000001,
            "bin_end": 16.083000000000002,
            "count": 10
           },
           {
            "bin_start": 16.083000000000002,
            "bin_end": 17.87,
            "count": 5
           }
          ]
         }
        },
        {
         "name": "percentage expenditure",
         "dtype": "float64",
         "stats": {
          "unique_count": 2323,
          "nan_count": 0,
          "min": "0.0",
          "max": "19479.91161",
          "histogram": [
           {
            "bin_start": 0,
            "bin_end": 1947.991161,
            "count": 2647
           },
           {
            "bin_start": 1947.991161,
            "bin_end": 3895.982322,
            "count": 118
           },
           {
            "bin_start": 3895.982322,
            "bin_end": 5843.973483,
            "count": 54
           },
           {
            "bin_start": 5843.973483,
            "bin_end": 7791.964644,
            "count": 46
           },
           {
            "bin_start": 7791.964644,
            "bin_end": 9739.955805,
            "count": 27
           },
           {
            "bin_start": 9739.955805,
            "bin_end": 11687.946966,
            "count": 17
           },
           {
            "bin_start": 11687.946966,
            "bin_end": 13635.938127,
            "count": 7
           },
           {
            "bin_start": 13635.938127,
            "bin_end": 15583.929288,
            "count": 5
           },
           {
            "bin_start": 15583.929288,
            "bin_end": 17531.920448999997,
            "count": 2
           },
           {
            "bin_start": 17531.920448999997,
            "bin_end": 19479.91161,
            "count": 5
           }
          ]
         }
        },
        {
         "name": "Hepatitis B",
         "dtype": "float64",
         "stats": {
          "unique_count": 87,
          "nan_count": 553,
          "min": "1.0",
          "max": "99.0",
          "histogram": [
           {
            "bin_start": 1,
            "bin_end": 10.8,
            "count": 157
           },
           {
            "bin_start": 10.8,
            "bin_end": 20.6,
            "count": 16
           },
           {
            "bin_start": 20.6,
            "bin_end": 30.400000000000002,
            "count": 22
           },
           {
            "bin_start": 30.400000000000002,
            "bin_end": 40.2,
            "count": 21
           },
           {
            "bin_start": 40.2,
            "bin_end": 50,
            "count": 56
           },
           {
            "bin_start": 50,
            "bin_end": 59.800000000000004,
            "count": 48
           },
           {
            "bin_start": 59.800000000000004,
            "bin_end": 69.60000000000001,
            "count": 141
           },
           {
            "bin_start": 69.60000000000001,
            "bin_end": 79.4,
            "count": 202
           },
           {
            "bin_start": 79.4,
            "bin_end": 89.2,
            "count": 402
           },
           {
            "bin_start": 89.2,
            "bin_end": 99,
            "count": 1310
           }
          ]
         }
        },
        {
         "name": "Measles",
         "dtype": "int64",
         "stats": {
          "unique_count": 958,
          "nan_count": 0,
          "min": "0",
          "max": "212183",
          "histogram": [
           {
            "bin_start": 0,
            "bin_end": 21218.3,
            "count": 2848
           },
           {
            "bin_start": 21218.3,
            "bin_end": 42436.6,
            "count": 38
           },
           {
            "bin_start": 42436.6,
            "bin_end": 63654.899999999994,
            "count": 21
           },
           {
            "bin_start": 63654.899999999994,
            "bin_end": 84873.2,
            "count": 7
           },
           {
            "bin_start": 84873.2,
            "bin_end": 106091.5,
            "count": 4
           },
           {
            "bin_start": 106091.5,
            "bin_end": 127309.79999999999,
            "count": 4
           },
           {
            "bin_start": 127309.79999999999,
            "bin_end": 148528.1,
            "count": 3
           },
           {
            "bin_start": 148528.1,
            "bin_end": 169746.4,
            "count": 1
           },
           {
            "bin_start": 169746.4,
            "bin_end": 190964.69999999998,
            "count": 1
           },
           {
            "bin_start": 190964.69999999998,
            "bin_end": 212183,
            "count": 1
           }
          ]
         }
        },
        {
         "name": "BMI",
         "dtype": "float64",
         "stats": {
          "unique_count": 602,
          "nan_count": 32,
          "min": "1.0",
          "max": "77.6",
          "histogram": [
           {
            "bin_start": 1,
            "bin_end": 8.66,
            "count": 280
           },
           {
            "bin_start": 8.66,
            "bin_end": 16.32,
            "count": 210
           },
           {
            "bin_start": 16.32,
            "bin_end": 23.979999999999997,
            "count": 460
           },
           {
            "bin_start": 23.979999999999997,
            "bin_end": 31.639999999999997,
            "count": 246
           },
           {
            "bin_start": 31.639999999999997,
            "bin_end": 39.3,
            "count": 161
           },
           {
            "bin_start": 39.3,
            "bin_end": 46.959999999999994,
            "count": 249
           },
           {
            "bin_start": 46.959999999999994,
            "bin_end": 54.62,
            "count": 418
           },
           {
            "bin_start": 54.62,
            "bin_end": 62.279999999999994,
            "count": 614
           },
           {
            "bin_start": 62.279999999999994,
            "bin_end": 69.94,
            "count": 229
           },
           {
            "bin_start": 69.94,
            "bin_end": 77.6,
            "count": 29
           }
          ]
         }
        },
        {
         "name": "under-five deaths",
         "dtype": "int64",
         "stats": {
          "unique_count": 252,
          "nan_count": 0,
          "min": "0",
          "max": "2500",
          "histogram": [
           {
            "bin_start": 0,
            "bin_end": 250,
            "count": 2838
           },
           {
            "bin_start": 250,
            "bin_end": 500,
            "count": 55
           },
           {
            "bin_start": 500,
            "bin_end": 750,
            "count": 4
           },
           {
            "bin_start": 750,
            "bin_end": 1000,
            "count": 15
           },
           {
            "bin_start": 1000,
            "bin_end": 1250,
            "count": 2
           },
           {
            "bin_start": 1250,
            "bin_end": 1500,
            "count": 2
           },
           {
            "bin_start": 1500,
            "bin_end": 1750,
            "count": 3
           },
           {
            "bin_start": 1750,
            "bin_end": 2000,
            "count": 2
           },
           {
            "bin_start": 2000,
            "bin_end": 2250,
            "count": 4
           },
           {
            "bin_start": 2250,
            "bin_end": 2500,
            "count": 3
           }
          ]
         }
        },
        {
         "name": "Polio",
         "dtype": "float64",
         "stats": {
          "unique_count": 73,
          "nan_count": 19,
          "min": "3.0",
          "max": "99.0",
          "histogram": [
           {
            "bin_start": 3,
            "bin_end": 12.6,
            "count": 171
           },
           {
            "bin_start": 12.6,
            "bin_end": 22.2,
            "count": 1
           },
           {
            "bin_start": 22.2,
            "bin_end": 31.799999999999997,
            "count": 10
           },
           {
            "bin_start": 31.799999999999997,
            "bin_end": 41.4,
            "count": 26
           },
           {
            "bin_start": 41.4,
            "bin_end": 51,
            "count": 70
           },
           {
            "bin_start": 51,
            "bin_end": 60.599999999999994,
            "count": 85
           },
           {
            "bin_start": 60.599999999999994,
            "bin_end": 70.2,
            "count": 150
           },
           {
            "bin_start": 70.2,
            "bin_end": 79.8,
            "count": 270
           },
           {
            "bin_start": 79.8,
            "bin_end": 89.39999999999999,
            "count": 446
           },
           {
            "bin_start": 89.39999999999999,
            "bin_end": 99,
            "count": 1680
           }
          ]
         }
        },
        {
         "name": "Total expenditure",
         "dtype": "float64",
         "stats": {
          "unique_count": 816,
          "nan_count": 226,
          "min": "0.37",
          "max": "17.6",
          "histogram": [
           {
            "bin_start": 0.37,
            "bin_end": 2.093,
            "count": 150
           },
           {
            "bin_start": 2.093,
            "bin_end": 3.8160000000000003,
            "count": 383
           },
           {
            "bin_start": 3.8160000000000003,
            "bin_end": 5.539000000000001,
            "count": 706
           },
           {
            "bin_start": 5.539000000000001,
            "bin_end": 7.2620000000000005,
            "count": 719
           },
           {
            "bin_start": 7.2620000000000005,
            "bin_end": 8.985,
            "count": 460
           },
           {
            "bin_start": 8.985,
            "bin_end": 10.708,
            "count": 183
           },
           {
            "bin_start": 10.708,
            "bin_end": 12.431,
            "count": 71
           },
           {
            "bin_start": 12.431,
            "bin_end": 14.154,
            "count": 16
           },
           {
            "bin_start": 14.154,
            "bin_end": 15.877,
            "count": 7
           },
           {
            "bin_start": 15.877,
            "bin_end": 17.6,
            "count": 7
           }
          ]
         }
        },
        {
         "name": "Diphtheria",
         "dtype": "float64",
         "stats": {
          "unique_count": 81,
          "nan_count": 19,
          "min": "2.0",
          "max": "99.0",
          "histogram": [
           {
            "bin_start": 2,
            "bin_end": 11.7,
            "count": 169
           },
           {
            "bin_start": 11.7,
            "bin_end": 21.4,
            "count": 3
           },
           {
            "bin_start": 21.4,
            "bin_end": 31.099999999999998,
            "count": 22
           },
           {
            "bin_start": 31.099999999999998,
            "bin_end": 40.8,
            "count": 35
           },
           {
            "bin_start": 40.8,
            "bin_end": 50.5,
            "count": 68
           },
           {
            "bin_start": 50.5,
            "bin_end": 60.199999999999996,
            "count": 59
           },
           {
            "bin_start": 60.199999999999996,
            "bin_end": 69.89999999999999,
            "count": 149
           },
           {
            "bin_start": 69.89999999999999,
            "bin_end": 79.6,
            "count": 271
           },
           {
            "bin_start": 79.6,
            "bin_end": 89.3,
            "count": 469
           },
           {
            "bin_start": 89.3,
            "bin_end": 99,
            "count": 1664
           }
          ]
         }
        },
        {
         "name": "HIV/AIDS",
         "dtype": "float64",
         "stats": {
          "unique_count": 200,
          "nan_count": 0,
          "min": "0.1",
          "max": "50.6",
          "histogram": [
           {
            "bin_start": 0.1,
            "bin_end": 5.1499999999999995,
            "count": 2686
           },
           {
            "bin_start": 5.1499999999999995,
            "bin_end": 10.2,
            "count": 119
           },
           {
            "bin_start": 10.2,
            "bin_end": 15.249999999999998,
            "count": 44
           },
           {
            "bin_start": 15.249999999999998,
            "bin_end": 20.3,
            "count": 22
           },
           {
            "bin_start": 20.3,
            "bin_end": 25.35,
            "count": 19
           },
           {
            "bin_start": 25.35,
            "bin_end": 30.4,
            "count": 13
           },
           {
            "bin_start": 30.4,
            "bin_end": 35.45,
            "count": 10
           },
           {
            "bin_start": 35.45,
            "bin_end": 40.5,
            "count": 5
           },
           {
            "bin_start": 40.5,
            "bin_end": 45.55,
            "count": 4
           },
           {
            "bin_start": 45.55,
            "bin_end": 50.6,
            "count": 6
           }
          ]
         }
        },
        {
         "name": "GDP",
         "dtype": "float64",
         "stats": {
          "unique_count": 2485,
          "nan_count": 443,
          "min": "1.68135",
          "max": "119172.7418",
          "histogram": [
           {
            "bin_start": 1.68135,
            "bin_end": 11918.787395000001,
            "count": 2063
           },
           {
            "bin_start": 11918.787395000001,
            "bin_end": 23835.89344,
            "count": 175
           },
           {
            "bin_start": 23835.89344,
            "bin_end": 35752.999485,
            "count": 83
           },
           {
            "bin_start": 35752.999485,
            "bin_end": 47670.10553,
            "count": 80
           },
           {
            "bin_start": 47670.10553,
            "bin_end": 59587.211575,
            "count": 47
           },
           {
            "bin_start": 59587.211575,
            "bin_end": 71504.31762,
            "count": 18
           },
           {
            "bin_start": 71504.31762,
            "bin_end": 83421.42366500001,
            "count": 6
           },
           {
            "bin_start": 83421.42366500001,
            "bin_end": 95338.52971,
            "count": 9
           },
           {
            "bin_start": 95338.52971,
            "bin_end": 107255.635755,
            "count": 0
           },
           {
            "bin_start": 107255.635755,
            "bin_end": 119172.7418,
            "count": 4
           }
          ]
         }
        },
        {
         "name": "Population",
         "dtype": "float64",
         "stats": {
          "unique_count": 2277,
          "nan_count": 644,
          "min": "34.0",
          "max": "1293859294.0",
          "histogram": [
           {
            "bin_start": 34,
            "bin_end": 129385960,
            "count": 2242
           },
           {
            "bin_start": 129385960,
            "bin_end": 258771886,
            "count": 37
           },
           {
            "bin_start": 258771886,
            "bin_end": 388157812,
            "count": 0
           },
           {
            "bin_start": 388157812,
            "bin_end": 517543738,
            "count": 0
           },
           {
            "bin_start": 517543738,
            "bin_end": 646929664,
            "count": 0
           },
           {
            "bin_start": 646929664,
            "bin_end": 776315590,
            "count": 0
           },
           {
            "bin_start": 776315590,
            "bin_end": 905701516,
            "count": 0
           },
           {
            "bin_start": 905701516,
            "bin_end": 1035087442,
            "count": 0
           },
           {
            "bin_start": 1035087442,
            "bin_end": 1164473368,
            "count": 3
           },
           {
            "bin_start": 1164473368,
            "bin_end": 1293859294,
            "count": 2
           }
          ]
         }
        },
        {
         "name": "thinness  1-19 years",
         "dtype": "float64",
         "stats": {
          "unique_count": 200,
          "nan_count": 32,
          "min": "0.1",
          "max": "27.7",
          "histogram": [
           {
            "bin_start": 0.1,
            "bin_end": 2.86,
            "count": 1326
           },
           {
            "bin_start": 2.86,
            "bin_end": 5.619999999999999,
            "count": 515
           },
           {
            "bin_start": 5.619999999999999,
            "bin_end": 8.379999999999999,
            "count": 565
           },
           {
            "bin_start": 8.379999999999999,
            "bin_end": 11.139999999999999,
            "count": 238
           },
           {
            "bin_start": 11.139999999999999,
            "bin_end": 13.899999999999999,
            "count": 108
           },
           {
            "bin_start": 13.899999999999999,
            "bin_end": 16.66,
            "count": 71
           },
           {
            "bin_start": 16.66,
            "bin_end": 19.42,
            "count": 42
           },
           {
            "bin_start": 19.42,
            "bin_end": 22.18,
            "count": 14
           },
           {
            "bin_start": 22.18,
            "bin_end": 24.939999999999998,
            "count": 1
           },
           {
            "bin_start": 24.939999999999998,
            "bin_end": 27.7,
            "count": 16
           }
          ]
         }
        },
        {
         "name": "thinness 5-9 years",
         "dtype": "float64",
         "stats": {
          "unique_count": 207,
          "nan_count": 32,
          "min": "0.1",
          "max": "28.6",
          "histogram": [
           {
            "bin_start": 0.1,
            "bin_end": 2.95,
            "count": 1317
           },
           {
            "bin_start": 2.95,
            "bin_end": 5.8,
            "count": 542
           },
           {
            "bin_start": 5.8,
            "bin_end": 8.65,
            "count": 590
           },
           {
            "bin_start": 8.65,
            "bin_end": 11.5,
            "count": 215
           },
           {
            "bin_start": 11.5,
            "bin_end": 14.35,
            "count": 100
           },
           {
            "bin_start": 14.35,
            "bin_end": 17.200000000000003,
            "count": 58
           },
           {
            "bin_start": 17.200000000000003,
            "bin_end": 20.05,
            "count": 46
           },
           {
            "bin_start": 20.05,
            "bin_end": 22.900000000000002,
            "count": 12
           },
           {
            "bin_start": 22.900000000000002,
            "bin_end": 25.750000000000004,
            "count": 0
           },
           {
            "bin_start": 25.750000000000004,
            "bin_end": 28.6,
            "count": 16
           }
          ]
         }
        },
        {
         "name": "Income composition of resources",
         "dtype": "float64",
         "stats": {
          "unique_count": 625,
          "nan_count": 160,
          "min": "0.0",
          "max": "0.948",
          "histogram": [
           {
            "bin_start": 0,
            "bin_end": 0.0948,
            "count": 130
           },
           {
            "bin_start": 0.0948,
            "bin_end": 0.1896,
            "count": 0
           },
           {
            "bin_start": 0.1896,
            "bin_end": 0.2844,
            "count": 13
           },
           {
            "bin_start": 0.2844,
            "bin_end": 0.3792,
            "count": 118
           },
           {
            "bin_start": 0.3792,
            "bin_end": 0.474,
            "count": 338
           },
           {
            "bin_start": 0.474,
            "bin_end": 0.5688,
            "count": 302
           },
           {
            "bin_start": 0.5688,
            "bin_end": 0.6636,
            "count": 409
           },
           {
            "bin_start": 0.6636,
            "bin_end": 0.7584,
            "count": 654
           },
           {
            "bin_start": 0.7584,
            "bin_end": 0.8532,
            "count": 479
           },
           {
            "bin_start": 0.8532,
            "bin_end": 0.948,
            "count": 325
           }
          ]
         }
        },
        {
         "name": "Schooling",
         "dtype": "float64",
         "stats": {
          "unique_count": 173,
          "nan_count": 160,
          "min": "0.0",
          "max": "20.7",
          "histogram": [
           {
            "bin_start": 0,
            "bin_end": 2.07,
            "count": 26
           },
           {
            "bin_start": 2.07,
            "bin_end": 4.14,
            "count": 22
           },
           {
            "bin_start": 4.14,
            "bin_end": 6.209999999999999,
            "count": 109
           },
           {
            "bin_start": 6.209999999999999,
            "bin_end": 8.28,
            "count": 199
           },
           {
            "bin_start": 8.28,
            "bin_end": 10.35,
            "count": 402
           },
           {
            "bin_start": 10.35,
            "bin_end": 12.419999999999998,
            "count": 671
           },
           {
            "bin_start": 12.419999999999998,
            "bin_end": 14.489999999999998,
            "count": 702
           },
           {
            "bin_start": 14.489999999999998,
            "bin_end": 16.56,
            "count": 470
           },
           {
            "bin_start": 16.56,
            "bin_end": 18.63,
            "count": 131
           },
           {
            "bin_start": 18.63,
            "bin_end": 20.7,
            "count": 36
           }
          ]
         }
        },
        {
         "name": "_deepnote_index_column",
         "dtype": "int64"
        }
       ],
       "rows": [
        {
         "Country": "Afghanistan",
         "Year": 2015,
         "Status": "Developing",
         "Life expectancy": 65,
         "Adult Mortality": 263,
         "infant deaths": 62,
         "Alcohol": 0.01,
         "percentage expenditure": 71.27962362,
         "Hepatitis B": 65,
         "Measles": 1154,
         "BMI": 19.1,
         "under-five deaths": 83,
         "Polio": 6,
         "Total expenditure": 8.16,
         "Diphtheria": 65,
         "HIV/AIDS": 0.1,
         "GDP": 584.25921,
         "Population": 33736494,
         "thinness  1-19 years": 17.2,
         "thinness 5-9 years": 17.3,
         "Income composition of resources": 0.479,
         "Schooling": 10.1,
         "_deepnote_index_column": 0
        },
        {
         "Country": "Afghanistan",
         "Year": 2014,
         "Status": "Developing",
         "Life expectancy": 59.9,
         "Adult Mortality": 271,
         "infant deaths": 64,
         "Alcohol": 0.01,
         "percentage expenditure": 73.52358168,
         "Hepatitis B": 62,
         "Measles": 492,
         "BMI": 18.6,
         "under-five deaths": 86,
         "Polio": 58,
         "Total expenditure": 8.18,
         "Diphtheria": 62,
         "HIV/AIDS": 0.1,
         "GDP": 612.696514,
         "Population": 327582,
         "thinness  1-19 years": 17.5,
         "thinness 5-9 years": 17.5,
         "Income composition of resources": 0.476,
         "Schooling": 10,
         "_deepnote_index_column": 1
        },
        {
         "Country": "Afghanistan",
         "Year": 2013,
         "Status": "Developing",
         "Life expectancy": 59.9,
         "Adult Mortality": 268,
         "infant deaths": 66,
         "Alcohol": 0.01,
         "percentage expenditure": 73.21924272,
         "Hepatitis B": 64,
         "Measles": 430,
         "BMI": 18.1,
         "under-five deaths": 89,
         "Polio": 62,
         "Total expenditure": 8.13,
         "Diphtheria": 64,
         "HIV/AIDS": 0.1,
         "GDP": 631.744976,
         "Population": 31731688,
         "thinness  1-19 years": 17.7,
         "thinness 5-9 years": 17.7,
         "Income composition of resources": 0.47,
         "Schooling": 9.9,
         "_deepnote_index_column": 2
        },
        {
         "Country": "Afghanistan",
         "Year": 2012,
         "Status": "Developing",
         "Life expectancy": 59.5,
         "Adult Mortality": 272,
         "infant deaths": 69,
         "Alcohol": 0.01,
         "percentage expenditure": 78.1842153,
         "Hepatitis B": 67,
         "Measles": 2787,
         "BMI": 17.6,
         "under-five deaths": 93,
         "Polio": 67,
         "Total expenditure": 8.52,
         "Diphtheria": 67,
         "HIV/AIDS": 0.1,
         "GDP": 669.959,
         "Population": 3696958,
         "thinness  1-19 years": 17.9,
         "thinness 5-9 years": 18,
         "Income composition of resources": 0.463,
         "Schooling": 9.8,
         "_deepnote_index_column": 3
        },
        {
         "Country": "Afghanistan",
         "Year": 2011,
         "Status": "Developing",
         "Life expectancy": 59.2,
         "Adult Mortality": 275,
         "infant deaths": 71,
         "Alcohol": 0.01,
         "percentage expenditure": 7.097108703,
         "Hepatitis B": 68,
         "Measles": 3013,
         "BMI": 17.2,
         "under-five deaths": 97,
         "Polio": 68,
         "Total expenditure": 7.87,
         "Diphtheria": 68,
         "HIV/AIDS": 0.1,
         "GDP": 63.537231,
         "Population": 2978599,
         "thinness  1-19 years": 18.2,
         "thinness 5-9 years": 18.2,
         "Income composition of resources": 0.454,
         "Schooling": 9.5,
         "_deepnote_index_column": 4
        },
        {
         "Country": "Afghanistan",
         "Year": 2010,
         "Status": "Developing",
         "Life expectancy": 58.8,
         "Adult Mortality": 279,
         "infant deaths": 74,
         "Alcohol": 0.01,
         "percentage expenditure": 79.67936736,
         "Hepatitis B": 66,
         "Measles": 1989,
         "BMI": 16.7,
         "under-five deaths": 102,
         "Polio": 66,
         "Total expenditure": 9.2,
         "Diphtheria": 66,
         "HIV/AIDS": 0.1,
         "GDP": 553.32894,
         "Population": 2883167,
         "thinness  1-19 years": 18.4,
         "thinness 5-9 years": 18.4,
         "Income composition of resources": 0.448,
         "Schooling": 9.2,
         "_deepnote_index_column": 5
        },
        {
         "Country": "Afghanistan",
         "Year": 2009,
         "Status": "Developing",
         "Life expectancy": 58.6,
         "Adult Mortality": 281,
         "infant deaths": 77,
         "Alcohol": 0.01,
         "percentage expenditure": 56.76221682,
         "Hepatitis B": 63,
         "Measles": 2861,
         "BMI": 16.2,
         "under-five deaths": 106,
         "Polio": 63,
         "Total expenditure": 9.42,
         "Diphtheria": 63,
         "HIV/AIDS": 0.1,
         "GDP": 445.8932979,
         "Population": 284331,
         "thinness  1-19 years": 18.6,
         "thinness 5-9 years": 18.7,
         "Income composition of resources": 0.434,
         "Schooling": 8.9,
         "_deepnote_index_column": 6
        },
        {
         "Country": "Afghanistan",
         "Year": 2008,
         "Status": "Developing",
         "Life expectancy": 58.1,
         "Adult Mortality": 287,
         "infant deaths": 80,
         "Alcohol": 0.03,
         "percentage expenditure": 25.87392536,
         "Hepatitis B": 64,
         "Measles": 1599,
         "BMI": 15.7,
         "under-five deaths": 110,
         "Polio": 64,
         "Total expenditure": 8.33,
         "Diphtheria": 64,
         "HIV/AIDS": 0.1,
         "GDP": 373.3611163,
         "Population": 2729431,
         "thinness  1-19 years": 18.8,
         "thinness 5-9 years": 18.9,
         "Income composition of resources": 0.433,
         "Schooling": 8.7,
         "_deepnote_index_column": 7
        },
        {
         "Country": "Afghanistan",
         "Year": 2007,
         "Status": "Developing",
         "Life expectancy": 57.5,
         "Adult Mortality": 295,
         "infant deaths": 82,
         "Alcohol": 0.02,
         "percentage expenditure": 10.91015598,
         "Hepatitis B": 63,
         "Measles": 1141,
         "BMI": 15.2,
         "under-five deaths": 113,
         "Polio": 63,
         "Total expenditure": 6.73,
         "Diphtheria": 63,
         "HIV/AIDS": 0.1,
         "GDP": 369.835796,
         "Population": 26616792,
         "thinness  1-19 years": 19,
         "thinness 5-9 years": 19.1,
         "Income composition of resources": 0.415,
         "Schooling": 8.4,
         "_deepnote_index_column": 8
        },
        {
         "Country": "Afghanistan",
         "Year": 2006,
         "Status": "Developing",
         "Life expectancy": 57.3,
         "Adult Mortality": 295,
         "infant deaths": 84,
         "Alcohol": 0.03,
         "percentage expenditure": 17.17151751,
         "Hepatitis B": 64,
         "Measles": 1990,
         "BMI": 14.7,
         "under-five deaths": 116,
         "Polio": 58,
         "Total expenditure": 7.43,
         "Diphtheria": 58,
         "HIV/AIDS": 0.1,
         "GDP": 272.56377,
         "Population": 2589345,
         "thinness  1-19 years": 19.2,
         "thinness 5-9 years": 19.3,
         "Income composition of resources": 0.405,
         "Schooling": 8.1,
         "_deepnote_index_column": 9
        }
       ]
      },
      "text/plain": "          Country  Year      Status  Life expectancy  Adult Mortality  \\\n0     Afghanistan  2015  Developing             65.0            263.0   \n1     Afghanistan  2014  Developing             59.9            271.0   \n2     Afghanistan  2013  Developing             59.9            268.0   \n3     Afghanistan  2012  Developing             59.5            272.0   \n4     Afghanistan  2011  Developing             59.2            275.0   \n...           ...   ...         ...              ...              ...   \n2933     Zimbabwe  2004  Developing             44.3            723.0   \n2934     Zimbabwe  2003  Developing             44.5            715.0   \n2935     Zimbabwe  2002  Developing             44.8             73.0   \n2936     Zimbabwe  2001  Developing             45.3            686.0   \n2937     Zimbabwe  2000  Developing             46.0            665.0   \n\n      infant deaths  Alcohol  percentage expenditure  Hepatitis B  Measles  \\\n0                62     0.01               71.279624         65.0     1154   \n1                64     0.01               73.523582         62.0      492   \n2                66     0.01               73.219243         64.0      430   \n3                69     0.01               78.184215         67.0     2787   \n4                71     0.01                7.097109         68.0     3013   \n...             ...      ...                     ...          ...      ...   \n2933             27     4.36                0.000000         68.0       31   \n2934             26     4.06                0.000000          7.0      998   \n2935             25     4.43                0.000000         73.0      304   \n2936             25     1.72                0.000000         76.0      529   \n2937             24     1.68                0.000000         79.0     1483   \n\n      ...  Polio  Total expenditure  Diphtheria  HIV/AIDS         GDP  \\\n0     ...    6.0               8.16        65.0       0.1  584.259210   \n1     ...   58.0               8.18        62.0       0.1  612.696514   \n2     ...   62.0               8.13        64.0       0.1  631.744976   \n3     ...   67.0               8.52        67.0       0.1  669.959000   \n4     ...   68.0               7.87        68.0       0.1   63.537231   \n...   ...    ...                ...         ...       ...         ...   \n2933  ...   67.0               7.13        65.0      33.6  454.366654   \n2934  ...    7.0               6.52        68.0      36.7  453.351155   \n2935  ...   73.0               6.53        71.0      39.8   57.348340   \n2936  ...   76.0               6.16        75.0      42.1  548.587312   \n2937  ...   78.0               7.10        78.0      43.5  547.358878   \n\n      Population  thinness  1-19 years  thinness 5-9 years  \\\n0     33736494.0                  17.2                17.3   \n1       327582.0                  17.5                17.5   \n2     31731688.0                  17.7                17.7   \n3      3696958.0                  17.9                18.0   \n4      2978599.0                  18.2                18.2   \n...          ...                   ...                 ...   \n2933  12777511.0                   9.4                 9.4   \n2934  12633897.0                   9.8                 9.9   \n2935    125525.0                   1.2                 1.3   \n2936  12366165.0                   1.6                 1.7   \n2937  12222251.0                  11.0                11.2   \n\n      Income composition of resources  Schooling  \n0                               0.479       10.1  \n1                               0.476       10.0  \n2                               0.470        9.9  \n3                               0.463        9.8  \n4                               0.454        9.5  \n...                               ...        ...  \n2933                            0.407        9.2  \n2934                            0.418        9.5  \n2935                            0.427       10.0  \n2936                            0.427        9.8  \n2937                            0.434        9.8  \n\n[2928 rows x 22 columns]",
      "text/html": "<div>\n<style scoped>\n    .dataframe tbody tr th:only-of-type {\n        vertical-align: middle;\n    }\n\n    .dataframe tbody tr th {\n        vertical-align: top;\n    }\n\n    .dataframe thead th {\n        text-align: right;\n    }\n</style>\n<table border=\"1\" class=\"dataframe\">\n  <thead>\n    <tr style=\"text-align: right;\">\n      <th></th>\n      <th>Country</th>\n      <th>Year</th>\n      <th>Status</th>\n      <th>Life expectancy</th>\n      <th>Adult Mortality</th>\n      <th>infant deaths</th>\n      <th>Alcohol</th>\n      <th>percentage expenditure</th>\n      <th>Hepatitis B</th>\n      <th>Measles</th>\n      <th>...</th>\n      <th>Polio</th>\n      <th>Total expenditure</th>\n      <th>Diphtheria</th>\n      <th>HIV/AIDS</th>\n      <th>GDP</th>\n      <th>Population</th>\n      <th>thinness  1-19 years</th>\n      <th>thinness 5-9 years</th>\n      <th>Income composition of resources</th>\n      <th>Schooling</th>\n    </tr>\n  </thead>\n  <tbody>\n    <tr>\n      <th>0</th>\n      <td>Afghanistan</td>\n      <td>2015</td>\n      <td>Developing</td>\n      <td>65.0</td>\n      <td>263.0</td>\n      <td>62</td>\n      <td>0.01</td>\n      <td>71.279624</td>\n      <td>65.0</td>\n      <td>1154</td>\n      <td>...</td>\n      <td>6.0</td>\n      <td>8.16</td>\n      <td>65.0</td>\n      <td>0.1</td>\n      <td>584.259210</td>\n      <td>33736494.0</td>\n      <td>17.2</td>\n      <td>17.3</td>\n      <td>0.479</td>\n      <td>10.1</td>\n    </tr>\n    <tr>\n      <th>1</th>\n      <td>Afghanistan</td>\n      <td>2014</td>\n      <td>Developing</td>\n      <td>59.9</td>\n      <td>271.0</td>\n      <td>64</td>\n      <td>0.01</td>\n      <td>73.523582</td>\n      <td>62.0</td>\n      <td>492</td>\n      <td>...</td>\n      <td>58.0</td>\n      <td>8.18</td>\n      <td>62.0</td>\n      <td>0.1</td>\n      <td>612.696514</td>\n      <td>327582.0</td>\n      <td>17.5</td>\n      <td>17.5</td>\n      <td>0.476</td>\n      <td>10.0</td>\n    </tr>\n    <tr>\n      <th>2</th>\n      <td>Afghanistan</td>\n      <td>2013</td>\n      <td>Developing</td>\n      <td>59.9</td>\n      <td>268.0</td>\n      <td>66</td>\n      <td>0.01</td>\n      <td>73.219243</td>\n      <td>64.0</td>\n      <td>430</td>\n      <td>...</td>\n      <td>62.0</td>\n      <td>8.13</td>\n      <td>64.0</td>\n      <td>0.1</td>\n      <td>631.744976</td>\n      <td>31731688.0</td>\n      <td>17.7</td>\n      <td>17.7</td>\n      <td>0.470</td>\n      <td>9.9</td>\n    </tr>\n    <tr>\n      <th>3</th>\n      <td>Afghanistan</td>\n      <td>2012</td>\n      <td>Developing</td>\n      <td>59.5</td>\n      <td>272.0</td>\n      <td>69</td>\n      <td>0.01</td>\n      <td>78.184215</td>\n      <td>67.0</td>\n      <td>2787</td>\n      <td>...</td>\n      <td>67.0</td>\n      <td>8.52</td>\n      <td>67.0</td>\n      <td>0.1</td>\n      <td>669.959000</td>\n      <td>3696958.0</td>\n      <td>17.9</td>\n      <td>18.0</td>\n      <td>0.463</td>\n      <td>9.8</td>\n    </tr>\n    <tr>\n      <th>4</th>\n      <td>Afghanistan</td>\n      <td>2011</td>\n      <td>Developing</td>\n      <td>59.2</td>\n      <td>275.0</td>\n      <td>71</td>\n      <td>0.01</td>\n      <td>7.097109</td>\n      <td>68.0</td>\n      <td>3013</td>\n      <td>...</td>\n      <td>68.0</td>\n      <td>7.87</td>\n      <td>68.0</td>\n      <td>0.1</td>\n      <td>63.537231</td>\n      <td>2978599.0</td>\n      <td>18.2</td>\n      <td>18.2</td>\n      <td>0.454</td>\n      <td>9.5</td>\n    </tr>\n    <tr>\n      <th>...</th>\n      <td>...</td>\n      <td>...</td>\n      <td>...</td>\n      <td>...</td>\n      <td>...</td>\n      <td>...</td>\n      <td>...</td>\n      <td>...</td>\n      <td>...</td>\n      <td>...</td>\n      <td>...</td>\n      <td>...</td>\n      <td>...</td>\n      <td>...</td>\n      <td>...</td>\n      <td>...</td>\n      <td>...</td>\n      <td>...</td>\n      <td>...</td>\n      <td>...</td>\n      <td>...</td>\n    </tr>\n    <tr>\n      <th>2933</th>\n      <td>Zimbabwe</td>\n      <td>2004</td>\n      <td>Developing</td>\n      <td>44.3</td>\n      <td>723.0</td>\n      <td>27</td>\n      <td>4.36</td>\n      <td>0.000000</td>\n      <td>68.0</td>\n      <td>31</td>\n      <td>...</td>\n      <td>67.0</td>\n      <td>7.13</td>\n      <td>65.0</td>\n      <td>33.6</td>\n      <td>454.366654</td>\n      <td>12777511.0</td>\n      <td>9.4</td>\n      <td>9.4</td>\n      <td>0.407</td>\n      <td>9.2</td>\n    </tr>\n    <tr>\n      <th>2934</th>\n      <td>Zimbabwe</td>\n      <td>2003</td>\n      <td>Developing</td>\n      <td>44.5</td>\n      <td>715.0</td>\n      <td>26</td>\n      <td>4.06</td>\n      <td>0.000000</td>\n      <td>7.0</td>\n      <td>998</td>\n      <td>...</td>\n      <td>7.0</td>\n      <td>6.52</td>\n      <td>68.0</td>\n      <td>36.7</td>\n      <td>453.351155</td>\n      <td>12633897.0</td>\n      <td>9.8</td>\n      <td>9.9</td>\n      <td>0.418</td>\n      <td>9.5</td>\n    </tr>\n    <tr>\n      <th>2935</th>\n      <td>Zimbabwe</td>\n      <td>2002</td>\n      <td>Developing</td>\n      <td>44.8</td>\n      <td>73.0</td>\n      <td>25</td>\n      <td>4.43</td>\n      <td>0.000000</td>\n      <td>73.0</td>\n      <td>304</td>\n      <td>...</td>\n      <td>73.0</td>\n      <td>6.53</td>\n      <td>71.0</td>\n      <td>39.8</td>\n      <td>57.348340</td>\n      <td>125525.0</td>\n      <td>1.2</td>\n      <td>1.3</td>\n      <td>0.427</td>\n      <td>10.0</td>\n    </tr>\n    <tr>\n      <th>2936</th>\n      <td>Zimbabwe</td>\n      <td>2001</td>\n      <td>Developing</td>\n      <td>45.3</td>\n      <td>686.0</td>\n      <td>25</td>\n      <td>1.72</td>\n      <td>0.000000</td>\n      <td>76.0</td>\n      <td>529</td>\n      <td>...</td>\n      <td>76.0</td>\n      <td>6.16</td>\n      <td>75.0</td>\n      <td>42.1</td>\n      <td>548.587312</td>\n      <td>12366165.0</td>\n      <td>1.6</td>\n      <td>1.7</td>\n      <td>0.427</td>\n      <td>9.8</td>\n    </tr>\n    <tr>\n      <th>2937</th>\n      <td>Zimbabwe</td>\n      <td>2000</td>\n      <td>Developing</td>\n      <td>46.0</td>\n      <td>665.0</td>\n      <td>24</td>\n      <td>1.68</td>\n      <td>0.000000</td>\n      <td>79.0</td>\n      <td>1483</td>\n      <td>...</td>\n      <td>78.0</td>\n      <td>7.10</td>\n      <td>78.0</td>\n      <td>43.5</td>\n      <td>547.358878</td>\n      <td>12222251.0</td>\n      <td>11.0</td>\n      <td>11.2</td>\n      <td>0.434</td>\n      <td>9.8</td>\n    </tr>\n  </tbody>\n</table>\n<p>2928 rows × 22 columns</p>\n</div>"
     },
     "metadata": {}
    }
   ]
  },
  {
   "cell_type": "code",
   "metadata": {
    "tags": [],
    "cell_id": "00031-46d07dda-fc92-4070-ad34-6cdc6d6ac7cd",
    "deepnote_to_be_reexecuted": false,
    "source_hash": "2dfa5ca8",
    "execution_start": 1661363081136,
    "execution_millis": 13,
    "deepnote_cell_type": "code",
    "deepnote_cell_height": 76
   },
   "source": "hep_dict = make_dict_by_country('Hepatitis B', df)",
   "execution_count": 19,
   "outputs": []
  },
  {
   "cell_type": "code",
   "metadata": {
    "tags": [],
    "cell_id": "00030-26da8e86-4345-4f69-becb-00274f28a299",
    "deepnote_to_be_reexecuted": false,
    "source_hash": "94845a5e",
    "execution_start": 1661363081151,
    "execution_millis": 17,
    "deepnote_cell_type": "code",
    "deepnote_cell_height": 318.25
   },
   "source": "import math as mh\nfor item in hep_dict.items():\n    if (mh.isnan(item[1])):\n        print(item)",
   "execution_count": 20,
   "outputs": [
    {
     "name": "stdout",
     "text": "('Denmark', nan)\n('Finland', nan)\n('Hungary', nan)\n('Iceland', nan)\n('Japan', nan)\n('Norway', nan)\n('Slovenia', nan)\n('Switzerland', nan)\n('United Kingdom of Great Britain and Northern Ireland', nan)\n",
     "output_type": "stream"
    }
   ]
  },
  {
   "cell_type": "markdown",
   "source": "* Nahradím hodnoty 'Hepatitis B' v těchto zemích průměrem této proměnné v zemích, které jsou těmto zemím podobné (subjektivně - např. dle toho, jak si jsou teritoriálně, etnicky a kulturně blízko) a mají definované hodnoty pro Hep. B",
   "metadata": {
    "tags": [],
    "cell_id": "00032-143ae1c1-e6e4-44e8-99b1-7a609886069c",
    "deepnote_cell_type": "markdown",
    "deepnote_cell_height": 91.796875
   }
  },
  {
   "cell_type": "code",
   "source": "# hep_dict",
   "metadata": {
    "tags": [],
    "cell_id": "00033-5bc5c445-f351-4002-89aa-056bb4d05120",
    "deepnote_to_be_reexecuted": false,
    "source_hash": "d18bc553",
    "execution_start": 1661363081167,
    "execution_millis": 13,
    "is_output_hidden": true,
    "deepnote_cell_type": "code",
    "deepnote_cell_height": 106.796875
   },
   "execution_count": 21,
   "outputs": []
  },
  {
   "cell_type": "code",
   "metadata": {
    "tags": [],
    "cell_id": "00033-28d75242-16c8-47c4-8f90-768e37a84202",
    "deepnote_to_be_reexecuted": false,
    "source_hash": "2759b8a0",
    "execution_start": 1661363081186,
    "execution_millis": 15,
    "deepnote_cell_type": "code",
    "deepnote_cell_height": 220
   },
   "source": "hep_dict['Denmark']  = hep_dict['Sweden']\nhep_dict['Finland']  = hep_dict['Sweden']\nhep_dict['Hungary']  = hep_dict['Slovakia']\nhep_dict['Iceland']  = hep_dict['Sweden']\nhep_dict['Japan']    = hep_dict[\"Democratic People's Republic of Korea\"]\nhep_dict['Norway']   = hep_dict['Sweden']\nhep_dict['Slovenia'] = hep_dict['Serbia']\nhep_dict['Switzerland'] = (hep_dict['France'] + hep_dict['Austria'] + hep_dict['Germany'])/3.0\nhep_dict['United Kingdom of Great Britain and Northern Ireland'] = hep_dict['Ireland']",
   "execution_count": 22,
   "outputs": []
  },
  {
   "cell_type": "code",
   "metadata": {
    "tags": [],
    "cell_id": "00035-0e8bdb07-23c0-4c2b-a5cc-f5008a0a8e04",
    "deepnote_to_be_reexecuted": false,
    "source_hash": "a0cc83d5",
    "execution_start": 1661363081206,
    "execution_millis": 8,
    "deepnote_cell_type": "code",
    "deepnote_cell_height": 81
   },
   "source": "df.loc[df['Hepatitis B'].isnull(), 'Hepatitis B'] = df[df['Hepatitis B'].isnull()]['Country'].apply(lambda x: hep_dict[x])",
   "execution_count": 23,
   "outputs": []
  },
  {
   "cell_type": "markdown",
   "source": "* Nyní se kouknu na BMI.",
   "metadata": {
    "tags": [],
    "cell_id": "00036-4a0554b8-a684-4208-8bde-0093f921f11b",
    "deepnote_cell_type": "markdown",
    "deepnote_cell_height": 69.390625
   }
  },
  {
   "cell_type": "code",
   "metadata": {
    "tags": [],
    "cell_id": "00036-7d8f8b56-e4c5-4ea9-9d48-b6c7ecefa658",
    "deepnote_to_be_reexecuted": false,
    "source_hash": "f33b6a42",
    "execution_start": 1661363081262,
    "execution_millis": 98,
    "deepnote_table_state": {
     "pageSize": 10,
     "pageIndex": 0,
     "filters": [],
     "sortBy": [
      {
       "id": "BMI",
       "type": "asc"
      }
     ]
    },
    "deepnote_table_loading": false,
    "deepnote_cell_type": "code",
    "deepnote_cell_height": 642
   },
   "source": "df[df['Status'] == 'Developed']",
   "execution_count": 24,
   "outputs": [
    {
     "output_type": "execute_result",
     "execution_count": 24,
     "data": {
      "application/vnd.deepnote.dataframe.v3+json": {
       "column_count": 22,
       "row_count": 512,
       "columns": [
        {
         "name": "Country",
         "dtype": "object",
         "stats": {
          "unique_count": 32,
          "nan_count": 0,
          "categories": [
           {
            "name": "Singapore",
            "count": 16
           },
           {
            "name": "Portugal",
            "count": 16
           },
           {
            "name": "30 others",
            "count": 480
           }
          ]
         }
        },
        {
         "name": "Year",
         "dtype": "int64",
         "stats": {
          "unique_count": 16,
          "nan_count": 0,
          "min": "2000",
          "max": "2015",
          "histogram": [
           {
            "bin_start": 2000,
            "bin_end": 2001.5,
            "count": 64
           },
           {
            "bin_start": 2001.5,
            "bin_end": 2003,
            "count": 32
           },
           {
            "bin_start": 2003,
            "bin_end": 2004.5,
            "count": 64
           },
           {
            "bin_start": 2004.5,
            "bin_end": 2006,
            "count": 32
           },
           {
            "bin_start": 2006,
            "bin_end": 2007.5,
            "count": 64
           },
           {
            "bin_start": 2007.5,
            "bin_end": 2009,
            "count": 32
           },
           {
            "bin_start": 2009,
            "bin_end": 2010.5,
            "count": 64
           },
           {
            "bin_start": 2010.5,
            "bin_end": 2012,
            "count": 32
           },
           {
            "bin_start": 2012,
            "bin_end": 2013.5,
            "count": 64
           },
           {
            "bin_start": 2013.5,
            "bin_end": 2015,
            "count": 64
           }
          ]
         }
        },
        {
         "name": "Status",
         "dtype": "object",
         "stats": {
          "unique_count": 1,
          "nan_count": 0,
          "categories": [
           {
            "name": "Developed",
            "count": 512
           }
          ]
         }
        },
        {
         "name": "Life expectancy",
         "dtype": "float64",
         "stats": {
          "unique_count": 121,
          "nan_count": 0,
          "min": "69.9",
          "max": "89.0",
          "histogram": [
           {
            "bin_start": 69.9,
            "bin_end": 71.81,
            "count": 15
           },
           {
            "bin_start": 71.81,
            "bin_end": 73.72,
            "count": 39
           },
           {
            "bin_start": 73.72,
            "bin_end": 75.63000000000001,
            "count": 48
           },
           {
            "bin_start": 75.63000000000001,
            "bin_end": 77.54,
            "count": 54
           },
           {
            "bin_start": 77.54,
            "bin_end": 79.45,
            "count": 115
           },
           {
            "bin_start": 79.45,
            "bin_end": 81.36,
            "count": 87
           },
           {
            "bin_start": 81.36,
            "bin_end": 83.27,
            "count": 99
           },
           {
            "bin_start": 83.27,
            "bin_end": 85.18,
            "count": 20
           },
           {
            "bin_start": 85.18,
            "bin_end": 87.09,
            "count": 18
           },
           {
            "bin_start": 87.09,
            "bin_end": 89,
            "count": 17
           }
          ]
         }
        },
        {
         "name": "Adult Mortality",
         "dtype": "float64",
         "stats": {
          "unique_count": 133,
          "nan_count": 0,
          "min": "1.0",
          "max": "229.0",
          "histogram": [
           {
            "bin_start": 1,
            "bin_end": 23.8,
            "count": 86
           },
           {
            "bin_start": 23.8,
            "bin_end": 46.6,
            "count": 4
           },
           {
            "bin_start": 46.6,
            "bin_end": 69.4,
            "count": 141
           },
           {
            "bin_start": 69.4,
            "bin_end": 92.2,
            "count": 143
           },
           {
            "bin_start": 92.2,
            "bin_end": 115,
            "count": 33
           },
           {
            "bin_start": 115,
            "bin_end": 137.8,
            "count": 30
           },
           {
            "bin_start": 137.8,
            "bin_end": 160.6,
            "count": 38
           },
           {
            "bin_start": 160.6,
            "bin_end": 183.4,
            "count": 20
           },
           {
            "bin_start": 183.4,
            "bin_end": 206.20000000000002,
            "count": 8
           },
           {
            "bin_start": 206.20000000000002,
            "bin_end": 229,
            "count": 9
           }
          ]
         }
        },
        {
         "name": "infant deaths",
         "dtype": "int64",
         "stats": {
          "unique_count": 11,
          "nan_count": 0,
          "min": "0",
          "max": "28",
          "histogram": [
           {
            "bin_start": 0,
            "bin_end": 2.8,
            "count": 447
           },
           {
            "bin_start": 2.8,
            "bin_end": 5.6,
            "count": 49
           },
           {
            "bin_start": 5.6,
            "bin_end": 8.399999999999999,
            "count": 0
           },
           {
            "bin_start": 8.399999999999999,
            "bin_end": 11.2,
            "count": 0
           },
           {
            "bin_start": 11.2,
            "bin_end": 14,
            "count": 0
           },
           {
            "bin_start": 14,
            "bin_end": 16.799999999999997,
            "count": 0
           },
           {
            "bin_start": 16.799999999999997,
            "bin_end": 19.599999999999998,
            "count": 0
           },
           {
            "bin_start": 19.599999999999998,
            "bin_end": 22.4,
            "count": 0
           },
           {
            "bin_start": 22.4,
            "bin_end": 25.2,
            "count": 6
           },
           {
            "bin_start": 25.2,
            "bin_end": 28,
            "count": 10
           }
          ]
         }
        },
        {
         "name": "Alcohol",
         "dtype": "float64",
         "stats": {
          "unique_count": 385,
          "nan_count": 0,
          "min": "0.01",
          "max": "15.19",
          "histogram": [
           {
            "bin_start": 0.01,
            "bin_end": 1.528,
            "count": 10
           },
           {
            "bin_start": 1.528,
            "bin_end": 3.046,
            "count": 13
           },
           {
            "bin_start": 3.046,
            "bin_end": 4.564,
            "count": 0
           },
           {
            "bin_start": 4.564,
            "bin_end": 6.082,
            "count": 9
           },
           {
            "bin_start": 6.082,
            "bin_end": 7.6,
            "count": 63
           },
           {
            "bin_start": 7.6,
            "bin_end": 9.118,
            "count": 60
           },
           {
            "bin_start": 9.118,
            "bin_end": 10.636,
            "count": 130
           },
           {
            "bin_start": 10.636,
            "bin_end": 12.154,
            "count": 139
           },
           {
            "bin_start": 12.154,
            "bin_end": 13.672,
            "count": 80
           },
           {
            "bin_start": 13.672,
            "bin_end": 15.19,
            "count": 8
           }
          ]
         }
        },
        {
         "name": "percentage expenditure",
         "dtype": "float64",
         "stats": {
          "unique_count": 421,
          "nan_count": 0,
          "min": "0.0",
          "max": "19479.91161",
          "histogram": [
           {
            "bin_start": 0,
            "bin_end": 1947.991161,
            "count": 323
           },
           {
            "bin_start": 1947.991161,
            "bin_end": 3895.982322,
            "count": 58
           },
           {
            "bin_start": 3895.982322,
            "bin_end": 5843.973483,
            "count": 36
           },
           {
            "bin_start": 5843.973483,
            "bin_end": 7791.964644,
            "count": 37
           },
           {
            "bin_start": 7791.964644,
            "bin_end": 9739.955805,
            "count": 23
           },
           {
            "bin_start": 9739.955805,
            "bin_end": 11687.946966,
            "count": 16
           },
           {
            "bin_start": 11687.946966,
            "bin_end": 13635.938127,
            "count": 7
           },
           {
            "bin_start": 13635.938127,
            "bin_end": 15583.929288,
            "count": 5
           },
           {
            "bin_start": 15583.929288,
            "bin_end": 17531.920448999997,
            "count": 2
           },
           {
            "bin_start": 17531.920448999997,
            "bin_end": 19479.91161,
            "count": 5
           }
          ]
         }
        },
        {
         "name": "Hepatitis B",
         "dtype": "float64",
         "stats": {
          "unique_count": 44,
          "nan_count": 0,
          "min": "2.0",
          "max": "99.0",
          "histogram": [
           {
            "bin_start": 2,
            "bin_end": 11.7,
            "count": 17
           },
           {
            "bin_start": 11.7,
            "bin_end": 21.4,
            "count": 0
           },
           {
            "bin_start": 21.4,
            "bin_end": 31.099999999999998,
            "count": 0
           },
           {
            "bin_start": 31.099999999999998,
            "bin_end": 40.8,
            "count": 1
           },
           {
            "bin_start": 40.8,
            "bin_end": 50.5,
            "count": 14
           },
           {
            "bin_start": 50.5,
            "bin_end": 60.199999999999996,
            "count": 62
           },
           {
            "bin_start": 60.199999999999996,
            "bin_end": 69.89999999999999,
            "count": 5
           },
           {
            "bin_start": 69.89999999999999,
            "bin_end": 79.6,
            "count": 20
           },
           {
            "bin_start": 79.6,
            "bin_end": 89.3,
            "count": 100
           },
           {
            "bin_start": 89.3,
            "bin_end": 99,
            "count": 293
           }
          ]
         }
        },
        {
         "name": "Measles",
         "dtype": "int64",
         "stats": {
          "unique_count": 193,
          "nan_count": 0,
          "min": "0",
          "max": "33812",
          "histogram": [
           {
            "bin_start": 0,
            "bin_end": 3381.2,
            "count": 496
           },
           {
            "bin_start": 3381.2,
            "bin_end": 6762.4,
            "count": 6
           },
           {
            "bin_start": 6762.4,
            "bin_end": 10143.599999999999,
            "count": 4
           },
           {
            "bin_start": 10143.599999999999,
            "bin_end": 13524.8,
            "count": 2
           },
           {
            "bin_start": 13524.8,
            "bin_end": 16906,
            "count": 0
           },
           {
            "bin_start": 16906,
            "bin_end": 20287.199999999997,
            "count": 0
           },
           {
            "bin_start": 20287.199999999997,
            "bin_end": 23668.399999999998,
            "count": 3
           },
           {
            "bin_start": 23668.399999999998,
            "bin_end": 27049.6,
            "count": 0
           },
           {
            "bin_start": 27049.6,
            "bin_end": 30430.8,
            "count": 0
           },
           {
            "bin_start": 30430.8,
            "bin_end": 33812,
            "count": 1
           }
          ]
         }
        },
        {
         "name": "BMI",
         "dtype": "float64",
         "stats": {
          "unique_count": 194,
          "nan_count": 0,
          "min": "3.2",
          "max": "69.6",
          "histogram": [
           {
            "bin_start": 3.2,
            "bin_end": 9.84,
            "count": 51
           },
           {
            "bin_start": 9.84,
            "bin_end": 16.479999999999997,
            "count": 0
           },
           {
            "bin_start": 16.479999999999997,
            "bin_end": 23.119999999999994,
            "count": 3
           },
           {
            "bin_start": 23.119999999999994,
            "bin_end": 29.759999999999994,
            "count": 17
           },
           {
            "bin_start": 29.759999999999994,
            "bin_end": 36.4,
            "count": 9
           },
           {
            "bin_start": 36.4,
            "bin_end": 43.03999999999999,
            "count": 0
           },
           {
            "bin_start": 43.03999999999999,
            "bin_end": 49.67999999999999,
            "count": 0
           },
           {
            "bin_start": 49.67999999999999,
            "bin_end": 56.31999999999999,
            "count": 130
           },
           {
            "bin_start": 56.31999999999999,
            "bin_end": 62.959999999999994,
            "count": 224
           },
           {
            "bin_start": 62.959999999999994,
            "bin_end": 69.6,
            "count": 78
           }
          ]
         }
        },
        {
         "name": "under-five deaths",
         "dtype": "int64",
         "stats": {
          "unique_count": 14,
          "nan_count": 0,
          "min": "0",
          "max": "33",
          "histogram": [
           {
            "bin_start": 0,
            "bin_end": 3.3,
            "count": 456
           },
           {
            "bin_start": 3.3,
            "bin_end": 6.6,
            "count": 40
           },
           {
            "bin_start": 6.6,
            "bin_end": 9.899999999999999,
            "count": 0
           },
           {
            "bin_start": 9.899999999999999,
            "bin_end": 13.2,
            "count": 0
           },
           {
            "bin_start": 13.2,
            "bin_end": 16.5,
            "count": 0
           },
           {
            "bin_start": 16.5,
            "bin_end": 19.799999999999997,
            "count": 0
           },
           {
            "bin_start": 19.799999999999997,
            "bin_end": 23.099999999999998,
            "count": 0
           },
           {
            "bin_start": 23.099999999999998,
            "bin_end": 26.4,
            "count": 1
           },
           {
            "bin_start": 26.4,
            "bin_end": 29.7,
            "count": 4
           },
           {
            "bin_start": 29.7,
            "bin_end": 33,
            "count": 11
           }
          ]
         }
        },
        {
         "name": "Polio",
         "dtype": "float64",
         "stats": {
          "unique_count": 23,
          "nan_count": 0,
          "min": "9.0",
          "max": "99.0",
          "histogram": [
           {
            "bin_start": 9,
            "bin_end": 18,
            "count": 7
           },
           {
            "bin_start": 18,
            "bin_end": 27,
            "count": 0
           },
           {
            "bin_start": 27,
            "bin_end": 36,
            "count": 0
           },
           {
            "bin_start": 36,
            "bin_end": 45,
            "count": 0
           },
           {
            "bin_start": 45,
            "bin_end": 54,
            "count": 0
           },
           {
            "bin_start": 54,
            "bin_end": 63,
            "count": 0
           },
           {
            "bin_start": 63,
            "bin_end": 72,
            "count": 1
           },
           {
            "bin_start": 72,
            "bin_end": 81,
            "count": 4
           },
           {
            "bin_start": 81,
            "bin_end": 90,
            "count": 38
           },
           {
            "bin_start": 90,
            "bin_end": 99,
            "count": 462
           }
          ]
         }
        },
        {
         "name": "Total expenditure",
         "dtype": "float64",
         "stats": {
          "unique_count": 336,
          "nan_count": 32,
          "min": "1.1",
          "max": "17.6",
          "histogram": [
           {
            "bin_start": 1.1,
            "bin_end": 2.75,
            "count": 54
           },
           {
            "bin_start": 2.75,
            "bin_end": 4.4,
            "count": 13
           },
           {
            "bin_start": 4.4,
            "bin_end": 6.049999999999999,
            "count": 29
           },
           {
            "bin_start": 6.049999999999999,
            "bin_end": 7.699999999999999,
            "count": 123
           },
           {
            "bin_start": 7.699999999999999,
            "bin_end": 9.35,
            "count": 160
           },
           {
            "bin_start": 9.35,
            "bin_end": 10.999999999999998,
            "count": 56
           },
           {
            "bin_start": 10.999999999999998,
            "bin_end": 12.649999999999999,
            "count": 30
           },
           {
            "bin_start": 12.649999999999999,
            "bin_end": 14.299999999999999,
            "count": 2
           },
           {
            "bin_start": 14.299999999999999,
            "bin_end": 15.95,
            "count": 6
           },
           {
            "bin_start": 15.95,
            "bin_end": 17.6,
            "count": 7
           }
          ]
         }
        },
        {
         "name": "Diphtheria",
         "dtype": "float64",
         "stats": {
          "unique_count": 22,
          "nan_count": 0,
          "min": "9.0",
          "max": "99.0",
          "histogram": [
           {
            "bin_start": 9,
            "bin_end": 18,
            "count": 10
           },
           {
            "bin_start": 18,
            "bin_end": 27,
            "count": 0
           },
           {
            "bin_start": 27,
            "bin_end": 36,
            "count": 0
           },
           {
            "bin_start": 36,
            "bin_end": 45,
            "count": 0
           },
           {
            "bin_start": 45,
            "bin_end": 54,
            "count": 0
           },
           {
            "bin_start": 54,
            "bin_end": 63,
            "count": 0
           },
           {
            "bin_start": 63,
            "bin_end": 72,
            "count": 0
           },
           {
            "bin_start": 72,
            "bin_end": 81,
            "count": 4
           },
           {
            "bin_start": 81,
            "bin_end": 90,
            "count": 33
           },
           {
            "bin_start": 90,
            "bin_end": 99,
            "count": 465
           }
          ]
         }
        },
        {
         "name": "HIV/AIDS",
         "dtype": "float64",
         "stats": {
          "unique_count": 1,
          "nan_count": 0,
          "min": "0.1",
          "max": "0.1",
          "histogram": [
           {
            "bin_start": -0.4,
            "bin_end": -0.30000000000000004,
            "count": 0
           },
           {
            "bin_start": -0.30000000000000004,
            "bin_end": -0.2,
            "count": 0
           },
           {
            "bin_start": -0.2,
            "bin_end": -0.09999999999999998,
            "count": 0
           },
           {
            "bin_start": -0.09999999999999998,
            "bin_end": 0,
            "count": 0
           },
           {
            "bin_start": 0,
            "bin_end": 0.09999999999999998,
            "count": 0
           },
           {
            "bin_start": 0.09999999999999998,
            "bin_end": 0.20000000000000007,
            "count": 512
           },
           {
            "bin_start": 0.20000000000000007,
            "bin_end": 0.30000000000000004,
            "count": 0
           },
           {
            "bin_start": 0.30000000000000004,
            "bin_end": 0.4,
            "count": 0
           },
           {
            "bin_start": 0.4,
            "bin_end": 0.5,
            "count": 0
           },
           {
            "bin_start": 0.5,
            "bin_end": 0.6,
            "count": 0
           }
          ]
         }
        },
        {
         "name": "GDP",
         "dtype": "float64",
         "stats": {
          "unique_count": 448,
          "nan_count": 64,
          "min": "12.27733",
          "max": "119172.7418",
          "histogram": [
           {
            "bin_start": 12.27733,
            "bin_end": 11928.323777000001,
            "count": 210
           },
           {
            "bin_start": 11928.323777000001,
            "bin_end": 23844.370224000002,
            "count": 72
           },
           {
            "bin_start": 23844.370224000002,
            "bin_end": 35760.416671,
            "count": 50
           },
           {
            "bin_start": 35760.416671,
            "bin_end": 47676.463118,
            "count": 48
           },
           {
            "bin_start": 47676.463118,
            "bin_end": 59592.509565,
            "count": 37
           },
           {
            "bin_start": 59592.509565,
            "bin_end": 71508.556012,
            "count": 16
           },
           {
            "bin_start": 71508.556012,
            "bin_end": 83424.602459,
            "count": 5
           },
           {
            "bin_start": 83424.602459,
            "bin_end": 95340.648906,
            "count": 6
           },
           {
            "bin_start": 95340.648906,
            "bin_end": 107256.695353,
            "count": 0
           },
           {
            "bin_start": 107256.695353,
            "bin_end": 119172.7418,
            "count": 4
           }
          ]
         }
        },
        {
         "name": "Population",
         "dtype": "float64",
         "stats": {
          "unique_count": 412,
          "nan_count": 96,
          "min": "123.0",
          "max": "82534176.0",
          "histogram": [
           {
            "bin_start": 123,
            "bin_end": 8253528.3,
            "count": 343
           },
           {
            "bin_start": 8253528.3,
            "bin_end": 16506933.6,
            "count": 32
           },
           {
            "bin_start": 16506933.6,
            "bin_end": 24760338.9,
            "count": 12
           },
           {
            "bin_start": 24760338.9,
            "bin_end": 33013744.2,
            "count": 0
           },
           {
            "bin_start": 33013744.2,
            "bin_end": 41267149.5,
            "count": 6
           },
           {
            "bin_start": 41267149.5,
            "bin_end": 49520554.8,
            "count": 9
           },
           {
            "bin_start": 49520554.8,
            "bin_end": 57773960.1,
            "count": 1
           },
           {
            "bin_start": 57773960.1,
            "bin_end": 66027365.4,
            "count": 6
           },
           {
            "bin_start": 66027365.4,
            "bin_end": 74280770.7,
            "count": 0
           },
           {
            "bin_start": 74280770.7,
            "bin_end": 82534176,
            "count": 7
           }
          ]
         }
        },
        {
         "name": "thinness  1-19 years",
         "dtype": "float64",
         "stats": {
          "unique_count": 36,
          "nan_count": 0,
          "min": "0.3",
          "max": "4.0",
          "histogram": [
           {
            "bin_start": 0.3,
            "bin_end": 0.6699999999999999,
            "count": 83
           },
           {
            "bin_start": 0.6699999999999999,
            "bin_end": 1.04,
            "count": 169
           },
           {
            "bin_start": 1.04,
            "bin_end": 1.41,
            "count": 65
           },
           {
            "bin_start": 1.41,
            "bin_end": 1.78,
            "count": 43
           },
           {
            "bin_start": 1.78,
            "bin_end": 2.15,
            "count": 75
           },
           {
            "bin_start": 2.15,
            "bin_end": 2.5199999999999996,
            "count": 42
           },
           {
            "bin_start": 2.5199999999999996,
            "bin_end": 2.8899999999999997,
            "count": 14
           },
           {
            "bin_start": 2.8899999999999997,
            "bin_end": 3.26,
            "count": 12
           },
           {
            "bin_start": 3.26,
            "bin_end": 3.63,
            "count": 6
           },
           {
            "bin_start": 3.63,
            "bin_end": 4,
            "count": 3
           }
          ]
         }
        },
        {
         "name": "thinness 5-9 years",
         "dtype": "float64",
         "stats": {
          "unique_count": 42,
          "nan_count": 0,
          "min": "0.2",
          "max": "4.3",
          "histogram": [
           {
            "bin_start": 0.2,
            "bin_end": 0.61,
            "count": 139
           },
           {
            "bin_start": 0.61,
            "bin_end": 1.02,
            "count": 131
           },
           {
            "bin_start": 1.02,
            "bin_end": 1.43,
            "count": 52
           },
           {
            "bin_start": 1.43,
            "bin_end": 1.8399999999999999,
            "count": 43
           },
           {
            "bin_start": 1.8399999999999999,
            "bin_end": 2.25,
            "count": 82
           },
           {
            "bin_start": 2.25,
            "bin_end": 2.66,
            "count": 29
           },
           {
            "bin_start": 2.66,
            "bin_end": 3.07,
            "count": 18
           },
           {
            "bin_start": 3.07,
            "bin_end": 3.48,
            "count": 9
           },
           {
            "bin_start": 3.48,
            "bin_end": 3.89,
            "count": 4
           },
           {
            "bin_start": 3.89,
            "bin_end": 4.3,
            "count": 5
           }
          ]
         }
        },
        {
         "name": "Income composition of resources",
         "dtype": "float64",
         "stats": {
          "unique_count": 184,
          "nan_count": 48,
          "min": "0.703",
          "max": "0.948",
          "histogram": [
           {
            "bin_start": 0.703,
            "bin_end": 0.7274999999999999,
            "count": 8
           },
           {
            "bin_start": 0.7274999999999999,
            "bin_end": 0.752,
            "count": 11
           },
           {
            "bin_start": 0.752,
            "bin_end": 0.7765,
            "count": 22
           },
           {
            "bin_start": 0.7765,
            "bin_end": 0.8009999999999999,
            "count": 46
           },
           {
            "bin_start": 0.8009999999999999,
            "bin_end": 0.8254999999999999,
            "count": 64
           },
           {
            "bin_start": 0.8254999999999999,
            "bin_end": 0.85,
            "count": 50
           },
           {
            "bin_start": 0.85,
            "bin_end": 0.8744999999999999,
            "count": 70
           },
           {
            "bin_start": 0.8744999999999999,
            "bin_end": 0.899,
            "count": 94
           },
           {
            "bin_start": 0.899,
            "bin_end": 0.9235,
            "count": 71
           },
           {
            "bin_start": 0.9235,
            "bin_end": 0.948,
            "count": 28
           }
          ]
         }
        },
        {
         "name": "Schooling",
         "dtype": "float64",
         "stats": {
          "unique_count": 80,
          "nan_count": 48,
          "min": "11.5",
          "max": "20.7",
          "histogram": [
           {
            "bin_start": 11.5,
            "bin_end": 12.42,
            "count": 6
           },
           {
            "bin_start": 12.42,
            "bin_end": 13.34,
            "count": 22
           },
           {
            "bin_start": 13.34,
            "bin_end": 14.26,
            "count": 58
           },
           {
            "bin_start": 14.26,
            "bin_end": 15.18,
            "count": 75
           },
           {
            "bin_start": 15.18,
            "bin_end": 16.1,
            "count": 111
           },
           {
            "bin_start": 16.1,
            "bin_end": 17.02,
            "count": 96
           },
           {
            "bin_start": 17.02,
            "bin_end": 17.939999999999998,
            "count": 37
           },
           {
            "bin_start": 17.939999999999998,
            "bin_end": 18.86,
            "count": 27
           },
           {
            "bin_start": 18.86,
            "bin_end": 19.78,
            "count": 19
           },
           {
            "bin_start": 19.78,
            "bin_end": 20.7,
            "count": 13
           }
          ]
         }
        },
        {
         "name": "_deepnote_index_column",
         "dtype": "int64"
        }
       ],
       "rows": [
        {
         "Country": "Singapore",
         "Year": 2005,
         "Status": "Developed",
         "Life expectancy": 82,
         "Adult Mortality": 69,
         "infant deaths": 0,
         "Alcohol": 1.49,
         "percentage expenditure": 2356.731479,
         "Hepatitis B": 96,
         "Measles": 33,
         "BMI": 3.2,
         "under-five deaths": 0,
         "Polio": 96,
         "Total expenditure": 3.74,
         "Diphtheria": 96,
         "HIV/AIDS": 0.1,
         "GDP": 29869.85398,
         "Population": "nan",
         "thinness  1-19 years": 2.1,
         "thinness 5-9 years": 2,
         "Income composition of resources": 0.821,
         "Schooling": 12.6,
         "_deepnote_index_column": 2323
        },
        {
         "Country": "Singapore",
         "Year": 2006,
         "Status": "Developed",
         "Life expectancy": 87,
         "Adult Mortality": 66,
         "infant deaths": 0,
         "Alcohol": 1.55,
         "percentage expenditure": 2639.376955,
         "Hepatitis B": 95,
         "Measles": 23,
         "BMI": 3.5,
         "under-five deaths": 0,
         "Polio": 95,
         "Total expenditure": 3.66,
         "Diphtheria": 95,
         "HIV/AIDS": 0.1,
         "GDP": 33579.85948,
         "Population": "nan",
         "thinness  1-19 years": 2.1,
         "thinness 5-9 years": 2,
         "Income composition of resources": 0.839,
         "Schooling": 13.9,
         "_deepnote_index_column": 2322
        },
        {
         "Country": "Singapore",
         "Year": 2007,
         "Status": "Developed",
         "Life expectancy": 81.1,
         "Adult Mortality": 65,
         "infant deaths": 0,
         "Alcohol": 1.6,
         "percentage expenditure": 3082.973535,
         "Hepatitis B": 96,
         "Measles": 15,
         "BMI": 3.9,
         "under-five deaths": 0,
         "Polio": 97,
         "Total expenditure": 3.46,
         "Diphtheria": 97,
         "HIV/AIDS": 0.1,
         "GDP": 39223.58187,
         "Population": "nan",
         "thinness  1-19 years": 2.1,
         "thinness 5-9 years": 2,
         "Income composition of resources": 0.873,
         "Schooling": 14.1,
         "_deepnote_index_column": 2321
        },
        {
         "Country": "Portugal",
         "Year": 2000,
         "Status": "Developed",
         "Life expectancy": 76.6,
         "Adult Mortality": 11,
         "infant deaths": 1,
         "Alcohol": 11.89,
         "percentage expenditure": 167.3280168,
         "Hepatitis B": 58,
         "Measles": 45,
         "BMI": 5.1,
         "under-five deaths": 1,
         "Polio": 96,
         "Total expenditure": 9.14,
         "Diphtheria": 96,
         "HIV/AIDS": 0.1,
         "GDP": 1152.39681,
         "Population": 1289898,
         "thinness  1-19 years": 0.8,
         "thinness 5-9 years": 0.6,
         "Income composition of resources": 0.777,
         "Schooling": 15.5,
         "_deepnote_index_column": 2070
        },
        {
         "Country": "Austria",
         "Year": 2000,
         "Status": "Developed",
         "Life expectancy": 78.1,
         "Adult Mortality": 96,
         "infant deaths": 0,
         "Alcohol": 13.2,
         "percentage expenditure": 3557.455507,
         "Hepatitis B": 33,
         "Measles": 0,
         "BMI": 5.1,
         "under-five deaths": 0,
         "Polio": 71,
         "Total expenditure": 1.6,
         "Diphtheria": 81,
         "HIV/AIDS": 0.1,
         "GDP": 24517.26745,
         "Population": 811566,
         "thinness  1-19 years": 1.7,
         "thinness 5-9 years": 1.9,
         "Income composition of resources": 0.833,
         "Schooling": 15.4,
         "_deepnote_index_column": 143
        },
        {
         "Country": "Austria",
         "Year": 2001,
         "Status": "Developed",
         "Life expectancy": 78.6,
         "Adult Mortality": 92,
         "infant deaths": 0,
         "Alcohol": 12.4,
         "percentage expenditure": 3582.848308,
         "Hepatitis B": 44,
         "Measles": 0,
         "BMI": 5.6,
         "under-five deaths": 0,
         "Polio": 83,
         "Total expenditure": 1.12,
         "Diphtheria": 84,
         "HIV/AIDS": 0.1,
         "GDP": 24489.73553,
         "Population": 842293,
         "thinness  1-19 years": 1.7,
         "thinness 5-9 years": 1.9,
         "Income composition of resources": 0.837,
         "Schooling": 15.5,
         "_deepnote_index_column": 142
        },
        {
         "Country": "Slovakia",
         "Year": 2000,
         "Status": "Developed",
         "Life expectancy": 73,
         "Adult Mortality": 147,
         "infant deaths": 0,
         "Alcohol": 11.06,
         "percentage expenditure": 0,
         "Hepatitis B": 98,
         "Measles": 0,
         "BMI": 5.7,
         "under-five deaths": 1,
         "Polio": 98,
         "Total expenditure": 5.5,
         "Diphtheria": 99,
         "HIV/AIDS": 0.1,
         "GDP": "nan",
         "Population": "nan",
         "thinness  1-19 years": 1.6,
         "thinness 5-9 years": 1.7,
         "Income composition of resources": 0.761,
         "Schooling": 13,
         "_deepnote_index_column": 2344
        },
        {
         "Country": "Switzerland",
         "Year": 2000,
         "Status": "Developed",
         "Life expectancy": 79.7,
         "Adult Mortality": 78,
         "infant deaths": 0,
         "Alcohol": 11.26,
         "percentage expenditure": 5834.582046,
         "Hepatitis B": 69.91666666666667,
         "Measles": 0,
         "BMI": 5.8,
         "under-five deaths": 0,
         "Polio": 95,
         "Total expenditure": 9.91,
         "Diphtheria": 93,
         "HIV/AIDS": 0.1,
         "GDP": 37813.23426,
         "Population": 718425,
         "thinness  1-19 years": 0.7,
         "thinness 5-9 years": 0.5,
         "Income composition of resources": 0.879,
         "Schooling": 15.1,
         "_deepnote_index_column": 2536
        },
        {
         "Country": "Portugal",
         "Year": 2001,
         "Status": "Developed",
         "Life expectancy": 76.9,
         "Adult Mortality": 11,
         "infant deaths": 1,
         "Alcohol": 12.22,
         "percentage expenditure": 1657.328352,
         "Hepatitis B": 7,
         "Measles": 0,
         "BMI": 5.9,
         "under-five deaths": 1,
         "Polio": 96,
         "Total expenditure": 9.1,
         "Diphtheria": 97,
         "HIV/AIDS": 0.1,
         "GDP": 11729.14616,
         "Population": 1362722,
         "thinness  1-19 years": 0.8,
         "thinness 5-9 years": 0.6,
         "Income composition of resources": 0.782,
         "Schooling": 15.7,
         "_deepnote_index_column": 2069
        },
        {
         "Country": "Croatia",
         "Year": 2009,
         "Status": "Developed",
         "Life expectancy": 76.3,
         "Adult Mortality": 19,
         "infant deaths": 0,
         "Alcohol": 12.21,
         "percentage expenditure": 2160.380199,
         "Hepatitis B": 97,
         "Measles": 2,
         "BMI": 6,
         "under-five deaths": 0,
         "Polio": 96,
         "Total expenditure": 8.18,
         "Diphtheria": 96,
         "HIV/AIDS": 0.1,
         "GDP": 14157.14416,
         "Population": 442978,
         "thinness  1-19 years": 1.7,
         "thinness 5-9 years": 1.6,
         "Income composition of resources": 0.803,
         "Schooling": 14.2,
         "_deepnote_index_column": 647
        }
       ]
      },
      "text/plain": "                       Country  Year     Status  Life expectancy  \\\n112                  Australia  2015  Developed             82.8   \n113                  Australia  2014  Developed             82.7   \n114                  Australia  2013  Developed             82.5   \n115                  Australia  2012  Developed             82.3   \n116                  Australia  2011  Developed             82.0   \n...                        ...   ...        ...              ...   \n2805  United States of America  2004  Developed             77.5   \n2806  United States of America  2003  Developed             77.2   \n2807  United States of America  2002  Developed             77.0   \n2808  United States of America  2001  Developed             76.9   \n2809  United States of America  2000  Developed             76.8   \n\n      Adult Mortality  infant deaths    Alcohol  percentage expenditure  \\\n112              59.0              1  10.155333                 0.00000   \n113               6.0              1   9.710000             10769.36305   \n114              61.0              1   9.870000             11734.85381   \n115              61.0              1  10.030000             11714.99858   \n116              63.0              1  10.300000             10986.26527   \n...               ...            ...        ...                     ...   \n2805            111.0             28   8.480000                 0.00000   \n2806            114.0             28   8.400000                 0.00000   \n2807            115.0             28   8.330000                 0.00000   \n2808            115.0             28   8.250000                 0.00000   \n2809            114.0             28   8.210000                 0.00000   \n\n      Hepatitis B  Measles  ...  Polio  Total expenditure  Diphtheria  \\\n112          93.0       74  ...   93.0                NaN        93.0   \n113          91.0      340  ...   92.0               9.42        92.0   \n114          91.0      158  ...   91.0               9.36        91.0   \n115          91.0      199  ...   92.0               9.36        92.0   \n116          92.0      190  ...   92.0               9.20        92.0   \n...           ...      ...  ...    ...                ...         ...   \n2805         92.0       37  ...   92.0              15.14        96.0   \n2806         92.0       56  ...   91.0              15.60        96.0   \n2807         88.0       41  ...    9.0              14.55        94.0   \n2808         89.0      116  ...   89.0              13.73        94.0   \n2809          9.0       85  ...    9.0              13.70        94.0   \n\n      HIV/AIDS          GDP  Population  thinness  1-19 years  \\\n112        0.1  56554.38760  23789338.0                   0.6   \n113        0.1  62214.69120   2346694.0                   0.6   \n114        0.1  67792.33860  23117353.0                   0.6   \n115        0.1  67677.63477  22728254.0                   0.6   \n116        0.1  62245.12900    223424.0                   0.6   \n...        ...          ...         ...                   ...   \n2805       0.1          NaN         NaN                   0.7   \n2806       0.1          NaN         NaN                   0.7   \n2807       0.1          NaN         NaN                   0.8   \n2808       0.1          NaN         NaN                   0.8   \n2809       0.1          NaN         NaN                   0.8   \n\n      thinness 5-9 years  Income composition of resources  Schooling  \n112                  0.6                            0.937       20.4  \n113                  0.6                            0.936       20.4  \n114                  0.6                            0.933       20.3  \n115                  0.6                            0.930       20.1  \n116                  0.6                            0.927       19.8  \n...                  ...                              ...        ...  \n2805                 0.6                              NaN        NaN  \n2806                 0.6                              NaN        NaN  \n2807                 0.6                              NaN        NaN  \n2808                 0.6                              NaN        NaN  \n2809                 0.7                              NaN        NaN  \n\n[512 rows x 22 columns]",
      "text/html": "<div>\n<style scoped>\n    .dataframe tbody tr th:only-of-type {\n        vertical-align: middle;\n    }\n\n    .dataframe tbody tr th {\n        vertical-align: top;\n    }\n\n    .dataframe thead th {\n        text-align: right;\n    }\n</style>\n<table border=\"1\" class=\"dataframe\">\n  <thead>\n    <tr style=\"text-align: right;\">\n      <th></th>\n      <th>Country</th>\n      <th>Year</th>\n      <th>Status</th>\n      <th>Life expectancy</th>\n      <th>Adult Mortality</th>\n      <th>infant deaths</th>\n      <th>Alcohol</th>\n      <th>percentage expenditure</th>\n      <th>Hepatitis B</th>\n      <th>Measles</th>\n      <th>...</th>\n      <th>Polio</th>\n      <th>Total expenditure</th>\n      <th>Diphtheria</th>\n      <th>HIV/AIDS</th>\n      <th>GDP</th>\n      <th>Population</th>\n      <th>thinness  1-19 years</th>\n      <th>thinness 5-9 years</th>\n      <th>Income composition of resources</th>\n      <th>Schooling</th>\n    </tr>\n  </thead>\n  <tbody>\n    <tr>\n      <th>112</th>\n      <td>Australia</td>\n      <td>2015</td>\n      <td>Developed</td>\n      <td>82.8</td>\n      <td>59.0</td>\n      <td>1</td>\n      <td>10.155333</td>\n      <td>0.00000</td>\n      <td>93.0</td>\n      <td>74</td>\n      <td>...</td>\n      <td>93.0</td>\n      <td>NaN</td>\n      <td>93.0</td>\n      <td>0.1</td>\n      <td>56554.38760</td>\n      <td>23789338.0</td>\n      <td>0.6</td>\n      <td>0.6</td>\n      <td>0.937</td>\n      <td>20.4</td>\n    </tr>\n    <tr>\n      <th>113</th>\n      <td>Australia</td>\n      <td>2014</td>\n      <td>Developed</td>\n      <td>82.7</td>\n      <td>6.0</td>\n      <td>1</td>\n      <td>9.710000</td>\n      <td>10769.36305</td>\n      <td>91.0</td>\n      <td>340</td>\n      <td>...</td>\n      <td>92.0</td>\n      <td>9.42</td>\n      <td>92.0</td>\n      <td>0.1</td>\n      <td>62214.69120</td>\n      <td>2346694.0</td>\n      <td>0.6</td>\n      <td>0.6</td>\n      <td>0.936</td>\n      <td>20.4</td>\n    </tr>\n    <tr>\n      <th>114</th>\n      <td>Australia</td>\n      <td>2013</td>\n      <td>Developed</td>\n      <td>82.5</td>\n      <td>61.0</td>\n      <td>1</td>\n      <td>9.870000</td>\n      <td>11734.85381</td>\n      <td>91.0</td>\n      <td>158</td>\n      <td>...</td>\n      <td>91.0</td>\n      <td>9.36</td>\n      <td>91.0</td>\n      <td>0.1</td>\n      <td>67792.33860</td>\n      <td>23117353.0</td>\n      <td>0.6</td>\n      <td>0.6</td>\n      <td>0.933</td>\n      <td>20.3</td>\n    </tr>\n    <tr>\n      <th>115</th>\n      <td>Australia</td>\n      <td>2012</td>\n      <td>Developed</td>\n      <td>82.3</td>\n      <td>61.0</td>\n      <td>1</td>\n      <td>10.030000</td>\n      <td>11714.99858</td>\n      <td>91.0</td>\n      <td>199</td>\n      <td>...</td>\n      <td>92.0</td>\n      <td>9.36</td>\n      <td>92.0</td>\n      <td>0.1</td>\n      <td>67677.63477</td>\n      <td>22728254.0</td>\n      <td>0.6</td>\n      <td>0.6</td>\n      <td>0.930</td>\n      <td>20.1</td>\n    </tr>\n    <tr>\n      <th>116</th>\n      <td>Australia</td>\n      <td>2011</td>\n      <td>Developed</td>\n      <td>82.0</td>\n      <td>63.0</td>\n      <td>1</td>\n      <td>10.300000</td>\n      <td>10986.26527</td>\n      <td>92.0</td>\n      <td>190</td>\n      <td>...</td>\n      <td>92.0</td>\n      <td>9.20</td>\n      <td>92.0</td>\n      <td>0.1</td>\n      <td>62245.12900</td>\n      <td>223424.0</td>\n      <td>0.6</td>\n      <td>0.6</td>\n      <td>0.927</td>\n      <td>19.8</td>\n    </tr>\n    <tr>\n      <th>...</th>\n      <td>...</td>\n      <td>...</td>\n      <td>...</td>\n      <td>...</td>\n      <td>...</td>\n      <td>...</td>\n      <td>...</td>\n      <td>...</td>\n      <td>...</td>\n      <td>...</td>\n      <td>...</td>\n      <td>...</td>\n      <td>...</td>\n      <td>...</td>\n      <td>...</td>\n      <td>...</td>\n      <td>...</td>\n      <td>...</td>\n      <td>...</td>\n      <td>...</td>\n      <td>...</td>\n    </tr>\n    <tr>\n      <th>2805</th>\n      <td>United States of America</td>\n      <td>2004</td>\n      <td>Developed</td>\n      <td>77.5</td>\n      <td>111.0</td>\n      <td>28</td>\n      <td>8.480000</td>\n      <td>0.00000</td>\n      <td>92.0</td>\n      <td>37</td>\n      <td>...</td>\n      <td>92.0</td>\n      <td>15.14</td>\n      <td>96.0</td>\n      <td>0.1</td>\n      <td>NaN</td>\n      <td>NaN</td>\n      <td>0.7</td>\n      <td>0.6</td>\n      <td>NaN</td>\n      <td>NaN</td>\n    </tr>\n    <tr>\n      <th>2806</th>\n      <td>United States of America</td>\n      <td>2003</td>\n      <td>Developed</td>\n      <td>77.2</td>\n      <td>114.0</td>\n      <td>28</td>\n      <td>8.400000</td>\n      <td>0.00000</td>\n      <td>92.0</td>\n      <td>56</td>\n      <td>...</td>\n      <td>91.0</td>\n      <td>15.60</td>\n      <td>96.0</td>\n      <td>0.1</td>\n      <td>NaN</td>\n      <td>NaN</td>\n      <td>0.7</td>\n      <td>0.6</td>\n      <td>NaN</td>\n      <td>NaN</td>\n    </tr>\n    <tr>\n      <th>2807</th>\n      <td>United States of America</td>\n      <td>2002</td>\n      <td>Developed</td>\n      <td>77.0</td>\n      <td>115.0</td>\n      <td>28</td>\n      <td>8.330000</td>\n      <td>0.00000</td>\n      <td>88.0</td>\n      <td>41</td>\n      <td>...</td>\n      <td>9.0</td>\n      <td>14.55</td>\n      <td>94.0</td>\n      <td>0.1</td>\n      <td>NaN</td>\n      <td>NaN</td>\n      <td>0.8</td>\n      <td>0.6</td>\n      <td>NaN</td>\n      <td>NaN</td>\n    </tr>\n    <tr>\n      <th>2808</th>\n      <td>United States of America</td>\n      <td>2001</td>\n      <td>Developed</td>\n      <td>76.9</td>\n      <td>115.0</td>\n      <td>28</td>\n      <td>8.250000</td>\n      <td>0.00000</td>\n      <td>89.0</td>\n      <td>116</td>\n      <td>...</td>\n      <td>89.0</td>\n      <td>13.73</td>\n      <td>94.0</td>\n      <td>0.1</td>\n      <td>NaN</td>\n      <td>NaN</td>\n      <td>0.8</td>\n      <td>0.6</td>\n      <td>NaN</td>\n      <td>NaN</td>\n    </tr>\n    <tr>\n      <th>2809</th>\n      <td>United States of America</td>\n      <td>2000</td>\n      <td>Developed</td>\n      <td>76.8</td>\n      <td>114.0</td>\n      <td>28</td>\n      <td>8.210000</td>\n      <td>0.00000</td>\n      <td>9.0</td>\n      <td>85</td>\n      <td>...</td>\n      <td>9.0</td>\n      <td>13.70</td>\n      <td>94.0</td>\n      <td>0.1</td>\n      <td>NaN</td>\n      <td>NaN</td>\n      <td>0.8</td>\n      <td>0.7</td>\n      <td>NaN</td>\n      <td>NaN</td>\n    </tr>\n  </tbody>\n</table>\n<p>512 rows × 22 columns</p>\n</div>"
     },
     "metadata": {}
    }
   ]
  },
  {
   "cell_type": "markdown",
   "source": "* V datech je zřejmě chyba, neboť zde pozoruji vyspělé země, které mají zaznamenané 'BMI' menší, než 10, což není vůbec důvěryhodné. \n* Tento sloupec proto vynásobím číslem 10, je-li aktuální hodnota 'BMI' < 10.",
   "metadata": {
    "tags": [],
    "cell_id": "00038-2e4b0bc3-5cf7-42ec-a885-84ce34bb8ba4",
    "deepnote_cell_type": "markdown",
    "deepnote_cell_height": 117.1875
   }
  },
  {
   "cell_type": "code",
   "metadata": {
    "tags": [],
    "cell_id": "00039-d9ee166e-08df-4c02-b4c4-cf5fad2b5ef2",
    "deepnote_to_be_reexecuted": false,
    "source_hash": "814db7a4",
    "execution_start": 1661363081359,
    "execution_millis": 18,
    "deepnote_cell_type": "code",
    "deepnote_cell_height": 76
   },
   "source": "df.loc[df['BMI'] < 10, 'BMI'] = df.loc[df['BMI'] < 10, 'BMI'].apply(lambda x: x * 10)",
   "execution_count": 25,
   "outputs": []
  },
  {
   "cell_type": "code",
   "metadata": {
    "tags": [],
    "cell_id": "00040-9acd4332-6cbc-4ab3-aa73-cc6581c11dd9",
    "deepnote_to_be_reexecuted": false,
    "source_hash": "226fd6fd",
    "execution_start": 1661363081379,
    "execution_millis": 9,
    "deepnote_cell_type": "code",
    "deepnote_cell_height": 113.1875,
    "deepnote_output_heights": [
     20.1875
    ]
   },
   "source": "df['BMI'].isna().sum()",
   "execution_count": 26,
   "outputs": [
    {
     "output_type": "execute_result",
     "execution_count": 26,
     "data": {
      "text/plain": "32"
     },
     "metadata": {}
    }
   ]
  },
  {
   "cell_type": "markdown",
   "source": "* Nyní se zbavím 32 nedefinovaných hodnot v 'BMI'.",
   "metadata": {
    "tags": [],
    "cell_id": "00041-4792876a-9f1f-4a3f-b0a3-14bc377f63db",
    "deepnote_cell_type": "markdown",
    "deepnote_cell_height": 69.390625
   }
  },
  {
   "cell_type": "code",
   "metadata": {
    "tags": [],
    "cell_id": "00042-3a89642c-ecb5-402f-9015-3f45b5c777a3",
    "deepnote_to_be_reexecuted": false,
    "source_hash": "530bca0e",
    "execution_start": 1661363081391,
    "execution_millis": 35,
    "deepnote_cell_type": "code",
    "deepnote_cell_height": 113.1875,
    "deepnote_output_heights": [
     20.1875
    ]
   },
   "source": "df[df['BMI'].isna()]['Country'].unique()",
   "execution_count": 27,
   "outputs": [
    {
     "output_type": "execute_result",
     "execution_count": 27,
     "data": {
      "text/plain": "array(['South Sudan', 'Sudan'], dtype=object)"
     },
     "metadata": {}
    }
   ]
  },
  {
   "cell_type": "markdown",
   "source": "* Udělám to podobně, jako s 'Hepatitis B'.",
   "metadata": {
    "tags": [],
    "cell_id": "00043-a7dccfc8-c21e-4f2b-9a60-700e8c99b25b",
    "deepnote_cell_type": "markdown",
    "deepnote_cell_height": 69.390625
   }
  },
  {
   "cell_type": "code",
   "metadata": {
    "tags": [],
    "cell_id": "00044-55fc4072-b6e9-4961-a14c-a1ce0a5e42b7",
    "deepnote_to_be_reexecuted": false,
    "source_hash": "d4b9bed8",
    "execution_start": 1661363081471,
    "execution_millis": 0,
    "deepnote_cell_type": "code",
    "deepnote_cell_height": 202
   },
   "source": "# sudan_means - list, který v sobě má průměrné BMI \n#               zemí, které jsou Sudánu podobné\nsudan_means = []\nsudan_means.append(df[df['Country'] == 'Chad']['BMI'].mean())\nsudan_means.append(df[df['Country'] == 'Somalia']['BMI'].mean())\nsudan_means.append(df[df['Country'] == 'Ethiopia']['BMI'].mean())\nsudan_means.append(df[df['Country'] == 'Eritrea']['BMI'].mean())\nsudan_means.append(df[df['Country'] == 'Mauritania']['BMI'].mean())",
   "execution_count": 28,
   "outputs": []
  },
  {
   "cell_type": "code",
   "metadata": {
    "tags": [],
    "cell_id": "00045-ad1c88be-d958-49f5-b7aa-45f8ebdc6cb3",
    "deepnote_to_be_reexecuted": false,
    "source_hash": "b39fc2ff",
    "execution_start": 1661363081472,
    "execution_millis": 0,
    "deepnote_cell_type": "code",
    "deepnote_cell_height": 94
   },
   "source": "# zprůměruji průměrné BMI zemí, které jsou Sudánu podobné\nsudan_bmi = sum(sudan_means)/len(sudan_means)",
   "execution_count": 29,
   "outputs": []
  },
  {
   "cell_type": "code",
   "metadata": {
    "tags": [],
    "cell_id": "00045-22102bcf-16c0-40c3-925b-8581e8563916",
    "deepnote_to_be_reexecuted": false,
    "source_hash": "19e182d9",
    "execution_start": 1661363081472,
    "execution_millis": 43,
    "deepnote_cell_type": "code",
    "deepnote_cell_height": 153
   },
   "source": "# Sudan\ndf.loc[df['Country'] == 'Sudan', 'BMI']       = df.loc[df['Country'] == 'Sudan',       'BMI'].apply(lambda x: sudan_bmi)\n\n# South Sudan\ndf.loc[df['Country'] == 'South Sudan', 'BMI'] = df.loc[df['Country'] == 'South Sudan', 'BMI'].apply(lambda x: sudan_bmi)",
   "execution_count": 30,
   "outputs": []
  },
  {
   "cell_type": "markdown",
   "source": "* Příznak 'Polio' je na řadě.",
   "metadata": {
    "tags": [],
    "cell_id": "00047-7f8fc0a4-65f8-45bf-9ca3-89c44dc35e13",
    "deepnote_cell_type": "markdown",
    "deepnote_cell_height": 69.390625
   }
  },
  {
   "cell_type": "code",
   "metadata": {
    "tags": [],
    "cell_id": "00047-8f67951f-e307-47f9-b43c-0a474184c930",
    "deepnote_to_be_reexecuted": false,
    "source_hash": "d6a006e2",
    "execution_start": 1661363081516,
    "execution_millis": 44,
    "deepnote_cell_type": "code",
    "deepnote_cell_height": 595
   },
   "source": "df[df['Country'] == 'Afghanistan'][['Year', 'Polio']]",
   "execution_count": 31,
   "outputs": [
    {
     "output_type": "execute_result",
     "execution_count": 31,
     "data": {
      "application/vnd.deepnote.dataframe.v3+json": {
       "column_count": 2,
       "row_count": 16,
       "columns": [
        {
         "name": "Year",
         "dtype": "int64",
         "stats": {
          "unique_count": 16,
          "nan_count": 0,
          "min": "2000",
          "max": "2015",
          "histogram": [
           {
            "bin_start": 2000,
            "bin_end": 2001.5,
            "count": 2
           },
           {
            "bin_start": 2001.5,
            "bin_end": 2003,
            "count": 1
           },
           {
            "bin_start": 2003,
            "bin_end": 2004.5,
            "count": 2
           },
           {
            "bin_start": 2004.5,
            "bin_end": 2006,
            "count": 1
           },
           {
            "bin_start": 2006,
            "bin_end": 2007.5,
            "count": 2
           },
           {
            "bin_start": 2007.5,
            "bin_end": 2009,
            "count": 1
           },
           {
            "bin_start": 2009,
            "bin_end": 2010.5,
            "count": 2
           },
           {
            "bin_start": 2010.5,
            "bin_end": 2012,
            "count": 1
           },
           {
            "bin_start": 2012,
            "bin_end": 2013.5,
            "count": 2
           },
           {
            "bin_start": 2013.5,
            "bin_end": 2015,
            "count": 2
           }
          ]
         }
        },
        {
         "name": "Polio",
         "dtype": "float64",
         "stats": {
          "unique_count": 13,
          "nan_count": 0,
          "min": "5.0",
          "max": "68.0",
          "histogram": [
           {
            "bin_start": 5,
            "bin_end": 11.3,
            "count": 2
           },
           {
            "bin_start": 11.3,
            "bin_end": 17.6,
            "count": 0
           },
           {
            "bin_start": 17.6,
            "bin_end": 23.9,
            "count": 0
           },
           {
            "bin_start": 23.9,
            "bin_end": 30.2,
            "count": 1
           },
           {
            "bin_start": 30.2,
            "bin_end": 36.5,
            "count": 2
           },
           {
            "bin_start": 36.5,
            "bin_end": 42.8,
            "count": 1
           },
           {
            "bin_start": 42.8,
            "bin_end": 49.1,
            "count": 0
           },
           {
            "bin_start": 49.1,
            "bin_end": 55.4,
            "count": 0
           },
           {
            "bin_start": 55.4,
            "bin_end": 61.699999999999996,
            "count": 3
           },
           {
            "bin_start": 61.699999999999996,
            "bin_end": 68,
            "count": 7
           }
          ]
         }
        },
        {
         "name": "_deepnote_index_column",
         "dtype": "int64"
        }
       ],
       "rows": [
        {
         "Year": 2015,
         "Polio": 6,
         "_deepnote_index_column": 0
        },
        {
         "Year": 2014,
         "Polio": 58,
         "_deepnote_index_column": 1
        },
        {
         "Year": 2013,
         "Polio": 62,
         "_deepnote_index_column": 2
        },
        {
         "Year": 2012,
         "Polio": 67,
         "_deepnote_index_column": 3
        },
        {
         "Year": 2011,
         "Polio": 68,
         "_deepnote_index_column": 4
        },
        {
         "Year": 2010,
         "Polio": 66,
         "_deepnote_index_column": 5
        },
        {
         "Year": 2009,
         "Polio": 63,
         "_deepnote_index_column": 6
        },
        {
         "Year": 2008,
         "Polio": 64,
         "_deepnote_index_column": 7
        },
        {
         "Year": 2007,
         "Polio": 63,
         "_deepnote_index_column": 8
        },
        {
         "Year": 2006,
         "Polio": 58,
         "_deepnote_index_column": 9
        }
       ]
      },
      "text/plain": "    Year  Polio\n0   2015    6.0\n1   2014   58.0\n2   2013   62.0\n3   2012   67.0\n4   2011   68.0\n5   2010   66.0\n6   2009   63.0\n7   2008   64.0\n8   2007   63.0\n9   2006   58.0\n10  2005   58.0\n11  2004    5.0\n12  2003   41.0\n13  2002   36.0\n14  2001   35.0\n15  2000   24.0",
      "text/html": "<div>\n<style scoped>\n    .dataframe tbody tr th:only-of-type {\n        vertical-align: middle;\n    }\n\n    .dataframe tbody tr th {\n        vertical-align: top;\n    }\n\n    .dataframe thead th {\n        text-align: right;\n    }\n</style>\n<table border=\"1\" class=\"dataframe\">\n  <thead>\n    <tr style=\"text-align: right;\">\n      <th></th>\n      <th>Year</th>\n      <th>Polio</th>\n    </tr>\n  </thead>\n  <tbody>\n    <tr>\n      <th>0</th>\n      <td>2015</td>\n      <td>6.0</td>\n    </tr>\n    <tr>\n      <th>1</th>\n      <td>2014</td>\n      <td>58.0</td>\n    </tr>\n    <tr>\n      <th>2</th>\n      <td>2013</td>\n      <td>62.0</td>\n    </tr>\n    <tr>\n      <th>3</th>\n      <td>2012</td>\n      <td>67.0</td>\n    </tr>\n    <tr>\n      <th>4</th>\n      <td>2011</td>\n      <td>68.0</td>\n    </tr>\n    <tr>\n      <th>5</th>\n      <td>2010</td>\n      <td>66.0</td>\n    </tr>\n    <tr>\n      <th>6</th>\n      <td>2009</td>\n      <td>63.0</td>\n    </tr>\n    <tr>\n      <th>7</th>\n      <td>2008</td>\n      <td>64.0</td>\n    </tr>\n    <tr>\n      <th>8</th>\n      <td>2007</td>\n      <td>63.0</td>\n    </tr>\n    <tr>\n      <th>9</th>\n      <td>2006</td>\n      <td>58.0</td>\n    </tr>\n    <tr>\n      <th>10</th>\n      <td>2005</td>\n      <td>58.0</td>\n    </tr>\n    <tr>\n      <th>11</th>\n      <td>2004</td>\n      <td>5.0</td>\n    </tr>\n    <tr>\n      <th>12</th>\n      <td>2003</td>\n      <td>41.0</td>\n    </tr>\n    <tr>\n      <th>13</th>\n      <td>2002</td>\n      <td>36.0</td>\n    </tr>\n    <tr>\n      <th>14</th>\n      <td>2001</td>\n      <td>35.0</td>\n    </tr>\n    <tr>\n      <th>15</th>\n      <td>2000</td>\n      <td>24.0</td>\n    </tr>\n  </tbody>\n</table>\n</div>"
     },
     "metadata": {}
    }
   ]
  },
  {
   "cell_type": "markdown",
   "source": "* Je nelogické, aby Afghanistan měl skoro deset let v kuse stabilních ~60% proočkovanosati jednoletých dětí a pak z ničeho nic v roce 2015 ta proočkovanost kleska na 6%.\n* Problém budu řešit podobně, jako s 'BMI' - t.j. vynásobím číslem 10, je-li 'Polio' menší než 10 a zároveň výrazně menší, než průměr v té zemi.",
   "metadata": {
    "tags": [],
    "cell_id": "00049-1b9acf05-71a2-4e24-abf5-1535ee9fce3e",
    "deepnote_cell_type": "markdown",
    "deepnote_cell_height": 139.59375
   }
  },
  {
   "cell_type": "code",
   "metadata": {
    "tags": [],
    "cell_id": "00057-5feca512-c97a-4adb-a498-c9ad0715263f",
    "deepnote_to_be_reexecuted": false,
    "source_hash": "ba55be38",
    "execution_start": 1661363081559,
    "execution_millis": 182,
    "deepnote_cell_type": "code",
    "deepnote_cell_height": 148
   },
   "source": "tmp = df[df['Polio'] < 10][['Country', 'Polio']].to_numpy()\n\nfor i in tmp:\n    if i[1] <= df[df['Country'] == i[0]]['Polio'].mean():\n        i[1] = i[1] * 10",
   "execution_count": 32,
   "outputs": []
  },
  {
   "cell_type": "code",
   "source": "# tmp",
   "metadata": {
    "tags": [],
    "cell_id": "00057-834be84e-0d24-4795-9433-f2d762582124",
    "deepnote_to_be_reexecuted": false,
    "source_hash": "37744f59",
    "execution_start": 1661363081759,
    "execution_millis": 4,
    "is_output_hidden": true,
    "deepnote_cell_type": "code",
    "deepnote_cell_height": 106.796875
   },
   "execution_count": 33,
   "outputs": []
  },
  {
   "cell_type": "code",
   "metadata": {
    "tags": [],
    "cell_id": "00058-816de999-c98b-4451-84a5-5782db1cefdc",
    "deepnote_to_be_reexecuted": false,
    "source_hash": "7e84cf69",
    "execution_start": 1661363081763,
    "execution_millis": 6,
    "deepnote_cell_type": "code",
    "deepnote_cell_height": 76
   },
   "source": "df.loc[df['Polio'] < 10, 'Polio'] = pd.DataFrame(tmp, columns=['Country', 'Polio'])['Polio']",
   "execution_count": 34,
   "outputs": []
  },
  {
   "cell_type": "code",
   "metadata": {
    "tags": [],
    "cell_id": "00059-0a2a18cf-91a1-4c72-802d-4cbfe2273f50",
    "deepnote_to_be_reexecuted": false,
    "source_hash": "1db61e4",
    "execution_start": 1661363081777,
    "execution_millis": 6,
    "deepnote_cell_type": "code",
    "deepnote_cell_height": 76
   },
   "source": "df['Polio'] = df['Polio'].astype('float')",
   "execution_count": 35,
   "outputs": []
  },
  {
   "cell_type": "markdown",
   "source": "* Nyní se ještě musím vypořádat s nan.",
   "metadata": {
    "tags": [],
    "cell_id": "00054-d30b29eb-fc46-4bf2-9309-57ce8c0d5bef",
    "deepnote_cell_type": "markdown",
    "deepnote_cell_height": 69.390625
   }
  },
  {
   "cell_type": "code",
   "metadata": {
    "tags": [],
    "cell_id": "00055-e28373a8-3b17-4a09-bc8d-4a567bba556c",
    "deepnote_to_be_reexecuted": false,
    "source_hash": "8c2bfc32",
    "execution_start": 1661363081858,
    "execution_millis": 3,
    "deepnote_cell_type": "code",
    "deepnote_cell_height": 535.3125,
    "deepnote_output_heights": [
     442.484375
    ]
   },
   "source": "df[df['Polio'].isna()]['Country'].unique()",
   "execution_count": 36,
   "outputs": [
    {
     "output_type": "execute_result",
     "execution_count": 36,
     "data": {
      "text/plain": "array(['Bangladesh', 'Barbados', 'Belarus', 'Benin', 'Bhutan',\n       'Bolivia (Plurinational State of)', 'Bosnia and Herzegovina',\n       'Burkina Faso', \"Côte d'Ivoire\", 'Cabo Verde', 'Cambodia',\n       'Cameroon', 'Canada', 'Central African Republic', 'Chad', 'Chile',\n       'Colombia', 'Comoros', 'Congo', 'Costa Rica',\n       'Democratic Republic of the Congo', 'Denmark',\n       'Dominican Republic', 'Ecuador', 'El Salvador',\n       'Equatorial Guinea', 'Eritrea', 'Ethiopia', 'Gabon', 'Georgia',\n       'Ghana', 'Greece', 'Guatemala', 'Guinea', 'Guyana', 'Haiti',\n       'Iceland', 'Indonesia', 'Iraq', 'Ireland', 'Jamaica', 'Kenya',\n       'Kiribati', \"Lao People's Democratic Republic\", 'Lebanon',\n       'Lesotho', 'Liberia', 'Lithuania', 'Madagascar', 'Mali',\n       'Mauritania', 'Montenegro', 'Mozambique', 'Myanmar', 'Namibia',\n       'Nepal', 'Nicaragua', 'Niger', 'Nigeria', 'Pakistan', 'Panama',\n       'Papua New Guinea', 'Paraguay', 'Peru', 'Philippines',\n       'Republic of Korea', 'Rwanda', 'Saint Lucia', 'Samoa',\n       'Sao Tome and Principe', 'Senegal', 'Solomon Islands', 'Somalia',\n       'South Africa', 'South Sudan', 'Sudan', 'Suriname',\n       'Syrian Arab Republic', 'Timor-Leste', 'Togo', 'Tonga',\n       'Trinidad and Tobago', 'Turkey', 'Uganda',\n       'United Republic of Tanzania', 'United States of America',\n       'Venezuela (Bolivarian Republic of)', 'Yemen', 'Zambia',\n       'Zimbabwe'], dtype=object)"
     },
     "metadata": {}
    }
   ]
  },
  {
   "cell_type": "code",
   "metadata": {
    "tags": [],
    "cell_id": "00058-3115c4aa-7645-42a9-98e7-210294869ef1",
    "deepnote_to_be_reexecuted": false,
    "source_hash": "71104adc",
    "execution_start": 1661363081859,
    "execution_millis": 0,
    "deepnote_cell_type": "code",
    "deepnote_cell_height": 113.1875,
    "deepnote_output_heights": [
     20.1875
    ]
   },
   "source": "df['Polio'].corr(df['Life expectancy'])",
   "execution_count": 37,
   "outputs": [
    {
     "output_type": "execute_result",
     "execution_count": 37,
     "data": {
      "text/plain": "0.6159090156051622"
     },
     "metadata": {}
    }
   ]
  },
  {
   "cell_type": "code",
   "metadata": {
    "tags": [],
    "cell_id": "00059-0e11770f-0ce6-40b2-ab00-47bf719da4b3",
    "deepnote_to_be_reexecuted": false,
    "source_hash": "a27d2da4",
    "execution_start": 1661363081904,
    "execution_millis": 2,
    "deepnote_cell_type": "code",
    "deepnote_cell_height": 76
   },
   "source": "df.loc[df['Polio'].isna(), 'Polio'] = df['Polio'].mean()",
   "execution_count": 38,
   "outputs": []
  },
  {
   "cell_type": "code",
   "metadata": {
    "tags": [],
    "cell_id": "00060-a5336f4c-7064-42fd-88dd-7b948bd12ecd",
    "deepnote_to_be_reexecuted": false,
    "source_hash": "71104adc",
    "execution_start": 1661363081905,
    "execution_millis": 21,
    "deepnote_cell_type": "code",
    "deepnote_cell_height": 113.1875,
    "deepnote_output_heights": [
     20.1875
    ]
   },
   "source": "df['Polio'].corr(df['Life expectancy'])",
   "execution_count": 39,
   "outputs": [
    {
     "output_type": "execute_result",
     "execution_count": 39,
     "data": {
      "text/plain": "0.5916777485584881"
     },
     "metadata": {}
    }
   ]
  },
  {
   "cell_type": "markdown",
   "source": "* Nahrazení všech nan hodnot společným průměrem korelaci mezi 'Polio' a 'Life expectancy' nijak extra neovlivnilo (o ~0.024). Nechám to tedy takhle naivně.",
   "metadata": {
    "tags": [],
    "cell_id": "00061-00a689d7-b835-4a55-b363-2325e612423b",
    "deepnote_cell_type": "markdown",
    "deepnote_cell_height": 91.796875
   }
  },
  {
   "cell_type": "markdown",
   "source": "* Detekuji příznaky, které slabě korelují s vysvětlovanou proměnnou 'Life expectancy' a zbavím se jich (vyjma 'Population').",
   "metadata": {
    "tags": [],
    "cell_id": "00058-c91c4054-5233-4217-ba57-bcd04aefaf44",
    "deepnote_cell_type": "markdown",
    "deepnote_cell_height": 69.390625
   }
  },
  {
   "cell_type": "code",
   "metadata": {
    "tags": [],
    "cell_id": "00057-74435928-d6a0-4146-943f-6bcd5ebce8ff",
    "deepnote_to_be_reexecuted": false,
    "source_hash": "84e89ae3",
    "execution_start": 1661363081936,
    "execution_millis": 22,
    "deepnote_cell_type": "code",
    "deepnote_cell_height": 341
   },
   "source": "cols_to_drop = []\n\nfor i in df.columns:\n    if df[i].dtype == 'O':\n        continue\n    if abs(df['Life expectancy'].corr(df[i])) <= 0.249:\n        cols_to_drop.append(i)\n\n\n# příznaku 'Population' se zatím zbavovat nebudu, \n# zkusím si ještě pohrát s tím bordelem, který se v tom sloupci děje\n\ncols_to_drop.remove('Population')\nprint(cols_to_drop)",
   "execution_count": 40,
   "outputs": [
    {
     "name": "stdout",
     "text": "['Year', 'infant deaths', 'Measles', 'under-five deaths', 'Total expenditure']\n",
     "output_type": "stream"
    }
   ]
  },
  {
   "cell_type": "code",
   "metadata": {
    "tags": [],
    "cell_id": "00061-f095aaef-90f7-483f-8bbc-866f18602038",
    "deepnote_to_be_reexecuted": false,
    "source_hash": "c8b469f2",
    "execution_start": 1661363081959,
    "execution_millis": 3917,
    "deepnote_cell_type": "code",
    "deepnote_cell_height": 607.1875,
    "deepnote_output_heights": [
     20.1875,
     408
    ]
   },
   "source": "import seaborn as sb\n\ndf.drop(columns=cols_to_drop, inplace=True)\nsb.heatmap(df.corr(), cmap=\"BuPu\")",
   "execution_count": 41,
   "outputs": [
    {
     "output_type": "execute_result",
     "execution_count": 41,
     "data": {
      "text/plain": "<AxesSubplot:>"
     },
     "metadata": {}
    },
    {
     "data": {
      "text/plain": "<Figure size 432x288 with 2 Axes>",
      "image/png": "[encoded data removed]"
     },
     "metadata": {
      "needs_background": "light",
      "image/png": {
       "width": 512,
       "height": 407
      }
     },
     "output_type": "display_data"
    }
   ]
  },
  {
   "cell_type": "markdown",
   "source": "* Zakoduji 'Status'.",
   "metadata": {
    "tags": [],
    "cell_id": "00063-d20afb57-4d28-4301-a686-f094b5fe64b0",
    "deepnote_cell_type": "markdown",
    "deepnote_cell_height": 69.390625
   }
  },
  {
   "cell_type": "code",
   "metadata": {
    "tags": [],
    "cell_id": "00060-add2df71-0e02-4373-b11f-b3535de092ec",
    "deepnote_to_be_reexecuted": false,
    "source_hash": "1dd9e841",
    "execution_start": 1661363085303,
    "execution_millis": 13,
    "deepnote_cell_type": "code",
    "deepnote_cell_height": 130
   },
   "source": "# Developed  --> 0\n# Developing --> 1\n\ndf['Status'] = df.Status.astype('category').cat.codes",
   "execution_count": 42,
   "outputs": []
  },
  {
   "cell_type": "markdown",
   "source": "* Vyřeším 'GDP'.",
   "metadata": {
    "tags": [],
    "cell_id": "00065-7c2a0da2-7cba-4842-9ede-2eb0a63f23a2",
    "deepnote_cell_type": "markdown",
    "deepnote_cell_height": 69.390625
   }
  },
  {
   "cell_type": "markdown",
   "source": "* Prvně se pokusím napravit chybu v datech (např. u Německa je GDP jednou ~4000, jindy zase správně ~40000).",
   "metadata": {
    "tags": [],
    "cell_id": "00066-d8777a66-dac0-4aa9-b739-8fb821cb081e",
    "deepnote_cell_type": "markdown",
    "deepnote_cell_height": 69.390625
   }
  },
  {
   "cell_type": "code",
   "metadata": {
    "tags": [],
    "cell_id": "00066-665c2a42-6811-4614-b3ed-5db0dc3f040f",
    "deepnote_to_be_reexecuted": false,
    "source_hash": "790145ec",
    "execution_start": 1661363085379,
    "execution_millis": 0,
    "deepnote_cell_type": "code",
    "deepnote_cell_height": 76
   },
   "source": "gdp_dict = df[['Country', 'GDP']].groupby('Country').mean().to_dict()['GDP']",
   "execution_count": 43,
   "outputs": []
  },
  {
   "cell_type": "code",
   "source": "# gdp_dict",
   "metadata": {
    "tags": [],
    "cell_id": "00067-8dd5aef9-1e41-460c-9c1b-746bb03550d2",
    "deepnote_to_be_reexecuted": false,
    "source_hash": "360f08ad",
    "execution_start": 1661363085380,
    "execution_millis": 0,
    "is_output_hidden": true,
    "deepnote_cell_type": "code",
    "deepnote_cell_height": 106.796875
   },
   "execution_count": 44,
   "outputs": []
  },
  {
   "cell_type": "code",
   "metadata": {
    "tags": [],
    "cell_id": "00069-0cc89998-e595-4b4e-bb68-952b108a91bd",
    "deepnote_to_be_reexecuted": false,
    "source_hash": "c507afd2",
    "execution_start": 1661363085381,
    "execution_millis": 27,
    "deepnote_cell_type": "code",
    "deepnote_cell_height": 238
   },
   "source": "# funkce zjistí, jakého řádu je číslo tmp\ndef num_of_numbers(tmp):\n    cnt = 0\n\n    while tmp >= 1:\n        tmp = tmp/10\n        cnt += 1\n\n    #print(cnt)\n    return cnt",
   "execution_count": 45,
   "outputs": []
  },
  {
   "cell_type": "code",
   "metadata": {
    "tags": [],
    "cell_id": "00069-8576e26f-829e-4358-9109-ce9b2812c27b",
    "deepnote_to_be_reexecuted": false,
    "source_hash": "5e2bdce0",
    "execution_start": 1661363085408,
    "execution_millis": 1,
    "deepnote_cell_type": "code",
    "deepnote_cell_height": 112
   },
   "source": "for country in gdp_dict:\n    #print(num_of_numbers(gdp_dict[country]))\n    gdp_dict[country] = num_of_numbers(gdp_dict[country])",
   "execution_count": 46,
   "outputs": []
  },
  {
   "cell_type": "code",
   "metadata": {
    "tags": [],
    "cell_id": "00071-787cfd32-6840-48d5-894e-4e2bf4f06fa9",
    "deepnote_to_be_reexecuted": false,
    "source_hash": "c03378e",
    "execution_start": 1661363085409,
    "execution_millis": 503,
    "deepnote_cell_type": "code",
    "deepnote_cell_height": 264.3125,
    "deepnote_output_heights": [
     135.359375
    ]
   },
   "source": "tmp = df[['Country', 'GDP']].to_numpy()\n\ntmp",
   "execution_count": 47,
   "outputs": [
    {
     "output_type": "execute_result",
     "execution_count": 47,
     "data": {
      "text/plain": "array([['Afghanistan', 584.25921],\n       ['Afghanistan', 612.696514],\n       ['Afghanistan', 631.744976],\n       ...,\n       ['Zimbabwe', 57.34834],\n       ['Zimbabwe', 548.587312],\n       ['Zimbabwe', 547.3588785]], dtype=object)"
     },
     "metadata": {}
    }
   ]
  },
  {
   "cell_type": "code",
   "source": "for i in tmp:\n    if gdp_dict[i[0]] > num_of_numbers(i[1]):\n        # print(gdp_dict[i[0]] - num_of_numbers(i[1]))\n        for j in range(gdp_dict[i[0]] - num_of_numbers(i[1])):\n            i[1] = i[1] * 10",
   "metadata": {
    "tags": [],
    "cell_id": "00072-f791c6d6-6c83-4a98-aaa4-3904aa8ab771",
    "deepnote_to_be_reexecuted": false,
    "source_hash": "ed19772f",
    "execution_start": 1661363085432,
    "execution_millis": 51,
    "is_output_hidden": true,
    "deepnote_cell_type": "code",
    "deepnote_cell_height": 178.796875
   },
   "execution_count": 48,
   "outputs": []
  },
  {
   "cell_type": "code",
   "metadata": {
    "tags": [],
    "cell_id": "00074-4a4a45e9-3371-4a4a-964c-a862928da122",
    "deepnote_to_be_reexecuted": false,
    "source_hash": "63d4768c",
    "execution_start": 1661363085483,
    "execution_millis": 430,
    "is_output_hidden": true,
    "deepnote_cell_type": "code",
    "deepnote_cell_height": 124.796875
   },
   "source": "df['GDP'] = pd.DataFrame(tmp, columns=['Country', 'GDP'])['GDP']\ndf",
   "execution_count": 49,
   "outputs": [
    {
     "output_type": "execute_result",
     "execution_count": 49,
     "data": {
      "application/vnd.deepnote.dataframe.v3+json": {
       "column_count": 17,
       "row_count": 2928,
       "columns": [
        {
         "name": "Country",
         "dtype": "object",
         "stats": {
          "unique_count": 183,
          "nan_count": 0,
          "categories": [
           {
            "name": "Afghanistan",
            "count": 16
           },
           {
            "name": "Albania",
            "count": 16
           },
           {
            "name": "181 others",
            "count": 2896
           }
          ]
         }
        },
        {
         "name": "Status",
         "dtype": "int8",
         "stats": {
          "unique_count": 2,
          "nan_count": 0,
          "min": "0",
          "max": "1",
          "histogram": [
           {
            "bin_start": 0,
            "bin_end": 0.1,
            "count": 512
           },
           {
            "bin_start": 0.1,
            "bin_end": 0.2,
            "count": 0
           },
           {
            "bin_start": 0.2,
            "bin_end": 0.30000000000000004,
            "count": 0
           },
           {
            "bin_start": 0.30000000000000004,
            "bin_end": 0.4,
            "count": 0
           },
           {
            "bin_start": 0.4,
            "bin_end": 0.5,
            "count": 0
           },
           {
            "bin_start": 0.5,
            "bin_end": 0.6000000000000001,
            "count": 0
           },
           {
            "bin_start": 0.6000000000000001,
            "bin_end": 0.7000000000000001,
            "count": 0
           },
           {
            "bin_start": 0.7000000000000001,
            "bin_end": 0.8,
            "count": 0
           },
           {
            "bin_start": 0.8,
            "bin_end": 0.9,
            "count": 0
           },
           {
            "bin_start": 0.9,
            "bin_end": 1,
            "count": 2416
           }
          ]
         }
        },
        {
         "name": "Life expectancy",
         "dtype": "float64",
         "stats": {
          "unique_count": 362,
          "nan_count": 0,
          "min": "36.3",
          "max": "89.0",
          "histogram": [
           {
            "bin_start": 36.3,
            "bin_end": 41.57,
            "count": 4
           },
           {
            "bin_start": 41.57,
            "bin_end": 46.839999999999996,
            "count": 50
           },
           {
            "bin_start": 46.839999999999996,
            "bin_end": 52.11,
            "count": 134
           },
           {
            "bin_start": 52.11,
            "bin_end": 57.379999999999995,
            "count": 229
           },
           {
            "bin_start": 57.379999999999995,
            "bin_end": 62.65,
            "count": 277
           },
           {
            "bin_start": 62.65,
            "bin_end": 67.92,
            "count": 405
           },
           {
            "bin_start": 67.92,
            "bin_end": 73.19,
            "count": 580
           },
           {
            "bin_start": 73.19,
            "bin_end": 78.46000000000001,
            "count": 819
           },
           {
            "bin_start": 78.46000000000001,
            "bin_end": 83.73,
            "count": 362
           },
           {
            "bin_start": 83.73,
            "bin_end": 89,
            "count": 68
           }
          ]
         }
        },
        {
         "name": "Adult Mortality",
         "dtype": "float64",
         "stats": {
          "unique_count": 425,
          "nan_count": 0,
          "min": "1.0",
          "max": "723.0",
          "histogram": [
           {
            "bin_start": 1,
            "bin_end": 73.2,
            "count": 729
           },
           {
            "bin_start": 73.2,
            "bin_end": 145.4,
            "count": 765
           },
           {
            "bin_start": 145.4,
            "bin_end": 217.60000000000002,
            "count": 610
           },
           {
            "bin_start": 217.60000000000002,
            "bin_end": 289.8,
            "count": 423
           },
           {
            "bin_start": 289.8,
            "bin_end": 362,
            "count": 176
           },
           {
            "bin_start": 362,
            "bin_end": 434.20000000000005,
            "count": 117
           },
           {
            "bin_start": 434.20000000000005,
            "bin_end": 506.40000000000003,
            "count": 54
           },
           {
            "bin_start": 506.40000000000003,
            "bin_end": 578.6,
            "count": 24
           },
           {
            "bin_start": 578.6,
            "bin_end": 650.8000000000001,
            "count": 17
           },
           {
            "bin_start": 650.8000000000001,
            "bin_end": 723,
            "count": 13
           }
          ]
         }
        },
        {
         "name": "Alcohol",
         "dtype": "float64",
         "stats": {
          "unique_count": 1246,
          "nan_count": 0,
          "min": "0.0",
          "max": "17.87",
          "histogram": [
           {
            "bin_start": 0,
            "bin_end": 1.7870000000000001,
            "count": 1031
           },
           {
            "bin_start": 1.7870000000000001,
            "bin_end": 3.5740000000000003,
            "count": 404
           },
           {
            "bin_start": 3.5740000000000003,
            "bin_end": 5.361000000000001,
            "count": 353
           },
           {
            "bin_start": 5.361000000000001,
            "bin_end": 7.148000000000001,
            "count": 307
           },
           {
            "bin_start": 7.148000000000001,
            "bin_end": 8.935,
            "count": 284
           },
           {
            "bin_start": 8.935,
            "bin_end": 10.722000000000001,
            "count": 254
           },
           {
            "bin_start": 10.722000000000001,
            "bin_end": 12.509,
            "count": 210
           },
           {
            "bin_start": 12.509,
            "bin_end": 14.296000000000001,
            "count": 70
           },
           {
            "bin_start": 14.296000000000001,
            "bin_end": 16.083000000000002,
            "count": 10
           },
           {
            "bin_start": 16.083000000000002,
            "bin_end": 17.87,
            "count": 5
           }
          ]
         }
        },
        {
         "name": "percentage expenditure",
         "dtype": "float64",
         "stats": {
          "unique_count": 2323,
          "nan_count": 0,
          "min": "0.0",
          "max": "19479.91161",
          "histogram": [
           {
            "bin_start": 0,
            "bin_end": 1947.991161,
            "count": 2647
           },
           {
            "bin_start": 1947.991161,
            "bin_end": 3895.982322,
            "count": 118
           },
           {
            "bin_start": 3895.982322,
            "bin_end": 5843.973483,
            "count": 54
           },
           {
            "bin_start": 5843.973483,
            "bin_end": 7791.964644,
            "count": 46
           },
           {
            "bin_start": 7791.964644,
            "bin_end": 9739.955805,
            "count": 27
           },
           {
            "bin_start": 9739.955805,
            "bin_end": 11687.946966,
            "count": 17
           },
           {
            "bin_start": 11687.946966,
            "bin_end": 13635.938127,
            "count": 7
           },
           {
            "bin_start": 13635.938127,
            "bin_end": 15583.929288,
            "count": 5
           },
           {
            "bin_start": 15583.929288,
            "bin_end": 17531.920448999997,
            "count": 2
           },
           {
            "bin_start": 17531.920448999997,
            "bin_end": 19479.91161,
            "count": 5
           }
          ]
         }
        },
        {
         "name": "Hepatitis B",
         "dtype": "float64",
         "stats": {
          "unique_count": 165,
          "nan_count": 0,
          "min": "1.0",
          "max": "99.0",
          "histogram": [
           {
            "bin_start": 1,
            "bin_end": 10.8,
            "count": 171
           },
           {
            "bin_start": 10.8,
            "bin_end": 20.6,
            "count": 16
           },
           {
            "bin_start": 20.6,
            "bin_end": 30.400000000000002,
            "count": 33
           },
           {
            "bin_start": 30.400000000000002,
            "bin_end": 40.2,
            "count": 40
           },
           {
            "bin_start": 40.2,
            "bin_end": 50,
            "count": 121
           },
           {
            "bin_start": 50,
            "bin_end": 59.800000000000004,
            "count": 158
           },
           {
            "bin_start": 59.800000000000004,
            "bin_end": 69.60000000000001,
            "count": 182
           },
           {
            "bin_start": 69.60000000000001,
            "bin_end": 79.4,
            "count": 300
           },
           {
            "bin_start": 79.4,
            "bin_end": 89.2,
            "count": 528
           },
           {
            "bin_start": 89.2,
            "bin_end": 99,
            "count": 1379
           }
          ]
         }
        },
        {
         "name": "BMI",
         "dtype": "float64",
         "stats": {
          "unique_count": 554,
          "nan_count": 0,
          "min": "10.0",
          "max": "96.0",
          "histogram": [
           {
            "bin_start": 10,
            "bin_end": 18.6,
            "count": 390
           },
           {
            "bin_start": 18.6,
            "bin_end": 27.2,
            "count": 496
           },
           {
            "bin_start": 27.2,
            "bin_end": 35.8,
            "count": 242
           },
           {
            "bin_start": 35.8,
            "bin_end": 44.4,
            "count": 229
           },
           {
            "bin_start": 44.4,
            "bin_end": 53,
            "count": 434
           },
           {
            "bin_start": 53,
            "bin_end": 61.599999999999994,
            "count": 757
           },
           {
            "bin_start": 61.599999999999994,
            "bin_end": 70.19999999999999,
            "count": 342
           },
           {
            "bin_start": 70.19999999999999,
            "bin_end": 78.8,
            "count": 35
           },
           {
            "bin_start": 78.8,
            "bin_end": 87.39999999999999,
            "count": 1
           },
           {
            "bin_start": 87.39999999999999,
            "bin_end": 96,
            "count": 2
           }
          ]
         }
        },
        {
         "name": "Polio",
         "dtype": "float64",
         "stats": {
          "unique_count": 72,
          "nan_count": 0,
          "min": "17.0",
          "max": "99.0",
          "histogram": [
           {
            "bin_start": 17,
            "bin_end": 25.2,
            "count": 4
           },
           {
            "bin_start": 25.2,
            "bin_end": 33.4,
            "count": 10
           },
           {
            "bin_start": 33.4,
            "bin_end": 41.599999999999994,
            "count": 24
           },
           {
            "bin_start": 41.599999999999994,
            "bin_end": 49.8,
            "count": 70
           },
           {
            "bin_start": 49.8,
            "bin_end": 58,
            "count": 64
           },
           {
            "bin_start": 58,
            "bin_end": 66.19999999999999,
            "count": 111
           },
           {
            "bin_start": 66.19999999999999,
            "bin_end": 74.39999999999999,
            "count": 173
           },
           {
            "bin_start": 74.39999999999999,
            "bin_end": 82.6,
            "count": 229
           },
           {
            "bin_start": 82.6,
            "bin_end": 90.8,
            "count": 563
           },
           {
            "bin_start": 90.8,
            "bin_end": 99,
            "count": 1680
           }
          ]
         }
        },
        {
         "name": "Diphtheria",
         "dtype": "float64",
         "stats": {
          "unique_count": 81,
          "nan_count": 19,
          "min": "2.0",
          "max": "99.0",
          "histogram": [
           {
            "bin_start": 2,
            "bin_end": 11.7,
            "count": 169
           },
           {
            "bin_start": 11.7,
            "bin_end": 21.4,
            "count": 3
           },
           {
            "bin_start": 21.4,
            "bin_end": 31.099999999999998,
            "count": 22
           },
           {
            "bin_start": 31.099999999999998,
            "bin_end": 40.8,
            "count": 35
           },
           {
            "bin_start": 40.8,
            "bin_end": 50.5,
            "count": 68
           },
           {
            "bin_start": 50.5,
            "bin_end": 60.199999999999996,
            "count": 59
           },
           {
            "bin_start": 60.199999999999996,
            "bin_end": 69.89999999999999,
            "count": 149
           },
           {
            "bin_start": 69.89999999999999,
            "bin_end": 79.6,
            "count": 271
           },
           {
            "bin_start": 79.6,
            "bin_end": 89.3,
            "count": 469
           },
           {
            "bin_start": 89.3,
            "bin_end": 99,
            "count": 1664
           }
          ]
         }
        },
        {
         "name": "HIV/AIDS",
         "dtype": "float64",
         "stats": {
          "unique_count": 200,
          "nan_count": 0,
          "min": "0.1",
          "max": "50.6",
          "histogram": [
           {
            "bin_start": 0.1,
            "bin_end": 5.1499999999999995,
            "count": 2686
           },
           {
            "bin_start": 5.1499999999999995,
            "bin_end": 10.2,
            "count": 119
           },
           {
            "bin_start": 10.2,
            "bin_end": 15.249999999999998,
            "count": 44
           },
           {
            "bin_start": 15.249999999999998,
            "bin_end": 20.3,
            "count": 22
           },
           {
            "bin_start": 20.3,
            "bin_end": 25.35,
            "count": 19
           },
           {
            "bin_start": 25.35,
            "bin_end": 30.4,
            "count": 13
           },
           {
            "bin_start": 30.4,
            "bin_end": 35.45,
            "count": 10
           },
           {
            "bin_start": 35.45,
            "bin_end": 40.5,
            "count": 5
           },
           {
            "bin_start": 40.5,
            "bin_end": 45.55,
            "count": 4
           },
           {
            "bin_start": 45.55,
            "bin_end": 50.6,
            "count": 6
           }
          ]
         }
        },
        {
         "name": "GDP",
         "dtype": "object",
         "stats": {
          "unique_count": 2476,
          "nan_count": 452,
          "categories": [
           {
            "name": "584.25921",
            "count": 1
           },
           {
            "name": "2475 others",
            "count": 2475
           },
           {
            "name": "Missing",
            "count": 452
           }
          ]
         }
        },
        {
         "name": "Population",
         "dtype": "float64",
         "stats": {
          "unique_count": 2277,
          "nan_count": 644,
          "min": "34.0",
          "max": "1293859294.0",
          "histogram": [
           {
            "bin_start": 34,
            "bin_end": 129385960,
            "count": 2242
           },
           {
            "bin_start": 129385960,
            "bin_end": 258771886,
            "count": 37
           },
           {
            "bin_start": 258771886,
            "bin_end": 388157812,
            "count": 0
           },
           {
            "bin_start": 388157812,
            "bin_end": 517543738,
            "count": 0
           },
           {
            "bin_start": 517543738,
            "bin_end": 646929664,
            "count": 0
           },
           {
            "bin_start": 646929664,
            "bin_end": 776315590,
            "count": 0
           },
           {
            "bin_start": 776315590,
            "bin_end": 905701516,
            "count": 0
           },
           {
            "bin_start": 905701516,
            "bin_end": 1035087442,
            "count": 0
           },
           {
            "bin_start": 1035087442,
            "bin_end": 1164473368,
            "count": 3
           },
           {
            "bin_start": 1164473368,
            "bin_end": 1293859294,
            "count": 2
           }
          ]
         }
        },
        {
         "name": "thinness  1-19 years",
         "dtype": "float64",
         "stats": {
          "unique_count": 200,
          "nan_count": 32,
          "min": "0.1",
          "max": "27.7",
          "histogram": [
           {
            "bin_start": 0.1,
            "bin_end": 2.86,
            "count": 1326
           },
           {
            "bin_start": 2.86,
            "bin_end": 5.619999999999999,
            "count": 515
           },
           {
            "bin_start": 5.619999999999999,
            "bin_end": 8.379999999999999,
            "count": 565
           },
           {
            "bin_start": 8.379999999999999,
            "bin_end": 11.139999999999999,
            "count": 238
           },
           {
            "bin_start": 11.139999999999999,
            "bin_end": 13.899999999999999,
            "count": 108
           },
           {
            "bin_start": 13.899999999999999,
            "bin_end": 16.66,
            "count": 71
           },
           {
            "bin_start": 16.66,
            "bin_end": 19.42,
            "count": 42
           },
           {
            "bin_start": 19.42,
            "bin_end": 22.18,
            "count": 14
           },
           {
            "bin_start": 22.18,
            "bin_end": 24.939999999999998,
            "count": 1
           },
           {
            "bin_start": 24.939999999999998,
            "bin_end": 27.7,
            "count": 16
           }
          ]
         }
        },
        {
         "name": "thinness 5-9 years",
         "dtype": "float64",
         "stats": {
          "unique_count": 207,
          "nan_count": 32,
          "min": "0.1",
          "max": "28.6",
          "histogram": [
           {
            "bin_start": 0.1,
            "bin_end": 2.95,
            "count": 1317
           },
           {
            "bin_start": 2.95,
            "bin_end": 5.8,
            "count": 542
           },
           {
            "bin_start": 5.8,
            "bin_end": 8.65,
            "count": 590
           },
           {
            "bin_start": 8.65,
            "bin_end": 11.5,
            "count": 215
           },
           {
            "bin_start": 11.5,
            "bin_end": 14.35,
            "count": 100
           },
           {
            "bin_start": 14.35,
            "bin_end": 17.200000000000003,
            "count": 58
           },
           {
            "bin_start": 17.200000000000003,
            "bin_end": 20.05,
            "count": 46
           },
           {
            "bin_start": 20.05,
            "bin_end": 22.900000000000002,
            "count": 12
           },
           {
            "bin_start": 22.900000000000002,
            "bin_end": 25.750000000000004,
            "count": 0
           },
           {
            "bin_start": 25.750000000000004,
            "bin_end": 28.6,
            "count": 16
           }
          ]
         }
        },
        {
         "name": "Income composition of resources",
         "dtype": "float64",
         "stats": {
          "unique_count": 625,
          "nan_count": 160,
          "min": "0.0",
          "max": "0.948",
          "histogram": [
           {
            "bin_start": 0,
            "bin_end": 0.0948,
            "count": 130
           },
           {
            "bin_start": 0.0948,
            "bin_end": 0.1896,
            "count": 0
           },
           {
            "bin_start": 0.1896,
            "bin_end": 0.2844,
            "count": 13
           },
           {
            "bin_start": 0.2844,
            "bin_end": 0.3792,
            "count": 118
           },
           {
            "bin_start": 0.3792,
            "bin_end": 0.474,
            "count": 338
           },
           {
            "bin_start": 0.474,
            "bin_end": 0.5688,
            "count": 302
           },
           {
            "bin_start": 0.5688,
            "bin_end": 0.6636,
            "count": 409
           },
           {
            "bin_start": 0.6636,
            "bin_end": 0.7584,
            "count": 654
           },
           {
            "bin_start": 0.7584,
            "bin_end": 0.8532,
            "count": 479
           },
           {
            "bin_start": 0.8532,
            "bin_end": 0.948,
            "count": 325
           }
          ]
         }
        },
        {
         "name": "Schooling",
         "dtype": "float64",
         "stats": {
          "unique_count": 173,
          "nan_count": 160,
          "min": "0.0",
          "max": "20.7",
          "histogram": [
           {
            "bin_start": 0,
            "bin_end": 2.07,
            "count": 26
           },
           {
            "bin_start": 2.07,
            "bin_end": 4.14,
            "count": 22
           },
           {
            "bin_start": 4.14,
            "bin_end": 6.209999999999999,
            "count": 109
           },
           {
            "bin_start": 6.209999999999999,
            "bin_end": 8.28,
            "count": 199
           },
           {
            "bin_start": 8.28,
            "bin_end": 10.35,
            "count": 402
           },
           {
            "bin_start": 10.35,
            "bin_end": 12.419999999999998,
            "count": 671
           },
           {
            "bin_start": 12.419999999999998,
            "bin_end": 14.489999999999998,
            "count": 702
           },
           {
            "bin_start": 14.489999999999998,
            "bin_end": 16.56,
            "count": 470
           },
           {
            "bin_start": 16.56,
            "bin_end": 18.63,
            "count": 131
           },
           {
            "bin_start": 18.63,
            "bin_end": 20.7,
            "count": 36
           }
          ]
         }
        },
        {
         "name": "_deepnote_index_column",
         "dtype": "int64"
        }
       ],
       "rows": [
        {
         "Country": "Afghanistan",
         "Status": 1,
         "Life expectancy": 65,
         "Adult Mortality": 263,
         "Alcohol": 0.01,
         "percentage expenditure": 71.27962362,
         "Hepatitis B": 65,
         "BMI": 19.1,
         "Polio": 60,
         "Diphtheria": 65,
         "HIV/AIDS": 0.1,
         "GDP": "584.25921",
         "Population": 33736494,
         "thinness  1-19 years": 17.2,
         "thinness 5-9 years": 17.3,
         "Income composition of resources": 0.479,
         "Schooling": 10.1,
         "_deepnote_index_column": 0
        },
        {
         "Country": "Afghanistan",
         "Status": 1,
         "Life expectancy": 59.9,
         "Adult Mortality": 271,
         "Alcohol": 0.01,
         "percentage expenditure": 73.52358168,
         "Hepatitis B": 62,
         "BMI": 18.6,
         "Polio": 58,
         "Diphtheria": 62,
         "HIV/AIDS": 0.1,
         "GDP": "612.696514",
         "Population": 327582,
         "thinness  1-19 years": 17.5,
         "thinness 5-9 years": 17.5,
         "Income composition of resources": 0.476,
         "Schooling": 10,
         "_deepnote_index_column": 1
        },
        {
         "Country": "Afghanistan",
         "Status": 1,
         "Life expectancy": 59.9,
         "Adult Mortality": 268,
         "Alcohol": 0.01,
         "percentage expenditure": 73.21924272,
         "Hepatitis B": 64,
         "BMI": 18.1,
         "Polio": 62,
         "Diphtheria": 64,
         "HIV/AIDS": 0.1,
         "GDP": "631.744976",
         "Population": 31731688,
         "thinness  1-19 years": 17.7,
         "thinness 5-9 years": 17.7,
         "Income composition of resources": 0.47,
         "Schooling": 9.9,
         "_deepnote_index_column": 2
        },
        {
         "Country": "Afghanistan",
         "Status": 1,
         "Life expectancy": 59.5,
         "Adult Mortality": 272,
         "Alcohol": 0.01,
         "percentage expenditure": 78.1842153,
         "Hepatitis B": 67,
         "BMI": 17.6,
         "Polio": 67,
         "Diphtheria": 67,
         "HIV/AIDS": 0.1,
         "GDP": "669.959",
         "Population": 3696958,
         "thinness  1-19 years": 17.9,
         "thinness 5-9 years": 18,
         "Income composition of resources": 0.463,
         "Schooling": 9.8,
         "_deepnote_index_column": 3
        },
        {
         "Country": "Afghanistan",
         "Status": 1,
         "Life expectancy": 59.2,
         "Adult Mortality": 275,
         "Alcohol": 0.01,
         "percentage expenditure": 7.097108703,
         "Hepatitis B": 68,
         "BMI": 17.2,
         "Polio": 68,
         "Diphtheria": 68,
         "HIV/AIDS": 0.1,
         "GDP": "635.37231",
         "Population": 2978599,
         "thinness  1-19 years": 18.2,
         "thinness 5-9 years": 18.2,
         "Income composition of resources": 0.454,
         "Schooling": 9.5,
         "_deepnote_index_column": 4
        },
        {
         "Country": "Afghanistan",
         "Status": 1,
         "Life expectancy": 58.8,
         "Adult Mortality": 279,
         "Alcohol": 0.01,
         "percentage expenditure": 79.67936736,
         "Hepatitis B": 66,
         "BMI": 16.7,
         "Polio": 66,
         "Diphtheria": 66,
         "HIV/AIDS": 0.1,
         "GDP": "553.32894",
         "Population": 2883167,
         "thinness  1-19 years": 18.4,
         "thinness 5-9 years": 18.4,
         "Income composition of resources": 0.448,
         "Schooling": 9.2,
         "_deepnote_index_column": 5
        },
        {
         "Country": "Afghanistan",
         "Status": 1,
         "Life expectancy": 58.6,
         "Adult Mortality": 281,
         "Alcohol": 0.01,
         "percentage expenditure": 56.76221682,
         "Hepatitis B": 63,
         "BMI": 16.2,
         "Polio": 63,
         "Diphtheria": 63,
         "HIV/AIDS": 0.1,
         "GDP": "445.8932979",
         "Population": 284331,
         "thinness  1-19 years": 18.6,
         "thinness 5-9 years": 18.7,
         "Income composition of resources": 0.434,
         "Schooling": 8.9,
         "_deepnote_index_column": 6
        },
        {
         "Country": "Afghanistan",
         "Status": 1,
         "Life expectancy": 58.1,
         "Adult Mortality": 287,
         "Alcohol": 0.03,
         "percentage expenditure": 25.87392536,
         "Hepatitis B": 64,
         "BMI": 15.7,
         "Polio": 64,
         "Diphtheria": 64,
         "HIV/AIDS": 0.1,
         "GDP": "373.3611163",
         "Population": 2729431,
         "thinness  1-19 years": 18.8,
         "thinness 5-9 years": 18.9,
         "Income composition of resources": 0.433,
         "Schooling": 8.7,
         "_deepnote_index_column": 7
        },
        {
         "Country": "Afghanistan",
         "Status": 1,
         "Life expectancy": 57.5,
         "Adult Mortality": 295,
         "Alcohol": 0.02,
         "percentage expenditure": 10.91015598,
         "Hepatitis B": 63,
         "BMI": 15.2,
         "Polio": 63,
         "Diphtheria": 63,
         "HIV/AIDS": 0.1,
         "GDP": "369.835796",
         "Population": 26616792,
         "thinness  1-19 years": 19,
         "thinness 5-9 years": 19.1,
         "Income composition of resources": 0.415,
         "Schooling": 8.4,
         "_deepnote_index_column": 8
        },
        {
         "Country": "Afghanistan",
         "Status": 1,
         "Life expectancy": 57.3,
         "Adult Mortality": 295,
         "Alcohol": 0.03,
         "percentage expenditure": 17.17151751,
         "Hepatitis B": 64,
         "BMI": 14.7,
         "Polio": 58,
         "Diphtheria": 58,
         "HIV/AIDS": 0.1,
         "GDP": "272.56377",
         "Population": 2589345,
         "thinness  1-19 years": 19.2,
         "thinness 5-9 years": 19.3,
         "Income composition of resources": 0.405,
         "Schooling": 8.1,
         "_deepnote_index_column": 9
        }
       ]
      },
      "text/plain": "          Country  Status  Life expectancy  Adult Mortality  Alcohol  \\\n0     Afghanistan       1             65.0            263.0     0.01   \n1     Afghanistan       1             59.9            271.0     0.01   \n2     Afghanistan       1             59.9            268.0     0.01   \n3     Afghanistan       1             59.5            272.0     0.01   \n4     Afghanistan       1             59.2            275.0     0.01   \n...           ...     ...              ...              ...      ...   \n2933     Zimbabwe       1             44.3            723.0     4.36   \n2934     Zimbabwe       1             44.5            715.0     4.06   \n2935     Zimbabwe       1             44.8             73.0     4.43   \n2936     Zimbabwe       1             45.3            686.0     1.72   \n2937     Zimbabwe       1             46.0            665.0     1.68   \n\n      percentage expenditure  Hepatitis B   BMI     Polio  Diphtheria  \\\n0                  71.279624         65.0  19.1  60.00000        65.0   \n1                  73.523582         62.0  18.6  58.00000        62.0   \n2                  73.219243         64.0  18.1  62.00000        64.0   \n3                  78.184215         67.0  17.6  67.00000        67.0   \n4                   7.097109         68.0  17.2  68.00000        68.0   \n...                      ...          ...   ...       ...         ...   \n2933                0.000000         68.0  27.1  67.00000        65.0   \n2934                0.000000          7.0  26.7  87.19214        68.0   \n2935                0.000000         73.0  26.3  73.00000        71.0   \n2936                0.000000         76.0  25.9  76.00000        75.0   \n2937                0.000000         79.0  25.5  78.00000        78.0   \n\n      HIV/AIDS         GDP  Population  thinness  1-19 years  \\\n0          0.1   584.25921  33736494.0                  17.2   \n1          0.1  612.696514    327582.0                  17.5   \n2          0.1  631.744976  31731688.0                  17.7   \n3          0.1     669.959   3696958.0                  17.9   \n4          0.1   635.37231   2978599.0                  18.2   \n...        ...         ...         ...                   ...   \n2933      33.6         NaN  12777511.0                   9.4   \n2934      36.7         NaN  12633897.0                   9.8   \n2935      39.8         NaN    125525.0                   1.2   \n2936      42.1         NaN  12366165.0                   1.6   \n2937      43.5         NaN  12222251.0                  11.0   \n\n      thinness 5-9 years  Income composition of resources  Schooling  \n0                   17.3                            0.479       10.1  \n1                   17.5                            0.476       10.0  \n2                   17.7                            0.470        9.9  \n3                   18.0                            0.463        9.8  \n4                   18.2                            0.454        9.5  \n...                  ...                              ...        ...  \n2933                 9.4                            0.407        9.2  \n2934                 9.9                            0.418        9.5  \n2935                 1.3                            0.427       10.0  \n2936                 1.7                            0.427        9.8  \n2937                11.2                            0.434        9.8  \n\n[2928 rows x 17 columns]",
      "text/html": "<div>\n<style scoped>\n    .dataframe tbody tr th:only-of-type {\n        vertical-align: middle;\n    }\n\n    .dataframe tbody tr th {\n        vertical-align: top;\n    }\n\n    .dataframe thead th {\n        text-align: right;\n    }\n</style>\n<table border=\"1\" class=\"dataframe\">\n  <thead>\n    <tr style=\"text-align: right;\">\n      <th></th>\n      <th>Country</th>\n      <th>Status</th>\n      <th>Life expectancy</th>\n      <th>Adult Mortality</th>\n      <th>Alcohol</th>\n      <th>percentage expenditure</th>\n      <th>Hepatitis B</th>\n      <th>BMI</th>\n      <th>Polio</th>\n      <th>Diphtheria</th>\n      <th>HIV/AIDS</th>\n      <th>GDP</th>\n      <th>Population</th>\n      <th>thinness  1-19 years</th>\n      <th>thinness 5-9 years</th>\n      <th>Income composition of resources</th>\n      <th>Schooling</th>\n    </tr>\n  </thead>\n  <tbody>\n    <tr>\n      <th>0</th>\n      <td>Afghanistan</td>\n      <td>1</td>\n      <td>65.0</td>\n      <td>263.0</td>\n      <td>0.01</td>\n      <td>71.279624</td>\n      <td>65.0</td>\n      <td>19.1</td>\n      <td>60.00000</td>\n      <td>65.0</td>\n      <td>0.1</td>\n      <td>584.25921</td>\n      <td>33736494.0</td>\n      <td>17.2</td>\n      <td>17.3</td>\n      <td>0.479</td>\n      <td>10.1</td>\n    </tr>\n    <tr>\n      <th>1</th>\n      <td>Afghanistan</td>\n      <td>1</td>\n      <td>59.9</td>\n      <td>271.0</td>\n      <td>0.01</td>\n      <td>73.523582</td>\n      <td>62.0</td>\n      <td>18.6</td>\n      <td>58.00000</td>\n      <td>62.0</td>\n      <td>0.1</td>\n      <td>612.696514</td>\n      <td>327582.0</td>\n      <td>17.5</td>\n      <td>17.5</td>\n      <td>0.476</td>\n      <td>10.0</td>\n    </tr>\n    <tr>\n      <th>2</th>\n      <td>Afghanistan</td>\n      <td>1</td>\n      <td>59.9</td>\n      <td>268.0</td>\n      <td>0.01</td>\n      <td>73.219243</td>\n      <td>64.0</td>\n      <td>18.1</td>\n      <td>62.00000</td>\n      <td>64.0</td>\n      <td>0.1</td>\n      <td>631.744976</td>\n      <td>31731688.0</td>\n      <td>17.7</td>\n      <td>17.7</td>\n      <td>0.470</td>\n      <td>9.9</td>\n    </tr>\n    <tr>\n      <th>3</th>\n      <td>Afghanistan</td>\n      <td>1</td>\n      <td>59.5</td>\n      <td>272.0</td>\n      <td>0.01</td>\n      <td>78.184215</td>\n      <td>67.0</td>\n      <td>17.6</td>\n      <td>67.00000</td>\n      <td>67.0</td>\n      <td>0.1</td>\n      <td>669.959</td>\n      <td>3696958.0</td>\n      <td>17.9</td>\n      <td>18.0</td>\n      <td>0.463</td>\n      <td>9.8</td>\n    </tr>\n    <tr>\n      <th>4</th>\n      <td>Afghanistan</td>\n      <td>1</td>\n      <td>59.2</td>\n      <td>275.0</td>\n      <td>0.01</td>\n      <td>7.097109</td>\n      <td>68.0</td>\n      <td>17.2</td>\n      <td>68.00000</td>\n      <td>68.0</td>\n      <td>0.1</td>\n      <td>635.37231</td>\n      <td>2978599.0</td>\n      <td>18.2</td>\n      <td>18.2</td>\n      <td>0.454</td>\n      <td>9.5</td>\n    </tr>\n    <tr>\n      <th>...</th>\n      <td>...</td>\n      <td>...</td>\n      <td>...</td>\n      <td>...</td>\n      <td>...</td>\n      <td>...</td>\n      <td>...</td>\n      <td>...</td>\n      <td>...</td>\n      <td>...</td>\n      <td>...</td>\n      <td>...</td>\n      <td>...</td>\n      <td>...</td>\n      <td>...</td>\n      <td>...</td>\n      <td>...</td>\n    </tr>\n    <tr>\n      <th>2933</th>\n      <td>Zimbabwe</td>\n      <td>1</td>\n      <td>44.3</td>\n      <td>723.0</td>\n      <td>4.36</td>\n      <td>0.000000</td>\n      <td>68.0</td>\n      <td>27.1</td>\n      <td>67.00000</td>\n      <td>65.0</td>\n      <td>33.6</td>\n      <td>NaN</td>\n      <td>12777511.0</td>\n      <td>9.4</td>\n      <td>9.4</td>\n      <td>0.407</td>\n      <td>9.2</td>\n    </tr>\n    <tr>\n      <th>2934</th>\n      <td>Zimbabwe</td>\n      <td>1</td>\n      <td>44.5</td>\n      <td>715.0</td>\n      <td>4.06</td>\n      <td>0.000000</td>\n      <td>7.0</td>\n      <td>26.7</td>\n      <td>87.19214</td>\n      <td>68.0</td>\n      <td>36.7</td>\n      <td>NaN</td>\n      <td>12633897.0</td>\n      <td>9.8</td>\n      <td>9.9</td>\n      <td>0.418</td>\n      <td>9.5</td>\n    </tr>\n    <tr>\n      <th>2935</th>\n      <td>Zimbabwe</td>\n      <td>1</td>\n      <td>44.8</td>\n      <td>73.0</td>\n      <td>4.43</td>\n      <td>0.000000</td>\n      <td>73.0</td>\n      <td>26.3</td>\n      <td>73.00000</td>\n      <td>71.0</td>\n      <td>39.8</td>\n      <td>NaN</td>\n      <td>125525.0</td>\n      <td>1.2</td>\n      <td>1.3</td>\n      <td>0.427</td>\n      <td>10.0</td>\n    </tr>\n    <tr>\n      <th>2936</th>\n      <td>Zimbabwe</td>\n      <td>1</td>\n      <td>45.3</td>\n      <td>686.0</td>\n      <td>1.72</td>\n      <td>0.000000</td>\n      <td>76.0</td>\n      <td>25.9</td>\n      <td>76.00000</td>\n      <td>75.0</td>\n      <td>42.1</td>\n      <td>NaN</td>\n      <td>12366165.0</td>\n      <td>1.6</td>\n      <td>1.7</td>\n      <td>0.427</td>\n      <td>9.8</td>\n    </tr>\n    <tr>\n      <th>2937</th>\n      <td>Zimbabwe</td>\n      <td>1</td>\n      <td>46.0</td>\n      <td>665.0</td>\n      <td>1.68</td>\n      <td>0.000000</td>\n      <td>79.0</td>\n      <td>25.5</td>\n      <td>78.00000</td>\n      <td>78.0</td>\n      <td>43.5</td>\n      <td>NaN</td>\n      <td>12222251.0</td>\n      <td>11.0</td>\n      <td>11.2</td>\n      <td>0.434</td>\n      <td>9.8</td>\n    </tr>\n  </tbody>\n</table>\n<p>2928 rows × 17 columns</p>\n</div>"
     },
     "metadata": {}
    }
   ]
  },
  {
   "cell_type": "code",
   "metadata": {
    "tags": [],
    "cell_id": "00075-ac142616-3a24-4cfb-b0ce-cc06d073c084",
    "deepnote_to_be_reexecuted": false,
    "source_hash": "6f2e13bd",
    "execution_start": 1661363085634,
    "execution_millis": 9,
    "deepnote_cell_type": "code",
    "deepnote_cell_height": 76
   },
   "source": "df['GDP'] = df['GDP'].astype('float')",
   "execution_count": 50,
   "outputs": []
  },
  {
   "cell_type": "markdown",
   "source": "* Nyní vyřeším nan.",
   "metadata": {
    "tags": [],
    "cell_id": "00075-3981f36f-707e-4a4a-bc88-9a0ce86042c9",
    "deepnote_cell_type": "markdown",
    "deepnote_cell_height": 69.390625
   }
  },
  {
   "cell_type": "code",
   "metadata": {
    "tags": [],
    "cell_id": "00076-253086f5-9763-4b08-bb17-8a81ce700a65",
    "deepnote_to_be_reexecuted": false,
    "source_hash": "1cfb24f2",
    "execution_start": 1661363085649,
    "execution_millis": 266,
    "deepnote_cell_type": "code",
    "deepnote_cell_height": 113.1875,
    "deepnote_output_heights": [
     20.1875
    ]
   },
   "source": "df['Life expectancy'].corr(df['GDP'])",
   "execution_count": 51,
   "outputs": [
    {
     "output_type": "execute_result",
     "execution_count": 51,
     "data": {
      "text/plain": "0.39765321128758696"
     },
     "metadata": {}
    }
   ]
  },
  {
   "cell_type": "code",
   "metadata": {
    "tags": [],
    "cell_id": "00077-405a4fb6-e01c-4565-9ebb-70753cea9d61",
    "deepnote_to_be_reexecuted": false,
    "source_hash": "8c862eb9",
    "execution_start": 1661363085695,
    "execution_millis": 0,
    "deepnote_cell_type": "code",
    "deepnote_cell_height": 94
   },
   "source": "tmp = df.copy(deep=True)\ntmp[tmp['GDP'].isna()] = tmp['GDP'].mean()",
   "execution_count": 52,
   "outputs": []
  },
  {
   "cell_type": "code",
   "metadata": {
    "tags": [],
    "cell_id": "00079-ff230574-e06b-4e64-b508-00979026e475",
    "deepnote_to_be_reexecuted": false,
    "source_hash": "b48a0d93",
    "execution_start": 1661363085696,
    "execution_millis": 219,
    "deepnote_cell_type": "code",
    "deepnote_cell_height": 113.1875,
    "deepnote_output_heights": [
     20.1875
    ]
   },
   "source": "tmp['Life expectancy'].corr(tmp['GDP'])",
   "execution_count": 53,
   "outputs": [
    {
     "output_type": "execute_result",
     "execution_count": 53,
     "data": {
      "text/plain": "0.0008922447961236101"
     },
     "metadata": {}
    }
   ]
  },
  {
   "cell_type": "markdown",
   "source": "* Je zřejmé, že naivně nahradit GDP v tomhle případě nepůjde, aniž by to nemělo špatný vliv na korelaci. \n* V tuhle chvíli tedy dropnu 'GDP'. Možná se k tomu později vrátím.",
   "metadata": {
    "tags": [],
    "cell_id": "00079-f89eed3f-7877-4f2c-813e-722869720774",
    "deepnote_cell_type": "markdown",
    "deepnote_cell_height": 94.796875
   }
  },
  {
   "cell_type": "code",
   "metadata": {
    "tags": [],
    "cell_id": "00080-ae1cb8b5-0052-48ac-a3ed-11a398f74d67",
    "deepnote_to_be_reexecuted": false,
    "source_hash": "c48b3a66",
    "execution_start": 1661363085740,
    "execution_millis": 20827236202,
    "deepnote_cell_type": "code",
    "deepnote_cell_height": 76
   },
   "source": "df.drop(columns=['GDP'], inplace=True)",
   "execution_count": 54,
   "outputs": []
  },
  {
   "cell_type": "markdown",
   "source": "* U 'Population' mě očekávají podobné problémy, jako u 'GDP', proto to preventivně dropnu, abych si nepřidělával zbytečnou práci v tento okamžik. ",
   "metadata": {
    "tags": [],
    "cell_id": "00081-ee902531-5dc2-48fa-b924-feef022e67b4",
    "deepnote_cell_type": "markdown",
    "deepnote_cell_height": 91.796875
   }
  },
  {
   "cell_type": "code",
   "metadata": {
    "tags": [],
    "cell_id": "00081-f9769aac-3ee8-42ca-81db-717daeea4a54",
    "deepnote_to_be_reexecuted": false,
    "source_hash": "5a9f41b7",
    "execution_start": 1661363085783,
    "execution_millis": 20827236245,
    "deepnote_cell_type": "code",
    "deepnote_cell_height": 76
   },
   "source": "df.drop(columns=['Population'], inplace=True)",
   "execution_count": 55,
   "outputs": []
  },
  {
   "cell_type": "markdown",
   "source": "* Mrknu se na thinness.",
   "metadata": {
    "tags": [],
    "cell_id": "00083-6f71717e-4d5d-48c9-8a9f-4c1032d97cad",
    "deepnote_cell_type": "markdown",
    "deepnote_cell_height": 69.390625
   }
  },
  {
   "cell_type": "code",
   "metadata": {
    "tags": [],
    "cell_id": "00083-401c3fee-c228-408c-be75-f48d1e41a278",
    "deepnote_to_be_reexecuted": false,
    "source_hash": "e4971ead",
    "execution_start": 1661363085784,
    "execution_millis": 0,
    "deepnote_cell_type": "code",
    "deepnote_cell_height": 113.1875,
    "deepnote_output_heights": [
     20.1875
    ]
   },
   "source": "df[df['thinness  1-19 years'].isna()]['Country'].unique()",
   "execution_count": 56,
   "outputs": [
    {
     "output_type": "execute_result",
     "execution_count": 56,
     "data": {
      "text/plain": "array(['South Sudan', 'Sudan'], dtype=object)"
     },
     "metadata": {}
    }
   ]
  },
  {
   "cell_type": "code",
   "metadata": {
    "tags": [],
    "cell_id": "00085-67cf06aa-b7fa-4d58-9ea1-d5f6ad1736bf",
    "deepnote_to_be_reexecuted": false,
    "source_hash": "e221dd1",
    "execution_start": 1661363085785,
    "execution_millis": 133,
    "deepnote_cell_type": "code",
    "deepnote_cell_height": 202
   },
   "source": "# sudan_means - list, který v sobě má průměrné 'thinness  1-19 years'\n#               zemí, které jsou Sudánu podobné\nsudan_means = []\nsudan_means.append(df[df['Country'] == 'Chad']['thinness  1-19 years'].mean())\nsudan_means.append(df[df['Country'] == 'Somalia']['thinness  1-19 years'].mean())\nsudan_means.append(df[df['Country'] == 'Ethiopia']['thinness  1-19 years'].mean())\nsudan_means.append(df[df['Country'] == 'Eritrea']['thinness  1-19 years'].mean())\nsudan_means.append(df[df['Country'] == 'Mauritania']['thinness  1-19 years'].mean())",
   "execution_count": 57,
   "outputs": []
  },
  {
   "cell_type": "code",
   "metadata": {
    "tags": [],
    "cell_id": "00086-1850e6bf-8e05-4537-b74e-5948681e8b96",
    "deepnote_to_be_reexecuted": false,
    "source_hash": "c28efd71",
    "execution_start": 1661363085829,
    "execution_millis": 6,
    "deepnote_cell_type": "code",
    "deepnote_cell_height": 76
   },
   "source": "sudan_th_1_19 = sum(sudan_means)/len(sudan_means)",
   "execution_count": 58,
   "outputs": []
  },
  {
   "cell_type": "code",
   "metadata": {
    "tags": [],
    "cell_id": "00087-7ed1eb74-8b5d-43d2-a6c4-6a2f576fbc79",
    "deepnote_to_be_reexecuted": false,
    "source_hash": "8b7f6278",
    "execution_start": 1661363085883,
    "execution_millis": 0,
    "deepnote_cell_type": "code",
    "deepnote_cell_height": 76
   },
   "source": "df.loc[df['thinness  1-19 years'].isna(), 'thinness  1-19 years'] = sudan_th_1_19",
   "execution_count": 59,
   "outputs": []
  },
  {
   "cell_type": "code",
   "metadata": {
    "tags": [],
    "cell_id": "00088-0c6544f7-1a8f-4eff-8494-a0e6f78c0987",
    "deepnote_to_be_reexecuted": false,
    "source_hash": "9b5b2832",
    "execution_start": 1661363085884,
    "execution_millis": 36,
    "deepnote_cell_type": "code",
    "deepnote_cell_height": 113.1875,
    "deepnote_output_heights": [
     20.1875
    ]
   },
   "source": "df[df['thinness 5-9 years'].isna()]['Country'].unique()",
   "execution_count": 60,
   "outputs": [
    {
     "output_type": "execute_result",
     "execution_count": 60,
     "data": {
      "text/plain": "array(['South Sudan', 'Sudan'], dtype=object)"
     },
     "metadata": {}
    }
   ]
  },
  {
   "cell_type": "code",
   "metadata": {
    "tags": [],
    "cell_id": "00089-7bd12537-8c6c-4f11-97aa-919ec5e1b670",
    "deepnote_to_be_reexecuted": false,
    "source_hash": "3315ebfd",
    "execution_start": 1661363085885,
    "execution_millis": 47,
    "deepnote_cell_type": "code",
    "deepnote_cell_height": 202
   },
   "source": "# sudan_means - list, který v sobě má průměrné 'thinness  5-9 years'\n#               zemí, které jsou Sudánu podobné\nsudan_means = []\nsudan_means.append(df[df['Country'] == 'Chad']['thinness 5-9 years'].mean())\nsudan_means.append(df[df['Country'] == 'Somalia']['thinness 5-9 years'].mean())\nsudan_means.append(df[df['Country'] == 'Ethiopia']['thinness 5-9 years'].mean())\nsudan_means.append(df[df['Country'] == 'Eritrea']['thinness 5-9 years'].mean())\nsudan_means.append(df[df['Country'] == 'Mauritania']['thinness 5-9 years'].mean())",
   "execution_count": 61,
   "outputs": []
  },
  {
   "cell_type": "code",
   "metadata": {
    "tags": [],
    "cell_id": "00090-5cb2efe9-4fc4-4c19-b822-0edcaf35edc4",
    "deepnote_to_be_reexecuted": false,
    "source_hash": "a00e4455",
    "execution_start": 1661363085933,
    "execution_millis": 20827236262,
    "deepnote_cell_type": "code",
    "deepnote_cell_height": 76
   },
   "source": "sudan_th_5_19 = sum(sudan_means)/len(sudan_means)",
   "execution_count": 62,
   "outputs": []
  },
  {
   "cell_type": "code",
   "metadata": {
    "tags": [],
    "cell_id": "00091-a5e6015e-c83e-40c6-b097-1049ef6d25a0",
    "deepnote_to_be_reexecuted": false,
    "source_hash": "eeebee64",
    "execution_start": 1661363085945,
    "execution_millis": 20827236250,
    "deepnote_cell_type": "code",
    "deepnote_cell_height": 76
   },
   "source": "df.loc[df['thinness 5-9 years'].isna(), 'thinness 5-9 years'] = sudan_th_5_19",
   "execution_count": 63,
   "outputs": []
  },
  {
   "cell_type": "markdown",
   "source": "* Nyní vyřeším problémy s 'Income composition of resources'.",
   "metadata": {
    "tags": [],
    "cell_id": "00092-0b563204-9ef9-481c-a1e7-abb2c8eb7ac7",
    "deepnote_cell_type": "markdown",
    "deepnote_cell_height": 69.390625
   }
  },
  {
   "cell_type": "code",
   "metadata": {
    "tags": [],
    "cell_id": "00093-65a31cdd-6d90-438d-a9be-e28e8e6a3105",
    "deepnote_to_be_reexecuted": false,
    "source_hash": "79d8bbfd",
    "execution_start": 1661363085963,
    "execution_millis": 20827236206,
    "deepnote_cell_type": "code",
    "deepnote_cell_height": 113.1875,
    "deepnote_output_heights": [
     20.1875
    ]
   },
   "source": "df[df['Income composition of resources'].isna()].shape[0]",
   "execution_count": 64,
   "outputs": [
    {
     "output_type": "execute_result",
     "execution_count": 64,
     "data": {
      "text/plain": "160"
     },
     "metadata": {}
    }
   ]
  },
  {
   "cell_type": "code",
   "metadata": {
    "tags": [],
    "cell_id": "00092-6af6a8c3-09c4-490c-b507-35e228cd9910",
    "deepnote_to_be_reexecuted": false,
    "source_hash": "a6145669",
    "execution_start": 1661363086064,
    "execution_millis": 20827236220,
    "deepnote_cell_type": "code",
    "deepnote_cell_height": 228.3125,
    "deepnote_output_heights": [
     135.359375
    ]
   },
   "source": "df[df['Income composition of resources'].isna()]['Country'].unique()",
   "execution_count": 65,
   "outputs": [
    {
     "output_type": "execute_result",
     "execution_count": 65,
     "data": {
      "text/plain": "array([\"Côte d'Ivoire\", 'Czechia',\n       \"Democratic People's Republic of Korea\",\n       'Democratic Republic of the Congo', 'Republic of Korea',\n       'Republic of Moldova', 'Somalia',\n       'United Kingdom of Great Britain and Northern Ireland',\n       'United Republic of Tanzania', 'United States of America'],\n      dtype=object)"
     },
     "metadata": {}
    }
   ]
  },
  {
   "cell_type": "code",
   "metadata": {
    "tags": [],
    "cell_id": "00094-587152c1-d789-4c1c-bbd9-855a89d657c7",
    "deepnote_to_be_reexecuted": false,
    "source_hash": "46ab54b9",
    "execution_start": 1661363086065,
    "execution_millis": 20827236233,
    "deepnote_cell_type": "code",
    "deepnote_cell_height": 113.1875,
    "deepnote_output_heights": [
     20.1875
    ]
   },
   "source": "df['Life expectancy'].corr(df['Income composition of resources'])",
   "execution_count": 66,
   "outputs": [
    {
     "output_type": "execute_result",
     "execution_count": 66,
     "data": {
      "text/plain": "0.7247759785960611"
     },
     "metadata": {}
    }
   ]
  },
  {
   "cell_type": "code",
   "metadata": {
    "tags": [],
    "cell_id": "00094-7644df87-2611-4e2f-9ed9-0caec9f81619",
    "deepnote_to_be_reexecuted": false,
    "source_hash": "4e5889b6",
    "execution_start": 1661363086065,
    "execution_millis": 7,
    "deepnote_cell_type": "code",
    "deepnote_cell_height": 850
   },
   "source": "icr = \"Income composition of resources\"\n\ndf.loc[(df[\"Country\"] == \"Côte d'Ivoire\") & (df[icr].isna()), icr] = df[\n    df[\"Country\"] == \"Guinea\"\n][icr].mean()\n\ndf.loc[(df[\"Country\"] == \"Czechia\") & (df[icr].isna()), icr] = df[\n    df[\"Country\"] == \"Slovakia\"\n][icr].mean()\n\ndf.loc[\n    (df[\"Country\"] == \"Democratic People's Republic of Korea\") & (df[icr].isna()), icr\n] = df[df[\"Country\"] == \"Japan\"][icr].mean()\n\ndf.loc[\n    (df[\"Country\"] == \"Democratic Republic of the Congo\") & (df[icr].isna()), icr\n] = df[df[\"Country\"] == \"Angola\"][icr].mean()\n\ndf.loc[(df[\"Country\"] == \"Republic of Korea\") & (df[icr].isna()), icr] = df[\n    df[\"Country\"] == \"Japan\"\n][icr].mean()\n\ndf.loc[(df[\"Country\"] == \"Republic of Moldova\") & (df[icr].isna()), icr] = df[\n    df[\"Country\"] == \"Ukraine\"\n][icr].mean()\n\ndf.loc[(df[\"Country\"] == \"Somalia\") & (df[icr].isna()), icr] = df[\n    df[\"Country\"] == \"Ethiopia\"\n][icr].mean()\n\ndf.loc[\n    (df[\"Country\"] == \"United Kingdom of Great Britain and Northern Ireland\")\n    & (df[icr].isna()),\n    icr,\n] = df[df[\"Country\"] == \"Ireland\"][icr].mean()\n\ndf.loc[(df[\"Country\"] == \"United Republic of Tanzania\") & (df[icr].isna()), icr] = df[\n    df[\"Country\"] == \"Angola\"\n][icr].mean()\n\ndf.loc[(df[\"Country\"] == \"United States of America\") & (df[icr].isna()), icr] = df[\n    df[\"Country\"] == \"Canada\"\n][icr].mean()\n",
   "execution_count": 67,
   "outputs": []
  },
  {
   "cell_type": "code",
   "metadata": {
    "tags": [],
    "cell_id": "00097-9aa4d5aa-3aa7-48b6-a583-7c40a59d07c6",
    "deepnote_to_be_reexecuted": false,
    "source_hash": "46ab54b9",
    "execution_start": 1661363086068,
    "execution_millis": 60,
    "deepnote_cell_type": "code",
    "deepnote_cell_height": 113.1875,
    "deepnote_output_heights": [
     20.1875
    ]
   },
   "source": "df['Life expectancy'].corr(df['Income composition of resources'])",
   "execution_count": 68,
   "outputs": [
    {
     "output_type": "execute_result",
     "execution_count": 68,
     "data": {
      "text/plain": "0.7346492739021891"
     },
     "metadata": {}
    }
   ]
  },
  {
   "cell_type": "markdown",
   "source": "* Nahrazení proběhlo na základě mého subjektivního pozorování toho, že určité země si jsou podobné. Byť je velmi naivní, proběhlo poměrně úspěšně. Korelace vůči vysvětlované proměnné se vychýlila o +0.01 vůči korelaci původní. ",
   "metadata": {
    "tags": [],
    "cell_id": "00099-7317a368-41c7-4ecd-b46b-244aabb81c05",
    "deepnote_cell_type": "markdown",
    "deepnote_cell_height": 91.796875
   }
  },
  {
   "cell_type": "code",
   "metadata": {
    "tags": [],
    "cell_id": "00100-17490b97-1c55-4fb3-84d3-8edb764751bc",
    "deepnote_to_be_reexecuted": false,
    "source_hash": "593d60a6",
    "execution_start": 1661363086130,
    "execution_millis": 49,
    "deepnote_cell_type": "code",
    "deepnote_cell_height": 113.1875,
    "deepnote_output_heights": [
     20.1875
    ]
   },
   "source": "df['Life expectancy'].corr(df['Schooling'])",
   "execution_count": 69,
   "outputs": [
    {
     "output_type": "execute_result",
     "execution_count": 69,
     "data": {
      "text/plain": "0.7519754627366978"
     },
     "metadata": {}
    }
   ]
  },
  {
   "cell_type": "code",
   "metadata": {
    "tags": [],
    "cell_id": "00100-277ba08a-3387-45f9-9512-33d24bead28f",
    "deepnote_to_be_reexecuted": false,
    "source_hash": "752595b0",
    "execution_start": 1661363086156,
    "execution_millis": 23,
    "deepnote_cell_type": "code",
    "deepnote_cell_height": 227.359375,
    "deepnote_output_heights": [
     135.359375
    ]
   },
   "source": "df[df['Schooling'].isna()]['Country'].unique()",
   "execution_count": 70,
   "outputs": [
    {
     "output_type": "execute_result",
     "execution_count": 70,
     "data": {
      "text/plain": "array([\"Côte d'Ivoire\", 'Czechia',\n       \"Democratic People's Republic of Korea\",\n       'Democratic Republic of the Congo', 'Republic of Korea',\n       'Republic of Moldova', 'Somalia',\n       'United Kingdom of Great Britain and Northern Ireland',\n       'United Republic of Tanzania', 'United States of America'],\n      dtype=object)"
     },
     "metadata": {}
    }
   ]
  },
  {
   "cell_type": "code",
   "metadata": {
    "tags": [],
    "cell_id": "00102-7ec922ad-0914-41df-ac47-f061e2dd531d",
    "deepnote_to_be_reexecuted": false,
    "source_hash": "25238c1e",
    "execution_start": 1661363086227,
    "execution_millis": 49,
    "deepnote_cell_type": "code",
    "deepnote_cell_height": 850
   },
   "source": "icr = \"Schooling\"\n\ndf.loc[(df[\"Country\"] == \"Côte d'Ivoire\") & (df[icr].isna()), icr] = df[\n    df[\"Country\"] == \"Guinea\"\n][icr].mean()\n\ndf.loc[(df[\"Country\"] == \"Czechia\") & (df[icr].isna()), icr] = df[\n    df[\"Country\"] == \"Slovakia\"\n][icr].mean()\n\ndf.loc[\n    (df[\"Country\"] == \"Democratic People's Republic of Korea\") & (df[icr].isna()), icr\n] = df[df[\"Country\"] == \"Japan\"][icr].mean()\n\ndf.loc[\n    (df[\"Country\"] == \"Democratic Republic of the Congo\") & (df[icr].isna()), icr\n] = df[df[\"Country\"] == \"Angola\"][icr].mean()\n\ndf.loc[(df[\"Country\"] == \"Republic of Korea\") & (df[icr].isna()), icr] = df[\n    df[\"Country\"] == \"Japan\"\n][icr].mean()\n\ndf.loc[(df[\"Country\"] == \"Republic of Moldova\") & (df[icr].isna()), icr] = df[\n    df[\"Country\"] == \"Ukraine\"\n][icr].mean()\n\ndf.loc[(df[\"Country\"] == \"Somalia\") & (df[icr].isna()), icr] = df[\n    df[\"Country\"] == \"Ethiopia\"\n][icr].mean()\n\ndf.loc[\n    (df[\"Country\"] == \"United Kingdom of Great Britain and Northern Ireland\")\n    & (df[icr].isna()),\n    icr,\n] = df[df[\"Country\"] == \"Ireland\"][icr].mean()\n\ndf.loc[(df[\"Country\"] == \"United Republic of Tanzania\") & (df[icr].isna()), icr] = df[\n    df[\"Country\"] == \"Angola\"\n][icr].mean()\n\ndf.loc[(df[\"Country\"] == \"United States of America\") & (df[icr].isna()), icr] = df[\n    df[\"Country\"] == \"Canada\"\n][icr].mean()\n",
   "execution_count": 71,
   "outputs": []
  },
  {
   "cell_type": "code",
   "metadata": {
    "tags": [],
    "cell_id": "00103-aa185b23-7082-4798-be5f-b6a453b223bf",
    "deepnote_to_be_reexecuted": false,
    "source_hash": "593d60a6",
    "execution_start": 1661363086287,
    "execution_millis": 28,
    "deepnote_cell_type": "code",
    "deepnote_cell_height": 112.1875,
    "deepnote_output_heights": [
     20.1875
    ]
   },
   "source": "df['Life expectancy'].corr(df['Schooling'])",
   "execution_count": 72,
   "outputs": [
    {
     "output_type": "execute_result",
     "execution_count": 72,
     "data": {
      "text/plain": "0.7641850933833737"
     },
     "metadata": {}
    }
   ]
  },
  {
   "cell_type": "markdown",
   "source": "* Nyní se korelace mezi 'Life expectancy' a 'Schooling' zvětšila o pouhých ~0.12.",
   "metadata": {
    "tags": [],
    "cell_id": "00104-eea76cfb-b196-4255-ac47-065ab61469eb",
    "deepnote_cell_type": "markdown",
    "deepnote_cell_height": 69.390625
   }
  },
  {
   "cell_type": "markdown",
   "source": "* Kouknu se na sloupec 'Diphtheria'.",
   "metadata": {
    "tags": [],
    "cell_id": "00105-c00cedc1-e3e5-487a-879d-dbbae408eb81",
    "deepnote_cell_type": "markdown",
    "deepnote_cell_height": 69.390625
   }
  },
  {
   "cell_type": "markdown",
   "source": "* Nejdříve opravím případné chyby v datech, kde je chybně hodnota menší, než 10.",
   "metadata": {
    "tags": [],
    "cell_id": "00106-3a3188b4-d069-49d0-bdf1-aa593c7da2d2",
    "deepnote_cell_type": "markdown",
    "deepnote_cell_height": 69.390625
   }
  },
  {
   "cell_type": "code",
   "metadata": {
    "tags": [],
    "cell_id": "00105-96e0f157-934e-4d28-b0b7-a01436137fab",
    "deepnote_to_be_reexecuted": false,
    "source_hash": "7a05ba8b",
    "execution_start": 1661363086367,
    "execution_millis": 0,
    "deepnote_cell_type": "code",
    "deepnote_cell_height": 81
   },
   "source": "df.loc[df['Diphtheria'] < 10, 'Diphtheria'] = df[df['Diphtheria'] < 10]['Diphtheria'].apply(lambda x: x * 10)",
   "execution_count": 73,
   "outputs": []
  },
  {
   "cell_type": "code",
   "metadata": {
    "tags": [],
    "cell_id": "00108-43675a07-2cb5-406b-a3e9-c1554f91d5fa",
    "deepnote_to_be_reexecuted": false,
    "source_hash": "37a5a1fe",
    "execution_start": 1661363086367,
    "execution_millis": 16,
    "deepnote_cell_type": "code",
    "deepnote_cell_height": 112.1875,
    "deepnote_output_heights": [
     20.1875
    ]
   },
   "source": "df['Life expectancy'].corr(df['Diphtheria'])",
   "execution_count": 74,
   "outputs": [
    {
     "output_type": "execute_result",
     "execution_count": 74,
     "data": {
      "text/plain": "0.6197184926804035"
     },
     "metadata": {}
    }
   ]
  },
  {
   "cell_type": "code",
   "metadata": {
    "tags": [],
    "cell_id": "00108-fe7a1812-81ee-4916-b815-97fbf38046cb",
    "deepnote_to_be_reexecuted": false,
    "source_hash": "d62f78d5",
    "execution_start": 1661363086368,
    "execution_millis": 46,
    "deepnote_cell_type": "code",
    "deepnote_cell_height": 112.1875,
    "deepnote_output_heights": [
     20.1875
    ]
   },
   "source": "df[df['Diphtheria'].isna()]['Country'].unique()",
   "execution_count": 75,
   "outputs": [
    {
     "output_type": "execute_result",
     "execution_count": 75,
     "data": {
      "text/plain": "array(['Montenegro', 'South Sudan', 'Timor-Leste'], dtype=object)"
     },
     "metadata": {}
    }
   ]
  },
  {
   "cell_type": "code",
   "metadata": {
    "tags": [],
    "cell_id": "00109-eafb0081-d245-45e9-8cc9-a821b5d6ab30",
    "deepnote_to_be_reexecuted": false,
    "source_hash": "e42f824d",
    "execution_start": 1661363086434,
    "execution_millis": 15,
    "deepnote_cell_type": "code",
    "deepnote_cell_height": 225
   },
   "source": "df.loc[df['Country'] == 'Montenegro', 'Diphtheria']  = (df[df['Country'] == 'Serbia']['Diphtheria'].mean() + df[\n    df['Country'] == 'Bosnia and Herzegovina']['Diphtheria'].mean() + df[\n        df['Country'] == 'Albania']['Diphtheria'].mean() + df[\n            df['Country'] == 'Croatia']['Diphtheria'].mean())/4\n\ndf.loc[df['Country'] == 'South Sudan', 'Diphtheria']  = df[df['Country'] == 'Sudan']['Diphtheria'].mean()\n\ndf.loc[df['Country'] == 'Timor-Leste', 'Diphtheria']  = df[df['Country'] == 'Indonesia']['Diphtheria'].mean()\n",
   "execution_count": 76,
   "outputs": []
  },
  {
   "cell_type": "code",
   "metadata": {
    "tags": [],
    "cell_id": "00111-219a989d-7604-4742-a72f-de55129fee84",
    "deepnote_to_be_reexecuted": false,
    "source_hash": "37a5a1fe",
    "execution_start": 1661363086455,
    "execution_millis": 7,
    "deepnote_cell_type": "code",
    "deepnote_cell_height": 112.1875,
    "deepnote_output_heights": [
     20.1875
    ]
   },
   "source": "df['Life expectancy'].corr(df['Diphtheria'])",
   "execution_count": 77,
   "outputs": [
    {
     "output_type": "execute_result",
     "execution_count": 77,
     "data": {
      "text/plain": "0.617660611850324"
     },
     "metadata": {}
    }
   ]
  },
  {
   "cell_type": "markdown",
   "source": "* Korelace vůči vysvětlované proměnné se nehnula. Hnula se o pouhých ~0.002.",
   "metadata": {
    "tags": [],
    "cell_id": "00112-97304f16-636f-45d8-8784-18a17c153519",
    "deepnote_cell_type": "markdown",
    "deepnote_cell_height": 69.390625
   }
  },
  {
   "cell_type": "markdown",
   "source": "* Nyní už jen doladit určité hodnoty u 'Hepatitis B'.",
   "metadata": {
    "tags": [],
    "cell_id": "00113-16d2d502-1565-444b-9fa3-b2ab99d2cc9a",
    "deepnote_cell_type": "markdown",
    "deepnote_cell_height": 69.390625
   }
  },
  {
   "cell_type": "code",
   "metadata": {
    "tags": [],
    "cell_id": "00114-372973bf-4f63-4cf4-bc1a-935cd1d4d3a2",
    "deepnote_to_be_reexecuted": false,
    "source_hash": "7c83b35f",
    "execution_start": 1661363086474,
    "execution_millis": 4,
    "deepnote_cell_type": "code",
    "deepnote_cell_height": 112.1875,
    "deepnote_output_heights": [
     20.1875
    ]
   },
   "source": "df['Life expectancy'].corr(df['Hepatitis B'])",
   "execution_count": 78,
   "outputs": [
    {
     "output_type": "execute_result",
     "execution_count": 78,
     "data": {
      "text/plain": "0.2843576620815246"
     },
     "metadata": {}
    }
   ]
  },
  {
   "cell_type": "code",
   "metadata": {
    "tags": [],
    "cell_id": "00114-8d28b06d-b996-420d-aeeb-ca0e4801f885",
    "deepnote_to_be_reexecuted": false,
    "source_hash": "4888a7ff",
    "execution_start": 1661363086523,
    "execution_millis": 36,
    "deepnote_cell_type": "code",
    "deepnote_cell_height": 76
   },
   "source": "df.loc[df['Hepatitis B'] < 10, 'Hepatitis B'] = df[df['Hepatitis B'] < 10].apply(lambda x: x * 10)",
   "execution_count": 79,
   "outputs": []
  },
  {
   "cell_type": "code",
   "metadata": {
    "tags": [],
    "cell_id": "00115-458520b4-5b9b-49bd-80c6-e77d90c6464f",
    "deepnote_to_be_reexecuted": false,
    "source_hash": "7c83b35f",
    "execution_start": 1661363086559,
    "execution_millis": 3,
    "deepnote_cell_type": "code",
    "deepnote_cell_height": 112.1875,
    "deepnote_output_heights": [
     20.1875
    ]
   },
   "source": "df['Life expectancy'].corr(df['Hepatitis B'])",
   "execution_count": 80,
   "outputs": [
    {
     "output_type": "execute_result",
     "execution_count": 80,
     "data": {
      "text/plain": "0.3278955743520095"
     },
     "metadata": {}
    }
   ]
  },
  {
   "cell_type": "markdown",
   "source": "* Konečně můžu jít na regresi s případným odladěním dat v budoucnu.",
   "metadata": {
    "tags": [],
    "cell_id": "00116-fb2142b4-f29b-46e1-98fb-d8ad14901910",
    "deepnote_cell_type": "markdown",
    "deepnote_cell_height": 69.390625
   }
  },
  {
   "cell_type": "markdown",
   "source": "## 4. Aplikujte lineární a hřebenovou regresi a výsledky řádně vyhodnoťte:\n\n* K měření chyby použijte mean_absolute_error.",
   "metadata": {
    "tags": [],
    "cell_id": "00116-7711b349-efe4-48ff-8121-d0d3d6d8ac1c",
    "deepnote_cell_type": "markdown",
    "deepnote_cell_height": 162.390625
   }
  },
  {
   "cell_type": "markdown",
   "source": "* Zavedu si funkci na měření chyby pomocí mean_absolute_error.",
   "metadata": {
    "tags": [],
    "cell_id": "00118-33ab40d4-87dd-4b2a-89a5-af81e2dda94c",
    "deepnote_cell_type": "markdown",
    "deepnote_cell_height": 69.390625
   }
  },
  {
   "cell_type": "code",
   "metadata": {
    "tags": [],
    "cell_id": "00120-9666df16-3c4d-420f-ad0e-a3fbe3207864",
    "deepnote_to_be_reexecuted": false,
    "source_hash": "8e82d29",
    "execution_start": 1661363086560,
    "execution_millis": 0,
    "deepnote_cell_type": "code",
    "deepnote_cell_height": 130
   },
   "source": "def get_mae(y_test, y_pred):\n    from sklearn.metrics import mean_absolute_error\n\n    return mean_absolute_error(y_test, y_pred)",
   "execution_count": 81,
   "outputs": []
  },
  {
   "cell_type": "code",
   "metadata": {
    "tags": [],
    "cell_id": "00119-915bfc94-0f99-4303-b82e-84f37b602d7e",
    "deepnote_to_be_reexecuted": false,
    "source_hash": "2407bdeb",
    "execution_start": 1661363086561,
    "execution_millis": 6,
    "deepnote_cell_type": "code",
    "deepnote_cell_height": 252.390625
   },
   "source": "X, X_test, Y, Y_test = train_test_split(\n    df.drop(columns=[\"Country\", \"Life expectancy\"]), \n    df[\"Life expectancy\"], \n    test_size=0.25,\n    random_state=42\n)\nprint(\"Train X shape\", X.shape)\nprint(\"Test X shape\", X_test.shape)",
   "execution_count": 82,
   "outputs": [
    {
     "name": "stdout",
     "text": "Train X shape (2196, 13)\nTest X shape (732, 13)\n",
     "output_type": "stream"
    }
   ]
  },
  {
   "cell_type": "code",
   "metadata": {
    "tags": [],
    "cell_id": "00120-dff99e35-382e-45a8-ab89-77fdc6273c01",
    "deepnote_to_be_reexecuted": false,
    "source_hash": "23e9b51a",
    "execution_start": 1661363086568,
    "execution_millis": 296,
    "deepnote_cell_type": "code",
    "deepnote_cell_height": 166.1875,
    "deepnote_output_heights": [
     20.1875
    ]
   },
   "source": "from sklearn.linear_model import LinearRegression\n\nclf = LinearRegression()\nclf.fit(X,Y)",
   "execution_count": 83,
   "outputs": [
    {
     "output_type": "execute_result",
     "execution_count": 83,
     "data": {
      "text/plain": "LinearRegression()"
     },
     "metadata": {}
    }
   ]
  },
  {
   "cell_type": "code",
   "metadata": {
    "tags": [],
    "cell_id": "00124-a0030c9f-8ad6-4656-84d6-6b2ef979af22",
    "deepnote_to_be_reexecuted": false,
    "source_hash": "17690575",
    "execution_start": 1661363086876,
    "execution_millis": 17,
    "deepnote_cell_type": "code",
    "deepnote_cell_height": 400
   },
   "source": "# kod na vykreslení interaktivního grafu\n# si s dovolením půjčim z courses a lehce poupravím\n\ndef plot_prediction_results(title, true, predicted):\n    from plotly import graph_objects as go\n\n    fig = go.Figure(data=go.Scatter(x=[0, 100], y=[0, 100], mode=\"lines\", name=\"y = ŷ\"))\n    fig.add_scatter(x=true, y=predicted, name=\"(test, prediction)\", mode=\"markers\")\n    fig.update_layout(\n        title=f\"Visualization of predictions | {title} | MAE: {get_mae(true, predicted)}\",\n        xaxis_title=\"Real values\",\n        yaxis_title=\"Predicted values\",\n        \n    )\n\n    fig.update_layout(yaxis=dict(range=[0,100],  scaleratio=1));\n    fig.update_layout(xaxis=dict(range=[0,100],  scaleratio=1));\n\n    fig.show()",
   "execution_count": 84,
   "outputs": []
  },
  {
   "cell_type": "code",
   "metadata": {
    "tags": [],
    "cell_id": "00124-b44bf3d2-4fbf-4da3-821b-1fd471761b35",
    "deepnote_to_be_reexecuted": false,
    "source_hash": "bc2be112",
    "execution_start": 1661363086922,
    "execution_millis": 647,
    "deepnote_cell_type": "code",
    "deepnote_cell_height": 618,
    "deepnote_output_heights": [
     526
    ]
   },
   "source": "plot_prediction_results(\"sklearn linear regression\", Y_test, clf.predict(X_test))",
   "execution_count": 85,
   "outputs": [
    {
     "data": {
      "text/html": "<html>\n<head><meta charset=\"utf-8\" /></head>\n<body>\n    <div>            <script src=\"https://cdnjs.cloudflare.com/ajax/libs/mathjax/2.7.5/MathJax.js?config=TeX-AMS-MML_SVG\"></script><script type=\"text/javascript\">if (window.MathJax && window.MathJax.Hub && window.MathJax.Hub.Config) {window.MathJax.Hub.Config({SVG: {font: \"STIX-Web\"}});}</script>                <script type=\"text/javascript\">window.PlotlyConfig = {MathJaxConfig: 'local'};</script>\n        <script src=\"https://cdn.plot.ly/plotly-2.12.1.min.js\"></script>                <div id=\"ed5efd23-5120-4d40-8aad-f9ac7b9b7f2b\" class=\"plotly-graph-div\" style=\"height:525px; width:100%;\"></div>            <script type=\"text/javascript\">                                    window.PLOTLYENV=window.PLOTLYENV || {};                                    if (document.getElementById(\"ed5efd23-5120-4d40-8aad-f9ac7b9b7f2b\")) {                    Plotly.newPlot(                        \"ed5efd23-5120-4d40-8aad-f9ac7b9b7f2b\",                        [{\"mode\":\"lines\",\"name\":\"y = \\u0177\",\"x\":[0,100],\"y\":[0,100],\"type\":\"scatter\"},{\"mode\":\"markers\",\"name\":\"(test, prediction)\",\"x\":[56.5,73.0,82.5,75.6,53.0,65.2,72.4,74.1,77.0,67.8,73.1,75.1,44.3,47.9,74.3,74.6,78.4,77.7,79.1,73.3,62.8,82.5,54.0,63.4,72.0,47.8,52.1,75.1,65.6,78.4,73.9,76.3,61.2,69.6,72.7,57.9,74.5,69.4,77.0,75.4,57.7,67.3,78.5,54.2,47.6,68.9,79.4,67.6,63.3,59.8,71.7,73.2,66.5,58.6,67.7,72.8,69.2,72.8,76.4,53.3,72.5,69.0,59.4,56.0,54.1,81.9,64.5,55.3,73.0,72.4,75.5,85.0,74.1,75.6,53.2,75.2,74.9,74.7,73.3,77.3,75.9,83.0,71.3,63.8,76.8,65.9,74.1,79.1,77.8,77.5,62.2,79.5,81.1,77.7,65.3,51.9,74.7,67.3,66.2,84.0,69.6,51.2,74.6,76.9,58.0,75.6,57.4,75.7,63.3,67.3,82.1,71.0,81.8,62.9,75.3,83.0,82.7,72.9,59.8,75.2,73.0,76.0,72.2,71.1,74.3,70.0,69.5,74.4,69.9,75.6,73.6,67.9,54.0,81.5,86.0,74.0,79.0,64.4,79.0,82.5,72.8,71.6,64.0,81.5,74.6,56.5,78.7,55.3,81.6,67.1,52.1,74.9,59.9,82.0,77.5,76.5,73.5,76.5,57.9,66.8,68.7,61.3,74.7,54.6,49.2,72.6,66.5,77.0,51.2,71.9,67.6,71.0,51.3,77.2,76.7,55.7,62.8,87.0,59.6,65.3,67.0,43.8,73.6,73.6,75.6,73.5,62.9,74.2,78.5,78.0,73.8,81.7,82.0,57.6,74.8,73.9,51.7,79.8,67.5,62.3,56.4,75.3,51.9,74.8,72.5,80.0,81.6,45.3,66.1,79.4,65.0,71.6,75.8,73.6,79.1,76.0,52.0,76.3,68.3,74.4,74.1,68.1,72.7,67.1,81.0,52.4,75.7,61.0,73.5,81.3,69.0,71.4,73.3,79.3,51.6,57.3,73.0,76.6,77.0,58.6,78.8,68.0,79.8,74.9,73.9,79.3,72.1,71.7,79.9,62.1,83.0,62.2,73.1,73.0,67.7,79.8,81.7,75.2,79.4,72.2,74.0,71.2,55.0,71.0,46.3,59.5,75.2,51.4,58.5,52.5,79.2,65.5,73.3,75.4,82.1,76.7,54.0,76.4,78.0,77.0,61.6,58.0,76.0,74.7,59.0,73.5,77.5,75.4,71.0,75.4,77.0,48.2,72.6,74.5,72.8,79.3,53.1,67.7,75.0,46.0,71.4,72.9,68.7,72.5,77.1,60.0,55.3,65.0,56.3,78.0,74.6,63.8,74.3,81.3,71.6,66.2,61.3,68.8,72.1,69.0,68.9,62.8,74.2,72.0,58.0,73.9,69.8,76.0,79.3,48.9,74.3,79.7,79.9,72.1,67.1,63.7,68.0,62.5,72.3,67.0,75.0,61.8,72.0,64.4,58.4,73.3,74.7,77.5,75.7,73.0,79.0,52.7,66.0,75.0,74.1,69.9,72.3,75.4,59.1,79.9,56.5,71.1,75.4,57.4,63.8,84.0,79.3,79.1,73.0,54.5,71.1,74.2,51.4,76.0,63.9,77.7,80.0,82.0,63.9,73.5,78.9,66.0,81.3,73.0,64.0,68.2,79.0,78.1,72.0,73.5,55.0,62.1,49.7,86.0,73.1,72.3,68.0,78.3,80.0,71.6,66.8,73.3,65.7,73.0,62.6,61.4,60.0,68.2,66.5,78.2,63.5,52.7,59.3,86.0,74.4,71.3,78.0,66.0,63.6,77.3,70.0,74.5,79.3,75.8,79.6,69.7,64.4,78.0,73.1,51.9,74.7,83.4,74.4,73.3,76.3,76.5,83.0,68.7,75.1,52.8,67.3,55.3,83.5,42.3,84.0,77.0,73.2,79.0,75.0,68.1,51.9,65.1,68.0,74.3,66.1,73.0,72.1,71.4,75.2,59.7,63.7,82.0,75.2,72.2,66.7,76.3,76.2,71.4,56.0,79.0,57.4,80.0,62.2,64.2,59.8,46.0,56.1,69.2,72.7,73.6,73.3,54.8,72.8,75.2,64.7,75.0,47.4,63.3,76.2,51.0,64.1,58.9,49.6,72.4,72.8,53.1,59.2,62.3,53.3,69.1,58.2,68.4,73.1,69.4,79.8,73.7,56.1,52.5,70.0,48.2,66.2,73.2,73.4,74.8,81.2,77.5,73.9,69.9,77.2,81.0,74.9,73.3,73.5,65.0,53.8,88.0,67.0,71.7,78.1,77.3,71.0,87.0,58.0,68.7,71.1,61.0,72.9,52.0,51.5,66.2,74.9,56.7,67.7,56.2,82.4,71.1,72.8,53.8,55.9,79.5,81.0,79.5,72.8,75.1,48.6,44.5,84.0,65.5,75.0,67.3,58.1,51.1,65.8,75.0,73.6,79.4,82.4,69.4,78.4,73.3,62.9,72.1,76.6,54.4,74.3,53.8,69.4,73.0,72.3,73.0,74.3,69.1,74.8,65.6,66.0,65.7,74.9,71.5,56.2,81.1,58.9,85.0,72.9,73.9,53.5,48.0,81.0,75.0,74.1,69.3,82.3,77.4,74.7,67.6,73.7,78.2,73.6,73.1,52.0,81.4,67.2,56.7,72.6,64.2,74.9,79.4,78.3,73.9,66.1,57.2,62.0,59.3,65.3,72.9,71.9,81.3,73.8,82.0,59.4,79.5,77.0,59.4,67.8,60.0,66.4,44.6,78.0,67.7,79.2,75.9,74.5,73.9,65.1,65.6,61.8,73.0,73.2,69.5,62.3,67.5,82.0,76.3,76.5,75.3,51.6,68.0,46.4,68.1,57.3,64.0,74.7,51.9,75.5,71.7,66.0,68.7,73.1,57.2,66.6,62.4,73.2,77.9,71.0,79.5,68.0,74.4,73.7,45.3,48.1,63.7,49.6,63.1,74.7,62.6,55.0,74.9,58.7,71.6,75.0,61.9,53.4,47.7,56.9,78.0,79.9,59.3,65.8,61.4,50.0,79.9,72.6,55.5,69.6,61.0,63.5,74.8,75.5,73.0,69.0,67.2,73.8,54.0,47.7,81.7,52.4,75.8,59.3,73.0,56.5,59.1,53.5,79.6,55.3,67.0,74.4,69.8,54.8,75.6,74.2,55.0,74.5,67.3],\"y\":[55.60655980253348,69.18565087397283,78.3869819670024,78.0472465319477,56.94397501415526,65.30585153283269,74.58957704061177,77.46892166188147,75.40087928692631,72.79980225128844,73.40182936537761,75.84413243210815,36.96905171578749,49.79720669924362,74.25664972565292,74.4308452334304,75.74111145109242,78.29230930187119,78.96800139034711,70.97171993906244,67.33270097939055,78.62486292031596,55.17080163150744,64.08804243963566,67.48719783614231,42.989150394486714,57.47018641548551,77.92370027202045,65.14179751868878,81.31950181208342,74.00258671626187,70.7313321796553,61.62284947175345,68.05334579617266,75.60430930791904,53.76696914384812,73.70969578826019,69.25051713692602,79.02581647971644,70.33864580051824,55.821615480840435,72.45915354169016,77.99591154654254,54.50941107712185,52.99590934039233,71.49151063565455,75.9799162151261,70.2451670032693,66.88391084968528,63.38247894467881,72.7139739769542,78.04914430755582,66.88068674114007,56.81565754194365,66.03418558557573,71.96324066019676,71.43202786781791,69.44126552932183,72.0152797984456,54.84518266203809,70.01698052562243,64.3861413848185,58.20223611964228,59.89101836426905,56.582927399256356,79.70896619818745,61.64192146838417,64.07776772227446,75.3336531728812,74.49482456403791,68.36599787742242,77.78102155699673,74.59893327965838,76.34612157528193,52.89676849774213,71.75083523097825,77.60401983503677,74.4635759025199,74.52765747947979,72.84080078241217,74.28244630182625,76.21572318695154,71.22707460192134,67.87448728479323,77.74808348168906,66.95826404474964,76.13369968284155,77.48589829049688,77.23165500499417,77.7707130277118,61.42071141542232,78.70532474064166,80.22564994957176,75.54955111988451,71.05620014947921,59.33712579736154,75.1613537078973,67.60788472825591,63.841084314659916,85.66373198657288,73.40548408347716,51.254298256656156,75.00679569890676,73.27622626339897,61.299477976714414,75.22178322000786,52.260955014727294,64.97054848511169,61.86275262850713,67.26300729706688,81.52782064939197,72.83456644135285,81.95946433015578,62.58965661568918,75.95560071519135,82.53998179999019,85.65913081257663,75.52969775472917,57.04296587670074,75.95565219428296,72.98893193533301,69.89910427433072,71.28848864278191,68.3330192891516,70.2725273588405,70.73195662326798,71.8668472333103,74.28272834012404,71.25925884696295,76.927006556717,73.4770975898414,71.68242861068899,67.18933333422032,75.71258868711891,81.16035013919509,77.53047275573749,80.636369374005,70.49982756870207,75.70281529086225,78.44687844086985,75.5252858717707,70.78372588948288,61.27741858103059,78.04109732899073,72.74487352804607,59.436866089930774,78.44294616385415,62.82727248394902,81.08297426730027,71.76360689331622,55.485211706992224,74.61279166894363,59.83225786705897,81.64373890287186,78.58669047857784,76.27392106099964,70.58932862428338,77.17148334545337,54.382473826080336,65.03354994974785,73.97884792366156,62.14084609130978,75.89374016691293,55.74231963860627,51.73397026369447,67.93831025260376,62.34365566418853,69.98768890459078,52.45321381865218,70.50486971026018,72.31746641019593,67.7381708586849,52.974923695633414,74.01694085236842,78.43296158352078,57.68879070119994,61.573942754473336,79.59201295421808,59.755962270295385,63.85631111421966,67.34552466913563,48.15397839177399,73.1700882806663,74.19209879542208,72.52907474233012,69.79980675469976,64.72448547084639,74.54633991758192,78.0143815245892,75.44023315680244,71.83515607737235,84.75961967523114,77.250766657708,60.456014338678806,74.10733251867839,76.7440137342324,54.5976926454907,82.83706028658423,65.70262202577442,63.06694805044745,61.22192387489771,76.74294738745226,52.01757721338919,73.68368226780416,69.63028097130774,85.19911884712303,81.38918023060259,54.07483113882316,69.17691215843124,80.57792501915297,61.45589181154182,70.2277267290117,77.35046689386431,71.71162386274926,77.05799497695293,72.59666337151428,54.53978615874081,77.25313423138806,71.39556435276083,79.10956225668848,75.98665593114649,67.87898421684422,73.10252666096414,68.18172988679005,81.37907993862865,53.27473786341476,73.04839189019958,64.43584069059312,63.082999760683045,81.77656314190448,62.30564485777328,78.482481106307,72.89789057196998,77.75173180331385,51.2579879647151,57.29758986709705,72.10288026786537,78.9391870029935,79.24996206054176,59.602484129245475,82.31228722780327,72.42297910092618,80.1089911374148,77.29401139782223,74.40404152852938,78.48437928701719,72.75944532366626,70.6897264037357,79.14091142438677,66.21866520090038,86.04358127503929,64.17345090441316,70.76139669400649,70.75407393634657,65.42751014857761,81.73860747283496,78.01766131973194,74.43089498161376,79.74110416843085,75.57996477664766,68.72702787823036,72.3384887602742,56.05168555691574,72.68407392225103,54.72761606509546,60.39056635528847,75.44410688650133,42.47655399493299,56.210109466692415,51.921272747944634,79.18944278171881,66.62950075189022,72.6121359351225,75.95633849804842,77.27515347388712,73.63356358421227,50.01492068415617,77.2977513296767,79.61294516901737,71.18076626113202,65.99585565843572,54.90770472735339,74.03223296996688,77.37769434896634,65.38603920054796,74.16097323765425,72.71887314899955,75.88089082634124,67.51538974334201,76.01898377583692,69.41543408332504,57.432532139016004,75.7827359800423,70.58193940299753,72.66118771851336,79.61521528414728,51.90617065293883,71.93960643512511,73.17123809362118,49.62377794313496,67.9661995086987,75.96367753339942,76.68021454970628,75.25372395647346,80.0887270499904,60.71073757191613,64.83398790298239,69.9216928852049,57.92723804980805,77.96056552067674,76.23404673062338,59.02166834286261,72.01595718211325,80.69619699934304,67.3004143063706,72.41336207597553,63.62042183620886,70.65321665413917,70.09760737393137,69.92182302821378,73.23717972932849,66.31918885122857,71.50461084989512,71.82750514339882,54.59916419000863,74.02033681142001,72.22587304403679,69.14026705450172,80.75636545984948,58.29655276214761,74.25213371935759,78.79035568458974,80.00441387314332,72.59869972302957,69.81211606255792,61.15554746782162,64.0346185791289,60.45850115998755,72.22800502612574,61.03768903259115,76.49758208238192,62.851405866089216,71.93584549073003,67.08624485797046,61.6303513929323,73.52309019431766,73.43109602982035,80.06821629875805,73.16455280231469,76.99184958809786,71.15393117860523,54.08334783736021,68.35754989882011,75.97752364498189,72.89747350257898,63.5901942594063,72.9668175315188,76.33387504472572,57.09410618507585,83.19213223214155,59.7049598727925,72.27662173463833,75.87896096827711,62.17881546439078,64.11420435043568,77.54867312714538,78.95982904134547,81.22917164991408,71.46703547218101,52.01709856035904,72.56218141373859,75.34221923319345,53.2107329914461,72.82197227152363,69.13657360684618,78.74932973970454,81.90605647215551,78.75589136247682,63.76446335345879,74.44581921993898,81.92598450232055,64.6608568586061,81.98773960486963,74.61401914778745,64.16185833802103,72.67389557439053,78.8111403475894,80.58701513390203,71.9642733695942,72.4657441627698,49.6018762288654,61.32361066405656,60.77616375022604,73.48213023455449,75.26089520440883,70.15482167118975,67.02896599120062,74.20505347921605,78.28701660125537,62.23058564259483,69.18643822402194,77.0968661390979,69.7859877977374,72.21261756968576,60.69792072821723,62.399014374481695,63.788984218988624,73.0965575473163,67.090933675821,78.80004882738285,62.471275103725254,44.60698520743702,60.662573819489026,81.137255908763,69.71228147772788,65.43537368312862,71.64487444374731,70.63586664355667,67.53617663015504,80.49582527357674,72.29875271463771,76.55286438398313,76.9153482203248,78.06361400150591,80.6489656541203,77.95583902037441,61.402369423165794,82.68937063201871,68.98449447135738,50.36604445382455,76.86758168212666,80.10065078657794,73.50345771193705,75.784698537821,79.27005887386264,73.91447286611539,79.89075085542916,67.96558966202485,72.79013750940832,63.46904799747426,69.84624101839512,58.65819120091323,75.9800256317118,53.33414725665979,78.65408023834388,73.30287238435136,73.54148418264806,73.51120637186901,72.30634450362086,69.5963173344017,50.45851186452215,66.41297377762422,67.22048752768674,78.62388591229484,74.08984630913459,71.2253256287545,69.15708352128597,68.78471583804499,77.30337106603183,59.33591469150386,65.91753291619614,78.58473324075572,76.49501338052201,69.94206864914125,64.11532307907308,75.42504804701105,72.68104079516559,73.13421853763501,49.21349388214952,67.63956664921196,50.98207766555321,81.246416558508,63.54240674298232,61.038864984982446,59.89794875341068,35.31897491178864,59.68910514305921,67.73315936182216,71.11265978945156,72.44861052484978,74.16437037646395,57.983896276856505,72.88515770671175,69.16398603802455,64.92203650353454,71.39681967772017,52.46248701062046,64.62700021320364,75.36806082324422,46.77713582609488,66.45472001037082,61.09809569660355,48.12724317625103,72.87218565625267,74.70586155427534,53.64083604509267,61.93365427240407,61.07679272498633,58.62045001517721,66.23896601547261,56.925957072901184,67.30552069645182,67.96187042918332,68.74347544228206,79.14877684374603,74.94281819129846,59.20552012159766,55.59341043162931,73.85174761071852,52.603321669280604,69.61009117987676,69.09140844712842,70.89725837664753,73.59680509762481,78.83615606888111,78.56706975777473,70.76958738472104,73.35983087682911,78.45296156515005,81.09173274432,77.04739554947858,74.52109974039006,71.14140253206659,67.54990117692252,49.839445424566236,81.99152480269565,59.432784803638356,78.38978298532139,79.03442242849539,76.16048076285945,74.7940419297884,75.866630912414,53.69746280662914,66.10559386480496,74.73207571671146,63.74102222178995,75.06017635496084,60.29951822212239,51.48585780189837,63.73319961218574,76.27882079307096,53.91226694859817,70.77750771536756,60.15661809017578,77.25029157360026,67.25537248507051,76.03638694314571,59.85191413068379,59.42445570028978,79.05975386807629,77.72079111598296,78.43241059189295,72.88320479328418,75.8687409812118,48.62230498214193,36.440354617105086,79.5944665419104,62.745736207455884,67.71398399557545,71.97279053656493,54.268640274797214,55.1253429175125,65.57534458424784,66.90830234061329,73.71776770254327,73.75125512235871,80.35687139410254,72.06406092815055,76.77586054761608,74.90289122085639,65.28107575068786,72.60054539734189,77.03510694845495,53.27211438556536,77.89333344570704,52.45379843707073,72.71956677573343,74.82122830503556,69.65433718171647,67.22017858483106,71.75321050197189,69.85394504572318,72.39033641576881,68.84390835186915,64.09851394699703,62.308156630324234,74.25900923313147,68.63399031244069,56.999668858820286,82.60589812105685,61.86649716843778,80.55219962410874,73.15903707260858,76.91980413443699,57.58181099492778,53.45752087236517,84.04078371713354,71.77865253064043,71.64796969689903,69.91641984011562,79.7685019816521,77.75562345872346,77.10849033942776,69.61290909001517,69.90640731054148,80.36450227520683,71.30372374711557,73.94145674016309,57.565208532069434,80.23055133284623,71.90906258638408,59.273668804707725,71.07338827129972,62.7818013926165,74.26382815881468,78.908011468031,80.55378095891159,71.83081701931442,67.48807798367164,65.23677395583712,60.272532753090104,57.023142890325005,66.70173461219466,72.41634453381968,68.25303031674667,80.7242784638444,64.41400234587057,74.73879829834326,61.886538340605526,79.89138627818308,68.74734684748539,61.46319395904981,68.79992513358462,57.15659150949928,68.29451210566124,44.86057876057076,78.7305816716719,71.94241080817082,80.76673400635211,69.46917107646773,72.74012964790265,73.23040163415098,69.63290271336976,65.13767239941758,61.55772017034085,71.74004379476403,75.76304768790902,71.5765463812873,63.54069760067613,66.68855079543358,80.3921051473026,77.18170202662341,78.01512935238776,75.26269614064219,52.70678878591919,61.50606725883678,34.531519588963306,67.43679816092572,61.3874472337711,60.64228750446095,68.24700147212387,52.8433834427114,73.2089880051177,67.289339663274,66.39865910991706,69.26927458012413,75.66343730240978,52.372607749694794,67.3415024679802,65.24113277433194,76.72187766662663,78.50462440849553,73.90548036040244,81.3564733133376,63.762408414231494,74.31666393867073,74.87731002315503,61.85124188819764,47.700030591124566,64.62921853208013,59.85998777724599,64.63106701324017,74.19321279699649,64.10591139418248,62.28984136069522,72.09378240163902,53.2815103642494,78.43084502063367,70.36907247966369,66.02542311148775,55.824153867258445,52.86816231139141,58.37532894166313,68.73099749369521,79.79961641402787,63.235763497703715,76.17399895880445,59.17409262095127,48.81376834059066,76.96607038742263,72.9424850292114,60.95824922830136,71.33300289884883,60.57232976746735,60.53623643037142,74.33838724884689,75.92281748716239,75.09510783714077,71.34644984630216,70.32661954436657,70.3174317226414,59.889509564350796,50.92491035638383,79.32078376414441,52.71999370623876,72.42753973256922,58.266637687512464,74.41645614152505,59.9837139575955,61.79066609098945,52.40349359571454,81.0630030478621,57.817573806884674,71.67276526567665,76.5736257624816,73.0474810207075,58.94095513486861,74.29011153928954,74.89391829639001,54.034108289481196,72.56773940172609,69.12415455940727],\"type\":\"scatter\"}],                        {\"template\":{\"data\":{\"histogram2dcontour\":[{\"type\":\"histogram2dcontour\",\"colorbar\":{\"outlinewidth\":0,\"ticks\":\"\"},\"colorscale\":[[0.0,\"#0d0887\"],[0.1111111111111111,\"#46039f\"],[0.2222222222222222,\"#7201a8\"],[0.3333333333333333,\"#9c179e\"],[0.4444444444444444,\"#bd3786\"],[0.5555555555555556,\"#d8576b\"],[0.6666666666666666,\"#ed7953\"],[0.7777777777777778,\"#fb9f3a\"],[0.8888888888888888,\"#fdca26\"],[1.0,\"#f0f921\"]]}],\"choropleth\":[{\"type\":\"choropleth\",\"colorbar\":{\"outlinewidth\":0,\"ticks\":\"\"}}],\"histogram2d\":[{\"type\":\"histogram2d\",\"colorbar\":{\"outlinewidth\":0,\"ticks\":\"\"},\"colorscale\":[[0.0,\"#0d0887\"],[0.1111111111111111,\"#46039f\"],[0.2222222222222222,\"#7201a8\"],[0.3333333333333333,\"#9c179e\"],[0.4444444444444444,\"#bd3786\"],[0.5555555555555556,\"#d8576b\"],[0.6666666666666666,\"#ed7953\"],[0.7777777777777778,\"#fb9f3a\"],[0.8888888888888888,\"#fdca26\"],[1.0,\"#f0f921\"]]}],\"heatmap\":[{\"type\":\"heatmap\",\"colorbar\":{\"outlinewidth\":0,\"ticks\":\"\"},\"colorscale\":[[0.0,\"#0d0887\"],[0.1111111111111111,\"#46039f\"],[0.2222222222222222,\"#7201a8\"],[0.3333333333333333,\"#9c179e\"],[0.4444444444444444,\"#bd3786\"],[0.5555555555555556,\"#d8576b\"],[0.6666666666666666,\"#ed7953\"],[0.7777777777777778,\"#fb9f3a\"],[0.8888888888888888,\"#fdca26\"],[1.0,\"#f0f921\"]]}],\"heatmapgl\":[{\"type\":\"heatmapgl\",\"colorbar\":{\"outlinewidth\":0,\"ticks\":\"\"},\"colorscale\":[[0.0,\"#0d0887\"],[0.1111111111111111,\"#46039f\"],[0.2222222222222222,\"#7201a8\"],[0.3333333333333333,\"#9c179e\"],[0.4444444444444444,\"#bd3786\"],[0.5555555555555556,\"#d8576b\"],[0.6666666666666666,\"#ed7953\"],[0.7777777777777778,\"#fb9f3a\"],[0.8888888888888888,\"#fdca26\"],[1.0,\"#f0f921\"]]}],\"contourcarpet\":[{\"type\":\"contourcarpet\",\"colorbar\":{\"outlinewidth\":0,\"ticks\":\"\"}}],\"contour\":[{\"type\":\"contour\",\"colorbar\":{\"outlinewidth\":0,\"ticks\":\"\"},\"colorscale\":[[0.0,\"#0d0887\"],[0.1111111111111111,\"#46039f\"],[0.2222222222222222,\"#7201a8\"],[0.3333333333333333,\"#9c179e\"],[0.4444444444444444,\"#bd3786\"],[0.5555555555555556,\"#d8576b\"],[0.6666666666666666,\"#ed7953\"],[0.7777777777777778,\"#fb9f3a\"],[0.8888888888888888,\"#fdca26\"],[1.0,\"#f0f921\"]]}],\"surface\":[{\"type\":\"surface\",\"colorbar\":{\"outlinewidth\":0,\"ticks\":\"\"},\"colorscale\":[[0.0,\"#0d0887\"],[0.1111111111111111,\"#46039f\"],[0.2222222222222222,\"#7201a8\"],[0.3333333333333333,\"#9c179e\"],[0.4444444444444444,\"#bd3786\"],[0.5555555555555556,\"#d8576b\"],[0.6666666666666666,\"#ed7953\"],[0.7777777777777778,\"#fb9f3a\"],[0.8888888888888888,\"#fdca26\"],[1.0,\"#f0f921\"]]}],\"mesh3d\":[{\"type\":\"mesh3d\",\"colorbar\":{\"outlinewidth\":0,\"ticks\":\"\"}}],\"scatter\":[{\"fillpattern\":{\"fillmode\":\"overlay\",\"size\":10,\"solidity\":0.2},\"type\":\"scatter\"}],\"parcoords\":[{\"type\":\"parcoords\",\"line\":{\"colorbar\":{\"outlinewidth\":0,\"ticks\":\"\"}}}],\"scatterpolargl\":[{\"type\":\"scatterpolargl\",\"marker\":{\"colorbar\":{\"outlinewidth\":0,\"ticks\":\"\"}}}],\"bar\":[{\"error_x\":{\"color\":\"#2a3f5f\"},\"error_y\":{\"color\":\"#2a3f5f\"},\"marker\":{\"line\":{\"color\":\"#E5ECF6\",\"width\":0.5},\"pattern\":{\"fillmode\":\"overlay\",\"size\":10,\"solidity\":0.2}},\"type\":\"bar\"}],\"scattergeo\":[{\"type\":\"scattergeo\",\"marker\":{\"colorbar\":{\"outlinewidth\":0,\"ticks\":\"\"}}}],\"scatterpolar\":[{\"type\":\"scatterpolar\",\"marker\":{\"colorbar\":{\"outlinewidth\":0,\"ticks\":\"\"}}}],\"histogram\":[{\"marker\":{\"pattern\":{\"fillmode\":\"overlay\",\"size\":10,\"solidity\":0.2}},\"type\":\"histogram\"}],\"scattergl\":[{\"type\":\"scattergl\",\"marker\":{\"colorbar\":{\"outlinewidth\":0,\"ticks\":\"\"}}}],\"scatter3d\":[{\"type\":\"scatter3d\",\"line\":{\"colorbar\":{\"outlinewidth\":0,\"ticks\":\"\"}},\"marker\":{\"colorbar\":{\"outlinewidth\":0,\"ticks\":\"\"}}}],\"scattermapbox\":[{\"type\":\"scattermapbox\",\"marker\":{\"colorbar\":{\"outlinewidth\":0,\"ticks\":\"\"}}}],\"scatterternary\":[{\"type\":\"scatterternary\",\"marker\":{\"colorbar\":{\"outlinewidth\":0,\"ticks\":\"\"}}}],\"scattercarpet\":[{\"type\":\"scattercarpet\",\"marker\":{\"colorbar\":{\"outlinewidth\":0,\"ticks\":\"\"}}}],\"carpet\":[{\"aaxis\":{\"endlinecolor\":\"#2a3f5f\",\"gridcolor\":\"white\",\"linecolor\":\"white\",\"minorgridcolor\":\"white\",\"startlinecolor\":\"#2a3f5f\"},\"baxis\":{\"endlinecolor\":\"#2a3f5f\",\"gridcolor\":\"white\",\"linecolor\":\"white\",\"minorgridcolor\":\"white\",\"startlinecolor\":\"#2a3f5f\"},\"type\":\"carpet\"}],\"table\":[{\"cells\":{\"fill\":{\"color\":\"#EBF0F8\"},\"line\":{\"color\":\"white\"}},\"header\":{\"fill\":{\"color\":\"#C8D4E3\"},\"line\":{\"color\":\"white\"}},\"type\":\"table\"}],\"barpolar\":[{\"marker\":{\"line\":{\"color\":\"#E5ECF6\",\"width\":0.5},\"pattern\":{\"fillmode\":\"overlay\",\"size\":10,\"solidity\":0.2}},\"type\":\"barpolar\"}],\"pie\":[{\"automargin\":true,\"type\":\"pie\"}]},\"layout\":{\"autotypenumbers\":\"strict\",\"colorway\":[\"#636efa\",\"#EF553B\",\"#00cc96\",\"#ab63fa\",\"#FFA15A\",\"#19d3f3\",\"#FF6692\",\"#B6E880\",\"#FF97FF\",\"#FECB52\"],\"font\":{\"color\":\"#2a3f5f\"},\"hovermode\":\"closest\",\"hoverlabel\":{\"align\":\"left\"},\"paper_bgcolor\":\"white\",\"plot_bgcolor\":\"#E5ECF6\",\"polar\":{\"bgcolor\":\"#E5ECF6\",\"angularaxis\":{\"gridcolor\":\"white\",\"linecolor\":\"white\",\"ticks\":\"\"},\"radialaxis\":{\"gridcolor\":\"white\",\"linecolor\":\"white\",\"ticks\":\"\"}},\"ternary\":{\"bgcolor\":\"#E5ECF6\",\"aaxis\":{\"gridcolor\":\"white\",\"linecolor\":\"white\",\"ticks\":\"\"},\"baxis\":{\"gridcolor\":\"white\",\"linecolor\":\"white\",\"ticks\":\"\"},\"caxis\":{\"gridcolor\":\"white\",\"linecolor\":\"white\",\"ticks\":\"\"}},\"coloraxis\":{\"colorbar\":{\"outlinewidth\":0,\"ticks\":\"\"}},\"colorscale\":{\"sequential\":[[0.0,\"#0d0887\"],[0.1111111111111111,\"#46039f\"],[0.2222222222222222,\"#7201a8\"],[0.3333333333333333,\"#9c179e\"],[0.4444444444444444,\"#bd3786\"],[0.5555555555555556,\"#d8576b\"],[0.6666666666666666,\"#ed7953\"],[0.7777777777777778,\"#fb9f3a\"],[0.8888888888888888,\"#fdca26\"],[1.0,\"#f0f921\"]],\"sequentialminus\":[[0.0,\"#0d0887\"],[0.1111111111111111,\"#46039f\"],[0.2222222222222222,\"#7201a8\"],[0.3333333333333333,\"#9c179e\"],[0.4444444444444444,\"#bd3786\"],[0.5555555555555556,\"#d8576b\"],[0.6666666666666666,\"#ed7953\"],[0.7777777777777778,\"#fb9f3a\"],[0.8888888888888888,\"#fdca26\"],[1.0,\"#f0f921\"]],\"diverging\":[[0,\"#8e0152\"],[0.1,\"#c51b7d\"],[0.2,\"#de77ae\"],[0.3,\"#f1b6da\"],[0.4,\"#fde0ef\"],[0.5,\"#f7f7f7\"],[0.6,\"#e6f5d0\"],[0.7,\"#b8e186\"],[0.8,\"#7fbc41\"],[0.9,\"#4d9221\"],[1,\"#276419\"]]},\"xaxis\":{\"gridcolor\":\"white\",\"linecolor\":\"white\",\"ticks\":\"\",\"title\":{\"standoff\":15},\"zerolinecolor\":\"white\",\"automargin\":true,\"zerolinewidth\":2},\"yaxis\":{\"gridcolor\":\"white\",\"linecolor\":\"white\",\"ticks\":\"\",\"title\":{\"standoff\":15},\"zerolinecolor\":\"white\",\"automargin\":true,\"zerolinewidth\":2},\"scene\":{\"xaxis\":{\"backgroundcolor\":\"#E5ECF6\",\"gridcolor\":\"white\",\"linecolor\":\"white\",\"showbackground\":true,\"ticks\":\"\",\"zerolinecolor\":\"white\",\"gridwidth\":2},\"yaxis\":{\"backgroundcolor\":\"#E5ECF6\",\"gridcolor\":\"white\",\"linecolor\":\"white\",\"showbackground\":true,\"ticks\":\"\",\"zerolinecolor\":\"white\",\"gridwidth\":2},\"zaxis\":{\"backgroundcolor\":\"#E5ECF6\",\"gridcolor\":\"white\",\"linecolor\":\"white\",\"showbackground\":true,\"ticks\":\"\",\"zerolinecolor\":\"white\",\"gridwidth\":2}},\"shapedefaults\":{\"line\":{\"color\":\"#2a3f5f\"}},\"annotationdefaults\":{\"arrowcolor\":\"#2a3f5f\",\"arrowhead\":0,\"arrowwidth\":1},\"geo\":{\"bgcolor\":\"white\",\"landcolor\":\"#E5ECF6\",\"subunitcolor\":\"white\",\"showland\":true,\"showlakes\":true,\"lakecolor\":\"white\"},\"title\":{\"x\":0.05},\"mapbox\":{\"style\":\"light\"}}},\"title\":{\"text\":\"Visualization of predictions | sklearn linear regression | MAE: 2.7330977140823345\"},\"xaxis\":{\"title\":{\"text\":\"Real values\"},\"range\":[0,100],\"scaleratio\":1},\"yaxis\":{\"title\":{\"text\":\"Predicted values\"},\"range\":[0,100],\"scaleratio\":1}},                        {\"responsive\": true}                    ).then(function(){\n                            \nvar gd = document.getElementById('ed5efd23-5120-4d40-8aad-f9ac7b9b7f2b');\nvar x = new MutationObserver(function (mutations, observer) {{\n        var display = window.getComputedStyle(gd).display;\n        if (!display || display === 'none') {{\n            console.log([gd, 'removed!']);\n            Plotly.purge(gd);\n            observer.disconnect();\n        }}\n}});\n\n// Listen for the removal of the full notebook cells\nvar notebookContainer = gd.closest('#notebook-container');\nif (notebookContainer) {{\n    x.observe(notebookContainer, {childList: true});\n}}\n\n// Listen for the clearing of the current output cell\nvar outputEl = gd.closest('.output');\nif (outputEl) {{\n    x.observe(outputEl, {childList: true});\n}}\n\n                        })                };                            </script>        </div>\n</body>\n</html>"
     },
     "metadata": {},
     "output_type": "display_data"
    }
   ]
  },
  {
   "cell_type": "markdown",
   "source": "*  Zkusím nyní aplikovat Hřebenovou regresi.",
   "metadata": {
    "tags": [],
    "cell_id": "00126-a6e78a38-7888-4a29-ae23-752bbe7be1c3",
    "deepnote_cell_type": "markdown",
    "deepnote_cell_height": 69.390625
   }
  },
  {
   "cell_type": "code",
   "metadata": {
    "tags": [],
    "cell_id": "00130-7bd43cf7-f67d-499b-9e4b-fb8e212b49fb",
    "deepnote_to_be_reexecuted": false,
    "source_hash": "2c7a472",
    "execution_start": 1661363087574,
    "execution_millis": 14,
    "deepnote_cell_type": "code",
    "deepnote_cell_height": 166.1875,
    "deepnote_output_heights": [
     20.1875
    ]
   },
   "source": "from sklearn.linear_model import Ridge\n\nclf_r = Ridge(alpha=1.0)\nclf_r.fit(X, Y)",
   "execution_count": 86,
   "outputs": [
    {
     "output_type": "execute_result",
     "execution_count": 86,
     "data": {
      "text/plain": "Ridge()"
     },
     "metadata": {}
    }
   ]
  },
  {
   "cell_type": "code",
   "metadata": {
    "tags": [],
    "cell_id": "00132-463d2c4e-6216-4cc7-85b6-47068fe27376",
    "deepnote_to_be_reexecuted": false,
    "source_hash": "91e062b6",
    "execution_start": 1661363087592,
    "execution_millis": 25,
    "deepnote_cell_type": "code",
    "deepnote_cell_height": 112.1875,
    "deepnote_output_heights": [
     20.1875
    ]
   },
   "source": "get_mae(Y_test, clf_r.predict(X_test))",
   "execution_count": 87,
   "outputs": [
    {
     "output_type": "execute_result",
     "execution_count": 87,
     "data": {
      "text/plain": "2.734848114888108"
     },
     "metadata": {}
    }
   ]
  },
  {
   "cell_type": "code",
   "metadata": {
    "tags": [],
    "cell_id": "00129-20c47445-1bd4-4126-9081-be16282bd3c6",
    "deepnote_to_be_reexecuted": false,
    "source_hash": "877745be",
    "execution_start": 1661363087659,
    "execution_millis": 8,
    "deepnote_cell_type": "code",
    "deepnote_cell_height": 618,
    "deepnote_output_heights": [
     526
    ]
   },
   "source": "plot_prediction_results(\"sklearn ridge regression\", Y_test, clf_r.predict(X_test))",
   "execution_count": 88,
   "outputs": [
    {
     "data": {
      "text/html": "<html>\n<head><meta charset=\"utf-8\" /></head>\n<body>\n    <div>            <script src=\"https://cdnjs.cloudflare.com/ajax/libs/mathjax/2.7.5/MathJax.js?config=TeX-AMS-MML_SVG\"></script><script type=\"text/javascript\">if (window.MathJax && window.MathJax.Hub && window.MathJax.Hub.Config) {window.MathJax.Hub.Config({SVG: {font: \"STIX-Web\"}});}</script>                <script type=\"text/javascript\">window.PlotlyConfig = {MathJaxConfig: 'local'};</script>\n        <script src=\"https://cdn.plot.ly/plotly-2.12.1.min.js\"></script>                <div id=\"f4acc97c-3279-4b1f-8b65-55b68e58fbcb\" class=\"plotly-graph-div\" style=\"height:525px; width:100%;\"></div>            <script type=\"text/javascript\">                                    window.PLOTLYENV=window.PLOTLYENV || {};                                    if (document.getElementById(\"f4acc97c-3279-4b1f-8b65-55b68e58fbcb\")) {                    Plotly.newPlot(                        \"f4acc97c-3279-4b1f-8b65-55b68e58fbcb\",                        [{\"mode\":\"lines\",\"name\":\"y = \\u0177\",\"x\":[0,100],\"y\":[0,100],\"type\":\"scatter\"},{\"mode\":\"markers\",\"name\":\"(test, prediction)\",\"x\":[56.5,73.0,82.5,75.6,53.0,65.2,72.4,74.1,77.0,67.8,73.1,75.1,44.3,47.9,74.3,74.6,78.4,77.7,79.1,73.3,62.8,82.5,54.0,63.4,72.0,47.8,52.1,75.1,65.6,78.4,73.9,76.3,61.2,69.6,72.7,57.9,74.5,69.4,77.0,75.4,57.7,67.3,78.5,54.2,47.6,68.9,79.4,67.6,63.3,59.8,71.7,73.2,66.5,58.6,67.7,72.8,69.2,72.8,76.4,53.3,72.5,69.0,59.4,56.0,54.1,81.9,64.5,55.3,73.0,72.4,75.5,85.0,74.1,75.6,53.2,75.2,74.9,74.7,73.3,77.3,75.9,83.0,71.3,63.8,76.8,65.9,74.1,79.1,77.8,77.5,62.2,79.5,81.1,77.7,65.3,51.9,74.7,67.3,66.2,84.0,69.6,51.2,74.6,76.9,58.0,75.6,57.4,75.7,63.3,67.3,82.1,71.0,81.8,62.9,75.3,83.0,82.7,72.9,59.8,75.2,73.0,76.0,72.2,71.1,74.3,70.0,69.5,74.4,69.9,75.6,73.6,67.9,54.0,81.5,86.0,74.0,79.0,64.4,79.0,82.5,72.8,71.6,64.0,81.5,74.6,56.5,78.7,55.3,81.6,67.1,52.1,74.9,59.9,82.0,77.5,76.5,73.5,76.5,57.9,66.8,68.7,61.3,74.7,54.6,49.2,72.6,66.5,77.0,51.2,71.9,67.6,71.0,51.3,77.2,76.7,55.7,62.8,87.0,59.6,65.3,67.0,43.8,73.6,73.6,75.6,73.5,62.9,74.2,78.5,78.0,73.8,81.7,82.0,57.6,74.8,73.9,51.7,79.8,67.5,62.3,56.4,75.3,51.9,74.8,72.5,80.0,81.6,45.3,66.1,79.4,65.0,71.6,75.8,73.6,79.1,76.0,52.0,76.3,68.3,74.4,74.1,68.1,72.7,67.1,81.0,52.4,75.7,61.0,73.5,81.3,69.0,71.4,73.3,79.3,51.6,57.3,73.0,76.6,77.0,58.6,78.8,68.0,79.8,74.9,73.9,79.3,72.1,71.7,79.9,62.1,83.0,62.2,73.1,73.0,67.7,79.8,81.7,75.2,79.4,72.2,74.0,71.2,55.0,71.0,46.3,59.5,75.2,51.4,58.5,52.5,79.2,65.5,73.3,75.4,82.1,76.7,54.0,76.4,78.0,77.0,61.6,58.0,76.0,74.7,59.0,73.5,77.5,75.4,71.0,75.4,77.0,48.2,72.6,74.5,72.8,79.3,53.1,67.7,75.0,46.0,71.4,72.9,68.7,72.5,77.1,60.0,55.3,65.0,56.3,78.0,74.6,63.8,74.3,81.3,71.6,66.2,61.3,68.8,72.1,69.0,68.9,62.8,74.2,72.0,58.0,73.9,69.8,76.0,79.3,48.9,74.3,79.7,79.9,72.1,67.1,63.7,68.0,62.5,72.3,67.0,75.0,61.8,72.0,64.4,58.4,73.3,74.7,77.5,75.7,73.0,79.0,52.7,66.0,75.0,74.1,69.9,72.3,75.4,59.1,79.9,56.5,71.1,75.4,57.4,63.8,84.0,79.3,79.1,73.0,54.5,71.1,74.2,51.4,76.0,63.9,77.7,80.0,82.0,63.9,73.5,78.9,66.0,81.3,73.0,64.0,68.2,79.0,78.1,72.0,73.5,55.0,62.1,49.7,86.0,73.1,72.3,68.0,78.3,80.0,71.6,66.8,73.3,65.7,73.0,62.6,61.4,60.0,68.2,66.5,78.2,63.5,52.7,59.3,86.0,74.4,71.3,78.0,66.0,63.6,77.3,70.0,74.5,79.3,75.8,79.6,69.7,64.4,78.0,73.1,51.9,74.7,83.4,74.4,73.3,76.3,76.5,83.0,68.7,75.1,52.8,67.3,55.3,83.5,42.3,84.0,77.0,73.2,79.0,75.0,68.1,51.9,65.1,68.0,74.3,66.1,73.0,72.1,71.4,75.2,59.7,63.7,82.0,75.2,72.2,66.7,76.3,76.2,71.4,56.0,79.0,57.4,80.0,62.2,64.2,59.8,46.0,56.1,69.2,72.7,73.6,73.3,54.8,72.8,75.2,64.7,75.0,47.4,63.3,76.2,51.0,64.1,58.9,49.6,72.4,72.8,53.1,59.2,62.3,53.3,69.1,58.2,68.4,73.1,69.4,79.8,73.7,56.1,52.5,70.0,48.2,66.2,73.2,73.4,74.8,81.2,77.5,73.9,69.9,77.2,81.0,74.9,73.3,73.5,65.0,53.8,88.0,67.0,71.7,78.1,77.3,71.0,87.0,58.0,68.7,71.1,61.0,72.9,52.0,51.5,66.2,74.9,56.7,67.7,56.2,82.4,71.1,72.8,53.8,55.9,79.5,81.0,79.5,72.8,75.1,48.6,44.5,84.0,65.5,75.0,67.3,58.1,51.1,65.8,75.0,73.6,79.4,82.4,69.4,78.4,73.3,62.9,72.1,76.6,54.4,74.3,53.8,69.4,73.0,72.3,73.0,74.3,69.1,74.8,65.6,66.0,65.7,74.9,71.5,56.2,81.1,58.9,85.0,72.9,73.9,53.5,48.0,81.0,75.0,74.1,69.3,82.3,77.4,74.7,67.6,73.7,78.2,73.6,73.1,52.0,81.4,67.2,56.7,72.6,64.2,74.9,79.4,78.3,73.9,66.1,57.2,62.0,59.3,65.3,72.9,71.9,81.3,73.8,82.0,59.4,79.5,77.0,59.4,67.8,60.0,66.4,44.6,78.0,67.7,79.2,75.9,74.5,73.9,65.1,65.6,61.8,73.0,73.2,69.5,62.3,67.5,82.0,76.3,76.5,75.3,51.6,68.0,46.4,68.1,57.3,64.0,74.7,51.9,75.5,71.7,66.0,68.7,73.1,57.2,66.6,62.4,73.2,77.9,71.0,79.5,68.0,74.4,73.7,45.3,48.1,63.7,49.6,63.1,74.7,62.6,55.0,74.9,58.7,71.6,75.0,61.9,53.4,47.7,56.9,78.0,79.9,59.3,65.8,61.4,50.0,79.9,72.6,55.5,69.6,61.0,63.5,74.8,75.5,73.0,69.0,67.2,73.8,54.0,47.7,81.7,52.4,75.8,59.3,73.0,56.5,59.1,53.5,79.6,55.3,67.0,74.4,69.8,54.8,75.6,74.2,55.0,74.5,67.3],\"y\":[55.60247092979763,69.1821208562558,78.3649283623804,78.04599895928632,57.028565029314386,65.30072159915704,74.5833584138991,77.46574102064594,75.40410089060036,72.79667744315975,73.39833533147052,75.84730786209454,36.96032885968688,49.79744962796626,74.25906415771848,74.42487532326942,75.73701426876441,78.28886914362337,78.96267599837915,70.95998182504384,67.35530947895536,78.61274949001968,55.16958334213581,64.08893751841572,67.4826161045682,42.988010611993126,57.475831597125435,77.93544987295492,65.14769640161204,81.31957452249284,74.00704021183405,70.72527398063897,61.60862749206143,68.06727454067595,75.60248290136306,53.73617000784251,73.70100844027715,69.2442395553534,79.02192807056822,70.33666100609798,55.81496495708685,72.46405995636138,77.98731023711869,54.50773819643171,53.05473022254187,71.48936443599877,75.96938585287411,70.25572621936323,66.89582031904182,63.38815542947833,72.70648851410769,78.0360811604337,66.88193072101524,56.79849920467997,66.03238955475722,71.95644153467076,71.42009862763601,69.43650897461804,72.00253793765418,54.90337961574505,70.01618021873735,64.49442105786117,58.196985063359946,59.89136842203495,56.59400921552824,79.70734123085353,61.62365601678984,64.10775697706129,75.32145027124369,74.49186223359311,68.4975884154176,77.78000990996074,74.5936664921655,76.34925776279084,52.91124742415956,71.74541654329485,77.61566437796975,74.46607863909281,74.50875691607342,72.82647348809078,74.27408997985911,76.20423746722275,71.21961293384933,67.86276253404841,77.74057737792054,66.95006989940514,76.12602684035686,77.46570594365299,77.22876826912453,77.76398827449296,61.40207538481122,78.70391312148735,80.20248593895266,75.52765985587907,71.051812857329,59.36341706276173,75.1508716673664,67.59861618068746,63.83182126454891,85.67100771229366,73.39544352837375,51.24559441642381,75.00145428036684,73.2750630187404,61.307306403287996,75.21847919698648,52.2333547775505,64.95810053345545,61.86336680319596,67.25479310067166,81.5343045872678,72.82930992406746,81.95518898472352,62.584355631677575,75.93104121930004,82.56576350321664,85.65918615725192,75.52522234719507,57.03013220493219,75.94602393578829,72.96084068839286,69.89200623778702,71.27702790218264,68.33703449434009,70.27358859476351,70.72110206789154,71.86281584611737,74.27450235664506,71.23745978901925,76.92983837012004,73.47946111975372,71.67743935087633,67.21096264907582,75.69554422140557,81.15145424782511,77.51890016199896,80.63706766501303,70.49071592578713,75.69444929691704,78.43170907317564,75.52161889841624,70.78310503367425,61.26541838781992,78.02751790800127,72.72215208207403,59.43917353110234,78.44469676526663,62.846212901424906,81.09134675272607,71.76834502552771,55.5618606638382,74.58364494663782,59.82505565092967,81.6510521032865,78.57120852254288,76.27719173818303,70.58264087887713,77.16736469425526,54.46262714630577,65.02621203626934,73.99624902518173,62.132094815875305,75.88800959013874,55.74581549780109,51.71844650715752,68.07071326832082,62.44859129594762,69.9711490959803,52.44984181223795,70.49725914091971,72.32243548291139,67.7315163118563,52.97467261541651,74.01656927136469,78.4240997907344,57.668238817143546,61.56828409141052,79.59243951578551,59.7467606009978,63.839731401017914,67.34919624620142,48.15358966423476,73.15948962483819,74.19199318427242,72.51846400796902,69.95374673480106,64.73624286396085,74.53783148243207,78.02026503534199,75.43402164066659,71.81517243693524,84.7535752845466,77.23617769840828,60.46598616883371,74.08621600372305,76.74041160026934,54.59608961366135,82.83780078560326,65.70987416858662,63.06701748607809,61.23418622255828,76.73710635712612,52.03449677012442,73.68053608356638,69.63103785179783,85.19473736010414,81.39028003148164,54.05643243799935,69.16869472494758,80.58405317447381,61.55308985570687,70.2150120701687,77.33980365204272,71.84480501453925,77.05542761219672,72.59297704724186,54.53441387417578,77.262582234691,71.39049432443713,79.1055322113922,75.99659510977801,67.88429286621336,73.09925593804796,68.18470600183596,81.37326280390384,53.32598825476973,73.03567330111095,64.42803746081059,63.117096923988186,81.76756937188979,62.30287060964058,78.49092877569956,72.881929295527,77.74793181160705,51.247969047182494,57.30387151453393,72.10602028219776,78.94692957815899,79.24765486666605,59.603558413436765,82.33049982964894,72.42682689584615,80.09959926676582,77.30514338648196,74.39643704838895,78.48403154239202,72.76035231472116,70.67822736962124,79.13739446597835,66.21667669076746,86.0450527549282,64.17527788150434,70.74155726156094,70.74075382472877,65.41523554903219,81.73924106747559,78.00434087392989,74.43135994748435,79.72939293388073,75.57414947085513,68.72271780882664,72.32982969785404,56.05392468035143,72.69375286470206,54.73229396109957,60.48314595545102,75.42225811379812,42.46912177315051,56.2045881077442,51.938153506399956,79.17927453774305,66.62503106533156,72.61466078624969,75.9551759223605,77.26049034891368,73.62975922398738,50.01712367204599,77.2982513495488,79.59730244456875,71.18049013139704,65.99599264794654,54.878308242466225,74.02005408828431,77.36094331600627,65.39885659457869,74.16476971307978,72.7026531879419,75.87479236214537,67.51402638795538,76.01001699639164,69.40931766911497,57.42112102098502,75.78299746214897,70.5735670953801,72.6733600805443,79.61229848941889,51.92309848777099,71.94394666728044,73.16900809405831,49.62156049275675,67.95429671797146,75.97902627967787,76.69177510129805,75.24709826591375,80.08570652366674,60.71974849936797,64.84657866245783,69.92111736938014,57.91715457195079,77.95419228504616,76.22902185698194,59.0518334696325,72.01140762960203,80.70309834689965,67.29588588551925,72.41002275745606,63.631168715918335,70.65434804605859,70.0831728364607,69.92088304917621,73.24418999652721,66.3002979644676,71.5004409768618,71.82081788545567,54.586546296369875,74.02034512962328,72.22214712846673,69.1218773075644,80.74507273522383,58.325172135209726,74.23438591537273,78.77335652793325,80.01636886489383,72.5973642565931,69.81888890892812,61.14085764850216,64.03957124665556,60.453250923575936,72.22632430574278,61.04009583793672,76.49092280891313,62.85281195984223,71.92798280297129,67.08455002624339,61.64125486413146,73.51175947617719,73.40691593753154,80.07698433121575,73.15443523521992,76.99114087595734,71.15220811051782,54.07348764331218,68.35638613733734,75.96349448977747,72.8745470852188,63.70807430094453,72.95959832043081,76.34316405433721,57.15462313493319,83.19489423621502,59.70589215950283,72.25621186780837,75.85508750364654,62.20292822770093,64.10929192516055,77.53578024408414,78.94354335578355,81.23346218635844,71.45686823664461,52.01430300275498,72.54226852661373,75.33822368025281,53.19410794078513,72.7983138170736,69.12615805046887,78.75790042280529,81.90584344106404,78.74973978181168,63.758747306209,74.43890749338655,81.92683318291448,64.65884200849992,81.99328804759764,74.5999849327154,64.27219611863083,72.6638443731059,78.80805467489256,80.59212530947599,71.94890732038623,72.46008123752951,49.59628924774831,61.3216557008765,60.78631847263475,73.45945858240142,75.24164652165234,70.14088907067134,67.01769071237871,74.17525732175781,78.2815847587599,62.36281197325847,69.17226208784662,77.08776969719884,69.80384520186132,72.19642803053948,60.6885424123128,62.39603550188531,63.800272422212174,73.09167473200255,67.06857037519954,78.79941903398108,62.465667603816364,44.62085610813496,60.66501029981381,81.14285364391353,69.7019610467695,65.4309198638582,71.6346798335559,70.61646330010748,67.54103553194784,80.48965259167679,72.29356959410643,76.54958179342546,76.90643403104733,78.06494751738775,80.6516801155298,77.96917208840546,61.378364020956816,82.70374048765078,68.9726265603962,50.35516650592869,76.86613226914477,80.07903786065341,73.48134074087842,75.76589111878891,79.26683919391468,73.90206855465237,79.88955078723905,67.97205676583313,72.78724891451952,63.48149182532375,69.84470795540408,58.6528053392032,75.9516981669855,53.3402913637547,78.64815942918987,73.28853802636561,73.5378035951168,73.50958171987872,72.31590652000766,69.59226112869328,50.4474353139781,66.41663241746761,67.22499588237643,78.61722676726285,74.10270656573283,71.22898218302404,69.16243730103427,68.77751933987147,77.29568716191461,59.31714373764545,65.92962314151383,78.55623083950303,76.49761748164948,69.93697360672886,64.09924320057078,75.39873674140739,72.6693158389869,73.14515218858963,49.254811068147845,67.78923557557306,50.94781916990396,81.2408588175328,63.538147696310645,61.03956557291549,59.89479350207774,35.310250517629584,59.686282284324264,67.74435205974916,71.09996800989188,72.44215078490316,74.15362543745087,57.98161602658806,72.87539139039359,69.29738773376226,64.89979250178187,71.39060773641802,52.54888155982943,64.73774820682091,75.34359568008873,46.81694339233574,66.56643664292994,61.10138395185042,48.11489827614281,72.8643683168257,74.70723341414673,53.63199014551546,61.95302245084089,61.065976996709544,58.62364087583835,66.22943667384851,56.919022843714764,67.32021187940553,67.94251205821129,68.74932337558558,79.13860166435494,74.93169482465693,59.20439604357865,55.67195542989549,73.85786952449867,52.59988643748588,69.62659122385378,69.08333582262532,70.89254186437448,73.58406895428672,78.83061062329963,78.56434998124726,70.75761046407771,73.36465412421244,78.43720595339217,81.08195266922785,77.04696368850546,74.52516700204633,71.12490306149317,67.54580703477994,49.83550480669444,81.98429316033967,59.434128740460515,78.40036674707007,79.05821393509775,76.12764069810692,74.80432217022282,75.84378852633625,53.69499691582599,66.10621590226383,74.7418424707253,63.75211587072039,75.06184004548926,60.29989623840835,51.480633459461544,63.710137690410235,76.2848627361341,53.90173741832328,70.77467875707634,60.179165551183374,77.23461889246651,67.24161760376846,76.02121495127622,59.87574322630289,59.43764733284076,79.05238617796122,77.7080856340319,78.41787162481717,72.88045657235776,75.86108987779892,48.61203272571831,36.43229463279281,79.59936262157703,62.72407320756778,67.70792187764056,71.9635884140566,54.321797870932336,55.13338437926063,65.56736038881047,66.90430782211507,73.7201863990227,73.72880084229958,80.33919255428358,72.056721482089,76.75450867946222,74.89169954831169,65.27639365975875,72.60752184719877,77.02915997439054,53.2442341253307,77.88003118228747,52.424365985636015,72.70500403980233,74.81744794206246,69.65978290712519,67.2229211501541,71.74561265936791,69.83953799197266,72.36247920044568,68.84084817122672,64.10430969019863,62.28068079636932,74.25441253044626,68.62429568300135,56.990018343357676,82.59866426896994,61.87828941654747,80.5645999930661,73.16489568024002,76.90537822901061,57.66961450070291,53.455661753789016,84.05746207581612,71.78369242835277,71.64138218447178,69.91152655994512,79.74759168621668,77.7573239415579,77.12026877208277,69.6108462887152,70.05624682931067,80.35270003308482,71.29158399397849,73.94218845574862,57.56741172986406,80.21461492726306,71.91412062016983,59.28464733951962,71.0630183277638,62.75626397854695,74.24318270110425,78.90806139306527,80.56433078500743,71.83115162494451,67.48417381784475,65.23133016460454,60.2500698418163,57.01009586239388,66.69644870152521,72.40185370021322,68.40913145950944,80.72467700980687,64.40594121713639,74.7085180828815,61.9604963408257,79.89289119257418,68.75120992071597,61.45165694167586,68.7819175578831,57.14965309702613,68.28779808968419,44.87494471967269,78.72960306255557,71.94565503102382,80.7667494607139,69.46187805968366,72.74285832357262,73.219913640854,69.65226914651494,65.25160835454307,61.55707813164463,71.73659265965676,75.74583578946229,71.56836392834444,63.54116472564026,66.67738530215736,80.37315417009177,77.17829708956432,78.00748713426027,75.26000150298381,52.702737581361816,61.502346144254915,34.50894778919256,67.4239727066824,61.387926581305294,60.628782304446105,68.23913389407645,52.840582016758376,73.19971215116539,67.27959823101617,66.38666648039319,69.27429056058926,75.66029900546111,52.368514573656675,67.30826325520142,65.24492554680145,76.71185199822875,78.48243517539194,73.90347466934682,81.35529068164676,63.75792066316227,74.30850627585673,74.879237483025,61.87210722995144,47.68713537333155,64.74143702649049,59.859350208091826,64.63348458701986,74.18002063803014,64.10948246285211,62.28713889552304,72.0860144353311,53.301565376864666,78.44047553782129,70.37036780205585,66.02626485982464,55.833744269634536,52.864877497249,58.36624346716644,68.73287670098637,79.81023027817687,63.24245057279743,76.19081463995019,59.18605767453879,48.82040696292552,76.9639230657153,72.94033886399002,60.98083208483037,71.32736485327277,60.55651416185065,60.50859201661018,74.34485145265108,75.92275307678739,75.09156276428388,71.34225654354408,70.33034786107568,70.30533377752272,59.911644169281615,50.90567364432238,79.31429303492732,52.72640289143774,72.42054610982072,58.277097318264495,74.42036000920642,59.98308224148521,61.773489237257316,52.37421339139403,81.06223709658491,57.84088009417144,71.67787458031299,76.58667117434696,73.02088212377174,58.957750636009415,74.28249952161264,74.88932997179775,54.00499508916441,72.54540811108889,69.12526303962514],\"type\":\"scatter\"}],                        {\"template\":{\"data\":{\"histogram2dcontour\":[{\"type\":\"histogram2dcontour\",\"colorbar\":{\"outlinewidth\":0,\"ticks\":\"\"},\"colorscale\":[[0.0,\"#0d0887\"],[0.1111111111111111,\"#46039f\"],[0.2222222222222222,\"#7201a8\"],[0.3333333333333333,\"#9c179e\"],[0.4444444444444444,\"#bd3786\"],[0.5555555555555556,\"#d8576b\"],[0.6666666666666666,\"#ed7953\"],[0.7777777777777778,\"#fb9f3a\"],[0.8888888888888888,\"#fdca26\"],[1.0,\"#f0f921\"]]}],\"choropleth\":[{\"type\":\"choropleth\",\"colorbar\":{\"outlinewidth\":0,\"ticks\":\"\"}}],\"histogram2d\":[{\"type\":\"histogram2d\",\"colorbar\":{\"outlinewidth\":0,\"ticks\":\"\"},\"colorscale\":[[0.0,\"#0d0887\"],[0.1111111111111111,\"#46039f\"],[0.2222222222222222,\"#7201a8\"],[0.3333333333333333,\"#9c179e\"],[0.4444444444444444,\"#bd3786\"],[0.5555555555555556,\"#d8576b\"],[0.6666666666666666,\"#ed7953\"],[0.7777777777777778,\"#fb9f3a\"],[0.8888888888888888,\"#fdca26\"],[1.0,\"#f0f921\"]]}],\"heatmap\":[{\"type\":\"heatmap\",\"colorbar\":{\"outlinewidth\":0,\"ticks\":\"\"},\"colorscale\":[[0.0,\"#0d0887\"],[0.1111111111111111,\"#46039f\"],[0.2222222222222222,\"#7201a8\"],[0.3333333333333333,\"#9c179e\"],[0.4444444444444444,\"#bd3786\"],[0.5555555555555556,\"#d8576b\"],[0.6666666666666666,\"#ed7953\"],[0.7777777777777778,\"#fb9f3a\"],[0.8888888888888888,\"#fdca26\"],[1.0,\"#f0f921\"]]}],\"heatmapgl\":[{\"type\":\"heatmapgl\",\"colorbar\":{\"outlinewidth\":0,\"ticks\":\"\"},\"colorscale\":[[0.0,\"#0d0887\"],[0.1111111111111111,\"#46039f\"],[0.2222222222222222,\"#7201a8\"],[0.3333333333333333,\"#9c179e\"],[0.4444444444444444,\"#bd3786\"],[0.5555555555555556,\"#d8576b\"],[0.6666666666666666,\"#ed7953\"],[0.7777777777777778,\"#fb9f3a\"],[0.8888888888888888,\"#fdca26\"],[1.0,\"#f0f921\"]]}],\"contourcarpet\":[{\"type\":\"contourcarpet\",\"colorbar\":{\"outlinewidth\":0,\"ticks\":\"\"}}],\"contour\":[{\"type\":\"contour\",\"colorbar\":{\"outlinewidth\":0,\"ticks\":\"\"},\"colorscale\":[[0.0,\"#0d0887\"],[0.1111111111111111,\"#46039f\"],[0.2222222222222222,\"#7201a8\"],[0.3333333333333333,\"#9c179e\"],[0.4444444444444444,\"#bd3786\"],[0.5555555555555556,\"#d8576b\"],[0.6666666666666666,\"#ed7953\"],[0.7777777777777778,\"#fb9f3a\"],[0.8888888888888888,\"#fdca26\"],[1.0,\"#f0f921\"]]}],\"surface\":[{\"type\":\"surface\",\"colorbar\":{\"outlinewidth\":0,\"ticks\":\"\"},\"colorscale\":[[0.0,\"#0d0887\"],[0.1111111111111111,\"#46039f\"],[0.2222222222222222,\"#7201a8\"],[0.3333333333333333,\"#9c179e\"],[0.4444444444444444,\"#bd3786\"],[0.5555555555555556,\"#d8576b\"],[0.6666666666666666,\"#ed7953\"],[0.7777777777777778,\"#fb9f3a\"],[0.8888888888888888,\"#fdca26\"],[1.0,\"#f0f921\"]]}],\"mesh3d\":[{\"type\":\"mesh3d\",\"colorbar\":{\"outlinewidth\":0,\"ticks\":\"\"}}],\"scatter\":[{\"fillpattern\":{\"fillmode\":\"overlay\",\"size\":10,\"solidity\":0.2},\"type\":\"scatter\"}],\"parcoords\":[{\"type\":\"parcoords\",\"line\":{\"colorbar\":{\"outlinewidth\":0,\"ticks\":\"\"}}}],\"scatterpolargl\":[{\"type\":\"scatterpolargl\",\"marker\":{\"colorbar\":{\"outlinewidth\":0,\"ticks\":\"\"}}}],\"bar\":[{\"error_x\":{\"color\":\"#2a3f5f\"},\"error_y\":{\"color\":\"#2a3f5f\"},\"marker\":{\"line\":{\"color\":\"#E5ECF6\",\"width\":0.5},\"pattern\":{\"fillmode\":\"overlay\",\"size\":10,\"solidity\":0.2}},\"type\":\"bar\"}],\"scattergeo\":[{\"type\":\"scattergeo\",\"marker\":{\"colorbar\":{\"outlinewidth\":0,\"ticks\":\"\"}}}],\"scatterpolar\":[{\"type\":\"scatterpolar\",\"marker\":{\"colorbar\":{\"outlinewidth\":0,\"ticks\":\"\"}}}],\"histogram\":[{\"marker\":{\"pattern\":{\"fillmode\":\"overlay\",\"size\":10,\"solidity\":0.2}},\"type\":\"histogram\"}],\"scattergl\":[{\"type\":\"scattergl\",\"marker\":{\"colorbar\":{\"outlinewidth\":0,\"ticks\":\"\"}}}],\"scatter3d\":[{\"type\":\"scatter3d\",\"line\":{\"colorbar\":{\"outlinewidth\":0,\"ticks\":\"\"}},\"marker\":{\"colorbar\":{\"outlinewidth\":0,\"ticks\":\"\"}}}],\"scattermapbox\":[{\"type\":\"scattermapbox\",\"marker\":{\"colorbar\":{\"outlinewidth\":0,\"ticks\":\"\"}}}],\"scatterternary\":[{\"type\":\"scatterternary\",\"marker\":{\"colorbar\":{\"outlinewidth\":0,\"ticks\":\"\"}}}],\"scattercarpet\":[{\"type\":\"scattercarpet\",\"marker\":{\"colorbar\":{\"outlinewidth\":0,\"ticks\":\"\"}}}],\"carpet\":[{\"aaxis\":{\"endlinecolor\":\"#2a3f5f\",\"gridcolor\":\"white\",\"linecolor\":\"white\",\"minorgridcolor\":\"white\",\"startlinecolor\":\"#2a3f5f\"},\"baxis\":{\"endlinecolor\":\"#2a3f5f\",\"gridcolor\":\"white\",\"linecolor\":\"white\",\"minorgridcolor\":\"white\",\"startlinecolor\":\"#2a3f5f\"},\"type\":\"carpet\"}],\"table\":[{\"cells\":{\"fill\":{\"color\":\"#EBF0F8\"},\"line\":{\"color\":\"white\"}},\"header\":{\"fill\":{\"color\":\"#C8D4E3\"},\"line\":{\"color\":\"white\"}},\"type\":\"table\"}],\"barpolar\":[{\"marker\":{\"line\":{\"color\":\"#E5ECF6\",\"width\":0.5},\"pattern\":{\"fillmode\":\"overlay\",\"size\":10,\"solidity\":0.2}},\"type\":\"barpolar\"}],\"pie\":[{\"automargin\":true,\"type\":\"pie\"}]},\"layout\":{\"autotypenumbers\":\"strict\",\"colorway\":[\"#636efa\",\"#EF553B\",\"#00cc96\",\"#ab63fa\",\"#FFA15A\",\"#19d3f3\",\"#FF6692\",\"#B6E880\",\"#FF97FF\",\"#FECB52\"],\"font\":{\"color\":\"#2a3f5f\"},\"hovermode\":\"closest\",\"hoverlabel\":{\"align\":\"left\"},\"paper_bgcolor\":\"white\",\"plot_bgcolor\":\"#E5ECF6\",\"polar\":{\"bgcolor\":\"#E5ECF6\",\"angularaxis\":{\"gridcolor\":\"white\",\"linecolor\":\"white\",\"ticks\":\"\"},\"radialaxis\":{\"gridcolor\":\"white\",\"linecolor\":\"white\",\"ticks\":\"\"}},\"ternary\":{\"bgcolor\":\"#E5ECF6\",\"aaxis\":{\"gridcolor\":\"white\",\"linecolor\":\"white\",\"ticks\":\"\"},\"baxis\":{\"gridcolor\":\"white\",\"linecolor\":\"white\",\"ticks\":\"\"},\"caxis\":{\"gridcolor\":\"white\",\"linecolor\":\"white\",\"ticks\":\"\"}},\"coloraxis\":{\"colorbar\":{\"outlinewidth\":0,\"ticks\":\"\"}},\"colorscale\":{\"sequential\":[[0.0,\"#0d0887\"],[0.1111111111111111,\"#46039f\"],[0.2222222222222222,\"#7201a8\"],[0.3333333333333333,\"#9c179e\"],[0.4444444444444444,\"#bd3786\"],[0.5555555555555556,\"#d8576b\"],[0.6666666666666666,\"#ed7953\"],[0.7777777777777778,\"#fb9f3a\"],[0.8888888888888888,\"#fdca26\"],[1.0,\"#f0f921\"]],\"sequentialminus\":[[0.0,\"#0d0887\"],[0.1111111111111111,\"#46039f\"],[0.2222222222222222,\"#7201a8\"],[0.3333333333333333,\"#9c179e\"],[0.4444444444444444,\"#bd3786\"],[0.5555555555555556,\"#d8576b\"],[0.6666666666666666,\"#ed7953\"],[0.7777777777777778,\"#fb9f3a\"],[0.8888888888888888,\"#fdca26\"],[1.0,\"#f0f921\"]],\"diverging\":[[0,\"#8e0152\"],[0.1,\"#c51b7d\"],[0.2,\"#de77ae\"],[0.3,\"#f1b6da\"],[0.4,\"#fde0ef\"],[0.5,\"#f7f7f7\"],[0.6,\"#e6f5d0\"],[0.7,\"#b8e186\"],[0.8,\"#7fbc41\"],[0.9,\"#4d9221\"],[1,\"#276419\"]]},\"xaxis\":{\"gridcolor\":\"white\",\"linecolor\":\"white\",\"ticks\":\"\",\"title\":{\"standoff\":15},\"zerolinecolor\":\"white\",\"automargin\":true,\"zerolinewidth\":2},\"yaxis\":{\"gridcolor\":\"white\",\"linecolor\":\"white\",\"ticks\":\"\",\"title\":{\"standoff\":15},\"zerolinecolor\":\"white\",\"automargin\":true,\"zerolinewidth\":2},\"scene\":{\"xaxis\":{\"backgroundcolor\":\"#E5ECF6\",\"gridcolor\":\"white\",\"linecolor\":\"white\",\"showbackground\":true,\"ticks\":\"\",\"zerolinecolor\":\"white\",\"gridwidth\":2},\"yaxis\":{\"backgroundcolor\":\"#E5ECF6\",\"gridcolor\":\"white\",\"linecolor\":\"white\",\"showbackground\":true,\"ticks\":\"\",\"zerolinecolor\":\"white\",\"gridwidth\":2},\"zaxis\":{\"backgroundcolor\":\"#E5ECF6\",\"gridcolor\":\"white\",\"linecolor\":\"white\",\"showbackground\":true,\"ticks\":\"\",\"zerolinecolor\":\"white\",\"gridwidth\":2}},\"shapedefaults\":{\"line\":{\"color\":\"#2a3f5f\"}},\"annotationdefaults\":{\"arrowcolor\":\"#2a3f5f\",\"arrowhead\":0,\"arrowwidth\":1},\"geo\":{\"bgcolor\":\"white\",\"landcolor\":\"#E5ECF6\",\"subunitcolor\":\"white\",\"showland\":true,\"showlakes\":true,\"lakecolor\":\"white\"},\"title\":{\"x\":0.05},\"mapbox\":{\"style\":\"light\"}}},\"title\":{\"text\":\"Visualization of predictions | sklearn ridge regression | MAE: 2.734848114888108\"},\"xaxis\":{\"title\":{\"text\":\"Real values\"},\"range\":[0,100],\"scaleratio\":1},\"yaxis\":{\"title\":{\"text\":\"Predicted values\"},\"range\":[0,100],\"scaleratio\":1}},                        {\"responsive\": true}                    ).then(function(){\n                            \nvar gd = document.getElementById('f4acc97c-3279-4b1f-8b65-55b68e58fbcb');\nvar x = new MutationObserver(function (mutations, observer) {{\n        var display = window.getComputedStyle(gd).display;\n        if (!display || display === 'none') {{\n            console.log([gd, 'removed!']);\n            Plotly.purge(gd);\n            observer.disconnect();\n        }}\n}});\n\n// Listen for the removal of the full notebook cells\nvar notebookContainer = gd.closest('#notebook-container');\nif (notebookContainer) {{\n    x.observe(notebookContainer, {childList: true});\n}}\n\n// Listen for the clearing of the current output cell\nvar outputEl = gd.closest('.output');\nif (outputEl) {{\n    x.observe(outputEl, {childList: true});\n}}\n\n                        })                };                            </script>        </div>\n</body>\n</html>"
     },
     "metadata": {},
     "output_type": "display_data"
    }
   ]
  },
  {
   "cell_type": "markdown",
   "source": "* Porovnáme výsledky:",
   "metadata": {
    "tags": [],
    "cell_id": "00129-92afaa64-f9e8-443f-9cb0-f058aac2d805",
    "deepnote_cell_type": "markdown",
    "deepnote_cell_height": 69.390625
   }
  },
  {
   "cell_type": "code",
   "metadata": {
    "tags": [],
    "cell_id": "00130-008b9034-78ea-4866-9e00-1734417100ac",
    "deepnote_to_be_reexecuted": false,
    "source_hash": "1dda355f",
    "execution_start": 1661363087673,
    "execution_millis": 62,
    "deepnote_cell_type": "code",
    "deepnote_cell_height": 212,
    "deepnote_output_heights": [
     null,
     20.1875
    ]
   },
   "source": "from sklearn.metrics import mean_absolute_error\n\nprint(mean_absolute_error(Y_test, clf.predict(X_test)))\nmean_absolute_error(Y_test, clf_r.predict(X_test))",
   "execution_count": 89,
   "outputs": [
    {
     "name": "stdout",
     "text": "2.7330977140823345\n",
     "output_type": "stream"
    },
    {
     "output_type": "execute_result",
     "execution_count": 89,
     "data": {
      "text/plain": "2.734848114888108"
     },
     "metadata": {}
    }
   ]
  },
  {
   "cell_type": "code",
   "metadata": {
    "tags": [],
    "cell_id": "00129-8ecc901b-f778-40d9-ae27-17b3511dda91",
    "deepnote_to_be_reexecuted": false,
    "source_hash": "e65cade",
    "execution_start": 1661363087739,
    "execution_millis": 18,
    "deepnote_cell_type": "code",
    "deepnote_cell_height": 215
   },
   "source": "lr_score  = get_mae(Y_test, clf.predict(X_test))\nrr_score  = get_mae(Y_test, clf_r.predict(X_test))\n\nif lr_score < rr_score:\n    print( \"Lineární regrese je úspěšnější se score: {}\".format(lr_score))\nelse:\n    print(\"Hřebenová regrese je úspěšnější se score: {}\".format(rr_score))",
   "execution_count": 90,
   "outputs": [
    {
     "name": "stdout",
     "text": "Lineární regrese je úspěšnější se score: 2.7330977140823345\n",
     "output_type": "stream"
    }
   ]
  },
  {
   "cell_type": "markdown",
   "source": "## 5. Zkoumejte, jak byste mohli modely vylepšit:\n\n* Experimentujte s tvorbou nových příznaků (na základě těch dostupných).\n* Experimentujte se standardizací/normalizací dat.\n* Vyberte si hyperparametry modelů k ladění a najděte jejich nejlepší hodnoty.\n* Získané výsledky vždy řádně okomentujte.",
   "metadata": {
    "tags": [],
    "cell_id": "00131-d8581430-9e66-41b5-a93b-9e5dd1363fd6",
    "deepnote_cell_type": "markdown",
    "deepnote_cell_height": 198.59375
   }
  },
  {
   "cell_type": "markdown",
   "source": "* Nahraju si znovu data, abych případně mohl použít nějaké původní hodnoty.",
   "metadata": {
    "tags": [],
    "cell_id": "00131-696a0eee-3133-4275-8901-0ab3d85ed490",
    "deepnote_cell_type": "markdown",
    "deepnote_cell_height": 69.390625
   }
  },
  {
   "cell_type": "code",
   "metadata": {
    "tags": [],
    "cell_id": "00133-ae7f2439-65cc-40c3-8978-1cd950ec2a56",
    "deepnote_to_be_reexecuted": false,
    "source_hash": "ce36a904",
    "execution_start": 1661363087761,
    "execution_millis": 70,
    "deepnote_cell_type": "code",
    "deepnote_cell_height": 76
   },
   "source": "df2 = pd.read_csv('LifeExpectancyData.csv')",
   "execution_count": 91,
   "outputs": []
  },
  {
   "cell_type": "code",
   "metadata": {
    "tags": [],
    "cell_id": "00134-0e031c4e-6dc1-4998-b6e8-3f37980ae556",
    "deepnote_to_be_reexecuted": false,
    "source_hash": "997ae10",
    "execution_start": 1661363087857,
    "execution_millis": 7,
    "deepnote_cell_type": "code",
    "deepnote_cell_height": 76
   },
   "source": "df2.columns = df2.columns.str.strip()",
   "execution_count": 92,
   "outputs": []
  },
  {
   "cell_type": "code",
   "metadata": {
    "tags": [],
    "cell_id": "00134-ecaa5b2f-752d-4e7f-92ea-b6bd2e80f3cb",
    "deepnote_to_be_reexecuted": false,
    "source_hash": "e7d5c9a0",
    "execution_start": 1661363087872,
    "execution_millis": 7,
    "deepnote_cell_type": "code",
    "deepnote_cell_height": 76
   },
   "source": "df2 = df2[df2['Life expectancy'].notnull()]",
   "execution_count": 93,
   "outputs": []
  },
  {
   "cell_type": "markdown",
   "source": "* Pokusím se nyní využít příznak 'Country' aplikací One Hot Encoding. ",
   "metadata": {
    "tags": [],
    "cell_id": "00136-7e0f1a52-28dc-4cc8-9655-367ca089254e",
    "deepnote_cell_type": "markdown",
    "deepnote_cell_height": 69.390625
   }
  },
  {
   "cell_type": "code",
   "metadata": {
    "tags": [],
    "cell_id": "00137-81d03751-3aa5-4ddc-9f9e-c68c0a7a1113",
    "deepnote_to_be_reexecuted": false,
    "source_hash": "f804c160",
    "execution_start": 1661363087880,
    "execution_millis": 172,
    "deepnote_cell_type": "code",
    "deepnote_cell_height": 610
   },
   "source": "df",
   "execution_count": 94,
   "outputs": [
    {
     "output_type": "execute_result",
     "execution_count": 94,
     "data": {
      "application/vnd.deepnote.dataframe.v3+json": {
       "column_count": 15,
       "row_count": 2928,
       "columns": [
        {
         "name": "Country",
         "dtype": "object",
         "stats": {
          "unique_count": 183,
          "nan_count": 0,
          "categories": [
           {
            "name": "Afghanistan",
            "count": 16
           },
           {
            "name": "Albania",
            "count": 16
           },
           {
            "name": "181 others",
            "count": 2896
           }
          ]
         }
        },
        {
         "name": "Status",
         "dtype": "int8",
         "stats": {
          "unique_count": 2,
          "nan_count": 0,
          "min": "0",
          "max": "1",
          "histogram": [
           {
            "bin_start": 0,
            "bin_end": 0.1,
            "count": 512
           },
           {
            "bin_start": 0.1,
            "bin_end": 0.2,
            "count": 0
           },
           {
            "bin_start": 0.2,
            "bin_end": 0.30000000000000004,
            "count": 0
           },
           {
            "bin_start": 0.30000000000000004,
            "bin_end": 0.4,
            "count": 0
           },
           {
            "bin_start": 0.4,
            "bin_end": 0.5,
            "count": 0
           },
           {
            "bin_start": 0.5,
            "bin_end": 0.6000000000000001,
            "count": 0
           },
           {
            "bin_start": 0.6000000000000001,
            "bin_end": 0.7000000000000001,
            "count": 0
           },
           {
            "bin_start": 0.7000000000000001,
            "bin_end": 0.8,
            "count": 0
           },
           {
            "bin_start": 0.8,
            "bin_end": 0.9,
            "count": 0
           },
           {
            "bin_start": 0.9,
            "bin_end": 1,
            "count": 2416
           }
          ]
         }
        },
        {
         "name": "Life expectancy",
         "dtype": "float64",
         "stats": {
          "unique_count": 362,
          "nan_count": 0,
          "min": "36.3",
          "max": "89.0",
          "histogram": [
           {
            "bin_start": 36.3,
            "bin_end": 41.57,
            "count": 4
           },
           {
            "bin_start": 41.57,
            "bin_end": 46.839999999999996,
            "count": 50
           },
           {
            "bin_start": 46.839999999999996,
            "bin_end": 52.11,
            "count": 134
           },
           {
            "bin_start": 52.11,
            "bin_end": 57.379999999999995,
            "count": 229
           },
           {
            "bin_start": 57.379999999999995,
            "bin_end": 62.65,
            "count": 277
           },
           {
            "bin_start": 62.65,
            "bin_end": 67.92,
            "count": 405
           },
           {
            "bin_start": 67.92,
            "bin_end": 73.19,
            "count": 580
           },
           {
            "bin_start": 73.19,
            "bin_end": 78.46000000000001,
            "count": 819
           },
           {
            "bin_start": 78.46000000000001,
            "bin_end": 83.73,
            "count": 362
           },
           {
            "bin_start": 83.73,
            "bin_end": 89,
            "count": 68
           }
          ]
         }
        },
        {
         "name": "Adult Mortality",
         "dtype": "float64",
         "stats": {
          "unique_count": 425,
          "nan_count": 0,
          "min": "1.0",
          "max": "723.0",
          "histogram": [
           {
            "bin_start": 1,
            "bin_end": 73.2,
            "count": 729
           },
           {
            "bin_start": 73.2,
            "bin_end": 145.4,
            "count": 765
           },
           {
            "bin_start": 145.4,
            "bin_end": 217.60000000000002,
            "count": 610
           },
           {
            "bin_start": 217.60000000000002,
            "bin_end": 289.8,
            "count": 423
           },
           {
            "bin_start": 289.8,
            "bin_end": 362,
            "count": 176
           },
           {
            "bin_start": 362,
            "bin_end": 434.20000000000005,
            "count": 117
           },
           {
            "bin_start": 434.20000000000005,
            "bin_end": 506.40000000000003,
            "count": 54
           },
           {
            "bin_start": 506.40000000000003,
            "bin_end": 578.6,
            "count": 24
           },
           {
            "bin_start": 578.6,
            "bin_end": 650.8000000000001,
            "count": 17
           },
           {
            "bin_start": 650.8000000000001,
            "bin_end": 723,
            "count": 13
           }
          ]
         }
        },
        {
         "name": "Alcohol",
         "dtype": "float64",
         "stats": {
          "unique_count": 1246,
          "nan_count": 0,
          "min": "0.0",
          "max": "17.87",
          "histogram": [
           {
            "bin_start": 0,
            "bin_end": 1.7870000000000001,
            "count": 1031
           },
           {
            "bin_start": 1.7870000000000001,
            "bin_end": 3.5740000000000003,
            "count": 404
           },
           {
            "bin_start": 3.5740000000000003,
            "bin_end": 5.361000000000001,
            "count": 353
           },
           {
            "bin_start": 5.361000000000001,
            "bin_end": 7.148000000000001,
            "count": 307
           },
           {
            "bin_start": 7.148000000000001,
            "bin_end": 8.935,
            "count": 284
           },
           {
            "bin_start": 8.935,
            "bin_end": 10.722000000000001,
            "count": 254
           },
           {
            "bin_start": 10.722000000000001,
            "bin_end": 12.509,
            "count": 210
           },
           {
            "bin_start": 12.509,
            "bin_end": 14.296000000000001,
            "count": 70
           },
           {
            "bin_start": 14.296000000000001,
            "bin_end": 16.083000000000002,
            "count": 10
           },
           {
            "bin_start": 16.083000000000002,
            "bin_end": 17.87,
            "count": 5
           }
          ]
         }
        },
        {
         "name": "percentage expenditure",
         "dtype": "float64",
         "stats": {
          "unique_count": 2323,
          "nan_count": 0,
          "min": "0.0",
          "max": "19479.91161",
          "histogram": [
           {
            "bin_start": 0,
            "bin_end": 1947.991161,
            "count": 2647
           },
           {
            "bin_start": 1947.991161,
            "bin_end": 3895.982322,
            "count": 118
           },
           {
            "bin_start": 3895.982322,
            "bin_end": 5843.973483,
            "count": 54
           },
           {
            "bin_start": 5843.973483,
            "bin_end": 7791.964644,
            "count": 46
           },
           {
            "bin_start": 7791.964644,
            "bin_end": 9739.955805,
            "count": 27
           },
           {
            "bin_start": 9739.955805,
            "bin_end": 11687.946966,
            "count": 17
           },
           {
            "bin_start": 11687.946966,
            "bin_end": 13635.938127,
            "count": 7
           },
           {
            "bin_start": 13635.938127,
            "bin_end": 15583.929288,
            "count": 5
           },
           {
            "bin_start": 15583.929288,
            "bin_end": 17531.920448999997,
            "count": 2
           },
           {
            "bin_start": 17531.920448999997,
            "bin_end": 19479.91161,
            "count": 5
           }
          ]
         }
        },
        {
         "name": "Hepatitis B",
         "dtype": "float64",
         "stats": {
          "unique_count": 165,
          "nan_count": 0,
          "min": "10.0",
          "max": "99.0",
          "histogram": [
           {
            "bin_start": 10,
            "bin_end": 18.9,
            "count": 16
           },
           {
            "bin_start": 18.9,
            "bin_end": 27.8,
            "count": 19
           },
           {
            "bin_start": 27.8,
            "bin_end": 36.7,
            "count": 50
           },
           {
            "bin_start": 36.7,
            "bin_end": 45.6,
            "count": 82
           },
           {
            "bin_start": 45.6,
            "bin_end": 54.5,
            "count": 94
           },
           {
            "bin_start": 54.5,
            "bin_end": 63.400000000000006,
            "count": 198
           },
           {
            "bin_start": 63.400000000000006,
            "bin_end": 72.30000000000001,
            "count": 206
           },
           {
            "bin_start": 72.30000000000001,
            "bin_end": 81.2,
            "count": 330
           },
           {
            "bin_start": 81.2,
            "bin_end": 90.10000000000001,
            "count": 558
           },
           {
            "bin_start": 90.10000000000001,
            "bin_end": 99,
            "count": 1375
           }
          ]
         }
        },
        {
         "name": "BMI",
         "dtype": "float64",
         "stats": {
          "unique_count": 554,
          "nan_count": 0,
          "min": "10.0",
          "max": "96.0",
          "histogram": [
           {
            "bin_start": 10,
            "bin_end": 18.6,
            "count": 390
           },
           {
            "bin_start": 18.6,
            "bin_end": 27.2,
            "count": 496
           },
           {
            "bin_start": 27.2,
            "bin_end": 35.8,
            "count": 242
           },
           {
            "bin_start": 35.8,
            "bin_end": 44.4,
            "count": 229
           },
           {
            "bin_start": 44.4,
            "bin_end": 53,
            "count": 434
           },
           {
            "bin_start": 53,
            "bin_end": 61.599999999999994,
            "count": 757
           },
           {
            "bin_start": 61.599999999999994,
            "bin_end": 70.19999999999999,
            "count": 342
           },
           {
            "bin_start": 70.19999999999999,
            "bin_end": 78.8,
            "count": 35
           },
           {
            "bin_start": 78.8,
            "bin_end": 87.39999999999999,
            "count": 1
           },
           {
            "bin_start": 87.39999999999999,
            "bin_end": 96,
            "count": 2
           }
          ]
         }
        },
        {
         "name": "Polio",
         "dtype": "float64",
         "stats": {
          "unique_count": 72,
          "nan_count": 0,
          "min": "17.0",
          "max": "99.0",
          "histogram": [
           {
            "bin_start": 17,
            "bin_end": 25.2,
            "count": 4
           },
           {
            "bin_start": 25.2,
            "bin_end": 33.4,
            "count": 10
           },
           {
            "bin_start": 33.4,
            "bin_end": 41.599999999999994,
            "count": 24
           },
           {
            "bin_start": 41.599999999999994,
            "bin_end": 49.8,
            "count": 70
           },
           {
            "bin_start": 49.8,
            "bin_end": 58,
            "count": 64
           },
           {
            "bin_start": 58,
            "bin_end": 66.19999999999999,
            "count": 111
           },
           {
            "bin_start": 66.19999999999999,
            "bin_end": 74.39999999999999,
            "count": 173
           },
           {
            "bin_start": 74.39999999999999,
            "bin_end": 82.6,
            "count": 229
           },
           {
            "bin_start": 82.6,
            "bin_end": 90.8,
            "count": 563
           },
           {
            "bin_start": 90.8,
            "bin_end": 99,
            "count": 1680
           }
          ]
         }
        },
        {
         "name": "Diphtheria",
         "dtype": "float64",
         "stats": {
          "unique_count": 84,
          "nan_count": 0,
          "min": "16.0",
          "max": "99.0",
          "histogram": [
           {
            "bin_start": 16,
            "bin_end": 24.3,
            "count": 11
           },
           {
            "bin_start": 24.3,
            "bin_end": 32.6,
            "count": 19
           },
           {
            "bin_start": 32.6,
            "bin_end": 40.900000000000006,
            "count": 45
           },
           {
            "bin_start": 40.900000000000006,
            "bin_end": 49.2,
            "count": 67
           },
           {
            "bin_start": 49.2,
            "bin_end": 57.5,
            "count": 50
           },
           {
            "bin_start": 57.5,
            "bin_end": 65.80000000000001,
            "count": 114
           },
           {
            "bin_start": 65.80000000000001,
            "bin_end": 74.10000000000001,
            "count": 187
           },
           {
            "bin_start": 74.10000000000001,
            "bin_end": 82.4,
            "count": 314
           },
           {
            "bin_start": 82.4,
            "bin_end": 90.7,
            "count": 449
           },
           {
            "bin_start": 90.7,
            "bin_end": 99,
            "count": 1672
           }
          ]
         }
        },
        {
         "name": "HIV/AIDS",
         "dtype": "float64",
         "stats": {
          "unique_count": 200,
          "nan_count": 0,
          "min": "0.1",
          "max": "50.6",
          "histogram": [
           {
            "bin_start": 0.1,
            "bin_end": 5.1499999999999995,
            "count": 2686
           },
           {
            "bin_start": 5.1499999999999995,
            "bin_end": 10.2,
            "count": 119
           },
           {
            "bin_start": 10.2,
            "bin_end": 15.249999999999998,
            "count": 44
           },
           {
            "bin_start": 15.249999999999998,
            "bin_end": 20.3,
            "count": 22
           },
           {
            "bin_start": 20.3,
            "bin_end": 25.35,
            "count": 19
           },
           {
            "bin_start": 25.35,
            "bin_end": 30.4,
            "count": 13
           },
           {
            "bin_start": 30.4,
            "bin_end": 35.45,
            "count": 10
           },
           {
            "bin_start": 35.45,
            "bin_end": 40.5,
            "count": 5
           },
           {
            "bin_start": 40.5,
            "bin_end": 45.55,
            "count": 4
           },
           {
            "bin_start": 45.55,
            "bin_end": 50.6,
            "count": 6
           }
          ]
         }
        },
        {
         "name": "thinness  1-19 years",
         "dtype": "float64",
         "stats": {
          "unique_count": 201,
          "nan_count": 0,
          "min": "0.1",
          "max": "27.7",
          "histogram": [
           {
            "bin_start": 0.1,
            "bin_end": 2.86,
            "count": 1326
           },
           {
            "bin_start": 2.86,
            "bin_end": 5.619999999999999,
            "count": 515
           },
           {
            "bin_start": 5.619999999999999,
            "bin_end": 8.379999999999999,
            "count": 597
           },
           {
            "bin_start": 8.379999999999999,
            "bin_end": 11.139999999999999,
            "count": 238
           },
           {
            "bin_start": 11.139999999999999,
            "bin_end": 13.899999999999999,
            "count": 108
           },
           {
            "bin_start": 13.899999999999999,
            "bin_end": 16.66,
            "count": 71
           },
           {
            "bin_start": 16.66,
            "bin_end": 19.42,
            "count": 42
           },
           {
            "bin_start": 19.42,
            "bin_end": 22.18,
            "count": 14
           },
           {
            "bin_start": 22.18,
            "bin_end": 24.939999999999998,
            "count": 1
           },
           {
            "bin_start": 24.939999999999998,
            "bin_end": 27.7,
            "count": 16
           }
          ]
         }
        },
        {
         "name": "thinness 5-9 years",
         "dtype": "float64",
         "stats": {
          "unique_count": 208,
          "nan_count": 0,
          "min": "0.1",
          "max": "28.6",
          "histogram": [
           {
            "bin_start": 0.1,
            "bin_end": 2.95,
            "count": 1317
           },
           {
            "bin_start": 2.95,
            "bin_end": 5.8,
            "count": 542
           },
           {
            "bin_start": 5.8,
            "bin_end": 8.65,
            "count": 622
           },
           {
            "bin_start": 8.65,
            "bin_end": 11.5,
            "count": 215
           },
           {
            "bin_start": 11.5,
            "bin_end": 14.35,
            "count": 100
           },
           {
            "bin_start": 14.35,
            "bin_end": 17.200000000000003,
            "count": 58
           },
           {
            "bin_start": 17.200000000000003,
            "bin_end": 20.05,
            "count": 46
           },
           {
            "bin_start": 20.05,
            "bin_end": 22.900000000000002,
            "count": 12
           },
           {
            "bin_start": 22.900000000000002,
            "bin_end": 25.750000000000004,
            "count": 0
           },
           {
            "bin_start": 25.750000000000004,
            "bin_end": 28.6,
            "count": 16
           }
          ]
         }
        },
        {
         "name": "Income composition of resources",
         "dtype": "float64",
         "stats": {
          "unique_count": 633,
          "nan_count": 0,
          "min": "0.0",
          "max": "0.948",
          "histogram": [
           {
            "bin_start": 0,
            "bin_end": 0.0948,
            "count": 130
           },
           {
            "bin_start": 0.0948,
            "bin_end": 0.1896,
            "count": 0
           },
           {
            "bin_start": 0.1896,
            "bin_end": 0.2844,
            "count": 13
           },
           {
            "bin_start": 0.2844,
            "bin_end": 0.3792,
            "count": 150
           },
           {
            "bin_start": 0.3792,
            "bin_end": 0.474,
            "count": 370
           },
           {
            "bin_start": 0.474,
            "bin_end": 0.5688,
            "count": 302
           },
           {
            "bin_start": 0.5688,
            "bin_end": 0.6636,
            "count": 409
           },
           {
            "bin_start": 0.6636,
            "bin_end": 0.7584,
            "count": 670
           },
           {
            "bin_start": 0.7584,
            "bin_end": 0.8532,
            "count": 495
           },
           {
            "bin_start": 0.8532,
            "bin_end": 0.948,
            "count": 389
           }
          ]
         }
        },
        {
         "name": "Schooling",
         "dtype": "float64",
         "stats": {
          "unique_count": 180,
          "nan_count": 0,
          "min": "0.0",
          "max": "20.7",
          "histogram": [
           {
            "bin_start": 0,
            "bin_end": 2.07,
            "count": 26
           },
           {
            "bin_start": 2.07,
            "bin_end": 4.14,
            "count": 22
           },
           {
            "bin_start": 4.14,
            "bin_end": 6.209999999999999,
            "count": 109
           },
           {
            "bin_start": 6.209999999999999,
            "bin_end": 8.28,
            "count": 263
           },
           {
            "bin_start": 8.28,
            "bin_end": 10.35,
            "count": 402
           },
           {
            "bin_start": 10.35,
            "bin_end": 12.419999999999998,
            "count": 671
           },
           {
            "bin_start": 12.419999999999998,
            "bin_end": 14.489999999999998,
            "count": 718
           },
           {
            "bin_start": 14.489999999999998,
            "bin_end": 16.56,
            "count": 534
           },
           {
            "bin_start": 16.56,
            "bin_end": 18.63,
            "count": 147
           },
           {
            "bin_start": 18.63,
            "bin_end": 20.7,
            "count": 36
           }
          ]
         }
        },
        {
         "name": "_deepnote_index_column",
         "dtype": "int64"
        }
       ],
       "rows": [
        {
         "Country": "Afghanistan",
         "Status": 1,
         "Life expectancy": 65,
         "Adult Mortality": 263,
         "Alcohol": 0.01,
         "percentage expenditure": 71.27962362,
         "Hepatitis B": 65,
         "BMI": 19.1,
         "Polio": 60,
         "Diphtheria": 65,
         "HIV/AIDS": 0.1,
         "thinness  1-19 years": 17.2,
         "thinness 5-9 years": 17.3,
         "Income composition of resources": 0.479,
         "Schooling": 10.1,
         "_deepnote_index_column": 0
        },
        {
         "Country": "Afghanistan",
         "Status": 1,
         "Life expectancy": 59.9,
         "Adult Mortality": 271,
         "Alcohol": 0.01,
         "percentage expenditure": 73.52358168,
         "Hepatitis B": 62,
         "BMI": 18.6,
         "Polio": 58,
         "Diphtheria": 62,
         "HIV/AIDS": 0.1,
         "thinness  1-19 years": 17.5,
         "thinness 5-9 years": 17.5,
         "Income composition of resources": 0.476,
         "Schooling": 10,
         "_deepnote_index_column": 1
        },
        {
         "Country": "Afghanistan",
         "Status": 1,
         "Life expectancy": 59.9,
         "Adult Mortality": 268,
         "Alcohol": 0.01,
         "percentage expenditure": 73.21924272,
         "Hepatitis B": 64,
         "BMI": 18.1,
         "Polio": 62,
         "Diphtheria": 64,
         "HIV/AIDS": 0.1,
         "thinness  1-19 years": 17.7,
         "thinness 5-9 years": 17.7,
         "Income composition of resources": 0.47,
         "Schooling": 9.9,
         "_deepnote_index_column": 2
        },
        {
         "Country": "Afghanistan",
         "Status": 1,
         "Life expectancy": 59.5,
         "Adult Mortality": 272,
         "Alcohol": 0.01,
         "percentage expenditure": 78.1842153,
         "Hepatitis B": 67,
         "BMI": 17.6,
         "Polio": 67,
         "Diphtheria": 67,
         "HIV/AIDS": 0.1,
         "thinness  1-19 years": 17.9,
         "thinness 5-9 years": 18,
         "Income composition of resources": 0.463,
         "Schooling": 9.8,
         "_deepnote_index_column": 3
        },
        {
         "Country": "Afghanistan",
         "Status": 1,
         "Life expectancy": 59.2,
         "Adult Mortality": 275,
         "Alcohol": 0.01,
         "percentage expenditure": 7.097108703,
         "Hepatitis B": 68,
         "BMI": 17.2,
         "Polio": 68,
         "Diphtheria": 68,
         "HIV/AIDS": 0.1,
         "thinness  1-19 years": 18.2,
         "thinness 5-9 years": 18.2,
         "Income composition of resources": 0.454,
         "Schooling": 9.5,
         "_deepnote_index_column": 4
        },
        {
         "Country": "Afghanistan",
         "Status": 1,
         "Life expectancy": 58.8,
         "Adult Mortality": 279,
         "Alcohol": 0.01,
         "percentage expenditure": 79.67936736,
         "Hepatitis B": 66,
         "BMI": 16.7,
         "Polio": 66,
         "Diphtheria": 66,
         "HIV/AIDS": 0.1,
         "thinness  1-19 years": 18.4,
         "thinness 5-9 years": 18.4,
         "Income composition of resources": 0.448,
         "Schooling": 9.2,
         "_deepnote_index_column": 5
        },
        {
         "Country": "Afghanistan",
         "Status": 1,
         "Life expectancy": 58.6,
         "Adult Mortality": 281,
         "Alcohol": 0.01,
         "percentage expenditure": 56.76221682,
         "Hepatitis B": 63,
         "BMI": 16.2,
         "Polio": 63,
         "Diphtheria": 63,
         "HIV/AIDS": 0.1,
         "thinness  1-19 years": 18.6,
         "thinness 5-9 years": 18.7,
         "Income composition of resources": 0.434,
         "Schooling": 8.9,
         "_deepnote_index_column": 6
        },
        {
         "Country": "Afghanistan",
         "Status": 1,
         "Life expectancy": 58.1,
         "Adult Mortality": 287,
         "Alcohol": 0.03,
         "percentage expenditure": 25.87392536,
         "Hepatitis B": 64,
         "BMI": 15.7,
         "Polio": 64,
         "Diphtheria": 64,
         "HIV/AIDS": 0.1,
         "thinness  1-19 years": 18.8,
         "thinness 5-9 years": 18.9,
         "Income composition of resources": 0.433,
         "Schooling": 8.7,
         "_deepnote_index_column": 7
        },
        {
         "Country": "Afghanistan",
         "Status": 1,
         "Life expectancy": 57.5,
         "Adult Mortality": 295,
         "Alcohol": 0.02,
         "percentage expenditure": 10.91015598,
         "Hepatitis B": 63,
         "BMI": 15.2,
         "Polio": 63,
         "Diphtheria": 63,
         "HIV/AIDS": 0.1,
         "thinness  1-19 years": 19,
         "thinness 5-9 years": 19.1,
         "Income composition of resources": 0.415,
         "Schooling": 8.4,
         "_deepnote_index_column": 8
        },
        {
         "Country": "Afghanistan",
         "Status": 1,
         "Life expectancy": 57.3,
         "Adult Mortality": 295,
         "Alcohol": 0.03,
         "percentage expenditure": 17.17151751,
         "Hepatitis B": 64,
         "BMI": 14.7,
         "Polio": 58,
         "Diphtheria": 58,
         "HIV/AIDS": 0.1,
         "thinness  1-19 years": 19.2,
         "thinness 5-9 years": 19.3,
         "Income composition of resources": 0.405,
         "Schooling": 8.1,
         "_deepnote_index_column": 9
        }
       ]
      },
      "text/plain": "          Country  Status  Life expectancy  Adult Mortality  Alcohol  \\\n0     Afghanistan       1             65.0            263.0     0.01   \n1     Afghanistan       1             59.9            271.0     0.01   \n2     Afghanistan       1             59.9            268.0     0.01   \n3     Afghanistan       1             59.5            272.0     0.01   \n4     Afghanistan       1             59.2            275.0     0.01   \n...           ...     ...              ...              ...      ...   \n2933     Zimbabwe       1             44.3            723.0     4.36   \n2934     Zimbabwe       1             44.5            715.0     4.06   \n2935     Zimbabwe       1             44.8             73.0     4.43   \n2936     Zimbabwe       1             45.3            686.0     1.72   \n2937     Zimbabwe       1             46.0            665.0     1.68   \n\n      percentage expenditure  Hepatitis B   BMI     Polio  Diphtheria  \\\n0                  71.279624         65.0  19.1  60.00000        65.0   \n1                  73.523582         62.0  18.6  58.00000        62.0   \n2                  73.219243         64.0  18.1  62.00000        64.0   \n3                  78.184215         67.0  17.6  67.00000        67.0   \n4                   7.097109         68.0  17.2  68.00000        68.0   \n...                      ...          ...   ...       ...         ...   \n2933                0.000000         68.0  27.1  67.00000        65.0   \n2934                0.000000         70.0  26.7  87.19214        68.0   \n2935                0.000000         73.0  26.3  73.00000        71.0   \n2936                0.000000         76.0  25.9  76.00000        75.0   \n2937                0.000000         79.0  25.5  78.00000        78.0   \n\n      HIV/AIDS  thinness  1-19 years  thinness 5-9 years  \\\n0          0.1                  17.2                17.3   \n1          0.1                  17.5                17.5   \n2          0.1                  17.7                17.7   \n3          0.1                  17.9                18.0   \n4          0.1                  18.2                18.2   \n...        ...                   ...                 ...   \n2933      33.6                   9.4                 9.4   \n2934      36.7                   9.8                 9.9   \n2935      39.8                   1.2                 1.3   \n2936      42.1                   1.6                 1.7   \n2937      43.5                  11.0                11.2   \n\n      Income composition of resources  Schooling  \n0                               0.479       10.1  \n1                               0.476       10.0  \n2                               0.470        9.9  \n3                               0.463        9.8  \n4                               0.454        9.5  \n...                               ...        ...  \n2933                            0.407        9.2  \n2934                            0.418        9.5  \n2935                            0.427       10.0  \n2936                            0.427        9.8  \n2937                            0.434        9.8  \n\n[2928 rows x 15 columns]",
      "text/html": "<div>\n<style scoped>\n    .dataframe tbody tr th:only-of-type {\n        vertical-align: middle;\n    }\n\n    .dataframe tbody tr th {\n        vertical-align: top;\n    }\n\n    .dataframe thead th {\n        text-align: right;\n    }\n</style>\n<table border=\"1\" class=\"dataframe\">\n  <thead>\n    <tr style=\"text-align: right;\">\n      <th></th>\n      <th>Country</th>\n      <th>Status</th>\n      <th>Life expectancy</th>\n      <th>Adult Mortality</th>\n      <th>Alcohol</th>\n      <th>percentage expenditure</th>\n      <th>Hepatitis B</th>\n      <th>BMI</th>\n      <th>Polio</th>\n      <th>Diphtheria</th>\n      <th>HIV/AIDS</th>\n      <th>thinness  1-19 years</th>\n      <th>thinness 5-9 years</th>\n      <th>Income composition of resources</th>\n      <th>Schooling</th>\n    </tr>\n  </thead>\n  <tbody>\n    <tr>\n      <th>0</th>\n      <td>Afghanistan</td>\n      <td>1</td>\n      <td>65.0</td>\n      <td>263.0</td>\n      <td>0.01</td>\n      <td>71.279624</td>\n      <td>65.0</td>\n      <td>19.1</td>\n      <td>60.00000</td>\n      <td>65.0</td>\n      <td>0.1</td>\n      <td>17.2</td>\n      <td>17.3</td>\n      <td>0.479</td>\n      <td>10.1</td>\n    </tr>\n    <tr>\n      <th>1</th>\n      <td>Afghanistan</td>\n      <td>1</td>\n      <td>59.9</td>\n      <td>271.0</td>\n      <td>0.01</td>\n      <td>73.523582</td>\n      <td>62.0</td>\n      <td>18.6</td>\n      <td>58.00000</td>\n      <td>62.0</td>\n      <td>0.1</td>\n      <td>17.5</td>\n      <td>17.5</td>\n      <td>0.476</td>\n      <td>10.0</td>\n    </tr>\n    <tr>\n      <th>2</th>\n      <td>Afghanistan</td>\n      <td>1</td>\n      <td>59.9</td>\n      <td>268.0</td>\n      <td>0.01</td>\n      <td>73.219243</td>\n      <td>64.0</td>\n      <td>18.1</td>\n      <td>62.00000</td>\n      <td>64.0</td>\n      <td>0.1</td>\n      <td>17.7</td>\n      <td>17.7</td>\n      <td>0.470</td>\n      <td>9.9</td>\n    </tr>\n    <tr>\n      <th>3</th>\n      <td>Afghanistan</td>\n      <td>1</td>\n      <td>59.5</td>\n      <td>272.0</td>\n      <td>0.01</td>\n      <td>78.184215</td>\n      <td>67.0</td>\n      <td>17.6</td>\n      <td>67.00000</td>\n      <td>67.0</td>\n      <td>0.1</td>\n      <td>17.9</td>\n      <td>18.0</td>\n      <td>0.463</td>\n      <td>9.8</td>\n    </tr>\n    <tr>\n      <th>4</th>\n      <td>Afghanistan</td>\n      <td>1</td>\n      <td>59.2</td>\n      <td>275.0</td>\n      <td>0.01</td>\n      <td>7.097109</td>\n      <td>68.0</td>\n      <td>17.2</td>\n      <td>68.00000</td>\n      <td>68.0</td>\n      <td>0.1</td>\n      <td>18.2</td>\n      <td>18.2</td>\n      <td>0.454</td>\n      <td>9.5</td>\n    </tr>\n    <tr>\n      <th>...</th>\n      <td>...</td>\n      <td>...</td>\n      <td>...</td>\n      <td>...</td>\n      <td>...</td>\n      <td>...</td>\n      <td>...</td>\n      <td>...</td>\n      <td>...</td>\n      <td>...</td>\n      <td>...</td>\n      <td>...</td>\n      <td>...</td>\n      <td>...</td>\n      <td>...</td>\n    </tr>\n    <tr>\n      <th>2933</th>\n      <td>Zimbabwe</td>\n      <td>1</td>\n      <td>44.3</td>\n      <td>723.0</td>\n      <td>4.36</td>\n      <td>0.000000</td>\n      <td>68.0</td>\n      <td>27.1</td>\n      <td>67.00000</td>\n      <td>65.0</td>\n      <td>33.6</td>\n      <td>9.4</td>\n      <td>9.4</td>\n      <td>0.407</td>\n      <td>9.2</td>\n    </tr>\n    <tr>\n      <th>2934</th>\n      <td>Zimbabwe</td>\n      <td>1</td>\n      <td>44.5</td>\n      <td>715.0</td>\n      <td>4.06</td>\n      <td>0.000000</td>\n      <td>70.0</td>\n      <td>26.7</td>\n      <td>87.19214</td>\n      <td>68.0</td>\n      <td>36.7</td>\n      <td>9.8</td>\n      <td>9.9</td>\n      <td>0.418</td>\n      <td>9.5</td>\n    </tr>\n    <tr>\n      <th>2935</th>\n      <td>Zimbabwe</td>\n      <td>1</td>\n      <td>44.8</td>\n      <td>73.0</td>\n      <td>4.43</td>\n      <td>0.000000</td>\n      <td>73.0</td>\n      <td>26.3</td>\n      <td>73.00000</td>\n      <td>71.0</td>\n      <td>39.8</td>\n      <td>1.2</td>\n      <td>1.3</td>\n      <td>0.427</td>\n      <td>10.0</td>\n    </tr>\n    <tr>\n      <th>2936</th>\n      <td>Zimbabwe</td>\n      <td>1</td>\n      <td>45.3</td>\n      <td>686.0</td>\n      <td>1.72</td>\n      <td>0.000000</td>\n      <td>76.0</td>\n      <td>25.9</td>\n      <td>76.00000</td>\n      <td>75.0</td>\n      <td>42.1</td>\n      <td>1.6</td>\n      <td>1.7</td>\n      <td>0.427</td>\n      <td>9.8</td>\n    </tr>\n    <tr>\n      <th>2937</th>\n      <td>Zimbabwe</td>\n      <td>1</td>\n      <td>46.0</td>\n      <td>665.0</td>\n      <td>1.68</td>\n      <td>0.000000</td>\n      <td>79.0</td>\n      <td>25.5</td>\n      <td>78.00000</td>\n      <td>78.0</td>\n      <td>43.5</td>\n      <td>11.0</td>\n      <td>11.2</td>\n      <td>0.434</td>\n      <td>9.8</td>\n    </tr>\n  </tbody>\n</table>\n<p>2928 rows × 15 columns</p>\n</div>"
     },
     "metadata": {}
    }
   ]
  },
  {
   "cell_type": "code",
   "metadata": {
    "tags": [],
    "cell_id": "00139-28b89d7c-960a-4d76-a57a-5863608ea2f6",
    "deepnote_to_be_reexecuted": false,
    "source_hash": "7fabc2db",
    "execution_start": 1661363088051,
    "execution_millis": 6,
    "deepnote_cell_type": "code",
    "deepnote_cell_height": 76
   },
   "source": "dummies = pd.get_dummies(df.Country, prefix='Country')",
   "execution_count": 95,
   "outputs": []
  },
  {
   "cell_type": "markdown",
   "source": "* Příznak 'Year' jsem se rozhodnul vrátit, neboť by mohla být určitá korelace mezi tím, jak roky plynou a jak se země vyvijí, resp. zvyšují se ji (pravděpodobně) takové příznaky, jako 'GDP' atd.",
   "metadata": {
    "tags": [],
    "cell_id": "00140-a6143f15-8408-4790-8ee8-59ee0bafe8af",
    "deepnote_cell_type": "markdown",
    "deepnote_cell_height": 91.796875
   }
  },
  {
   "cell_type": "code",
   "metadata": {
    "tags": [],
    "cell_id": "00140-0cacb44f-da78-41c5-b2e1-5f86a0e1c3d2",
    "deepnote_to_be_reexecuted": false,
    "source_hash": "8a9a8d1e",
    "execution_start": 1661363088059,
    "execution_millis": 9,
    "deepnote_cell_type": "code",
    "deepnote_cell_height": 76
   },
   "source": "df['Year'] = df2['Year']",
   "execution_count": 96,
   "outputs": []
  },
  {
   "cell_type": "markdown",
   "source": "* Zkusím data normalizovat.",
   "metadata": {
    "tags": [],
    "cell_id": "00140-80efd41e-ae9b-4970-8f9d-5e7df8a1ff59",
    "deepnote_cell_type": "markdown",
    "deepnote_cell_height": 69.390625
   }
  },
  {
   "cell_type": "code",
   "metadata": {
    "tags": [],
    "cell_id": "00143-803ea3bf-fba8-4fee-9bf2-98c3ad64868f",
    "deepnote_to_be_reexecuted": false,
    "source_hash": "a3bfc8be",
    "execution_start": 1661363088075,
    "execution_millis": 51,
    "deepnote_cell_type": "code",
    "deepnote_cell_height": 76
   },
   "source": "result = df.drop(columns=['Country', 'Life expectancy']).apply(lambda x: (x-x.min())/(x.max() - x.min()))",
   "execution_count": 97,
   "outputs": []
  },
  {
   "cell_type": "code",
   "metadata": {
    "tags": [],
    "cell_id": "00142-0f1b7773-18cb-45cc-9b8b-6676fa5205af",
    "deepnote_to_be_reexecuted": false,
    "source_hash": "2e3ee85a",
    "execution_start": 1661363088130,
    "execution_millis": 12,
    "deepnote_cell_type": "code",
    "deepnote_cell_height": 76
   },
   "source": "result['Life expectancy'] = df['Life expectancy']",
   "execution_count": 98,
   "outputs": []
  },
  {
   "cell_type": "markdown",
   "source": "* Výsledný dataframe \"slepíme\" dohromady z levého DF 'df' a pravého DF 'dummies'.",
   "metadata": {
    "tags": [],
    "cell_id": "00144-446f03cf-9850-4a5a-a620-20c5aabd1de1",
    "deepnote_cell_type": "markdown",
    "deepnote_cell_height": 69.390625
   }
  },
  {
   "cell_type": "code",
   "metadata": {
    "tags": [],
    "cell_id": "00144-828adc53-ae8d-4b87-95bd-32e6cb6f8876",
    "deepnote_to_be_reexecuted": false,
    "source_hash": "25cb78da",
    "execution_start": 1661363088145,
    "execution_millis": 4,
    "deepnote_cell_type": "code",
    "deepnote_cell_height": 76
   },
   "source": "result = pd.concat([dummies, result], axis=1)",
   "execution_count": 99,
   "outputs": []
  },
  {
   "cell_type": "code",
   "metadata": {
    "tags": [],
    "cell_id": "00144-93b9df9d-0196-444f-8486-dd93338ac377",
    "deepnote_to_be_reexecuted": false,
    "source_hash": "bae0e1b5",
    "execution_start": 1661363088155,
    "execution_millis": 945,
    "is_output_hidden": true,
    "deepnote_cell_type": "code",
    "deepnote_cell_height": 106.796875
   },
   "source": "result",
   "execution_count": 100,
   "outputs": [
    {
     "output_type": "execute_result",
     "execution_count": 100,
     "data": {
      "application/vnd.deepnote.dataframe.v3+json": {
       "column_count": 198,
       "row_count": 2928,
       "columns": [
        {
         "name": "Country_Afghanistan",
         "dtype": "uint8",
         "stats": {
          "unique_count": 2,
          "nan_count": 0,
          "min": "0",
          "max": "1",
          "histogram": [
           {
            "bin_start": 0,
            "bin_end": 0.1,
            "count": 2912
           },
           {
            "bin_start": 0.1,
            "bin_end": 0.2,
            "count": 0
           },
           {
            "bin_start": 0.2,
            "bin_end": 0.30000000000000004,
            "count": 0
           },
           {
            "bin_start": 0.30000000000000004,
            "bin_end": 0.4,
            "count": 0
           },
           {
            "bin_start": 0.4,
            "bin_end": 0.5,
            "count": 0
           },
           {
            "bin_start": 0.5,
            "bin_end": 0.6000000000000001,
            "count": 0
           },
           {
            "bin_start": 0.6000000000000001,
            "bin_end": 0.7000000000000001,
            "count": 0
           },
           {
            "bin_start": 0.7000000000000001,
            "bin_end": 0.8,
            "count": 0
           },
           {
            "bin_start": 0.8,
            "bin_end": 0.9,
            "count": 0
           },
           {
            "bin_start": 0.9,
            "bin_end": 1,
            "count": 16
           }
          ]
         }
        },
        {
         "name": "Country_Albania",
         "dtype": "uint8",
         "stats": {
          "unique_count": 2,
          "nan_count": 0,
          "min": "0",
          "max": "1",
          "histogram": [
           {
            "bin_start": 0,
            "bin_end": 0.1,
            "count": 2912
           },
           {
            "bin_start": 0.1,
            "bin_end": 0.2,
            "count": 0
           },
           {
            "bin_start": 0.2,
            "bin_end": 0.30000000000000004,
            "count": 0
           },
           {
            "bin_start": 0.30000000000000004,
            "bin_end": 0.4,
            "count": 0
           },
           {
            "bin_start": 0.4,
            "bin_end": 0.5,
            "count": 0
           },
           {
            "bin_start": 0.5,
            "bin_end": 0.6000000000000001,
            "count": 0
           },
           {
            "bin_start": 0.6000000000000001,
            "bin_end": 0.7000000000000001,
            "count": 0
           },
           {
            "bin_start": 0.7000000000000001,
            "bin_end": 0.8,
            "count": 0
           },
           {
            "bin_start": 0.8,
            "bin_end": 0.9,
            "count": 0
           },
           {
            "bin_start": 0.9,
            "bin_end": 1,
            "count": 16
           }
          ]
         }
        },
        {
         "name": "Country_Algeria",
         "dtype": "uint8",
         "stats": {
          "unique_count": 2,
          "nan_count": 0,
          "min": "0",
          "max": "1",
          "histogram": [
           {
            "bin_start": 0,
            "bin_end": 0.1,
            "count": 2912
           },
           {
            "bin_start": 0.1,
            "bin_end": 0.2,
            "count": 0
           },
           {
            "bin_start": 0.2,
            "bin_end": 0.30000000000000004,
            "count": 0
           },
           {
            "bin_start": 0.30000000000000004,
            "bin_end": 0.4,
            "count": 0
           },
           {
            "bin_start": 0.4,
            "bin_end": 0.5,
            "count": 0
           },
           {
            "bin_start": 0.5,
            "bin_end": 0.6000000000000001,
            "count": 0
           },
           {
            "bin_start": 0.6000000000000001,
            "bin_end": 0.7000000000000001,
            "count": 0
           },
           {
            "bin_start": 0.7000000000000001,
            "bin_end": 0.8,
            "count": 0
           },
           {
            "bin_start": 0.8,
            "bin_end": 0.9,
            "count": 0
           },
           {
            "bin_start": 0.9,
            "bin_end": 1,
            "count": 16
           }
          ]
         }
        },
        {
         "name": "Country_Angola",
         "dtype": "uint8",
         "stats": {
          "unique_count": 2,
          "nan_count": 0,
          "min": "0",
          "max": "1",
          "histogram": [
           {
            "bin_start": 0,
            "bin_end": 0.1,
            "count": 2912
           },
           {
            "bin_start": 0.1,
            "bin_end": 0.2,
            "count": 0
           },
           {
            "bin_start": 0.2,
            "bin_end": 0.30000000000000004,
            "count": 0
           },
           {
            "bin_start": 0.30000000000000004,
            "bin_end": 0.4,
            "count": 0
           },
           {
            "bin_start": 0.4,
            "bin_end": 0.5,
            "count": 0
           },
           {
            "bin_start": 0.5,
            "bin_end": 0.6000000000000001,
            "count": 0
           },
           {
            "bin_start": 0.6000000000000001,
            "bin_end": 0.7000000000000001,
            "count": 0
           },
           {
            "bin_start": 0.7000000000000001,
            "bin_end": 0.8,
            "count": 0
           },
           {
            "bin_start": 0.8,
            "bin_end": 0.9,
            "count": 0
           },
           {
            "bin_start": 0.9,
            "bin_end": 1,
            "count": 16
           }
          ]
         }
        },
        {
         "name": "Country_Antigua and Barbuda",
         "dtype": "uint8",
         "stats": {
          "unique_count": 2,
          "nan_count": 0,
          "min": "0",
          "max": "1",
          "histogram": [
           {
            "bin_start": 0,
            "bin_end": 0.1,
            "count": 2912
           },
           {
            "bin_start": 0.1,
            "bin_end": 0.2,
            "count": 0
           },
           {
            "bin_start": 0.2,
            "bin_end": 0.30000000000000004,
            "count": 0
           },
           {
            "bin_start": 0.30000000000000004,
            "bin_end": 0.4,
            "count": 0
           },
           {
            "bin_start": 0.4,
            "bin_end": 0.5,
            "count": 0
           },
           {
            "bin_start": 0.5,
            "bin_end": 0.6000000000000001,
            "count": 0
           },
           {
            "bin_start": 0.6000000000000001,
            "bin_end": 0.7000000000000001,
            "count": 0
           },
           {
            "bin_start": 0.7000000000000001,
            "bin_end": 0.8,
            "count": 0
           },
           {
            "bin_start": 0.8,
            "bin_end": 0.9,
            "count": 0
           },
           {
            "bin_start": 0.9,
            "bin_end": 1,
            "count": 16
           }
          ]
         }
        },
        {
         "name": "Country_Argentina",
         "dtype": "uint8",
         "stats": {
          "unique_count": 2,
          "nan_count": 0,
          "min": "0",
          "max": "1",
          "histogram": [
           {
            "bin_start": 0,
            "bin_end": 0.1,
            "count": 2912
           },
           {
            "bin_start": 0.1,
            "bin_end": 0.2,
            "count": 0
           },
           {
            "bin_start": 0.2,
            "bin_end": 0.30000000000000004,
            "count": 0
           },
           {
            "bin_start": 0.30000000000000004,
            "bin_end": 0.4,
            "count": 0
           },
           {
            "bin_start": 0.4,
            "bin_end": 0.5,
            "count": 0
           },
           {
            "bin_start": 0.5,
            "bin_end": 0.6000000000000001,
            "count": 0
           },
           {
            "bin_start": 0.6000000000000001,
            "bin_end": 0.7000000000000001,
            "count": 0
           },
           {
            "bin_start": 0.7000000000000001,
            "bin_end": 0.8,
            "count": 0
           },
           {
            "bin_start": 0.8,
            "bin_end": 0.9,
            "count": 0
           },
           {
            "bin_start": 0.9,
            "bin_end": 1,
            "count": 16
           }
          ]
         }
        },
        {
         "name": "Country_Armenia",
         "dtype": "uint8",
         "stats": {
          "unique_count": 2,
          "nan_count": 0,
          "min": "0",
          "max": "1",
          "histogram": [
           {
            "bin_start": 0,
            "bin_end": 0.1,
            "count": 2912
           },
           {
            "bin_start": 0.1,
            "bin_end": 0.2,
            "count": 0
           },
           {
            "bin_start": 0.2,
            "bin_end": 0.30000000000000004,
            "count": 0
           },
           {
            "bin_start": 0.30000000000000004,
            "bin_end": 0.4,
            "count": 0
           },
           {
            "bin_start": 0.4,
            "bin_end": 0.5,
            "count": 0
           },
           {
            "bin_start": 0.5,
            "bin_end": 0.6000000000000001,
            "count": 0
           },
           {
            "bin_start": 0.6000000000000001,
            "bin_end": 0.7000000000000001,
            "count": 0
           },
           {
            "bin_start": 0.7000000000000001,
            "bin_end": 0.8,
            "count": 0
           },
           {
            "bin_start": 0.8,
            "bin_end": 0.9,
            "count": 0
           },
           {
            "bin_start": 0.9,
            "bin_end": 1,
            "count": 16
           }
          ]
         }
        },
        {
         "name": "Country_Australia",
         "dtype": "uint8",
         "stats": {
          "unique_count": 2,
          "nan_count": 0,
          "min": "0",
          "max": "1",
          "histogram": [
           {
            "bin_start": 0,
            "bin_end": 0.1,
            "count": 2912
           },
           {
            "bin_start": 0.1,
            "bin_end": 0.2,
            "count": 0
           },
           {
            "bin_start": 0.2,
            "bin_end": 0.30000000000000004,
            "count": 0
           },
           {
            "bin_start": 0.30000000000000004,
            "bin_end": 0.4,
            "count": 0
           },
           {
            "bin_start": 0.4,
            "bin_end": 0.5,
            "count": 0
           },
           {
            "bin_start": 0.5,
            "bin_end": 0.6000000000000001,
            "count": 0
           },
           {
            "bin_start": 0.6000000000000001,
            "bin_end": 0.7000000000000001,
            "count": 0
           },
           {
            "bin_start": 0.7000000000000001,
            "bin_end": 0.8,
            "count": 0
           },
           {
            "bin_start": 0.8,
            "bin_end": 0.9,
            "count": 0
           },
           {
            "bin_start": 0.9,
            "bin_end": 1,
            "count": 16
           }
          ]
         }
        },
        {
         "name": "Country_Austria",
         "dtype": "uint8",
         "stats": {
          "unique_count": 2,
          "nan_count": 0,
          "min": "0",
          "max": "1",
          "histogram": [
           {
            "bin_start": 0,
            "bin_end": 0.1,
            "count": 2912
           },
           {
            "bin_start": 0.1,
            "bin_end": 0.2,
            "count": 0
           },
           {
            "bin_start": 0.2,
            "bin_end": 0.30000000000000004,
            "count": 0
           },
           {
            "bin_start": 0.30000000000000004,
            "bin_end": 0.4,
            "count": 0
           },
           {
            "bin_start": 0.4,
            "bin_end": 0.5,
            "count": 0
           },
           {
            "bin_start": 0.5,
            "bin_end": 0.6000000000000001,
            "count": 0
           },
           {
            "bin_start": 0.6000000000000001,
            "bin_end": 0.7000000000000001,
            "count": 0
           },
           {
            "bin_start": 0.7000000000000001,
            "bin_end": 0.8,
            "count": 0
           },
           {
            "bin_start": 0.8,
            "bin_end": 0.9,
            "count": 0
           },
           {
            "bin_start": 0.9,
            "bin_end": 1,
            "count": 16
           }
          ]
         }
        },
        {
         "name": "Country_Azerbaijan",
         "dtype": "uint8",
         "stats": {
          "unique_count": 2,
          "nan_count": 0,
          "min": "0",
          "max": "1",
          "histogram": [
           {
            "bin_start": 0,
            "bin_end": 0.1,
            "count": 2912
           },
           {
            "bin_start": 0.1,
            "bin_end": 0.2,
            "count": 0
           },
           {
            "bin_start": 0.2,
            "bin_end": 0.30000000000000004,
            "count": 0
           },
           {
            "bin_start": 0.30000000000000004,
            "bin_end": 0.4,
            "count": 0
           },
           {
            "bin_start": 0.4,
            "bin_end": 0.5,
            "count": 0
           },
           {
            "bin_start": 0.5,
            "bin_end": 0.6000000000000001,
            "count": 0
           },
           {
            "bin_start": 0.6000000000000001,
            "bin_end": 0.7000000000000001,
            "count": 0
           },
           {
            "bin_start": 0.7000000000000001,
            "bin_end": 0.8,
            "count": 0
           },
           {
            "bin_start": 0.8,
            "bin_end": 0.9,
            "count": 0
           },
           {
            "bin_start": 0.9,
            "bin_end": 1,
            "count": 16
           }
          ]
         }
        },
        {
         "name": "Country_Bahamas",
         "dtype": "uint8",
         "stats": {
          "unique_count": 2,
          "nan_count": 0,
          "min": "0",
          "max": "1",
          "histogram": [
           {
            "bin_start": 0,
            "bin_end": 0.1,
            "count": 2912
           },
           {
            "bin_start": 0.1,
            "bin_end": 0.2,
            "count": 0
           },
           {
            "bin_start": 0.2,
            "bin_end": 0.30000000000000004,
            "count": 0
           },
           {
            "bin_start": 0.30000000000000004,
            "bin_end": 0.4,
            "count": 0
           },
           {
            "bin_start": 0.4,
            "bin_end": 0.5,
            "count": 0
           },
           {
            "bin_start": 0.5,
            "bin_end": 0.6000000000000001,
            "count": 0
           },
           {
            "bin_start": 0.6000000000000001,
            "bin_end": 0.7000000000000001,
            "count": 0
           },
           {
            "bin_start": 0.7000000000000001,
            "bin_end": 0.8,
            "count": 0
           },
           {
            "bin_start": 0.8,
            "bin_end": 0.9,
            "count": 0
           },
           {
            "bin_start": 0.9,
            "bin_end": 1,
            "count": 16
           }
          ]
         }
        },
        {
         "name": "Country_Bahrain",
         "dtype": "uint8",
         "stats": {
          "unique_count": 2,
          "nan_count": 0,
          "min": "0",
          "max": "1",
          "histogram": [
           {
            "bin_start": 0,
            "bin_end": 0.1,
            "count": 2912
           },
           {
            "bin_start": 0.1,
            "bin_end": 0.2,
            "count": 0
           },
           {
            "bin_start": 0.2,
            "bin_end": 0.30000000000000004,
            "count": 0
           },
           {
            "bin_start": 0.30000000000000004,
            "bin_end": 0.4,
            "count": 0
           },
           {
            "bin_start": 0.4,
            "bin_end": 0.5,
            "count": 0
           },
           {
            "bin_start": 0.5,
            "bin_end": 0.6000000000000001,
            "count": 0
           },
           {
            "bin_start": 0.6000000000000001,
            "bin_end": 0.7000000000000001,
            "count": 0
           },
           {
            "bin_start": 0.7000000000000001,
            "bin_end": 0.8,
            "count": 0
           },
           {
            "bin_start": 0.8,
            "bin_end": 0.9,
            "count": 0
           },
           {
            "bin_start": 0.9,
            "bin_end": 1,
            "count": 16
           }
          ]
         }
        },
        {
         "name": "Country_Bangladesh",
         "dtype": "uint8",
         "stats": {
          "unique_count": 2,
          "nan_count": 0,
          "min": "0",
          "max": "1",
          "histogram": [
           {
            "bin_start": 0,
            "bin_end": 0.1,
            "count": 2912
           },
           {
            "bin_start": 0.1,
            "bin_end": 0.2,
            "count": 0
           },
           {
            "bin_start": 0.2,
            "bin_end": 0.30000000000000004,
            "count": 0
           },
           {
            "bin_start": 0.30000000000000004,
            "bin_end": 0.4,
            "count": 0
           },
           {
            "bin_start": 0.4,
            "bin_end": 0.5,
            "count": 0
           },
           {
            "bin_start": 0.5,
            "bin_end": 0.6000000000000001,
            "count": 0
           },
           {
            "bin_start": 0.6000000000000001,
            "bin_end": 0.7000000000000001,
            "count": 0
           },
           {
            "bin_start": 0.7000000000000001,
            "bin_end": 0.8,
            "count": 0
           },
           {
            "bin_start": 0.8,
            "bin_end": 0.9,
            "count": 0
           },
           {
            "bin_start": 0.9,
            "bin_end": 1,
            "count": 16
           }
          ]
         }
        },
        {
         "name": "Country_Barbados",
         "dtype": "uint8",
         "stats": {
          "unique_count": 2,
          "nan_count": 0,
          "min": "0",
          "max": "1",
          "histogram": [
           {
            "bin_start": 0,
            "bin_end": 0.1,
            "count": 2912
           },
           {
            "bin_start": 0.1,
            "bin_end": 0.2,
            "count": 0
           },
           {
            "bin_start": 0.2,
            "bin_end": 0.30000000000000004,
            "count": 0
           },
           {
            "bin_start": 0.30000000000000004,
            "bin_end": 0.4,
            "count": 0
           },
           {
            "bin_start": 0.4,
            "bin_end": 0.5,
            "count": 0
           },
           {
            "bin_start": 0.5,
            "bin_end": 0.6000000000000001,
            "count": 0
           },
           {
            "bin_start": 0.6000000000000001,
            "bin_end": 0.7000000000000001,
            "count": 0
           },
           {
            "bin_start": 0.7000000000000001,
            "bin_end": 0.8,
            "count": 0
           },
           {
            "bin_start": 0.8,
            "bin_end": 0.9,
            "count": 0
           },
           {
            "bin_start": 0.9,
            "bin_end": 1,
            "count": 16
           }
          ]
         }
        },
        {
         "name": "Country_Belarus",
         "dtype": "uint8",
         "stats": {
          "unique_count": 2,
          "nan_count": 0,
          "min": "0",
          "max": "1",
          "histogram": [
           {
            "bin_start": 0,
            "bin_end": 0.1,
            "count": 2912
           },
           {
            "bin_start": 0.1,
            "bin_end": 0.2,
            "count": 0
           },
           {
            "bin_start": 0.2,
            "bin_end": 0.30000000000000004,
            "count": 0
           },
           {
            "bin_start": 0.30000000000000004,
            "bin_end": 0.4,
            "count": 0
           },
           {
            "bin_start": 0.4,
            "bin_end": 0.5,
            "count": 0
           },
           {
            "bin_start": 0.5,
            "bin_end": 0.6000000000000001,
            "count": 0
           },
           {
            "bin_start": 0.6000000000000001,
            "bin_end": 0.7000000000000001,
            "count": 0
           },
           {
            "bin_start": 0.7000000000000001,
            "bin_end": 0.8,
            "count": 0
           },
           {
            "bin_start": 0.8,
            "bin_end": 0.9,
            "count": 0
           },
           {
            "bin_start": 0.9,
            "bin_end": 1,
            "count": 16
           }
          ]
         }
        },
        {
         "name": "Country_Belgium",
         "dtype": "uint8",
         "stats": {
          "unique_count": 2,
          "nan_count": 0,
          "min": "0",
          "max": "1",
          "histogram": [
           {
            "bin_start": 0,
            "bin_end": 0.1,
            "count": 2912
           },
           {
            "bin_start": 0.1,
            "bin_end": 0.2,
            "count": 0
           },
           {
            "bin_start": 0.2,
            "bin_end": 0.30000000000000004,
            "count": 0
           },
           {
            "bin_start": 0.30000000000000004,
            "bin_end": 0.4,
            "count": 0
           },
           {
            "bin_start": 0.4,
            "bin_end": 0.5,
            "count": 0
           },
           {
            "bin_start": 0.5,
            "bin_end": 0.6000000000000001,
            "count": 0
           },
           {
            "bin_start": 0.6000000000000001,
            "bin_end": 0.7000000000000001,
            "count": 0
           },
           {
            "bin_start": 0.7000000000000001,
            "bin_end": 0.8,
            "count": 0
           },
           {
            "bin_start": 0.8,
            "bin_end": 0.9,
            "count": 0
           },
           {
            "bin_start": 0.9,
            "bin_end": 1,
            "count": 16
           }
          ]
         }
        },
        {
         "name": "Country_Belize",
         "dtype": "uint8",
         "stats": {
          "unique_count": 2,
          "nan_count": 0,
          "min": "0",
          "max": "1",
          "histogram": [
           {
            "bin_start": 0,
            "bin_end": 0.1,
            "count": 2912
           },
           {
            "bin_start": 0.1,
            "bin_end": 0.2,
            "count": 0
           },
           {
            "bin_start": 0.2,
            "bin_end": 0.30000000000000004,
            "count": 0
           },
           {
            "bin_start": 0.30000000000000004,
            "bin_end": 0.4,
            "count": 0
           },
           {
            "bin_start": 0.4,
            "bin_end": 0.5,
            "count": 0
           },
           {
            "bin_start": 0.5,
            "bin_end": 0.6000000000000001,
            "count": 0
           },
           {
            "bin_start": 0.6000000000000001,
            "bin_end": 0.7000000000000001,
            "count": 0
           },
           {
            "bin_start": 0.7000000000000001,
            "bin_end": 0.8,
            "count": 0
           },
           {
            "bin_start": 0.8,
            "bin_end": 0.9,
            "count": 0
           },
           {
            "bin_start": 0.9,
            "bin_end": 1,
            "count": 16
           }
          ]
         }
        },
        {
         "name": "Country_Benin",
         "dtype": "uint8",
         "stats": {
          "unique_count": 2,
          "nan_count": 0,
          "min": "0",
          "max": "1",
          "histogram": [
           {
            "bin_start": 0,
            "bin_end": 0.1,
            "count": 2912
           },
           {
            "bin_start": 0.1,
            "bin_end": 0.2,
            "count": 0
           },
           {
            "bin_start": 0.2,
            "bin_end": 0.30000000000000004,
            "count": 0
           },
           {
            "bin_start": 0.30000000000000004,
            "bin_end": 0.4,
            "count": 0
           },
           {
            "bin_start": 0.4,
            "bin_end": 0.5,
            "count": 0
           },
           {
            "bin_start": 0.5,
            "bin_end": 0.6000000000000001,
            "count": 0
           },
           {
            "bin_start": 0.6000000000000001,
            "bin_end": 0.7000000000000001,
            "count": 0
           },
           {
            "bin_start": 0.7000000000000001,
            "bin_end": 0.8,
            "count": 0
           },
           {
            "bin_start": 0.8,
            "bin_end": 0.9,
            "count": 0
           },
           {
            "bin_start": 0.9,
            "bin_end": 1,
            "count": 16
           }
          ]
         }
        },
        {
         "name": "Country_Bhutan",
         "dtype": "uint8",
         "stats": {
          "unique_count": 2,
          "nan_count": 0,
          "min": "0",
          "max": "1",
          "histogram": [
           {
            "bin_start": 0,
            "bin_end": 0.1,
            "count": 2912
           },
           {
            "bin_start": 0.1,
            "bin_end": 0.2,
            "count": 0
           },
           {
            "bin_start": 0.2,
            "bin_end": 0.30000000000000004,
            "count": 0
           },
           {
            "bin_start": 0.30000000000000004,
            "bin_end": 0.4,
            "count": 0
           },
           {
            "bin_start": 0.4,
            "bin_end": 0.5,
            "count": 0
           },
           {
            "bin_start": 0.5,
            "bin_end": 0.6000000000000001,
            "count": 0
           },
           {
            "bin_start": 0.6000000000000001,
            "bin_end": 0.7000000000000001,
            "count": 0
           },
           {
            "bin_start": 0.7000000000000001,
            "bin_end": 0.8,
            "count": 0
           },
           {
            "bin_start": 0.8,
            "bin_end": 0.9,
            "count": 0
           },
           {
            "bin_start": 0.9,
            "bin_end": 1,
            "count": 16
           }
          ]
         }
        },
        {
         "name": "Country_Bolivia (Plurinational State of)",
         "dtype": "uint8",
         "stats": {
          "unique_count": 2,
          "nan_count": 0,
          "min": "0",
          "max": "1",
          "histogram": [
           {
            "bin_start": 0,
            "bin_end": 0.1,
            "count": 2912
           },
           {
            "bin_start": 0.1,
            "bin_end": 0.2,
            "count": 0
           },
           {
            "bin_start": 0.2,
            "bin_end": 0.30000000000000004,
            "count": 0
           },
           {
            "bin_start": 0.30000000000000004,
            "bin_end": 0.4,
            "count": 0
           },
           {
            "bin_start": 0.4,
            "bin_end": 0.5,
            "count": 0
           },
           {
            "bin_start": 0.5,
            "bin_end": 0.6000000000000001,
            "count": 0
           },
           {
            "bin_start": 0.6000000000000001,
            "bin_end": 0.7000000000000001,
            "count": 0
           },
           {
            "bin_start": 0.7000000000000001,
            "bin_end": 0.8,
            "count": 0
           },
           {
            "bin_start": 0.8,
            "bin_end": 0.9,
            "count": 0
           },
           {
            "bin_start": 0.9,
            "bin_end": 1,
            "count": 16
           }
          ]
         }
        },
        {
         "name": "Country_Bosnia and Herzegovina",
         "dtype": "uint8",
         "stats": {
          "unique_count": 2,
          "nan_count": 0,
          "min": "0",
          "max": "1",
          "histogram": [
           {
            "bin_start": 0,
            "bin_end": 0.1,
            "count": 2912
           },
           {
            "bin_start": 0.1,
            "bin_end": 0.2,
            "count": 0
           },
           {
            "bin_start": 0.2,
            "bin_end": 0.30000000000000004,
            "count": 0
           },
           {
            "bin_start": 0.30000000000000004,
            "bin_end": 0.4,
            "count": 0
           },
           {
            "bin_start": 0.4,
            "bin_end": 0.5,
            "count": 0
           },
           {
            "bin_start": 0.5,
            "bin_end": 0.6000000000000001,
            "count": 0
           },
           {
            "bin_start": 0.6000000000000001,
            "bin_end": 0.7000000000000001,
            "count": 0
           },
           {
            "bin_start": 0.7000000000000001,
            "bin_end": 0.8,
            "count": 0
           },
           {
            "bin_start": 0.8,
            "bin_end": 0.9,
            "count": 0
           },
           {
            "bin_start": 0.9,
            "bin_end": 1,
            "count": 16
           }
          ]
         }
        },
        {
         "name": "Country_Botswana",
         "dtype": "uint8",
         "stats": {
          "unique_count": 2,
          "nan_count": 0,
          "min": "0",
          "max": "1",
          "histogram": [
           {
            "bin_start": 0,
            "bin_end": 0.1,
            "count": 2912
           },
           {
            "bin_start": 0.1,
            "bin_end": 0.2,
            "count": 0
           },
           {
            "bin_start": 0.2,
            "bin_end": 0.30000000000000004,
            "count": 0
           },
           {
            "bin_start": 0.30000000000000004,
            "bin_end": 0.4,
            "count": 0
           },
           {
            "bin_start": 0.4,
            "bin_end": 0.5,
            "count": 0
           },
           {
            "bin_start": 0.5,
            "bin_end": 0.6000000000000001,
            "count": 0
           },
           {
            "bin_start": 0.6000000000000001,
            "bin_end": 0.7000000000000001,
            "count": 0
           },
           {
            "bin_start": 0.7000000000000001,
            "bin_end": 0.8,
            "count": 0
           },
           {
            "bin_start": 0.8,
            "bin_end": 0.9,
            "count": 0
           },
           {
            "bin_start": 0.9,
            "bin_end": 1,
            "count": 16
           }
          ]
         }
        },
        {
         "name": "Country_Brazil",
         "dtype": "uint8",
         "stats": {
          "unique_count": 2,
          "nan_count": 0,
          "min": "0",
          "max": "1",
          "histogram": [
           {
            "bin_start": 0,
            "bin_end": 0.1,
            "count": 2912
           },
           {
            "bin_start": 0.1,
            "bin_end": 0.2,
            "count": 0
           },
           {
            "bin_start": 0.2,
            "bin_end": 0.30000000000000004,
            "count": 0
           },
           {
            "bin_start": 0.30000000000000004,
            "bin_end": 0.4,
            "count": 0
           },
           {
            "bin_start": 0.4,
            "bin_end": 0.5,
            "count": 0
           },
           {
            "bin_start": 0.5,
            "bin_end": 0.6000000000000001,
            "count": 0
           },
           {
            "bin_start": 0.6000000000000001,
            "bin_end": 0.7000000000000001,
            "count": 0
           },
           {
            "bin_start": 0.7000000000000001,
            "bin_end": 0.8,
            "count": 0
           },
           {
            "bin_start": 0.8,
            "bin_end": 0.9,
            "count": 0
           },
           {
            "bin_start": 0.9,
            "bin_end": 1,
            "count": 16
           }
          ]
         }
        },
        {
         "name": "Country_Brunei Darussalam",
         "dtype": "uint8",
         "stats": {
          "unique_count": 2,
          "nan_count": 0,
          "min": "0",
          "max": "1",
          "histogram": [
           {
            "bin_start": 0,
            "bin_end": 0.1,
            "count": 2912
           },
           {
            "bin_start": 0.1,
            "bin_end": 0.2,
            "count": 0
           },
           {
            "bin_start": 0.2,
            "bin_end": 0.30000000000000004,
            "count": 0
           },
           {
            "bin_start": 0.30000000000000004,
            "bin_end": 0.4,
            "count": 0
           },
           {
            "bin_start": 0.4,
            "bin_end": 0.5,
            "count": 0
           },
           {
            "bin_start": 0.5,
            "bin_end": 0.6000000000000001,
            "count": 0
           },
           {
            "bin_start": 0.6000000000000001,
            "bin_end": 0.7000000000000001,
            "count": 0
           },
           {
            "bin_start": 0.7000000000000001,
            "bin_end": 0.8,
            "count": 0
           },
           {
            "bin_start": 0.8,
            "bin_end": 0.9,
            "count": 0
           },
           {
            "bin_start": 0.9,
            "bin_end": 1,
            "count": 16
           }
          ]
         }
        },
        {
         "name": "Country_Bulgaria",
         "dtype": "uint8",
         "stats": {
          "unique_count": 2,
          "nan_count": 0,
          "min": "0",
          "max": "1",
          "histogram": [
           {
            "bin_start": 0,
            "bin_end": 0.1,
            "count": 2912
           },
           {
            "bin_start": 0.1,
            "bin_end": 0.2,
            "count": 0
           },
           {
            "bin_start": 0.2,
            "bin_end": 0.30000000000000004,
            "count": 0
           },
           {
            "bin_start": 0.30000000000000004,
            "bin_end": 0.4,
            "count": 0
           },
           {
            "bin_start": 0.4,
            "bin_end": 0.5,
            "count": 0
           },
           {
            "bin_start": 0.5,
            "bin_end": 0.6000000000000001,
            "count": 0
           },
           {
            "bin_start": 0.6000000000000001,
            "bin_end": 0.7000000000000001,
            "count": 0
           },
           {
            "bin_start": 0.7000000000000001,
            "bin_end": 0.8,
            "count": 0
           },
           {
            "bin_start": 0.8,
            "bin_end": 0.9,
            "count": 0
           },
           {
            "bin_start": 0.9,
            "bin_end": 1,
            "count": 16
           }
          ]
         }
        },
        {
         "name": "Country_Burkina Faso",
         "dtype": "uint8",
         "stats": {
          "unique_count": 2,
          "nan_count": 0,
          "min": "0",
          "max": "1",
          "histogram": [
           {
            "bin_start": 0,
            "bin_end": 0.1,
            "count": 2912
           },
           {
            "bin_start": 0.1,
            "bin_end": 0.2,
            "count": 0
           },
           {
            "bin_start": 0.2,
            "bin_end": 0.30000000000000004,
            "count": 0
           },
           {
            "bin_start": 0.30000000000000004,
            "bin_end": 0.4,
            "count": 0
           },
           {
            "bin_start": 0.4,
            "bin_end": 0.5,
            "count": 0
           },
           {
            "bin_start": 0.5,
            "bin_end": 0.6000000000000001,
            "count": 0
           },
           {
            "bin_start": 0.6000000000000001,
            "bin_end": 0.7000000000000001,
            "count": 0
           },
           {
            "bin_start": 0.7000000000000001,
            "bin_end": 0.8,
            "count": 0
           },
           {
            "bin_start": 0.8,
            "bin_end": 0.9,
            "count": 0
           },
           {
            "bin_start": 0.9,
            "bin_end": 1,
            "count": 16
           }
          ]
         }
        },
        {
         "name": "Country_Burundi",
         "dtype": "uint8",
         "stats": {
          "unique_count": 2,
          "nan_count": 0,
          "min": "0",
          "max": "1",
          "histogram": [
           {
            "bin_start": 0,
            "bin_end": 0.1,
            "count": 2912
           },
           {
            "bin_start": 0.1,
            "bin_end": 0.2,
            "count": 0
           },
           {
            "bin_start": 0.2,
            "bin_end": 0.30000000000000004,
            "count": 0
           },
           {
            "bin_start": 0.30000000000000004,
            "bin_end": 0.4,
            "count": 0
           },
           {
            "bin_start": 0.4,
            "bin_end": 0.5,
            "count": 0
           },
           {
            "bin_start": 0.5,
            "bin_end": 0.6000000000000001,
            "count": 0
           },
           {
            "bin_start": 0.6000000000000001,
            "bin_end": 0.7000000000000001,
            "count": 0
           },
           {
            "bin_start": 0.7000000000000001,
            "bin_end": 0.8,
            "count": 0
           },
           {
            "bin_start": 0.8,
            "bin_end": 0.9,
            "count": 0
           },
           {
            "bin_start": 0.9,
            "bin_end": 1,
            "count": 16
           }
          ]
         }
        },
        {
         "name": "Country_Cabo Verde",
         "dtype": "uint8",
         "stats": {
          "unique_count": 2,
          "nan_count": 0,
          "min": "0",
          "max": "1",
          "histogram": [
           {
            "bin_start": 0,
            "bin_end": 0.1,
            "count": 2912
           },
           {
            "bin_start": 0.1,
            "bin_end": 0.2,
            "count": 0
           },
           {
            "bin_start": 0.2,
            "bin_end": 0.30000000000000004,
            "count": 0
           },
           {
            "bin_start": 0.30000000000000004,
            "bin_end": 0.4,
            "count": 0
           },
           {
            "bin_start": 0.4,
            "bin_end": 0.5,
            "count": 0
           },
           {
            "bin_start": 0.5,
            "bin_end": 0.6000000000000001,
            "count": 0
           },
           {
            "bin_start": 0.6000000000000001,
            "bin_end": 0.7000000000000001,
            "count": 0
           },
           {
            "bin_start": 0.7000000000000001,
            "bin_end": 0.8,
            "count": 0
           },
           {
            "bin_start": 0.8,
            "bin_end": 0.9,
            "count": 0
           },
           {
            "bin_start": 0.9,
            "bin_end": 1,
            "count": 16
           }
          ]
         }
        },
        {
         "name": "Country_Cambodia",
         "dtype": "uint8",
         "stats": {
          "unique_count": 2,
          "nan_count": 0,
          "min": "0",
          "max": "1",
          "histogram": [
           {
            "bin_start": 0,
            "bin_end": 0.1,
            "count": 2912
           },
           {
            "bin_start": 0.1,
            "bin_end": 0.2,
            "count": 0
           },
           {
            "bin_start": 0.2,
            "bin_end": 0.30000000000000004,
            "count": 0
           },
           {
            "bin_start": 0.30000000000000004,
            "bin_end": 0.4,
            "count": 0
           },
           {
            "bin_start": 0.4,
            "bin_end": 0.5,
            "count": 0
           },
           {
            "bin_start": 0.5,
            "bin_end": 0.6000000000000001,
            "count": 0
           },
           {
            "bin_start": 0.6000000000000001,
            "bin_end": 0.7000000000000001,
            "count": 0
           },
           {
            "bin_start": 0.7000000000000001,
            "bin_end": 0.8,
            "count": 0
           },
           {
            "bin_start": 0.8,
            "bin_end": 0.9,
            "count": 0
           },
           {
            "bin_start": 0.9,
            "bin_end": 1,
            "count": 16
           }
          ]
         }
        },
        {
         "name": "Country_Cameroon",
         "dtype": "uint8",
         "stats": {
          "unique_count": 2,
          "nan_count": 0,
          "min": "0",
          "max": "1",
          "histogram": [
           {
            "bin_start": 0,
            "bin_end": 0.1,
            "count": 2912
           },
           {
            "bin_start": 0.1,
            "bin_end": 0.2,
            "count": 0
           },
           {
            "bin_start": 0.2,
            "bin_end": 0.30000000000000004,
            "count": 0
           },
           {
            "bin_start": 0.30000000000000004,
            "bin_end": 0.4,
            "count": 0
           },
           {
            "bin_start": 0.4,
            "bin_end": 0.5,
            "count": 0
           },
           {
            "bin_start": 0.5,
            "bin_end": 0.6000000000000001,
            "count": 0
           },
           {
            "bin_start": 0.6000000000000001,
            "bin_end": 0.7000000000000001,
            "count": 0
           },
           {
            "bin_start": 0.7000000000000001,
            "bin_end": 0.8,
            "count": 0
           },
           {
            "bin_start": 0.8,
            "bin_end": 0.9,
            "count": 0
           },
           {
            "bin_start": 0.9,
            "bin_end": 1,
            "count": 16
           }
          ]
         }
        },
        {
         "name": "Country_Canada",
         "dtype": "uint8",
         "stats": {
          "unique_count": 2,
          "nan_count": 0,
          "min": "0",
          "max": "1",
          "histogram": [
           {
            "bin_start": 0,
            "bin_end": 0.1,
            "count": 2912
           },
           {
            "bin_start": 0.1,
            "bin_end": 0.2,
            "count": 0
           },
           {
            "bin_start": 0.2,
            "bin_end": 0.30000000000000004,
            "count": 0
           },
           {
            "bin_start": 0.30000000000000004,
            "bin_end": 0.4,
            "count": 0
           },
           {
            "bin_start": 0.4,
            "bin_end": 0.5,
            "count": 0
           },
           {
            "bin_start": 0.5,
            "bin_end": 0.6000000000000001,
            "count": 0
           },
           {
            "bin_start": 0.6000000000000001,
            "bin_end": 0.7000000000000001,
            "count": 0
           },
           {
            "bin_start": 0.7000000000000001,
            "bin_end": 0.8,
            "count": 0
           },
           {
            "bin_start": 0.8,
            "bin_end": 0.9,
            "count": 0
           },
           {
            "bin_start": 0.9,
            "bin_end": 1,
            "count": 16
           }
          ]
         }
        },
        {
         "name": "Country_Central African Republic",
         "dtype": "uint8",
         "stats": {
          "unique_count": 2,
          "nan_count": 0,
          "min": "0",
          "max": "1",
          "histogram": [
           {
            "bin_start": 0,
            "bin_end": 0.1,
            "count": 2912
           },
           {
            "bin_start": 0.1,
            "bin_end": 0.2,
            "count": 0
           },
           {
            "bin_start": 0.2,
            "bin_end": 0.30000000000000004,
            "count": 0
           },
           {
            "bin_start": 0.30000000000000004,
            "bin_end": 0.4,
            "count": 0
           },
           {
            "bin_start": 0.4,
            "bin_end": 0.5,
            "count": 0
           },
           {
            "bin_start": 0.5,
            "bin_end": 0.6000000000000001,
            "count": 0
           },
           {
            "bin_start": 0.6000000000000001,
            "bin_end": 0.7000000000000001,
            "count": 0
           },
           {
            "bin_start": 0.7000000000000001,
            "bin_end": 0.8,
            "count": 0
           },
           {
            "bin_start": 0.8,
            "bin_end": 0.9,
            "count": 0
           },
           {
            "bin_start": 0.9,
            "bin_end": 1,
            "count": 16
           }
          ]
         }
        },
        {
         "name": "Country_Chad",
         "dtype": "uint8",
         "stats": {
          "unique_count": 2,
          "nan_count": 0,
          "min": "0",
          "max": "1",
          "histogram": [
           {
            "bin_start": 0,
            "bin_end": 0.1,
            "count": 2912
           },
           {
            "bin_start": 0.1,
            "bin_end": 0.2,
            "count": 0
           },
           {
            "bin_start": 0.2,
            "bin_end": 0.30000000000000004,
            "count": 0
           },
           {
            "bin_start": 0.30000000000000004,
            "bin_end": 0.4,
            "count": 0
           },
           {
            "bin_start": 0.4,
            "bin_end": 0.5,
            "count": 0
           },
           {
            "bin_start": 0.5,
            "bin_end": 0.6000000000000001,
            "count": 0
           },
           {
            "bin_start": 0.6000000000000001,
            "bin_end": 0.7000000000000001,
            "count": 0
           },
           {
            "bin_start": 0.7000000000000001,
            "bin_end": 0.8,
            "count": 0
           },
           {
            "bin_start": 0.8,
            "bin_end": 0.9,
            "count": 0
           },
           {
            "bin_start": 0.9,
            "bin_end": 1,
            "count": 16
           }
          ]
         }
        },
        {
         "name": "Country_Chile",
         "dtype": "uint8",
         "stats": {
          "unique_count": 2,
          "nan_count": 0,
          "min": "0",
          "max": "1",
          "histogram": [
           {
            "bin_start": 0,
            "bin_end": 0.1,
            "count": 2912
           },
           {
            "bin_start": 0.1,
            "bin_end": 0.2,
            "count": 0
           },
           {
            "bin_start": 0.2,
            "bin_end": 0.30000000000000004,
            "count": 0
           },
           {
            "bin_start": 0.30000000000000004,
            "bin_end": 0.4,
            "count": 0
           },
           {
            "bin_start": 0.4,
            "bin_end": 0.5,
            "count": 0
           },
           {
            "bin_start": 0.5,
            "bin_end": 0.6000000000000001,
            "count": 0
           },
           {
            "bin_start": 0.6000000000000001,
            "bin_end": 0.7000000000000001,
            "count": 0
           },
           {
            "bin_start": 0.7000000000000001,
            "bin_end": 0.8,
            "count": 0
           },
           {
            "bin_start": 0.8,
            "bin_end": 0.9,
            "count": 0
           },
           {
            "bin_start": 0.9,
            "bin_end": 1,
            "count": 16
           }
          ]
         }
        },
        {
         "name": "Country_China",
         "dtype": "uint8"
        },
        {
         "name": "Country_Colombia",
         "dtype": "uint8"
        },
        {
         "name": "Country_Comoros",
         "dtype": "uint8"
        },
        {
         "name": "Country_Congo",
         "dtype": "uint8"
        },
        {
         "name": "Country_Costa Rica",
         "dtype": "uint8"
        },
        {
         "name": "Country_Croatia",
         "dtype": "uint8"
        },
        {
         "name": "Country_Cuba",
         "dtype": "uint8"
        },
        {
         "name": "Country_Cyprus",
         "dtype": "uint8"
        },
        {
         "name": "Country_Czechia",
         "dtype": "uint8"
        },
        {
         "name": "Country_Côte d'Ivoire",
         "dtype": "uint8"
        },
        {
         "name": "Country_Democratic People's Republic of Korea",
         "dtype": "uint8"
        },
        {
         "name": "Country_Democratic Republic of the Congo",
         "dtype": "uint8"
        },
        {
         "name": "Country_Denmark",
         "dtype": "uint8"
        },
        {
         "name": "Country_Djibouti",
         "dtype": "uint8"
        },
        {
         "name": "Country_Dominican Republic",
         "dtype": "uint8"
        },
        {
         "name": "Country_Ecuador",
         "dtype": "uint8"
        },
        {
         "name": "Country_Egypt",
         "dtype": "uint8"
        },
        {
         "name": "Country_El Salvador",
         "dtype": "uint8"
        },
        {
         "name": "Country_Equatorial Guinea",
         "dtype": "uint8"
        },
        {
         "name": "Country_Eritrea",
         "dtype": "uint8"
        },
        {
         "name": "Country_Estonia",
         "dtype": "uint8"
        },
        {
         "name": "Country_Ethiopia",
         "dtype": "uint8"
        },
        {
         "name": "Country_Fiji",
         "dtype": "uint8"
        },
        {
         "name": "Country_Finland",
         "dtype": "uint8"
        },
        {
         "name": "Country_France",
         "dtype": "uint8"
        },
        {
         "name": "Country_Gabon",
         "dtype": "uint8"
        },
        {
         "name": "Country_Gambia",
         "dtype": "uint8"
        },
        {
         "name": "Country_Georgia",
         "dtype": "uint8"
        },
        {
         "name": "Country_Germany",
         "dtype": "uint8"
        },
        {
         "name": "Country_Ghana",
         "dtype": "uint8"
        },
        {
         "name": "Country_Greece",
         "dtype": "uint8"
        },
        {
         "name": "Country_Grenada",
         "dtype": "uint8"
        },
        {
         "name": "Country_Guatemala",
         "dtype": "uint8"
        },
        {
         "name": "Country_Guinea",
         "dtype": "uint8"
        },
        {
         "name": "Country_Guinea-Bissau",
         "dtype": "uint8"
        },
        {
         "name": "Country_Guyana",
         "dtype": "uint8"
        },
        {
         "name": "Country_Haiti",
         "dtype": "uint8"
        },
        {
         "name": "Country_Honduras",
         "dtype": "uint8"
        },
        {
         "name": "Country_Hungary",
         "dtype": "uint8"
        },
        {
         "name": "Country_Iceland",
         "dtype": "uint8"
        },
        {
         "name": "Country_India",
         "dtype": "uint8"
        },
        {
         "name": "Country_Indonesia",
         "dtype": "uint8"
        },
        {
         "name": "Country_Iran (Islamic Republic of)",
         "dtype": "uint8"
        },
        {
         "name": "Country_Iraq",
         "dtype": "uint8"
        },
        {
         "name": "Country_Ireland",
         "dtype": "uint8"
        },
        {
         "name": "Country_Israel",
         "dtype": "uint8"
        },
        {
         "name": "Country_Italy",
         "dtype": "uint8"
        },
        {
         "name": "Country_Jamaica",
         "dtype": "uint8"
        },
        {
         "name": "Country_Japan",
         "dtype": "uint8"
        },
        {
         "name": "Country_Jordan",
         "dtype": "uint8"
        },
        {
         "name": "Country_Kazakhstan",
         "dtype": "uint8"
        },
        {
         "name": "Country_Kenya",
         "dtype": "uint8"
        },
        {
         "name": "Country_Kiribati",
         "dtype": "uint8"
        },
        {
         "name": "Country_Kuwait",
         "dtype": "uint8"
        },
        {
         "name": "Country_Kyrgyzstan",
         "dtype": "uint8"
        },
        {
         "name": "Country_Lao People's Democratic Republic",
         "dtype": "uint8"
        },
        {
         "name": "Country_Latvia",
         "dtype": "uint8"
        },
        {
         "name": "Country_Lebanon",
         "dtype": "uint8"
        },
        {
         "name": "Country_Lesotho",
         "dtype": "uint8"
        },
        {
         "name": "Country_Liberia",
         "dtype": "uint8"
        },
        {
         "name": "Country_Libya",
         "dtype": "uint8"
        },
        {
         "name": "Country_Lithuania",
         "dtype": "uint8"
        },
        {
         "name": "Country_Luxembourg",
         "dtype": "uint8"
        },
        {
         "name": "Country_Madagascar",
         "dtype": "uint8"
        },
        {
         "name": "Country_Malawi",
         "dtype": "uint8"
        },
        {
         "name": "Country_Malaysia",
         "dtype": "uint8"
        },
        {
         "name": "Country_Maldives",
         "dtype": "uint8"
        },
        {
         "name": "Country_Mali",
         "dtype": "uint8"
        },
        {
         "name": "Country_Malta",
         "dtype": "uint8"
        },
        {
         "name": "Country_Mauritania",
         "dtype": "uint8"
        },
        {
         "name": "Country_Mauritius",
         "dtype": "uint8"
        },
        {
         "name": "Country_Mexico",
         "dtype": "uint8"
        },
        {
         "name": "Country_Micronesia (Federated States of)",
         "dtype": "uint8"
        },
        {
         "name": "Country_Mongolia",
         "dtype": "uint8"
        },
        {
         "name": "Country_Montenegro",
         "dtype": "uint8"
        },
        {
         "name": "Country_Morocco",
         "dtype": "uint8"
        },
        {
         "name": "Country_Mozambique",
         "dtype": "uint8"
        },
        {
         "name": "Country_Myanmar",
         "dtype": "uint8"
        },
        {
         "name": "Country_Namibia",
         "dtype": "uint8"
        },
        {
         "name": "Country_Nepal",
         "dtype": "uint8"
        },
        {
         "name": "Country_Netherlands",
         "dtype": "uint8"
        },
        {
         "name": "Country_New Zealand",
         "dtype": "uint8"
        },
        {
         "name": "Country_Nicaragua",
         "dtype": "uint8"
        },
        {
         "name": "Country_Niger",
         "dtype": "uint8"
        },
        {
         "name": "Country_Nigeria",
         "dtype": "uint8"
        },
        {
         "name": "Country_Norway",
         "dtype": "uint8"
        },
        {
         "name": "Country_Oman",
         "dtype": "uint8"
        },
        {
         "name": "Country_Pakistan",
         "dtype": "uint8"
        },
        {
         "name": "Country_Panama",
         "dtype": "uint8"
        },
        {
         "name": "Country_Papua New Guinea",
         "dtype": "uint8"
        },
        {
         "name": "Country_Paraguay",
         "dtype": "uint8"
        },
        {
         "name": "Country_Peru",
         "dtype": "uint8"
        },
        {
         "name": "Country_Philippines",
         "dtype": "uint8"
        },
        {
         "name": "Country_Poland",
         "dtype": "uint8"
        },
        {
         "name": "Country_Portugal",
         "dtype": "uint8"
        },
        {
         "name": "Country_Qatar",
         "dtype": "uint8"
        },
        {
         "name": "Country_Republic of Korea",
         "dtype": "uint8"
        },
        {
         "name": "Country_Republic of Moldova",
         "dtype": "uint8"
        },
        {
         "name": "Country_Romania",
         "dtype": "uint8"
        },
        {
         "name": "Country_Russian Federation",
         "dtype": "uint8"
        },
        {
         "name": "Country_Rwanda",
         "dtype": "uint8"
        },
        {
         "name": "Country_Saint Lucia",
         "dtype": "uint8"
        },
        {
         "name": "Country_Saint Vincent and the Grenadines",
         "dtype": "uint8"
        },
        {
         "name": "Country_Samoa",
         "dtype": "uint8"
        },
        {
         "name": "Country_Sao Tome and Principe",
         "dtype": "uint8"
        },
        {
         "name": "Country_Saudi Arabia",
         "dtype": "uint8"
        },
        {
         "name": "Country_Senegal",
         "dtype": "uint8"
        },
        {
         "name": "Country_Serbia",
         "dtype": "uint8"
        },
        {
         "name": "Country_Seychelles",
         "dtype": "uint8"
        },
        {
         "name": "Country_Sierra Leone",
         "dtype": "uint8"
        },
        {
         "name": "Country_Singapore",
         "dtype": "uint8"
        },
        {
         "name": "Country_Slovakia",
         "dtype": "uint8"
        },
        {
         "name": "Country_Slovenia",
         "dtype": "uint8"
        },
        {
         "name": "Country_Solomon Islands",
         "dtype": "uint8"
        },
        {
         "name": "Country_Somalia",
         "dtype": "uint8"
        },
        {
         "name": "Country_South Africa",
         "dtype": "uint8"
        },
        {
         "name": "Country_South Sudan",
         "dtype": "uint8"
        },
        {
         "name": "Country_Spain",
         "dtype": "uint8"
        },
        {
         "name": "Country_Sri Lanka",
         "dtype": "uint8"
        },
        {
         "name": "Country_Sudan",
         "dtype": "uint8"
        },
        {
         "name": "Country_Suriname",
         "dtype": "uint8"
        },
        {
         "name": "Country_Swaziland",
         "dtype": "uint8"
        },
        {
         "name": "Country_Sweden",
         "dtype": "uint8"
        },
        {
         "name": "Country_Switzerland",
         "dtype": "uint8"
        },
        {
         "name": "Country_Syrian Arab Republic",
         "dtype": "uint8"
        },
        {
         "name": "Country_Tajikistan",
         "dtype": "uint8"
        },
        {
         "name": "Country_Thailand",
         "dtype": "uint8"
        },
        {
         "name": "Country_The former Yugoslav republic of Macedonia",
         "dtype": "uint8"
        },
        {
         "name": "Country_Timor-Leste",
         "dtype": "uint8"
        },
        {
         "name": "Country_Togo",
         "dtype": "uint8"
        },
        {
         "name": "Country_Tonga",
         "dtype": "uint8"
        },
        {
         "name": "Country_Trinidad and Tobago",
         "dtype": "uint8"
        },
        {
         "name": "Country_Tunisia",
         "dtype": "uint8"
        },
        {
         "name": "Country_Turkey",
         "dtype": "uint8"
        },
        {
         "name": "Country_Turkmenistan",
         "dtype": "uint8"
        },
        {
         "name": "Country_Uganda",
         "dtype": "uint8"
        },
        {
         "name": "Country_Ukraine",
         "dtype": "uint8"
        },
        {
         "name": "Country_United Arab Emirates",
         "dtype": "uint8"
        },
        {
         "name": "Country_United Kingdom of Great Britain and Northern Ireland",
         "dtype": "uint8"
        },
        {
         "name": "Country_United Republic of Tanzania",
         "dtype": "uint8"
        },
        {
         "name": "Country_United States of America",
         "dtype": "uint8"
        },
        {
         "name": "Country_Uruguay",
         "dtype": "uint8"
        },
        {
         "name": "Country_Uzbekistan",
         "dtype": "uint8"
        },
        {
         "name": "Country_Vanuatu",
         "dtype": "uint8"
        },
        {
         "name": "Country_Venezuela (Bolivarian Republic of)",
         "dtype": "uint8"
        },
        {
         "name": "Country_Viet Nam",
         "dtype": "uint8"
        },
        {
         "name": "Country_Yemen",
         "dtype": "uint8"
        },
        {
         "name": "Country_Zambia",
         "dtype": "uint8"
        },
        {
         "name": "Country_Zimbabwe",
         "dtype": "uint8"
        },
        {
         "name": "Status",
         "dtype": "float64"
        },
        {
         "name": "Adult Mortality",
         "dtype": "float64"
        },
        {
         "name": "Alcohol",
         "dtype": "float64"
        },
        {
         "name": "percentage expenditure",
         "dtype": "float64"
        },
        {
         "name": "Hepatitis B",
         "dtype": "float64"
        },
        {
         "name": "BMI",
         "dtype": "float64"
        },
        {
         "name": "Polio",
         "dtype": "float64"
        },
        {
         "name": "Diphtheria",
         "dtype": "float64"
        },
        {
         "name": "HIV/AIDS",
         "dtype": "float64"
        },
        {
         "name": "thinness  1-19 years",
         "dtype": "float64"
        },
        {
         "name": "thinness 5-9 years",
         "dtype": "float64"
        },
        {
         "name": "Income composition of resources",
         "dtype": "float64"
        },
        {
         "name": "Schooling",
         "dtype": "float64"
        },
        {
         "name": "Year",
         "dtype": "float64"
        },
        {
         "name": "Life expectancy",
         "dtype": "float64"
        },
        {
         "name": "_deepnote_index_column",
         "dtype": "int64"
        }
       ],
       "rows": [
        {
         "Country_Afghanistan": 1,
         "Country_Albania": 0,
         "Country_Algeria": 0,
         "Country_Angola": 0,
         "Country_Antigua and Barbuda": 0,
         "Country_Argentina": 0,
         "Country_Armenia": 0,
         "Country_Australia": 0,
         "Country_Austria": 0,
         "Country_Azerbaijan": 0,
         "Country_Bahamas": 0,
         "Country_Bahrain": 0,
         "Country_Bangladesh": 0,
         "Country_Barbados": 0,
         "Country_Belarus": 0,
         "Country_Belgium": 0,
         "Country_Belize": 0,
         "Country_Benin": 0,
         "Country_Bhutan": 0,
         "Country_Bolivia (Plurinational State of)": 0,
         "Country_Bosnia and Herzegovina": 0,
         "Country_Botswana": 0,
         "Country_Brazil": 0,
         "Country_Brunei Darussalam": 0,
         "Country_Bulgaria": 0,
         "Country_Burkina Faso": 0,
         "Country_Burundi": 0,
         "Country_Cabo Verde": 0,
         "Country_Cambodia": 0,
         "Country_Cameroon": 0,
         "Country_Canada": 0,
         "Country_Central African Republic": 0,
         "Country_Chad": 0,
         "Country_Chile": 0,
         "Country_China": 0,
         "Country_Colombia": 0,
         "Country_Comoros": 0,
         "Country_Congo": 0,
         "Country_Costa Rica": 0,
         "Country_Croatia": 0,
         "Country_Cuba": 0,
         "Country_Cyprus": 0,
         "Country_Czechia": 0,
         "Country_Côte d'Ivoire": 0,
         "Country_Democratic People's Republic of Korea": 0,
         "Country_Democratic Republic of the Congo": 0,
         "Country_Denmark": 0,
         "Country_Djibouti": 0,
         "Country_Dominican Republic": 0,
         "Country_Ecuador": 0,
         "Country_Egypt": 0,
         "Country_El Salvador": 0,
         "Country_Equatorial Guinea": 0,
         "Country_Eritrea": 0,
         "Country_Estonia": 0,
         "Country_Ethiopia": 0,
         "Country_Fiji": 0,
         "Country_Finland": 0,
         "Country_France": 0,
         "Country_Gabon": 0,
         "Country_Gambia": 0,
         "Country_Georgia": 0,
         "Country_Germany": 0,
         "Country_Ghana": 0,
         "Country_Greece": 0,
         "Country_Grenada": 0,
         "Country_Guatemala": 0,
         "Country_Guinea": 0,
         "Country_Guinea-Bissau": 0,
         "Country_Guyana": 0,
         "Country_Haiti": 0,
         "Country_Honduras": 0,
         "Country_Hungary": 0,
         "Country_Iceland": 0,
         "Country_India": 0,
         "Country_Indonesia": 0,
         "Country_Iran (Islamic Republic of)": 0,
         "Country_Iraq": 0,
         "Country_Ireland": 0,
         "Country_Israel": 0,
         "Country_Italy": 0,
         "Country_Jamaica": 0,
         "Country_Japan": 0,
         "Country_Jordan": 0,
         "Country_Kazakhstan": 0,
         "Country_Kenya": 0,
         "Country_Kiribati": 0,
         "Country_Kuwait": 0,
         "Country_Kyrgyzstan": 0,
         "Country_Lao People's Democratic Republic": 0,
         "Country_Latvia": 0,
         "Country_Lebanon": 0,
         "Country_Lesotho": 0,
         "Country_Liberia": 0,
         "Country_Libya": 0,
         "Country_Lithuania": 0,
         "Country_Luxembourg": 0,
         "Country_Madagascar": 0,
         "Country_Malawi": 0,
         "Country_Malaysia": 0,
         "Country_Maldives": 0,
         "Country_Mali": 0,
         "Country_Malta": 0,
         "Country_Mauritania": 0,
         "Country_Mauritius": 0,
         "Country_Mexico": 0,
         "Country_Micronesia (Federated States of)": 0,
         "Country_Mongolia": 0,
         "Country_Montenegro": 0,
         "Country_Morocco": 0,
         "Country_Mozambique": 0,
         "Country_Myanmar": 0,
         "Country_Namibia": 0,
         "Country_Nepal": 0,
         "Country_Netherlands": 0,
         "Country_New Zealand": 0,
         "Country_Nicaragua": 0,
         "Country_Niger": 0,
         "Country_Nigeria": 0,
         "Country_Norway": 0,
         "Country_Oman": 0,
         "Country_Pakistan": 0,
         "Country_Panama": 0,
         "Country_Papua New Guinea": 0,
         "Country_Paraguay": 0,
         "Country_Peru": 0,
         "Country_Philippines": 0,
         "Country_Poland": 0,
         "Country_Portugal": 0,
         "Country_Qatar": 0,
         "Country_Republic of Korea": 0,
         "Country_Republic of Moldova": 0,
         "Country_Romania": 0,
         "Country_Russian Federation": 0,
         "Country_Rwanda": 0,
         "Country_Saint Lucia": 0,
         "Country_Saint Vincent and the Grenadines": 0,
         "Country_Samoa": 0,
         "Country_Sao Tome and Principe": 0,
         "Country_Saudi Arabia": 0,
         "Country_Senegal": 0,
         "Country_Serbia": 0,
         "Country_Seychelles": 0,
         "Country_Sierra Leone": 0,
         "Country_Singapore": 0,
         "Country_Slovakia": 0,
         "Country_Slovenia": 0,
         "Country_Solomon Islands": 0,
         "Country_Somalia": 0,
         "Country_South Africa": 0,
         "Country_South Sudan": 0,
         "Country_Spain": 0,
         "Country_Sri Lanka": 0,
         "Country_Sudan": 0,
         "Country_Suriname": 0,
         "Country_Swaziland": 0,
         "Country_Sweden": 0,
         "Country_Switzerland": 0,
         "Country_Syrian Arab Republic": 0,
         "Country_Tajikistan": 0,
         "Country_Thailand": 0,
         "Country_The former Yugoslav republic of Macedonia": 0,
         "Country_Timor-Leste": 0,
         "Country_Togo": 0,
         "Country_Tonga": 0,
         "Country_Trinidad and Tobago": 0,
         "Country_Tunisia": 0,
         "Country_Turkey": 0,
         "Country_Turkmenistan": 0,
         "Country_Uganda": 0,
         "Country_Ukraine": 0,
         "Country_United Arab Emirates": 0,
         "Country_United Kingdom of Great Britain and Northern Ireland": 0,
         "Country_United Republic of Tanzania": 0,
         "Country_United States of America": 0,
         "Country_Uruguay": 0,
         "Country_Uzbekistan": 0,
         "Country_Vanuatu": 0,
         "Country_Venezuela (Bolivarian Republic of)": 0,
         "Country_Viet Nam": 0,
         "Country_Yemen": 0,
         "Country_Zambia": 0,
         "Country_Zimbabwe": 0,
         "Status": 1,
         "Adult Mortality": 0.3628808864265928,
         "Alcohol": 0.0005595970900951314,
         "percentage expenditure": 0.003659134858877319,
         "Hepatitis B": 0.6179775280898876,
         "BMI": 0.10581395348837211,
         "Polio": 0.524390243902439,
         "Diphtheria": 0.5903614457831325,
         "HIV/AIDS": 0,
         "thinness  1-19 years": 0.6195652173913043,
         "thinness 5-9 years": 0.6035087719298246,
         "Income composition of resources": 0.5052742616033755,
         "Schooling": 0.48792270531400966,
         "Year": 1,
         "Life expectancy": 65,
         "_deepnote_index_column": 0
        },
        {
         "Country_Afghanistan": 1,
         "Country_Albania": 0,
         "Country_Algeria": 0,
         "Country_Angola": 0,
         "Country_Antigua and Barbuda": 0,
         "Country_Argentina": 0,
         "Country_Armenia": 0,
         "Country_Australia": 0,
         "Country_Austria": 0,
         "Country_Azerbaijan": 0,
         "Country_Bahamas": 0,
         "Country_Bahrain": 0,
         "Country_Bangladesh": 0,
         "Country_Barbados": 0,
         "Country_Belarus": 0,
         "Country_Belgium": 0,
         "Country_Belize": 0,
         "Country_Benin": 0,
         "Country_Bhutan": 0,
         "Country_Bolivia (Plurinational State of)": 0,
         "Country_Bosnia and Herzegovina": 0,
         "Country_Botswana": 0,
         "Country_Brazil": 0,
         "Country_Brunei Darussalam": 0,
         "Country_Bulgaria": 0,
         "Country_Burkina Faso": 0,
         "Country_Burundi": 0,
         "Country_Cabo Verde": 0,
         "Country_Cambodia": 0,
         "Country_Cameroon": 0,
         "Country_Canada": 0,
         "Country_Central African Republic": 0,
         "Country_Chad": 0,
         "Country_Chile": 0,
         "Country_China": 0,
         "Country_Colombia": 0,
         "Country_Comoros": 0,
         "Country_Congo": 0,
         "Country_Costa Rica": 0,
         "Country_Croatia": 0,
         "Country_Cuba": 0,
         "Country_Cyprus": 0,
         "Country_Czechia": 0,
         "Country_Côte d'Ivoire": 0,
         "Country_Democratic People's Republic of Korea": 0,
         "Country_Democratic Republic of the Congo": 0,
         "Country_Denmark": 0,
         "Country_Djibouti": 0,
         "Country_Dominican Republic": 0,
         "Country_Ecuador": 0,
         "Country_Egypt": 0,
         "Country_El Salvador": 0,
         "Country_Equatorial Guinea": 0,
         "Country_Eritrea": 0,
         "Country_Estonia": 0,
         "Country_Ethiopia": 0,
         "Country_Fiji": 0,
         "Country_Finland": 0,
         "Country_France": 0,
         "Country_Gabon": 0,
         "Country_Gambia": 0,
         "Country_Georgia": 0,
         "Country_Germany": 0,
         "Country_Ghana": 0,
         "Country_Greece": 0,
         "Country_Grenada": 0,
         "Country_Guatemala": 0,
         "Country_Guinea": 0,
         "Country_Guinea-Bissau": 0,
         "Country_Guyana": 0,
         "Country_Haiti": 0,
         "Country_Honduras": 0,
         "Country_Hungary": 0,
         "Country_Iceland": 0,
         "Country_India": 0,
         "Country_Indonesia": 0,
         "Country_Iran (Islamic Republic of)": 0,
         "Country_Iraq": 0,
         "Country_Ireland": 0,
         "Country_Israel": 0,
         "Country_Italy": 0,
         "Country_Jamaica": 0,
         "Country_Japan": 0,
         "Country_Jordan": 0,
         "Country_Kazakhstan": 0,
         "Country_Kenya": 0,
         "Country_Kiribati": 0,
         "Country_Kuwait": 0,
         "Country_Kyrgyzstan": 0,
         "Country_Lao People's Democratic Republic": 0,
         "Country_Latvia": 0,
         "Country_Lebanon": 0,
         "Country_Lesotho": 0,
         "Country_Liberia": 0,
         "Country_Libya": 0,
         "Country_Lithuania": 0,
         "Country_Luxembourg": 0,
         "Country_Madagascar": 0,
         "Country_Malawi": 0,
         "Country_Malaysia": 0,
         "Country_Maldives": 0,
         "Country_Mali": 0,
         "Country_Malta": 0,
         "Country_Mauritania": 0,
         "Country_Mauritius": 0,
         "Country_Mexico": 0,
         "Country_Micronesia (Federated States of)": 0,
         "Country_Mongolia": 0,
         "Country_Montenegro": 0,
         "Country_Morocco": 0,
         "Country_Mozambique": 0,
         "Country_Myanmar": 0,
         "Country_Namibia": 0,
         "Country_Nepal": 0,
         "Country_Netherlands": 0,
         "Country_New Zealand": 0,
         "Country_Nicaragua": 0,
         "Country_Niger": 0,
         "Country_Nigeria": 0,
         "Country_Norway": 0,
         "Country_Oman": 0,
         "Country_Pakistan": 0,
         "Country_Panama": 0,
         "Country_Papua New Guinea": 0,
         "Country_Paraguay": 0,
         "Country_Peru": 0,
         "Country_Philippines": 0,
         "Country_Poland": 0,
         "Country_Portugal": 0,
         "Country_Qatar": 0,
         "Country_Republic of Korea": 0,
         "Country_Republic of Moldova": 0,
         "Country_Romania": 0,
         "Country_Russian Federation": 0,
         "Country_Rwanda": 0,
         "Country_Saint Lucia": 0,
         "Country_Saint Vincent and the Grenadines": 0,
         "Country_Samoa": 0,
         "Country_Sao Tome and Principe": 0,
         "Country_Saudi Arabia": 0,
         "Country_Senegal": 0,
         "Country_Serbia": 0,
         "Country_Seychelles": 0,
         "Country_Sierra Leone": 0,
         "Country_Singapore": 0,
         "Country_Slovakia": 0,
         "Country_Slovenia": 0,
         "Country_Solomon Islands": 0,
         "Country_Somalia": 0,
         "Country_South Africa": 0,
         "Country_South Sudan": 0,
         "Country_Spain": 0,
         "Country_Sri Lanka": 0,
         "Country_Sudan": 0,
         "Country_Suriname": 0,
         "Country_Swaziland": 0,
         "Country_Sweden": 0,
         "Country_Switzerland": 0,
         "Country_Syrian Arab Republic": 0,
         "Country_Tajikistan": 0,
         "Country_Thailand": 0,
         "Country_The former Yugoslav republic of Macedonia": 0,
         "Country_Timor-Leste": 0,
         "Country_Togo": 0,
         "Country_Tonga": 0,
         "Country_Trinidad and Tobago": 0,
         "Country_Tunisia": 0,
         "Country_Turkey": 0,
         "Country_Turkmenistan": 0,
         "Country_Uganda": 0,
         "Country_Ukraine": 0,
         "Country_United Arab Emirates": 0,
         "Country_United Kingdom of Great Britain and Northern Ireland": 0,
         "Country_United Republic of Tanzania": 0,
         "Country_United States of America": 0,
         "Country_Uruguay": 0,
         "Country_Uzbekistan": 0,
         "Country_Vanuatu": 0,
         "Country_Venezuela (Bolivarian Republic of)": 0,
         "Country_Viet Nam": 0,
         "Country_Yemen": 0,
         "Country_Zambia": 0,
         "Country_Zimbabwe": 0,
         "Status": 1,
         "Adult Mortality": 0.3739612188365651,
         "Alcohol": 0.0005595970900951314,
         "percentage expenditure": 0.0037743283004557744,
         "Hepatitis B": 0.5842696629213483,
         "BMI": 0.10000000000000002,
         "Polio": 0.5,
         "Diphtheria": 0.5542168674698795,
         "HIV/AIDS": 0,
         "thinness  1-19 years": 0.6304347826086957,
         "thinness 5-9 years": 0.6105263157894736,
         "Income composition of resources": 0.5021097046413502,
         "Schooling": 0.48309178743961356,
         "Year": 0.9333333333333333,
         "Life expectancy": 59.9,
         "_deepnote_index_column": 1
        },
        {
         "Country_Afghanistan": 1,
         "Country_Albania": 0,
         "Country_Algeria": 0,
         "Country_Angola": 0,
         "Country_Antigua and Barbuda": 0,
         "Country_Argentina": 0,
         "Country_Armenia": 0,
         "Country_Australia": 0,
         "Country_Austria": 0,
         "Country_Azerbaijan": 0,
         "Country_Bahamas": 0,
         "Country_Bahrain": 0,
         "Country_Bangladesh": 0,
         "Country_Barbados": 0,
         "Country_Belarus": 0,
         "Country_Belgium": 0,
         "Country_Belize": 0,
         "Country_Benin": 0,
         "Country_Bhutan": 0,
         "Country_Bolivia (Plurinational State of)": 0,
         "Country_Bosnia and Herzegovina": 0,
         "Country_Botswana": 0,
         "Country_Brazil": 0,
         "Country_Brunei Darussalam": 0,
         "Country_Bulgaria": 0,
         "Country_Burkina Faso": 0,
         "Country_Burundi": 0,
         "Country_Cabo Verde": 0,
         "Country_Cambodia": 0,
         "Country_Cameroon": 0,
         "Country_Canada": 0,
         "Country_Central African Republic": 0,
         "Country_Chad": 0,
         "Country_Chile": 0,
         "Country_China": 0,
         "Country_Colombia": 0,
         "Country_Comoros": 0,
         "Country_Congo": 0,
         "Country_Costa Rica": 0,
         "Country_Croatia": 0,
         "Country_Cuba": 0,
         "Country_Cyprus": 0,
         "Country_Czechia": 0,
         "Country_Côte d'Ivoire": 0,
         "Country_Democratic People's Republic of Korea": 0,
         "Country_Democratic Republic of the Congo": 0,
         "Country_Denmark": 0,
         "Country_Djibouti": 0,
         "Country_Dominican Republic": 0,
         "Country_Ecuador": 0,
         "Country_Egypt": 0,
         "Country_El Salvador": 0,
         "Country_Equatorial Guinea": 0,
         "Country_Eritrea": 0,
         "Country_Estonia": 0,
         "Country_Ethiopia": 0,
         "Country_Fiji": 0,
         "Country_Finland": 0,
         "Country_France": 0,
         "Country_Gabon": 0,
         "Country_Gambia": 0,
         "Country_Georgia": 0,
         "Country_Germany": 0,
         "Country_Ghana": 0,
         "Country_Greece": 0,
         "Country_Grenada": 0,
         "Country_Guatemala": 0,
         "Country_Guinea": 0,
         "Country_Guinea-Bissau": 0,
         "Country_Guyana": 0,
         "Country_Haiti": 0,
         "Country_Honduras": 0,
         "Country_Hungary": 0,
         "Country_Iceland": 0,
         "Country_India": 0,
         "Country_Indonesia": 0,
         "Country_Iran (Islamic Republic of)": 0,
         "Country_Iraq": 0,
         "Country_Ireland": 0,
         "Country_Israel": 0,
         "Country_Italy": 0,
         "Country_Jamaica": 0,
         "Country_Japan": 0,
         "Country_Jordan": 0,
         "Country_Kazakhstan": 0,
         "Country_Kenya": 0,
         "Country_Kiribati": 0,
         "Country_Kuwait": 0,
         "Country_Kyrgyzstan": 0,
         "Country_Lao People's Democratic Republic": 0,
         "Country_Latvia": 0,
         "Country_Lebanon": 0,
         "Country_Lesotho": 0,
         "Country_Liberia": 0,
         "Country_Libya": 0,
         "Country_Lithuania": 0,
         "Country_Luxembourg": 0,
         "Country_Madagascar": 0,
         "Country_Malawi": 0,
         "Country_Malaysia": 0,
         "Country_Maldives": 0,
         "Country_Mali": 0,
         "Country_Malta": 0,
         "Country_Mauritania": 0,
         "Country_Mauritius": 0,
         "Country_Mexico": 0,
         "Country_Micronesia (Federated States of)": 0,
         "Country_Mongolia": 0,
         "Country_Montenegro": 0,
         "Country_Morocco": 0,
         "Country_Mozambique": 0,
         "Country_Myanmar": 0,
         "Country_Namibia": 0,
         "Country_Nepal": 0,
         "Country_Netherlands": 0,
         "Country_New Zealand": 0,
         "Country_Nicaragua": 0,
         "Country_Niger": 0,
         "Country_Nigeria": 0,
         "Country_Norway": 0,
         "Country_Oman": 0,
         "Country_Pakistan": 0,
         "Country_Panama": 0,
         "Country_Papua New Guinea": 0,
         "Country_Paraguay": 0,
         "Country_Peru": 0,
         "Country_Philippines": 0,
         "Country_Poland": 0,
         "Country_Portugal": 0,
         "Country_Qatar": 0,
         "Country_Republic of Korea": 0,
         "Country_Republic of Moldova": 0,
         "Country_Romania": 0,
         "Country_Russian Federation": 0,
         "Country_Rwanda": 0,
         "Country_Saint Lucia": 0,
         "Country_Saint Vincent and the Grenadines": 0,
         "Country_Samoa": 0,
         "Country_Sao Tome and Principe": 0,
         "Country_Saudi Arabia": 0,
         "Country_Senegal": 0,
         "Country_Serbia": 0,
         "Country_Seychelles": 0,
         "Country_Sierra Leone": 0,
         "Country_Singapore": 0,
         "Country_Slovakia": 0,
         "Country_Slovenia": 0,
         "Country_Solomon Islands": 0,
         "Country_Somalia": 0,
         "Country_South Africa": 0,
         "Country_South Sudan": 0,
         "Country_Spain": 0,
         "Country_Sri Lanka": 0,
         "Country_Sudan": 0,
         "Country_Suriname": 0,
         "Country_Swaziland": 0,
         "Country_Sweden": 0,
         "Country_Switzerland": 0,
         "Country_Syrian Arab Republic": 0,
         "Country_Tajikistan": 0,
         "Country_Thailand": 0,
         "Country_The former Yugoslav republic of Macedonia": 0,
         "Country_Timor-Leste": 0,
         "Country_Togo": 0,
         "Country_Tonga": 0,
         "Country_Trinidad and Tobago": 0,
         "Country_Tunisia": 0,
         "Country_Turkey": 0,
         "Country_Turkmenistan": 0,
         "Country_Uganda": 0,
         "Country_Ukraine": 0,
         "Country_United Arab Emirates": 0,
         "Country_United Kingdom of Great Britain and Northern Ireland": 0,
         "Country_United Republic of Tanzania": 0,
         "Country_United States of America": 0,
         "Country_Uruguay": 0,
         "Country_Uzbekistan": 0,
         "Country_Vanuatu": 0,
         "Country_Venezuela (Bolivarian Republic of)": 0,
         "Country_Viet Nam": 0,
         "Country_Yemen": 0,
         "Country_Zambia": 0,
         "Country_Zimbabwe": 0,
         "Status": 1,
         "Adult Mortality": 0.3698060941828255,
         "Alcohol": 0.0005595970900951314,
         "percentage expenditure": 0.00375870507966848,
         "Hepatitis B": 0.6067415730337079,
         "BMI": 0.09418604651162793,
         "Polio": 0.5487804878048781,
         "Diphtheria": 0.5783132530120482,
         "HIV/AIDS": 0,
         "thinness  1-19 years": 0.6376811594202898,
         "thinness 5-9 years": 0.6175438596491227,
         "Income composition of resources": 0.4957805907172996,
         "Schooling": 0.4782608695652174,
         "Year": 0.8666666666666667,
         "Life expectancy": 59.9,
         "_deepnote_index_column": 2
        },
        {
         "Country_Afghanistan": 1,
         "Country_Albania": 0,
         "Country_Algeria": 0,
         "Country_Angola": 0,
         "Country_Antigua and Barbuda": 0,
         "Country_Argentina": 0,
         "Country_Armenia": 0,
         "Country_Australia": 0,
         "Country_Austria": 0,
         "Country_Azerbaijan": 0,
         "Country_Bahamas": 0,
         "Country_Bahrain": 0,
         "Country_Bangladesh": 0,
         "Country_Barbados": 0,
         "Country_Belarus": 0,
         "Country_Belgium": 0,
         "Country_Belize": 0,
         "Country_Benin": 0,
         "Country_Bhutan": 0,
         "Country_Bolivia (Plurinational State of)": 0,
         "Country_Bosnia and Herzegovina": 0,
         "Country_Botswana": 0,
         "Country_Brazil": 0,
         "Country_Brunei Darussalam": 0,
         "Country_Bulgaria": 0,
         "Country_Burkina Faso": 0,
         "Country_Burundi": 0,
         "Country_Cabo Verde": 0,
         "Country_Cambodia": 0,
         "Country_Cameroon": 0,
         "Country_Canada": 0,
         "Country_Central African Republic": 0,
         "Country_Chad": 0,
         "Country_Chile": 0,
         "Country_China": 0,
         "Country_Colombia": 0,
         "Country_Comoros": 0,
         "Country_Congo": 0,
         "Country_Costa Rica": 0,
         "Country_Croatia": 0,
         "Country_Cuba": 0,
         "Country_Cyprus": 0,
         "Country_Czechia": 0,
         "Country_Côte d'Ivoire": 0,
         "Country_Democratic People's Republic of Korea": 0,
         "Country_Democratic Republic of the Congo": 0,
         "Country_Denmark": 0,
         "Country_Djibouti": 0,
         "Country_Dominican Republic": 0,
         "Country_Ecuador": 0,
         "Country_Egypt": 0,
         "Country_El Salvador": 0,
         "Country_Equatorial Guinea": 0,
         "Country_Eritrea": 0,
         "Country_Estonia": 0,
         "Country_Ethiopia": 0,
         "Country_Fiji": 0,
         "Country_Finland": 0,
         "Country_France": 0,
         "Country_Gabon": 0,
         "Country_Gambia": 0,
         "Country_Georgia": 0,
         "Country_Germany": 0,
         "Country_Ghana": 0,
         "Country_Greece": 0,
         "Country_Grenada": 0,
         "Country_Guatemala": 0,
         "Country_Guinea": 0,
         "Country_Guinea-Bissau": 0,
         "Country_Guyana": 0,
         "Country_Haiti": 0,
         "Country_Honduras": 0,
         "Country_Hungary": 0,
         "Country_Iceland": 0,
         "Country_India": 0,
         "Country_Indonesia": 0,
         "Country_Iran (Islamic Republic of)": 0,
         "Country_Iraq": 0,
         "Country_Ireland": 0,
         "Country_Israel": 0,
         "Country_Italy": 0,
         "Country_Jamaica": 0,
         "Country_Japan": 0,
         "Country_Jordan": 0,
         "Country_Kazakhstan": 0,
         "Country_Kenya": 0,
         "Country_Kiribati": 0,
         "Country_Kuwait": 0,
         "Country_Kyrgyzstan": 0,
         "Country_Lao People's Democratic Republic": 0,
         "Country_Latvia": 0,
         "Country_Lebanon": 0,
         "Country_Lesotho": 0,
         "Country_Liberia": 0,
         "Country_Libya": 0,
         "Country_Lithuania": 0,
         "Country_Luxembourg": 0,
         "Country_Madagascar": 0,
         "Country_Malawi": 0,
         "Country_Malaysia": 0,
         "Country_Maldives": 0,
         "Country_Mali": 0,
         "Country_Malta": 0,
         "Country_Mauritania": 0,
         "Country_Mauritius": 0,
         "Country_Mexico": 0,
         "Country_Micronesia (Federated States of)": 0,
         "Country_Mongolia": 0,
         "Country_Montenegro": 0,
         "Country_Morocco": 0,
         "Country_Mozambique": 0,
         "Country_Myanmar": 0,
         "Country_Namibia": 0,
         "Country_Nepal": 0,
         "Country_Netherlands": 0,
         "Country_New Zealand": 0,
         "Country_Nicaragua": 0,
         "Country_Niger": 0,
         "Country_Nigeria": 0,
         "Country_Norway": 0,
         "Country_Oman": 0,
         "Country_Pakistan": 0,
         "Country_Panama": 0,
         "Country_Papua New Guinea": 0,
         "Country_Paraguay": 0,
         "Country_Peru": 0,
         "Country_Philippines": 0,
         "Country_Poland": 0,
         "Country_Portugal": 0,
         "Country_Qatar": 0,
         "Country_Republic of Korea": 0,
         "Country_Republic of Moldova": 0,
         "Country_Romania": 0,
         "Country_Russian Federation": 0,
         "Country_Rwanda": 0,
         "Country_Saint Lucia": 0,
         "Country_Saint Vincent and the Grenadines": 0,
         "Country_Samoa": 0,
         "Country_Sao Tome and Principe": 0,
         "Country_Saudi Arabia": 0,
         "Country_Senegal": 0,
         "Country_Serbia": 0,
         "Country_Seychelles": 0,
         "Country_Sierra Leone": 0,
         "Country_Singapore": 0,
         "Country_Slovakia": 0,
         "Country_Slovenia": 0,
         "Country_Solomon Islands": 0,
         "Country_Somalia": 0,
         "Country_South Africa": 0,
         "Country_South Sudan": 0,
         "Country_Spain": 0,
         "Country_Sri Lanka": 0,
         "Country_Sudan": 0,
         "Country_Suriname": 0,
         "Country_Swaziland": 0,
         "Country_Sweden": 0,
         "Country_Switzerland": 0,
         "Country_Syrian Arab Republic": 0,
         "Country_Tajikistan": 0,
         "Country_Thailand": 0,
         "Country_The former Yugoslav republic of Macedonia": 0,
         "Country_Timor-Leste": 0,
         "Country_Togo": 0,
         "Country_Tonga": 0,
         "Country_Trinidad and Tobago": 0,
         "Country_Tunisia": 0,
         "Country_Turkey": 0,
         "Country_Turkmenistan": 0,
         "Country_Uganda": 0,
         "Country_Ukraine": 0,
         "Country_United Arab Emirates": 0,
         "Country_United Kingdom of Great Britain and Northern Ireland": 0,
         "Country_United Republic of Tanzania": 0,
         "Country_United States of America": 0,
         "Country_Uruguay": 0,
         "Country_Uzbekistan": 0,
         "Country_Vanuatu": 0,
         "Country_Venezuela (Bolivarian Republic of)": 0,
         "Country_Viet Nam": 0,
         "Country_Yemen": 0,
         "Country_Zambia": 0,
         "Country_Zimbabwe": 0,
         "Status": 1,
         "Adult Mortality": 0.37534626038781166,
         "Alcohol": 0.0005595970900951314,
         "percentage expenditure": 0.004013581625281307,
         "Hepatitis B": 0.6404494382022472,
         "BMI": 0.08837209302325583,
         "Polio": 0.6097560975609756,
         "Diphtheria": 0.6144578313253012,
         "HIV/AIDS": 0,
         "thinness  1-19 years": 0.644927536231884,
         "thinness 5-9 years": 0.6280701754385964,
         "Income composition of resources": 0.48839662447257387,
         "Schooling": 0.4734299516908213,
         "Year": 0.8,
         "Life expectancy": 59.5,
         "_deepnote_index_column": 3
        },
        {
         "Country_Afghanistan": 1,
         "Country_Albania": 0,
         "Country_Algeria": 0,
         "Country_Angola": 0,
         "Country_Antigua and Barbuda": 0,
         "Country_Argentina": 0,
         "Country_Armenia": 0,
         "Country_Australia": 0,
         "Country_Austria": 0,
         "Country_Azerbaijan": 0,
         "Country_Bahamas": 0,
         "Country_Bahrain": 0,
         "Country_Bangladesh": 0,
         "Country_Barbados": 0,
         "Country_Belarus": 0,
         "Country_Belgium": 0,
         "Country_Belize": 0,
         "Country_Benin": 0,
         "Country_Bhutan": 0,
         "Country_Bolivia (Plurinational State of)": 0,
         "Country_Bosnia and Herzegovina": 0,
         "Country_Botswana": 0,
         "Country_Brazil": 0,
         "Country_Brunei Darussalam": 0,
         "Country_Bulgaria": 0,
         "Country_Burkina Faso": 0,
         "Country_Burundi": 0,
         "Country_Cabo Verde": 0,
         "Country_Cambodia": 0,
         "Country_Cameroon": 0,
         "Country_Canada": 0,
         "Country_Central African Republic": 0,
         "Country_Chad": 0,
         "Country_Chile": 0,
         "Country_China": 0,
         "Country_Colombia": 0,
         "Country_Comoros": 0,
         "Country_Congo": 0,
         "Country_Costa Rica": 0,
         "Country_Croatia": 0,
         "Country_Cuba": 0,
         "Country_Cyprus": 0,
         "Country_Czechia": 0,
         "Country_Côte d'Ivoire": 0,
         "Country_Democratic People's Republic of Korea": 0,
         "Country_Democratic Republic of the Congo": 0,
         "Country_Denmark": 0,
         "Country_Djibouti": 0,
         "Country_Dominican Republic": 0,
         "Country_Ecuador": 0,
         "Country_Egypt": 0,
         "Country_El Salvador": 0,
         "Country_Equatorial Guinea": 0,
         "Country_Eritrea": 0,
         "Country_Estonia": 0,
         "Country_Ethiopia": 0,
         "Country_Fiji": 0,
         "Country_Finland": 0,
         "Country_France": 0,
         "Country_Gabon": 0,
         "Country_Gambia": 0,
         "Country_Georgia": 0,
         "Country_Germany": 0,
         "Country_Ghana": 0,
         "Country_Greece": 0,
         "Country_Grenada": 0,
         "Country_Guatemala": 0,
         "Country_Guinea": 0,
         "Country_Guinea-Bissau": 0,
         "Country_Guyana": 0,
         "Country_Haiti": 0,
         "Country_Honduras": 0,
         "Country_Hungary": 0,
         "Country_Iceland": 0,
         "Country_India": 0,
         "Country_Indonesia": 0,
         "Country_Iran (Islamic Republic of)": 0,
         "Country_Iraq": 0,
         "Country_Ireland": 0,
         "Country_Israel": 0,
         "Country_Italy": 0,
         "Country_Jamaica": 0,
         "Country_Japan": 0,
         "Country_Jordan": 0,
         "Country_Kazakhstan": 0,
         "Country_Kenya": 0,
         "Country_Kiribati": 0,
         "Country_Kuwait": 0,
         "Country_Kyrgyzstan": 0,
         "Country_Lao People's Democratic Republic": 0,
         "Country_Latvia": 0,
         "Country_Lebanon": 0,
         "Country_Lesotho": 0,
         "Country_Liberia": 0,
         "Country_Libya": 0,
         "Country_Lithuania": 0,
         "Country_Luxembourg": 0,
         "Country_Madagascar": 0,
         "Country_Malawi": 0,
         "Country_Malaysia": 0,
         "Country_Maldives": 0,
         "Country_Mali": 0,
         "Country_Malta": 0,
         "Country_Mauritania": 0,
         "Country_Mauritius": 0,
         "Country_Mexico": 0,
         "Country_Micronesia (Federated States of)": 0,
         "Country_Mongolia": 0,
         "Country_Montenegro": 0,
         "Country_Morocco": 0,
         "Country_Mozambique": 0,
         "Country_Myanmar": 0,
         "Country_Namibia": 0,
         "Country_Nepal": 0,
         "Country_Netherlands": 0,
         "Country_New Zealand": 0,
         "Country_Nicaragua": 0,
         "Country_Niger": 0,
         "Country_Nigeria": 0,
         "Country_Norway": 0,
         "Country_Oman": 0,
         "Country_Pakistan": 0,
         "Country_Panama": 0,
         "Country_Papua New Guinea": 0,
         "Country_Paraguay": 0,
         "Country_Peru": 0,
         "Country_Philippines": 0,
         "Country_Poland": 0,
         "Country_Portugal": 0,
         "Country_Qatar": 0,
         "Country_Republic of Korea": 0,
         "Country_Republic of Moldova": 0,
         "Country_Romania": 0,
         "Country_Russian Federation": 0,
         "Country_Rwanda": 0,
         "Country_Saint Lucia": 0,
         "Country_Saint Vincent and the Grenadines": 0,
         "Country_Samoa": 0,
         "Country_Sao Tome and Principe": 0,
         "Country_Saudi Arabia": 0,
         "Country_Senegal": 0,
         "Country_Serbia": 0,
         "Country_Seychelles": 0,
         "Country_Sierra Leone": 0,
         "Country_Singapore": 0,
         "Country_Slovakia": 0,
         "Country_Slovenia": 0,
         "Country_Solomon Islands": 0,
         "Country_Somalia": 0,
         "Country_South Africa": 0,
         "Country_South Sudan": 0,
         "Country_Spain": 0,
         "Country_Sri Lanka": 0,
         "Country_Sudan": 0,
         "Country_Suriname": 0,
         "Country_Swaziland": 0,
         "Country_Sweden": 0,
         "Country_Switzerland": 0,
         "Country_Syrian Arab Republic": 0,
         "Country_Tajikistan": 0,
         "Country_Thailand": 0,
         "Country_The former Yugoslav republic of Macedonia": 0,
         "Country_Timor-Leste": 0,
         "Country_Togo": 0,
         "Country_Tonga": 0,
         "Country_Trinidad and Tobago": 0,
         "Country_Tunisia": 0,
         "Country_Turkey": 0,
         "Country_Turkmenistan": 0,
         "Country_Uganda": 0,
         "Country_Ukraine": 0,
         "Country_United Arab Emirates": 0,
         "Country_United Kingdom of Great Britain and Northern Ireland": 0,
         "Country_United Republic of Tanzania": 0,
         "Country_United States of America": 0,
         "Country_Uruguay": 0,
         "Country_Uzbekistan": 0,
         "Country_Vanuatu": 0,
         "Country_Venezuela (Bolivarian Republic of)": 0,
         "Country_Viet Nam": 0,
         "Country_Yemen": 0,
         "Country_Zambia": 0,
         "Country_Zimbabwe": 0,
         "Status": 1,
         "Adult Mortality": 0.37950138504155123,
         "Alcohol": 0.0005595970900951314,
         "percentage expenditure": 0.00036432961530260253,
         "Hepatitis B": 0.651685393258427,
         "BMI": 0.08372093023255812,
         "Polio": 0.6219512195121951,
         "Diphtheria": 0.6265060240963856,
         "HIV/AIDS": 0,
         "thinness  1-19 years": 0.6557971014492754,
         "thinness 5-9 years": 0.6350877192982456,
         "Income composition of resources": 0.4789029535864979,
         "Schooling": 0.4589371980676329,
         "Year": 0.7333333333333333,
         "Life expectancy": 59.2,
         "_deepnote_index_column": 4
        },
        {
         "Country_Afghanistan": 1,
         "Country_Albania": 0,
         "Country_Algeria": 0,
         "Country_Angola": 0,
         "Country_Antigua and Barbuda": 0,
         "Country_Argentina": 0,
         "Country_Armenia": 0,
         "Country_Australia": 0,
         "Country_Austria": 0,
         "Country_Azerbaijan": 0,
         "Country_Bahamas": 0,
         "Country_Bahrain": 0,
         "Country_Bangladesh": 0,
         "Country_Barbados": 0,
         "Country_Belarus": 0,
         "Country_Belgium": 0,
         "Country_Belize": 0,
         "Country_Benin": 0,
         "Country_Bhutan": 0,
         "Country_Bolivia (Plurinational State of)": 0,
         "Country_Bosnia and Herzegovina": 0,
         "Country_Botswana": 0,
         "Country_Brazil": 0,
         "Country_Brunei Darussalam": 0,
         "Country_Bulgaria": 0,
         "Country_Burkina Faso": 0,
         "Country_Burundi": 0,
         "Country_Cabo Verde": 0,
         "Country_Cambodia": 0,
         "Country_Cameroon": 0,
         "Country_Canada": 0,
         "Country_Central African Republic": 0,
         "Country_Chad": 0,
         "Country_Chile": 0,
         "Country_China": 0,
         "Country_Colombia": 0,
         "Country_Comoros": 0,
         "Country_Congo": 0,
         "Country_Costa Rica": 0,
         "Country_Croatia": 0,
         "Country_Cuba": 0,
         "Country_Cyprus": 0,
         "Country_Czechia": 0,
         "Country_Côte d'Ivoire": 0,
         "Country_Democratic People's Republic of Korea": 0,
         "Country_Democratic Republic of the Congo": 0,
         "Country_Denmark": 0,
         "Country_Djibouti": 0,
         "Country_Dominican Republic": 0,
         "Country_Ecuador": 0,
         "Country_Egypt": 0,
         "Country_El Salvador": 0,
         "Country_Equatorial Guinea": 0,
         "Country_Eritrea": 0,
         "Country_Estonia": 0,
         "Country_Ethiopia": 0,
         "Country_Fiji": 0,
         "Country_Finland": 0,
         "Country_France": 0,
         "Country_Gabon": 0,
         "Country_Gambia": 0,
         "Country_Georgia": 0,
         "Country_Germany": 0,
         "Country_Ghana": 0,
         "Country_Greece": 0,
         "Country_Grenada": 0,
         "Country_Guatemala": 0,
         "Country_Guinea": 0,
         "Country_Guinea-Bissau": 0,
         "Country_Guyana": 0,
         "Country_Haiti": 0,
         "Country_Honduras": 0,
         "Country_Hungary": 0,
         "Country_Iceland": 0,
         "Country_India": 0,
         "Country_Indonesia": 0,
         "Country_Iran (Islamic Republic of)": 0,
         "Country_Iraq": 0,
         "Country_Ireland": 0,
         "Country_Israel": 0,
         "Country_Italy": 0,
         "Country_Jamaica": 0,
         "Country_Japan": 0,
         "Country_Jordan": 0,
         "Country_Kazakhstan": 0,
         "Country_Kenya": 0,
         "Country_Kiribati": 0,
         "Country_Kuwait": 0,
         "Country_Kyrgyzstan": 0,
         "Country_Lao People's Democratic Republic": 0,
         "Country_Latvia": 0,
         "Country_Lebanon": 0,
         "Country_Lesotho": 0,
         "Country_Liberia": 0,
         "Country_Libya": 0,
         "Country_Lithuania": 0,
         "Country_Luxembourg": 0,
         "Country_Madagascar": 0,
         "Country_Malawi": 0,
         "Country_Malaysia": 0,
         "Country_Maldives": 0,
         "Country_Mali": 0,
         "Country_Malta": 0,
         "Country_Mauritania": 0,
         "Country_Mauritius": 0,
         "Country_Mexico": 0,
         "Country_Micronesia (Federated States of)": 0,
         "Country_Mongolia": 0,
         "Country_Montenegro": 0,
         "Country_Morocco": 0,
         "Country_Mozambique": 0,
         "Country_Myanmar": 0,
         "Country_Namibia": 0,
         "Country_Nepal": 0,
         "Country_Netherlands": 0,
         "Country_New Zealand": 0,
         "Country_Nicaragua": 0,
         "Country_Niger": 0,
         "Country_Nigeria": 0,
         "Country_Norway": 0,
         "Country_Oman": 0,
         "Country_Pakistan": 0,
         "Country_Panama": 0,
         "Country_Papua New Guinea": 0,
         "Country_Paraguay": 0,
         "Country_Peru": 0,
         "Country_Philippines": 0,
         "Country_Poland": 0,
         "Country_Portugal": 0,
         "Country_Qatar": 0,
         "Country_Republic of Korea": 0,
         "Country_Republic of Moldova": 0,
         "Country_Romania": 0,
         "Country_Russian Federation": 0,
         "Country_Rwanda": 0,
         "Country_Saint Lucia": 0,
         "Country_Saint Vincent and the Grenadines": 0,
         "Country_Samoa": 0,
         "Country_Sao Tome and Principe": 0,
         "Country_Saudi Arabia": 0,
         "Country_Senegal": 0,
         "Country_Serbia": 0,
         "Country_Seychelles": 0,
         "Country_Sierra Leone": 0,
         "Country_Singapore": 0,
         "Country_Slovakia": 0,
         "Country_Slovenia": 0,
         "Country_Solomon Islands": 0,
         "Country_Somalia": 0,
         "Country_South Africa": 0,
         "Country_South Sudan": 0,
         "Country_Spain": 0,
         "Country_Sri Lanka": 0,
         "Country_Sudan": 0,
         "Country_Suriname": 0,
         "Country_Swaziland": 0,
         "Country_Sweden": 0,
         "Country_Switzerland": 0,
         "Country_Syrian Arab Republic": 0,
         "Country_Tajikistan": 0,
         "Country_Thailand": 0,
         "Country_The former Yugoslav republic of Macedonia": 0,
         "Country_Timor-Leste": 0,
         "Country_Togo": 0,
         "Country_Tonga": 0,
         "Country_Trinidad and Tobago": 0,
         "Country_Tunisia": 0,
         "Country_Turkey": 0,
         "Country_Turkmenistan": 0,
         "Country_Uganda": 0,
         "Country_Ukraine": 0,
         "Country_United Arab Emirates": 0,
         "Country_United Kingdom of Great Britain and Northern Ireland": 0,
         "Country_United Republic of Tanzania": 0,
         "Country_United States of America": 0,
         "Country_Uruguay": 0,
         "Country_Uzbekistan": 0,
         "Country_Vanuatu": 0,
         "Country_Venezuela (Bolivarian Republic of)": 0,
         "Country_Viet Nam": 0,
         "Country_Yemen": 0,
         "Country_Zambia": 0,
         "Country_Zimbabwe": 0,
         "Status": 1,
         "Adult Mortality": 0.3850415512465374,
         "Alcohol": 0.0005595970900951314,
         "percentage expenditure": 0.00409033515938012,
         "Hepatitis B": 0.6292134831460674,
         "BMI": 0.07790697674418604,
         "Polio": 0.5975609756097561,
         "Diphtheria": 0.6024096385542169,
         "HIV/AIDS": 0,
         "thinness  1-19 years": 0.6630434782608695,
         "thinness 5-9 years": 0.6421052631578946,
         "Income composition of resources": 0.4725738396624473,
         "Schooling": 0.4444444444444444,
         "Year": 0.6666666666666666,
         "Life expectancy": 58.8,
         "_deepnote_index_column": 5
        },
        {
         "Country_Afghanistan": 1,
         "Country_Albania": 0,
         "Country_Algeria": 0,
         "Country_Angola": 0,
         "Country_Antigua and Barbuda": 0,
         "Country_Argentina": 0,
         "Country_Armenia": 0,
         "Country_Australia": 0,
         "Country_Austria": 0,
         "Country_Azerbaijan": 0,
         "Country_Bahamas": 0,
         "Country_Bahrain": 0,
         "Country_Bangladesh": 0,
         "Country_Barbados": 0,
         "Country_Belarus": 0,
         "Country_Belgium": 0,
         "Country_Belize": 0,
         "Country_Benin": 0,
         "Country_Bhutan": 0,
         "Country_Bolivia (Plurinational State of)": 0,
         "Country_Bosnia and Herzegovina": 0,
         "Country_Botswana": 0,
         "Country_Brazil": 0,
         "Country_Brunei Darussalam": 0,
         "Country_Bulgaria": 0,
         "Country_Burkina Faso": 0,
         "Country_Burundi": 0,
         "Country_Cabo Verde": 0,
         "Country_Cambodia": 0,
         "Country_Cameroon": 0,
         "Country_Canada": 0,
         "Country_Central African Republic": 0,
         "Country_Chad": 0,
         "Country_Chile": 0,
         "Country_China": 0,
         "Country_Colombia": 0,
         "Country_Comoros": 0,
         "Country_Congo": 0,
         "Country_Costa Rica": 0,
         "Country_Croatia": 0,
         "Country_Cuba": 0,
         "Country_Cyprus": 0,
         "Country_Czechia": 0,
         "Country_Côte d'Ivoire": 0,
         "Country_Democratic People's Republic of Korea": 0,
         "Country_Democratic Republic of the Congo": 0,
         "Country_Denmark": 0,
         "Country_Djibouti": 0,
         "Country_Dominican Republic": 0,
         "Country_Ecuador": 0,
         "Country_Egypt": 0,
         "Country_El Salvador": 0,
         "Country_Equatorial Guinea": 0,
         "Country_Eritrea": 0,
         "Country_Estonia": 0,
         "Country_Ethiopia": 0,
         "Country_Fiji": 0,
         "Country_Finland": 0,
         "Country_France": 0,
         "Country_Gabon": 0,
         "Country_Gambia": 0,
         "Country_Georgia": 0,
         "Country_Germany": 0,
         "Country_Ghana": 0,
         "Country_Greece": 0,
         "Country_Grenada": 0,
         "Country_Guatemala": 0,
         "Country_Guinea": 0,
         "Country_Guinea-Bissau": 0,
         "Country_Guyana": 0,
         "Country_Haiti": 0,
         "Country_Honduras": 0,
         "Country_Hungary": 0,
         "Country_Iceland": 0,
         "Country_India": 0,
         "Country_Indonesia": 0,
         "Country_Iran (Islamic Republic of)": 0,
         "Country_Iraq": 0,
         "Country_Ireland": 0,
         "Country_Israel": 0,
         "Country_Italy": 0,
         "Country_Jamaica": 0,
         "Country_Japan": 0,
         "Country_Jordan": 0,
         "Country_Kazakhstan": 0,
         "Country_Kenya": 0,
         "Country_Kiribati": 0,
         "Country_Kuwait": 0,
         "Country_Kyrgyzstan": 0,
         "Country_Lao People's Democratic Republic": 0,
         "Country_Latvia": 0,
         "Country_Lebanon": 0,
         "Country_Lesotho": 0,
         "Country_Liberia": 0,
         "Country_Libya": 0,
         "Country_Lithuania": 0,
         "Country_Luxembourg": 0,
         "Country_Madagascar": 0,
         "Country_Malawi": 0,
         "Country_Malaysia": 0,
         "Country_Maldives": 0,
         "Country_Mali": 0,
         "Country_Malta": 0,
         "Country_Mauritania": 0,
         "Country_Mauritius": 0,
         "Country_Mexico": 0,
         "Country_Micronesia (Federated States of)": 0,
         "Country_Mongolia": 0,
         "Country_Montenegro": 0,
         "Country_Morocco": 0,
         "Country_Mozambique": 0,
         "Country_Myanmar": 0,
         "Country_Namibia": 0,
         "Country_Nepal": 0,
         "Country_Netherlands": 0,
         "Country_New Zealand": 0,
         "Country_Nicaragua": 0,
         "Country_Niger": 0,
         "Country_Nigeria": 0,
         "Country_Norway": 0,
         "Country_Oman": 0,
         "Country_Pakistan": 0,
         "Country_Panama": 0,
         "Country_Papua New Guinea": 0,
         "Country_Paraguay": 0,
         "Country_Peru": 0,
         "Country_Philippines": 0,
         "Country_Poland": 0,
         "Country_Portugal": 0,
         "Country_Qatar": 0,
         "Country_Republic of Korea": 0,
         "Country_Republic of Moldova": 0,
         "Country_Romania": 0,
         "Country_Russian Federation": 0,
         "Country_Rwanda": 0,
         "Country_Saint Lucia": 0,
         "Country_Saint Vincent and the Grenadines": 0,
         "Country_Samoa": 0,
         "Country_Sao Tome and Principe": 0,
         "Country_Saudi Arabia": 0,
         "Country_Senegal": 0,
         "Country_Serbia": 0,
         "Country_Seychelles": 0,
         "Country_Sierra Leone": 0,
         "Country_Singapore": 0,
         "Country_Slovakia": 0,
         "Country_Slovenia": 0,
         "Country_Solomon Islands": 0,
         "Country_Somalia": 0,
         "Country_South Africa": 0,
         "Country_South Sudan": 0,
         "Country_Spain": 0,
         "Country_Sri Lanka": 0,
         "Country_Sudan": 0,
         "Country_Suriname": 0,
         "Country_Swaziland": 0,
         "Country_Sweden": 0,
         "Country_Switzerland": 0,
         "Country_Syrian Arab Republic": 0,
         "Country_Tajikistan": 0,
         "Country_Thailand": 0,
         "Country_The former Yugoslav republic of Macedonia": 0,
         "Country_Timor-Leste": 0,
         "Country_Togo": 0,
         "Country_Tonga": 0,
         "Country_Trinidad and Tobago": 0,
         "Country_Tunisia": 0,
         "Country_Turkey": 0,
         "Country_Turkmenistan": 0,
         "Country_Uganda": 0,
         "Country_Ukraine": 0,
         "Country_United Arab Emirates": 0,
         "Country_United Kingdom of Great Britain and Northern Ireland": 0,
         "Country_United Republic of Tanzania": 0,
         "Country_United States of America": 0,
         "Country_Uruguay": 0,
         "Country_Uzbekistan": 0,
         "Country_Vanuatu": 0,
         "Country_Venezuela (Bolivarian Republic of)": 0,
         "Country_Viet Nam": 0,
         "Country_Yemen": 0,
         "Country_Zambia": 0,
         "Country_Zimbabwe": 0,
         "Status": 1,
         "Adult Mortality": 0.3878116343490305,
         "Alcohol": 0.0005595970900951314,
         "percentage expenditure": 0.002913884721677133,
         "Hepatitis B": 0.5955056179775281,
         "BMI": 0.07209302325581395,
         "Polio": 0.5609756097560976,
         "Diphtheria": 0.5662650602409639,
         "HIV/AIDS": 0,
         "thinness  1-19 years": 0.6702898550724639,
         "thinness 5-9 years": 0.6526315789473683,
         "Income composition of resources": 0.4578059071729958,
         "Schooling": 0.42995169082125606,
         "Year": 0.6,
         "Life expectancy": 58.6,
         "_deepnote_index_column": 6
        },
        {
         "Country_Afghanistan": 1,
         "Country_Albania": 0,
         "Country_Algeria": 0,
         "Country_Angola": 0,
         "Country_Antigua and Barbuda": 0,
         "Country_Argentina": 0,
         "Country_Armenia": 0,
         "Country_Australia": 0,
         "Country_Austria": 0,
         "Country_Azerbaijan": 0,
         "Country_Bahamas": 0,
         "Country_Bahrain": 0,
         "Country_Bangladesh": 0,
         "Country_Barbados": 0,
         "Country_Belarus": 0,
         "Country_Belgium": 0,
         "Country_Belize": 0,
         "Country_Benin": 0,
         "Country_Bhutan": 0,
         "Country_Bolivia (Plurinational State of)": 0,
         "Country_Bosnia and Herzegovina": 0,
         "Country_Botswana": 0,
         "Country_Brazil": 0,
         "Country_Brunei Darussalam": 0,
         "Country_Bulgaria": 0,
         "Country_Burkina Faso": 0,
         "Country_Burundi": 0,
         "Country_Cabo Verde": 0,
         "Country_Cambodia": 0,
         "Country_Cameroon": 0,
         "Country_Canada": 0,
         "Country_Central African Republic": 0,
         "Country_Chad": 0,
         "Country_Chile": 0,
         "Country_China": 0,
         "Country_Colombia": 0,
         "Country_Comoros": 0,
         "Country_Congo": 0,
         "Country_Costa Rica": 0,
         "Country_Croatia": 0,
         "Country_Cuba": 0,
         "Country_Cyprus": 0,
         "Country_Czechia": 0,
         "Country_Côte d'Ivoire": 0,
         "Country_Democratic People's Republic of Korea": 0,
         "Country_Democratic Republic of the Congo": 0,
         "Country_Denmark": 0,
         "Country_Djibouti": 0,
         "Country_Dominican Republic": 0,
         "Country_Ecuador": 0,
         "Country_Egypt": 0,
         "Country_El Salvador": 0,
         "Country_Equatorial Guinea": 0,
         "Country_Eritrea": 0,
         "Country_Estonia": 0,
         "Country_Ethiopia": 0,
         "Country_Fiji": 0,
         "Country_Finland": 0,
         "Country_France": 0,
         "Country_Gabon": 0,
         "Country_Gambia": 0,
         "Country_Georgia": 0,
         "Country_Germany": 0,
         "Country_Ghana": 0,
         "Country_Greece": 0,
         "Country_Grenada": 0,
         "Country_Guatemala": 0,
         "Country_Guinea": 0,
         "Country_Guinea-Bissau": 0,
         "Country_Guyana": 0,
         "Country_Haiti": 0,
         "Country_Honduras": 0,
         "Country_Hungary": 0,
         "Country_Iceland": 0,
         "Country_India": 0,
         "Country_Indonesia": 0,
         "Country_Iran (Islamic Republic of)": 0,
         "Country_Iraq": 0,
         "Country_Ireland": 0,
         "Country_Israel": 0,
         "Country_Italy": 0,
         "Country_Jamaica": 0,
         "Country_Japan": 0,
         "Country_Jordan": 0,
         "Country_Kazakhstan": 0,
         "Country_Kenya": 0,
         "Country_Kiribati": 0,
         "Country_Kuwait": 0,
         "Country_Kyrgyzstan": 0,
         "Country_Lao People's Democratic Republic": 0,
         "Country_Latvia": 0,
         "Country_Lebanon": 0,
         "Country_Lesotho": 0,
         "Country_Liberia": 0,
         "Country_Libya": 0,
         "Country_Lithuania": 0,
         "Country_Luxembourg": 0,
         "Country_Madagascar": 0,
         "Country_Malawi": 0,
         "Country_Malaysia": 0,
         "Country_Maldives": 0,
         "Country_Mali": 0,
         "Country_Malta": 0,
         "Country_Mauritania": 0,
         "Country_Mauritius": 0,
         "Country_Mexico": 0,
         "Country_Micronesia (Federated States of)": 0,
         "Country_Mongolia": 0,
         "Country_Montenegro": 0,
         "Country_Morocco": 0,
         "Country_Mozambique": 0,
         "Country_Myanmar": 0,
         "Country_Namibia": 0,
         "Country_Nepal": 0,
         "Country_Netherlands": 0,
         "Country_New Zealand": 0,
         "Country_Nicaragua": 0,
         "Country_Niger": 0,
         "Country_Nigeria": 0,
         "Country_Norway": 0,
         "Country_Oman": 0,
         "Country_Pakistan": 0,
         "Country_Panama": 0,
         "Country_Papua New Guinea": 0,
         "Country_Paraguay": 0,
         "Country_Peru": 0,
         "Country_Philippines": 0,
         "Country_Poland": 0,
         "Country_Portugal": 0,
         "Country_Qatar": 0,
         "Country_Republic of Korea": 0,
         "Country_Republic of Moldova": 0,
         "Country_Romania": 0,
         "Country_Russian Federation": 0,
         "Country_Rwanda": 0,
         "Country_Saint Lucia": 0,
         "Country_Saint Vincent and the Grenadines": 0,
         "Country_Samoa": 0,
         "Country_Sao Tome and Principe": 0,
         "Country_Saudi Arabia": 0,
         "Country_Senegal": 0,
         "Country_Serbia": 0,
         "Country_Seychelles": 0,
         "Country_Sierra Leone": 0,
         "Country_Singapore": 0,
         "Country_Slovakia": 0,
         "Country_Slovenia": 0,
         "Country_Solomon Islands": 0,
         "Country_Somalia": 0,
         "Country_South Africa": 0,
         "Country_South Sudan": 0,
         "Country_Spain": 0,
         "Country_Sri Lanka": 0,
         "Country_Sudan": 0,
         "Country_Suriname": 0,
         "Country_Swaziland": 0,
         "Country_Sweden": 0,
         "Country_Switzerland": 0,
         "Country_Syrian Arab Republic": 0,
         "Country_Tajikistan": 0,
         "Country_Thailand": 0,
         "Country_The former Yugoslav republic of Macedonia": 0,
         "Country_Timor-Leste": 0,
         "Country_Togo": 0,
         "Country_Tonga": 0,
         "Country_Trinidad and Tobago": 0,
         "Country_Tunisia": 0,
         "Country_Turkey": 0,
         "Country_Turkmenistan": 0,
         "Country_Uganda": 0,
         "Country_Ukraine": 0,
         "Country_United Arab Emirates": 0,
         "Country_United Kingdom of Great Britain and Northern Ireland": 0,
         "Country_United Republic of Tanzania": 0,
         "Country_United States of America": 0,
         "Country_Uruguay": 0,
         "Country_Uzbekistan": 0,
         "Country_Vanuatu": 0,
         "Country_Venezuela (Bolivarian Republic of)": 0,
         "Country_Viet Nam": 0,
         "Country_Yemen": 0,
         "Country_Zambia": 0,
         "Country_Zimbabwe": 0,
         "Status": 1,
         "Adult Mortality": 0.3961218836565097,
         "Alcohol": 0.0016787912702853943,
         "percentage expenditure": 0.0013282362814581582,
         "Hepatitis B": 0.6067415730337079,
         "BMI": 0.06627906976744186,
         "Polio": 0.573170731707317,
         "Diphtheria": 0.5783132530120482,
         "HIV/AIDS": 0,
         "thinness  1-19 years": 0.677536231884058,
         "thinness 5-9 years": 0.6596491228070175,
         "Income composition of resources": 0.4567510548523207,
         "Schooling": 0.42028985507246375,
         "Year": 0.5333333333333333,
         "Life expectancy": 58.1,
         "_deepnote_index_column": 7
        },
        {
         "Country_Afghanistan": 1,
         "Country_Albania": 0,
         "Country_Algeria": 0,
         "Country_Angola": 0,
         "Country_Antigua and Barbuda": 0,
         "Country_Argentina": 0,
         "Country_Armenia": 0,
         "Country_Australia": 0,
         "Country_Austria": 0,
         "Country_Azerbaijan": 0,
         "Country_Bahamas": 0,
         "Country_Bahrain": 0,
         "Country_Bangladesh": 0,
         "Country_Barbados": 0,
         "Country_Belarus": 0,
         "Country_Belgium": 0,
         "Country_Belize": 0,
         "Country_Benin": 0,
         "Country_Bhutan": 0,
         "Country_Bolivia (Plurinational State of)": 0,
         "Country_Bosnia and Herzegovina": 0,
         "Country_Botswana": 0,
         "Country_Brazil": 0,
         "Country_Brunei Darussalam": 0,
         "Country_Bulgaria": 0,
         "Country_Burkina Faso": 0,
         "Country_Burundi": 0,
         "Country_Cabo Verde": 0,
         "Country_Cambodia": 0,
         "Country_Cameroon": 0,
         "Country_Canada": 0,
         "Country_Central African Republic": 0,
         "Country_Chad": 0,
         "Country_Chile": 0,
         "Country_China": 0,
         "Country_Colombia": 0,
         "Country_Comoros": 0,
         "Country_Congo": 0,
         "Country_Costa Rica": 0,
         "Country_Croatia": 0,
         "Country_Cuba": 0,
         "Country_Cyprus": 0,
         "Country_Czechia": 0,
         "Country_Côte d'Ivoire": 0,
         "Country_Democratic People's Republic of Korea": 0,
         "Country_Democratic Republic of the Congo": 0,
         "Country_Denmark": 0,
         "Country_Djibouti": 0,
         "Country_Dominican Republic": 0,
         "Country_Ecuador": 0,
         "Country_Egypt": 0,
         "Country_El Salvador": 0,
         "Country_Equatorial Guinea": 0,
         "Country_Eritrea": 0,
         "Country_Estonia": 0,
         "Country_Ethiopia": 0,
         "Country_Fiji": 0,
         "Country_Finland": 0,
         "Country_France": 0,
         "Country_Gabon": 0,
         "Country_Gambia": 0,
         "Country_Georgia": 0,
         "Country_Germany": 0,
         "Country_Ghana": 0,
         "Country_Greece": 0,
         "Country_Grenada": 0,
         "Country_Guatemala": 0,
         "Country_Guinea": 0,
         "Country_Guinea-Bissau": 0,
         "Country_Guyana": 0,
         "Country_Haiti": 0,
         "Country_Honduras": 0,
         "Country_Hungary": 0,
         "Country_Iceland": 0,
         "Country_India": 0,
         "Country_Indonesia": 0,
         "Country_Iran (Islamic Republic of)": 0,
         "Country_Iraq": 0,
         "Country_Ireland": 0,
         "Country_Israel": 0,
         "Country_Italy": 0,
         "Country_Jamaica": 0,
         "Country_Japan": 0,
         "Country_Jordan": 0,
         "Country_Kazakhstan": 0,
         "Country_Kenya": 0,
         "Country_Kiribati": 0,
         "Country_Kuwait": 0,
         "Country_Kyrgyzstan": 0,
         "Country_Lao People's Democratic Republic": 0,
         "Country_Latvia": 0,
         "Country_Lebanon": 0,
         "Country_Lesotho": 0,
         "Country_Liberia": 0,
         "Country_Libya": 0,
         "Country_Lithuania": 0,
         "Country_Luxembourg": 0,
         "Country_Madagascar": 0,
         "Country_Malawi": 0,
         "Country_Malaysia": 0,
         "Country_Maldives": 0,
         "Country_Mali": 0,
         "Country_Malta": 0,
         "Country_Mauritania": 0,
         "Country_Mauritius": 0,
         "Country_Mexico": 0,
         "Country_Micronesia (Federated States of)": 0,
         "Country_Mongolia": 0,
         "Country_Montenegro": 0,
         "Country_Morocco": 0,
         "Country_Mozambique": 0,
         "Country_Myanmar": 0,
         "Country_Namibia": 0,
         "Country_Nepal": 0,
         "Country_Netherlands": 0,
         "Country_New Zealand": 0,
         "Country_Nicaragua": 0,
         "Country_Niger": 0,
         "Country_Nigeria": 0,
         "Country_Norway": 0,
         "Country_Oman": 0,
         "Country_Pakistan": 0,
         "Country_Panama": 0,
         "Country_Papua New Guinea": 0,
         "Country_Paraguay": 0,
         "Country_Peru": 0,
         "Country_Philippines": 0,
         "Country_Poland": 0,
         "Country_Portugal": 0,
         "Country_Qatar": 0,
         "Country_Republic of Korea": 0,
         "Country_Republic of Moldova": 0,
         "Country_Romania": 0,
         "Country_Russian Federation": 0,
         "Country_Rwanda": 0,
         "Country_Saint Lucia": 0,
         "Country_Saint Vincent and the Grenadines": 0,
         "Country_Samoa": 0,
         "Country_Sao Tome and Principe": 0,
         "Country_Saudi Arabia": 0,
         "Country_Senegal": 0,
         "Country_Serbia": 0,
         "Country_Seychelles": 0,
         "Country_Sierra Leone": 0,
         "Country_Singapore": 0,
         "Country_Slovakia": 0,
         "Country_Slovenia": 0,
         "Country_Solomon Islands": 0,
         "Country_Somalia": 0,
         "Country_South Africa": 0,
         "Country_South Sudan": 0,
         "Country_Spain": 0,
         "Country_Sri Lanka": 0,
         "Country_Sudan": 0,
         "Country_Suriname": 0,
         "Country_Swaziland": 0,
         "Country_Sweden": 0,
         "Country_Switzerland": 0,
         "Country_Syrian Arab Republic": 0,
         "Country_Tajikistan": 0,
         "Country_Thailand": 0,
         "Country_The former Yugoslav republic of Macedonia": 0,
         "Country_Timor-Leste": 0,
         "Country_Togo": 0,
         "Country_Tonga": 0,
         "Country_Trinidad and Tobago": 0,
         "Country_Tunisia": 0,
         "Country_Turkey": 0,
         "Country_Turkmenistan": 0,
         "Country_Uganda": 0,
         "Country_Ukraine": 0,
         "Country_United Arab Emirates": 0,
         "Country_United Kingdom of Great Britain and Northern Ireland": 0,
         "Country_United Republic of Tanzania": 0,
         "Country_United States of America": 0,
         "Country_Uruguay": 0,
         "Country_Uzbekistan": 0,
         "Country_Vanuatu": 0,
         "Country_Venezuela (Bolivarian Republic of)": 0,
         "Country_Viet Nam": 0,
         "Country_Yemen": 0,
         "Country_Zambia": 0,
         "Country_Zimbabwe": 0,
         "Status": 1,
         "Adult Mortality": 0.407202216066482,
         "Alcohol": 0.0011191941801902629,
         "percentage expenditure": 0.0005600721501425746,
         "Hepatitis B": 0.5955056179775281,
         "BMI": 0.06046511627906976,
         "Polio": 0.5609756097560976,
         "Diphtheria": 0.5662650602409639,
         "HIV/AIDS": 0,
         "thinness  1-19 years": 0.6847826086956522,
         "thinness 5-9 years": 0.6666666666666666,
         "Income composition of resources": 0.43776371308016876,
         "Schooling": 0.4057971014492754,
         "Year": 0.4666666666666667,
         "Life expectancy": 57.5,
         "_deepnote_index_column": 8
        },
        {
         "Country_Afghanistan": 1,
         "Country_Albania": 0,
         "Country_Algeria": 0,
         "Country_Angola": 0,
         "Country_Antigua and Barbuda": 0,
         "Country_Argentina": 0,
         "Country_Armenia": 0,
         "Country_Australia": 0,
         "Country_Austria": 0,
         "Country_Azerbaijan": 0,
         "Country_Bahamas": 0,
         "Country_Bahrain": 0,
         "Country_Bangladesh": 0,
         "Country_Barbados": 0,
         "Country_Belarus": 0,
         "Country_Belgium": 0,
         "Country_Belize": 0,
         "Country_Benin": 0,
         "Country_Bhutan": 0,
         "Country_Bolivia (Plurinational State of)": 0,
         "Country_Bosnia and Herzegovina": 0,
         "Country_Botswana": 0,
         "Country_Brazil": 0,
         "Country_Brunei Darussalam": 0,
         "Country_Bulgaria": 0,
         "Country_Burkina Faso": 0,
         "Country_Burundi": 0,
         "Country_Cabo Verde": 0,
         "Country_Cambodia": 0,
         "Country_Cameroon": 0,
         "Country_Canada": 0,
         "Country_Central African Republic": 0,
         "Country_Chad": 0,
         "Country_Chile": 0,
         "Country_China": 0,
         "Country_Colombia": 0,
         "Country_Comoros": 0,
         "Country_Congo": 0,
         "Country_Costa Rica": 0,
         "Country_Croatia": 0,
         "Country_Cuba": 0,
         "Country_Cyprus": 0,
         "Country_Czechia": 0,
         "Country_Côte d'Ivoire": 0,
         "Country_Democratic People's Republic of Korea": 0,
         "Country_Democratic Republic of the Congo": 0,
         "Country_Denmark": 0,
         "Country_Djibouti": 0,
         "Country_Dominican Republic": 0,
         "Country_Ecuador": 0,
         "Country_Egypt": 0,
         "Country_El Salvador": 0,
         "Country_Equatorial Guinea": 0,
         "Country_Eritrea": 0,
         "Country_Estonia": 0,
         "Country_Ethiopia": 0,
         "Country_Fiji": 0,
         "Country_Finland": 0,
         "Country_France": 0,
         "Country_Gabon": 0,
         "Country_Gambia": 0,
         "Country_Georgia": 0,
         "Country_Germany": 0,
         "Country_Ghana": 0,
         "Country_Greece": 0,
         "Country_Grenada": 0,
         "Country_Guatemala": 0,
         "Country_Guinea": 0,
         "Country_Guinea-Bissau": 0,
         "Country_Guyana": 0,
         "Country_Haiti": 0,
         "Country_Honduras": 0,
         "Country_Hungary": 0,
         "Country_Iceland": 0,
         "Country_India": 0,
         "Country_Indonesia": 0,
         "Country_Iran (Islamic Republic of)": 0,
         "Country_Iraq": 0,
         "Country_Ireland": 0,
         "Country_Israel": 0,
         "Country_Italy": 0,
         "Country_Jamaica": 0,
         "Country_Japan": 0,
         "Country_Jordan": 0,
         "Country_Kazakhstan": 0,
         "Country_Kenya": 0,
         "Country_Kiribati": 0,
         "Country_Kuwait": 0,
         "Country_Kyrgyzstan": 0,
         "Country_Lao People's Democratic Republic": 0,
         "Country_Latvia": 0,
         "Country_Lebanon": 0,
         "Country_Lesotho": 0,
         "Country_Liberia": 0,
         "Country_Libya": 0,
         "Country_Lithuania": 0,
         "Country_Luxembourg": 0,
         "Country_Madagascar": 0,
         "Country_Malawi": 0,
         "Country_Malaysia": 0,
         "Country_Maldives": 0,
         "Country_Mali": 0,
         "Country_Malta": 0,
         "Country_Mauritania": 0,
         "Country_Mauritius": 0,
         "Country_Mexico": 0,
         "Country_Micronesia (Federated States of)": 0,
         "Country_Mongolia": 0,
         "Country_Montenegro": 0,
         "Country_Morocco": 0,
         "Country_Mozambique": 0,
         "Country_Myanmar": 0,
         "Country_Namibia": 0,
         "Country_Nepal": 0,
         "Country_Netherlands": 0,
         "Country_New Zealand": 0,
         "Country_Nicaragua": 0,
         "Country_Niger": 0,
         "Country_Nigeria": 0,
         "Country_Norway": 0,
         "Country_Oman": 0,
         "Country_Pakistan": 0,
         "Country_Panama": 0,
         "Country_Papua New Guinea": 0,
         "Country_Paraguay": 0,
         "Country_Peru": 0,
         "Country_Philippines": 0,
         "Country_Poland": 0,
         "Country_Portugal": 0,
         "Country_Qatar": 0,
         "Country_Republic of Korea": 0,
         "Country_Republic of Moldova": 0,
         "Country_Romania": 0,
         "Country_Russian Federation": 0,
         "Country_Rwanda": 0,
         "Country_Saint Lucia": 0,
         "Country_Saint Vincent and the Grenadines": 0,
         "Country_Samoa": 0,
         "Country_Sao Tome and Principe": 0,
         "Country_Saudi Arabia": 0,
         "Country_Senegal": 0,
         "Country_Serbia": 0,
         "Country_Seychelles": 0,
         "Country_Sierra Leone": 0,
         "Country_Singapore": 0,
         "Country_Slovakia": 0,
         "Country_Slovenia": 0,
         "Country_Solomon Islands": 0,
         "Country_Somalia": 0,
         "Country_South Africa": 0,
         "Country_South Sudan": 0,
         "Country_Spain": 0,
         "Country_Sri Lanka": 0,
         "Country_Sudan": 0,
         "Country_Suriname": 0,
         "Country_Swaziland": 0,
         "Country_Sweden": 0,
         "Country_Switzerland": 0,
         "Country_Syrian Arab Republic": 0,
         "Country_Tajikistan": 0,
         "Country_Thailand": 0,
         "Country_The former Yugoslav republic of Macedonia": 0,
         "Country_Timor-Leste": 0,
         "Country_Togo": 0,
         "Country_Tonga": 0,
         "Country_Trinidad and Tobago": 0,
         "Country_Tunisia": 0,
         "Country_Turkey": 0,
         "Country_Turkmenistan": 0,
         "Country_Uganda": 0,
         "Country_Ukraine": 0,
         "Country_United Arab Emirates": 0,
         "Country_United Kingdom of Great Britain and Northern Ireland": 0,
         "Country_United Republic of Tanzania": 0,
         "Country_United States of America": 0,
         "Country_Uruguay": 0,
         "Country_Uzbekistan": 0,
         "Country_Vanuatu": 0,
         "Country_Venezuela (Bolivarian Republic of)": 0,
         "Country_Viet Nam": 0,
         "Country_Yemen": 0,
         "Country_Zambia": 0,
         "Country_Zimbabwe": 0,
         "Status": 1,
         "Adult Mortality": 0.407202216066482,
         "Alcohol": 0.0016787912702853943,
         "percentage expenditure": 0.0008814987384842657,
         "Hepatitis B": 0.6067415730337079,
         "BMI": 0.05465116279069766,
         "Polio": 0.5,
         "Diphtheria": 0.5060240963855421,
         "HIV/AIDS": 0,
         "thinness  1-19 years": 0.6920289855072463,
         "thinness 5-9 years": 0.6736842105263158,
         "Income composition of resources": 0.4272151898734178,
         "Schooling": 0.391304347826087,
         "Year": 0.4,
         "Life expectancy": 57.3,
         "_deepnote_index_column": 9
        }
       ]
      },
      "text/plain": "      Country_Afghanistan  Country_Albania  Country_Algeria  Country_Angola  \\\n0                       1                0                0               0   \n1                       1                0                0               0   \n2                       1                0                0               0   \n3                       1                0                0               0   \n4                       1                0                0               0   \n...                   ...              ...              ...             ...   \n2933                    0                0                0               0   \n2934                    0                0                0               0   \n2935                    0                0                0               0   \n2936                    0                0                0               0   \n2937                    0                0                0               0   \n\n      Country_Antigua and Barbuda  Country_Argentina  Country_Armenia  \\\n0                               0                  0                0   \n1                               0                  0                0   \n2                               0                  0                0   \n3                               0                  0                0   \n4                               0                  0                0   \n...                           ...                ...              ...   \n2933                            0                  0                0   \n2934                            0                  0                0   \n2935                            0                  0                0   \n2936                            0                  0                0   \n2937                            0                  0                0   \n\n      Country_Australia  Country_Austria  Country_Azerbaijan  ...       BMI  \\\n0                     0                0                   0  ...  0.105814   \n1                     0                0                   0  ...  0.100000   \n2                     0                0                   0  ...  0.094186   \n3                     0                0                   0  ...  0.088372   \n4                     0                0                   0  ...  0.083721   \n...                 ...              ...                 ...  ...       ...   \n2933                  0                0                   0  ...  0.198837   \n2934                  0                0                   0  ...  0.194186   \n2935                  0                0                   0  ...  0.189535   \n2936                  0                0                   0  ...  0.184884   \n2937                  0                0                   0  ...  0.180233   \n\n         Polio  Diphtheria  HIV/AIDS  thinness  1-19 years  \\\n0     0.524390    0.590361  0.000000              0.619565   \n1     0.500000    0.554217  0.000000              0.630435   \n2     0.548780    0.578313  0.000000              0.637681   \n3     0.609756    0.614458  0.000000              0.644928   \n4     0.621951    0.626506  0.000000              0.655797   \n...        ...         ...       ...                   ...   \n2933  0.609756    0.590361  0.663366              0.336957   \n2934  0.856002    0.626506  0.724752              0.351449   \n2935  0.682927    0.662651  0.786139              0.039855   \n2936  0.719512    0.710843  0.831683              0.054348   \n2937  0.743902    0.746988  0.859406              0.394928   \n\n      thinness 5-9 years  Income composition of resources  Schooling  \\\n0               0.603509                         0.505274   0.487923   \n1               0.610526                         0.502110   0.483092   \n2               0.617544                         0.495781   0.478261   \n3               0.628070                         0.488397   0.473430   \n4               0.635088                         0.478903   0.458937   \n...                  ...                              ...        ...   \n2933            0.326316                         0.429325   0.444444   \n2934            0.343860                         0.440928   0.458937   \n2935            0.042105                         0.450422   0.483092   \n2936            0.056140                         0.450422   0.473430   \n2937            0.389474                         0.457806   0.473430   \n\n          Year  Life expectancy  \n0     1.000000             65.0  \n1     0.933333             59.9  \n2     0.866667             59.9  \n3     0.800000             59.5  \n4     0.733333             59.2  \n...        ...              ...  \n2933  0.266667             44.3  \n2934  0.200000             44.5  \n2935  0.133333             44.8  \n2936  0.066667             45.3  \n2937  0.000000             46.0  \n\n[2928 rows x 198 columns]",
      "text/html": "<div>\n<style scoped>\n    .dataframe tbody tr th:only-of-type {\n        vertical-align: middle;\n    }\n\n    .dataframe tbody tr th {\n        vertical-align: top;\n    }\n\n    .dataframe thead th {\n        text-align: right;\n    }\n</style>\n<table border=\"1\" class=\"dataframe\">\n  <thead>\n    <tr style=\"text-align: right;\">\n      <th></th>\n      <th>Country_Afghanistan</th>\n      <th>Country_Albania</th>\n      <th>Country_Algeria</th>\n      <th>Country_Angola</th>\n      <th>Country_Antigua and Barbuda</th>\n      <th>Country_Argentina</th>\n      <th>Country_Armenia</th>\n      <th>Country_Australia</th>\n      <th>Country_Austria</th>\n      <th>Country_Azerbaijan</th>\n      <th>...</th>\n      <th>BMI</th>\n      <th>Polio</th>\n      <th>Diphtheria</th>\n      <th>HIV/AIDS</th>\n      <th>thinness  1-19 years</th>\n      <th>thinness 5-9 years</th>\n      <th>Income composition of resources</th>\n      <th>Schooling</th>\n      <th>Year</th>\n      <th>Life expectancy</th>\n    </tr>\n  </thead>\n  <tbody>\n    <tr>\n      <th>0</th>\n      <td>1</td>\n      <td>0</td>\n      <td>0</td>\n      <td>0</td>\n      <td>0</td>\n      <td>0</td>\n      <td>0</td>\n      <td>0</td>\n      <td>0</td>\n      <td>0</td>\n      <td>...</td>\n      <td>0.105814</td>\n      <td>0.524390</td>\n      <td>0.590361</td>\n      <td>0.000000</td>\n      <td>0.619565</td>\n      <td>0.603509</td>\n      <td>0.505274</td>\n      <td>0.487923</td>\n      <td>1.000000</td>\n      <td>65.0</td>\n    </tr>\n    <tr>\n      <th>1</th>\n      <td>1</td>\n      <td>0</td>\n      <td>0</td>\n      <td>0</td>\n      <td>0</td>\n      <td>0</td>\n      <td>0</td>\n      <td>0</td>\n      <td>0</td>\n      <td>0</td>\n      <td>...</td>\n      <td>0.100000</td>\n      <td>0.500000</td>\n      <td>0.554217</td>\n      <td>0.000000</td>\n      <td>0.630435</td>\n      <td>0.610526</td>\n      <td>0.502110</td>\n      <td>0.483092</td>\n      <td>0.933333</td>\n      <td>59.9</td>\n    </tr>\n    <tr>\n      <th>2</th>\n      <td>1</td>\n      <td>0</td>\n      <td>0</td>\n      <td>0</td>\n      <td>0</td>\n      <td>0</td>\n      <td>0</td>\n      <td>0</td>\n      <td>0</td>\n      <td>0</td>\n      <td>...</td>\n      <td>0.094186</td>\n      <td>0.548780</td>\n      <td>0.578313</td>\n      <td>0.000000</td>\n      <td>0.637681</td>\n      <td>0.617544</td>\n      <td>0.495781</td>\n      <td>0.478261</td>\n      <td>0.866667</td>\n      <td>59.9</td>\n    </tr>\n    <tr>\n      <th>3</th>\n      <td>1</td>\n      <td>0</td>\n      <td>0</td>\n      <td>0</td>\n      <td>0</td>\n      <td>0</td>\n      <td>0</td>\n      <td>0</td>\n      <td>0</td>\n      <td>0</td>\n      <td>...</td>\n      <td>0.088372</td>\n      <td>0.609756</td>\n      <td>0.614458</td>\n      <td>0.000000</td>\n      <td>0.644928</td>\n      <td>0.628070</td>\n      <td>0.488397</td>\n      <td>0.473430</td>\n      <td>0.800000</td>\n      <td>59.5</td>\n    </tr>\n    <tr>\n      <th>4</th>\n      <td>1</td>\n      <td>0</td>\n      <td>0</td>\n      <td>0</td>\n      <td>0</td>\n      <td>0</td>\n      <td>0</td>\n      <td>0</td>\n      <td>0</td>\n      <td>0</td>\n      <td>...</td>\n      <td>0.083721</td>\n      <td>0.621951</td>\n      <td>0.626506</td>\n      <td>0.000000</td>\n      <td>0.655797</td>\n      <td>0.635088</td>\n      <td>0.478903</td>\n      <td>0.458937</td>\n      <td>0.733333</td>\n      <td>59.2</td>\n    </tr>\n    <tr>\n      <th>...</th>\n      <td>...</td>\n      <td>...</td>\n      <td>...</td>\n      <td>...</td>\n      <td>...</td>\n      <td>...</td>\n      <td>...</td>\n      <td>...</td>\n      <td>...</td>\n      <td>...</td>\n      <td>...</td>\n      <td>...</td>\n      <td>...</td>\n      <td>...</td>\n      <td>...</td>\n      <td>...</td>\n      <td>...</td>\n      <td>...</td>\n      <td>...</td>\n      <td>...</td>\n      <td>...</td>\n    </tr>\n    <tr>\n      <th>2933</th>\n      <td>0</td>\n      <td>0</td>\n      <td>0</td>\n      <td>0</td>\n      <td>0</td>\n      <td>0</td>\n      <td>0</td>\n      <td>0</td>\n      <td>0</td>\n      <td>0</td>\n      <td>...</td>\n      <td>0.198837</td>\n      <td>0.609756</td>\n      <td>0.590361</td>\n      <td>0.663366</td>\n      <td>0.336957</td>\n      <td>0.326316</td>\n      <td>0.429325</td>\n      <td>0.444444</td>\n      <td>0.266667</td>\n      <td>44.3</td>\n    </tr>\n    <tr>\n      <th>2934</th>\n      <td>0</td>\n      <td>0</td>\n      <td>0</td>\n      <td>0</td>\n      <td>0</td>\n      <td>0</td>\n      <td>0</td>\n      <td>0</td>\n      <td>0</td>\n      <td>0</td>\n      <td>...</td>\n      <td>0.194186</td>\n      <td>0.856002</td>\n      <td>0.626506</td>\n      <td>0.724752</td>\n      <td>0.351449</td>\n      <td>0.343860</td>\n      <td>0.440928</td>\n      <td>0.458937</td>\n      <td>0.200000</td>\n      <td>44.5</td>\n    </tr>\n    <tr>\n      <th>2935</th>\n      <td>0</td>\n      <td>0</td>\n      <td>0</td>\n      <td>0</td>\n      <td>0</td>\n      <td>0</td>\n      <td>0</td>\n      <td>0</td>\n      <td>0</td>\n      <td>0</td>\n      <td>...</td>\n      <td>0.189535</td>\n      <td>0.682927</td>\n      <td>0.662651</td>\n      <td>0.786139</td>\n      <td>0.039855</td>\n      <td>0.042105</td>\n      <td>0.450422</td>\n      <td>0.483092</td>\n      <td>0.133333</td>\n      <td>44.8</td>\n    </tr>\n    <tr>\n      <th>2936</th>\n      <td>0</td>\n      <td>0</td>\n      <td>0</td>\n      <td>0</td>\n      <td>0</td>\n      <td>0</td>\n      <td>0</td>\n      <td>0</td>\n      <td>0</td>\n      <td>0</td>\n      <td>...</td>\n      <td>0.184884</td>\n      <td>0.719512</td>\n      <td>0.710843</td>\n      <td>0.831683</td>\n      <td>0.054348</td>\n      <td>0.056140</td>\n      <td>0.450422</td>\n      <td>0.473430</td>\n      <td>0.066667</td>\n      <td>45.3</td>\n    </tr>\n    <tr>\n      <th>2937</th>\n      <td>0</td>\n      <td>0</td>\n      <td>0</td>\n      <td>0</td>\n      <td>0</td>\n      <td>0</td>\n      <td>0</td>\n      <td>0</td>\n      <td>0</td>\n      <td>0</td>\n      <td>...</td>\n      <td>0.180233</td>\n      <td>0.743902</td>\n      <td>0.746988</td>\n      <td>0.859406</td>\n      <td>0.394928</td>\n      <td>0.389474</td>\n      <td>0.457806</td>\n      <td>0.473430</td>\n      <td>0.000000</td>\n      <td>46.0</td>\n    </tr>\n  </tbody>\n</table>\n<p>2928 rows × 198 columns</p>\n</div>"
     },
     "metadata": {}
    }
   ]
  },
  {
   "cell_type": "markdown",
   "source": "* Zkusím nyní predikce s normalizovanými daty.",
   "metadata": {
    "tags": [],
    "cell_id": "00147-3f26a5d0-f3da-4c4f-8adb-1311c35d1f0d",
    "deepnote_cell_type": "markdown",
    "deepnote_cell_height": 69.390625
   }
  },
  {
   "cell_type": "markdown",
   "source": "* * Nejdříve pro lineární regresi.",
   "metadata": {
    "tags": [],
    "cell_id": "00148-fe227a24-5773-4b7e-be9a-1a3bf05f9873",
    "deepnote_cell_type": "markdown",
    "deepnote_cell_height": 69.390625
   }
  },
  {
   "cell_type": "code",
   "metadata": {
    "tags": [],
    "cell_id": "00147-3cb89ca5-02c3-4edb-8766-24c42411a71c",
    "deepnote_to_be_reexecuted": false,
    "source_hash": "d0b025ff",
    "execution_start": 1661363088515,
    "execution_millis": 43,
    "deepnote_cell_type": "code",
    "deepnote_cell_height": 288.390625
   },
   "source": "from sklearn.model_selection import train_test_split\n\nX, X_test, Y, Y_test = train_test_split(\n    result.drop(columns=[\"Life expectancy\"]), \n    result[\"Life expectancy\"], \n    test_size=0.25, \n    random_state=42\n)\nprint(\"Train X shape\", X.shape)\nprint(\"Test X shape\", X_test.shape)",
   "execution_count": 101,
   "outputs": [
    {
     "name": "stdout",
     "text": "Train X shape (2196, 197)\nTest X shape (732, 197)\n",
     "output_type": "stream"
    }
   ]
  },
  {
   "cell_type": "code",
   "metadata": {
    "tags": [],
    "cell_id": "00148-ee4f2ded-285a-4a24-87ed-2a87a3d540f2",
    "deepnote_to_be_reexecuted": false,
    "source_hash": "bed32f15",
    "execution_start": 1661363088559,
    "execution_millis": 552,
    "deepnote_cell_type": "code",
    "deepnote_cell_height": 166.1875,
    "deepnote_output_heights": [
     20.1875
    ]
   },
   "source": "from sklearn.linear_model import LinearRegression\n\nlr_model = LinearRegression()\nlr_model.fit(X,Y)",
   "execution_count": 102,
   "outputs": [
    {
     "output_type": "execute_result",
     "execution_count": 102,
     "data": {
      "text/plain": "LinearRegression()"
     },
     "metadata": {}
    }
   ]
  },
  {
   "cell_type": "code",
   "metadata": {
    "tags": [],
    "cell_id": "00151-21559231-a28a-4011-b664-edb5d19ea5e0",
    "deepnote_to_be_reexecuted": false,
    "source_hash": "884182a8",
    "execution_start": 1661363088682,
    "execution_millis": 449,
    "is_output_hidden": false,
    "deepnote_cell_type": "code",
    "deepnote_cell_height": 618,
    "deepnote_output_heights": [
     526
    ]
   },
   "source": "plot_prediction_results(\"sklearn linear regression\", Y_test, lr_model.predict(X_test))",
   "execution_count": 103,
   "outputs": [
    {
     "data": {
      "text/html": "<html>\n<head><meta charset=\"utf-8\" /></head>\n<body>\n    <div>            <script src=\"https://cdnjs.cloudflare.com/ajax/libs/mathjax/2.7.5/MathJax.js?config=TeX-AMS-MML_SVG\"></script><script type=\"text/javascript\">if (window.MathJax && window.MathJax.Hub && window.MathJax.Hub.Config) {window.MathJax.Hub.Config({SVG: {font: \"STIX-Web\"}});}</script>                <script type=\"text/javascript\">window.PlotlyConfig = {MathJaxConfig: 'local'};</script>\n        <script src=\"https://cdn.plot.ly/plotly-2.12.1.min.js\"></script>                <div id=\"4544667a-db67-41d2-b4a2-a9ef3bc6efbf\" class=\"plotly-graph-div\" style=\"height:525px; width:100%;\"></div>            <script type=\"text/javascript\">                                    window.PLOTLYENV=window.PLOTLYENV || {};                                    if (document.getElementById(\"4544667a-db67-41d2-b4a2-a9ef3bc6efbf\")) {                    Plotly.newPlot(                        \"4544667a-db67-41d2-b4a2-a9ef3bc6efbf\",                        [{\"mode\":\"lines\",\"name\":\"y = \\u0177\",\"x\":[0,100],\"y\":[0,100],\"type\":\"scatter\"},{\"mode\":\"markers\",\"name\":\"(test, prediction)\",\"x\":[56.5,73.0,82.5,75.6,53.0,65.2,72.4,74.1,77.0,67.8,73.1,75.1,44.3,47.9,74.3,74.6,78.4,77.7,79.1,73.3,62.8,82.5,54.0,63.4,72.0,47.8,52.1,75.1,65.6,78.4,73.9,76.3,61.2,69.6,72.7,57.9,74.5,69.4,77.0,75.4,57.7,67.3,78.5,54.2,47.6,68.9,79.4,67.6,63.3,59.8,71.7,73.2,66.5,58.6,67.7,72.8,69.2,72.8,76.4,53.3,72.5,69.0,59.4,56.0,54.1,81.9,64.5,55.3,73.0,72.4,75.5,85.0,74.1,75.6,53.2,75.2,74.9,74.7,73.3,77.3,75.9,83.0,71.3,63.8,76.8,65.9,74.1,79.1,77.8,77.5,62.2,79.5,81.1,77.7,65.3,51.9,74.7,67.3,66.2,84.0,69.6,51.2,74.6,76.9,58.0,75.6,57.4,75.7,63.3,67.3,82.1,71.0,81.8,62.9,75.3,83.0,82.7,72.9,59.8,75.2,73.0,76.0,72.2,71.1,74.3,70.0,69.5,74.4,69.9,75.6,73.6,67.9,54.0,81.5,86.0,74.0,79.0,64.4,79.0,82.5,72.8,71.6,64.0,81.5,74.6,56.5,78.7,55.3,81.6,67.1,52.1,74.9,59.9,82.0,77.5,76.5,73.5,76.5,57.9,66.8,68.7,61.3,74.7,54.6,49.2,72.6,66.5,77.0,51.2,71.9,67.6,71.0,51.3,77.2,76.7,55.7,62.8,87.0,59.6,65.3,67.0,43.8,73.6,73.6,75.6,73.5,62.9,74.2,78.5,78.0,73.8,81.7,82.0,57.6,74.8,73.9,51.7,79.8,67.5,62.3,56.4,75.3,51.9,74.8,72.5,80.0,81.6,45.3,66.1,79.4,65.0,71.6,75.8,73.6,79.1,76.0,52.0,76.3,68.3,74.4,74.1,68.1,72.7,67.1,81.0,52.4,75.7,61.0,73.5,81.3,69.0,71.4,73.3,79.3,51.6,57.3,73.0,76.6,77.0,58.6,78.8,68.0,79.8,74.9,73.9,79.3,72.1,71.7,79.9,62.1,83.0,62.2,73.1,73.0,67.7,79.8,81.7,75.2,79.4,72.2,74.0,71.2,55.0,71.0,46.3,59.5,75.2,51.4,58.5,52.5,79.2,65.5,73.3,75.4,82.1,76.7,54.0,76.4,78.0,77.0,61.6,58.0,76.0,74.7,59.0,73.5,77.5,75.4,71.0,75.4,77.0,48.2,72.6,74.5,72.8,79.3,53.1,67.7,75.0,46.0,71.4,72.9,68.7,72.5,77.1,60.0,55.3,65.0,56.3,78.0,74.6,63.8,74.3,81.3,71.6,66.2,61.3,68.8,72.1,69.0,68.9,62.8,74.2,72.0,58.0,73.9,69.8,76.0,79.3,48.9,74.3,79.7,79.9,72.1,67.1,63.7,68.0,62.5,72.3,67.0,75.0,61.8,72.0,64.4,58.4,73.3,74.7,77.5,75.7,73.0,79.0,52.7,66.0,75.0,74.1,69.9,72.3,75.4,59.1,79.9,56.5,71.1,75.4,57.4,63.8,84.0,79.3,79.1,73.0,54.5,71.1,74.2,51.4,76.0,63.9,77.7,80.0,82.0,63.9,73.5,78.9,66.0,81.3,73.0,64.0,68.2,79.0,78.1,72.0,73.5,55.0,62.1,49.7,86.0,73.1,72.3,68.0,78.3,80.0,71.6,66.8,73.3,65.7,73.0,62.6,61.4,60.0,68.2,66.5,78.2,63.5,52.7,59.3,86.0,74.4,71.3,78.0,66.0,63.6,77.3,70.0,74.5,79.3,75.8,79.6,69.7,64.4,78.0,73.1,51.9,74.7,83.4,74.4,73.3,76.3,76.5,83.0,68.7,75.1,52.8,67.3,55.3,83.5,42.3,84.0,77.0,73.2,79.0,75.0,68.1,51.9,65.1,68.0,74.3,66.1,73.0,72.1,71.4,75.2,59.7,63.7,82.0,75.2,72.2,66.7,76.3,76.2,71.4,56.0,79.0,57.4,80.0,62.2,64.2,59.8,46.0,56.1,69.2,72.7,73.6,73.3,54.8,72.8,75.2,64.7,75.0,47.4,63.3,76.2,51.0,64.1,58.9,49.6,72.4,72.8,53.1,59.2,62.3,53.3,69.1,58.2,68.4,73.1,69.4,79.8,73.7,56.1,52.5,70.0,48.2,66.2,73.2,73.4,74.8,81.2,77.5,73.9,69.9,77.2,81.0,74.9,73.3,73.5,65.0,53.8,88.0,67.0,71.7,78.1,77.3,71.0,87.0,58.0,68.7,71.1,61.0,72.9,52.0,51.5,66.2,74.9,56.7,67.7,56.2,82.4,71.1,72.8,53.8,55.9,79.5,81.0,79.5,72.8,75.1,48.6,44.5,84.0,65.5,75.0,67.3,58.1,51.1,65.8,75.0,73.6,79.4,82.4,69.4,78.4,73.3,62.9,72.1,76.6,54.4,74.3,53.8,69.4,73.0,72.3,73.0,74.3,69.1,74.8,65.6,66.0,65.7,74.9,71.5,56.2,81.1,58.9,85.0,72.9,73.9,53.5,48.0,81.0,75.0,74.1,69.3,82.3,77.4,74.7,67.6,73.7,78.2,73.6,73.1,52.0,81.4,67.2,56.7,72.6,64.2,74.9,79.4,78.3,73.9,66.1,57.2,62.0,59.3,65.3,72.9,71.9,81.3,73.8,82.0,59.4,79.5,77.0,59.4,67.8,60.0,66.4,44.6,78.0,67.7,79.2,75.9,74.5,73.9,65.1,65.6,61.8,73.0,73.2,69.5,62.3,67.5,82.0,76.3,76.5,75.3,51.6,68.0,46.4,68.1,57.3,64.0,74.7,51.9,75.5,71.7,66.0,68.7,73.1,57.2,66.6,62.4,73.2,77.9,71.0,79.5,68.0,74.4,73.7,45.3,48.1,63.7,49.6,63.1,74.7,62.6,55.0,74.9,58.7,71.6,75.0,61.9,53.4,47.7,56.9,78.0,79.9,59.3,65.8,61.4,50.0,79.9,72.6,55.5,69.6,61.0,63.5,74.8,75.5,73.0,69.0,67.2,73.8,54.0,47.7,81.7,52.4,75.8,59.3,73.0,56.5,59.1,53.5,79.6,55.3,67.0,74.4,69.8,54.8,75.6,74.2,55.0,74.5,67.3],\"y\":[58.087890625,70.6171875,82.58984375,76.373046875,53.314453125,64.998046875,73.94921875,73.658203125,77.66015625,67.513671875,75.138671875,75.615234375,43.599609375,51.2578125,74.353515625,74.896484375,78.388671875,77.59765625,80.078125,72.978515625,61.205078125,83.8515625,50.373046875,61.669921875,69.5859375,43.599609375,55.119140625,76.17578125,65.60546875,78.451171875,73.888671875,75.900390625,62.541015625,68.630859375,73.166015625,57.939453125,75.140625,70.244140625,77.12109375,75.39453125,60.390625,67.34765625,79.548828125,54.7734375,49.58203125,69.46875,79.767578125,67.734375,65.380859375,59.892578125,70.58203125,72.990234375,65.482421875,58.37890625,66.466796875,73.291015625,69.908203125,71.783203125,76.14453125,54.6640625,73.619140625,69.794921875,59.5,51.201171875,53.16796875,83.146484375,71.697265625,56.623046875,72.421875,72.203125,75.248046875,81.283203125,73.6484375,75.255859375,53.2109375,75.533203125,75.98046875,74.482421875,73.447265625,77.255859375,76.931640625,79.9765625,71.275390625,64.328125,76.982421875,66.591796875,74.419921875,79.79296875,78.30078125,77.513671875,63.150390625,80.998046875,82.189453125,78.451171875,66.498046875,54.845703125,74.529296875,67.626953125,65.216796875,81.76171875,68.83203125,51.720703125,74.529296875,76.82421875,57.11328125,76.107421875,56.322265625,74.32421875,63.083984375,69.27734375,83.701171875,71.166015625,83.54296875,61.373046875,74.978515625,80.560546875,84.5078125,73.830078125,60.212890625,75.412109375,71.84375,77.314453125,72.728515625,70.408203125,74.966796875,70.767578125,71.09765625,75.751953125,71.357421875,75.986328125,73.572265625,68.537109375,49.91796875,80.78125,81.525390625,74.52734375,81.150390625,65.791015625,79.591796875,83.080078125,73.373046875,72.521484375,63.7265625,81.591796875,75.212890625,60.189453125,79.91796875,57.40625,83.162109375,68.404296875,52.099609375,74.240234375,59.576171875,83.984375,77.158203125,77.326171875,73.3203125,78.466796875,59.296875,65.443359375,69.208984375,62.623046875,74.984375,53.095703125,50.814453125,72.548828125,65.96875,71.927734375,51.783203125,71.7734375,69.501953125,70.943359375,51.97265625,77.595703125,77.365234375,56.353515625,62.369140625,81.537109375,59.759765625,66.203125,60.4765625,49.84765625,73.556640625,74.029296875,75.771484375,72.916015625,63.681640625,74.322265625,79.775390625,78.31640625,73.984375,83.21484375,82.177734375,57.0546875,75.736328125,74.212890625,50.62890625,80.837890625,66.892578125,60.87890625,56.626953125,75.669921875,53.423828125,75.451171875,72.33203125,82.029296875,83.228515625,45.693359375,66.478515625,81.70703125,65.2890625,71.7421875,75.904296875,74.197265625,80.025390625,76.03515625,53.013671875,77.146484375,68.5078125,75.474609375,73.966796875,68.013671875,74.82421875,67.294921875,81.833984375,54.033203125,75.44921875,61.771484375,72.697265625,82.69140625,62.607421875,71.7734375,73.619140625,79.59765625,51.875,56.439453125,72.685546875,78.669921875,77.2265625,55.685546875,80.615234375,68.314453125,80.35546875,75.66015625,74.962890625,80.607421875,72.861328125,72.095703125,81.443359375,63.564453125,84.826171875,63.01953125,72.650390625,72.93359375,67.56640625,81.875,81.77734375,74.3125,80.068359375,72.5703125,74.400390625,72.140625,58.06640625,71.609375,48.8515625,61.23046875,74.978515625,48.98828125,60.697265625,53.619140625,79.037109375,65.546875,73.34765625,75.36328125,82.0234375,76.271484375,50.908203125,77.708984375,79.453125,70.359375,62.78515625,58.697265625,75.6875,75.720703125,58.38671875,73.892578125,77.353515625,76.494140625,71.8984375,75.046875,72.53515625,49.681640625,72.96875,74.708984375,73.845703125,81.544921875,53.853515625,69.474609375,75.32421875,44.802734375,71.26171875,74.22265625,69.193359375,73.783203125,77.306640625,60.43359375,55.533203125,65.603515625,55.984375,78.02734375,75.212890625,61.533203125,74.37109375,81.1640625,72.4375,67.244140625,62.552734375,69.0546875,71.453125,69.845703125,69.810546875,63.384765625,74.171875,71.802734375,53.251953125,74.056640625,71.568359375,71.626953125,80.013671875,53.177734375,74.890625,80.931640625,80.671875,73.689453125,67.861328125,63.462890625,61.03125,61.66015625,72.705078125,57.708984375,75.416015625,61.94921875,72.978515625,65.353515625,58.193359375,73.927734375,74.169921875,78.896484375,75.90234375,73.109375,72.025390625,52.41796875,66.474609375,74.537109375,73.36328125,69.5625,72.515625,75.28515625,60.34375,82.30078125,56.212890625,72.974609375,75.166015625,57.7890625,63.904296875,80.783203125,80.427734375,80.607421875,72.080078125,55.400390625,71.224609375,74.8984375,49.72265625,78.345703125,64.81640625,79.396484375,82.396484375,81.767578125,62.61328125,74.69140625,79.216796875,61.505859375,82.958984375,75.068359375,62.833984375,68.044921875,80.115234375,79.697265625,72.564453125,72.818359375,54.927734375,59.453125,48.84765625,80.572265625,72.955078125,73.763671875,68.337890625,79.02734375,80.927734375,69.91796875,69.64453125,72.5703125,67.365234375,70.548828125,62.369140625,62.84765625,60.259765625,68.271484375,69.462890625,79.52734375,63.345703125,53.94921875,56.505859375,80.748046875,74.1796875,67.248046875,71.666015625,66.17578125,71.974609375,77.697265625,71.142578125,74.703125,80.212890625,76.880859375,81.2421875,70.951171875,71.439453125,79.97265625,72.884765625,51.908203125,74.908203125,84.337890625,74.005859375,73.552734375,76.701171875,77.505859375,81.24609375,67.400390625,75.427734375,53.765625,67.416015625,55.84765625,84.74609375,43.890625,81.451171875,71.98828125,75.462890625,72.916015625,71.298828125,67.98828125,52.34375,65.076171875,67.55078125,75.166015625,66.5625,69.525390625,71.396484375,72.728515625,75.505859375,60.53125,64.390625,82.677734375,76.111328125,71.955078125,65.708984375,75.21484375,76.2578125,71.966796875,51.517578125,71.63671875,56.224609375,81.296875,62.708984375,63.333984375,58.9609375,40.634765625,56.484375,68.740234375,72.287109375,74.275390625,73.966796875,54.068359375,73.796875,75.076171875,69.08984375,75.2421875,48.80859375,63.31640625,76.22265625,49.93359375,63.5078125,62.037109375,49.880859375,73.564453125,73.865234375,53.970703125,59.662109375,63.375,53.572265625,69.529296875,58.759765625,67.76171875,71.15625,68.0859375,81.451171875,73.11328125,56.09375,52.490234375,70.08203125,48.13671875,67.439453125,71.970703125,73.044921875,75.439453125,82.169921875,77.845703125,72.4375,70.31640625,76.908203125,81.63671875,75.16796875,73.455078125,72.822265625,64.71484375,53.64453125,82.17578125,58.80859375,71.880859375,78.998046875,77.69140625,71.048828125,80.51171875,51.96875,67.501953125,71.232421875,62.0390625,73.79296875,53.103515625,51.67578125,66.36328125,75.65625,55.685546875,66.029296875,56.708984375,82.458984375,70.783203125,71.904296875,54.166015625,56.27734375,80.490234375,81.205078125,80.58984375,74.53125,75.4453125,49.134765625,42.697265625,82.912109375,65.693359375,71.12890625,67.38671875,58.5078125,52.86328125,65.34375,71.302734375,73.552734375,80.076171875,84.017578125,70.8359375,78.33984375,72.87109375,64.740234375,71.787109375,78.298828125,55.400390625,75.056640625,54.994140625,70.708984375,73.87109375,71.7109375,69.654296875,73.951171875,72.931640625,74.84765625,65.6015625,60.876953125,65.8046875,74.96875,70.54296875,55.318359375,82.71875,58.310546875,81.611328125,72.37109375,74.427734375,53.7265625,48.80078125,82.185546875,68.375,73.669921875,68.51953125,82.99609375,78.08203125,75.041015625,67.4140625,73.142578125,78.30078125,73.263671875,73.693359375,52.373046875,82.541015625,68.689453125,55.7734375,72.06640625,64.60546875,75.544921875,80.900390625,80.150390625,75.32421875,66.248046875,58.7109375,62.0390625,60.140625,63.841796875,74.556640625,73.0,82.76171875,72.43359375,80.220703125,61.017578125,80.705078125,70.34765625,59.619140625,68.91015625,59.69140625,66.43359375,45.662109375,79.32421875,68.59375,81.40625,76.837890625,74.951171875,74.48046875,67.08984375,64.943359375,58.947265625,75.111328125,73.232421875,70.1640625,61.296875,67.8203125,82.548828125,77.185546875,77.109375,75.61328125,52.142578125,60.884765625,43.63671875,69.41015625,57.064453125,61.466796875,75.033203125,52.875,76.111328125,72.1484375,67.107421875,69.318359375,73.984375,57.80078125,66.142578125,62.490234375,72.267578125,78.755859375,71.6875,81.578125,62.0078125,74.560546875,74.591796875,45.583984375,50.96484375,64.234375,52.5078125,63.173828125,73.6953125,60.830078125,55.869140625,75.087890625,61.689453125,71.923828125,75.203125,62.94140625,56.62109375,47.421875,58.876953125,67.09375,80.396484375,59.611328125,67.578125,59.552734375,49.208984375,80.1875,72.3515625,55.265625,69.552734375,61.09375,63.060546875,74.5078125,76.869140625,72.046875,70.50390625,67.451171875,73.3203125,54.44921875,46.52734375,83.267578125,53.001953125,76.283203125,56.736328125,70.7109375,55.947265625,60.447265625,54.97265625,81.5,56.82421875,69.01953125,74.2734375,71.185546875,55.9453125,76.525390625,75.3125,55.53515625,74.962890625,67.52734375],\"type\":\"scatter\"}],                        {\"template\":{\"data\":{\"histogram2dcontour\":[{\"type\":\"histogram2dcontour\",\"colorbar\":{\"outlinewidth\":0,\"ticks\":\"\"},\"colorscale\":[[0.0,\"#0d0887\"],[0.1111111111111111,\"#46039f\"],[0.2222222222222222,\"#7201a8\"],[0.3333333333333333,\"#9c179e\"],[0.4444444444444444,\"#bd3786\"],[0.5555555555555556,\"#d8576b\"],[0.6666666666666666,\"#ed7953\"],[0.7777777777777778,\"#fb9f3a\"],[0.8888888888888888,\"#fdca26\"],[1.0,\"#f0f921\"]]}],\"choropleth\":[{\"type\":\"choropleth\",\"colorbar\":{\"outlinewidth\":0,\"ticks\":\"\"}}],\"histogram2d\":[{\"type\":\"histogram2d\",\"colorbar\":{\"outlinewidth\":0,\"ticks\":\"\"},\"colorscale\":[[0.0,\"#0d0887\"],[0.1111111111111111,\"#46039f\"],[0.2222222222222222,\"#7201a8\"],[0.3333333333333333,\"#9c179e\"],[0.4444444444444444,\"#bd3786\"],[0.5555555555555556,\"#d8576b\"],[0.6666666666666666,\"#ed7953\"],[0.7777777777777778,\"#fb9f3a\"],[0.8888888888888888,\"#fdca26\"],[1.0,\"#f0f921\"]]}],\"heatmap\":[{\"type\":\"heatmap\",\"colorbar\":{\"outlinewidth\":0,\"ticks\":\"\"},\"colorscale\":[[0.0,\"#0d0887\"],[0.1111111111111111,\"#46039f\"],[0.2222222222222222,\"#7201a8\"],[0.3333333333333333,\"#9c179e\"],[0.4444444444444444,\"#bd3786\"],[0.5555555555555556,\"#d8576b\"],[0.6666666666666666,\"#ed7953\"],[0.7777777777777778,\"#fb9f3a\"],[0.8888888888888888,\"#fdca26\"],[1.0,\"#f0f921\"]]}],\"heatmapgl\":[{\"type\":\"heatmapgl\",\"colorbar\":{\"outlinewidth\":0,\"ticks\":\"\"},\"colorscale\":[[0.0,\"#0d0887\"],[0.1111111111111111,\"#46039f\"],[0.2222222222222222,\"#7201a8\"],[0.3333333333333333,\"#9c179e\"],[0.4444444444444444,\"#bd3786\"],[0.5555555555555556,\"#d8576b\"],[0.6666666666666666,\"#ed7953\"],[0.7777777777777778,\"#fb9f3a\"],[0.8888888888888888,\"#fdca26\"],[1.0,\"#f0f921\"]]}],\"contourcarpet\":[{\"type\":\"contourcarpet\",\"colorbar\":{\"outlinewidth\":0,\"ticks\":\"\"}}],\"contour\":[{\"type\":\"contour\",\"colorbar\":{\"outlinewidth\":0,\"ticks\":\"\"},\"colorscale\":[[0.0,\"#0d0887\"],[0.1111111111111111,\"#46039f\"],[0.2222222222222222,\"#7201a8\"],[0.3333333333333333,\"#9c179e\"],[0.4444444444444444,\"#bd3786\"],[0.5555555555555556,\"#d8576b\"],[0.6666666666666666,\"#ed7953\"],[0.7777777777777778,\"#fb9f3a\"],[0.8888888888888888,\"#fdca26\"],[1.0,\"#f0f921\"]]}],\"surface\":[{\"type\":\"surface\",\"colorbar\":{\"outlinewidth\":0,\"ticks\":\"\"},\"colorscale\":[[0.0,\"#0d0887\"],[0.1111111111111111,\"#46039f\"],[0.2222222222222222,\"#7201a8\"],[0.3333333333333333,\"#9c179e\"],[0.4444444444444444,\"#bd3786\"],[0.5555555555555556,\"#d8576b\"],[0.6666666666666666,\"#ed7953\"],[0.7777777777777778,\"#fb9f3a\"],[0.8888888888888888,\"#fdca26\"],[1.0,\"#f0f921\"]]}],\"mesh3d\":[{\"type\":\"mesh3d\",\"colorbar\":{\"outlinewidth\":0,\"ticks\":\"\"}}],\"scatter\":[{\"fillpattern\":{\"fillmode\":\"overlay\",\"size\":10,\"solidity\":0.2},\"type\":\"scatter\"}],\"parcoords\":[{\"type\":\"parcoords\",\"line\":{\"colorbar\":{\"outlinewidth\":0,\"ticks\":\"\"}}}],\"scatterpolargl\":[{\"type\":\"scatterpolargl\",\"marker\":{\"colorbar\":{\"outlinewidth\":0,\"ticks\":\"\"}}}],\"bar\":[{\"error_x\":{\"color\":\"#2a3f5f\"},\"error_y\":{\"color\":\"#2a3f5f\"},\"marker\":{\"line\":{\"color\":\"#E5ECF6\",\"width\":0.5},\"pattern\":{\"fillmode\":\"overlay\",\"size\":10,\"solidity\":0.2}},\"type\":\"bar\"}],\"scattergeo\":[{\"type\":\"scattergeo\",\"marker\":{\"colorbar\":{\"outlinewidth\":0,\"ticks\":\"\"}}}],\"scatterpolar\":[{\"type\":\"scatterpolar\",\"marker\":{\"colorbar\":{\"outlinewidth\":0,\"ticks\":\"\"}}}],\"histogram\":[{\"marker\":{\"pattern\":{\"fillmode\":\"overlay\",\"size\":10,\"solidity\":0.2}},\"type\":\"histogram\"}],\"scattergl\":[{\"type\":\"scattergl\",\"marker\":{\"colorbar\":{\"outlinewidth\":0,\"ticks\":\"\"}}}],\"scatter3d\":[{\"type\":\"scatter3d\",\"line\":{\"colorbar\":{\"outlinewidth\":0,\"ticks\":\"\"}},\"marker\":{\"colorbar\":{\"outlinewidth\":0,\"ticks\":\"\"}}}],\"scattermapbox\":[{\"type\":\"scattermapbox\",\"marker\":{\"colorbar\":{\"outlinewidth\":0,\"ticks\":\"\"}}}],\"scatterternary\":[{\"type\":\"scatterternary\",\"marker\":{\"colorbar\":{\"outlinewidth\":0,\"ticks\":\"\"}}}],\"scattercarpet\":[{\"type\":\"scattercarpet\",\"marker\":{\"colorbar\":{\"outlinewidth\":0,\"ticks\":\"\"}}}],\"carpet\":[{\"aaxis\":{\"endlinecolor\":\"#2a3f5f\",\"gridcolor\":\"white\",\"linecolor\":\"white\",\"minorgridcolor\":\"white\",\"startlinecolor\":\"#2a3f5f\"},\"baxis\":{\"endlinecolor\":\"#2a3f5f\",\"gridcolor\":\"white\",\"linecolor\":\"white\",\"minorgridcolor\":\"white\",\"startlinecolor\":\"#2a3f5f\"},\"type\":\"carpet\"}],\"table\":[{\"cells\":{\"fill\":{\"color\":\"#EBF0F8\"},\"line\":{\"color\":\"white\"}},\"header\":{\"fill\":{\"color\":\"#C8D4E3\"},\"line\":{\"color\":\"white\"}},\"type\":\"table\"}],\"barpolar\":[{\"marker\":{\"line\":{\"color\":\"#E5ECF6\",\"width\":0.5},\"pattern\":{\"fillmode\":\"overlay\",\"size\":10,\"solidity\":0.2}},\"type\":\"barpolar\"}],\"pie\":[{\"automargin\":true,\"type\":\"pie\"}]},\"layout\":{\"autotypenumbers\":\"strict\",\"colorway\":[\"#636efa\",\"#EF553B\",\"#00cc96\",\"#ab63fa\",\"#FFA15A\",\"#19d3f3\",\"#FF6692\",\"#B6E880\",\"#FF97FF\",\"#FECB52\"],\"font\":{\"color\":\"#2a3f5f\"},\"hovermode\":\"closest\",\"hoverlabel\":{\"align\":\"left\"},\"paper_bgcolor\":\"white\",\"plot_bgcolor\":\"#E5ECF6\",\"polar\":{\"bgcolor\":\"#E5ECF6\",\"angularaxis\":{\"gridcolor\":\"white\",\"linecolor\":\"white\",\"ticks\":\"\"},\"radialaxis\":{\"gridcolor\":\"white\",\"linecolor\":\"white\",\"ticks\":\"\"}},\"ternary\":{\"bgcolor\":\"#E5ECF6\",\"aaxis\":{\"gridcolor\":\"white\",\"linecolor\":\"white\",\"ticks\":\"\"},\"baxis\":{\"gridcolor\":\"white\",\"linecolor\":\"white\",\"ticks\":\"\"},\"caxis\":{\"gridcolor\":\"white\",\"linecolor\":\"white\",\"ticks\":\"\"}},\"coloraxis\":{\"colorbar\":{\"outlinewidth\":0,\"ticks\":\"\"}},\"colorscale\":{\"sequential\":[[0.0,\"#0d0887\"],[0.1111111111111111,\"#46039f\"],[0.2222222222222222,\"#7201a8\"],[0.3333333333333333,\"#9c179e\"],[0.4444444444444444,\"#bd3786\"],[0.5555555555555556,\"#d8576b\"],[0.6666666666666666,\"#ed7953\"],[0.7777777777777778,\"#fb9f3a\"],[0.8888888888888888,\"#fdca26\"],[1.0,\"#f0f921\"]],\"sequentialminus\":[[0.0,\"#0d0887\"],[0.1111111111111111,\"#46039f\"],[0.2222222222222222,\"#7201a8\"],[0.3333333333333333,\"#9c179e\"],[0.4444444444444444,\"#bd3786\"],[0.5555555555555556,\"#d8576b\"],[0.6666666666666666,\"#ed7953\"],[0.7777777777777778,\"#fb9f3a\"],[0.8888888888888888,\"#fdca26\"],[1.0,\"#f0f921\"]],\"diverging\":[[0,\"#8e0152\"],[0.1,\"#c51b7d\"],[0.2,\"#de77ae\"],[0.3,\"#f1b6da\"],[0.4,\"#fde0ef\"],[0.5,\"#f7f7f7\"],[0.6,\"#e6f5d0\"],[0.7,\"#b8e186\"],[0.8,\"#7fbc41\"],[0.9,\"#4d9221\"],[1,\"#276419\"]]},\"xaxis\":{\"gridcolor\":\"white\",\"linecolor\":\"white\",\"ticks\":\"\",\"title\":{\"standoff\":15},\"zerolinecolor\":\"white\",\"automargin\":true,\"zerolinewidth\":2},\"yaxis\":{\"gridcolor\":\"white\",\"linecolor\":\"white\",\"ticks\":\"\",\"title\":{\"standoff\":15},\"zerolinecolor\":\"white\",\"automargin\":true,\"zerolinewidth\":2},\"scene\":{\"xaxis\":{\"backgroundcolor\":\"#E5ECF6\",\"gridcolor\":\"white\",\"linecolor\":\"white\",\"showbackground\":true,\"ticks\":\"\",\"zerolinecolor\":\"white\",\"gridwidth\":2},\"yaxis\":{\"backgroundcolor\":\"#E5ECF6\",\"gridcolor\":\"white\",\"linecolor\":\"white\",\"showbackground\":true,\"ticks\":\"\",\"zerolinecolor\":\"white\",\"gridwidth\":2},\"zaxis\":{\"backgroundcolor\":\"#E5ECF6\",\"gridcolor\":\"white\",\"linecolor\":\"white\",\"showbackground\":true,\"ticks\":\"\",\"zerolinecolor\":\"white\",\"gridwidth\":2}},\"shapedefaults\":{\"line\":{\"color\":\"#2a3f5f\"}},\"annotationdefaults\":{\"arrowcolor\":\"#2a3f5f\",\"arrowhead\":0,\"arrowwidth\":1},\"geo\":{\"bgcolor\":\"white\",\"landcolor\":\"#E5ECF6\",\"subunitcolor\":\"white\",\"showland\":true,\"showlakes\":true,\"lakecolor\":\"white\"},\"title\":{\"x\":0.05},\"mapbox\":{\"style\":\"light\"}}},\"title\":{\"text\":\"Visualization of predictions | sklearn linear regression | MAE: 1.1751750341530054\"},\"xaxis\":{\"title\":{\"text\":\"Real values\"},\"range\":[0,100],\"scaleratio\":1},\"yaxis\":{\"title\":{\"text\":\"Predicted values\"},\"range\":[0,100],\"scaleratio\":1}},                        {\"responsive\": true}                    ).then(function(){\n                            \nvar gd = document.getElementById('4544667a-db67-41d2-b4a2-a9ef3bc6efbf');\nvar x = new MutationObserver(function (mutations, observer) {{\n        var display = window.getComputedStyle(gd).display;\n        if (!display || display === 'none') {{\n            console.log([gd, 'removed!']);\n            Plotly.purge(gd);\n            observer.disconnect();\n        }}\n}});\n\n// Listen for the removal of the full notebook cells\nvar notebookContainer = gd.closest('#notebook-container');\nif (notebookContainer) {{\n    x.observe(notebookContainer, {childList: true});\n}}\n\n// Listen for the clearing of the current output cell\nvar outputEl = gd.closest('.output');\nif (outputEl) {{\n    x.observe(outputEl, {childList: true});\n}}\n\n                        })                };                            </script>        </div>\n</body>\n</html>"
     },
     "metadata": {},
     "output_type": "display_data"
    }
   ]
  },
  {
   "cell_type": "markdown",
   "source": "* * Použiju nyní kod ze cvičení k ladění hyperparametru alpha pro Ridge model.",
   "metadata": {
    "tags": [],
    "cell_id": "00151-29bc7cb8-ff57-43d9-a1e5-5de4b4ea68f5",
    "deepnote_cell_type": "markdown",
    "deepnote_cell_height": 69.390625
   }
  },
  {
   "cell_type": "code",
   "metadata": {
    "tags": [],
    "cell_id": "00151-c97c078a-0b85-42a6-b89a-a08304118d54",
    "deepnote_to_be_reexecuted": false,
    "source_hash": "40575d98",
    "execution_start": 1661363088740,
    "execution_millis": 13,
    "deepnote_cell_type": "code",
    "deepnote_cell_height": 238
   },
   "source": "from typing import Callable\nfrom sklearn.model_selection import cross_val_score\nimport numpy as np\n\ndef ridge_model(X, y) -> Callable[[float], float]:\n    def inner(alpha: float) -> float:\n        model = Ridge(alpha=alpha)\n        return -np.mean(cross_val_score(model, X, y, cv=5, scoring='neg_mean_absolute_error'))\n    \n    return inner",
   "execution_count": 104,
   "outputs": []
  },
  {
   "cell_type": "code",
   "metadata": {
    "tags": [],
    "cell_id": "00152-516128d6-20ad-4022-b0a6-e8304f69234a",
    "deepnote_to_be_reexecuted": false,
    "source_hash": "4005abbb",
    "execution_start": 1661363088775,
    "execution_millis": 2,
    "deepnote_cell_type": "code",
    "deepnote_cell_height": 310
   },
   "source": "from scipy import optimize\nfrom typing import Tuple\n\ndef get_ridge_model(X, y) -> Tuple[Ridge, float]:\n    opt_function = ridge_model(X, y)\n    \n    opt_alpha = optimize.minimize_scalar(\n        opt_function, options={'maxiter': 50}, method='bounded', bounds=(0.1, 400)\n    )\n    \n    best_model = Ridge(alpha=opt_alpha.x)\n    best_model.fit(X, y)\n\n    return best_model, opt_alpha.x",
   "execution_count": 105,
   "outputs": []
  },
  {
   "cell_type": "code",
   "metadata": {
    "tags": [],
    "cell_id": "00153-bd8d2079-dda8-44cd-af86-715bba11d937",
    "deepnote_to_be_reexecuted": false,
    "source_hash": "259fd992",
    "execution_start": 1661363088826,
    "execution_millis": 11533,
    "deepnote_cell_type": "code",
    "deepnote_cell_height": 76
   },
   "source": "rr_model, best_alpha = get_ridge_model(X, Y)",
   "execution_count": 106,
   "outputs": []
  },
  {
   "cell_type": "code",
   "metadata": {
    "tags": [],
    "cell_id": "00154-ec1fd0cb-563e-4575-88eb-ad067245975e",
    "deepnote_to_be_reexecuted": false,
    "source_hash": "99396d2f",
    "execution_start": 1661363100363,
    "execution_millis": 650,
    "deepnote_cell_type": "code",
    "deepnote_cell_height": 107
   },
   "source": "print(\"Nejlepší hodnota parametru alpha je: {}\".format(best_alpha))",
   "execution_count": 107,
   "outputs": [
    {
     "name": "stdout",
     "text": "Nejlepší hodnota parametru alpha je: 0.10000406819977517\n",
     "output_type": "stream"
    }
   ]
  },
  {
   "cell_type": "markdown",
   "source": "* * Predikuji pro hřebenovou regresi.",
   "metadata": {
    "tags": [],
    "cell_id": "00156-aafca60d-2789-4421-b5f8-13e93c40c090",
    "deepnote_cell_type": "markdown",
    "deepnote_cell_height": 116.390625
   }
  },
  {
   "cell_type": "code",
   "metadata": {
    "tags": [],
    "cell_id": "00154-b1f7d710-240f-4857-a226-c5d3647271a4",
    "deepnote_to_be_reexecuted": false,
    "source_hash": "a4d6bea4",
    "execution_start": 1661363100427,
    "execution_millis": 604,
    "deepnote_cell_type": "code",
    "deepnote_cell_height": 618,
    "deepnote_output_heights": [
     526
    ]
   },
   "source": "plot_prediction_results(\"scikit ridge regression\", Y_test, rr_model.predict(X_test))",
   "execution_count": 108,
   "outputs": [
    {
     "data": {
      "text/html": "<html>\n<head><meta charset=\"utf-8\" /></head>\n<body>\n    <div>            <script src=\"https://cdnjs.cloudflare.com/ajax/libs/mathjax/2.7.5/MathJax.js?config=TeX-AMS-MML_SVG\"></script><script type=\"text/javascript\">if (window.MathJax && window.MathJax.Hub && window.MathJax.Hub.Config) {window.MathJax.Hub.Config({SVG: {font: \"STIX-Web\"}});}</script>                <script type=\"text/javascript\">window.PlotlyConfig = {MathJaxConfig: 'local'};</script>\n        <script src=\"https://cdn.plot.ly/plotly-2.12.1.min.js\"></script>                <div id=\"82760747-350c-498a-beae-554eb307662b\" class=\"plotly-graph-div\" style=\"height:525px; width:100%;\"></div>            <script type=\"text/javascript\">                                    window.PLOTLYENV=window.PLOTLYENV || {};                                    if (document.getElementById(\"82760747-350c-498a-beae-554eb307662b\")) {                    Plotly.newPlot(                        \"82760747-350c-498a-beae-554eb307662b\",                        [{\"mode\":\"lines\",\"name\":\"y = \\u0177\",\"x\":[0,100],\"y\":[0,100],\"type\":\"scatter\"},{\"mode\":\"markers\",\"name\":\"(test, prediction)\",\"x\":[56.5,73.0,82.5,75.6,53.0,65.2,72.4,74.1,77.0,67.8,73.1,75.1,44.3,47.9,74.3,74.6,78.4,77.7,79.1,73.3,62.8,82.5,54.0,63.4,72.0,47.8,52.1,75.1,65.6,78.4,73.9,76.3,61.2,69.6,72.7,57.9,74.5,69.4,77.0,75.4,57.7,67.3,78.5,54.2,47.6,68.9,79.4,67.6,63.3,59.8,71.7,73.2,66.5,58.6,67.7,72.8,69.2,72.8,76.4,53.3,72.5,69.0,59.4,56.0,54.1,81.9,64.5,55.3,73.0,72.4,75.5,85.0,74.1,75.6,53.2,75.2,74.9,74.7,73.3,77.3,75.9,83.0,71.3,63.8,76.8,65.9,74.1,79.1,77.8,77.5,62.2,79.5,81.1,77.7,65.3,51.9,74.7,67.3,66.2,84.0,69.6,51.2,74.6,76.9,58.0,75.6,57.4,75.7,63.3,67.3,82.1,71.0,81.8,62.9,75.3,83.0,82.7,72.9,59.8,75.2,73.0,76.0,72.2,71.1,74.3,70.0,69.5,74.4,69.9,75.6,73.6,67.9,54.0,81.5,86.0,74.0,79.0,64.4,79.0,82.5,72.8,71.6,64.0,81.5,74.6,56.5,78.7,55.3,81.6,67.1,52.1,74.9,59.9,82.0,77.5,76.5,73.5,76.5,57.9,66.8,68.7,61.3,74.7,54.6,49.2,72.6,66.5,77.0,51.2,71.9,67.6,71.0,51.3,77.2,76.7,55.7,62.8,87.0,59.6,65.3,67.0,43.8,73.6,73.6,75.6,73.5,62.9,74.2,78.5,78.0,73.8,81.7,82.0,57.6,74.8,73.9,51.7,79.8,67.5,62.3,56.4,75.3,51.9,74.8,72.5,80.0,81.6,45.3,66.1,79.4,65.0,71.6,75.8,73.6,79.1,76.0,52.0,76.3,68.3,74.4,74.1,68.1,72.7,67.1,81.0,52.4,75.7,61.0,73.5,81.3,69.0,71.4,73.3,79.3,51.6,57.3,73.0,76.6,77.0,58.6,78.8,68.0,79.8,74.9,73.9,79.3,72.1,71.7,79.9,62.1,83.0,62.2,73.1,73.0,67.7,79.8,81.7,75.2,79.4,72.2,74.0,71.2,55.0,71.0,46.3,59.5,75.2,51.4,58.5,52.5,79.2,65.5,73.3,75.4,82.1,76.7,54.0,76.4,78.0,77.0,61.6,58.0,76.0,74.7,59.0,73.5,77.5,75.4,71.0,75.4,77.0,48.2,72.6,74.5,72.8,79.3,53.1,67.7,75.0,46.0,71.4,72.9,68.7,72.5,77.1,60.0,55.3,65.0,56.3,78.0,74.6,63.8,74.3,81.3,71.6,66.2,61.3,68.8,72.1,69.0,68.9,62.8,74.2,72.0,58.0,73.9,69.8,76.0,79.3,48.9,74.3,79.7,79.9,72.1,67.1,63.7,68.0,62.5,72.3,67.0,75.0,61.8,72.0,64.4,58.4,73.3,74.7,77.5,75.7,73.0,79.0,52.7,66.0,75.0,74.1,69.9,72.3,75.4,59.1,79.9,56.5,71.1,75.4,57.4,63.8,84.0,79.3,79.1,73.0,54.5,71.1,74.2,51.4,76.0,63.9,77.7,80.0,82.0,63.9,73.5,78.9,66.0,81.3,73.0,64.0,68.2,79.0,78.1,72.0,73.5,55.0,62.1,49.7,86.0,73.1,72.3,68.0,78.3,80.0,71.6,66.8,73.3,65.7,73.0,62.6,61.4,60.0,68.2,66.5,78.2,63.5,52.7,59.3,86.0,74.4,71.3,78.0,66.0,63.6,77.3,70.0,74.5,79.3,75.8,79.6,69.7,64.4,78.0,73.1,51.9,74.7,83.4,74.4,73.3,76.3,76.5,83.0,68.7,75.1,52.8,67.3,55.3,83.5,42.3,84.0,77.0,73.2,79.0,75.0,68.1,51.9,65.1,68.0,74.3,66.1,73.0,72.1,71.4,75.2,59.7,63.7,82.0,75.2,72.2,66.7,76.3,76.2,71.4,56.0,79.0,57.4,80.0,62.2,64.2,59.8,46.0,56.1,69.2,72.7,73.6,73.3,54.8,72.8,75.2,64.7,75.0,47.4,63.3,76.2,51.0,64.1,58.9,49.6,72.4,72.8,53.1,59.2,62.3,53.3,69.1,58.2,68.4,73.1,69.4,79.8,73.7,56.1,52.5,70.0,48.2,66.2,73.2,73.4,74.8,81.2,77.5,73.9,69.9,77.2,81.0,74.9,73.3,73.5,65.0,53.8,88.0,67.0,71.7,78.1,77.3,71.0,87.0,58.0,68.7,71.1,61.0,72.9,52.0,51.5,66.2,74.9,56.7,67.7,56.2,82.4,71.1,72.8,53.8,55.9,79.5,81.0,79.5,72.8,75.1,48.6,44.5,84.0,65.5,75.0,67.3,58.1,51.1,65.8,75.0,73.6,79.4,82.4,69.4,78.4,73.3,62.9,72.1,76.6,54.4,74.3,53.8,69.4,73.0,72.3,73.0,74.3,69.1,74.8,65.6,66.0,65.7,74.9,71.5,56.2,81.1,58.9,85.0,72.9,73.9,53.5,48.0,81.0,75.0,74.1,69.3,82.3,77.4,74.7,67.6,73.7,78.2,73.6,73.1,52.0,81.4,67.2,56.7,72.6,64.2,74.9,79.4,78.3,73.9,66.1,57.2,62.0,59.3,65.3,72.9,71.9,81.3,73.8,82.0,59.4,79.5,77.0,59.4,67.8,60.0,66.4,44.6,78.0,67.7,79.2,75.9,74.5,73.9,65.1,65.6,61.8,73.0,73.2,69.5,62.3,67.5,82.0,76.3,76.5,75.3,51.6,68.0,46.4,68.1,57.3,64.0,74.7,51.9,75.5,71.7,66.0,68.7,73.1,57.2,66.6,62.4,73.2,77.9,71.0,79.5,68.0,74.4,73.7,45.3,48.1,63.7,49.6,63.1,74.7,62.6,55.0,74.9,58.7,71.6,75.0,61.9,53.4,47.7,56.9,78.0,79.9,59.3,65.8,61.4,50.0,79.9,72.6,55.5,69.6,61.0,63.5,74.8,75.5,73.0,69.0,67.2,73.8,54.0,47.7,81.7,52.4,75.8,59.3,73.0,56.5,59.1,53.5,79.6,55.3,67.0,74.4,69.8,54.8,75.6,74.2,55.0,74.5,67.3],\"y\":[57.98605325799568,70.51914445134764,82.55194437469089,76.74281702386062,53.538616907476495,64.98446404391021,73.733880100394,74.08280040907708,77.75663493938198,67.57045387302864,75.10138165604164,75.50620140920532,43.26557853441906,51.09439928786905,74.41556098654344,74.83137927975918,78.30296484182244,77.60770683517522,80.08025930298032,72.96514735997164,61.455752191468626,83.86446474053855,50.44990502863233,61.83592641598791,69.36147365992183,43.41830988636062,55.11418208152443,76.2352769597871,65.70091535704856,78.47761734889546,73.94409750564328,75.77015581803198,62.48865853298975,68.80457082258043,73.11144267157313,57.76420152727207,75.17984740733807,70.19293515874774,77.06457318803868,75.2734225633259,60.10188502509599,67.43731522466241,79.6181547818824,54.69834846698571,49.63717416330644,69.59576700417553,79.75123882001523,67.80442538927065,65.279013709215,59.9257943075324,70.49792127462484,73.47319566260512,65.32455697785042,58.56238161958014,66.51233234469622,73.30144433731378,69.87324806832909,71.6400530933185,75.94386640374725,54.39529075498882,73.56432622189318,69.73603315599367,59.91070050812083,51.468341454181434,53.24215786745975,83.10662933634342,71.04168506989166,56.938635766013206,72.9033179882434,72.19812655920197,75.03252213687284,81.18712296471377,73.71816624998739,75.33490362390503,53.26929378832612,75.57087813288572,75.93792039806895,74.42841331983884,73.45199882512799,77.05417639439526,77.40542926964528,79.79338233348294,71.36632344336017,64.07722792702367,76.60022399947098,66.81571370040822,74.45674188257479,79.8003441190033,78.25379996163302,77.34067020994911,63.140231348601986,81.11507186781611,82.02341334957808,78.51753349554586,66.54914998279516,55.07115388850148,74.55098592335227,67.88704663578598,64.94085147334089,81.97781200301179,68.72289261227327,51.54244573885484,74.88953167922523,76.85909038718864,57.840174657160745,76.00909427180046,56.18011978120109,72.95842763676444,63.09297960542117,69.58906120425124,83.74898604237941,71.43903693170384,83.43363904477863,61.49015648384489,74.9931304641718,80.77459619811415,84.44645177316062,73.96845676935668,60.12583689588344,75.40286136739599,71.55573669824001,76.2211274776477,72.6908733724366,70.22873645407802,74.88158370179418,70.84463270511849,71.03968692107917,75.81170033008762,71.48345583711334,76.19275209146554,73.58204538454275,68.80173102711704,50.33620352108804,80.94934035975112,81.48896836312632,74.25328772032631,81.26109393407677,65.83156950334543,79.43961309697583,82.71115620377566,73.28928065725442,72.41376666956883,63.60059072468095,81.40695801557011,75.1983915938471,60.70939753704664,80.05486136009873,57.52232460463868,82.92759530389444,68.56358236892451,52.51801456320434,74.29398329938752,59.72538003754118,84.02492265922555,77.20678863793181,77.15192781898489,73.29208107082543,78.55138201941314,59.09799721249034,65.4819255413022,69.29583896897381,62.636605088006164,75.00102189950007,53.043438352383575,50.85721292445513,72.35830889549479,65.93090271673908,71.88711952065698,51.92982021599889,71.72393765657074,69.547389625031,70.80060459042409,51.968305072131145,77.61506917068887,77.24072362548252,56.444071475774564,62.32703583219314,81.52914333627339,59.72258099844332,66.18003775823227,60.604036454666186,49.732829021909254,73.28316363107096,74.17285474972623,75.65041695804254,72.89810390548678,63.78662758000741,74.6137840679024,79.69431617120618,78.19453658814493,73.89736034886597,83.58319636149776,82.31755746995798,57.437166695648806,75.59300481061858,74.11017826141206,50.59587768152588,80.9196873618587,66.96801121523832,60.935609903788155,56.81180237052485,75.34386367185924,53.51661099161987,76.11596467504113,72.39741230194497,82.17863423833572,83.50618289570767,45.67858225531632,66.41076525976679,81.81326031747719,65.21005244030256,71.4552337771502,75.91061062564054,74.00216812002722,79.9852205303618,75.96265734698285,53.159405074440706,76.98298325539638,68.9201515866192,75.67076831074118,73.96399575413571,68.02377525427798,74.78004166924516,67.14599177244598,81.83485792866017,53.85578667038725,75.30800588843145,61.95134289084846,71.49029327207,82.53524669176912,62.73225901453107,71.90747442600613,73.85138606377258,79.67198091414808,51.69045017927385,56.644899494345395,72.60308182570262,78.64851733514826,77.28799392564413,55.52663704268663,80.94268282689379,68.51674648306238,80.36622268807582,75.5998607759871,75.02371740375003,80.86744301727268,72.9035749803713,71.84696839699497,81.53441409185031,64.03810084817701,84.75124820622699,63.18497153461005,72.50725509085561,72.8227242272914,67.63030370321346,81.93420781130946,81.56277583734945,74.26467066031204,80.06124666435718,72.64153237986606,73.54324152677731,72.04009749504007,58.380169248457015,71.60693921363887,49.08693963214627,61.292873505895955,74.94107529064004,48.941060089147626,60.41406882310848,53.65363633797807,78.83480378497885,65.51640137849944,73.24332858006218,75.76055114573363,82.18004022494578,76.24164320969888,50.83941740249308,77.55336724965356,79.56443069143604,70.20231676593482,62.89843023268041,58.557953787707284,75.67824087317784,75.29510587466157,58.45563113385694,73.71417604922469,77.08861208421989,77.09868157221852,71.75626926936506,75.08502879821366,72.48781809270064,49.747035116874585,72.95111865489818,74.62202676676749,73.74293081684877,81.55591269355381,53.82939533327295,69.47484726803596,75.65701740052866,45.27805340018887,71.15564559408638,74.2732722545449,69.26220722009475,73.85817749843801,77.2018168773013,60.45523487536286,55.88978756949014,65.5604282202789,56.192262896633004,77.79894559310536,75.2807652445168,60.68958213656764,74.5360539928043,80.95998615948298,72.42362300428186,67.59068653813087,62.6638191766291,69.30566677361165,71.43668186656188,69.78929537595756,69.99540987422287,63.03329473969143,74.17367986481628,71.83991112146627,53.33968156491826,73.95428753492898,71.5069387010201,71.50118148222697,79.8598566091229,53.758939375662806,74.91983763240574,80.88934503372195,80.64097967577017,73.65851925016298,67.96075846491422,63.28176640081093,60.96469544937882,61.5893682563327,72.61876726509149,57.90711441232525,75.76796872179301,62.06199393389027,72.91007311323959,65.32929512888097,58.57669611265802,73.65853517666636,74.15227303381249,79.03414850978211,75.81930632157423,73.1601504165884,71.88772067160106,52.73916618696625,66.56566035806274,74.48083855984743,73.35516726093836,69.19532179725995,72.35595457051483,75.20250059057697,60.42402220562105,82.3800288502998,56.45304436178011,73.06089931042028,75.08786973166008,58.096914536602256,63.888586539914826,80.65912444717073,80.46559961537626,80.73859914756439,72.0156700786031,55.26879617583872,71.28026306496345,75.03852700822708,50.066015661320705,78.47935420067299,64.80961432015822,79.34038398741804,82.40205854727523,81.65233414840247,62.699595703693475,74.85246735158982,79.18234669981592,61.63611081691485,83.06104463584913,74.88896930488526,62.77320445301427,67.97681760661905,80.21024526448562,79.9092449857287,72.35660235780122,72.60571804813499,54.82639757447471,59.40782236621961,49.050496058526335,80.41319532851819,73.06833271366492,73.58350435517058,68.22995582285178,79.10637135549835,80.98933598654435,69.56699322468572,69.61783355881023,72.58091288164925,67.4010883203463,70.57842448309734,62.20057343410577,62.952320410614696,60.343569833874994,68.30204742678168,69.37962184650416,79.57412535827298,63.60247745753073,53.325168999922454,56.38629369433217,80.59725044004986,74.01607409367286,66.55361118937302,71.51909357908278,66.28124139396024,71.82218110051528,77.77927526056612,71.0394877857821,74.43593543239096,80.14734483388668,77.1379025078359,81.21344134793877,70.98184300229526,70.74721315019136,80.3302159491387,72.56806028921437,51.90091756177009,74.66672529641751,83.92667200221608,73.99460802421913,73.51256387972899,76.39210579729318,77.38704324107752,81.33304086950326,67.75071634029771,75.43042629234695,53.94697076195343,67.50341734165134,55.658456807464496,84.34592379651961,43.95809037981232,81.36495585483867,72.04847286479712,75.40503529859339,72.89193765219963,71.29400362630851,68.02630904856014,52.28477350465243,64.97571681328427,67.52589067339049,75.31550651788646,66.48214321097706,69.4542837341795,71.2769055295424,72.57457402543983,75.72423413519701,60.70594361105334,64.53387364852972,82.30709288300093,76.03176364345069,71.90866005661536,65.42907741955497,75.239092100413,76.10614925277744,71.98801275841552,51.12462637251207,71.48754241441625,55.95562180049748,81.58775627444507,62.69542801654667,63.77945436094373,59.02199503156899,40.43322154511915,56.346463807841054,68.86842947133782,72.21954066249077,74.34047104235228,73.92995093850574,54.16122091924842,73.75363990194367,74.9615603732686,68.87770207704524,75.25433174011947,48.812796836734236,63.25578067334415,75.91993459054555,49.24525478688021,63.32921378504947,62.2659816405091,49.58494232500227,73.53556357627978,74.0443542085302,53.78883741655916,59.78455314106284,63.32205334526844,53.66641654862591,69.3293598841488,59.10605828958796,67.95630401832248,70.95802306075649,68.47337171634092,81.2698518240488,73.19266141680167,56.139535967029346,52.915555975203986,70.3172039189912,48.2315799628919,67.4434386539445,71.87896034282987,73.03624673527331,75.28972338379583,82.1846884098461,77.47638671109195,72.34179494647816,70.23002926028424,76.96828940979496,81.61097094373585,74.92572410012289,73.4789558288543,72.65814076648644,64.71957406270151,53.42924034784963,82.18450672802808,58.55288800145668,72.19637189464791,79.21406072836469,77.36051478324566,71.16812645255935,80.73120951820819,52.23841336490996,67.74336326628031,71.32680402998469,62.455045663078636,73.6372515293573,53.42157800174766,51.758959748230396,66.12177652463392,75.60301016305752,55.45363338332979,65.95573987851851,56.917105220267246,82.55560651335195,70.54064008773616,71.91010723826788,54.398739309505935,56.30013355495781,80.45882368594688,81.04832311029448,80.62344039060065,74.47546312090195,75.41067350852674,49.05804929640576,42.43017913893725,82.85570863906176,65.98108793738126,71.02606288924193,67.3642319997863,58.80626245389941,52.911719722486865,65.5018033029662,71.35089053473652,73.491537479902,80.03706347453648,83.65222302471773,70.69842301555153,78.41432815229541,72.97944849042233,64.90232608509969,71.48335459177554,78.31507433638937,55.518926676629405,74.7215600438224,55.253019672214364,70.80297958074203,73.89125471245114,71.62519405497162,69.46445951535198,73.8872108259436,72.7344906498558,74.68655216987997,65.95030203050179,60.8267776801784,65.86484636035694,74.90219447166662,70.41662739153467,55.30798826296122,82.68576934805438,58.742229223835565,81.54503650895312,72.16461668474065,74.4506820532339,53.99964304188159,48.81525117222711,82.31121744194478,68.05468934647735,73.63689686084084,68.54047165824949,82.70600106885828,77.92470006031897,74.9954486515981,67.46989221676954,73.15929855648771,78.33191891064813,73.27360680728209,73.77351307214455,52.509985518348174,82.3721364279687,68.86619645978934,56.20737857661363,72.03088521080112,64.39397127478824,75.4367302014926,80.99430643962995,80.39613277653582,75.31010061362039,66.23289712913723,58.792698405706375,62.06645331845385,60.08039042407324,63.845733874368015,74.3427536595254,72.75971944370833,82.84748298155752,71.21771767077061,80.2130634663937,61.27136378411837,80.76402861235377,70.14916602215524,59.54021696380834,68.85107509864575,59.75670494764361,66.55376141917745,45.62341841441685,79.38055786220059,68.74143305026291,81.49020581416082,75.74854647893493,75.41022115751075,74.40007487044238,67.14600673108785,64.77747437592649,59.25242899630959,74.93817772351169,73.1952792327804,70.02940145862858,61.387598348139406,67.73645507554279,82.34764933372104,76.87571379250029,77.00361312165752,75.5602346022026,52.227804259525115,60.94672650701484,43.45135708728814,69.21924316079739,57.18445472211154,61.43926772021688,73.882335893902,52.910330371881386,76.02158312410457,71.86247806749083,67.12392495512887,69.34653448896479,74.17016285315977,57.7817099314767,66.00656866595072,63.137986472548235,72.297618411207,78.5186004087732,71.81034355091145,81.5611713674961,62.02476268368213,74.57040385031561,74.61343449170695,45.96373405670119,51.08173787378715,64.1197146042849,52.814973493126246,63.081736713089384,73.67827044835845,61.396417921400555,55.96875164709627,75.21548924218266,60.87694526875237,72.04929846251194,75.09816886872937,63.04840110288384,56.47184040403876,47.743452426516036,58.82675142199082,66.88319213630741,80.37552900242717,59.6680930692866,67.67959671028794,59.34347790350102,49.41403966386972,80.04674643782934,72.39349796941829,55.533315769923696,69.4779737099638,61.28302260047984,62.72700904873625,74.49309936851466,76.75200618289563,72.2939525330765,70.44306466762167,67.52376960636492,73.16840326723923,54.83777211392865,46.23344753804904,83.38986744055231,53.09777091938466,76.36849153136083,56.83873451269087,70.93449930440795,56.35947198607345,60.79594555976363,55.203884062881926,81.55791226882587,56.86467750096879,69.06553390561379,74.233222664415,71.05176435224558,56.108814090045925,77.05488647721673,75.41936469498476,55.95184975477619,74.93988291829098,67.70801440431862],\"type\":\"scatter\"}],                        {\"template\":{\"data\":{\"histogram2dcontour\":[{\"type\":\"histogram2dcontour\",\"colorbar\":{\"outlinewidth\":0,\"ticks\":\"\"},\"colorscale\":[[0.0,\"#0d0887\"],[0.1111111111111111,\"#46039f\"],[0.2222222222222222,\"#7201a8\"],[0.3333333333333333,\"#9c179e\"],[0.4444444444444444,\"#bd3786\"],[0.5555555555555556,\"#d8576b\"],[0.6666666666666666,\"#ed7953\"],[0.7777777777777778,\"#fb9f3a\"],[0.8888888888888888,\"#fdca26\"],[1.0,\"#f0f921\"]]}],\"choropleth\":[{\"type\":\"choropleth\",\"colorbar\":{\"outlinewidth\":0,\"ticks\":\"\"}}],\"histogram2d\":[{\"type\":\"histogram2d\",\"colorbar\":{\"outlinewidth\":0,\"ticks\":\"\"},\"colorscale\":[[0.0,\"#0d0887\"],[0.1111111111111111,\"#46039f\"],[0.2222222222222222,\"#7201a8\"],[0.3333333333333333,\"#9c179e\"],[0.4444444444444444,\"#bd3786\"],[0.5555555555555556,\"#d8576b\"],[0.6666666666666666,\"#ed7953\"],[0.7777777777777778,\"#fb9f3a\"],[0.8888888888888888,\"#fdca26\"],[1.0,\"#f0f921\"]]}],\"heatmap\":[{\"type\":\"heatmap\",\"colorbar\":{\"outlinewidth\":0,\"ticks\":\"\"},\"colorscale\":[[0.0,\"#0d0887\"],[0.1111111111111111,\"#46039f\"],[0.2222222222222222,\"#7201a8\"],[0.3333333333333333,\"#9c179e\"],[0.4444444444444444,\"#bd3786\"],[0.5555555555555556,\"#d8576b\"],[0.6666666666666666,\"#ed7953\"],[0.7777777777777778,\"#fb9f3a\"],[0.8888888888888888,\"#fdca26\"],[1.0,\"#f0f921\"]]}],\"heatmapgl\":[{\"type\":\"heatmapgl\",\"colorbar\":{\"outlinewidth\":0,\"ticks\":\"\"},\"colorscale\":[[0.0,\"#0d0887\"],[0.1111111111111111,\"#46039f\"],[0.2222222222222222,\"#7201a8\"],[0.3333333333333333,\"#9c179e\"],[0.4444444444444444,\"#bd3786\"],[0.5555555555555556,\"#d8576b\"],[0.6666666666666666,\"#ed7953\"],[0.7777777777777778,\"#fb9f3a\"],[0.8888888888888888,\"#fdca26\"],[1.0,\"#f0f921\"]]}],\"contourcarpet\":[{\"type\":\"contourcarpet\",\"colorbar\":{\"outlinewidth\":0,\"ticks\":\"\"}}],\"contour\":[{\"type\":\"contour\",\"colorbar\":{\"outlinewidth\":0,\"ticks\":\"\"},\"colorscale\":[[0.0,\"#0d0887\"],[0.1111111111111111,\"#46039f\"],[0.2222222222222222,\"#7201a8\"],[0.3333333333333333,\"#9c179e\"],[0.4444444444444444,\"#bd3786\"],[0.5555555555555556,\"#d8576b\"],[0.6666666666666666,\"#ed7953\"],[0.7777777777777778,\"#fb9f3a\"],[0.8888888888888888,\"#fdca26\"],[1.0,\"#f0f921\"]]}],\"surface\":[{\"type\":\"surface\",\"colorbar\":{\"outlinewidth\":0,\"ticks\":\"\"},\"colorscale\":[[0.0,\"#0d0887\"],[0.1111111111111111,\"#46039f\"],[0.2222222222222222,\"#7201a8\"],[0.3333333333333333,\"#9c179e\"],[0.4444444444444444,\"#bd3786\"],[0.5555555555555556,\"#d8576b\"],[0.6666666666666666,\"#ed7953\"],[0.7777777777777778,\"#fb9f3a\"],[0.8888888888888888,\"#fdca26\"],[1.0,\"#f0f921\"]]}],\"mesh3d\":[{\"type\":\"mesh3d\",\"colorbar\":{\"outlinewidth\":0,\"ticks\":\"\"}}],\"scatter\":[{\"fillpattern\":{\"fillmode\":\"overlay\",\"size\":10,\"solidity\":0.2},\"type\":\"scatter\"}],\"parcoords\":[{\"type\":\"parcoords\",\"line\":{\"colorbar\":{\"outlinewidth\":0,\"ticks\":\"\"}}}],\"scatterpolargl\":[{\"type\":\"scatterpolargl\",\"marker\":{\"colorbar\":{\"outlinewidth\":0,\"ticks\":\"\"}}}],\"bar\":[{\"error_x\":{\"color\":\"#2a3f5f\"},\"error_y\":{\"color\":\"#2a3f5f\"},\"marker\":{\"line\":{\"color\":\"#E5ECF6\",\"width\":0.5},\"pattern\":{\"fillmode\":\"overlay\",\"size\":10,\"solidity\":0.2}},\"type\":\"bar\"}],\"scattergeo\":[{\"type\":\"scattergeo\",\"marker\":{\"colorbar\":{\"outlinewidth\":0,\"ticks\":\"\"}}}],\"scatterpolar\":[{\"type\":\"scatterpolar\",\"marker\":{\"colorbar\":{\"outlinewidth\":0,\"ticks\":\"\"}}}],\"histogram\":[{\"marker\":{\"pattern\":{\"fillmode\":\"overlay\",\"size\":10,\"solidity\":0.2}},\"type\":\"histogram\"}],\"scattergl\":[{\"type\":\"scattergl\",\"marker\":{\"colorbar\":{\"outlinewidth\":0,\"ticks\":\"\"}}}],\"scatter3d\":[{\"type\":\"scatter3d\",\"line\":{\"colorbar\":{\"outlinewidth\":0,\"ticks\":\"\"}},\"marker\":{\"colorbar\":{\"outlinewidth\":0,\"ticks\":\"\"}}}],\"scattermapbox\":[{\"type\":\"scattermapbox\",\"marker\":{\"colorbar\":{\"outlinewidth\":0,\"ticks\":\"\"}}}],\"scatterternary\":[{\"type\":\"scatterternary\",\"marker\":{\"colorbar\":{\"outlinewidth\":0,\"ticks\":\"\"}}}],\"scattercarpet\":[{\"type\":\"scattercarpet\",\"marker\":{\"colorbar\":{\"outlinewidth\":0,\"ticks\":\"\"}}}],\"carpet\":[{\"aaxis\":{\"endlinecolor\":\"#2a3f5f\",\"gridcolor\":\"white\",\"linecolor\":\"white\",\"minorgridcolor\":\"white\",\"startlinecolor\":\"#2a3f5f\"},\"baxis\":{\"endlinecolor\":\"#2a3f5f\",\"gridcolor\":\"white\",\"linecolor\":\"white\",\"minorgridcolor\":\"white\",\"startlinecolor\":\"#2a3f5f\"},\"type\":\"carpet\"}],\"table\":[{\"cells\":{\"fill\":{\"color\":\"#EBF0F8\"},\"line\":{\"color\":\"white\"}},\"header\":{\"fill\":{\"color\":\"#C8D4E3\"},\"line\":{\"color\":\"white\"}},\"type\":\"table\"}],\"barpolar\":[{\"marker\":{\"line\":{\"color\":\"#E5ECF6\",\"width\":0.5},\"pattern\":{\"fillmode\":\"overlay\",\"size\":10,\"solidity\":0.2}},\"type\":\"barpolar\"}],\"pie\":[{\"automargin\":true,\"type\":\"pie\"}]},\"layout\":{\"autotypenumbers\":\"strict\",\"colorway\":[\"#636efa\",\"#EF553B\",\"#00cc96\",\"#ab63fa\",\"#FFA15A\",\"#19d3f3\",\"#FF6692\",\"#B6E880\",\"#FF97FF\",\"#FECB52\"],\"font\":{\"color\":\"#2a3f5f\"},\"hovermode\":\"closest\",\"hoverlabel\":{\"align\":\"left\"},\"paper_bgcolor\":\"white\",\"plot_bgcolor\":\"#E5ECF6\",\"polar\":{\"bgcolor\":\"#E5ECF6\",\"angularaxis\":{\"gridcolor\":\"white\",\"linecolor\":\"white\",\"ticks\":\"\"},\"radialaxis\":{\"gridcolor\":\"white\",\"linecolor\":\"white\",\"ticks\":\"\"}},\"ternary\":{\"bgcolor\":\"#E5ECF6\",\"aaxis\":{\"gridcolor\":\"white\",\"linecolor\":\"white\",\"ticks\":\"\"},\"baxis\":{\"gridcolor\":\"white\",\"linecolor\":\"white\",\"ticks\":\"\"},\"caxis\":{\"gridcolor\":\"white\",\"linecolor\":\"white\",\"ticks\":\"\"}},\"coloraxis\":{\"colorbar\":{\"outlinewidth\":0,\"ticks\":\"\"}},\"colorscale\":{\"sequential\":[[0.0,\"#0d0887\"],[0.1111111111111111,\"#46039f\"],[0.2222222222222222,\"#7201a8\"],[0.3333333333333333,\"#9c179e\"],[0.4444444444444444,\"#bd3786\"],[0.5555555555555556,\"#d8576b\"],[0.6666666666666666,\"#ed7953\"],[0.7777777777777778,\"#fb9f3a\"],[0.8888888888888888,\"#fdca26\"],[1.0,\"#f0f921\"]],\"sequentialminus\":[[0.0,\"#0d0887\"],[0.1111111111111111,\"#46039f\"],[0.2222222222222222,\"#7201a8\"],[0.3333333333333333,\"#9c179e\"],[0.4444444444444444,\"#bd3786\"],[0.5555555555555556,\"#d8576b\"],[0.6666666666666666,\"#ed7953\"],[0.7777777777777778,\"#fb9f3a\"],[0.8888888888888888,\"#fdca26\"],[1.0,\"#f0f921\"]],\"diverging\":[[0,\"#8e0152\"],[0.1,\"#c51b7d\"],[0.2,\"#de77ae\"],[0.3,\"#f1b6da\"],[0.4,\"#fde0ef\"],[0.5,\"#f7f7f7\"],[0.6,\"#e6f5d0\"],[0.7,\"#b8e186\"],[0.8,\"#7fbc41\"],[0.9,\"#4d9221\"],[1,\"#276419\"]]},\"xaxis\":{\"gridcolor\":\"white\",\"linecolor\":\"white\",\"ticks\":\"\",\"title\":{\"standoff\":15},\"zerolinecolor\":\"white\",\"automargin\":true,\"zerolinewidth\":2},\"yaxis\":{\"gridcolor\":\"white\",\"linecolor\":\"white\",\"ticks\":\"\",\"title\":{\"standoff\":15},\"zerolinecolor\":\"white\",\"automargin\":true,\"zerolinewidth\":2},\"scene\":{\"xaxis\":{\"backgroundcolor\":\"#E5ECF6\",\"gridcolor\":\"white\",\"linecolor\":\"white\",\"showbackground\":true,\"ticks\":\"\",\"zerolinecolor\":\"white\",\"gridwidth\":2},\"yaxis\":{\"backgroundcolor\":\"#E5ECF6\",\"gridcolor\":\"white\",\"linecolor\":\"white\",\"showbackground\":true,\"ticks\":\"\",\"zerolinecolor\":\"white\",\"gridwidth\":2},\"zaxis\":{\"backgroundcolor\":\"#E5ECF6\",\"gridcolor\":\"white\",\"linecolor\":\"white\",\"showbackground\":true,\"ticks\":\"\",\"zerolinecolor\":\"white\",\"gridwidth\":2}},\"shapedefaults\":{\"line\":{\"color\":\"#2a3f5f\"}},\"annotationdefaults\":{\"arrowcolor\":\"#2a3f5f\",\"arrowhead\":0,\"arrowwidth\":1},\"geo\":{\"bgcolor\":\"white\",\"landcolor\":\"#E5ECF6\",\"subunitcolor\":\"white\",\"showland\":true,\"showlakes\":true,\"lakecolor\":\"white\"},\"title\":{\"x\":0.05},\"mapbox\":{\"style\":\"light\"}}},\"title\":{\"text\":\"Visualization of predictions | scikit ridge regression | MAE: 1.200010303852549\"},\"xaxis\":{\"title\":{\"text\":\"Real values\"},\"range\":[0,100],\"scaleratio\":1},\"yaxis\":{\"title\":{\"text\":\"Predicted values\"},\"range\":[0,100],\"scaleratio\":1}},                        {\"responsive\": true}                    ).then(function(){\n                            \nvar gd = document.getElementById('82760747-350c-498a-beae-554eb307662b');\nvar x = new MutationObserver(function (mutations, observer) {{\n        var display = window.getComputedStyle(gd).display;\n        if (!display || display === 'none') {{\n            console.log([gd, 'removed!']);\n            Plotly.purge(gd);\n            observer.disconnect();\n        }}\n}});\n\n// Listen for the removal of the full notebook cells\nvar notebookContainer = gd.closest('#notebook-container');\nif (notebookContainer) {{\n    x.observe(notebookContainer, {childList: true});\n}}\n\n// Listen for the clearing of the current output cell\nvar outputEl = gd.closest('.output');\nif (outputEl) {{\n    x.observe(outputEl, {childList: true});\n}}\n\n                        })                };                            </script>        </div>\n</body>\n</html>"
     },
     "metadata": {},
     "output_type": "display_data"
    }
   ]
  },
  {
   "cell_type": "code",
   "metadata": {
    "tags": [],
    "cell_id": "00155-6ef350b0-d529-4694-a7fe-6368027e89c8",
    "deepnote_to_be_reexecuted": false,
    "source_hash": "344ed1cd",
    "execution_start": 1661363100460,
    "execution_millis": 574,
    "deepnote_cell_type": "code",
    "deepnote_cell_height": 808,
    "deepnote_output_heights": [
     null,
     526
    ]
   },
   "source": "lr_score  = get_mae(Y_test, lr_model.predict(X_test))\nrr_score  = get_mae(Y_test, rr_model.predict(X_test))\n\nif lr_score < rr_score:\n    print( \"Lineární regrese je úspěšnější se score: {}\".format(lr_score))\n    plot_prediction_results(\"scikit linear regression\", Y_test, lr_model.predict(X_test))\nelse:\n    print(\"Hřebenová regrese je úspěšnější se score: {}\".format(rr_score))\n    plot_prediction_results(\"scikit ridge regression\", Y_test, rr_model.predict(X_test))",
   "execution_count": 109,
   "outputs": [
    {
     "name": "stdout",
     "text": "Lineární regrese je úspěšnější se score: 1.1751750341530054\n",
     "output_type": "stream"
    },
    {
     "data": {
      "text/html": "<html>\n<head><meta charset=\"utf-8\" /></head>\n<body>\n    <div>            <script src=\"https://cdnjs.cloudflare.com/ajax/libs/mathjax/2.7.5/MathJax.js?config=TeX-AMS-MML_SVG\"></script><script type=\"text/javascript\">if (window.MathJax && window.MathJax.Hub && window.MathJax.Hub.Config) {window.MathJax.Hub.Config({SVG: {font: \"STIX-Web\"}});}</script>                <script type=\"text/javascript\">window.PlotlyConfig = {MathJaxConfig: 'local'};</script>\n        <script src=\"https://cdn.plot.ly/plotly-2.12.1.min.js\"></script>                <div id=\"1ef56dfc-dcc3-44e1-a744-32f5b9114e84\" class=\"plotly-graph-div\" style=\"height:525px; width:100%;\"></div>            <script type=\"text/javascript\">                                    window.PLOTLYENV=window.PLOTLYENV || {};                                    if (document.getElementById(\"1ef56dfc-dcc3-44e1-a744-32f5b9114e84\")) {                    Plotly.newPlot(                        \"1ef56dfc-dcc3-44e1-a744-32f5b9114e84\",                        [{\"mode\":\"lines\",\"name\":\"y = \\u0177\",\"x\":[0,100],\"y\":[0,100],\"type\":\"scatter\"},{\"mode\":\"markers\",\"name\":\"(test, prediction)\",\"x\":[56.5,73.0,82.5,75.6,53.0,65.2,72.4,74.1,77.0,67.8,73.1,75.1,44.3,47.9,74.3,74.6,78.4,77.7,79.1,73.3,62.8,82.5,54.0,63.4,72.0,47.8,52.1,75.1,65.6,78.4,73.9,76.3,61.2,69.6,72.7,57.9,74.5,69.4,77.0,75.4,57.7,67.3,78.5,54.2,47.6,68.9,79.4,67.6,63.3,59.8,71.7,73.2,66.5,58.6,67.7,72.8,69.2,72.8,76.4,53.3,72.5,69.0,59.4,56.0,54.1,81.9,64.5,55.3,73.0,72.4,75.5,85.0,74.1,75.6,53.2,75.2,74.9,74.7,73.3,77.3,75.9,83.0,71.3,63.8,76.8,65.9,74.1,79.1,77.8,77.5,62.2,79.5,81.1,77.7,65.3,51.9,74.7,67.3,66.2,84.0,69.6,51.2,74.6,76.9,58.0,75.6,57.4,75.7,63.3,67.3,82.1,71.0,81.8,62.9,75.3,83.0,82.7,72.9,59.8,75.2,73.0,76.0,72.2,71.1,74.3,70.0,69.5,74.4,69.9,75.6,73.6,67.9,54.0,81.5,86.0,74.0,79.0,64.4,79.0,82.5,72.8,71.6,64.0,81.5,74.6,56.5,78.7,55.3,81.6,67.1,52.1,74.9,59.9,82.0,77.5,76.5,73.5,76.5,57.9,66.8,68.7,61.3,74.7,54.6,49.2,72.6,66.5,77.0,51.2,71.9,67.6,71.0,51.3,77.2,76.7,55.7,62.8,87.0,59.6,65.3,67.0,43.8,73.6,73.6,75.6,73.5,62.9,74.2,78.5,78.0,73.8,81.7,82.0,57.6,74.8,73.9,51.7,79.8,67.5,62.3,56.4,75.3,51.9,74.8,72.5,80.0,81.6,45.3,66.1,79.4,65.0,71.6,75.8,73.6,79.1,76.0,52.0,76.3,68.3,74.4,74.1,68.1,72.7,67.1,81.0,52.4,75.7,61.0,73.5,81.3,69.0,71.4,73.3,79.3,51.6,57.3,73.0,76.6,77.0,58.6,78.8,68.0,79.8,74.9,73.9,79.3,72.1,71.7,79.9,62.1,83.0,62.2,73.1,73.0,67.7,79.8,81.7,75.2,79.4,72.2,74.0,71.2,55.0,71.0,46.3,59.5,75.2,51.4,58.5,52.5,79.2,65.5,73.3,75.4,82.1,76.7,54.0,76.4,78.0,77.0,61.6,58.0,76.0,74.7,59.0,73.5,77.5,75.4,71.0,75.4,77.0,48.2,72.6,74.5,72.8,79.3,53.1,67.7,75.0,46.0,71.4,72.9,68.7,72.5,77.1,60.0,55.3,65.0,56.3,78.0,74.6,63.8,74.3,81.3,71.6,66.2,61.3,68.8,72.1,69.0,68.9,62.8,74.2,72.0,58.0,73.9,69.8,76.0,79.3,48.9,74.3,79.7,79.9,72.1,67.1,63.7,68.0,62.5,72.3,67.0,75.0,61.8,72.0,64.4,58.4,73.3,74.7,77.5,75.7,73.0,79.0,52.7,66.0,75.0,74.1,69.9,72.3,75.4,59.1,79.9,56.5,71.1,75.4,57.4,63.8,84.0,79.3,79.1,73.0,54.5,71.1,74.2,51.4,76.0,63.9,77.7,80.0,82.0,63.9,73.5,78.9,66.0,81.3,73.0,64.0,68.2,79.0,78.1,72.0,73.5,55.0,62.1,49.7,86.0,73.1,72.3,68.0,78.3,80.0,71.6,66.8,73.3,65.7,73.0,62.6,61.4,60.0,68.2,66.5,78.2,63.5,52.7,59.3,86.0,74.4,71.3,78.0,66.0,63.6,77.3,70.0,74.5,79.3,75.8,79.6,69.7,64.4,78.0,73.1,51.9,74.7,83.4,74.4,73.3,76.3,76.5,83.0,68.7,75.1,52.8,67.3,55.3,83.5,42.3,84.0,77.0,73.2,79.0,75.0,68.1,51.9,65.1,68.0,74.3,66.1,73.0,72.1,71.4,75.2,59.7,63.7,82.0,75.2,72.2,66.7,76.3,76.2,71.4,56.0,79.0,57.4,80.0,62.2,64.2,59.8,46.0,56.1,69.2,72.7,73.6,73.3,54.8,72.8,75.2,64.7,75.0,47.4,63.3,76.2,51.0,64.1,58.9,49.6,72.4,72.8,53.1,59.2,62.3,53.3,69.1,58.2,68.4,73.1,69.4,79.8,73.7,56.1,52.5,70.0,48.2,66.2,73.2,73.4,74.8,81.2,77.5,73.9,69.9,77.2,81.0,74.9,73.3,73.5,65.0,53.8,88.0,67.0,71.7,78.1,77.3,71.0,87.0,58.0,68.7,71.1,61.0,72.9,52.0,51.5,66.2,74.9,56.7,67.7,56.2,82.4,71.1,72.8,53.8,55.9,79.5,81.0,79.5,72.8,75.1,48.6,44.5,84.0,65.5,75.0,67.3,58.1,51.1,65.8,75.0,73.6,79.4,82.4,69.4,78.4,73.3,62.9,72.1,76.6,54.4,74.3,53.8,69.4,73.0,72.3,73.0,74.3,69.1,74.8,65.6,66.0,65.7,74.9,71.5,56.2,81.1,58.9,85.0,72.9,73.9,53.5,48.0,81.0,75.0,74.1,69.3,82.3,77.4,74.7,67.6,73.7,78.2,73.6,73.1,52.0,81.4,67.2,56.7,72.6,64.2,74.9,79.4,78.3,73.9,66.1,57.2,62.0,59.3,65.3,72.9,71.9,81.3,73.8,82.0,59.4,79.5,77.0,59.4,67.8,60.0,66.4,44.6,78.0,67.7,79.2,75.9,74.5,73.9,65.1,65.6,61.8,73.0,73.2,69.5,62.3,67.5,82.0,76.3,76.5,75.3,51.6,68.0,46.4,68.1,57.3,64.0,74.7,51.9,75.5,71.7,66.0,68.7,73.1,57.2,66.6,62.4,73.2,77.9,71.0,79.5,68.0,74.4,73.7,45.3,48.1,63.7,49.6,63.1,74.7,62.6,55.0,74.9,58.7,71.6,75.0,61.9,53.4,47.7,56.9,78.0,79.9,59.3,65.8,61.4,50.0,79.9,72.6,55.5,69.6,61.0,63.5,74.8,75.5,73.0,69.0,67.2,73.8,54.0,47.7,81.7,52.4,75.8,59.3,73.0,56.5,59.1,53.5,79.6,55.3,67.0,74.4,69.8,54.8,75.6,74.2,55.0,74.5,67.3],\"y\":[58.087890625,70.6171875,82.58984375,76.373046875,53.314453125,64.998046875,73.94921875,73.658203125,77.66015625,67.513671875,75.138671875,75.615234375,43.599609375,51.2578125,74.353515625,74.896484375,78.388671875,77.59765625,80.078125,72.978515625,61.205078125,83.8515625,50.373046875,61.669921875,69.5859375,43.599609375,55.119140625,76.17578125,65.60546875,78.451171875,73.888671875,75.900390625,62.541015625,68.630859375,73.166015625,57.939453125,75.140625,70.244140625,77.12109375,75.39453125,60.390625,67.34765625,79.548828125,54.7734375,49.58203125,69.46875,79.767578125,67.734375,65.380859375,59.892578125,70.58203125,72.990234375,65.482421875,58.37890625,66.466796875,73.291015625,69.908203125,71.783203125,76.14453125,54.6640625,73.619140625,69.794921875,59.5,51.201171875,53.16796875,83.146484375,71.697265625,56.623046875,72.421875,72.203125,75.248046875,81.283203125,73.6484375,75.255859375,53.2109375,75.533203125,75.98046875,74.482421875,73.447265625,77.255859375,76.931640625,79.9765625,71.275390625,64.328125,76.982421875,66.591796875,74.419921875,79.79296875,78.30078125,77.513671875,63.150390625,80.998046875,82.189453125,78.451171875,66.498046875,54.845703125,74.529296875,67.626953125,65.216796875,81.76171875,68.83203125,51.720703125,74.529296875,76.82421875,57.11328125,76.107421875,56.322265625,74.32421875,63.083984375,69.27734375,83.701171875,71.166015625,83.54296875,61.373046875,74.978515625,80.560546875,84.5078125,73.830078125,60.212890625,75.412109375,71.84375,77.314453125,72.728515625,70.408203125,74.966796875,70.767578125,71.09765625,75.751953125,71.357421875,75.986328125,73.572265625,68.537109375,49.91796875,80.78125,81.525390625,74.52734375,81.150390625,65.791015625,79.591796875,83.080078125,73.373046875,72.521484375,63.7265625,81.591796875,75.212890625,60.189453125,79.91796875,57.40625,83.162109375,68.404296875,52.099609375,74.240234375,59.576171875,83.984375,77.158203125,77.326171875,73.3203125,78.466796875,59.296875,65.443359375,69.208984375,62.623046875,74.984375,53.095703125,50.814453125,72.548828125,65.96875,71.927734375,51.783203125,71.7734375,69.501953125,70.943359375,51.97265625,77.595703125,77.365234375,56.353515625,62.369140625,81.537109375,59.759765625,66.203125,60.4765625,49.84765625,73.556640625,74.029296875,75.771484375,72.916015625,63.681640625,74.322265625,79.775390625,78.31640625,73.984375,83.21484375,82.177734375,57.0546875,75.736328125,74.212890625,50.62890625,80.837890625,66.892578125,60.87890625,56.626953125,75.669921875,53.423828125,75.451171875,72.33203125,82.029296875,83.228515625,45.693359375,66.478515625,81.70703125,65.2890625,71.7421875,75.904296875,74.197265625,80.025390625,76.03515625,53.013671875,77.146484375,68.5078125,75.474609375,73.966796875,68.013671875,74.82421875,67.294921875,81.833984375,54.033203125,75.44921875,61.771484375,72.697265625,82.69140625,62.607421875,71.7734375,73.619140625,79.59765625,51.875,56.439453125,72.685546875,78.669921875,77.2265625,55.685546875,80.615234375,68.314453125,80.35546875,75.66015625,74.962890625,80.607421875,72.861328125,72.095703125,81.443359375,63.564453125,84.826171875,63.01953125,72.650390625,72.93359375,67.56640625,81.875,81.77734375,74.3125,80.068359375,72.5703125,74.400390625,72.140625,58.06640625,71.609375,48.8515625,61.23046875,74.978515625,48.98828125,60.697265625,53.619140625,79.037109375,65.546875,73.34765625,75.36328125,82.0234375,76.271484375,50.908203125,77.708984375,79.453125,70.359375,62.78515625,58.697265625,75.6875,75.720703125,58.38671875,73.892578125,77.353515625,76.494140625,71.8984375,75.046875,72.53515625,49.681640625,72.96875,74.708984375,73.845703125,81.544921875,53.853515625,69.474609375,75.32421875,44.802734375,71.26171875,74.22265625,69.193359375,73.783203125,77.306640625,60.43359375,55.533203125,65.603515625,55.984375,78.02734375,75.212890625,61.533203125,74.37109375,81.1640625,72.4375,67.244140625,62.552734375,69.0546875,71.453125,69.845703125,69.810546875,63.384765625,74.171875,71.802734375,53.251953125,74.056640625,71.568359375,71.626953125,80.013671875,53.177734375,74.890625,80.931640625,80.671875,73.689453125,67.861328125,63.462890625,61.03125,61.66015625,72.705078125,57.708984375,75.416015625,61.94921875,72.978515625,65.353515625,58.193359375,73.927734375,74.169921875,78.896484375,75.90234375,73.109375,72.025390625,52.41796875,66.474609375,74.537109375,73.36328125,69.5625,72.515625,75.28515625,60.34375,82.30078125,56.212890625,72.974609375,75.166015625,57.7890625,63.904296875,80.783203125,80.427734375,80.607421875,72.080078125,55.400390625,71.224609375,74.8984375,49.72265625,78.345703125,64.81640625,79.396484375,82.396484375,81.767578125,62.61328125,74.69140625,79.216796875,61.505859375,82.958984375,75.068359375,62.833984375,68.044921875,80.115234375,79.697265625,72.564453125,72.818359375,54.927734375,59.453125,48.84765625,80.572265625,72.955078125,73.763671875,68.337890625,79.02734375,80.927734375,69.91796875,69.64453125,72.5703125,67.365234375,70.548828125,62.369140625,62.84765625,60.259765625,68.271484375,69.462890625,79.52734375,63.345703125,53.94921875,56.505859375,80.748046875,74.1796875,67.248046875,71.666015625,66.17578125,71.974609375,77.697265625,71.142578125,74.703125,80.212890625,76.880859375,81.2421875,70.951171875,71.439453125,79.97265625,72.884765625,51.908203125,74.908203125,84.337890625,74.005859375,73.552734375,76.701171875,77.505859375,81.24609375,67.400390625,75.427734375,53.765625,67.416015625,55.84765625,84.74609375,43.890625,81.451171875,71.98828125,75.462890625,72.916015625,71.298828125,67.98828125,52.34375,65.076171875,67.55078125,75.166015625,66.5625,69.525390625,71.396484375,72.728515625,75.505859375,60.53125,64.390625,82.677734375,76.111328125,71.955078125,65.708984375,75.21484375,76.2578125,71.966796875,51.517578125,71.63671875,56.224609375,81.296875,62.708984375,63.333984375,58.9609375,40.634765625,56.484375,68.740234375,72.287109375,74.275390625,73.966796875,54.068359375,73.796875,75.076171875,69.08984375,75.2421875,48.80859375,63.31640625,76.22265625,49.93359375,63.5078125,62.037109375,49.880859375,73.564453125,73.865234375,53.970703125,59.662109375,63.375,53.572265625,69.529296875,58.759765625,67.76171875,71.15625,68.0859375,81.451171875,73.11328125,56.09375,52.490234375,70.08203125,48.13671875,67.439453125,71.970703125,73.044921875,75.439453125,82.169921875,77.845703125,72.4375,70.31640625,76.908203125,81.63671875,75.16796875,73.455078125,72.822265625,64.71484375,53.64453125,82.17578125,58.80859375,71.880859375,78.998046875,77.69140625,71.048828125,80.51171875,51.96875,67.501953125,71.232421875,62.0390625,73.79296875,53.103515625,51.67578125,66.36328125,75.65625,55.685546875,66.029296875,56.708984375,82.458984375,70.783203125,71.904296875,54.166015625,56.27734375,80.490234375,81.205078125,80.58984375,74.53125,75.4453125,49.134765625,42.697265625,82.912109375,65.693359375,71.12890625,67.38671875,58.5078125,52.86328125,65.34375,71.302734375,73.552734375,80.076171875,84.017578125,70.8359375,78.33984375,72.87109375,64.740234375,71.787109375,78.298828125,55.400390625,75.056640625,54.994140625,70.708984375,73.87109375,71.7109375,69.654296875,73.951171875,72.931640625,74.84765625,65.6015625,60.876953125,65.8046875,74.96875,70.54296875,55.318359375,82.71875,58.310546875,81.611328125,72.37109375,74.427734375,53.7265625,48.80078125,82.185546875,68.375,73.669921875,68.51953125,82.99609375,78.08203125,75.041015625,67.4140625,73.142578125,78.30078125,73.263671875,73.693359375,52.373046875,82.541015625,68.689453125,55.7734375,72.06640625,64.60546875,75.544921875,80.900390625,80.150390625,75.32421875,66.248046875,58.7109375,62.0390625,60.140625,63.841796875,74.556640625,73.0,82.76171875,72.43359375,80.220703125,61.017578125,80.705078125,70.34765625,59.619140625,68.91015625,59.69140625,66.43359375,45.662109375,79.32421875,68.59375,81.40625,76.837890625,74.951171875,74.48046875,67.08984375,64.943359375,58.947265625,75.111328125,73.232421875,70.1640625,61.296875,67.8203125,82.548828125,77.185546875,77.109375,75.61328125,52.142578125,60.884765625,43.63671875,69.41015625,57.064453125,61.466796875,75.033203125,52.875,76.111328125,72.1484375,67.107421875,69.318359375,73.984375,57.80078125,66.142578125,62.490234375,72.267578125,78.755859375,71.6875,81.578125,62.0078125,74.560546875,74.591796875,45.583984375,50.96484375,64.234375,52.5078125,63.173828125,73.6953125,60.830078125,55.869140625,75.087890625,61.689453125,71.923828125,75.203125,62.94140625,56.62109375,47.421875,58.876953125,67.09375,80.396484375,59.611328125,67.578125,59.552734375,49.208984375,80.1875,72.3515625,55.265625,69.552734375,61.09375,63.060546875,74.5078125,76.869140625,72.046875,70.50390625,67.451171875,73.3203125,54.44921875,46.52734375,83.267578125,53.001953125,76.283203125,56.736328125,70.7109375,55.947265625,60.447265625,54.97265625,81.5,56.82421875,69.01953125,74.2734375,71.185546875,55.9453125,76.525390625,75.3125,55.53515625,74.962890625,67.52734375],\"type\":\"scatter\"}],                        {\"template\":{\"data\":{\"histogram2dcontour\":[{\"type\":\"histogram2dcontour\",\"colorbar\":{\"outlinewidth\":0,\"ticks\":\"\"},\"colorscale\":[[0.0,\"#0d0887\"],[0.1111111111111111,\"#46039f\"],[0.2222222222222222,\"#7201a8\"],[0.3333333333333333,\"#9c179e\"],[0.4444444444444444,\"#bd3786\"],[0.5555555555555556,\"#d8576b\"],[0.6666666666666666,\"#ed7953\"],[0.7777777777777778,\"#fb9f3a\"],[0.8888888888888888,\"#fdca26\"],[1.0,\"#f0f921\"]]}],\"choropleth\":[{\"type\":\"choropleth\",\"colorbar\":{\"outlinewidth\":0,\"ticks\":\"\"}}],\"histogram2d\":[{\"type\":\"histogram2d\",\"colorbar\":{\"outlinewidth\":0,\"ticks\":\"\"},\"colorscale\":[[0.0,\"#0d0887\"],[0.1111111111111111,\"#46039f\"],[0.2222222222222222,\"#7201a8\"],[0.3333333333333333,\"#9c179e\"],[0.4444444444444444,\"#bd3786\"],[0.5555555555555556,\"#d8576b\"],[0.6666666666666666,\"#ed7953\"],[0.7777777777777778,\"#fb9f3a\"],[0.8888888888888888,\"#fdca26\"],[1.0,\"#f0f921\"]]}],\"heatmap\":[{\"type\":\"heatmap\",\"colorbar\":{\"outlinewidth\":0,\"ticks\":\"\"},\"colorscale\":[[0.0,\"#0d0887\"],[0.1111111111111111,\"#46039f\"],[0.2222222222222222,\"#7201a8\"],[0.3333333333333333,\"#9c179e\"],[0.4444444444444444,\"#bd3786\"],[0.5555555555555556,\"#d8576b\"],[0.6666666666666666,\"#ed7953\"],[0.7777777777777778,\"#fb9f3a\"],[0.8888888888888888,\"#fdca26\"],[1.0,\"#f0f921\"]]}],\"heatmapgl\":[{\"type\":\"heatmapgl\",\"colorbar\":{\"outlinewidth\":0,\"ticks\":\"\"},\"colorscale\":[[0.0,\"#0d0887\"],[0.1111111111111111,\"#46039f\"],[0.2222222222222222,\"#7201a8\"],[0.3333333333333333,\"#9c179e\"],[0.4444444444444444,\"#bd3786\"],[0.5555555555555556,\"#d8576b\"],[0.6666666666666666,\"#ed7953\"],[0.7777777777777778,\"#fb9f3a\"],[0.8888888888888888,\"#fdca26\"],[1.0,\"#f0f921\"]]}],\"contourcarpet\":[{\"type\":\"contourcarpet\",\"colorbar\":{\"outlinewidth\":0,\"ticks\":\"\"}}],\"contour\":[{\"type\":\"contour\",\"colorbar\":{\"outlinewidth\":0,\"ticks\":\"\"},\"colorscale\":[[0.0,\"#0d0887\"],[0.1111111111111111,\"#46039f\"],[0.2222222222222222,\"#7201a8\"],[0.3333333333333333,\"#9c179e\"],[0.4444444444444444,\"#bd3786\"],[0.5555555555555556,\"#d8576b\"],[0.6666666666666666,\"#ed7953\"],[0.7777777777777778,\"#fb9f3a\"],[0.8888888888888888,\"#fdca26\"],[1.0,\"#f0f921\"]]}],\"surface\":[{\"type\":\"surface\",\"colorbar\":{\"outlinewidth\":0,\"ticks\":\"\"},\"colorscale\":[[0.0,\"#0d0887\"],[0.1111111111111111,\"#46039f\"],[0.2222222222222222,\"#7201a8\"],[0.3333333333333333,\"#9c179e\"],[0.4444444444444444,\"#bd3786\"],[0.5555555555555556,\"#d8576b\"],[0.6666666666666666,\"#ed7953\"],[0.7777777777777778,\"#fb9f3a\"],[0.8888888888888888,\"#fdca26\"],[1.0,\"#f0f921\"]]}],\"mesh3d\":[{\"type\":\"mesh3d\",\"colorbar\":{\"outlinewidth\":0,\"ticks\":\"\"}}],\"scatter\":[{\"fillpattern\":{\"fillmode\":\"overlay\",\"size\":10,\"solidity\":0.2},\"type\":\"scatter\"}],\"parcoords\":[{\"type\":\"parcoords\",\"line\":{\"colorbar\":{\"outlinewidth\":0,\"ticks\":\"\"}}}],\"scatterpolargl\":[{\"type\":\"scatterpolargl\",\"marker\":{\"colorbar\":{\"outlinewidth\":0,\"ticks\":\"\"}}}],\"bar\":[{\"error_x\":{\"color\":\"#2a3f5f\"},\"error_y\":{\"color\":\"#2a3f5f\"},\"marker\":{\"line\":{\"color\":\"#E5ECF6\",\"width\":0.5},\"pattern\":{\"fillmode\":\"overlay\",\"size\":10,\"solidity\":0.2}},\"type\":\"bar\"}],\"scattergeo\":[{\"type\":\"scattergeo\",\"marker\":{\"colorbar\":{\"outlinewidth\":0,\"ticks\":\"\"}}}],\"scatterpolar\":[{\"type\":\"scatterpolar\",\"marker\":{\"colorbar\":{\"outlinewidth\":0,\"ticks\":\"\"}}}],\"histogram\":[{\"marker\":{\"pattern\":{\"fillmode\":\"overlay\",\"size\":10,\"solidity\":0.2}},\"type\":\"histogram\"}],\"scattergl\":[{\"type\":\"scattergl\",\"marker\":{\"colorbar\":{\"outlinewidth\":0,\"ticks\":\"\"}}}],\"scatter3d\":[{\"type\":\"scatter3d\",\"line\":{\"colorbar\":{\"outlinewidth\":0,\"ticks\":\"\"}},\"marker\":{\"colorbar\":{\"outlinewidth\":0,\"ticks\":\"\"}}}],\"scattermapbox\":[{\"type\":\"scattermapbox\",\"marker\":{\"colorbar\":{\"outlinewidth\":0,\"ticks\":\"\"}}}],\"scatterternary\":[{\"type\":\"scatterternary\",\"marker\":{\"colorbar\":{\"outlinewidth\":0,\"ticks\":\"\"}}}],\"scattercarpet\":[{\"type\":\"scattercarpet\",\"marker\":{\"colorbar\":{\"outlinewidth\":0,\"ticks\":\"\"}}}],\"carpet\":[{\"aaxis\":{\"endlinecolor\":\"#2a3f5f\",\"gridcolor\":\"white\",\"linecolor\":\"white\",\"minorgridcolor\":\"white\",\"startlinecolor\":\"#2a3f5f\"},\"baxis\":{\"endlinecolor\":\"#2a3f5f\",\"gridcolor\":\"white\",\"linecolor\":\"white\",\"minorgridcolor\":\"white\",\"startlinecolor\":\"#2a3f5f\"},\"type\":\"carpet\"}],\"table\":[{\"cells\":{\"fill\":{\"color\":\"#EBF0F8\"},\"line\":{\"color\":\"white\"}},\"header\":{\"fill\":{\"color\":\"#C8D4E3\"},\"line\":{\"color\":\"white\"}},\"type\":\"table\"}],\"barpolar\":[{\"marker\":{\"line\":{\"color\":\"#E5ECF6\",\"width\":0.5},\"pattern\":{\"fillmode\":\"overlay\",\"size\":10,\"solidity\":0.2}},\"type\":\"barpolar\"}],\"pie\":[{\"automargin\":true,\"type\":\"pie\"}]},\"layout\":{\"autotypenumbers\":\"strict\",\"colorway\":[\"#636efa\",\"#EF553B\",\"#00cc96\",\"#ab63fa\",\"#FFA15A\",\"#19d3f3\",\"#FF6692\",\"#B6E880\",\"#FF97FF\",\"#FECB52\"],\"font\":{\"color\":\"#2a3f5f\"},\"hovermode\":\"closest\",\"hoverlabel\":{\"align\":\"left\"},\"paper_bgcolor\":\"white\",\"plot_bgcolor\":\"#E5ECF6\",\"polar\":{\"bgcolor\":\"#E5ECF6\",\"angularaxis\":{\"gridcolor\":\"white\",\"linecolor\":\"white\",\"ticks\":\"\"},\"radialaxis\":{\"gridcolor\":\"white\",\"linecolor\":\"white\",\"ticks\":\"\"}},\"ternary\":{\"bgcolor\":\"#E5ECF6\",\"aaxis\":{\"gridcolor\":\"white\",\"linecolor\":\"white\",\"ticks\":\"\"},\"baxis\":{\"gridcolor\":\"white\",\"linecolor\":\"white\",\"ticks\":\"\"},\"caxis\":{\"gridcolor\":\"white\",\"linecolor\":\"white\",\"ticks\":\"\"}},\"coloraxis\":{\"colorbar\":{\"outlinewidth\":0,\"ticks\":\"\"}},\"colorscale\":{\"sequential\":[[0.0,\"#0d0887\"],[0.1111111111111111,\"#46039f\"],[0.2222222222222222,\"#7201a8\"],[0.3333333333333333,\"#9c179e\"],[0.4444444444444444,\"#bd3786\"],[0.5555555555555556,\"#d8576b\"],[0.6666666666666666,\"#ed7953\"],[0.7777777777777778,\"#fb9f3a\"],[0.8888888888888888,\"#fdca26\"],[1.0,\"#f0f921\"]],\"sequentialminus\":[[0.0,\"#0d0887\"],[0.1111111111111111,\"#46039f\"],[0.2222222222222222,\"#7201a8\"],[0.3333333333333333,\"#9c179e\"],[0.4444444444444444,\"#bd3786\"],[0.5555555555555556,\"#d8576b\"],[0.6666666666666666,\"#ed7953\"],[0.7777777777777778,\"#fb9f3a\"],[0.8888888888888888,\"#fdca26\"],[1.0,\"#f0f921\"]],\"diverging\":[[0,\"#8e0152\"],[0.1,\"#c51b7d\"],[0.2,\"#de77ae\"],[0.3,\"#f1b6da\"],[0.4,\"#fde0ef\"],[0.5,\"#f7f7f7\"],[0.6,\"#e6f5d0\"],[0.7,\"#b8e186\"],[0.8,\"#7fbc41\"],[0.9,\"#4d9221\"],[1,\"#276419\"]]},\"xaxis\":{\"gridcolor\":\"white\",\"linecolor\":\"white\",\"ticks\":\"\",\"title\":{\"standoff\":15},\"zerolinecolor\":\"white\",\"automargin\":true,\"zerolinewidth\":2},\"yaxis\":{\"gridcolor\":\"white\",\"linecolor\":\"white\",\"ticks\":\"\",\"title\":{\"standoff\":15},\"zerolinecolor\":\"white\",\"automargin\":true,\"zerolinewidth\":2},\"scene\":{\"xaxis\":{\"backgroundcolor\":\"#E5ECF6\",\"gridcolor\":\"white\",\"linecolor\":\"white\",\"showbackground\":true,\"ticks\":\"\",\"zerolinecolor\":\"white\",\"gridwidth\":2},\"yaxis\":{\"backgroundcolor\":\"#E5ECF6\",\"gridcolor\":\"white\",\"linecolor\":\"white\",\"showbackground\":true,\"ticks\":\"\",\"zerolinecolor\":\"white\",\"gridwidth\":2},\"zaxis\":{\"backgroundcolor\":\"#E5ECF6\",\"gridcolor\":\"white\",\"linecolor\":\"white\",\"showbackground\":true,\"ticks\":\"\",\"zerolinecolor\":\"white\",\"gridwidth\":2}},\"shapedefaults\":{\"line\":{\"color\":\"#2a3f5f\"}},\"annotationdefaults\":{\"arrowcolor\":\"#2a3f5f\",\"arrowhead\":0,\"arrowwidth\":1},\"geo\":{\"bgcolor\":\"white\",\"landcolor\":\"#E5ECF6\",\"subunitcolor\":\"white\",\"showland\":true,\"showlakes\":true,\"lakecolor\":\"white\"},\"title\":{\"x\":0.05},\"mapbox\":{\"style\":\"light\"}}},\"title\":{\"text\":\"Visualization of predictions | scikit linear regression | MAE: 1.1751750341530054\"},\"xaxis\":{\"title\":{\"text\":\"Real values\"},\"range\":[0,100],\"scaleratio\":1},\"yaxis\":{\"title\":{\"text\":\"Predicted values\"},\"range\":[0,100],\"scaleratio\":1}},                        {\"responsive\": true}                    ).then(function(){\n                            \nvar gd = document.getElementById('1ef56dfc-dcc3-44e1-a744-32f5b9114e84');\nvar x = new MutationObserver(function (mutations, observer) {{\n        var display = window.getComputedStyle(gd).display;\n        if (!display || display === 'none') {{\n            console.log([gd, 'removed!']);\n            Plotly.purge(gd);\n            observer.disconnect();\n        }}\n}});\n\n// Listen for the removal of the full notebook cells\nvar notebookContainer = gd.closest('#notebook-container');\nif (notebookContainer) {{\n    x.observe(notebookContainer, {childList: true});\n}}\n\n// Listen for the clearing of the current output cell\nvar outputEl = gd.closest('.output');\nif (outputEl) {{\n    x.observe(outputEl, {childList: true});\n}}\n\n                        })                };                            </script>        </div>\n</body>\n</html>"
     },
     "metadata": {},
     "output_type": "display_data"
    }
   ]
  },
  {
   "cell_type": "markdown",
   "source": "## 6. Použijte i jiné modely (alespoň jeden) ukazované v předmětu VZD či i jiné, pokud víte, jak fungují.",
   "metadata": {
    "tags": [],
    "cell_id": "00157-9a15e972-714d-4439-a01e-74fac2168ecc",
    "deepnote_cell_type": "markdown",
    "deepnote_cell_height": 110
   }
  },
  {
   "cell_type": "markdown",
   "source": "* Jakožto první alternativní model použiju DecisionTreeRegressor s laděnou hloubkou pomocí metriky MAE.",
   "metadata": {
    "tags": [],
    "cell_id": "00158-56b45454-4298-4e26-937c-dd37dff874bc",
    "deepnote_cell_type": "markdown",
    "deepnote_cell_height": 69.390625
   }
  },
  {
   "cell_type": "code",
   "metadata": {
    "tags": [],
    "cell_id": "00158-57f337a7-5d61-4b77-a942-d85b30a18c9b",
    "deepnote_to_be_reexecuted": false,
    "source_hash": "3dc91d3d",
    "execution_start": 1661363100553,
    "execution_millis": 709,
    "deepnote_cell_type": "code",
    "deepnote_cell_height": 328
   },
   "source": "from sklearn.tree import DecisionTreeRegressor\nfrom sklearn.model_selection import train_test_split\n\nrd_seed = 228\n\nbest_depth=5\nbest_mae=999\n\nfor depth in range(1, 15, 1):\n    dt = DecisionTreeRegressor(max_depth=depth)\n    dt.fit(X, Y)\n    \n    if get_mae(Y_test, dt.predict(X_test)) < best_mae:\n        best_depth = depth\n        best_mae = get_mae(Y_test, dt.predict(X_test))",
   "execution_count": 110,
   "outputs": []
  },
  {
   "cell_type": "code",
   "metadata": {
    "tags": [],
    "cell_id": "00159-243cb62d-7dc1-4c28-960c-91b3208cbb84",
    "deepnote_to_be_reexecuted": false,
    "source_hash": "23c845d2",
    "execution_start": 1661363101273,
    "execution_millis": 62,
    "deepnote_cell_type": "code",
    "deepnote_cell_height": 672,
    "deepnote_output_heights": [
     526
    ]
   },
   "source": "dt = DecisionTreeRegressor(max_depth=best_depth)\ndt.fit(X, Y)\n\nplot_prediction_results(\"DecisionTreeRegressor\", Y_test, dt.predict(X_test))",
   "execution_count": 111,
   "outputs": [
    {
     "data": {
      "text/html": "<html>\n<head><meta charset=\"utf-8\" /></head>\n<body>\n    <div>            <script src=\"https://cdnjs.cloudflare.com/ajax/libs/mathjax/2.7.5/MathJax.js?config=TeX-AMS-MML_SVG\"></script><script type=\"text/javascript\">if (window.MathJax && window.MathJax.Hub && window.MathJax.Hub.Config) {window.MathJax.Hub.Config({SVG: {font: \"STIX-Web\"}});}</script>                <script type=\"text/javascript\">window.PlotlyConfig = {MathJaxConfig: 'local'};</script>\n        <script src=\"https://cdn.plot.ly/plotly-2.12.1.min.js\"></script>                <div id=\"57be62ab-43a6-4bcd-a172-e4c4acfd2349\" class=\"plotly-graph-div\" style=\"height:525px; width:100%;\"></div>            <script type=\"text/javascript\">                                    window.PLOTLYENV=window.PLOTLYENV || {};                                    if (document.getElementById(\"57be62ab-43a6-4bcd-a172-e4c4acfd2349\")) {                    Plotly.newPlot(                        \"57be62ab-43a6-4bcd-a172-e4c4acfd2349\",                        [{\"mode\":\"lines\",\"name\":\"y = \\u0177\",\"x\":[0,100],\"y\":[0,100],\"type\":\"scatter\"},{\"mode\":\"markers\",\"name\":\"(test, prediction)\",\"x\":[56.5,73.0,82.5,75.6,53.0,65.2,72.4,74.1,77.0,67.8,73.1,75.1,44.3,47.9,74.3,74.6,78.4,77.7,79.1,73.3,62.8,82.5,54.0,63.4,72.0,47.8,52.1,75.1,65.6,78.4,73.9,76.3,61.2,69.6,72.7,57.9,74.5,69.4,77.0,75.4,57.7,67.3,78.5,54.2,47.6,68.9,79.4,67.6,63.3,59.8,71.7,73.2,66.5,58.6,67.7,72.8,69.2,72.8,76.4,53.3,72.5,69.0,59.4,56.0,54.1,81.9,64.5,55.3,73.0,72.4,75.5,85.0,74.1,75.6,53.2,75.2,74.9,74.7,73.3,77.3,75.9,83.0,71.3,63.8,76.8,65.9,74.1,79.1,77.8,77.5,62.2,79.5,81.1,77.7,65.3,51.9,74.7,67.3,66.2,84.0,69.6,51.2,74.6,76.9,58.0,75.6,57.4,75.7,63.3,67.3,82.1,71.0,81.8,62.9,75.3,83.0,82.7,72.9,59.8,75.2,73.0,76.0,72.2,71.1,74.3,70.0,69.5,74.4,69.9,75.6,73.6,67.9,54.0,81.5,86.0,74.0,79.0,64.4,79.0,82.5,72.8,71.6,64.0,81.5,74.6,56.5,78.7,55.3,81.6,67.1,52.1,74.9,59.9,82.0,77.5,76.5,73.5,76.5,57.9,66.8,68.7,61.3,74.7,54.6,49.2,72.6,66.5,77.0,51.2,71.9,67.6,71.0,51.3,77.2,76.7,55.7,62.8,87.0,59.6,65.3,67.0,43.8,73.6,73.6,75.6,73.5,62.9,74.2,78.5,78.0,73.8,81.7,82.0,57.6,74.8,73.9,51.7,79.8,67.5,62.3,56.4,75.3,51.9,74.8,72.5,80.0,81.6,45.3,66.1,79.4,65.0,71.6,75.8,73.6,79.1,76.0,52.0,76.3,68.3,74.4,74.1,68.1,72.7,67.1,81.0,52.4,75.7,61.0,73.5,81.3,69.0,71.4,73.3,79.3,51.6,57.3,73.0,76.6,77.0,58.6,78.8,68.0,79.8,74.9,73.9,79.3,72.1,71.7,79.9,62.1,83.0,62.2,73.1,73.0,67.7,79.8,81.7,75.2,79.4,72.2,74.0,71.2,55.0,71.0,46.3,59.5,75.2,51.4,58.5,52.5,79.2,65.5,73.3,75.4,82.1,76.7,54.0,76.4,78.0,77.0,61.6,58.0,76.0,74.7,59.0,73.5,77.5,75.4,71.0,75.4,77.0,48.2,72.6,74.5,72.8,79.3,53.1,67.7,75.0,46.0,71.4,72.9,68.7,72.5,77.1,60.0,55.3,65.0,56.3,78.0,74.6,63.8,74.3,81.3,71.6,66.2,61.3,68.8,72.1,69.0,68.9,62.8,74.2,72.0,58.0,73.9,69.8,76.0,79.3,48.9,74.3,79.7,79.9,72.1,67.1,63.7,68.0,62.5,72.3,67.0,75.0,61.8,72.0,64.4,58.4,73.3,74.7,77.5,75.7,73.0,79.0,52.7,66.0,75.0,74.1,69.9,72.3,75.4,59.1,79.9,56.5,71.1,75.4,57.4,63.8,84.0,79.3,79.1,73.0,54.5,71.1,74.2,51.4,76.0,63.9,77.7,80.0,82.0,63.9,73.5,78.9,66.0,81.3,73.0,64.0,68.2,79.0,78.1,72.0,73.5,55.0,62.1,49.7,86.0,73.1,72.3,68.0,78.3,80.0,71.6,66.8,73.3,65.7,73.0,62.6,61.4,60.0,68.2,66.5,78.2,63.5,52.7,59.3,86.0,74.4,71.3,78.0,66.0,63.6,77.3,70.0,74.5,79.3,75.8,79.6,69.7,64.4,78.0,73.1,51.9,74.7,83.4,74.4,73.3,76.3,76.5,83.0,68.7,75.1,52.8,67.3,55.3,83.5,42.3,84.0,77.0,73.2,79.0,75.0,68.1,51.9,65.1,68.0,74.3,66.1,73.0,72.1,71.4,75.2,59.7,63.7,82.0,75.2,72.2,66.7,76.3,76.2,71.4,56.0,79.0,57.4,80.0,62.2,64.2,59.8,46.0,56.1,69.2,72.7,73.6,73.3,54.8,72.8,75.2,64.7,75.0,47.4,63.3,76.2,51.0,64.1,58.9,49.6,72.4,72.8,53.1,59.2,62.3,53.3,69.1,58.2,68.4,73.1,69.4,79.8,73.7,56.1,52.5,70.0,48.2,66.2,73.2,73.4,74.8,81.2,77.5,73.9,69.9,77.2,81.0,74.9,73.3,73.5,65.0,53.8,88.0,67.0,71.7,78.1,77.3,71.0,87.0,58.0,68.7,71.1,61.0,72.9,52.0,51.5,66.2,74.9,56.7,67.7,56.2,82.4,71.1,72.8,53.8,55.9,79.5,81.0,79.5,72.8,75.1,48.6,44.5,84.0,65.5,75.0,67.3,58.1,51.1,65.8,75.0,73.6,79.4,82.4,69.4,78.4,73.3,62.9,72.1,76.6,54.4,74.3,53.8,69.4,73.0,72.3,73.0,74.3,69.1,74.8,65.6,66.0,65.7,74.9,71.5,56.2,81.1,58.9,85.0,72.9,73.9,53.5,48.0,81.0,75.0,74.1,69.3,82.3,77.4,74.7,67.6,73.7,78.2,73.6,73.1,52.0,81.4,67.2,56.7,72.6,64.2,74.9,79.4,78.3,73.9,66.1,57.2,62.0,59.3,65.3,72.9,71.9,81.3,73.8,82.0,59.4,79.5,77.0,59.4,67.8,60.0,66.4,44.6,78.0,67.7,79.2,75.9,74.5,73.9,65.1,65.6,61.8,73.0,73.2,69.5,62.3,67.5,82.0,76.3,76.5,75.3,51.6,68.0,46.4,68.1,57.3,64.0,74.7,51.9,75.5,71.7,66.0,68.7,73.1,57.2,66.6,62.4,73.2,77.9,71.0,79.5,68.0,74.4,73.7,45.3,48.1,63.7,49.6,63.1,74.7,62.6,55.0,74.9,58.7,71.6,75.0,61.9,53.4,47.7,56.9,78.0,79.9,59.3,65.8,61.4,50.0,79.9,72.6,55.5,69.6,61.0,63.5,74.8,75.5,73.0,69.0,67.2,73.8,54.0,47.7,81.7,52.4,75.8,59.3,73.0,56.5,59.1,53.5,79.6,55.3,67.0,74.4,69.8,54.8,75.6,74.2,55.0,74.5,67.3],\"y\":[55.3,77.0,82.33465346534653,76.38260869565217,52.971428571428575,64.85,73.95421686746991,74.2,74.2554054054054,66.6,73.95421686746991,74.2554054054054,36.3,49.3,72.75474860335194,74.2554054054054,77.55714285714286,77.8,79.4,72.75474860335194,56.6,82.33465346534653,58.0,63.0,71.2,49.3,52.166666666666664,74.2554054054054,65.73333333333333,80.88064516129033,72.75474860335194,72.75474860335194,62.684615384615384,69.3,73.95421686746991,57.088888888888896,73.95421686746991,69.3,77.1,72.75474860335194,63.0,67.44999999999999,77.55714285714286,55.0,48.12857142857143,72.75474860335194,89.0,69.0,63.9,58.39999999999999,73.55714285714285,74.2554054054054,61.4,58.9,72.75474860335194,73.95421686746991,68.19999999999999,72.69333333333334,76.38260869565217,58.5,72.75474860335194,69.3,62.684615384615384,51.0,51.5,82.33465346534653,64.0,57.044827586206885,72.69333333333334,74.2554054054054,74.9,89.0,74.2554054054054,76.9,52.9,74.2554054054054,74.2554054054054,73.95421686746991,74.2554054054054,76.38260869565217,75.7,82.0,71.30000000000001,63.2,75.6,65.86666666666667,74.2554054054054,79.96666666666667,76.38260869565217,77.8,62.6,79.4,82.33465346534653,77.6,64.6,49.8,74.2554054054054,67.09375,66.8,81.0,70.0,52.2875,74.2554054054054,74.2554054054054,59.2,75.29333333333334,61.6,72.75474860335194,62.22222222222222,66.3,82.33465346534653,73.95421686746991,82.33465346534653,69.0,75.1,86.0,82.33465346534653,72.69333333333334,58.7,75.29333333333334,76.0,72.75474860335194,72.2,72.75474860335194,72.75474860335194,69.11428571428573,72.75474860335194,73.95421686746991,76.0,74.2554054054054,72.75474860335194,68.19999999999999,62.684615384615384,81.85,82.33465346534653,74.2554054054054,79.23000000000002,64.7,79.23000000000002,82.33465346534653,73.95421686746991,71.66428571428573,65.1,82.33465346534653,74.76923076923077,58.4,79.23000000000002,68.0,82.33465346534653,65.1,52.971428571428575,75.1,64.0,82.33465346534653,77.5,76.38260869565217,72.69333333333334,77.0,55.2,67.09375,68.0,65.73333333333333,74.2554054054054,54.60000000000001,51.5,77.0,67.65,72.75474860335194,51.1,72.69333333333334,67.75,68.6,52.83913043478262,74.2554054054054,74.1,57.9,63.392307692307696,83.67692307692307,62.7,68.19999999999999,65.125,44.6,72.75474860335194,75.12999999999998,73.95421686746991,73.06666666666666,62.684615384615384,74.2554054054054,78.55,77.55714285714286,72.69333333333334,82.33465346534653,81.85,58.39999999999999,74.76923076923077,74.15,52.3,78.65714285714286,65.73333333333333,62.6,58.39999999999999,75.5,52.83913043478262,71.0,72.75474860335194,79.96666666666667,82.33465346534653,45.7,67.09375,82.33465346534653,63.3,72.75474860335194,75.6,73.7,79.23000000000002,76.38260869565217,52.83913043478262,76.2,68.19999999999999,74.4,74.76923076923077,68.3,73.95421686746991,67.3,81.1,52.83913043478262,74.2554054054054,64.26666666666667,73.16,82.33465346534653,63.175000000000004,74.2554054054054,73.95421686746991,79.23000000000002,53.833333333333336,57.044827586206885,73.02857142857142,77.55714285714286,77.1,58.9,78.65714285714286,68.13000000000001,78.65714285714286,74.2554054054054,74.2554054054054,79.23000000000002,72.75474860335194,72.75474860335194,89.0,62.684615384615384,82.33465346534653,62.7,72.69333333333334,72.75474860335194,68.19999999999999,80.88064516129033,82.33465346534653,76.38260869565217,78.65714285714286,72.69333333333334,72.75474860335194,72.75474860335194,58.0,71.8,41.5,59.5,74.2554054054054,55.1,63.0,52.83913043478262,80.88064516129033,66.15,73.02857142857142,76.38260869565217,81.85,72.75474860335194,54.60000000000001,77.23333333333333,78.0,72.75474860335194,62.22222222222222,57.088888888888896,76.38260869565217,74.2554054054054,59.9,73.95421686746991,76.38260869565217,74.2554054054054,76.0,75.29333333333334,76.0,49.6,72.69333333333334,72.75474860335194,72.75474860335194,77.8,53.833333333333336,67.45,73.95421686746991,48.12857142857143,71.5,74.2554054054054,68.6,72.69333333333334,77.3,67.0,58.72857142857142,64.5,56.6,77.1,74.15,71.8,73.95421686746991,82.33465346534653,73.35454545454546,72.75474860335194,62.22222222222222,68.19999999999999,72.2,68.3,68.13000000000001,63.2,72.75474860335194,72.75474860335194,51.5,74.2554054054054,72.75474860335194,72.75474860335194,79.1,52.971428571428575,74.2554054054054,79.96666666666667,78.65714285714286,72.69333333333334,67.09375,62.5,58.39999999999999,63.392307692307696,72.75474860335194,59.2,74.15,61.6,72.75474860335194,64.85,57.044827586206885,72.75474860335194,74.2554054054054,78.65714285714286,74.2554054054054,74.2554054054054,79.0,52.2875,65.35,74.2554054054054,74.76923076923077,66.16,72.75474860335194,75.29333333333334,58.8,82.33465346534653,57.088888888888896,78.0,75.6,58.39999999999999,63.392307692307696,79.23000000000002,82.33465346534653,82.33465346534653,72.75474860335194,54.0,74.2554054054054,74.2554054054054,54.60000000000001,77.6,64.4,77.55714285714286,80.88064516129033,80.88064516129033,64.2,74.2554054054054,80.88064516129033,69.0,82.33465346534653,74.2554054054054,64.6,67.6,79.23000000000002,78.65714285714286,72.75474860335194,74.2554054054054,55.7,62.6,51.0,84.0,74.2554054054054,72.69333333333334,67.09375,79.23000000000002,79.8,66.3,71.66428571428573,74.2554054054054,71.0,74.2554054054054,65.1,63.175000000000004,59.7,72.75474860335194,68.19999999999999,78.65714285714286,62.684615384615384,52.83913043478262,59.7,86.8,72.75474860335194,71.0,72.75474860335194,67.09375,72.75474860335194,77.23333333333333,73.95421686746991,74.15,79.23000000000002,74.2554054054054,82.33465346534653,69.0,69.0,78.65714285714286,72.75474860335194,53.02857142857143,74.15,82.33465346534653,74.76923076923077,74.2554054054054,76.85,76.38260869565217,80.88064516129033,69.3,73.95421686746991,68.0,68.19999999999999,57.044827586206885,82.33465346534653,44.3,80.88064516129033,72.69333333333334,73.95421686746991,72.75474860335194,71.8,67.3,53.02857142857143,65.125,68.3,76.65000000000002,65.7,71.66428571428573,72.75474860335194,72.1,75.8,52.2,63.392307692307696,82.33465346534653,74.2554054054054,72.75474860335194,68.19999999999999,76.4,76.38260869565217,73.55714285714285,52.83913043478262,77.0,57.088888888888896,81.25,59.3,62.684615384615384,59.7,45.3,57.044827586206885,69.3,72.75474860335194,73.95421686746991,74.2554054054054,55.6,72.75474860335194,74.9,65.9,72.75474860335194,48.12857142857143,64.6,76.3,52.83913043478262,64.3,59.2,53.833333333333336,72.75474860335194,78.0,52.2,58.39999999999999,62.8,52.3,68.6,58.1,66.6,71.66428571428573,69.3,80.88064516129033,72.69333333333334,57.088888888888896,52.971428571428575,69.875,48.6,71.0,72.75474860335194,72.75474860335194,74.2554054054054,89.0,76.1,73.55714285714285,72.75474860335194,77.8,84.0,74.15,72.75474860335194,73.55714285714285,65.47142857142856,53.7,81.5,60.0,75.29333333333334,77.94000000000001,76.83333333333333,73.55714285714285,79.23000000000002,51.1,68.3,73.55714285714285,62.22222222222222,73.95421686746991,51.6,52.2,65.95,74.2554054054054,57.0,67.8,58.39999999999999,81.85,71.5,74.2554054054054,55.5,58.39999999999999,79.4,82.33465346534653,82.33465346534653,73.95421686746991,74.2554054054054,47.6,46.4,84.0,65.1,75.0,67.6,52.83913043478262,52.166666666666664,65.86666666666667,71.66428571428573,73.95421686746991,77.52499999999999,82.33465346534653,67.75,79.23000000000002,72.69333333333334,62.0,73.95421686746991,73.0,53.02857142857143,74.2554054054054,53.02857142857143,74.2554054054054,73.55714285714285,72.75474860335194,69.3,73.95421686746991,69.11428571428573,76.0,65.4,58.39999999999999,65.95,74.2554054054054,71.5,56.9,82.33465346534653,68.0,86.8,72.75474860335194,76.2,52.971428571428575,48.1,81.1,74.2554054054054,72.69333333333334,69.65,82.33465346534653,77.23333333333333,74.2554054054054,71.5,73.7,78.5,73.55714285714285,74.2554054054054,52.3,82.33465346534653,68.13000000000001,57.044827586206885,72.75474860335194,63.392307692307696,74.76923076923077,79.4,78.4,72.75474860335194,67.14000000000001,57.6,69.0,58.7,65.1,73.95421686746991,71.7,82.33465346534653,72.75474860335194,79.23000000000002,55.3,80.88064516129033,72.75474860335194,57.088888888888896,72.75474860335194,57.0,66.2,45.5,78.65714285714286,68.13000000000001,79.23000000000002,72.75474860335194,72.75474860335194,73.95421686746991,71.0,64.5,61.1,73.95421686746991,74.2554054054054,69.5,63.175000000000004,67.09375,82.33465346534653,76.9,74.1,74.2554054054054,52.2,64.0,47.1,67.09375,51.8,69.0,72.75474860335194,52.2,74.2554054054054,72.1,64.6,68.8,74.15,54.60000000000001,67.6,61.7,74.2554054054054,76.65000000000002,73.0,80.88064516129033,61.1,74.2554054054054,73.9,57.044827586206885,51.7,64.1,54.1,63.93333333333334,74.2554054054054,62.9,55.075,73.95421686746991,59.8,74.2554054054054,72.75474860335194,62.1,54.60000000000001,48.0,53.02857142857143,74.2554054054054,78.65714285714286,58.39999999999999,65.7,58.1,52.6,84.0,73.55714285714285,56.3,69.5,62.684615384615384,63.392307692307696,73.95421686746991,74.2554054054054,74.2554054054054,68.19999999999999,66.43749999999999,72.69333333333334,54.3,47.4,80.88064516129033,58.0,74.2554054054054,54.8,73.0,57.044827586206885,59.8,53.02857142857143,78.65714285714286,57.088888888888896,67.45,72.75474860335194,69.0,49.6,75.7,74.2554054054054,54.8,74.76923076923077,66.6],\"type\":\"scatter\"}],                        {\"template\":{\"data\":{\"histogram2dcontour\":[{\"type\":\"histogram2dcontour\",\"colorbar\":{\"outlinewidth\":0,\"ticks\":\"\"},\"colorscale\":[[0.0,\"#0d0887\"],[0.1111111111111111,\"#46039f\"],[0.2222222222222222,\"#7201a8\"],[0.3333333333333333,\"#9c179e\"],[0.4444444444444444,\"#bd3786\"],[0.5555555555555556,\"#d8576b\"],[0.6666666666666666,\"#ed7953\"],[0.7777777777777778,\"#fb9f3a\"],[0.8888888888888888,\"#fdca26\"],[1.0,\"#f0f921\"]]}],\"choropleth\":[{\"type\":\"choropleth\",\"colorbar\":{\"outlinewidth\":0,\"ticks\":\"\"}}],\"histogram2d\":[{\"type\":\"histogram2d\",\"colorbar\":{\"outlinewidth\":0,\"ticks\":\"\"},\"colorscale\":[[0.0,\"#0d0887\"],[0.1111111111111111,\"#46039f\"],[0.2222222222222222,\"#7201a8\"],[0.3333333333333333,\"#9c179e\"],[0.4444444444444444,\"#bd3786\"],[0.5555555555555556,\"#d8576b\"],[0.6666666666666666,\"#ed7953\"],[0.7777777777777778,\"#fb9f3a\"],[0.8888888888888888,\"#fdca26\"],[1.0,\"#f0f921\"]]}],\"heatmap\":[{\"type\":\"heatmap\",\"colorbar\":{\"outlinewidth\":0,\"ticks\":\"\"},\"colorscale\":[[0.0,\"#0d0887\"],[0.1111111111111111,\"#46039f\"],[0.2222222222222222,\"#7201a8\"],[0.3333333333333333,\"#9c179e\"],[0.4444444444444444,\"#bd3786\"],[0.5555555555555556,\"#d8576b\"],[0.6666666666666666,\"#ed7953\"],[0.7777777777777778,\"#fb9f3a\"],[0.8888888888888888,\"#fdca26\"],[1.0,\"#f0f921\"]]}],\"heatmapgl\":[{\"type\":\"heatmapgl\",\"colorbar\":{\"outlinewidth\":0,\"ticks\":\"\"},\"colorscale\":[[0.0,\"#0d0887\"],[0.1111111111111111,\"#46039f\"],[0.2222222222222222,\"#7201a8\"],[0.3333333333333333,\"#9c179e\"],[0.4444444444444444,\"#bd3786\"],[0.5555555555555556,\"#d8576b\"],[0.6666666666666666,\"#ed7953\"],[0.7777777777777778,\"#fb9f3a\"],[0.8888888888888888,\"#fdca26\"],[1.0,\"#f0f921\"]]}],\"contourcarpet\":[{\"type\":\"contourcarpet\",\"colorbar\":{\"outlinewidth\":0,\"ticks\":\"\"}}],\"contour\":[{\"type\":\"contour\",\"colorbar\":{\"outlinewidth\":0,\"ticks\":\"\"},\"colorscale\":[[0.0,\"#0d0887\"],[0.1111111111111111,\"#46039f\"],[0.2222222222222222,\"#7201a8\"],[0.3333333333333333,\"#9c179e\"],[0.4444444444444444,\"#bd3786\"],[0.5555555555555556,\"#d8576b\"],[0.6666666666666666,\"#ed7953\"],[0.7777777777777778,\"#fb9f3a\"],[0.8888888888888888,\"#fdca26\"],[1.0,\"#f0f921\"]]}],\"surface\":[{\"type\":\"surface\",\"colorbar\":{\"outlinewidth\":0,\"ticks\":\"\"},\"colorscale\":[[0.0,\"#0d0887\"],[0.1111111111111111,\"#46039f\"],[0.2222222222222222,\"#7201a8\"],[0.3333333333333333,\"#9c179e\"],[0.4444444444444444,\"#bd3786\"],[0.5555555555555556,\"#d8576b\"],[0.6666666666666666,\"#ed7953\"],[0.7777777777777778,\"#fb9f3a\"],[0.8888888888888888,\"#fdca26\"],[1.0,\"#f0f921\"]]}],\"mesh3d\":[{\"type\":\"mesh3d\",\"colorbar\":{\"outlinewidth\":0,\"ticks\":\"\"}}],\"scatter\":[{\"fillpattern\":{\"fillmode\":\"overlay\",\"size\":10,\"solidity\":0.2},\"type\":\"scatter\"}],\"parcoords\":[{\"type\":\"parcoords\",\"line\":{\"colorbar\":{\"outlinewidth\":0,\"ticks\":\"\"}}}],\"scatterpolargl\":[{\"type\":\"scatterpolargl\",\"marker\":{\"colorbar\":{\"outlinewidth\":0,\"ticks\":\"\"}}}],\"bar\":[{\"error_x\":{\"color\":\"#2a3f5f\"},\"error_y\":{\"color\":\"#2a3f5f\"},\"marker\":{\"line\":{\"color\":\"#E5ECF6\",\"width\":0.5},\"pattern\":{\"fillmode\":\"overlay\",\"size\":10,\"solidity\":0.2}},\"type\":\"bar\"}],\"scattergeo\":[{\"type\":\"scattergeo\",\"marker\":{\"colorbar\":{\"outlinewidth\":0,\"ticks\":\"\"}}}],\"scatterpolar\":[{\"type\":\"scatterpolar\",\"marker\":{\"colorbar\":{\"outlinewidth\":0,\"ticks\":\"\"}}}],\"histogram\":[{\"marker\":{\"pattern\":{\"fillmode\":\"overlay\",\"size\":10,\"solidity\":0.2}},\"type\":\"histogram\"}],\"scattergl\":[{\"type\":\"scattergl\",\"marker\":{\"colorbar\":{\"outlinewidth\":0,\"ticks\":\"\"}}}],\"scatter3d\":[{\"type\":\"scatter3d\",\"line\":{\"colorbar\":{\"outlinewidth\":0,\"ticks\":\"\"}},\"marker\":{\"colorbar\":{\"outlinewidth\":0,\"ticks\":\"\"}}}],\"scattermapbox\":[{\"type\":\"scattermapbox\",\"marker\":{\"colorbar\":{\"outlinewidth\":0,\"ticks\":\"\"}}}],\"scatterternary\":[{\"type\":\"scatterternary\",\"marker\":{\"colorbar\":{\"outlinewidth\":0,\"ticks\":\"\"}}}],\"scattercarpet\":[{\"type\":\"scattercarpet\",\"marker\":{\"colorbar\":{\"outlinewidth\":0,\"ticks\":\"\"}}}],\"carpet\":[{\"aaxis\":{\"endlinecolor\":\"#2a3f5f\",\"gridcolor\":\"white\",\"linecolor\":\"white\",\"minorgridcolor\":\"white\",\"startlinecolor\":\"#2a3f5f\"},\"baxis\":{\"endlinecolor\":\"#2a3f5f\",\"gridcolor\":\"white\",\"linecolor\":\"white\",\"minorgridcolor\":\"white\",\"startlinecolor\":\"#2a3f5f\"},\"type\":\"carpet\"}],\"table\":[{\"cells\":{\"fill\":{\"color\":\"#EBF0F8\"},\"line\":{\"color\":\"white\"}},\"header\":{\"fill\":{\"color\":\"#C8D4E3\"},\"line\":{\"color\":\"white\"}},\"type\":\"table\"}],\"barpolar\":[{\"marker\":{\"line\":{\"color\":\"#E5ECF6\",\"width\":0.5},\"pattern\":{\"fillmode\":\"overlay\",\"size\":10,\"solidity\":0.2}},\"type\":\"barpolar\"}],\"pie\":[{\"automargin\":true,\"type\":\"pie\"}]},\"layout\":{\"autotypenumbers\":\"strict\",\"colorway\":[\"#636efa\",\"#EF553B\",\"#00cc96\",\"#ab63fa\",\"#FFA15A\",\"#19d3f3\",\"#FF6692\",\"#B6E880\",\"#FF97FF\",\"#FECB52\"],\"font\":{\"color\":\"#2a3f5f\"},\"hovermode\":\"closest\",\"hoverlabel\":{\"align\":\"left\"},\"paper_bgcolor\":\"white\",\"plot_bgcolor\":\"#E5ECF6\",\"polar\":{\"bgcolor\":\"#E5ECF6\",\"angularaxis\":{\"gridcolor\":\"white\",\"linecolor\":\"white\",\"ticks\":\"\"},\"radialaxis\":{\"gridcolor\":\"white\",\"linecolor\":\"white\",\"ticks\":\"\"}},\"ternary\":{\"bgcolor\":\"#E5ECF6\",\"aaxis\":{\"gridcolor\":\"white\",\"linecolor\":\"white\",\"ticks\":\"\"},\"baxis\":{\"gridcolor\":\"white\",\"linecolor\":\"white\",\"ticks\":\"\"},\"caxis\":{\"gridcolor\":\"white\",\"linecolor\":\"white\",\"ticks\":\"\"}},\"coloraxis\":{\"colorbar\":{\"outlinewidth\":0,\"ticks\":\"\"}},\"colorscale\":{\"sequential\":[[0.0,\"#0d0887\"],[0.1111111111111111,\"#46039f\"],[0.2222222222222222,\"#7201a8\"],[0.3333333333333333,\"#9c179e\"],[0.4444444444444444,\"#bd3786\"],[0.5555555555555556,\"#d8576b\"],[0.6666666666666666,\"#ed7953\"],[0.7777777777777778,\"#fb9f3a\"],[0.8888888888888888,\"#fdca26\"],[1.0,\"#f0f921\"]],\"sequentialminus\":[[0.0,\"#0d0887\"],[0.1111111111111111,\"#46039f\"],[0.2222222222222222,\"#7201a8\"],[0.3333333333333333,\"#9c179e\"],[0.4444444444444444,\"#bd3786\"],[0.5555555555555556,\"#d8576b\"],[0.6666666666666666,\"#ed7953\"],[0.7777777777777778,\"#fb9f3a\"],[0.8888888888888888,\"#fdca26\"],[1.0,\"#f0f921\"]],\"diverging\":[[0,\"#8e0152\"],[0.1,\"#c51b7d\"],[0.2,\"#de77ae\"],[0.3,\"#f1b6da\"],[0.4,\"#fde0ef\"],[0.5,\"#f7f7f7\"],[0.6,\"#e6f5d0\"],[0.7,\"#b8e186\"],[0.8,\"#7fbc41\"],[0.9,\"#4d9221\"],[1,\"#276419\"]]},\"xaxis\":{\"gridcolor\":\"white\",\"linecolor\":\"white\",\"ticks\":\"\",\"title\":{\"standoff\":15},\"zerolinecolor\":\"white\",\"automargin\":true,\"zerolinewidth\":2},\"yaxis\":{\"gridcolor\":\"white\",\"linecolor\":\"white\",\"ticks\":\"\",\"title\":{\"standoff\":15},\"zerolinecolor\":\"white\",\"automargin\":true,\"zerolinewidth\":2},\"scene\":{\"xaxis\":{\"backgroundcolor\":\"#E5ECF6\",\"gridcolor\":\"white\",\"linecolor\":\"white\",\"showbackground\":true,\"ticks\":\"\",\"zerolinecolor\":\"white\",\"gridwidth\":2},\"yaxis\":{\"backgroundcolor\":\"#E5ECF6\",\"gridcolor\":\"white\",\"linecolor\":\"white\",\"showbackground\":true,\"ticks\":\"\",\"zerolinecolor\":\"white\",\"gridwidth\":2},\"zaxis\":{\"backgroundcolor\":\"#E5ECF6\",\"gridcolor\":\"white\",\"linecolor\":\"white\",\"showbackground\":true,\"ticks\":\"\",\"zerolinecolor\":\"white\",\"gridwidth\":2}},\"shapedefaults\":{\"line\":{\"color\":\"#2a3f5f\"}},\"annotationdefaults\":{\"arrowcolor\":\"#2a3f5f\",\"arrowhead\":0,\"arrowwidth\":1},\"geo\":{\"bgcolor\":\"white\",\"landcolor\":\"#E5ECF6\",\"subunitcolor\":\"white\",\"showland\":true,\"showlakes\":true,\"lakecolor\":\"white\"},\"title\":{\"x\":0.05},\"mapbox\":{\"style\":\"light\"}}},\"title\":{\"text\":\"Visualization of predictions | DecisionTreeRegressor | MAE: 1.4719070802119687\"},\"xaxis\":{\"title\":{\"text\":\"Real values\"},\"range\":[0,100],\"scaleratio\":1},\"yaxis\":{\"title\":{\"text\":\"Predicted values\"},\"range\":[0,100],\"scaleratio\":1}},                        {\"responsive\": true}                    ).then(function(){\n                            \nvar gd = document.getElementById('57be62ab-43a6-4bcd-a172-e4c4acfd2349');\nvar x = new MutationObserver(function (mutations, observer) {{\n        var display = window.getComputedStyle(gd).display;\n        if (!display || display === 'none') {{\n            console.log([gd, 'removed!']);\n            Plotly.purge(gd);\n            observer.disconnect();\n        }}\n}});\n\n// Listen for the removal of the full notebook cells\nvar notebookContainer = gd.closest('#notebook-container');\nif (notebookContainer) {{\n    x.observe(notebookContainer, {childList: true});\n}}\n\n// Listen for the clearing of the current output cell\nvar outputEl = gd.closest('.output');\nif (outputEl) {{\n    x.observe(outputEl, {childList: true});\n}}\n\n                        })                };                            </script>        </div>\n</body>\n</html>"
     },
     "metadata": {},
     "output_type": "display_data"
    }
   ]
  },
  {
   "cell_type": "markdown",
   "source": "* Jakožto druhý alternativní model použiju RandomForestRegressor s laděnými hyperparametry pomocí metriky MAE.",
   "metadata": {
    "tags": [],
    "cell_id": "00161-b64251ec-f0e7-4816-9748-06e1b09d8632",
    "deepnote_cell_type": "markdown",
    "deepnote_cell_height": 69.390625
   }
  },
  {
   "cell_type": "code",
   "metadata": {
    "tags": [],
    "cell_id": "00160-8094b4f4-02f3-49e4-95e0-2239eee4174b",
    "deepnote_to_be_reexecuted": false,
    "source_hash": "3ecbe040",
    "execution_start": 1661363101341,
    "execution_millis": 24875,
    "deepnote_cell_type": "code",
    "deepnote_cell_height": 364
   },
   "source": "from sklearn.ensemble import RandomForestRegressor\nfrom sklearn.model_selection import ParameterGrid\n\nparam_grid = {\n    'n_estimators': range(1,100,5),\n    'max_depth': range(1,5)\n}\n\nparam_comb = ParameterGrid(param_grid)\n\ntrain_acc = []\ntest_acc = []\n\nfor params in param_comb:\n    rf = RandomForestRegressor(**params).fit(X, Y)\n    train_acc.append(get_mae(Y, rf.predict(X)))\n    test_acc.append(get_mae(Y_test, rf.predict(X_test)))",
   "execution_count": 112,
   "outputs": []
  },
  {
   "cell_type": "code",
   "metadata": {
    "tags": [],
    "cell_id": "00161-ac8b3a1e-5bdc-4d9a-9076-51e4c663a0af",
    "deepnote_to_be_reexecuted": false,
    "source_hash": "baa8f496",
    "execution_start": 1661363126252,
    "execution_millis": 715,
    "deepnote_cell_type": "code",
    "deepnote_cell_height": 112
   },
   "source": "best_params = param_comb[np.argmin(test_acc)]\n\nrf = RandomForestRegressor(**best_params).fit(X, Y)",
   "execution_count": 113,
   "outputs": []
  },
  {
   "cell_type": "code",
   "metadata": {
    "tags": [],
    "cell_id": "00162-6c676838-eda9-4816-84ee-b8a2f9f75da2",
    "deepnote_to_be_reexecuted": false,
    "source_hash": "f42e224a",
    "execution_start": 1661363126986,
    "execution_millis": 32,
    "deepnote_cell_type": "code",
    "deepnote_cell_height": 618,
    "deepnote_output_heights": [
     526
    ]
   },
   "source": "plot_prediction_results(\"RandomForestRegressor\", Y_test, rf.predict(X_test))",
   "execution_count": 114,
   "outputs": [
    {
     "data": {
      "text/html": "<html>\n<head><meta charset=\"utf-8\" /></head>\n<body>\n    <div>            <script src=\"https://cdnjs.cloudflare.com/ajax/libs/mathjax/2.7.5/MathJax.js?config=TeX-AMS-MML_SVG\"></script><script type=\"text/javascript\">if (window.MathJax && window.MathJax.Hub && window.MathJax.Hub.Config) {window.MathJax.Hub.Config({SVG: {font: \"STIX-Web\"}});}</script>                <script type=\"text/javascript\">window.PlotlyConfig = {MathJaxConfig: 'local'};</script>\n        <script src=\"https://cdn.plot.ly/plotly-2.12.1.min.js\"></script>                <div id=\"eed51266-25ae-4ef6-b9db-dc5929dfbb93\" class=\"plotly-graph-div\" style=\"height:525px; width:100%;\"></div>            <script type=\"text/javascript\">                                    window.PLOTLYENV=window.PLOTLYENV || {};                                    if (document.getElementById(\"eed51266-25ae-4ef6-b9db-dc5929dfbb93\")) {                    Plotly.newPlot(                        \"eed51266-25ae-4ef6-b9db-dc5929dfbb93\",                        [{\"mode\":\"lines\",\"name\":\"y = \\u0177\",\"x\":[0,100],\"y\":[0,100],\"type\":\"scatter\"},{\"mode\":\"markers\",\"name\":\"(test, prediction)\",\"x\":[56.5,73.0,82.5,75.6,53.0,65.2,72.4,74.1,77.0,67.8,73.1,75.1,44.3,47.9,74.3,74.6,78.4,77.7,79.1,73.3,62.8,82.5,54.0,63.4,72.0,47.8,52.1,75.1,65.6,78.4,73.9,76.3,61.2,69.6,72.7,57.9,74.5,69.4,77.0,75.4,57.7,67.3,78.5,54.2,47.6,68.9,79.4,67.6,63.3,59.8,71.7,73.2,66.5,58.6,67.7,72.8,69.2,72.8,76.4,53.3,72.5,69.0,59.4,56.0,54.1,81.9,64.5,55.3,73.0,72.4,75.5,85.0,74.1,75.6,53.2,75.2,74.9,74.7,73.3,77.3,75.9,83.0,71.3,63.8,76.8,65.9,74.1,79.1,77.8,77.5,62.2,79.5,81.1,77.7,65.3,51.9,74.7,67.3,66.2,84.0,69.6,51.2,74.6,76.9,58.0,75.6,57.4,75.7,63.3,67.3,82.1,71.0,81.8,62.9,75.3,83.0,82.7,72.9,59.8,75.2,73.0,76.0,72.2,71.1,74.3,70.0,69.5,74.4,69.9,75.6,73.6,67.9,54.0,81.5,86.0,74.0,79.0,64.4,79.0,82.5,72.8,71.6,64.0,81.5,74.6,56.5,78.7,55.3,81.6,67.1,52.1,74.9,59.9,82.0,77.5,76.5,73.5,76.5,57.9,66.8,68.7,61.3,74.7,54.6,49.2,72.6,66.5,77.0,51.2,71.9,67.6,71.0,51.3,77.2,76.7,55.7,62.8,87.0,59.6,65.3,67.0,43.8,73.6,73.6,75.6,73.5,62.9,74.2,78.5,78.0,73.8,81.7,82.0,57.6,74.8,73.9,51.7,79.8,67.5,62.3,56.4,75.3,51.9,74.8,72.5,80.0,81.6,45.3,66.1,79.4,65.0,71.6,75.8,73.6,79.1,76.0,52.0,76.3,68.3,74.4,74.1,68.1,72.7,67.1,81.0,52.4,75.7,61.0,73.5,81.3,69.0,71.4,73.3,79.3,51.6,57.3,73.0,76.6,77.0,58.6,78.8,68.0,79.8,74.9,73.9,79.3,72.1,71.7,79.9,62.1,83.0,62.2,73.1,73.0,67.7,79.8,81.7,75.2,79.4,72.2,74.0,71.2,55.0,71.0,46.3,59.5,75.2,51.4,58.5,52.5,79.2,65.5,73.3,75.4,82.1,76.7,54.0,76.4,78.0,77.0,61.6,58.0,76.0,74.7,59.0,73.5,77.5,75.4,71.0,75.4,77.0,48.2,72.6,74.5,72.8,79.3,53.1,67.7,75.0,46.0,71.4,72.9,68.7,72.5,77.1,60.0,55.3,65.0,56.3,78.0,74.6,63.8,74.3,81.3,71.6,66.2,61.3,68.8,72.1,69.0,68.9,62.8,74.2,72.0,58.0,73.9,69.8,76.0,79.3,48.9,74.3,79.7,79.9,72.1,67.1,63.7,68.0,62.5,72.3,67.0,75.0,61.8,72.0,64.4,58.4,73.3,74.7,77.5,75.7,73.0,79.0,52.7,66.0,75.0,74.1,69.9,72.3,75.4,59.1,79.9,56.5,71.1,75.4,57.4,63.8,84.0,79.3,79.1,73.0,54.5,71.1,74.2,51.4,76.0,63.9,77.7,80.0,82.0,63.9,73.5,78.9,66.0,81.3,73.0,64.0,68.2,79.0,78.1,72.0,73.5,55.0,62.1,49.7,86.0,73.1,72.3,68.0,78.3,80.0,71.6,66.8,73.3,65.7,73.0,62.6,61.4,60.0,68.2,66.5,78.2,63.5,52.7,59.3,86.0,74.4,71.3,78.0,66.0,63.6,77.3,70.0,74.5,79.3,75.8,79.6,69.7,64.4,78.0,73.1,51.9,74.7,83.4,74.4,73.3,76.3,76.5,83.0,68.7,75.1,52.8,67.3,55.3,83.5,42.3,84.0,77.0,73.2,79.0,75.0,68.1,51.9,65.1,68.0,74.3,66.1,73.0,72.1,71.4,75.2,59.7,63.7,82.0,75.2,72.2,66.7,76.3,76.2,71.4,56.0,79.0,57.4,80.0,62.2,64.2,59.8,46.0,56.1,69.2,72.7,73.6,73.3,54.8,72.8,75.2,64.7,75.0,47.4,63.3,76.2,51.0,64.1,58.9,49.6,72.4,72.8,53.1,59.2,62.3,53.3,69.1,58.2,68.4,73.1,69.4,79.8,73.7,56.1,52.5,70.0,48.2,66.2,73.2,73.4,74.8,81.2,77.5,73.9,69.9,77.2,81.0,74.9,73.3,73.5,65.0,53.8,88.0,67.0,71.7,78.1,77.3,71.0,87.0,58.0,68.7,71.1,61.0,72.9,52.0,51.5,66.2,74.9,56.7,67.7,56.2,82.4,71.1,72.8,53.8,55.9,79.5,81.0,79.5,72.8,75.1,48.6,44.5,84.0,65.5,75.0,67.3,58.1,51.1,65.8,75.0,73.6,79.4,82.4,69.4,78.4,73.3,62.9,72.1,76.6,54.4,74.3,53.8,69.4,73.0,72.3,73.0,74.3,69.1,74.8,65.6,66.0,65.7,74.9,71.5,56.2,81.1,58.9,85.0,72.9,73.9,53.5,48.0,81.0,75.0,74.1,69.3,82.3,77.4,74.7,67.6,73.7,78.2,73.6,73.1,52.0,81.4,67.2,56.7,72.6,64.2,74.9,79.4,78.3,73.9,66.1,57.2,62.0,59.3,65.3,72.9,71.9,81.3,73.8,82.0,59.4,79.5,77.0,59.4,67.8,60.0,66.4,44.6,78.0,67.7,79.2,75.9,74.5,73.9,65.1,65.6,61.8,73.0,73.2,69.5,62.3,67.5,82.0,76.3,76.5,75.3,51.6,68.0,46.4,68.1,57.3,64.0,74.7,51.9,75.5,71.7,66.0,68.7,73.1,57.2,66.6,62.4,73.2,77.9,71.0,79.5,68.0,74.4,73.7,45.3,48.1,63.7,49.6,63.1,74.7,62.6,55.0,74.9,58.7,71.6,75.0,61.9,53.4,47.7,56.9,78.0,79.9,59.3,65.8,61.4,50.0,79.9,72.6,55.5,69.6,61.0,63.5,74.8,75.5,73.0,69.0,67.2,73.8,54.0,47.7,81.7,52.4,75.8,59.3,73.0,56.5,59.1,53.5,79.6,55.3,67.0,74.4,69.8,54.8,75.6,74.2,55.0,74.5,67.3],\"y\":[57.33101132226027,65.96164705122561,80.21342642530327,75.865404211535,54.93273848182697,66.03808865560624,73.99548333993711,75.35299103446823,74.05656128362786,68.32479879081107,74.03624205650388,74.3244978331502,46.899022605955174,48.21857025072159,72.10314576708176,74.19655239838788,74.84229037466686,77.65002843459374,80.31121232372872,72.77414814441447,57.04824372757281,81.15399367072992,52.809092947649056,57.679664057909626,70.88116907385944,47.256721094761716,50.485845538130086,74.05656128362786,63.74944277430496,79.99898199594962,71.56057806536325,72.31709025949267,62.169013150582934,66.0579915792765,74.19655239838788,55.3573593466253,74.19655239838788,69.16854308955396,78.20139629091355,71.43591927929684,56.37496356882036,67.58869694036105,74.95306468235029,57.5808242015872,54.33533789471924,71.53421028961247,80.29689957458768,68.6012720758297,67.02943097335462,57.754223526364754,73.40724072444073,74.30049397789924,68.73144235266717,60.44949152557395,71.24377800954174,73.83640874989617,71.65569826105492,73.30845166481978,74.03624205650388,55.74870029159302,71.12035217999005,70.05542571910625,62.22571308803145,56.04331223662199,51.17150086011884,81.63851947193302,60.94058698086987,55.85533209990631,74.2915449196463,73.99548333993711,70.20833734939777,80.36883390259754,74.05656128362786,76.46692857613067,51.70455171441915,73.46831866813145,74.05656128362786,74.03624205650388,73.92524812768974,74.213448443879,74.30417860602624,80.10552704691499,72.72789481589088,66.85315388868995,76.55522046724597,66.33312402573634,74.01580256706107,81.4387586571545,74.67301670521901,76.93656931510283,57.97081743190321,79.80510864787678,81.63851947193302,77.01530981527645,67.79670131869415,54.539667067522686,74.01580256706107,68.2543491691885,66.16823969140258,81.574342690357,68.71699558754155,54.08866942487487,74.30417860602624,74.00101533703968,55.79046137416588,74.30417860602624,60.11260858019666,72.33914920720039,61.89688835900541,65.96164705122561,81.63851947193302,73.57480753386415,81.63851947193302,57.45938121973022,75.98936283306753,81.4835828701787,81.63851947193302,74.23848091347703,61.36399179944147,74.42582157751723,73.38475513459558,72.56444581160676,72.51070523293794,67.4222690044184,71.42026890064518,71.22029792581866,71.25877369956156,74.28017475077527,72.78493695116411,74.01580256706107,71.37900018259658,71.06243007482702,62.448575453654705,81.11859551756793,81.61075489000527,74.3244978331502,81.44683887891988,67.14968729401274,79.3320535133689,81.63851947193302,74.19655239838788,72.35946843432436,64.47647597068288,81.63851947193302,74.30417860602624,55.118025026377886,80.25802010424962,55.91929626809255,81.63851947193302,67.58869694036105,54.665549367052336,75.9140884625493,59.06400038092432,81.63851947193302,78.81098793421029,74.42582157751723,73.29538060862347,76.67002161243127,59.95771918047024,68.05014025114025,72.14390448364851,63.26862397126364,74.05656128362786,55.15084302552945,51.333898352770866,69.99382525160209,64.88131611744684,72.16545787643061,54.1493778571931,73.21120698601398,68.35747869764123,67.3526688685203,53.84121736908818,74.05656128362786,75.98126644268542,64.8604341224009,63.9744982025894,81.58938934403187,59.929118596570206,68.56667793720874,61.95568380006048,47.37357126822718,72.26891399495302,73.39860560132408,73.67327309024608,70.25181953387994,62.59193332045642,74.28017475077527,74.83697860656918,74.79340460481336,73.99548333993711,81.63851947193302,80.94731652250361,56.316170627666644,74.01291026219,74.30417860602624,52.7711239186354,81.574342690357,65.86034064573506,60.17376617824356,55.168509940407134,75.21373132844977,54.249640561889244,74.23848091347703,70.43760499163416,81.61075489000527,81.63851947193302,54.823770245937766,68.28484964163256,81.57401089874645,61.51099019592467,72.20783605126229,77.61905220397054,70.26490445163837,79.84430922229804,74.03624205650388,55.30751074638271,77.57642494673934,71.0492675887984,76.47111707722622,74.61039693081995,68.46004607015247,74.03624205650388,66.21171397699143,81.4835828701787,55.698330612409016,74.03624205650388,65.97309239532204,70.02246629920778,81.63851947193302,61.20345537241406,74.30049397789924,74.03624205650388,79.84413412206729,54.14012186587649,55.76801734037599,71.16658856193534,74.95306468235029,79.26911138611796,55.839587020324814,79.97411536663368,67.51795328708882,81.4835828701787,74.05656128362786,73.92281879885522,80.5657251417686,72.77414814441447,72.29839049063364,81.15557498977284,63.80401914040686,81.63851947193302,60.758818785038336,73.99548333993711,72.13715318249434,70.55279397033733,80.43838434355531,81.63851947193302,74.03624205650388,81.4835828701787,74.11373265461134,70.78214293417977,72.3796007812165,52.693858932217225,72.11118952954014,54.04580568108188,60.734040657065975,74.30049397789924,50.53170850684148,56.31871616378886,54.249640561889244,80.38763655520006,68.54750264636665,71.3187406655624,74.30417860602624,81.15533950882674,72.77414814441447,52.04150406611479,79.84664213248176,79.25882575162755,71.96053657123888,61.97963085681668,55.74955224134863,74.03624205650388,75.19874779705329,63.58247701951834,74.03624205650388,74.28017475077527,74.3244978331502,70.02150427257965,74.28017475077527,70.0361045804906,55.26118488045159,74.19655239838788,72.35946843432436,72.10314576708176,79.02001726608789,54.44777513480433,67.14968729401274,73.8702832784272,51.92080063586505,68.90835760790301,74.05656128362786,73.46831866813145,74.15485856108965,79.01926496110464,61.32432342835899,56.03059959453285,67.14968729401274,57.051649908944015,77.81346312523519,74.71852669612107,66.31991256647522,74.03624205650388,81.61075489000527,71.15252784065808,71.33519217682738,61.823946152211,69.46273917408972,72.4802291437891,68.3165643652525,67.51795328708882,65.1052746418946,73.10611551543955,71.72007374703954,51.44226814913459,74.28017475077527,71.96053657123888,72.20783605126229,81.63851947193302,55.323558347853265,74.3244978331502,81.53867041832648,81.574342690357,73.67044997181948,68.07487594219353,64.34558219199056,57.89347801895175,63.596841086438964,71.2456656546883,56.81014143889616,74.97669649023467,60.66590763519826,72.49130131082747,65.96743713990517,57.07268105254044,72.26891399495302,74.02858780742147,81.38373381657215,74.03624205650388,74.01580256706107,70.59059526810549,54.83552663393021,67.54803476606172,75.16294306241986,74.01291026219,62.98981534349728,72.39992000834046,74.64680913046821,55.49911814869033,81.61075489000527,56.440576712227106,74.01291026219,76.09981320187406,57.82831875446629,63.717842379678444,81.574342690357,81.6017754806742,80.56284844931486,72.42035949778325,57.12451324097647,74.05656128362786,74.15716761501228,53.222573290119755,77.67778292547018,67.14968729401274,74.95306468235029,81.60519302136815,80.4425937563869,61.57647312395025,73.8702832784272,80.38763655520006,57.8875640946327,81.57401089874645,74.30049397789924,67.94486713197249,68.44425691933148,79.78464386565855,80.3908935517111,72.73338942784771,73.13410414145967,51.22613367616288,58.628439186174454,53.13232066779962,81.63851947193302,74.3244978331502,73.7407663119408,68.2543491691885,78.09444616241201,81.02896085327455,67.57000255891053,71.22608855230507,74.3244978331502,68.09243493841133,73.94313802597918,64.09071248549577,61.20345537241406,60.23473063597627,72.5506913786152,68.43154177917053,80.23269995344573,64.23135590282364,54.23859235559565,56.91775934384918,81.63851947193302,72.35946843432436,71.81447478814447,72.29839049063364,68.36432722379793,71.51709588088106,81.4835828701787,73.48607430755985,74.262484768728,79.05177552721109,74.30049397789924,81.61075489000527,74.01580256706107,64.5969066597125,81.4835828701787,71.07470916647911,52.281314200521614,74.82533073093266,81.63851947193302,74.06265146212029,74.3244978331502,77.43969708600734,74.19655239838788,80.38763655520006,66.61697919851609,73.8702832784272,55.48367644673003,70.13195791145117,56.690514735189645,80.88982663294146,49.966495310381625,80.4425937563869,73.57480753386415,74.03624205650388,72.62845806392953,71.24049053308921,70.84129748826516,52.219605148212814,62.85434852662913,68.41656388567029,76.36169711206814,71.33622009405966,71.51200888921784,70.37089379364924,70.20702822089258,75.76727095912563,55.898698001547935,65.96743713990517,81.63851947193302,74.3244978331502,72.43918582428365,69.78892932587884,75.9140884625493,74.03624205650388,72.92424269395245,54.659242621233176,70.01202464122167,54.90420575343706,81.4835828701787,61.748301222941336,63.78685540561866,66.31082019889317,46.899022605955174,57.66627812557999,66.0579915792765,72.24859476782906,74.00808926065119,73.99548333993711,55.63917919257106,72.77414814441447,70.20833734939777,67.06245096842736,73.19849714250219,53.587457207727795,67.33474322939989,76.36169711206814,54.143635291701216,67.81680784745268,56.72972061733002,52.791838030043834,72.6692167804963,74.23630568756087,55.01930788575629,56.9798697700866,59.828254765312245,53.451306321146006,65.96164705122561,59.234626091771666,66.10147376375869,72.44427382286764,68.26067993701348,80.38763655520006,74.2915449196463,56.390207033043104,54.93273848182697,69.00449272232262,50.7381676747296,68.24136745715039,71.33519217682738,72.33914920720039,74.03624205650388,81.53759869909818,77.05486378228858,73.8702832784272,71.56388132635536,77.83025731310941,81.4835828701787,75.1103408775908,71.2721145000141,73.89669179055,66.9673993394671,56.93675482536044,81.574342690357,57.077165098413076,75.46103699812294,74.3244978331502,76.24061562508984,73.99548333993711,79.38320508485032,54.1493778571931,66.30016937163158,73.99548333993711,61.823946152211,73.82952456186042,54.833434312074694,54.38721316786214,65.90507994898499,74.3244978331502,59.91628737114208,68.21783187424631,55.546880527711075,81.00654903599839,68.39174404826754,74.01580256706107,54.01830358129762,55.81433691277849,81.45025641961382,81.61075489000527,81.6017754806742,73.98069610991571,74.05656128362786,50.921759081219875,46.899022605955174,81.63851947193302,65.90507994898499,70.01556727056894,68.04895752348885,55.28496987972726,49.904177354153454,63.97190282996205,70.88434315605036,74.00576596735505,81.54101623979213,81.58938934403187,72.22848471000476,79.78464386565855,74.2915449196463,64.58927375123532,74.03624205650388,76.3539665633031,56.86802038711775,74.76259807470802,55.18510956815934,72.67352622836492,74.03624205650388,70.41437597813142,64.97676065189695,74.03624205650388,71.76080933491762,76.0325753360156,65.90308565152982,58.09852732035478,65.90507994898499,74.28017475077527,72.0717029539724,55.595941217662336,81.61075489000527,57.07268105254044,81.63851947193302,72.31709025949267,75.9140884625493,54.49196886913629,54.089383588948174,81.4835828701787,74.05656128362786,73.98069610991571,71.17338264642589,81.63851947193302,80.23269995344573,73.89060250555116,70.36866258959276,70.25181953387994,81.61075489000527,73.44799944100748,73.17343708659662,53.37167970943901,81.63851947193302,67.38262493881766,56.1990306421629,72.03303081715322,65.90507994898499,74.06265146212029,79.52745385277768,79.25882575162755,71.55549107370004,69.26692142488612,56.644081611362076,57.56441546336658,61.314030676356865,66.745475845909,73.98890640693904,70.30838663612056,81.61075489000527,70.11350864860893,78.44687539101726,57.493752705259126,79.6333788265771,66.56601611649675,56.934511809529454,72.16545787643061,56.6837831921373,65.90507994898499,47.17142886683902,80.23269995344573,67.51795328708882,81.44683887891988,72.49130131082747,71.55549107370004,74.03624205650388,67.96962074790451,68.51023434065252,58.628439186174454,73.34122381637717,74.30049397789924,72.0000679953089,61.523274638218425,68.50629341763721,81.61075489000527,76.87721116801252,75.9140884625493,74.28017475077527,55.63533696826598,59.35894046481837,47.7440215884496,68.2543491691885,56.38586391243779,62.169013150582934,71.376786716163,54.38721316786214,74.03624205650388,70.29869001077925,66.80202949275933,68.61026144503658,74.262484768728,54.79368069884094,70.62809893538159,66.18554465892178,74.3244978331502,76.63962877177232,68.61718172095563,80.35987197327232,61.55491823621977,74.05656128362786,73.94313802597918,55.228592119291086,53.000557450655066,65.31715042933153,54.68136799858449,62.192596046749344,74.03624205650388,57.508603427795684,56.22467884691672,74.03624205650388,60.67476477505325,74.3244978331502,71.42026890064518,63.75745118813682,53.19309672140765,50.78962011573123,55.4132676488221,74.05656128362786,81.4835828701787,57.321106318170855,71.24308228002943,59.84219809368794,53.80216045772109,79.96004524963112,73.8702832784272,55.51697012367191,72.11485599364535,62.358468249329235,65.86034064573506,74.03624205650388,74.76259807470802,73.42608986525904,71.02625233067444,67.86450705551583,74.03624205650388,54.13951521790472,54.084041248811786,80.38763655520006,49.22109465720065,74.05656128362786,56.05495474806459,69.50050416633105,58.07967339917541,57.82991920388918,55.22249718054696,80.32345977362404,55.435892502711674,66.98275152433555,73.12643474256352,71.22797999282722,55.4243446124834,74.30417860602624,74.00576596735505,59.305168748766874,74.30417860602624,70.82975958074458],\"type\":\"scatter\"}],                        {\"template\":{\"data\":{\"histogram2dcontour\":[{\"type\":\"histogram2dcontour\",\"colorbar\":{\"outlinewidth\":0,\"ticks\":\"\"},\"colorscale\":[[0.0,\"#0d0887\"],[0.1111111111111111,\"#46039f\"],[0.2222222222222222,\"#7201a8\"],[0.3333333333333333,\"#9c179e\"],[0.4444444444444444,\"#bd3786\"],[0.5555555555555556,\"#d8576b\"],[0.6666666666666666,\"#ed7953\"],[0.7777777777777778,\"#fb9f3a\"],[0.8888888888888888,\"#fdca26\"],[1.0,\"#f0f921\"]]}],\"choropleth\":[{\"type\":\"choropleth\",\"colorbar\":{\"outlinewidth\":0,\"ticks\":\"\"}}],\"histogram2d\":[{\"type\":\"histogram2d\",\"colorbar\":{\"outlinewidth\":0,\"ticks\":\"\"},\"colorscale\":[[0.0,\"#0d0887\"],[0.1111111111111111,\"#46039f\"],[0.2222222222222222,\"#7201a8\"],[0.3333333333333333,\"#9c179e\"],[0.4444444444444444,\"#bd3786\"],[0.5555555555555556,\"#d8576b\"],[0.6666666666666666,\"#ed7953\"],[0.7777777777777778,\"#fb9f3a\"],[0.8888888888888888,\"#fdca26\"],[1.0,\"#f0f921\"]]}],\"heatmap\":[{\"type\":\"heatmap\",\"colorbar\":{\"outlinewidth\":0,\"ticks\":\"\"},\"colorscale\":[[0.0,\"#0d0887\"],[0.1111111111111111,\"#46039f\"],[0.2222222222222222,\"#7201a8\"],[0.3333333333333333,\"#9c179e\"],[0.4444444444444444,\"#bd3786\"],[0.5555555555555556,\"#d8576b\"],[0.6666666666666666,\"#ed7953\"],[0.7777777777777778,\"#fb9f3a\"],[0.8888888888888888,\"#fdca26\"],[1.0,\"#f0f921\"]]}],\"heatmapgl\":[{\"type\":\"heatmapgl\",\"colorbar\":{\"outlinewidth\":0,\"ticks\":\"\"},\"colorscale\":[[0.0,\"#0d0887\"],[0.1111111111111111,\"#46039f\"],[0.2222222222222222,\"#7201a8\"],[0.3333333333333333,\"#9c179e\"],[0.4444444444444444,\"#bd3786\"],[0.5555555555555556,\"#d8576b\"],[0.6666666666666666,\"#ed7953\"],[0.7777777777777778,\"#fb9f3a\"],[0.8888888888888888,\"#fdca26\"],[1.0,\"#f0f921\"]]}],\"contourcarpet\":[{\"type\":\"contourcarpet\",\"colorbar\":{\"outlinewidth\":0,\"ticks\":\"\"}}],\"contour\":[{\"type\":\"contour\",\"colorbar\":{\"outlinewidth\":0,\"ticks\":\"\"},\"colorscale\":[[0.0,\"#0d0887\"],[0.1111111111111111,\"#46039f\"],[0.2222222222222222,\"#7201a8\"],[0.3333333333333333,\"#9c179e\"],[0.4444444444444444,\"#bd3786\"],[0.5555555555555556,\"#d8576b\"],[0.6666666666666666,\"#ed7953\"],[0.7777777777777778,\"#fb9f3a\"],[0.8888888888888888,\"#fdca26\"],[1.0,\"#f0f921\"]]}],\"surface\":[{\"type\":\"surface\",\"colorbar\":{\"outlinewidth\":0,\"ticks\":\"\"},\"colorscale\":[[0.0,\"#0d0887\"],[0.1111111111111111,\"#46039f\"],[0.2222222222222222,\"#7201a8\"],[0.3333333333333333,\"#9c179e\"],[0.4444444444444444,\"#bd3786\"],[0.5555555555555556,\"#d8576b\"],[0.6666666666666666,\"#ed7953\"],[0.7777777777777778,\"#fb9f3a\"],[0.8888888888888888,\"#fdca26\"],[1.0,\"#f0f921\"]]}],\"mesh3d\":[{\"type\":\"mesh3d\",\"colorbar\":{\"outlinewidth\":0,\"ticks\":\"\"}}],\"scatter\":[{\"fillpattern\":{\"fillmode\":\"overlay\",\"size\":10,\"solidity\":0.2},\"type\":\"scatter\"}],\"parcoords\":[{\"type\":\"parcoords\",\"line\":{\"colorbar\":{\"outlinewidth\":0,\"ticks\":\"\"}}}],\"scatterpolargl\":[{\"type\":\"scatterpolargl\",\"marker\":{\"colorbar\":{\"outlinewidth\":0,\"ticks\":\"\"}}}],\"bar\":[{\"error_x\":{\"color\":\"#2a3f5f\"},\"error_y\":{\"color\":\"#2a3f5f\"},\"marker\":{\"line\":{\"color\":\"#E5ECF6\",\"width\":0.5},\"pattern\":{\"fillmode\":\"overlay\",\"size\":10,\"solidity\":0.2}},\"type\":\"bar\"}],\"scattergeo\":[{\"type\":\"scattergeo\",\"marker\":{\"colorbar\":{\"outlinewidth\":0,\"ticks\":\"\"}}}],\"scatterpolar\":[{\"type\":\"scatterpolar\",\"marker\":{\"colorbar\":{\"outlinewidth\":0,\"ticks\":\"\"}}}],\"histogram\":[{\"marker\":{\"pattern\":{\"fillmode\":\"overlay\",\"size\":10,\"solidity\":0.2}},\"type\":\"histogram\"}],\"scattergl\":[{\"type\":\"scattergl\",\"marker\":{\"colorbar\":{\"outlinewidth\":0,\"ticks\":\"\"}}}],\"scatter3d\":[{\"type\":\"scatter3d\",\"line\":{\"colorbar\":{\"outlinewidth\":0,\"ticks\":\"\"}},\"marker\":{\"colorbar\":{\"outlinewidth\":0,\"ticks\":\"\"}}}],\"scattermapbox\":[{\"type\":\"scattermapbox\",\"marker\":{\"colorbar\":{\"outlinewidth\":0,\"ticks\":\"\"}}}],\"scatterternary\":[{\"type\":\"scatterternary\",\"marker\":{\"colorbar\":{\"outlinewidth\":0,\"ticks\":\"\"}}}],\"scattercarpet\":[{\"type\":\"scattercarpet\",\"marker\":{\"colorbar\":{\"outlinewidth\":0,\"ticks\":\"\"}}}],\"carpet\":[{\"aaxis\":{\"endlinecolor\":\"#2a3f5f\",\"gridcolor\":\"white\",\"linecolor\":\"white\",\"minorgridcolor\":\"white\",\"startlinecolor\":\"#2a3f5f\"},\"baxis\":{\"endlinecolor\":\"#2a3f5f\",\"gridcolor\":\"white\",\"linecolor\":\"white\",\"minorgridcolor\":\"white\",\"startlinecolor\":\"#2a3f5f\"},\"type\":\"carpet\"}],\"table\":[{\"cells\":{\"fill\":{\"color\":\"#EBF0F8\"},\"line\":{\"color\":\"white\"}},\"header\":{\"fill\":{\"color\":\"#C8D4E3\"},\"line\":{\"color\":\"white\"}},\"type\":\"table\"}],\"barpolar\":[{\"marker\":{\"line\":{\"color\":\"#E5ECF6\",\"width\":0.5},\"pattern\":{\"fillmode\":\"overlay\",\"size\":10,\"solidity\":0.2}},\"type\":\"barpolar\"}],\"pie\":[{\"automargin\":true,\"type\":\"pie\"}]},\"layout\":{\"autotypenumbers\":\"strict\",\"colorway\":[\"#636efa\",\"#EF553B\",\"#00cc96\",\"#ab63fa\",\"#FFA15A\",\"#19d3f3\",\"#FF6692\",\"#B6E880\",\"#FF97FF\",\"#FECB52\"],\"font\":{\"color\":\"#2a3f5f\"},\"hovermode\":\"closest\",\"hoverlabel\":{\"align\":\"left\"},\"paper_bgcolor\":\"white\",\"plot_bgcolor\":\"#E5ECF6\",\"polar\":{\"bgcolor\":\"#E5ECF6\",\"angularaxis\":{\"gridcolor\":\"white\",\"linecolor\":\"white\",\"ticks\":\"\"},\"radialaxis\":{\"gridcolor\":\"white\",\"linecolor\":\"white\",\"ticks\":\"\"}},\"ternary\":{\"bgcolor\":\"#E5ECF6\",\"aaxis\":{\"gridcolor\":\"white\",\"linecolor\":\"white\",\"ticks\":\"\"},\"baxis\":{\"gridcolor\":\"white\",\"linecolor\":\"white\",\"ticks\":\"\"},\"caxis\":{\"gridcolor\":\"white\",\"linecolor\":\"white\",\"ticks\":\"\"}},\"coloraxis\":{\"colorbar\":{\"outlinewidth\":0,\"ticks\":\"\"}},\"colorscale\":{\"sequential\":[[0.0,\"#0d0887\"],[0.1111111111111111,\"#46039f\"],[0.2222222222222222,\"#7201a8\"],[0.3333333333333333,\"#9c179e\"],[0.4444444444444444,\"#bd3786\"],[0.5555555555555556,\"#d8576b\"],[0.6666666666666666,\"#ed7953\"],[0.7777777777777778,\"#fb9f3a\"],[0.8888888888888888,\"#fdca26\"],[1.0,\"#f0f921\"]],\"sequentialminus\":[[0.0,\"#0d0887\"],[0.1111111111111111,\"#46039f\"],[0.2222222222222222,\"#7201a8\"],[0.3333333333333333,\"#9c179e\"],[0.4444444444444444,\"#bd3786\"],[0.5555555555555556,\"#d8576b\"],[0.6666666666666666,\"#ed7953\"],[0.7777777777777778,\"#fb9f3a\"],[0.8888888888888888,\"#fdca26\"],[1.0,\"#f0f921\"]],\"diverging\":[[0,\"#8e0152\"],[0.1,\"#c51b7d\"],[0.2,\"#de77ae\"],[0.3,\"#f1b6da\"],[0.4,\"#fde0ef\"],[0.5,\"#f7f7f7\"],[0.6,\"#e6f5d0\"],[0.7,\"#b8e186\"],[0.8,\"#7fbc41\"],[0.9,\"#4d9221\"],[1,\"#276419\"]]},\"xaxis\":{\"gridcolor\":\"white\",\"linecolor\":\"white\",\"ticks\":\"\",\"title\":{\"standoff\":15},\"zerolinecolor\":\"white\",\"automargin\":true,\"zerolinewidth\":2},\"yaxis\":{\"gridcolor\":\"white\",\"linecolor\":\"white\",\"ticks\":\"\",\"title\":{\"standoff\":15},\"zerolinecolor\":\"white\",\"automargin\":true,\"zerolinewidth\":2},\"scene\":{\"xaxis\":{\"backgroundcolor\":\"#E5ECF6\",\"gridcolor\":\"white\",\"linecolor\":\"white\",\"showbackground\":true,\"ticks\":\"\",\"zerolinecolor\":\"white\",\"gridwidth\":2},\"yaxis\":{\"backgroundcolor\":\"#E5ECF6\",\"gridcolor\":\"white\",\"linecolor\":\"white\",\"showbackground\":true,\"ticks\":\"\",\"zerolinecolor\":\"white\",\"gridwidth\":2},\"zaxis\":{\"backgroundcolor\":\"#E5ECF6\",\"gridcolor\":\"white\",\"linecolor\":\"white\",\"showbackground\":true,\"ticks\":\"\",\"zerolinecolor\":\"white\",\"gridwidth\":2}},\"shapedefaults\":{\"line\":{\"color\":\"#2a3f5f\"}},\"annotationdefaults\":{\"arrowcolor\":\"#2a3f5f\",\"arrowhead\":0,\"arrowwidth\":1},\"geo\":{\"bgcolor\":\"white\",\"landcolor\":\"#E5ECF6\",\"subunitcolor\":\"white\",\"showland\":true,\"showlakes\":true,\"lakecolor\":\"white\"},\"title\":{\"x\":0.05},\"mapbox\":{\"style\":\"light\"}}},\"title\":{\"text\":\"Visualization of predictions | RandomForestRegressor | MAE: 1.9609034246393557\"},\"xaxis\":{\"title\":{\"text\":\"Real values\"},\"range\":[0,100],\"scaleratio\":1},\"yaxis\":{\"title\":{\"text\":\"Predicted values\"},\"range\":[0,100],\"scaleratio\":1}},                        {\"responsive\": true}                    ).then(function(){\n                            \nvar gd = document.getElementById('eed51266-25ae-4ef6-b9db-dc5929dfbb93');\nvar x = new MutationObserver(function (mutations, observer) {{\n        var display = window.getComputedStyle(gd).display;\n        if (!display || display === 'none') {{\n            console.log([gd, 'removed!']);\n            Plotly.purge(gd);\n            observer.disconnect();\n        }}\n}});\n\n// Listen for the removal of the full notebook cells\nvar notebookContainer = gd.closest('#notebook-container');\nif (notebookContainer) {{\n    x.observe(notebookContainer, {childList: true});\n}}\n\n// Listen for the clearing of the current output cell\nvar outputEl = gd.closest('.output');\nif (outputEl) {{\n    x.observe(outputEl, {childList: true});\n}}\n\n                        })                };                            </script>        </div>\n</body>\n</html>"
     },
     "metadata": {},
     "output_type": "display_data"
    }
   ]
  },
  {
   "cell_type": "markdown",
   "source": "* Podívám se nyní na to, který z alternativních modelů byl pro tento dataset úspěšnější.",
   "metadata": {
    "tags": [],
    "cell_id": "00165-0f77a9e3-6800-4b53-a751-b2be692ab51e",
    "deepnote_cell_type": "markdown",
    "deepnote_cell_height": 69.390625
   }
  },
  {
   "cell_type": "code",
   "metadata": {
    "tags": [],
    "cell_id": "00163-bd49309d-fd78-49a7-8570-b900109c4727",
    "deepnote_to_be_reexecuted": false,
    "source_hash": "c8879163",
    "execution_start": 1661363127036,
    "execution_millis": 42,
    "deepnote_cell_type": "code",
    "deepnote_cell_height": 863.390625,
    "deepnote_output_heights": [
     null,
     526
    ]
   },
   "source": "dt_score = get_mae(Y_test, dt.predict(X_test))\nrf_score = get_mae(Y_test, rf.predict(X_test))\n\nprint(\"Neúspěšnějším alternativním modelem je:\")\n\nif dt_score < rf_score:\n    print(\"DecisionTreeRegressor se score: {}\".format(dt_score))\n    plot_prediction_results(\"DecisionTreeRegressor\", Y_test, dt.predict(X_test))\nelse:\n    print(\"RandomForestRegressor se score: {}\".format(rf_score))\n    plot_prediction_results(\"RandomForestRegressor\", Y_test, rf.predict(X_test))",
   "execution_count": 115,
   "outputs": [
    {
     "name": "stdout",
     "text": "Neúspěšnějším alternativním modelem je:\nDecisionTreeRegressor se score: 1.4719070802119687\n",
     "output_type": "stream"
    },
    {
     "data": {
      "text/html": "<html>\n<head><meta charset=\"utf-8\" /></head>\n<body>\n    <div>            <script src=\"https://cdnjs.cloudflare.com/ajax/libs/mathjax/2.7.5/MathJax.js?config=TeX-AMS-MML_SVG\"></script><script type=\"text/javascript\">if (window.MathJax && window.MathJax.Hub && window.MathJax.Hub.Config) {window.MathJax.Hub.Config({SVG: {font: \"STIX-Web\"}});}</script>                <script type=\"text/javascript\">window.PlotlyConfig = {MathJaxConfig: 'local'};</script>\n        <script src=\"https://cdn.plot.ly/plotly-2.12.1.min.js\"></script>                <div id=\"7bca3607-6e67-42d5-8894-04beb34b474e\" class=\"plotly-graph-div\" style=\"height:525px; width:100%;\"></div>            <script type=\"text/javascript\">                                    window.PLOTLYENV=window.PLOTLYENV || {};                                    if (document.getElementById(\"7bca3607-6e67-42d5-8894-04beb34b474e\")) {                    Plotly.newPlot(                        \"7bca3607-6e67-42d5-8894-04beb34b474e\",                        [{\"mode\":\"lines\",\"name\":\"y = \\u0177\",\"x\":[0,100],\"y\":[0,100],\"type\":\"scatter\"},{\"mode\":\"markers\",\"name\":\"(test, prediction)\",\"x\":[56.5,73.0,82.5,75.6,53.0,65.2,72.4,74.1,77.0,67.8,73.1,75.1,44.3,47.9,74.3,74.6,78.4,77.7,79.1,73.3,62.8,82.5,54.0,63.4,72.0,47.8,52.1,75.1,65.6,78.4,73.9,76.3,61.2,69.6,72.7,57.9,74.5,69.4,77.0,75.4,57.7,67.3,78.5,54.2,47.6,68.9,79.4,67.6,63.3,59.8,71.7,73.2,66.5,58.6,67.7,72.8,69.2,72.8,76.4,53.3,72.5,69.0,59.4,56.0,54.1,81.9,64.5,55.3,73.0,72.4,75.5,85.0,74.1,75.6,53.2,75.2,74.9,74.7,73.3,77.3,75.9,83.0,71.3,63.8,76.8,65.9,74.1,79.1,77.8,77.5,62.2,79.5,81.1,77.7,65.3,51.9,74.7,67.3,66.2,84.0,69.6,51.2,74.6,76.9,58.0,75.6,57.4,75.7,63.3,67.3,82.1,71.0,81.8,62.9,75.3,83.0,82.7,72.9,59.8,75.2,73.0,76.0,72.2,71.1,74.3,70.0,69.5,74.4,69.9,75.6,73.6,67.9,54.0,81.5,86.0,74.0,79.0,64.4,79.0,82.5,72.8,71.6,64.0,81.5,74.6,56.5,78.7,55.3,81.6,67.1,52.1,74.9,59.9,82.0,77.5,76.5,73.5,76.5,57.9,66.8,68.7,61.3,74.7,54.6,49.2,72.6,66.5,77.0,51.2,71.9,67.6,71.0,51.3,77.2,76.7,55.7,62.8,87.0,59.6,65.3,67.0,43.8,73.6,73.6,75.6,73.5,62.9,74.2,78.5,78.0,73.8,81.7,82.0,57.6,74.8,73.9,51.7,79.8,67.5,62.3,56.4,75.3,51.9,74.8,72.5,80.0,81.6,45.3,66.1,79.4,65.0,71.6,75.8,73.6,79.1,76.0,52.0,76.3,68.3,74.4,74.1,68.1,72.7,67.1,81.0,52.4,75.7,61.0,73.5,81.3,69.0,71.4,73.3,79.3,51.6,57.3,73.0,76.6,77.0,58.6,78.8,68.0,79.8,74.9,73.9,79.3,72.1,71.7,79.9,62.1,83.0,62.2,73.1,73.0,67.7,79.8,81.7,75.2,79.4,72.2,74.0,71.2,55.0,71.0,46.3,59.5,75.2,51.4,58.5,52.5,79.2,65.5,73.3,75.4,82.1,76.7,54.0,76.4,78.0,77.0,61.6,58.0,76.0,74.7,59.0,73.5,77.5,75.4,71.0,75.4,77.0,48.2,72.6,74.5,72.8,79.3,53.1,67.7,75.0,46.0,71.4,72.9,68.7,72.5,77.1,60.0,55.3,65.0,56.3,78.0,74.6,63.8,74.3,81.3,71.6,66.2,61.3,68.8,72.1,69.0,68.9,62.8,74.2,72.0,58.0,73.9,69.8,76.0,79.3,48.9,74.3,79.7,79.9,72.1,67.1,63.7,68.0,62.5,72.3,67.0,75.0,61.8,72.0,64.4,58.4,73.3,74.7,77.5,75.7,73.0,79.0,52.7,66.0,75.0,74.1,69.9,72.3,75.4,59.1,79.9,56.5,71.1,75.4,57.4,63.8,84.0,79.3,79.1,73.0,54.5,71.1,74.2,51.4,76.0,63.9,77.7,80.0,82.0,63.9,73.5,78.9,66.0,81.3,73.0,64.0,68.2,79.0,78.1,72.0,73.5,55.0,62.1,49.7,86.0,73.1,72.3,68.0,78.3,80.0,71.6,66.8,73.3,65.7,73.0,62.6,61.4,60.0,68.2,66.5,78.2,63.5,52.7,59.3,86.0,74.4,71.3,78.0,66.0,63.6,77.3,70.0,74.5,79.3,75.8,79.6,69.7,64.4,78.0,73.1,51.9,74.7,83.4,74.4,73.3,76.3,76.5,83.0,68.7,75.1,52.8,67.3,55.3,83.5,42.3,84.0,77.0,73.2,79.0,75.0,68.1,51.9,65.1,68.0,74.3,66.1,73.0,72.1,71.4,75.2,59.7,63.7,82.0,75.2,72.2,66.7,76.3,76.2,71.4,56.0,79.0,57.4,80.0,62.2,64.2,59.8,46.0,56.1,69.2,72.7,73.6,73.3,54.8,72.8,75.2,64.7,75.0,47.4,63.3,76.2,51.0,64.1,58.9,49.6,72.4,72.8,53.1,59.2,62.3,53.3,69.1,58.2,68.4,73.1,69.4,79.8,73.7,56.1,52.5,70.0,48.2,66.2,73.2,73.4,74.8,81.2,77.5,73.9,69.9,77.2,81.0,74.9,73.3,73.5,65.0,53.8,88.0,67.0,71.7,78.1,77.3,71.0,87.0,58.0,68.7,71.1,61.0,72.9,52.0,51.5,66.2,74.9,56.7,67.7,56.2,82.4,71.1,72.8,53.8,55.9,79.5,81.0,79.5,72.8,75.1,48.6,44.5,84.0,65.5,75.0,67.3,58.1,51.1,65.8,75.0,73.6,79.4,82.4,69.4,78.4,73.3,62.9,72.1,76.6,54.4,74.3,53.8,69.4,73.0,72.3,73.0,74.3,69.1,74.8,65.6,66.0,65.7,74.9,71.5,56.2,81.1,58.9,85.0,72.9,73.9,53.5,48.0,81.0,75.0,74.1,69.3,82.3,77.4,74.7,67.6,73.7,78.2,73.6,73.1,52.0,81.4,67.2,56.7,72.6,64.2,74.9,79.4,78.3,73.9,66.1,57.2,62.0,59.3,65.3,72.9,71.9,81.3,73.8,82.0,59.4,79.5,77.0,59.4,67.8,60.0,66.4,44.6,78.0,67.7,79.2,75.9,74.5,73.9,65.1,65.6,61.8,73.0,73.2,69.5,62.3,67.5,82.0,76.3,76.5,75.3,51.6,68.0,46.4,68.1,57.3,64.0,74.7,51.9,75.5,71.7,66.0,68.7,73.1,57.2,66.6,62.4,73.2,77.9,71.0,79.5,68.0,74.4,73.7,45.3,48.1,63.7,49.6,63.1,74.7,62.6,55.0,74.9,58.7,71.6,75.0,61.9,53.4,47.7,56.9,78.0,79.9,59.3,65.8,61.4,50.0,79.9,72.6,55.5,69.6,61.0,63.5,74.8,75.5,73.0,69.0,67.2,73.8,54.0,47.7,81.7,52.4,75.8,59.3,73.0,56.5,59.1,53.5,79.6,55.3,67.0,74.4,69.8,54.8,75.6,74.2,55.0,74.5,67.3],\"y\":[55.3,77.0,82.33465346534653,76.38260869565217,52.971428571428575,64.85,73.95421686746991,74.2,74.2554054054054,66.6,73.95421686746991,74.2554054054054,36.3,49.3,72.75474860335194,74.2554054054054,77.55714285714286,77.8,79.4,72.75474860335194,56.6,82.33465346534653,58.0,63.0,71.2,49.3,52.166666666666664,74.2554054054054,65.73333333333333,80.88064516129033,72.75474860335194,72.75474860335194,62.684615384615384,69.3,73.95421686746991,57.088888888888896,73.95421686746991,69.3,77.1,72.75474860335194,63.0,67.44999999999999,77.55714285714286,55.0,48.12857142857143,72.75474860335194,89.0,69.0,63.9,58.39999999999999,73.55714285714285,74.2554054054054,61.4,58.9,72.75474860335194,73.95421686746991,68.19999999999999,72.69333333333334,76.38260869565217,58.5,72.75474860335194,69.3,62.684615384615384,51.0,51.5,82.33465346534653,64.0,57.044827586206885,72.69333333333334,74.2554054054054,74.9,89.0,74.2554054054054,76.9,52.9,74.2554054054054,74.2554054054054,73.95421686746991,74.2554054054054,76.38260869565217,75.7,82.0,71.30000000000001,63.2,75.6,65.86666666666667,74.2554054054054,79.96666666666667,76.38260869565217,77.8,62.6,79.4,82.33465346534653,77.6,64.6,49.8,74.2554054054054,67.09375,66.8,81.0,70.0,52.2875,74.2554054054054,74.2554054054054,59.2,75.29333333333334,61.6,72.75474860335194,62.22222222222222,66.3,82.33465346534653,73.95421686746991,82.33465346534653,69.0,75.1,86.0,82.33465346534653,72.69333333333334,58.7,75.29333333333334,76.0,72.75474860335194,72.2,72.75474860335194,72.75474860335194,69.11428571428573,72.75474860335194,73.95421686746991,76.0,74.2554054054054,72.75474860335194,68.19999999999999,62.684615384615384,81.85,82.33465346534653,74.2554054054054,79.23000000000002,64.7,79.23000000000002,82.33465346534653,73.95421686746991,71.66428571428573,65.1,82.33465346534653,74.76923076923077,58.4,79.23000000000002,68.0,82.33465346534653,65.1,52.971428571428575,75.1,64.0,82.33465346534653,77.5,76.38260869565217,72.69333333333334,77.0,55.2,67.09375,68.0,65.73333333333333,74.2554054054054,54.60000000000001,51.5,77.0,67.65,72.75474860335194,51.1,72.69333333333334,67.75,68.6,52.83913043478262,74.2554054054054,74.1,57.9,63.392307692307696,83.67692307692307,62.7,68.19999999999999,65.125,44.6,72.75474860335194,75.12999999999998,73.95421686746991,73.06666666666666,62.684615384615384,74.2554054054054,78.55,77.55714285714286,72.69333333333334,82.33465346534653,81.85,58.39999999999999,74.76923076923077,74.15,52.3,78.65714285714286,65.73333333333333,62.6,58.39999999999999,75.5,52.83913043478262,71.0,72.75474860335194,79.96666666666667,82.33465346534653,45.7,67.09375,82.33465346534653,63.3,72.75474860335194,75.6,73.7,79.23000000000002,76.38260869565217,52.83913043478262,76.2,68.19999999999999,74.4,74.76923076923077,68.3,73.95421686746991,67.3,81.1,52.83913043478262,74.2554054054054,64.26666666666667,73.16,82.33465346534653,63.175000000000004,74.2554054054054,73.95421686746991,79.23000000000002,53.833333333333336,57.044827586206885,73.02857142857142,77.55714285714286,77.1,58.9,78.65714285714286,68.13000000000001,78.65714285714286,74.2554054054054,74.2554054054054,79.23000000000002,72.75474860335194,72.75474860335194,89.0,62.684615384615384,82.33465346534653,62.7,72.69333333333334,72.75474860335194,68.19999999999999,80.88064516129033,82.33465346534653,76.38260869565217,78.65714285714286,72.69333333333334,72.75474860335194,72.75474860335194,58.0,71.8,41.5,59.5,74.2554054054054,55.1,63.0,52.83913043478262,80.88064516129033,66.15,73.02857142857142,76.38260869565217,81.85,72.75474860335194,54.60000000000001,77.23333333333333,78.0,72.75474860335194,62.22222222222222,57.088888888888896,76.38260869565217,74.2554054054054,59.9,73.95421686746991,76.38260869565217,74.2554054054054,76.0,75.29333333333334,76.0,49.6,72.69333333333334,72.75474860335194,72.75474860335194,77.8,53.833333333333336,67.45,73.95421686746991,48.12857142857143,71.5,74.2554054054054,68.6,72.69333333333334,77.3,67.0,58.72857142857142,64.5,56.6,77.1,74.15,71.8,73.95421686746991,82.33465346534653,73.35454545454546,72.75474860335194,62.22222222222222,68.19999999999999,72.2,68.3,68.13000000000001,63.2,72.75474860335194,72.75474860335194,51.5,74.2554054054054,72.75474860335194,72.75474860335194,79.1,52.971428571428575,74.2554054054054,79.96666666666667,78.65714285714286,72.69333333333334,67.09375,62.5,58.39999999999999,63.392307692307696,72.75474860335194,59.2,74.15,61.6,72.75474860335194,64.85,57.044827586206885,72.75474860335194,74.2554054054054,78.65714285714286,74.2554054054054,74.2554054054054,79.0,52.2875,65.35,74.2554054054054,74.76923076923077,66.16,72.75474860335194,75.29333333333334,58.8,82.33465346534653,57.088888888888896,78.0,75.6,58.39999999999999,63.392307692307696,79.23000000000002,82.33465346534653,82.33465346534653,72.75474860335194,54.0,74.2554054054054,74.2554054054054,54.60000000000001,77.6,64.4,77.55714285714286,80.88064516129033,80.88064516129033,64.2,74.2554054054054,80.88064516129033,69.0,82.33465346534653,74.2554054054054,64.6,67.6,79.23000000000002,78.65714285714286,72.75474860335194,74.2554054054054,55.7,62.6,51.0,84.0,74.2554054054054,72.69333333333334,67.09375,79.23000000000002,79.8,66.3,71.66428571428573,74.2554054054054,71.0,74.2554054054054,65.1,63.175000000000004,59.7,72.75474860335194,68.19999999999999,78.65714285714286,62.684615384615384,52.83913043478262,59.7,86.8,72.75474860335194,71.0,72.75474860335194,67.09375,72.75474860335194,77.23333333333333,73.95421686746991,74.15,79.23000000000002,74.2554054054054,82.33465346534653,69.0,69.0,78.65714285714286,72.75474860335194,53.02857142857143,74.15,82.33465346534653,74.76923076923077,74.2554054054054,76.85,76.38260869565217,80.88064516129033,69.3,73.95421686746991,68.0,68.19999999999999,57.044827586206885,82.33465346534653,44.3,80.88064516129033,72.69333333333334,73.95421686746991,72.75474860335194,71.8,67.3,53.02857142857143,65.125,68.3,76.65000000000002,65.7,71.66428571428573,72.75474860335194,72.1,75.8,52.2,63.392307692307696,82.33465346534653,74.2554054054054,72.75474860335194,68.19999999999999,76.4,76.38260869565217,73.55714285714285,52.83913043478262,77.0,57.088888888888896,81.25,59.3,62.684615384615384,59.7,45.3,57.044827586206885,69.3,72.75474860335194,73.95421686746991,74.2554054054054,55.6,72.75474860335194,74.9,65.9,72.75474860335194,48.12857142857143,64.6,76.3,52.83913043478262,64.3,59.2,53.833333333333336,72.75474860335194,78.0,52.2,58.39999999999999,62.8,52.3,68.6,58.1,66.6,71.66428571428573,69.3,80.88064516129033,72.69333333333334,57.088888888888896,52.971428571428575,69.875,48.6,71.0,72.75474860335194,72.75474860335194,74.2554054054054,89.0,76.1,73.55714285714285,72.75474860335194,77.8,84.0,74.15,72.75474860335194,73.55714285714285,65.47142857142856,53.7,81.5,60.0,75.29333333333334,77.94000000000001,76.83333333333333,73.55714285714285,79.23000000000002,51.1,68.3,73.55714285714285,62.22222222222222,73.95421686746991,51.6,52.2,65.95,74.2554054054054,57.0,67.8,58.39999999999999,81.85,71.5,74.2554054054054,55.5,58.39999999999999,79.4,82.33465346534653,82.33465346534653,73.95421686746991,74.2554054054054,47.6,46.4,84.0,65.1,75.0,67.6,52.83913043478262,52.166666666666664,65.86666666666667,71.66428571428573,73.95421686746991,77.52499999999999,82.33465346534653,67.75,79.23000000000002,72.69333333333334,62.0,73.95421686746991,73.0,53.02857142857143,74.2554054054054,53.02857142857143,74.2554054054054,73.55714285714285,72.75474860335194,69.3,73.95421686746991,69.11428571428573,76.0,65.4,58.39999999999999,65.95,74.2554054054054,71.5,56.9,82.33465346534653,68.0,86.8,72.75474860335194,76.2,52.971428571428575,48.1,81.1,74.2554054054054,72.69333333333334,69.65,82.33465346534653,77.23333333333333,74.2554054054054,71.5,73.7,78.5,73.55714285714285,74.2554054054054,52.3,82.33465346534653,68.13000000000001,57.044827586206885,72.75474860335194,63.392307692307696,74.76923076923077,79.4,78.4,72.75474860335194,67.14000000000001,57.6,69.0,58.7,65.1,73.95421686746991,71.7,82.33465346534653,72.75474860335194,79.23000000000002,55.3,80.88064516129033,72.75474860335194,57.088888888888896,72.75474860335194,57.0,66.2,45.5,78.65714285714286,68.13000000000001,79.23000000000002,72.75474860335194,72.75474860335194,73.95421686746991,71.0,64.5,61.1,73.95421686746991,74.2554054054054,69.5,63.175000000000004,67.09375,82.33465346534653,76.9,74.1,74.2554054054054,52.2,64.0,47.1,67.09375,51.8,69.0,72.75474860335194,52.2,74.2554054054054,72.1,64.6,68.8,74.15,54.60000000000001,67.6,61.7,74.2554054054054,76.65000000000002,73.0,80.88064516129033,61.1,74.2554054054054,73.9,57.044827586206885,51.7,64.1,54.1,63.93333333333334,74.2554054054054,62.9,55.075,73.95421686746991,59.8,74.2554054054054,72.75474860335194,62.1,54.60000000000001,48.0,53.02857142857143,74.2554054054054,78.65714285714286,58.39999999999999,65.7,58.1,52.6,84.0,73.55714285714285,56.3,69.5,62.684615384615384,63.392307692307696,73.95421686746991,74.2554054054054,74.2554054054054,68.19999999999999,66.43749999999999,72.69333333333334,54.3,47.4,80.88064516129033,58.0,74.2554054054054,54.8,73.0,57.044827586206885,59.8,53.02857142857143,78.65714285714286,57.088888888888896,67.45,72.75474860335194,69.0,49.6,75.7,74.2554054054054,54.8,74.76923076923077,66.6],\"type\":\"scatter\"}],                        {\"template\":{\"data\":{\"histogram2dcontour\":[{\"type\":\"histogram2dcontour\",\"colorbar\":{\"outlinewidth\":0,\"ticks\":\"\"},\"colorscale\":[[0.0,\"#0d0887\"],[0.1111111111111111,\"#46039f\"],[0.2222222222222222,\"#7201a8\"],[0.3333333333333333,\"#9c179e\"],[0.4444444444444444,\"#bd3786\"],[0.5555555555555556,\"#d8576b\"],[0.6666666666666666,\"#ed7953\"],[0.7777777777777778,\"#fb9f3a\"],[0.8888888888888888,\"#fdca26\"],[1.0,\"#f0f921\"]]}],\"choropleth\":[{\"type\":\"choropleth\",\"colorbar\":{\"outlinewidth\":0,\"ticks\":\"\"}}],\"histogram2d\":[{\"type\":\"histogram2d\",\"colorbar\":{\"outlinewidth\":0,\"ticks\":\"\"},\"colorscale\":[[0.0,\"#0d0887\"],[0.1111111111111111,\"#46039f\"],[0.2222222222222222,\"#7201a8\"],[0.3333333333333333,\"#9c179e\"],[0.4444444444444444,\"#bd3786\"],[0.5555555555555556,\"#d8576b\"],[0.6666666666666666,\"#ed7953\"],[0.7777777777777778,\"#fb9f3a\"],[0.8888888888888888,\"#fdca26\"],[1.0,\"#f0f921\"]]}],\"heatmap\":[{\"type\":\"heatmap\",\"colorbar\":{\"outlinewidth\":0,\"ticks\":\"\"},\"colorscale\":[[0.0,\"#0d0887\"],[0.1111111111111111,\"#46039f\"],[0.2222222222222222,\"#7201a8\"],[0.3333333333333333,\"#9c179e\"],[0.4444444444444444,\"#bd3786\"],[0.5555555555555556,\"#d8576b\"],[0.6666666666666666,\"#ed7953\"],[0.7777777777777778,\"#fb9f3a\"],[0.8888888888888888,\"#fdca26\"],[1.0,\"#f0f921\"]]}],\"heatmapgl\":[{\"type\":\"heatmapgl\",\"colorbar\":{\"outlinewidth\":0,\"ticks\":\"\"},\"colorscale\":[[0.0,\"#0d0887\"],[0.1111111111111111,\"#46039f\"],[0.2222222222222222,\"#7201a8\"],[0.3333333333333333,\"#9c179e\"],[0.4444444444444444,\"#bd3786\"],[0.5555555555555556,\"#d8576b\"],[0.6666666666666666,\"#ed7953\"],[0.7777777777777778,\"#fb9f3a\"],[0.8888888888888888,\"#fdca26\"],[1.0,\"#f0f921\"]]}],\"contourcarpet\":[{\"type\":\"contourcarpet\",\"colorbar\":{\"outlinewidth\":0,\"ticks\":\"\"}}],\"contour\":[{\"type\":\"contour\",\"colorbar\":{\"outlinewidth\":0,\"ticks\":\"\"},\"colorscale\":[[0.0,\"#0d0887\"],[0.1111111111111111,\"#46039f\"],[0.2222222222222222,\"#7201a8\"],[0.3333333333333333,\"#9c179e\"],[0.4444444444444444,\"#bd3786\"],[0.5555555555555556,\"#d8576b\"],[0.6666666666666666,\"#ed7953\"],[0.7777777777777778,\"#fb9f3a\"],[0.8888888888888888,\"#fdca26\"],[1.0,\"#f0f921\"]]}],\"surface\":[{\"type\":\"surface\",\"colorbar\":{\"outlinewidth\":0,\"ticks\":\"\"},\"colorscale\":[[0.0,\"#0d0887\"],[0.1111111111111111,\"#46039f\"],[0.2222222222222222,\"#7201a8\"],[0.3333333333333333,\"#9c179e\"],[0.4444444444444444,\"#bd3786\"],[0.5555555555555556,\"#d8576b\"],[0.6666666666666666,\"#ed7953\"],[0.7777777777777778,\"#fb9f3a\"],[0.8888888888888888,\"#fdca26\"],[1.0,\"#f0f921\"]]}],\"mesh3d\":[{\"type\":\"mesh3d\",\"colorbar\":{\"outlinewidth\":0,\"ticks\":\"\"}}],\"scatter\":[{\"fillpattern\":{\"fillmode\":\"overlay\",\"size\":10,\"solidity\":0.2},\"type\":\"scatter\"}],\"parcoords\":[{\"type\":\"parcoords\",\"line\":{\"colorbar\":{\"outlinewidth\":0,\"ticks\":\"\"}}}],\"scatterpolargl\":[{\"type\":\"scatterpolargl\",\"marker\":{\"colorbar\":{\"outlinewidth\":0,\"ticks\":\"\"}}}],\"bar\":[{\"error_x\":{\"color\":\"#2a3f5f\"},\"error_y\":{\"color\":\"#2a3f5f\"},\"marker\":{\"line\":{\"color\":\"#E5ECF6\",\"width\":0.5},\"pattern\":{\"fillmode\":\"overlay\",\"size\":10,\"solidity\":0.2}},\"type\":\"bar\"}],\"scattergeo\":[{\"type\":\"scattergeo\",\"marker\":{\"colorbar\":{\"outlinewidth\":0,\"ticks\":\"\"}}}],\"scatterpolar\":[{\"type\":\"scatterpolar\",\"marker\":{\"colorbar\":{\"outlinewidth\":0,\"ticks\":\"\"}}}],\"histogram\":[{\"marker\":{\"pattern\":{\"fillmode\":\"overlay\",\"size\":10,\"solidity\":0.2}},\"type\":\"histogram\"}],\"scattergl\":[{\"type\":\"scattergl\",\"marker\":{\"colorbar\":{\"outlinewidth\":0,\"ticks\":\"\"}}}],\"scatter3d\":[{\"type\":\"scatter3d\",\"line\":{\"colorbar\":{\"outlinewidth\":0,\"ticks\":\"\"}},\"marker\":{\"colorbar\":{\"outlinewidth\":0,\"ticks\":\"\"}}}],\"scattermapbox\":[{\"type\":\"scattermapbox\",\"marker\":{\"colorbar\":{\"outlinewidth\":0,\"ticks\":\"\"}}}],\"scatterternary\":[{\"type\":\"scatterternary\",\"marker\":{\"colorbar\":{\"outlinewidth\":0,\"ticks\":\"\"}}}],\"scattercarpet\":[{\"type\":\"scattercarpet\",\"marker\":{\"colorbar\":{\"outlinewidth\":0,\"ticks\":\"\"}}}],\"carpet\":[{\"aaxis\":{\"endlinecolor\":\"#2a3f5f\",\"gridcolor\":\"white\",\"linecolor\":\"white\",\"minorgridcolor\":\"white\",\"startlinecolor\":\"#2a3f5f\"},\"baxis\":{\"endlinecolor\":\"#2a3f5f\",\"gridcolor\":\"white\",\"linecolor\":\"white\",\"minorgridcolor\":\"white\",\"startlinecolor\":\"#2a3f5f\"},\"type\":\"carpet\"}],\"table\":[{\"cells\":{\"fill\":{\"color\":\"#EBF0F8\"},\"line\":{\"color\":\"white\"}},\"header\":{\"fill\":{\"color\":\"#C8D4E3\"},\"line\":{\"color\":\"white\"}},\"type\":\"table\"}],\"barpolar\":[{\"marker\":{\"line\":{\"color\":\"#E5ECF6\",\"width\":0.5},\"pattern\":{\"fillmode\":\"overlay\",\"size\":10,\"solidity\":0.2}},\"type\":\"barpolar\"}],\"pie\":[{\"automargin\":true,\"type\":\"pie\"}]},\"layout\":{\"autotypenumbers\":\"strict\",\"colorway\":[\"#636efa\",\"#EF553B\",\"#00cc96\",\"#ab63fa\",\"#FFA15A\",\"#19d3f3\",\"#FF6692\",\"#B6E880\",\"#FF97FF\",\"#FECB52\"],\"font\":{\"color\":\"#2a3f5f\"},\"hovermode\":\"closest\",\"hoverlabel\":{\"align\":\"left\"},\"paper_bgcolor\":\"white\",\"plot_bgcolor\":\"#E5ECF6\",\"polar\":{\"bgcolor\":\"#E5ECF6\",\"angularaxis\":{\"gridcolor\":\"white\",\"linecolor\":\"white\",\"ticks\":\"\"},\"radialaxis\":{\"gridcolor\":\"white\",\"linecolor\":\"white\",\"ticks\":\"\"}},\"ternary\":{\"bgcolor\":\"#E5ECF6\",\"aaxis\":{\"gridcolor\":\"white\",\"linecolor\":\"white\",\"ticks\":\"\"},\"baxis\":{\"gridcolor\":\"white\",\"linecolor\":\"white\",\"ticks\":\"\"},\"caxis\":{\"gridcolor\":\"white\",\"linecolor\":\"white\",\"ticks\":\"\"}},\"coloraxis\":{\"colorbar\":{\"outlinewidth\":0,\"ticks\":\"\"}},\"colorscale\":{\"sequential\":[[0.0,\"#0d0887\"],[0.1111111111111111,\"#46039f\"],[0.2222222222222222,\"#7201a8\"],[0.3333333333333333,\"#9c179e\"],[0.4444444444444444,\"#bd3786\"],[0.5555555555555556,\"#d8576b\"],[0.6666666666666666,\"#ed7953\"],[0.7777777777777778,\"#fb9f3a\"],[0.8888888888888888,\"#fdca26\"],[1.0,\"#f0f921\"]],\"sequentialminus\":[[0.0,\"#0d0887\"],[0.1111111111111111,\"#46039f\"],[0.2222222222222222,\"#7201a8\"],[0.3333333333333333,\"#9c179e\"],[0.4444444444444444,\"#bd3786\"],[0.5555555555555556,\"#d8576b\"],[0.6666666666666666,\"#ed7953\"],[0.7777777777777778,\"#fb9f3a\"],[0.8888888888888888,\"#fdca26\"],[1.0,\"#f0f921\"]],\"diverging\":[[0,\"#8e0152\"],[0.1,\"#c51b7d\"],[0.2,\"#de77ae\"],[0.3,\"#f1b6da\"],[0.4,\"#fde0ef\"],[0.5,\"#f7f7f7\"],[0.6,\"#e6f5d0\"],[0.7,\"#b8e186\"],[0.8,\"#7fbc41\"],[0.9,\"#4d9221\"],[1,\"#276419\"]]},\"xaxis\":{\"gridcolor\":\"white\",\"linecolor\":\"white\",\"ticks\":\"\",\"title\":{\"standoff\":15},\"zerolinecolor\":\"white\",\"automargin\":true,\"zerolinewidth\":2},\"yaxis\":{\"gridcolor\":\"white\",\"linecolor\":\"white\",\"ticks\":\"\",\"title\":{\"standoff\":15},\"zerolinecolor\":\"white\",\"automargin\":true,\"zerolinewidth\":2},\"scene\":{\"xaxis\":{\"backgroundcolor\":\"#E5ECF6\",\"gridcolor\":\"white\",\"linecolor\":\"white\",\"showbackground\":true,\"ticks\":\"\",\"zerolinecolor\":\"white\",\"gridwidth\":2},\"yaxis\":{\"backgroundcolor\":\"#E5ECF6\",\"gridcolor\":\"white\",\"linecolor\":\"white\",\"showbackground\":true,\"ticks\":\"\",\"zerolinecolor\":\"white\",\"gridwidth\":2},\"zaxis\":{\"backgroundcolor\":\"#E5ECF6\",\"gridcolor\":\"white\",\"linecolor\":\"white\",\"showbackground\":true,\"ticks\":\"\",\"zerolinecolor\":\"white\",\"gridwidth\":2}},\"shapedefaults\":{\"line\":{\"color\":\"#2a3f5f\"}},\"annotationdefaults\":{\"arrowcolor\":\"#2a3f5f\",\"arrowhead\":0,\"arrowwidth\":1},\"geo\":{\"bgcolor\":\"white\",\"landcolor\":\"#E5ECF6\",\"subunitcolor\":\"white\",\"showland\":true,\"showlakes\":true,\"lakecolor\":\"white\"},\"title\":{\"x\":0.05},\"mapbox\":{\"style\":\"light\"}}},\"title\":{\"text\":\"Visualization of predictions | DecisionTreeRegressor | MAE: 1.4719070802119687\"},\"xaxis\":{\"title\":{\"text\":\"Real values\"},\"range\":[0,100],\"scaleratio\":1},\"yaxis\":{\"title\":{\"text\":\"Predicted values\"},\"range\":[0,100],\"scaleratio\":1}},                        {\"responsive\": true}                    ).then(function(){\n                            \nvar gd = document.getElementById('7bca3607-6e67-42d5-8894-04beb34b474e');\nvar x = new MutationObserver(function (mutations, observer) {{\n        var display = window.getComputedStyle(gd).display;\n        if (!display || display === 'none') {{\n            console.log([gd, 'removed!']);\n            Plotly.purge(gd);\n            observer.disconnect();\n        }}\n}});\n\n// Listen for the removal of the full notebook cells\nvar notebookContainer = gd.closest('#notebook-container');\nif (notebookContainer) {{\n    x.observe(notebookContainer, {childList: true});\n}}\n\n// Listen for the clearing of the current output cell\nvar outputEl = gd.closest('.output');\nif (outputEl) {{\n    x.observe(outputEl, {childList: true});\n}}\n\n                        })                };                            </script>        </div>\n</body>\n</html>"
     },
     "metadata": {},
     "output_type": "display_data"
    }
   ]
  },
  {
   "cell_type": "markdown",
   "source": "# K O N E C",
   "metadata": {
    "formattedRanges": [],
    "tags": [],
    "is_collapsed": false,
    "cell_id": "00164-3f24d31f-6cdd-4a4b-8106-2332cd325345",
    "deepnote_cell_type": "text-cell-h1"
   }
  },
  {
   "cell_type": "markdown",
   "source": "<a style='text-decoration:none;line-height:16px;display:flex;color:#5B5B62;padding:10px;justify-content:end;' href='https://deepnote.com?utm_source=created-in-deepnote-cell&projectId=00eb39a2-b20f-47d3-be80-8aa12fe287b8' target=\"_blank\">\n<img alt='Created in deepnote.com' style='display:inline;max-height:16px;margin:0px;margin-right:7.5px;' src='data:image/svg+xml;base64,PD94bWwgdmVyc2lvbj0iMS4wIiBlbmNvZGluZz0iVVRGLTgiPz4KPHN2ZyB3aWR0aD0iODBweCIgaGVpZ2h0PSI4MHB4IiB2aWV3Qm94PSIwIDAgODAgODAiIHZlcnNpb249IjEuMSIgeG1sbnM9Imh0dHA6Ly93d3cudzMub3JnLzIwMDAvc3ZnIiB4bWxuczp4bGluaz0iaHR0cDovL3d3dy53My5vcmcvMTk5OS94bGluayI+CiAgICA8IS0tIEdlbmVyYXRvcjogU2tldGNoIDU0LjEgKDc2NDkwKSAtIGh0dHBzOi8vc2tldGNoYXBwLmNvbSAtLT4KICAgIDx0aXRsZT5Hcm91cCAzPC90aXRsZT4KICAgIDxkZXNjPkNyZWF0ZWQgd2l0aCBTa2V0Y2guPC9kZXNjPgogICAgPGcgaWQ9IkxhbmRpbmciIHN0cm9rZT0ibm9uZSIgc3Ryb2tlLXdpZHRoPSIxIiBmaWxsPSJub25lIiBmaWxsLXJ1bGU9ImV2ZW5vZGQiPgogICAgICAgIDxnIGlkPSJBcnRib2FyZCIgdHJhbnNmb3JtPSJ0cmFuc2xhdGUoLTEyMzUuMDAwMDAwLCAtNzkuMDAwMDAwKSI+CiAgICAgICAgICAgIDxnIGlkPSJHcm91cC0zIiB0cmFuc2Zvcm09InRyYW5zbGF0ZSgxMjM1LjAwMDAwMCwgNzkuMDAwMDAwKSI+CiAgICAgICAgICAgICAgICA8cG9seWdvbiBpZD0iUGF0aC0yMCIgZmlsbD0iIzAyNjVCNCIgcG9pbnRzPSIyLjM3NjIzNzYyIDgwIDM4LjA0NzY2NjcgODAgNTcuODIxNzgyMiA3My44MDU3NTkyIDU3LjgyMTc4MjIgMzIuNzU5MjczOSAzOS4xNDAyMjc4IDMxLjY4MzE2ODMiPjwvcG9seWdvbj4KICAgICAgICAgICAgICAgIDxwYXRoIGQ9Ik0zNS4wMDc3MTgsODAgQzQyLjkwNjIwMDcsNzYuNDU0OTM1OCA0Ny41NjQ5MTY3LDcxLjU0MjI2NzEgNDguOTgzODY2LDY1LjI2MTk5MzkgQzUxLjExMjI4OTksNTUuODQxNTg0MiA0MS42NzcxNzk1LDQ5LjIxMjIyODQgMjUuNjIzOTg0Niw0OS4yMTIyMjg0IEMyNS40ODQ5Mjg5LDQ5LjEyNjg0NDggMjkuODI2MTI5Niw0My4yODM4MjQ4IDM4LjY0NzU4NjksMzEuNjgzMTY4MyBMNzIuODcxMjg3MSwzMi41NTQ0MjUgTDY1LjI4MDk3Myw2Ny42NzYzNDIxIEw1MS4xMTIyODk5LDc3LjM3NjE0NCBMMzUuMDA3NzE4LDgwIFoiIGlkPSJQYXRoLTIyIiBmaWxsPSIjMDAyODY4Ij48L3BhdGg+CiAgICAgICAgICAgICAgICA8cGF0aCBkPSJNMCwzNy43MzA0NDA1IEwyNy4xMTQ1MzcsMC4yNTcxMTE0MzYgQzYyLjM3MTUxMjMsLTEuOTkwNzE3MDEgODAsMTAuNTAwMzkyNyA4MCwzNy43MzA0NDA1IEM4MCw2NC45NjA0ODgyIDY0Ljc3NjUwMzgsNzkuMDUwMzQxNCAzNC4zMjk1MTEzLDgwIEM0Ny4wNTUzNDg5LDc3LjU2NzA4MDggNTMuNDE4MjY3Nyw3MC4zMTM2MTAzIDUzLjQxODI2NzcsNTguMjM5NTg4NSBDNTMuNDE4MjY3Nyw0MC4xMjg1NTU3IDM2LjMwMzk1NDQsMzcuNzMwNDQwNSAyNS4yMjc0MTcsMzcuNzMwNDQwNSBDMTcuODQzMDU4NiwzNy43MzA0NDA1IDkuNDMzOTE5NjYsMzcuNzMwNDQwNSAwLDM3LjczMDQ0MDUgWiIgaWQ9IlBhdGgtMTkiIGZpbGw9IiMzNzkzRUYiPjwvcGF0aD4KICAgICAgICAgICAgPC9nPgogICAgICAgIDwvZz4KICAgIDwvZz4KPC9zdmc+' > </img>\nCreated in <span style='font-weight:600;margin-left:4px;'>Deepnote</span></a>",
   "metadata": {
    "tags": [],
    "created_in_deepnote_cell": true,
    "deepnote_cell_type": "markdown"
   }
  }
 ],
 "nbformat": 4,
 "nbformat_minor": 2,
 "metadata": {
  "orig_nbformat": 2,
  "deepnote": {
   "is_reactive": false
  },
  "deepnote_notebook_id": "f75f79a2-0912-4ebe-963c-8edec126b777",
  "deepnote_execution_queue": []
 }
}