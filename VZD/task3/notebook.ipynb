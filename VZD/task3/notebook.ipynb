{
 "cells": [
  {
   "cell_type": "markdown",
   "source": "# Úkol č. 3 - regrese\n\n * **Deadline je do 20. prosince 23:59**, pokud odevzdáte úkol do 27. prosince 23:59 budete penalizování -4 body, pozdější odevzdání je bez bodu.\n * V rámci tohoto úkolu se musíte vypořádat s problematikou regrese a hledání optimálních hyperparametrů.\n     \n> **Úkoly jsou zadány tak, aby Vám daly prostor pro invenci. Vymyslet _jak přesně_ budete úkol řešit, je důležitou součástí zadání a originalita či nápaditost bude také hodnocena!**\n\n## Dataset\n\n  * Zdrojem dat je soubor `LifeExpectancyData.csv` na course pages (originál zde: https://www.kaggle.com/kumarajarshi/life-expectancy-who).\n  * Popis datasetu najdete na uvedené stránce s originálem datasetu.\n  * Cílová (vysvětlovaná) proměnná se jmenuje `Life expectancy `.\n  \n\n## Pokyny k vypracování\n**Body zadání**, za jejichž (poctivé) vypracování získáte **16 bodů**:\n\n  1. Odeberte z dat body u kterých neznáte vysvětlovanou proměnnou.\n  1. Rozdělte data na trénovací a testovací množinu.\n  1. Proveďte základní průzkum dat a svá pozorování diskutujte. Na jeho základě adekvátně reagujte na problematické věci v datech (chybějící hodnoty, atd.) a vysvětlete motivaci k provedeným krokům.\n  1. Aplikujte lineární a hřebenovou regresi a výsledky řádně vyhodnoťte:\n      * K měření chyby použijte `mean_absolute_error`.\n\n  1. Zkoumejte, jak byste mohli modely vylepšit:\n      * Experimentujte s tvorbou nových příznaků (na základě těch dostupných).\n      * Experimentujte se standardizací/normalizací dat.\n      * Vyberte si hyperparametry modelů k ladění a najděte jejich nejlepší hodnoty.\n      * Získané výsledky vždy řádně okomentujte.\n    \n  1. Použijte i jiné modely (alespoň jeden) ukazované v předmětu VZD či i jiné, pokud víte, jak fungují.\n\n\n## Poznámky k odevzdání\n\n  * Řiďte se pokyny ze stránky https://courses.fit.cvut.cz/BI-VZD/homeworks/index.html.\n  * Opravující Vám může umožnit úkol dodělat či opravit a získat tak další body. První verze je ale důležitá a bude-li odbytá, budete za to penalizováni.",
   "metadata": {
    "tags": [],
    "cell_id": "00001-523d21f4-02af-4a7a-8d5e-290c8a2e2473",
    "deepnote_cell_type": "markdown"
   }
  },
  {
   "cell_type": "markdown",
   "source": "## 1. Odeberte z dat body u kterých neznáte vysvětlovanou proměnnou.",
   "metadata": {
    "tags": [],
    "cell_id": "00002-859be1bd-addd-49f2-a1df-901e05c19ad7",
    "deepnote_cell_type": "markdown"
   }
  },
  {
   "cell_type": "code",
   "metadata": {
    "tags": [],
    "cell_id": "00003-70d0c562-33d6-4b06-a5f8-ff1bd8ddb615",
    "deepnote_to_be_reexecuted": false,
    "source_hash": "9b82ee11",
    "execution_start": 1640535842778,
    "execution_millis": 176618,
    "deepnote_cell_type": "code"
   },
   "source": "import pandas as pd",
   "outputs": [],
   "execution_count": null
  },
  {
   "cell_type": "code",
   "metadata": {
    "tags": [],
    "cell_id": "00004-4a407965-ae1e-44bf-b2b6-4af8206862f8",
    "deepnote_to_be_reexecuted": false,
    "source_hash": "53b52b50",
    "execution_start": 1640535842778,
    "execution_millis": 44,
    "deepnote_cell_type": "code"
   },
   "source": "df = pd.read_csv('LifeExpectancyData.csv')",
   "outputs": [],
   "execution_count": null
  },
  {
   "cell_type": "code",
   "metadata": {
    "tags": [],
    "cell_id": "00005-adfb3d6e-53fa-4cc4-a4d1-b04c570ef855",
    "deepnote_to_be_reexecuted": false,
    "source_hash": "a1200156",
    "execution_start": 1640535842822,
    "execution_millis": 176670,
    "deepnote_cell_type": "code"
   },
   "source": "print(df.columns)",
   "outputs": [
    {
     "name": "stdout",
     "text": "Index(['Country', 'Year', 'Status', 'Life expectancy ', 'Adult Mortality',\n       'infant deaths', 'Alcohol', 'percentage expenditure', 'Hepatitis B',\n       'Measles ', ' BMI ', 'under-five deaths ', 'Polio', 'Total expenditure',\n       'Diphtheria ', ' HIV/AIDS', 'GDP', 'Population',\n       ' thinness  1-19 years', ' thinness 5-9 years',\n       'Income composition of resources', 'Schooling'],\n      dtype='object')\n",
     "output_type": "stream",
     "data": {}
    }
   ],
   "execution_count": null
  },
  {
   "cell_type": "markdown",
   "source": "* K jednotlivým příznakům se bude nepohodlně přistupovat, neboť mají mezery po (nebo i před) svém názvu.\n* Proto tyto bílé znaky smažu.",
   "metadata": {
    "tags": [],
    "cell_id": "00006-8ebb67c9-0ea1-4f06-a466-bb5e6f11daa8",
    "deepnote_cell_type": "markdown"
   }
  },
  {
   "cell_type": "code",
   "metadata": {
    "tags": [],
    "cell_id": "00007-7596aa42-e656-48d1-8b24-d527f28bc219",
    "deepnote_to_be_reexecuted": false,
    "source_hash": "7600a612",
    "execution_start": 1640535842866,
    "execution_millis": 176669,
    "deepnote_cell_type": "code"
   },
   "source": "df.columns = df.columns.str.strip()",
   "outputs": [],
   "execution_count": null
  },
  {
   "cell_type": "markdown",
   "source": "* Nyní je to použitelnější.",
   "metadata": {
    "tags": [],
    "cell_id": "00008-cb1f16fc-e2c4-489d-b7c1-cb7bb8de3fa4",
    "deepnote_cell_type": "markdown"
   }
  },
  {
   "cell_type": "code",
   "metadata": {
    "tags": [],
    "cell_id": "00008-0f3e1a4a-3469-4514-9880-f4fdd7f34af7",
    "deepnote_to_be_reexecuted": false,
    "source_hash": "a1200156",
    "execution_start": 1640535842867,
    "execution_millis": 0,
    "deepnote_cell_type": "code"
   },
   "source": "print(df.columns)",
   "outputs": [
    {
     "name": "stdout",
     "text": "Index(['Country', 'Year', 'Status', 'Life expectancy', 'Adult Mortality',\n       'infant deaths', 'Alcohol', 'percentage expenditure', 'Hepatitis B',\n       'Measles', 'BMI', 'under-five deaths', 'Polio', 'Total expenditure',\n       'Diphtheria', 'HIV/AIDS', 'GDP', 'Population', 'thinness  1-19 years',\n       'thinness 5-9 years', 'Income composition of resources', 'Schooling'],\n      dtype='object')\n",
     "output_type": "stream",
     "data": {}
    }
   ],
   "execution_count": null
  },
  {
   "cell_type": "markdown",
   "source": "* Vysvětlovaná proměnná je 'Life expectancy', zbavím se tedy záznamů, u kterých je tato hodnota nedefinována.",
   "metadata": {
    "tags": [],
    "cell_id": "00007-2e5c1390-2d5b-4d20-96be-868fbd772c68",
    "deepnote_cell_type": "markdown"
   }
  },
  {
   "cell_type": "code",
   "metadata": {
    "tags": [],
    "cell_id": "00008-fb52c424-21ad-4ed4-b454-c2184135b7e1",
    "deepnote_to_be_reexecuted": false,
    "source_hash": "50b14414",
    "execution_start": 1640535842910,
    "execution_millis": 2,
    "deepnote_output_heights": [
     21.1875
    ],
    "deepnote_cell_type": "code"
   },
   "source": "df.shape[0] - df[df['Life expectancy'].notnull()].shape[0]",
   "outputs": [
    {
     "output_type": "execute_result",
     "execution_count": 6,
     "data": {
      "text/plain": "10"
     },
     "metadata": {}
    }
   ],
   "execution_count": null
  },
  {
   "cell_type": "markdown",
   "source": "* 10 záznamů nemá definovanou 'Life expectancy' - o tyto záznamy dataframe ochudíme.",
   "metadata": {
    "tags": [],
    "cell_id": "00013-efbc4ae1-1293-4731-9c7b-4ec876dbcf99",
    "deepnote_cell_type": "markdown"
   }
  },
  {
   "cell_type": "code",
   "metadata": {
    "tags": [],
    "cell_id": "00014-2c3fdb37-c521-4b05-8c4c-daf03531a898",
    "deepnote_to_be_reexecuted": false,
    "source_hash": "a9ad1489",
    "execution_start": 1640535842953,
    "execution_millis": 176722,
    "deepnote_cell_type": "code"
   },
   "source": "df = df[df['Life expectancy'].notnull()]",
   "outputs": [],
   "execution_count": null
  },
  {
   "cell_type": "markdown",
   "source": "## 2. Rozdělte data na trénovací a testovací množinu.",
   "metadata": {
    "tags": [],
    "cell_id": "00014-5673bd57-5c01-4985-9161-7779d31c62f3",
    "deepnote_cell_type": "markdown"
   }
  },
  {
   "cell_type": "code",
   "metadata": {
    "tags": [],
    "cell_id": "00015-7dde87e3-5e1f-43e5-8a8d-37d0b329f58a",
    "deepnote_to_be_reexecuted": false,
    "source_hash": "746a4dbc",
    "execution_start": 1640535842954,
    "execution_millis": 813,
    "deepnote_cell_type": "code"
   },
   "source": "from sklearn.model_selection import train_test_split",
   "outputs": [],
   "execution_count": null
  },
  {
   "cell_type": "code",
   "metadata": {
    "tags": [],
    "cell_id": "00016-f1fce2f7-6c89-4f11-ba5f-829ca26d2e7e",
    "deepnote_to_be_reexecuted": false,
    "source_hash": "8927facf",
    "execution_start": 1640535843776,
    "execution_millis": 33,
    "deepnote_cell_type": "code"
   },
   "source": "X, X_test, Y, Y_test = train_test_split(\n    df.drop(columns=['Life expectancy']), \n    df[\"Life expectancy\"],\n    test_size=0.25, \n    random_state=42\n)\nprint(\"Train X shape\", X.shape)\nprint(\"Test X shape\", X_test.shape)",
   "outputs": [
    {
     "name": "stdout",
     "text": "Train X shape (2196, 21)\nTest X shape (732, 21)\n",
     "output_type": "stream",
     "data": {}
    }
   ],
   "execution_count": null
  },
  {
   "cell_type": "markdown",
   "source": "## 3. Proveďte základní průzkum dat a svá pozorování diskutujte. Na jeho základě adekvátně reagujte na problematické věci v datech (chybějící hodnoty, atd.) a vysvětlete motivaci k provedeným krokům.",
   "metadata": {
    "tags": [],
    "cell_id": "00017-20d71162-93b4-4431-a422-db18aa968300",
    "deepnote_cell_type": "markdown"
   }
  },
  {
   "cell_type": "code",
   "metadata": {
    "tags": [],
    "cell_id": "00018-c4fee422-653a-4d75-9cba-3ee41a5a6b92",
    "deepnote_to_be_reexecuted": false,
    "source_hash": "f804c160",
    "execution_start": 1640535843822,
    "execution_millis": 507,
    "is_output_hidden": true,
    "deepnote_cell_type": "code"
   },
   "source": "df",
   "outputs": [
    {
     "output_type": "execute_result",
     "execution_count": 10,
     "data": {
      "application/vnd.deepnote.dataframe.v3+json": {
       "column_count": 22,
       "row_count": 2928,
       "columns": [
        {
         "name": "Country",
         "dtype": "object",
         "stats": {
          "unique_count": 183,
          "nan_count": 0,
          "categories": [
           {
            "name": "Afghanistan",
            "count": 16
           },
           {
            "name": "Albania",
            "count": 16
           },
           {
            "name": "181 others",
            "count": 2896
           }
          ]
         }
        },
        {
         "name": "Year",
         "dtype": "int64",
         "stats": {
          "unique_count": 16,
          "nan_count": 0,
          "min": "2000",
          "max": "2015",
          "histogram": [
           {
            "bin_start": 2000,
            "bin_end": 2001.5,
            "count": 366
           },
           {
            "bin_start": 2001.5,
            "bin_end": 2003,
            "count": 183
           },
           {
            "bin_start": 2003,
            "bin_end": 2004.5,
            "count": 366
           },
           {
            "bin_start": 2004.5,
            "bin_end": 2006,
            "count": 183
           },
           {
            "bin_start": 2006,
            "bin_end": 2007.5,
            "count": 366
           },
           {
            "bin_start": 2007.5,
            "bin_end": 2009,
            "count": 183
           },
           {
            "bin_start": 2009,
            "bin_end": 2010.5,
            "count": 366
           },
           {
            "bin_start": 2010.5,
            "bin_end": 2012,
            "count": 183
           },
           {
            "bin_start": 2012,
            "bin_end": 2013.5,
            "count": 366
           },
           {
            "bin_start": 2013.5,
            "bin_end": 2015,
            "count": 366
           }
          ]
         }
        },
        {
         "name": "Status",
         "dtype": "object",
         "stats": {
          "unique_count": 2,
          "nan_count": 0,
          "categories": [
           {
            "name": "Developing",
            "count": 2416
           },
           {
            "name": "Developed",
            "count": 512
           }
          ]
         }
        },
        {
         "name": "Life expectancy",
         "dtype": "float64",
         "stats": {
          "unique_count": 362,
          "nan_count": 0,
          "min": "36.3",
          "max": "89.0",
          "histogram": [
           {
            "bin_start": 36.3,
            "bin_end": 41.57,
            "count": 4
           },
           {
            "bin_start": 41.57,
            "bin_end": 46.839999999999996,
            "count": 50
           },
           {
            "bin_start": 46.839999999999996,
            "bin_end": 52.11,
            "count": 134
           },
           {
            "bin_start": 52.11,
            "bin_end": 57.379999999999995,
            "count": 229
           },
           {
            "bin_start": 57.379999999999995,
            "bin_end": 62.65,
            "count": 277
           },
           {
            "bin_start": 62.65,
            "bin_end": 67.92,
            "count": 405
           },
           {
            "bin_start": 67.92,
            "bin_end": 73.19,
            "count": 580
           },
           {
            "bin_start": 73.19,
            "bin_end": 78.46000000000001,
            "count": 819
           },
           {
            "bin_start": 78.46000000000001,
            "bin_end": 83.73,
            "count": 362
           },
           {
            "bin_start": 83.73,
            "bin_end": 89,
            "count": 68
           }
          ]
         }
        },
        {
         "name": "Adult Mortality",
         "dtype": "float64",
         "stats": {
          "unique_count": 425,
          "nan_count": 0,
          "min": "1.0",
          "max": "723.0",
          "histogram": [
           {
            "bin_start": 1,
            "bin_end": 73.2,
            "count": 729
           },
           {
            "bin_start": 73.2,
            "bin_end": 145.4,
            "count": 765
           },
           {
            "bin_start": 145.4,
            "bin_end": 217.60000000000002,
            "count": 610
           },
           {
            "bin_start": 217.60000000000002,
            "bin_end": 289.8,
            "count": 423
           },
           {
            "bin_start": 289.8,
            "bin_end": 362,
            "count": 176
           },
           {
            "bin_start": 362,
            "bin_end": 434.20000000000005,
            "count": 117
           },
           {
            "bin_start": 434.20000000000005,
            "bin_end": 506.40000000000003,
            "count": 54
           },
           {
            "bin_start": 506.40000000000003,
            "bin_end": 578.6,
            "count": 24
           },
           {
            "bin_start": 578.6,
            "bin_end": 650.8000000000001,
            "count": 17
           },
           {
            "bin_start": 650.8000000000001,
            "bin_end": 723,
            "count": 13
           }
          ]
         }
        },
        {
         "name": "infant deaths",
         "dtype": "int64",
         "stats": {
          "unique_count": 209,
          "nan_count": 0,
          "min": "0",
          "max": "1800",
          "histogram": [
           {
            "bin_start": 0,
            "bin_end": 180,
            "count": 2835
           },
           {
            "bin_start": 180,
            "bin_end": 360,
            "count": 42
           },
           {
            "bin_start": 360,
            "bin_end": 540,
            "count": 27
           },
           {
            "bin_start": 540,
            "bin_end": 720,
            "count": 8
           },
           {
            "bin_start": 720,
            "bin_end": 900,
            "count": 0
           },
           {
            "bin_start": 900,
            "bin_end": 1080,
            "count": 3
           },
           {
            "bin_start": 1080,
            "bin_end": 1260,
            "count": 3
           },
           {
            "bin_start": 1260,
            "bin_end": 1440,
            "count": 3
           },
           {
            "bin_start": 1440,
            "bin_end": 1620,
            "count": 3
           },
           {
            "bin_start": 1620,
            "bin_end": 1800,
            "count": 4
           }
          ]
         }
        },
        {
         "name": "Alcohol",
         "dtype": "float64",
         "stats": {
          "unique_count": 1076,
          "nan_count": 193,
          "min": "0.01",
          "max": "17.87",
          "histogram": [
           {
            "bin_start": 0.01,
            "bin_end": 1.796,
            "count": 961
           },
           {
            "bin_start": 1.796,
            "bin_end": 3.582,
            "count": 375
           },
           {
            "bin_start": 3.582,
            "bin_end": 5.368,
            "count": 327
           },
           {
            "bin_start": 5.368,
            "bin_end": 7.154,
            "count": 289
           },
           {
            "bin_start": 7.154,
            "bin_end": 8.94,
            "count": 262
           },
           {
            "bin_start": 8.94,
            "bin_end": 10.726,
            "count": 242
           },
           {
            "bin_start": 10.726,
            "bin_end": 12.512,
            "count": 198
           },
           {
            "bin_start": 12.512,
            "bin_end": 14.298,
            "count": 66
           },
           {
            "bin_start": 14.298,
            "bin_end": 16.084000000000003,
            "count": 10
           },
           {
            "bin_start": 16.084000000000003,
            "bin_end": 17.87,
            "count": 5
           }
          ]
         }
        },
        {
         "name": "percentage expenditure",
         "dtype": "float64",
         "stats": {
          "unique_count": 2323,
          "nan_count": 0,
          "min": "0.0",
          "max": "19479.91161",
          "histogram": [
           {
            "bin_start": 0,
            "bin_end": 1947.991161,
            "count": 2647
           },
           {
            "bin_start": 1947.991161,
            "bin_end": 3895.982322,
            "count": 118
           },
           {
            "bin_start": 3895.982322,
            "bin_end": 5843.973483,
            "count": 54
           },
           {
            "bin_start": 5843.973483,
            "bin_end": 7791.964644,
            "count": 46
           },
           {
            "bin_start": 7791.964644,
            "bin_end": 9739.955805,
            "count": 27
           },
           {
            "bin_start": 9739.955805,
            "bin_end": 11687.946966,
            "count": 17
           },
           {
            "bin_start": 11687.946966,
            "bin_end": 13635.938127,
            "count": 7
           },
           {
            "bin_start": 13635.938127,
            "bin_end": 15583.929288,
            "count": 5
           },
           {
            "bin_start": 15583.929288,
            "bin_end": 17531.920448999997,
            "count": 2
           },
           {
            "bin_start": 17531.920448999997,
            "bin_end": 19479.91161,
            "count": 5
           }
          ]
         }
        },
        {
         "name": "Hepatitis B",
         "dtype": "float64",
         "stats": {
          "unique_count": 87,
          "nan_count": 553,
          "min": "1.0",
          "max": "99.0",
          "histogram": [
           {
            "bin_start": 1,
            "bin_end": 10.8,
            "count": 157
           },
           {
            "bin_start": 10.8,
            "bin_end": 20.6,
            "count": 16
           },
           {
            "bin_start": 20.6,
            "bin_end": 30.400000000000002,
            "count": 22
           },
           {
            "bin_start": 30.400000000000002,
            "bin_end": 40.2,
            "count": 21
           },
           {
            "bin_start": 40.2,
            "bin_end": 50,
            "count": 56
           },
           {
            "bin_start": 50,
            "bin_end": 59.800000000000004,
            "count": 48
           },
           {
            "bin_start": 59.800000000000004,
            "bin_end": 69.60000000000001,
            "count": 141
           },
           {
            "bin_start": 69.60000000000001,
            "bin_end": 79.4,
            "count": 202
           },
           {
            "bin_start": 79.4,
            "bin_end": 89.2,
            "count": 402
           },
           {
            "bin_start": 89.2,
            "bin_end": 99,
            "count": 1310
           }
          ]
         }
        },
        {
         "name": "Measles",
         "dtype": "int64",
         "stats": {
          "unique_count": 958,
          "nan_count": 0,
          "min": "0",
          "max": "212183",
          "histogram": [
           {
            "bin_start": 0,
            "bin_end": 21218.3,
            "count": 2848
           },
           {
            "bin_start": 21218.3,
            "bin_end": 42436.6,
            "count": 38
           },
           {
            "bin_start": 42436.6,
            "bin_end": 63654.899999999994,
            "count": 21
           },
           {
            "bin_start": 63654.899999999994,
            "bin_end": 84873.2,
            "count": 7
           },
           {
            "bin_start": 84873.2,
            "bin_end": 106091.5,
            "count": 4
           },
           {
            "bin_start": 106091.5,
            "bin_end": 127309.79999999999,
            "count": 4
           },
           {
            "bin_start": 127309.79999999999,
            "bin_end": 148528.1,
            "count": 3
           },
           {
            "bin_start": 148528.1,
            "bin_end": 169746.4,
            "count": 1
           },
           {
            "bin_start": 169746.4,
            "bin_end": 190964.69999999998,
            "count": 1
           },
           {
            "bin_start": 190964.69999999998,
            "bin_end": 212183,
            "count": 1
           }
          ]
         }
        },
        {
         "name": "BMI",
         "dtype": "float64",
         "stats": {
          "unique_count": 602,
          "nan_count": 32,
          "min": "1.0",
          "max": "77.6",
          "histogram": [
           {
            "bin_start": 1,
            "bin_end": 8.66,
            "count": 280
           },
           {
            "bin_start": 8.66,
            "bin_end": 16.32,
            "count": 210
           },
           {
            "bin_start": 16.32,
            "bin_end": 23.979999999999997,
            "count": 460
           },
           {
            "bin_start": 23.979999999999997,
            "bin_end": 31.639999999999997,
            "count": 246
           },
           {
            "bin_start": 31.639999999999997,
            "bin_end": 39.3,
            "count": 161
           },
           {
            "bin_start": 39.3,
            "bin_end": 46.959999999999994,
            "count": 249
           },
           {
            "bin_start": 46.959999999999994,
            "bin_end": 54.62,
            "count": 418
           },
           {
            "bin_start": 54.62,
            "bin_end": 62.279999999999994,
            "count": 614
           },
           {
            "bin_start": 62.279999999999994,
            "bin_end": 69.94,
            "count": 229
           },
           {
            "bin_start": 69.94,
            "bin_end": 77.6,
            "count": 29
           }
          ]
         }
        },
        {
         "name": "under-five deaths",
         "dtype": "int64",
         "stats": {
          "unique_count": 252,
          "nan_count": 0,
          "min": "0",
          "max": "2500",
          "histogram": [
           {
            "bin_start": 0,
            "bin_end": 250,
            "count": 2838
           },
           {
            "bin_start": 250,
            "bin_end": 500,
            "count": 55
           },
           {
            "bin_start": 500,
            "bin_end": 750,
            "count": 4
           },
           {
            "bin_start": 750,
            "bin_end": 1000,
            "count": 15
           },
           {
            "bin_start": 1000,
            "bin_end": 1250,
            "count": 2
           },
           {
            "bin_start": 1250,
            "bin_end": 1500,
            "count": 2
           },
           {
            "bin_start": 1500,
            "bin_end": 1750,
            "count": 3
           },
           {
            "bin_start": 1750,
            "bin_end": 2000,
            "count": 2
           },
           {
            "bin_start": 2000,
            "bin_end": 2250,
            "count": 4
           },
           {
            "bin_start": 2250,
            "bin_end": 2500,
            "count": 3
           }
          ]
         }
        },
        {
         "name": "Polio",
         "dtype": "float64",
         "stats": {
          "unique_count": 73,
          "nan_count": 19,
          "min": "3.0",
          "max": "99.0",
          "histogram": [
           {
            "bin_start": 3,
            "bin_end": 12.6,
            "count": 171
           },
           {
            "bin_start": 12.6,
            "bin_end": 22.2,
            "count": 1
           },
           {
            "bin_start": 22.2,
            "bin_end": 31.799999999999997,
            "count": 10
           },
           {
            "bin_start": 31.799999999999997,
            "bin_end": 41.4,
            "count": 26
           },
           {
            "bin_start": 41.4,
            "bin_end": 51,
            "count": 70
           },
           {
            "bin_start": 51,
            "bin_end": 60.599999999999994,
            "count": 85
           },
           {
            "bin_start": 60.599999999999994,
            "bin_end": 70.2,
            "count": 150
           },
           {
            "bin_start": 70.2,
            "bin_end": 79.8,
            "count": 270
           },
           {
            "bin_start": 79.8,
            "bin_end": 89.39999999999999,
            "count": 446
           },
           {
            "bin_start": 89.39999999999999,
            "bin_end": 99,
            "count": 1680
           }
          ]
         }
        },
        {
         "name": "Total expenditure",
         "dtype": "float64",
         "stats": {
          "unique_count": 816,
          "nan_count": 226,
          "min": "0.37",
          "max": "17.6",
          "histogram": [
           {
            "bin_start": 0.37,
            "bin_end": 2.093,
            "count": 150
           },
           {
            "bin_start": 2.093,
            "bin_end": 3.8160000000000003,
            "count": 383
           },
           {
            "bin_start": 3.8160000000000003,
            "bin_end": 5.539000000000001,
            "count": 706
           },
           {
            "bin_start": 5.539000000000001,
            "bin_end": 7.2620000000000005,
            "count": 719
           },
           {
            "bin_start": 7.2620000000000005,
            "bin_end": 8.985,
            "count": 460
           },
           {
            "bin_start": 8.985,
            "bin_end": 10.708,
            "count": 183
           },
           {
            "bin_start": 10.708,
            "bin_end": 12.431,
            "count": 71
           },
           {
            "bin_start": 12.431,
            "bin_end": 14.154,
            "count": 16
           },
           {
            "bin_start": 14.154,
            "bin_end": 15.877,
            "count": 7
           },
           {
            "bin_start": 15.877,
            "bin_end": 17.6,
            "count": 7
           }
          ]
         }
        },
        {
         "name": "Diphtheria",
         "dtype": "float64",
         "stats": {
          "unique_count": 81,
          "nan_count": 19,
          "min": "2.0",
          "max": "99.0",
          "histogram": [
           {
            "bin_start": 2,
            "bin_end": 11.7,
            "count": 169
           },
           {
            "bin_start": 11.7,
            "bin_end": 21.4,
            "count": 3
           },
           {
            "bin_start": 21.4,
            "bin_end": 31.099999999999998,
            "count": 22
           },
           {
            "bin_start": 31.099999999999998,
            "bin_end": 40.8,
            "count": 35
           },
           {
            "bin_start": 40.8,
            "bin_end": 50.5,
            "count": 68
           },
           {
            "bin_start": 50.5,
            "bin_end": 60.199999999999996,
            "count": 59
           },
           {
            "bin_start": 60.199999999999996,
            "bin_end": 69.89999999999999,
            "count": 149
           },
           {
            "bin_start": 69.89999999999999,
            "bin_end": 79.6,
            "count": 271
           },
           {
            "bin_start": 79.6,
            "bin_end": 89.3,
            "count": 469
           },
           {
            "bin_start": 89.3,
            "bin_end": 99,
            "count": 1664
           }
          ]
         }
        },
        {
         "name": "HIV/AIDS",
         "dtype": "float64",
         "stats": {
          "unique_count": 200,
          "nan_count": 0,
          "min": "0.1",
          "max": "50.6",
          "histogram": [
           {
            "bin_start": 0.1,
            "bin_end": 5.1499999999999995,
            "count": 2686
           },
           {
            "bin_start": 5.1499999999999995,
            "bin_end": 10.2,
            "count": 119
           },
           {
            "bin_start": 10.2,
            "bin_end": 15.249999999999998,
            "count": 44
           },
           {
            "bin_start": 15.249999999999998,
            "bin_end": 20.3,
            "count": 22
           },
           {
            "bin_start": 20.3,
            "bin_end": 25.35,
            "count": 19
           },
           {
            "bin_start": 25.35,
            "bin_end": 30.4,
            "count": 13
           },
           {
            "bin_start": 30.4,
            "bin_end": 35.45,
            "count": 10
           },
           {
            "bin_start": 35.45,
            "bin_end": 40.5,
            "count": 5
           },
           {
            "bin_start": 40.5,
            "bin_end": 45.55,
            "count": 4
           },
           {
            "bin_start": 45.55,
            "bin_end": 50.6,
            "count": 6
           }
          ]
         }
        },
        {
         "name": "GDP",
         "dtype": "float64",
         "stats": {
          "unique_count": 2485,
          "nan_count": 443,
          "min": "1.68135",
          "max": "119172.7418",
          "histogram": [
           {
            "bin_start": 1.68135,
            "bin_end": 11918.787395000001,
            "count": 2063
           },
           {
            "bin_start": 11918.787395000001,
            "bin_end": 23835.89344,
            "count": 175
           },
           {
            "bin_start": 23835.89344,
            "bin_end": 35752.999485,
            "count": 83
           },
           {
            "bin_start": 35752.999485,
            "bin_end": 47670.10553,
            "count": 80
           },
           {
            "bin_start": 47670.10553,
            "bin_end": 59587.211575,
            "count": 47
           },
           {
            "bin_start": 59587.211575,
            "bin_end": 71504.31762,
            "count": 18
           },
           {
            "bin_start": 71504.31762,
            "bin_end": 83421.42366500001,
            "count": 6
           },
           {
            "bin_start": 83421.42366500001,
            "bin_end": 95338.52971,
            "count": 9
           },
           {
            "bin_start": 95338.52971,
            "bin_end": 107255.635755,
            "count": 0
           },
           {
            "bin_start": 107255.635755,
            "bin_end": 119172.7418,
            "count": 4
           }
          ]
         }
        },
        {
         "name": "Population",
         "dtype": "float64",
         "stats": {
          "unique_count": 2277,
          "nan_count": 644,
          "min": "34.0",
          "max": "1293859294.0",
          "histogram": [
           {
            "bin_start": 34,
            "bin_end": 129385960,
            "count": 2242
           },
           {
            "bin_start": 129385960,
            "bin_end": 258771886,
            "count": 37
           },
           {
            "bin_start": 258771886,
            "bin_end": 388157812,
            "count": 0
           },
           {
            "bin_start": 388157812,
            "bin_end": 517543738,
            "count": 0
           },
           {
            "bin_start": 517543738,
            "bin_end": 646929664,
            "count": 0
           },
           {
            "bin_start": 646929664,
            "bin_end": 776315590,
            "count": 0
           },
           {
            "bin_start": 776315590,
            "bin_end": 905701516,
            "count": 0
           },
           {
            "bin_start": 905701516,
            "bin_end": 1035087442,
            "count": 0
           },
           {
            "bin_start": 1035087442,
            "bin_end": 1164473368,
            "count": 3
           },
           {
            "bin_start": 1164473368,
            "bin_end": 1293859294,
            "count": 2
           }
          ]
         }
        },
        {
         "name": "thinness  1-19 years",
         "dtype": "float64",
         "stats": {
          "unique_count": 200,
          "nan_count": 32,
          "min": "0.1",
          "max": "27.7",
          "histogram": [
           {
            "bin_start": 0.1,
            "bin_end": 2.86,
            "count": 1326
           },
           {
            "bin_start": 2.86,
            "bin_end": 5.619999999999999,
            "count": 515
           },
           {
            "bin_start": 5.619999999999999,
            "bin_end": 8.379999999999999,
            "count": 565
           },
           {
            "bin_start": 8.379999999999999,
            "bin_end": 11.139999999999999,
            "count": 238
           },
           {
            "bin_start": 11.139999999999999,
            "bin_end": 13.899999999999999,
            "count": 108
           },
           {
            "bin_start": 13.899999999999999,
            "bin_end": 16.66,
            "count": 71
           },
           {
            "bin_start": 16.66,
            "bin_end": 19.42,
            "count": 42
           },
           {
            "bin_start": 19.42,
            "bin_end": 22.18,
            "count": 14
           },
           {
            "bin_start": 22.18,
            "bin_end": 24.939999999999998,
            "count": 1
           },
           {
            "bin_start": 24.939999999999998,
            "bin_end": 27.7,
            "count": 16
           }
          ]
         }
        },
        {
         "name": "thinness 5-9 years",
         "dtype": "float64",
         "stats": {
          "unique_count": 207,
          "nan_count": 32,
          "min": "0.1",
          "max": "28.6",
          "histogram": [
           {
            "bin_start": 0.1,
            "bin_end": 2.95,
            "count": 1317
           },
           {
            "bin_start": 2.95,
            "bin_end": 5.8,
            "count": 542
           },
           {
            "bin_start": 5.8,
            "bin_end": 8.65,
            "count": 590
           },
           {
            "bin_start": 8.65,
            "bin_end": 11.5,
            "count": 215
           },
           {
            "bin_start": 11.5,
            "bin_end": 14.35,
            "count": 100
           },
           {
            "bin_start": 14.35,
            "bin_end": 17.200000000000003,
            "count": 58
           },
           {
            "bin_start": 17.200000000000003,
            "bin_end": 20.05,
            "count": 46
           },
           {
            "bin_start": 20.05,
            "bin_end": 22.900000000000002,
            "count": 12
           },
           {
            "bin_start": 22.900000000000002,
            "bin_end": 25.750000000000004,
            "count": 0
           },
           {
            "bin_start": 25.750000000000004,
            "bin_end": 28.6,
            "count": 16
           }
          ]
         }
        },
        {
         "name": "Income composition of resources",
         "dtype": "float64",
         "stats": {
          "unique_count": 625,
          "nan_count": 160,
          "min": "0.0",
          "max": "0.948",
          "histogram": [
           {
            "bin_start": 0,
            "bin_end": 0.0948,
            "count": 130
           },
           {
            "bin_start": 0.0948,
            "bin_end": 0.1896,
            "count": 0
           },
           {
            "bin_start": 0.1896,
            "bin_end": 0.2844,
            "count": 13
           },
           {
            "bin_start": 0.2844,
            "bin_end": 0.3792,
            "count": 118
           },
           {
            "bin_start": 0.3792,
            "bin_end": 0.474,
            "count": 338
           },
           {
            "bin_start": 0.474,
            "bin_end": 0.5688,
            "count": 302
           },
           {
            "bin_start": 0.5688,
            "bin_end": 0.6636,
            "count": 409
           },
           {
            "bin_start": 0.6636,
            "bin_end": 0.7584,
            "count": 654
           },
           {
            "bin_start": 0.7584,
            "bin_end": 0.8532,
            "count": 479
           },
           {
            "bin_start": 0.8532,
            "bin_end": 0.948,
            "count": 325
           }
          ]
         }
        },
        {
         "name": "Schooling",
         "dtype": "float64",
         "stats": {
          "unique_count": 173,
          "nan_count": 160,
          "min": "0.0",
          "max": "20.7",
          "histogram": [
           {
            "bin_start": 0,
            "bin_end": 2.07,
            "count": 26
           },
           {
            "bin_start": 2.07,
            "bin_end": 4.14,
            "count": 22
           },
           {
            "bin_start": 4.14,
            "bin_end": 6.209999999999999,
            "count": 109
           },
           {
            "bin_start": 6.209999999999999,
            "bin_end": 8.28,
            "count": 199
           },
           {
            "bin_start": 8.28,
            "bin_end": 10.35,
            "count": 402
           },
           {
            "bin_start": 10.35,
            "bin_end": 12.419999999999998,
            "count": 671
           },
           {
            "bin_start": 12.419999999999998,
            "bin_end": 14.489999999999998,
            "count": 702
           },
           {
            "bin_start": 14.489999999999998,
            "bin_end": 16.56,
            "count": 470
           },
           {
            "bin_start": 16.56,
            "bin_end": 18.63,
            "count": 131
           },
           {
            "bin_start": 18.63,
            "bin_end": 20.7,
            "count": 36
           }
          ]
         }
        },
        {
         "name": "_deepnote_index_column",
         "dtype": "int64"
        }
       ],
       "rows": [
        {
         "Country": "Afghanistan",
         "Year": 2015,
         "Status": "Developing",
         "Life expectancy": 65,
         "Adult Mortality": 263,
         "infant deaths": 62,
         "Alcohol": 0.01,
         "percentage expenditure": 71.27962362,
         "Hepatitis B": 65,
         "Measles": 1154,
         "BMI": 19.1,
         "under-five deaths": 83,
         "Polio": 6,
         "Total expenditure": 8.16,
         "Diphtheria": 65,
         "HIV/AIDS": 0.1,
         "GDP": 584.25921,
         "Population": 33736494,
         "thinness  1-19 years": 17.2,
         "thinness 5-9 years": 17.3,
         "Income composition of resources": 0.479,
         "Schooling": 10.1,
         "_deepnote_index_column": 0
        },
        {
         "Country": "Afghanistan",
         "Year": 2014,
         "Status": "Developing",
         "Life expectancy": 59.9,
         "Adult Mortality": 271,
         "infant deaths": 64,
         "Alcohol": 0.01,
         "percentage expenditure": 73.52358168,
         "Hepatitis B": 62,
         "Measles": 492,
         "BMI": 18.6,
         "under-five deaths": 86,
         "Polio": 58,
         "Total expenditure": 8.18,
         "Diphtheria": 62,
         "HIV/AIDS": 0.1,
         "GDP": 612.696514,
         "Population": 327582,
         "thinness  1-19 years": 17.5,
         "thinness 5-9 years": 17.5,
         "Income composition of resources": 0.476,
         "Schooling": 10,
         "_deepnote_index_column": 1
        },
        {
         "Country": "Afghanistan",
         "Year": 2013,
         "Status": "Developing",
         "Life expectancy": 59.9,
         "Adult Mortality": 268,
         "infant deaths": 66,
         "Alcohol": 0.01,
         "percentage expenditure": 73.21924272,
         "Hepatitis B": 64,
         "Measles": 430,
         "BMI": 18.1,
         "under-five deaths": 89,
         "Polio": 62,
         "Total expenditure": 8.13,
         "Diphtheria": 64,
         "HIV/AIDS": 0.1,
         "GDP": 631.744976,
         "Population": 31731688,
         "thinness  1-19 years": 17.7,
         "thinness 5-9 years": 17.7,
         "Income composition of resources": 0.47,
         "Schooling": 9.9,
         "_deepnote_index_column": 2
        },
        {
         "Country": "Afghanistan",
         "Year": 2012,
         "Status": "Developing",
         "Life expectancy": 59.5,
         "Adult Mortality": 272,
         "infant deaths": 69,
         "Alcohol": 0.01,
         "percentage expenditure": 78.1842153,
         "Hepatitis B": 67,
         "Measles": 2787,
         "BMI": 17.6,
         "under-five deaths": 93,
         "Polio": 67,
         "Total expenditure": 8.52,
         "Diphtheria": 67,
         "HIV/AIDS": 0.1,
         "GDP": 669.959,
         "Population": 3696958,
         "thinness  1-19 years": 17.9,
         "thinness 5-9 years": 18,
         "Income composition of resources": 0.463,
         "Schooling": 9.8,
         "_deepnote_index_column": 3
        },
        {
         "Country": "Afghanistan",
         "Year": 2011,
         "Status": "Developing",
         "Life expectancy": 59.2,
         "Adult Mortality": 275,
         "infant deaths": 71,
         "Alcohol": 0.01,
         "percentage expenditure": 7.097108703,
         "Hepatitis B": 68,
         "Measles": 3013,
         "BMI": 17.2,
         "under-five deaths": 97,
         "Polio": 68,
         "Total expenditure": 7.87,
         "Diphtheria": 68,
         "HIV/AIDS": 0.1,
         "GDP": 63.537231,
         "Population": 2978599,
         "thinness  1-19 years": 18.2,
         "thinness 5-9 years": 18.2,
         "Income composition of resources": 0.454,
         "Schooling": 9.5,
         "_deepnote_index_column": 4
        },
        {
         "Country": "Afghanistan",
         "Year": 2010,
         "Status": "Developing",
         "Life expectancy": 58.8,
         "Adult Mortality": 279,
         "infant deaths": 74,
         "Alcohol": 0.01,
         "percentage expenditure": 79.67936736,
         "Hepatitis B": 66,
         "Measles": 1989,
         "BMI": 16.7,
         "under-five deaths": 102,
         "Polio": 66,
         "Total expenditure": 9.2,
         "Diphtheria": 66,
         "HIV/AIDS": 0.1,
         "GDP": 553.32894,
         "Population": 2883167,
         "thinness  1-19 years": 18.4,
         "thinness 5-9 years": 18.4,
         "Income composition of resources": 0.448,
         "Schooling": 9.2,
         "_deepnote_index_column": 5
        },
        {
         "Country": "Afghanistan",
         "Year": 2009,
         "Status": "Developing",
         "Life expectancy": 58.6,
         "Adult Mortality": 281,
         "infant deaths": 77,
         "Alcohol": 0.01,
         "percentage expenditure": 56.76221682,
         "Hepatitis B": 63,
         "Measles": 2861,
         "BMI": 16.2,
         "under-five deaths": 106,
         "Polio": 63,
         "Total expenditure": 9.42,
         "Diphtheria": 63,
         "HIV/AIDS": 0.1,
         "GDP": 445.8932979,
         "Population": 284331,
         "thinness  1-19 years": 18.6,
         "thinness 5-9 years": 18.7,
         "Income composition of resources": 0.434,
         "Schooling": 8.9,
         "_deepnote_index_column": 6
        },
        {
         "Country": "Afghanistan",
         "Year": 2008,
         "Status": "Developing",
         "Life expectancy": 58.1,
         "Adult Mortality": 287,
         "infant deaths": 80,
         "Alcohol": 0.03,
         "percentage expenditure": 25.87392536,
         "Hepatitis B": 64,
         "Measles": 1599,
         "BMI": 15.7,
         "under-five deaths": 110,
         "Polio": 64,
         "Total expenditure": 8.33,
         "Diphtheria": 64,
         "HIV/AIDS": 0.1,
         "GDP": 373.3611163,
         "Population": 2729431,
         "thinness  1-19 years": 18.8,
         "thinness 5-9 years": 18.9,
         "Income composition of resources": 0.433,
         "Schooling": 8.7,
         "_deepnote_index_column": 7
        },
        {
         "Country": "Afghanistan",
         "Year": 2007,
         "Status": "Developing",
         "Life expectancy": 57.5,
         "Adult Mortality": 295,
         "infant deaths": 82,
         "Alcohol": 0.02,
         "percentage expenditure": 10.91015598,
         "Hepatitis B": 63,
         "Measles": 1141,
         "BMI": 15.2,
         "under-five deaths": 113,
         "Polio": 63,
         "Total expenditure": 6.73,
         "Diphtheria": 63,
         "HIV/AIDS": 0.1,
         "GDP": 369.835796,
         "Population": 26616792,
         "thinness  1-19 years": 19,
         "thinness 5-9 years": 19.1,
         "Income composition of resources": 0.415,
         "Schooling": 8.4,
         "_deepnote_index_column": 8
        },
        {
         "Country": "Afghanistan",
         "Year": 2006,
         "Status": "Developing",
         "Life expectancy": 57.3,
         "Adult Mortality": 295,
         "infant deaths": 84,
         "Alcohol": 0.03,
         "percentage expenditure": 17.17151751,
         "Hepatitis B": 64,
         "Measles": 1990,
         "BMI": 14.7,
         "under-five deaths": 116,
         "Polio": 58,
         "Total expenditure": 7.43,
         "Diphtheria": 58,
         "HIV/AIDS": 0.1,
         "GDP": 272.56377,
         "Population": 2589345,
         "thinness  1-19 years": 19.2,
         "thinness 5-9 years": 19.3,
         "Income composition of resources": 0.405,
         "Schooling": 8.1,
         "_deepnote_index_column": 9
        }
       ]
      },
      "text/plain": "          Country  Year      Status  Life expectancy  Adult Mortality  \\\n0     Afghanistan  2015  Developing             65.0            263.0   \n1     Afghanistan  2014  Developing             59.9            271.0   \n2     Afghanistan  2013  Developing             59.9            268.0   \n3     Afghanistan  2012  Developing             59.5            272.0   \n4     Afghanistan  2011  Developing             59.2            275.0   \n...           ...   ...         ...              ...              ...   \n2933     Zimbabwe  2004  Developing             44.3            723.0   \n2934     Zimbabwe  2003  Developing             44.5            715.0   \n2935     Zimbabwe  2002  Developing             44.8             73.0   \n2936     Zimbabwe  2001  Developing             45.3            686.0   \n2937     Zimbabwe  2000  Developing             46.0            665.0   \n\n      infant deaths  Alcohol  percentage expenditure  Hepatitis B  Measles  \\\n0                62     0.01               71.279624         65.0     1154   \n1                64     0.01               73.523582         62.0      492   \n2                66     0.01               73.219243         64.0      430   \n3                69     0.01               78.184215         67.0     2787   \n4                71     0.01                7.097109         68.0     3013   \n...             ...      ...                     ...          ...      ...   \n2933             27     4.36                0.000000         68.0       31   \n2934             26     4.06                0.000000          7.0      998   \n2935             25     4.43                0.000000         73.0      304   \n2936             25     1.72                0.000000         76.0      529   \n2937             24     1.68                0.000000         79.0     1483   \n\n      ...  Polio  Total expenditure  Diphtheria  HIV/AIDS         GDP  \\\n0     ...    6.0               8.16        65.0       0.1  584.259210   \n1     ...   58.0               8.18        62.0       0.1  612.696514   \n2     ...   62.0               8.13        64.0       0.1  631.744976   \n3     ...   67.0               8.52        67.0       0.1  669.959000   \n4     ...   68.0               7.87        68.0       0.1   63.537231   \n...   ...    ...                ...         ...       ...         ...   \n2933  ...   67.0               7.13        65.0      33.6  454.366654   \n2934  ...    7.0               6.52        68.0      36.7  453.351155   \n2935  ...   73.0               6.53        71.0      39.8   57.348340   \n2936  ...   76.0               6.16        75.0      42.1  548.587312   \n2937  ...   78.0               7.10        78.0      43.5  547.358878   \n\n      Population  thinness  1-19 years  thinness 5-9 years  \\\n0     33736494.0                  17.2                17.3   \n1       327582.0                  17.5                17.5   \n2     31731688.0                  17.7                17.7   \n3      3696958.0                  17.9                18.0   \n4      2978599.0                  18.2                18.2   \n...          ...                   ...                 ...   \n2933  12777511.0                   9.4                 9.4   \n2934  12633897.0                   9.8                 9.9   \n2935    125525.0                   1.2                 1.3   \n2936  12366165.0                   1.6                 1.7   \n2937  12222251.0                  11.0                11.2   \n\n      Income composition of resources  Schooling  \n0                               0.479       10.1  \n1                               0.476       10.0  \n2                               0.470        9.9  \n3                               0.463        9.8  \n4                               0.454        9.5  \n...                               ...        ...  \n2933                            0.407        9.2  \n2934                            0.418        9.5  \n2935                            0.427       10.0  \n2936                            0.427        9.8  \n2937                            0.434        9.8  \n\n[2928 rows x 22 columns]",
      "text/html": "<div>\n<style scoped>\n    .dataframe tbody tr th:only-of-type {\n        vertical-align: middle;\n    }\n\n    .dataframe tbody tr th {\n        vertical-align: top;\n    }\n\n    .dataframe thead th {\n        text-align: right;\n    }\n</style>\n<table border=\"1\" class=\"dataframe\">\n  <thead>\n    <tr style=\"text-align: right;\">\n      <th></th>\n      <th>Country</th>\n      <th>Year</th>\n      <th>Status</th>\n      <th>Life expectancy</th>\n      <th>Adult Mortality</th>\n      <th>infant deaths</th>\n      <th>Alcohol</th>\n      <th>percentage expenditure</th>\n      <th>Hepatitis B</th>\n      <th>Measles</th>\n      <th>...</th>\n      <th>Polio</th>\n      <th>Total expenditure</th>\n      <th>Diphtheria</th>\n      <th>HIV/AIDS</th>\n      <th>GDP</th>\n      <th>Population</th>\n      <th>thinness  1-19 years</th>\n      <th>thinness 5-9 years</th>\n      <th>Income composition of resources</th>\n      <th>Schooling</th>\n    </tr>\n  </thead>\n  <tbody>\n    <tr>\n      <th>0</th>\n      <td>Afghanistan</td>\n      <td>2015</td>\n      <td>Developing</td>\n      <td>65.0</td>\n      <td>263.0</td>\n      <td>62</td>\n      <td>0.01</td>\n      <td>71.279624</td>\n      <td>65.0</td>\n      <td>1154</td>\n      <td>...</td>\n      <td>6.0</td>\n      <td>8.16</td>\n      <td>65.0</td>\n      <td>0.1</td>\n      <td>584.259210</td>\n      <td>33736494.0</td>\n      <td>17.2</td>\n      <td>17.3</td>\n      <td>0.479</td>\n      <td>10.1</td>\n    </tr>\n    <tr>\n      <th>1</th>\n      <td>Afghanistan</td>\n      <td>2014</td>\n      <td>Developing</td>\n      <td>59.9</td>\n      <td>271.0</td>\n      <td>64</td>\n      <td>0.01</td>\n      <td>73.523582</td>\n      <td>62.0</td>\n      <td>492</td>\n      <td>...</td>\n      <td>58.0</td>\n      <td>8.18</td>\n      <td>62.0</td>\n      <td>0.1</td>\n      <td>612.696514</td>\n      <td>327582.0</td>\n      <td>17.5</td>\n      <td>17.5</td>\n      <td>0.476</td>\n      <td>10.0</td>\n    </tr>\n    <tr>\n      <th>2</th>\n      <td>Afghanistan</td>\n      <td>2013</td>\n      <td>Developing</td>\n      <td>59.9</td>\n      <td>268.0</td>\n      <td>66</td>\n      <td>0.01</td>\n      <td>73.219243</td>\n      <td>64.0</td>\n      <td>430</td>\n      <td>...</td>\n      <td>62.0</td>\n      <td>8.13</td>\n      <td>64.0</td>\n      <td>0.1</td>\n      <td>631.744976</td>\n      <td>31731688.0</td>\n      <td>17.7</td>\n      <td>17.7</td>\n      <td>0.470</td>\n      <td>9.9</td>\n    </tr>\n    <tr>\n      <th>3</th>\n      <td>Afghanistan</td>\n      <td>2012</td>\n      <td>Developing</td>\n      <td>59.5</td>\n      <td>272.0</td>\n      <td>69</td>\n      <td>0.01</td>\n      <td>78.184215</td>\n      <td>67.0</td>\n      <td>2787</td>\n      <td>...</td>\n      <td>67.0</td>\n      <td>8.52</td>\n      <td>67.0</td>\n      <td>0.1</td>\n      <td>669.959000</td>\n      <td>3696958.0</td>\n      <td>17.9</td>\n      <td>18.0</td>\n      <td>0.463</td>\n      <td>9.8</td>\n    </tr>\n    <tr>\n      <th>4</th>\n      <td>Afghanistan</td>\n      <td>2011</td>\n      <td>Developing</td>\n      <td>59.2</td>\n      <td>275.0</td>\n      <td>71</td>\n      <td>0.01</td>\n      <td>7.097109</td>\n      <td>68.0</td>\n      <td>3013</td>\n      <td>...</td>\n      <td>68.0</td>\n      <td>7.87</td>\n      <td>68.0</td>\n      <td>0.1</td>\n      <td>63.537231</td>\n      <td>2978599.0</td>\n      <td>18.2</td>\n      <td>18.2</td>\n      <td>0.454</td>\n      <td>9.5</td>\n    </tr>\n    <tr>\n      <th>...</th>\n      <td>...</td>\n      <td>...</td>\n      <td>...</td>\n      <td>...</td>\n      <td>...</td>\n      <td>...</td>\n      <td>...</td>\n      <td>...</td>\n      <td>...</td>\n      <td>...</td>\n      <td>...</td>\n      <td>...</td>\n      <td>...</td>\n      <td>...</td>\n      <td>...</td>\n      <td>...</td>\n      <td>...</td>\n      <td>...</td>\n      <td>...</td>\n      <td>...</td>\n      <td>...</td>\n    </tr>\n    <tr>\n      <th>2933</th>\n      <td>Zimbabwe</td>\n      <td>2004</td>\n      <td>Developing</td>\n      <td>44.3</td>\n      <td>723.0</td>\n      <td>27</td>\n      <td>4.36</td>\n      <td>0.000000</td>\n      <td>68.0</td>\n      <td>31</td>\n      <td>...</td>\n      <td>67.0</td>\n      <td>7.13</td>\n      <td>65.0</td>\n      <td>33.6</td>\n      <td>454.366654</td>\n      <td>12777511.0</td>\n      <td>9.4</td>\n      <td>9.4</td>\n      <td>0.407</td>\n      <td>9.2</td>\n    </tr>\n    <tr>\n      <th>2934</th>\n      <td>Zimbabwe</td>\n      <td>2003</td>\n      <td>Developing</td>\n      <td>44.5</td>\n      <td>715.0</td>\n      <td>26</td>\n      <td>4.06</td>\n      <td>0.000000</td>\n      <td>7.0</td>\n      <td>998</td>\n      <td>...</td>\n      <td>7.0</td>\n      <td>6.52</td>\n      <td>68.0</td>\n      <td>36.7</td>\n      <td>453.351155</td>\n      <td>12633897.0</td>\n      <td>9.8</td>\n      <td>9.9</td>\n      <td>0.418</td>\n      <td>9.5</td>\n    </tr>\n    <tr>\n      <th>2935</th>\n      <td>Zimbabwe</td>\n      <td>2002</td>\n      <td>Developing</td>\n      <td>44.8</td>\n      <td>73.0</td>\n      <td>25</td>\n      <td>4.43</td>\n      <td>0.000000</td>\n      <td>73.0</td>\n      <td>304</td>\n      <td>...</td>\n      <td>73.0</td>\n      <td>6.53</td>\n      <td>71.0</td>\n      <td>39.8</td>\n      <td>57.348340</td>\n      <td>125525.0</td>\n      <td>1.2</td>\n      <td>1.3</td>\n      <td>0.427</td>\n      <td>10.0</td>\n    </tr>\n    <tr>\n      <th>2936</th>\n      <td>Zimbabwe</td>\n      <td>2001</td>\n      <td>Developing</td>\n      <td>45.3</td>\n      <td>686.0</td>\n      <td>25</td>\n      <td>1.72</td>\n      <td>0.000000</td>\n      <td>76.0</td>\n      <td>529</td>\n      <td>...</td>\n      <td>76.0</td>\n      <td>6.16</td>\n      <td>75.0</td>\n      <td>42.1</td>\n      <td>548.587312</td>\n      <td>12366165.0</td>\n      <td>1.6</td>\n      <td>1.7</td>\n      <td>0.427</td>\n      <td>9.8</td>\n    </tr>\n    <tr>\n      <th>2937</th>\n      <td>Zimbabwe</td>\n      <td>2000</td>\n      <td>Developing</td>\n      <td>46.0</td>\n      <td>665.0</td>\n      <td>24</td>\n      <td>1.68</td>\n      <td>0.000000</td>\n      <td>79.0</td>\n      <td>1483</td>\n      <td>...</td>\n      <td>78.0</td>\n      <td>7.10</td>\n      <td>78.0</td>\n      <td>43.5</td>\n      <td>547.358878</td>\n      <td>12222251.0</td>\n      <td>11.0</td>\n      <td>11.2</td>\n      <td>0.434</td>\n      <td>9.8</td>\n    </tr>\n  </tbody>\n</table>\n<p>2928 rows × 22 columns</p>\n</div>"
     },
     "metadata": {}
    }
   ],
   "execution_count": null
  },
  {
   "cell_type": "markdown",
   "source": "* Příznak 'Alcohol' je null-ový v některých záznamech. ",
   "metadata": {
    "tags": [],
    "cell_id": "00019-7f76726f-0bca-4e2e-b1da-498cfe733326",
    "deepnote_cell_type": "markdown"
   }
  },
  {
   "cell_type": "code",
   "metadata": {
    "tags": [],
    "cell_id": "00020-c307f600-d3e1-4719-8271-11beb12d0604",
    "deepnote_to_be_reexecuted": false,
    "source_hash": "1efb78b",
    "execution_start": 1640535844339,
    "execution_millis": 367,
    "deepnote_output_heights": [
     21.1875
    ],
    "is_output_hidden": true,
    "deepnote_cell_type": "code"
   },
   "source": "df[df['Alcohol'].isnull()]",
   "outputs": [
    {
     "output_type": "execute_result",
     "execution_count": 11,
     "data": {
      "application/vnd.deepnote.dataframe.v3+json": {
       "column_count": 22,
       "row_count": 193,
       "columns": [
        {
         "name": "Country",
         "dtype": "object",
         "stats": {
          "unique_count": 177,
          "nan_count": 0,
          "categories": [
           {
            "name": "South Sudan",
            "count": 16
           },
           {
            "name": "Montenegro",
            "count": 2
           },
           {
            "name": "175 others",
            "count": 175
           }
          ]
         }
        },
        {
         "name": "Year",
         "dtype": "int64",
         "stats": {
          "unique_count": 16,
          "nan_count": 0,
          "min": "2000",
          "max": "2015",
          "histogram": [
           {
            "bin_start": 2000,
            "bin_end": 2001.5,
            "count": 2
           },
           {
            "bin_start": 2001.5,
            "bin_end": 2003,
            "count": 1
           },
           {
            "bin_start": 2003,
            "bin_end": 2004.5,
            "count": 2
           },
           {
            "bin_start": 2004.5,
            "bin_end": 2006,
            "count": 2
           },
           {
            "bin_start": 2006,
            "bin_end": 2007.5,
            "count": 2
           },
           {
            "bin_start": 2007.5,
            "bin_end": 2009,
            "count": 1
           },
           {
            "bin_start": 2009,
            "bin_end": 2010.5,
            "count": 2
           },
           {
            "bin_start": 2010.5,
            "bin_end": 2012,
            "count": 1
           },
           {
            "bin_start": 2012,
            "bin_end": 2013.5,
            "count": 2
           },
           {
            "bin_start": 2013.5,
            "bin_end": 2015,
            "count": 178
           }
          ]
         }
        },
        {
         "name": "Status",
         "dtype": "object",
         "stats": {
          "unique_count": 2,
          "nan_count": 0,
          "categories": [
           {
            "name": "Developing",
            "count": 165
           },
           {
            "name": "Developed",
            "count": 28
           }
          ]
         }
        },
        {
         "name": "Life expectancy",
         "dtype": "float64",
         "stats": {
          "unique_count": 139,
          "nan_count": 0,
          "min": "48.9",
          "max": "88.0",
          "histogram": [
           {
            "bin_start": 48.9,
            "bin_end": 52.81,
            "count": 9
           },
           {
            "bin_start": 52.81,
            "bin_end": 56.72,
            "count": 13
           },
           {
            "bin_start": 56.72,
            "bin_end": 60.629999999999995,
            "count": 15
           },
           {
            "bin_start": 60.629999999999995,
            "bin_end": 64.53999999999999,
            "count": 16
           },
           {
            "bin_start": 64.53999999999999,
            "bin_end": 68.45,
            "count": 20
           },
           {
            "bin_start": 68.45,
            "bin_end": 72.36,
            "count": 23
           },
           {
            "bin_start": 72.36,
            "bin_end": 76.27,
            "count": 50
           },
           {
            "bin_start": 76.27,
            "bin_end": 80.18,
            "count": 22
           },
           {
            "bin_start": 80.18,
            "bin_end": 84.09,
            "count": 21
           },
           {
            "bin_start": 84.09,
            "bin_end": 88,
            "count": 4
           }
          ]
         }
        },
        {
         "name": "Adult Mortality",
         "dtype": "float64",
         "stats": {
          "unique_count": 138,
          "nan_count": 0,
          "min": "1.0",
          "max": "484.0",
          "histogram": [
           {
            "bin_start": 1,
            "bin_end": 49.3,
            "count": 21
           },
           {
            "bin_start": 49.3,
            "bin_end": 97.6,
            "count": 38
           },
           {
            "bin_start": 97.6,
            "bin_end": 145.89999999999998,
            "count": 35
           },
           {
            "bin_start": 145.89999999999998,
            "bin_end": 194.2,
            "count": 33
           },
           {
            "bin_start": 194.2,
            "bin_end": 242.5,
            "count": 18
           },
           {
            "bin_start": 242.5,
            "bin_end": 290.79999999999995,
            "count": 17
           },
           {
            "bin_start": 290.79999999999995,
            "bin_end": 339.09999999999997,
            "count": 7
           },
           {
            "bin_start": 339.09999999999997,
            "bin_end": 387.4,
            "count": 20
           },
           {
            "bin_start": 387.4,
            "bin_end": 435.7,
            "count": 3
           },
           {
            "bin_start": 435.7,
            "bin_end": 484,
            "count": 1
           }
          ]
         }
        },
        {
         "name": "infant deaths",
         "dtype": "int64",
         "stats": {
          "unique_count": 53,
          "nan_count": 0,
          "min": "0",
          "max": "910",
          "histogram": [
           {
            "bin_start": 0,
            "bin_end": 91,
            "count": 185
           },
           {
            "bin_start": 91,
            "bin_end": 182,
            "count": 4
           },
           {
            "bin_start": 182,
            "bin_end": 273,
            "count": 1
           },
           {
            "bin_start": 273,
            "bin_end": 364,
            "count": 1
           },
           {
            "bin_start": 364,
            "bin_end": 455,
            "count": 0
           },
           {
            "bin_start": 455,
            "bin_end": 546,
            "count": 1
           },
           {
            "bin_start": 546,
            "bin_end": 637,
            "count": 0
           },
           {
            "bin_start": 637,
            "bin_end": 728,
            "count": 0
           },
           {
            "bin_start": 728,
            "bin_end": 819,
            "count": 0
           },
           {
            "bin_start": 819,
            "bin_end": 910,
            "count": 1
           }
          ]
         }
        },
        {
         "name": "Alcohol",
         "dtype": "float64",
         "stats": {
          "unique_count": 0,
          "nan_count": 193,
          "min": null,
          "max": null,
          "histogram": [
           {
            "bin_start": 0,
            "bin_end": 0.1,
            "count": 0
           },
           {
            "bin_start": 0.1,
            "bin_end": 0.2,
            "count": 0
           },
           {
            "bin_start": 0.2,
            "bin_end": 0.30000000000000004,
            "count": 0
           },
           {
            "bin_start": 0.30000000000000004,
            "bin_end": 0.4,
            "count": 0
           },
           {
            "bin_start": 0.4,
            "bin_end": 0.5,
            "count": 0
           },
           {
            "bin_start": 0.5,
            "bin_end": 0.6000000000000001,
            "count": 0
           },
           {
            "bin_start": 0.6000000000000001,
            "bin_end": 0.7000000000000001,
            "count": 0
           },
           {
            "bin_start": 0.7000000000000001,
            "bin_end": 0.8,
            "count": 0
           },
           {
            "bin_start": 0.8,
            "bin_end": 0.9,
            "count": 0
           },
           {
            "bin_start": 0.9,
            "bin_end": 1,
            "count": 0
           }
          ]
         }
        },
        {
         "name": "percentage expenditure",
         "dtype": "float64",
         "stats": {
          "unique_count": 5,
          "nan_count": 0,
          "min": "0.0",
          "max": "527.3076721",
          "histogram": [
           {
            "bin_start": 0,
            "bin_end": 52.730767209999996,
            "count": 192
           },
           {
            "bin_start": 52.730767209999996,
            "bin_end": 105.46153441999999,
            "count": 0
           },
           {
            "bin_start": 105.46153441999999,
            "bin_end": 158.19230162999997,
            "count": 0
           },
           {
            "bin_start": 158.19230162999997,
            "bin_end": 210.92306883999998,
            "count": 0
           },
           {
            "bin_start": 210.92306883999998,
            "bin_end": 263.65383605,
            "count": 0
           },
           {
            "bin_start": 263.65383605,
            "bin_end": 316.38460325999995,
            "count": 0
           },
           {
            "bin_start": 316.38460325999995,
            "bin_end": 369.11537046999996,
            "count": 0
           },
           {
            "bin_start": 369.11537046999996,
            "bin_end": 421.84613767999997,
            "count": 0
           },
           {
            "bin_start": 421.84613767999997,
            "bin_end": 474.57690489,
            "count": 0
           },
           {
            "bin_start": 474.57690489,
            "bin_end": 527.3076721,
            "count": 1
           }
          ]
         }
        },
        {
         "name": "Hepatitis B",
         "dtype": "float64",
         "stats": {
          "unique_count": 44,
          "nan_count": 23,
          "min": "6.0",
          "max": "99.0",
          "histogram": [
           {
            "bin_start": 6,
            "bin_end": 15.3,
            "count": 10
           },
           {
            "bin_start": 15.3,
            "bin_end": 24.6,
            "count": 2
           },
           {
            "bin_start": 24.6,
            "bin_end": 33.900000000000006,
            "count": 1
           },
           {
            "bin_start": 33.900000000000006,
            "bin_end": 43.2,
            "count": 2
           },
           {
            "bin_start": 43.2,
            "bin_end": 52.5,
            "count": 4
           },
           {
            "bin_start": 52.5,
            "bin_end": 61.800000000000004,
            "count": 4
           },
           {
            "bin_start": 61.800000000000004,
            "bin_end": 71.10000000000001,
            "count": 8
           },
           {
            "bin_start": 71.10000000000001,
            "bin_end": 80.4,
            "count": 12
           },
           {
            "bin_start": 80.4,
            "bin_end": 89.7,
            "count": 28
           },
           {
            "bin_start": 89.7,
            "bin_end": 99,
            "count": 99
           }
          ]
         }
        },
        {
         "name": "Measles",
         "dtype": "int64",
         "stats": {
          "unique_count": 98,
          "nan_count": 0,
          "min": "0",
          "max": "90387",
          "histogram": [
           {
            "bin_start": 0,
            "bin_end": 9038.7,
            "count": 186
           },
           {
            "bin_start": 9038.7,
            "bin_end": 18077.4,
            "count": 4
           },
           {
            "bin_start": 18077.4,
            "bin_end": 27116.100000000002,
            "count": 1
           },
           {
            "bin_start": 27116.100000000002,
            "bin_end": 36154.8,
            "count": 0
           },
           {
            "bin_start": 36154.8,
            "bin_end": 45193.5,
            "count": 1
           },
           {
            "bin_start": 45193.5,
            "bin_end": 54232.200000000004,
            "count": 0
           },
           {
            "bin_start": 54232.200000000004,
            "bin_end": 63270.90000000001,
            "count": 0
           },
           {
            "bin_start": 63270.90000000001,
            "bin_end": 72309.6,
            "count": 0
           },
           {
            "bin_start": 72309.6,
            "bin_end": 81348.3,
            "count": 0
           },
           {
            "bin_start": 81348.3,
            "bin_end": 90387,
            "count": 1
           }
          ]
         }
        },
        {
         "name": "BMI",
         "dtype": "float64",
         "stats": {
          "unique_count": 139,
          "nan_count": 17,
          "min": "2.5",
          "max": "77.6",
          "histogram": [
           {
            "bin_start": 2.5,
            "bin_end": 10.01,
            "count": 16
           },
           {
            "bin_start": 10.01,
            "bin_end": 17.52,
            "count": 2
           },
           {
            "bin_start": 17.52,
            "bin_end": 25.03,
            "count": 32
           },
           {
            "bin_start": 25.03,
            "bin_end": 32.54,
            "count": 18
           },
           {
            "bin_start": 32.54,
            "bin_end": 40.05,
            "count": 10
           },
           {
            "bin_start": 40.05,
            "bin_end": 47.56,
            "count": 7
           },
           {
            "bin_start": 47.56,
            "bin_end": 55.07,
            "count": 20
           },
           {
            "bin_start": 55.07,
            "bin_end": 62.58,
            "count": 38
           },
           {
            "bin_start": 62.58,
            "bin_end": 70.09,
            "count": 29
           },
           {
            "bin_start": 70.09,
            "bin_end": 77.6,
            "count": 4
           }
          ]
         }
        },
        {
         "name": "under-five deaths",
         "dtype": "int64",
         "stats": {
          "unique_count": 61,
          "nan_count": 0,
          "min": "0",
          "max": "1100",
          "histogram": [
           {
            "bin_start": 0,
            "bin_end": 110,
            "count": 184
           },
           {
            "bin_start": 110,
            "bin_end": 220,
            "count": 5
           },
           {
            "bin_start": 220,
            "bin_end": 330,
            "count": 1
           },
           {
            "bin_start": 330,
            "bin_end": 440,
            "count": 1
           },
           {
            "bin_start": 440,
            "bin_end": 550,
            "count": 0
           },
           {
            "bin_start": 550,
            "bin_end": 660,
            "count": 0
           },
           {
            "bin_start": 660,
            "bin_end": 770,
            "count": 1
           },
           {
            "bin_start": 770,
            "bin_end": 880,
            "count": 0
           },
           {
            "bin_start": 880,
            "bin_end": 990,
            "count": 0
           },
           {
            "bin_start": 990,
            "bin_end": 1100,
            "count": 1
           }
          ]
         }
        },
        {
         "name": "Polio",
         "dtype": "float64",
         "stats": {
          "unique_count": 43,
          "nan_count": 12,
          "min": "5.0",
          "max": "99.0",
          "histogram": [
           {
            "bin_start": 5,
            "bin_end": 14.4,
            "count": 12
           },
           {
            "bin_start": 14.4,
            "bin_end": 23.8,
            "count": 1
           },
           {
            "bin_start": 23.8,
            "bin_end": 33.2,
            "count": 0
           },
           {
            "bin_start": 33.2,
            "bin_end": 42.6,
            "count": 2
           },
           {
            "bin_start": 42.6,
            "bin_end": 52,
            "count": 5
           },
           {
            "bin_start": 52,
            "bin_end": 61.400000000000006,
            "count": 4
           },
           {
            "bin_start": 61.400000000000006,
            "bin_end": 70.8,
            "count": 8
           },
           {
            "bin_start": 70.8,
            "bin_end": 80.2,
            "count": 14
           },
           {
            "bin_start": 80.2,
            "bin_end": 89.60000000000001,
            "count": 29
           },
           {
            "bin_start": 89.60000000000001,
            "bin_end": 99,
            "count": 106
           }
          ]
         }
        },
        {
         "name": "Total expenditure",
         "dtype": "float64",
         "stats": {
          "unique_count": 4,
          "nan_count": 189,
          "min": "2.62",
          "max": "8.46",
          "histogram": [
           {
            "bin_start": 2.62,
            "bin_end": 3.204,
            "count": 3
           },
           {
            "bin_start": 3.204,
            "bin_end": 3.7880000000000003,
            "count": 0
           },
           {
            "bin_start": 3.7880000000000003,
            "bin_end": 4.372,
            "count": 0
           },
           {
            "bin_start": 4.372,
            "bin_end": 4.956,
            "count": 0
           },
           {
            "bin_start": 4.956,
            "bin_end": 5.540000000000001,
            "count": 0
           },
           {
            "bin_start": 5.540000000000001,
            "bin_end": 6.1240000000000006,
            "count": 0
           },
           {
            "bin_start": 6.1240000000000006,
            "bin_end": 6.708000000000001,
            "count": 0
           },
           {
            "bin_start": 6.708000000000001,
            "bin_end": 7.292000000000001,
            "count": 0
           },
           {
            "bin_start": 7.292000000000001,
            "bin_end": 7.876,
            "count": 0
           },
           {
            "bin_start": 7.876,
            "bin_end": 8.46,
            "count": 1
           }
          ]
         }
        },
        {
         "name": "Diphtheria",
         "dtype": "float64",
         "stats": {
          "unique_count": 47,
          "nan_count": 12,
          "min": "6.0",
          "max": "99.0",
          "histogram": [
           {
            "bin_start": 6,
            "bin_end": 15.3,
            "count": 8
           },
           {
            "bin_start": 15.3,
            "bin_end": 24.6,
            "count": 2
           },
           {
            "bin_start": 24.6,
            "bin_end": 33.900000000000006,
            "count": 1
           },
           {
            "bin_start": 33.900000000000006,
            "bin_end": 43.2,
            "count": 3
           },
           {
            "bin_start": 43.2,
            "bin_end": 52.5,
            "count": 5
           },
           {
            "bin_start": 52.5,
            "bin_end": 61.800000000000004,
            "count": 4
           },
           {
            "bin_start": 61.800000000000004,
            "bin_end": 71.10000000000001,
            "count": 7
           },
           {
            "bin_start": 71.10000000000001,
            "bin_end": 80.4,
            "count": 14
           },
           {
            "bin_start": 80.4,
            "bin_end": 89.7,
            "count": 26
           },
           {
            "bin_start": 89.7,
            "bin_end": 99,
            "count": 111
           }
          ]
         }
        },
        {
         "name": "HIV/AIDS",
         "dtype": "float64",
         "stats": {
          "unique_count": 37,
          "nan_count": 0,
          "min": "0.1",
          "max": "9.3",
          "histogram": [
           {
            "bin_start": 0.1,
            "bin_end": 1.0200000000000002,
            "count": 151
           },
           {
            "bin_start": 1.0200000000000002,
            "bin_end": 1.9400000000000004,
            "count": 6
           },
           {
            "bin_start": 1.9400000000000004,
            "bin_end": 2.8600000000000008,
            "count": 8
           },
           {
            "bin_start": 2.8600000000000008,
            "bin_end": 3.7800000000000007,
            "count": 11
           },
           {
            "bin_start": 3.7800000000000007,
            "bin_end": 4.7,
            "count": 13
           },
           {
            "bin_start": 4.7,
            "bin_end": 5.620000000000001,
            "count": 1
           },
           {
            "bin_start": 5.620000000000001,
            "bin_end": 6.540000000000001,
            "count": 1
           },
           {
            "bin_start": 6.540000000000001,
            "bin_end": 7.460000000000001,
            "count": 1
           },
           {
            "bin_start": 7.460000000000001,
            "bin_end": 8.38,
            "count": 0
           },
           {
            "bin_start": 8.38,
            "bin_end": 9.3,
            "count": 1
           }
          ]
         }
        },
        {
         "name": "GDP",
         "dtype": "float64",
         "stats": {
          "unique_count": 157,
          "nan_count": 36,
          "min": "33.681223",
          "max": "66346.52267",
          "histogram": [
           {
            "bin_start": 33.681223,
            "bin_end": 6664.9653677,
            "count": 119
           },
           {
            "bin_start": 6664.9653677,
            "bin_end": 13296.2495124,
            "count": 16
           },
           {
            "bin_start": 13296.2495124,
            "bin_end": 19927.5336571,
            "count": 9
           },
           {
            "bin_start": 19927.5336571,
            "bin_end": 26558.8178018,
            "count": 3
           },
           {
            "bin_start": 26558.8178018,
            "bin_end": 33190.1019465,
            "count": 1
           },
           {
            "bin_start": 33190.1019465,
            "bin_end": 39821.3860912,
            "count": 3
           },
           {
            "bin_start": 39821.3860912,
            "bin_end": 46452.6702359,
            "count": 4
           },
           {
            "bin_start": 46452.6702359,
            "bin_end": 53083.9543806,
            "count": 0
           },
           {
            "bin_start": 53083.9543806,
            "bin_end": 59715.2385253,
            "count": 1
           },
           {
            "bin_start": 59715.2385253,
            "bin_end": 66346.52267,
            "count": 1
           }
          ]
         }
        },
        {
         "name": "Population",
         "dtype": "float64",
         "stats": {
          "unique_count": 155,
          "nan_count": 38,
          "min": "2966.0",
          "max": "258162113.0",
          "histogram": [
           {
            "bin_start": 2966,
            "bin_end": 25818880.7,
            "count": 141
           },
           {
            "bin_start": 25818880.7,
            "bin_end": 51634795.4,
            "count": 10
           },
           {
            "bin_start": 51634795.4,
            "bin_end": 77450710.1,
            "count": 0
           },
           {
            "bin_start": 77450710.1,
            "bin_end": 103266624.8,
            "count": 2
           },
           {
            "bin_start": 103266624.8,
            "bin_end": 129082539.5,
            "count": 0
           },
           {
            "bin_start": 129082539.5,
            "bin_end": 154898454.2,
            "count": 0
           },
           {
            "bin_start": 154898454.2,
            "bin_end": 180714368.9,
            "count": 0
           },
           {
            "bin_start": 180714368.9,
            "bin_end": 206530283.6,
            "count": 1
           },
           {
            "bin_start": 206530283.6,
            "bin_end": 232346198.29999998,
            "count": 0
           },
           {
            "bin_start": 232346198.29999998,
            "bin_end": 258162113,
            "count": 1
           }
          ]
         }
        },
        {
         "name": "thinness  1-19 years",
         "dtype": "float64",
         "stats": {
          "unique_count": 76,
          "nan_count": 17,
          "min": "0.1",
          "max": "26.7",
          "histogram": [
           {
            "bin_start": 0.1,
            "bin_end": 2.76,
            "count": 79
           },
           {
            "bin_start": 2.76,
            "bin_end": 5.419999999999999,
            "count": 29
           },
           {
            "bin_start": 5.419999999999999,
            "bin_end": 8.079999999999998,
            "count": 46
           },
           {
            "bin_start": 8.079999999999998,
            "bin_end": 10.739999999999998,
            "count": 12
           },
           {
            "bin_start": 10.739999999999998,
            "bin_end": 13.399999999999999,
            "count": 1
           },
           {
            "bin_start": 13.399999999999999,
            "bin_end": 16.06,
            "count": 6
           },
           {
            "bin_start": 16.06,
            "bin_end": 18.72,
            "count": 1
           },
           {
            "bin_start": 18.72,
            "bin_end": 21.38,
            "count": 1
           },
           {
            "bin_start": 21.38,
            "bin_end": 24.04,
            "count": 0
           },
           {
            "bin_start": 24.04,
            "bin_end": 26.7,
            "count": 1
           }
          ]
         }
        },
        {
         "name": "thinness 5-9 years",
         "dtype": "float64",
         "stats": {
          "unique_count": 84,
          "nan_count": 17,
          "min": "0.1",
          "max": "27.3",
          "histogram": [
           {
            "bin_start": 0.1,
            "bin_end": 2.82,
            "count": 78
           },
           {
            "bin_start": 2.82,
            "bin_end": 5.539999999999999,
            "count": 37
           },
           {
            "bin_start": 5.539999999999999,
            "bin_end": 8.26,
            "count": 41
           },
           {
            "bin_start": 8.26,
            "bin_end": 10.979999999999999,
            "count": 9
           },
           {
            "bin_start": 10.979999999999999,
            "bin_end": 13.699999999999998,
            "count": 4
           },
           {
            "bin_start": 13.699999999999998,
            "bin_end": 16.42,
            "count": 4
           },
           {
            "bin_start": 16.42,
            "bin_end": 19.14,
            "count": 1
           },
           {
            "bin_start": 19.14,
            "bin_end": 21.86,
            "count": 1
           },
           {
            "bin_start": 21.86,
            "bin_end": 24.58,
            "count": 0
           },
           {
            "bin_start": 24.58,
            "bin_end": 27.3,
            "count": 1
           }
          ]
         }
        },
        {
         "name": "Income composition of resources",
         "dtype": "float64",
         "stats": {
          "unique_count": 148,
          "nan_count": 9,
          "min": "0.0",
          "max": "0.938",
          "histogram": [
           {
            "bin_start": 0,
            "bin_end": 0.0938,
            "count": 11
           },
           {
            "bin_start": 0.0938,
            "bin_end": 0.1876,
            "count": 0
           },
           {
            "bin_start": 0.1876,
            "bin_end": 0.2814,
            "count": 0
           },
           {
            "bin_start": 0.2814,
            "bin_end": 0.3752,
            "count": 2
           },
           {
            "bin_start": 0.3752,
            "bin_end": 0.469,
            "count": 17
           },
           {
            "bin_start": 0.469,
            "bin_end": 0.5628,
            "count": 27
           },
           {
            "bin_start": 0.5628,
            "bin_end": 0.6566,
            "count": 22
           },
           {
            "bin_start": 0.6566,
            "bin_end": 0.7504,
            "count": 38
           },
           {
            "bin_start": 0.7504,
            "bin_end": 0.8442,
            "count": 38
           },
           {
            "bin_start": 0.8442,
            "bin_end": 0.938,
            "count": 29
           }
          ]
         }
        },
        {
         "name": "Schooling",
         "dtype": "float64",
         "stats": {
          "unique_count": 89,
          "nan_count": 9,
          "min": "0.0",
          "max": "20.4",
          "histogram": [
           {
            "bin_start": 0,
            "bin_end": 2.04,
            "count": 11
           },
           {
            "bin_start": 2.04,
            "bin_end": 4.08,
            "count": 0
           },
           {
            "bin_start": 4.08,
            "bin_end": 6.12,
            "count": 7
           },
           {
            "bin_start": 6.12,
            "bin_end": 8.16,
            "count": 6
           },
           {
            "bin_start": 8.16,
            "bin_end": 10.2,
            "count": 20
           },
           {
            "bin_start": 10.2,
            "bin_end": 12.24,
            "count": 34
           },
           {
            "bin_start": 12.24,
            "bin_end": 14.280000000000001,
            "count": 51
           },
           {
            "bin_start": 14.280000000000001,
            "bin_end": 16.32,
            "count": 39
           },
           {
            "bin_start": 16.32,
            "bin_end": 18.36,
            "count": 12
           },
           {
            "bin_start": 18.36,
            "bin_end": 20.4,
            "count": 4
           }
          ]
         }
        },
        {
         "name": "_deepnote_index_column",
         "dtype": "int64"
        }
       ],
       "rows": [
        {
         "Country": "Algeria",
         "Year": 2015,
         "Status": "Developing",
         "Life expectancy": 75.6,
         "Adult Mortality": 19,
         "infant deaths": 21,
         "Alcohol": "nan",
         "percentage expenditure": 0,
         "Hepatitis B": 95,
         "Measles": 63,
         "BMI": 59.5,
         "under-five deaths": 24,
         "Polio": 95,
         "Total expenditure": "nan",
         "Diphtheria": 95,
         "HIV/AIDS": 0.1,
         "GDP": 4132.76292,
         "Population": 39871528,
         "thinness  1-19 years": 6,
         "thinness 5-9 years": 5.8,
         "Income composition of resources": 0.743,
         "Schooling": 14.4,
         "_deepnote_index_column": 32
        },
        {
         "Country": "Angola",
         "Year": 2015,
         "Status": "Developing",
         "Life expectancy": 52.4,
         "Adult Mortality": 335,
         "infant deaths": 66,
         "Alcohol": "nan",
         "percentage expenditure": 0,
         "Hepatitis B": 64,
         "Measles": 118,
         "BMI": 23.3,
         "under-five deaths": 98,
         "Polio": 7,
         "Total expenditure": "nan",
         "Diphtheria": 64,
         "HIV/AIDS": 1.9,
         "GDP": 3695.793748,
         "Population": 2785935,
         "thinness  1-19 years": 8.3,
         "thinness 5-9 years": 8.2,
         "Income composition of resources": 0.531,
         "Schooling": 11.4,
         "_deepnote_index_column": 48
        },
        {
         "Country": "Antigua and Barbuda",
         "Year": 2015,
         "Status": "Developing",
         "Life expectancy": 76.4,
         "Adult Mortality": 13,
         "infant deaths": 0,
         "Alcohol": "nan",
         "percentage expenditure": 0,
         "Hepatitis B": 99,
         "Measles": 0,
         "BMI": 47.7,
         "under-five deaths": 0,
         "Polio": 86,
         "Total expenditure": "nan",
         "Diphtheria": 99,
         "HIV/AIDS": 0.2,
         "GDP": 13566.9541,
         "Population": "nan",
         "thinness  1-19 years": 3.3,
         "thinness 5-9 years": 3.3,
         "Income composition of resources": 0.784,
         "Schooling": 13.9,
         "_deepnote_index_column": 64
        },
        {
         "Country": "Argentina",
         "Year": 2015,
         "Status": "Developing",
         "Life expectancy": 76.3,
         "Adult Mortality": 116,
         "infant deaths": 8,
         "Alcohol": "nan",
         "percentage expenditure": 0,
         "Hepatitis B": 94,
         "Measles": 0,
         "BMI": 62.8,
         "under-five deaths": 9,
         "Polio": 93,
         "Total expenditure": "nan",
         "Diphtheria": 94,
         "HIV/AIDS": 0.1,
         "GDP": 13467.1236,
         "Population": 43417765,
         "thinness  1-19 years": 1,
         "thinness 5-9 years": 0.9,
         "Income composition of resources": 0.826,
         "Schooling": 17.3,
         "_deepnote_index_column": 80
        },
        {
         "Country": "Armenia",
         "Year": 2015,
         "Status": "Developing",
         "Life expectancy": 74.8,
         "Adult Mortality": 118,
         "infant deaths": 1,
         "Alcohol": "nan",
         "percentage expenditure": 0,
         "Hepatitis B": 94,
         "Measles": 33,
         "BMI": 54.9,
         "under-five deaths": 1,
         "Polio": 96,
         "Total expenditure": "nan",
         "Diphtheria": 94,
         "HIV/AIDS": 0.1,
         "GDP": 369.654776,
         "Population": 291695,
         "thinness  1-19 years": 2.1,
         "thinness 5-9 years": 2.2,
         "Income composition of resources": 0.741,
         "Schooling": 12.7,
         "_deepnote_index_column": 96
        },
        {
         "Country": "Australia",
         "Year": 2015,
         "Status": "Developed",
         "Life expectancy": 82.8,
         "Adult Mortality": 59,
         "infant deaths": 1,
         "Alcohol": "nan",
         "percentage expenditure": 0,
         "Hepatitis B": 93,
         "Measles": 74,
         "BMI": 66.6,
         "under-five deaths": 1,
         "Polio": 93,
         "Total expenditure": "nan",
         "Diphtheria": 93,
         "HIV/AIDS": 0.1,
         "GDP": 56554.3876,
         "Population": 23789338,
         "thinness  1-19 years": 0.6,
         "thinness 5-9 years": 0.6,
         "Income composition of resources": 0.937,
         "Schooling": 20.4,
         "_deepnote_index_column": 112
        },
        {
         "Country": "Austria",
         "Year": 2015,
         "Status": "Developed",
         "Life expectancy": 81.5,
         "Adult Mortality": 65,
         "infant deaths": 0,
         "Alcohol": "nan",
         "percentage expenditure": 0,
         "Hepatitis B": 93,
         "Measles": 309,
         "BMI": 57.6,
         "under-five deaths": 0,
         "Polio": 93,
         "Total expenditure": "nan",
         "Diphtheria": 93,
         "HIV/AIDS": 0.1,
         "GDP": 43665.947,
         "Population": 8633169,
         "thinness  1-19 years": 1.9,
         "thinness 5-9 years": 2.1,
         "Income composition of resources": 0.892,
         "Schooling": 15.9,
         "_deepnote_index_column": 128
        },
        {
         "Country": "Azerbaijan",
         "Year": 2015,
         "Status": "Developing",
         "Life expectancy": 72.7,
         "Adult Mortality": 118,
         "infant deaths": 5,
         "Alcohol": "nan",
         "percentage expenditure": 0,
         "Hepatitis B": 96,
         "Measles": 0,
         "BMI": 52.5,
         "under-five deaths": 6,
         "Polio": 98,
         "Total expenditure": "nan",
         "Diphtheria": 96,
         "HIV/AIDS": 0.1,
         "GDP": 55.31382,
         "Population": 9649341,
         "thinness  1-19 years": 2.8,
         "thinness 5-9 years": 2.9,
         "Income composition of resources": 0.758,
         "Schooling": 12.7,
         "_deepnote_index_column": 144
        },
        {
         "Country": "Bahamas",
         "Year": 2015,
         "Status": "Developing",
         "Life expectancy": 76.1,
         "Adult Mortality": 147,
         "infant deaths": 0,
         "Alcohol": "nan",
         "percentage expenditure": 0,
         "Hepatitis B": 95,
         "Measles": 0,
         "BMI": 64.5,
         "under-five deaths": 0,
         "Polio": 95,
         "Total expenditure": "nan",
         "Diphtheria": 95,
         "HIV/AIDS": 0.1,
         "GDP": "nan",
         "Population": "nan",
         "thinness  1-19 years": 2.5,
         "thinness 5-9 years": 2.5,
         "Income composition of resources": 0.79,
         "Schooling": 12.6,
         "_deepnote_index_column": 160
        },
        {
         "Country": "Bahrain",
         "Year": 2015,
         "Status": "Developing",
         "Life expectancy": 76.9,
         "Adult Mortality": 69,
         "infant deaths": 0,
         "Alcohol": "nan",
         "percentage expenditure": 0,
         "Hepatitis B": 98,
         "Measles": 0,
         "BMI": 63.6,
         "under-five deaths": 0,
         "Polio": 98,
         "Total expenditure": "nan",
         "Diphtheria": 98,
         "HIV/AIDS": 0.1,
         "GDP": 22688.87824,
         "Population": "nan",
         "thinness  1-19 years": 6.2,
         "thinness 5-9 years": 6.1,
         "Income composition of resources": 0.823,
         "Schooling": 14.5,
         "_deepnote_index_column": 176
        }
       ]
      },
      "text/plain": "                                 Country  Year      Status  Life expectancy  \\\n32                               Algeria  2015  Developing             75.6   \n48                                Angola  2015  Developing             52.4   \n64                   Antigua and Barbuda  2015  Developing             76.4   \n80                             Argentina  2015  Developing             76.3   \n96                               Armenia  2015  Developing             74.8   \n...                                  ...   ...         ...              ...   \n2858  Venezuela (Bolivarian Republic of)  2015  Developing             74.1   \n2874                            Viet Nam  2015  Developing             76.0   \n2890                               Yemen  2015  Developing             65.7   \n2906                              Zambia  2015  Developing             61.8   \n2922                            Zimbabwe  2015  Developing             67.0   \n\n      Adult Mortality  infant deaths  Alcohol  percentage expenditure  \\\n32               19.0             21      NaN                     0.0   \n48              335.0             66      NaN                     0.0   \n64               13.0              0      NaN                     0.0   \n80              116.0              8      NaN                     0.0   \n96              118.0              1      NaN                     0.0   \n...               ...            ...      ...                     ...   \n2858            157.0              9      NaN                     0.0   \n2874            127.0             28      NaN                     0.0   \n2890            224.0             37      NaN                     0.0   \n2906             33.0             27      NaN                     0.0   \n2922            336.0             22      NaN                     0.0   \n\n      Hepatitis B  Measles  ...  Polio  Total expenditure  Diphtheria  \\\n32           95.0       63  ...   95.0                NaN        95.0   \n48           64.0      118  ...    7.0                NaN        64.0   \n64           99.0        0  ...   86.0                NaN        99.0   \n80           94.0        0  ...   93.0                NaN        94.0   \n96           94.0       33  ...   96.0                NaN        94.0   \n...           ...      ...  ...    ...                ...         ...   \n2858         87.0        0  ...   87.0                NaN        87.0   \n2874         97.0      256  ...   97.0                NaN        97.0   \n2890         69.0      468  ...   63.0                NaN        69.0   \n2906          9.0        9  ...    9.0                NaN         9.0   \n2922         87.0        0  ...   88.0                NaN        87.0   \n\n      HIV/AIDS           GDP  Population  thinness  1-19 years  \\\n32         0.1   4132.762920  39871528.0                   6.0   \n48         1.9   3695.793748   2785935.0                   8.3   \n64         0.2  13566.954100         NaN                   3.3   \n80         0.1  13467.123600  43417765.0                   1.0   \n96         0.1    369.654776    291695.0                   2.1   \n...        ...           ...         ...                   ...   \n2858       0.1           NaN         NaN                   1.6   \n2874       0.1           NaN         NaN                  14.2   \n2890       0.1           NaN         NaN                  13.6   \n2906       4.1   1313.889646    161587.0                   6.3   \n2922       6.2    118.693830  15777451.0                   5.6   \n\n      thinness 5-9 years  Income composition of resources  Schooling  \n32                   5.8                            0.743       14.4  \n48                   8.2                            0.531       11.4  \n64                   3.3                            0.784       13.9  \n80                   0.9                            0.826       17.3  \n96                   2.2                            0.741       12.7  \n...                  ...                              ...        ...  \n2858                 1.5                            0.769       14.3  \n2874                14.5                            0.678       12.6  \n2890                13.4                            0.499        9.0  \n2906                 6.1                            0.576       12.5  \n2922                 5.5                            0.507       10.3  \n\n[193 rows x 22 columns]",
      "text/html": "<div>\n<style scoped>\n    .dataframe tbody tr th:only-of-type {\n        vertical-align: middle;\n    }\n\n    .dataframe tbody tr th {\n        vertical-align: top;\n    }\n\n    .dataframe thead th {\n        text-align: right;\n    }\n</style>\n<table border=\"1\" class=\"dataframe\">\n  <thead>\n    <tr style=\"text-align: right;\">\n      <th></th>\n      <th>Country</th>\n      <th>Year</th>\n      <th>Status</th>\n      <th>Life expectancy</th>\n      <th>Adult Mortality</th>\n      <th>infant deaths</th>\n      <th>Alcohol</th>\n      <th>percentage expenditure</th>\n      <th>Hepatitis B</th>\n      <th>Measles</th>\n      <th>...</th>\n      <th>Polio</th>\n      <th>Total expenditure</th>\n      <th>Diphtheria</th>\n      <th>HIV/AIDS</th>\n      <th>GDP</th>\n      <th>Population</th>\n      <th>thinness  1-19 years</th>\n      <th>thinness 5-9 years</th>\n      <th>Income composition of resources</th>\n      <th>Schooling</th>\n    </tr>\n  </thead>\n  <tbody>\n    <tr>\n      <th>32</th>\n      <td>Algeria</td>\n      <td>2015</td>\n      <td>Developing</td>\n      <td>75.6</td>\n      <td>19.0</td>\n      <td>21</td>\n      <td>NaN</td>\n      <td>0.0</td>\n      <td>95.0</td>\n      <td>63</td>\n      <td>...</td>\n      <td>95.0</td>\n      <td>NaN</td>\n      <td>95.0</td>\n      <td>0.1</td>\n      <td>4132.762920</td>\n      <td>39871528.0</td>\n      <td>6.0</td>\n      <td>5.8</td>\n      <td>0.743</td>\n      <td>14.4</td>\n    </tr>\n    <tr>\n      <th>48</th>\n      <td>Angola</td>\n      <td>2015</td>\n      <td>Developing</td>\n      <td>52.4</td>\n      <td>335.0</td>\n      <td>66</td>\n      <td>NaN</td>\n      <td>0.0</td>\n      <td>64.0</td>\n      <td>118</td>\n      <td>...</td>\n      <td>7.0</td>\n      <td>NaN</td>\n      <td>64.0</td>\n      <td>1.9</td>\n      <td>3695.793748</td>\n      <td>2785935.0</td>\n      <td>8.3</td>\n      <td>8.2</td>\n      <td>0.531</td>\n      <td>11.4</td>\n    </tr>\n    <tr>\n      <th>64</th>\n      <td>Antigua and Barbuda</td>\n      <td>2015</td>\n      <td>Developing</td>\n      <td>76.4</td>\n      <td>13.0</td>\n      <td>0</td>\n      <td>NaN</td>\n      <td>0.0</td>\n      <td>99.0</td>\n      <td>0</td>\n      <td>...</td>\n      <td>86.0</td>\n      <td>NaN</td>\n      <td>99.0</td>\n      <td>0.2</td>\n      <td>13566.954100</td>\n      <td>NaN</td>\n      <td>3.3</td>\n      <td>3.3</td>\n      <td>0.784</td>\n      <td>13.9</td>\n    </tr>\n    <tr>\n      <th>80</th>\n      <td>Argentina</td>\n      <td>2015</td>\n      <td>Developing</td>\n      <td>76.3</td>\n      <td>116.0</td>\n      <td>8</td>\n      <td>NaN</td>\n      <td>0.0</td>\n      <td>94.0</td>\n      <td>0</td>\n      <td>...</td>\n      <td>93.0</td>\n      <td>NaN</td>\n      <td>94.0</td>\n      <td>0.1</td>\n      <td>13467.123600</td>\n      <td>43417765.0</td>\n      <td>1.0</td>\n      <td>0.9</td>\n      <td>0.826</td>\n      <td>17.3</td>\n    </tr>\n    <tr>\n      <th>96</th>\n      <td>Armenia</td>\n      <td>2015</td>\n      <td>Developing</td>\n      <td>74.8</td>\n      <td>118.0</td>\n      <td>1</td>\n      <td>NaN</td>\n      <td>0.0</td>\n      <td>94.0</td>\n      <td>33</td>\n      <td>...</td>\n      <td>96.0</td>\n      <td>NaN</td>\n      <td>94.0</td>\n      <td>0.1</td>\n      <td>369.654776</td>\n      <td>291695.0</td>\n      <td>2.1</td>\n      <td>2.2</td>\n      <td>0.741</td>\n      <td>12.7</td>\n    </tr>\n    <tr>\n      <th>...</th>\n      <td>...</td>\n      <td>...</td>\n      <td>...</td>\n      <td>...</td>\n      <td>...</td>\n      <td>...</td>\n      <td>...</td>\n      <td>...</td>\n      <td>...</td>\n      <td>...</td>\n      <td>...</td>\n      <td>...</td>\n      <td>...</td>\n      <td>...</td>\n      <td>...</td>\n      <td>...</td>\n      <td>...</td>\n      <td>...</td>\n      <td>...</td>\n      <td>...</td>\n      <td>...</td>\n    </tr>\n    <tr>\n      <th>2858</th>\n      <td>Venezuela (Bolivarian Republic of)</td>\n      <td>2015</td>\n      <td>Developing</td>\n      <td>74.1</td>\n      <td>157.0</td>\n      <td>9</td>\n      <td>NaN</td>\n      <td>0.0</td>\n      <td>87.0</td>\n      <td>0</td>\n      <td>...</td>\n      <td>87.0</td>\n      <td>NaN</td>\n      <td>87.0</td>\n      <td>0.1</td>\n      <td>NaN</td>\n      <td>NaN</td>\n      <td>1.6</td>\n      <td>1.5</td>\n      <td>0.769</td>\n      <td>14.3</td>\n    </tr>\n    <tr>\n      <th>2874</th>\n      <td>Viet Nam</td>\n      <td>2015</td>\n      <td>Developing</td>\n      <td>76.0</td>\n      <td>127.0</td>\n      <td>28</td>\n      <td>NaN</td>\n      <td>0.0</td>\n      <td>97.0</td>\n      <td>256</td>\n      <td>...</td>\n      <td>97.0</td>\n      <td>NaN</td>\n      <td>97.0</td>\n      <td>0.1</td>\n      <td>NaN</td>\n      <td>NaN</td>\n      <td>14.2</td>\n      <td>14.5</td>\n      <td>0.678</td>\n      <td>12.6</td>\n    </tr>\n    <tr>\n      <th>2890</th>\n      <td>Yemen</td>\n      <td>2015</td>\n      <td>Developing</td>\n      <td>65.7</td>\n      <td>224.0</td>\n      <td>37</td>\n      <td>NaN</td>\n      <td>0.0</td>\n      <td>69.0</td>\n      <td>468</td>\n      <td>...</td>\n      <td>63.0</td>\n      <td>NaN</td>\n      <td>69.0</td>\n      <td>0.1</td>\n      <td>NaN</td>\n      <td>NaN</td>\n      <td>13.6</td>\n      <td>13.4</td>\n      <td>0.499</td>\n      <td>9.0</td>\n    </tr>\n    <tr>\n      <th>2906</th>\n      <td>Zambia</td>\n      <td>2015</td>\n      <td>Developing</td>\n      <td>61.8</td>\n      <td>33.0</td>\n      <td>27</td>\n      <td>NaN</td>\n      <td>0.0</td>\n      <td>9.0</td>\n      <td>9</td>\n      <td>...</td>\n      <td>9.0</td>\n      <td>NaN</td>\n      <td>9.0</td>\n      <td>4.1</td>\n      <td>1313.889646</td>\n      <td>161587.0</td>\n      <td>6.3</td>\n      <td>6.1</td>\n      <td>0.576</td>\n      <td>12.5</td>\n    </tr>\n    <tr>\n      <th>2922</th>\n      <td>Zimbabwe</td>\n      <td>2015</td>\n      <td>Developing</td>\n      <td>67.0</td>\n      <td>336.0</td>\n      <td>22</td>\n      <td>NaN</td>\n      <td>0.0</td>\n      <td>87.0</td>\n      <td>0</td>\n      <td>...</td>\n      <td>88.0</td>\n      <td>NaN</td>\n      <td>87.0</td>\n      <td>6.2</td>\n      <td>118.693830</td>\n      <td>15777451.0</td>\n      <td>5.6</td>\n      <td>5.5</td>\n      <td>0.507</td>\n      <td>10.3</td>\n    </tr>\n  </tbody>\n</table>\n<p>193 rows × 22 columns</p>\n</div>"
     },
     "metadata": {}
    }
   ],
   "execution_count": null
  },
  {
   "cell_type": "code",
   "metadata": {
    "tags": [],
    "cell_id": "00021-99d26223-a5e7-4c66-a83d-5dc5c575d81d",
    "deepnote_to_be_reexecuted": false,
    "source_hash": "ddd6ceb2",
    "execution_start": 1640535844711,
    "execution_millis": 21,
    "deepnote_output_heights": [
     59.5625
    ],
    "deepnote_cell_type": "code"
   },
   "source": "grouped_alc = df.groupby(['Country'])['Alcohol'].mean()\ngrouped_alc[grouped_alc.isnull()]",
   "outputs": [
    {
     "output_type": "execute_result",
     "execution_count": 12,
     "data": {
      "text/plain": "Country\nSouth Sudan   NaN\nName: Alcohol, dtype: float64"
     },
     "metadata": {}
    }
   ],
   "execution_count": null
  },
  {
   "cell_type": "code",
   "metadata": {
    "tags": [],
    "cell_id": "00022-5d722449-2bd0-459d-8c97-fa6f82994b98",
    "deepnote_to_be_reexecuted": false,
    "source_hash": "8d5a594d",
    "execution_start": 1640535844741,
    "execution_millis": 9,
    "deepnote_output_heights": [
     21.1875
    ],
    "deepnote_cell_type": "code"
   },
   "source": "SS = df[df['Country'] == 'South Sudan']['Year']\nprint(SS.min())\nprint(SS.max())",
   "outputs": [
    {
     "name": "stdout",
     "text": "2000\n2015\n",
     "output_type": "stream",
     "data": {}
    }
   ],
   "execution_count": null
  },
  {
   "cell_type": "markdown",
   "source": "* Pouze o 'South Sudan' nemáme žádný záznam o tom, kolik alkoholu se tam konzumuje.\n* Vzhledem k tomu, že data o této zemi máme od roku 2000 až po rok 2015, a alkohol v ní byl od roku 1983 do roku 2020 zakázan, položíme pro záznamy s touto zemí 'Alcohol' rovný nule.",
   "metadata": {
    "tags": [],
    "cell_id": "00022-e8078dfb-b444-489d-b442-242f2fa7372a",
    "deepnote_cell_type": "markdown"
   }
  },
  {
   "cell_type": "code",
   "metadata": {
    "tags": [],
    "cell_id": "00022-7b9763c2-fe15-42a9-95ed-ca28dc841357",
    "deepnote_to_be_reexecuted": false,
    "source_hash": "3742a331",
    "execution_start": 1640535844797,
    "execution_millis": 2,
    "deepnote_output_heights": [
     611
    ],
    "deepnote_cell_type": "code"
   },
   "source": "alc_dict = grouped_alc.to_dict()\nalc_dict['South Sudan'] = 0.0\n\nprint(alc_dict['South Sudan'])",
   "outputs": [
    {
     "name": "stdout",
     "text": "0.0\n",
     "output_type": "stream",
     "data": {}
    }
   ],
   "execution_count": null
  },
  {
   "cell_type": "code",
   "metadata": {
    "tags": [],
    "cell_id": "00028-ba5e02d7-b6cb-4c9a-bcce-ce91175c8e8a",
    "deepnote_to_be_reexecuted": false,
    "source_hash": "1eea023d",
    "execution_start": 1640535844821,
    "execution_millis": 4,
    "deepnote_output_heights": [
     611
    ],
    "is_output_hidden": true,
    "deepnote_cell_type": "code"
   },
   "source": "alc_dict",
   "outputs": [
    {
     "output_type": "execute_result",
     "execution_count": 15,
     "data": {
      "text/plain": "{'Afghanistan': 0.014375000000000002,\n 'Albania': 4.84875,\n 'Algeria': 0.4066666666666668,\n 'Angola': 5.740666666666666,\n 'Antigua and Barbuda': 7.949333333333333,\n 'Argentina': 7.966666666666667,\n 'Armenia': 3.7026666666666666,\n 'Australia': 10.155333333333333,\n 'Austria': 12.235999999999999,\n 'Azerbaijan': 0.9919999999999999,\n 'Bahamas': 10.271333333333331,\n 'Bahrain': 1.9346666666666663,\n 'Bangladesh': 0.01,\n 'Barbados': 8.206666666666669,\n 'Belarus': 13.497333333333332,\n 'Belgium': 11.042666666666666,\n 'Belize': 6.252666666666668,\n 'Benin': 1.0,\n 'Bhutan': 0.2786666666666667,\n 'Bolivia (Plurinational State of)': 3.212,\n 'Bosnia and Herzegovina': 4.405333333333333,\n 'Botswana': 4.67,\n 'Brazil': 7.213333333333333,\n 'Brunei Darussalam': 0.3786666666666667,\n 'Bulgaria': 10.865333333333332,\n 'Burkina Faso': 4.241333333333333,\n 'Burundi': 4.103333333333334,\n 'Cabo Verde': 3.448,\n 'Cambodia': 1.4860000000000002,\n 'Cameroon': 4.141333333333334,\n 'Canada': 8.053333333333333,\n 'Central African Republic': 1.2313333333333334,\n 'Chad': 0.41133333333333333,\n 'Chile': 6.978,\n 'China': 4.182000000000001,\n 'Colombia': 4.419333333333333,\n 'Comoros': 0.13466666666666666,\n 'Congo': 2.1733333333333333,\n 'Costa Rica': 3.924666666666667,\n 'Croatia': 12.448000000000002,\n 'Cuba': 4.190666666666667,\n 'Cyprus': 10.260666666666667,\n 'Czechia': 13.026000000000002,\n \"Côte d'Ivoire\": 2.8373333333333335,\n \"Democratic People's Republic of Korea\": 3.0000000000000004,\n 'Democratic Republic of the Congo': 1.424,\n 'Denmark': 10.707999999999998,\n 'Djibouti': 0.7639999999999999,\n 'Dominican Republic': 6.030666666666666,\n 'Ecuador': 3.8073333333333332,\n 'Egypt': 0.18866666666666668,\n 'El Salvador': 2.6926666666666668,\n 'Equatorial Guinea': 7.341999999999999,\n 'Eritrea': 0.608,\n 'Estonia': 9.014666666666665,\n 'Ethiopia': 1.0746666666666667,\n 'Fiji': 1.462666666666667,\n 'Finland': 9.552666666666669,\n 'France': 12.40466666666667,\n 'Gabon': 7.8773333333333335,\n 'Gambia': 2.1346666666666665,\n 'Georgia': 5.623333333333334,\n 'Germany': 11.628666666666668,\n 'Ghana': 1.2686666666666666,\n 'Greece': 8.803333333333333,\n 'Grenada': 8.843333333333334,\n 'Guatemala': 2.268666666666667,\n 'Guinea': 0.16466666666666666,\n 'Guinea-Bissau': 2.2600000000000002,\n 'Guyana': 7.406000000000001,\n 'Haiti': 5.486,\n 'Honduras': 3.0420000000000003,\n 'Hungary': 11.427333333333333,\n 'Iceland': 7.466,\n 'India': 1.942,\n 'Indonesia': 0.0686666666666667,\n 'Iran (Islamic Republic of)': 0.016,\n 'Iraq': 0.13466666666666666,\n 'Ireland': 12.654,\n 'Israel': 2.497333333333334,\n 'Italy': 8.266666666666667,\n 'Jamaica': 3.6239999999999997,\n 'Japan': 7.040666666666667,\n 'Jordan': 0.5173333333333333,\n 'Kazakhstan': 6.641333333333333,\n 'Kenya': 1.6019999999999999,\n 'Kiribati': 0.4406666666666667,\n 'Kuwait': 0.021333333333333336,\n 'Kyrgyzstan': 2.267333333333333,\n \"Lao People's Democratic Republic\": 3.505333333333334,\n 'Latvia': 8.864,\n 'Lebanon': 1.7853333333333339,\n 'Lesotho': 2.0866666666666664,\n 'Liberia': 3.2580000000000005,\n 'Libya': 0.01,\n 'Lithuania': 12.632666666666667,\n 'Luxembourg': 11.921999999999999,\n 'Madagascar': 0.8200000000000001,\n 'Malawi': 0.9193333333333331,\n 'Malaysia': 0.49066666666666675,\n 'Maldives': 1.4073333333333333,\n 'Mali': 0.438,\n 'Malta': 7.130000000000001,\n 'Mauritania': 0.013333333333333334,\n 'Mauritius': 2.906666666666667,\n 'Mexico': 5.114,\n 'Micronesia (Federated States of)': 2.1453333333333333,\n 'Mongolia': 2.3539999999999996,\n 'Montenegro': 2.584285714285713,\n 'Morocco': 0.5186666666666667,\n 'Mozambique': 1.2660000000000002,\n 'Myanmar': 0.35133333333333333,\n 'Namibia': 4.710666666666667,\n 'Nepal': 0.19,\n 'Netherlands': 8.846666666666666,\n 'New Zealand': 9.16625,\n 'Nicaragua': 3.5966666666666667,\n 'Niger': 0.09133333333333335,\n 'Nigeria': 8.646666666666667,\n 'Norway': 6.234375000000001,\n 'Oman': 0.5346666666666667,\n 'Pakistan': 0.026000000000000006,\n 'Panama': 6.212,\n 'Papua New Guinea': 0.5806666666666666,\n 'Paraguay': 5.527333333333334,\n 'Peru': 4.278666666666666,\n 'Philippines': 4.510666666666666,\n 'Poland': 9.99866666666667,\n 'Portugal': 12.211333333333334,\n 'Qatar': 1.0813333333333333,\n 'Republic of Korea': 8.855333333333334,\n 'Republic of Moldova': 9.545333333333334,\n 'Romania': 8.968666666666667,\n 'Russian Federation': 11.127999999999998,\n 'Rwanda': 5.635999999999999,\n 'Saint Lucia': 11.511333333333335,\n 'Saint Vincent and the Grenadines': 6.11,\n 'Samoa': 2.7039999999999997,\n 'Sao Tome and Principe': 4.191333333333334,\n 'Saudi Arabia': 0.07466666666666667,\n 'Senegal': 0.30933333333333335,\n 'Serbia': 8.682666666666668,\n 'Seychelles': 6.201333333333333,\n 'Sierra Leone': 3.154666666666667,\n 'Singapore': 1.7625000000000002,\n 'Slovakia': 10.473333333333333,\n 'Slovenia': 10.754666666666669,\n 'Solomon Islands': 0.8006666666666665,\n 'Somalia': 0.01,\n 'South Africa': 7.588666666666666,\n 'South Sudan': 0.0,\n 'Spain': 10.024000000000001,\n 'Sri Lanka': 2.096,\n 'Sudan': 1.458,\n 'Suriname': 4.984,\n 'Swaziland': 4.463333333333334,\n 'Sweden': 6.926666666666666,\n 'Switzerland': 10.337999999999997,\n 'Syrian Arab Republic': 0.8046666666666666,\n 'Tajikistan': 0.33066666666666666,\n 'Thailand': 6.131333333333332,\n 'The former Yugoslav republic of Macedonia': 1.8586666666666667,\n 'Timor-Leste': 0.2353333333333333,\n 'Togo': 0.9473333333333332,\n 'Tonga': 1.1673333333333331,\n 'Trinidad and Tobago': 6.044666666666666,\n 'Tunisia': 1.3106666666666666,\n 'Turkey': 1.4213333333333331,\n 'Turkmenistan': 2.6546666666666665,\n 'Uganda': 8.050666666666666,\n 'Ukraine': 7.3693333333333335,\n 'United Arab Emirates': 1.75,\n 'United Kingdom of Great Britain and Northern Ireland': 11.13125,\n 'United Republic of Tanzania': 3.5826666666666664,\n 'United States of America': 8.579333333333333,\n 'Uruguay': 6.172666666666667,\n 'Uzbekistan': 1.608666666666667,\n 'Vanuatu': 0.8066666666666665,\n 'Venezuela (Bolivarian Republic of)': 7.419999999999999,\n 'Viet Nam': 3.087333333333334,\n 'Yemen': 0.04733333333333333,\n 'Zambia': 2.2393333333333336,\n 'Zimbabwe': 4.482000000000001}"
     },
     "metadata": {}
    }
   ],
   "execution_count": null
  },
  {
   "cell_type": "code",
   "metadata": {
    "tags": [],
    "cell_id": "00027-4d77b21b-9956-403b-8c16-2323cbdca4b1",
    "deepnote_to_be_reexecuted": false,
    "source_hash": "7430960a",
    "execution_start": 1640535844836,
    "execution_millis": 6,
    "deepnote_cell_type": "code"
   },
   "source": "df.loc[df['Alcohol'].isnull(), 'Alcohol'] = df.loc[df['Alcohol'].isnull()]['Country'].apply(lambda x: alc_dict[x])",
   "outputs": [],
   "execution_count": null
  },
  {
   "cell_type": "markdown",
   "source": "* Tedy záznamy, u kterých chyběla informace o konzumaci alkoholu, jsem nahradil zaznamenaným průměrem alkoholické konzumace v této zemi.",
   "metadata": {
    "tags": [],
    "cell_id": "00027-30712c93-5f75-48f9-a74a-48bd11818ea1",
    "deepnote_cell_type": "markdown"
   }
  },
  {
   "cell_type": "code",
   "metadata": {
    "tags": [],
    "cell_id": "00028-fba47f27-7f6a-4291-b067-44d8052bbf12",
    "deepnote_to_be_reexecuted": false,
    "source_hash": "766ff10e",
    "execution_start": 1640535844856,
    "execution_millis": 18,
    "deepnote_cell_type": "code"
   },
   "source": "# funkce vrátí slovník, který \n# vznikne sloučením záznamů dle zemí \n# a nalezení průměru příznaku col_name \n# klíc    -> název země\n# hodnota -> průměr col_name pro tuto zem\n\ndef make_dict_by_country(col_name, df):\n    grouped = df.groupby(['Country'])[col_name].mean()\n    grouped[grouped.isnull()]\n    return grouped.to_dict()",
   "outputs": [],
   "execution_count": null
  },
  {
   "cell_type": "code",
   "metadata": {
    "tags": [],
    "cell_id": "00028-d4db9bb8-f4cf-49e8-a44e-2807b94340b5",
    "deepnote_to_be_reexecuted": false,
    "source_hash": "f804c160",
    "execution_start": 1640535844888,
    "execution_millis": 418,
    "deepnote_output_heights": [
     136.390625
    ],
    "deepnote_cell_type": "code"
   },
   "source": "df",
   "outputs": [
    {
     "output_type": "execute_result",
     "execution_count": 18,
     "data": {
      "application/vnd.deepnote.dataframe.v3+json": {
       "column_count": 22,
       "row_count": 2928,
       "columns": [
        {
         "name": "Country",
         "dtype": "object",
         "stats": {
          "unique_count": 183,
          "nan_count": 0,
          "categories": [
           {
            "name": "Afghanistan",
            "count": 16
           },
           {
            "name": "Albania",
            "count": 16
           },
           {
            "name": "181 others",
            "count": 2896
           }
          ]
         }
        },
        {
         "name": "Year",
         "dtype": "int64",
         "stats": {
          "unique_count": 16,
          "nan_count": 0,
          "min": "2000",
          "max": "2015",
          "histogram": [
           {
            "bin_start": 2000,
            "bin_end": 2001.5,
            "count": 366
           },
           {
            "bin_start": 2001.5,
            "bin_end": 2003,
            "count": 183
           },
           {
            "bin_start": 2003,
            "bin_end": 2004.5,
            "count": 366
           },
           {
            "bin_start": 2004.5,
            "bin_end": 2006,
            "count": 183
           },
           {
            "bin_start": 2006,
            "bin_end": 2007.5,
            "count": 366
           },
           {
            "bin_start": 2007.5,
            "bin_end": 2009,
            "count": 183
           },
           {
            "bin_start": 2009,
            "bin_end": 2010.5,
            "count": 366
           },
           {
            "bin_start": 2010.5,
            "bin_end": 2012,
            "count": 183
           },
           {
            "bin_start": 2012,
            "bin_end": 2013.5,
            "count": 366
           },
           {
            "bin_start": 2013.5,
            "bin_end": 2015,
            "count": 366
           }
          ]
         }
        },
        {
         "name": "Status",
         "dtype": "object",
         "stats": {
          "unique_count": 2,
          "nan_count": 0,
          "categories": [
           {
            "name": "Developing",
            "count": 2416
           },
           {
            "name": "Developed",
            "count": 512
           }
          ]
         }
        },
        {
         "name": "Life expectancy",
         "dtype": "float64",
         "stats": {
          "unique_count": 362,
          "nan_count": 0,
          "min": "36.3",
          "max": "89.0",
          "histogram": [
           {
            "bin_start": 36.3,
            "bin_end": 41.57,
            "count": 4
           },
           {
            "bin_start": 41.57,
            "bin_end": 46.839999999999996,
            "count": 50
           },
           {
            "bin_start": 46.839999999999996,
            "bin_end": 52.11,
            "count": 134
           },
           {
            "bin_start": 52.11,
            "bin_end": 57.379999999999995,
            "count": 229
           },
           {
            "bin_start": 57.379999999999995,
            "bin_end": 62.65,
            "count": 277
           },
           {
            "bin_start": 62.65,
            "bin_end": 67.92,
            "count": 405
           },
           {
            "bin_start": 67.92,
            "bin_end": 73.19,
            "count": 580
           },
           {
            "bin_start": 73.19,
            "bin_end": 78.46000000000001,
            "count": 819
           },
           {
            "bin_start": 78.46000000000001,
            "bin_end": 83.73,
            "count": 362
           },
           {
            "bin_start": 83.73,
            "bin_end": 89,
            "count": 68
           }
          ]
         }
        },
        {
         "name": "Adult Mortality",
         "dtype": "float64",
         "stats": {
          "unique_count": 425,
          "nan_count": 0,
          "min": "1.0",
          "max": "723.0",
          "histogram": [
           {
            "bin_start": 1,
            "bin_end": 73.2,
            "count": 729
           },
           {
            "bin_start": 73.2,
            "bin_end": 145.4,
            "count": 765
           },
           {
            "bin_start": 145.4,
            "bin_end": 217.60000000000002,
            "count": 610
           },
           {
            "bin_start": 217.60000000000002,
            "bin_end": 289.8,
            "count": 423
           },
           {
            "bin_start": 289.8,
            "bin_end": 362,
            "count": 176
           },
           {
            "bin_start": 362,
            "bin_end": 434.20000000000005,
            "count": 117
           },
           {
            "bin_start": 434.20000000000005,
            "bin_end": 506.40000000000003,
            "count": 54
           },
           {
            "bin_start": 506.40000000000003,
            "bin_end": 578.6,
            "count": 24
           },
           {
            "bin_start": 578.6,
            "bin_end": 650.8000000000001,
            "count": 17
           },
           {
            "bin_start": 650.8000000000001,
            "bin_end": 723,
            "count": 13
           }
          ]
         }
        },
        {
         "name": "infant deaths",
         "dtype": "int64",
         "stats": {
          "unique_count": 209,
          "nan_count": 0,
          "min": "0",
          "max": "1800",
          "histogram": [
           {
            "bin_start": 0,
            "bin_end": 180,
            "count": 2835
           },
           {
            "bin_start": 180,
            "bin_end": 360,
            "count": 42
           },
           {
            "bin_start": 360,
            "bin_end": 540,
            "count": 27
           },
           {
            "bin_start": 540,
            "bin_end": 720,
            "count": 8
           },
           {
            "bin_start": 720,
            "bin_end": 900,
            "count": 0
           },
           {
            "bin_start": 900,
            "bin_end": 1080,
            "count": 3
           },
           {
            "bin_start": 1080,
            "bin_end": 1260,
            "count": 3
           },
           {
            "bin_start": 1260,
            "bin_end": 1440,
            "count": 3
           },
           {
            "bin_start": 1440,
            "bin_end": 1620,
            "count": 3
           },
           {
            "bin_start": 1620,
            "bin_end": 1800,
            "count": 4
           }
          ]
         }
        },
        {
         "name": "Alcohol",
         "dtype": "float64",
         "stats": {
          "unique_count": 1246,
          "nan_count": 0,
          "min": "0.0",
          "max": "17.87",
          "histogram": [
           {
            "bin_start": 0,
            "bin_end": 1.7870000000000001,
            "count": 1031
           },
           {
            "bin_start": 1.7870000000000001,
            "bin_end": 3.5740000000000003,
            "count": 404
           },
           {
            "bin_start": 3.5740000000000003,
            "bin_end": 5.361000000000001,
            "count": 353
           },
           {
            "bin_start": 5.361000000000001,
            "bin_end": 7.148000000000001,
            "count": 307
           },
           {
            "bin_start": 7.148000000000001,
            "bin_end": 8.935,
            "count": 284
           },
           {
            "bin_start": 8.935,
            "bin_end": 10.722000000000001,
            "count": 254
           },
           {
            "bin_start": 10.722000000000001,
            "bin_end": 12.509,
            "count": 210
           },
           {
            "bin_start": 12.509,
            "bin_end": 14.296000000000001,
            "count": 70
           },
           {
            "bin_start": 14.296000000000001,
            "bin_end": 16.083000000000002,
            "count": 10
           },
           {
            "bin_start": 16.083000000000002,
            "bin_end": 17.87,
            "count": 5
           }
          ]
         }
        },
        {
         "name": "percentage expenditure",
         "dtype": "float64",
         "stats": {
          "unique_count": 2323,
          "nan_count": 0,
          "min": "0.0",
          "max": "19479.91161",
          "histogram": [
           {
            "bin_start": 0,
            "bin_end": 1947.991161,
            "count": 2647
           },
           {
            "bin_start": 1947.991161,
            "bin_end": 3895.982322,
            "count": 118
           },
           {
            "bin_start": 3895.982322,
            "bin_end": 5843.973483,
            "count": 54
           },
           {
            "bin_start": 5843.973483,
            "bin_end": 7791.964644,
            "count": 46
           },
           {
            "bin_start": 7791.964644,
            "bin_end": 9739.955805,
            "count": 27
           },
           {
            "bin_start": 9739.955805,
            "bin_end": 11687.946966,
            "count": 17
           },
           {
            "bin_start": 11687.946966,
            "bin_end": 13635.938127,
            "count": 7
           },
           {
            "bin_start": 13635.938127,
            "bin_end": 15583.929288,
            "count": 5
           },
           {
            "bin_start": 15583.929288,
            "bin_end": 17531.920448999997,
            "count": 2
           },
           {
            "bin_start": 17531.920448999997,
            "bin_end": 19479.91161,
            "count": 5
           }
          ]
         }
        },
        {
         "name": "Hepatitis B",
         "dtype": "float64",
         "stats": {
          "unique_count": 87,
          "nan_count": 553,
          "min": "1.0",
          "max": "99.0",
          "histogram": [
           {
            "bin_start": 1,
            "bin_end": 10.8,
            "count": 157
           },
           {
            "bin_start": 10.8,
            "bin_end": 20.6,
            "count": 16
           },
           {
            "bin_start": 20.6,
            "bin_end": 30.400000000000002,
            "count": 22
           },
           {
            "bin_start": 30.400000000000002,
            "bin_end": 40.2,
            "count": 21
           },
           {
            "bin_start": 40.2,
            "bin_end": 50,
            "count": 56
           },
           {
            "bin_start": 50,
            "bin_end": 59.800000000000004,
            "count": 48
           },
           {
            "bin_start": 59.800000000000004,
            "bin_end": 69.60000000000001,
            "count": 141
           },
           {
            "bin_start": 69.60000000000001,
            "bin_end": 79.4,
            "count": 202
           },
           {
            "bin_start": 79.4,
            "bin_end": 89.2,
            "count": 402
           },
           {
            "bin_start": 89.2,
            "bin_end": 99,
            "count": 1310
           }
          ]
         }
        },
        {
         "name": "Measles",
         "dtype": "int64",
         "stats": {
          "unique_count": 958,
          "nan_count": 0,
          "min": "0",
          "max": "212183",
          "histogram": [
           {
            "bin_start": 0,
            "bin_end": 21218.3,
            "count": 2848
           },
           {
            "bin_start": 21218.3,
            "bin_end": 42436.6,
            "count": 38
           },
           {
            "bin_start": 42436.6,
            "bin_end": 63654.899999999994,
            "count": 21
           },
           {
            "bin_start": 63654.899999999994,
            "bin_end": 84873.2,
            "count": 7
           },
           {
            "bin_start": 84873.2,
            "bin_end": 106091.5,
            "count": 4
           },
           {
            "bin_start": 106091.5,
            "bin_end": 127309.79999999999,
            "count": 4
           },
           {
            "bin_start": 127309.79999999999,
            "bin_end": 148528.1,
            "count": 3
           },
           {
            "bin_start": 148528.1,
            "bin_end": 169746.4,
            "count": 1
           },
           {
            "bin_start": 169746.4,
            "bin_end": 190964.69999999998,
            "count": 1
           },
           {
            "bin_start": 190964.69999999998,
            "bin_end": 212183,
            "count": 1
           }
          ]
         }
        },
        {
         "name": "BMI",
         "dtype": "float64",
         "stats": {
          "unique_count": 602,
          "nan_count": 32,
          "min": "1.0",
          "max": "77.6",
          "histogram": [
           {
            "bin_start": 1,
            "bin_end": 8.66,
            "count": 280
           },
           {
            "bin_start": 8.66,
            "bin_end": 16.32,
            "count": 210
           },
           {
            "bin_start": 16.32,
            "bin_end": 23.979999999999997,
            "count": 460
           },
           {
            "bin_start": 23.979999999999997,
            "bin_end": 31.639999999999997,
            "count": 246
           },
           {
            "bin_start": 31.639999999999997,
            "bin_end": 39.3,
            "count": 161
           },
           {
            "bin_start": 39.3,
            "bin_end": 46.959999999999994,
            "count": 249
           },
           {
            "bin_start": 46.959999999999994,
            "bin_end": 54.62,
            "count": 418
           },
           {
            "bin_start": 54.62,
            "bin_end": 62.279999999999994,
            "count": 614
           },
           {
            "bin_start": 62.279999999999994,
            "bin_end": 69.94,
            "count": 229
           },
           {
            "bin_start": 69.94,
            "bin_end": 77.6,
            "count": 29
           }
          ]
         }
        },
        {
         "name": "under-five deaths",
         "dtype": "int64",
         "stats": {
          "unique_count": 252,
          "nan_count": 0,
          "min": "0",
          "max": "2500",
          "histogram": [
           {
            "bin_start": 0,
            "bin_end": 250,
            "count": 2838
           },
           {
            "bin_start": 250,
            "bin_end": 500,
            "count": 55
           },
           {
            "bin_start": 500,
            "bin_end": 750,
            "count": 4
           },
           {
            "bin_start": 750,
            "bin_end": 1000,
            "count": 15
           },
           {
            "bin_start": 1000,
            "bin_end": 1250,
            "count": 2
           },
           {
            "bin_start": 1250,
            "bin_end": 1500,
            "count": 2
           },
           {
            "bin_start": 1500,
            "bin_end": 1750,
            "count": 3
           },
           {
            "bin_start": 1750,
            "bin_end": 2000,
            "count": 2
           },
           {
            "bin_start": 2000,
            "bin_end": 2250,
            "count": 4
           },
           {
            "bin_start": 2250,
            "bin_end": 2500,
            "count": 3
           }
          ]
         }
        },
        {
         "name": "Polio",
         "dtype": "float64",
         "stats": {
          "unique_count": 73,
          "nan_count": 19,
          "min": "3.0",
          "max": "99.0",
          "histogram": [
           {
            "bin_start": 3,
            "bin_end": 12.6,
            "count": 171
           },
           {
            "bin_start": 12.6,
            "bin_end": 22.2,
            "count": 1
           },
           {
            "bin_start": 22.2,
            "bin_end": 31.799999999999997,
            "count": 10
           },
           {
            "bin_start": 31.799999999999997,
            "bin_end": 41.4,
            "count": 26
           },
           {
            "bin_start": 41.4,
            "bin_end": 51,
            "count": 70
           },
           {
            "bin_start": 51,
            "bin_end": 60.599999999999994,
            "count": 85
           },
           {
            "bin_start": 60.599999999999994,
            "bin_end": 70.2,
            "count": 150
           },
           {
            "bin_start": 70.2,
            "bin_end": 79.8,
            "count": 270
           },
           {
            "bin_start": 79.8,
            "bin_end": 89.39999999999999,
            "count": 446
           },
           {
            "bin_start": 89.39999999999999,
            "bin_end": 99,
            "count": 1680
           }
          ]
         }
        },
        {
         "name": "Total expenditure",
         "dtype": "float64",
         "stats": {
          "unique_count": 816,
          "nan_count": 226,
          "min": "0.37",
          "max": "17.6",
          "histogram": [
           {
            "bin_start": 0.37,
            "bin_end": 2.093,
            "count": 150
           },
           {
            "bin_start": 2.093,
            "bin_end": 3.8160000000000003,
            "count": 383
           },
           {
            "bin_start": 3.8160000000000003,
            "bin_end": 5.539000000000001,
            "count": 706
           },
           {
            "bin_start": 5.539000000000001,
            "bin_end": 7.2620000000000005,
            "count": 719
           },
           {
            "bin_start": 7.2620000000000005,
            "bin_end": 8.985,
            "count": 460
           },
           {
            "bin_start": 8.985,
            "bin_end": 10.708,
            "count": 183
           },
           {
            "bin_start": 10.708,
            "bin_end": 12.431,
            "count": 71
           },
           {
            "bin_start": 12.431,
            "bin_end": 14.154,
            "count": 16
           },
           {
            "bin_start": 14.154,
            "bin_end": 15.877,
            "count": 7
           },
           {
            "bin_start": 15.877,
            "bin_end": 17.6,
            "count": 7
           }
          ]
         }
        },
        {
         "name": "Diphtheria",
         "dtype": "float64",
         "stats": {
          "unique_count": 81,
          "nan_count": 19,
          "min": "2.0",
          "max": "99.0",
          "histogram": [
           {
            "bin_start": 2,
            "bin_end": 11.7,
            "count": 169
           },
           {
            "bin_start": 11.7,
            "bin_end": 21.4,
            "count": 3
           },
           {
            "bin_start": 21.4,
            "bin_end": 31.099999999999998,
            "count": 22
           },
           {
            "bin_start": 31.099999999999998,
            "bin_end": 40.8,
            "count": 35
           },
           {
            "bin_start": 40.8,
            "bin_end": 50.5,
            "count": 68
           },
           {
            "bin_start": 50.5,
            "bin_end": 60.199999999999996,
            "count": 59
           },
           {
            "bin_start": 60.199999999999996,
            "bin_end": 69.89999999999999,
            "count": 149
           },
           {
            "bin_start": 69.89999999999999,
            "bin_end": 79.6,
            "count": 271
           },
           {
            "bin_start": 79.6,
            "bin_end": 89.3,
            "count": 469
           },
           {
            "bin_start": 89.3,
            "bin_end": 99,
            "count": 1664
           }
          ]
         }
        },
        {
         "name": "HIV/AIDS",
         "dtype": "float64",
         "stats": {
          "unique_count": 200,
          "nan_count": 0,
          "min": "0.1",
          "max": "50.6",
          "histogram": [
           {
            "bin_start": 0.1,
            "bin_end": 5.1499999999999995,
            "count": 2686
           },
           {
            "bin_start": 5.1499999999999995,
            "bin_end": 10.2,
            "count": 119
           },
           {
            "bin_start": 10.2,
            "bin_end": 15.249999999999998,
            "count": 44
           },
           {
            "bin_start": 15.249999999999998,
            "bin_end": 20.3,
            "count": 22
           },
           {
            "bin_start": 20.3,
            "bin_end": 25.35,
            "count": 19
           },
           {
            "bin_start": 25.35,
            "bin_end": 30.4,
            "count": 13
           },
           {
            "bin_start": 30.4,
            "bin_end": 35.45,
            "count": 10
           },
           {
            "bin_start": 35.45,
            "bin_end": 40.5,
            "count": 5
           },
           {
            "bin_start": 40.5,
            "bin_end": 45.55,
            "count": 4
           },
           {
            "bin_start": 45.55,
            "bin_end": 50.6,
            "count": 6
           }
          ]
         }
        },
        {
         "name": "GDP",
         "dtype": "float64",
         "stats": {
          "unique_count": 2485,
          "nan_count": 443,
          "min": "1.68135",
          "max": "119172.7418",
          "histogram": [
           {
            "bin_start": 1.68135,
            "bin_end": 11918.787395000001,
            "count": 2063
           },
           {
            "bin_start": 11918.787395000001,
            "bin_end": 23835.89344,
            "count": 175
           },
           {
            "bin_start": 23835.89344,
            "bin_end": 35752.999485,
            "count": 83
           },
           {
            "bin_start": 35752.999485,
            "bin_end": 47670.10553,
            "count": 80
           },
           {
            "bin_start": 47670.10553,
            "bin_end": 59587.211575,
            "count": 47
           },
           {
            "bin_start": 59587.211575,
            "bin_end": 71504.31762,
            "count": 18
           },
           {
            "bin_start": 71504.31762,
            "bin_end": 83421.42366500001,
            "count": 6
           },
           {
            "bin_start": 83421.42366500001,
            "bin_end": 95338.52971,
            "count": 9
           },
           {
            "bin_start": 95338.52971,
            "bin_end": 107255.635755,
            "count": 0
           },
           {
            "bin_start": 107255.635755,
            "bin_end": 119172.7418,
            "count": 4
           }
          ]
         }
        },
        {
         "name": "Population",
         "dtype": "float64",
         "stats": {
          "unique_count": 2277,
          "nan_count": 644,
          "min": "34.0",
          "max": "1293859294.0",
          "histogram": [
           {
            "bin_start": 34,
            "bin_end": 129385960,
            "count": 2242
           },
           {
            "bin_start": 129385960,
            "bin_end": 258771886,
            "count": 37
           },
           {
            "bin_start": 258771886,
            "bin_end": 388157812,
            "count": 0
           },
           {
            "bin_start": 388157812,
            "bin_end": 517543738,
            "count": 0
           },
           {
            "bin_start": 517543738,
            "bin_end": 646929664,
            "count": 0
           },
           {
            "bin_start": 646929664,
            "bin_end": 776315590,
            "count": 0
           },
           {
            "bin_start": 776315590,
            "bin_end": 905701516,
            "count": 0
           },
           {
            "bin_start": 905701516,
            "bin_end": 1035087442,
            "count": 0
           },
           {
            "bin_start": 1035087442,
            "bin_end": 1164473368,
            "count": 3
           },
           {
            "bin_start": 1164473368,
            "bin_end": 1293859294,
            "count": 2
           }
          ]
         }
        },
        {
         "name": "thinness  1-19 years",
         "dtype": "float64",
         "stats": {
          "unique_count": 200,
          "nan_count": 32,
          "min": "0.1",
          "max": "27.7",
          "histogram": [
           {
            "bin_start": 0.1,
            "bin_end": 2.86,
            "count": 1326
           },
           {
            "bin_start": 2.86,
            "bin_end": 5.619999999999999,
            "count": 515
           },
           {
            "bin_start": 5.619999999999999,
            "bin_end": 8.379999999999999,
            "count": 565
           },
           {
            "bin_start": 8.379999999999999,
            "bin_end": 11.139999999999999,
            "count": 238
           },
           {
            "bin_start": 11.139999999999999,
            "bin_end": 13.899999999999999,
            "count": 108
           },
           {
            "bin_start": 13.899999999999999,
            "bin_end": 16.66,
            "count": 71
           },
           {
            "bin_start": 16.66,
            "bin_end": 19.42,
            "count": 42
           },
           {
            "bin_start": 19.42,
            "bin_end": 22.18,
            "count": 14
           },
           {
            "bin_start": 22.18,
            "bin_end": 24.939999999999998,
            "count": 1
           },
           {
            "bin_start": 24.939999999999998,
            "bin_end": 27.7,
            "count": 16
           }
          ]
         }
        },
        {
         "name": "thinness 5-9 years",
         "dtype": "float64",
         "stats": {
          "unique_count": 207,
          "nan_count": 32,
          "min": "0.1",
          "max": "28.6",
          "histogram": [
           {
            "bin_start": 0.1,
            "bin_end": 2.95,
            "count": 1317
           },
           {
            "bin_start": 2.95,
            "bin_end": 5.8,
            "count": 542
           },
           {
            "bin_start": 5.8,
            "bin_end": 8.65,
            "count": 590
           },
           {
            "bin_start": 8.65,
            "bin_end": 11.5,
            "count": 215
           },
           {
            "bin_start": 11.5,
            "bin_end": 14.35,
            "count": 100
           },
           {
            "bin_start": 14.35,
            "bin_end": 17.200000000000003,
            "count": 58
           },
           {
            "bin_start": 17.200000000000003,
            "bin_end": 20.05,
            "count": 46
           },
           {
            "bin_start": 20.05,
            "bin_end": 22.900000000000002,
            "count": 12
           },
           {
            "bin_start": 22.900000000000002,
            "bin_end": 25.750000000000004,
            "count": 0
           },
           {
            "bin_start": 25.750000000000004,
            "bin_end": 28.6,
            "count": 16
           }
          ]
         }
        },
        {
         "name": "Income composition of resources",
         "dtype": "float64",
         "stats": {
          "unique_count": 625,
          "nan_count": 160,
          "min": "0.0",
          "max": "0.948",
          "histogram": [
           {
            "bin_start": 0,
            "bin_end": 0.0948,
            "count": 130
           },
           {
            "bin_start": 0.0948,
            "bin_end": 0.1896,
            "count": 0
           },
           {
            "bin_start": 0.1896,
            "bin_end": 0.2844,
            "count": 13
           },
           {
            "bin_start": 0.2844,
            "bin_end": 0.3792,
            "count": 118
           },
           {
            "bin_start": 0.3792,
            "bin_end": 0.474,
            "count": 338
           },
           {
            "bin_start": 0.474,
            "bin_end": 0.5688,
            "count": 302
           },
           {
            "bin_start": 0.5688,
            "bin_end": 0.6636,
            "count": 409
           },
           {
            "bin_start": 0.6636,
            "bin_end": 0.7584,
            "count": 654
           },
           {
            "bin_start": 0.7584,
            "bin_end": 0.8532,
            "count": 479
           },
           {
            "bin_start": 0.8532,
            "bin_end": 0.948,
            "count": 325
           }
          ]
         }
        },
        {
         "name": "Schooling",
         "dtype": "float64",
         "stats": {
          "unique_count": 173,
          "nan_count": 160,
          "min": "0.0",
          "max": "20.7",
          "histogram": [
           {
            "bin_start": 0,
            "bin_end": 2.07,
            "count": 26
           },
           {
            "bin_start": 2.07,
            "bin_end": 4.14,
            "count": 22
           },
           {
            "bin_start": 4.14,
            "bin_end": 6.209999999999999,
            "count": 109
           },
           {
            "bin_start": 6.209999999999999,
            "bin_end": 8.28,
            "count": 199
           },
           {
            "bin_start": 8.28,
            "bin_end": 10.35,
            "count": 402
           },
           {
            "bin_start": 10.35,
            "bin_end": 12.419999999999998,
            "count": 671
           },
           {
            "bin_start": 12.419999999999998,
            "bin_end": 14.489999999999998,
            "count": 702
           },
           {
            "bin_start": 14.489999999999998,
            "bin_end": 16.56,
            "count": 470
           },
           {
            "bin_start": 16.56,
            "bin_end": 18.63,
            "count": 131
           },
           {
            "bin_start": 18.63,
            "bin_end": 20.7,
            "count": 36
           }
          ]
         }
        },
        {
         "name": "_deepnote_index_column",
         "dtype": "int64"
        }
       ],
       "rows": [
        {
         "Country": "Afghanistan",
         "Year": 2015,
         "Status": "Developing",
         "Life expectancy": 65,
         "Adult Mortality": 263,
         "infant deaths": 62,
         "Alcohol": 0.01,
         "percentage expenditure": 71.27962362,
         "Hepatitis B": 65,
         "Measles": 1154,
         "BMI": 19.1,
         "under-five deaths": 83,
         "Polio": 6,
         "Total expenditure": 8.16,
         "Diphtheria": 65,
         "HIV/AIDS": 0.1,
         "GDP": 584.25921,
         "Population": 33736494,
         "thinness  1-19 years": 17.2,
         "thinness 5-9 years": 17.3,
         "Income composition of resources": 0.479,
         "Schooling": 10.1,
         "_deepnote_index_column": 0
        },
        {
         "Country": "Afghanistan",
         "Year": 2014,
         "Status": "Developing",
         "Life expectancy": 59.9,
         "Adult Mortality": 271,
         "infant deaths": 64,
         "Alcohol": 0.01,
         "percentage expenditure": 73.52358168,
         "Hepatitis B": 62,
         "Measles": 492,
         "BMI": 18.6,
         "under-five deaths": 86,
         "Polio": 58,
         "Total expenditure": 8.18,
         "Diphtheria": 62,
         "HIV/AIDS": 0.1,
         "GDP": 612.696514,
         "Population": 327582,
         "thinness  1-19 years": 17.5,
         "thinness 5-9 years": 17.5,
         "Income composition of resources": 0.476,
         "Schooling": 10,
         "_deepnote_index_column": 1
        },
        {
         "Country": "Afghanistan",
         "Year": 2013,
         "Status": "Developing",
         "Life expectancy": 59.9,
         "Adult Mortality": 268,
         "infant deaths": 66,
         "Alcohol": 0.01,
         "percentage expenditure": 73.21924272,
         "Hepatitis B": 64,
         "Measles": 430,
         "BMI": 18.1,
         "under-five deaths": 89,
         "Polio": 62,
         "Total expenditure": 8.13,
         "Diphtheria": 64,
         "HIV/AIDS": 0.1,
         "GDP": 631.744976,
         "Population": 31731688,
         "thinness  1-19 years": 17.7,
         "thinness 5-9 years": 17.7,
         "Income composition of resources": 0.47,
         "Schooling": 9.9,
         "_deepnote_index_column": 2
        },
        {
         "Country": "Afghanistan",
         "Year": 2012,
         "Status": "Developing",
         "Life expectancy": 59.5,
         "Adult Mortality": 272,
         "infant deaths": 69,
         "Alcohol": 0.01,
         "percentage expenditure": 78.1842153,
         "Hepatitis B": 67,
         "Measles": 2787,
         "BMI": 17.6,
         "under-five deaths": 93,
         "Polio": 67,
         "Total expenditure": 8.52,
         "Diphtheria": 67,
         "HIV/AIDS": 0.1,
         "GDP": 669.959,
         "Population": 3696958,
         "thinness  1-19 years": 17.9,
         "thinness 5-9 years": 18,
         "Income composition of resources": 0.463,
         "Schooling": 9.8,
         "_deepnote_index_column": 3
        },
        {
         "Country": "Afghanistan",
         "Year": 2011,
         "Status": "Developing",
         "Life expectancy": 59.2,
         "Adult Mortality": 275,
         "infant deaths": 71,
         "Alcohol": 0.01,
         "percentage expenditure": 7.097108703,
         "Hepatitis B": 68,
         "Measles": 3013,
         "BMI": 17.2,
         "under-five deaths": 97,
         "Polio": 68,
         "Total expenditure": 7.87,
         "Diphtheria": 68,
         "HIV/AIDS": 0.1,
         "GDP": 63.537231,
         "Population": 2978599,
         "thinness  1-19 years": 18.2,
         "thinness 5-9 years": 18.2,
         "Income composition of resources": 0.454,
         "Schooling": 9.5,
         "_deepnote_index_column": 4
        },
        {
         "Country": "Afghanistan",
         "Year": 2010,
         "Status": "Developing",
         "Life expectancy": 58.8,
         "Adult Mortality": 279,
         "infant deaths": 74,
         "Alcohol": 0.01,
         "percentage expenditure": 79.67936736,
         "Hepatitis B": 66,
         "Measles": 1989,
         "BMI": 16.7,
         "under-five deaths": 102,
         "Polio": 66,
         "Total expenditure": 9.2,
         "Diphtheria": 66,
         "HIV/AIDS": 0.1,
         "GDP": 553.32894,
         "Population": 2883167,
         "thinness  1-19 years": 18.4,
         "thinness 5-9 years": 18.4,
         "Income composition of resources": 0.448,
         "Schooling": 9.2,
         "_deepnote_index_column": 5
        },
        {
         "Country": "Afghanistan",
         "Year": 2009,
         "Status": "Developing",
         "Life expectancy": 58.6,
         "Adult Mortality": 281,
         "infant deaths": 77,
         "Alcohol": 0.01,
         "percentage expenditure": 56.76221682,
         "Hepatitis B": 63,
         "Measles": 2861,
         "BMI": 16.2,
         "under-five deaths": 106,
         "Polio": 63,
         "Total expenditure": 9.42,
         "Diphtheria": 63,
         "HIV/AIDS": 0.1,
         "GDP": 445.8932979,
         "Population": 284331,
         "thinness  1-19 years": 18.6,
         "thinness 5-9 years": 18.7,
         "Income composition of resources": 0.434,
         "Schooling": 8.9,
         "_deepnote_index_column": 6
        },
        {
         "Country": "Afghanistan",
         "Year": 2008,
         "Status": "Developing",
         "Life expectancy": 58.1,
         "Adult Mortality": 287,
         "infant deaths": 80,
         "Alcohol": 0.03,
         "percentage expenditure": 25.87392536,
         "Hepatitis B": 64,
         "Measles": 1599,
         "BMI": 15.7,
         "under-five deaths": 110,
         "Polio": 64,
         "Total expenditure": 8.33,
         "Diphtheria": 64,
         "HIV/AIDS": 0.1,
         "GDP": 373.3611163,
         "Population": 2729431,
         "thinness  1-19 years": 18.8,
         "thinness 5-9 years": 18.9,
         "Income composition of resources": 0.433,
         "Schooling": 8.7,
         "_deepnote_index_column": 7
        },
        {
         "Country": "Afghanistan",
         "Year": 2007,
         "Status": "Developing",
         "Life expectancy": 57.5,
         "Adult Mortality": 295,
         "infant deaths": 82,
         "Alcohol": 0.02,
         "percentage expenditure": 10.91015598,
         "Hepatitis B": 63,
         "Measles": 1141,
         "BMI": 15.2,
         "under-five deaths": 113,
         "Polio": 63,
         "Total expenditure": 6.73,
         "Diphtheria": 63,
         "HIV/AIDS": 0.1,
         "GDP": 369.835796,
         "Population": 26616792,
         "thinness  1-19 years": 19,
         "thinness 5-9 years": 19.1,
         "Income composition of resources": 0.415,
         "Schooling": 8.4,
         "_deepnote_index_column": 8
        },
        {
         "Country": "Afghanistan",
         "Year": 2006,
         "Status": "Developing",
         "Life expectancy": 57.3,
         "Adult Mortality": 295,
         "infant deaths": 84,
         "Alcohol": 0.03,
         "percentage expenditure": 17.17151751,
         "Hepatitis B": 64,
         "Measles": 1990,
         "BMI": 14.7,
         "under-five deaths": 116,
         "Polio": 58,
         "Total expenditure": 7.43,
         "Diphtheria": 58,
         "HIV/AIDS": 0.1,
         "GDP": 272.56377,
         "Population": 2589345,
         "thinness  1-19 years": 19.2,
         "thinness 5-9 years": 19.3,
         "Income composition of resources": 0.405,
         "Schooling": 8.1,
         "_deepnote_index_column": 9
        }
       ]
      },
      "text/plain": "          Country  Year      Status  Life expectancy  Adult Mortality  \\\n0     Afghanistan  2015  Developing             65.0            263.0   \n1     Afghanistan  2014  Developing             59.9            271.0   \n2     Afghanistan  2013  Developing             59.9            268.0   \n3     Afghanistan  2012  Developing             59.5            272.0   \n4     Afghanistan  2011  Developing             59.2            275.0   \n...           ...   ...         ...              ...              ...   \n2933     Zimbabwe  2004  Developing             44.3            723.0   \n2934     Zimbabwe  2003  Developing             44.5            715.0   \n2935     Zimbabwe  2002  Developing             44.8             73.0   \n2936     Zimbabwe  2001  Developing             45.3            686.0   \n2937     Zimbabwe  2000  Developing             46.0            665.0   \n\n      infant deaths  Alcohol  percentage expenditure  Hepatitis B  Measles  \\\n0                62     0.01               71.279624         65.0     1154   \n1                64     0.01               73.523582         62.0      492   \n2                66     0.01               73.219243         64.0      430   \n3                69     0.01               78.184215         67.0     2787   \n4                71     0.01                7.097109         68.0     3013   \n...             ...      ...                     ...          ...      ...   \n2933             27     4.36                0.000000         68.0       31   \n2934             26     4.06                0.000000          7.0      998   \n2935             25     4.43                0.000000         73.0      304   \n2936             25     1.72                0.000000         76.0      529   \n2937             24     1.68                0.000000         79.0     1483   \n\n      ...  Polio  Total expenditure  Diphtheria  HIV/AIDS         GDP  \\\n0     ...    6.0               8.16        65.0       0.1  584.259210   \n1     ...   58.0               8.18        62.0       0.1  612.696514   \n2     ...   62.0               8.13        64.0       0.1  631.744976   \n3     ...   67.0               8.52        67.0       0.1  669.959000   \n4     ...   68.0               7.87        68.0       0.1   63.537231   \n...   ...    ...                ...         ...       ...         ...   \n2933  ...   67.0               7.13        65.0      33.6  454.366654   \n2934  ...    7.0               6.52        68.0      36.7  453.351155   \n2935  ...   73.0               6.53        71.0      39.8   57.348340   \n2936  ...   76.0               6.16        75.0      42.1  548.587312   \n2937  ...   78.0               7.10        78.0      43.5  547.358878   \n\n      Population  thinness  1-19 years  thinness 5-9 years  \\\n0     33736494.0                  17.2                17.3   \n1       327582.0                  17.5                17.5   \n2     31731688.0                  17.7                17.7   \n3      3696958.0                  17.9                18.0   \n4      2978599.0                  18.2                18.2   \n...          ...                   ...                 ...   \n2933  12777511.0                   9.4                 9.4   \n2934  12633897.0                   9.8                 9.9   \n2935    125525.0                   1.2                 1.3   \n2936  12366165.0                   1.6                 1.7   \n2937  12222251.0                  11.0                11.2   \n\n      Income composition of resources  Schooling  \n0                               0.479       10.1  \n1                               0.476       10.0  \n2                               0.470        9.9  \n3                               0.463        9.8  \n4                               0.454        9.5  \n...                               ...        ...  \n2933                            0.407        9.2  \n2934                            0.418        9.5  \n2935                            0.427       10.0  \n2936                            0.427        9.8  \n2937                            0.434        9.8  \n\n[2928 rows x 22 columns]",
      "text/html": "<div>\n<style scoped>\n    .dataframe tbody tr th:only-of-type {\n        vertical-align: middle;\n    }\n\n    .dataframe tbody tr th {\n        vertical-align: top;\n    }\n\n    .dataframe thead th {\n        text-align: right;\n    }\n</style>\n<table border=\"1\" class=\"dataframe\">\n  <thead>\n    <tr style=\"text-align: right;\">\n      <th></th>\n      <th>Country</th>\n      <th>Year</th>\n      <th>Status</th>\n      <th>Life expectancy</th>\n      <th>Adult Mortality</th>\n      <th>infant deaths</th>\n      <th>Alcohol</th>\n      <th>percentage expenditure</th>\n      <th>Hepatitis B</th>\n      <th>Measles</th>\n      <th>...</th>\n      <th>Polio</th>\n      <th>Total expenditure</th>\n      <th>Diphtheria</th>\n      <th>HIV/AIDS</th>\n      <th>GDP</th>\n      <th>Population</th>\n      <th>thinness  1-19 years</th>\n      <th>thinness 5-9 years</th>\n      <th>Income composition of resources</th>\n      <th>Schooling</th>\n    </tr>\n  </thead>\n  <tbody>\n    <tr>\n      <th>0</th>\n      <td>Afghanistan</td>\n      <td>2015</td>\n      <td>Developing</td>\n      <td>65.0</td>\n      <td>263.0</td>\n      <td>62</td>\n      <td>0.01</td>\n      <td>71.279624</td>\n      <td>65.0</td>\n      <td>1154</td>\n      <td>...</td>\n      <td>6.0</td>\n      <td>8.16</td>\n      <td>65.0</td>\n      <td>0.1</td>\n      <td>584.259210</td>\n      <td>33736494.0</td>\n      <td>17.2</td>\n      <td>17.3</td>\n      <td>0.479</td>\n      <td>10.1</td>\n    </tr>\n    <tr>\n      <th>1</th>\n      <td>Afghanistan</td>\n      <td>2014</td>\n      <td>Developing</td>\n      <td>59.9</td>\n      <td>271.0</td>\n      <td>64</td>\n      <td>0.01</td>\n      <td>73.523582</td>\n      <td>62.0</td>\n      <td>492</td>\n      <td>...</td>\n      <td>58.0</td>\n      <td>8.18</td>\n      <td>62.0</td>\n      <td>0.1</td>\n      <td>612.696514</td>\n      <td>327582.0</td>\n      <td>17.5</td>\n      <td>17.5</td>\n      <td>0.476</td>\n      <td>10.0</td>\n    </tr>\n    <tr>\n      <th>2</th>\n      <td>Afghanistan</td>\n      <td>2013</td>\n      <td>Developing</td>\n      <td>59.9</td>\n      <td>268.0</td>\n      <td>66</td>\n      <td>0.01</td>\n      <td>73.219243</td>\n      <td>64.0</td>\n      <td>430</td>\n      <td>...</td>\n      <td>62.0</td>\n      <td>8.13</td>\n      <td>64.0</td>\n      <td>0.1</td>\n      <td>631.744976</td>\n      <td>31731688.0</td>\n      <td>17.7</td>\n      <td>17.7</td>\n      <td>0.470</td>\n      <td>9.9</td>\n    </tr>\n    <tr>\n      <th>3</th>\n      <td>Afghanistan</td>\n      <td>2012</td>\n      <td>Developing</td>\n      <td>59.5</td>\n      <td>272.0</td>\n      <td>69</td>\n      <td>0.01</td>\n      <td>78.184215</td>\n      <td>67.0</td>\n      <td>2787</td>\n      <td>...</td>\n      <td>67.0</td>\n      <td>8.52</td>\n      <td>67.0</td>\n      <td>0.1</td>\n      <td>669.959000</td>\n      <td>3696958.0</td>\n      <td>17.9</td>\n      <td>18.0</td>\n      <td>0.463</td>\n      <td>9.8</td>\n    </tr>\n    <tr>\n      <th>4</th>\n      <td>Afghanistan</td>\n      <td>2011</td>\n      <td>Developing</td>\n      <td>59.2</td>\n      <td>275.0</td>\n      <td>71</td>\n      <td>0.01</td>\n      <td>7.097109</td>\n      <td>68.0</td>\n      <td>3013</td>\n      <td>...</td>\n      <td>68.0</td>\n      <td>7.87</td>\n      <td>68.0</td>\n      <td>0.1</td>\n      <td>63.537231</td>\n      <td>2978599.0</td>\n      <td>18.2</td>\n      <td>18.2</td>\n      <td>0.454</td>\n      <td>9.5</td>\n    </tr>\n    <tr>\n      <th>...</th>\n      <td>...</td>\n      <td>...</td>\n      <td>...</td>\n      <td>...</td>\n      <td>...</td>\n      <td>...</td>\n      <td>...</td>\n      <td>...</td>\n      <td>...</td>\n      <td>...</td>\n      <td>...</td>\n      <td>...</td>\n      <td>...</td>\n      <td>...</td>\n      <td>...</td>\n      <td>...</td>\n      <td>...</td>\n      <td>...</td>\n      <td>...</td>\n      <td>...</td>\n      <td>...</td>\n    </tr>\n    <tr>\n      <th>2933</th>\n      <td>Zimbabwe</td>\n      <td>2004</td>\n      <td>Developing</td>\n      <td>44.3</td>\n      <td>723.0</td>\n      <td>27</td>\n      <td>4.36</td>\n      <td>0.000000</td>\n      <td>68.0</td>\n      <td>31</td>\n      <td>...</td>\n      <td>67.0</td>\n      <td>7.13</td>\n      <td>65.0</td>\n      <td>33.6</td>\n      <td>454.366654</td>\n      <td>12777511.0</td>\n      <td>9.4</td>\n      <td>9.4</td>\n      <td>0.407</td>\n      <td>9.2</td>\n    </tr>\n    <tr>\n      <th>2934</th>\n      <td>Zimbabwe</td>\n      <td>2003</td>\n      <td>Developing</td>\n      <td>44.5</td>\n      <td>715.0</td>\n      <td>26</td>\n      <td>4.06</td>\n      <td>0.000000</td>\n      <td>7.0</td>\n      <td>998</td>\n      <td>...</td>\n      <td>7.0</td>\n      <td>6.52</td>\n      <td>68.0</td>\n      <td>36.7</td>\n      <td>453.351155</td>\n      <td>12633897.0</td>\n      <td>9.8</td>\n      <td>9.9</td>\n      <td>0.418</td>\n      <td>9.5</td>\n    </tr>\n    <tr>\n      <th>2935</th>\n      <td>Zimbabwe</td>\n      <td>2002</td>\n      <td>Developing</td>\n      <td>44.8</td>\n      <td>73.0</td>\n      <td>25</td>\n      <td>4.43</td>\n      <td>0.000000</td>\n      <td>73.0</td>\n      <td>304</td>\n      <td>...</td>\n      <td>73.0</td>\n      <td>6.53</td>\n      <td>71.0</td>\n      <td>39.8</td>\n      <td>57.348340</td>\n      <td>125525.0</td>\n      <td>1.2</td>\n      <td>1.3</td>\n      <td>0.427</td>\n      <td>10.0</td>\n    </tr>\n    <tr>\n      <th>2936</th>\n      <td>Zimbabwe</td>\n      <td>2001</td>\n      <td>Developing</td>\n      <td>45.3</td>\n      <td>686.0</td>\n      <td>25</td>\n      <td>1.72</td>\n      <td>0.000000</td>\n      <td>76.0</td>\n      <td>529</td>\n      <td>...</td>\n      <td>76.0</td>\n      <td>6.16</td>\n      <td>75.0</td>\n      <td>42.1</td>\n      <td>548.587312</td>\n      <td>12366165.0</td>\n      <td>1.6</td>\n      <td>1.7</td>\n      <td>0.427</td>\n      <td>9.8</td>\n    </tr>\n    <tr>\n      <th>2937</th>\n      <td>Zimbabwe</td>\n      <td>2000</td>\n      <td>Developing</td>\n      <td>46.0</td>\n      <td>665.0</td>\n      <td>24</td>\n      <td>1.68</td>\n      <td>0.000000</td>\n      <td>79.0</td>\n      <td>1483</td>\n      <td>...</td>\n      <td>78.0</td>\n      <td>7.10</td>\n      <td>78.0</td>\n      <td>43.5</td>\n      <td>547.358878</td>\n      <td>12222251.0</td>\n      <td>11.0</td>\n      <td>11.2</td>\n      <td>0.434</td>\n      <td>9.8</td>\n    </tr>\n  </tbody>\n</table>\n<p>2928 rows × 22 columns</p>\n</div>"
     },
     "metadata": {}
    }
   ],
   "execution_count": null
  },
  {
   "cell_type": "code",
   "metadata": {
    "tags": [],
    "cell_id": "00031-46d07dda-fc92-4070-ad34-6cdc6d6ac7cd",
    "deepnote_to_be_reexecuted": false,
    "source_hash": "2dfa5ca8",
    "execution_start": 1640535845310,
    "execution_millis": 177237,
    "deepnote_cell_type": "code"
   },
   "source": "hep_dict = make_dict_by_country('Hepatitis B', df)",
   "outputs": [],
   "execution_count": null
  },
  {
   "cell_type": "code",
   "metadata": {
    "tags": [],
    "cell_id": "00030-26da8e86-4345-4f69-becb-00274f28a299",
    "deepnote_to_be_reexecuted": false,
    "source_hash": "94845a5e",
    "execution_start": 1640535845330,
    "execution_millis": 177234,
    "deepnote_output_heights": [
     21.1875
    ],
    "deepnote_cell_type": "code"
   },
   "source": "import math as mh\nfor item in hep_dict.items():\n    if (mh.isnan(item[1])):\n        print(item)",
   "outputs": [
    {
     "name": "stdout",
     "text": "('Denmark', nan)\n('Finland', nan)\n('Hungary', nan)\n('Iceland', nan)\n('Japan', nan)\n('Norway', nan)\n('Slovenia', nan)\n('Switzerland', nan)\n('United Kingdom of Great Britain and Northern Ireland', nan)\n",
     "output_type": "stream",
     "data": {}
    }
   ],
   "execution_count": null
  },
  {
   "cell_type": "markdown",
   "source": "* Nahradím hodnoty 'Hepatitis B' v těchto zemích průměrem této proměnné v zemích, které jsou těmto zemím podobné (subjektivně - např. dle toho, jak si jsou teritoriálně, etnicky a kulturně blízko) a mají definované hodnoty pro Hep. B",
   "metadata": {
    "tags": [],
    "cell_id": "00032-143ae1c1-e6e4-44e8-99b1-7a609886069c",
    "deepnote_cell_type": "markdown"
   }
  },
  {
   "cell_type": "code",
   "metadata": {
    "tags": [],
    "cell_id": "00033-5bc5c445-f351-4002-89aa-056bb4d05120",
    "deepnote_to_be_reexecuted": false,
    "source_hash": "ed03643e",
    "execution_start": 1640535845330,
    "execution_millis": 10,
    "deepnote_output_heights": [
     611
    ],
    "is_output_hidden": true,
    "deepnote_cell_type": "code"
   },
   "source": "hep_dict",
   "outputs": [
    {
     "output_type": "execute_result",
     "execution_count": 21,
     "data": {
      "text/plain": "{'Afghanistan': 64.5625,\n 'Albania': 98.0,\n 'Algeria': 78.0,\n 'Angola': 70.22222222222223,\n 'Antigua and Barbuda': 98.26666666666667,\n 'Argentina': 81.28571428571429,\n 'Armenia': 87.5625,\n 'Australia': 93.4,\n 'Austria': 81.0625,\n 'Azerbaijan': 59.214285714285715,\n 'Bahamas': 83.6,\n 'Bahrain': 98.125,\n 'Bangladesh': 77.61538461538461,\n 'Barbados': 84.06666666666666,\n 'Belarus': 88.9375,\n 'Belgium': 74.5,\n 'Belize': 94.75,\n 'Benin': 62.57142857142857,\n 'Bhutan': 94.125,\n 'Bolivia (Plurinational State of)': 82.875,\n 'Bosnia and Herzegovina': 71.66666666666667,\n 'Botswana': 87.3125,\n 'Brazil': 96.1875,\n 'Brunei Darussalam': 97.875,\n 'Bulgaria': 94.5,\n 'Burkina Faso': 81.1,\n 'Burundi': 93.33333333333333,\n 'Cabo Verde': 80.64285714285714,\n 'Cambodia': 79.6,\n 'Cameroon': 76.81818181818181,\n 'Canada': 28.846153846153847,\n 'Central African Republic': 42.57142857142857,\n 'Chad': 29.875,\n 'Chile': 77.2,\n 'China': 80.4375,\n 'Colombia': 79.0,\n 'Comoros': 76.46153846153847,\n 'Congo': 50.77777777777778,\n 'Costa Rica': 79.3125,\n 'Croatia': 96.22222222222223,\n 'Cuba': 96.25,\n 'Cyprus': 92.625,\n 'Czechia': 97.28571428571429,\n \"Côte d'Ivoire\": 63.93333333333333,\n \"Democratic People's Republic of Korea\": 88.84615384615384,\n 'Democratic Republic of the Congo': 51.333333333333336,\n 'Denmark': nan,\n 'Djibouti': 78.0,\n 'Dominican Republic': 65.125,\n 'Ecuador': 78.0625,\n 'Egypt': 96.6875,\n 'El Salvador': 86.0625,\n 'Equatorial Guinea': 9.0,\n 'Eritrea': 86.42857142857143,\n 'Estonia': 86.83333333333333,\n 'Ethiopia': 64.11111111111111,\n 'Fiji': 98.875,\n 'Finland': nan,\n 'France': 51.25,\n 'Gabon': 57.63636363636363,\n 'Gambia': 95.375,\n 'Georgia': 77.25,\n 'Germany': 77.4375,\n 'Ghana': 67.5,\n 'Greece': 88.9375,\n 'Grenada': 95.46666666666667,\n 'Guatemala': 87.0909090909091,\n 'Guinea': 58.666666666666664,\n 'Guinea-Bissau': 75.0,\n 'Guyana': 88.2,\n 'Haiti': 40.666666666666664,\n 'Honduras': 95.0625,\n 'Hungary': nan,\n 'Iceland': nan,\n 'India': 35.0,\n 'Indonesia': 73.5625,\n 'Iran (Islamic Republic of)': 97.75,\n 'Iraq': 64.875,\n 'Ireland': 86.83333333333333,\n 'Israel': 97.4375,\n 'Italy': 95.5,\n 'Jamaica': 83.15384615384616,\n 'Japan': nan,\n 'Jordan': 97.0,\n 'Kazakhstan': 97.3125,\n 'Kenya': 74.57142857142857,\n 'Kiribati': 75.1875,\n 'Kuwait': 98.1875,\n 'Kyrgyzstan': 85.5625,\n \"Lao People's Democratic Republic\": 60.30769230769231,\n 'Latvia': 88.9375,\n 'Lebanon': 70.5,\n 'Lesotho': 73.23076923076923,\n 'Liberia': 49.125,\n 'Libya': 96.3125,\n 'Lithuania': 94.75,\n 'Luxembourg': 92.375,\n 'Madagascar': 63.357142857142854,\n 'Malawi': 89.57142857142857,\n 'Malaysia': 96.0,\n 'Maldives': 97.875,\n 'Mali': 67.15384615384616,\n 'Malta': 80.53846153846153,\n 'Mauritania': 57.63636363636363,\n 'Mauritius': 96.1875,\n 'Mexico': 94.4375,\n 'Micronesia (Federated States of)': 75.4375,\n 'Mongolia': 97.4375,\n 'Montenegro': 48.5,\n 'Morocco': 87.25,\n 'Mozambique': 67.86666666666666,\n 'Myanmar': 65.46153846153847,\n 'Namibia': 86.33333333333333,\n 'Nepal': 65.38461538461539,\n 'Netherlands': 48.2,\n 'New Zealand': 70.1875,\n 'Nicaragua': 91.875,\n 'Niger': 60.57142857142857,\n 'Nigeria': 42.90909090909091,\n 'Norway': nan,\n 'Oman': 98.8125,\n 'Pakistan': 67.3076923076923,\n 'Panama': 78.66666666666667,\n 'Papua New Guinea': 57.0,\n 'Paraguay': 82.15384615384616,\n 'Peru': 83.6923076923077,\n 'Philippines': 62.125,\n 'Poland': 97.375,\n 'Portugal': 87.625,\n 'Qatar': 95.0625,\n 'Republic of Korea': 95.125,\n 'Republic of Moldova': 95.0,\n 'Romania': 91.8125,\n 'Russian Federation': 92.33333333333333,\n 'Rwanda': 96.0,\n 'Saint Lucia': 89.28571428571429,\n 'Saint Vincent and the Grenadines': 93.0,\n 'Samoa': 54.9375,\n 'Sao Tome and Principe': 83.3076923076923,\n 'Saudi Arabia': 96.8125,\n 'Senegal': 86.41666666666667,\n 'Serbia': 90.75,\n 'Seychelles': 98.6875,\n 'Sierra Leone': 83.44444444444444,\n 'Singapore': 95.875,\n 'Slovakia': 98.5625,\n 'Slovenia': nan,\n 'Solomon Islands': 78.625,\n 'Somalia': 42.0,\n 'South Africa': 66.5,\n 'South Sudan': 31.0,\n 'Spain': 92.5,\n 'Sri Lanka': 90.61538461538461,\n 'Sudan': 72.36363636363636,\n 'Suriname': 85.27272727272727,\n 'Swaziland': 76.0,\n 'Sweden': 59.2,\n 'Switzerland': nan,\n 'Syrian Arab Republic': 64.125,\n 'Tajikistan': 84.42857142857143,\n 'Thailand': 97.0,\n 'The former Yugoslav republic of Macedonia': 83.54545454545455,\n 'Timor-Leste': 76.0,\n 'Togo': 76.625,\n 'Tonga': 75.5,\n 'Trinidad and Tobago': 54.92857142857143,\n 'Tunisia': 96.75,\n 'Turkey': 87.0625,\n 'Turkmenistan': 97.28571428571429,\n 'Uganda': 63.42857142857143,\n 'Ukraine': 54.625,\n 'United Arab Emirates': 93.875,\n 'United Kingdom of Great Britain and Northern Ireland': nan,\n 'United Republic of Tanzania': 73.5,\n 'United States of America': 81.375,\n 'Uruguay': 94.3125,\n 'Uzbekistan': 95.64285714285714,\n 'Vanuatu': 56.125,\n 'Venezuela (Bolivarian Republic of)': 66.25,\n 'Viet Nam': 87.53846153846153,\n 'Yemen': 55.6875,\n 'Zambia': 69.81818181818181,\n 'Zimbabwe': 70.5625}"
     },
     "metadata": {}
    }
   ],
   "execution_count": null
  },
  {
   "cell_type": "code",
   "metadata": {
    "tags": [],
    "cell_id": "00033-28d75242-16c8-47c4-8f90-768e37a84202",
    "deepnote_to_be_reexecuted": false,
    "source_hash": "2759b8a0",
    "execution_start": 1640535845340,
    "execution_millis": 9,
    "deepnote_cell_type": "code"
   },
   "source": "hep_dict['Denmark']  = hep_dict['Sweden']\nhep_dict['Finland']  = hep_dict['Sweden']\nhep_dict['Hungary']  = hep_dict['Slovakia']\nhep_dict['Iceland']  = hep_dict['Sweden']\nhep_dict['Japan']    = hep_dict[\"Democratic People's Republic of Korea\"]\nhep_dict['Norway']   = hep_dict['Sweden']\nhep_dict['Slovenia'] = hep_dict['Serbia']\nhep_dict['Switzerland'] = (hep_dict['France'] + hep_dict['Austria'] + hep_dict['Germany'])/3.0\nhep_dict['United Kingdom of Great Britain and Northern Ireland'] = hep_dict['Ireland']",
   "outputs": [],
   "execution_count": null
  },
  {
   "cell_type": "code",
   "metadata": {
    "tags": [],
    "cell_id": "00035-0e8bdb07-23c0-4c2b-a5cc-f5008a0a8e04",
    "deepnote_to_be_reexecuted": false,
    "source_hash": "a0cc83d5",
    "execution_start": 1640535845361,
    "execution_millis": 6,
    "deepnote_output_heights": [
     232.390625
    ],
    "deepnote_cell_type": "code"
   },
   "source": "df.loc[df['Hepatitis B'].isnull(), 'Hepatitis B'] = df[df['Hepatitis B'].isnull()]['Country'].apply(lambda x: hep_dict[x])",
   "outputs": [],
   "execution_count": null
  },
  {
   "cell_type": "markdown",
   "source": "* Nyní se kouknu na BMI.",
   "metadata": {
    "tags": [],
    "cell_id": "00036-4a0554b8-a684-4208-8bde-0093f921f11b",
    "deepnote_cell_type": "markdown"
   }
  },
  {
   "cell_type": "code",
   "metadata": {
    "tags": [],
    "cell_id": "00036-7d8f8b56-e4c5-4ea9-9d48-b6c7ecefa658",
    "deepnote_to_be_reexecuted": false,
    "source_hash": "f33b6a42",
    "execution_start": 1640535845378,
    "execution_millis": 504,
    "deepnote_table_state": {
     "pageSize": 10,
     "pageIndex": 0,
     "filters": [],
     "sortBy": [
      {
       "id": "BMI",
       "type": "asc"
      }
     ]
    },
    "deepnote_table_loading": false,
    "deepnote_cell_type": "code"
   },
   "source": "df[df['Status'] == 'Developed']",
   "outputs": [
    {
     "output_type": "execute_result",
     "execution_count": 24,
     "data": {
      "application/vnd.deepnote.dataframe.v3+json": {
       "column_count": 22,
       "row_count": 512,
       "columns": [
        {
         "name": "Country",
         "dtype": "object",
         "stats": {
          "unique_count": 32,
          "nan_count": 0,
          "categories": [
           {
            "name": "Singapore",
            "count": 16
           },
           {
            "name": "Portugal",
            "count": 16
           },
           {
            "name": "30 others",
            "count": 480
           }
          ]
         }
        },
        {
         "name": "Year",
         "dtype": "int64",
         "stats": {
          "unique_count": 16,
          "nan_count": 0,
          "min": "2000",
          "max": "2015",
          "histogram": [
           {
            "bin_start": 2000,
            "bin_end": 2001.5,
            "count": 64
           },
           {
            "bin_start": 2001.5,
            "bin_end": 2003,
            "count": 32
           },
           {
            "bin_start": 2003,
            "bin_end": 2004.5,
            "count": 64
           },
           {
            "bin_start": 2004.5,
            "bin_end": 2006,
            "count": 32
           },
           {
            "bin_start": 2006,
            "bin_end": 2007.5,
            "count": 64
           },
           {
            "bin_start": 2007.5,
            "bin_end": 2009,
            "count": 32
           },
           {
            "bin_start": 2009,
            "bin_end": 2010.5,
            "count": 64
           },
           {
            "bin_start": 2010.5,
            "bin_end": 2012,
            "count": 32
           },
           {
            "bin_start": 2012,
            "bin_end": 2013.5,
            "count": 64
           },
           {
            "bin_start": 2013.5,
            "bin_end": 2015,
            "count": 64
           }
          ]
         }
        },
        {
         "name": "Status",
         "dtype": "object",
         "stats": {
          "unique_count": 1,
          "nan_count": 0,
          "categories": [
           {
            "name": "Developed",
            "count": 512
           }
          ]
         }
        },
        {
         "name": "Life expectancy",
         "dtype": "float64",
         "stats": {
          "unique_count": 121,
          "nan_count": 0,
          "min": "69.9",
          "max": "89.0",
          "histogram": [
           {
            "bin_start": 69.9,
            "bin_end": 71.81,
            "count": 15
           },
           {
            "bin_start": 71.81,
            "bin_end": 73.72,
            "count": 39
           },
           {
            "bin_start": 73.72,
            "bin_end": 75.63000000000001,
            "count": 48
           },
           {
            "bin_start": 75.63000000000001,
            "bin_end": 77.54,
            "count": 54
           },
           {
            "bin_start": 77.54,
            "bin_end": 79.45,
            "count": 115
           },
           {
            "bin_start": 79.45,
            "bin_end": 81.36,
            "count": 87
           },
           {
            "bin_start": 81.36,
            "bin_end": 83.27,
            "count": 99
           },
           {
            "bin_start": 83.27,
            "bin_end": 85.18,
            "count": 20
           },
           {
            "bin_start": 85.18,
            "bin_end": 87.09,
            "count": 18
           },
           {
            "bin_start": 87.09,
            "bin_end": 89,
            "count": 17
           }
          ]
         }
        },
        {
         "name": "Adult Mortality",
         "dtype": "float64",
         "stats": {
          "unique_count": 133,
          "nan_count": 0,
          "min": "1.0",
          "max": "229.0",
          "histogram": [
           {
            "bin_start": 1,
            "bin_end": 23.8,
            "count": 86
           },
           {
            "bin_start": 23.8,
            "bin_end": 46.6,
            "count": 4
           },
           {
            "bin_start": 46.6,
            "bin_end": 69.4,
            "count": 141
           },
           {
            "bin_start": 69.4,
            "bin_end": 92.2,
            "count": 143
           },
           {
            "bin_start": 92.2,
            "bin_end": 115,
            "count": 33
           },
           {
            "bin_start": 115,
            "bin_end": 137.8,
            "count": 30
           },
           {
            "bin_start": 137.8,
            "bin_end": 160.6,
            "count": 38
           },
           {
            "bin_start": 160.6,
            "bin_end": 183.4,
            "count": 20
           },
           {
            "bin_start": 183.4,
            "bin_end": 206.20000000000002,
            "count": 8
           },
           {
            "bin_start": 206.20000000000002,
            "bin_end": 229,
            "count": 9
           }
          ]
         }
        },
        {
         "name": "infant deaths",
         "dtype": "int64",
         "stats": {
          "unique_count": 11,
          "nan_count": 0,
          "min": "0",
          "max": "28",
          "histogram": [
           {
            "bin_start": 0,
            "bin_end": 2.8,
            "count": 447
           },
           {
            "bin_start": 2.8,
            "bin_end": 5.6,
            "count": 49
           },
           {
            "bin_start": 5.6,
            "bin_end": 8.399999999999999,
            "count": 0
           },
           {
            "bin_start": 8.399999999999999,
            "bin_end": 11.2,
            "count": 0
           },
           {
            "bin_start": 11.2,
            "bin_end": 14,
            "count": 0
           },
           {
            "bin_start": 14,
            "bin_end": 16.799999999999997,
            "count": 0
           },
           {
            "bin_start": 16.799999999999997,
            "bin_end": 19.599999999999998,
            "count": 0
           },
           {
            "bin_start": 19.599999999999998,
            "bin_end": 22.4,
            "count": 0
           },
           {
            "bin_start": 22.4,
            "bin_end": 25.2,
            "count": 6
           },
           {
            "bin_start": 25.2,
            "bin_end": 28,
            "count": 10
           }
          ]
         }
        },
        {
         "name": "Alcohol",
         "dtype": "float64",
         "stats": {
          "unique_count": 385,
          "nan_count": 0,
          "min": "0.01",
          "max": "15.19",
          "histogram": [
           {
            "bin_start": 0.01,
            "bin_end": 1.528,
            "count": 10
           },
           {
            "bin_start": 1.528,
            "bin_end": 3.046,
            "count": 13
           },
           {
            "bin_start": 3.046,
            "bin_end": 4.564,
            "count": 0
           },
           {
            "bin_start": 4.564,
            "bin_end": 6.082,
            "count": 9
           },
           {
            "bin_start": 6.082,
            "bin_end": 7.6,
            "count": 63
           },
           {
            "bin_start": 7.6,
            "bin_end": 9.118,
            "count": 60
           },
           {
            "bin_start": 9.118,
            "bin_end": 10.636,
            "count": 130
           },
           {
            "bin_start": 10.636,
            "bin_end": 12.154,
            "count": 139
           },
           {
            "bin_start": 12.154,
            "bin_end": 13.672,
            "count": 80
           },
           {
            "bin_start": 13.672,
            "bin_end": 15.19,
            "count": 8
           }
          ]
         }
        },
        {
         "name": "percentage expenditure",
         "dtype": "float64",
         "stats": {
          "unique_count": 421,
          "nan_count": 0,
          "min": "0.0",
          "max": "19479.91161",
          "histogram": [
           {
            "bin_start": 0,
            "bin_end": 1947.991161,
            "count": 323
           },
           {
            "bin_start": 1947.991161,
            "bin_end": 3895.982322,
            "count": 58
           },
           {
            "bin_start": 3895.982322,
            "bin_end": 5843.973483,
            "count": 36
           },
           {
            "bin_start": 5843.973483,
            "bin_end": 7791.964644,
            "count": 37
           },
           {
            "bin_start": 7791.964644,
            "bin_end": 9739.955805,
            "count": 23
           },
           {
            "bin_start": 9739.955805,
            "bin_end": 11687.946966,
            "count": 16
           },
           {
            "bin_start": 11687.946966,
            "bin_end": 13635.938127,
            "count": 7
           },
           {
            "bin_start": 13635.938127,
            "bin_end": 15583.929288,
            "count": 5
           },
           {
            "bin_start": 15583.929288,
            "bin_end": 17531.920448999997,
            "count": 2
           },
           {
            "bin_start": 17531.920448999997,
            "bin_end": 19479.91161,
            "count": 5
           }
          ]
         }
        },
        {
         "name": "Hepatitis B",
         "dtype": "float64",
         "stats": {
          "unique_count": 44,
          "nan_count": 0,
          "min": "2.0",
          "max": "99.0",
          "histogram": [
           {
            "bin_start": 2,
            "bin_end": 11.7,
            "count": 17
           },
           {
            "bin_start": 11.7,
            "bin_end": 21.4,
            "count": 0
           },
           {
            "bin_start": 21.4,
            "bin_end": 31.099999999999998,
            "count": 0
           },
           {
            "bin_start": 31.099999999999998,
            "bin_end": 40.8,
            "count": 1
           },
           {
            "bin_start": 40.8,
            "bin_end": 50.5,
            "count": 14
           },
           {
            "bin_start": 50.5,
            "bin_end": 60.199999999999996,
            "count": 62
           },
           {
            "bin_start": 60.199999999999996,
            "bin_end": 69.89999999999999,
            "count": 5
           },
           {
            "bin_start": 69.89999999999999,
            "bin_end": 79.6,
            "count": 20
           },
           {
            "bin_start": 79.6,
            "bin_end": 89.3,
            "count": 100
           },
           {
            "bin_start": 89.3,
            "bin_end": 99,
            "count": 293
           }
          ]
         }
        },
        {
         "name": "Measles",
         "dtype": "int64",
         "stats": {
          "unique_count": 193,
          "nan_count": 0,
          "min": "0",
          "max": "33812",
          "histogram": [
           {
            "bin_start": 0,
            "bin_end": 3381.2,
            "count": 496
           },
           {
            "bin_start": 3381.2,
            "bin_end": 6762.4,
            "count": 6
           },
           {
            "bin_start": 6762.4,
            "bin_end": 10143.599999999999,
            "count": 4
           },
           {
            "bin_start": 10143.599999999999,
            "bin_end": 13524.8,
            "count": 2
           },
           {
            "bin_start": 13524.8,
            "bin_end": 16906,
            "count": 0
           },
           {
            "bin_start": 16906,
            "bin_end": 20287.199999999997,
            "count": 0
           },
           {
            "bin_start": 20287.199999999997,
            "bin_end": 23668.399999999998,
            "count": 3
           },
           {
            "bin_start": 23668.399999999998,
            "bin_end": 27049.6,
            "count": 0
           },
           {
            "bin_start": 27049.6,
            "bin_end": 30430.8,
            "count": 0
           },
           {
            "bin_start": 30430.8,
            "bin_end": 33812,
            "count": 1
           }
          ]
         }
        },
        {
         "name": "BMI",
         "dtype": "float64",
         "stats": {
          "unique_count": 194,
          "nan_count": 0,
          "min": "3.2",
          "max": "69.6",
          "histogram": [
           {
            "bin_start": 3.2,
            "bin_end": 9.84,
            "count": 51
           },
           {
            "bin_start": 9.84,
            "bin_end": 16.479999999999997,
            "count": 0
           },
           {
            "bin_start": 16.479999999999997,
            "bin_end": 23.119999999999994,
            "count": 3
           },
           {
            "bin_start": 23.119999999999994,
            "bin_end": 29.759999999999994,
            "count": 17
           },
           {
            "bin_start": 29.759999999999994,
            "bin_end": 36.4,
            "count": 9
           },
           {
            "bin_start": 36.4,
            "bin_end": 43.03999999999999,
            "count": 0
           },
           {
            "bin_start": 43.03999999999999,
            "bin_end": 49.67999999999999,
            "count": 0
           },
           {
            "bin_start": 49.67999999999999,
            "bin_end": 56.31999999999999,
            "count": 130
           },
           {
            "bin_start": 56.31999999999999,
            "bin_end": 62.959999999999994,
            "count": 224
           },
           {
            "bin_start": 62.959999999999994,
            "bin_end": 69.6,
            "count": 78
           }
          ]
         }
        },
        {
         "name": "under-five deaths",
         "dtype": "int64",
         "stats": {
          "unique_count": 14,
          "nan_count": 0,
          "min": "0",
          "max": "33",
          "histogram": [
           {
            "bin_start": 0,
            "bin_end": 3.3,
            "count": 456
           },
           {
            "bin_start": 3.3,
            "bin_end": 6.6,
            "count": 40
           },
           {
            "bin_start": 6.6,
            "bin_end": 9.899999999999999,
            "count": 0
           },
           {
            "bin_start": 9.899999999999999,
            "bin_end": 13.2,
            "count": 0
           },
           {
            "bin_start": 13.2,
            "bin_end": 16.5,
            "count": 0
           },
           {
            "bin_start": 16.5,
            "bin_end": 19.799999999999997,
            "count": 0
           },
           {
            "bin_start": 19.799999999999997,
            "bin_end": 23.099999999999998,
            "count": 0
           },
           {
            "bin_start": 23.099999999999998,
            "bin_end": 26.4,
            "count": 1
           },
           {
            "bin_start": 26.4,
            "bin_end": 29.7,
            "count": 4
           },
           {
            "bin_start": 29.7,
            "bin_end": 33,
            "count": 11
           }
          ]
         }
        },
        {
         "name": "Polio",
         "dtype": "float64",
         "stats": {
          "unique_count": 23,
          "nan_count": 0,
          "min": "9.0",
          "max": "99.0",
          "histogram": [
           {
            "bin_start": 9,
            "bin_end": 18,
            "count": 7
           },
           {
            "bin_start": 18,
            "bin_end": 27,
            "count": 0
           },
           {
            "bin_start": 27,
            "bin_end": 36,
            "count": 0
           },
           {
            "bin_start": 36,
            "bin_end": 45,
            "count": 0
           },
           {
            "bin_start": 45,
            "bin_end": 54,
            "count": 0
           },
           {
            "bin_start": 54,
            "bin_end": 63,
            "count": 0
           },
           {
            "bin_start": 63,
            "bin_end": 72,
            "count": 1
           },
           {
            "bin_start": 72,
            "bin_end": 81,
            "count": 4
           },
           {
            "bin_start": 81,
            "bin_end": 90,
            "count": 38
           },
           {
            "bin_start": 90,
            "bin_end": 99,
            "count": 462
           }
          ]
         }
        },
        {
         "name": "Total expenditure",
         "dtype": "float64",
         "stats": {
          "unique_count": 336,
          "nan_count": 32,
          "min": "1.1",
          "max": "17.6",
          "histogram": [
           {
            "bin_start": 1.1,
            "bin_end": 2.75,
            "count": 54
           },
           {
            "bin_start": 2.75,
            "bin_end": 4.4,
            "count": 13
           },
           {
            "bin_start": 4.4,
            "bin_end": 6.049999999999999,
            "count": 29
           },
           {
            "bin_start": 6.049999999999999,
            "bin_end": 7.699999999999999,
            "count": 123
           },
           {
            "bin_start": 7.699999999999999,
            "bin_end": 9.35,
            "count": 160
           },
           {
            "bin_start": 9.35,
            "bin_end": 10.999999999999998,
            "count": 56
           },
           {
            "bin_start": 10.999999999999998,
            "bin_end": 12.649999999999999,
            "count": 30
           },
           {
            "bin_start": 12.649999999999999,
            "bin_end": 14.299999999999999,
            "count": 2
           },
           {
            "bin_start": 14.299999999999999,
            "bin_end": 15.95,
            "count": 6
           },
           {
            "bin_start": 15.95,
            "bin_end": 17.6,
            "count": 7
           }
          ]
         }
        },
        {
         "name": "Diphtheria",
         "dtype": "float64",
         "stats": {
          "unique_count": 22,
          "nan_count": 0,
          "min": "9.0",
          "max": "99.0",
          "histogram": [
           {
            "bin_start": 9,
            "bin_end": 18,
            "count": 10
           },
           {
            "bin_start": 18,
            "bin_end": 27,
            "count": 0
           },
           {
            "bin_start": 27,
            "bin_end": 36,
            "count": 0
           },
           {
            "bin_start": 36,
            "bin_end": 45,
            "count": 0
           },
           {
            "bin_start": 45,
            "bin_end": 54,
            "count": 0
           },
           {
            "bin_start": 54,
            "bin_end": 63,
            "count": 0
           },
           {
            "bin_start": 63,
            "bin_end": 72,
            "count": 0
           },
           {
            "bin_start": 72,
            "bin_end": 81,
            "count": 4
           },
           {
            "bin_start": 81,
            "bin_end": 90,
            "count": 33
           },
           {
            "bin_start": 90,
            "bin_end": 99,
            "count": 465
           }
          ]
         }
        },
        {
         "name": "HIV/AIDS",
         "dtype": "float64",
         "stats": {
          "unique_count": 1,
          "nan_count": 0,
          "min": "0.1",
          "max": "0.1",
          "histogram": [
           {
            "bin_start": -0.4,
            "bin_end": -0.30000000000000004,
            "count": 0
           },
           {
            "bin_start": -0.30000000000000004,
            "bin_end": -0.2,
            "count": 0
           },
           {
            "bin_start": -0.2,
            "bin_end": -0.09999999999999998,
            "count": 0
           },
           {
            "bin_start": -0.09999999999999998,
            "bin_end": 0,
            "count": 0
           },
           {
            "bin_start": 0,
            "bin_end": 0.09999999999999998,
            "count": 0
           },
           {
            "bin_start": 0.09999999999999998,
            "bin_end": 0.20000000000000007,
            "count": 512
           },
           {
            "bin_start": 0.20000000000000007,
            "bin_end": 0.30000000000000004,
            "count": 0
           },
           {
            "bin_start": 0.30000000000000004,
            "bin_end": 0.4,
            "count": 0
           },
           {
            "bin_start": 0.4,
            "bin_end": 0.5,
            "count": 0
           },
           {
            "bin_start": 0.5,
            "bin_end": 0.6,
            "count": 0
           }
          ]
         }
        },
        {
         "name": "GDP",
         "dtype": "float64",
         "stats": {
          "unique_count": 448,
          "nan_count": 64,
          "min": "12.27733",
          "max": "119172.7418",
          "histogram": [
           {
            "bin_start": 12.27733,
            "bin_end": 11928.323777000001,
            "count": 210
           },
           {
            "bin_start": 11928.323777000001,
            "bin_end": 23844.370224000002,
            "count": 72
           },
           {
            "bin_start": 23844.370224000002,
            "bin_end": 35760.416671,
            "count": 50
           },
           {
            "bin_start": 35760.416671,
            "bin_end": 47676.463118,
            "count": 48
           },
           {
            "bin_start": 47676.463118,
            "bin_end": 59592.509565,
            "count": 37
           },
           {
            "bin_start": 59592.509565,
            "bin_end": 71508.556012,
            "count": 16
           },
           {
            "bin_start": 71508.556012,
            "bin_end": 83424.602459,
            "count": 5
           },
           {
            "bin_start": 83424.602459,
            "bin_end": 95340.648906,
            "count": 6
           },
           {
            "bin_start": 95340.648906,
            "bin_end": 107256.695353,
            "count": 0
           },
           {
            "bin_start": 107256.695353,
            "bin_end": 119172.7418,
            "count": 4
           }
          ]
         }
        },
        {
         "name": "Population",
         "dtype": "float64",
         "stats": {
          "unique_count": 412,
          "nan_count": 96,
          "min": "123.0",
          "max": "82534176.0",
          "histogram": [
           {
            "bin_start": 123,
            "bin_end": 8253528.3,
            "count": 343
           },
           {
            "bin_start": 8253528.3,
            "bin_end": 16506933.6,
            "count": 32
           },
           {
            "bin_start": 16506933.6,
            "bin_end": 24760338.9,
            "count": 12
           },
           {
            "bin_start": 24760338.9,
            "bin_end": 33013744.2,
            "count": 0
           },
           {
            "bin_start": 33013744.2,
            "bin_end": 41267149.5,
            "count": 6
           },
           {
            "bin_start": 41267149.5,
            "bin_end": 49520554.8,
            "count": 9
           },
           {
            "bin_start": 49520554.8,
            "bin_end": 57773960.1,
            "count": 1
           },
           {
            "bin_start": 57773960.1,
            "bin_end": 66027365.4,
            "count": 6
           },
           {
            "bin_start": 66027365.4,
            "bin_end": 74280770.7,
            "count": 0
           },
           {
            "bin_start": 74280770.7,
            "bin_end": 82534176,
            "count": 7
           }
          ]
         }
        },
        {
         "name": "thinness  1-19 years",
         "dtype": "float64",
         "stats": {
          "unique_count": 36,
          "nan_count": 0,
          "min": "0.3",
          "max": "4.0",
          "histogram": [
           {
            "bin_start": 0.3,
            "bin_end": 0.6699999999999999,
            "count": 83
           },
           {
            "bin_start": 0.6699999999999999,
            "bin_end": 1.04,
            "count": 169
           },
           {
            "bin_start": 1.04,
            "bin_end": 1.41,
            "count": 65
           },
           {
            "bin_start": 1.41,
            "bin_end": 1.78,
            "count": 43
           },
           {
            "bin_start": 1.78,
            "bin_end": 2.15,
            "count": 75
           },
           {
            "bin_start": 2.15,
            "bin_end": 2.5199999999999996,
            "count": 42
           },
           {
            "bin_start": 2.5199999999999996,
            "bin_end": 2.8899999999999997,
            "count": 14
           },
           {
            "bin_start": 2.8899999999999997,
            "bin_end": 3.26,
            "count": 12
           },
           {
            "bin_start": 3.26,
            "bin_end": 3.63,
            "count": 6
           },
           {
            "bin_start": 3.63,
            "bin_end": 4,
            "count": 3
           }
          ]
         }
        },
        {
         "name": "thinness 5-9 years",
         "dtype": "float64",
         "stats": {
          "unique_count": 42,
          "nan_count": 0,
          "min": "0.2",
          "max": "4.3",
          "histogram": [
           {
            "bin_start": 0.2,
            "bin_end": 0.61,
            "count": 139
           },
           {
            "bin_start": 0.61,
            "bin_end": 1.02,
            "count": 131
           },
           {
            "bin_start": 1.02,
            "bin_end": 1.43,
            "count": 52
           },
           {
            "bin_start": 1.43,
            "bin_end": 1.8399999999999999,
            "count": 43
           },
           {
            "bin_start": 1.8399999999999999,
            "bin_end": 2.25,
            "count": 82
           },
           {
            "bin_start": 2.25,
            "bin_end": 2.66,
            "count": 29
           },
           {
            "bin_start": 2.66,
            "bin_end": 3.07,
            "count": 18
           },
           {
            "bin_start": 3.07,
            "bin_end": 3.48,
            "count": 9
           },
           {
            "bin_start": 3.48,
            "bin_end": 3.89,
            "count": 4
           },
           {
            "bin_start": 3.89,
            "bin_end": 4.3,
            "count": 5
           }
          ]
         }
        },
        {
         "name": "Income composition of resources",
         "dtype": "float64",
         "stats": {
          "unique_count": 184,
          "nan_count": 48,
          "min": "0.703",
          "max": "0.948",
          "histogram": [
           {
            "bin_start": 0.703,
            "bin_end": 0.7274999999999999,
            "count": 8
           },
           {
            "bin_start": 0.7274999999999999,
            "bin_end": 0.752,
            "count": 11
           },
           {
            "bin_start": 0.752,
            "bin_end": 0.7765,
            "count": 22
           },
           {
            "bin_start": 0.7765,
            "bin_end": 0.8009999999999999,
            "count": 46
           },
           {
            "bin_start": 0.8009999999999999,
            "bin_end": 0.8254999999999999,
            "count": 64
           },
           {
            "bin_start": 0.8254999999999999,
            "bin_end": 0.85,
            "count": 50
           },
           {
            "bin_start": 0.85,
            "bin_end": 0.8744999999999999,
            "count": 70
           },
           {
            "bin_start": 0.8744999999999999,
            "bin_end": 0.899,
            "count": 94
           },
           {
            "bin_start": 0.899,
            "bin_end": 0.9235,
            "count": 71
           },
           {
            "bin_start": 0.9235,
            "bin_end": 0.948,
            "count": 28
           }
          ]
         }
        },
        {
         "name": "Schooling",
         "dtype": "float64",
         "stats": {
          "unique_count": 80,
          "nan_count": 48,
          "min": "11.5",
          "max": "20.7",
          "histogram": [
           {
            "bin_start": 11.5,
            "bin_end": 12.42,
            "count": 6
           },
           {
            "bin_start": 12.42,
            "bin_end": 13.34,
            "count": 22
           },
           {
            "bin_start": 13.34,
            "bin_end": 14.26,
            "count": 58
           },
           {
            "bin_start": 14.26,
            "bin_end": 15.18,
            "count": 75
           },
           {
            "bin_start": 15.18,
            "bin_end": 16.1,
            "count": 111
           },
           {
            "bin_start": 16.1,
            "bin_end": 17.02,
            "count": 96
           },
           {
            "bin_start": 17.02,
            "bin_end": 17.939999999999998,
            "count": 37
           },
           {
            "bin_start": 17.939999999999998,
            "bin_end": 18.86,
            "count": 27
           },
           {
            "bin_start": 18.86,
            "bin_end": 19.78,
            "count": 19
           },
           {
            "bin_start": 19.78,
            "bin_end": 20.7,
            "count": 13
           }
          ]
         }
        },
        {
         "name": "_deepnote_index_column",
         "dtype": "int64"
        }
       ],
       "rows": [
        {
         "Country": "Singapore",
         "Year": 2005,
         "Status": "Developed",
         "Life expectancy": 82,
         "Adult Mortality": 69,
         "infant deaths": 0,
         "Alcohol": 1.49,
         "percentage expenditure": 2356.731479,
         "Hepatitis B": 96,
         "Measles": 33,
         "BMI": 3.2,
         "under-five deaths": 0,
         "Polio": 96,
         "Total expenditure": 3.74,
         "Diphtheria": 96,
         "HIV/AIDS": 0.1,
         "GDP": 29869.85398,
         "Population": "nan",
         "thinness  1-19 years": 2.1,
         "thinness 5-9 years": 2,
         "Income composition of resources": 0.821,
         "Schooling": 12.6,
         "_deepnote_index_column": 2323
        },
        {
         "Country": "Singapore",
         "Year": 2006,
         "Status": "Developed",
         "Life expectancy": 87,
         "Adult Mortality": 66,
         "infant deaths": 0,
         "Alcohol": 1.55,
         "percentage expenditure": 2639.376955,
         "Hepatitis B": 95,
         "Measles": 23,
         "BMI": 3.5,
         "under-five deaths": 0,
         "Polio": 95,
         "Total expenditure": 3.66,
         "Diphtheria": 95,
         "HIV/AIDS": 0.1,
         "GDP": 33579.85948,
         "Population": "nan",
         "thinness  1-19 years": 2.1,
         "thinness 5-9 years": 2,
         "Income composition of resources": 0.839,
         "Schooling": 13.9,
         "_deepnote_index_column": 2322
        },
        {
         "Country": "Singapore",
         "Year": 2007,
         "Status": "Developed",
         "Life expectancy": 81.1,
         "Adult Mortality": 65,
         "infant deaths": 0,
         "Alcohol": 1.6,
         "percentage expenditure": 3082.973535,
         "Hepatitis B": 96,
         "Measles": 15,
         "BMI": 3.9,
         "under-five deaths": 0,
         "Polio": 97,
         "Total expenditure": 3.46,
         "Diphtheria": 97,
         "HIV/AIDS": 0.1,
         "GDP": 39223.58187,
         "Population": "nan",
         "thinness  1-19 years": 2.1,
         "thinness 5-9 years": 2,
         "Income composition of resources": 0.873,
         "Schooling": 14.1,
         "_deepnote_index_column": 2321
        },
        {
         "Country": "Portugal",
         "Year": 2000,
         "Status": "Developed",
         "Life expectancy": 76.6,
         "Adult Mortality": 11,
         "infant deaths": 1,
         "Alcohol": 11.89,
         "percentage expenditure": 167.3280168,
         "Hepatitis B": 58,
         "Measles": 45,
         "BMI": 5.1,
         "under-five deaths": 1,
         "Polio": 96,
         "Total expenditure": 9.14,
         "Diphtheria": 96,
         "HIV/AIDS": 0.1,
         "GDP": 1152.39681,
         "Population": 1289898,
         "thinness  1-19 years": 0.8,
         "thinness 5-9 years": 0.6,
         "Income composition of resources": 0.777,
         "Schooling": 15.5,
         "_deepnote_index_column": 2070
        },
        {
         "Country": "Austria",
         "Year": 2000,
         "Status": "Developed",
         "Life expectancy": 78.1,
         "Adult Mortality": 96,
         "infant deaths": 0,
         "Alcohol": 13.2,
         "percentage expenditure": 3557.455507,
         "Hepatitis B": 33,
         "Measles": 0,
         "BMI": 5.1,
         "under-five deaths": 0,
         "Polio": 71,
         "Total expenditure": 1.6,
         "Diphtheria": 81,
         "HIV/AIDS": 0.1,
         "GDP": 24517.26745,
         "Population": 811566,
         "thinness  1-19 years": 1.7,
         "thinness 5-9 years": 1.9,
         "Income composition of resources": 0.833,
         "Schooling": 15.4,
         "_deepnote_index_column": 143
        },
        {
         "Country": "Austria",
         "Year": 2001,
         "Status": "Developed",
         "Life expectancy": 78.6,
         "Adult Mortality": 92,
         "infant deaths": 0,
         "Alcohol": 12.4,
         "percentage expenditure": 3582.848308,
         "Hepatitis B": 44,
         "Measles": 0,
         "BMI": 5.6,
         "under-five deaths": 0,
         "Polio": 83,
         "Total expenditure": 1.12,
         "Diphtheria": 84,
         "HIV/AIDS": 0.1,
         "GDP": 24489.73553,
         "Population": 842293,
         "thinness  1-19 years": 1.7,
         "thinness 5-9 years": 1.9,
         "Income composition of resources": 0.837,
         "Schooling": 15.5,
         "_deepnote_index_column": 142
        },
        {
         "Country": "Slovakia",
         "Year": 2000,
         "Status": "Developed",
         "Life expectancy": 73,
         "Adult Mortality": 147,
         "infant deaths": 0,
         "Alcohol": 11.06,
         "percentage expenditure": 0,
         "Hepatitis B": 98,
         "Measles": 0,
         "BMI": 5.7,
         "under-five deaths": 1,
         "Polio": 98,
         "Total expenditure": 5.5,
         "Diphtheria": 99,
         "HIV/AIDS": 0.1,
         "GDP": "nan",
         "Population": "nan",
         "thinness  1-19 years": 1.6,
         "thinness 5-9 years": 1.7,
         "Income composition of resources": 0.761,
         "Schooling": 13,
         "_deepnote_index_column": 2344
        },
        {
         "Country": "Switzerland",
         "Year": 2000,
         "Status": "Developed",
         "Life expectancy": 79.7,
         "Adult Mortality": 78,
         "infant deaths": 0,
         "Alcohol": 11.26,
         "percentage expenditure": 5834.582046,
         "Hepatitis B": 69.91666666666667,
         "Measles": 0,
         "BMI": 5.8,
         "under-five deaths": 0,
         "Polio": 95,
         "Total expenditure": 9.91,
         "Diphtheria": 93,
         "HIV/AIDS": 0.1,
         "GDP": 37813.23426,
         "Population": 718425,
         "thinness  1-19 years": 0.7,
         "thinness 5-9 years": 0.5,
         "Income composition of resources": 0.879,
         "Schooling": 15.1,
         "_deepnote_index_column": 2536
        },
        {
         "Country": "Portugal",
         "Year": 2001,
         "Status": "Developed",
         "Life expectancy": 76.9,
         "Adult Mortality": 11,
         "infant deaths": 1,
         "Alcohol": 12.22,
         "percentage expenditure": 1657.328352,
         "Hepatitis B": 7,
         "Measles": 0,
         "BMI": 5.9,
         "under-five deaths": 1,
         "Polio": 96,
         "Total expenditure": 9.1,
         "Diphtheria": 97,
         "HIV/AIDS": 0.1,
         "GDP": 11729.14616,
         "Population": 1362722,
         "thinness  1-19 years": 0.8,
         "thinness 5-9 years": 0.6,
         "Income composition of resources": 0.782,
         "Schooling": 15.7,
         "_deepnote_index_column": 2069
        },
        {
         "Country": "Croatia",
         "Year": 2009,
         "Status": "Developed",
         "Life expectancy": 76.3,
         "Adult Mortality": 19,
         "infant deaths": 0,
         "Alcohol": 12.21,
         "percentage expenditure": 2160.380199,
         "Hepatitis B": 97,
         "Measles": 2,
         "BMI": 6,
         "under-five deaths": 0,
         "Polio": 96,
         "Total expenditure": 8.18,
         "Diphtheria": 96,
         "HIV/AIDS": 0.1,
         "GDP": 14157.14416,
         "Population": 442978,
         "thinness  1-19 years": 1.7,
         "thinness 5-9 years": 1.6,
         "Income composition of resources": 0.803,
         "Schooling": 14.2,
         "_deepnote_index_column": 647
        }
       ]
      },
      "text/plain": "                       Country  Year     Status  Life expectancy  \\\n112                  Australia  2015  Developed             82.8   \n113                  Australia  2014  Developed             82.7   \n114                  Australia  2013  Developed             82.5   \n115                  Australia  2012  Developed             82.3   \n116                  Australia  2011  Developed             82.0   \n...                        ...   ...        ...              ...   \n2805  United States of America  2004  Developed             77.5   \n2806  United States of America  2003  Developed             77.2   \n2807  United States of America  2002  Developed             77.0   \n2808  United States of America  2001  Developed             76.9   \n2809  United States of America  2000  Developed             76.8   \n\n      Adult Mortality  infant deaths    Alcohol  percentage expenditure  \\\n112              59.0              1  10.155333                 0.00000   \n113               6.0              1   9.710000             10769.36305   \n114              61.0              1   9.870000             11734.85381   \n115              61.0              1  10.030000             11714.99858   \n116              63.0              1  10.300000             10986.26527   \n...               ...            ...        ...                     ...   \n2805            111.0             28   8.480000                 0.00000   \n2806            114.0             28   8.400000                 0.00000   \n2807            115.0             28   8.330000                 0.00000   \n2808            115.0             28   8.250000                 0.00000   \n2809            114.0             28   8.210000                 0.00000   \n\n      Hepatitis B  Measles  ...  Polio  Total expenditure  Diphtheria  \\\n112          93.0       74  ...   93.0                NaN        93.0   \n113          91.0      340  ...   92.0               9.42        92.0   \n114          91.0      158  ...   91.0               9.36        91.0   \n115          91.0      199  ...   92.0               9.36        92.0   \n116          92.0      190  ...   92.0               9.20        92.0   \n...           ...      ...  ...    ...                ...         ...   \n2805         92.0       37  ...   92.0              15.14        96.0   \n2806         92.0       56  ...   91.0              15.60        96.0   \n2807         88.0       41  ...    9.0              14.55        94.0   \n2808         89.0      116  ...   89.0              13.73        94.0   \n2809          9.0       85  ...    9.0              13.70        94.0   \n\n      HIV/AIDS          GDP  Population  thinness  1-19 years  \\\n112        0.1  56554.38760  23789338.0                   0.6   \n113        0.1  62214.69120   2346694.0                   0.6   \n114        0.1  67792.33860  23117353.0                   0.6   \n115        0.1  67677.63477  22728254.0                   0.6   \n116        0.1  62245.12900    223424.0                   0.6   \n...        ...          ...         ...                   ...   \n2805       0.1          NaN         NaN                   0.7   \n2806       0.1          NaN         NaN                   0.7   \n2807       0.1          NaN         NaN                   0.8   \n2808       0.1          NaN         NaN                   0.8   \n2809       0.1          NaN         NaN                   0.8   \n\n      thinness 5-9 years  Income composition of resources  Schooling  \n112                  0.6                            0.937       20.4  \n113                  0.6                            0.936       20.4  \n114                  0.6                            0.933       20.3  \n115                  0.6                            0.930       20.1  \n116                  0.6                            0.927       19.8  \n...                  ...                              ...        ...  \n2805                 0.6                              NaN        NaN  \n2806                 0.6                              NaN        NaN  \n2807                 0.6                              NaN        NaN  \n2808                 0.6                              NaN        NaN  \n2809                 0.7                              NaN        NaN  \n\n[512 rows x 22 columns]",
      "text/html": "<div>\n<style scoped>\n    .dataframe tbody tr th:only-of-type {\n        vertical-align: middle;\n    }\n\n    .dataframe tbody tr th {\n        vertical-align: top;\n    }\n\n    .dataframe thead th {\n        text-align: right;\n    }\n</style>\n<table border=\"1\" class=\"dataframe\">\n  <thead>\n    <tr style=\"text-align: right;\">\n      <th></th>\n      <th>Country</th>\n      <th>Year</th>\n      <th>Status</th>\n      <th>Life expectancy</th>\n      <th>Adult Mortality</th>\n      <th>infant deaths</th>\n      <th>Alcohol</th>\n      <th>percentage expenditure</th>\n      <th>Hepatitis B</th>\n      <th>Measles</th>\n      <th>...</th>\n      <th>Polio</th>\n      <th>Total expenditure</th>\n      <th>Diphtheria</th>\n      <th>HIV/AIDS</th>\n      <th>GDP</th>\n      <th>Population</th>\n      <th>thinness  1-19 years</th>\n      <th>thinness 5-9 years</th>\n      <th>Income composition of resources</th>\n      <th>Schooling</th>\n    </tr>\n  </thead>\n  <tbody>\n    <tr>\n      <th>112</th>\n      <td>Australia</td>\n      <td>2015</td>\n      <td>Developed</td>\n      <td>82.8</td>\n      <td>59.0</td>\n      <td>1</td>\n      <td>10.155333</td>\n      <td>0.00000</td>\n      <td>93.0</td>\n      <td>74</td>\n      <td>...</td>\n      <td>93.0</td>\n      <td>NaN</td>\n      <td>93.0</td>\n      <td>0.1</td>\n      <td>56554.38760</td>\n      <td>23789338.0</td>\n      <td>0.6</td>\n      <td>0.6</td>\n      <td>0.937</td>\n      <td>20.4</td>\n    </tr>\n    <tr>\n      <th>113</th>\n      <td>Australia</td>\n      <td>2014</td>\n      <td>Developed</td>\n      <td>82.7</td>\n      <td>6.0</td>\n      <td>1</td>\n      <td>9.710000</td>\n      <td>10769.36305</td>\n      <td>91.0</td>\n      <td>340</td>\n      <td>...</td>\n      <td>92.0</td>\n      <td>9.42</td>\n      <td>92.0</td>\n      <td>0.1</td>\n      <td>62214.69120</td>\n      <td>2346694.0</td>\n      <td>0.6</td>\n      <td>0.6</td>\n      <td>0.936</td>\n      <td>20.4</td>\n    </tr>\n    <tr>\n      <th>114</th>\n      <td>Australia</td>\n      <td>2013</td>\n      <td>Developed</td>\n      <td>82.5</td>\n      <td>61.0</td>\n      <td>1</td>\n      <td>9.870000</td>\n      <td>11734.85381</td>\n      <td>91.0</td>\n      <td>158</td>\n      <td>...</td>\n      <td>91.0</td>\n      <td>9.36</td>\n      <td>91.0</td>\n      <td>0.1</td>\n      <td>67792.33860</td>\n      <td>23117353.0</td>\n      <td>0.6</td>\n      <td>0.6</td>\n      <td>0.933</td>\n      <td>20.3</td>\n    </tr>\n    <tr>\n      <th>115</th>\n      <td>Australia</td>\n      <td>2012</td>\n      <td>Developed</td>\n      <td>82.3</td>\n      <td>61.0</td>\n      <td>1</td>\n      <td>10.030000</td>\n      <td>11714.99858</td>\n      <td>91.0</td>\n      <td>199</td>\n      <td>...</td>\n      <td>92.0</td>\n      <td>9.36</td>\n      <td>92.0</td>\n      <td>0.1</td>\n      <td>67677.63477</td>\n      <td>22728254.0</td>\n      <td>0.6</td>\n      <td>0.6</td>\n      <td>0.930</td>\n      <td>20.1</td>\n    </tr>\n    <tr>\n      <th>116</th>\n      <td>Australia</td>\n      <td>2011</td>\n      <td>Developed</td>\n      <td>82.0</td>\n      <td>63.0</td>\n      <td>1</td>\n      <td>10.300000</td>\n      <td>10986.26527</td>\n      <td>92.0</td>\n      <td>190</td>\n      <td>...</td>\n      <td>92.0</td>\n      <td>9.20</td>\n      <td>92.0</td>\n      <td>0.1</td>\n      <td>62245.12900</td>\n      <td>223424.0</td>\n      <td>0.6</td>\n      <td>0.6</td>\n      <td>0.927</td>\n      <td>19.8</td>\n    </tr>\n    <tr>\n      <th>...</th>\n      <td>...</td>\n      <td>...</td>\n      <td>...</td>\n      <td>...</td>\n      <td>...</td>\n      <td>...</td>\n      <td>...</td>\n      <td>...</td>\n      <td>...</td>\n      <td>...</td>\n      <td>...</td>\n      <td>...</td>\n      <td>...</td>\n      <td>...</td>\n      <td>...</td>\n      <td>...</td>\n      <td>...</td>\n      <td>...</td>\n      <td>...</td>\n      <td>...</td>\n      <td>...</td>\n    </tr>\n    <tr>\n      <th>2805</th>\n      <td>United States of America</td>\n      <td>2004</td>\n      <td>Developed</td>\n      <td>77.5</td>\n      <td>111.0</td>\n      <td>28</td>\n      <td>8.480000</td>\n      <td>0.00000</td>\n      <td>92.0</td>\n      <td>37</td>\n      <td>...</td>\n      <td>92.0</td>\n      <td>15.14</td>\n      <td>96.0</td>\n      <td>0.1</td>\n      <td>NaN</td>\n      <td>NaN</td>\n      <td>0.7</td>\n      <td>0.6</td>\n      <td>NaN</td>\n      <td>NaN</td>\n    </tr>\n    <tr>\n      <th>2806</th>\n      <td>United States of America</td>\n      <td>2003</td>\n      <td>Developed</td>\n      <td>77.2</td>\n      <td>114.0</td>\n      <td>28</td>\n      <td>8.400000</td>\n      <td>0.00000</td>\n      <td>92.0</td>\n      <td>56</td>\n      <td>...</td>\n      <td>91.0</td>\n      <td>15.60</td>\n      <td>96.0</td>\n      <td>0.1</td>\n      <td>NaN</td>\n      <td>NaN</td>\n      <td>0.7</td>\n      <td>0.6</td>\n      <td>NaN</td>\n      <td>NaN</td>\n    </tr>\n    <tr>\n      <th>2807</th>\n      <td>United States of America</td>\n      <td>2002</td>\n      <td>Developed</td>\n      <td>77.0</td>\n      <td>115.0</td>\n      <td>28</td>\n      <td>8.330000</td>\n      <td>0.00000</td>\n      <td>88.0</td>\n      <td>41</td>\n      <td>...</td>\n      <td>9.0</td>\n      <td>14.55</td>\n      <td>94.0</td>\n      <td>0.1</td>\n      <td>NaN</td>\n      <td>NaN</td>\n      <td>0.8</td>\n      <td>0.6</td>\n      <td>NaN</td>\n      <td>NaN</td>\n    </tr>\n    <tr>\n      <th>2808</th>\n      <td>United States of America</td>\n      <td>2001</td>\n      <td>Developed</td>\n      <td>76.9</td>\n      <td>115.0</td>\n      <td>28</td>\n      <td>8.250000</td>\n      <td>0.00000</td>\n      <td>89.0</td>\n      <td>116</td>\n      <td>...</td>\n      <td>89.0</td>\n      <td>13.73</td>\n      <td>94.0</td>\n      <td>0.1</td>\n      <td>NaN</td>\n      <td>NaN</td>\n      <td>0.8</td>\n      <td>0.6</td>\n      <td>NaN</td>\n      <td>NaN</td>\n    </tr>\n    <tr>\n      <th>2809</th>\n      <td>United States of America</td>\n      <td>2000</td>\n      <td>Developed</td>\n      <td>76.8</td>\n      <td>114.0</td>\n      <td>28</td>\n      <td>8.210000</td>\n      <td>0.00000</td>\n      <td>9.0</td>\n      <td>85</td>\n      <td>...</td>\n      <td>9.0</td>\n      <td>13.70</td>\n      <td>94.0</td>\n      <td>0.1</td>\n      <td>NaN</td>\n      <td>NaN</td>\n      <td>0.8</td>\n      <td>0.7</td>\n      <td>NaN</td>\n      <td>NaN</td>\n    </tr>\n  </tbody>\n</table>\n<p>512 rows × 22 columns</p>\n</div>"
     },
     "metadata": {}
    }
   ],
   "execution_count": null
  },
  {
   "cell_type": "markdown",
   "source": "* V datech je zřejmě chyba, neboť zde pozoruji vyspělé země, které mají zaznamenané 'BMI' menší, než 10, což není vůbec důvěryhodné. \n* Tento sloupec proto vynásobím číslem 10, je-li aktuální hodnota 'BMI' < 10.",
   "metadata": {
    "tags": [],
    "cell_id": "00038-2e4b0bc3-5cf7-42ec-a885-84ce34bb8ba4",
    "deepnote_cell_type": "markdown"
   }
  },
  {
   "cell_type": "code",
   "metadata": {
    "tags": [],
    "cell_id": "00039-d9ee166e-08df-4c02-b4c4-cf5fad2b5ef2",
    "deepnote_to_be_reexecuted": false,
    "source_hash": "814db7a4",
    "execution_start": 1640535845610,
    "execution_millis": 177231,
    "deepnote_output_heights": [
     232.390625
    ],
    "deepnote_cell_type": "code"
   },
   "source": "df.loc[df['BMI'] < 10, 'BMI'] = df.loc[df['BMI'] < 10, 'BMI'].apply(lambda x: x * 10)",
   "outputs": [],
   "execution_count": null
  },
  {
   "cell_type": "code",
   "metadata": {
    "tags": [],
    "cell_id": "00040-9acd4332-6cbc-4ab3-aa73-cc6581c11dd9",
    "deepnote_to_be_reexecuted": false,
    "source_hash": "226fd6fd",
    "execution_start": 1640535845624,
    "execution_millis": 177244,
    "deepnote_output_heights": [
     21.1875
    ],
    "deepnote_cell_type": "code"
   },
   "source": "df['BMI'].isna().sum()",
   "outputs": [
    {
     "output_type": "execute_result",
     "execution_count": 26,
     "data": {
      "text/plain": "32"
     },
     "metadata": {}
    }
   ],
   "execution_count": null
  },
  {
   "cell_type": "markdown",
   "source": "* Nyní se zbavím 32 nedefinovaných hodnot v 'BMI'.",
   "metadata": {
    "tags": [],
    "cell_id": "00041-4792876a-9f1f-4a3f-b0a3-14bc377f63db",
    "deepnote_cell_type": "markdown"
   }
  },
  {
   "cell_type": "code",
   "metadata": {
    "tags": [],
    "cell_id": "00042-3a89642c-ecb5-402f-9015-3f45b5c777a3",
    "deepnote_to_be_reexecuted": false,
    "source_hash": "530bca0e",
    "execution_start": 1640535845635,
    "execution_millis": 250,
    "deepnote_output_heights": [
     21.1875
    ],
    "deepnote_cell_type": "code"
   },
   "source": "df[df['BMI'].isna()]['Country'].unique()",
   "outputs": [
    {
     "output_type": "execute_result",
     "execution_count": 27,
     "data": {
      "text/plain": "array(['South Sudan', 'Sudan'], dtype=object)"
     },
     "metadata": {}
    }
   ],
   "execution_count": null
  },
  {
   "cell_type": "markdown",
   "source": "* Udělám to podobně, jako s 'Hepatitis B'.",
   "metadata": {
    "tags": [],
    "cell_id": "00043-a7dccfc8-c21e-4f2b-9a60-700e8c99b25b",
    "deepnote_cell_type": "markdown"
   }
  },
  {
   "cell_type": "code",
   "metadata": {
    "tags": [],
    "cell_id": "00044-55fc4072-b6e9-4961-a14c-a1ce0a5e42b7",
    "deepnote_to_be_reexecuted": false,
    "source_hash": "d4b9bed8",
    "execution_start": 1640535845646,
    "execution_millis": 241,
    "deepnote_output_heights": [
     21.1875
    ],
    "deepnote_cell_type": "code"
   },
   "source": "# sudan_means - list, který v sobě má průměrné BMI \n#               zemí, které jsou Sudánu podobné\nsudan_means = []\nsudan_means.append(df[df['Country'] == 'Chad']['BMI'].mean())\nsudan_means.append(df[df['Country'] == 'Somalia']['BMI'].mean())\nsudan_means.append(df[df['Country'] == 'Ethiopia']['BMI'].mean())\nsudan_means.append(df[df['Country'] == 'Eritrea']['BMI'].mean())\nsudan_means.append(df[df['Country'] == 'Mauritania']['BMI'].mean())",
   "outputs": [],
   "execution_count": null
  },
  {
   "cell_type": "code",
   "metadata": {
    "tags": [],
    "cell_id": "00045-ad1c88be-d958-49f5-b7aa-45f8ebdc6cb3",
    "deepnote_to_be_reexecuted": false,
    "source_hash": "b39fc2ff",
    "execution_start": 1640535845659,
    "execution_millis": 5,
    "deepnote_output_heights": [
     21.1875
    ],
    "deepnote_cell_type": "code"
   },
   "source": "# zprůměruji průměrné BMI zemí, které jsou Sudánu podobné\nsudan_bmi = sum(sudan_means)/len(sudan_means)",
   "outputs": [],
   "execution_count": null
  },
  {
   "cell_type": "code",
   "metadata": {
    "tags": [],
    "cell_id": "00045-22102bcf-16c0-40c3-925b-8581e8563916",
    "deepnote_to_be_reexecuted": false,
    "source_hash": "19e182d9",
    "execution_start": 1640535845671,
    "execution_millis": 7,
    "deepnote_output_heights": [
     328.390625
    ],
    "deepnote_cell_type": "code"
   },
   "source": "# Sudan\ndf.loc[df['Country'] == 'Sudan', 'BMI']       = df.loc[df['Country'] == 'Sudan',       'BMI'].apply(lambda x: sudan_bmi)\n\n# South Sudan\ndf.loc[df['Country'] == 'South Sudan', 'BMI'] = df.loc[df['Country'] == 'South Sudan', 'BMI'].apply(lambda x: sudan_bmi)",
   "outputs": [],
   "execution_count": null
  },
  {
   "cell_type": "markdown",
   "source": "* Příznak 'Polio' je na řadě.",
   "metadata": {
    "tags": [],
    "cell_id": "00047-7f8fc0a4-65f8-45bf-9ca3-89c44dc35e13",
    "deepnote_cell_type": "markdown"
   }
  },
  {
   "cell_type": "code",
   "metadata": {
    "tags": [],
    "cell_id": "00047-8f67951f-e307-47f9-b43c-0a474184c930",
    "deepnote_to_be_reexecuted": false,
    "source_hash": "d6a006e2",
    "execution_start": 1640535845695,
    "execution_millis": 47,
    "deepnote_cell_type": "code"
   },
   "source": "df[df['Country'] == 'Afghanistan'][['Year', 'Polio']]",
   "outputs": [
    {
     "output_type": "execute_result",
     "execution_count": 31,
     "data": {
      "application/vnd.deepnote.dataframe.v3+json": {
       "column_count": 2,
       "row_count": 16,
       "columns": [
        {
         "name": "Year",
         "dtype": "int64",
         "stats": {
          "unique_count": 16,
          "nan_count": 0,
          "min": "2000",
          "max": "2015",
          "histogram": [
           {
            "bin_start": 2000,
            "bin_end": 2001.5,
            "count": 2
           },
           {
            "bin_start": 2001.5,
            "bin_end": 2003,
            "count": 1
           },
           {
            "bin_start": 2003,
            "bin_end": 2004.5,
            "count": 2
           },
           {
            "bin_start": 2004.5,
            "bin_end": 2006,
            "count": 1
           },
           {
            "bin_start": 2006,
            "bin_end": 2007.5,
            "count": 2
           },
           {
            "bin_start": 2007.5,
            "bin_end": 2009,
            "count": 1
           },
           {
            "bin_start": 2009,
            "bin_end": 2010.5,
            "count": 2
           },
           {
            "bin_start": 2010.5,
            "bin_end": 2012,
            "count": 1
           },
           {
            "bin_start": 2012,
            "bin_end": 2013.5,
            "count": 2
           },
           {
            "bin_start": 2013.5,
            "bin_end": 2015,
            "count": 2
           }
          ]
         }
        },
        {
         "name": "Polio",
         "dtype": "float64",
         "stats": {
          "unique_count": 13,
          "nan_count": 0,
          "min": "5.0",
          "max": "68.0",
          "histogram": [
           {
            "bin_start": 5,
            "bin_end": 11.3,
            "count": 2
           },
           {
            "bin_start": 11.3,
            "bin_end": 17.6,
            "count": 0
           },
           {
            "bin_start": 17.6,
            "bin_end": 23.9,
            "count": 0
           },
           {
            "bin_start": 23.9,
            "bin_end": 30.2,
            "count": 1
           },
           {
            "bin_start": 30.2,
            "bin_end": 36.5,
            "count": 2
           },
           {
            "bin_start": 36.5,
            "bin_end": 42.8,
            "count": 1
           },
           {
            "bin_start": 42.8,
            "bin_end": 49.1,
            "count": 0
           },
           {
            "bin_start": 49.1,
            "bin_end": 55.4,
            "count": 0
           },
           {
            "bin_start": 55.4,
            "bin_end": 61.699999999999996,
            "count": 3
           },
           {
            "bin_start": 61.699999999999996,
            "bin_end": 68,
            "count": 7
           }
          ]
         }
        },
        {
         "name": "_deepnote_index_column",
         "dtype": "int64"
        }
       ],
       "rows": [
        {
         "Year": 2015,
         "Polio": 6,
         "_deepnote_index_column": 0
        },
        {
         "Year": 2014,
         "Polio": 58,
         "_deepnote_index_column": 1
        },
        {
         "Year": 2013,
         "Polio": 62,
         "_deepnote_index_column": 2
        },
        {
         "Year": 2012,
         "Polio": 67,
         "_deepnote_index_column": 3
        },
        {
         "Year": 2011,
         "Polio": 68,
         "_deepnote_index_column": 4
        },
        {
         "Year": 2010,
         "Polio": 66,
         "_deepnote_index_column": 5
        },
        {
         "Year": 2009,
         "Polio": 63,
         "_deepnote_index_column": 6
        },
        {
         "Year": 2008,
         "Polio": 64,
         "_deepnote_index_column": 7
        },
        {
         "Year": 2007,
         "Polio": 63,
         "_deepnote_index_column": 8
        },
        {
         "Year": 2006,
         "Polio": 58,
         "_deepnote_index_column": 9
        }
       ]
      },
      "text/plain": "    Year  Polio\n0   2015    6.0\n1   2014   58.0\n2   2013   62.0\n3   2012   67.0\n4   2011   68.0\n5   2010   66.0\n6   2009   63.0\n7   2008   64.0\n8   2007   63.0\n9   2006   58.0\n10  2005   58.0\n11  2004    5.0\n12  2003   41.0\n13  2002   36.0\n14  2001   35.0\n15  2000   24.0",
      "text/html": "<div>\n<style scoped>\n    .dataframe tbody tr th:only-of-type {\n        vertical-align: middle;\n    }\n\n    .dataframe tbody tr th {\n        vertical-align: top;\n    }\n\n    .dataframe thead th {\n        text-align: right;\n    }\n</style>\n<table border=\"1\" class=\"dataframe\">\n  <thead>\n    <tr style=\"text-align: right;\">\n      <th></th>\n      <th>Year</th>\n      <th>Polio</th>\n    </tr>\n  </thead>\n  <tbody>\n    <tr>\n      <th>0</th>\n      <td>2015</td>\n      <td>6.0</td>\n    </tr>\n    <tr>\n      <th>1</th>\n      <td>2014</td>\n      <td>58.0</td>\n    </tr>\n    <tr>\n      <th>2</th>\n      <td>2013</td>\n      <td>62.0</td>\n    </tr>\n    <tr>\n      <th>3</th>\n      <td>2012</td>\n      <td>67.0</td>\n    </tr>\n    <tr>\n      <th>4</th>\n      <td>2011</td>\n      <td>68.0</td>\n    </tr>\n    <tr>\n      <th>5</th>\n      <td>2010</td>\n      <td>66.0</td>\n    </tr>\n    <tr>\n      <th>6</th>\n      <td>2009</td>\n      <td>63.0</td>\n    </tr>\n    <tr>\n      <th>7</th>\n      <td>2008</td>\n      <td>64.0</td>\n    </tr>\n    <tr>\n      <th>8</th>\n      <td>2007</td>\n      <td>63.0</td>\n    </tr>\n    <tr>\n      <th>9</th>\n      <td>2006</td>\n      <td>58.0</td>\n    </tr>\n    <tr>\n      <th>10</th>\n      <td>2005</td>\n      <td>58.0</td>\n    </tr>\n    <tr>\n      <th>11</th>\n      <td>2004</td>\n      <td>5.0</td>\n    </tr>\n    <tr>\n      <th>12</th>\n      <td>2003</td>\n      <td>41.0</td>\n    </tr>\n    <tr>\n      <th>13</th>\n      <td>2002</td>\n      <td>36.0</td>\n    </tr>\n    <tr>\n      <th>14</th>\n      <td>2001</td>\n      <td>35.0</td>\n    </tr>\n    <tr>\n      <th>15</th>\n      <td>2000</td>\n      <td>24.0</td>\n    </tr>\n  </tbody>\n</table>\n</div>"
     },
     "metadata": {}
    }
   ],
   "execution_count": null
  },
  {
   "cell_type": "markdown",
   "source": "* Je nelogické, aby Afghanistan měl skoro deset let v kuse stabilních ~60% proočkovanosati jednoletých dětí a pak z ničeho nic v roce 2015 ta proočkovanost kleska na 6%.\n* Problém budu řešit podobně, jako s 'BMI' - t.j. vynásobím číslem 10, je-li 'Polio' menší než 10 a zároveň výrazně menší, než průměr v té zemi.",
   "metadata": {
    "tags": [],
    "cell_id": "00049-1b9acf05-71a2-4e24-abf5-1535ee9fce3e",
    "deepnote_cell_type": "markdown"
   }
  },
  {
   "cell_type": "code",
   "metadata": {
    "tags": [],
    "cell_id": "00057-5feca512-c97a-4adb-a498-c9ad0715263f",
    "deepnote_to_be_reexecuted": false,
    "source_hash": "ba55be38",
    "execution_start": 1640535845752,
    "execution_millis": 207,
    "deepnote_output_heights": [
     611
    ],
    "deepnote_cell_type": "code"
   },
   "source": "tmp = df[df['Polio'] < 10][['Country', 'Polio']].to_numpy()\n\nfor i in tmp:\n    if i[1] <= df[df['Country'] == i[0]]['Polio'].mean():\n        i[1] = i[1] * 10",
   "outputs": [],
   "execution_count": null
  },
  {
   "cell_type": "code",
   "metadata": {
    "tags": [],
    "cell_id": "00057-834be84e-0d24-4795-9433-f2d762582124",
    "deepnote_to_be_reexecuted": false,
    "source_hash": "91b12e8",
    "execution_start": 1640535845960,
    "execution_millis": 14,
    "deepnote_output_heights": [
     611
    ],
    "is_output_hidden": true,
    "deepnote_cell_type": "code"
   },
   "source": "tmp",
   "outputs": [
    {
     "output_type": "execute_result",
     "execution_count": 33,
     "data": {
      "text/plain": "array([['Afghanistan', 60.0],\n       ['Afghanistan', 50.0],\n       ['Angola', 70.0],\n       ['Angola', 40.0],\n       ['Angola', 40.0],\n       ['Angola', 30.0],\n       ['Armenia', 90.0],\n       ['Australia', 90.0],\n       ['Azerbaijan', 80.0],\n       ['Azerbaijan', 80.0],\n       ['Bangladesh', 90.0],\n       ['Barbados', 90.0],\n       ['Barbados', 90.0],\n       ['Belarus', 90.0],\n       ['Benin', 80.0],\n       ['Benin', 80.0],\n       ['Bhutan', 90.0],\n       ['Bolivia (Plurinational State of)', 90.0],\n       ['Bosnia and Herzegovina', 90.0],\n       ['Bosnia and Herzegovina', 90.0],\n       ['Burkina Faso', 90.0],\n       ['Burkina Faso', 90.0],\n       ['Burkina Faso', 90.0],\n       [\"Côte d'Ivoire\", 70.0],\n       [\"Côte d'Ivoire\", 70.0],\n       ['Cabo Verde', 90.0],\n       ['Cabo Verde', 90.0],\n       ['Cambodia', 80.0],\n       ['Cameroon', 80.0],\n       ['Canada', 90.0],\n       ['Central African Republic', 40.0],\n       ['Chad', 40.0],\n       ['Chad', 30.0],\n       ['Chad', 30.0],\n       ['Chile', 90.0],\n       ['Chile', 90.0],\n       ['Colombia', 90.0],\n       ['Comoros', 80.0],\n       ['Comoros', 70.0],\n       ['Comoros', 70.0],\n       ['Congo', 80.0],\n       ['Congo', 90.0],\n       ['Congo', 50.0],\n       ['Costa Rica', 90.0],\n       ['Costa Rica', 80.0],\n       ['Costa Rica', 90.0],\n       ['Costa Rica', 80.0],\n       ['Democratic Republic of the Congo', 60.0],\n       ['Democratic Republic of the Congo', 40.0],\n       ['Democratic Republic of the Congo', 30.0],\n       ['Denmark', 90.0],\n       ['Dominican Republic', 90.0],\n       ['Ecuador', 90.0],\n       ['Ecuador', 90.0],\n       ['El Salvador', 90.0],\n       ['El Salvador', 90.0],\n       ['Equatorial Guinea', 30.0],\n       ['Equatorial Guinea', 30.0],\n       ['Equatorial Guinea', 50.0],\n       ['Eritrea', 90.0],\n       ['Ethiopia', 70.0],\n       ['Ethiopia', 70.0],\n       ['Ethiopia', 70.0],\n       ['Gabon', 80.0],\n       ['Georgia', 90.0],\n       ['Ghana', 80.0],\n       ['Ghana', 80.0],\n       ['Greece', 90.0],\n       ['Guatemala', 90.0],\n       ['Guatemala', 90.0],\n       ['Guatemala', 80.0],\n       ['Guinea', 60.0],\n       ['Guyana', 90.0],\n       ['Haiti', 60.0],\n       ['Haiti', 50.0],\n       ['Iceland', 90.0],\n       ['Indonesia', 80.0],\n       ['Indonesia', 80.0],\n       ['Indonesia', 80.0],\n       ['Indonesia', 80.0],\n       ['Iraq', 70.0],\n       ['Iraq', 70.0],\n       ['Iraq', 80.0],\n       ['Iraq', 80.0],\n       ['Ireland', 90.0],\n       ['Jamaica', 90.0],\n       ['Kenya', 90.0],\n       ['Kenya', 70.0],\n       ['Kenya', 80.0],\n       ['Kiribati', 80.0],\n       ['Kiribati', 90.0],\n       [\"Lao People's Democratic Republic\", 60.0],\n       [\"Lao People's Democratic Republic\", 50.0],\n       ['Lebanon', 80.0],\n       ['Lesotho', 90.0],\n       ['Lesotho', 90.0],\n       ['Lesotho', 90.0],\n       ['Lesotho', 90.0],\n       ['Liberia', 80.0],\n       ['Lithuania', 90.0],\n       ['Madagascar', 70.0],\n       ['Madagascar', 80.0],\n       ['Madagascar', 60.0],\n       ['Mali', 70.0],\n       ['Mali', 70.0],\n       ['Mauritania', 80.0],\n       ['Mauritania', 80.0],\n       ['Montenegro', 90.0],\n       ['Mozambique', 80.0],\n       ['Myanmar', 90.0],\n       ['Myanmar', 90.0],\n       ['Myanmar', 90.0],\n       ['Namibia', 80.0],\n       ['Nepal', 90.0],\n       ['Nepal', 90.0],\n       ['Nepal', 80.0],\n       ['Nicaragua', 80.0],\n       ['Niger', 40.0],\n       ['Nigeria', 60.0],\n       ['Nigeria', 40.0],\n       ['Pakistan', 70.0],\n       ['Pakistan', 70.0],\n       ['Panama', 80.0],\n       ['Papua New Guinea', 80.0],\n       ['Paraguay', 80.0],\n       ['Paraguay', 90.0],\n       ['Peru', 90.0],\n       ['Philippines', 90.0],\n       ['Republic of Korea', 90.0],\n       ['Rwanda', 90.0],\n       ['Saint Lucia', 90.0],\n       ['Saint Lucia', 70.0],\n       ['Samoa', 60.0],\n       ['Sao Tome and Principe', 90.0],\n       ['Senegal', 60.0],\n       ['Solomon Islands', 90.0],\n       ['Somalia', 40.0],\n       ['Somalia', 40.0],\n       ['Somalia', 30.0],\n       ['Somalia', 40.0],\n       ['Somalia', 40.0],\n       ['South Africa', 70.0],\n       ['South Africa', 70.0],\n       ['South Sudan', 50.0],\n       ['Sudan', 90.0],\n       ['Sudan', 60.0],\n       ['Suriname', 70.0],\n       ['Syrian Arab Republic', 50.0],\n       ['Syrian Arab Republic', 50.0],\n       ['Syrian Arab Republic', 60.0],\n       ['Timor-Leste', 70.0],\n       ['Togo', 80.0],\n       ['Togo', 80.0],\n       ['Tonga', 80.0],\n       ['Tonga', 90.0],\n       ['Trinidad and Tobago', 90.0],\n       ['Trinidad and Tobago', 90.0],\n       ['Trinidad and Tobago', 90.0],\n       ['Turkey', 90.0],\n       ['Turkey', 90.0],\n       ['Uganda', 70.0],\n       ['United Republic of Tanzania', 90.0],\n       ['United States of America', 90.0],\n       ['United States of America', 90.0],\n       ['Venezuela (Bolivarian Republic of)', 80.0],\n       ['Yemen', 80.0],\n       ['Zambia', 90.0],\n       ['Zambia', 70.0],\n       ['Zambia', 80.0],\n       ['Zambia', 90.0],\n       ['Zimbabwe', 70.0]], dtype=object)"
     },
     "metadata": {}
    }
   ],
   "execution_count": null
  },
  {
   "cell_type": "code",
   "metadata": {
    "tags": [],
    "cell_id": "00058-816de999-c98b-4451-84a5-5782db1cefdc",
    "deepnote_to_be_reexecuted": false,
    "source_hash": "7e84cf69",
    "execution_start": 1640535846054,
    "execution_millis": 177307,
    "deepnote_output_heights": [
     232.390625
    ],
    "deepnote_cell_type": "code"
   },
   "source": "df.loc[df['Polio'] < 10, 'Polio'] = pd.DataFrame(tmp, columns=['Country', 'Polio'])['Polio']",
   "outputs": [],
   "execution_count": null
  },
  {
   "cell_type": "code",
   "metadata": {
    "tags": [],
    "cell_id": "00059-0a2a18cf-91a1-4c72-802d-4cbfe2273f50",
    "deepnote_to_be_reexecuted": false,
    "source_hash": "1db61e4",
    "execution_start": 1640535846090,
    "execution_millis": 177285,
    "deepnote_output_heights": [
     232.390625
    ],
    "deepnote_cell_type": "code"
   },
   "source": "df['Polio'] = df['Polio'].astype('float')",
   "outputs": [],
   "execution_count": null
  },
  {
   "cell_type": "markdown",
   "source": "* Nyní se ještě musím vypořádat s nan.",
   "metadata": {
    "tags": [],
    "cell_id": "00054-d30b29eb-fc46-4bf2-9309-57ce8c0d5bef",
    "deepnote_cell_type": "markdown"
   }
  },
  {
   "cell_type": "code",
   "metadata": {
    "tags": [],
    "cell_id": "00055-e28373a8-3b17-4a09-bc8d-4a567bba556c",
    "deepnote_to_be_reexecuted": false,
    "source_hash": "8c2bfc32",
    "execution_start": 1640535846122,
    "execution_millis": 177296,
    "deepnote_output_heights": [
     443.3125
    ],
    "deepnote_cell_type": "code"
   },
   "source": "df[df['Polio'].isna()]['Country'].unique()",
   "outputs": [
    {
     "output_type": "execute_result",
     "execution_count": 36,
     "data": {
      "text/plain": "array(['Bangladesh', 'Barbados', 'Belarus', 'Benin', 'Bhutan',\n       'Bolivia (Plurinational State of)', 'Bosnia and Herzegovina',\n       'Burkina Faso', \"Côte d'Ivoire\", 'Cabo Verde', 'Cambodia',\n       'Cameroon', 'Canada', 'Central African Republic', 'Chad', 'Chile',\n       'Colombia', 'Comoros', 'Congo', 'Costa Rica',\n       'Democratic Republic of the Congo', 'Denmark',\n       'Dominican Republic', 'Ecuador', 'El Salvador',\n       'Equatorial Guinea', 'Eritrea', 'Ethiopia', 'Gabon', 'Georgia',\n       'Ghana', 'Greece', 'Guatemala', 'Guinea', 'Guyana', 'Haiti',\n       'Iceland', 'Indonesia', 'Iraq', 'Ireland', 'Jamaica', 'Kenya',\n       'Kiribati', \"Lao People's Democratic Republic\", 'Lebanon',\n       'Lesotho', 'Liberia', 'Lithuania', 'Madagascar', 'Mali',\n       'Mauritania', 'Montenegro', 'Mozambique', 'Myanmar', 'Namibia',\n       'Nepal', 'Nicaragua', 'Niger', 'Nigeria', 'Pakistan', 'Panama',\n       'Papua New Guinea', 'Paraguay', 'Peru', 'Philippines',\n       'Republic of Korea', 'Rwanda', 'Saint Lucia', 'Samoa',\n       'Sao Tome and Principe', 'Senegal', 'Solomon Islands', 'Somalia',\n       'South Africa', 'South Sudan', 'Sudan', 'Suriname',\n       'Syrian Arab Republic', 'Timor-Leste', 'Togo', 'Tonga',\n       'Trinidad and Tobago', 'Turkey', 'Uganda',\n       'United Republic of Tanzania', 'United States of America',\n       'Venezuela (Bolivarian Republic of)', 'Yemen', 'Zambia',\n       'Zimbabwe'], dtype=object)"
     },
     "metadata": {}
    }
   ],
   "execution_count": null
  },
  {
   "cell_type": "code",
   "metadata": {
    "tags": [],
    "cell_id": "00058-3115c4aa-7645-42a9-98e7-210294869ef1",
    "deepnote_to_be_reexecuted": false,
    "source_hash": "71104adc",
    "execution_start": 1640535846123,
    "execution_millis": 177299,
    "deepnote_output_heights": [
     21.1875
    ],
    "deepnote_cell_type": "code"
   },
   "source": "df['Polio'].corr(df['Life expectancy'])",
   "outputs": [
    {
     "output_type": "execute_result",
     "execution_count": 37,
     "data": {
      "text/plain": "0.6159090156051624"
     },
     "metadata": {}
    }
   ],
   "execution_count": null
  },
  {
   "cell_type": "code",
   "metadata": {
    "tags": [],
    "cell_id": "00059-0e11770f-0ce6-40b2-ab00-47bf719da4b3",
    "deepnote_to_be_reexecuted": false,
    "source_hash": "a27d2da4",
    "execution_start": 1640535846124,
    "execution_millis": 177325,
    "deepnote_cell_type": "code"
   },
   "source": "df.loc[df['Polio'].isna(), 'Polio'] = df['Polio'].mean()",
   "outputs": [],
   "execution_count": null
  },
  {
   "cell_type": "code",
   "metadata": {
    "tags": [],
    "cell_id": "00060-a5336f4c-7064-42fd-88dd-7b948bd12ecd",
    "deepnote_to_be_reexecuted": false,
    "source_hash": "71104adc",
    "execution_start": 1640535846131,
    "execution_millis": 177278,
    "deepnote_output_heights": [
     21.1875
    ],
    "deepnote_cell_type": "code"
   },
   "source": "df['Polio'].corr(df['Life expectancy'])",
   "outputs": [
    {
     "output_type": "execute_result",
     "execution_count": 39,
     "data": {
      "text/plain": "0.591677748558488"
     },
     "metadata": {}
    }
   ],
   "execution_count": null
  },
  {
   "cell_type": "markdown",
   "source": "* Nahrazení všech nan hodnot společným průměrem korelaci mezi 'Polio' a 'Life expectancy' nijak extra neovlivnilo (o ~0.024). Nechám to tedy takhle naivně.",
   "metadata": {
    "tags": [],
    "cell_id": "00061-00a689d7-b835-4a55-b363-2325e612423b",
    "deepnote_cell_type": "markdown"
   }
  },
  {
   "cell_type": "markdown",
   "source": "* Detekuji příznaky, které slabě korelují s vysvětlovanou proměnnou 'Life expectancy' a zbavím se jich (vyjma 'Population').",
   "metadata": {
    "tags": [],
    "cell_id": "00058-c91c4054-5233-4217-ba57-bcd04aefaf44",
    "deepnote_cell_type": "markdown"
   }
  },
  {
   "cell_type": "code",
   "metadata": {
    "tags": [],
    "cell_id": "00057-74435928-d6a0-4146-943f-6bcd5ebce8ff",
    "deepnote_to_be_reexecuted": false,
    "source_hash": "84e89ae3",
    "execution_start": 1640535846135,
    "execution_millis": 4,
    "deepnote_output_heights": [
     409,
     409,
     409
    ],
    "deepnote_cell_type": "code"
   },
   "source": "cols_to_drop = []\n\nfor i in df.columns:\n    if df[i].dtype == 'O':\n        continue\n    if abs(df['Life expectancy'].corr(df[i])) <= 0.249:\n        cols_to_drop.append(i)\n\n\n# příznaku 'Population' se zatím zbavovat nebudu, \n# zkusím si ještě pohrát s tím bordelem, který se v tom sloupci děje\n\ncols_to_drop.remove('Population')\nprint(cols_to_drop)",
   "outputs": [
    {
     "name": "stdout",
     "text": "['Year', 'infant deaths', 'Measles', 'under-five deaths', 'Total expenditure']\n",
     "output_type": "stream",
     "data": {}
    }
   ],
   "execution_count": null
  },
  {
   "cell_type": "code",
   "source": "import seaborn as sb\n\ndf.drop(columns=cols_to_drop, inplace=True)\nsb.heatmap(df.corr(), cmap=\"BuPu\")",
   "metadata": {
    "tags": [],
    "cell_id": "00061-f095aaef-90f7-483f-8bbc-866f18602038",
    "deepnote_to_be_reexecuted": false,
    "source_hash": "c8b469f2",
    "execution_start": 1640535846189,
    "execution_millis": 2513,
    "deepnote_output_heights": [
     21.1875,
     409
    ],
    "deepnote_cell_type": "code"
   },
   "outputs": [
    {
     "output_type": "execute_result",
     "execution_count": 41,
     "data": {
      "text/plain": "<AxesSubplot:>"
     },
     "metadata": {}
    },
    {
     "data": {
      "text/plain": "<Figure size 432x288 with 2 Axes>",
      "image/png": "[encoded data removed]"
     },
     "metadata": {
      "needs_background": "light",
      "image/png": {
       "width": 512,
       "height": 407
      }
     },
     "output_type": "display_data"
    }
   ],
   "execution_count": null
  },
  {
   "cell_type": "markdown",
   "source": "* Zakoduji 'Status'.",
   "metadata": {
    "tags": [],
    "cell_id": "00063-d20afb57-4d28-4301-a686-f094b5fe64b0",
    "deepnote_cell_type": "markdown"
   }
  },
  {
   "cell_type": "code",
   "metadata": {
    "tags": [],
    "cell_id": "00060-add2df71-0e02-4373-b11f-b3535de092ec",
    "deepnote_to_be_reexecuted": false,
    "source_hash": "1dd9e841",
    "execution_start": 1640535848705,
    "execution_millis": 177486,
    "deepnote_cell_type": "code"
   },
   "source": "# Developed  --> 0\n# Developing --> 1\n\ndf['Status'] = df.Status.astype('category').cat.codes",
   "outputs": [],
   "execution_count": null
  },
  {
   "cell_type": "markdown",
   "source": "* Vyřeším 'GDP'.",
   "metadata": {
    "tags": [],
    "cell_id": "00065-7c2a0da2-7cba-4842-9ede-2eb0a63f23a2",
    "deepnote_cell_type": "markdown"
   }
  },
  {
   "cell_type": "markdown",
   "source": "* Prvně se pokusím napravit chybu v datech (např. u Německa je GDP jednou ~4000, jindy zase správně ~40000).",
   "metadata": {
    "tags": [],
    "cell_id": "00066-d8777a66-dac0-4aa9-b739-8fb821cb081e",
    "deepnote_cell_type": "markdown"
   }
  },
  {
   "cell_type": "code",
   "metadata": {
    "tags": [],
    "cell_id": "00066-665c2a42-6811-4614-b3ed-5db0dc3f040f",
    "deepnote_to_be_reexecuted": false,
    "source_hash": "790145ec",
    "execution_start": 1640535848718,
    "execution_millis": 15,
    "deepnote_output_heights": [
     611
    ],
    "deepnote_cell_type": "code"
   },
   "source": "gdp_dict = df[['Country', 'GDP']].groupby('Country').mean().to_dict()['GDP']",
   "outputs": [],
   "execution_count": null
  },
  {
   "cell_type": "code",
   "metadata": {
    "tags": [],
    "cell_id": "00067-8dd5aef9-1e41-460c-9c1b-746bb03550d2",
    "deepnote_to_be_reexecuted": false,
    "source_hash": "b85ecd02",
    "execution_start": 1640535848733,
    "execution_millis": 25,
    "deepnote_output_heights": [
     611
    ],
    "is_output_hidden": true,
    "deepnote_cell_type": "code"
   },
   "source": "gdp_dict",
   "outputs": [
    {
     "output_type": "execute_result",
     "execution_count": 44,
     "data": {
      "text/plain": "{'Afghanistan': 340.01542546875004,\n 'Albania': 2119.7266788750003,\n 'Algeria': 2847.8533923125,\n 'Angola': 1975.1430451187498,\n 'Antigua and Barbuda': 9759.305728124998,\n 'Argentina': 6998.575103125,\n 'Armenia': 1999.9863176500003,\n 'Australia': 34637.56504687499,\n 'Austria': 33827.47630875,\n 'Azerbaijan': 3302.9478069937504,\n 'Bahamas': nan,\n 'Bahrain': 11191.247420625003,\n 'Bangladesh': 443.56148102500003,\n 'Barbados': 12017.098529375002,\n 'Belarus': 3811.5253479999997,\n 'Belgium': 16915.305999999997,\n 'Belize': 3933.0121744999997,\n 'Benin': 561.167968,\n 'Bhutan': 1353.98694560625,\n 'Bolivia (Plurinational State of)': nan,\n 'Bosnia and Herzegovina': 2245.0260235624996,\n 'Botswana': 4498.285431187499,\n 'Brazil': 6143.1617935,\n 'Brunei Darussalam': 19744.808101874998,\n 'Bulgaria': 4938.981821375001,\n 'Burkina Faso': 410.3720343125,\n 'Burundi': 137.81532131875,\n 'Cabo Verde': 2023.54103925,\n 'Cambodia': 466.19687804999995,\n 'Cameroon': 781.0160044124998,\n 'Canada': 29382.907523125003,\n 'Central African Republic': 363.05590484999993,\n 'Chad': 484.79169405625,\n 'Chile': 6202.344363562499,\n 'China': 2345.3031576875,\n 'Colombia': 3321.6607483124994,\n 'Comoros': 630.3843340687499,\n 'Congo': nan,\n 'Costa Rica': 3957.22728625,\n 'Croatia': 9056.7847190625,\n 'Cuba': 3180.4348844375,\n 'Cyprus': 13898.885501249999,\n 'Czechia': nan,\n \"Côte d'Ivoire\": nan,\n \"Democratic People's Republic of Korea\": nan,\n 'Democratic Republic of the Congo': nan,\n 'Denmark': 33067.407915625,\n 'Djibouti': 897.9998706499999,\n 'Dominican Republic': 3509.4991863125,\n 'Ecuador': 2005.3524679375,\n 'Egypt': nan,\n 'El Salvador': 2517.8346304375,\n 'Equatorial Guinea': 7902.410788562502,\n 'Eritrea': 259.3953562916667,\n 'Estonia': 8340.4329494375,\n 'Ethiopia': 264.97094995000003,\n 'Fiji': 2947.6126888750005,\n 'Finland': 25268.649758125,\n 'France': 26465.551380625,\n 'Gabon': 5179.2561886250005,\n 'Gambia': nan,\n 'Georgia': 2158.2808692812496,\n 'Germany': 24337.749100000005,\n 'Ghana': 834.3761008125001,\n 'Greece': 16454.235869999997,\n 'Grenada': 6259.5172613125,\n 'Guatemala': 2365.83447375,\n 'Guinea': 279.46479789375,\n 'Guinea-Bissau': 384.21493053125005,\n 'Guyana': 1783.8809370625002,\n 'Haiti': 434.36012815000004,\n 'Honduras': 1421.7880825000002,\n 'Hungary': 8513.641831249997,\n 'Iceland': 30159.5029075,\n 'India': 837.9200509125001,\n 'Indonesia': 1669.116783075,\n 'Iran (Islamic Republic of)': nan,\n 'Iraq': 3542.5575372499993,\n 'Ireland': 33835.272005,\n 'Israel': 18860.476015624998,\n 'Italy': 21234.782370625006,\n 'Jamaica': 2509.5464696249996,\n 'Japan': 24892.544784375,\n 'Jordan': 1822.6299256249997,\n 'Kazakhstan': 4040.586664374999,\n 'Kenya': 716.77006788125,\n 'Kiribati': 1175.2924155312503,\n 'Kuwait': 31914.378339374998,\n 'Kyrgyzstan': nan,\n \"Lao People's Democratic Republic\": nan,\n 'Latvia': 7951.824896624999,\n 'Lebanon': 4696.1923789375005,\n 'Lesotho': 794.5230103125001,\n 'Liberia': 246.28174803125006,\n 'Libya': 4598.161975416667,\n 'Lithuania': 9007.4586225,\n 'Luxembourg': 53257.012740624996,\n 'Madagascar': 314.04132958124995,\n 'Malawi': 237.50404201875,\n 'Malaysia': 4904.9389918125,\n 'Maldives': 3818.2969615624997,\n 'Mali': 530.5121700999999,\n 'Malta': 10114.797943125,\n 'Mauritania': 635.04960900625,\n 'Mauritius': 5299.579823624998,\n 'Mexico': 5179.33080675,\n 'Micronesia (Federated States of)': nan,\n 'Mongolia': 1984.6880227125002,\n 'Montenegro': 4676.5142774999995,\n 'Morocco': 1936.3914383750002,\n 'Mozambique': 365.06823808125,\n 'Myanmar': 616.18435734375,\n 'Namibia': 3042.603507,\n 'Nepal': 395.32846794375007,\n 'Netherlands': 34964.719796875,\n 'New Zealand': 14775.554806874998,\n 'Nicaragua': 957.9039710624999,\n 'Niger': 259.782440975,\n 'Nigeria': 1360.1398774687502,\n 'Norway': 27434.946928125,\n 'Oman': 7621.311126875001,\n 'Pakistan': 666.11105159375,\n 'Panama': 5417.768890249999,\n 'Papua New Guinea': 758.0976163466668,\n 'Paraguay': 1983.4043354375003,\n 'Peru': 2928.543541625,\n 'Philippines': 1397.1361066875002,\n 'Poland': 6792.5636004375,\n 'Portugal': 11598.625531249998,\n 'Qatar': 40748.44410437501,\n 'Republic of Korea': nan,\n 'Republic of Moldova': nan,\n 'Romania': 4258.940054312501,\n 'Russian Federation': 6545.137358999999,\n 'Rwanda': 300.01801709374996,\n 'Saint Lucia': nan,\n 'Saint Vincent and the Grenadines': nan,\n 'Samoa': 2121.6206485000002,\n 'Sao Tome and Principe': 771.0348342533331,\n 'Saudi Arabia': 10689.052945812498,\n 'Senegal': 274.61116614375,\n 'Serbia': 3674.5424077625007,\n 'Seychelles': 6496.302397062499,\n 'Sierra Leone': 271.50556128125004,\n 'Singapore': 32790.105906875004,\n 'Slovakia': nan,\n 'Slovenia': 11441.044377499999,\n 'Solomon Islands': 801.9123831749998,\n 'Somalia': 297.47334513333334,\n 'South Africa': 4869.4270436874995,\n 'South Sudan': 1092.233630625,\n 'Spain': 17093.459736875004,\n 'Sri Lanka': 1040.110189675,\n 'Sudan': 1192.7979534312497,\n 'Suriname': 4781.2168219375,\n 'Swaziland': 2165.0908375000004,\n 'Sweden': 29334.990639375,\n 'Switzerland': 57362.874601250005,\n 'Syrian Arab Republic': 1087.435773875,\n 'Tajikistan': 335.8417252312501,\n 'Thailand': 3494.7817016250006,\n 'The former Yugoslav republic of Macedonia': nan,\n 'Timor-Leste': 551.7106493125,\n 'Togo': 317.20409206875007,\n 'Tonga': 1981.5551861874999,\n 'Trinidad and Tobago': 7741.7480900625005,\n 'Tunisia': 3044.081488375,\n 'Turkey': 3983.9177217499996,\n 'Turkmenistan': 2511.6115398624997,\n 'Uganda': 421.04849634374995,\n 'Ukraine': 1577.293328625,\n 'United Arab Emirates': 22110.366986250003,\n 'United Kingdom of Great Britain and Northern Ireland': nan,\n 'United Republic of Tanzania': nan,\n 'United States of America': nan,\n 'Uruguay': 7192.5848745,\n 'Uzbekistan': 651.0923589312499,\n 'Vanuatu': 2000.2455181250002,\n 'Venezuela (Bolivarian Republic of)': nan,\n 'Viet Nam': nan,\n 'Yemen': nan,\n 'Zambia': 811.8118405187499,\n 'Zimbabwe': 410.98019376875}"
     },
     "metadata": {}
    }
   ],
   "execution_count": null
  },
  {
   "cell_type": "code",
   "metadata": {
    "tags": [],
    "cell_id": "00069-0cc89998-e595-4b4e-bb68-952b108a91bd",
    "deepnote_to_be_reexecuted": false,
    "source_hash": "c507afd2",
    "execution_start": 1640535848765,
    "execution_millis": 16,
    "deepnote_cell_type": "code"
   },
   "source": "# funkce zjistí, jakého řádu je číslo tmp\ndef num_of_numbers(tmp):\n    cnt = 0\n\n    while tmp >= 1:\n        tmp = tmp/10\n        cnt += 1\n\n    #print(cnt)\n    return cnt",
   "outputs": [],
   "execution_count": null
  },
  {
   "cell_type": "code",
   "metadata": {
    "tags": [],
    "cell_id": "00069-8576e26f-829e-4358-9109-ce9b2812c27b",
    "deepnote_to_be_reexecuted": false,
    "source_hash": "5e2bdce0",
    "execution_start": 1640535848787,
    "execution_millis": 7,
    "deepnote_cell_type": "code"
   },
   "source": "for country in gdp_dict:\n    #print(num_of_numbers(gdp_dict[country]))\n    gdp_dict[country] = num_of_numbers(gdp_dict[country])",
   "outputs": [],
   "execution_count": null
  },
  {
   "cell_type": "code",
   "metadata": {
    "tags": [],
    "cell_id": "00071-787cfd32-6840-48d5-894e-4e2bf4f06fa9",
    "deepnote_to_be_reexecuted": false,
    "source_hash": "c03378e",
    "execution_start": 1640535848806,
    "execution_millis": 20,
    "deepnote_output_heights": [
     136.3125
    ],
    "deepnote_cell_type": "code"
   },
   "source": "tmp = df[['Country', 'GDP']].to_numpy()\n\ntmp",
   "outputs": [
    {
     "output_type": "execute_result",
     "execution_count": 47,
     "data": {
      "text/plain": "array([['Afghanistan', 584.25921],\n       ['Afghanistan', 612.696514],\n       ['Afghanistan', 631.744976],\n       ...,\n       ['Zimbabwe', 57.34834],\n       ['Zimbabwe', 548.587312],\n       ['Zimbabwe', 547.3588785]], dtype=object)"
     },
     "metadata": {}
    }
   ],
   "execution_count": null
  },
  {
   "cell_type": "code",
   "metadata": {
    "tags": [],
    "cell_id": "00072-f791c6d6-6c83-4a98-aaa4-3904aa8ab771",
    "deepnote_to_be_reexecuted": false,
    "source_hash": "7efd9def",
    "execution_start": 1640535848905,
    "execution_millis": 36,
    "is_output_hidden": true,
    "deepnote_cell_type": "code"
   },
   "source": "for i in tmp:\n    if gdp_dict[i[0]] > num_of_numbers(i[1]):\n        print(gdp_dict[i[0]] - num_of_numbers(i[1]))\n        for j in range(gdp_dict[i[0]] - num_of_numbers(i[1])):\n            i[1] = i[1] * 10",
   "outputs": [
    {
     "name": "stdout",
     "text": "1\n1\n1\n1\n1\n2\n1\n1\n1\n1\n2\n1\n1\n1\n1\n1\n1\n1\n1\n1\n1\n1\n1\n1\n2\n2\n1\n1\n1\n1\n1\n1\n2\n1\n2\n2\n1\n2\n1\n1\n1\n1\n2\n1\n2\n1\n1\n1\n1\n1\n1\n1\n2\n1\n1\n1\n1\n1\n1\n2\n1\n1\n1\n1\n1\n1\n1\n1\n1\n1\n1\n1\n1\n1\n1\n1\n1\n1\n1\n2\n1\n1\n2\n1\n1\n1\n1\n2\n1\n1\n1\n1\n1\n1\n1\n1\n2\n1\n2\n1\n1\n1\n1\n1\n1\n1\n1\n1\n1\n1\n1\n1\n1\n1\n1\n1\n2\n1\n1\n1\n2\n1\n1\n1\n1\n1\n1\n1\n1\n1\n1\n1\n1\n1\n1\n1\n1\n1\n2\n1\n1\n1\n1\n1\n1\n1\n1\n1\n1\n1\n2\n1\n1\n1\n1\n1\n1\n1\n1\n1\n1\n1\n1\n1\n1\n1\n1\n1\n1\n1\n1\n1\n2\n1\n1\n1\n1\n1\n1\n1\n1\n1\n1\n1\n1\n1\n1\n1\n1\n1\n1\n3\n3\n3\n3\n1\n1\n1\n1\n1\n2\n1\n1\n1\n1\n1\n1\n1\n2\n1\n1\n1\n1\n1\n1\n2\n2\n1\n1\n1\n1\n1\n1\n1\n1\n1\n1\n1\n1\n1\n1\n1\n1\n1\n1\n1\n2\n1\n1\n1\n1\n1\n1\n1\n1\n1\n1\n1\n1\n1\n1\n1\n1\n1\n1\n2\n1\n1\n1\n1\n2\n1\n1\n1\n1\n1\n1\n1\n1\n1\n1\n1\n1\n1\n3\n1\n1\n1\n1\n1\n1\n1\n1\n1\n1\n1\n2\n1\n1\n4\n4\n4\n4\n1\n1\n1\n1\n1\n1\n2\n1\n1\n2\n1\n2\n1\n2\n1\n3\n2\n2\n1\n1\n1\n1\n1\n1\n1\n1\n1\n1\n1\n1\n1\n1\n1\n1\n1\n1\n1\n2\n1\n1\n1\n1\n1\n1\n1\n1\n1\n1\n1\n1\n1\n1\n1\n2\n1\n1\n1\n1\n1\n1\n4\n4\n4\n4\n1\n1\n1\n1\n1\n1\n1\n1\n1\n1\n1\n1\n1\n1\n1\n1\n1\n1\n1\n1\n1\n1\n1\n2\n2\n1\n1\n1\n1\n1\n1\n1\n1\n1\n1\n1\n1\n1\n3\n2\n1\n1\n1\n1\n1\n1\n1\n1\n1\n1\n1\n1\n1\n1\n1\n1\n1\n1\n1\n1\n1\n2\n1\n1\n1\n1\n1\n1\n1\n2\n1\n1\n1\n2\n1\n1\n1\n1\n1\n1\n1\n1\n1\n2\n1\n1\n1\n1\n1\n1\n2\n1\n1\n2\n1\n1\n1\n1\n1\n1\n1\n1\n1\n1\n1\n1\n1\n2\n3\n1\n1\n1\n1\n1\n1\n2\n1\n1\n1\n1\n1\n1\n2\n3\n1\n1\n1\n2\n1\n1\n1\n1\n1\n1\n1\n1\n1\n2\n2\n1\n1\n1\n2\n2\n1\n1\n1\n1\n2\n1\n1\n2\n1\n1\n1\n1\n1\n1\n1\n1\n1\n1\n3\n1\n1\n1\n1\n2\n1\n1\n1\n1\n1\n1\n1\n1\n1\n1\n1\n2\n1\n2\n1\n1\n1\n1\n1\n1\n1\n1\n1\n1\n2\n1\n1\n1\n1\n1\n1\n1\n1\n1\n3\n3\n3\n3\n3\n3\n3\n3\n3\n3\n3\n3\n3\n1\n1\n1\n1\n1\n4\n4\n4\n4\n4\n4\n4\n4\n2\n1\n1\n1\n1\n1\n1\n1\n1\n1\n1\n1\n1\n1\n1\n1\n1\n1\n1\n1\n1\n1\n1\n1\n1\n1\n2\n1\n1\n1\n1\n2\n1\n1\n1\n1\n1\n1\n1\n1\n4\n4\n4\n4\n4\n4\n4\n4\n1\n1\n1\n1\n1\n1\n1\n1\n1\n1\n2\n1\n1\n1\n1\n1\n1\n1\n1\n1\n1\n1\n2\n1\n1\n1\n1\n1\n1\n1\n1\n1\n1\n1\n1\n2\n1\n1\n1\n1\n2\n1\n1\n1\n1\n1\n1\n1\n1\n1\n1\n1\n1\n2\n1\n1\n1\n1\n1\n1\n1\n1\n1\n1\n2\n1\n1\n1\n1\n1\n1\n1\n1\n1\n1\n1\n",
     "output_type": "stream",
     "data": {}
    }
   ],
   "execution_count": null
  },
  {
   "cell_type": "code",
   "metadata": {
    "tags": [],
    "cell_id": "00074-4a4a45e9-3371-4a4a-964c-a862928da122",
    "deepnote_to_be_reexecuted": false,
    "source_hash": "63d4768c",
    "execution_start": 1640535849002,
    "execution_millis": 394,
    "is_output_hidden": true,
    "deepnote_cell_type": "code"
   },
   "source": "df['GDP'] = pd.DataFrame(tmp, columns=['Country', 'GDP'])['GDP']\ndf",
   "outputs": [
    {
     "output_type": "execute_result",
     "execution_count": 49,
     "data": {
      "application/vnd.deepnote.dataframe.v3+json": {
       "column_count": 17,
       "row_count": 2928,
       "columns": [
        {
         "name": "Country",
         "dtype": "object",
         "stats": {
          "unique_count": 183,
          "nan_count": 0,
          "categories": [
           {
            "name": "Afghanistan",
            "count": 16
           },
           {
            "name": "Albania",
            "count": 16
           },
           {
            "name": "181 others",
            "count": 2896
           }
          ]
         }
        },
        {
         "name": "Status",
         "dtype": "int8",
         "stats": {
          "unique_count": 2,
          "nan_count": 0,
          "min": "0",
          "max": "1",
          "histogram": [
           {
            "bin_start": 0,
            "bin_end": 0.1,
            "count": 512
           },
           {
            "bin_start": 0.1,
            "bin_end": 0.2,
            "count": 0
           },
           {
            "bin_start": 0.2,
            "bin_end": 0.30000000000000004,
            "count": 0
           },
           {
            "bin_start": 0.30000000000000004,
            "bin_end": 0.4,
            "count": 0
           },
           {
            "bin_start": 0.4,
            "bin_end": 0.5,
            "count": 0
           },
           {
            "bin_start": 0.5,
            "bin_end": 0.6000000000000001,
            "count": 0
           },
           {
            "bin_start": 0.6000000000000001,
            "bin_end": 0.7000000000000001,
            "count": 0
           },
           {
            "bin_start": 0.7000000000000001,
            "bin_end": 0.8,
            "count": 0
           },
           {
            "bin_start": 0.8,
            "bin_end": 0.9,
            "count": 0
           },
           {
            "bin_start": 0.9,
            "bin_end": 1,
            "count": 2416
           }
          ]
         }
        },
        {
         "name": "Life expectancy",
         "dtype": "float64",
         "stats": {
          "unique_count": 362,
          "nan_count": 0,
          "min": "36.3",
          "max": "89.0",
          "histogram": [
           {
            "bin_start": 36.3,
            "bin_end": 41.57,
            "count": 4
           },
           {
            "bin_start": 41.57,
            "bin_end": 46.839999999999996,
            "count": 50
           },
           {
            "bin_start": 46.839999999999996,
            "bin_end": 52.11,
            "count": 134
           },
           {
            "bin_start": 52.11,
            "bin_end": 57.379999999999995,
            "count": 229
           },
           {
            "bin_start": 57.379999999999995,
            "bin_end": 62.65,
            "count": 277
           },
           {
            "bin_start": 62.65,
            "bin_end": 67.92,
            "count": 405
           },
           {
            "bin_start": 67.92,
            "bin_end": 73.19,
            "count": 580
           },
           {
            "bin_start": 73.19,
            "bin_end": 78.46000000000001,
            "count": 819
           },
           {
            "bin_start": 78.46000000000001,
            "bin_end": 83.73,
            "count": 362
           },
           {
            "bin_start": 83.73,
            "bin_end": 89,
            "count": 68
           }
          ]
         }
        },
        {
         "name": "Adult Mortality",
         "dtype": "float64",
         "stats": {
          "unique_count": 425,
          "nan_count": 0,
          "min": "1.0",
          "max": "723.0",
          "histogram": [
           {
            "bin_start": 1,
            "bin_end": 73.2,
            "count": 729
           },
           {
            "bin_start": 73.2,
            "bin_end": 145.4,
            "count": 765
           },
           {
            "bin_start": 145.4,
            "bin_end": 217.60000000000002,
            "count": 610
           },
           {
            "bin_start": 217.60000000000002,
            "bin_end": 289.8,
            "count": 423
           },
           {
            "bin_start": 289.8,
            "bin_end": 362,
            "count": 176
           },
           {
            "bin_start": 362,
            "bin_end": 434.20000000000005,
            "count": 117
           },
           {
            "bin_start": 434.20000000000005,
            "bin_end": 506.40000000000003,
            "count": 54
           },
           {
            "bin_start": 506.40000000000003,
            "bin_end": 578.6,
            "count": 24
           },
           {
            "bin_start": 578.6,
            "bin_end": 650.8000000000001,
            "count": 17
           },
           {
            "bin_start": 650.8000000000001,
            "bin_end": 723,
            "count": 13
           }
          ]
         }
        },
        {
         "name": "Alcohol",
         "dtype": "float64",
         "stats": {
          "unique_count": 1246,
          "nan_count": 0,
          "min": "0.0",
          "max": "17.87",
          "histogram": [
           {
            "bin_start": 0,
            "bin_end": 1.7870000000000001,
            "count": 1031
           },
           {
            "bin_start": 1.7870000000000001,
            "bin_end": 3.5740000000000003,
            "count": 404
           },
           {
            "bin_start": 3.5740000000000003,
            "bin_end": 5.361000000000001,
            "count": 353
           },
           {
            "bin_start": 5.361000000000001,
            "bin_end": 7.148000000000001,
            "count": 307
           },
           {
            "bin_start": 7.148000000000001,
            "bin_end": 8.935,
            "count": 284
           },
           {
            "bin_start": 8.935,
            "bin_end": 10.722000000000001,
            "count": 254
           },
           {
            "bin_start": 10.722000000000001,
            "bin_end": 12.509,
            "count": 210
           },
           {
            "bin_start": 12.509,
            "bin_end": 14.296000000000001,
            "count": 70
           },
           {
            "bin_start": 14.296000000000001,
            "bin_end": 16.083000000000002,
            "count": 10
           },
           {
            "bin_start": 16.083000000000002,
            "bin_end": 17.87,
            "count": 5
           }
          ]
         }
        },
        {
         "name": "percentage expenditure",
         "dtype": "float64",
         "stats": {
          "unique_count": 2323,
          "nan_count": 0,
          "min": "0.0",
          "max": "19479.91161",
          "histogram": [
           {
            "bin_start": 0,
            "bin_end": 1947.991161,
            "count": 2647
           },
           {
            "bin_start": 1947.991161,
            "bin_end": 3895.982322,
            "count": 118
           },
           {
            "bin_start": 3895.982322,
            "bin_end": 5843.973483,
            "count": 54
           },
           {
            "bin_start": 5843.973483,
            "bin_end": 7791.964644,
            "count": 46
           },
           {
            "bin_start": 7791.964644,
            "bin_end": 9739.955805,
            "count": 27
           },
           {
            "bin_start": 9739.955805,
            "bin_end": 11687.946966,
            "count": 17
           },
           {
            "bin_start": 11687.946966,
            "bin_end": 13635.938127,
            "count": 7
           },
           {
            "bin_start": 13635.938127,
            "bin_end": 15583.929288,
            "count": 5
           },
           {
            "bin_start": 15583.929288,
            "bin_end": 17531.920448999997,
            "count": 2
           },
           {
            "bin_start": 17531.920448999997,
            "bin_end": 19479.91161,
            "count": 5
           }
          ]
         }
        },
        {
         "name": "Hepatitis B",
         "dtype": "float64",
         "stats": {
          "unique_count": 165,
          "nan_count": 0,
          "min": "1.0",
          "max": "99.0",
          "histogram": [
           {
            "bin_start": 1,
            "bin_end": 10.8,
            "count": 171
           },
           {
            "bin_start": 10.8,
            "bin_end": 20.6,
            "count": 16
           },
           {
            "bin_start": 20.6,
            "bin_end": 30.400000000000002,
            "count": 33
           },
           {
            "bin_start": 30.400000000000002,
            "bin_end": 40.2,
            "count": 40
           },
           {
            "bin_start": 40.2,
            "bin_end": 50,
            "count": 121
           },
           {
            "bin_start": 50,
            "bin_end": 59.800000000000004,
            "count": 158
           },
           {
            "bin_start": 59.800000000000004,
            "bin_end": 69.60000000000001,
            "count": 182
           },
           {
            "bin_start": 69.60000000000001,
            "bin_end": 79.4,
            "count": 300
           },
           {
            "bin_start": 79.4,
            "bin_end": 89.2,
            "count": 528
           },
           {
            "bin_start": 89.2,
            "bin_end": 99,
            "count": 1379
           }
          ]
         }
        },
        {
         "name": "BMI",
         "dtype": "float64",
         "stats": {
          "unique_count": 554,
          "nan_count": 0,
          "min": "10.0",
          "max": "96.0",
          "histogram": [
           {
            "bin_start": 10,
            "bin_end": 18.6,
            "count": 390
           },
           {
            "bin_start": 18.6,
            "bin_end": 27.2,
            "count": 496
           },
           {
            "bin_start": 27.2,
            "bin_end": 35.8,
            "count": 242
           },
           {
            "bin_start": 35.8,
            "bin_end": 44.4,
            "count": 229
           },
           {
            "bin_start": 44.4,
            "bin_end": 53,
            "count": 434
           },
           {
            "bin_start": 53,
            "bin_end": 61.599999999999994,
            "count": 757
           },
           {
            "bin_start": 61.599999999999994,
            "bin_end": 70.19999999999999,
            "count": 342
           },
           {
            "bin_start": 70.19999999999999,
            "bin_end": 78.8,
            "count": 35
           },
           {
            "bin_start": 78.8,
            "bin_end": 87.39999999999999,
            "count": 1
           },
           {
            "bin_start": 87.39999999999999,
            "bin_end": 96,
            "count": 2
           }
          ]
         }
        },
        {
         "name": "Polio",
         "dtype": "float64",
         "stats": {
          "unique_count": 72,
          "nan_count": 0,
          "min": "17.0",
          "max": "99.0",
          "histogram": [
           {
            "bin_start": 17,
            "bin_end": 25.2,
            "count": 4
           },
           {
            "bin_start": 25.2,
            "bin_end": 33.4,
            "count": 10
           },
           {
            "bin_start": 33.4,
            "bin_end": 41.599999999999994,
            "count": 24
           },
           {
            "bin_start": 41.599999999999994,
            "bin_end": 49.8,
            "count": 70
           },
           {
            "bin_start": 49.8,
            "bin_end": 58,
            "count": 64
           },
           {
            "bin_start": 58,
            "bin_end": 66.19999999999999,
            "count": 111
           },
           {
            "bin_start": 66.19999999999999,
            "bin_end": 74.39999999999999,
            "count": 173
           },
           {
            "bin_start": 74.39999999999999,
            "bin_end": 82.6,
            "count": 229
           },
           {
            "bin_start": 82.6,
            "bin_end": 90.8,
            "count": 563
           },
           {
            "bin_start": 90.8,
            "bin_end": 99,
            "count": 1680
           }
          ]
         }
        },
        {
         "name": "Diphtheria",
         "dtype": "float64",
         "stats": {
          "unique_count": 81,
          "nan_count": 19,
          "min": "2.0",
          "max": "99.0",
          "histogram": [
           {
            "bin_start": 2,
            "bin_end": 11.7,
            "count": 169
           },
           {
            "bin_start": 11.7,
            "bin_end": 21.4,
            "count": 3
           },
           {
            "bin_start": 21.4,
            "bin_end": 31.099999999999998,
            "count": 22
           },
           {
            "bin_start": 31.099999999999998,
            "bin_end": 40.8,
            "count": 35
           },
           {
            "bin_start": 40.8,
            "bin_end": 50.5,
            "count": 68
           },
           {
            "bin_start": 50.5,
            "bin_end": 60.199999999999996,
            "count": 59
           },
           {
            "bin_start": 60.199999999999996,
            "bin_end": 69.89999999999999,
            "count": 149
           },
           {
            "bin_start": 69.89999999999999,
            "bin_end": 79.6,
            "count": 271
           },
           {
            "bin_start": 79.6,
            "bin_end": 89.3,
            "count": 469
           },
           {
            "bin_start": 89.3,
            "bin_end": 99,
            "count": 1664
           }
          ]
         }
        },
        {
         "name": "HIV/AIDS",
         "dtype": "float64",
         "stats": {
          "unique_count": 200,
          "nan_count": 0,
          "min": "0.1",
          "max": "50.6",
          "histogram": [
           {
            "bin_start": 0.1,
            "bin_end": 5.1499999999999995,
            "count": 2686
           },
           {
            "bin_start": 5.1499999999999995,
            "bin_end": 10.2,
            "count": 119
           },
           {
            "bin_start": 10.2,
            "bin_end": 15.249999999999998,
            "count": 44
           },
           {
            "bin_start": 15.249999999999998,
            "bin_end": 20.3,
            "count": 22
           },
           {
            "bin_start": 20.3,
            "bin_end": 25.35,
            "count": 19
           },
           {
            "bin_start": 25.35,
            "bin_end": 30.4,
            "count": 13
           },
           {
            "bin_start": 30.4,
            "bin_end": 35.45,
            "count": 10
           },
           {
            "bin_start": 35.45,
            "bin_end": 40.5,
            "count": 5
           },
           {
            "bin_start": 40.5,
            "bin_end": 45.55,
            "count": 4
           },
           {
            "bin_start": 45.55,
            "bin_end": 50.6,
            "count": 6
           }
          ]
         }
        },
        {
         "name": "GDP",
         "dtype": "object",
         "stats": {
          "unique_count": 2476,
          "nan_count": 452,
          "categories": [
           {
            "name": "584.25921",
            "count": 1
           },
           {
            "name": "2475 others",
            "count": 2475
           },
           {
            "name": "Missing",
            "count": 452
           }
          ]
         }
        },
        {
         "name": "Population",
         "dtype": "float64",
         "stats": {
          "unique_count": 2277,
          "nan_count": 644,
          "min": "34.0",
          "max": "1293859294.0",
          "histogram": [
           {
            "bin_start": 34,
            "bin_end": 129385960,
            "count": 2242
           },
           {
            "bin_start": 129385960,
            "bin_end": 258771886,
            "count": 37
           },
           {
            "bin_start": 258771886,
            "bin_end": 388157812,
            "count": 0
           },
           {
            "bin_start": 388157812,
            "bin_end": 517543738,
            "count": 0
           },
           {
            "bin_start": 517543738,
            "bin_end": 646929664,
            "count": 0
           },
           {
            "bin_start": 646929664,
            "bin_end": 776315590,
            "count": 0
           },
           {
            "bin_start": 776315590,
            "bin_end": 905701516,
            "count": 0
           },
           {
            "bin_start": 905701516,
            "bin_end": 1035087442,
            "count": 0
           },
           {
            "bin_start": 1035087442,
            "bin_end": 1164473368,
            "count": 3
           },
           {
            "bin_start": 1164473368,
            "bin_end": 1293859294,
            "count": 2
           }
          ]
         }
        },
        {
         "name": "thinness  1-19 years",
         "dtype": "float64",
         "stats": {
          "unique_count": 200,
          "nan_count": 32,
          "min": "0.1",
          "max": "27.7",
          "histogram": [
           {
            "bin_start": 0.1,
            "bin_end": 2.86,
            "count": 1326
           },
           {
            "bin_start": 2.86,
            "bin_end": 5.619999999999999,
            "count": 515
           },
           {
            "bin_start": 5.619999999999999,
            "bin_end": 8.379999999999999,
            "count": 565
           },
           {
            "bin_start": 8.379999999999999,
            "bin_end": 11.139999999999999,
            "count": 238
           },
           {
            "bin_start": 11.139999999999999,
            "bin_end": 13.899999999999999,
            "count": 108
           },
           {
            "bin_start": 13.899999999999999,
            "bin_end": 16.66,
            "count": 71
           },
           {
            "bin_start": 16.66,
            "bin_end": 19.42,
            "count": 42
           },
           {
            "bin_start": 19.42,
            "bin_end": 22.18,
            "count": 14
           },
           {
            "bin_start": 22.18,
            "bin_end": 24.939999999999998,
            "count": 1
           },
           {
            "bin_start": 24.939999999999998,
            "bin_end": 27.7,
            "count": 16
           }
          ]
         }
        },
        {
         "name": "thinness 5-9 years",
         "dtype": "float64",
         "stats": {
          "unique_count": 207,
          "nan_count": 32,
          "min": "0.1",
          "max": "28.6",
          "histogram": [
           {
            "bin_start": 0.1,
            "bin_end": 2.95,
            "count": 1317
           },
           {
            "bin_start": 2.95,
            "bin_end": 5.8,
            "count": 542
           },
           {
            "bin_start": 5.8,
            "bin_end": 8.65,
            "count": 590
           },
           {
            "bin_start": 8.65,
            "bin_end": 11.5,
            "count": 215
           },
           {
            "bin_start": 11.5,
            "bin_end": 14.35,
            "count": 100
           },
           {
            "bin_start": 14.35,
            "bin_end": 17.200000000000003,
            "count": 58
           },
           {
            "bin_start": 17.200000000000003,
            "bin_end": 20.05,
            "count": 46
           },
           {
            "bin_start": 20.05,
            "bin_end": 22.900000000000002,
            "count": 12
           },
           {
            "bin_start": 22.900000000000002,
            "bin_end": 25.750000000000004,
            "count": 0
           },
           {
            "bin_start": 25.750000000000004,
            "bin_end": 28.6,
            "count": 16
           }
          ]
         }
        },
        {
         "name": "Income composition of resources",
         "dtype": "float64",
         "stats": {
          "unique_count": 625,
          "nan_count": 160,
          "min": "0.0",
          "max": "0.948",
          "histogram": [
           {
            "bin_start": 0,
            "bin_end": 0.0948,
            "count": 130
           },
           {
            "bin_start": 0.0948,
            "bin_end": 0.1896,
            "count": 0
           },
           {
            "bin_start": 0.1896,
            "bin_end": 0.2844,
            "count": 13
           },
           {
            "bin_start": 0.2844,
            "bin_end": 0.3792,
            "count": 118
           },
           {
            "bin_start": 0.3792,
            "bin_end": 0.474,
            "count": 338
           },
           {
            "bin_start": 0.474,
            "bin_end": 0.5688,
            "count": 302
           },
           {
            "bin_start": 0.5688,
            "bin_end": 0.6636,
            "count": 409
           },
           {
            "bin_start": 0.6636,
            "bin_end": 0.7584,
            "count": 654
           },
           {
            "bin_start": 0.7584,
            "bin_end": 0.8532,
            "count": 479
           },
           {
            "bin_start": 0.8532,
            "bin_end": 0.948,
            "count": 325
           }
          ]
         }
        },
        {
         "name": "Schooling",
         "dtype": "float64",
         "stats": {
          "unique_count": 173,
          "nan_count": 160,
          "min": "0.0",
          "max": "20.7",
          "histogram": [
           {
            "bin_start": 0,
            "bin_end": 2.07,
            "count": 26
           },
           {
            "bin_start": 2.07,
            "bin_end": 4.14,
            "count": 22
           },
           {
            "bin_start": 4.14,
            "bin_end": 6.209999999999999,
            "count": 109
           },
           {
            "bin_start": 6.209999999999999,
            "bin_end": 8.28,
            "count": 199
           },
           {
            "bin_start": 8.28,
            "bin_end": 10.35,
            "count": 402
           },
           {
            "bin_start": 10.35,
            "bin_end": 12.419999999999998,
            "count": 671
           },
           {
            "bin_start": 12.419999999999998,
            "bin_end": 14.489999999999998,
            "count": 702
           },
           {
            "bin_start": 14.489999999999998,
            "bin_end": 16.56,
            "count": 470
           },
           {
            "bin_start": 16.56,
            "bin_end": 18.63,
            "count": 131
           },
           {
            "bin_start": 18.63,
            "bin_end": 20.7,
            "count": 36
           }
          ]
         }
        },
        {
         "name": "_deepnote_index_column",
         "dtype": "int64"
        }
       ],
       "rows": [
        {
         "Country": "Afghanistan",
         "Status": 1,
         "Life expectancy": 65,
         "Adult Mortality": 263,
         "Alcohol": 0.01,
         "percentage expenditure": 71.27962362,
         "Hepatitis B": 65,
         "BMI": 19.1,
         "Polio": 60,
         "Diphtheria": 65,
         "HIV/AIDS": 0.1,
         "GDP": "584.25921",
         "Population": 33736494,
         "thinness  1-19 years": 17.2,
         "thinness 5-9 years": 17.3,
         "Income composition of resources": 0.479,
         "Schooling": 10.1,
         "_deepnote_index_column": 0
        },
        {
         "Country": "Afghanistan",
         "Status": 1,
         "Life expectancy": 59.9,
         "Adult Mortality": 271,
         "Alcohol": 0.01,
         "percentage expenditure": 73.52358168,
         "Hepatitis B": 62,
         "BMI": 18.6,
         "Polio": 58,
         "Diphtheria": 62,
         "HIV/AIDS": 0.1,
         "GDP": "612.696514",
         "Population": 327582,
         "thinness  1-19 years": 17.5,
         "thinness 5-9 years": 17.5,
         "Income composition of resources": 0.476,
         "Schooling": 10,
         "_deepnote_index_column": 1
        },
        {
         "Country": "Afghanistan",
         "Status": 1,
         "Life expectancy": 59.9,
         "Adult Mortality": 268,
         "Alcohol": 0.01,
         "percentage expenditure": 73.21924272,
         "Hepatitis B": 64,
         "BMI": 18.1,
         "Polio": 62,
         "Diphtheria": 64,
         "HIV/AIDS": 0.1,
         "GDP": "631.744976",
         "Population": 31731688,
         "thinness  1-19 years": 17.7,
         "thinness 5-9 years": 17.7,
         "Income composition of resources": 0.47,
         "Schooling": 9.9,
         "_deepnote_index_column": 2
        },
        {
         "Country": "Afghanistan",
         "Status": 1,
         "Life expectancy": 59.5,
         "Adult Mortality": 272,
         "Alcohol": 0.01,
         "percentage expenditure": 78.1842153,
         "Hepatitis B": 67,
         "BMI": 17.6,
         "Polio": 67,
         "Diphtheria": 67,
         "HIV/AIDS": 0.1,
         "GDP": "669.959",
         "Population": 3696958,
         "thinness  1-19 years": 17.9,
         "thinness 5-9 years": 18,
         "Income composition of resources": 0.463,
         "Schooling": 9.8,
         "_deepnote_index_column": 3
        },
        {
         "Country": "Afghanistan",
         "Status": 1,
         "Life expectancy": 59.2,
         "Adult Mortality": 275,
         "Alcohol": 0.01,
         "percentage expenditure": 7.097108703,
         "Hepatitis B": 68,
         "BMI": 17.2,
         "Polio": 68,
         "Diphtheria": 68,
         "HIV/AIDS": 0.1,
         "GDP": "635.37231",
         "Population": 2978599,
         "thinness  1-19 years": 18.2,
         "thinness 5-9 years": 18.2,
         "Income composition of resources": 0.454,
         "Schooling": 9.5,
         "_deepnote_index_column": 4
        },
        {
         "Country": "Afghanistan",
         "Status": 1,
         "Life expectancy": 58.8,
         "Adult Mortality": 279,
         "Alcohol": 0.01,
         "percentage expenditure": 79.67936736,
         "Hepatitis B": 66,
         "BMI": 16.7,
         "Polio": 66,
         "Diphtheria": 66,
         "HIV/AIDS": 0.1,
         "GDP": "553.32894",
         "Population": 2883167,
         "thinness  1-19 years": 18.4,
         "thinness 5-9 years": 18.4,
         "Income composition of resources": 0.448,
         "Schooling": 9.2,
         "_deepnote_index_column": 5
        },
        {
         "Country": "Afghanistan",
         "Status": 1,
         "Life expectancy": 58.6,
         "Adult Mortality": 281,
         "Alcohol": 0.01,
         "percentage expenditure": 56.76221682,
         "Hepatitis B": 63,
         "BMI": 16.2,
         "Polio": 63,
         "Diphtheria": 63,
         "HIV/AIDS": 0.1,
         "GDP": "445.8932979",
         "Population": 284331,
         "thinness  1-19 years": 18.6,
         "thinness 5-9 years": 18.7,
         "Income composition of resources": 0.434,
         "Schooling": 8.9,
         "_deepnote_index_column": 6
        },
        {
         "Country": "Afghanistan",
         "Status": 1,
         "Life expectancy": 58.1,
         "Adult Mortality": 287,
         "Alcohol": 0.03,
         "percentage expenditure": 25.87392536,
         "Hepatitis B": 64,
         "BMI": 15.7,
         "Polio": 64,
         "Diphtheria": 64,
         "HIV/AIDS": 0.1,
         "GDP": "373.3611163",
         "Population": 2729431,
         "thinness  1-19 years": 18.8,
         "thinness 5-9 years": 18.9,
         "Income composition of resources": 0.433,
         "Schooling": 8.7,
         "_deepnote_index_column": 7
        },
        {
         "Country": "Afghanistan",
         "Status": 1,
         "Life expectancy": 57.5,
         "Adult Mortality": 295,
         "Alcohol": 0.02,
         "percentage expenditure": 10.91015598,
         "Hepatitis B": 63,
         "BMI": 15.2,
         "Polio": 63,
         "Diphtheria": 63,
         "HIV/AIDS": 0.1,
         "GDP": "369.835796",
         "Population": 26616792,
         "thinness  1-19 years": 19,
         "thinness 5-9 years": 19.1,
         "Income composition of resources": 0.415,
         "Schooling": 8.4,
         "_deepnote_index_column": 8
        },
        {
         "Country": "Afghanistan",
         "Status": 1,
         "Life expectancy": 57.3,
         "Adult Mortality": 295,
         "Alcohol": 0.03,
         "percentage expenditure": 17.17151751,
         "Hepatitis B": 64,
         "BMI": 14.7,
         "Polio": 58,
         "Diphtheria": 58,
         "HIV/AIDS": 0.1,
         "GDP": "272.56377",
         "Population": 2589345,
         "thinness  1-19 years": 19.2,
         "thinness 5-9 years": 19.3,
         "Income composition of resources": 0.405,
         "Schooling": 8.1,
         "_deepnote_index_column": 9
        }
       ]
      },
      "text/plain": "          Country  Status  Life expectancy  Adult Mortality  Alcohol  \\\n0     Afghanistan       1             65.0            263.0     0.01   \n1     Afghanistan       1             59.9            271.0     0.01   \n2     Afghanistan       1             59.9            268.0     0.01   \n3     Afghanistan       1             59.5            272.0     0.01   \n4     Afghanistan       1             59.2            275.0     0.01   \n...           ...     ...              ...              ...      ...   \n2933     Zimbabwe       1             44.3            723.0     4.36   \n2934     Zimbabwe       1             44.5            715.0     4.06   \n2935     Zimbabwe       1             44.8             73.0     4.43   \n2936     Zimbabwe       1             45.3            686.0     1.72   \n2937     Zimbabwe       1             46.0            665.0     1.68   \n\n      percentage expenditure  Hepatitis B   BMI     Polio  Diphtheria  \\\n0                  71.279624         65.0  19.1  60.00000        65.0   \n1                  73.523582         62.0  18.6  58.00000        62.0   \n2                  73.219243         64.0  18.1  62.00000        64.0   \n3                  78.184215         67.0  17.6  67.00000        67.0   \n4                   7.097109         68.0  17.2  68.00000        68.0   \n...                      ...          ...   ...       ...         ...   \n2933                0.000000         68.0  27.1  67.00000        65.0   \n2934                0.000000          7.0  26.7  87.19214        68.0   \n2935                0.000000         73.0  26.3  73.00000        71.0   \n2936                0.000000         76.0  25.9  76.00000        75.0   \n2937                0.000000         79.0  25.5  78.00000        78.0   \n\n      HIV/AIDS         GDP  Population  thinness  1-19 years  \\\n0          0.1   584.25921  33736494.0                  17.2   \n1          0.1  612.696514    327582.0                  17.5   \n2          0.1  631.744976  31731688.0                  17.7   \n3          0.1     669.959   3696958.0                  17.9   \n4          0.1   635.37231   2978599.0                  18.2   \n...        ...         ...         ...                   ...   \n2933      33.6         NaN  12777511.0                   9.4   \n2934      36.7         NaN  12633897.0                   9.8   \n2935      39.8         NaN    125525.0                   1.2   \n2936      42.1         NaN  12366165.0                   1.6   \n2937      43.5         NaN  12222251.0                  11.0   \n\n      thinness 5-9 years  Income composition of resources  Schooling  \n0                   17.3                            0.479       10.1  \n1                   17.5                            0.476       10.0  \n2                   17.7                            0.470        9.9  \n3                   18.0                            0.463        9.8  \n4                   18.2                            0.454        9.5  \n...                  ...                              ...        ...  \n2933                 9.4                            0.407        9.2  \n2934                 9.9                            0.418        9.5  \n2935                 1.3                            0.427       10.0  \n2936                 1.7                            0.427        9.8  \n2937                11.2                            0.434        9.8  \n\n[2928 rows x 17 columns]",
      "text/html": "<div>\n<style scoped>\n    .dataframe tbody tr th:only-of-type {\n        vertical-align: middle;\n    }\n\n    .dataframe tbody tr th {\n        vertical-align: top;\n    }\n\n    .dataframe thead th {\n        text-align: right;\n    }\n</style>\n<table border=\"1\" class=\"dataframe\">\n  <thead>\n    <tr style=\"text-align: right;\">\n      <th></th>\n      <th>Country</th>\n      <th>Status</th>\n      <th>Life expectancy</th>\n      <th>Adult Mortality</th>\n      <th>Alcohol</th>\n      <th>percentage expenditure</th>\n      <th>Hepatitis B</th>\n      <th>BMI</th>\n      <th>Polio</th>\n      <th>Diphtheria</th>\n      <th>HIV/AIDS</th>\n      <th>GDP</th>\n      <th>Population</th>\n      <th>thinness  1-19 years</th>\n      <th>thinness 5-9 years</th>\n      <th>Income composition of resources</th>\n      <th>Schooling</th>\n    </tr>\n  </thead>\n  <tbody>\n    <tr>\n      <th>0</th>\n      <td>Afghanistan</td>\n      <td>1</td>\n      <td>65.0</td>\n      <td>263.0</td>\n      <td>0.01</td>\n      <td>71.279624</td>\n      <td>65.0</td>\n      <td>19.1</td>\n      <td>60.00000</td>\n      <td>65.0</td>\n      <td>0.1</td>\n      <td>584.25921</td>\n      <td>33736494.0</td>\n      <td>17.2</td>\n      <td>17.3</td>\n      <td>0.479</td>\n      <td>10.1</td>\n    </tr>\n    <tr>\n      <th>1</th>\n      <td>Afghanistan</td>\n      <td>1</td>\n      <td>59.9</td>\n      <td>271.0</td>\n      <td>0.01</td>\n      <td>73.523582</td>\n      <td>62.0</td>\n      <td>18.6</td>\n      <td>58.00000</td>\n      <td>62.0</td>\n      <td>0.1</td>\n      <td>612.696514</td>\n      <td>327582.0</td>\n      <td>17.5</td>\n      <td>17.5</td>\n      <td>0.476</td>\n      <td>10.0</td>\n    </tr>\n    <tr>\n      <th>2</th>\n      <td>Afghanistan</td>\n      <td>1</td>\n      <td>59.9</td>\n      <td>268.0</td>\n      <td>0.01</td>\n      <td>73.219243</td>\n      <td>64.0</td>\n      <td>18.1</td>\n      <td>62.00000</td>\n      <td>64.0</td>\n      <td>0.1</td>\n      <td>631.744976</td>\n      <td>31731688.0</td>\n      <td>17.7</td>\n      <td>17.7</td>\n      <td>0.470</td>\n      <td>9.9</td>\n    </tr>\n    <tr>\n      <th>3</th>\n      <td>Afghanistan</td>\n      <td>1</td>\n      <td>59.5</td>\n      <td>272.0</td>\n      <td>0.01</td>\n      <td>78.184215</td>\n      <td>67.0</td>\n      <td>17.6</td>\n      <td>67.00000</td>\n      <td>67.0</td>\n      <td>0.1</td>\n      <td>669.959</td>\n      <td>3696958.0</td>\n      <td>17.9</td>\n      <td>18.0</td>\n      <td>0.463</td>\n      <td>9.8</td>\n    </tr>\n    <tr>\n      <th>4</th>\n      <td>Afghanistan</td>\n      <td>1</td>\n      <td>59.2</td>\n      <td>275.0</td>\n      <td>0.01</td>\n      <td>7.097109</td>\n      <td>68.0</td>\n      <td>17.2</td>\n      <td>68.00000</td>\n      <td>68.0</td>\n      <td>0.1</td>\n      <td>635.37231</td>\n      <td>2978599.0</td>\n      <td>18.2</td>\n      <td>18.2</td>\n      <td>0.454</td>\n      <td>9.5</td>\n    </tr>\n    <tr>\n      <th>...</th>\n      <td>...</td>\n      <td>...</td>\n      <td>...</td>\n      <td>...</td>\n      <td>...</td>\n      <td>...</td>\n      <td>...</td>\n      <td>...</td>\n      <td>...</td>\n      <td>...</td>\n      <td>...</td>\n      <td>...</td>\n      <td>...</td>\n      <td>...</td>\n      <td>...</td>\n      <td>...</td>\n      <td>...</td>\n    </tr>\n    <tr>\n      <th>2933</th>\n      <td>Zimbabwe</td>\n      <td>1</td>\n      <td>44.3</td>\n      <td>723.0</td>\n      <td>4.36</td>\n      <td>0.000000</td>\n      <td>68.0</td>\n      <td>27.1</td>\n      <td>67.00000</td>\n      <td>65.0</td>\n      <td>33.6</td>\n      <td>NaN</td>\n      <td>12777511.0</td>\n      <td>9.4</td>\n      <td>9.4</td>\n      <td>0.407</td>\n      <td>9.2</td>\n    </tr>\n    <tr>\n      <th>2934</th>\n      <td>Zimbabwe</td>\n      <td>1</td>\n      <td>44.5</td>\n      <td>715.0</td>\n      <td>4.06</td>\n      <td>0.000000</td>\n      <td>7.0</td>\n      <td>26.7</td>\n      <td>87.19214</td>\n      <td>68.0</td>\n      <td>36.7</td>\n      <td>NaN</td>\n      <td>12633897.0</td>\n      <td>9.8</td>\n      <td>9.9</td>\n      <td>0.418</td>\n      <td>9.5</td>\n    </tr>\n    <tr>\n      <th>2935</th>\n      <td>Zimbabwe</td>\n      <td>1</td>\n      <td>44.8</td>\n      <td>73.0</td>\n      <td>4.43</td>\n      <td>0.000000</td>\n      <td>73.0</td>\n      <td>26.3</td>\n      <td>73.00000</td>\n      <td>71.0</td>\n      <td>39.8</td>\n      <td>NaN</td>\n      <td>125525.0</td>\n      <td>1.2</td>\n      <td>1.3</td>\n      <td>0.427</td>\n      <td>10.0</td>\n    </tr>\n    <tr>\n      <th>2936</th>\n      <td>Zimbabwe</td>\n      <td>1</td>\n      <td>45.3</td>\n      <td>686.0</td>\n      <td>1.72</td>\n      <td>0.000000</td>\n      <td>76.0</td>\n      <td>25.9</td>\n      <td>76.00000</td>\n      <td>75.0</td>\n      <td>42.1</td>\n      <td>NaN</td>\n      <td>12366165.0</td>\n      <td>1.6</td>\n      <td>1.7</td>\n      <td>0.427</td>\n      <td>9.8</td>\n    </tr>\n    <tr>\n      <th>2937</th>\n      <td>Zimbabwe</td>\n      <td>1</td>\n      <td>46.0</td>\n      <td>665.0</td>\n      <td>1.68</td>\n      <td>0.000000</td>\n      <td>79.0</td>\n      <td>25.5</td>\n      <td>78.00000</td>\n      <td>78.0</td>\n      <td>43.5</td>\n      <td>NaN</td>\n      <td>12222251.0</td>\n      <td>11.0</td>\n      <td>11.2</td>\n      <td>0.434</td>\n      <td>9.8</td>\n    </tr>\n  </tbody>\n</table>\n<p>2928 rows × 17 columns</p>\n</div>"
     },
     "metadata": {}
    }
   ],
   "execution_count": null
  },
  {
   "cell_type": "code",
   "metadata": {
    "tags": [],
    "cell_id": "00075-ac142616-3a24-4cfb-b0ce-cc06d073c084",
    "deepnote_to_be_reexecuted": false,
    "source_hash": "6f2e13bd",
    "execution_start": 1640535849405,
    "execution_millis": 11,
    "deepnote_cell_type": "code"
   },
   "source": "df['GDP'] = df['GDP'].astype('float')",
   "outputs": [],
   "execution_count": null
  },
  {
   "cell_type": "markdown",
   "source": "* Nyní vyřeším nan.",
   "metadata": {
    "tags": [],
    "cell_id": "00075-3981f36f-707e-4a4a-bc88-9a0ce86042c9",
    "deepnote_cell_type": "markdown"
   }
  },
  {
   "cell_type": "code",
   "metadata": {
    "tags": [],
    "cell_id": "00076-253086f5-9763-4b08-bb17-8a81ce700a65",
    "deepnote_to_be_reexecuted": false,
    "source_hash": "1cfb24f2",
    "execution_start": 1640535849420,
    "execution_millis": 17,
    "deepnote_output_heights": [
     21.1875
    ],
    "deepnote_cell_type": "code"
   },
   "source": "df['Life expectancy'].corr(df['GDP'])",
   "outputs": [
    {
     "output_type": "execute_result",
     "execution_count": 51,
     "data": {
      "text/plain": "0.3976532112875866"
     },
     "metadata": {}
    }
   ],
   "execution_count": null
  },
  {
   "cell_type": "code",
   "metadata": {
    "tags": [],
    "cell_id": "00077-405a4fb6-e01c-4565-9ebb-70753cea9d61",
    "deepnote_to_be_reexecuted": false,
    "source_hash": "8c862eb9",
    "execution_start": 1640535849453,
    "execution_millis": 41,
    "deepnote_cell_type": "code"
   },
   "source": "tmp = df.copy(deep=True)\ntmp[tmp['GDP'].isna()] = tmp['GDP'].mean()",
   "outputs": [],
   "execution_count": null
  },
  {
   "cell_type": "code",
   "metadata": {
    "tags": [],
    "cell_id": "00079-ff230574-e06b-4e64-b508-00979026e475",
    "deepnote_to_be_reexecuted": false,
    "source_hash": "b48a0d93",
    "execution_start": 1640535849494,
    "execution_millis": 2,
    "deepnote_output_heights": [
     21.1875
    ],
    "deepnote_cell_type": "code"
   },
   "source": "tmp['Life expectancy'].corr(tmp['GDP'])",
   "outputs": [
    {
     "output_type": "execute_result",
     "execution_count": 53,
     "data": {
      "text/plain": "0.0008922447961236059"
     },
     "metadata": {}
    }
   ],
   "execution_count": null
  },
  {
   "cell_type": "markdown",
   "source": "* Je zřejmé, že naivně nahradit GDP v tomhle případě nepůjde, aniž by to nemělo špatný vliv na korelaci. \n* V tuhle chvíli tedy dropnu 'GDP'. Možná se k tomu později vrátím.",
   "metadata": {
    "tags": [],
    "cell_id": "00079-f89eed3f-7877-4f2c-813e-722869720774",
    "deepnote_cell_type": "markdown"
   }
  },
  {
   "cell_type": "code",
   "metadata": {
    "tags": [],
    "cell_id": "00080-ae1cb8b5-0052-48ac-a3ed-11a398f74d67",
    "deepnote_to_be_reexecuted": false,
    "source_hash": "c48b3a66",
    "execution_start": 1640535849537,
    "execution_millis": 1,
    "deepnote_cell_type": "code"
   },
   "source": "df.drop(columns=['GDP'], inplace=True)",
   "outputs": [],
   "execution_count": null
  },
  {
   "cell_type": "markdown",
   "source": "* U 'Population' mě očekávají podobné problémy, jako u 'GDP', proto to preventivně dropnu, abych si nepřidělával zbytečnou práci v tento okamžik. ",
   "metadata": {
    "tags": [],
    "cell_id": "00081-ee902531-5dc2-48fa-b924-feef022e67b4",
    "deepnote_cell_type": "markdown"
   }
  },
  {
   "cell_type": "code",
   "metadata": {
    "tags": [],
    "cell_id": "00081-f9769aac-3ee8-42ca-81db-717daeea4a54",
    "deepnote_to_be_reexecuted": false,
    "source_hash": "5a9f41b7",
    "execution_start": 1640535849538,
    "execution_millis": 1,
    "deepnote_output_heights": [
     98
    ],
    "deepnote_cell_type": "code"
   },
   "source": "df.drop(columns=['Population'], inplace=True)",
   "outputs": [],
   "execution_count": null
  },
  {
   "cell_type": "markdown",
   "source": "* Mrknu se na thinness.",
   "metadata": {
    "tags": [],
    "cell_id": "00083-6f71717e-4d5d-48c9-8a9f-4c1032d97cad",
    "deepnote_cell_type": "markdown"
   }
  },
  {
   "cell_type": "code",
   "metadata": {
    "tags": [],
    "cell_id": "00083-401c3fee-c228-408c-be75-f48d1e41a278",
    "deepnote_to_be_reexecuted": false,
    "source_hash": "e4971ead",
    "execution_start": 1640535849539,
    "execution_millis": 49,
    "deepnote_output_heights": [
     21.1875
    ],
    "deepnote_cell_type": "code"
   },
   "source": "df[df['thinness  1-19 years'].isna()]['Country'].unique()",
   "outputs": [
    {
     "output_type": "execute_result",
     "execution_count": 56,
     "data": {
      "text/plain": "array(['South Sudan', 'Sudan'], dtype=object)"
     },
     "metadata": {}
    }
   ],
   "execution_count": null
  },
  {
   "cell_type": "code",
   "metadata": {
    "tags": [],
    "cell_id": "00085-67cf06aa-b7fa-4d58-9ea1-d5f6ad1736bf",
    "deepnote_to_be_reexecuted": false,
    "source_hash": "e221dd1",
    "execution_start": 1640535849586,
    "execution_millis": 1,
    "deepnote_cell_type": "code"
   },
   "source": "# sudan_means - list, který v sobě má průměrné 'thinness  1-19 years'\n#               zemí, které jsou Sudánu podobné\nsudan_means = []\nsudan_means.append(df[df['Country'] == 'Chad']['thinness  1-19 years'].mean())\nsudan_means.append(df[df['Country'] == 'Somalia']['thinness  1-19 years'].mean())\nsudan_means.append(df[df['Country'] == 'Ethiopia']['thinness  1-19 years'].mean())\nsudan_means.append(df[df['Country'] == 'Eritrea']['thinness  1-19 years'].mean())\nsudan_means.append(df[df['Country'] == 'Mauritania']['thinness  1-19 years'].mean())",
   "outputs": [],
   "execution_count": null
  },
  {
   "cell_type": "code",
   "metadata": {
    "tags": [],
    "cell_id": "00086-1850e6bf-8e05-4537-b74e-5948681e8b96",
    "deepnote_to_be_reexecuted": false,
    "source_hash": "c28efd71",
    "execution_start": 1640535849587,
    "execution_millis": 42,
    "deepnote_output_heights": [
     21.1875
    ],
    "deepnote_cell_type": "code"
   },
   "source": "sudan_th_1_19 = sum(sudan_means)/len(sudan_means)",
   "outputs": [],
   "execution_count": null
  },
  {
   "cell_type": "code",
   "metadata": {
    "tags": [],
    "cell_id": "00087-7ed1eb74-8b5d-43d2-a6c4-6a2f576fbc79",
    "deepnote_to_be_reexecuted": false,
    "source_hash": "8b7f6278",
    "execution_start": 1640535849630,
    "execution_millis": 0,
    "deepnote_cell_type": "code"
   },
   "source": "df.loc[df['thinness  1-19 years'].isna(), 'thinness  1-19 years'] = sudan_th_1_19",
   "outputs": [],
   "execution_count": null
  },
  {
   "cell_type": "code",
   "metadata": {
    "tags": [],
    "cell_id": "00088-0c6544f7-1a8f-4eff-8494-a0e6f78c0987",
    "deepnote_to_be_reexecuted": false,
    "source_hash": "9b5b2832",
    "execution_start": 1640535849630,
    "execution_millis": 9,
    "deepnote_output_heights": [
     21.1875
    ],
    "deepnote_cell_type": "code"
   },
   "source": "df[df['thinness 5-9 years'].isna()]['Country'].unique()",
   "outputs": [
    {
     "output_type": "execute_result",
     "execution_count": 60,
     "data": {
      "text/plain": "array(['South Sudan', 'Sudan'], dtype=object)"
     },
     "metadata": {}
    }
   ],
   "execution_count": null
  },
  {
   "cell_type": "code",
   "metadata": {
    "tags": [],
    "cell_id": "00089-7bd12537-8c6c-4f11-97aa-919ec5e1b670",
    "deepnote_to_be_reexecuted": false,
    "source_hash": "3315ebfd",
    "execution_start": 1640535849643,
    "execution_millis": 18,
    "deepnote_cell_type": "code"
   },
   "source": "# sudan_means - list, který v sobě má průměrné 'thinness  5-9 years'\n#               zemí, které jsou Sudánu podobné\nsudan_means = []\nsudan_means.append(df[df['Country'] == 'Chad']['thinness 5-9 years'].mean())\nsudan_means.append(df[df['Country'] == 'Somalia']['thinness 5-9 years'].mean())\nsudan_means.append(df[df['Country'] == 'Ethiopia']['thinness 5-9 years'].mean())\nsudan_means.append(df[df['Country'] == 'Eritrea']['thinness 5-9 years'].mean())\nsudan_means.append(df[df['Country'] == 'Mauritania']['thinness 5-9 years'].mean())",
   "outputs": [],
   "execution_count": null
  },
  {
   "cell_type": "code",
   "metadata": {
    "tags": [],
    "cell_id": "00090-5cb2efe9-4fc4-4c19-b822-0edcaf35edc4",
    "deepnote_to_be_reexecuted": false,
    "source_hash": "a00e4455",
    "execution_start": 1640535849670,
    "execution_millis": 14,
    "deepnote_cell_type": "code"
   },
   "source": "sudan_th_5_19 = sum(sudan_means)/len(sudan_means)",
   "outputs": [],
   "execution_count": null
  },
  {
   "cell_type": "code",
   "metadata": {
    "tags": [],
    "cell_id": "00091-a5e6015e-c83e-40c6-b097-1049ef6d25a0",
    "deepnote_to_be_reexecuted": false,
    "source_hash": "eeebee64",
    "execution_start": 1640535849689,
    "execution_millis": 56,
    "deepnote_output_heights": [
     611
    ],
    "deepnote_cell_type": "code"
   },
   "source": "df.loc[df['thinness 5-9 years'].isna(), 'thinness 5-9 years'] = sudan_th_5_19",
   "outputs": [],
   "execution_count": null
  },
  {
   "cell_type": "markdown",
   "source": "* Nyní vyřeším problémy s 'Income composition of resources'.",
   "metadata": {
    "tags": [],
    "cell_id": "00092-0b563204-9ef9-481c-a1e7-abb2c8eb7ac7",
    "deepnote_cell_type": "markdown"
   }
  },
  {
   "cell_type": "code",
   "metadata": {
    "tags": [],
    "cell_id": "00093-65a31cdd-6d90-438d-a9be-e28e8e6a3105",
    "deepnote_to_be_reexecuted": false,
    "source_hash": "79d8bbfd",
    "execution_start": 1640535849746,
    "execution_millis": 2,
    "deepnote_output_heights": [
     21.1875
    ],
    "deepnote_cell_type": "code"
   },
   "source": "df[df['Income composition of resources'].isna()].shape[0]",
   "outputs": [
    {
     "output_type": "execute_result",
     "execution_count": 64,
     "data": {
      "text/plain": "160"
     },
     "metadata": {}
    }
   ],
   "execution_count": null
  },
  {
   "cell_type": "code",
   "metadata": {
    "tags": [],
    "cell_id": "00092-6af6a8c3-09c4-490c-b507-35e228cd9910",
    "deepnote_to_be_reexecuted": false,
    "source_hash": "a6145669",
    "execution_start": 1640535849746,
    "execution_millis": 46,
    "deepnote_output_heights": [
     136.3125
    ],
    "deepnote_cell_type": "code"
   },
   "source": "df[df['Income composition of resources'].isna()]['Country'].unique()",
   "outputs": [
    {
     "output_type": "execute_result",
     "execution_count": 65,
     "data": {
      "text/plain": "array([\"Côte d'Ivoire\", 'Czechia',\n       \"Democratic People's Republic of Korea\",\n       'Democratic Republic of the Congo', 'Republic of Korea',\n       'Republic of Moldova', 'Somalia',\n       'United Kingdom of Great Britain and Northern Ireland',\n       'United Republic of Tanzania', 'United States of America'],\n      dtype=object)"
     },
     "metadata": {}
    }
   ],
   "execution_count": null
  },
  {
   "cell_type": "code",
   "metadata": {
    "tags": [],
    "cell_id": "00094-587152c1-d789-4c1c-bbd9-855a89d657c7",
    "deepnote_to_be_reexecuted": false,
    "source_hash": "46ab54b9",
    "execution_start": 1640535849791,
    "execution_millis": 2,
    "deepnote_output_heights": [
     21.1875
    ],
    "deepnote_cell_type": "code"
   },
   "source": "df['Life expectancy'].corr(df['Income composition of resources'])",
   "outputs": [
    {
     "output_type": "execute_result",
     "execution_count": 66,
     "data": {
      "text/plain": "0.7247759785960612"
     },
     "metadata": {}
    }
   ],
   "execution_count": null
  },
  {
   "cell_type": "code",
   "metadata": {
    "tags": [],
    "cell_id": "00094-7644df87-2611-4e2f-9ed9-0caec9f81619",
    "deepnote_to_be_reexecuted": false,
    "source_hash": "4e5889b6",
    "execution_start": 1640535849797,
    "execution_millis": 44,
    "deepnote_output_heights": [
     328.390625
    ],
    "deepnote_cell_type": "code"
   },
   "source": "icr = \"Income composition of resources\"\n\ndf.loc[(df[\"Country\"] == \"Côte d'Ivoire\") & (df[icr].isna()), icr] = df[\n    df[\"Country\"] == \"Guinea\"\n][icr].mean()\n\ndf.loc[(df[\"Country\"] == \"Czechia\") & (df[icr].isna()), icr] = df[\n    df[\"Country\"] == \"Slovakia\"\n][icr].mean()\n\ndf.loc[\n    (df[\"Country\"] == \"Democratic People's Republic of Korea\") & (df[icr].isna()), icr\n] = df[df[\"Country\"] == \"Japan\"][icr].mean()\n\ndf.loc[\n    (df[\"Country\"] == \"Democratic Republic of the Congo\") & (df[icr].isna()), icr\n] = df[df[\"Country\"] == \"Angola\"][icr].mean()\n\ndf.loc[(df[\"Country\"] == \"Republic of Korea\") & (df[icr].isna()), icr] = df[\n    df[\"Country\"] == \"Japan\"\n][icr].mean()\n\ndf.loc[(df[\"Country\"] == \"Republic of Moldova\") & (df[icr].isna()), icr] = df[\n    df[\"Country\"] == \"Ukraine\"\n][icr].mean()\n\ndf.loc[(df[\"Country\"] == \"Somalia\") & (df[icr].isna()), icr] = df[\n    df[\"Country\"] == \"Ethiopia\"\n][icr].mean()\n\ndf.loc[\n    (df[\"Country\"] == \"United Kingdom of Great Britain and Northern Ireland\")\n    & (df[icr].isna()),\n    icr,\n] = df[df[\"Country\"] == \"Ireland\"][icr].mean()\n\ndf.loc[(df[\"Country\"] == \"United Republic of Tanzania\") & (df[icr].isna()), icr] = df[\n    df[\"Country\"] == \"Angola\"\n][icr].mean()\n\ndf.loc[(df[\"Country\"] == \"United States of America\") & (df[icr].isna()), icr] = df[\n    df[\"Country\"] == \"Canada\"\n][icr].mean()\n",
   "outputs": [],
   "execution_count": null
  },
  {
   "cell_type": "code",
   "metadata": {
    "tags": [],
    "cell_id": "00097-9aa4d5aa-3aa7-48b6-a583-7c40a59d07c6",
    "deepnote_to_be_reexecuted": false,
    "source_hash": "46ab54b9",
    "execution_start": 1640535849868,
    "execution_millis": 21,
    "deepnote_output_heights": [
     21.1875
    ],
    "deepnote_cell_type": "code"
   },
   "source": "df['Life expectancy'].corr(df['Income composition of resources'])",
   "outputs": [
    {
     "output_type": "execute_result",
     "execution_count": 68,
     "data": {
      "text/plain": "0.7346492739021895"
     },
     "metadata": {}
    }
   ],
   "execution_count": null
  },
  {
   "cell_type": "markdown",
   "source": "* Nahrazení proběhlo na základě mého subjektivního pozorování toho, že určité země si jsou podobné. Byť je velmi naivní, proběhlo poměrně úspěšně. Korelace vůči vysvětlované proměnné se vychýlila o +0.01 vůči korelaci původní. ",
   "metadata": {
    "tags": [],
    "cell_id": "00099-7317a368-41c7-4ecd-b46b-244aabb81c05",
    "deepnote_cell_type": "markdown"
   }
  },
  {
   "cell_type": "code",
   "metadata": {
    "tags": [],
    "cell_id": "00100-17490b97-1c55-4fb3-84d3-8edb764751bc",
    "deepnote_to_be_reexecuted": false,
    "source_hash": "593d60a6",
    "execution_start": 1640535849896,
    "execution_millis": 19,
    "deepnote_output_heights": [
     21.1875
    ],
    "deepnote_cell_type": "code"
   },
   "source": "df['Life expectancy'].corr(df['Schooling'])",
   "outputs": [
    {
     "output_type": "execute_result",
     "execution_count": 69,
     "data": {
      "text/plain": "0.7519754627366979"
     },
     "metadata": {}
    }
   ],
   "execution_count": null
  },
  {
   "cell_type": "code",
   "metadata": {
    "tags": [],
    "cell_id": "00100-277ba08a-3387-45f9-9512-33d24bead28f",
    "deepnote_to_be_reexecuted": false,
    "source_hash": "752595b0",
    "execution_start": 1640535849918,
    "execution_millis": 22,
    "deepnote_output_heights": [
     136.3125
    ],
    "deepnote_cell_type": "code"
   },
   "source": "df[df['Schooling'].isna()]['Country'].unique()",
   "outputs": [
    {
     "output_type": "execute_result",
     "execution_count": 70,
     "data": {
      "text/plain": "array([\"Côte d'Ivoire\", 'Czechia',\n       \"Democratic People's Republic of Korea\",\n       'Democratic Republic of the Congo', 'Republic of Korea',\n       'Republic of Moldova', 'Somalia',\n       'United Kingdom of Great Britain and Northern Ireland',\n       'United Republic of Tanzania', 'United States of America'],\n      dtype=object)"
     },
     "metadata": {}
    }
   ],
   "execution_count": null
  },
  {
   "cell_type": "code",
   "metadata": {
    "tags": [],
    "cell_id": "00102-7ec922ad-0914-41df-ac47-f061e2dd531d",
    "deepnote_to_be_reexecuted": false,
    "source_hash": "25238c1e",
    "execution_start": 1640535849949,
    "execution_millis": 59,
    "deepnote_cell_type": "code"
   },
   "source": "icr = \"Schooling\"\n\ndf.loc[(df[\"Country\"] == \"Côte d'Ivoire\") & (df[icr].isna()), icr] = df[\n    df[\"Country\"] == \"Guinea\"\n][icr].mean()\n\ndf.loc[(df[\"Country\"] == \"Czechia\") & (df[icr].isna()), icr] = df[\n    df[\"Country\"] == \"Slovakia\"\n][icr].mean()\n\ndf.loc[\n    (df[\"Country\"] == \"Democratic People's Republic of Korea\") & (df[icr].isna()), icr\n] = df[df[\"Country\"] == \"Japan\"][icr].mean()\n\ndf.loc[\n    (df[\"Country\"] == \"Democratic Republic of the Congo\") & (df[icr].isna()), icr\n] = df[df[\"Country\"] == \"Angola\"][icr].mean()\n\ndf.loc[(df[\"Country\"] == \"Republic of Korea\") & (df[icr].isna()), icr] = df[\n    df[\"Country\"] == \"Japan\"\n][icr].mean()\n\ndf.loc[(df[\"Country\"] == \"Republic of Moldova\") & (df[icr].isna()), icr] = df[\n    df[\"Country\"] == \"Ukraine\"\n][icr].mean()\n\ndf.loc[(df[\"Country\"] == \"Somalia\") & (df[icr].isna()), icr] = df[\n    df[\"Country\"] == \"Ethiopia\"\n][icr].mean()\n\ndf.loc[\n    (df[\"Country\"] == \"United Kingdom of Great Britain and Northern Ireland\")\n    & (df[icr].isna()),\n    icr,\n] = df[df[\"Country\"] == \"Ireland\"][icr].mean()\n\ndf.loc[(df[\"Country\"] == \"United Republic of Tanzania\") & (df[icr].isna()), icr] = df[\n    df[\"Country\"] == \"Angola\"\n][icr].mean()\n\ndf.loc[(df[\"Country\"] == \"United States of America\") & (df[icr].isna()), icr] = df[\n    df[\"Country\"] == \"Canada\"\n][icr].mean()\n",
   "outputs": [],
   "execution_count": null
  },
  {
   "cell_type": "code",
   "metadata": {
    "tags": [],
    "cell_id": "00103-aa185b23-7082-4798-be5f-b6a453b223bf",
    "deepnote_to_be_reexecuted": false,
    "source_hash": "593d60a6",
    "execution_start": 1640535850012,
    "execution_millis": 21,
    "deepnote_output_heights": [
     21.1875
    ],
    "deepnote_cell_type": "code"
   },
   "source": "df['Life expectancy'].corr(df['Schooling'])",
   "outputs": [
    {
     "output_type": "execute_result",
     "execution_count": 72,
     "data": {
      "text/plain": "0.7641850933833733"
     },
     "metadata": {}
    }
   ],
   "execution_count": null
  },
  {
   "cell_type": "markdown",
   "source": "* Nyní se korelace mezi 'Life expectancy' a 'Schooling' zvětšila o pouhých ~0.12.",
   "metadata": {
    "tags": [],
    "cell_id": "00104-eea76cfb-b196-4255-ac47-065ab61469eb",
    "deepnote_cell_type": "markdown"
   }
  },
  {
   "cell_type": "markdown",
   "source": "* Kouknu se na sloupec 'Diphtheria'.",
   "metadata": {
    "tags": [],
    "cell_id": "00105-c00cedc1-e3e5-487a-879d-dbbae408eb81",
    "deepnote_cell_type": "markdown"
   }
  },
  {
   "cell_type": "markdown",
   "source": "* Nejdříve opravím případné chyby v datech, kde je chybně hodnota menší, než 10.",
   "metadata": {
    "tags": [],
    "cell_id": "00106-3a3188b4-d069-49d0-bdf1-aa593c7da2d2",
    "deepnote_cell_type": "markdown"
   }
  },
  {
   "cell_type": "code",
   "metadata": {
    "tags": [],
    "cell_id": "00105-96e0f157-934e-4d28-b0b7-a01436137fab",
    "deepnote_to_be_reexecuted": false,
    "source_hash": "7a05ba8b",
    "execution_start": 1640535850036,
    "execution_millis": 15,
    "deepnote_output_heights": [
     232.390625
    ],
    "deepnote_cell_type": "code"
   },
   "source": "df.loc[df['Diphtheria'] < 10, 'Diphtheria'] = df[df['Diphtheria'] < 10]['Diphtheria'].apply(lambda x: x * 10)",
   "outputs": [],
   "execution_count": null
  },
  {
   "cell_type": "code",
   "metadata": {
    "tags": [],
    "cell_id": "00108-43675a07-2cb5-406b-a3e9-c1554f91d5fa",
    "deepnote_to_be_reexecuted": false,
    "source_hash": "37a5a1fe",
    "execution_start": 1640535850055,
    "execution_millis": 18,
    "deepnote_output_heights": [
     21.1875
    ],
    "deepnote_cell_type": "code"
   },
   "source": "df['Life expectancy'].corr(df['Diphtheria'])",
   "outputs": [
    {
     "output_type": "execute_result",
     "execution_count": 74,
     "data": {
      "text/plain": "0.6197184926804034"
     },
     "metadata": {}
    }
   ],
   "execution_count": null
  },
  {
   "cell_type": "code",
   "metadata": {
    "tags": [],
    "cell_id": "00108-fe7a1812-81ee-4916-b815-97fbf38046cb",
    "deepnote_to_be_reexecuted": false,
    "source_hash": "d62f78d5",
    "execution_start": 1640535850081,
    "execution_millis": 14,
    "deepnote_output_heights": [
     21.1875
    ],
    "deepnote_cell_type": "code"
   },
   "source": "df[df['Diphtheria'].isna()]['Country'].unique()",
   "outputs": [
    {
     "output_type": "execute_result",
     "execution_count": 75,
     "data": {
      "text/plain": "array(['Montenegro', 'South Sudan', 'Timor-Leste'], dtype=object)"
     },
     "metadata": {}
    }
   ],
   "execution_count": null
  },
  {
   "cell_type": "code",
   "metadata": {
    "tags": [],
    "cell_id": "00109-eafb0081-d245-45e9-8cc9-a821b5d6ab30",
    "deepnote_to_be_reexecuted": false,
    "source_hash": "e42f824d",
    "execution_start": 1640535850150,
    "execution_millis": 1,
    "deepnote_output_heights": [
     21.1875
    ],
    "deepnote_cell_type": "code"
   },
   "source": "df.loc[df['Country'] == 'Montenegro', 'Diphtheria']  = (df[df['Country'] == 'Serbia']['Diphtheria'].mean() + df[\n    df['Country'] == 'Bosnia and Herzegovina']['Diphtheria'].mean() + df[\n        df['Country'] == 'Albania']['Diphtheria'].mean() + df[\n            df['Country'] == 'Croatia']['Diphtheria'].mean())/4\n\ndf.loc[df['Country'] == 'South Sudan', 'Diphtheria']  = df[df['Country'] == 'Sudan']['Diphtheria'].mean()\n\ndf.loc[df['Country'] == 'Timor-Leste', 'Diphtheria']  = df[df['Country'] == 'Indonesia']['Diphtheria'].mean()\n",
   "outputs": [],
   "execution_count": null
  },
  {
   "cell_type": "code",
   "metadata": {
    "tags": [],
    "cell_id": "00111-219a989d-7604-4742-a72f-de55129fee84",
    "deepnote_to_be_reexecuted": false,
    "source_hash": "37a5a1fe",
    "execution_start": 1640535850234,
    "execution_millis": 24,
    "deepnote_output_heights": [
     21.1875
    ],
    "deepnote_cell_type": "code"
   },
   "source": "df['Life expectancy'].corr(df['Diphtheria'])",
   "outputs": [
    {
     "output_type": "execute_result",
     "execution_count": 77,
     "data": {
      "text/plain": "0.6176606118503243"
     },
     "metadata": {}
    }
   ],
   "execution_count": null
  },
  {
   "cell_type": "markdown",
   "source": "* Korelace vůči vysvětlované proměnné se nehnula. Hnula se o pouhých ~0.002.",
   "metadata": {
    "tags": [],
    "cell_id": "00112-97304f16-636f-45d8-8784-18a17c153519",
    "deepnote_cell_type": "markdown"
   }
  },
  {
   "cell_type": "markdown",
   "source": "* Nyní už jen doladit určité hodnoty u 'Hepatitis B'.",
   "metadata": {
    "tags": [],
    "cell_id": "00113-16d2d502-1565-444b-9fa3-b2ab99d2cc9a",
    "deepnote_cell_type": "markdown"
   }
  },
  {
   "cell_type": "code",
   "metadata": {
    "tags": [],
    "cell_id": "00114-372973bf-4f63-4cf4-bc1a-935cd1d4d3a2",
    "deepnote_to_be_reexecuted": false,
    "source_hash": "7c83b35f",
    "execution_start": 1640535850278,
    "execution_millis": 2,
    "deepnote_output_heights": [
     21.1875
    ],
    "deepnote_cell_type": "code"
   },
   "source": "df['Life expectancy'].corr(df['Hepatitis B'])",
   "outputs": [
    {
     "output_type": "execute_result",
     "execution_count": 78,
     "data": {
      "text/plain": "0.2843576620815246"
     },
     "metadata": {}
    }
   ],
   "execution_count": null
  },
  {
   "cell_type": "code",
   "metadata": {
    "tags": [],
    "cell_id": "00114-8d28b06d-b996-420d-aeeb-ca0e4801f885",
    "deepnote_to_be_reexecuted": false,
    "source_hash": "4888a7ff",
    "execution_start": 1640535850325,
    "execution_millis": 1,
    "deepnote_output_heights": [
     21.1875
    ],
    "deepnote_cell_type": "code"
   },
   "source": "df.loc[df['Hepatitis B'] < 10, 'Hepatitis B'] = df[df['Hepatitis B'] < 10].apply(lambda x: x * 10)",
   "outputs": [],
   "execution_count": null
  },
  {
   "cell_type": "code",
   "metadata": {
    "tags": [],
    "cell_id": "00115-458520b4-5b9b-49bd-80c6-e77d90c6464f",
    "deepnote_to_be_reexecuted": false,
    "source_hash": "7c83b35f",
    "execution_start": 1640535850326,
    "execution_millis": 254,
    "deepnote_output_heights": [
     21.1875
    ],
    "deepnote_cell_type": "code"
   },
   "source": "df['Life expectancy'].corr(df['Hepatitis B'])",
   "outputs": [
    {
     "output_type": "execute_result",
     "execution_count": 80,
     "data": {
      "text/plain": "0.3278955743520096"
     },
     "metadata": {}
    }
   ],
   "execution_count": null
  },
  {
   "cell_type": "markdown",
   "source": "* Konečně můžu jít na regresi s případným odladěním dat v budoucnu.",
   "metadata": {
    "tags": [],
    "cell_id": "00116-fb2142b4-f29b-46e1-98fb-d8ad14901910",
    "deepnote_cell_type": "markdown"
   }
  },
  {
   "cell_type": "markdown",
   "source": "## 4. Aplikujte lineární a hřebenovou regresi a výsledky řádně vyhodnoťte:\n\n* K měření chyby použijte mean_absolute_error.",
   "metadata": {
    "tags": [],
    "cell_id": "00116-7711b349-efe4-48ff-8121-d0d3d6d8ac1c",
    "deepnote_cell_type": "markdown"
   }
  },
  {
   "cell_type": "markdown",
   "source": "* Zavedu si funkci na měření chyby pomocí mean_absolute_error.",
   "metadata": {
    "tags": [],
    "cell_id": "00118-33ab40d4-87dd-4b2a-89a5-af81e2dda94c",
    "deepnote_cell_type": "markdown"
   }
  },
  {
   "cell_type": "code",
   "metadata": {
    "tags": [],
    "cell_id": "00120-9666df16-3c4d-420f-ad0e-a3fbe3207864",
    "deepnote_to_be_reexecuted": false,
    "source_hash": "8e82d29",
    "execution_start": 1640535850373,
    "execution_millis": 1,
    "deepnote_cell_type": "code"
   },
   "source": "def get_mae(y_test, y_pred):\n    from sklearn.metrics import mean_absolute_error\n\n    return mean_absolute_error(y_test, y_pred)",
   "outputs": [],
   "execution_count": null
  },
  {
   "cell_type": "code",
   "metadata": {
    "tags": [],
    "cell_id": "00119-915bfc94-0f99-4303-b82e-84f37b602d7e",
    "deepnote_to_be_reexecuted": false,
    "source_hash": "2407bdeb",
    "execution_start": 1640535850374,
    "execution_millis": 207,
    "deepnote_cell_type": "code"
   },
   "source": "X, X_test, Y, Y_test = train_test_split(\n    df.drop(columns=[\"Country\", \"Life expectancy\"]), \n    df[\"Life expectancy\"], \n    test_size=0.25,\n    random_state=42\n)\nprint(\"Train X shape\", X.shape)\nprint(\"Test X shape\", X_test.shape)",
   "outputs": [
    {
     "name": "stdout",
     "text": "Train X shape (2196, 13)\nTest X shape (732, 13)\n",
     "output_type": "stream",
     "data": {}
    }
   ],
   "execution_count": null
  },
  {
   "cell_type": "code",
   "metadata": {
    "tags": [],
    "cell_id": "00120-dff99e35-382e-45a8-ab89-77fdc6273c01",
    "deepnote_to_be_reexecuted": false,
    "source_hash": "23e9b51a",
    "execution_start": 1640535850414,
    "execution_millis": 168,
    "deepnote_output_heights": [
     21.1875
    ],
    "deepnote_cell_type": "code"
   },
   "source": "from sklearn.linear_model import LinearRegression\n\nclf = LinearRegression()\nclf.fit(X,Y)",
   "outputs": [
    {
     "output_type": "execute_result",
     "execution_count": 83,
     "data": {
      "text/plain": "LinearRegression()"
     },
     "metadata": {}
    }
   ],
   "execution_count": null
  },
  {
   "cell_type": "code",
   "metadata": {
    "tags": [],
    "cell_id": "00124-a0030c9f-8ad6-4656-84d6-6b2ef979af22",
    "deepnote_to_be_reexecuted": false,
    "source_hash": "17690575",
    "execution_start": 1640535850538,
    "execution_millis": 26,
    "deepnote_cell_type": "code"
   },
   "source": "# kod na vykreslení interaktivního grafu\n# si s dovolením půjčim z courses a lehce poupravím\n\ndef plot_prediction_results(title, true, predicted):\n    from plotly import graph_objects as go\n\n    fig = go.Figure(data=go.Scatter(x=[0, 100], y=[0, 100], mode=\"lines\", name=\"y = ŷ\"))\n    fig.add_scatter(x=true, y=predicted, name=\"(test, prediction)\", mode=\"markers\")\n    fig.update_layout(\n        title=f\"Visualization of predictions | {title} | MAE: {get_mae(true, predicted)}\",\n        xaxis_title=\"Real values\",\n        yaxis_title=\"Predicted values\",\n        \n    )\n\n    fig.update_layout(yaxis=dict(range=[0,100],  scaleratio=1));\n    fig.update_layout(xaxis=dict(range=[0,100],  scaleratio=1));\n\n    fig.show()",
   "outputs": [],
   "execution_count": null
  },
  {
   "cell_type": "code",
   "metadata": {
    "tags": [],
    "cell_id": "00124-b44bf3d2-4fbf-4da3-821b-1fd471761b35",
    "deepnote_to_be_reexecuted": false,
    "source_hash": "bc2be112",
    "execution_start": 1640535850578,
    "execution_millis": 302,
    "deepnote_output_heights": [
     527
    ],
    "deepnote_cell_type": "code"
   },
   "source": "plot_prediction_results(\"sklearn linear regression\", Y_test, clf.predict(X_test))",
   "outputs": [
    {
     "data": {
      "text/html": "<html>\n<head><meta charset=\"utf-8\" /></head>\n<body>\n    <div>            <script src=\"https://cdnjs.cloudflare.com/ajax/libs/mathjax/2.7.5/MathJax.js?config=TeX-AMS-MML_SVG\"></script><script type=\"text/javascript\">if (window.MathJax) {MathJax.Hub.Config({SVG: {font: \"STIX-Web\"}});}</script>                <script type=\"text/javascript\">window.PlotlyConfig = {MathJaxConfig: 'local'};</script>\n        <script src=\"https://cdn.plot.ly/plotly-2.6.3.min.js\"></script>                <div id=\"07255dd0-e820-4a15-8021-bbddddf8d3df\" class=\"plotly-graph-div\" style=\"height:525px; width:100%;\"></div>            <script type=\"text/javascript\">                                    window.PLOTLYENV=window.PLOTLYENV || {};                                    if (document.getElementById(\"07255dd0-e820-4a15-8021-bbddddf8d3df\")) {                    Plotly.newPlot(                        \"07255dd0-e820-4a15-8021-bbddddf8d3df\",                        [{\"mode\":\"lines\",\"name\":\"y = \\u0177\",\"x\":[0,100],\"y\":[0,100],\"type\":\"scatter\"},{\"mode\":\"markers\",\"name\":\"(test, prediction)\",\"x\":[56.5,73.0,82.5,75.6,53.0,65.2,72.4,74.1,77.0,67.8,73.1,75.1,44.3,47.9,74.3,74.6,78.4,77.7,79.1,73.3,62.8,82.5,54.0,63.4,72.0,47.8,52.1,75.1,65.6,78.4,73.9,76.3,61.2,69.6,72.7,57.9,74.5,69.4,77.0,75.4,57.7,67.3,78.5,54.2,47.6,68.9,79.4,67.6,63.3,59.8,71.7,73.2,66.5,58.6,67.7,72.8,69.2,72.8,76.4,53.3,72.5,69.0,59.4,56.0,54.1,81.9,64.5,55.3,73.0,72.4,75.5,85.0,74.1,75.6,53.2,75.2,74.9,74.7,73.3,77.3,75.9,83.0,71.3,63.8,76.8,65.9,74.1,79.1,77.8,77.5,62.2,79.5,81.1,77.7,65.3,51.9,74.7,67.3,66.2,84.0,69.6,51.2,74.6,76.9,58.0,75.6,57.4,75.7,63.3,67.3,82.1,71.0,81.8,62.9,75.3,83.0,82.7,72.9,59.8,75.2,73.0,76.0,72.2,71.1,74.3,70.0,69.5,74.4,69.9,75.6,73.6,67.9,54.0,81.5,86.0,74.0,79.0,64.4,79.0,82.5,72.8,71.6,64.0,81.5,74.6,56.5,78.7,55.3,81.6,67.1,52.1,74.9,59.9,82.0,77.5,76.5,73.5,76.5,57.9,66.8,68.7,61.3,74.7,54.6,49.2,72.6,66.5,77.0,51.2,71.9,67.6,71.0,51.3,77.2,76.7,55.7,62.8,87.0,59.6,65.3,67.0,43.8,73.6,73.6,75.6,73.5,62.9,74.2,78.5,78.0,73.8,81.7,82.0,57.6,74.8,73.9,51.7,79.8,67.5,62.3,56.4,75.3,51.9,74.8,72.5,80.0,81.6,45.3,66.1,79.4,65.0,71.6,75.8,73.6,79.1,76.0,52.0,76.3,68.3,74.4,74.1,68.1,72.7,67.1,81.0,52.4,75.7,61.0,73.5,81.3,69.0,71.4,73.3,79.3,51.6,57.3,73.0,76.6,77.0,58.6,78.8,68.0,79.8,74.9,73.9,79.3,72.1,71.7,79.9,62.1,83.0,62.2,73.1,73.0,67.7,79.8,81.7,75.2,79.4,72.2,74.0,71.2,55.0,71.0,46.3,59.5,75.2,51.4,58.5,52.5,79.2,65.5,73.3,75.4,82.1,76.7,54.0,76.4,78.0,77.0,61.6,58.0,76.0,74.7,59.0,73.5,77.5,75.4,71.0,75.4,77.0,48.2,72.6,74.5,72.8,79.3,53.1,67.7,75.0,46.0,71.4,72.9,68.7,72.5,77.1,60.0,55.3,65.0,56.3,78.0,74.6,63.8,74.3,81.3,71.6,66.2,61.3,68.8,72.1,69.0,68.9,62.8,74.2,72.0,58.0,73.9,69.8,76.0,79.3,48.9,74.3,79.7,79.9,72.1,67.1,63.7,68.0,62.5,72.3,67.0,75.0,61.8,72.0,64.4,58.4,73.3,74.7,77.5,75.7,73.0,79.0,52.7,66.0,75.0,74.1,69.9,72.3,75.4,59.1,79.9,56.5,71.1,75.4,57.4,63.8,84.0,79.3,79.1,73.0,54.5,71.1,74.2,51.4,76.0,63.9,77.7,80.0,82.0,63.9,73.5,78.9,66.0,81.3,73.0,64.0,68.2,79.0,78.1,72.0,73.5,55.0,62.1,49.7,86.0,73.1,72.3,68.0,78.3,80.0,71.6,66.8,73.3,65.7,73.0,62.6,61.4,60.0,68.2,66.5,78.2,63.5,52.7,59.3,86.0,74.4,71.3,78.0,66.0,63.6,77.3,70.0,74.5,79.3,75.8,79.6,69.7,64.4,78.0,73.1,51.9,74.7,83.4,74.4,73.3,76.3,76.5,83.0,68.7,75.1,52.8,67.3,55.3,83.5,42.3,84.0,77.0,73.2,79.0,75.0,68.1,51.9,65.1,68.0,74.3,66.1,73.0,72.1,71.4,75.2,59.7,63.7,82.0,75.2,72.2,66.7,76.3,76.2,71.4,56.0,79.0,57.4,80.0,62.2,64.2,59.8,46.0,56.1,69.2,72.7,73.6,73.3,54.8,72.8,75.2,64.7,75.0,47.4,63.3,76.2,51.0,64.1,58.9,49.6,72.4,72.8,53.1,59.2,62.3,53.3,69.1,58.2,68.4,73.1,69.4,79.8,73.7,56.1,52.5,70.0,48.2,66.2,73.2,73.4,74.8,81.2,77.5,73.9,69.9,77.2,81.0,74.9,73.3,73.5,65.0,53.8,88.0,67.0,71.7,78.1,77.3,71.0,87.0,58.0,68.7,71.1,61.0,72.9,52.0,51.5,66.2,74.9,56.7,67.7,56.2,82.4,71.1,72.8,53.8,55.9,79.5,81.0,79.5,72.8,75.1,48.6,44.5,84.0,65.5,75.0,67.3,58.1,51.1,65.8,75.0,73.6,79.4,82.4,69.4,78.4,73.3,62.9,72.1,76.6,54.4,74.3,53.8,69.4,73.0,72.3,73.0,74.3,69.1,74.8,65.6,66.0,65.7,74.9,71.5,56.2,81.1,58.9,85.0,72.9,73.9,53.5,48.0,81.0,75.0,74.1,69.3,82.3,77.4,74.7,67.6,73.7,78.2,73.6,73.1,52.0,81.4,67.2,56.7,72.6,64.2,74.9,79.4,78.3,73.9,66.1,57.2,62.0,59.3,65.3,72.9,71.9,81.3,73.8,82.0,59.4,79.5,77.0,59.4,67.8,60.0,66.4,44.6,78.0,67.7,79.2,75.9,74.5,73.9,65.1,65.6,61.8,73.0,73.2,69.5,62.3,67.5,82.0,76.3,76.5,75.3,51.6,68.0,46.4,68.1,57.3,64.0,74.7,51.9,75.5,71.7,66.0,68.7,73.1,57.2,66.6,62.4,73.2,77.9,71.0,79.5,68.0,74.4,73.7,45.3,48.1,63.7,49.6,63.1,74.7,62.6,55.0,74.9,58.7,71.6,75.0,61.9,53.4,47.7,56.9,78.0,79.9,59.3,65.8,61.4,50.0,79.9,72.6,55.5,69.6,61.0,63.5,74.8,75.5,73.0,69.0,67.2,73.8,54.0,47.7,81.7,52.4,75.8,59.3,73.0,56.5,59.1,53.5,79.6,55.3,67.0,74.4,69.8,54.8,75.6,74.2,55.0,74.5,67.3],\"y\":[55.6065598025335,69.18565087397283,78.38698196700238,78.04724653194772,56.94397501415525,65.3058515328327,74.58957704061179,77.46892166188147,75.40087928692633,72.79980225128844,73.40182936537761,75.84413243210817,36.9690517157875,49.7972066992436,74.25664972565292,74.4308452334304,75.74111145109242,78.29230930187119,78.96800139034713,70.97171993906244,67.33270097939054,78.62486292031596,55.17080163150742,64.08804243963564,67.48719783614231,42.989150394486735,57.47018641548549,77.92370027202048,65.14179751868876,81.31950181208343,74.00258671626187,70.7313321796553,61.62284947175344,68.05334579617265,75.60430930791904,53.766969143848115,73.70969578826019,69.25051713692602,79.02581647971643,70.33864580051824,55.82161548084043,72.45915354169014,77.99591154654254,54.50941107712183,52.99590934039231,71.49151063565456,75.97991621512608,70.2451670032693,66.88391084968528,63.382478944678795,72.7139739769542,78.04914430755585,66.88068674114007,56.81565754194364,66.03418558557571,71.96324066019676,71.4320278678179,69.44126552932184,72.01527979844562,54.84518266203807,70.01698052562243,64.3861413848185,58.202236119642244,59.89101836426903,56.58292739925634,79.70896619818745,61.641921468384155,64.07776772227444,75.33365317288118,74.49482456403793,68.36599787742242,77.78102155699675,74.59893327965841,76.34612157528193,52.896768497742116,71.75083523097824,77.60401983503678,74.4635759025199,74.5276574794798,72.84080078241217,74.28244630182625,76.21572318695155,71.22707460192134,67.87448728479322,77.74808348168906,66.95826404474963,76.13369968284158,77.48589829049686,77.23165500499418,77.77071302771179,61.42071141542231,78.70532474064166,80.22564994957175,75.54955111988451,71.0562001494792,59.33712579736154,75.16135370789732,67.60788472825591,63.841084314659895,85.66373198657291,73.40548408347716,51.25429825665614,75.00679569890676,73.27622626339897,61.2994779767144,75.22178322000788,52.260955014727266,64.97054848511168,61.86275262850711,67.26300729706686,81.52782064939197,72.83456644135285,81.95946433015581,62.58965661568918,75.95560071519137,82.53998179999019,85.65913081257666,75.52969775472917,57.04296587670072,75.95565219428296,72.988931935333,69.89910427433071,71.2884886427819,68.3330192891516,70.2725273588405,70.73195662326798,71.8668472333103,74.28272834012404,71.25925884696295,76.927006556717,73.47709758984142,71.68242861068899,67.18933333422032,75.71258868711891,81.16035013919509,77.5304727557375,80.63636937400501,70.49982756870207,75.70281529086226,78.44687844086985,75.5252858717707,70.7837258894829,61.2774185810306,78.04109732899073,72.74487352804607,59.436866089930774,78.44294616385415,62.82727248394901,81.08297426730027,71.76360689331622,55.48521170699222,74.61279166894363,59.832257867058956,81.64373890287186,78.58669047857784,76.27392106099965,70.58932862428338,77.17148334545335,54.382473826080314,65.03354994974785,73.97884792366156,62.14084609130976,75.89374016691295,55.742319638606254,51.73397026369446,67.93831025260374,62.34365566418852,69.98768890459077,52.45321381865214,70.50486971026017,72.31746641019592,67.7381708586849,52.97492369563339,74.01694085236842,78.43296158352078,57.68879070119995,61.57394275447332,79.59201295421806,59.75596227029538,63.856311114219636,67.34552466913561,48.153978391773975,73.1700882806663,74.19209879542208,72.52907474233012,69.79980675469977,64.72448547084637,74.54633991758192,78.0143815245892,75.44023315680244,71.83515607737235,84.75961967523116,77.250766657708,60.45601433867879,74.10733251867839,76.74401373423238,54.59769264549069,82.83706028658423,65.70262202577442,63.066948050447444,61.221923874897726,76.74294738745223,52.01757721338915,73.68368226780414,69.63028097130773,85.19911884712307,81.38918023060259,54.07483113882313,69.17691215843122,80.57792501915299,61.4558918115418,70.22772672901172,77.35046689386431,71.71162386274926,77.05799497695294,72.59666337151428,54.53978615874078,77.25313423138806,71.39556435276083,79.10956225668849,75.98665593114649,67.8789842168442,73.10252666096414,68.18172988679004,81.37907993862868,53.27473786341472,73.04839189019957,64.43584069059312,63.08299976068304,81.77656314190449,62.30564485777325,78.482481106307,72.89789057197,77.75173180331386,51.25798796471506,57.297589867097024,72.10288026786537,78.93918700299349,79.24996206054175,59.60248412924547,82.31228722780328,72.42297910092617,80.1089911374148,77.29401139782223,74.40404152852938,78.4843792870172,72.75944532366626,70.6897264037357,79.14091142438677,66.21866520090035,86.04358127503933,64.17345090441316,70.76139669400649,70.75407393634657,65.4275101485776,81.73860747283497,78.01766131973196,74.43089498161376,79.74110416843085,75.57996477664766,68.72702787823036,72.3384887602742,56.05168555691575,72.68407392225102,54.727616065095475,60.39056635528844,75.44410688650134,42.47655399493302,56.2101094666924,51.921272747944606,79.18944278171881,66.6295007518902,72.6121359351225,75.95633849804844,77.2751534738871,73.63356358421227,50.014920684156166,77.2977513296767,79.61294516901737,71.180766261132,65.99585565843572,54.90770472735338,74.03223296996688,77.37769434896636,65.38603920054794,74.16097323765425,72.71887314899956,75.88089082634124,67.51538974334201,76.0189837758369,69.41543408332504,57.43253213901599,75.7827359800423,70.58193940299753,72.66118771851336,79.6152152841473,51.9061706529388,71.93960643512511,73.17123809362118,49.62377794313498,67.96619950869868,75.96367753339942,76.68021454970629,75.25372395647345,80.0887270499904,60.71073757191611,64.83398790298239,69.92169288520489,57.927238049808025,77.96056552067674,76.23404673062338,59.02166834286258,72.01595718211324,80.69619699934304,67.30041430637061,72.41336207597554,63.62042183620885,70.65321665413917,70.09760737393135,69.92182302821377,73.23717972932847,66.31918885122855,71.5046108498951,71.82750514339882,54.599164190008615,74.02033681142001,72.22587304403679,69.14026705450172,80.75636545984949,58.2965527621476,74.25213371935759,78.79035568458974,80.00441387314332,72.59869972302955,69.81211606255792,61.15554746782163,64.03461857912887,60.458501159987534,72.22800502612574,61.037689032591146,76.49758208238192,62.85140586608921,71.93584549073003,67.08624485797044,61.63035139293228,73.52309019431766,73.43109602982035,80.06821629875805,73.16455280231469,76.99184958809786,71.15393117860522,54.0833478373602,68.35754989882011,75.97752364498189,72.89747350257898,63.59019425940629,72.96681753151881,76.33387504472572,57.094106185075816,83.19213223214155,59.704959872792486,72.27662173463833,75.87896096827711,62.17881546439075,64.11420435043568,77.54867312714539,78.95982904134546,81.22917164991408,71.46703547218101,52.01709856035907,72.56218141373859,75.34221923319346,53.21073299144609,72.82197227152362,69.13657360684618,78.74932973970454,81.90605647215551,78.75589136247683,63.76446335345877,74.44581921993898,81.92598450232055,64.66085685860608,81.98773960486963,74.61401914778745,64.161858338021,72.67389557439051,78.8111403475894,80.58701513390203,71.96427336959421,72.4657441627698,49.601876228865414,61.32361066405656,60.77616375022602,73.48213023455448,75.26089520440884,70.15482167118975,67.02896599120062,74.20505347921603,78.28701660125536,62.23058564259481,69.18643822402194,77.09686613909793,69.78598779773739,72.21261756968578,60.697920728217206,62.39901437448168,63.78898421898861,73.0965575473163,67.090933675821,78.80004882738285,62.47127510372523,44.60698520743699,60.66257381948904,81.137255908763,69.71228147772787,65.43537368312862,71.64487444374731,70.63586664355665,67.53617663015504,80.49582527357674,72.29875271463771,76.55286438398312,76.91534822032482,78.06361400150593,80.6489656541203,77.95583902037443,61.4023694231658,82.68937063201871,68.98449447135738,50.36604445382455,76.86758168212666,80.10065078657794,73.50345771193705,75.78469853782101,79.27005887386265,73.9144728661154,79.89075085542918,67.96558966202485,72.79013750940832,63.46904799747426,69.8462410183951,58.6581912009132,75.98002563171178,53.33414725665976,78.65408023834388,73.30287238435135,73.54148418264806,73.51120637186901,72.30634450362085,69.59631733440169,50.45851186452215,66.41297377762419,67.22048752768671,78.62388591229487,74.0898463091346,71.2253256287545,69.15708352128595,68.78471583804499,77.30337106603181,59.33591469150383,65.91753291619615,78.58473324075571,76.49501338052201,69.94206864914123,64.11532307907305,75.42504804701105,72.68104079516559,73.134218537635,49.21349388214948,67.63956664921193,50.982077665553206,81.24641655850803,63.542406742982315,61.038864984982425,59.8979487534107,35.31897491178867,59.68910514305918,67.73315936182216,71.11265978945156,72.44861052484978,74.16437037646395,57.98389627685649,72.88515770671177,69.16398603802455,64.92203650353454,71.39681967772015,52.462487010620464,64.62700021320363,75.36806082324424,46.77713582609486,66.4547200103708,61.09809569660354,48.12724317625099,72.87218565625268,74.70586155427534,53.640836045092655,61.933654272404056,61.07679272498633,58.620450015177184,66.2389660154726,56.925957072901156,67.30552069645182,67.96187042918332,68.74347544228205,79.14877684374602,74.94281819129844,59.205520121597644,55.5934104316293,73.8517476107185,52.60332166928058,69.61009117987676,69.09140844712842,70.89725837664753,73.59680509762481,78.83615606888111,78.56706975777473,70.76958738472104,73.35983087682912,78.45296156515005,81.09173274432001,77.04739554947857,74.52109974039007,71.1414025320666,67.5499011769225,49.83944542456628,81.99152480269565,59.43278480363834,78.3897829853214,79.03442242849539,76.16048076285946,74.7940419297884,75.86663091241398,53.697462806629105,66.10559386480494,74.73207571671146,63.74102222178993,75.06017635496084,60.299518222122394,51.48585780189836,63.73319961218574,76.27882079307096,53.912266948598166,70.77750771536755,60.156618090175755,77.25029157360026,67.2553724850705,76.03638694314573,59.851914130683795,59.424455700289776,79.05975386807631,77.72079111598296,78.43241059189293,72.88320479328418,75.8687409812118,48.62230498214192,36.44035461710509,79.59446654191042,62.74573620745587,67.71398399557545,71.97279053656493,54.26864027479718,55.125342917512484,65.57534458424784,66.90830234061329,73.71776770254327,73.75125512235869,80.35687139410253,72.06406092815055,76.77586054761606,74.90289122085636,65.28107575068786,72.60054539734189,77.03510694845495,53.27211438556533,77.89333344570707,52.453798437070716,72.71956677573343,74.82122830503556,69.65433718171646,67.22017858483105,71.75321050197188,69.85394504572318,72.39033641576881,68.84390835186915,64.09851394699702,62.3081566303242,74.25900923313147,68.63399031244069,56.99966885882027,82.60589812105687,61.86649716843777,80.55219962410875,73.15903707260858,76.919804134437,57.58181099492777,53.457520872365194,84.04078371713356,71.77865253064044,71.64796969689903,69.91641984011561,79.7685019816521,77.75562345872348,77.10849033942776,69.61290909001515,69.9064073105415,80.36450227520683,71.30372374711557,73.94145674016309,57.565208532069406,80.23055133284623,71.90906258638407,59.27366880470771,71.07338827129972,62.7818013926165,74.26382815881468,78.90801146803099,80.55378095891157,71.83081701931442,67.48807798367163,65.23677395583712,60.27253275309009,57.02314289032498,66.70173461219464,72.41634453381968,68.25303031674666,80.7242784638444,64.41400234587056,74.73879829834324,61.886538340605505,79.89138627818308,68.74734684748537,61.463193959049796,68.79992513358462,57.156591509499286,68.29451210566125,44.86057876057075,78.7305816716719,71.9424108081708,80.76673400635212,69.46917107646773,72.74012964790265,73.23040163415098,69.63290271336976,65.13767239941755,61.55772017034085,71.74004379476403,75.76304768790904,71.57654638128729,63.540697600676125,66.68855079543358,80.3921051473026,77.18170202662341,78.01512935238776,75.26269614064219,52.70678878591917,61.50606725883678,34.53151958896335,67.43679816092573,61.387447233771084,60.64228750446096,68.24700147212386,52.843383442711364,73.2089880051177,67.28933966327402,66.39865910991706,69.26927458012412,75.66343730240976,52.37260774969478,67.34150246798019,65.24113277433196,76.72187766662663,78.50462440849554,73.90548036040242,81.35647331333762,63.76240841423149,74.31666393867073,74.87731002315505,61.85124188819764,47.700030591124566,64.6292185320801,59.85998777724601,64.63106701324016,74.19321279699648,64.10591139418247,62.28984136069522,72.093782401639,53.281510364249364,78.43084502063365,70.36907247966369,66.02542311148774,55.82415386725843,52.86816231139138,58.37532894166311,68.73099749369524,79.79961641402787,63.235763497703694,76.17399895880446,59.17409262095127,48.81376834059072,76.96607038742265,72.9424850292114,60.958249228301355,71.33300289884883,60.57232976746734,60.53623643037142,74.33838724884689,75.92281748716239,75.09510783714077,71.34644984630216,70.32661954436655,70.3174317226414,59.8895095643508,50.924910356383826,79.32078376414442,52.71999370623875,72.4275397325692,58.26663768751244,74.41645614152503,59.983713957595484,61.79066609098945,52.40349359571452,81.06300304786211,57.81757380688466,71.67276526567665,76.57362576248161,73.0474810207075,58.94095513486859,74.29011153928954,74.89391829639003,54.034108289481196,72.56773940172607,69.12415455940729],\"type\":\"scatter\"}],                        {\"template\":{\"data\":{\"bar\":[{\"error_x\":{\"color\":\"#2a3f5f\"},\"error_y\":{\"color\":\"#2a3f5f\"},\"marker\":{\"line\":{\"color\":\"#E5ECF6\",\"width\":0.5},\"pattern\":{\"fillmode\":\"overlay\",\"size\":10,\"solidity\":0.2}},\"type\":\"bar\"}],\"barpolar\":[{\"marker\":{\"line\":{\"color\":\"#E5ECF6\",\"width\":0.5},\"pattern\":{\"fillmode\":\"overlay\",\"size\":10,\"solidity\":0.2}},\"type\":\"barpolar\"}],\"carpet\":[{\"aaxis\":{\"endlinecolor\":\"#2a3f5f\",\"gridcolor\":\"white\",\"linecolor\":\"white\",\"minorgridcolor\":\"white\",\"startlinecolor\":\"#2a3f5f\"},\"baxis\":{\"endlinecolor\":\"#2a3f5f\",\"gridcolor\":\"white\",\"linecolor\":\"white\",\"minorgridcolor\":\"white\",\"startlinecolor\":\"#2a3f5f\"},\"type\":\"carpet\"}],\"choropleth\":[{\"colorbar\":{\"outlinewidth\":0,\"ticks\":\"\"},\"type\":\"choropleth\"}],\"contour\":[{\"colorbar\":{\"outlinewidth\":0,\"ticks\":\"\"},\"colorscale\":[[0.0,\"#0d0887\"],[0.1111111111111111,\"#46039f\"],[0.2222222222222222,\"#7201a8\"],[0.3333333333333333,\"#9c179e\"],[0.4444444444444444,\"#bd3786\"],[0.5555555555555556,\"#d8576b\"],[0.6666666666666666,\"#ed7953\"],[0.7777777777777778,\"#fb9f3a\"],[0.8888888888888888,\"#fdca26\"],[1.0,\"#f0f921\"]],\"type\":\"contour\"}],\"contourcarpet\":[{\"colorbar\":{\"outlinewidth\":0,\"ticks\":\"\"},\"type\":\"contourcarpet\"}],\"heatmap\":[{\"colorbar\":{\"outlinewidth\":0,\"ticks\":\"\"},\"colorscale\":[[0.0,\"#0d0887\"],[0.1111111111111111,\"#46039f\"],[0.2222222222222222,\"#7201a8\"],[0.3333333333333333,\"#9c179e\"],[0.4444444444444444,\"#bd3786\"],[0.5555555555555556,\"#d8576b\"],[0.6666666666666666,\"#ed7953\"],[0.7777777777777778,\"#fb9f3a\"],[0.8888888888888888,\"#fdca26\"],[1.0,\"#f0f921\"]],\"type\":\"heatmap\"}],\"heatmapgl\":[{\"colorbar\":{\"outlinewidth\":0,\"ticks\":\"\"},\"colorscale\":[[0.0,\"#0d0887\"],[0.1111111111111111,\"#46039f\"],[0.2222222222222222,\"#7201a8\"],[0.3333333333333333,\"#9c179e\"],[0.4444444444444444,\"#bd3786\"],[0.5555555555555556,\"#d8576b\"],[0.6666666666666666,\"#ed7953\"],[0.7777777777777778,\"#fb9f3a\"],[0.8888888888888888,\"#fdca26\"],[1.0,\"#f0f921\"]],\"type\":\"heatmapgl\"}],\"histogram\":[{\"marker\":{\"pattern\":{\"fillmode\":\"overlay\",\"size\":10,\"solidity\":0.2}},\"type\":\"histogram\"}],\"histogram2d\":[{\"colorbar\":{\"outlinewidth\":0,\"ticks\":\"\"},\"colorscale\":[[0.0,\"#0d0887\"],[0.1111111111111111,\"#46039f\"],[0.2222222222222222,\"#7201a8\"],[0.3333333333333333,\"#9c179e\"],[0.4444444444444444,\"#bd3786\"],[0.5555555555555556,\"#d8576b\"],[0.6666666666666666,\"#ed7953\"],[0.7777777777777778,\"#fb9f3a\"],[0.8888888888888888,\"#fdca26\"],[1.0,\"#f0f921\"]],\"type\":\"histogram2d\"}],\"histogram2dcontour\":[{\"colorbar\":{\"outlinewidth\":0,\"ticks\":\"\"},\"colorscale\":[[0.0,\"#0d0887\"],[0.1111111111111111,\"#46039f\"],[0.2222222222222222,\"#7201a8\"],[0.3333333333333333,\"#9c179e\"],[0.4444444444444444,\"#bd3786\"],[0.5555555555555556,\"#d8576b\"],[0.6666666666666666,\"#ed7953\"],[0.7777777777777778,\"#fb9f3a\"],[0.8888888888888888,\"#fdca26\"],[1.0,\"#f0f921\"]],\"type\":\"histogram2dcontour\"}],\"mesh3d\":[{\"colorbar\":{\"outlinewidth\":0,\"ticks\":\"\"},\"type\":\"mesh3d\"}],\"parcoords\":[{\"line\":{\"colorbar\":{\"outlinewidth\":0,\"ticks\":\"\"}},\"type\":\"parcoords\"}],\"pie\":[{\"automargin\":true,\"type\":\"pie\"}],\"scatter\":[{\"marker\":{\"colorbar\":{\"outlinewidth\":0,\"ticks\":\"\"}},\"type\":\"scatter\"}],\"scatter3d\":[{\"line\":{\"colorbar\":{\"outlinewidth\":0,\"ticks\":\"\"}},\"marker\":{\"colorbar\":{\"outlinewidth\":0,\"ticks\":\"\"}},\"type\":\"scatter3d\"}],\"scattercarpet\":[{\"marker\":{\"colorbar\":{\"outlinewidth\":0,\"ticks\":\"\"}},\"type\":\"scattercarpet\"}],\"scattergeo\":[{\"marker\":{\"colorbar\":{\"outlinewidth\":0,\"ticks\":\"\"}},\"type\":\"scattergeo\"}],\"scattergl\":[{\"marker\":{\"colorbar\":{\"outlinewidth\":0,\"ticks\":\"\"}},\"type\":\"scattergl\"}],\"scattermapbox\":[{\"marker\":{\"colorbar\":{\"outlinewidth\":0,\"ticks\":\"\"}},\"type\":\"scattermapbox\"}],\"scatterpolar\":[{\"marker\":{\"colorbar\":{\"outlinewidth\":0,\"ticks\":\"\"}},\"type\":\"scatterpolar\"}],\"scatterpolargl\":[{\"marker\":{\"colorbar\":{\"outlinewidth\":0,\"ticks\":\"\"}},\"type\":\"scatterpolargl\"}],\"scatterternary\":[{\"marker\":{\"colorbar\":{\"outlinewidth\":0,\"ticks\":\"\"}},\"type\":\"scatterternary\"}],\"surface\":[{\"colorbar\":{\"outlinewidth\":0,\"ticks\":\"\"},\"colorscale\":[[0.0,\"#0d0887\"],[0.1111111111111111,\"#46039f\"],[0.2222222222222222,\"#7201a8\"],[0.3333333333333333,\"#9c179e\"],[0.4444444444444444,\"#bd3786\"],[0.5555555555555556,\"#d8576b\"],[0.6666666666666666,\"#ed7953\"],[0.7777777777777778,\"#fb9f3a\"],[0.8888888888888888,\"#fdca26\"],[1.0,\"#f0f921\"]],\"type\":\"surface\"}],\"table\":[{\"cells\":{\"fill\":{\"color\":\"#EBF0F8\"},\"line\":{\"color\":\"white\"}},\"header\":{\"fill\":{\"color\":\"#C8D4E3\"},\"line\":{\"color\":\"white\"}},\"type\":\"table\"}]},\"layout\":{\"annotationdefaults\":{\"arrowcolor\":\"#2a3f5f\",\"arrowhead\":0,\"arrowwidth\":1},\"autotypenumbers\":\"strict\",\"coloraxis\":{\"colorbar\":{\"outlinewidth\":0,\"ticks\":\"\"}},\"colorscale\":{\"diverging\":[[0,\"#8e0152\"],[0.1,\"#c51b7d\"],[0.2,\"#de77ae\"],[0.3,\"#f1b6da\"],[0.4,\"#fde0ef\"],[0.5,\"#f7f7f7\"],[0.6,\"#e6f5d0\"],[0.7,\"#b8e186\"],[0.8,\"#7fbc41\"],[0.9,\"#4d9221\"],[1,\"#276419\"]],\"sequential\":[[0.0,\"#0d0887\"],[0.1111111111111111,\"#46039f\"],[0.2222222222222222,\"#7201a8\"],[0.3333333333333333,\"#9c179e\"],[0.4444444444444444,\"#bd3786\"],[0.5555555555555556,\"#d8576b\"],[0.6666666666666666,\"#ed7953\"],[0.7777777777777778,\"#fb9f3a\"],[0.8888888888888888,\"#fdca26\"],[1.0,\"#f0f921\"]],\"sequentialminus\":[[0.0,\"#0d0887\"],[0.1111111111111111,\"#46039f\"],[0.2222222222222222,\"#7201a8\"],[0.3333333333333333,\"#9c179e\"],[0.4444444444444444,\"#bd3786\"],[0.5555555555555556,\"#d8576b\"],[0.6666666666666666,\"#ed7953\"],[0.7777777777777778,\"#fb9f3a\"],[0.8888888888888888,\"#fdca26\"],[1.0,\"#f0f921\"]]},\"colorway\":[\"#636efa\",\"#EF553B\",\"#00cc96\",\"#ab63fa\",\"#FFA15A\",\"#19d3f3\",\"#FF6692\",\"#B6E880\",\"#FF97FF\",\"#FECB52\"],\"font\":{\"color\":\"#2a3f5f\"},\"geo\":{\"bgcolor\":\"white\",\"lakecolor\":\"white\",\"landcolor\":\"#E5ECF6\",\"showlakes\":true,\"showland\":true,\"subunitcolor\":\"white\"},\"hoverlabel\":{\"align\":\"left\"},\"hovermode\":\"closest\",\"mapbox\":{\"style\":\"light\"},\"paper_bgcolor\":\"white\",\"plot_bgcolor\":\"#E5ECF6\",\"polar\":{\"angularaxis\":{\"gridcolor\":\"white\",\"linecolor\":\"white\",\"ticks\":\"\"},\"bgcolor\":\"#E5ECF6\",\"radialaxis\":{\"gridcolor\":\"white\",\"linecolor\":\"white\",\"ticks\":\"\"}},\"scene\":{\"xaxis\":{\"backgroundcolor\":\"#E5ECF6\",\"gridcolor\":\"white\",\"gridwidth\":2,\"linecolor\":\"white\",\"showbackground\":true,\"ticks\":\"\",\"zerolinecolor\":\"white\"},\"yaxis\":{\"backgroundcolor\":\"#E5ECF6\",\"gridcolor\":\"white\",\"gridwidth\":2,\"linecolor\":\"white\",\"showbackground\":true,\"ticks\":\"\",\"zerolinecolor\":\"white\"},\"zaxis\":{\"backgroundcolor\":\"#E5ECF6\",\"gridcolor\":\"white\",\"gridwidth\":2,\"linecolor\":\"white\",\"showbackground\":true,\"ticks\":\"\",\"zerolinecolor\":\"white\"}},\"shapedefaults\":{\"line\":{\"color\":\"#2a3f5f\"}},\"ternary\":{\"aaxis\":{\"gridcolor\":\"white\",\"linecolor\":\"white\",\"ticks\":\"\"},\"baxis\":{\"gridcolor\":\"white\",\"linecolor\":\"white\",\"ticks\":\"\"},\"bgcolor\":\"#E5ECF6\",\"caxis\":{\"gridcolor\":\"white\",\"linecolor\":\"white\",\"ticks\":\"\"}},\"title\":{\"x\":0.05},\"xaxis\":{\"automargin\":true,\"gridcolor\":\"white\",\"linecolor\":\"white\",\"ticks\":\"\",\"title\":{\"standoff\":15},\"zerolinecolor\":\"white\",\"zerolinewidth\":2},\"yaxis\":{\"automargin\":true,\"gridcolor\":\"white\",\"linecolor\":\"white\",\"ticks\":\"\",\"title\":{\"standoff\":15},\"zerolinecolor\":\"white\",\"zerolinewidth\":2}}},\"title\":{\"text\":\"Visualization of predictions | sklearn linear regression | MAE: 2.733097714082336\"},\"xaxis\":{\"title\":{\"text\":\"Real values\"},\"range\":[0,100],\"scaleratio\":1},\"yaxis\":{\"title\":{\"text\":\"Predicted values\"},\"range\":[0,100],\"scaleratio\":1}},                        {\"responsive\": true}                    ).then(function(){\n                            \nvar gd = document.getElementById('07255dd0-e820-4a15-8021-bbddddf8d3df');\nvar x = new MutationObserver(function (mutations, observer) {{\n        var display = window.getComputedStyle(gd).display;\n        if (!display || display === 'none') {{\n            console.log([gd, 'removed!']);\n            Plotly.purge(gd);\n            observer.disconnect();\n        }}\n}});\n\n// Listen for the removal of the full notebook cells\nvar notebookContainer = gd.closest('#notebook-container');\nif (notebookContainer) {{\n    x.observe(notebookContainer, {childList: true});\n}}\n\n// Listen for the clearing of the current output cell\nvar outputEl = gd.closest('.output');\nif (outputEl) {{\n    x.observe(outputEl, {childList: true});\n}}\n\n                        })                };                            </script>        </div>\n</body>\n</html>"
     },
     "metadata": {},
     "output_type": "display_data"
    }
   ],
   "execution_count": null
  },
  {
   "cell_type": "markdown",
   "source": "*  Zkusím nyní aplikovat Hřebenovou regresi.",
   "metadata": {
    "tags": [],
    "cell_id": "00126-a6e78a38-7888-4a29-ae23-752bbe7be1c3",
    "deepnote_cell_type": "markdown"
   }
  },
  {
   "cell_type": "code",
   "metadata": {
    "tags": [],
    "cell_id": "00130-7bd43cf7-f67d-499b-9e4b-fb8e212b49fb",
    "deepnote_to_be_reexecuted": false,
    "source_hash": "2c7a472",
    "execution_start": 1640535850907,
    "execution_millis": 40,
    "deepnote_output_heights": [
     21.1875
    ],
    "deepnote_cell_type": "code"
   },
   "source": "from sklearn.linear_model import Ridge\n\nclf_r = Ridge(alpha=1.0)\nclf_r.fit(X, Y)",
   "outputs": [
    {
     "output_type": "execute_result",
     "execution_count": 86,
     "data": {
      "text/plain": "Ridge()"
     },
     "metadata": {}
    }
   ],
   "execution_count": null
  },
  {
   "cell_type": "code",
   "metadata": {
    "tags": [],
    "cell_id": "00132-463d2c4e-6216-4cc7-85b6-47068fe27376",
    "deepnote_to_be_reexecuted": false,
    "source_hash": "91e062b6",
    "execution_start": 1640535850955,
    "execution_millis": 36,
    "deepnote_output_heights": [
     21.1875
    ],
    "deepnote_cell_type": "code"
   },
   "source": "get_mae(Y_test, clf_r.predict(X_test))",
   "outputs": [
    {
     "output_type": "execute_result",
     "execution_count": 87,
     "data": {
      "text/plain": "2.7348481148881087"
     },
     "metadata": {}
    }
   ],
   "execution_count": null
  },
  {
   "cell_type": "code",
   "metadata": {
    "tags": [],
    "cell_id": "00129-20c47445-1bd4-4126-9081-be16282bd3c6",
    "deepnote_to_be_reexecuted": false,
    "source_hash": "877745be",
    "execution_start": 1640535851001,
    "execution_millis": 99,
    "deepnote_output_heights": [
     527
    ],
    "deepnote_cell_type": "code"
   },
   "source": "plot_prediction_results(\"sklearn ridge regression\", Y_test, clf_r.predict(X_test))",
   "outputs": [
    {
     "data": {
      "text/html": "<html>\n<head><meta charset=\"utf-8\" /></head>\n<body>\n    <div>            <script src=\"https://cdnjs.cloudflare.com/ajax/libs/mathjax/2.7.5/MathJax.js?config=TeX-AMS-MML_SVG\"></script><script type=\"text/javascript\">if (window.MathJax) {MathJax.Hub.Config({SVG: {font: \"STIX-Web\"}});}</script>                <script type=\"text/javascript\">window.PlotlyConfig = {MathJaxConfig: 'local'};</script>\n        <script src=\"https://cdn.plot.ly/plotly-2.6.3.min.js\"></script>                <div id=\"f6648a59-ee4a-43e1-8b9d-9032912ace07\" class=\"plotly-graph-div\" style=\"height:525px; width:100%;\"></div>            <script type=\"text/javascript\">                                    window.PLOTLYENV=window.PLOTLYENV || {};                                    if (document.getElementById(\"f6648a59-ee4a-43e1-8b9d-9032912ace07\")) {                    Plotly.newPlot(                        \"f6648a59-ee4a-43e1-8b9d-9032912ace07\",                        [{\"mode\":\"lines\",\"name\":\"y = \\u0177\",\"x\":[0,100],\"y\":[0,100],\"type\":\"scatter\"},{\"mode\":\"markers\",\"name\":\"(test, prediction)\",\"x\":[56.5,73.0,82.5,75.6,53.0,65.2,72.4,74.1,77.0,67.8,73.1,75.1,44.3,47.9,74.3,74.6,78.4,77.7,79.1,73.3,62.8,82.5,54.0,63.4,72.0,47.8,52.1,75.1,65.6,78.4,73.9,76.3,61.2,69.6,72.7,57.9,74.5,69.4,77.0,75.4,57.7,67.3,78.5,54.2,47.6,68.9,79.4,67.6,63.3,59.8,71.7,73.2,66.5,58.6,67.7,72.8,69.2,72.8,76.4,53.3,72.5,69.0,59.4,56.0,54.1,81.9,64.5,55.3,73.0,72.4,75.5,85.0,74.1,75.6,53.2,75.2,74.9,74.7,73.3,77.3,75.9,83.0,71.3,63.8,76.8,65.9,74.1,79.1,77.8,77.5,62.2,79.5,81.1,77.7,65.3,51.9,74.7,67.3,66.2,84.0,69.6,51.2,74.6,76.9,58.0,75.6,57.4,75.7,63.3,67.3,82.1,71.0,81.8,62.9,75.3,83.0,82.7,72.9,59.8,75.2,73.0,76.0,72.2,71.1,74.3,70.0,69.5,74.4,69.9,75.6,73.6,67.9,54.0,81.5,86.0,74.0,79.0,64.4,79.0,82.5,72.8,71.6,64.0,81.5,74.6,56.5,78.7,55.3,81.6,67.1,52.1,74.9,59.9,82.0,77.5,76.5,73.5,76.5,57.9,66.8,68.7,61.3,74.7,54.6,49.2,72.6,66.5,77.0,51.2,71.9,67.6,71.0,51.3,77.2,76.7,55.7,62.8,87.0,59.6,65.3,67.0,43.8,73.6,73.6,75.6,73.5,62.9,74.2,78.5,78.0,73.8,81.7,82.0,57.6,74.8,73.9,51.7,79.8,67.5,62.3,56.4,75.3,51.9,74.8,72.5,80.0,81.6,45.3,66.1,79.4,65.0,71.6,75.8,73.6,79.1,76.0,52.0,76.3,68.3,74.4,74.1,68.1,72.7,67.1,81.0,52.4,75.7,61.0,73.5,81.3,69.0,71.4,73.3,79.3,51.6,57.3,73.0,76.6,77.0,58.6,78.8,68.0,79.8,74.9,73.9,79.3,72.1,71.7,79.9,62.1,83.0,62.2,73.1,73.0,67.7,79.8,81.7,75.2,79.4,72.2,74.0,71.2,55.0,71.0,46.3,59.5,75.2,51.4,58.5,52.5,79.2,65.5,73.3,75.4,82.1,76.7,54.0,76.4,78.0,77.0,61.6,58.0,76.0,74.7,59.0,73.5,77.5,75.4,71.0,75.4,77.0,48.2,72.6,74.5,72.8,79.3,53.1,67.7,75.0,46.0,71.4,72.9,68.7,72.5,77.1,60.0,55.3,65.0,56.3,78.0,74.6,63.8,74.3,81.3,71.6,66.2,61.3,68.8,72.1,69.0,68.9,62.8,74.2,72.0,58.0,73.9,69.8,76.0,79.3,48.9,74.3,79.7,79.9,72.1,67.1,63.7,68.0,62.5,72.3,67.0,75.0,61.8,72.0,64.4,58.4,73.3,74.7,77.5,75.7,73.0,79.0,52.7,66.0,75.0,74.1,69.9,72.3,75.4,59.1,79.9,56.5,71.1,75.4,57.4,63.8,84.0,79.3,79.1,73.0,54.5,71.1,74.2,51.4,76.0,63.9,77.7,80.0,82.0,63.9,73.5,78.9,66.0,81.3,73.0,64.0,68.2,79.0,78.1,72.0,73.5,55.0,62.1,49.7,86.0,73.1,72.3,68.0,78.3,80.0,71.6,66.8,73.3,65.7,73.0,62.6,61.4,60.0,68.2,66.5,78.2,63.5,52.7,59.3,86.0,74.4,71.3,78.0,66.0,63.6,77.3,70.0,74.5,79.3,75.8,79.6,69.7,64.4,78.0,73.1,51.9,74.7,83.4,74.4,73.3,76.3,76.5,83.0,68.7,75.1,52.8,67.3,55.3,83.5,42.3,84.0,77.0,73.2,79.0,75.0,68.1,51.9,65.1,68.0,74.3,66.1,73.0,72.1,71.4,75.2,59.7,63.7,82.0,75.2,72.2,66.7,76.3,76.2,71.4,56.0,79.0,57.4,80.0,62.2,64.2,59.8,46.0,56.1,69.2,72.7,73.6,73.3,54.8,72.8,75.2,64.7,75.0,47.4,63.3,76.2,51.0,64.1,58.9,49.6,72.4,72.8,53.1,59.2,62.3,53.3,69.1,58.2,68.4,73.1,69.4,79.8,73.7,56.1,52.5,70.0,48.2,66.2,73.2,73.4,74.8,81.2,77.5,73.9,69.9,77.2,81.0,74.9,73.3,73.5,65.0,53.8,88.0,67.0,71.7,78.1,77.3,71.0,87.0,58.0,68.7,71.1,61.0,72.9,52.0,51.5,66.2,74.9,56.7,67.7,56.2,82.4,71.1,72.8,53.8,55.9,79.5,81.0,79.5,72.8,75.1,48.6,44.5,84.0,65.5,75.0,67.3,58.1,51.1,65.8,75.0,73.6,79.4,82.4,69.4,78.4,73.3,62.9,72.1,76.6,54.4,74.3,53.8,69.4,73.0,72.3,73.0,74.3,69.1,74.8,65.6,66.0,65.7,74.9,71.5,56.2,81.1,58.9,85.0,72.9,73.9,53.5,48.0,81.0,75.0,74.1,69.3,82.3,77.4,74.7,67.6,73.7,78.2,73.6,73.1,52.0,81.4,67.2,56.7,72.6,64.2,74.9,79.4,78.3,73.9,66.1,57.2,62.0,59.3,65.3,72.9,71.9,81.3,73.8,82.0,59.4,79.5,77.0,59.4,67.8,60.0,66.4,44.6,78.0,67.7,79.2,75.9,74.5,73.9,65.1,65.6,61.8,73.0,73.2,69.5,62.3,67.5,82.0,76.3,76.5,75.3,51.6,68.0,46.4,68.1,57.3,64.0,74.7,51.9,75.5,71.7,66.0,68.7,73.1,57.2,66.6,62.4,73.2,77.9,71.0,79.5,68.0,74.4,73.7,45.3,48.1,63.7,49.6,63.1,74.7,62.6,55.0,74.9,58.7,71.6,75.0,61.9,53.4,47.7,56.9,78.0,79.9,59.3,65.8,61.4,50.0,79.9,72.6,55.5,69.6,61.0,63.5,74.8,75.5,73.0,69.0,67.2,73.8,54.0,47.7,81.7,52.4,75.8,59.3,73.0,56.5,59.1,53.5,79.6,55.3,67.0,74.4,69.8,54.8,75.6,74.2,55.0,74.5,67.3],\"y\":[55.60247092979763,69.18212085625582,78.3649283623804,78.04599895928632,57.028565029314365,65.30072159915706,74.5833584138991,77.46574102064592,75.40410089060036,72.79667744315978,73.39833533147052,75.84730786209454,36.96032885968688,49.79744962796626,74.25906415771848,74.42487532326945,75.73701426876443,78.28886914362337,78.96267599837915,70.95998182504385,67.35530947895538,78.61274949001967,55.16958334213582,64.08893751841572,67.48261610456821,42.98801061199312,57.47583159712545,77.93544987295492,65.14769640161204,81.31957452249284,74.00704021183405,70.72527398063897,61.60862749206144,68.06727454067595,75.60248290136306,53.73617000784253,73.70100844027718,69.2442395553534,79.02192807056822,70.33666100609798,55.81496495708686,72.46405995636138,77.98731023711869,54.50773819643172,53.054730222541835,71.48936443599878,75.9693858528741,70.25572621936323,66.89582031904182,63.38815542947834,72.70648851410769,78.0360811604337,66.88193072101524,56.798499204679985,66.0323895547572,71.95644153467077,71.42009862763602,69.43650897461805,72.0025379376542,54.90337961574505,70.01618021873735,64.49442105786116,58.196985063359946,59.89136842203496,56.59400921552823,79.70734123085353,61.62365601678982,64.10775697706129,75.32145027124369,74.49186223359311,68.49758841541757,77.78000990996074,74.59366649216551,76.34925776279086,52.91124742415957,71.74541654329485,77.61566437796975,74.46607863909283,74.50875691607344,72.8264734880908,74.27408997985913,76.20423746722275,71.21961293384935,67.86276253404843,77.74057737792054,66.95006989940515,76.12602684035686,77.46570594365299,77.22876826912453,77.76398827449296,61.40207538481123,78.70391312148735,80.20248593895268,75.52765985587907,71.051812857329,59.36341706276172,75.15087166736642,67.59861618068746,63.831821264548914,85.67100771229364,73.39544352837376,51.24559441642382,75.00145428036686,73.27506301874041,61.30730640328801,75.2184791969865,52.23335477755049,64.95810053345545,61.86336680319595,67.25479310067166,81.5343045872678,72.82930992406747,81.95518898472355,62.58435563167758,75.93104121930006,82.56576350321663,85.65918615725194,75.52522234719507,57.030132204932194,75.94602393578829,72.96084068839286,69.89200623778703,71.27702790218265,68.33703449434009,70.27358859476351,70.72110206789155,71.86281584611737,74.27450235664506,71.23745978901928,76.92983837012004,73.47946111975372,71.67743935087634,67.21096264907582,75.69554422140558,81.15145424782511,77.51890016199897,80.63706766501306,70.49071592578716,75.69444929691704,78.43170907317565,75.52161889841625,70.78310503367425,61.265418387819935,78.02751790800127,72.72215208207405,59.43917353110234,78.44469676526663,62.846212901424906,81.09134675272605,71.76834502552772,55.56186066383819,74.58364494663783,59.825055650929684,81.6510521032865,78.57120852254288,76.27719173818303,70.58264087887714,77.16736469425526,54.46262714630576,65.02621203626936,73.99624902518173,62.13209481587531,75.88800959013874,55.74581549780109,51.71844650715754,68.07071326832082,62.44859129594762,69.9711490959803,52.44984181223793,70.49725914091971,72.3224354829114,67.7315163118563,52.97467261541652,74.01656927136469,78.4240997907344,57.668238817143546,61.56828409141052,79.59243951578551,59.74676060099782,63.839731401017914,67.34919624620142,48.153589664234765,73.15948962483822,74.19199318427243,72.51846400796903,69.95374673480103,64.73624286396085,74.53783148243208,78.02026503534199,75.43402164066659,71.81517243693526,84.75357528454663,77.23617769840827,60.46598616883371,74.08621600372307,76.74041160026934,54.59608961366136,82.83780078560326,65.70987416858662,63.06701748607811,61.23418622255829,76.73710635712612,52.03449677012443,73.6805360835664,69.63103785179783,85.19473736010417,81.39028003148162,54.05643243799933,69.16869472494761,80.58405317447382,61.55308985570686,70.21501207016871,77.33980365204273,71.84480501453923,77.05542761219674,72.59297704724186,54.53441387417578,77.262582234691,71.39049432443713,79.1055322113922,75.99659510977801,67.88429286621336,73.09925593804797,68.18470600183598,81.37326280390386,53.32598825476973,73.03567330111096,64.4280374608106,63.1170969239882,81.76756937188978,62.30287060964058,78.49092877569954,72.88192929552702,77.74793181160705,51.24796904718247,57.30387151453392,72.10602028219776,78.94692957815897,79.24765486666605,59.603558413436744,82.33049982964893,72.42682689584618,80.09959926676582,77.30514338648196,74.39643704838895,78.48403154239205,72.76035231472116,70.67822736962125,79.13739446597836,66.21667669076746,86.04505275492821,64.17527788150434,70.74155726156096,70.74075382472878,65.41523554903219,81.7392410674756,78.0043408739299,74.43135994748435,79.72939293388072,75.57414947085513,68.72271780882666,72.32982969785405,56.05392468035144,72.69375286470208,54.73229396109957,60.48314595545101,75.42225811379814,42.4691217731505,56.20458810774421,51.93815350639996,79.17927453774305,66.62503106533157,72.61466078624969,75.95517592236051,77.26049034891368,73.62975922398739,50.017123672046,77.2982513495488,79.59730244456877,71.18049013139704,65.99599264794654,54.87830824246624,74.02005408828433,77.36094331600628,65.39885659457869,74.16476971307978,72.70265318794192,75.87479236214539,67.51402638795538,76.01001699639164,69.40931766911497,57.42112102098504,75.78299746214897,70.57356709538011,72.67336008054428,79.6122984894189,51.923098487771,71.94394666728047,73.16900809405833,49.621560492756736,67.95429671797147,75.97902627967787,76.69177510129805,75.24709826591375,80.08570652366674,60.71974849936797,64.84657866245783,69.92111736938014,57.917154571950796,77.95419228504616,76.22902185698194,59.05183346963252,72.01140762960205,80.70309834689965,67.29588588551925,72.41002275745606,63.631168715918335,70.6543480460586,70.0831728364607,69.92088304917623,73.24418999652723,66.30029796446763,71.5004409768618,71.82081788545568,54.586546296369875,74.0203451296233,72.22214712846674,69.1218773075644,80.74507273522383,58.325172135209726,74.23438591537273,78.77335652793325,80.01636886489382,72.5973642565931,69.81888890892813,61.14085764850218,64.03957124665557,60.45325092357594,72.22632430574278,61.04009583793673,76.49092280891313,62.85281195984223,71.9279828029713,67.08455002624339,61.64125486413147,73.51175947617719,73.40691593753154,80.07698433121575,73.15443523521994,76.99114087595734,71.15220811051782,54.07348764331219,68.35638613733735,75.96349448977749,72.87454708521881,63.708074300944524,72.95959832043081,76.34316405433721,57.15462313493319,83.19489423621502,59.70589215950284,72.25621186780839,75.85508750364656,62.20292822770094,64.10929192516056,77.53578024408414,78.94354335578355,81.23346218635842,71.45686823664462,52.01430300275498,72.54226852661373,75.33822368025282,53.194107940785145,72.79831381707362,69.12615805046889,78.75790042280529,81.90584344106404,78.74973978181168,63.758747306209,74.43890749338655,81.92683318291448,64.65884200849992,81.99328804759764,74.5999849327154,64.27219611863083,72.66384437310592,78.80805467489256,80.59212530947599,71.94890732038623,72.46008123752952,49.59628924774831,61.321655700876505,60.78631847263476,73.45945858240142,75.24164652165237,70.14088907067134,67.01769071237874,74.17525732175781,78.28158475875989,62.362811973258445,69.17226208784663,77.08776969719885,69.80384520186132,72.19642803053948,60.6885424123128,62.39603550188532,63.800272422212174,73.09167473200256,67.06857037519956,78.79941903398107,62.46566760381637,44.620856108134966,60.66501029981381,81.14285364391351,69.7019610467695,65.43091986385818,71.63467983355591,70.6164633001075,67.54103553194781,80.48965259167679,72.29356959410643,76.54958179342546,76.90643403104734,78.06494751738775,80.65168011552979,77.96917208840546,61.37836402095682,82.70374048765076,68.9726265603962,50.355166505928686,76.86613226914477,80.07903786065341,73.48134074087844,75.76589111878891,79.26683919391468,73.90206855465237,79.88955078723905,67.97205676583313,72.78724891451952,63.48149182532375,69.84470795540409,58.652805339203205,75.9516981669855,53.340291363754716,78.64815942918987,73.28853802636561,73.5378035951168,73.50958171987872,72.31590652000766,69.59226112869328,50.447435313978104,66.41663241746761,67.22499588237645,78.61722676726285,74.10270656573283,71.22898218302404,69.16243730103427,68.77751933987147,77.29568716191461,59.317143737645466,65.92962314151384,78.55623083950302,76.49761748164948,69.93697360672888,64.09924320057078,75.3987367414074,72.6693158389869,73.14515218858965,49.25481106814785,67.78923557557306,50.94781916990398,81.24085881753281,63.53814769631066,61.03956557291549,59.89479350207774,35.31025051762956,59.68628228432428,67.74435205974916,71.0999680098919,72.44215078490318,74.15362543745088,57.981616026588064,72.87539139039359,69.29738773376225,64.89979250178189,71.39060773641803,52.548881559829425,64.7377482068209,75.34359568008874,46.816943392335745,66.56643664292993,61.10138395185044,48.11489827614278,72.8643683168257,74.70723341414674,53.63199014551547,61.9530224508409,61.06597699670955,58.62364087583836,66.22943667384851,56.91902284371477,67.32021187940553,67.94251205821129,68.74932337558559,79.13860166435494,74.93169482465694,59.204396043578654,55.671955429895476,73.85786952449868,52.59988643748588,69.6265912238538,69.08333582262532,70.8925418643745,73.58406895428672,78.83061062329962,78.56434998124726,70.75761046407773,73.36465412421244,78.43720595339217,81.08195266922786,77.04696368850546,74.52516700204635,71.12490306149319,67.54580703477995,49.83550480669444,81.98429316033966,59.434128740460515,78.40036674707008,79.05821393509774,76.12764069810692,74.80432217022282,75.84378852633625,53.694996915825975,66.10621590226383,74.7418424707253,63.75211587072039,75.06184004548928,60.29989623840835,51.48063345946156,63.71013769041025,76.2848627361341,53.90173741832329,70.77467875707634,60.17916555118338,77.23461889246651,67.24161760376847,76.02121495127622,59.87574322630288,59.43764733284077,79.05238617796124,77.7080856340319,78.41787162481717,72.88045657235777,75.86108987779892,48.61203272571832,36.4322946327928,79.59936262157703,62.724073207567784,67.70792187764057,71.96358841405663,54.32179787093233,55.13338437926064,65.56736038881047,66.90430782211507,73.72018639902271,73.72880084229958,80.33919255428358,72.05672148208902,76.75450867946223,74.89169954831169,65.27639365975875,72.60752184719878,77.02915997439052,53.24423412533069,77.88003118228747,52.42436598563603,72.70500403980233,74.81744794206247,69.65978290712519,67.2229211501541,71.74561265936792,69.83953799197266,72.36247920044568,68.84084817122672,64.10430969019863,62.280680796369325,74.25441253044627,68.62429568300136,56.99001834335768,82.59866426896996,61.878289416547474,80.56459999306608,73.16489568024002,76.90537822901062,57.6696145007029,53.455661753789016,84.05746207581612,71.78369242835277,71.64138218447181,69.91152655994512,79.74759168621668,77.7573239415579,77.12026877208277,69.61084628871521,70.05624682931064,80.3527000330848,71.2915839939785,73.94218845574864,57.56741172986408,80.21461492726306,71.91412062016985,59.28464733951963,71.06301832776381,62.75626397854696,74.24318270110426,78.90806139306527,80.56433078500743,71.83115162494451,67.48417381784476,65.23133016460454,60.25006984181631,57.0100958623939,66.69644870152523,72.40185370021322,68.40913145950942,80.72467700980687,64.40594121713639,74.7085180828815,61.96049634082569,79.89289119257418,68.75120992071598,61.451656941675864,68.7819175578831,57.14965309702613,68.28779808968419,44.87494471967268,78.72960306255555,71.94565503102383,80.7667494607139,69.46187805968367,72.74285832357262,73.219913640854,69.65226914651494,65.25160835454307,61.557078131644644,71.73659265965676,75.7458357894623,71.56836392834444,63.541164725640265,66.67738530215738,80.37315417009177,77.17829708956432,78.00748713426027,75.26000150298381,52.702737581361816,61.50234614425492,34.50894778919255,67.42397270668242,61.3879265813053,60.62878230444612,68.23913389407646,52.840582016758354,73.19971215116539,67.27959823101618,66.3866664803932,69.27429056058926,75.66029900546111,52.368514573656675,67.30826325520141,65.24492554680147,76.71185199822877,78.48243517539196,73.90347466934682,81.35529068164678,63.75792066316228,74.30850627585673,74.87923748302501,61.872107229951446,47.68713537333155,64.74143702649047,59.85935020809183,64.63348458701988,74.18002063803014,64.10948246285211,62.28713889552304,72.0860144353311,53.30156537686467,78.44047553782129,70.37036780205587,66.02626485982464,55.83374426963454,52.864877497249,58.36624346716644,68.73287670098635,79.81023027817687,63.24245057279744,76.19081463995019,59.186057674538795,48.820406962925496,76.9639230657153,72.94033886399004,60.98083208483036,71.32736485327278,60.55651416185066,60.508592016610194,74.3448514526511,75.9227530767874,75.09156276428388,71.3422565435441,70.3303478610757,70.30533377752273,59.9116441692816,50.90567364432239,79.31429303492732,52.72640289143774,72.42054610982072,58.2770973182645,74.42036000920643,59.98308224148522,61.77348923725732,52.374213391394036,81.06223709658491,57.84088009417143,71.677874580313,76.58667117434696,73.02088212377174,58.95775063600943,74.28249952161265,74.88932997179775,54.004995089164424,72.5454081110889,69.12526303962514],\"type\":\"scatter\"}],                        {\"template\":{\"data\":{\"bar\":[{\"error_x\":{\"color\":\"#2a3f5f\"},\"error_y\":{\"color\":\"#2a3f5f\"},\"marker\":{\"line\":{\"color\":\"#E5ECF6\",\"width\":0.5},\"pattern\":{\"fillmode\":\"overlay\",\"size\":10,\"solidity\":0.2}},\"type\":\"bar\"}],\"barpolar\":[{\"marker\":{\"line\":{\"color\":\"#E5ECF6\",\"width\":0.5},\"pattern\":{\"fillmode\":\"overlay\",\"size\":10,\"solidity\":0.2}},\"type\":\"barpolar\"}],\"carpet\":[{\"aaxis\":{\"endlinecolor\":\"#2a3f5f\",\"gridcolor\":\"white\",\"linecolor\":\"white\",\"minorgridcolor\":\"white\",\"startlinecolor\":\"#2a3f5f\"},\"baxis\":{\"endlinecolor\":\"#2a3f5f\",\"gridcolor\":\"white\",\"linecolor\":\"white\",\"minorgridcolor\":\"white\",\"startlinecolor\":\"#2a3f5f\"},\"type\":\"carpet\"}],\"choropleth\":[{\"colorbar\":{\"outlinewidth\":0,\"ticks\":\"\"},\"type\":\"choropleth\"}],\"contour\":[{\"colorbar\":{\"outlinewidth\":0,\"ticks\":\"\"},\"colorscale\":[[0.0,\"#0d0887\"],[0.1111111111111111,\"#46039f\"],[0.2222222222222222,\"#7201a8\"],[0.3333333333333333,\"#9c179e\"],[0.4444444444444444,\"#bd3786\"],[0.5555555555555556,\"#d8576b\"],[0.6666666666666666,\"#ed7953\"],[0.7777777777777778,\"#fb9f3a\"],[0.8888888888888888,\"#fdca26\"],[1.0,\"#f0f921\"]],\"type\":\"contour\"}],\"contourcarpet\":[{\"colorbar\":{\"outlinewidth\":0,\"ticks\":\"\"},\"type\":\"contourcarpet\"}],\"heatmap\":[{\"colorbar\":{\"outlinewidth\":0,\"ticks\":\"\"},\"colorscale\":[[0.0,\"#0d0887\"],[0.1111111111111111,\"#46039f\"],[0.2222222222222222,\"#7201a8\"],[0.3333333333333333,\"#9c179e\"],[0.4444444444444444,\"#bd3786\"],[0.5555555555555556,\"#d8576b\"],[0.6666666666666666,\"#ed7953\"],[0.7777777777777778,\"#fb9f3a\"],[0.8888888888888888,\"#fdca26\"],[1.0,\"#f0f921\"]],\"type\":\"heatmap\"}],\"heatmapgl\":[{\"colorbar\":{\"outlinewidth\":0,\"ticks\":\"\"},\"colorscale\":[[0.0,\"#0d0887\"],[0.1111111111111111,\"#46039f\"],[0.2222222222222222,\"#7201a8\"],[0.3333333333333333,\"#9c179e\"],[0.4444444444444444,\"#bd3786\"],[0.5555555555555556,\"#d8576b\"],[0.6666666666666666,\"#ed7953\"],[0.7777777777777778,\"#fb9f3a\"],[0.8888888888888888,\"#fdca26\"],[1.0,\"#f0f921\"]],\"type\":\"heatmapgl\"}],\"histogram\":[{\"marker\":{\"pattern\":{\"fillmode\":\"overlay\",\"size\":10,\"solidity\":0.2}},\"type\":\"histogram\"}],\"histogram2d\":[{\"colorbar\":{\"outlinewidth\":0,\"ticks\":\"\"},\"colorscale\":[[0.0,\"#0d0887\"],[0.1111111111111111,\"#46039f\"],[0.2222222222222222,\"#7201a8\"],[0.3333333333333333,\"#9c179e\"],[0.4444444444444444,\"#bd3786\"],[0.5555555555555556,\"#d8576b\"],[0.6666666666666666,\"#ed7953\"],[0.7777777777777778,\"#fb9f3a\"],[0.8888888888888888,\"#fdca26\"],[1.0,\"#f0f921\"]],\"type\":\"histogram2d\"}],\"histogram2dcontour\":[{\"colorbar\":{\"outlinewidth\":0,\"ticks\":\"\"},\"colorscale\":[[0.0,\"#0d0887\"],[0.1111111111111111,\"#46039f\"],[0.2222222222222222,\"#7201a8\"],[0.3333333333333333,\"#9c179e\"],[0.4444444444444444,\"#bd3786\"],[0.5555555555555556,\"#d8576b\"],[0.6666666666666666,\"#ed7953\"],[0.7777777777777778,\"#fb9f3a\"],[0.8888888888888888,\"#fdca26\"],[1.0,\"#f0f921\"]],\"type\":\"histogram2dcontour\"}],\"mesh3d\":[{\"colorbar\":{\"outlinewidth\":0,\"ticks\":\"\"},\"type\":\"mesh3d\"}],\"parcoords\":[{\"line\":{\"colorbar\":{\"outlinewidth\":0,\"ticks\":\"\"}},\"type\":\"parcoords\"}],\"pie\":[{\"automargin\":true,\"type\":\"pie\"}],\"scatter\":[{\"marker\":{\"colorbar\":{\"outlinewidth\":0,\"ticks\":\"\"}},\"type\":\"scatter\"}],\"scatter3d\":[{\"line\":{\"colorbar\":{\"outlinewidth\":0,\"ticks\":\"\"}},\"marker\":{\"colorbar\":{\"outlinewidth\":0,\"ticks\":\"\"}},\"type\":\"scatter3d\"}],\"scattercarpet\":[{\"marker\":{\"colorbar\":{\"outlinewidth\":0,\"ticks\":\"\"}},\"type\":\"scattercarpet\"}],\"scattergeo\":[{\"marker\":{\"colorbar\":{\"outlinewidth\":0,\"ticks\":\"\"}},\"type\":\"scattergeo\"}],\"scattergl\":[{\"marker\":{\"colorbar\":{\"outlinewidth\":0,\"ticks\":\"\"}},\"type\":\"scattergl\"}],\"scattermapbox\":[{\"marker\":{\"colorbar\":{\"outlinewidth\":0,\"ticks\":\"\"}},\"type\":\"scattermapbox\"}],\"scatterpolar\":[{\"marker\":{\"colorbar\":{\"outlinewidth\":0,\"ticks\":\"\"}},\"type\":\"scatterpolar\"}],\"scatterpolargl\":[{\"marker\":{\"colorbar\":{\"outlinewidth\":0,\"ticks\":\"\"}},\"type\":\"scatterpolargl\"}],\"scatterternary\":[{\"marker\":{\"colorbar\":{\"outlinewidth\":0,\"ticks\":\"\"}},\"type\":\"scatterternary\"}],\"surface\":[{\"colorbar\":{\"outlinewidth\":0,\"ticks\":\"\"},\"colorscale\":[[0.0,\"#0d0887\"],[0.1111111111111111,\"#46039f\"],[0.2222222222222222,\"#7201a8\"],[0.3333333333333333,\"#9c179e\"],[0.4444444444444444,\"#bd3786\"],[0.5555555555555556,\"#d8576b\"],[0.6666666666666666,\"#ed7953\"],[0.7777777777777778,\"#fb9f3a\"],[0.8888888888888888,\"#fdca26\"],[1.0,\"#f0f921\"]],\"type\":\"surface\"}],\"table\":[{\"cells\":{\"fill\":{\"color\":\"#EBF0F8\"},\"line\":{\"color\":\"white\"}},\"header\":{\"fill\":{\"color\":\"#C8D4E3\"},\"line\":{\"color\":\"white\"}},\"type\":\"table\"}]},\"layout\":{\"annotationdefaults\":{\"arrowcolor\":\"#2a3f5f\",\"arrowhead\":0,\"arrowwidth\":1},\"autotypenumbers\":\"strict\",\"coloraxis\":{\"colorbar\":{\"outlinewidth\":0,\"ticks\":\"\"}},\"colorscale\":{\"diverging\":[[0,\"#8e0152\"],[0.1,\"#c51b7d\"],[0.2,\"#de77ae\"],[0.3,\"#f1b6da\"],[0.4,\"#fde0ef\"],[0.5,\"#f7f7f7\"],[0.6,\"#e6f5d0\"],[0.7,\"#b8e186\"],[0.8,\"#7fbc41\"],[0.9,\"#4d9221\"],[1,\"#276419\"]],\"sequential\":[[0.0,\"#0d0887\"],[0.1111111111111111,\"#46039f\"],[0.2222222222222222,\"#7201a8\"],[0.3333333333333333,\"#9c179e\"],[0.4444444444444444,\"#bd3786\"],[0.5555555555555556,\"#d8576b\"],[0.6666666666666666,\"#ed7953\"],[0.7777777777777778,\"#fb9f3a\"],[0.8888888888888888,\"#fdca26\"],[1.0,\"#f0f921\"]],\"sequentialminus\":[[0.0,\"#0d0887\"],[0.1111111111111111,\"#46039f\"],[0.2222222222222222,\"#7201a8\"],[0.3333333333333333,\"#9c179e\"],[0.4444444444444444,\"#bd3786\"],[0.5555555555555556,\"#d8576b\"],[0.6666666666666666,\"#ed7953\"],[0.7777777777777778,\"#fb9f3a\"],[0.8888888888888888,\"#fdca26\"],[1.0,\"#f0f921\"]]},\"colorway\":[\"#636efa\",\"#EF553B\",\"#00cc96\",\"#ab63fa\",\"#FFA15A\",\"#19d3f3\",\"#FF6692\",\"#B6E880\",\"#FF97FF\",\"#FECB52\"],\"font\":{\"color\":\"#2a3f5f\"},\"geo\":{\"bgcolor\":\"white\",\"lakecolor\":\"white\",\"landcolor\":\"#E5ECF6\",\"showlakes\":true,\"showland\":true,\"subunitcolor\":\"white\"},\"hoverlabel\":{\"align\":\"left\"},\"hovermode\":\"closest\",\"mapbox\":{\"style\":\"light\"},\"paper_bgcolor\":\"white\",\"plot_bgcolor\":\"#E5ECF6\",\"polar\":{\"angularaxis\":{\"gridcolor\":\"white\",\"linecolor\":\"white\",\"ticks\":\"\"},\"bgcolor\":\"#E5ECF6\",\"radialaxis\":{\"gridcolor\":\"white\",\"linecolor\":\"white\",\"ticks\":\"\"}},\"scene\":{\"xaxis\":{\"backgroundcolor\":\"#E5ECF6\",\"gridcolor\":\"white\",\"gridwidth\":2,\"linecolor\":\"white\",\"showbackground\":true,\"ticks\":\"\",\"zerolinecolor\":\"white\"},\"yaxis\":{\"backgroundcolor\":\"#E5ECF6\",\"gridcolor\":\"white\",\"gridwidth\":2,\"linecolor\":\"white\",\"showbackground\":true,\"ticks\":\"\",\"zerolinecolor\":\"white\"},\"zaxis\":{\"backgroundcolor\":\"#E5ECF6\",\"gridcolor\":\"white\",\"gridwidth\":2,\"linecolor\":\"white\",\"showbackground\":true,\"ticks\":\"\",\"zerolinecolor\":\"white\"}},\"shapedefaults\":{\"line\":{\"color\":\"#2a3f5f\"}},\"ternary\":{\"aaxis\":{\"gridcolor\":\"white\",\"linecolor\":\"white\",\"ticks\":\"\"},\"baxis\":{\"gridcolor\":\"white\",\"linecolor\":\"white\",\"ticks\":\"\"},\"bgcolor\":\"#E5ECF6\",\"caxis\":{\"gridcolor\":\"white\",\"linecolor\":\"white\",\"ticks\":\"\"}},\"title\":{\"x\":0.05},\"xaxis\":{\"automargin\":true,\"gridcolor\":\"white\",\"linecolor\":\"white\",\"ticks\":\"\",\"title\":{\"standoff\":15},\"zerolinecolor\":\"white\",\"zerolinewidth\":2},\"yaxis\":{\"automargin\":true,\"gridcolor\":\"white\",\"linecolor\":\"white\",\"ticks\":\"\",\"title\":{\"standoff\":15},\"zerolinecolor\":\"white\",\"zerolinewidth\":2}}},\"title\":{\"text\":\"Visualization of predictions | sklearn ridge regression | MAE: 2.7348481148881087\"},\"xaxis\":{\"title\":{\"text\":\"Real values\"},\"range\":[0,100],\"scaleratio\":1},\"yaxis\":{\"title\":{\"text\":\"Predicted values\"},\"range\":[0,100],\"scaleratio\":1}},                        {\"responsive\": true}                    ).then(function(){\n                            \nvar gd = document.getElementById('f6648a59-ee4a-43e1-8b9d-9032912ace07');\nvar x = new MutationObserver(function (mutations, observer) {{\n        var display = window.getComputedStyle(gd).display;\n        if (!display || display === 'none') {{\n            console.log([gd, 'removed!']);\n            Plotly.purge(gd);\n            observer.disconnect();\n        }}\n}});\n\n// Listen for the removal of the full notebook cells\nvar notebookContainer = gd.closest('#notebook-container');\nif (notebookContainer) {{\n    x.observe(notebookContainer, {childList: true});\n}}\n\n// Listen for the clearing of the current output cell\nvar outputEl = gd.closest('.output');\nif (outputEl) {{\n    x.observe(outputEl, {childList: true});\n}}\n\n                        })                };                            </script>        </div>\n</body>\n</html>"
     },
     "metadata": {},
     "output_type": "display_data"
    }
   ],
   "execution_count": null
  },
  {
   "cell_type": "markdown",
   "source": "* Porovnáme výsledky:",
   "metadata": {
    "tags": [],
    "cell_id": "00129-92afaa64-f9e8-443f-9cb0-f058aac2d805",
    "deepnote_cell_type": "markdown"
   }
  },
  {
   "cell_type": "code",
   "metadata": {
    "tags": [],
    "cell_id": "00130-008b9034-78ea-4866-9e00-1734417100ac",
    "deepnote_to_be_reexecuted": false,
    "source_hash": "1dda355f",
    "execution_start": 1640535851108,
    "execution_millis": 60,
    "deepnote_output_heights": [
     null,
     21.1875
    ],
    "deepnote_cell_type": "code"
   },
   "source": "from sklearn.metrics import mean_absolute_error\n\nprint(mean_absolute_error(Y_test, clf.predict(X_test)))\nmean_absolute_error(Y_test, clf_r.predict(X_test))",
   "outputs": [
    {
     "name": "stdout",
     "text": "2.733097714082336\n",
     "output_type": "stream",
     "data": {}
    },
    {
     "output_type": "execute_result",
     "execution_count": 89,
     "data": {
      "text/plain": "2.7348481148881087"
     },
     "metadata": {}
    }
   ],
   "execution_count": null
  },
  {
   "cell_type": "code",
   "metadata": {
    "tags": [],
    "cell_id": "00129-8ecc901b-f778-40d9-ae27-17b3511dda91",
    "deepnote_to_be_reexecuted": false,
    "source_hash": "e65cade",
    "execution_start": 1640535851176,
    "execution_millis": 46,
    "deepnote_cell_type": "code"
   },
   "source": "lr_score  = get_mae(Y_test, clf.predict(X_test))\nrr_score  = get_mae(Y_test, clf_r.predict(X_test))\n\nif lr_score < rr_score:\n    print( \"Lineární regrese je úspěšnější se score: {}\".format(lr_score))\nelse:\n    print(\"Hřebenová regrese je úspěšnější se score: {}\".format(rr_score))",
   "outputs": [
    {
     "name": "stdout",
     "text": "Lineární regrese je úspěšnější se score: 2.733097714082336\n",
     "output_type": "stream",
     "data": {}
    }
   ],
   "execution_count": null
  },
  {
   "cell_type": "markdown",
   "source": "## 5. Zkoumejte, jak byste mohli modely vylepšit:\n\n* Experimentujte s tvorbou nových příznaků (na základě těch dostupných).\n* Experimentujte se standardizací/normalizací dat.\n* Vyberte si hyperparametry modelů k ladění a najděte jejich nejlepší hodnoty.\n* Získané výsledky vždy řádně okomentujte.",
   "metadata": {
    "tags": [],
    "cell_id": "00131-d8581430-9e66-41b5-a93b-9e5dd1363fd6",
    "deepnote_cell_type": "markdown"
   }
  },
  {
   "cell_type": "markdown",
   "source": "* Nahraju si znovu data, abych případně mohl použít nějaké původní hodnoty.",
   "metadata": {
    "tags": [],
    "cell_id": "00131-696a0eee-3133-4275-8901-0ab3d85ed490",
    "deepnote_cell_type": "markdown"
   }
  },
  {
   "cell_type": "code",
   "metadata": {
    "tags": [],
    "cell_id": "00133-ae7f2439-65cc-40c3-8978-1cd950ec2a56",
    "deepnote_to_be_reexecuted": false,
    "source_hash": "ce36a904",
    "execution_start": 1640535851226,
    "execution_millis": 53,
    "deepnote_cell_type": "code"
   },
   "source": "df2 = pd.read_csv('LifeExpectancyData.csv')",
   "outputs": [],
   "execution_count": null
  },
  {
   "cell_type": "code",
   "metadata": {
    "tags": [],
    "cell_id": "00134-0e031c4e-6dc1-4998-b6e8-3f37980ae556",
    "deepnote_to_be_reexecuted": false,
    "source_hash": "997ae10",
    "execution_start": 1640535851287,
    "execution_millis": 18,
    "deepnote_output_heights": [
     117.1875
    ],
    "deepnote_cell_type": "code"
   },
   "source": "df2.columns = df2.columns.str.strip()",
   "outputs": [],
   "execution_count": null
  },
  {
   "cell_type": "code",
   "metadata": {
    "tags": [],
    "cell_id": "00134-ecaa5b2f-752d-4e7f-92ea-b6bd2e80f3cb",
    "deepnote_to_be_reexecuted": false,
    "source_hash": "e7d5c9a0",
    "execution_start": 1640535851310,
    "execution_millis": 18,
    "deepnote_output_heights": [
     21.1875
    ],
    "deepnote_cell_type": "code"
   },
   "source": "df2 = df2[df2['Life expectancy'].notnull()]",
   "outputs": [],
   "execution_count": null
  },
  {
   "cell_type": "markdown",
   "source": "* Pokusím se nyní využít příznak 'Country' aplikací One Hot Encoding. ",
   "metadata": {
    "tags": [],
    "cell_id": "00136-7e0f1a52-28dc-4cc8-9655-367ca089254e",
    "deepnote_cell_type": "markdown"
   }
  },
  {
   "cell_type": "code",
   "metadata": {
    "tags": [],
    "cell_id": "00137-81d03751-3aa5-4ddc-9f9e-c68c0a7a1113",
    "deepnote_to_be_reexecuted": false,
    "source_hash": "f804c160",
    "execution_start": 1640535851335,
    "execution_millis": 365,
    "deepnote_cell_type": "code"
   },
   "source": "df",
   "outputs": [
    {
     "output_type": "execute_result",
     "execution_count": 94,
     "data": {
      "application/vnd.deepnote.dataframe.v3+json": {
       "column_count": 15,
       "row_count": 2928,
       "columns": [
        {
         "name": "Country",
         "dtype": "object",
         "stats": {
          "unique_count": 183,
          "nan_count": 0,
          "categories": [
           {
            "name": "Afghanistan",
            "count": 16
           },
           {
            "name": "Albania",
            "count": 16
           },
           {
            "name": "181 others",
            "count": 2896
           }
          ]
         }
        },
        {
         "name": "Status",
         "dtype": "int8",
         "stats": {
          "unique_count": 2,
          "nan_count": 0,
          "min": "0",
          "max": "1",
          "histogram": [
           {
            "bin_start": 0,
            "bin_end": 0.1,
            "count": 512
           },
           {
            "bin_start": 0.1,
            "bin_end": 0.2,
            "count": 0
           },
           {
            "bin_start": 0.2,
            "bin_end": 0.30000000000000004,
            "count": 0
           },
           {
            "bin_start": 0.30000000000000004,
            "bin_end": 0.4,
            "count": 0
           },
           {
            "bin_start": 0.4,
            "bin_end": 0.5,
            "count": 0
           },
           {
            "bin_start": 0.5,
            "bin_end": 0.6000000000000001,
            "count": 0
           },
           {
            "bin_start": 0.6000000000000001,
            "bin_end": 0.7000000000000001,
            "count": 0
           },
           {
            "bin_start": 0.7000000000000001,
            "bin_end": 0.8,
            "count": 0
           },
           {
            "bin_start": 0.8,
            "bin_end": 0.9,
            "count": 0
           },
           {
            "bin_start": 0.9,
            "bin_end": 1,
            "count": 2416
           }
          ]
         }
        },
        {
         "name": "Life expectancy",
         "dtype": "float64",
         "stats": {
          "unique_count": 362,
          "nan_count": 0,
          "min": "36.3",
          "max": "89.0",
          "histogram": [
           {
            "bin_start": 36.3,
            "bin_end": 41.57,
            "count": 4
           },
           {
            "bin_start": 41.57,
            "bin_end": 46.839999999999996,
            "count": 50
           },
           {
            "bin_start": 46.839999999999996,
            "bin_end": 52.11,
            "count": 134
           },
           {
            "bin_start": 52.11,
            "bin_end": 57.379999999999995,
            "count": 229
           },
           {
            "bin_start": 57.379999999999995,
            "bin_end": 62.65,
            "count": 277
           },
           {
            "bin_start": 62.65,
            "bin_end": 67.92,
            "count": 405
           },
           {
            "bin_start": 67.92,
            "bin_end": 73.19,
            "count": 580
           },
           {
            "bin_start": 73.19,
            "bin_end": 78.46000000000001,
            "count": 819
           },
           {
            "bin_start": 78.46000000000001,
            "bin_end": 83.73,
            "count": 362
           },
           {
            "bin_start": 83.73,
            "bin_end": 89,
            "count": 68
           }
          ]
         }
        },
        {
         "name": "Adult Mortality",
         "dtype": "float64",
         "stats": {
          "unique_count": 425,
          "nan_count": 0,
          "min": "1.0",
          "max": "723.0",
          "histogram": [
           {
            "bin_start": 1,
            "bin_end": 73.2,
            "count": 729
           },
           {
            "bin_start": 73.2,
            "bin_end": 145.4,
            "count": 765
           },
           {
            "bin_start": 145.4,
            "bin_end": 217.60000000000002,
            "count": 610
           },
           {
            "bin_start": 217.60000000000002,
            "bin_end": 289.8,
            "count": 423
           },
           {
            "bin_start": 289.8,
            "bin_end": 362,
            "count": 176
           },
           {
            "bin_start": 362,
            "bin_end": 434.20000000000005,
            "count": 117
           },
           {
            "bin_start": 434.20000000000005,
            "bin_end": 506.40000000000003,
            "count": 54
           },
           {
            "bin_start": 506.40000000000003,
            "bin_end": 578.6,
            "count": 24
           },
           {
            "bin_start": 578.6,
            "bin_end": 650.8000000000001,
            "count": 17
           },
           {
            "bin_start": 650.8000000000001,
            "bin_end": 723,
            "count": 13
           }
          ]
         }
        },
        {
         "name": "Alcohol",
         "dtype": "float64",
         "stats": {
          "unique_count": 1246,
          "nan_count": 0,
          "min": "0.0",
          "max": "17.87",
          "histogram": [
           {
            "bin_start": 0,
            "bin_end": 1.7870000000000001,
            "count": 1031
           },
           {
            "bin_start": 1.7870000000000001,
            "bin_end": 3.5740000000000003,
            "count": 404
           },
           {
            "bin_start": 3.5740000000000003,
            "bin_end": 5.361000000000001,
            "count": 353
           },
           {
            "bin_start": 5.361000000000001,
            "bin_end": 7.148000000000001,
            "count": 307
           },
           {
            "bin_start": 7.148000000000001,
            "bin_end": 8.935,
            "count": 284
           },
           {
            "bin_start": 8.935,
            "bin_end": 10.722000000000001,
            "count": 254
           },
           {
            "bin_start": 10.722000000000001,
            "bin_end": 12.509,
            "count": 210
           },
           {
            "bin_start": 12.509,
            "bin_end": 14.296000000000001,
            "count": 70
           },
           {
            "bin_start": 14.296000000000001,
            "bin_end": 16.083000000000002,
            "count": 10
           },
           {
            "bin_start": 16.083000000000002,
            "bin_end": 17.87,
            "count": 5
           }
          ]
         }
        },
        {
         "name": "percentage expenditure",
         "dtype": "float64",
         "stats": {
          "unique_count": 2323,
          "nan_count": 0,
          "min": "0.0",
          "max": "19479.91161",
          "histogram": [
           {
            "bin_start": 0,
            "bin_end": 1947.991161,
            "count": 2647
           },
           {
            "bin_start": 1947.991161,
            "bin_end": 3895.982322,
            "count": 118
           },
           {
            "bin_start": 3895.982322,
            "bin_end": 5843.973483,
            "count": 54
           },
           {
            "bin_start": 5843.973483,
            "bin_end": 7791.964644,
            "count": 46
           },
           {
            "bin_start": 7791.964644,
            "bin_end": 9739.955805,
            "count": 27
           },
           {
            "bin_start": 9739.955805,
            "bin_end": 11687.946966,
            "count": 17
           },
           {
            "bin_start": 11687.946966,
            "bin_end": 13635.938127,
            "count": 7
           },
           {
            "bin_start": 13635.938127,
            "bin_end": 15583.929288,
            "count": 5
           },
           {
            "bin_start": 15583.929288,
            "bin_end": 17531.920448999997,
            "count": 2
           },
           {
            "bin_start": 17531.920448999997,
            "bin_end": 19479.91161,
            "count": 5
           }
          ]
         }
        },
        {
         "name": "Hepatitis B",
         "dtype": "float64",
         "stats": {
          "unique_count": 165,
          "nan_count": 0,
          "min": "10.0",
          "max": "99.0",
          "histogram": [
           {
            "bin_start": 10,
            "bin_end": 18.9,
            "count": 16
           },
           {
            "bin_start": 18.9,
            "bin_end": 27.8,
            "count": 19
           },
           {
            "bin_start": 27.8,
            "bin_end": 36.7,
            "count": 50
           },
           {
            "bin_start": 36.7,
            "bin_end": 45.6,
            "count": 82
           },
           {
            "bin_start": 45.6,
            "bin_end": 54.5,
            "count": 94
           },
           {
            "bin_start": 54.5,
            "bin_end": 63.400000000000006,
            "count": 198
           },
           {
            "bin_start": 63.400000000000006,
            "bin_end": 72.30000000000001,
            "count": 206
           },
           {
            "bin_start": 72.30000000000001,
            "bin_end": 81.2,
            "count": 330
           },
           {
            "bin_start": 81.2,
            "bin_end": 90.10000000000001,
            "count": 558
           },
           {
            "bin_start": 90.10000000000001,
            "bin_end": 99,
            "count": 1375
           }
          ]
         }
        },
        {
         "name": "BMI",
         "dtype": "float64",
         "stats": {
          "unique_count": 554,
          "nan_count": 0,
          "min": "10.0",
          "max": "96.0",
          "histogram": [
           {
            "bin_start": 10,
            "bin_end": 18.6,
            "count": 390
           },
           {
            "bin_start": 18.6,
            "bin_end": 27.2,
            "count": 496
           },
           {
            "bin_start": 27.2,
            "bin_end": 35.8,
            "count": 242
           },
           {
            "bin_start": 35.8,
            "bin_end": 44.4,
            "count": 229
           },
           {
            "bin_start": 44.4,
            "bin_end": 53,
            "count": 434
           },
           {
            "bin_start": 53,
            "bin_end": 61.599999999999994,
            "count": 757
           },
           {
            "bin_start": 61.599999999999994,
            "bin_end": 70.19999999999999,
            "count": 342
           },
           {
            "bin_start": 70.19999999999999,
            "bin_end": 78.8,
            "count": 35
           },
           {
            "bin_start": 78.8,
            "bin_end": 87.39999999999999,
            "count": 1
           },
           {
            "bin_start": 87.39999999999999,
            "bin_end": 96,
            "count": 2
           }
          ]
         }
        },
        {
         "name": "Polio",
         "dtype": "float64",
         "stats": {
          "unique_count": 72,
          "nan_count": 0,
          "min": "17.0",
          "max": "99.0",
          "histogram": [
           {
            "bin_start": 17,
            "bin_end": 25.2,
            "count": 4
           },
           {
            "bin_start": 25.2,
            "bin_end": 33.4,
            "count": 10
           },
           {
            "bin_start": 33.4,
            "bin_end": 41.599999999999994,
            "count": 24
           },
           {
            "bin_start": 41.599999999999994,
            "bin_end": 49.8,
            "count": 70
           },
           {
            "bin_start": 49.8,
            "bin_end": 58,
            "count": 64
           },
           {
            "bin_start": 58,
            "bin_end": 66.19999999999999,
            "count": 111
           },
           {
            "bin_start": 66.19999999999999,
            "bin_end": 74.39999999999999,
            "count": 173
           },
           {
            "bin_start": 74.39999999999999,
            "bin_end": 82.6,
            "count": 229
           },
           {
            "bin_start": 82.6,
            "bin_end": 90.8,
            "count": 563
           },
           {
            "bin_start": 90.8,
            "bin_end": 99,
            "count": 1680
           }
          ]
         }
        },
        {
         "name": "Diphtheria",
         "dtype": "float64",
         "stats": {
          "unique_count": 84,
          "nan_count": 0,
          "min": "16.0",
          "max": "99.0",
          "histogram": [
           {
            "bin_start": 16,
            "bin_end": 24.3,
            "count": 11
           },
           {
            "bin_start": 24.3,
            "bin_end": 32.6,
            "count": 19
           },
           {
            "bin_start": 32.6,
            "bin_end": 40.900000000000006,
            "count": 45
           },
           {
            "bin_start": 40.900000000000006,
            "bin_end": 49.2,
            "count": 67
           },
           {
            "bin_start": 49.2,
            "bin_end": 57.5,
            "count": 50
           },
           {
            "bin_start": 57.5,
            "bin_end": 65.80000000000001,
            "count": 114
           },
           {
            "bin_start": 65.80000000000001,
            "bin_end": 74.10000000000001,
            "count": 187
           },
           {
            "bin_start": 74.10000000000001,
            "bin_end": 82.4,
            "count": 314
           },
           {
            "bin_start": 82.4,
            "bin_end": 90.7,
            "count": 449
           },
           {
            "bin_start": 90.7,
            "bin_end": 99,
            "count": 1672
           }
          ]
         }
        },
        {
         "name": "HIV/AIDS",
         "dtype": "float64",
         "stats": {
          "unique_count": 200,
          "nan_count": 0,
          "min": "0.1",
          "max": "50.6",
          "histogram": [
           {
            "bin_start": 0.1,
            "bin_end": 5.1499999999999995,
            "count": 2686
           },
           {
            "bin_start": 5.1499999999999995,
            "bin_end": 10.2,
            "count": 119
           },
           {
            "bin_start": 10.2,
            "bin_end": 15.249999999999998,
            "count": 44
           },
           {
            "bin_start": 15.249999999999998,
            "bin_end": 20.3,
            "count": 22
           },
           {
            "bin_start": 20.3,
            "bin_end": 25.35,
            "count": 19
           },
           {
            "bin_start": 25.35,
            "bin_end": 30.4,
            "count": 13
           },
           {
            "bin_start": 30.4,
            "bin_end": 35.45,
            "count": 10
           },
           {
            "bin_start": 35.45,
            "bin_end": 40.5,
            "count": 5
           },
           {
            "bin_start": 40.5,
            "bin_end": 45.55,
            "count": 4
           },
           {
            "bin_start": 45.55,
            "bin_end": 50.6,
            "count": 6
           }
          ]
         }
        },
        {
         "name": "thinness  1-19 years",
         "dtype": "float64",
         "stats": {
          "unique_count": 201,
          "nan_count": 0,
          "min": "0.1",
          "max": "27.7",
          "histogram": [
           {
            "bin_start": 0.1,
            "bin_end": 2.86,
            "count": 1326
           },
           {
            "bin_start": 2.86,
            "bin_end": 5.619999999999999,
            "count": 515
           },
           {
            "bin_start": 5.619999999999999,
            "bin_end": 8.379999999999999,
            "count": 597
           },
           {
            "bin_start": 8.379999999999999,
            "bin_end": 11.139999999999999,
            "count": 238
           },
           {
            "bin_start": 11.139999999999999,
            "bin_end": 13.899999999999999,
            "count": 108
           },
           {
            "bin_start": 13.899999999999999,
            "bin_end": 16.66,
            "count": 71
           },
           {
            "bin_start": 16.66,
            "bin_end": 19.42,
            "count": 42
           },
           {
            "bin_start": 19.42,
            "bin_end": 22.18,
            "count": 14
           },
           {
            "bin_start": 22.18,
            "bin_end": 24.939999999999998,
            "count": 1
           },
           {
            "bin_start": 24.939999999999998,
            "bin_end": 27.7,
            "count": 16
           }
          ]
         }
        },
        {
         "name": "thinness 5-9 years",
         "dtype": "float64",
         "stats": {
          "unique_count": 208,
          "nan_count": 0,
          "min": "0.1",
          "max": "28.6",
          "histogram": [
           {
            "bin_start": 0.1,
            "bin_end": 2.95,
            "count": 1317
           },
           {
            "bin_start": 2.95,
            "bin_end": 5.8,
            "count": 542
           },
           {
            "bin_start": 5.8,
            "bin_end": 8.65,
            "count": 622
           },
           {
            "bin_start": 8.65,
            "bin_end": 11.5,
            "count": 215
           },
           {
            "bin_start": 11.5,
            "bin_end": 14.35,
            "count": 100
           },
           {
            "bin_start": 14.35,
            "bin_end": 17.200000000000003,
            "count": 58
           },
           {
            "bin_start": 17.200000000000003,
            "bin_end": 20.05,
            "count": 46
           },
           {
            "bin_start": 20.05,
            "bin_end": 22.900000000000002,
            "count": 12
           },
           {
            "bin_start": 22.900000000000002,
            "bin_end": 25.750000000000004,
            "count": 0
           },
           {
            "bin_start": 25.750000000000004,
            "bin_end": 28.6,
            "count": 16
           }
          ]
         }
        },
        {
         "name": "Income composition of resources",
         "dtype": "float64",
         "stats": {
          "unique_count": 633,
          "nan_count": 0,
          "min": "0.0",
          "max": "0.948",
          "histogram": [
           {
            "bin_start": 0,
            "bin_end": 0.0948,
            "count": 130
           },
           {
            "bin_start": 0.0948,
            "bin_end": 0.1896,
            "count": 0
           },
           {
            "bin_start": 0.1896,
            "bin_end": 0.2844,
            "count": 13
           },
           {
            "bin_start": 0.2844,
            "bin_end": 0.3792,
            "count": 150
           },
           {
            "bin_start": 0.3792,
            "bin_end": 0.474,
            "count": 370
           },
           {
            "bin_start": 0.474,
            "bin_end": 0.5688,
            "count": 302
           },
           {
            "bin_start": 0.5688,
            "bin_end": 0.6636,
            "count": 409
           },
           {
            "bin_start": 0.6636,
            "bin_end": 0.7584,
            "count": 670
           },
           {
            "bin_start": 0.7584,
            "bin_end": 0.8532,
            "count": 495
           },
           {
            "bin_start": 0.8532,
            "bin_end": 0.948,
            "count": 389
           }
          ]
         }
        },
        {
         "name": "Schooling",
         "dtype": "float64",
         "stats": {
          "unique_count": 180,
          "nan_count": 0,
          "min": "0.0",
          "max": "20.7",
          "histogram": [
           {
            "bin_start": 0,
            "bin_end": 2.07,
            "count": 26
           },
           {
            "bin_start": 2.07,
            "bin_end": 4.14,
            "count": 22
           },
           {
            "bin_start": 4.14,
            "bin_end": 6.209999999999999,
            "count": 109
           },
           {
            "bin_start": 6.209999999999999,
            "bin_end": 8.28,
            "count": 263
           },
           {
            "bin_start": 8.28,
            "bin_end": 10.35,
            "count": 402
           },
           {
            "bin_start": 10.35,
            "bin_end": 12.419999999999998,
            "count": 671
           },
           {
            "bin_start": 12.419999999999998,
            "bin_end": 14.489999999999998,
            "count": 718
           },
           {
            "bin_start": 14.489999999999998,
            "bin_end": 16.56,
            "count": 534
           },
           {
            "bin_start": 16.56,
            "bin_end": 18.63,
            "count": 147
           },
           {
            "bin_start": 18.63,
            "bin_end": 20.7,
            "count": 36
           }
          ]
         }
        },
        {
         "name": "_deepnote_index_column",
         "dtype": "int64"
        }
       ],
       "rows": [
        {
         "Country": "Afghanistan",
         "Status": 1,
         "Life expectancy": 65,
         "Adult Mortality": 263,
         "Alcohol": 0.01,
         "percentage expenditure": 71.27962362,
         "Hepatitis B": 65,
         "BMI": 19.1,
         "Polio": 60,
         "Diphtheria": 65,
         "HIV/AIDS": 0.1,
         "thinness  1-19 years": 17.2,
         "thinness 5-9 years": 17.3,
         "Income composition of resources": 0.479,
         "Schooling": 10.1,
         "_deepnote_index_column": 0
        },
        {
         "Country": "Afghanistan",
         "Status": 1,
         "Life expectancy": 59.9,
         "Adult Mortality": 271,
         "Alcohol": 0.01,
         "percentage expenditure": 73.52358168,
         "Hepatitis B": 62,
         "BMI": 18.6,
         "Polio": 58,
         "Diphtheria": 62,
         "HIV/AIDS": 0.1,
         "thinness  1-19 years": 17.5,
         "thinness 5-9 years": 17.5,
         "Income composition of resources": 0.476,
         "Schooling": 10,
         "_deepnote_index_column": 1
        },
        {
         "Country": "Afghanistan",
         "Status": 1,
         "Life expectancy": 59.9,
         "Adult Mortality": 268,
         "Alcohol": 0.01,
         "percentage expenditure": 73.21924272,
         "Hepatitis B": 64,
         "BMI": 18.1,
         "Polio": 62,
         "Diphtheria": 64,
         "HIV/AIDS": 0.1,
         "thinness  1-19 years": 17.7,
         "thinness 5-9 years": 17.7,
         "Income composition of resources": 0.47,
         "Schooling": 9.9,
         "_deepnote_index_column": 2
        },
        {
         "Country": "Afghanistan",
         "Status": 1,
         "Life expectancy": 59.5,
         "Adult Mortality": 272,
         "Alcohol": 0.01,
         "percentage expenditure": 78.1842153,
         "Hepatitis B": 67,
         "BMI": 17.6,
         "Polio": 67,
         "Diphtheria": 67,
         "HIV/AIDS": 0.1,
         "thinness  1-19 years": 17.9,
         "thinness 5-9 years": 18,
         "Income composition of resources": 0.463,
         "Schooling": 9.8,
         "_deepnote_index_column": 3
        },
        {
         "Country": "Afghanistan",
         "Status": 1,
         "Life expectancy": 59.2,
         "Adult Mortality": 275,
         "Alcohol": 0.01,
         "percentage expenditure": 7.097108703,
         "Hepatitis B": 68,
         "BMI": 17.2,
         "Polio": 68,
         "Diphtheria": 68,
         "HIV/AIDS": 0.1,
         "thinness  1-19 years": 18.2,
         "thinness 5-9 years": 18.2,
         "Income composition of resources": 0.454,
         "Schooling": 9.5,
         "_deepnote_index_column": 4
        },
        {
         "Country": "Afghanistan",
         "Status": 1,
         "Life expectancy": 58.8,
         "Adult Mortality": 279,
         "Alcohol": 0.01,
         "percentage expenditure": 79.67936736,
         "Hepatitis B": 66,
         "BMI": 16.7,
         "Polio": 66,
         "Diphtheria": 66,
         "HIV/AIDS": 0.1,
         "thinness  1-19 years": 18.4,
         "thinness 5-9 years": 18.4,
         "Income composition of resources": 0.448,
         "Schooling": 9.2,
         "_deepnote_index_column": 5
        },
        {
         "Country": "Afghanistan",
         "Status": 1,
         "Life expectancy": 58.6,
         "Adult Mortality": 281,
         "Alcohol": 0.01,
         "percentage expenditure": 56.76221682,
         "Hepatitis B": 63,
         "BMI": 16.2,
         "Polio": 63,
         "Diphtheria": 63,
         "HIV/AIDS": 0.1,
         "thinness  1-19 years": 18.6,
         "thinness 5-9 years": 18.7,
         "Income composition of resources": 0.434,
         "Schooling": 8.9,
         "_deepnote_index_column": 6
        },
        {
         "Country": "Afghanistan",
         "Status": 1,
         "Life expectancy": 58.1,
         "Adult Mortality": 287,
         "Alcohol": 0.03,
         "percentage expenditure": 25.87392536,
         "Hepatitis B": 64,
         "BMI": 15.7,
         "Polio": 64,
         "Diphtheria": 64,
         "HIV/AIDS": 0.1,
         "thinness  1-19 years": 18.8,
         "thinness 5-9 years": 18.9,
         "Income composition of resources": 0.433,
         "Schooling": 8.7,
         "_deepnote_index_column": 7
        },
        {
         "Country": "Afghanistan",
         "Status": 1,
         "Life expectancy": 57.5,
         "Adult Mortality": 295,
         "Alcohol": 0.02,
         "percentage expenditure": 10.91015598,
         "Hepatitis B": 63,
         "BMI": 15.2,
         "Polio": 63,
         "Diphtheria": 63,
         "HIV/AIDS": 0.1,
         "thinness  1-19 years": 19,
         "thinness 5-9 years": 19.1,
         "Income composition of resources": 0.415,
         "Schooling": 8.4,
         "_deepnote_index_column": 8
        },
        {
         "Country": "Afghanistan",
         "Status": 1,
         "Life expectancy": 57.3,
         "Adult Mortality": 295,
         "Alcohol": 0.03,
         "percentage expenditure": 17.17151751,
         "Hepatitis B": 64,
         "BMI": 14.7,
         "Polio": 58,
         "Diphtheria": 58,
         "HIV/AIDS": 0.1,
         "thinness  1-19 years": 19.2,
         "thinness 5-9 years": 19.3,
         "Income composition of resources": 0.405,
         "Schooling": 8.1,
         "_deepnote_index_column": 9
        }
       ]
      },
      "text/plain": "          Country  Status  Life expectancy  Adult Mortality  Alcohol  \\\n0     Afghanistan       1             65.0            263.0     0.01   \n1     Afghanistan       1             59.9            271.0     0.01   \n2     Afghanistan       1             59.9            268.0     0.01   \n3     Afghanistan       1             59.5            272.0     0.01   \n4     Afghanistan       1             59.2            275.0     0.01   \n...           ...     ...              ...              ...      ...   \n2933     Zimbabwe       1             44.3            723.0     4.36   \n2934     Zimbabwe       1             44.5            715.0     4.06   \n2935     Zimbabwe       1             44.8             73.0     4.43   \n2936     Zimbabwe       1             45.3            686.0     1.72   \n2937     Zimbabwe       1             46.0            665.0     1.68   \n\n      percentage expenditure  Hepatitis B   BMI     Polio  Diphtheria  \\\n0                  71.279624         65.0  19.1  60.00000        65.0   \n1                  73.523582         62.0  18.6  58.00000        62.0   \n2                  73.219243         64.0  18.1  62.00000        64.0   \n3                  78.184215         67.0  17.6  67.00000        67.0   \n4                   7.097109         68.0  17.2  68.00000        68.0   \n...                      ...          ...   ...       ...         ...   \n2933                0.000000         68.0  27.1  67.00000        65.0   \n2934                0.000000         70.0  26.7  87.19214        68.0   \n2935                0.000000         73.0  26.3  73.00000        71.0   \n2936                0.000000         76.0  25.9  76.00000        75.0   \n2937                0.000000         79.0  25.5  78.00000        78.0   \n\n      HIV/AIDS  thinness  1-19 years  thinness 5-9 years  \\\n0          0.1                  17.2                17.3   \n1          0.1                  17.5                17.5   \n2          0.1                  17.7                17.7   \n3          0.1                  17.9                18.0   \n4          0.1                  18.2                18.2   \n...        ...                   ...                 ...   \n2933      33.6                   9.4                 9.4   \n2934      36.7                   9.8                 9.9   \n2935      39.8                   1.2                 1.3   \n2936      42.1                   1.6                 1.7   \n2937      43.5                  11.0                11.2   \n\n      Income composition of resources  Schooling  \n0                               0.479       10.1  \n1                               0.476       10.0  \n2                               0.470        9.9  \n3                               0.463        9.8  \n4                               0.454        9.5  \n...                               ...        ...  \n2933                            0.407        9.2  \n2934                            0.418        9.5  \n2935                            0.427       10.0  \n2936                            0.427        9.8  \n2937                            0.434        9.8  \n\n[2928 rows x 15 columns]",
      "text/html": "<div>\n<style scoped>\n    .dataframe tbody tr th:only-of-type {\n        vertical-align: middle;\n    }\n\n    .dataframe tbody tr th {\n        vertical-align: top;\n    }\n\n    .dataframe thead th {\n        text-align: right;\n    }\n</style>\n<table border=\"1\" class=\"dataframe\">\n  <thead>\n    <tr style=\"text-align: right;\">\n      <th></th>\n      <th>Country</th>\n      <th>Status</th>\n      <th>Life expectancy</th>\n      <th>Adult Mortality</th>\n      <th>Alcohol</th>\n      <th>percentage expenditure</th>\n      <th>Hepatitis B</th>\n      <th>BMI</th>\n      <th>Polio</th>\n      <th>Diphtheria</th>\n      <th>HIV/AIDS</th>\n      <th>thinness  1-19 years</th>\n      <th>thinness 5-9 years</th>\n      <th>Income composition of resources</th>\n      <th>Schooling</th>\n    </tr>\n  </thead>\n  <tbody>\n    <tr>\n      <th>0</th>\n      <td>Afghanistan</td>\n      <td>1</td>\n      <td>65.0</td>\n      <td>263.0</td>\n      <td>0.01</td>\n      <td>71.279624</td>\n      <td>65.0</td>\n      <td>19.1</td>\n      <td>60.00000</td>\n      <td>65.0</td>\n      <td>0.1</td>\n      <td>17.2</td>\n      <td>17.3</td>\n      <td>0.479</td>\n      <td>10.1</td>\n    </tr>\n    <tr>\n      <th>1</th>\n      <td>Afghanistan</td>\n      <td>1</td>\n      <td>59.9</td>\n      <td>271.0</td>\n      <td>0.01</td>\n      <td>73.523582</td>\n      <td>62.0</td>\n      <td>18.6</td>\n      <td>58.00000</td>\n      <td>62.0</td>\n      <td>0.1</td>\n      <td>17.5</td>\n      <td>17.5</td>\n      <td>0.476</td>\n      <td>10.0</td>\n    </tr>\n    <tr>\n      <th>2</th>\n      <td>Afghanistan</td>\n      <td>1</td>\n      <td>59.9</td>\n      <td>268.0</td>\n      <td>0.01</td>\n      <td>73.219243</td>\n      <td>64.0</td>\n      <td>18.1</td>\n      <td>62.00000</td>\n      <td>64.0</td>\n      <td>0.1</td>\n      <td>17.7</td>\n      <td>17.7</td>\n      <td>0.470</td>\n      <td>9.9</td>\n    </tr>\n    <tr>\n      <th>3</th>\n      <td>Afghanistan</td>\n      <td>1</td>\n      <td>59.5</td>\n      <td>272.0</td>\n      <td>0.01</td>\n      <td>78.184215</td>\n      <td>67.0</td>\n      <td>17.6</td>\n      <td>67.00000</td>\n      <td>67.0</td>\n      <td>0.1</td>\n      <td>17.9</td>\n      <td>18.0</td>\n      <td>0.463</td>\n      <td>9.8</td>\n    </tr>\n    <tr>\n      <th>4</th>\n      <td>Afghanistan</td>\n      <td>1</td>\n      <td>59.2</td>\n      <td>275.0</td>\n      <td>0.01</td>\n      <td>7.097109</td>\n      <td>68.0</td>\n      <td>17.2</td>\n      <td>68.00000</td>\n      <td>68.0</td>\n      <td>0.1</td>\n      <td>18.2</td>\n      <td>18.2</td>\n      <td>0.454</td>\n      <td>9.5</td>\n    </tr>\n    <tr>\n      <th>...</th>\n      <td>...</td>\n      <td>...</td>\n      <td>...</td>\n      <td>...</td>\n      <td>...</td>\n      <td>...</td>\n      <td>...</td>\n      <td>...</td>\n      <td>...</td>\n      <td>...</td>\n      <td>...</td>\n      <td>...</td>\n      <td>...</td>\n      <td>...</td>\n      <td>...</td>\n    </tr>\n    <tr>\n      <th>2933</th>\n      <td>Zimbabwe</td>\n      <td>1</td>\n      <td>44.3</td>\n      <td>723.0</td>\n      <td>4.36</td>\n      <td>0.000000</td>\n      <td>68.0</td>\n      <td>27.1</td>\n      <td>67.00000</td>\n      <td>65.0</td>\n      <td>33.6</td>\n      <td>9.4</td>\n      <td>9.4</td>\n      <td>0.407</td>\n      <td>9.2</td>\n    </tr>\n    <tr>\n      <th>2934</th>\n      <td>Zimbabwe</td>\n      <td>1</td>\n      <td>44.5</td>\n      <td>715.0</td>\n      <td>4.06</td>\n      <td>0.000000</td>\n      <td>70.0</td>\n      <td>26.7</td>\n      <td>87.19214</td>\n      <td>68.0</td>\n      <td>36.7</td>\n      <td>9.8</td>\n      <td>9.9</td>\n      <td>0.418</td>\n      <td>9.5</td>\n    </tr>\n    <tr>\n      <th>2935</th>\n      <td>Zimbabwe</td>\n      <td>1</td>\n      <td>44.8</td>\n      <td>73.0</td>\n      <td>4.43</td>\n      <td>0.000000</td>\n      <td>73.0</td>\n      <td>26.3</td>\n      <td>73.00000</td>\n      <td>71.0</td>\n      <td>39.8</td>\n      <td>1.2</td>\n      <td>1.3</td>\n      <td>0.427</td>\n      <td>10.0</td>\n    </tr>\n    <tr>\n      <th>2936</th>\n      <td>Zimbabwe</td>\n      <td>1</td>\n      <td>45.3</td>\n      <td>686.0</td>\n      <td>1.72</td>\n      <td>0.000000</td>\n      <td>76.0</td>\n      <td>25.9</td>\n      <td>76.00000</td>\n      <td>75.0</td>\n      <td>42.1</td>\n      <td>1.6</td>\n      <td>1.7</td>\n      <td>0.427</td>\n      <td>9.8</td>\n    </tr>\n    <tr>\n      <th>2937</th>\n      <td>Zimbabwe</td>\n      <td>1</td>\n      <td>46.0</td>\n      <td>665.0</td>\n      <td>1.68</td>\n      <td>0.000000</td>\n      <td>79.0</td>\n      <td>25.5</td>\n      <td>78.00000</td>\n      <td>78.0</td>\n      <td>43.5</td>\n      <td>11.0</td>\n      <td>11.2</td>\n      <td>0.434</td>\n      <td>9.8</td>\n    </tr>\n  </tbody>\n</table>\n<p>2928 rows × 15 columns</p>\n</div>"
     },
     "metadata": {}
    }
   ],
   "execution_count": null
  },
  {
   "cell_type": "code",
   "metadata": {
    "tags": [],
    "cell_id": "00139-28b89d7c-960a-4d76-a57a-5863608ea2f6",
    "deepnote_to_be_reexecuted": false,
    "source_hash": "7fabc2db",
    "execution_start": 1640535851706,
    "execution_millis": 13,
    "deepnote_cell_type": "code"
   },
   "source": "dummies = pd.get_dummies(df.Country, prefix='Country')",
   "outputs": [],
   "execution_count": null
  },
  {
   "cell_type": "markdown",
   "source": "* Příznak 'Year' jsem se rozhodnul vrátit, neboť by mohla být určitá korelace mezi tím, jak roky plynou a jak se země vyvijí, resp. zvyšují se ji (pravděpodobně) takové příznaky, jako 'GDP' atd.",
   "metadata": {
    "tags": [],
    "cell_id": "00140-a6143f15-8408-4790-8ee8-59ee0bafe8af",
    "deepnote_cell_type": "markdown"
   }
  },
  {
   "cell_type": "code",
   "metadata": {
    "tags": [],
    "cell_id": "00140-0cacb44f-da78-41c5-b2e1-5f86a0e1c3d2",
    "deepnote_to_be_reexecuted": false,
    "source_hash": "8a9a8d1e",
    "execution_start": 1640535851734,
    "execution_millis": 6,
    "deepnote_cell_type": "code"
   },
   "source": "df['Year'] = df2['Year']",
   "outputs": [],
   "execution_count": null
  },
  {
   "cell_type": "markdown",
   "source": "* Zkusím data normalizovat.",
   "metadata": {
    "tags": [],
    "cell_id": "00140-80efd41e-ae9b-4970-8f9d-5e7df8a1ff59",
    "deepnote_cell_type": "markdown"
   }
  },
  {
   "cell_type": "code",
   "metadata": {
    "tags": [],
    "cell_id": "00143-803ea3bf-fba8-4fee-9bf2-98c3ad64868f",
    "deepnote_to_be_reexecuted": false,
    "source_hash": "a3bfc8be",
    "execution_start": 1640535851759,
    "execution_millis": 24,
    "deepnote_cell_type": "code"
   },
   "source": "result = df.drop(columns=['Country', 'Life expectancy']).apply(lambda x: (x-x.min())/(x.max() - x.min()))",
   "outputs": [],
   "execution_count": null
  },
  {
   "cell_type": "code",
   "metadata": {
    "tags": [],
    "cell_id": "00142-0f1b7773-18cb-45cc-9b8b-6676fa5205af",
    "deepnote_to_be_reexecuted": false,
    "source_hash": "2e3ee85a",
    "execution_start": 1640535851825,
    "execution_millis": 1,
    "deepnote_cell_type": "code"
   },
   "source": "result['Life expectancy'] = df['Life expectancy']",
   "outputs": [],
   "execution_count": null
  },
  {
   "cell_type": "markdown",
   "source": "* Výsledný dataframe \"slepíme\" dohromady z levého DF 'df' a pravého DF 'dummies'.",
   "metadata": {
    "tags": [],
    "cell_id": "00144-446f03cf-9850-4a5a-a620-20c5aabd1de1",
    "deepnote_cell_type": "markdown"
   }
  },
  {
   "cell_type": "code",
   "metadata": {
    "tags": [],
    "cell_id": "00144-828adc53-ae8d-4b87-95bd-32e6cb6f8876",
    "deepnote_to_be_reexecuted": false,
    "source_hash": "25cb78da",
    "execution_start": 1640535851826,
    "execution_millis": 1,
    "deepnote_cell_type": "code"
   },
   "source": "result = pd.concat([dummies, result], axis=1)",
   "outputs": [],
   "execution_count": null
  },
  {
   "cell_type": "code",
   "metadata": {
    "tags": [],
    "cell_id": "00144-93b9df9d-0196-444f-8486-dd93338ac377",
    "deepnote_to_be_reexecuted": false,
    "source_hash": "bae0e1b5",
    "execution_start": 1640535851869,
    "execution_millis": 1040,
    "deepnote_output_heights": [
     232.390625
    ],
    "is_output_hidden": true,
    "deepnote_cell_type": "code"
   },
   "source": "result",
   "outputs": [
    {
     "output_type": "execute_result",
     "execution_count": 100,
     "data": {
      "application/vnd.deepnote.dataframe.v3+json": {
       "column_count": 198,
       "row_count": 2928,
       "columns": [
        {
         "name": "Country_Afghanistan",
         "dtype": "uint8",
         "stats": {
          "unique_count": 2,
          "nan_count": 0,
          "min": "0",
          "max": "1",
          "histogram": [
           {
            "bin_start": 0,
            "bin_end": 0.1,
            "count": 2912
           },
           {
            "bin_start": 0.1,
            "bin_end": 0.2,
            "count": 0
           },
           {
            "bin_start": 0.2,
            "bin_end": 0.30000000000000004,
            "count": 0
           },
           {
            "bin_start": 0.30000000000000004,
            "bin_end": 0.4,
            "count": 0
           },
           {
            "bin_start": 0.4,
            "bin_end": 0.5,
            "count": 0
           },
           {
            "bin_start": 0.5,
            "bin_end": 0.6000000000000001,
            "count": 0
           },
           {
            "bin_start": 0.6000000000000001,
            "bin_end": 0.7000000000000001,
            "count": 0
           },
           {
            "bin_start": 0.7000000000000001,
            "bin_end": 0.8,
            "count": 0
           },
           {
            "bin_start": 0.8,
            "bin_end": 0.9,
            "count": 0
           },
           {
            "bin_start": 0.9,
            "bin_end": 1,
            "count": 16
           }
          ]
         }
        },
        {
         "name": "Country_Albania",
         "dtype": "uint8",
         "stats": {
          "unique_count": 2,
          "nan_count": 0,
          "min": "0",
          "max": "1",
          "histogram": [
           {
            "bin_start": 0,
            "bin_end": 0.1,
            "count": 2912
           },
           {
            "bin_start": 0.1,
            "bin_end": 0.2,
            "count": 0
           },
           {
            "bin_start": 0.2,
            "bin_end": 0.30000000000000004,
            "count": 0
           },
           {
            "bin_start": 0.30000000000000004,
            "bin_end": 0.4,
            "count": 0
           },
           {
            "bin_start": 0.4,
            "bin_end": 0.5,
            "count": 0
           },
           {
            "bin_start": 0.5,
            "bin_end": 0.6000000000000001,
            "count": 0
           },
           {
            "bin_start": 0.6000000000000001,
            "bin_end": 0.7000000000000001,
            "count": 0
           },
           {
            "bin_start": 0.7000000000000001,
            "bin_end": 0.8,
            "count": 0
           },
           {
            "bin_start": 0.8,
            "bin_end": 0.9,
            "count": 0
           },
           {
            "bin_start": 0.9,
            "bin_end": 1,
            "count": 16
           }
          ]
         }
        },
        {
         "name": "Country_Algeria",
         "dtype": "uint8",
         "stats": {
          "unique_count": 2,
          "nan_count": 0,
          "min": "0",
          "max": "1",
          "histogram": [
           {
            "bin_start": 0,
            "bin_end": 0.1,
            "count": 2912
           },
           {
            "bin_start": 0.1,
            "bin_end": 0.2,
            "count": 0
           },
           {
            "bin_start": 0.2,
            "bin_end": 0.30000000000000004,
            "count": 0
           },
           {
            "bin_start": 0.30000000000000004,
            "bin_end": 0.4,
            "count": 0
           },
           {
            "bin_start": 0.4,
            "bin_end": 0.5,
            "count": 0
           },
           {
            "bin_start": 0.5,
            "bin_end": 0.6000000000000001,
            "count": 0
           },
           {
            "bin_start": 0.6000000000000001,
            "bin_end": 0.7000000000000001,
            "count": 0
           },
           {
            "bin_start": 0.7000000000000001,
            "bin_end": 0.8,
            "count": 0
           },
           {
            "bin_start": 0.8,
            "bin_end": 0.9,
            "count": 0
           },
           {
            "bin_start": 0.9,
            "bin_end": 1,
            "count": 16
           }
          ]
         }
        },
        {
         "name": "Country_Angola",
         "dtype": "uint8",
         "stats": {
          "unique_count": 2,
          "nan_count": 0,
          "min": "0",
          "max": "1",
          "histogram": [
           {
            "bin_start": 0,
            "bin_end": 0.1,
            "count": 2912
           },
           {
            "bin_start": 0.1,
            "bin_end": 0.2,
            "count": 0
           },
           {
            "bin_start": 0.2,
            "bin_end": 0.30000000000000004,
            "count": 0
           },
           {
            "bin_start": 0.30000000000000004,
            "bin_end": 0.4,
            "count": 0
           },
           {
            "bin_start": 0.4,
            "bin_end": 0.5,
            "count": 0
           },
           {
            "bin_start": 0.5,
            "bin_end": 0.6000000000000001,
            "count": 0
           },
           {
            "bin_start": 0.6000000000000001,
            "bin_end": 0.7000000000000001,
            "count": 0
           },
           {
            "bin_start": 0.7000000000000001,
            "bin_end": 0.8,
            "count": 0
           },
           {
            "bin_start": 0.8,
            "bin_end": 0.9,
            "count": 0
           },
           {
            "bin_start": 0.9,
            "bin_end": 1,
            "count": 16
           }
          ]
         }
        },
        {
         "name": "Country_Antigua and Barbuda",
         "dtype": "uint8",
         "stats": {
          "unique_count": 2,
          "nan_count": 0,
          "min": "0",
          "max": "1",
          "histogram": [
           {
            "bin_start": 0,
            "bin_end": 0.1,
            "count": 2912
           },
           {
            "bin_start": 0.1,
            "bin_end": 0.2,
            "count": 0
           },
           {
            "bin_start": 0.2,
            "bin_end": 0.30000000000000004,
            "count": 0
           },
           {
            "bin_start": 0.30000000000000004,
            "bin_end": 0.4,
            "count": 0
           },
           {
            "bin_start": 0.4,
            "bin_end": 0.5,
            "count": 0
           },
           {
            "bin_start": 0.5,
            "bin_end": 0.6000000000000001,
            "count": 0
           },
           {
            "bin_start": 0.6000000000000001,
            "bin_end": 0.7000000000000001,
            "count": 0
           },
           {
            "bin_start": 0.7000000000000001,
            "bin_end": 0.8,
            "count": 0
           },
           {
            "bin_start": 0.8,
            "bin_end": 0.9,
            "count": 0
           },
           {
            "bin_start": 0.9,
            "bin_end": 1,
            "count": 16
           }
          ]
         }
        },
        {
         "name": "Country_Argentina",
         "dtype": "uint8",
         "stats": {
          "unique_count": 2,
          "nan_count": 0,
          "min": "0",
          "max": "1",
          "histogram": [
           {
            "bin_start": 0,
            "bin_end": 0.1,
            "count": 2912
           },
           {
            "bin_start": 0.1,
            "bin_end": 0.2,
            "count": 0
           },
           {
            "bin_start": 0.2,
            "bin_end": 0.30000000000000004,
            "count": 0
           },
           {
            "bin_start": 0.30000000000000004,
            "bin_end": 0.4,
            "count": 0
           },
           {
            "bin_start": 0.4,
            "bin_end": 0.5,
            "count": 0
           },
           {
            "bin_start": 0.5,
            "bin_end": 0.6000000000000001,
            "count": 0
           },
           {
            "bin_start": 0.6000000000000001,
            "bin_end": 0.7000000000000001,
            "count": 0
           },
           {
            "bin_start": 0.7000000000000001,
            "bin_end": 0.8,
            "count": 0
           },
           {
            "bin_start": 0.8,
            "bin_end": 0.9,
            "count": 0
           },
           {
            "bin_start": 0.9,
            "bin_end": 1,
            "count": 16
           }
          ]
         }
        },
        {
         "name": "Country_Armenia",
         "dtype": "uint8",
         "stats": {
          "unique_count": 2,
          "nan_count": 0,
          "min": "0",
          "max": "1",
          "histogram": [
           {
            "bin_start": 0,
            "bin_end": 0.1,
            "count": 2912
           },
           {
            "bin_start": 0.1,
            "bin_end": 0.2,
            "count": 0
           },
           {
            "bin_start": 0.2,
            "bin_end": 0.30000000000000004,
            "count": 0
           },
           {
            "bin_start": 0.30000000000000004,
            "bin_end": 0.4,
            "count": 0
           },
           {
            "bin_start": 0.4,
            "bin_end": 0.5,
            "count": 0
           },
           {
            "bin_start": 0.5,
            "bin_end": 0.6000000000000001,
            "count": 0
           },
           {
            "bin_start": 0.6000000000000001,
            "bin_end": 0.7000000000000001,
            "count": 0
           },
           {
            "bin_start": 0.7000000000000001,
            "bin_end": 0.8,
            "count": 0
           },
           {
            "bin_start": 0.8,
            "bin_end": 0.9,
            "count": 0
           },
           {
            "bin_start": 0.9,
            "bin_end": 1,
            "count": 16
           }
          ]
         }
        },
        {
         "name": "Country_Australia",
         "dtype": "uint8",
         "stats": {
          "unique_count": 2,
          "nan_count": 0,
          "min": "0",
          "max": "1",
          "histogram": [
           {
            "bin_start": 0,
            "bin_end": 0.1,
            "count": 2912
           },
           {
            "bin_start": 0.1,
            "bin_end": 0.2,
            "count": 0
           },
           {
            "bin_start": 0.2,
            "bin_end": 0.30000000000000004,
            "count": 0
           },
           {
            "bin_start": 0.30000000000000004,
            "bin_end": 0.4,
            "count": 0
           },
           {
            "bin_start": 0.4,
            "bin_end": 0.5,
            "count": 0
           },
           {
            "bin_start": 0.5,
            "bin_end": 0.6000000000000001,
            "count": 0
           },
           {
            "bin_start": 0.6000000000000001,
            "bin_end": 0.7000000000000001,
            "count": 0
           },
           {
            "bin_start": 0.7000000000000001,
            "bin_end": 0.8,
            "count": 0
           },
           {
            "bin_start": 0.8,
            "bin_end": 0.9,
            "count": 0
           },
           {
            "bin_start": 0.9,
            "bin_end": 1,
            "count": 16
           }
          ]
         }
        },
        {
         "name": "Country_Austria",
         "dtype": "uint8",
         "stats": {
          "unique_count": 2,
          "nan_count": 0,
          "min": "0",
          "max": "1",
          "histogram": [
           {
            "bin_start": 0,
            "bin_end": 0.1,
            "count": 2912
           },
           {
            "bin_start": 0.1,
            "bin_end": 0.2,
            "count": 0
           },
           {
            "bin_start": 0.2,
            "bin_end": 0.30000000000000004,
            "count": 0
           },
           {
            "bin_start": 0.30000000000000004,
            "bin_end": 0.4,
            "count": 0
           },
           {
            "bin_start": 0.4,
            "bin_end": 0.5,
            "count": 0
           },
           {
            "bin_start": 0.5,
            "bin_end": 0.6000000000000001,
            "count": 0
           },
           {
            "bin_start": 0.6000000000000001,
            "bin_end": 0.7000000000000001,
            "count": 0
           },
           {
            "bin_start": 0.7000000000000001,
            "bin_end": 0.8,
            "count": 0
           },
           {
            "bin_start": 0.8,
            "bin_end": 0.9,
            "count": 0
           },
           {
            "bin_start": 0.9,
            "bin_end": 1,
            "count": 16
           }
          ]
         }
        },
        {
         "name": "Country_Azerbaijan",
         "dtype": "uint8",
         "stats": {
          "unique_count": 2,
          "nan_count": 0,
          "min": "0",
          "max": "1",
          "histogram": [
           {
            "bin_start": 0,
            "bin_end": 0.1,
            "count": 2912
           },
           {
            "bin_start": 0.1,
            "bin_end": 0.2,
            "count": 0
           },
           {
            "bin_start": 0.2,
            "bin_end": 0.30000000000000004,
            "count": 0
           },
           {
            "bin_start": 0.30000000000000004,
            "bin_end": 0.4,
            "count": 0
           },
           {
            "bin_start": 0.4,
            "bin_end": 0.5,
            "count": 0
           },
           {
            "bin_start": 0.5,
            "bin_end": 0.6000000000000001,
            "count": 0
           },
           {
            "bin_start": 0.6000000000000001,
            "bin_end": 0.7000000000000001,
            "count": 0
           },
           {
            "bin_start": 0.7000000000000001,
            "bin_end": 0.8,
            "count": 0
           },
           {
            "bin_start": 0.8,
            "bin_end": 0.9,
            "count": 0
           },
           {
            "bin_start": 0.9,
            "bin_end": 1,
            "count": 16
           }
          ]
         }
        },
        {
         "name": "Country_Bahamas",
         "dtype": "uint8",
         "stats": {
          "unique_count": 2,
          "nan_count": 0,
          "min": "0",
          "max": "1",
          "histogram": [
           {
            "bin_start": 0,
            "bin_end": 0.1,
            "count": 2912
           },
           {
            "bin_start": 0.1,
            "bin_end": 0.2,
            "count": 0
           },
           {
            "bin_start": 0.2,
            "bin_end": 0.30000000000000004,
            "count": 0
           },
           {
            "bin_start": 0.30000000000000004,
            "bin_end": 0.4,
            "count": 0
           },
           {
            "bin_start": 0.4,
            "bin_end": 0.5,
            "count": 0
           },
           {
            "bin_start": 0.5,
            "bin_end": 0.6000000000000001,
            "count": 0
           },
           {
            "bin_start": 0.6000000000000001,
            "bin_end": 0.7000000000000001,
            "count": 0
           },
           {
            "bin_start": 0.7000000000000001,
            "bin_end": 0.8,
            "count": 0
           },
           {
            "bin_start": 0.8,
            "bin_end": 0.9,
            "count": 0
           },
           {
            "bin_start": 0.9,
            "bin_end": 1,
            "count": 16
           }
          ]
         }
        },
        {
         "name": "Country_Bahrain",
         "dtype": "uint8",
         "stats": {
          "unique_count": 2,
          "nan_count": 0,
          "min": "0",
          "max": "1",
          "histogram": [
           {
            "bin_start": 0,
            "bin_end": 0.1,
            "count": 2912
           },
           {
            "bin_start": 0.1,
            "bin_end": 0.2,
            "count": 0
           },
           {
            "bin_start": 0.2,
            "bin_end": 0.30000000000000004,
            "count": 0
           },
           {
            "bin_start": 0.30000000000000004,
            "bin_end": 0.4,
            "count": 0
           },
           {
            "bin_start": 0.4,
            "bin_end": 0.5,
            "count": 0
           },
           {
            "bin_start": 0.5,
            "bin_end": 0.6000000000000001,
            "count": 0
           },
           {
            "bin_start": 0.6000000000000001,
            "bin_end": 0.7000000000000001,
            "count": 0
           },
           {
            "bin_start": 0.7000000000000001,
            "bin_end": 0.8,
            "count": 0
           },
           {
            "bin_start": 0.8,
            "bin_end": 0.9,
            "count": 0
           },
           {
            "bin_start": 0.9,
            "bin_end": 1,
            "count": 16
           }
          ]
         }
        },
        {
         "name": "Country_Bangladesh",
         "dtype": "uint8",
         "stats": {
          "unique_count": 2,
          "nan_count": 0,
          "min": "0",
          "max": "1",
          "histogram": [
           {
            "bin_start": 0,
            "bin_end": 0.1,
            "count": 2912
           },
           {
            "bin_start": 0.1,
            "bin_end": 0.2,
            "count": 0
           },
           {
            "bin_start": 0.2,
            "bin_end": 0.30000000000000004,
            "count": 0
           },
           {
            "bin_start": 0.30000000000000004,
            "bin_end": 0.4,
            "count": 0
           },
           {
            "bin_start": 0.4,
            "bin_end": 0.5,
            "count": 0
           },
           {
            "bin_start": 0.5,
            "bin_end": 0.6000000000000001,
            "count": 0
           },
           {
            "bin_start": 0.6000000000000001,
            "bin_end": 0.7000000000000001,
            "count": 0
           },
           {
            "bin_start": 0.7000000000000001,
            "bin_end": 0.8,
            "count": 0
           },
           {
            "bin_start": 0.8,
            "bin_end": 0.9,
            "count": 0
           },
           {
            "bin_start": 0.9,
            "bin_end": 1,
            "count": 16
           }
          ]
         }
        },
        {
         "name": "Country_Barbados",
         "dtype": "uint8",
         "stats": {
          "unique_count": 2,
          "nan_count": 0,
          "min": "0",
          "max": "1",
          "histogram": [
           {
            "bin_start": 0,
            "bin_end": 0.1,
            "count": 2912
           },
           {
            "bin_start": 0.1,
            "bin_end": 0.2,
            "count": 0
           },
           {
            "bin_start": 0.2,
            "bin_end": 0.30000000000000004,
            "count": 0
           },
           {
            "bin_start": 0.30000000000000004,
            "bin_end": 0.4,
            "count": 0
           },
           {
            "bin_start": 0.4,
            "bin_end": 0.5,
            "count": 0
           },
           {
            "bin_start": 0.5,
            "bin_end": 0.6000000000000001,
            "count": 0
           },
           {
            "bin_start": 0.6000000000000001,
            "bin_end": 0.7000000000000001,
            "count": 0
           },
           {
            "bin_start": 0.7000000000000001,
            "bin_end": 0.8,
            "count": 0
           },
           {
            "bin_start": 0.8,
            "bin_end": 0.9,
            "count": 0
           },
           {
            "bin_start": 0.9,
            "bin_end": 1,
            "count": 16
           }
          ]
         }
        },
        {
         "name": "Country_Belarus",
         "dtype": "uint8",
         "stats": {
          "unique_count": 2,
          "nan_count": 0,
          "min": "0",
          "max": "1",
          "histogram": [
           {
            "bin_start": 0,
            "bin_end": 0.1,
            "count": 2912
           },
           {
            "bin_start": 0.1,
            "bin_end": 0.2,
            "count": 0
           },
           {
            "bin_start": 0.2,
            "bin_end": 0.30000000000000004,
            "count": 0
           },
           {
            "bin_start": 0.30000000000000004,
            "bin_end": 0.4,
            "count": 0
           },
           {
            "bin_start": 0.4,
            "bin_end": 0.5,
            "count": 0
           },
           {
            "bin_start": 0.5,
            "bin_end": 0.6000000000000001,
            "count": 0
           },
           {
            "bin_start": 0.6000000000000001,
            "bin_end": 0.7000000000000001,
            "count": 0
           },
           {
            "bin_start": 0.7000000000000001,
            "bin_end": 0.8,
            "count": 0
           },
           {
            "bin_start": 0.8,
            "bin_end": 0.9,
            "count": 0
           },
           {
            "bin_start": 0.9,
            "bin_end": 1,
            "count": 16
           }
          ]
         }
        },
        {
         "name": "Country_Belgium",
         "dtype": "uint8",
         "stats": {
          "unique_count": 2,
          "nan_count": 0,
          "min": "0",
          "max": "1",
          "histogram": [
           {
            "bin_start": 0,
            "bin_end": 0.1,
            "count": 2912
           },
           {
            "bin_start": 0.1,
            "bin_end": 0.2,
            "count": 0
           },
           {
            "bin_start": 0.2,
            "bin_end": 0.30000000000000004,
            "count": 0
           },
           {
            "bin_start": 0.30000000000000004,
            "bin_end": 0.4,
            "count": 0
           },
           {
            "bin_start": 0.4,
            "bin_end": 0.5,
            "count": 0
           },
           {
            "bin_start": 0.5,
            "bin_end": 0.6000000000000001,
            "count": 0
           },
           {
            "bin_start": 0.6000000000000001,
            "bin_end": 0.7000000000000001,
            "count": 0
           },
           {
            "bin_start": 0.7000000000000001,
            "bin_end": 0.8,
            "count": 0
           },
           {
            "bin_start": 0.8,
            "bin_end": 0.9,
            "count": 0
           },
           {
            "bin_start": 0.9,
            "bin_end": 1,
            "count": 16
           }
          ]
         }
        },
        {
         "name": "Country_Belize",
         "dtype": "uint8",
         "stats": {
          "unique_count": 2,
          "nan_count": 0,
          "min": "0",
          "max": "1",
          "histogram": [
           {
            "bin_start": 0,
            "bin_end": 0.1,
            "count": 2912
           },
           {
            "bin_start": 0.1,
            "bin_end": 0.2,
            "count": 0
           },
           {
            "bin_start": 0.2,
            "bin_end": 0.30000000000000004,
            "count": 0
           },
           {
            "bin_start": 0.30000000000000004,
            "bin_end": 0.4,
            "count": 0
           },
           {
            "bin_start": 0.4,
            "bin_end": 0.5,
            "count": 0
           },
           {
            "bin_start": 0.5,
            "bin_end": 0.6000000000000001,
            "count": 0
           },
           {
            "bin_start": 0.6000000000000001,
            "bin_end": 0.7000000000000001,
            "count": 0
           },
           {
            "bin_start": 0.7000000000000001,
            "bin_end": 0.8,
            "count": 0
           },
           {
            "bin_start": 0.8,
            "bin_end": 0.9,
            "count": 0
           },
           {
            "bin_start": 0.9,
            "bin_end": 1,
            "count": 16
           }
          ]
         }
        },
        {
         "name": "Country_Benin",
         "dtype": "uint8",
         "stats": {
          "unique_count": 2,
          "nan_count": 0,
          "min": "0",
          "max": "1",
          "histogram": [
           {
            "bin_start": 0,
            "bin_end": 0.1,
            "count": 2912
           },
           {
            "bin_start": 0.1,
            "bin_end": 0.2,
            "count": 0
           },
           {
            "bin_start": 0.2,
            "bin_end": 0.30000000000000004,
            "count": 0
           },
           {
            "bin_start": 0.30000000000000004,
            "bin_end": 0.4,
            "count": 0
           },
           {
            "bin_start": 0.4,
            "bin_end": 0.5,
            "count": 0
           },
           {
            "bin_start": 0.5,
            "bin_end": 0.6000000000000001,
            "count": 0
           },
           {
            "bin_start": 0.6000000000000001,
            "bin_end": 0.7000000000000001,
            "count": 0
           },
           {
            "bin_start": 0.7000000000000001,
            "bin_end": 0.8,
            "count": 0
           },
           {
            "bin_start": 0.8,
            "bin_end": 0.9,
            "count": 0
           },
           {
            "bin_start": 0.9,
            "bin_end": 1,
            "count": 16
           }
          ]
         }
        },
        {
         "name": "Country_Bhutan",
         "dtype": "uint8",
         "stats": {
          "unique_count": 2,
          "nan_count": 0,
          "min": "0",
          "max": "1",
          "histogram": [
           {
            "bin_start": 0,
            "bin_end": 0.1,
            "count": 2912
           },
           {
            "bin_start": 0.1,
            "bin_end": 0.2,
            "count": 0
           },
           {
            "bin_start": 0.2,
            "bin_end": 0.30000000000000004,
            "count": 0
           },
           {
            "bin_start": 0.30000000000000004,
            "bin_end": 0.4,
            "count": 0
           },
           {
            "bin_start": 0.4,
            "bin_end": 0.5,
            "count": 0
           },
           {
            "bin_start": 0.5,
            "bin_end": 0.6000000000000001,
            "count": 0
           },
           {
            "bin_start": 0.6000000000000001,
            "bin_end": 0.7000000000000001,
            "count": 0
           },
           {
            "bin_start": 0.7000000000000001,
            "bin_end": 0.8,
            "count": 0
           },
           {
            "bin_start": 0.8,
            "bin_end": 0.9,
            "count": 0
           },
           {
            "bin_start": 0.9,
            "bin_end": 1,
            "count": 16
           }
          ]
         }
        },
        {
         "name": "Country_Bolivia (Plurinational State of)",
         "dtype": "uint8",
         "stats": {
          "unique_count": 2,
          "nan_count": 0,
          "min": "0",
          "max": "1",
          "histogram": [
           {
            "bin_start": 0,
            "bin_end": 0.1,
            "count": 2912
           },
           {
            "bin_start": 0.1,
            "bin_end": 0.2,
            "count": 0
           },
           {
            "bin_start": 0.2,
            "bin_end": 0.30000000000000004,
            "count": 0
           },
           {
            "bin_start": 0.30000000000000004,
            "bin_end": 0.4,
            "count": 0
           },
           {
            "bin_start": 0.4,
            "bin_end": 0.5,
            "count": 0
           },
           {
            "bin_start": 0.5,
            "bin_end": 0.6000000000000001,
            "count": 0
           },
           {
            "bin_start": 0.6000000000000001,
            "bin_end": 0.7000000000000001,
            "count": 0
           },
           {
            "bin_start": 0.7000000000000001,
            "bin_end": 0.8,
            "count": 0
           },
           {
            "bin_start": 0.8,
            "bin_end": 0.9,
            "count": 0
           },
           {
            "bin_start": 0.9,
            "bin_end": 1,
            "count": 16
           }
          ]
         }
        },
        {
         "name": "Country_Bosnia and Herzegovina",
         "dtype": "uint8",
         "stats": {
          "unique_count": 2,
          "nan_count": 0,
          "min": "0",
          "max": "1",
          "histogram": [
           {
            "bin_start": 0,
            "bin_end": 0.1,
            "count": 2912
           },
           {
            "bin_start": 0.1,
            "bin_end": 0.2,
            "count": 0
           },
           {
            "bin_start": 0.2,
            "bin_end": 0.30000000000000004,
            "count": 0
           },
           {
            "bin_start": 0.30000000000000004,
            "bin_end": 0.4,
            "count": 0
           },
           {
            "bin_start": 0.4,
            "bin_end": 0.5,
            "count": 0
           },
           {
            "bin_start": 0.5,
            "bin_end": 0.6000000000000001,
            "count": 0
           },
           {
            "bin_start": 0.6000000000000001,
            "bin_end": 0.7000000000000001,
            "count": 0
           },
           {
            "bin_start": 0.7000000000000001,
            "bin_end": 0.8,
            "count": 0
           },
           {
            "bin_start": 0.8,
            "bin_end": 0.9,
            "count": 0
           },
           {
            "bin_start": 0.9,
            "bin_end": 1,
            "count": 16
           }
          ]
         }
        },
        {
         "name": "Country_Botswana",
         "dtype": "uint8",
         "stats": {
          "unique_count": 2,
          "nan_count": 0,
          "min": "0",
          "max": "1",
          "histogram": [
           {
            "bin_start": 0,
            "bin_end": 0.1,
            "count": 2912
           },
           {
            "bin_start": 0.1,
            "bin_end": 0.2,
            "count": 0
           },
           {
            "bin_start": 0.2,
            "bin_end": 0.30000000000000004,
            "count": 0
           },
           {
            "bin_start": 0.30000000000000004,
            "bin_end": 0.4,
            "count": 0
           },
           {
            "bin_start": 0.4,
            "bin_end": 0.5,
            "count": 0
           },
           {
            "bin_start": 0.5,
            "bin_end": 0.6000000000000001,
            "count": 0
           },
           {
            "bin_start": 0.6000000000000001,
            "bin_end": 0.7000000000000001,
            "count": 0
           },
           {
            "bin_start": 0.7000000000000001,
            "bin_end": 0.8,
            "count": 0
           },
           {
            "bin_start": 0.8,
            "bin_end": 0.9,
            "count": 0
           },
           {
            "bin_start": 0.9,
            "bin_end": 1,
            "count": 16
           }
          ]
         }
        },
        {
         "name": "Country_Brazil",
         "dtype": "uint8",
         "stats": {
          "unique_count": 2,
          "nan_count": 0,
          "min": "0",
          "max": "1",
          "histogram": [
           {
            "bin_start": 0,
            "bin_end": 0.1,
            "count": 2912
           },
           {
            "bin_start": 0.1,
            "bin_end": 0.2,
            "count": 0
           },
           {
            "bin_start": 0.2,
            "bin_end": 0.30000000000000004,
            "count": 0
           },
           {
            "bin_start": 0.30000000000000004,
            "bin_end": 0.4,
            "count": 0
           },
           {
            "bin_start": 0.4,
            "bin_end": 0.5,
            "count": 0
           },
           {
            "bin_start": 0.5,
            "bin_end": 0.6000000000000001,
            "count": 0
           },
           {
            "bin_start": 0.6000000000000001,
            "bin_end": 0.7000000000000001,
            "count": 0
           },
           {
            "bin_start": 0.7000000000000001,
            "bin_end": 0.8,
            "count": 0
           },
           {
            "bin_start": 0.8,
            "bin_end": 0.9,
            "count": 0
           },
           {
            "bin_start": 0.9,
            "bin_end": 1,
            "count": 16
           }
          ]
         }
        },
        {
         "name": "Country_Brunei Darussalam",
         "dtype": "uint8",
         "stats": {
          "unique_count": 2,
          "nan_count": 0,
          "min": "0",
          "max": "1",
          "histogram": [
           {
            "bin_start": 0,
            "bin_end": 0.1,
            "count": 2912
           },
           {
            "bin_start": 0.1,
            "bin_end": 0.2,
            "count": 0
           },
           {
            "bin_start": 0.2,
            "bin_end": 0.30000000000000004,
            "count": 0
           },
           {
            "bin_start": 0.30000000000000004,
            "bin_end": 0.4,
            "count": 0
           },
           {
            "bin_start": 0.4,
            "bin_end": 0.5,
            "count": 0
           },
           {
            "bin_start": 0.5,
            "bin_end": 0.6000000000000001,
            "count": 0
           },
           {
            "bin_start": 0.6000000000000001,
            "bin_end": 0.7000000000000001,
            "count": 0
           },
           {
            "bin_start": 0.7000000000000001,
            "bin_end": 0.8,
            "count": 0
           },
           {
            "bin_start": 0.8,
            "bin_end": 0.9,
            "count": 0
           },
           {
            "bin_start": 0.9,
            "bin_end": 1,
            "count": 16
           }
          ]
         }
        },
        {
         "name": "Country_Bulgaria",
         "dtype": "uint8",
         "stats": {
          "unique_count": 2,
          "nan_count": 0,
          "min": "0",
          "max": "1",
          "histogram": [
           {
            "bin_start": 0,
            "bin_end": 0.1,
            "count": 2912
           },
           {
            "bin_start": 0.1,
            "bin_end": 0.2,
            "count": 0
           },
           {
            "bin_start": 0.2,
            "bin_end": 0.30000000000000004,
            "count": 0
           },
           {
            "bin_start": 0.30000000000000004,
            "bin_end": 0.4,
            "count": 0
           },
           {
            "bin_start": 0.4,
            "bin_end": 0.5,
            "count": 0
           },
           {
            "bin_start": 0.5,
            "bin_end": 0.6000000000000001,
            "count": 0
           },
           {
            "bin_start": 0.6000000000000001,
            "bin_end": 0.7000000000000001,
            "count": 0
           },
           {
            "bin_start": 0.7000000000000001,
            "bin_end": 0.8,
            "count": 0
           },
           {
            "bin_start": 0.8,
            "bin_end": 0.9,
            "count": 0
           },
           {
            "bin_start": 0.9,
            "bin_end": 1,
            "count": 16
           }
          ]
         }
        },
        {
         "name": "Country_Burkina Faso",
         "dtype": "uint8",
         "stats": {
          "unique_count": 2,
          "nan_count": 0,
          "min": "0",
          "max": "1",
          "histogram": [
           {
            "bin_start": 0,
            "bin_end": 0.1,
            "count": 2912
           },
           {
            "bin_start": 0.1,
            "bin_end": 0.2,
            "count": 0
           },
           {
            "bin_start": 0.2,
            "bin_end": 0.30000000000000004,
            "count": 0
           },
           {
            "bin_start": 0.30000000000000004,
            "bin_end": 0.4,
            "count": 0
           },
           {
            "bin_start": 0.4,
            "bin_end": 0.5,
            "count": 0
           },
           {
            "bin_start": 0.5,
            "bin_end": 0.6000000000000001,
            "count": 0
           },
           {
            "bin_start": 0.6000000000000001,
            "bin_end": 0.7000000000000001,
            "count": 0
           },
           {
            "bin_start": 0.7000000000000001,
            "bin_end": 0.8,
            "count": 0
           },
           {
            "bin_start": 0.8,
            "bin_end": 0.9,
            "count": 0
           },
           {
            "bin_start": 0.9,
            "bin_end": 1,
            "count": 16
           }
          ]
         }
        },
        {
         "name": "Country_Burundi",
         "dtype": "uint8",
         "stats": {
          "unique_count": 2,
          "nan_count": 0,
          "min": "0",
          "max": "1",
          "histogram": [
           {
            "bin_start": 0,
            "bin_end": 0.1,
            "count": 2912
           },
           {
            "bin_start": 0.1,
            "bin_end": 0.2,
            "count": 0
           },
           {
            "bin_start": 0.2,
            "bin_end": 0.30000000000000004,
            "count": 0
           },
           {
            "bin_start": 0.30000000000000004,
            "bin_end": 0.4,
            "count": 0
           },
           {
            "bin_start": 0.4,
            "bin_end": 0.5,
            "count": 0
           },
           {
            "bin_start": 0.5,
            "bin_end": 0.6000000000000001,
            "count": 0
           },
           {
            "bin_start": 0.6000000000000001,
            "bin_end": 0.7000000000000001,
            "count": 0
           },
           {
            "bin_start": 0.7000000000000001,
            "bin_end": 0.8,
            "count": 0
           },
           {
            "bin_start": 0.8,
            "bin_end": 0.9,
            "count": 0
           },
           {
            "bin_start": 0.9,
            "bin_end": 1,
            "count": 16
           }
          ]
         }
        },
        {
         "name": "Country_Cabo Verde",
         "dtype": "uint8",
         "stats": {
          "unique_count": 2,
          "nan_count": 0,
          "min": "0",
          "max": "1",
          "histogram": [
           {
            "bin_start": 0,
            "bin_end": 0.1,
            "count": 2912
           },
           {
            "bin_start": 0.1,
            "bin_end": 0.2,
            "count": 0
           },
           {
            "bin_start": 0.2,
            "bin_end": 0.30000000000000004,
            "count": 0
           },
           {
            "bin_start": 0.30000000000000004,
            "bin_end": 0.4,
            "count": 0
           },
           {
            "bin_start": 0.4,
            "bin_end": 0.5,
            "count": 0
           },
           {
            "bin_start": 0.5,
            "bin_end": 0.6000000000000001,
            "count": 0
           },
           {
            "bin_start": 0.6000000000000001,
            "bin_end": 0.7000000000000001,
            "count": 0
           },
           {
            "bin_start": 0.7000000000000001,
            "bin_end": 0.8,
            "count": 0
           },
           {
            "bin_start": 0.8,
            "bin_end": 0.9,
            "count": 0
           },
           {
            "bin_start": 0.9,
            "bin_end": 1,
            "count": 16
           }
          ]
         }
        },
        {
         "name": "Country_Cambodia",
         "dtype": "uint8",
         "stats": {
          "unique_count": 2,
          "nan_count": 0,
          "min": "0",
          "max": "1",
          "histogram": [
           {
            "bin_start": 0,
            "bin_end": 0.1,
            "count": 2912
           },
           {
            "bin_start": 0.1,
            "bin_end": 0.2,
            "count": 0
           },
           {
            "bin_start": 0.2,
            "bin_end": 0.30000000000000004,
            "count": 0
           },
           {
            "bin_start": 0.30000000000000004,
            "bin_end": 0.4,
            "count": 0
           },
           {
            "bin_start": 0.4,
            "bin_end": 0.5,
            "count": 0
           },
           {
            "bin_start": 0.5,
            "bin_end": 0.6000000000000001,
            "count": 0
           },
           {
            "bin_start": 0.6000000000000001,
            "bin_end": 0.7000000000000001,
            "count": 0
           },
           {
            "bin_start": 0.7000000000000001,
            "bin_end": 0.8,
            "count": 0
           },
           {
            "bin_start": 0.8,
            "bin_end": 0.9,
            "count": 0
           },
           {
            "bin_start": 0.9,
            "bin_end": 1,
            "count": 16
           }
          ]
         }
        },
        {
         "name": "Country_Cameroon",
         "dtype": "uint8",
         "stats": {
          "unique_count": 2,
          "nan_count": 0,
          "min": "0",
          "max": "1",
          "histogram": [
           {
            "bin_start": 0,
            "bin_end": 0.1,
            "count": 2912
           },
           {
            "bin_start": 0.1,
            "bin_end": 0.2,
            "count": 0
           },
           {
            "bin_start": 0.2,
            "bin_end": 0.30000000000000004,
            "count": 0
           },
           {
            "bin_start": 0.30000000000000004,
            "bin_end": 0.4,
            "count": 0
           },
           {
            "bin_start": 0.4,
            "bin_end": 0.5,
            "count": 0
           },
           {
            "bin_start": 0.5,
            "bin_end": 0.6000000000000001,
            "count": 0
           },
           {
            "bin_start": 0.6000000000000001,
            "bin_end": 0.7000000000000001,
            "count": 0
           },
           {
            "bin_start": 0.7000000000000001,
            "bin_end": 0.8,
            "count": 0
           },
           {
            "bin_start": 0.8,
            "bin_end": 0.9,
            "count": 0
           },
           {
            "bin_start": 0.9,
            "bin_end": 1,
            "count": 16
           }
          ]
         }
        },
        {
         "name": "Country_Canada",
         "dtype": "uint8",
         "stats": {
          "unique_count": 2,
          "nan_count": 0,
          "min": "0",
          "max": "1",
          "histogram": [
           {
            "bin_start": 0,
            "bin_end": 0.1,
            "count": 2912
           },
           {
            "bin_start": 0.1,
            "bin_end": 0.2,
            "count": 0
           },
           {
            "bin_start": 0.2,
            "bin_end": 0.30000000000000004,
            "count": 0
           },
           {
            "bin_start": 0.30000000000000004,
            "bin_end": 0.4,
            "count": 0
           },
           {
            "bin_start": 0.4,
            "bin_end": 0.5,
            "count": 0
           },
           {
            "bin_start": 0.5,
            "bin_end": 0.6000000000000001,
            "count": 0
           },
           {
            "bin_start": 0.6000000000000001,
            "bin_end": 0.7000000000000001,
            "count": 0
           },
           {
            "bin_start": 0.7000000000000001,
            "bin_end": 0.8,
            "count": 0
           },
           {
            "bin_start": 0.8,
            "bin_end": 0.9,
            "count": 0
           },
           {
            "bin_start": 0.9,
            "bin_end": 1,
            "count": 16
           }
          ]
         }
        },
        {
         "name": "Country_Central African Republic",
         "dtype": "uint8",
         "stats": {
          "unique_count": 2,
          "nan_count": 0,
          "min": "0",
          "max": "1",
          "histogram": [
           {
            "bin_start": 0,
            "bin_end": 0.1,
            "count": 2912
           },
           {
            "bin_start": 0.1,
            "bin_end": 0.2,
            "count": 0
           },
           {
            "bin_start": 0.2,
            "bin_end": 0.30000000000000004,
            "count": 0
           },
           {
            "bin_start": 0.30000000000000004,
            "bin_end": 0.4,
            "count": 0
           },
           {
            "bin_start": 0.4,
            "bin_end": 0.5,
            "count": 0
           },
           {
            "bin_start": 0.5,
            "bin_end": 0.6000000000000001,
            "count": 0
           },
           {
            "bin_start": 0.6000000000000001,
            "bin_end": 0.7000000000000001,
            "count": 0
           },
           {
            "bin_start": 0.7000000000000001,
            "bin_end": 0.8,
            "count": 0
           },
           {
            "bin_start": 0.8,
            "bin_end": 0.9,
            "count": 0
           },
           {
            "bin_start": 0.9,
            "bin_end": 1,
            "count": 16
           }
          ]
         }
        },
        {
         "name": "Country_Chad",
         "dtype": "uint8",
         "stats": {
          "unique_count": 2,
          "nan_count": 0,
          "min": "0",
          "max": "1",
          "histogram": [
           {
            "bin_start": 0,
            "bin_end": 0.1,
            "count": 2912
           },
           {
            "bin_start": 0.1,
            "bin_end": 0.2,
            "count": 0
           },
           {
            "bin_start": 0.2,
            "bin_end": 0.30000000000000004,
            "count": 0
           },
           {
            "bin_start": 0.30000000000000004,
            "bin_end": 0.4,
            "count": 0
           },
           {
            "bin_start": 0.4,
            "bin_end": 0.5,
            "count": 0
           },
           {
            "bin_start": 0.5,
            "bin_end": 0.6000000000000001,
            "count": 0
           },
           {
            "bin_start": 0.6000000000000001,
            "bin_end": 0.7000000000000001,
            "count": 0
           },
           {
            "bin_start": 0.7000000000000001,
            "bin_end": 0.8,
            "count": 0
           },
           {
            "bin_start": 0.8,
            "bin_end": 0.9,
            "count": 0
           },
           {
            "bin_start": 0.9,
            "bin_end": 1,
            "count": 16
           }
          ]
         }
        },
        {
         "name": "Country_Chile",
         "dtype": "uint8",
         "stats": {
          "unique_count": 2,
          "nan_count": 0,
          "min": "0",
          "max": "1",
          "histogram": [
           {
            "bin_start": 0,
            "bin_end": 0.1,
            "count": 2912
           },
           {
            "bin_start": 0.1,
            "bin_end": 0.2,
            "count": 0
           },
           {
            "bin_start": 0.2,
            "bin_end": 0.30000000000000004,
            "count": 0
           },
           {
            "bin_start": 0.30000000000000004,
            "bin_end": 0.4,
            "count": 0
           },
           {
            "bin_start": 0.4,
            "bin_end": 0.5,
            "count": 0
           },
           {
            "bin_start": 0.5,
            "bin_end": 0.6000000000000001,
            "count": 0
           },
           {
            "bin_start": 0.6000000000000001,
            "bin_end": 0.7000000000000001,
            "count": 0
           },
           {
            "bin_start": 0.7000000000000001,
            "bin_end": 0.8,
            "count": 0
           },
           {
            "bin_start": 0.8,
            "bin_end": 0.9,
            "count": 0
           },
           {
            "bin_start": 0.9,
            "bin_end": 1,
            "count": 16
           }
          ]
         }
        },
        {
         "name": "Country_China",
         "dtype": "uint8"
        },
        {
         "name": "Country_Colombia",
         "dtype": "uint8"
        },
        {
         "name": "Country_Comoros",
         "dtype": "uint8"
        },
        {
         "name": "Country_Congo",
         "dtype": "uint8"
        },
        {
         "name": "Country_Costa Rica",
         "dtype": "uint8"
        },
        {
         "name": "Country_Croatia",
         "dtype": "uint8"
        },
        {
         "name": "Country_Cuba",
         "dtype": "uint8"
        },
        {
         "name": "Country_Cyprus",
         "dtype": "uint8"
        },
        {
         "name": "Country_Czechia",
         "dtype": "uint8"
        },
        {
         "name": "Country_Côte d'Ivoire",
         "dtype": "uint8"
        },
        {
         "name": "Country_Democratic People's Republic of Korea",
         "dtype": "uint8"
        },
        {
         "name": "Country_Democratic Republic of the Congo",
         "dtype": "uint8"
        },
        {
         "name": "Country_Denmark",
         "dtype": "uint8"
        },
        {
         "name": "Country_Djibouti",
         "dtype": "uint8"
        },
        {
         "name": "Country_Dominican Republic",
         "dtype": "uint8"
        },
        {
         "name": "Country_Ecuador",
         "dtype": "uint8"
        },
        {
         "name": "Country_Egypt",
         "dtype": "uint8"
        },
        {
         "name": "Country_El Salvador",
         "dtype": "uint8"
        },
        {
         "name": "Country_Equatorial Guinea",
         "dtype": "uint8"
        },
        {
         "name": "Country_Eritrea",
         "dtype": "uint8"
        },
        {
         "name": "Country_Estonia",
         "dtype": "uint8"
        },
        {
         "name": "Country_Ethiopia",
         "dtype": "uint8"
        },
        {
         "name": "Country_Fiji",
         "dtype": "uint8"
        },
        {
         "name": "Country_Finland",
         "dtype": "uint8"
        },
        {
         "name": "Country_France",
         "dtype": "uint8"
        },
        {
         "name": "Country_Gabon",
         "dtype": "uint8"
        },
        {
         "name": "Country_Gambia",
         "dtype": "uint8"
        },
        {
         "name": "Country_Georgia",
         "dtype": "uint8"
        },
        {
         "name": "Country_Germany",
         "dtype": "uint8"
        },
        {
         "name": "Country_Ghana",
         "dtype": "uint8"
        },
        {
         "name": "Country_Greece",
         "dtype": "uint8"
        },
        {
         "name": "Country_Grenada",
         "dtype": "uint8"
        },
        {
         "name": "Country_Guatemala",
         "dtype": "uint8"
        },
        {
         "name": "Country_Guinea",
         "dtype": "uint8"
        },
        {
         "name": "Country_Guinea-Bissau",
         "dtype": "uint8"
        },
        {
         "name": "Country_Guyana",
         "dtype": "uint8"
        },
        {
         "name": "Country_Haiti",
         "dtype": "uint8"
        },
        {
         "name": "Country_Honduras",
         "dtype": "uint8"
        },
        {
         "name": "Country_Hungary",
         "dtype": "uint8"
        },
        {
         "name": "Country_Iceland",
         "dtype": "uint8"
        },
        {
         "name": "Country_India",
         "dtype": "uint8"
        },
        {
         "name": "Country_Indonesia",
         "dtype": "uint8"
        },
        {
         "name": "Country_Iran (Islamic Republic of)",
         "dtype": "uint8"
        },
        {
         "name": "Country_Iraq",
         "dtype": "uint8"
        },
        {
         "name": "Country_Ireland",
         "dtype": "uint8"
        },
        {
         "name": "Country_Israel",
         "dtype": "uint8"
        },
        {
         "name": "Country_Italy",
         "dtype": "uint8"
        },
        {
         "name": "Country_Jamaica",
         "dtype": "uint8"
        },
        {
         "name": "Country_Japan",
         "dtype": "uint8"
        },
        {
         "name": "Country_Jordan",
         "dtype": "uint8"
        },
        {
         "name": "Country_Kazakhstan",
         "dtype": "uint8"
        },
        {
         "name": "Country_Kenya",
         "dtype": "uint8"
        },
        {
         "name": "Country_Kiribati",
         "dtype": "uint8"
        },
        {
         "name": "Country_Kuwait",
         "dtype": "uint8"
        },
        {
         "name": "Country_Kyrgyzstan",
         "dtype": "uint8"
        },
        {
         "name": "Country_Lao People's Democratic Republic",
         "dtype": "uint8"
        },
        {
         "name": "Country_Latvia",
         "dtype": "uint8"
        },
        {
         "name": "Country_Lebanon",
         "dtype": "uint8"
        },
        {
         "name": "Country_Lesotho",
         "dtype": "uint8"
        },
        {
         "name": "Country_Liberia",
         "dtype": "uint8"
        },
        {
         "name": "Country_Libya",
         "dtype": "uint8"
        },
        {
         "name": "Country_Lithuania",
         "dtype": "uint8"
        },
        {
         "name": "Country_Luxembourg",
         "dtype": "uint8"
        },
        {
         "name": "Country_Madagascar",
         "dtype": "uint8"
        },
        {
         "name": "Country_Malawi",
         "dtype": "uint8"
        },
        {
         "name": "Country_Malaysia",
         "dtype": "uint8"
        },
        {
         "name": "Country_Maldives",
         "dtype": "uint8"
        },
        {
         "name": "Country_Mali",
         "dtype": "uint8"
        },
        {
         "name": "Country_Malta",
         "dtype": "uint8"
        },
        {
         "name": "Country_Mauritania",
         "dtype": "uint8"
        },
        {
         "name": "Country_Mauritius",
         "dtype": "uint8"
        },
        {
         "name": "Country_Mexico",
         "dtype": "uint8"
        },
        {
         "name": "Country_Micronesia (Federated States of)",
         "dtype": "uint8"
        },
        {
         "name": "Country_Mongolia",
         "dtype": "uint8"
        },
        {
         "name": "Country_Montenegro",
         "dtype": "uint8"
        },
        {
         "name": "Country_Morocco",
         "dtype": "uint8"
        },
        {
         "name": "Country_Mozambique",
         "dtype": "uint8"
        },
        {
         "name": "Country_Myanmar",
         "dtype": "uint8"
        },
        {
         "name": "Country_Namibia",
         "dtype": "uint8"
        },
        {
         "name": "Country_Nepal",
         "dtype": "uint8"
        },
        {
         "name": "Country_Netherlands",
         "dtype": "uint8"
        },
        {
         "name": "Country_New Zealand",
         "dtype": "uint8"
        },
        {
         "name": "Country_Nicaragua",
         "dtype": "uint8"
        },
        {
         "name": "Country_Niger",
         "dtype": "uint8"
        },
        {
         "name": "Country_Nigeria",
         "dtype": "uint8"
        },
        {
         "name": "Country_Norway",
         "dtype": "uint8"
        },
        {
         "name": "Country_Oman",
         "dtype": "uint8"
        },
        {
         "name": "Country_Pakistan",
         "dtype": "uint8"
        },
        {
         "name": "Country_Panama",
         "dtype": "uint8"
        },
        {
         "name": "Country_Papua New Guinea",
         "dtype": "uint8"
        },
        {
         "name": "Country_Paraguay",
         "dtype": "uint8"
        },
        {
         "name": "Country_Peru",
         "dtype": "uint8"
        },
        {
         "name": "Country_Philippines",
         "dtype": "uint8"
        },
        {
         "name": "Country_Poland",
         "dtype": "uint8"
        },
        {
         "name": "Country_Portugal",
         "dtype": "uint8"
        },
        {
         "name": "Country_Qatar",
         "dtype": "uint8"
        },
        {
         "name": "Country_Republic of Korea",
         "dtype": "uint8"
        },
        {
         "name": "Country_Republic of Moldova",
         "dtype": "uint8"
        },
        {
         "name": "Country_Romania",
         "dtype": "uint8"
        },
        {
         "name": "Country_Russian Federation",
         "dtype": "uint8"
        },
        {
         "name": "Country_Rwanda",
         "dtype": "uint8"
        },
        {
         "name": "Country_Saint Lucia",
         "dtype": "uint8"
        },
        {
         "name": "Country_Saint Vincent and the Grenadines",
         "dtype": "uint8"
        },
        {
         "name": "Country_Samoa",
         "dtype": "uint8"
        },
        {
         "name": "Country_Sao Tome and Principe",
         "dtype": "uint8"
        },
        {
         "name": "Country_Saudi Arabia",
         "dtype": "uint8"
        },
        {
         "name": "Country_Senegal",
         "dtype": "uint8"
        },
        {
         "name": "Country_Serbia",
         "dtype": "uint8"
        },
        {
         "name": "Country_Seychelles",
         "dtype": "uint8"
        },
        {
         "name": "Country_Sierra Leone",
         "dtype": "uint8"
        },
        {
         "name": "Country_Singapore",
         "dtype": "uint8"
        },
        {
         "name": "Country_Slovakia",
         "dtype": "uint8"
        },
        {
         "name": "Country_Slovenia",
         "dtype": "uint8"
        },
        {
         "name": "Country_Solomon Islands",
         "dtype": "uint8"
        },
        {
         "name": "Country_Somalia",
         "dtype": "uint8"
        },
        {
         "name": "Country_South Africa",
         "dtype": "uint8"
        },
        {
         "name": "Country_South Sudan",
         "dtype": "uint8"
        },
        {
         "name": "Country_Spain",
         "dtype": "uint8"
        },
        {
         "name": "Country_Sri Lanka",
         "dtype": "uint8"
        },
        {
         "name": "Country_Sudan",
         "dtype": "uint8"
        },
        {
         "name": "Country_Suriname",
         "dtype": "uint8"
        },
        {
         "name": "Country_Swaziland",
         "dtype": "uint8"
        },
        {
         "name": "Country_Sweden",
         "dtype": "uint8"
        },
        {
         "name": "Country_Switzerland",
         "dtype": "uint8"
        },
        {
         "name": "Country_Syrian Arab Republic",
         "dtype": "uint8"
        },
        {
         "name": "Country_Tajikistan",
         "dtype": "uint8"
        },
        {
         "name": "Country_Thailand",
         "dtype": "uint8"
        },
        {
         "name": "Country_The former Yugoslav republic of Macedonia",
         "dtype": "uint8"
        },
        {
         "name": "Country_Timor-Leste",
         "dtype": "uint8"
        },
        {
         "name": "Country_Togo",
         "dtype": "uint8"
        },
        {
         "name": "Country_Tonga",
         "dtype": "uint8"
        },
        {
         "name": "Country_Trinidad and Tobago",
         "dtype": "uint8"
        },
        {
         "name": "Country_Tunisia",
         "dtype": "uint8"
        },
        {
         "name": "Country_Turkey",
         "dtype": "uint8"
        },
        {
         "name": "Country_Turkmenistan",
         "dtype": "uint8"
        },
        {
         "name": "Country_Uganda",
         "dtype": "uint8"
        },
        {
         "name": "Country_Ukraine",
         "dtype": "uint8"
        },
        {
         "name": "Country_United Arab Emirates",
         "dtype": "uint8"
        },
        {
         "name": "Country_United Kingdom of Great Britain and Northern Ireland",
         "dtype": "uint8"
        },
        {
         "name": "Country_United Republic of Tanzania",
         "dtype": "uint8"
        },
        {
         "name": "Country_United States of America",
         "dtype": "uint8"
        },
        {
         "name": "Country_Uruguay",
         "dtype": "uint8"
        },
        {
         "name": "Country_Uzbekistan",
         "dtype": "uint8"
        },
        {
         "name": "Country_Vanuatu",
         "dtype": "uint8"
        },
        {
         "name": "Country_Venezuela (Bolivarian Republic of)",
         "dtype": "uint8"
        },
        {
         "name": "Country_Viet Nam",
         "dtype": "uint8"
        },
        {
         "name": "Country_Yemen",
         "dtype": "uint8"
        },
        {
         "name": "Country_Zambia",
         "dtype": "uint8"
        },
        {
         "name": "Country_Zimbabwe",
         "dtype": "uint8"
        },
        {
         "name": "Status",
         "dtype": "float64"
        },
        {
         "name": "Adult Mortality",
         "dtype": "float64"
        },
        {
         "name": "Alcohol",
         "dtype": "float64"
        },
        {
         "name": "percentage expenditure",
         "dtype": "float64"
        },
        {
         "name": "Hepatitis B",
         "dtype": "float64"
        },
        {
         "name": "BMI",
         "dtype": "float64"
        },
        {
         "name": "Polio",
         "dtype": "float64"
        },
        {
         "name": "Diphtheria",
         "dtype": "float64"
        },
        {
         "name": "HIV/AIDS",
         "dtype": "float64"
        },
        {
         "name": "thinness  1-19 years",
         "dtype": "float64"
        },
        {
         "name": "thinness 5-9 years",
         "dtype": "float64"
        },
        {
         "name": "Income composition of resources",
         "dtype": "float64"
        },
        {
         "name": "Schooling",
         "dtype": "float64"
        },
        {
         "name": "Year",
         "dtype": "float64"
        },
        {
         "name": "Life expectancy",
         "dtype": "float64"
        },
        {
         "name": "_deepnote_index_column",
         "dtype": "int64"
        }
       ],
       "rows": [
        {
         "Country_Afghanistan": 1,
         "Country_Albania": 0,
         "Country_Algeria": 0,
         "Country_Angola": 0,
         "Country_Antigua and Barbuda": 0,
         "Country_Argentina": 0,
         "Country_Armenia": 0,
         "Country_Australia": 0,
         "Country_Austria": 0,
         "Country_Azerbaijan": 0,
         "Country_Bahamas": 0,
         "Country_Bahrain": 0,
         "Country_Bangladesh": 0,
         "Country_Barbados": 0,
         "Country_Belarus": 0,
         "Country_Belgium": 0,
         "Country_Belize": 0,
         "Country_Benin": 0,
         "Country_Bhutan": 0,
         "Country_Bolivia (Plurinational State of)": 0,
         "Country_Bosnia and Herzegovina": 0,
         "Country_Botswana": 0,
         "Country_Brazil": 0,
         "Country_Brunei Darussalam": 0,
         "Country_Bulgaria": 0,
         "Country_Burkina Faso": 0,
         "Country_Burundi": 0,
         "Country_Cabo Verde": 0,
         "Country_Cambodia": 0,
         "Country_Cameroon": 0,
         "Country_Canada": 0,
         "Country_Central African Republic": 0,
         "Country_Chad": 0,
         "Country_Chile": 0,
         "Country_China": 0,
         "Country_Colombia": 0,
         "Country_Comoros": 0,
         "Country_Congo": 0,
         "Country_Costa Rica": 0,
         "Country_Croatia": 0,
         "Country_Cuba": 0,
         "Country_Cyprus": 0,
         "Country_Czechia": 0,
         "Country_Côte d'Ivoire": 0,
         "Country_Democratic People's Republic of Korea": 0,
         "Country_Democratic Republic of the Congo": 0,
         "Country_Denmark": 0,
         "Country_Djibouti": 0,
         "Country_Dominican Republic": 0,
         "Country_Ecuador": 0,
         "Country_Egypt": 0,
         "Country_El Salvador": 0,
         "Country_Equatorial Guinea": 0,
         "Country_Eritrea": 0,
         "Country_Estonia": 0,
         "Country_Ethiopia": 0,
         "Country_Fiji": 0,
         "Country_Finland": 0,
         "Country_France": 0,
         "Country_Gabon": 0,
         "Country_Gambia": 0,
         "Country_Georgia": 0,
         "Country_Germany": 0,
         "Country_Ghana": 0,
         "Country_Greece": 0,
         "Country_Grenada": 0,
         "Country_Guatemala": 0,
         "Country_Guinea": 0,
         "Country_Guinea-Bissau": 0,
         "Country_Guyana": 0,
         "Country_Haiti": 0,
         "Country_Honduras": 0,
         "Country_Hungary": 0,
         "Country_Iceland": 0,
         "Country_India": 0,
         "Country_Indonesia": 0,
         "Country_Iran (Islamic Republic of)": 0,
         "Country_Iraq": 0,
         "Country_Ireland": 0,
         "Country_Israel": 0,
         "Country_Italy": 0,
         "Country_Jamaica": 0,
         "Country_Japan": 0,
         "Country_Jordan": 0,
         "Country_Kazakhstan": 0,
         "Country_Kenya": 0,
         "Country_Kiribati": 0,
         "Country_Kuwait": 0,
         "Country_Kyrgyzstan": 0,
         "Country_Lao People's Democratic Republic": 0,
         "Country_Latvia": 0,
         "Country_Lebanon": 0,
         "Country_Lesotho": 0,
         "Country_Liberia": 0,
         "Country_Libya": 0,
         "Country_Lithuania": 0,
         "Country_Luxembourg": 0,
         "Country_Madagascar": 0,
         "Country_Malawi": 0,
         "Country_Malaysia": 0,
         "Country_Maldives": 0,
         "Country_Mali": 0,
         "Country_Malta": 0,
         "Country_Mauritania": 0,
         "Country_Mauritius": 0,
         "Country_Mexico": 0,
         "Country_Micronesia (Federated States of)": 0,
         "Country_Mongolia": 0,
         "Country_Montenegro": 0,
         "Country_Morocco": 0,
         "Country_Mozambique": 0,
         "Country_Myanmar": 0,
         "Country_Namibia": 0,
         "Country_Nepal": 0,
         "Country_Netherlands": 0,
         "Country_New Zealand": 0,
         "Country_Nicaragua": 0,
         "Country_Niger": 0,
         "Country_Nigeria": 0,
         "Country_Norway": 0,
         "Country_Oman": 0,
         "Country_Pakistan": 0,
         "Country_Panama": 0,
         "Country_Papua New Guinea": 0,
         "Country_Paraguay": 0,
         "Country_Peru": 0,
         "Country_Philippines": 0,
         "Country_Poland": 0,
         "Country_Portugal": 0,
         "Country_Qatar": 0,
         "Country_Republic of Korea": 0,
         "Country_Republic of Moldova": 0,
         "Country_Romania": 0,
         "Country_Russian Federation": 0,
         "Country_Rwanda": 0,
         "Country_Saint Lucia": 0,
         "Country_Saint Vincent and the Grenadines": 0,
         "Country_Samoa": 0,
         "Country_Sao Tome and Principe": 0,
         "Country_Saudi Arabia": 0,
         "Country_Senegal": 0,
         "Country_Serbia": 0,
         "Country_Seychelles": 0,
         "Country_Sierra Leone": 0,
         "Country_Singapore": 0,
         "Country_Slovakia": 0,
         "Country_Slovenia": 0,
         "Country_Solomon Islands": 0,
         "Country_Somalia": 0,
         "Country_South Africa": 0,
         "Country_South Sudan": 0,
         "Country_Spain": 0,
         "Country_Sri Lanka": 0,
         "Country_Sudan": 0,
         "Country_Suriname": 0,
         "Country_Swaziland": 0,
         "Country_Sweden": 0,
         "Country_Switzerland": 0,
         "Country_Syrian Arab Republic": 0,
         "Country_Tajikistan": 0,
         "Country_Thailand": 0,
         "Country_The former Yugoslav republic of Macedonia": 0,
         "Country_Timor-Leste": 0,
         "Country_Togo": 0,
         "Country_Tonga": 0,
         "Country_Trinidad and Tobago": 0,
         "Country_Tunisia": 0,
         "Country_Turkey": 0,
         "Country_Turkmenistan": 0,
         "Country_Uganda": 0,
         "Country_Ukraine": 0,
         "Country_United Arab Emirates": 0,
         "Country_United Kingdom of Great Britain and Northern Ireland": 0,
         "Country_United Republic of Tanzania": 0,
         "Country_United States of America": 0,
         "Country_Uruguay": 0,
         "Country_Uzbekistan": 0,
         "Country_Vanuatu": 0,
         "Country_Venezuela (Bolivarian Republic of)": 0,
         "Country_Viet Nam": 0,
         "Country_Yemen": 0,
         "Country_Zambia": 0,
         "Country_Zimbabwe": 0,
         "Status": 1,
         "Adult Mortality": 0.3628808864265928,
         "Alcohol": 0.0005595970900951314,
         "percentage expenditure": 0.003659134858877319,
         "Hepatitis B": 0.6179775280898876,
         "BMI": 0.10581395348837211,
         "Polio": 0.524390243902439,
         "Diphtheria": 0.5903614457831325,
         "HIV/AIDS": 0,
         "thinness  1-19 years": 0.6195652173913043,
         "thinness 5-9 years": 0.6035087719298246,
         "Income composition of resources": 0.5052742616033755,
         "Schooling": 0.48792270531400966,
         "Year": 1,
         "Life expectancy": 65,
         "_deepnote_index_column": 0
        },
        {
         "Country_Afghanistan": 1,
         "Country_Albania": 0,
         "Country_Algeria": 0,
         "Country_Angola": 0,
         "Country_Antigua and Barbuda": 0,
         "Country_Argentina": 0,
         "Country_Armenia": 0,
         "Country_Australia": 0,
         "Country_Austria": 0,
         "Country_Azerbaijan": 0,
         "Country_Bahamas": 0,
         "Country_Bahrain": 0,
         "Country_Bangladesh": 0,
         "Country_Barbados": 0,
         "Country_Belarus": 0,
         "Country_Belgium": 0,
         "Country_Belize": 0,
         "Country_Benin": 0,
         "Country_Bhutan": 0,
         "Country_Bolivia (Plurinational State of)": 0,
         "Country_Bosnia and Herzegovina": 0,
         "Country_Botswana": 0,
         "Country_Brazil": 0,
         "Country_Brunei Darussalam": 0,
         "Country_Bulgaria": 0,
         "Country_Burkina Faso": 0,
         "Country_Burundi": 0,
         "Country_Cabo Verde": 0,
         "Country_Cambodia": 0,
         "Country_Cameroon": 0,
         "Country_Canada": 0,
         "Country_Central African Republic": 0,
         "Country_Chad": 0,
         "Country_Chile": 0,
         "Country_China": 0,
         "Country_Colombia": 0,
         "Country_Comoros": 0,
         "Country_Congo": 0,
         "Country_Costa Rica": 0,
         "Country_Croatia": 0,
         "Country_Cuba": 0,
         "Country_Cyprus": 0,
         "Country_Czechia": 0,
         "Country_Côte d'Ivoire": 0,
         "Country_Democratic People's Republic of Korea": 0,
         "Country_Democratic Republic of the Congo": 0,
         "Country_Denmark": 0,
         "Country_Djibouti": 0,
         "Country_Dominican Republic": 0,
         "Country_Ecuador": 0,
         "Country_Egypt": 0,
         "Country_El Salvador": 0,
         "Country_Equatorial Guinea": 0,
         "Country_Eritrea": 0,
         "Country_Estonia": 0,
         "Country_Ethiopia": 0,
         "Country_Fiji": 0,
         "Country_Finland": 0,
         "Country_France": 0,
         "Country_Gabon": 0,
         "Country_Gambia": 0,
         "Country_Georgia": 0,
         "Country_Germany": 0,
         "Country_Ghana": 0,
         "Country_Greece": 0,
         "Country_Grenada": 0,
         "Country_Guatemala": 0,
         "Country_Guinea": 0,
         "Country_Guinea-Bissau": 0,
         "Country_Guyana": 0,
         "Country_Haiti": 0,
         "Country_Honduras": 0,
         "Country_Hungary": 0,
         "Country_Iceland": 0,
         "Country_India": 0,
         "Country_Indonesia": 0,
         "Country_Iran (Islamic Republic of)": 0,
         "Country_Iraq": 0,
         "Country_Ireland": 0,
         "Country_Israel": 0,
         "Country_Italy": 0,
         "Country_Jamaica": 0,
         "Country_Japan": 0,
         "Country_Jordan": 0,
         "Country_Kazakhstan": 0,
         "Country_Kenya": 0,
         "Country_Kiribati": 0,
         "Country_Kuwait": 0,
         "Country_Kyrgyzstan": 0,
         "Country_Lao People's Democratic Republic": 0,
         "Country_Latvia": 0,
         "Country_Lebanon": 0,
         "Country_Lesotho": 0,
         "Country_Liberia": 0,
         "Country_Libya": 0,
         "Country_Lithuania": 0,
         "Country_Luxembourg": 0,
         "Country_Madagascar": 0,
         "Country_Malawi": 0,
         "Country_Malaysia": 0,
         "Country_Maldives": 0,
         "Country_Mali": 0,
         "Country_Malta": 0,
         "Country_Mauritania": 0,
         "Country_Mauritius": 0,
         "Country_Mexico": 0,
         "Country_Micronesia (Federated States of)": 0,
         "Country_Mongolia": 0,
         "Country_Montenegro": 0,
         "Country_Morocco": 0,
         "Country_Mozambique": 0,
         "Country_Myanmar": 0,
         "Country_Namibia": 0,
         "Country_Nepal": 0,
         "Country_Netherlands": 0,
         "Country_New Zealand": 0,
         "Country_Nicaragua": 0,
         "Country_Niger": 0,
         "Country_Nigeria": 0,
         "Country_Norway": 0,
         "Country_Oman": 0,
         "Country_Pakistan": 0,
         "Country_Panama": 0,
         "Country_Papua New Guinea": 0,
         "Country_Paraguay": 0,
         "Country_Peru": 0,
         "Country_Philippines": 0,
         "Country_Poland": 0,
         "Country_Portugal": 0,
         "Country_Qatar": 0,
         "Country_Republic of Korea": 0,
         "Country_Republic of Moldova": 0,
         "Country_Romania": 0,
         "Country_Russian Federation": 0,
         "Country_Rwanda": 0,
         "Country_Saint Lucia": 0,
         "Country_Saint Vincent and the Grenadines": 0,
         "Country_Samoa": 0,
         "Country_Sao Tome and Principe": 0,
         "Country_Saudi Arabia": 0,
         "Country_Senegal": 0,
         "Country_Serbia": 0,
         "Country_Seychelles": 0,
         "Country_Sierra Leone": 0,
         "Country_Singapore": 0,
         "Country_Slovakia": 0,
         "Country_Slovenia": 0,
         "Country_Solomon Islands": 0,
         "Country_Somalia": 0,
         "Country_South Africa": 0,
         "Country_South Sudan": 0,
         "Country_Spain": 0,
         "Country_Sri Lanka": 0,
         "Country_Sudan": 0,
         "Country_Suriname": 0,
         "Country_Swaziland": 0,
         "Country_Sweden": 0,
         "Country_Switzerland": 0,
         "Country_Syrian Arab Republic": 0,
         "Country_Tajikistan": 0,
         "Country_Thailand": 0,
         "Country_The former Yugoslav republic of Macedonia": 0,
         "Country_Timor-Leste": 0,
         "Country_Togo": 0,
         "Country_Tonga": 0,
         "Country_Trinidad and Tobago": 0,
         "Country_Tunisia": 0,
         "Country_Turkey": 0,
         "Country_Turkmenistan": 0,
         "Country_Uganda": 0,
         "Country_Ukraine": 0,
         "Country_United Arab Emirates": 0,
         "Country_United Kingdom of Great Britain and Northern Ireland": 0,
         "Country_United Republic of Tanzania": 0,
         "Country_United States of America": 0,
         "Country_Uruguay": 0,
         "Country_Uzbekistan": 0,
         "Country_Vanuatu": 0,
         "Country_Venezuela (Bolivarian Republic of)": 0,
         "Country_Viet Nam": 0,
         "Country_Yemen": 0,
         "Country_Zambia": 0,
         "Country_Zimbabwe": 0,
         "Status": 1,
         "Adult Mortality": 0.3739612188365651,
         "Alcohol": 0.0005595970900951314,
         "percentage expenditure": 0.0037743283004557744,
         "Hepatitis B": 0.5842696629213483,
         "BMI": 0.10000000000000002,
         "Polio": 0.5,
         "Diphtheria": 0.5542168674698795,
         "HIV/AIDS": 0,
         "thinness  1-19 years": 0.6304347826086957,
         "thinness 5-9 years": 0.6105263157894736,
         "Income composition of resources": 0.5021097046413502,
         "Schooling": 0.48309178743961356,
         "Year": 0.9333333333333333,
         "Life expectancy": 59.9,
         "_deepnote_index_column": 1
        },
        {
         "Country_Afghanistan": 1,
         "Country_Albania": 0,
         "Country_Algeria": 0,
         "Country_Angola": 0,
         "Country_Antigua and Barbuda": 0,
         "Country_Argentina": 0,
         "Country_Armenia": 0,
         "Country_Australia": 0,
         "Country_Austria": 0,
         "Country_Azerbaijan": 0,
         "Country_Bahamas": 0,
         "Country_Bahrain": 0,
         "Country_Bangladesh": 0,
         "Country_Barbados": 0,
         "Country_Belarus": 0,
         "Country_Belgium": 0,
         "Country_Belize": 0,
         "Country_Benin": 0,
         "Country_Bhutan": 0,
         "Country_Bolivia (Plurinational State of)": 0,
         "Country_Bosnia and Herzegovina": 0,
         "Country_Botswana": 0,
         "Country_Brazil": 0,
         "Country_Brunei Darussalam": 0,
         "Country_Bulgaria": 0,
         "Country_Burkina Faso": 0,
         "Country_Burundi": 0,
         "Country_Cabo Verde": 0,
         "Country_Cambodia": 0,
         "Country_Cameroon": 0,
         "Country_Canada": 0,
         "Country_Central African Republic": 0,
         "Country_Chad": 0,
         "Country_Chile": 0,
         "Country_China": 0,
         "Country_Colombia": 0,
         "Country_Comoros": 0,
         "Country_Congo": 0,
         "Country_Costa Rica": 0,
         "Country_Croatia": 0,
         "Country_Cuba": 0,
         "Country_Cyprus": 0,
         "Country_Czechia": 0,
         "Country_Côte d'Ivoire": 0,
         "Country_Democratic People's Republic of Korea": 0,
         "Country_Democratic Republic of the Congo": 0,
         "Country_Denmark": 0,
         "Country_Djibouti": 0,
         "Country_Dominican Republic": 0,
         "Country_Ecuador": 0,
         "Country_Egypt": 0,
         "Country_El Salvador": 0,
         "Country_Equatorial Guinea": 0,
         "Country_Eritrea": 0,
         "Country_Estonia": 0,
         "Country_Ethiopia": 0,
         "Country_Fiji": 0,
         "Country_Finland": 0,
         "Country_France": 0,
         "Country_Gabon": 0,
         "Country_Gambia": 0,
         "Country_Georgia": 0,
         "Country_Germany": 0,
         "Country_Ghana": 0,
         "Country_Greece": 0,
         "Country_Grenada": 0,
         "Country_Guatemala": 0,
         "Country_Guinea": 0,
         "Country_Guinea-Bissau": 0,
         "Country_Guyana": 0,
         "Country_Haiti": 0,
         "Country_Honduras": 0,
         "Country_Hungary": 0,
         "Country_Iceland": 0,
         "Country_India": 0,
         "Country_Indonesia": 0,
         "Country_Iran (Islamic Republic of)": 0,
         "Country_Iraq": 0,
         "Country_Ireland": 0,
         "Country_Israel": 0,
         "Country_Italy": 0,
         "Country_Jamaica": 0,
         "Country_Japan": 0,
         "Country_Jordan": 0,
         "Country_Kazakhstan": 0,
         "Country_Kenya": 0,
         "Country_Kiribati": 0,
         "Country_Kuwait": 0,
         "Country_Kyrgyzstan": 0,
         "Country_Lao People's Democratic Republic": 0,
         "Country_Latvia": 0,
         "Country_Lebanon": 0,
         "Country_Lesotho": 0,
         "Country_Liberia": 0,
         "Country_Libya": 0,
         "Country_Lithuania": 0,
         "Country_Luxembourg": 0,
         "Country_Madagascar": 0,
         "Country_Malawi": 0,
         "Country_Malaysia": 0,
         "Country_Maldives": 0,
         "Country_Mali": 0,
         "Country_Malta": 0,
         "Country_Mauritania": 0,
         "Country_Mauritius": 0,
         "Country_Mexico": 0,
         "Country_Micronesia (Federated States of)": 0,
         "Country_Mongolia": 0,
         "Country_Montenegro": 0,
         "Country_Morocco": 0,
         "Country_Mozambique": 0,
         "Country_Myanmar": 0,
         "Country_Namibia": 0,
         "Country_Nepal": 0,
         "Country_Netherlands": 0,
         "Country_New Zealand": 0,
         "Country_Nicaragua": 0,
         "Country_Niger": 0,
         "Country_Nigeria": 0,
         "Country_Norway": 0,
         "Country_Oman": 0,
         "Country_Pakistan": 0,
         "Country_Panama": 0,
         "Country_Papua New Guinea": 0,
         "Country_Paraguay": 0,
         "Country_Peru": 0,
         "Country_Philippines": 0,
         "Country_Poland": 0,
         "Country_Portugal": 0,
         "Country_Qatar": 0,
         "Country_Republic of Korea": 0,
         "Country_Republic of Moldova": 0,
         "Country_Romania": 0,
         "Country_Russian Federation": 0,
         "Country_Rwanda": 0,
         "Country_Saint Lucia": 0,
         "Country_Saint Vincent and the Grenadines": 0,
         "Country_Samoa": 0,
         "Country_Sao Tome and Principe": 0,
         "Country_Saudi Arabia": 0,
         "Country_Senegal": 0,
         "Country_Serbia": 0,
         "Country_Seychelles": 0,
         "Country_Sierra Leone": 0,
         "Country_Singapore": 0,
         "Country_Slovakia": 0,
         "Country_Slovenia": 0,
         "Country_Solomon Islands": 0,
         "Country_Somalia": 0,
         "Country_South Africa": 0,
         "Country_South Sudan": 0,
         "Country_Spain": 0,
         "Country_Sri Lanka": 0,
         "Country_Sudan": 0,
         "Country_Suriname": 0,
         "Country_Swaziland": 0,
         "Country_Sweden": 0,
         "Country_Switzerland": 0,
         "Country_Syrian Arab Republic": 0,
         "Country_Tajikistan": 0,
         "Country_Thailand": 0,
         "Country_The former Yugoslav republic of Macedonia": 0,
         "Country_Timor-Leste": 0,
         "Country_Togo": 0,
         "Country_Tonga": 0,
         "Country_Trinidad and Tobago": 0,
         "Country_Tunisia": 0,
         "Country_Turkey": 0,
         "Country_Turkmenistan": 0,
         "Country_Uganda": 0,
         "Country_Ukraine": 0,
         "Country_United Arab Emirates": 0,
         "Country_United Kingdom of Great Britain and Northern Ireland": 0,
         "Country_United Republic of Tanzania": 0,
         "Country_United States of America": 0,
         "Country_Uruguay": 0,
         "Country_Uzbekistan": 0,
         "Country_Vanuatu": 0,
         "Country_Venezuela (Bolivarian Republic of)": 0,
         "Country_Viet Nam": 0,
         "Country_Yemen": 0,
         "Country_Zambia": 0,
         "Country_Zimbabwe": 0,
         "Status": 1,
         "Adult Mortality": 0.3698060941828255,
         "Alcohol": 0.0005595970900951314,
         "percentage expenditure": 0.00375870507966848,
         "Hepatitis B": 0.6067415730337079,
         "BMI": 0.09418604651162793,
         "Polio": 0.5487804878048781,
         "Diphtheria": 0.5783132530120482,
         "HIV/AIDS": 0,
         "thinness  1-19 years": 0.6376811594202898,
         "thinness 5-9 years": 0.6175438596491227,
         "Income composition of resources": 0.4957805907172996,
         "Schooling": 0.4782608695652174,
         "Year": 0.8666666666666667,
         "Life expectancy": 59.9,
         "_deepnote_index_column": 2
        },
        {
         "Country_Afghanistan": 1,
         "Country_Albania": 0,
         "Country_Algeria": 0,
         "Country_Angola": 0,
         "Country_Antigua and Barbuda": 0,
         "Country_Argentina": 0,
         "Country_Armenia": 0,
         "Country_Australia": 0,
         "Country_Austria": 0,
         "Country_Azerbaijan": 0,
         "Country_Bahamas": 0,
         "Country_Bahrain": 0,
         "Country_Bangladesh": 0,
         "Country_Barbados": 0,
         "Country_Belarus": 0,
         "Country_Belgium": 0,
         "Country_Belize": 0,
         "Country_Benin": 0,
         "Country_Bhutan": 0,
         "Country_Bolivia (Plurinational State of)": 0,
         "Country_Bosnia and Herzegovina": 0,
         "Country_Botswana": 0,
         "Country_Brazil": 0,
         "Country_Brunei Darussalam": 0,
         "Country_Bulgaria": 0,
         "Country_Burkina Faso": 0,
         "Country_Burundi": 0,
         "Country_Cabo Verde": 0,
         "Country_Cambodia": 0,
         "Country_Cameroon": 0,
         "Country_Canada": 0,
         "Country_Central African Republic": 0,
         "Country_Chad": 0,
         "Country_Chile": 0,
         "Country_China": 0,
         "Country_Colombia": 0,
         "Country_Comoros": 0,
         "Country_Congo": 0,
         "Country_Costa Rica": 0,
         "Country_Croatia": 0,
         "Country_Cuba": 0,
         "Country_Cyprus": 0,
         "Country_Czechia": 0,
         "Country_Côte d'Ivoire": 0,
         "Country_Democratic People's Republic of Korea": 0,
         "Country_Democratic Republic of the Congo": 0,
         "Country_Denmark": 0,
         "Country_Djibouti": 0,
         "Country_Dominican Republic": 0,
         "Country_Ecuador": 0,
         "Country_Egypt": 0,
         "Country_El Salvador": 0,
         "Country_Equatorial Guinea": 0,
         "Country_Eritrea": 0,
         "Country_Estonia": 0,
         "Country_Ethiopia": 0,
         "Country_Fiji": 0,
         "Country_Finland": 0,
         "Country_France": 0,
         "Country_Gabon": 0,
         "Country_Gambia": 0,
         "Country_Georgia": 0,
         "Country_Germany": 0,
         "Country_Ghana": 0,
         "Country_Greece": 0,
         "Country_Grenada": 0,
         "Country_Guatemala": 0,
         "Country_Guinea": 0,
         "Country_Guinea-Bissau": 0,
         "Country_Guyana": 0,
         "Country_Haiti": 0,
         "Country_Honduras": 0,
         "Country_Hungary": 0,
         "Country_Iceland": 0,
         "Country_India": 0,
         "Country_Indonesia": 0,
         "Country_Iran (Islamic Republic of)": 0,
         "Country_Iraq": 0,
         "Country_Ireland": 0,
         "Country_Israel": 0,
         "Country_Italy": 0,
         "Country_Jamaica": 0,
         "Country_Japan": 0,
         "Country_Jordan": 0,
         "Country_Kazakhstan": 0,
         "Country_Kenya": 0,
         "Country_Kiribati": 0,
         "Country_Kuwait": 0,
         "Country_Kyrgyzstan": 0,
         "Country_Lao People's Democratic Republic": 0,
         "Country_Latvia": 0,
         "Country_Lebanon": 0,
         "Country_Lesotho": 0,
         "Country_Liberia": 0,
         "Country_Libya": 0,
         "Country_Lithuania": 0,
         "Country_Luxembourg": 0,
         "Country_Madagascar": 0,
         "Country_Malawi": 0,
         "Country_Malaysia": 0,
         "Country_Maldives": 0,
         "Country_Mali": 0,
         "Country_Malta": 0,
         "Country_Mauritania": 0,
         "Country_Mauritius": 0,
         "Country_Mexico": 0,
         "Country_Micronesia (Federated States of)": 0,
         "Country_Mongolia": 0,
         "Country_Montenegro": 0,
         "Country_Morocco": 0,
         "Country_Mozambique": 0,
         "Country_Myanmar": 0,
         "Country_Namibia": 0,
         "Country_Nepal": 0,
         "Country_Netherlands": 0,
         "Country_New Zealand": 0,
         "Country_Nicaragua": 0,
         "Country_Niger": 0,
         "Country_Nigeria": 0,
         "Country_Norway": 0,
         "Country_Oman": 0,
         "Country_Pakistan": 0,
         "Country_Panama": 0,
         "Country_Papua New Guinea": 0,
         "Country_Paraguay": 0,
         "Country_Peru": 0,
         "Country_Philippines": 0,
         "Country_Poland": 0,
         "Country_Portugal": 0,
         "Country_Qatar": 0,
         "Country_Republic of Korea": 0,
         "Country_Republic of Moldova": 0,
         "Country_Romania": 0,
         "Country_Russian Federation": 0,
         "Country_Rwanda": 0,
         "Country_Saint Lucia": 0,
         "Country_Saint Vincent and the Grenadines": 0,
         "Country_Samoa": 0,
         "Country_Sao Tome and Principe": 0,
         "Country_Saudi Arabia": 0,
         "Country_Senegal": 0,
         "Country_Serbia": 0,
         "Country_Seychelles": 0,
         "Country_Sierra Leone": 0,
         "Country_Singapore": 0,
         "Country_Slovakia": 0,
         "Country_Slovenia": 0,
         "Country_Solomon Islands": 0,
         "Country_Somalia": 0,
         "Country_South Africa": 0,
         "Country_South Sudan": 0,
         "Country_Spain": 0,
         "Country_Sri Lanka": 0,
         "Country_Sudan": 0,
         "Country_Suriname": 0,
         "Country_Swaziland": 0,
         "Country_Sweden": 0,
         "Country_Switzerland": 0,
         "Country_Syrian Arab Republic": 0,
         "Country_Tajikistan": 0,
         "Country_Thailand": 0,
         "Country_The former Yugoslav republic of Macedonia": 0,
         "Country_Timor-Leste": 0,
         "Country_Togo": 0,
         "Country_Tonga": 0,
         "Country_Trinidad and Tobago": 0,
         "Country_Tunisia": 0,
         "Country_Turkey": 0,
         "Country_Turkmenistan": 0,
         "Country_Uganda": 0,
         "Country_Ukraine": 0,
         "Country_United Arab Emirates": 0,
         "Country_United Kingdom of Great Britain and Northern Ireland": 0,
         "Country_United Republic of Tanzania": 0,
         "Country_United States of America": 0,
         "Country_Uruguay": 0,
         "Country_Uzbekistan": 0,
         "Country_Vanuatu": 0,
         "Country_Venezuela (Bolivarian Republic of)": 0,
         "Country_Viet Nam": 0,
         "Country_Yemen": 0,
         "Country_Zambia": 0,
         "Country_Zimbabwe": 0,
         "Status": 1,
         "Adult Mortality": 0.37534626038781166,
         "Alcohol": 0.0005595970900951314,
         "percentage expenditure": 0.004013581625281307,
         "Hepatitis B": 0.6404494382022472,
         "BMI": 0.08837209302325583,
         "Polio": 0.6097560975609756,
         "Diphtheria": 0.6144578313253012,
         "HIV/AIDS": 0,
         "thinness  1-19 years": 0.644927536231884,
         "thinness 5-9 years": 0.6280701754385964,
         "Income composition of resources": 0.48839662447257387,
         "Schooling": 0.4734299516908213,
         "Year": 0.8,
         "Life expectancy": 59.5,
         "_deepnote_index_column": 3
        },
        {
         "Country_Afghanistan": 1,
         "Country_Albania": 0,
         "Country_Algeria": 0,
         "Country_Angola": 0,
         "Country_Antigua and Barbuda": 0,
         "Country_Argentina": 0,
         "Country_Armenia": 0,
         "Country_Australia": 0,
         "Country_Austria": 0,
         "Country_Azerbaijan": 0,
         "Country_Bahamas": 0,
         "Country_Bahrain": 0,
         "Country_Bangladesh": 0,
         "Country_Barbados": 0,
         "Country_Belarus": 0,
         "Country_Belgium": 0,
         "Country_Belize": 0,
         "Country_Benin": 0,
         "Country_Bhutan": 0,
         "Country_Bolivia (Plurinational State of)": 0,
         "Country_Bosnia and Herzegovina": 0,
         "Country_Botswana": 0,
         "Country_Brazil": 0,
         "Country_Brunei Darussalam": 0,
         "Country_Bulgaria": 0,
         "Country_Burkina Faso": 0,
         "Country_Burundi": 0,
         "Country_Cabo Verde": 0,
         "Country_Cambodia": 0,
         "Country_Cameroon": 0,
         "Country_Canada": 0,
         "Country_Central African Republic": 0,
         "Country_Chad": 0,
         "Country_Chile": 0,
         "Country_China": 0,
         "Country_Colombia": 0,
         "Country_Comoros": 0,
         "Country_Congo": 0,
         "Country_Costa Rica": 0,
         "Country_Croatia": 0,
         "Country_Cuba": 0,
         "Country_Cyprus": 0,
         "Country_Czechia": 0,
         "Country_Côte d'Ivoire": 0,
         "Country_Democratic People's Republic of Korea": 0,
         "Country_Democratic Republic of the Congo": 0,
         "Country_Denmark": 0,
         "Country_Djibouti": 0,
         "Country_Dominican Republic": 0,
         "Country_Ecuador": 0,
         "Country_Egypt": 0,
         "Country_El Salvador": 0,
         "Country_Equatorial Guinea": 0,
         "Country_Eritrea": 0,
         "Country_Estonia": 0,
         "Country_Ethiopia": 0,
         "Country_Fiji": 0,
         "Country_Finland": 0,
         "Country_France": 0,
         "Country_Gabon": 0,
         "Country_Gambia": 0,
         "Country_Georgia": 0,
         "Country_Germany": 0,
         "Country_Ghana": 0,
         "Country_Greece": 0,
         "Country_Grenada": 0,
         "Country_Guatemala": 0,
         "Country_Guinea": 0,
         "Country_Guinea-Bissau": 0,
         "Country_Guyana": 0,
         "Country_Haiti": 0,
         "Country_Honduras": 0,
         "Country_Hungary": 0,
         "Country_Iceland": 0,
         "Country_India": 0,
         "Country_Indonesia": 0,
         "Country_Iran (Islamic Republic of)": 0,
         "Country_Iraq": 0,
         "Country_Ireland": 0,
         "Country_Israel": 0,
         "Country_Italy": 0,
         "Country_Jamaica": 0,
         "Country_Japan": 0,
         "Country_Jordan": 0,
         "Country_Kazakhstan": 0,
         "Country_Kenya": 0,
         "Country_Kiribati": 0,
         "Country_Kuwait": 0,
         "Country_Kyrgyzstan": 0,
         "Country_Lao People's Democratic Republic": 0,
         "Country_Latvia": 0,
         "Country_Lebanon": 0,
         "Country_Lesotho": 0,
         "Country_Liberia": 0,
         "Country_Libya": 0,
         "Country_Lithuania": 0,
         "Country_Luxembourg": 0,
         "Country_Madagascar": 0,
         "Country_Malawi": 0,
         "Country_Malaysia": 0,
         "Country_Maldives": 0,
         "Country_Mali": 0,
         "Country_Malta": 0,
         "Country_Mauritania": 0,
         "Country_Mauritius": 0,
         "Country_Mexico": 0,
         "Country_Micronesia (Federated States of)": 0,
         "Country_Mongolia": 0,
         "Country_Montenegro": 0,
         "Country_Morocco": 0,
         "Country_Mozambique": 0,
         "Country_Myanmar": 0,
         "Country_Namibia": 0,
         "Country_Nepal": 0,
         "Country_Netherlands": 0,
         "Country_New Zealand": 0,
         "Country_Nicaragua": 0,
         "Country_Niger": 0,
         "Country_Nigeria": 0,
         "Country_Norway": 0,
         "Country_Oman": 0,
         "Country_Pakistan": 0,
         "Country_Panama": 0,
         "Country_Papua New Guinea": 0,
         "Country_Paraguay": 0,
         "Country_Peru": 0,
         "Country_Philippines": 0,
         "Country_Poland": 0,
         "Country_Portugal": 0,
         "Country_Qatar": 0,
         "Country_Republic of Korea": 0,
         "Country_Republic of Moldova": 0,
         "Country_Romania": 0,
         "Country_Russian Federation": 0,
         "Country_Rwanda": 0,
         "Country_Saint Lucia": 0,
         "Country_Saint Vincent and the Grenadines": 0,
         "Country_Samoa": 0,
         "Country_Sao Tome and Principe": 0,
         "Country_Saudi Arabia": 0,
         "Country_Senegal": 0,
         "Country_Serbia": 0,
         "Country_Seychelles": 0,
         "Country_Sierra Leone": 0,
         "Country_Singapore": 0,
         "Country_Slovakia": 0,
         "Country_Slovenia": 0,
         "Country_Solomon Islands": 0,
         "Country_Somalia": 0,
         "Country_South Africa": 0,
         "Country_South Sudan": 0,
         "Country_Spain": 0,
         "Country_Sri Lanka": 0,
         "Country_Sudan": 0,
         "Country_Suriname": 0,
         "Country_Swaziland": 0,
         "Country_Sweden": 0,
         "Country_Switzerland": 0,
         "Country_Syrian Arab Republic": 0,
         "Country_Tajikistan": 0,
         "Country_Thailand": 0,
         "Country_The former Yugoslav republic of Macedonia": 0,
         "Country_Timor-Leste": 0,
         "Country_Togo": 0,
         "Country_Tonga": 0,
         "Country_Trinidad and Tobago": 0,
         "Country_Tunisia": 0,
         "Country_Turkey": 0,
         "Country_Turkmenistan": 0,
         "Country_Uganda": 0,
         "Country_Ukraine": 0,
         "Country_United Arab Emirates": 0,
         "Country_United Kingdom of Great Britain and Northern Ireland": 0,
         "Country_United Republic of Tanzania": 0,
         "Country_United States of America": 0,
         "Country_Uruguay": 0,
         "Country_Uzbekistan": 0,
         "Country_Vanuatu": 0,
         "Country_Venezuela (Bolivarian Republic of)": 0,
         "Country_Viet Nam": 0,
         "Country_Yemen": 0,
         "Country_Zambia": 0,
         "Country_Zimbabwe": 0,
         "Status": 1,
         "Adult Mortality": 0.37950138504155123,
         "Alcohol": 0.0005595970900951314,
         "percentage expenditure": 0.00036432961530260253,
         "Hepatitis B": 0.651685393258427,
         "BMI": 0.08372093023255812,
         "Polio": 0.6219512195121951,
         "Diphtheria": 0.6265060240963856,
         "HIV/AIDS": 0,
         "thinness  1-19 years": 0.6557971014492754,
         "thinness 5-9 years": 0.6350877192982456,
         "Income composition of resources": 0.4789029535864979,
         "Schooling": 0.4589371980676329,
         "Year": 0.7333333333333333,
         "Life expectancy": 59.2,
         "_deepnote_index_column": 4
        },
        {
         "Country_Afghanistan": 1,
         "Country_Albania": 0,
         "Country_Algeria": 0,
         "Country_Angola": 0,
         "Country_Antigua and Barbuda": 0,
         "Country_Argentina": 0,
         "Country_Armenia": 0,
         "Country_Australia": 0,
         "Country_Austria": 0,
         "Country_Azerbaijan": 0,
         "Country_Bahamas": 0,
         "Country_Bahrain": 0,
         "Country_Bangladesh": 0,
         "Country_Barbados": 0,
         "Country_Belarus": 0,
         "Country_Belgium": 0,
         "Country_Belize": 0,
         "Country_Benin": 0,
         "Country_Bhutan": 0,
         "Country_Bolivia (Plurinational State of)": 0,
         "Country_Bosnia and Herzegovina": 0,
         "Country_Botswana": 0,
         "Country_Brazil": 0,
         "Country_Brunei Darussalam": 0,
         "Country_Bulgaria": 0,
         "Country_Burkina Faso": 0,
         "Country_Burundi": 0,
         "Country_Cabo Verde": 0,
         "Country_Cambodia": 0,
         "Country_Cameroon": 0,
         "Country_Canada": 0,
         "Country_Central African Republic": 0,
         "Country_Chad": 0,
         "Country_Chile": 0,
         "Country_China": 0,
         "Country_Colombia": 0,
         "Country_Comoros": 0,
         "Country_Congo": 0,
         "Country_Costa Rica": 0,
         "Country_Croatia": 0,
         "Country_Cuba": 0,
         "Country_Cyprus": 0,
         "Country_Czechia": 0,
         "Country_Côte d'Ivoire": 0,
         "Country_Democratic People's Republic of Korea": 0,
         "Country_Democratic Republic of the Congo": 0,
         "Country_Denmark": 0,
         "Country_Djibouti": 0,
         "Country_Dominican Republic": 0,
         "Country_Ecuador": 0,
         "Country_Egypt": 0,
         "Country_El Salvador": 0,
         "Country_Equatorial Guinea": 0,
         "Country_Eritrea": 0,
         "Country_Estonia": 0,
         "Country_Ethiopia": 0,
         "Country_Fiji": 0,
         "Country_Finland": 0,
         "Country_France": 0,
         "Country_Gabon": 0,
         "Country_Gambia": 0,
         "Country_Georgia": 0,
         "Country_Germany": 0,
         "Country_Ghana": 0,
         "Country_Greece": 0,
         "Country_Grenada": 0,
         "Country_Guatemala": 0,
         "Country_Guinea": 0,
         "Country_Guinea-Bissau": 0,
         "Country_Guyana": 0,
         "Country_Haiti": 0,
         "Country_Honduras": 0,
         "Country_Hungary": 0,
         "Country_Iceland": 0,
         "Country_India": 0,
         "Country_Indonesia": 0,
         "Country_Iran (Islamic Republic of)": 0,
         "Country_Iraq": 0,
         "Country_Ireland": 0,
         "Country_Israel": 0,
         "Country_Italy": 0,
         "Country_Jamaica": 0,
         "Country_Japan": 0,
         "Country_Jordan": 0,
         "Country_Kazakhstan": 0,
         "Country_Kenya": 0,
         "Country_Kiribati": 0,
         "Country_Kuwait": 0,
         "Country_Kyrgyzstan": 0,
         "Country_Lao People's Democratic Republic": 0,
         "Country_Latvia": 0,
         "Country_Lebanon": 0,
         "Country_Lesotho": 0,
         "Country_Liberia": 0,
         "Country_Libya": 0,
         "Country_Lithuania": 0,
         "Country_Luxembourg": 0,
         "Country_Madagascar": 0,
         "Country_Malawi": 0,
         "Country_Malaysia": 0,
         "Country_Maldives": 0,
         "Country_Mali": 0,
         "Country_Malta": 0,
         "Country_Mauritania": 0,
         "Country_Mauritius": 0,
         "Country_Mexico": 0,
         "Country_Micronesia (Federated States of)": 0,
         "Country_Mongolia": 0,
         "Country_Montenegro": 0,
         "Country_Morocco": 0,
         "Country_Mozambique": 0,
         "Country_Myanmar": 0,
         "Country_Namibia": 0,
         "Country_Nepal": 0,
         "Country_Netherlands": 0,
         "Country_New Zealand": 0,
         "Country_Nicaragua": 0,
         "Country_Niger": 0,
         "Country_Nigeria": 0,
         "Country_Norway": 0,
         "Country_Oman": 0,
         "Country_Pakistan": 0,
         "Country_Panama": 0,
         "Country_Papua New Guinea": 0,
         "Country_Paraguay": 0,
         "Country_Peru": 0,
         "Country_Philippines": 0,
         "Country_Poland": 0,
         "Country_Portugal": 0,
         "Country_Qatar": 0,
         "Country_Republic of Korea": 0,
         "Country_Republic of Moldova": 0,
         "Country_Romania": 0,
         "Country_Russian Federation": 0,
         "Country_Rwanda": 0,
         "Country_Saint Lucia": 0,
         "Country_Saint Vincent and the Grenadines": 0,
         "Country_Samoa": 0,
         "Country_Sao Tome and Principe": 0,
         "Country_Saudi Arabia": 0,
         "Country_Senegal": 0,
         "Country_Serbia": 0,
         "Country_Seychelles": 0,
         "Country_Sierra Leone": 0,
         "Country_Singapore": 0,
         "Country_Slovakia": 0,
         "Country_Slovenia": 0,
         "Country_Solomon Islands": 0,
         "Country_Somalia": 0,
         "Country_South Africa": 0,
         "Country_South Sudan": 0,
         "Country_Spain": 0,
         "Country_Sri Lanka": 0,
         "Country_Sudan": 0,
         "Country_Suriname": 0,
         "Country_Swaziland": 0,
         "Country_Sweden": 0,
         "Country_Switzerland": 0,
         "Country_Syrian Arab Republic": 0,
         "Country_Tajikistan": 0,
         "Country_Thailand": 0,
         "Country_The former Yugoslav republic of Macedonia": 0,
         "Country_Timor-Leste": 0,
         "Country_Togo": 0,
         "Country_Tonga": 0,
         "Country_Trinidad and Tobago": 0,
         "Country_Tunisia": 0,
         "Country_Turkey": 0,
         "Country_Turkmenistan": 0,
         "Country_Uganda": 0,
         "Country_Ukraine": 0,
         "Country_United Arab Emirates": 0,
         "Country_United Kingdom of Great Britain and Northern Ireland": 0,
         "Country_United Republic of Tanzania": 0,
         "Country_United States of America": 0,
         "Country_Uruguay": 0,
         "Country_Uzbekistan": 0,
         "Country_Vanuatu": 0,
         "Country_Venezuela (Bolivarian Republic of)": 0,
         "Country_Viet Nam": 0,
         "Country_Yemen": 0,
         "Country_Zambia": 0,
         "Country_Zimbabwe": 0,
         "Status": 1,
         "Adult Mortality": 0.3850415512465374,
         "Alcohol": 0.0005595970900951314,
         "percentage expenditure": 0.00409033515938012,
         "Hepatitis B": 0.6292134831460674,
         "BMI": 0.07790697674418604,
         "Polio": 0.5975609756097561,
         "Diphtheria": 0.6024096385542169,
         "HIV/AIDS": 0,
         "thinness  1-19 years": 0.6630434782608695,
         "thinness 5-9 years": 0.6421052631578946,
         "Income composition of resources": 0.4725738396624473,
         "Schooling": 0.4444444444444444,
         "Year": 0.6666666666666666,
         "Life expectancy": 58.8,
         "_deepnote_index_column": 5
        },
        {
         "Country_Afghanistan": 1,
         "Country_Albania": 0,
         "Country_Algeria": 0,
         "Country_Angola": 0,
         "Country_Antigua and Barbuda": 0,
         "Country_Argentina": 0,
         "Country_Armenia": 0,
         "Country_Australia": 0,
         "Country_Austria": 0,
         "Country_Azerbaijan": 0,
         "Country_Bahamas": 0,
         "Country_Bahrain": 0,
         "Country_Bangladesh": 0,
         "Country_Barbados": 0,
         "Country_Belarus": 0,
         "Country_Belgium": 0,
         "Country_Belize": 0,
         "Country_Benin": 0,
         "Country_Bhutan": 0,
         "Country_Bolivia (Plurinational State of)": 0,
         "Country_Bosnia and Herzegovina": 0,
         "Country_Botswana": 0,
         "Country_Brazil": 0,
         "Country_Brunei Darussalam": 0,
         "Country_Bulgaria": 0,
         "Country_Burkina Faso": 0,
         "Country_Burundi": 0,
         "Country_Cabo Verde": 0,
         "Country_Cambodia": 0,
         "Country_Cameroon": 0,
         "Country_Canada": 0,
         "Country_Central African Republic": 0,
         "Country_Chad": 0,
         "Country_Chile": 0,
         "Country_China": 0,
         "Country_Colombia": 0,
         "Country_Comoros": 0,
         "Country_Congo": 0,
         "Country_Costa Rica": 0,
         "Country_Croatia": 0,
         "Country_Cuba": 0,
         "Country_Cyprus": 0,
         "Country_Czechia": 0,
         "Country_Côte d'Ivoire": 0,
         "Country_Democratic People's Republic of Korea": 0,
         "Country_Democratic Republic of the Congo": 0,
         "Country_Denmark": 0,
         "Country_Djibouti": 0,
         "Country_Dominican Republic": 0,
         "Country_Ecuador": 0,
         "Country_Egypt": 0,
         "Country_El Salvador": 0,
         "Country_Equatorial Guinea": 0,
         "Country_Eritrea": 0,
         "Country_Estonia": 0,
         "Country_Ethiopia": 0,
         "Country_Fiji": 0,
         "Country_Finland": 0,
         "Country_France": 0,
         "Country_Gabon": 0,
         "Country_Gambia": 0,
         "Country_Georgia": 0,
         "Country_Germany": 0,
         "Country_Ghana": 0,
         "Country_Greece": 0,
         "Country_Grenada": 0,
         "Country_Guatemala": 0,
         "Country_Guinea": 0,
         "Country_Guinea-Bissau": 0,
         "Country_Guyana": 0,
         "Country_Haiti": 0,
         "Country_Honduras": 0,
         "Country_Hungary": 0,
         "Country_Iceland": 0,
         "Country_India": 0,
         "Country_Indonesia": 0,
         "Country_Iran (Islamic Republic of)": 0,
         "Country_Iraq": 0,
         "Country_Ireland": 0,
         "Country_Israel": 0,
         "Country_Italy": 0,
         "Country_Jamaica": 0,
         "Country_Japan": 0,
         "Country_Jordan": 0,
         "Country_Kazakhstan": 0,
         "Country_Kenya": 0,
         "Country_Kiribati": 0,
         "Country_Kuwait": 0,
         "Country_Kyrgyzstan": 0,
         "Country_Lao People's Democratic Republic": 0,
         "Country_Latvia": 0,
         "Country_Lebanon": 0,
         "Country_Lesotho": 0,
         "Country_Liberia": 0,
         "Country_Libya": 0,
         "Country_Lithuania": 0,
         "Country_Luxembourg": 0,
         "Country_Madagascar": 0,
         "Country_Malawi": 0,
         "Country_Malaysia": 0,
         "Country_Maldives": 0,
         "Country_Mali": 0,
         "Country_Malta": 0,
         "Country_Mauritania": 0,
         "Country_Mauritius": 0,
         "Country_Mexico": 0,
         "Country_Micronesia (Federated States of)": 0,
         "Country_Mongolia": 0,
         "Country_Montenegro": 0,
         "Country_Morocco": 0,
         "Country_Mozambique": 0,
         "Country_Myanmar": 0,
         "Country_Namibia": 0,
         "Country_Nepal": 0,
         "Country_Netherlands": 0,
         "Country_New Zealand": 0,
         "Country_Nicaragua": 0,
         "Country_Niger": 0,
         "Country_Nigeria": 0,
         "Country_Norway": 0,
         "Country_Oman": 0,
         "Country_Pakistan": 0,
         "Country_Panama": 0,
         "Country_Papua New Guinea": 0,
         "Country_Paraguay": 0,
         "Country_Peru": 0,
         "Country_Philippines": 0,
         "Country_Poland": 0,
         "Country_Portugal": 0,
         "Country_Qatar": 0,
         "Country_Republic of Korea": 0,
         "Country_Republic of Moldova": 0,
         "Country_Romania": 0,
         "Country_Russian Federation": 0,
         "Country_Rwanda": 0,
         "Country_Saint Lucia": 0,
         "Country_Saint Vincent and the Grenadines": 0,
         "Country_Samoa": 0,
         "Country_Sao Tome and Principe": 0,
         "Country_Saudi Arabia": 0,
         "Country_Senegal": 0,
         "Country_Serbia": 0,
         "Country_Seychelles": 0,
         "Country_Sierra Leone": 0,
         "Country_Singapore": 0,
         "Country_Slovakia": 0,
         "Country_Slovenia": 0,
         "Country_Solomon Islands": 0,
         "Country_Somalia": 0,
         "Country_South Africa": 0,
         "Country_South Sudan": 0,
         "Country_Spain": 0,
         "Country_Sri Lanka": 0,
         "Country_Sudan": 0,
         "Country_Suriname": 0,
         "Country_Swaziland": 0,
         "Country_Sweden": 0,
         "Country_Switzerland": 0,
         "Country_Syrian Arab Republic": 0,
         "Country_Tajikistan": 0,
         "Country_Thailand": 0,
         "Country_The former Yugoslav republic of Macedonia": 0,
         "Country_Timor-Leste": 0,
         "Country_Togo": 0,
         "Country_Tonga": 0,
         "Country_Trinidad and Tobago": 0,
         "Country_Tunisia": 0,
         "Country_Turkey": 0,
         "Country_Turkmenistan": 0,
         "Country_Uganda": 0,
         "Country_Ukraine": 0,
         "Country_United Arab Emirates": 0,
         "Country_United Kingdom of Great Britain and Northern Ireland": 0,
         "Country_United Republic of Tanzania": 0,
         "Country_United States of America": 0,
         "Country_Uruguay": 0,
         "Country_Uzbekistan": 0,
         "Country_Vanuatu": 0,
         "Country_Venezuela (Bolivarian Republic of)": 0,
         "Country_Viet Nam": 0,
         "Country_Yemen": 0,
         "Country_Zambia": 0,
         "Country_Zimbabwe": 0,
         "Status": 1,
         "Adult Mortality": 0.3878116343490305,
         "Alcohol": 0.0005595970900951314,
         "percentage expenditure": 0.002913884721677133,
         "Hepatitis B": 0.5955056179775281,
         "BMI": 0.07209302325581395,
         "Polio": 0.5609756097560976,
         "Diphtheria": 0.5662650602409639,
         "HIV/AIDS": 0,
         "thinness  1-19 years": 0.6702898550724639,
         "thinness 5-9 years": 0.6526315789473683,
         "Income composition of resources": 0.4578059071729958,
         "Schooling": 0.42995169082125606,
         "Year": 0.6,
         "Life expectancy": 58.6,
         "_deepnote_index_column": 6
        },
        {
         "Country_Afghanistan": 1,
         "Country_Albania": 0,
         "Country_Algeria": 0,
         "Country_Angola": 0,
         "Country_Antigua and Barbuda": 0,
         "Country_Argentina": 0,
         "Country_Armenia": 0,
         "Country_Australia": 0,
         "Country_Austria": 0,
         "Country_Azerbaijan": 0,
         "Country_Bahamas": 0,
         "Country_Bahrain": 0,
         "Country_Bangladesh": 0,
         "Country_Barbados": 0,
         "Country_Belarus": 0,
         "Country_Belgium": 0,
         "Country_Belize": 0,
         "Country_Benin": 0,
         "Country_Bhutan": 0,
         "Country_Bolivia (Plurinational State of)": 0,
         "Country_Bosnia and Herzegovina": 0,
         "Country_Botswana": 0,
         "Country_Brazil": 0,
         "Country_Brunei Darussalam": 0,
         "Country_Bulgaria": 0,
         "Country_Burkina Faso": 0,
         "Country_Burundi": 0,
         "Country_Cabo Verde": 0,
         "Country_Cambodia": 0,
         "Country_Cameroon": 0,
         "Country_Canada": 0,
         "Country_Central African Republic": 0,
         "Country_Chad": 0,
         "Country_Chile": 0,
         "Country_China": 0,
         "Country_Colombia": 0,
         "Country_Comoros": 0,
         "Country_Congo": 0,
         "Country_Costa Rica": 0,
         "Country_Croatia": 0,
         "Country_Cuba": 0,
         "Country_Cyprus": 0,
         "Country_Czechia": 0,
         "Country_Côte d'Ivoire": 0,
         "Country_Democratic People's Republic of Korea": 0,
         "Country_Democratic Republic of the Congo": 0,
         "Country_Denmark": 0,
         "Country_Djibouti": 0,
         "Country_Dominican Republic": 0,
         "Country_Ecuador": 0,
         "Country_Egypt": 0,
         "Country_El Salvador": 0,
         "Country_Equatorial Guinea": 0,
         "Country_Eritrea": 0,
         "Country_Estonia": 0,
         "Country_Ethiopia": 0,
         "Country_Fiji": 0,
         "Country_Finland": 0,
         "Country_France": 0,
         "Country_Gabon": 0,
         "Country_Gambia": 0,
         "Country_Georgia": 0,
         "Country_Germany": 0,
         "Country_Ghana": 0,
         "Country_Greece": 0,
         "Country_Grenada": 0,
         "Country_Guatemala": 0,
         "Country_Guinea": 0,
         "Country_Guinea-Bissau": 0,
         "Country_Guyana": 0,
         "Country_Haiti": 0,
         "Country_Honduras": 0,
         "Country_Hungary": 0,
         "Country_Iceland": 0,
         "Country_India": 0,
         "Country_Indonesia": 0,
         "Country_Iran (Islamic Republic of)": 0,
         "Country_Iraq": 0,
         "Country_Ireland": 0,
         "Country_Israel": 0,
         "Country_Italy": 0,
         "Country_Jamaica": 0,
         "Country_Japan": 0,
         "Country_Jordan": 0,
         "Country_Kazakhstan": 0,
         "Country_Kenya": 0,
         "Country_Kiribati": 0,
         "Country_Kuwait": 0,
         "Country_Kyrgyzstan": 0,
         "Country_Lao People's Democratic Republic": 0,
         "Country_Latvia": 0,
         "Country_Lebanon": 0,
         "Country_Lesotho": 0,
         "Country_Liberia": 0,
         "Country_Libya": 0,
         "Country_Lithuania": 0,
         "Country_Luxembourg": 0,
         "Country_Madagascar": 0,
         "Country_Malawi": 0,
         "Country_Malaysia": 0,
         "Country_Maldives": 0,
         "Country_Mali": 0,
         "Country_Malta": 0,
         "Country_Mauritania": 0,
         "Country_Mauritius": 0,
         "Country_Mexico": 0,
         "Country_Micronesia (Federated States of)": 0,
         "Country_Mongolia": 0,
         "Country_Montenegro": 0,
         "Country_Morocco": 0,
         "Country_Mozambique": 0,
         "Country_Myanmar": 0,
         "Country_Namibia": 0,
         "Country_Nepal": 0,
         "Country_Netherlands": 0,
         "Country_New Zealand": 0,
         "Country_Nicaragua": 0,
         "Country_Niger": 0,
         "Country_Nigeria": 0,
         "Country_Norway": 0,
         "Country_Oman": 0,
         "Country_Pakistan": 0,
         "Country_Panama": 0,
         "Country_Papua New Guinea": 0,
         "Country_Paraguay": 0,
         "Country_Peru": 0,
         "Country_Philippines": 0,
         "Country_Poland": 0,
         "Country_Portugal": 0,
         "Country_Qatar": 0,
         "Country_Republic of Korea": 0,
         "Country_Republic of Moldova": 0,
         "Country_Romania": 0,
         "Country_Russian Federation": 0,
         "Country_Rwanda": 0,
         "Country_Saint Lucia": 0,
         "Country_Saint Vincent and the Grenadines": 0,
         "Country_Samoa": 0,
         "Country_Sao Tome and Principe": 0,
         "Country_Saudi Arabia": 0,
         "Country_Senegal": 0,
         "Country_Serbia": 0,
         "Country_Seychelles": 0,
         "Country_Sierra Leone": 0,
         "Country_Singapore": 0,
         "Country_Slovakia": 0,
         "Country_Slovenia": 0,
         "Country_Solomon Islands": 0,
         "Country_Somalia": 0,
         "Country_South Africa": 0,
         "Country_South Sudan": 0,
         "Country_Spain": 0,
         "Country_Sri Lanka": 0,
         "Country_Sudan": 0,
         "Country_Suriname": 0,
         "Country_Swaziland": 0,
         "Country_Sweden": 0,
         "Country_Switzerland": 0,
         "Country_Syrian Arab Republic": 0,
         "Country_Tajikistan": 0,
         "Country_Thailand": 0,
         "Country_The former Yugoslav republic of Macedonia": 0,
         "Country_Timor-Leste": 0,
         "Country_Togo": 0,
         "Country_Tonga": 0,
         "Country_Trinidad and Tobago": 0,
         "Country_Tunisia": 0,
         "Country_Turkey": 0,
         "Country_Turkmenistan": 0,
         "Country_Uganda": 0,
         "Country_Ukraine": 0,
         "Country_United Arab Emirates": 0,
         "Country_United Kingdom of Great Britain and Northern Ireland": 0,
         "Country_United Republic of Tanzania": 0,
         "Country_United States of America": 0,
         "Country_Uruguay": 0,
         "Country_Uzbekistan": 0,
         "Country_Vanuatu": 0,
         "Country_Venezuela (Bolivarian Republic of)": 0,
         "Country_Viet Nam": 0,
         "Country_Yemen": 0,
         "Country_Zambia": 0,
         "Country_Zimbabwe": 0,
         "Status": 1,
         "Adult Mortality": 0.3961218836565097,
         "Alcohol": 0.0016787912702853943,
         "percentage expenditure": 0.0013282362814581582,
         "Hepatitis B": 0.6067415730337079,
         "BMI": 0.06627906976744186,
         "Polio": 0.573170731707317,
         "Diphtheria": 0.5783132530120482,
         "HIV/AIDS": 0,
         "thinness  1-19 years": 0.677536231884058,
         "thinness 5-9 years": 0.6596491228070175,
         "Income composition of resources": 0.4567510548523207,
         "Schooling": 0.42028985507246375,
         "Year": 0.5333333333333333,
         "Life expectancy": 58.1,
         "_deepnote_index_column": 7
        },
        {
         "Country_Afghanistan": 1,
         "Country_Albania": 0,
         "Country_Algeria": 0,
         "Country_Angola": 0,
         "Country_Antigua and Barbuda": 0,
         "Country_Argentina": 0,
         "Country_Armenia": 0,
         "Country_Australia": 0,
         "Country_Austria": 0,
         "Country_Azerbaijan": 0,
         "Country_Bahamas": 0,
         "Country_Bahrain": 0,
         "Country_Bangladesh": 0,
         "Country_Barbados": 0,
         "Country_Belarus": 0,
         "Country_Belgium": 0,
         "Country_Belize": 0,
         "Country_Benin": 0,
         "Country_Bhutan": 0,
         "Country_Bolivia (Plurinational State of)": 0,
         "Country_Bosnia and Herzegovina": 0,
         "Country_Botswana": 0,
         "Country_Brazil": 0,
         "Country_Brunei Darussalam": 0,
         "Country_Bulgaria": 0,
         "Country_Burkina Faso": 0,
         "Country_Burundi": 0,
         "Country_Cabo Verde": 0,
         "Country_Cambodia": 0,
         "Country_Cameroon": 0,
         "Country_Canada": 0,
         "Country_Central African Republic": 0,
         "Country_Chad": 0,
         "Country_Chile": 0,
         "Country_China": 0,
         "Country_Colombia": 0,
         "Country_Comoros": 0,
         "Country_Congo": 0,
         "Country_Costa Rica": 0,
         "Country_Croatia": 0,
         "Country_Cuba": 0,
         "Country_Cyprus": 0,
         "Country_Czechia": 0,
         "Country_Côte d'Ivoire": 0,
         "Country_Democratic People's Republic of Korea": 0,
         "Country_Democratic Republic of the Congo": 0,
         "Country_Denmark": 0,
         "Country_Djibouti": 0,
         "Country_Dominican Republic": 0,
         "Country_Ecuador": 0,
         "Country_Egypt": 0,
         "Country_El Salvador": 0,
         "Country_Equatorial Guinea": 0,
         "Country_Eritrea": 0,
         "Country_Estonia": 0,
         "Country_Ethiopia": 0,
         "Country_Fiji": 0,
         "Country_Finland": 0,
         "Country_France": 0,
         "Country_Gabon": 0,
         "Country_Gambia": 0,
         "Country_Georgia": 0,
         "Country_Germany": 0,
         "Country_Ghana": 0,
         "Country_Greece": 0,
         "Country_Grenada": 0,
         "Country_Guatemala": 0,
         "Country_Guinea": 0,
         "Country_Guinea-Bissau": 0,
         "Country_Guyana": 0,
         "Country_Haiti": 0,
         "Country_Honduras": 0,
         "Country_Hungary": 0,
         "Country_Iceland": 0,
         "Country_India": 0,
         "Country_Indonesia": 0,
         "Country_Iran (Islamic Republic of)": 0,
         "Country_Iraq": 0,
         "Country_Ireland": 0,
         "Country_Israel": 0,
         "Country_Italy": 0,
         "Country_Jamaica": 0,
         "Country_Japan": 0,
         "Country_Jordan": 0,
         "Country_Kazakhstan": 0,
         "Country_Kenya": 0,
         "Country_Kiribati": 0,
         "Country_Kuwait": 0,
         "Country_Kyrgyzstan": 0,
         "Country_Lao People's Democratic Republic": 0,
         "Country_Latvia": 0,
         "Country_Lebanon": 0,
         "Country_Lesotho": 0,
         "Country_Liberia": 0,
         "Country_Libya": 0,
         "Country_Lithuania": 0,
         "Country_Luxembourg": 0,
         "Country_Madagascar": 0,
         "Country_Malawi": 0,
         "Country_Malaysia": 0,
         "Country_Maldives": 0,
         "Country_Mali": 0,
         "Country_Malta": 0,
         "Country_Mauritania": 0,
         "Country_Mauritius": 0,
         "Country_Mexico": 0,
         "Country_Micronesia (Federated States of)": 0,
         "Country_Mongolia": 0,
         "Country_Montenegro": 0,
         "Country_Morocco": 0,
         "Country_Mozambique": 0,
         "Country_Myanmar": 0,
         "Country_Namibia": 0,
         "Country_Nepal": 0,
         "Country_Netherlands": 0,
         "Country_New Zealand": 0,
         "Country_Nicaragua": 0,
         "Country_Niger": 0,
         "Country_Nigeria": 0,
         "Country_Norway": 0,
         "Country_Oman": 0,
         "Country_Pakistan": 0,
         "Country_Panama": 0,
         "Country_Papua New Guinea": 0,
         "Country_Paraguay": 0,
         "Country_Peru": 0,
         "Country_Philippines": 0,
         "Country_Poland": 0,
         "Country_Portugal": 0,
         "Country_Qatar": 0,
         "Country_Republic of Korea": 0,
         "Country_Republic of Moldova": 0,
         "Country_Romania": 0,
         "Country_Russian Federation": 0,
         "Country_Rwanda": 0,
         "Country_Saint Lucia": 0,
         "Country_Saint Vincent and the Grenadines": 0,
         "Country_Samoa": 0,
         "Country_Sao Tome and Principe": 0,
         "Country_Saudi Arabia": 0,
         "Country_Senegal": 0,
         "Country_Serbia": 0,
         "Country_Seychelles": 0,
         "Country_Sierra Leone": 0,
         "Country_Singapore": 0,
         "Country_Slovakia": 0,
         "Country_Slovenia": 0,
         "Country_Solomon Islands": 0,
         "Country_Somalia": 0,
         "Country_South Africa": 0,
         "Country_South Sudan": 0,
         "Country_Spain": 0,
         "Country_Sri Lanka": 0,
         "Country_Sudan": 0,
         "Country_Suriname": 0,
         "Country_Swaziland": 0,
         "Country_Sweden": 0,
         "Country_Switzerland": 0,
         "Country_Syrian Arab Republic": 0,
         "Country_Tajikistan": 0,
         "Country_Thailand": 0,
         "Country_The former Yugoslav republic of Macedonia": 0,
         "Country_Timor-Leste": 0,
         "Country_Togo": 0,
         "Country_Tonga": 0,
         "Country_Trinidad and Tobago": 0,
         "Country_Tunisia": 0,
         "Country_Turkey": 0,
         "Country_Turkmenistan": 0,
         "Country_Uganda": 0,
         "Country_Ukraine": 0,
         "Country_United Arab Emirates": 0,
         "Country_United Kingdom of Great Britain and Northern Ireland": 0,
         "Country_United Republic of Tanzania": 0,
         "Country_United States of America": 0,
         "Country_Uruguay": 0,
         "Country_Uzbekistan": 0,
         "Country_Vanuatu": 0,
         "Country_Venezuela (Bolivarian Republic of)": 0,
         "Country_Viet Nam": 0,
         "Country_Yemen": 0,
         "Country_Zambia": 0,
         "Country_Zimbabwe": 0,
         "Status": 1,
         "Adult Mortality": 0.407202216066482,
         "Alcohol": 0.0011191941801902629,
         "percentage expenditure": 0.0005600721501425746,
         "Hepatitis B": 0.5955056179775281,
         "BMI": 0.06046511627906976,
         "Polio": 0.5609756097560976,
         "Diphtheria": 0.5662650602409639,
         "HIV/AIDS": 0,
         "thinness  1-19 years": 0.6847826086956522,
         "thinness 5-9 years": 0.6666666666666666,
         "Income composition of resources": 0.43776371308016876,
         "Schooling": 0.4057971014492754,
         "Year": 0.4666666666666667,
         "Life expectancy": 57.5,
         "_deepnote_index_column": 8
        },
        {
         "Country_Afghanistan": 1,
         "Country_Albania": 0,
         "Country_Algeria": 0,
         "Country_Angola": 0,
         "Country_Antigua and Barbuda": 0,
         "Country_Argentina": 0,
         "Country_Armenia": 0,
         "Country_Australia": 0,
         "Country_Austria": 0,
         "Country_Azerbaijan": 0,
         "Country_Bahamas": 0,
         "Country_Bahrain": 0,
         "Country_Bangladesh": 0,
         "Country_Barbados": 0,
         "Country_Belarus": 0,
         "Country_Belgium": 0,
         "Country_Belize": 0,
         "Country_Benin": 0,
         "Country_Bhutan": 0,
         "Country_Bolivia (Plurinational State of)": 0,
         "Country_Bosnia and Herzegovina": 0,
         "Country_Botswana": 0,
         "Country_Brazil": 0,
         "Country_Brunei Darussalam": 0,
         "Country_Bulgaria": 0,
         "Country_Burkina Faso": 0,
         "Country_Burundi": 0,
         "Country_Cabo Verde": 0,
         "Country_Cambodia": 0,
         "Country_Cameroon": 0,
         "Country_Canada": 0,
         "Country_Central African Republic": 0,
         "Country_Chad": 0,
         "Country_Chile": 0,
         "Country_China": 0,
         "Country_Colombia": 0,
         "Country_Comoros": 0,
         "Country_Congo": 0,
         "Country_Costa Rica": 0,
         "Country_Croatia": 0,
         "Country_Cuba": 0,
         "Country_Cyprus": 0,
         "Country_Czechia": 0,
         "Country_Côte d'Ivoire": 0,
         "Country_Democratic People's Republic of Korea": 0,
         "Country_Democratic Republic of the Congo": 0,
         "Country_Denmark": 0,
         "Country_Djibouti": 0,
         "Country_Dominican Republic": 0,
         "Country_Ecuador": 0,
         "Country_Egypt": 0,
         "Country_El Salvador": 0,
         "Country_Equatorial Guinea": 0,
         "Country_Eritrea": 0,
         "Country_Estonia": 0,
         "Country_Ethiopia": 0,
         "Country_Fiji": 0,
         "Country_Finland": 0,
         "Country_France": 0,
         "Country_Gabon": 0,
         "Country_Gambia": 0,
         "Country_Georgia": 0,
         "Country_Germany": 0,
         "Country_Ghana": 0,
         "Country_Greece": 0,
         "Country_Grenada": 0,
         "Country_Guatemala": 0,
         "Country_Guinea": 0,
         "Country_Guinea-Bissau": 0,
         "Country_Guyana": 0,
         "Country_Haiti": 0,
         "Country_Honduras": 0,
         "Country_Hungary": 0,
         "Country_Iceland": 0,
         "Country_India": 0,
         "Country_Indonesia": 0,
         "Country_Iran (Islamic Republic of)": 0,
         "Country_Iraq": 0,
         "Country_Ireland": 0,
         "Country_Israel": 0,
         "Country_Italy": 0,
         "Country_Jamaica": 0,
         "Country_Japan": 0,
         "Country_Jordan": 0,
         "Country_Kazakhstan": 0,
         "Country_Kenya": 0,
         "Country_Kiribati": 0,
         "Country_Kuwait": 0,
         "Country_Kyrgyzstan": 0,
         "Country_Lao People's Democratic Republic": 0,
         "Country_Latvia": 0,
         "Country_Lebanon": 0,
         "Country_Lesotho": 0,
         "Country_Liberia": 0,
         "Country_Libya": 0,
         "Country_Lithuania": 0,
         "Country_Luxembourg": 0,
         "Country_Madagascar": 0,
         "Country_Malawi": 0,
         "Country_Malaysia": 0,
         "Country_Maldives": 0,
         "Country_Mali": 0,
         "Country_Malta": 0,
         "Country_Mauritania": 0,
         "Country_Mauritius": 0,
         "Country_Mexico": 0,
         "Country_Micronesia (Federated States of)": 0,
         "Country_Mongolia": 0,
         "Country_Montenegro": 0,
         "Country_Morocco": 0,
         "Country_Mozambique": 0,
         "Country_Myanmar": 0,
         "Country_Namibia": 0,
         "Country_Nepal": 0,
         "Country_Netherlands": 0,
         "Country_New Zealand": 0,
         "Country_Nicaragua": 0,
         "Country_Niger": 0,
         "Country_Nigeria": 0,
         "Country_Norway": 0,
         "Country_Oman": 0,
         "Country_Pakistan": 0,
         "Country_Panama": 0,
         "Country_Papua New Guinea": 0,
         "Country_Paraguay": 0,
         "Country_Peru": 0,
         "Country_Philippines": 0,
         "Country_Poland": 0,
         "Country_Portugal": 0,
         "Country_Qatar": 0,
         "Country_Republic of Korea": 0,
         "Country_Republic of Moldova": 0,
         "Country_Romania": 0,
         "Country_Russian Federation": 0,
         "Country_Rwanda": 0,
         "Country_Saint Lucia": 0,
         "Country_Saint Vincent and the Grenadines": 0,
         "Country_Samoa": 0,
         "Country_Sao Tome and Principe": 0,
         "Country_Saudi Arabia": 0,
         "Country_Senegal": 0,
         "Country_Serbia": 0,
         "Country_Seychelles": 0,
         "Country_Sierra Leone": 0,
         "Country_Singapore": 0,
         "Country_Slovakia": 0,
         "Country_Slovenia": 0,
         "Country_Solomon Islands": 0,
         "Country_Somalia": 0,
         "Country_South Africa": 0,
         "Country_South Sudan": 0,
         "Country_Spain": 0,
         "Country_Sri Lanka": 0,
         "Country_Sudan": 0,
         "Country_Suriname": 0,
         "Country_Swaziland": 0,
         "Country_Sweden": 0,
         "Country_Switzerland": 0,
         "Country_Syrian Arab Republic": 0,
         "Country_Tajikistan": 0,
         "Country_Thailand": 0,
         "Country_The former Yugoslav republic of Macedonia": 0,
         "Country_Timor-Leste": 0,
         "Country_Togo": 0,
         "Country_Tonga": 0,
         "Country_Trinidad and Tobago": 0,
         "Country_Tunisia": 0,
         "Country_Turkey": 0,
         "Country_Turkmenistan": 0,
         "Country_Uganda": 0,
         "Country_Ukraine": 0,
         "Country_United Arab Emirates": 0,
         "Country_United Kingdom of Great Britain and Northern Ireland": 0,
         "Country_United Republic of Tanzania": 0,
         "Country_United States of America": 0,
         "Country_Uruguay": 0,
         "Country_Uzbekistan": 0,
         "Country_Vanuatu": 0,
         "Country_Venezuela (Bolivarian Republic of)": 0,
         "Country_Viet Nam": 0,
         "Country_Yemen": 0,
         "Country_Zambia": 0,
         "Country_Zimbabwe": 0,
         "Status": 1,
         "Adult Mortality": 0.407202216066482,
         "Alcohol": 0.0016787912702853943,
         "percentage expenditure": 0.0008814987384842657,
         "Hepatitis B": 0.6067415730337079,
         "BMI": 0.05465116279069766,
         "Polio": 0.5,
         "Diphtheria": 0.5060240963855421,
         "HIV/AIDS": 0,
         "thinness  1-19 years": 0.6920289855072463,
         "thinness 5-9 years": 0.6736842105263158,
         "Income composition of resources": 0.4272151898734178,
         "Schooling": 0.391304347826087,
         "Year": 0.4,
         "Life expectancy": 57.3,
         "_deepnote_index_column": 9
        }
       ]
      },
      "text/plain": "      Country_Afghanistan  Country_Albania  Country_Algeria  Country_Angola  \\\n0                       1                0                0               0   \n1                       1                0                0               0   \n2                       1                0                0               0   \n3                       1                0                0               0   \n4                       1                0                0               0   \n...                   ...              ...              ...             ...   \n2933                    0                0                0               0   \n2934                    0                0                0               0   \n2935                    0                0                0               0   \n2936                    0                0                0               0   \n2937                    0                0                0               0   \n\n      Country_Antigua and Barbuda  Country_Argentina  Country_Armenia  \\\n0                               0                  0                0   \n1                               0                  0                0   \n2                               0                  0                0   \n3                               0                  0                0   \n4                               0                  0                0   \n...                           ...                ...              ...   \n2933                            0                  0                0   \n2934                            0                  0                0   \n2935                            0                  0                0   \n2936                            0                  0                0   \n2937                            0                  0                0   \n\n      Country_Australia  Country_Austria  Country_Azerbaijan  ...       BMI  \\\n0                     0                0                   0  ...  0.105814   \n1                     0                0                   0  ...  0.100000   \n2                     0                0                   0  ...  0.094186   \n3                     0                0                   0  ...  0.088372   \n4                     0                0                   0  ...  0.083721   \n...                 ...              ...                 ...  ...       ...   \n2933                  0                0                   0  ...  0.198837   \n2934                  0                0                   0  ...  0.194186   \n2935                  0                0                   0  ...  0.189535   \n2936                  0                0                   0  ...  0.184884   \n2937                  0                0                   0  ...  0.180233   \n\n         Polio  Diphtheria  HIV/AIDS  thinness  1-19 years  \\\n0     0.524390    0.590361  0.000000              0.619565   \n1     0.500000    0.554217  0.000000              0.630435   \n2     0.548780    0.578313  0.000000              0.637681   \n3     0.609756    0.614458  0.000000              0.644928   \n4     0.621951    0.626506  0.000000              0.655797   \n...        ...         ...       ...                   ...   \n2933  0.609756    0.590361  0.663366              0.336957   \n2934  0.856002    0.626506  0.724752              0.351449   \n2935  0.682927    0.662651  0.786139              0.039855   \n2936  0.719512    0.710843  0.831683              0.054348   \n2937  0.743902    0.746988  0.859406              0.394928   \n\n      thinness 5-9 years  Income composition of resources  Schooling  \\\n0               0.603509                         0.505274   0.487923   \n1               0.610526                         0.502110   0.483092   \n2               0.617544                         0.495781   0.478261   \n3               0.628070                         0.488397   0.473430   \n4               0.635088                         0.478903   0.458937   \n...                  ...                              ...        ...   \n2933            0.326316                         0.429325   0.444444   \n2934            0.343860                         0.440928   0.458937   \n2935            0.042105                         0.450422   0.483092   \n2936            0.056140                         0.450422   0.473430   \n2937            0.389474                         0.457806   0.473430   \n\n          Year  Life expectancy  \n0     1.000000             65.0  \n1     0.933333             59.9  \n2     0.866667             59.9  \n3     0.800000             59.5  \n4     0.733333             59.2  \n...        ...              ...  \n2933  0.266667             44.3  \n2934  0.200000             44.5  \n2935  0.133333             44.8  \n2936  0.066667             45.3  \n2937  0.000000             46.0  \n\n[2928 rows x 198 columns]",
      "text/html": "<div>\n<style scoped>\n    .dataframe tbody tr th:only-of-type {\n        vertical-align: middle;\n    }\n\n    .dataframe tbody tr th {\n        vertical-align: top;\n    }\n\n    .dataframe thead th {\n        text-align: right;\n    }\n</style>\n<table border=\"1\" class=\"dataframe\">\n  <thead>\n    <tr style=\"text-align: right;\">\n      <th></th>\n      <th>Country_Afghanistan</th>\n      <th>Country_Albania</th>\n      <th>Country_Algeria</th>\n      <th>Country_Angola</th>\n      <th>Country_Antigua and Barbuda</th>\n      <th>Country_Argentina</th>\n      <th>Country_Armenia</th>\n      <th>Country_Australia</th>\n      <th>Country_Austria</th>\n      <th>Country_Azerbaijan</th>\n      <th>...</th>\n      <th>BMI</th>\n      <th>Polio</th>\n      <th>Diphtheria</th>\n      <th>HIV/AIDS</th>\n      <th>thinness  1-19 years</th>\n      <th>thinness 5-9 years</th>\n      <th>Income composition of resources</th>\n      <th>Schooling</th>\n      <th>Year</th>\n      <th>Life expectancy</th>\n    </tr>\n  </thead>\n  <tbody>\n    <tr>\n      <th>0</th>\n      <td>1</td>\n      <td>0</td>\n      <td>0</td>\n      <td>0</td>\n      <td>0</td>\n      <td>0</td>\n      <td>0</td>\n      <td>0</td>\n      <td>0</td>\n      <td>0</td>\n      <td>...</td>\n      <td>0.105814</td>\n      <td>0.524390</td>\n      <td>0.590361</td>\n      <td>0.000000</td>\n      <td>0.619565</td>\n      <td>0.603509</td>\n      <td>0.505274</td>\n      <td>0.487923</td>\n      <td>1.000000</td>\n      <td>65.0</td>\n    </tr>\n    <tr>\n      <th>1</th>\n      <td>1</td>\n      <td>0</td>\n      <td>0</td>\n      <td>0</td>\n      <td>0</td>\n      <td>0</td>\n      <td>0</td>\n      <td>0</td>\n      <td>0</td>\n      <td>0</td>\n      <td>...</td>\n      <td>0.100000</td>\n      <td>0.500000</td>\n      <td>0.554217</td>\n      <td>0.000000</td>\n      <td>0.630435</td>\n      <td>0.610526</td>\n      <td>0.502110</td>\n      <td>0.483092</td>\n      <td>0.933333</td>\n      <td>59.9</td>\n    </tr>\n    <tr>\n      <th>2</th>\n      <td>1</td>\n      <td>0</td>\n      <td>0</td>\n      <td>0</td>\n      <td>0</td>\n      <td>0</td>\n      <td>0</td>\n      <td>0</td>\n      <td>0</td>\n      <td>0</td>\n      <td>...</td>\n      <td>0.094186</td>\n      <td>0.548780</td>\n      <td>0.578313</td>\n      <td>0.000000</td>\n      <td>0.637681</td>\n      <td>0.617544</td>\n      <td>0.495781</td>\n      <td>0.478261</td>\n      <td>0.866667</td>\n      <td>59.9</td>\n    </tr>\n    <tr>\n      <th>3</th>\n      <td>1</td>\n      <td>0</td>\n      <td>0</td>\n      <td>0</td>\n      <td>0</td>\n      <td>0</td>\n      <td>0</td>\n      <td>0</td>\n      <td>0</td>\n      <td>0</td>\n      <td>...</td>\n      <td>0.088372</td>\n      <td>0.609756</td>\n      <td>0.614458</td>\n      <td>0.000000</td>\n      <td>0.644928</td>\n      <td>0.628070</td>\n      <td>0.488397</td>\n      <td>0.473430</td>\n      <td>0.800000</td>\n      <td>59.5</td>\n    </tr>\n    <tr>\n      <th>4</th>\n      <td>1</td>\n      <td>0</td>\n      <td>0</td>\n      <td>0</td>\n      <td>0</td>\n      <td>0</td>\n      <td>0</td>\n      <td>0</td>\n      <td>0</td>\n      <td>0</td>\n      <td>...</td>\n      <td>0.083721</td>\n      <td>0.621951</td>\n      <td>0.626506</td>\n      <td>0.000000</td>\n      <td>0.655797</td>\n      <td>0.635088</td>\n      <td>0.478903</td>\n      <td>0.458937</td>\n      <td>0.733333</td>\n      <td>59.2</td>\n    </tr>\n    <tr>\n      <th>...</th>\n      <td>...</td>\n      <td>...</td>\n      <td>...</td>\n      <td>...</td>\n      <td>...</td>\n      <td>...</td>\n      <td>...</td>\n      <td>...</td>\n      <td>...</td>\n      <td>...</td>\n      <td>...</td>\n      <td>...</td>\n      <td>...</td>\n      <td>...</td>\n      <td>...</td>\n      <td>...</td>\n      <td>...</td>\n      <td>...</td>\n      <td>...</td>\n      <td>...</td>\n      <td>...</td>\n    </tr>\n    <tr>\n      <th>2933</th>\n      <td>0</td>\n      <td>0</td>\n      <td>0</td>\n      <td>0</td>\n      <td>0</td>\n      <td>0</td>\n      <td>0</td>\n      <td>0</td>\n      <td>0</td>\n      <td>0</td>\n      <td>...</td>\n      <td>0.198837</td>\n      <td>0.609756</td>\n      <td>0.590361</td>\n      <td>0.663366</td>\n      <td>0.336957</td>\n      <td>0.326316</td>\n      <td>0.429325</td>\n      <td>0.444444</td>\n      <td>0.266667</td>\n      <td>44.3</td>\n    </tr>\n    <tr>\n      <th>2934</th>\n      <td>0</td>\n      <td>0</td>\n      <td>0</td>\n      <td>0</td>\n      <td>0</td>\n      <td>0</td>\n      <td>0</td>\n      <td>0</td>\n      <td>0</td>\n      <td>0</td>\n      <td>...</td>\n      <td>0.194186</td>\n      <td>0.856002</td>\n      <td>0.626506</td>\n      <td>0.724752</td>\n      <td>0.351449</td>\n      <td>0.343860</td>\n      <td>0.440928</td>\n      <td>0.458937</td>\n      <td>0.200000</td>\n      <td>44.5</td>\n    </tr>\n    <tr>\n      <th>2935</th>\n      <td>0</td>\n      <td>0</td>\n      <td>0</td>\n      <td>0</td>\n      <td>0</td>\n      <td>0</td>\n      <td>0</td>\n      <td>0</td>\n      <td>0</td>\n      <td>0</td>\n      <td>...</td>\n      <td>0.189535</td>\n      <td>0.682927</td>\n      <td>0.662651</td>\n      <td>0.786139</td>\n      <td>0.039855</td>\n      <td>0.042105</td>\n      <td>0.450422</td>\n      <td>0.483092</td>\n      <td>0.133333</td>\n      <td>44.8</td>\n    </tr>\n    <tr>\n      <th>2936</th>\n      <td>0</td>\n      <td>0</td>\n      <td>0</td>\n      <td>0</td>\n      <td>0</td>\n      <td>0</td>\n      <td>0</td>\n      <td>0</td>\n      <td>0</td>\n      <td>0</td>\n      <td>...</td>\n      <td>0.184884</td>\n      <td>0.719512</td>\n      <td>0.710843</td>\n      <td>0.831683</td>\n      <td>0.054348</td>\n      <td>0.056140</td>\n      <td>0.450422</td>\n      <td>0.473430</td>\n      <td>0.066667</td>\n      <td>45.3</td>\n    </tr>\n    <tr>\n      <th>2937</th>\n      <td>0</td>\n      <td>0</td>\n      <td>0</td>\n      <td>0</td>\n      <td>0</td>\n      <td>0</td>\n      <td>0</td>\n      <td>0</td>\n      <td>0</td>\n      <td>0</td>\n      <td>...</td>\n      <td>0.180233</td>\n      <td>0.743902</td>\n      <td>0.746988</td>\n      <td>0.859406</td>\n      <td>0.394928</td>\n      <td>0.389474</td>\n      <td>0.457806</td>\n      <td>0.473430</td>\n      <td>0.000000</td>\n      <td>46.0</td>\n    </tr>\n  </tbody>\n</table>\n<p>2928 rows × 198 columns</p>\n</div>"
     },
     "metadata": {}
    }
   ],
   "execution_count": null
  },
  {
   "cell_type": "markdown",
   "source": "* Zkusím nyní predikce s normalizovanými daty.",
   "metadata": {
    "tags": [],
    "cell_id": "00147-3f26a5d0-f3da-4c4f-8adb-1311c35d1f0d",
    "deepnote_cell_type": "markdown"
   }
  },
  {
   "cell_type": "markdown",
   "source": "* * Nejdříve pro lineární regresi.",
   "metadata": {
    "tags": [],
    "cell_id": "00148-fe227a24-5773-4b7e-be9a-1a3bf05f9873",
    "deepnote_cell_type": "markdown"
   }
  },
  {
   "cell_type": "code",
   "metadata": {
    "tags": [],
    "cell_id": "00147-3cb89ca5-02c3-4edb-8766-24c42411a71c",
    "deepnote_to_be_reexecuted": false,
    "source_hash": "d0b025ff",
    "execution_start": 1640535852592,
    "execution_millis": 319,
    "deepnote_cell_type": "code"
   },
   "source": "from sklearn.model_selection import train_test_split\n\nX, X_test, Y, Y_test = train_test_split(\n    result.drop(columns=[\"Life expectancy\"]), \n    result[\"Life expectancy\"], \n    test_size=0.25, \n    random_state=42\n)\nprint(\"Train X shape\", X.shape)\nprint(\"Test X shape\", X_test.shape)",
   "outputs": [
    {
     "name": "stdout",
     "text": "Train X shape (2196, 197)\nTest X shape (732, 197)\n",
     "output_type": "stream",
     "data": {}
    }
   ],
   "execution_count": null
  },
  {
   "cell_type": "code",
   "metadata": {
    "tags": [],
    "cell_id": "00148-ee4f2ded-285a-4a24-87ed-2a87a3d540f2",
    "deepnote_to_be_reexecuted": false,
    "source_hash": "bed32f15",
    "execution_start": 1640535852623,
    "execution_millis": 290,
    "deepnote_output_heights": [
     21.1875
    ],
    "deepnote_cell_type": "code"
   },
   "source": "from sklearn.linear_model import LinearRegression\n\nlr_model = LinearRegression()\nlr_model.fit(X,Y)",
   "outputs": [
    {
     "output_type": "execute_result",
     "execution_count": 102,
     "data": {
      "text/plain": "LinearRegression()"
     },
     "metadata": {}
    }
   ],
   "execution_count": null
  },
  {
   "cell_type": "code",
   "metadata": {
    "tags": [],
    "cell_id": "00151-21559231-a28a-4011-b664-edb5d19ea5e0",
    "deepnote_to_be_reexecuted": false,
    "source_hash": "884182a8",
    "execution_start": 1640535852755,
    "execution_millis": 159,
    "deepnote_output_heights": [
     527
    ],
    "is_output_hidden": false,
    "deepnote_cell_type": "code"
   },
   "source": "plot_prediction_results(\"sklearn linear regression\", Y_test, lr_model.predict(X_test))",
   "outputs": [
    {
     "data": {
      "text/html": "<html>\n<head><meta charset=\"utf-8\" /></head>\n<body>\n    <div>            <script src=\"https://cdnjs.cloudflare.com/ajax/libs/mathjax/2.7.5/MathJax.js?config=TeX-AMS-MML_SVG\"></script><script type=\"text/javascript\">if (window.MathJax) {MathJax.Hub.Config({SVG: {font: \"STIX-Web\"}});}</script>                <script type=\"text/javascript\">window.PlotlyConfig = {MathJaxConfig: 'local'};</script>\n        <script src=\"https://cdn.plot.ly/plotly-2.6.3.min.js\"></script>                <div id=\"4c7f793e-1861-41fb-b3a9-936ceb1a2e33\" class=\"plotly-graph-div\" style=\"height:525px; width:100%;\"></div>            <script type=\"text/javascript\">                                    window.PLOTLYENV=window.PLOTLYENV || {};                                    if (document.getElementById(\"4c7f793e-1861-41fb-b3a9-936ceb1a2e33\")) {                    Plotly.newPlot(                        \"4c7f793e-1861-41fb-b3a9-936ceb1a2e33\",                        [{\"mode\":\"lines\",\"name\":\"y = \\u0177\",\"x\":[0,100],\"y\":[0,100],\"type\":\"scatter\"},{\"mode\":\"markers\",\"name\":\"(test, prediction)\",\"x\":[56.5,73.0,82.5,75.6,53.0,65.2,72.4,74.1,77.0,67.8,73.1,75.1,44.3,47.9,74.3,74.6,78.4,77.7,79.1,73.3,62.8,82.5,54.0,63.4,72.0,47.8,52.1,75.1,65.6,78.4,73.9,76.3,61.2,69.6,72.7,57.9,74.5,69.4,77.0,75.4,57.7,67.3,78.5,54.2,47.6,68.9,79.4,67.6,63.3,59.8,71.7,73.2,66.5,58.6,67.7,72.8,69.2,72.8,76.4,53.3,72.5,69.0,59.4,56.0,54.1,81.9,64.5,55.3,73.0,72.4,75.5,85.0,74.1,75.6,53.2,75.2,74.9,74.7,73.3,77.3,75.9,83.0,71.3,63.8,76.8,65.9,74.1,79.1,77.8,77.5,62.2,79.5,81.1,77.7,65.3,51.9,74.7,67.3,66.2,84.0,69.6,51.2,74.6,76.9,58.0,75.6,57.4,75.7,63.3,67.3,82.1,71.0,81.8,62.9,75.3,83.0,82.7,72.9,59.8,75.2,73.0,76.0,72.2,71.1,74.3,70.0,69.5,74.4,69.9,75.6,73.6,67.9,54.0,81.5,86.0,74.0,79.0,64.4,79.0,82.5,72.8,71.6,64.0,81.5,74.6,56.5,78.7,55.3,81.6,67.1,52.1,74.9,59.9,82.0,77.5,76.5,73.5,76.5,57.9,66.8,68.7,61.3,74.7,54.6,49.2,72.6,66.5,77.0,51.2,71.9,67.6,71.0,51.3,77.2,76.7,55.7,62.8,87.0,59.6,65.3,67.0,43.8,73.6,73.6,75.6,73.5,62.9,74.2,78.5,78.0,73.8,81.7,82.0,57.6,74.8,73.9,51.7,79.8,67.5,62.3,56.4,75.3,51.9,74.8,72.5,80.0,81.6,45.3,66.1,79.4,65.0,71.6,75.8,73.6,79.1,76.0,52.0,76.3,68.3,74.4,74.1,68.1,72.7,67.1,81.0,52.4,75.7,61.0,73.5,81.3,69.0,71.4,73.3,79.3,51.6,57.3,73.0,76.6,77.0,58.6,78.8,68.0,79.8,74.9,73.9,79.3,72.1,71.7,79.9,62.1,83.0,62.2,73.1,73.0,67.7,79.8,81.7,75.2,79.4,72.2,74.0,71.2,55.0,71.0,46.3,59.5,75.2,51.4,58.5,52.5,79.2,65.5,73.3,75.4,82.1,76.7,54.0,76.4,78.0,77.0,61.6,58.0,76.0,74.7,59.0,73.5,77.5,75.4,71.0,75.4,77.0,48.2,72.6,74.5,72.8,79.3,53.1,67.7,75.0,46.0,71.4,72.9,68.7,72.5,77.1,60.0,55.3,65.0,56.3,78.0,74.6,63.8,74.3,81.3,71.6,66.2,61.3,68.8,72.1,69.0,68.9,62.8,74.2,72.0,58.0,73.9,69.8,76.0,79.3,48.9,74.3,79.7,79.9,72.1,67.1,63.7,68.0,62.5,72.3,67.0,75.0,61.8,72.0,64.4,58.4,73.3,74.7,77.5,75.7,73.0,79.0,52.7,66.0,75.0,74.1,69.9,72.3,75.4,59.1,79.9,56.5,71.1,75.4,57.4,63.8,84.0,79.3,79.1,73.0,54.5,71.1,74.2,51.4,76.0,63.9,77.7,80.0,82.0,63.9,73.5,78.9,66.0,81.3,73.0,64.0,68.2,79.0,78.1,72.0,73.5,55.0,62.1,49.7,86.0,73.1,72.3,68.0,78.3,80.0,71.6,66.8,73.3,65.7,73.0,62.6,61.4,60.0,68.2,66.5,78.2,63.5,52.7,59.3,86.0,74.4,71.3,78.0,66.0,63.6,77.3,70.0,74.5,79.3,75.8,79.6,69.7,64.4,78.0,73.1,51.9,74.7,83.4,74.4,73.3,76.3,76.5,83.0,68.7,75.1,52.8,67.3,55.3,83.5,42.3,84.0,77.0,73.2,79.0,75.0,68.1,51.9,65.1,68.0,74.3,66.1,73.0,72.1,71.4,75.2,59.7,63.7,82.0,75.2,72.2,66.7,76.3,76.2,71.4,56.0,79.0,57.4,80.0,62.2,64.2,59.8,46.0,56.1,69.2,72.7,73.6,73.3,54.8,72.8,75.2,64.7,75.0,47.4,63.3,76.2,51.0,64.1,58.9,49.6,72.4,72.8,53.1,59.2,62.3,53.3,69.1,58.2,68.4,73.1,69.4,79.8,73.7,56.1,52.5,70.0,48.2,66.2,73.2,73.4,74.8,81.2,77.5,73.9,69.9,77.2,81.0,74.9,73.3,73.5,65.0,53.8,88.0,67.0,71.7,78.1,77.3,71.0,87.0,58.0,68.7,71.1,61.0,72.9,52.0,51.5,66.2,74.9,56.7,67.7,56.2,82.4,71.1,72.8,53.8,55.9,79.5,81.0,79.5,72.8,75.1,48.6,44.5,84.0,65.5,75.0,67.3,58.1,51.1,65.8,75.0,73.6,79.4,82.4,69.4,78.4,73.3,62.9,72.1,76.6,54.4,74.3,53.8,69.4,73.0,72.3,73.0,74.3,69.1,74.8,65.6,66.0,65.7,74.9,71.5,56.2,81.1,58.9,85.0,72.9,73.9,53.5,48.0,81.0,75.0,74.1,69.3,82.3,77.4,74.7,67.6,73.7,78.2,73.6,73.1,52.0,81.4,67.2,56.7,72.6,64.2,74.9,79.4,78.3,73.9,66.1,57.2,62.0,59.3,65.3,72.9,71.9,81.3,73.8,82.0,59.4,79.5,77.0,59.4,67.8,60.0,66.4,44.6,78.0,67.7,79.2,75.9,74.5,73.9,65.1,65.6,61.8,73.0,73.2,69.5,62.3,67.5,82.0,76.3,76.5,75.3,51.6,68.0,46.4,68.1,57.3,64.0,74.7,51.9,75.5,71.7,66.0,68.7,73.1,57.2,66.6,62.4,73.2,77.9,71.0,79.5,68.0,74.4,73.7,45.3,48.1,63.7,49.6,63.1,74.7,62.6,55.0,74.9,58.7,71.6,75.0,61.9,53.4,47.7,56.9,78.0,79.9,59.3,65.8,61.4,50.0,79.9,72.6,55.5,69.6,61.0,63.5,74.8,75.5,73.0,69.0,67.2,73.8,54.0,47.7,81.7,52.4,75.8,59.3,73.0,56.5,59.1,53.5,79.6,55.3,67.0,74.4,69.8,54.8,75.6,74.2,55.0,74.5,67.3],\"y\":[58.05167770385742,70.64454460144043,82.5821590423584,76.34093284606934,53.521867752075195,64.98337745666504,73.99286842346191,73.7564868927002,77.66824340820312,67.54351997375488,75.12095642089844,75.59542274475098,43.60890197753906,51.25112724304199,74.29387474060059,74.90178871154785,78.41073036193848,77.62435531616211,80.07004928588867,72.96154022216797,61.21457862854004,83.88025665283203,50.40052795410156,61.6985969543457,69.57361030578613,43.549543380737305,55.06356430053711,76.16824150085449,65.58705139160156,78.48366928100586,73.82758331298828,75.89209175109863,62.556901931762695,68.65249061584473,73.21088409423828,57.904056549072266,75.16123962402344,70.24014663696289,77.07450866699219,75.38441848754883,60.36798667907715,67.37472152709961,79.52287292480469,54.77941703796387,49.5023250579834,69.50988006591797,79.74884414672852,67.74267578125,65.39481544494629,59.900447845458984,70.57568359375,73.03680610656738,65.4875659942627,58.3569221496582,66.51528358459473,73.25246238708496,69.92155456542969,71.8204345703125,76.10091018676758,54.52329063415527,73.6135425567627,69.81893348693848,59.49675941467285,51.190860748291016,53.138681411743164,83.22174835205078,71.67837524414062,56.656959533691406,72.43780136108398,72.19906044006348,75.25799751281738,81.30825996398926,73.64960479736328,75.25683784484863,53.20611572265625,75.51278305053711,75.97018814086914,74.49032020568848,73.44124412536621,77.21241569519043,76.91726493835449,79.94840812683105,71.25108528137207,64.34744834899902,76.75665473937988,66.66415596008301,74.45983505249023,79.78807067871094,78.32180595397949,77.46606254577637,63.11841583251953,81.06792068481445,82.20643424987793,78.48041343688965,66.5286865234375,54.836809158325195,74.56706237792969,67.54669761657715,65.21729278564453,81.8040599822998,68.83304977416992,51.64003372192383,74.49210166931152,76.83074569702148,57.11647605895996,76.11450004577637,56.25606918334961,74.31845664978027,63.08393096923828,69.30549621582031,83.78055191040039,71.15060806274414,83.54043197631836,61.33732604980469,74.96826171875,80.53662490844727,84.54612731933594,73.83721923828125,60.18404197692871,75.4366283416748,71.80341720581055,77.31742858886719,72.75207138061523,70.37916946411133,74.95839500427246,70.7413215637207,71.10595703125,75.77548599243164,71.36935806274414,76.01458168029785,73.51039505004883,68.57709121704102,49.974985122680664,80.8076229095459,81.55827140808105,74.48274421691895,81.14860343933105,65.82114028930664,79.60223770141602,83.09077453613281,73.41904067993164,72.47634315490723,63.71168327331543,81.60220336914062,75.23482322692871,60.197893142700195,79.9143238067627,57.3814582824707,83.20302391052246,68.37480926513672,52.30692672729492,74.22780799865723,59.5994873046875,84.06314277648926,77.1800537109375,77.31281280517578,73.3432388305664,78.50432395935059,59.29732322692871,65.36327934265137,69.22649955749512,62.666372299194336,74.96455764770508,53.10712814331055,50.828622817993164,72.57985877990723,65.98298645019531,71.90028953552246,51.781917572021484,71.73490905761719,69.47226905822754,70.96984672546387,51.9997615814209,77.60454559326172,77.36211776733398,56.299848556518555,62.361764907836914,81.5792465209961,59.782630920410156,66.2483959197998,60.491960525512695,49.838571548461914,73.51925468444824,74.10799789428711,75.7409839630127,72.9280948638916,63.67594528198242,74.28629493713379,79.79328536987305,78.33799362182617,74.00436592102051,83.24256324768066,82.20602607727051,57.260854721069336,75.75989532470703,74.1693058013916,50.655447006225586,80.86661911010742,66.91178703308105,60.815542221069336,56.631813049316406,75.44033622741699,53.44951629638672,75.43760299682617,72.39331245422363,82.05972480773926,83.21761322021484,45.67537307739258,66.46199607849121,81.72254753112793,65.30390739440918,71.76592445373535,75.92174339294434,74.18219566345215,80.03802490234375,76.05170822143555,53.02368927001953,77.14511489868164,68.52239608764648,75.52340888977051,73.9609260559082,68.01963233947754,74.80338096618652,67.28323554992676,81.82836723327637,53.89958190917969,75.40467262268066,61.7535457611084,72.65225601196289,82.72293472290039,62.60884666442871,71.77775001525879,73.59732055664062,79.57209396362305,51.79010200500488,56.43754005432129,72.70232200622559,78.6855697631836,77.25551986694336,55.619441986083984,80.64959526062012,68.42481231689453,80.38767433166504,75.65031051635742,75.0250301361084,80.62069129943848,72.89752960205078,72.12018203735352,81.42788887023926,63.620704650878906,84.86579322814941,63.04417419433594,72.67239570617676,72.90037536621094,67.61302375793457,81.9187183380127,81.79014587402344,74.29871368408203,80.10177040100098,72.52460098266602,74.39839172363281,72.17831420898438,58.07577896118164,71.61371994018555,48.86737251281738,61.22115898132324,74.97274208068848,49.00713348388672,60.67451095581055,53.64532470703125,79.06615829467773,65.56052780151367,73.36263084411621,75.32901573181152,82.05202865600586,76.26601982116699,50.88547897338867,77.66132354736328,79.47457122802734,70.35948753356934,62.81472206115723,58.66212463378906,75.7040901184082,75.67526054382324,58.25969314575195,73.95434761047363,77.31180381774902,76.47974014282227,71.89364624023438,75.07232856750488,72.53274726867676,49.667348861694336,73.01500511169434,74.68588638305664,73.82060623168945,81.54437065124512,53.87782859802246,69.44881629943848,75.3425464630127,44.81899070739746,71.28316879272461,74.14444541931152,69.17785835266113,73.79165077209473,77.08034706115723,60.42544746398926,55.548912048339844,65.62685012817383,55.970550537109375,77.97980880737305,75.22408485412598,61.49773597717285,74.39578056335449,81.13671112060547,72.45495986938477,67.28396415710449,62.54509353637695,69.05745697021484,71.47674179077148,69.86068153381348,69.92233467102051,63.40347480773926,74.1880054473877,71.78268432617188,53.26486778259277,74.03669548034668,71.57708358764648,71.59841346740723,80.03600120544434,53.207794189453125,74.91565895080566,80.9305477142334,80.71062850952148,73.66842842102051,67.86301040649414,63.444522857666016,61.040164947509766,61.65131950378418,72.64274406433105,57.71338081359863,75.42304801940918,61.97324752807617,73.03872108459473,65.33011245727539,58.39862632751465,73.89281845092773,74.16561317443848,78.92718696594238,75.85967636108398,73.10642051696777,72.00458526611328,52.47115516662598,66.46311378479004,74.53250885009766,73.38654327392578,69.53767204284668,72.54194259643555,75.28091430664062,60.35356903076172,82.34556007385254,56.1886043548584,72.9856948852539,75.15570449829102,57.82143211364746,63.87934875488281,80.79125595092773,80.42918968200684,80.65310859680176,72.10205268859863,55.36477279663086,71.24333190917969,74.92133712768555,49.730865478515625,78.35249519348145,64.84356117248535,79.41408729553223,82.43820381164551,81.76635932922363,62.578792572021484,74.75212669372559,79.25359916687012,61.533599853515625,83.03767013549805,75.09500694274902,62.809017181396484,68.0468521118164,80.09083938598633,79.7423267364502,72.5996208190918,72.79902648925781,55.00552558898926,59.389177322387695,48.9003963470459,80.57888412475586,72.98052406311035,73.70780944824219,68.25885963439941,79.01220703125,80.91068267822266,69.92225456237793,69.61929893493652,72.52435111999512,67.38241004943848,70.56405639648438,62.33529472351074,62.84950637817383,60.24082374572754,68.2573127746582,69.43179130554199,79.50301170349121,63.39435958862305,53.88510704040527,56.44343185424805,80.77871322631836,74.15815925598145,67.21528625488281,71.70096397399902,66.14867782592773,71.96495056152344,77.72420120239258,71.12706184387207,74.47617149353027,80.20712089538574,76.94743728637695,81.22046852111816,70.93654251098633,71.42388153076172,80.00517845153809,72.86248016357422,51.93603706359863,74.6802864074707,84.3621654510498,74.02913284301758,73.59747695922852,76.47536659240723,77.46461868286133,81.27736282348633,67.41460037231445,75.44198608398438,53.79766845703125,67.43138694763184,55.71384620666504,84.77105140686035,43.93697547912598,81.44706344604492,71.99070930480957,75.44573211669922,72.9267406463623,71.30583953857422,68.00149154663086,52.37236022949219,65.06157112121582,67.55477905273438,75.21432304382324,66.55030059814453,69.54067039489746,71.36797523498535,72.72483444213867,75.45971488952637,60.53899383544922,64.44305229187012,82.69483757019043,76.09273529052734,71.9564323425293,65.7513427734375,75.17353248596191,76.21265411376953,71.97064018249512,51.39261054992676,71.5625,56.18719482421875,81.29035186767578,62.68622589111328,63.39874267578125,58.9611930847168,40.65183639526367,56.34835624694824,68.76117706298828,72.26419448852539,74.25859260559082,74.00499534606934,54.07787895202637,73.85703659057617,75.09072494506836,69.05986595153809,75.22033309936523,48.86596488952637,63.29110527038574,76.21023750305176,49.79817581176758,63.496620178222656,62.04059028625488,49.78994178771973,73.62634468078613,73.86381530761719,53.89301872253418,59.654476165771484,63.37277030944824,53.599836349487305,69.55284309387207,58.75569534301758,67.78346633911133,71.13373947143555,68.09793663024902,81.47958755493164,73.12869453430176,56.07073211669922,52.69845199584961,70.19367408752441,48.16345977783203,67.45473861694336,71.96360778808594,73.05823707580566,75.4192008972168,82.15547180175781,77.62090682983398,72.45944023132324,70.32074546813965,76.92990112304688,81.66550636291504,74.94196128845215,73.39422798156738,72.80254554748535,64.69922828674316,53.61153030395508,82.15307998657227,58.80422782897949,71.99564743041992,79.00056838989258,77.64906692504883,71.09445571899414,80.49955177307129,51.96609687805176,67.48446464538574,71.27808570861816,62.030412673950195,73.83944320678711,53.12186622619629,51.68011283874512,66.31988906860352,75.63907623291016,55.69173240661621,66.0091381072998,56.74159622192383,82.48754692077637,70.80144882202148,71.94784736633301,54.14819145202637,56.2884464263916,80.48055839538574,81.21680068969727,80.58860778808594,74.51337432861328,75.42464065551758,49.13900566101074,42.707279205322266,82.92682456970215,65.65418434143066,71.12567329406738,67.38589096069336,58.51808547973633,52.81011772155762,65.41709518432617,71.32069778442383,73.55672264099121,80.08480644226074,83.99013328552246,70.82171821594238,78.33663368225098,72.88714408874512,64.69640922546387,71.75961303710938,78.34138679504395,55.33669853210449,75.01198196411133,54.936174392700195,70.72358131408691,73.87618064880371,71.6819953918457,69.62594032287598,73.9519271850586,72.87501907348633,74.87592887878418,65.60009765625,60.88482666015625,65.77670860290527,74.97432708740234,70.50466346740723,55.3271541595459,82.69865798950195,58.51552391052246,81.64922904968262,72.35832595825195,74.4744644165039,53.93656539916992,48.72465896606445,82.22067451477051,68.3519229888916,73.66916847229004,68.53171920776367,83.02292251586914,78.03486824035645,75.0291976928711,67.42950630187988,73.15222549438477,78.32232284545898,73.2449893951416,73.68260765075684,52.40114974975586,82.51543617248535,68.79675674438477,55.97907829284668,72.04601287841797,64.56206321716309,75.56891822814941,80.97447967529297,80.17919540405273,75.32040786743164,66.26127815246582,58.73827934265137,62.007110595703125,60.109859466552734,63.82277488708496,74.5823745727539,72.92620468139648,82.75033950805664,72.42959213256836,80.20741081237793,61.03330421447754,80.75090408325195,70.3176326751709,59.64621353149414,68.92107200622559,59.766483306884766,66.43175888061523,45.6356315612793,79.30066108703613,68.70342826843262,81.40489196777344,76.83903884887695,74.94832420349121,74.46061515808105,67.10498046875,64.9186782836914,58.885934829711914,75.06365585327148,73.27695655822754,70.14804077148438,61.233577728271484,67.73993301391602,82.57404708862305,77.18894577026367,77.10898017883301,75.61935615539551,52.14752769470215,60.90767288208008,43.65448760986328,69.33049201965332,57.076148986816406,61.4747428894043,75.03220558166504,52.87162208557129,76.06656646728516,72.14551544189453,67.10657501220703,69.32536506652832,73.99024391174316,57.85834884643555,66.0949935913086,62.56930732727051,72.22195243835449,78.71591186523438,71.74710464477539,81.61046981811523,61.983154296875,74.54076385498047,74.62873458862305,45.63872146606445,51.018930435180664,64.21263694763184,52.52951431274414,63.15802192687988,73.71700859069824,60.858102798461914,55.85782814025879,75.11029815673828,61.72464179992676,71.92712783813477,75.19257926940918,62.970415115356445,56.62388801574707,47.44663429260254,58.83914375305176,67.06670951843262,80.4358081817627,59.61937713623047,67.56728172302246,59.543670654296875,49.2359733581543,80.21100234985352,72.35576057434082,55.265363693237305,69.53567695617676,61.10818862915039,63.01371192932129,74.51544380187988,76.85162353515625,72.02669715881348,70.51167297363281,67.44972229003906,73.26330184936523,54.42939376831055,46.5128059387207,83.26537895202637,53.00915336608887,76.26206588745117,56.73507881164551,70.82250785827637,55.96051216125488,60.41689109802246,54.9110221862793,81.54126739501953,56.81474494934082,68.99618721008301,74.26340103149414,71.14799880981445,55.97497749328613,76.51105308532715,75.37615013122559,55.47611999511719,74.9867172241211,67.51805686950684],\"type\":\"scatter\"}],                        {\"template\":{\"data\":{\"bar\":[{\"error_x\":{\"color\":\"#2a3f5f\"},\"error_y\":{\"color\":\"#2a3f5f\"},\"marker\":{\"line\":{\"color\":\"#E5ECF6\",\"width\":0.5},\"pattern\":{\"fillmode\":\"overlay\",\"size\":10,\"solidity\":0.2}},\"type\":\"bar\"}],\"barpolar\":[{\"marker\":{\"line\":{\"color\":\"#E5ECF6\",\"width\":0.5},\"pattern\":{\"fillmode\":\"overlay\",\"size\":10,\"solidity\":0.2}},\"type\":\"barpolar\"}],\"carpet\":[{\"aaxis\":{\"endlinecolor\":\"#2a3f5f\",\"gridcolor\":\"white\",\"linecolor\":\"white\",\"minorgridcolor\":\"white\",\"startlinecolor\":\"#2a3f5f\"},\"baxis\":{\"endlinecolor\":\"#2a3f5f\",\"gridcolor\":\"white\",\"linecolor\":\"white\",\"minorgridcolor\":\"white\",\"startlinecolor\":\"#2a3f5f\"},\"type\":\"carpet\"}],\"choropleth\":[{\"colorbar\":{\"outlinewidth\":0,\"ticks\":\"\"},\"type\":\"choropleth\"}],\"contour\":[{\"colorbar\":{\"outlinewidth\":0,\"ticks\":\"\"},\"colorscale\":[[0.0,\"#0d0887\"],[0.1111111111111111,\"#46039f\"],[0.2222222222222222,\"#7201a8\"],[0.3333333333333333,\"#9c179e\"],[0.4444444444444444,\"#bd3786\"],[0.5555555555555556,\"#d8576b\"],[0.6666666666666666,\"#ed7953\"],[0.7777777777777778,\"#fb9f3a\"],[0.8888888888888888,\"#fdca26\"],[1.0,\"#f0f921\"]],\"type\":\"contour\"}],\"contourcarpet\":[{\"colorbar\":{\"outlinewidth\":0,\"ticks\":\"\"},\"type\":\"contourcarpet\"}],\"heatmap\":[{\"colorbar\":{\"outlinewidth\":0,\"ticks\":\"\"},\"colorscale\":[[0.0,\"#0d0887\"],[0.1111111111111111,\"#46039f\"],[0.2222222222222222,\"#7201a8\"],[0.3333333333333333,\"#9c179e\"],[0.4444444444444444,\"#bd3786\"],[0.5555555555555556,\"#d8576b\"],[0.6666666666666666,\"#ed7953\"],[0.7777777777777778,\"#fb9f3a\"],[0.8888888888888888,\"#fdca26\"],[1.0,\"#f0f921\"]],\"type\":\"heatmap\"}],\"heatmapgl\":[{\"colorbar\":{\"outlinewidth\":0,\"ticks\":\"\"},\"colorscale\":[[0.0,\"#0d0887\"],[0.1111111111111111,\"#46039f\"],[0.2222222222222222,\"#7201a8\"],[0.3333333333333333,\"#9c179e\"],[0.4444444444444444,\"#bd3786\"],[0.5555555555555556,\"#d8576b\"],[0.6666666666666666,\"#ed7953\"],[0.7777777777777778,\"#fb9f3a\"],[0.8888888888888888,\"#fdca26\"],[1.0,\"#f0f921\"]],\"type\":\"heatmapgl\"}],\"histogram\":[{\"marker\":{\"pattern\":{\"fillmode\":\"overlay\",\"size\":10,\"solidity\":0.2}},\"type\":\"histogram\"}],\"histogram2d\":[{\"colorbar\":{\"outlinewidth\":0,\"ticks\":\"\"},\"colorscale\":[[0.0,\"#0d0887\"],[0.1111111111111111,\"#46039f\"],[0.2222222222222222,\"#7201a8\"],[0.3333333333333333,\"#9c179e\"],[0.4444444444444444,\"#bd3786\"],[0.5555555555555556,\"#d8576b\"],[0.6666666666666666,\"#ed7953\"],[0.7777777777777778,\"#fb9f3a\"],[0.8888888888888888,\"#fdca26\"],[1.0,\"#f0f921\"]],\"type\":\"histogram2d\"}],\"histogram2dcontour\":[{\"colorbar\":{\"outlinewidth\":0,\"ticks\":\"\"},\"colorscale\":[[0.0,\"#0d0887\"],[0.1111111111111111,\"#46039f\"],[0.2222222222222222,\"#7201a8\"],[0.3333333333333333,\"#9c179e\"],[0.4444444444444444,\"#bd3786\"],[0.5555555555555556,\"#d8576b\"],[0.6666666666666666,\"#ed7953\"],[0.7777777777777778,\"#fb9f3a\"],[0.8888888888888888,\"#fdca26\"],[1.0,\"#f0f921\"]],\"type\":\"histogram2dcontour\"}],\"mesh3d\":[{\"colorbar\":{\"outlinewidth\":0,\"ticks\":\"\"},\"type\":\"mesh3d\"}],\"parcoords\":[{\"line\":{\"colorbar\":{\"outlinewidth\":0,\"ticks\":\"\"}},\"type\":\"parcoords\"}],\"pie\":[{\"automargin\":true,\"type\":\"pie\"}],\"scatter\":[{\"marker\":{\"colorbar\":{\"outlinewidth\":0,\"ticks\":\"\"}},\"type\":\"scatter\"}],\"scatter3d\":[{\"line\":{\"colorbar\":{\"outlinewidth\":0,\"ticks\":\"\"}},\"marker\":{\"colorbar\":{\"outlinewidth\":0,\"ticks\":\"\"}},\"type\":\"scatter3d\"}],\"scattercarpet\":[{\"marker\":{\"colorbar\":{\"outlinewidth\":0,\"ticks\":\"\"}},\"type\":\"scattercarpet\"}],\"scattergeo\":[{\"marker\":{\"colorbar\":{\"outlinewidth\":0,\"ticks\":\"\"}},\"type\":\"scattergeo\"}],\"scattergl\":[{\"marker\":{\"colorbar\":{\"outlinewidth\":0,\"ticks\":\"\"}},\"type\":\"scattergl\"}],\"scattermapbox\":[{\"marker\":{\"colorbar\":{\"outlinewidth\":0,\"ticks\":\"\"}},\"type\":\"scattermapbox\"}],\"scatterpolar\":[{\"marker\":{\"colorbar\":{\"outlinewidth\":0,\"ticks\":\"\"}},\"type\":\"scatterpolar\"}],\"scatterpolargl\":[{\"marker\":{\"colorbar\":{\"outlinewidth\":0,\"ticks\":\"\"}},\"type\":\"scatterpolargl\"}],\"scatterternary\":[{\"marker\":{\"colorbar\":{\"outlinewidth\":0,\"ticks\":\"\"}},\"type\":\"scatterternary\"}],\"surface\":[{\"colorbar\":{\"outlinewidth\":0,\"ticks\":\"\"},\"colorscale\":[[0.0,\"#0d0887\"],[0.1111111111111111,\"#46039f\"],[0.2222222222222222,\"#7201a8\"],[0.3333333333333333,\"#9c179e\"],[0.4444444444444444,\"#bd3786\"],[0.5555555555555556,\"#d8576b\"],[0.6666666666666666,\"#ed7953\"],[0.7777777777777778,\"#fb9f3a\"],[0.8888888888888888,\"#fdca26\"],[1.0,\"#f0f921\"]],\"type\":\"surface\"}],\"table\":[{\"cells\":{\"fill\":{\"color\":\"#EBF0F8\"},\"line\":{\"color\":\"white\"}},\"header\":{\"fill\":{\"color\":\"#C8D4E3\"},\"line\":{\"color\":\"white\"}},\"type\":\"table\"}]},\"layout\":{\"annotationdefaults\":{\"arrowcolor\":\"#2a3f5f\",\"arrowhead\":0,\"arrowwidth\":1},\"autotypenumbers\":\"strict\",\"coloraxis\":{\"colorbar\":{\"outlinewidth\":0,\"ticks\":\"\"}},\"colorscale\":{\"diverging\":[[0,\"#8e0152\"],[0.1,\"#c51b7d\"],[0.2,\"#de77ae\"],[0.3,\"#f1b6da\"],[0.4,\"#fde0ef\"],[0.5,\"#f7f7f7\"],[0.6,\"#e6f5d0\"],[0.7,\"#b8e186\"],[0.8,\"#7fbc41\"],[0.9,\"#4d9221\"],[1,\"#276419\"]],\"sequential\":[[0.0,\"#0d0887\"],[0.1111111111111111,\"#46039f\"],[0.2222222222222222,\"#7201a8\"],[0.3333333333333333,\"#9c179e\"],[0.4444444444444444,\"#bd3786\"],[0.5555555555555556,\"#d8576b\"],[0.6666666666666666,\"#ed7953\"],[0.7777777777777778,\"#fb9f3a\"],[0.8888888888888888,\"#fdca26\"],[1.0,\"#f0f921\"]],\"sequentialminus\":[[0.0,\"#0d0887\"],[0.1111111111111111,\"#46039f\"],[0.2222222222222222,\"#7201a8\"],[0.3333333333333333,\"#9c179e\"],[0.4444444444444444,\"#bd3786\"],[0.5555555555555556,\"#d8576b\"],[0.6666666666666666,\"#ed7953\"],[0.7777777777777778,\"#fb9f3a\"],[0.8888888888888888,\"#fdca26\"],[1.0,\"#f0f921\"]]},\"colorway\":[\"#636efa\",\"#EF553B\",\"#00cc96\",\"#ab63fa\",\"#FFA15A\",\"#19d3f3\",\"#FF6692\",\"#B6E880\",\"#FF97FF\",\"#FECB52\"],\"font\":{\"color\":\"#2a3f5f\"},\"geo\":{\"bgcolor\":\"white\",\"lakecolor\":\"white\",\"landcolor\":\"#E5ECF6\",\"showlakes\":true,\"showland\":true,\"subunitcolor\":\"white\"},\"hoverlabel\":{\"align\":\"left\"},\"hovermode\":\"closest\",\"mapbox\":{\"style\":\"light\"},\"paper_bgcolor\":\"white\",\"plot_bgcolor\":\"#E5ECF6\",\"polar\":{\"angularaxis\":{\"gridcolor\":\"white\",\"linecolor\":\"white\",\"ticks\":\"\"},\"bgcolor\":\"#E5ECF6\",\"radialaxis\":{\"gridcolor\":\"white\",\"linecolor\":\"white\",\"ticks\":\"\"}},\"scene\":{\"xaxis\":{\"backgroundcolor\":\"#E5ECF6\",\"gridcolor\":\"white\",\"gridwidth\":2,\"linecolor\":\"white\",\"showbackground\":true,\"ticks\":\"\",\"zerolinecolor\":\"white\"},\"yaxis\":{\"backgroundcolor\":\"#E5ECF6\",\"gridcolor\":\"white\",\"gridwidth\":2,\"linecolor\":\"white\",\"showbackground\":true,\"ticks\":\"\",\"zerolinecolor\":\"white\"},\"zaxis\":{\"backgroundcolor\":\"#E5ECF6\",\"gridcolor\":\"white\",\"gridwidth\":2,\"linecolor\":\"white\",\"showbackground\":true,\"ticks\":\"\",\"zerolinecolor\":\"white\"}},\"shapedefaults\":{\"line\":{\"color\":\"#2a3f5f\"}},\"ternary\":{\"aaxis\":{\"gridcolor\":\"white\",\"linecolor\":\"white\",\"ticks\":\"\"},\"baxis\":{\"gridcolor\":\"white\",\"linecolor\":\"white\",\"ticks\":\"\"},\"bgcolor\":\"#E5ECF6\",\"caxis\":{\"gridcolor\":\"white\",\"linecolor\":\"white\",\"ticks\":\"\"}},\"title\":{\"x\":0.05},\"xaxis\":{\"automargin\":true,\"gridcolor\":\"white\",\"linecolor\":\"white\",\"ticks\":\"\",\"title\":{\"standoff\":15},\"zerolinecolor\":\"white\",\"zerolinewidth\":2},\"yaxis\":{\"automargin\":true,\"gridcolor\":\"white\",\"linecolor\":\"white\",\"ticks\":\"\",\"title\":{\"standoff\":15},\"zerolinecolor\":\"white\",\"zerolinewidth\":2}}},\"title\":{\"text\":\"Visualization of predictions | sklearn linear regression | MAE: 1.1757428007699102\"},\"xaxis\":{\"title\":{\"text\":\"Real values\"},\"range\":[0,100],\"scaleratio\":1},\"yaxis\":{\"title\":{\"text\":\"Predicted values\"},\"range\":[0,100],\"scaleratio\":1}},                        {\"responsive\": true}                    ).then(function(){\n                            \nvar gd = document.getElementById('4c7f793e-1861-41fb-b3a9-936ceb1a2e33');\nvar x = new MutationObserver(function (mutations, observer) {{\n        var display = window.getComputedStyle(gd).display;\n        if (!display || display === 'none') {{\n            console.log([gd, 'removed!']);\n            Plotly.purge(gd);\n            observer.disconnect();\n        }}\n}});\n\n// Listen for the removal of the full notebook cells\nvar notebookContainer = gd.closest('#notebook-container');\nif (notebookContainer) {{\n    x.observe(notebookContainer, {childList: true});\n}}\n\n// Listen for the clearing of the current output cell\nvar outputEl = gd.closest('.output');\nif (outputEl) {{\n    x.observe(outputEl, {childList: true});\n}}\n\n                        })                };                            </script>        </div>\n</body>\n</html>"
     },
     "metadata": {},
     "output_type": "display_data"
    }
   ],
   "execution_count": null
  },
  {
   "cell_type": "markdown",
   "source": "* * Použiju nyní kod ze cvičení k ladění hyperparametru alpha pro Ridge model.",
   "metadata": {
    "tags": [],
    "cell_id": "00151-29bc7cb8-ff57-43d9-a1e5-5de4b4ea68f5",
    "deepnote_cell_type": "markdown"
   }
  },
  {
   "cell_type": "code",
   "metadata": {
    "tags": [],
    "cell_id": "00151-c97c078a-0b85-42a6-b89a-a08304118d54",
    "deepnote_to_be_reexecuted": false,
    "source_hash": "40575d98",
    "execution_start": 1640535852906,
    "execution_millis": 18,
    "deepnote_cell_type": "code"
   },
   "source": "from typing import Callable\nfrom sklearn.model_selection import cross_val_score\nimport numpy as np\n\ndef ridge_model(X, y) -> Callable[[float], float]:\n    def inner(alpha: float) -> float:\n        model = Ridge(alpha=alpha)\n        return -np.mean(cross_val_score(model, X, y, cv=5, scoring='neg_mean_absolute_error'))\n    \n    return inner",
   "outputs": [],
   "execution_count": null
  },
  {
   "cell_type": "code",
   "metadata": {
    "tags": [],
    "cell_id": "00152-516128d6-20ad-4022-b0a6-e8304f69234a",
    "deepnote_to_be_reexecuted": false,
    "source_hash": "4005abbb",
    "execution_start": 1640535852932,
    "execution_millis": 16,
    "deepnote_cell_type": "code"
   },
   "source": "from scipy import optimize\nfrom typing import Tuple\n\ndef get_ridge_model(X, y) -> Tuple[Ridge, float]:\n    opt_function = ridge_model(X, y)\n    \n    opt_alpha = optimize.minimize_scalar(\n        opt_function, options={'maxiter': 50}, method='bounded', bounds=(0.1, 400)\n    )\n    \n    best_model = Ridge(alpha=opt_alpha.x)\n    best_model.fit(X, y)\n\n    return best_model, opt_alpha.x",
   "outputs": [],
   "execution_count": null
  },
  {
   "cell_type": "code",
   "source": "rr_model, best_alpha = get_ridge_model(X, Y)",
   "metadata": {
    "tags": [],
    "cell_id": "00153-bd8d2079-dda8-44cd-af86-715bba11d937",
    "deepnote_to_be_reexecuted": false,
    "source_hash": "259fd992",
    "execution_start": 1640535852954,
    "execution_millis": 11117,
    "deepnote_cell_type": "code"
   },
   "outputs": [],
   "execution_count": null
  },
  {
   "cell_type": "code",
   "source": "print(\"Nejlepší hodnota parametru alpha je: {}\".format(best_alpha))",
   "metadata": {
    "tags": [],
    "cell_id": "00154-ec1fd0cb-563e-4575-88eb-ad067245975e",
    "deepnote_to_be_reexecuted": false,
    "source_hash": "99396d2f",
    "execution_start": 1640535864083,
    "execution_millis": 5,
    "deepnote_cell_type": "code"
   },
   "outputs": [
    {
     "name": "stdout",
     "text": "Nejlepší hodnota parametru alpha je: 0.10000406819977517\n",
     "output_type": "stream",
     "data": {}
    }
   ],
   "execution_count": null
  },
  {
   "cell_type": "markdown",
   "source": "* * Predikuji pro hřebenovou regresi.",
   "metadata": {
    "tags": [],
    "cell_id": "00156-aafca60d-2789-4421-b5f8-13e93c40c090",
    "deepnote_cell_type": "markdown"
   }
  },
  {
   "cell_type": "code",
   "metadata": {
    "tags": [],
    "cell_id": "00154-b1f7d710-240f-4857-a226-c5d3647271a4",
    "deepnote_to_be_reexecuted": false,
    "source_hash": "a4d6bea4",
    "execution_start": 1640535864102,
    "execution_millis": 26,
    "deepnote_output_heights": [
     527
    ],
    "deepnote_cell_type": "code"
   },
   "source": "plot_prediction_results(\"scikit ridge regression\", Y_test, rr_model.predict(X_test))",
   "outputs": [
    {
     "data": {
      "text/html": "<html>\n<head><meta charset=\"utf-8\" /></head>\n<body>\n    <div>            <script src=\"https://cdnjs.cloudflare.com/ajax/libs/mathjax/2.7.5/MathJax.js?config=TeX-AMS-MML_SVG\"></script><script type=\"text/javascript\">if (window.MathJax) {MathJax.Hub.Config({SVG: {font: \"STIX-Web\"}});}</script>                <script type=\"text/javascript\">window.PlotlyConfig = {MathJaxConfig: 'local'};</script>\n        <script src=\"https://cdn.plot.ly/plotly-2.6.3.min.js\"></script>                <div id=\"26e6edac-b19e-4fdf-8d09-a9d5cd416319\" class=\"plotly-graph-div\" style=\"height:525px; width:100%;\"></div>            <script type=\"text/javascript\">                                    window.PLOTLYENV=window.PLOTLYENV || {};                                    if (document.getElementById(\"26e6edac-b19e-4fdf-8d09-a9d5cd416319\")) {                    Plotly.newPlot(                        \"26e6edac-b19e-4fdf-8d09-a9d5cd416319\",                        [{\"mode\":\"lines\",\"name\":\"y = \\u0177\",\"x\":[0,100],\"y\":[0,100],\"type\":\"scatter\"},{\"mode\":\"markers\",\"name\":\"(test, prediction)\",\"x\":[56.5,73.0,82.5,75.6,53.0,65.2,72.4,74.1,77.0,67.8,73.1,75.1,44.3,47.9,74.3,74.6,78.4,77.7,79.1,73.3,62.8,82.5,54.0,63.4,72.0,47.8,52.1,75.1,65.6,78.4,73.9,76.3,61.2,69.6,72.7,57.9,74.5,69.4,77.0,75.4,57.7,67.3,78.5,54.2,47.6,68.9,79.4,67.6,63.3,59.8,71.7,73.2,66.5,58.6,67.7,72.8,69.2,72.8,76.4,53.3,72.5,69.0,59.4,56.0,54.1,81.9,64.5,55.3,73.0,72.4,75.5,85.0,74.1,75.6,53.2,75.2,74.9,74.7,73.3,77.3,75.9,83.0,71.3,63.8,76.8,65.9,74.1,79.1,77.8,77.5,62.2,79.5,81.1,77.7,65.3,51.9,74.7,67.3,66.2,84.0,69.6,51.2,74.6,76.9,58.0,75.6,57.4,75.7,63.3,67.3,82.1,71.0,81.8,62.9,75.3,83.0,82.7,72.9,59.8,75.2,73.0,76.0,72.2,71.1,74.3,70.0,69.5,74.4,69.9,75.6,73.6,67.9,54.0,81.5,86.0,74.0,79.0,64.4,79.0,82.5,72.8,71.6,64.0,81.5,74.6,56.5,78.7,55.3,81.6,67.1,52.1,74.9,59.9,82.0,77.5,76.5,73.5,76.5,57.9,66.8,68.7,61.3,74.7,54.6,49.2,72.6,66.5,77.0,51.2,71.9,67.6,71.0,51.3,77.2,76.7,55.7,62.8,87.0,59.6,65.3,67.0,43.8,73.6,73.6,75.6,73.5,62.9,74.2,78.5,78.0,73.8,81.7,82.0,57.6,74.8,73.9,51.7,79.8,67.5,62.3,56.4,75.3,51.9,74.8,72.5,80.0,81.6,45.3,66.1,79.4,65.0,71.6,75.8,73.6,79.1,76.0,52.0,76.3,68.3,74.4,74.1,68.1,72.7,67.1,81.0,52.4,75.7,61.0,73.5,81.3,69.0,71.4,73.3,79.3,51.6,57.3,73.0,76.6,77.0,58.6,78.8,68.0,79.8,74.9,73.9,79.3,72.1,71.7,79.9,62.1,83.0,62.2,73.1,73.0,67.7,79.8,81.7,75.2,79.4,72.2,74.0,71.2,55.0,71.0,46.3,59.5,75.2,51.4,58.5,52.5,79.2,65.5,73.3,75.4,82.1,76.7,54.0,76.4,78.0,77.0,61.6,58.0,76.0,74.7,59.0,73.5,77.5,75.4,71.0,75.4,77.0,48.2,72.6,74.5,72.8,79.3,53.1,67.7,75.0,46.0,71.4,72.9,68.7,72.5,77.1,60.0,55.3,65.0,56.3,78.0,74.6,63.8,74.3,81.3,71.6,66.2,61.3,68.8,72.1,69.0,68.9,62.8,74.2,72.0,58.0,73.9,69.8,76.0,79.3,48.9,74.3,79.7,79.9,72.1,67.1,63.7,68.0,62.5,72.3,67.0,75.0,61.8,72.0,64.4,58.4,73.3,74.7,77.5,75.7,73.0,79.0,52.7,66.0,75.0,74.1,69.9,72.3,75.4,59.1,79.9,56.5,71.1,75.4,57.4,63.8,84.0,79.3,79.1,73.0,54.5,71.1,74.2,51.4,76.0,63.9,77.7,80.0,82.0,63.9,73.5,78.9,66.0,81.3,73.0,64.0,68.2,79.0,78.1,72.0,73.5,55.0,62.1,49.7,86.0,73.1,72.3,68.0,78.3,80.0,71.6,66.8,73.3,65.7,73.0,62.6,61.4,60.0,68.2,66.5,78.2,63.5,52.7,59.3,86.0,74.4,71.3,78.0,66.0,63.6,77.3,70.0,74.5,79.3,75.8,79.6,69.7,64.4,78.0,73.1,51.9,74.7,83.4,74.4,73.3,76.3,76.5,83.0,68.7,75.1,52.8,67.3,55.3,83.5,42.3,84.0,77.0,73.2,79.0,75.0,68.1,51.9,65.1,68.0,74.3,66.1,73.0,72.1,71.4,75.2,59.7,63.7,82.0,75.2,72.2,66.7,76.3,76.2,71.4,56.0,79.0,57.4,80.0,62.2,64.2,59.8,46.0,56.1,69.2,72.7,73.6,73.3,54.8,72.8,75.2,64.7,75.0,47.4,63.3,76.2,51.0,64.1,58.9,49.6,72.4,72.8,53.1,59.2,62.3,53.3,69.1,58.2,68.4,73.1,69.4,79.8,73.7,56.1,52.5,70.0,48.2,66.2,73.2,73.4,74.8,81.2,77.5,73.9,69.9,77.2,81.0,74.9,73.3,73.5,65.0,53.8,88.0,67.0,71.7,78.1,77.3,71.0,87.0,58.0,68.7,71.1,61.0,72.9,52.0,51.5,66.2,74.9,56.7,67.7,56.2,82.4,71.1,72.8,53.8,55.9,79.5,81.0,79.5,72.8,75.1,48.6,44.5,84.0,65.5,75.0,67.3,58.1,51.1,65.8,75.0,73.6,79.4,82.4,69.4,78.4,73.3,62.9,72.1,76.6,54.4,74.3,53.8,69.4,73.0,72.3,73.0,74.3,69.1,74.8,65.6,66.0,65.7,74.9,71.5,56.2,81.1,58.9,85.0,72.9,73.9,53.5,48.0,81.0,75.0,74.1,69.3,82.3,77.4,74.7,67.6,73.7,78.2,73.6,73.1,52.0,81.4,67.2,56.7,72.6,64.2,74.9,79.4,78.3,73.9,66.1,57.2,62.0,59.3,65.3,72.9,71.9,81.3,73.8,82.0,59.4,79.5,77.0,59.4,67.8,60.0,66.4,44.6,78.0,67.7,79.2,75.9,74.5,73.9,65.1,65.6,61.8,73.0,73.2,69.5,62.3,67.5,82.0,76.3,76.5,75.3,51.6,68.0,46.4,68.1,57.3,64.0,74.7,51.9,75.5,71.7,66.0,68.7,73.1,57.2,66.6,62.4,73.2,77.9,71.0,79.5,68.0,74.4,73.7,45.3,48.1,63.7,49.6,63.1,74.7,62.6,55.0,74.9,58.7,71.6,75.0,61.9,53.4,47.7,56.9,78.0,79.9,59.3,65.8,61.4,50.0,79.9,72.6,55.5,69.6,61.0,63.5,74.8,75.5,73.0,69.0,67.2,73.8,54.0,47.7,81.7,52.4,75.8,59.3,73.0,56.5,59.1,53.5,79.6,55.3,67.0,74.4,69.8,54.8,75.6,74.2,55.0,74.5,67.3],\"y\":[57.986053257995714,70.51914445134757,82.55194437469089,76.74281702386072,53.53861690747641,64.98446404391024,73.733880100394,74.08280040907717,77.75663493938207,67.57045387302867,75.10138165604175,75.5062014092054,43.26557853441895,51.09439928786907,74.41556098654351,74.83137927975923,78.30296484182246,77.60770683517518,80.08025930298032,72.96514735997164,61.45575219146875,83.86446474053855,50.44990502863222,61.83592641598791,69.36147365992178,43.41830988636059,55.11418208152429,76.23527695978719,65.70091535704861,78.47761734889546,73.94409750564334,75.770155818032,62.4886585329897,68.80457082258047,73.11144267157313,57.764201527272085,75.17984740733813,70.19293515874776,77.06457318803862,75.2734225633259,60.10188502509599,67.43731522466237,79.61815478188237,54.69834846698568,49.63717416330641,69.59576700417556,79.75123882001522,67.80442538927069,65.27901370921495,59.92579430753242,70.49792127462484,73.4731956626053,65.32455697785042,58.562381619580236,66.51233234469626,73.30144433731384,69.87324806832909,71.64005309331849,75.94386640374724,54.395290754988764,73.56432622189321,69.7360331559936,59.91070050812102,51.46834145418151,53.24215786745975,83.1066293363433,71.04168506989173,56.93863576601326,72.9033179882435,72.19812655920198,75.03252213687273,81.18712296471375,73.71816624998749,75.33490362390528,53.26929378832617,75.57087813288581,75.937920398069,74.4284133198389,73.45199882512802,77.05417639439528,77.40542926964547,79.79338233348291,71.3663234433603,64.07722792702359,76.60022399947093,66.81571370040811,74.45674188257485,79.8003441190033,78.25379996163298,77.34067020994902,63.14023134860199,81.11507186781608,82.02341334957794,78.5175334955459,66.54914998279521,55.07115388850159,74.55098592335231,67.88704663578608,64.94085147334084,81.97781200301188,68.72289261227327,51.542445738854724,74.88953167922548,76.85909038718873,57.84017465716084,76.00909427180049,56.180119781201256,72.95842763676424,63.092979605421235,69.58906120425141,83.74898604237934,71.43903693170398,83.4336390447787,61.49015648384493,74.99313046417183,80.77459619811415,84.44645177316063,73.96845676935668,60.125836895883495,75.40286136739587,71.55573669823987,76.22112747764743,72.69087337243658,70.22873645407803,74.88158370179418,70.84463270511858,71.03968692107917,75.81170033008767,71.48345583711344,76.19275209146562,73.58204538454281,68.80173102711707,50.336203521088066,80.94934035975109,81.48896836312625,74.2532877203263,81.2610939340769,65.83156950334543,79.4396130969758,82.71115620377559,73.28928065725442,72.41376666956893,63.600590724680906,81.40695801557008,75.19839159384715,60.70939753704652,80.0548613600987,57.52232460463869,82.92759530389428,68.56358236892457,52.51801456320442,74.29398329938755,59.725380037541235,84.02492265922547,77.20678863793178,77.15192781898489,73.29208107082543,78.55138201941308,59.09799721249025,65.48192554130225,69.29583896897387,62.6366050880061,75.00102189950016,53.04343835238358,50.85721292445511,72.35830889549464,65.93090271673904,71.887119520657,51.929820215999015,71.7239376565708,69.54738962503097,70.80060459042402,51.96830507213119,77.61506917068894,77.24072362548252,56.4440714757746,62.32703583219313,81.52914333627331,59.7225809984433,66.18003775823229,60.60403645466607,49.732829021909275,73.28316363107089,74.17285474972626,75.65041695804254,72.89810390548675,63.78662758000745,74.6137840679026,79.69431617120615,78.19453658814489,73.89736034886597,83.58319636149787,82.31755746995799,57.43716669564875,75.59300481061857,74.11017826141203,50.595877681525806,80.91968736185878,66.96801121523833,60.93560990378817,56.811802370524845,75.34386367185918,53.51661099161988,76.11596467504134,72.39741230194498,82.17863423833577,83.50618289570771,45.67858225531642,66.41076525976678,81.8132603174773,65.21005244030253,71.45523377715014,75.9106106256405,74.00216812002712,79.98522053036186,75.96265734698288,53.159405074440784,76.98298325539636,68.9201515866194,75.67076831074127,73.96399575413571,68.02377525427802,74.78004166924528,67.14599177244585,81.83485792866023,53.85578667038728,75.30800588843141,61.951342890848544,71.49029327206966,82.53524669176902,62.73225901453109,71.90747442600606,73.85138606377271,79.67198091414812,51.69045017927385,56.64489949434551,72.60308182570263,78.64851733514817,77.2879939256441,55.52663704268669,80.94268282689384,68.51674648306236,80.36622268807574,75.59986077598714,75.02371740375006,80.86744301727285,72.90357498037133,71.84696839699491,81.53441409185031,64.03810084817715,84.75124820622699,63.1849715346101,72.50725509085557,72.82272422729139,67.63030370321349,81.93420781130945,81.56277583734942,74.26467066031206,80.0612466643571,72.64153237986605,73.54324152677704,72.04009749504004,58.38016924845698,71.60693921363887,49.08693963214625,61.29287350589591,74.94107529064007,48.941060089147626,60.41406882310847,53.65363633797807,78.83480378497867,65.51640137849944,73.2433285800622,75.76055114573391,82.1800402249458,76.24164320969888,50.83941740249305,77.55336724965353,79.56443069143603,70.20231676593474,62.8984302326804,58.55795378770729,75.67824087317787,75.2951058746615,58.455631133857,73.71417604922469,77.08861208421993,77.09868157221871,71.75626926936509,75.08502879821361,72.48781809270062,49.74703511687456,72.95111865489818,74.6220267667675,73.74293081684871,81.55591269355389,53.829395333272934,69.47484726803606,75.65701740052879,45.27805340018904,71.15564559408635,74.27327225454505,69.2622072200948,73.85817749843793,77.20181687730135,60.4552348753629,55.88978756949027,65.56042822027887,56.19226289663313,77.79894559310526,75.28076524451679,60.68958213656748,74.5360539928044,80.9599861594829,72.42362300428192,67.59068653813098,62.66381917662915,69.30566677361175,71.43668186656191,69.78929537595755,69.99540987422284,63.03329473969134,74.17367986481626,71.83991112146629,53.339681564918216,73.95428753492902,71.5069387010201,71.501181482227,79.85985660912286,53.75893937566295,74.91983763240579,80.88934503372192,80.64097967577007,73.65851925016307,67.96075846491428,63.28176640081088,60.96469544937874,61.58936825633268,72.61876726509152,57.90711441232516,75.76796872179308,62.06199393389032,72.91007311323959,65.32929512888083,58.576696112657956,73.65853517666628,74.15227303381252,79.03414850978211,75.8193063215742,73.16015041658844,71.88772067160104,52.7391661869664,66.56566035806279,74.48083855984746,73.3551672609384,69.19532179725977,72.35595457051481,75.20250059057699,60.42402220562099,82.3800288502998,56.4530443617802,73.0608993104204,75.0878697316601,58.09691453660229,63.88858653991482,80.6591244471707,80.46559961537623,80.73859914756437,72.01567007860301,55.26879617583877,71.28026306496353,75.03852700822722,50.06601566132082,78.4793542006731,64.80961432015819,79.34038398741802,82.4020585472752,81.65233414840242,62.699595703693426,74.85246735158988,79.18234669981588,61.63611081691488,83.0610446358491,74.88896930488508,62.7732044530142,67.97681760661905,80.21024526448561,79.90924498572873,72.3566023578012,72.60571804813497,54.82639757447469,59.40782236621961,49.05049605852629,80.41319532851821,73.06833271366499,73.58350435517059,68.22995582285176,79.10637135549834,80.98933598654435,69.56699322468562,69.61783355881025,72.58091288164928,67.4010883203463,70.57842448309736,62.200573434105806,62.9523204106147,60.34356983387501,68.30204742678167,69.37962184650414,79.57412535827294,63.602477457530824,53.32516899992223,56.38629369433219,80.5972504400497,74.01607409367284,66.55361118937307,71.51909357908275,66.28124139396037,71.82218110051542,77.77927526056607,71.03948778578214,74.43593543239082,80.1473448338866,77.13790250783599,81.21344134793873,70.98184300229526,70.7472131501913,80.33021594913873,72.56806028921429,51.90091756177013,74.66672529641743,83.92667200221587,73.99460802421919,73.512563879729,76.39210579729313,77.38704324107756,81.33304086950334,67.75071634029788,75.43042629234697,53.94697076195333,67.50341734165139,55.65845680746447,84.34592379651923,43.958090379812376,81.36495585483863,72.04847286479706,75.40503529859348,72.89193765219966,71.29400362630851,68.02630904856015,52.284773504652435,64.97571681328424,67.52589067339052,75.31550651788653,66.48214321097711,69.45428373417953,71.27690552954243,72.57457402543982,75.72423413519702,60.7059436110534,64.5338736485297,82.30709288300072,76.03176364345077,71.90866005661542,65.42907741955486,75.23909210041303,76.10614925277744,71.98801275841552,51.12462637251204,71.48754241441628,55.955621800497504,81.5877562744452,62.695428016546664,63.77945436094378,59.02199503156908,40.433221545119,56.34646380784102,68.86842947133785,72.21954066249077,74.34047104235229,73.92995093850575,54.16122091924848,73.75363990194367,74.96156037326851,68.87770207704523,75.25433174011954,48.812796836734165,63.25578067334407,75.91993459054547,49.24525478688004,63.32921378504935,62.26598164050898,49.584942325002295,73.53556357627978,74.04435420853045,53.78883741655905,59.784553141062844,63.322053345268465,53.66641654862584,69.3293598841487,59.10605828958812,67.95630401832253,70.9580230607565,68.4733717163411,81.26985182404866,73.19266141680164,56.139535967029374,52.91555597520405,70.31720391899125,48.231579962891864,67.44343865394451,71.87896034282987,73.03624673527332,75.28972338379585,82.18468840984605,77.47638671109186,72.34179494647816,70.23002926028418,76.96828940979492,81.61097094373581,74.9257241001228,73.47895582885435,72.65814076648641,64.71957406270151,53.429240347849664,82.18450672802801,58.552888001456395,72.19637189464801,79.21406072836476,77.36051478324562,71.16812645255938,80.73120951820823,52.23841336491008,67.74336326628048,71.3268040299847,62.45504566307877,73.63725152935729,53.42157800174773,51.75895974823041,66.12177652463384,75.6030101630576,55.45363338332968,65.95573987851853,56.91710522026726,82.55560651335193,70.54064008773608,71.9101072382679,54.398739309506,56.30013355495781,80.45882368594688,81.04832311029445,80.62344039060062,74.47546312090206,75.41067350852681,49.05804929640567,42.43017913893719,82.85570863906179,65.98108793738149,71.02606288924191,67.36423199978633,58.80626245389952,52.91171972248682,65.50180330296607,71.35089053473658,73.49153747990202,80.03706347453651,83.65222302471756,70.69842301555155,78.41432815229541,72.9794484904223,64.90232608509977,71.48335459177552,78.31507433638927,55.518926676629476,74.72156004382238,55.253019672214464,70.80297958074206,73.8912547124512,71.62519405497167,69.46445951535196,73.88721082594363,72.73449064985579,74.68655216987993,65.95030203050193,60.82677768017832,65.86484636035709,74.90219447166669,70.41662739153473,55.30798826296119,82.68576934805435,58.74222922383558,81.545036508953,72.16461668474061,74.45068205323393,53.99964304188153,48.81525117222704,82.31121744194483,68.05468934647742,73.63689686084089,68.54047165824952,82.7060010688581,77.92470006031897,74.99544865159812,67.46989221676958,73.15929855648768,78.33191891064811,73.2736068072821,73.77351307214464,52.50998551834813,82.37213642796857,68.8661964597893,56.207378576613664,72.03088521080112,64.39397127478814,75.4367302014926,80.99430643962987,80.39613277653581,75.31010061362043,66.23289712913723,58.79269840570639,62.06645331845385,60.08039042407329,63.84573387436804,74.3427536595252,72.75971944370829,82.84748298155752,71.21771767077031,80.21306346639369,61.27136378411838,80.76402861235371,70.14916602215524,59.540216963808334,68.85107509864575,59.7567049476436,66.55376141917749,45.62341841441686,79.38055786220053,68.74143305026283,81.49020581416093,75.74854647893468,75.41022115751093,74.40007487044241,67.14600673108785,64.7774743759264,59.2524289963097,74.93817772351176,73.19527923278042,70.0294014586286,61.387598348139434,67.73645507554279,82.34764933372088,76.87571379250004,77.00361312165754,75.56023460220266,52.22780425952511,60.946726507014844,43.451357087288144,69.21924316079738,57.18445472211155,61.43926772021685,73.88233589390168,52.91033037188149,76.02158312410451,71.86247806749078,67.12392495512886,69.34653448896479,74.17016285315981,57.781709931476655,66.00656866595077,63.13798647254854,72.29761841120701,78.51860040877318,71.81034355091136,81.56117136749607,62.02476268368212,74.57040385031569,74.61343449170701,45.96373405670135,51.08173787378729,64.11971460428482,52.81497349312629,63.081736713089384,73.67827044835838,61.39641792140072,55.96875164709628,75.21548924218274,60.8769452687522,72.04929846251186,75.09816886872937,63.04840110288383,56.47184040403877,47.7434524265161,58.826751421990814,66.88319213630761,80.37552900242707,59.66809306928663,67.67959671028798,59.343477903501,49.4140396638698,80.04674643782933,72.39349796941828,55.53331576992384,69.47797370996385,61.28302260047992,62.72700904873613,74.49309936851473,76.75200618289568,72.29395253307663,70.44306466762167,67.52376960636494,73.16840326723924,54.837772113928764,46.23344753804897,83.38986744055236,53.09777091938457,76.36849153136095,56.838734512690934,70.93449930440799,56.35947198607354,60.795945559763794,55.20388406288198,81.55791226882585,56.86467750096881,69.0655339056138,74.23322266441502,71.05176435224557,56.108814090045925,77.05488647721691,75.41936469498481,55.9518497547763,74.93988291829102,67.70801440431869],\"type\":\"scatter\"}],                        {\"template\":{\"data\":{\"bar\":[{\"error_x\":{\"color\":\"#2a3f5f\"},\"error_y\":{\"color\":\"#2a3f5f\"},\"marker\":{\"line\":{\"color\":\"#E5ECF6\",\"width\":0.5},\"pattern\":{\"fillmode\":\"overlay\",\"size\":10,\"solidity\":0.2}},\"type\":\"bar\"}],\"barpolar\":[{\"marker\":{\"line\":{\"color\":\"#E5ECF6\",\"width\":0.5},\"pattern\":{\"fillmode\":\"overlay\",\"size\":10,\"solidity\":0.2}},\"type\":\"barpolar\"}],\"carpet\":[{\"aaxis\":{\"endlinecolor\":\"#2a3f5f\",\"gridcolor\":\"white\",\"linecolor\":\"white\",\"minorgridcolor\":\"white\",\"startlinecolor\":\"#2a3f5f\"},\"baxis\":{\"endlinecolor\":\"#2a3f5f\",\"gridcolor\":\"white\",\"linecolor\":\"white\",\"minorgridcolor\":\"white\",\"startlinecolor\":\"#2a3f5f\"},\"type\":\"carpet\"}],\"choropleth\":[{\"colorbar\":{\"outlinewidth\":0,\"ticks\":\"\"},\"type\":\"choropleth\"}],\"contour\":[{\"colorbar\":{\"outlinewidth\":0,\"ticks\":\"\"},\"colorscale\":[[0.0,\"#0d0887\"],[0.1111111111111111,\"#46039f\"],[0.2222222222222222,\"#7201a8\"],[0.3333333333333333,\"#9c179e\"],[0.4444444444444444,\"#bd3786\"],[0.5555555555555556,\"#d8576b\"],[0.6666666666666666,\"#ed7953\"],[0.7777777777777778,\"#fb9f3a\"],[0.8888888888888888,\"#fdca26\"],[1.0,\"#f0f921\"]],\"type\":\"contour\"}],\"contourcarpet\":[{\"colorbar\":{\"outlinewidth\":0,\"ticks\":\"\"},\"type\":\"contourcarpet\"}],\"heatmap\":[{\"colorbar\":{\"outlinewidth\":0,\"ticks\":\"\"},\"colorscale\":[[0.0,\"#0d0887\"],[0.1111111111111111,\"#46039f\"],[0.2222222222222222,\"#7201a8\"],[0.3333333333333333,\"#9c179e\"],[0.4444444444444444,\"#bd3786\"],[0.5555555555555556,\"#d8576b\"],[0.6666666666666666,\"#ed7953\"],[0.7777777777777778,\"#fb9f3a\"],[0.8888888888888888,\"#fdca26\"],[1.0,\"#f0f921\"]],\"type\":\"heatmap\"}],\"heatmapgl\":[{\"colorbar\":{\"outlinewidth\":0,\"ticks\":\"\"},\"colorscale\":[[0.0,\"#0d0887\"],[0.1111111111111111,\"#46039f\"],[0.2222222222222222,\"#7201a8\"],[0.3333333333333333,\"#9c179e\"],[0.4444444444444444,\"#bd3786\"],[0.5555555555555556,\"#d8576b\"],[0.6666666666666666,\"#ed7953\"],[0.7777777777777778,\"#fb9f3a\"],[0.8888888888888888,\"#fdca26\"],[1.0,\"#f0f921\"]],\"type\":\"heatmapgl\"}],\"histogram\":[{\"marker\":{\"pattern\":{\"fillmode\":\"overlay\",\"size\":10,\"solidity\":0.2}},\"type\":\"histogram\"}],\"histogram2d\":[{\"colorbar\":{\"outlinewidth\":0,\"ticks\":\"\"},\"colorscale\":[[0.0,\"#0d0887\"],[0.1111111111111111,\"#46039f\"],[0.2222222222222222,\"#7201a8\"],[0.3333333333333333,\"#9c179e\"],[0.4444444444444444,\"#bd3786\"],[0.5555555555555556,\"#d8576b\"],[0.6666666666666666,\"#ed7953\"],[0.7777777777777778,\"#fb9f3a\"],[0.8888888888888888,\"#fdca26\"],[1.0,\"#f0f921\"]],\"type\":\"histogram2d\"}],\"histogram2dcontour\":[{\"colorbar\":{\"outlinewidth\":0,\"ticks\":\"\"},\"colorscale\":[[0.0,\"#0d0887\"],[0.1111111111111111,\"#46039f\"],[0.2222222222222222,\"#7201a8\"],[0.3333333333333333,\"#9c179e\"],[0.4444444444444444,\"#bd3786\"],[0.5555555555555556,\"#d8576b\"],[0.6666666666666666,\"#ed7953\"],[0.7777777777777778,\"#fb9f3a\"],[0.8888888888888888,\"#fdca26\"],[1.0,\"#f0f921\"]],\"type\":\"histogram2dcontour\"}],\"mesh3d\":[{\"colorbar\":{\"outlinewidth\":0,\"ticks\":\"\"},\"type\":\"mesh3d\"}],\"parcoords\":[{\"line\":{\"colorbar\":{\"outlinewidth\":0,\"ticks\":\"\"}},\"type\":\"parcoords\"}],\"pie\":[{\"automargin\":true,\"type\":\"pie\"}],\"scatter\":[{\"marker\":{\"colorbar\":{\"outlinewidth\":0,\"ticks\":\"\"}},\"type\":\"scatter\"}],\"scatter3d\":[{\"line\":{\"colorbar\":{\"outlinewidth\":0,\"ticks\":\"\"}},\"marker\":{\"colorbar\":{\"outlinewidth\":0,\"ticks\":\"\"}},\"type\":\"scatter3d\"}],\"scattercarpet\":[{\"marker\":{\"colorbar\":{\"outlinewidth\":0,\"ticks\":\"\"}},\"type\":\"scattercarpet\"}],\"scattergeo\":[{\"marker\":{\"colorbar\":{\"outlinewidth\":0,\"ticks\":\"\"}},\"type\":\"scattergeo\"}],\"scattergl\":[{\"marker\":{\"colorbar\":{\"outlinewidth\":0,\"ticks\":\"\"}},\"type\":\"scattergl\"}],\"scattermapbox\":[{\"marker\":{\"colorbar\":{\"outlinewidth\":0,\"ticks\":\"\"}},\"type\":\"scattermapbox\"}],\"scatterpolar\":[{\"marker\":{\"colorbar\":{\"outlinewidth\":0,\"ticks\":\"\"}},\"type\":\"scatterpolar\"}],\"scatterpolargl\":[{\"marker\":{\"colorbar\":{\"outlinewidth\":0,\"ticks\":\"\"}},\"type\":\"scatterpolargl\"}],\"scatterternary\":[{\"marker\":{\"colorbar\":{\"outlinewidth\":0,\"ticks\":\"\"}},\"type\":\"scatterternary\"}],\"surface\":[{\"colorbar\":{\"outlinewidth\":0,\"ticks\":\"\"},\"colorscale\":[[0.0,\"#0d0887\"],[0.1111111111111111,\"#46039f\"],[0.2222222222222222,\"#7201a8\"],[0.3333333333333333,\"#9c179e\"],[0.4444444444444444,\"#bd3786\"],[0.5555555555555556,\"#d8576b\"],[0.6666666666666666,\"#ed7953\"],[0.7777777777777778,\"#fb9f3a\"],[0.8888888888888888,\"#fdca26\"],[1.0,\"#f0f921\"]],\"type\":\"surface\"}],\"table\":[{\"cells\":{\"fill\":{\"color\":\"#EBF0F8\"},\"line\":{\"color\":\"white\"}},\"header\":{\"fill\":{\"color\":\"#C8D4E3\"},\"line\":{\"color\":\"white\"}},\"type\":\"table\"}]},\"layout\":{\"annotationdefaults\":{\"arrowcolor\":\"#2a3f5f\",\"arrowhead\":0,\"arrowwidth\":1},\"autotypenumbers\":\"strict\",\"coloraxis\":{\"colorbar\":{\"outlinewidth\":0,\"ticks\":\"\"}},\"colorscale\":{\"diverging\":[[0,\"#8e0152\"],[0.1,\"#c51b7d\"],[0.2,\"#de77ae\"],[0.3,\"#f1b6da\"],[0.4,\"#fde0ef\"],[0.5,\"#f7f7f7\"],[0.6,\"#e6f5d0\"],[0.7,\"#b8e186\"],[0.8,\"#7fbc41\"],[0.9,\"#4d9221\"],[1,\"#276419\"]],\"sequential\":[[0.0,\"#0d0887\"],[0.1111111111111111,\"#46039f\"],[0.2222222222222222,\"#7201a8\"],[0.3333333333333333,\"#9c179e\"],[0.4444444444444444,\"#bd3786\"],[0.5555555555555556,\"#d8576b\"],[0.6666666666666666,\"#ed7953\"],[0.7777777777777778,\"#fb9f3a\"],[0.8888888888888888,\"#fdca26\"],[1.0,\"#f0f921\"]],\"sequentialminus\":[[0.0,\"#0d0887\"],[0.1111111111111111,\"#46039f\"],[0.2222222222222222,\"#7201a8\"],[0.3333333333333333,\"#9c179e\"],[0.4444444444444444,\"#bd3786\"],[0.5555555555555556,\"#d8576b\"],[0.6666666666666666,\"#ed7953\"],[0.7777777777777778,\"#fb9f3a\"],[0.8888888888888888,\"#fdca26\"],[1.0,\"#f0f921\"]]},\"colorway\":[\"#636efa\",\"#EF553B\",\"#00cc96\",\"#ab63fa\",\"#FFA15A\",\"#19d3f3\",\"#FF6692\",\"#B6E880\",\"#FF97FF\",\"#FECB52\"],\"font\":{\"color\":\"#2a3f5f\"},\"geo\":{\"bgcolor\":\"white\",\"lakecolor\":\"white\",\"landcolor\":\"#E5ECF6\",\"showlakes\":true,\"showland\":true,\"subunitcolor\":\"white\"},\"hoverlabel\":{\"align\":\"left\"},\"hovermode\":\"closest\",\"mapbox\":{\"style\":\"light\"},\"paper_bgcolor\":\"white\",\"plot_bgcolor\":\"#E5ECF6\",\"polar\":{\"angularaxis\":{\"gridcolor\":\"white\",\"linecolor\":\"white\",\"ticks\":\"\"},\"bgcolor\":\"#E5ECF6\",\"radialaxis\":{\"gridcolor\":\"white\",\"linecolor\":\"white\",\"ticks\":\"\"}},\"scene\":{\"xaxis\":{\"backgroundcolor\":\"#E5ECF6\",\"gridcolor\":\"white\",\"gridwidth\":2,\"linecolor\":\"white\",\"showbackground\":true,\"ticks\":\"\",\"zerolinecolor\":\"white\"},\"yaxis\":{\"backgroundcolor\":\"#E5ECF6\",\"gridcolor\":\"white\",\"gridwidth\":2,\"linecolor\":\"white\",\"showbackground\":true,\"ticks\":\"\",\"zerolinecolor\":\"white\"},\"zaxis\":{\"backgroundcolor\":\"#E5ECF6\",\"gridcolor\":\"white\",\"gridwidth\":2,\"linecolor\":\"white\",\"showbackground\":true,\"ticks\":\"\",\"zerolinecolor\":\"white\"}},\"shapedefaults\":{\"line\":{\"color\":\"#2a3f5f\"}},\"ternary\":{\"aaxis\":{\"gridcolor\":\"white\",\"linecolor\":\"white\",\"ticks\":\"\"},\"baxis\":{\"gridcolor\":\"white\",\"linecolor\":\"white\",\"ticks\":\"\"},\"bgcolor\":\"#E5ECF6\",\"caxis\":{\"gridcolor\":\"white\",\"linecolor\":\"white\",\"ticks\":\"\"}},\"title\":{\"x\":0.05},\"xaxis\":{\"automargin\":true,\"gridcolor\":\"white\",\"linecolor\":\"white\",\"ticks\":\"\",\"title\":{\"standoff\":15},\"zerolinecolor\":\"white\",\"zerolinewidth\":2},\"yaxis\":{\"automargin\":true,\"gridcolor\":\"white\",\"linecolor\":\"white\",\"ticks\":\"\",\"title\":{\"standoff\":15},\"zerolinecolor\":\"white\",\"zerolinewidth\":2}}},\"title\":{\"text\":\"Visualization of predictions | scikit ridge regression | MAE: 1.2000103038525602\"},\"xaxis\":{\"title\":{\"text\":\"Real values\"},\"range\":[0,100],\"scaleratio\":1},\"yaxis\":{\"title\":{\"text\":\"Predicted values\"},\"range\":[0,100],\"scaleratio\":1}},                        {\"responsive\": true}                    ).then(function(){\n                            \nvar gd = document.getElementById('26e6edac-b19e-4fdf-8d09-a9d5cd416319');\nvar x = new MutationObserver(function (mutations, observer) {{\n        var display = window.getComputedStyle(gd).display;\n        if (!display || display === 'none') {{\n            console.log([gd, 'removed!']);\n            Plotly.purge(gd);\n            observer.disconnect();\n        }}\n}});\n\n// Listen for the removal of the full notebook cells\nvar notebookContainer = gd.closest('#notebook-container');\nif (notebookContainer) {{\n    x.observe(notebookContainer, {childList: true});\n}}\n\n// Listen for the clearing of the current output cell\nvar outputEl = gd.closest('.output');\nif (outputEl) {{\n    x.observe(outputEl, {childList: true});\n}}\n\n                        })                };                            </script>        </div>\n</body>\n</html>"
     },
     "metadata": {},
     "output_type": "display_data"
    }
   ],
   "execution_count": null
  },
  {
   "cell_type": "code",
   "metadata": {
    "tags": [],
    "cell_id": "00155-6ef350b0-d529-4694-a7fe-6368027e89c8",
    "deepnote_to_be_reexecuted": false,
    "source_hash": "344ed1cd",
    "execution_start": 1640535864156,
    "execution_millis": 47,
    "deepnote_output_heights": [
     null,
     527
    ],
    "deepnote_cell_type": "code"
   },
   "source": "lr_score  = get_mae(Y_test, lr_model.predict(X_test))\nrr_score  = get_mae(Y_test, rr_model.predict(X_test))\n\nif lr_score < rr_score:\n    print( \"Lineární regrese je úspěšnější se score: {}\".format(lr_score))\n    plot_prediction_results(\"scikit linear regression\", Y_test, lr_model.predict(X_test))\nelse:\n    print(\"Hřebenová regrese je úspěšnější se score: {}\".format(rr_score))\n    plot_prediction_results(\"scikit ridge regression\", Y_test, rr_model.predict(X_test))",
   "outputs": [
    {
     "name": "stdout",
     "text": "Lineární regrese je úspěšnější se score: 1.1757428007699102\n",
     "output_type": "stream",
     "data": {}
    },
    {
     "data": {
      "text/html": "<html>\n<head><meta charset=\"utf-8\" /></head>\n<body>\n    <div>            <script src=\"https://cdnjs.cloudflare.com/ajax/libs/mathjax/2.7.5/MathJax.js?config=TeX-AMS-MML_SVG\"></script><script type=\"text/javascript\">if (window.MathJax) {MathJax.Hub.Config({SVG: {font: \"STIX-Web\"}});}</script>                <script type=\"text/javascript\">window.PlotlyConfig = {MathJaxConfig: 'local'};</script>\n        <script src=\"https://cdn.plot.ly/plotly-2.6.3.min.js\"></script>                <div id=\"64f52a04-a79f-42dd-a06b-da6307e5d365\" class=\"plotly-graph-div\" style=\"height:525px; width:100%;\"></div>            <script type=\"text/javascript\">                                    window.PLOTLYENV=window.PLOTLYENV || {};                                    if (document.getElementById(\"64f52a04-a79f-42dd-a06b-da6307e5d365\")) {                    Plotly.newPlot(                        \"64f52a04-a79f-42dd-a06b-da6307e5d365\",                        [{\"mode\":\"lines\",\"name\":\"y = \\u0177\",\"x\":[0,100],\"y\":[0,100],\"type\":\"scatter\"},{\"mode\":\"markers\",\"name\":\"(test, prediction)\",\"x\":[56.5,73.0,82.5,75.6,53.0,65.2,72.4,74.1,77.0,67.8,73.1,75.1,44.3,47.9,74.3,74.6,78.4,77.7,79.1,73.3,62.8,82.5,54.0,63.4,72.0,47.8,52.1,75.1,65.6,78.4,73.9,76.3,61.2,69.6,72.7,57.9,74.5,69.4,77.0,75.4,57.7,67.3,78.5,54.2,47.6,68.9,79.4,67.6,63.3,59.8,71.7,73.2,66.5,58.6,67.7,72.8,69.2,72.8,76.4,53.3,72.5,69.0,59.4,56.0,54.1,81.9,64.5,55.3,73.0,72.4,75.5,85.0,74.1,75.6,53.2,75.2,74.9,74.7,73.3,77.3,75.9,83.0,71.3,63.8,76.8,65.9,74.1,79.1,77.8,77.5,62.2,79.5,81.1,77.7,65.3,51.9,74.7,67.3,66.2,84.0,69.6,51.2,74.6,76.9,58.0,75.6,57.4,75.7,63.3,67.3,82.1,71.0,81.8,62.9,75.3,83.0,82.7,72.9,59.8,75.2,73.0,76.0,72.2,71.1,74.3,70.0,69.5,74.4,69.9,75.6,73.6,67.9,54.0,81.5,86.0,74.0,79.0,64.4,79.0,82.5,72.8,71.6,64.0,81.5,74.6,56.5,78.7,55.3,81.6,67.1,52.1,74.9,59.9,82.0,77.5,76.5,73.5,76.5,57.9,66.8,68.7,61.3,74.7,54.6,49.2,72.6,66.5,77.0,51.2,71.9,67.6,71.0,51.3,77.2,76.7,55.7,62.8,87.0,59.6,65.3,67.0,43.8,73.6,73.6,75.6,73.5,62.9,74.2,78.5,78.0,73.8,81.7,82.0,57.6,74.8,73.9,51.7,79.8,67.5,62.3,56.4,75.3,51.9,74.8,72.5,80.0,81.6,45.3,66.1,79.4,65.0,71.6,75.8,73.6,79.1,76.0,52.0,76.3,68.3,74.4,74.1,68.1,72.7,67.1,81.0,52.4,75.7,61.0,73.5,81.3,69.0,71.4,73.3,79.3,51.6,57.3,73.0,76.6,77.0,58.6,78.8,68.0,79.8,74.9,73.9,79.3,72.1,71.7,79.9,62.1,83.0,62.2,73.1,73.0,67.7,79.8,81.7,75.2,79.4,72.2,74.0,71.2,55.0,71.0,46.3,59.5,75.2,51.4,58.5,52.5,79.2,65.5,73.3,75.4,82.1,76.7,54.0,76.4,78.0,77.0,61.6,58.0,76.0,74.7,59.0,73.5,77.5,75.4,71.0,75.4,77.0,48.2,72.6,74.5,72.8,79.3,53.1,67.7,75.0,46.0,71.4,72.9,68.7,72.5,77.1,60.0,55.3,65.0,56.3,78.0,74.6,63.8,74.3,81.3,71.6,66.2,61.3,68.8,72.1,69.0,68.9,62.8,74.2,72.0,58.0,73.9,69.8,76.0,79.3,48.9,74.3,79.7,79.9,72.1,67.1,63.7,68.0,62.5,72.3,67.0,75.0,61.8,72.0,64.4,58.4,73.3,74.7,77.5,75.7,73.0,79.0,52.7,66.0,75.0,74.1,69.9,72.3,75.4,59.1,79.9,56.5,71.1,75.4,57.4,63.8,84.0,79.3,79.1,73.0,54.5,71.1,74.2,51.4,76.0,63.9,77.7,80.0,82.0,63.9,73.5,78.9,66.0,81.3,73.0,64.0,68.2,79.0,78.1,72.0,73.5,55.0,62.1,49.7,86.0,73.1,72.3,68.0,78.3,80.0,71.6,66.8,73.3,65.7,73.0,62.6,61.4,60.0,68.2,66.5,78.2,63.5,52.7,59.3,86.0,74.4,71.3,78.0,66.0,63.6,77.3,70.0,74.5,79.3,75.8,79.6,69.7,64.4,78.0,73.1,51.9,74.7,83.4,74.4,73.3,76.3,76.5,83.0,68.7,75.1,52.8,67.3,55.3,83.5,42.3,84.0,77.0,73.2,79.0,75.0,68.1,51.9,65.1,68.0,74.3,66.1,73.0,72.1,71.4,75.2,59.7,63.7,82.0,75.2,72.2,66.7,76.3,76.2,71.4,56.0,79.0,57.4,80.0,62.2,64.2,59.8,46.0,56.1,69.2,72.7,73.6,73.3,54.8,72.8,75.2,64.7,75.0,47.4,63.3,76.2,51.0,64.1,58.9,49.6,72.4,72.8,53.1,59.2,62.3,53.3,69.1,58.2,68.4,73.1,69.4,79.8,73.7,56.1,52.5,70.0,48.2,66.2,73.2,73.4,74.8,81.2,77.5,73.9,69.9,77.2,81.0,74.9,73.3,73.5,65.0,53.8,88.0,67.0,71.7,78.1,77.3,71.0,87.0,58.0,68.7,71.1,61.0,72.9,52.0,51.5,66.2,74.9,56.7,67.7,56.2,82.4,71.1,72.8,53.8,55.9,79.5,81.0,79.5,72.8,75.1,48.6,44.5,84.0,65.5,75.0,67.3,58.1,51.1,65.8,75.0,73.6,79.4,82.4,69.4,78.4,73.3,62.9,72.1,76.6,54.4,74.3,53.8,69.4,73.0,72.3,73.0,74.3,69.1,74.8,65.6,66.0,65.7,74.9,71.5,56.2,81.1,58.9,85.0,72.9,73.9,53.5,48.0,81.0,75.0,74.1,69.3,82.3,77.4,74.7,67.6,73.7,78.2,73.6,73.1,52.0,81.4,67.2,56.7,72.6,64.2,74.9,79.4,78.3,73.9,66.1,57.2,62.0,59.3,65.3,72.9,71.9,81.3,73.8,82.0,59.4,79.5,77.0,59.4,67.8,60.0,66.4,44.6,78.0,67.7,79.2,75.9,74.5,73.9,65.1,65.6,61.8,73.0,73.2,69.5,62.3,67.5,82.0,76.3,76.5,75.3,51.6,68.0,46.4,68.1,57.3,64.0,74.7,51.9,75.5,71.7,66.0,68.7,73.1,57.2,66.6,62.4,73.2,77.9,71.0,79.5,68.0,74.4,73.7,45.3,48.1,63.7,49.6,63.1,74.7,62.6,55.0,74.9,58.7,71.6,75.0,61.9,53.4,47.7,56.9,78.0,79.9,59.3,65.8,61.4,50.0,79.9,72.6,55.5,69.6,61.0,63.5,74.8,75.5,73.0,69.0,67.2,73.8,54.0,47.7,81.7,52.4,75.8,59.3,73.0,56.5,59.1,53.5,79.6,55.3,67.0,74.4,69.8,54.8,75.6,74.2,55.0,74.5,67.3],\"y\":[58.05167770385742,70.64454460144043,82.5821590423584,76.34093284606934,53.521867752075195,64.98337745666504,73.99286842346191,73.7564868927002,77.66824340820312,67.54351997375488,75.12095642089844,75.59542274475098,43.60890197753906,51.25112724304199,74.29387474060059,74.90178871154785,78.41073036193848,77.62435531616211,80.07004928588867,72.96154022216797,61.21457862854004,83.88025665283203,50.40052795410156,61.6985969543457,69.57361030578613,43.549543380737305,55.06356430053711,76.16824150085449,65.58705139160156,78.48366928100586,73.82758331298828,75.89209175109863,62.556901931762695,68.65249061584473,73.21088409423828,57.904056549072266,75.16123962402344,70.24014663696289,77.07450866699219,75.38441848754883,60.36798667907715,67.37472152709961,79.52287292480469,54.77941703796387,49.5023250579834,69.50988006591797,79.74884414672852,67.74267578125,65.39481544494629,59.900447845458984,70.57568359375,73.03680610656738,65.4875659942627,58.3569221496582,66.51528358459473,73.25246238708496,69.92155456542969,71.8204345703125,76.10091018676758,54.52329063415527,73.6135425567627,69.81893348693848,59.49675941467285,51.190860748291016,53.138681411743164,83.22174835205078,71.67837524414062,56.656959533691406,72.43780136108398,72.19906044006348,75.25799751281738,81.30825996398926,73.64960479736328,75.25683784484863,53.20611572265625,75.51278305053711,75.97018814086914,74.49032020568848,73.44124412536621,77.21241569519043,76.91726493835449,79.94840812683105,71.25108528137207,64.34744834899902,76.75665473937988,66.66415596008301,74.45983505249023,79.78807067871094,78.32180595397949,77.46606254577637,63.11841583251953,81.06792068481445,82.20643424987793,78.48041343688965,66.5286865234375,54.836809158325195,74.56706237792969,67.54669761657715,65.21729278564453,81.8040599822998,68.83304977416992,51.64003372192383,74.49210166931152,76.83074569702148,57.11647605895996,76.11450004577637,56.25606918334961,74.31845664978027,63.08393096923828,69.30549621582031,83.78055191040039,71.15060806274414,83.54043197631836,61.33732604980469,74.96826171875,80.53662490844727,84.54612731933594,73.83721923828125,60.18404197692871,75.4366283416748,71.80341720581055,77.31742858886719,72.75207138061523,70.37916946411133,74.95839500427246,70.7413215637207,71.10595703125,75.77548599243164,71.36935806274414,76.01458168029785,73.51039505004883,68.57709121704102,49.974985122680664,80.8076229095459,81.55827140808105,74.48274421691895,81.14860343933105,65.82114028930664,79.60223770141602,83.09077453613281,73.41904067993164,72.47634315490723,63.71168327331543,81.60220336914062,75.23482322692871,60.197893142700195,79.9143238067627,57.3814582824707,83.20302391052246,68.37480926513672,52.30692672729492,74.22780799865723,59.5994873046875,84.06314277648926,77.1800537109375,77.31281280517578,73.3432388305664,78.50432395935059,59.29732322692871,65.36327934265137,69.22649955749512,62.666372299194336,74.96455764770508,53.10712814331055,50.828622817993164,72.57985877990723,65.98298645019531,71.90028953552246,51.781917572021484,71.73490905761719,69.47226905822754,70.96984672546387,51.9997615814209,77.60454559326172,77.36211776733398,56.299848556518555,62.361764907836914,81.5792465209961,59.782630920410156,66.2483959197998,60.491960525512695,49.838571548461914,73.51925468444824,74.10799789428711,75.7409839630127,72.9280948638916,63.67594528198242,74.28629493713379,79.79328536987305,78.33799362182617,74.00436592102051,83.24256324768066,82.20602607727051,57.260854721069336,75.75989532470703,74.1693058013916,50.655447006225586,80.86661911010742,66.91178703308105,60.815542221069336,56.631813049316406,75.44033622741699,53.44951629638672,75.43760299682617,72.39331245422363,82.05972480773926,83.21761322021484,45.67537307739258,66.46199607849121,81.72254753112793,65.30390739440918,71.76592445373535,75.92174339294434,74.18219566345215,80.03802490234375,76.05170822143555,53.02368927001953,77.14511489868164,68.52239608764648,75.52340888977051,73.9609260559082,68.01963233947754,74.80338096618652,67.28323554992676,81.82836723327637,53.89958190917969,75.40467262268066,61.7535457611084,72.65225601196289,82.72293472290039,62.60884666442871,71.77775001525879,73.59732055664062,79.57209396362305,51.79010200500488,56.43754005432129,72.70232200622559,78.6855697631836,77.25551986694336,55.619441986083984,80.64959526062012,68.42481231689453,80.38767433166504,75.65031051635742,75.0250301361084,80.62069129943848,72.89752960205078,72.12018203735352,81.42788887023926,63.620704650878906,84.86579322814941,63.04417419433594,72.67239570617676,72.90037536621094,67.61302375793457,81.9187183380127,81.79014587402344,74.29871368408203,80.10177040100098,72.52460098266602,74.39839172363281,72.17831420898438,58.07577896118164,71.61371994018555,48.86737251281738,61.22115898132324,74.97274208068848,49.00713348388672,60.67451095581055,53.64532470703125,79.06615829467773,65.56052780151367,73.36263084411621,75.32901573181152,82.05202865600586,76.26601982116699,50.88547897338867,77.66132354736328,79.47457122802734,70.35948753356934,62.81472206115723,58.66212463378906,75.7040901184082,75.67526054382324,58.25969314575195,73.95434761047363,77.31180381774902,76.47974014282227,71.89364624023438,75.07232856750488,72.53274726867676,49.667348861694336,73.01500511169434,74.68588638305664,73.82060623168945,81.54437065124512,53.87782859802246,69.44881629943848,75.3425464630127,44.81899070739746,71.28316879272461,74.14444541931152,69.17785835266113,73.79165077209473,77.08034706115723,60.42544746398926,55.548912048339844,65.62685012817383,55.970550537109375,77.97980880737305,75.22408485412598,61.49773597717285,74.39578056335449,81.13671112060547,72.45495986938477,67.28396415710449,62.54509353637695,69.05745697021484,71.47674179077148,69.86068153381348,69.92233467102051,63.40347480773926,74.1880054473877,71.78268432617188,53.26486778259277,74.03669548034668,71.57708358764648,71.59841346740723,80.03600120544434,53.207794189453125,74.91565895080566,80.9305477142334,80.71062850952148,73.66842842102051,67.86301040649414,63.444522857666016,61.040164947509766,61.65131950378418,72.64274406433105,57.71338081359863,75.42304801940918,61.97324752807617,73.03872108459473,65.33011245727539,58.39862632751465,73.89281845092773,74.16561317443848,78.92718696594238,75.85967636108398,73.10642051696777,72.00458526611328,52.47115516662598,66.46311378479004,74.53250885009766,73.38654327392578,69.53767204284668,72.54194259643555,75.28091430664062,60.35356903076172,82.34556007385254,56.1886043548584,72.9856948852539,75.15570449829102,57.82143211364746,63.87934875488281,80.79125595092773,80.42918968200684,80.65310859680176,72.10205268859863,55.36477279663086,71.24333190917969,74.92133712768555,49.730865478515625,78.35249519348145,64.84356117248535,79.41408729553223,82.43820381164551,81.76635932922363,62.578792572021484,74.75212669372559,79.25359916687012,61.533599853515625,83.03767013549805,75.09500694274902,62.809017181396484,68.0468521118164,80.09083938598633,79.7423267364502,72.5996208190918,72.79902648925781,55.00552558898926,59.389177322387695,48.9003963470459,80.57888412475586,72.98052406311035,73.70780944824219,68.25885963439941,79.01220703125,80.91068267822266,69.92225456237793,69.61929893493652,72.52435111999512,67.38241004943848,70.56405639648438,62.33529472351074,62.84950637817383,60.24082374572754,68.2573127746582,69.43179130554199,79.50301170349121,63.39435958862305,53.88510704040527,56.44343185424805,80.77871322631836,74.15815925598145,67.21528625488281,71.70096397399902,66.14867782592773,71.96495056152344,77.72420120239258,71.12706184387207,74.47617149353027,80.20712089538574,76.94743728637695,81.22046852111816,70.93654251098633,71.42388153076172,80.00517845153809,72.86248016357422,51.93603706359863,74.6802864074707,84.3621654510498,74.02913284301758,73.59747695922852,76.47536659240723,77.46461868286133,81.27736282348633,67.41460037231445,75.44198608398438,53.79766845703125,67.43138694763184,55.71384620666504,84.77105140686035,43.93697547912598,81.44706344604492,71.99070930480957,75.44573211669922,72.9267406463623,71.30583953857422,68.00149154663086,52.37236022949219,65.06157112121582,67.55477905273438,75.21432304382324,66.55030059814453,69.54067039489746,71.36797523498535,72.72483444213867,75.45971488952637,60.53899383544922,64.44305229187012,82.69483757019043,76.09273529052734,71.9564323425293,65.7513427734375,75.17353248596191,76.21265411376953,71.97064018249512,51.39261054992676,71.5625,56.18719482421875,81.29035186767578,62.68622589111328,63.39874267578125,58.9611930847168,40.65183639526367,56.34835624694824,68.76117706298828,72.26419448852539,74.25859260559082,74.00499534606934,54.07787895202637,73.85703659057617,75.09072494506836,69.05986595153809,75.22033309936523,48.86596488952637,63.29110527038574,76.21023750305176,49.79817581176758,63.496620178222656,62.04059028625488,49.78994178771973,73.62634468078613,73.86381530761719,53.89301872253418,59.654476165771484,63.37277030944824,53.599836349487305,69.55284309387207,58.75569534301758,67.78346633911133,71.13373947143555,68.09793663024902,81.47958755493164,73.12869453430176,56.07073211669922,52.69845199584961,70.19367408752441,48.16345977783203,67.45473861694336,71.96360778808594,73.05823707580566,75.4192008972168,82.15547180175781,77.62090682983398,72.45944023132324,70.32074546813965,76.92990112304688,81.66550636291504,74.94196128845215,73.39422798156738,72.80254554748535,64.69922828674316,53.61153030395508,82.15307998657227,58.80422782897949,71.99564743041992,79.00056838989258,77.64906692504883,71.09445571899414,80.49955177307129,51.96609687805176,67.48446464538574,71.27808570861816,62.030412673950195,73.83944320678711,53.12186622619629,51.68011283874512,66.31988906860352,75.63907623291016,55.69173240661621,66.0091381072998,56.74159622192383,82.48754692077637,70.80144882202148,71.94784736633301,54.14819145202637,56.2884464263916,80.48055839538574,81.21680068969727,80.58860778808594,74.51337432861328,75.42464065551758,49.13900566101074,42.707279205322266,82.92682456970215,65.65418434143066,71.12567329406738,67.38589096069336,58.51808547973633,52.81011772155762,65.41709518432617,71.32069778442383,73.55672264099121,80.08480644226074,83.99013328552246,70.82171821594238,78.33663368225098,72.88714408874512,64.69640922546387,71.75961303710938,78.34138679504395,55.33669853210449,75.01198196411133,54.936174392700195,70.72358131408691,73.87618064880371,71.6819953918457,69.62594032287598,73.9519271850586,72.87501907348633,74.87592887878418,65.60009765625,60.88482666015625,65.77670860290527,74.97432708740234,70.50466346740723,55.3271541595459,82.69865798950195,58.51552391052246,81.64922904968262,72.35832595825195,74.4744644165039,53.93656539916992,48.72465896606445,82.22067451477051,68.3519229888916,73.66916847229004,68.53171920776367,83.02292251586914,78.03486824035645,75.0291976928711,67.42950630187988,73.15222549438477,78.32232284545898,73.2449893951416,73.68260765075684,52.40114974975586,82.51543617248535,68.79675674438477,55.97907829284668,72.04601287841797,64.56206321716309,75.56891822814941,80.97447967529297,80.17919540405273,75.32040786743164,66.26127815246582,58.73827934265137,62.007110595703125,60.109859466552734,63.82277488708496,74.5823745727539,72.92620468139648,82.75033950805664,72.42959213256836,80.20741081237793,61.03330421447754,80.75090408325195,70.3176326751709,59.64621353149414,68.92107200622559,59.766483306884766,66.43175888061523,45.6356315612793,79.30066108703613,68.70342826843262,81.40489196777344,76.83903884887695,74.94832420349121,74.46061515808105,67.10498046875,64.9186782836914,58.885934829711914,75.06365585327148,73.27695655822754,70.14804077148438,61.233577728271484,67.73993301391602,82.57404708862305,77.18894577026367,77.10898017883301,75.61935615539551,52.14752769470215,60.90767288208008,43.65448760986328,69.33049201965332,57.076148986816406,61.4747428894043,75.03220558166504,52.87162208557129,76.06656646728516,72.14551544189453,67.10657501220703,69.32536506652832,73.99024391174316,57.85834884643555,66.0949935913086,62.56930732727051,72.22195243835449,78.71591186523438,71.74710464477539,81.61046981811523,61.983154296875,74.54076385498047,74.62873458862305,45.63872146606445,51.018930435180664,64.21263694763184,52.52951431274414,63.15802192687988,73.71700859069824,60.858102798461914,55.85782814025879,75.11029815673828,61.72464179992676,71.92712783813477,75.19257926940918,62.970415115356445,56.62388801574707,47.44663429260254,58.83914375305176,67.06670951843262,80.4358081817627,59.61937713623047,67.56728172302246,59.543670654296875,49.2359733581543,80.21100234985352,72.35576057434082,55.265363693237305,69.53567695617676,61.10818862915039,63.01371192932129,74.51544380187988,76.85162353515625,72.02669715881348,70.51167297363281,67.44972229003906,73.26330184936523,54.42939376831055,46.5128059387207,83.26537895202637,53.00915336608887,76.26206588745117,56.73507881164551,70.82250785827637,55.96051216125488,60.41689109802246,54.9110221862793,81.54126739501953,56.81474494934082,68.99618721008301,74.26340103149414,71.14799880981445,55.97497749328613,76.51105308532715,75.37615013122559,55.47611999511719,74.9867172241211,67.51805686950684],\"type\":\"scatter\"}],                        {\"template\":{\"data\":{\"bar\":[{\"error_x\":{\"color\":\"#2a3f5f\"},\"error_y\":{\"color\":\"#2a3f5f\"},\"marker\":{\"line\":{\"color\":\"#E5ECF6\",\"width\":0.5},\"pattern\":{\"fillmode\":\"overlay\",\"size\":10,\"solidity\":0.2}},\"type\":\"bar\"}],\"barpolar\":[{\"marker\":{\"line\":{\"color\":\"#E5ECF6\",\"width\":0.5},\"pattern\":{\"fillmode\":\"overlay\",\"size\":10,\"solidity\":0.2}},\"type\":\"barpolar\"}],\"carpet\":[{\"aaxis\":{\"endlinecolor\":\"#2a3f5f\",\"gridcolor\":\"white\",\"linecolor\":\"white\",\"minorgridcolor\":\"white\",\"startlinecolor\":\"#2a3f5f\"},\"baxis\":{\"endlinecolor\":\"#2a3f5f\",\"gridcolor\":\"white\",\"linecolor\":\"white\",\"minorgridcolor\":\"white\",\"startlinecolor\":\"#2a3f5f\"},\"type\":\"carpet\"}],\"choropleth\":[{\"colorbar\":{\"outlinewidth\":0,\"ticks\":\"\"},\"type\":\"choropleth\"}],\"contour\":[{\"colorbar\":{\"outlinewidth\":0,\"ticks\":\"\"},\"colorscale\":[[0.0,\"#0d0887\"],[0.1111111111111111,\"#46039f\"],[0.2222222222222222,\"#7201a8\"],[0.3333333333333333,\"#9c179e\"],[0.4444444444444444,\"#bd3786\"],[0.5555555555555556,\"#d8576b\"],[0.6666666666666666,\"#ed7953\"],[0.7777777777777778,\"#fb9f3a\"],[0.8888888888888888,\"#fdca26\"],[1.0,\"#f0f921\"]],\"type\":\"contour\"}],\"contourcarpet\":[{\"colorbar\":{\"outlinewidth\":0,\"ticks\":\"\"},\"type\":\"contourcarpet\"}],\"heatmap\":[{\"colorbar\":{\"outlinewidth\":0,\"ticks\":\"\"},\"colorscale\":[[0.0,\"#0d0887\"],[0.1111111111111111,\"#46039f\"],[0.2222222222222222,\"#7201a8\"],[0.3333333333333333,\"#9c179e\"],[0.4444444444444444,\"#bd3786\"],[0.5555555555555556,\"#d8576b\"],[0.6666666666666666,\"#ed7953\"],[0.7777777777777778,\"#fb9f3a\"],[0.8888888888888888,\"#fdca26\"],[1.0,\"#f0f921\"]],\"type\":\"heatmap\"}],\"heatmapgl\":[{\"colorbar\":{\"outlinewidth\":0,\"ticks\":\"\"},\"colorscale\":[[0.0,\"#0d0887\"],[0.1111111111111111,\"#46039f\"],[0.2222222222222222,\"#7201a8\"],[0.3333333333333333,\"#9c179e\"],[0.4444444444444444,\"#bd3786\"],[0.5555555555555556,\"#d8576b\"],[0.6666666666666666,\"#ed7953\"],[0.7777777777777778,\"#fb9f3a\"],[0.8888888888888888,\"#fdca26\"],[1.0,\"#f0f921\"]],\"type\":\"heatmapgl\"}],\"histogram\":[{\"marker\":{\"pattern\":{\"fillmode\":\"overlay\",\"size\":10,\"solidity\":0.2}},\"type\":\"histogram\"}],\"histogram2d\":[{\"colorbar\":{\"outlinewidth\":0,\"ticks\":\"\"},\"colorscale\":[[0.0,\"#0d0887\"],[0.1111111111111111,\"#46039f\"],[0.2222222222222222,\"#7201a8\"],[0.3333333333333333,\"#9c179e\"],[0.4444444444444444,\"#bd3786\"],[0.5555555555555556,\"#d8576b\"],[0.6666666666666666,\"#ed7953\"],[0.7777777777777778,\"#fb9f3a\"],[0.8888888888888888,\"#fdca26\"],[1.0,\"#f0f921\"]],\"type\":\"histogram2d\"}],\"histogram2dcontour\":[{\"colorbar\":{\"outlinewidth\":0,\"ticks\":\"\"},\"colorscale\":[[0.0,\"#0d0887\"],[0.1111111111111111,\"#46039f\"],[0.2222222222222222,\"#7201a8\"],[0.3333333333333333,\"#9c179e\"],[0.4444444444444444,\"#bd3786\"],[0.5555555555555556,\"#d8576b\"],[0.6666666666666666,\"#ed7953\"],[0.7777777777777778,\"#fb9f3a\"],[0.8888888888888888,\"#fdca26\"],[1.0,\"#f0f921\"]],\"type\":\"histogram2dcontour\"}],\"mesh3d\":[{\"colorbar\":{\"outlinewidth\":0,\"ticks\":\"\"},\"type\":\"mesh3d\"}],\"parcoords\":[{\"line\":{\"colorbar\":{\"outlinewidth\":0,\"ticks\":\"\"}},\"type\":\"parcoords\"}],\"pie\":[{\"automargin\":true,\"type\":\"pie\"}],\"scatter\":[{\"marker\":{\"colorbar\":{\"outlinewidth\":0,\"ticks\":\"\"}},\"type\":\"scatter\"}],\"scatter3d\":[{\"line\":{\"colorbar\":{\"outlinewidth\":0,\"ticks\":\"\"}},\"marker\":{\"colorbar\":{\"outlinewidth\":0,\"ticks\":\"\"}},\"type\":\"scatter3d\"}],\"scattercarpet\":[{\"marker\":{\"colorbar\":{\"outlinewidth\":0,\"ticks\":\"\"}},\"type\":\"scattercarpet\"}],\"scattergeo\":[{\"marker\":{\"colorbar\":{\"outlinewidth\":0,\"ticks\":\"\"}},\"type\":\"scattergeo\"}],\"scattergl\":[{\"marker\":{\"colorbar\":{\"outlinewidth\":0,\"ticks\":\"\"}},\"type\":\"scattergl\"}],\"scattermapbox\":[{\"marker\":{\"colorbar\":{\"outlinewidth\":0,\"ticks\":\"\"}},\"type\":\"scattermapbox\"}],\"scatterpolar\":[{\"marker\":{\"colorbar\":{\"outlinewidth\":0,\"ticks\":\"\"}},\"type\":\"scatterpolar\"}],\"scatterpolargl\":[{\"marker\":{\"colorbar\":{\"outlinewidth\":0,\"ticks\":\"\"}},\"type\":\"scatterpolargl\"}],\"scatterternary\":[{\"marker\":{\"colorbar\":{\"outlinewidth\":0,\"ticks\":\"\"}},\"type\":\"scatterternary\"}],\"surface\":[{\"colorbar\":{\"outlinewidth\":0,\"ticks\":\"\"},\"colorscale\":[[0.0,\"#0d0887\"],[0.1111111111111111,\"#46039f\"],[0.2222222222222222,\"#7201a8\"],[0.3333333333333333,\"#9c179e\"],[0.4444444444444444,\"#bd3786\"],[0.5555555555555556,\"#d8576b\"],[0.6666666666666666,\"#ed7953\"],[0.7777777777777778,\"#fb9f3a\"],[0.8888888888888888,\"#fdca26\"],[1.0,\"#f0f921\"]],\"type\":\"surface\"}],\"table\":[{\"cells\":{\"fill\":{\"color\":\"#EBF0F8\"},\"line\":{\"color\":\"white\"}},\"header\":{\"fill\":{\"color\":\"#C8D4E3\"},\"line\":{\"color\":\"white\"}},\"type\":\"table\"}]},\"layout\":{\"annotationdefaults\":{\"arrowcolor\":\"#2a3f5f\",\"arrowhead\":0,\"arrowwidth\":1},\"autotypenumbers\":\"strict\",\"coloraxis\":{\"colorbar\":{\"outlinewidth\":0,\"ticks\":\"\"}},\"colorscale\":{\"diverging\":[[0,\"#8e0152\"],[0.1,\"#c51b7d\"],[0.2,\"#de77ae\"],[0.3,\"#f1b6da\"],[0.4,\"#fde0ef\"],[0.5,\"#f7f7f7\"],[0.6,\"#e6f5d0\"],[0.7,\"#b8e186\"],[0.8,\"#7fbc41\"],[0.9,\"#4d9221\"],[1,\"#276419\"]],\"sequential\":[[0.0,\"#0d0887\"],[0.1111111111111111,\"#46039f\"],[0.2222222222222222,\"#7201a8\"],[0.3333333333333333,\"#9c179e\"],[0.4444444444444444,\"#bd3786\"],[0.5555555555555556,\"#d8576b\"],[0.6666666666666666,\"#ed7953\"],[0.7777777777777778,\"#fb9f3a\"],[0.8888888888888888,\"#fdca26\"],[1.0,\"#f0f921\"]],\"sequentialminus\":[[0.0,\"#0d0887\"],[0.1111111111111111,\"#46039f\"],[0.2222222222222222,\"#7201a8\"],[0.3333333333333333,\"#9c179e\"],[0.4444444444444444,\"#bd3786\"],[0.5555555555555556,\"#d8576b\"],[0.6666666666666666,\"#ed7953\"],[0.7777777777777778,\"#fb9f3a\"],[0.8888888888888888,\"#fdca26\"],[1.0,\"#f0f921\"]]},\"colorway\":[\"#636efa\",\"#EF553B\",\"#00cc96\",\"#ab63fa\",\"#FFA15A\",\"#19d3f3\",\"#FF6692\",\"#B6E880\",\"#FF97FF\",\"#FECB52\"],\"font\":{\"color\":\"#2a3f5f\"},\"geo\":{\"bgcolor\":\"white\",\"lakecolor\":\"white\",\"landcolor\":\"#E5ECF6\",\"showlakes\":true,\"showland\":true,\"subunitcolor\":\"white\"},\"hoverlabel\":{\"align\":\"left\"},\"hovermode\":\"closest\",\"mapbox\":{\"style\":\"light\"},\"paper_bgcolor\":\"white\",\"plot_bgcolor\":\"#E5ECF6\",\"polar\":{\"angularaxis\":{\"gridcolor\":\"white\",\"linecolor\":\"white\",\"ticks\":\"\"},\"bgcolor\":\"#E5ECF6\",\"radialaxis\":{\"gridcolor\":\"white\",\"linecolor\":\"white\",\"ticks\":\"\"}},\"scene\":{\"xaxis\":{\"backgroundcolor\":\"#E5ECF6\",\"gridcolor\":\"white\",\"gridwidth\":2,\"linecolor\":\"white\",\"showbackground\":true,\"ticks\":\"\",\"zerolinecolor\":\"white\"},\"yaxis\":{\"backgroundcolor\":\"#E5ECF6\",\"gridcolor\":\"white\",\"gridwidth\":2,\"linecolor\":\"white\",\"showbackground\":true,\"ticks\":\"\",\"zerolinecolor\":\"white\"},\"zaxis\":{\"backgroundcolor\":\"#E5ECF6\",\"gridcolor\":\"white\",\"gridwidth\":2,\"linecolor\":\"white\",\"showbackground\":true,\"ticks\":\"\",\"zerolinecolor\":\"white\"}},\"shapedefaults\":{\"line\":{\"color\":\"#2a3f5f\"}},\"ternary\":{\"aaxis\":{\"gridcolor\":\"white\",\"linecolor\":\"white\",\"ticks\":\"\"},\"baxis\":{\"gridcolor\":\"white\",\"linecolor\":\"white\",\"ticks\":\"\"},\"bgcolor\":\"#E5ECF6\",\"caxis\":{\"gridcolor\":\"white\",\"linecolor\":\"white\",\"ticks\":\"\"}},\"title\":{\"x\":0.05},\"xaxis\":{\"automargin\":true,\"gridcolor\":\"white\",\"linecolor\":\"white\",\"ticks\":\"\",\"title\":{\"standoff\":15},\"zerolinecolor\":\"white\",\"zerolinewidth\":2},\"yaxis\":{\"automargin\":true,\"gridcolor\":\"white\",\"linecolor\":\"white\",\"ticks\":\"\",\"title\":{\"standoff\":15},\"zerolinecolor\":\"white\",\"zerolinewidth\":2}}},\"title\":{\"text\":\"Visualization of predictions | scikit linear regression | MAE: 1.1757428007699102\"},\"xaxis\":{\"title\":{\"text\":\"Real values\"},\"range\":[0,100],\"scaleratio\":1},\"yaxis\":{\"title\":{\"text\":\"Predicted values\"},\"range\":[0,100],\"scaleratio\":1}},                        {\"responsive\": true}                    ).then(function(){\n                            \nvar gd = document.getElementById('64f52a04-a79f-42dd-a06b-da6307e5d365');\nvar x = new MutationObserver(function (mutations, observer) {{\n        var display = window.getComputedStyle(gd).display;\n        if (!display || display === 'none') {{\n            console.log([gd, 'removed!']);\n            Plotly.purge(gd);\n            observer.disconnect();\n        }}\n}});\n\n// Listen for the removal of the full notebook cells\nvar notebookContainer = gd.closest('#notebook-container');\nif (notebookContainer) {{\n    x.observe(notebookContainer, {childList: true});\n}}\n\n// Listen for the clearing of the current output cell\nvar outputEl = gd.closest('.output');\nif (outputEl) {{\n    x.observe(outputEl, {childList: true});\n}}\n\n                        })                };                            </script>        </div>\n</body>\n</html>"
     },
     "metadata": {},
     "output_type": "display_data"
    }
   ],
   "execution_count": null
  },
  {
   "cell_type": "markdown",
   "source": "## 6. Použijte i jiné modely (alespoň jeden) ukazované v předmětu VZD či i jiné, pokud víte, jak fungují.",
   "metadata": {
    "tags": [],
    "cell_id": "00157-9a15e972-714d-4439-a01e-74fac2168ecc",
    "deepnote_cell_type": "markdown"
   }
  },
  {
   "cell_type": "markdown",
   "source": "* Jakožto první alternativní model použiju DecisionTreeRegressor s laděnou hloubkou pomocí metriky MAE.",
   "metadata": {
    "tags": [],
    "cell_id": "00158-56b45454-4298-4e26-937c-dd37dff874bc",
    "deepnote_cell_type": "markdown"
   }
  },
  {
   "cell_type": "code",
   "metadata": {
    "tags": [],
    "cell_id": "00158-57f337a7-5d61-4b77-a942-d85b30a18c9b",
    "deepnote_to_be_reexecuted": false,
    "source_hash": "3dc91d3d",
    "execution_start": 1640535864210,
    "execution_millis": 722,
    "deepnote_output_heights": [
     21.1875,
     21.1875
    ],
    "deepnote_cell_type": "code"
   },
   "source": "from sklearn.tree import DecisionTreeRegressor\nfrom sklearn.model_selection import train_test_split\n\nrd_seed = 228\n\nbest_depth=5\nbest_mae=999\n\nfor depth in range(1, 15, 1):\n    dt = DecisionTreeRegressor(max_depth=depth)\n    dt.fit(X, Y)\n    \n    if get_mae(Y_test, dt.predict(X_test)) < best_mae:\n        best_depth = depth\n        best_mae = get_mae(Y_test, dt.predict(X_test))",
   "outputs": [],
   "execution_count": null
  },
  {
   "cell_type": "code",
   "metadata": {
    "tags": [],
    "cell_id": "00159-243cb62d-7dc1-4c28-960c-91b3208cbb84",
    "deepnote_to_be_reexecuted": false,
    "source_hash": "23c845d2",
    "execution_start": 1640535864947,
    "execution_millis": 81,
    "deepnote_output_heights": [
     527
    ],
    "deepnote_cell_type": "code"
   },
   "source": "dt = DecisionTreeRegressor(max_depth=best_depth)\ndt.fit(X, Y)\n\nplot_prediction_results(\"DecisionTreeRegressor\", Y_test, dt.predict(X_test))",
   "outputs": [
    {
     "data": {
      "text/html": "<html>\n<head><meta charset=\"utf-8\" /></head>\n<body>\n    <div>            <script src=\"https://cdnjs.cloudflare.com/ajax/libs/mathjax/2.7.5/MathJax.js?config=TeX-AMS-MML_SVG\"></script><script type=\"text/javascript\">if (window.MathJax) {MathJax.Hub.Config({SVG: {font: \"STIX-Web\"}});}</script>                <script type=\"text/javascript\">window.PlotlyConfig = {MathJaxConfig: 'local'};</script>\n        <script src=\"https://cdn.plot.ly/plotly-2.6.3.min.js\"></script>                <div id=\"efb61498-b66f-470c-8af0-f134170e73c3\" class=\"plotly-graph-div\" style=\"height:525px; width:100%;\"></div>            <script type=\"text/javascript\">                                    window.PLOTLYENV=window.PLOTLYENV || {};                                    if (document.getElementById(\"efb61498-b66f-470c-8af0-f134170e73c3\")) {                    Plotly.newPlot(                        \"efb61498-b66f-470c-8af0-f134170e73c3\",                        [{\"mode\":\"lines\",\"name\":\"y = \\u0177\",\"x\":[0,100],\"y\":[0,100],\"type\":\"scatter\"},{\"mode\":\"markers\",\"name\":\"(test, prediction)\",\"x\":[56.5,73.0,82.5,75.6,53.0,65.2,72.4,74.1,77.0,67.8,73.1,75.1,44.3,47.9,74.3,74.6,78.4,77.7,79.1,73.3,62.8,82.5,54.0,63.4,72.0,47.8,52.1,75.1,65.6,78.4,73.9,76.3,61.2,69.6,72.7,57.9,74.5,69.4,77.0,75.4,57.7,67.3,78.5,54.2,47.6,68.9,79.4,67.6,63.3,59.8,71.7,73.2,66.5,58.6,67.7,72.8,69.2,72.8,76.4,53.3,72.5,69.0,59.4,56.0,54.1,81.9,64.5,55.3,73.0,72.4,75.5,85.0,74.1,75.6,53.2,75.2,74.9,74.7,73.3,77.3,75.9,83.0,71.3,63.8,76.8,65.9,74.1,79.1,77.8,77.5,62.2,79.5,81.1,77.7,65.3,51.9,74.7,67.3,66.2,84.0,69.6,51.2,74.6,76.9,58.0,75.6,57.4,75.7,63.3,67.3,82.1,71.0,81.8,62.9,75.3,83.0,82.7,72.9,59.8,75.2,73.0,76.0,72.2,71.1,74.3,70.0,69.5,74.4,69.9,75.6,73.6,67.9,54.0,81.5,86.0,74.0,79.0,64.4,79.0,82.5,72.8,71.6,64.0,81.5,74.6,56.5,78.7,55.3,81.6,67.1,52.1,74.9,59.9,82.0,77.5,76.5,73.5,76.5,57.9,66.8,68.7,61.3,74.7,54.6,49.2,72.6,66.5,77.0,51.2,71.9,67.6,71.0,51.3,77.2,76.7,55.7,62.8,87.0,59.6,65.3,67.0,43.8,73.6,73.6,75.6,73.5,62.9,74.2,78.5,78.0,73.8,81.7,82.0,57.6,74.8,73.9,51.7,79.8,67.5,62.3,56.4,75.3,51.9,74.8,72.5,80.0,81.6,45.3,66.1,79.4,65.0,71.6,75.8,73.6,79.1,76.0,52.0,76.3,68.3,74.4,74.1,68.1,72.7,67.1,81.0,52.4,75.7,61.0,73.5,81.3,69.0,71.4,73.3,79.3,51.6,57.3,73.0,76.6,77.0,58.6,78.8,68.0,79.8,74.9,73.9,79.3,72.1,71.7,79.9,62.1,83.0,62.2,73.1,73.0,67.7,79.8,81.7,75.2,79.4,72.2,74.0,71.2,55.0,71.0,46.3,59.5,75.2,51.4,58.5,52.5,79.2,65.5,73.3,75.4,82.1,76.7,54.0,76.4,78.0,77.0,61.6,58.0,76.0,74.7,59.0,73.5,77.5,75.4,71.0,75.4,77.0,48.2,72.6,74.5,72.8,79.3,53.1,67.7,75.0,46.0,71.4,72.9,68.7,72.5,77.1,60.0,55.3,65.0,56.3,78.0,74.6,63.8,74.3,81.3,71.6,66.2,61.3,68.8,72.1,69.0,68.9,62.8,74.2,72.0,58.0,73.9,69.8,76.0,79.3,48.9,74.3,79.7,79.9,72.1,67.1,63.7,68.0,62.5,72.3,67.0,75.0,61.8,72.0,64.4,58.4,73.3,74.7,77.5,75.7,73.0,79.0,52.7,66.0,75.0,74.1,69.9,72.3,75.4,59.1,79.9,56.5,71.1,75.4,57.4,63.8,84.0,79.3,79.1,73.0,54.5,71.1,74.2,51.4,76.0,63.9,77.7,80.0,82.0,63.9,73.5,78.9,66.0,81.3,73.0,64.0,68.2,79.0,78.1,72.0,73.5,55.0,62.1,49.7,86.0,73.1,72.3,68.0,78.3,80.0,71.6,66.8,73.3,65.7,73.0,62.6,61.4,60.0,68.2,66.5,78.2,63.5,52.7,59.3,86.0,74.4,71.3,78.0,66.0,63.6,77.3,70.0,74.5,79.3,75.8,79.6,69.7,64.4,78.0,73.1,51.9,74.7,83.4,74.4,73.3,76.3,76.5,83.0,68.7,75.1,52.8,67.3,55.3,83.5,42.3,84.0,77.0,73.2,79.0,75.0,68.1,51.9,65.1,68.0,74.3,66.1,73.0,72.1,71.4,75.2,59.7,63.7,82.0,75.2,72.2,66.7,76.3,76.2,71.4,56.0,79.0,57.4,80.0,62.2,64.2,59.8,46.0,56.1,69.2,72.7,73.6,73.3,54.8,72.8,75.2,64.7,75.0,47.4,63.3,76.2,51.0,64.1,58.9,49.6,72.4,72.8,53.1,59.2,62.3,53.3,69.1,58.2,68.4,73.1,69.4,79.8,73.7,56.1,52.5,70.0,48.2,66.2,73.2,73.4,74.8,81.2,77.5,73.9,69.9,77.2,81.0,74.9,73.3,73.5,65.0,53.8,88.0,67.0,71.7,78.1,77.3,71.0,87.0,58.0,68.7,71.1,61.0,72.9,52.0,51.5,66.2,74.9,56.7,67.7,56.2,82.4,71.1,72.8,53.8,55.9,79.5,81.0,79.5,72.8,75.1,48.6,44.5,84.0,65.5,75.0,67.3,58.1,51.1,65.8,75.0,73.6,79.4,82.4,69.4,78.4,73.3,62.9,72.1,76.6,54.4,74.3,53.8,69.4,73.0,72.3,73.0,74.3,69.1,74.8,65.6,66.0,65.7,74.9,71.5,56.2,81.1,58.9,85.0,72.9,73.9,53.5,48.0,81.0,75.0,74.1,69.3,82.3,77.4,74.7,67.6,73.7,78.2,73.6,73.1,52.0,81.4,67.2,56.7,72.6,64.2,74.9,79.4,78.3,73.9,66.1,57.2,62.0,59.3,65.3,72.9,71.9,81.3,73.8,82.0,59.4,79.5,77.0,59.4,67.8,60.0,66.4,44.6,78.0,67.7,79.2,75.9,74.5,73.9,65.1,65.6,61.8,73.0,73.2,69.5,62.3,67.5,82.0,76.3,76.5,75.3,51.6,68.0,46.4,68.1,57.3,64.0,74.7,51.9,75.5,71.7,66.0,68.7,73.1,57.2,66.6,62.4,73.2,77.9,71.0,79.5,68.0,74.4,73.7,45.3,48.1,63.7,49.6,63.1,74.7,62.6,55.0,74.9,58.7,71.6,75.0,61.9,53.4,47.7,56.9,78.0,79.9,59.3,65.8,61.4,50.0,79.9,72.6,55.5,69.6,61.0,63.5,74.8,75.5,73.0,69.0,67.2,73.8,54.0,47.7,81.7,52.4,75.8,59.3,73.0,56.5,59.1,53.5,79.6,55.3,67.0,74.4,69.8,54.8,75.6,74.2,55.0,74.5,67.3],\"y\":[54.8,77.0,82.79166666666664,76.75555555555556,52.63333333333333,64.8,73.87000000000002,74.2,74.31780821917806,66.6,73.87000000000002,74.31780821917806,36.3,50.0,72.83238636363633,74.31780821917806,78.0,77.8,86.0,72.83238636363633,58.275,82.79166666666664,58.0,62.9,71.0,50.0,52.1,74.31780821917806,66.0,80.55199999999999,72.83238636363633,72.83238636363633,61.8,69.3,73.87000000000002,57.99999999999999,73.87000000000002,69.3,77.1,72.83238636363633,63.0,67.3,78.0,55.0,48.42,68.2,79.8,68.3,66.9,58.175000000000004,73.42647058823528,74.31780821917806,67.6,59.4,72.83238636363633,73.87000000000002,68.53846153846153,74.14,75.85263157894735,57.6,72.83238636363633,69.1,64.8,51.0,52.2,81.92075471698114,64.0,56.888888888888886,74.14,74.31780821917806,74.775,89.0,74.31780821917806,76.1,52.6,74.31780821917806,74.31780821917806,73.87000000000002,74.31780821917806,76.75555555555556,76.1,82.0,71.2,63.2,75.5,65.75,74.31780821917806,78.9,76.75555555555556,77.8,64.0,79.50000000000001,81.92075471698114,77.1,64.6,49.8,74.31780821917806,66.89999999999999,66.8,81.0,69.4,55.0,74.31780821917806,74.31780821917806,56.6,74.58,61.6,72.83238636363633,61.81666666666666,66.8,81.92075471698114,76.2,81.92075471698114,62.0,75.8,86.0,82.79166666666664,72.51250000000002,58.7,74.58,76.0,72.83238636363633,72.16,72.83238636363633,72.83238636363633,69.05,72.83238636363633,73.87000000000002,71.0,74.31780821917806,72.83238636363633,68.53846153846153,62.845454545454544,81.8,82.79166666666664,74.31780821917806,79.03750000000001,64.7,79.03750000000001,81.92075471698114,73.87000000000002,72.18,65.1,81.92075471698114,74.9,58.4,80.0,62.0,81.92075471698114,63.9,52.63333333333333,75.1,64.0,81.92075471698114,77.6,76.75555555555556,72.51250000000002,75.9,55.0,66.89999999999999,68.0,65.2,74.31780821917806,54.03846153846154,51.3,77.0,67.4,72.83238636363633,51.1,72.51250000000002,67.5,68.6,52.01818181818182,74.31780821917806,76.1,57.9,61.925,81.06666666666666,61.1,67.88571428571429,63.8,44.6,72.83238636363633,74.45,73.87000000000002,73.0,62.845454545454544,74.31780821917806,78.78,78.0,72.51250000000002,81.92075471698114,81.1,58.175000000000004,74.9,74.4,52.3,78.80000000000001,67.4,64.0,58.175000000000004,75.7,53.59166666666667,74.0,72.83238636363633,80.5,81.92075471698114,45.7,66.89999999999999,81.92075471698114,64.2,72.83238636363633,75.6,73.5,79.03750000000001,75.85263157894735,53.59166666666667,76.2,68.53846153846153,74.4,74.9,68.3,73.87000000000002,67.3,81.1,53.59166666666667,74.31780821917806,63.35,73.25,82.79166666666664,62.4,74.31780821917806,73.87000000000002,79.03750000000001,55.0,56.888888888888886,72.175,77.225,77.1,58.9,78.80000000000001,68.0375,78.80000000000001,74.31780821917806,74.31780821917806,79.03750000000001,72.83238636363633,72.83238636363633,89.0,61.8,82.79166666666664,61.1,72.51250000000002,72.83238636363633,67.88571428571429,80.55199999999999,81.92075471698114,75.85263157894735,78.80000000000001,72.51250000000002,72.83238636363633,72.83238636363633,53.6,71.8,45.6,63.3,74.31780821917806,53.6,63.0,53.59166666666667,80.55199999999999,65.9,72.175,76.75555555555556,81.1,72.83238636363633,56.425,76.975,78.0,72.83238636363633,61.81666666666666,57.99999999999999,75.85263157894735,74.31780821917806,59.9,73.87000000000002,76.75555555555556,74.31780821917806,76.0,75.65,76.0,49.6,72.51250000000002,72.83238636363633,72.83238636363633,77.8,53.6,67.5,73.87000000000002,48.42,71.2,74.31780821917806,68.6,72.51250000000002,77.3,67.0,59.333333333333336,64.5,57.05,77.1,74.4,69.9,73.87000000000002,81.92075471698114,72.3625,68.2,61.81666666666666,68.53846153846153,72.16,68.9,68.0375,64.7,72.83238636363633,72.83238636363633,51.5,74.31780821917806,72.83238636363633,72.83238636363633,79.1,55.0,74.31780821917806,80.5,78.80000000000001,72.51250000000002,66.89999999999999,62.9,58.175000000000004,61.925,72.83238636363633,58.4,74.4,62.0,72.83238636363633,64.9,56.888888888888886,72.83238636363633,74.31780821917806,78.13333333333334,74.31780821917806,74.31780821917806,79.0,55.0,65.2,74.31780821917806,74.9,65.69999999999999,72.83238636363633,75.65,58.8,82.79166666666664,56.36,78.0,75.6,58.175000000000004,63.65909090909091,79.03750000000001,82.79166666666664,82.79166666666664,72.83238636363633,54.0,74.31780821917806,74.31780821917806,54.03846153846154,77.6,64.4,77.225,80.55199999999999,80.55199999999999,64.2,74.31780821917806,80.55199999999999,69.0,81.92075471698114,74.31780821917806,64.3,67.5,79.03750000000001,78.80000000000001,72.83238636363633,74.31780821917806,54.7,62.5,48.9,85.0,74.31780821917806,72.51250000000002,66.89999999999999,79.03750000000001,79.8,65.8,70.375,74.31780821917806,71.0,74.31780821917806,65.1,62.4,59.5,72.83238636363633,68.53846153846153,78.80000000000001,62.845454545454544,52.01818181818182,58.9,81.0,72.83238636363633,71.0,72.83238636363633,66.89999999999999,72.83238636363633,77.75,76.2,74.4,79.03750000000001,74.31780821917806,81.92075471698114,69.1,64.8,78.13333333333334,72.83238636363633,52.16363636363637,74.4,82.79166666666664,74.9,74.31780821917806,76.8,76.75555555555556,80.55199999999999,69.3,73.87000000000002,62.0,67.88571428571429,56.888888888888886,82.79166666666664,44.3,80.55199999999999,72.51250000000002,73.87000000000002,72.83238636363633,71.8,69.6,52.16363636363637,64.65,68.3,76.7,65.1,72.18,72.83238636363633,71.9,75.8,48.9,63.65909090909091,81.92075471698114,74.31780821917806,72.83238636363633,67.88571428571429,76.4,75.85263157894735,73.42647058823528,52.01818181818182,77.0,57.99999999999999,81.0,61.1,64.8,59.7,45.3,56.888888888888886,68.9,72.83238636363633,73.87000000000002,74.31780821917806,55.9,72.83238636363633,74.775,65.9,72.83238636363633,47.400000000000006,64.5,76.35,52.01818181818182,64.3,58.4,53.6,72.83238636363633,72.3,51.0,58.175000000000004,62.8,52.3,68.6,57.5,68.0,72.18,69.8,80.55199999999999,74.14,56.36,52.63333333333333,69.8,48.7,71.0,72.83238636363633,72.83238636363633,74.31780821917806,88.0,77.6,73.42647058823528,72.83238636363633,77.8,84.0,74.4,72.83238636363633,73.42647058823528,65.375,53.7,81.1,60.0,75.65,78.0,76.9,78.0,79.03750000000001,51.1,68.3,78.0,61.81666666666666,73.87000000000002,51.6,52.4,66.0,74.31780821917806,57.3,67.8,58.175000000000004,81.1,71.2,74.31780821917806,54.3,58.175000000000004,79.50000000000001,81.92075471698114,82.79166666666664,73.87000000000002,74.31780821917806,47.6,45.5,83.0,65.1,73.0,67.5,52.01818181818182,52.2,66.1,72.18,73.87000000000002,76.6,82.79166666666664,67.5,79.03750000000001,74.14,64.8,73.87000000000002,74.4,53.980000000000004,74.31780821917806,53.980000000000004,74.31780821917806,73.42647058823528,72.83238636363633,66.2,73.87000000000002,69.05,76.0,65.4,58.175000000000004,66.0,74.31780821917806,71.5,56.9,82.79166666666664,62.0,86.5,72.83238636363633,74.1,52.63333333333333,49.2,84.0,74.31780821917806,72.51250000000002,69.6,82.79166666666664,76.975,74.31780821917806,71.2,73.9,78.1,73.42647058823528,74.31780821917806,52.3,82.79166666666664,68.0375,56.888888888888886,72.83238636363633,63.65909090909091,74.9,79.50000000000001,78.4,72.83238636363633,66.4,57.6,69.0,58.7,65.1,73.87000000000002,72.1,82.79166666666664,72.83238636363633,79.03750000000001,55.9,80.55199999999999,72.83238636363633,57.99999999999999,72.83238636363633,57.0,66.0,45.3,78.13333333333334,68.0375,79.03750000000001,72.83238636363633,72.83238636363633,73.87000000000002,71.0,64.5,61.8,73.87000000000002,74.31780821917806,69.5,62.4,66.89999999999999,82.79166666666664,76.1,76.1,74.31780821917806,52.2,64.0,47.1,66.89999999999999,51.1,69.0,72.83238636363633,52.4,74.31780821917806,71.9,64.6,68.8,73.4,54.03846153846154,76.0,61.7,74.31780821917806,76.7,71.7,80.55199999999999,61.1,74.31780821917806,73.8,56.888888888888886,51.7,64.1,54.1,62.845454545454544,74.31780821917806,62.9,54.53333333333333,73.87000000000002,59.6,74.31780821917806,72.83238636363633,61.1,56.425,48.0,53.980000000000004,74.31780821917806,78.80000000000001,58.175000000000004,65.7,58.1,52.6,83.0,73.42647058823528,56.3,69.6,62.845454545454544,63.65909090909091,73.87000000000002,74.31780821917806,74.31780821917806,68.53846153846153,66.54285714285714,72.51250000000002,54.3,47.4,80.55199999999999,53.6,74.31780821917806,56.3,76.0,56.888888888888886,58.6,53.980000000000004,78.80000000000001,57.99999999999999,67.65,72.83238636363633,69.4,51.5,75.7,74.31780821917806,54.8,74.9,66.6],\"type\":\"scatter\"}],                        {\"template\":{\"data\":{\"bar\":[{\"error_x\":{\"color\":\"#2a3f5f\"},\"error_y\":{\"color\":\"#2a3f5f\"},\"marker\":{\"line\":{\"color\":\"#E5ECF6\",\"width\":0.5},\"pattern\":{\"fillmode\":\"overlay\",\"size\":10,\"solidity\":0.2}},\"type\":\"bar\"}],\"barpolar\":[{\"marker\":{\"line\":{\"color\":\"#E5ECF6\",\"width\":0.5},\"pattern\":{\"fillmode\":\"overlay\",\"size\":10,\"solidity\":0.2}},\"type\":\"barpolar\"}],\"carpet\":[{\"aaxis\":{\"endlinecolor\":\"#2a3f5f\",\"gridcolor\":\"white\",\"linecolor\":\"white\",\"minorgridcolor\":\"white\",\"startlinecolor\":\"#2a3f5f\"},\"baxis\":{\"endlinecolor\":\"#2a3f5f\",\"gridcolor\":\"white\",\"linecolor\":\"white\",\"minorgridcolor\":\"white\",\"startlinecolor\":\"#2a3f5f\"},\"type\":\"carpet\"}],\"choropleth\":[{\"colorbar\":{\"outlinewidth\":0,\"ticks\":\"\"},\"type\":\"choropleth\"}],\"contour\":[{\"colorbar\":{\"outlinewidth\":0,\"ticks\":\"\"},\"colorscale\":[[0.0,\"#0d0887\"],[0.1111111111111111,\"#46039f\"],[0.2222222222222222,\"#7201a8\"],[0.3333333333333333,\"#9c179e\"],[0.4444444444444444,\"#bd3786\"],[0.5555555555555556,\"#d8576b\"],[0.6666666666666666,\"#ed7953\"],[0.7777777777777778,\"#fb9f3a\"],[0.8888888888888888,\"#fdca26\"],[1.0,\"#f0f921\"]],\"type\":\"contour\"}],\"contourcarpet\":[{\"colorbar\":{\"outlinewidth\":0,\"ticks\":\"\"},\"type\":\"contourcarpet\"}],\"heatmap\":[{\"colorbar\":{\"outlinewidth\":0,\"ticks\":\"\"},\"colorscale\":[[0.0,\"#0d0887\"],[0.1111111111111111,\"#46039f\"],[0.2222222222222222,\"#7201a8\"],[0.3333333333333333,\"#9c179e\"],[0.4444444444444444,\"#bd3786\"],[0.5555555555555556,\"#d8576b\"],[0.6666666666666666,\"#ed7953\"],[0.7777777777777778,\"#fb9f3a\"],[0.8888888888888888,\"#fdca26\"],[1.0,\"#f0f921\"]],\"type\":\"heatmap\"}],\"heatmapgl\":[{\"colorbar\":{\"outlinewidth\":0,\"ticks\":\"\"},\"colorscale\":[[0.0,\"#0d0887\"],[0.1111111111111111,\"#46039f\"],[0.2222222222222222,\"#7201a8\"],[0.3333333333333333,\"#9c179e\"],[0.4444444444444444,\"#bd3786\"],[0.5555555555555556,\"#d8576b\"],[0.6666666666666666,\"#ed7953\"],[0.7777777777777778,\"#fb9f3a\"],[0.8888888888888888,\"#fdca26\"],[1.0,\"#f0f921\"]],\"type\":\"heatmapgl\"}],\"histogram\":[{\"marker\":{\"pattern\":{\"fillmode\":\"overlay\",\"size\":10,\"solidity\":0.2}},\"type\":\"histogram\"}],\"histogram2d\":[{\"colorbar\":{\"outlinewidth\":0,\"ticks\":\"\"},\"colorscale\":[[0.0,\"#0d0887\"],[0.1111111111111111,\"#46039f\"],[0.2222222222222222,\"#7201a8\"],[0.3333333333333333,\"#9c179e\"],[0.4444444444444444,\"#bd3786\"],[0.5555555555555556,\"#d8576b\"],[0.6666666666666666,\"#ed7953\"],[0.7777777777777778,\"#fb9f3a\"],[0.8888888888888888,\"#fdca26\"],[1.0,\"#f0f921\"]],\"type\":\"histogram2d\"}],\"histogram2dcontour\":[{\"colorbar\":{\"outlinewidth\":0,\"ticks\":\"\"},\"colorscale\":[[0.0,\"#0d0887\"],[0.1111111111111111,\"#46039f\"],[0.2222222222222222,\"#7201a8\"],[0.3333333333333333,\"#9c179e\"],[0.4444444444444444,\"#bd3786\"],[0.5555555555555556,\"#d8576b\"],[0.6666666666666666,\"#ed7953\"],[0.7777777777777778,\"#fb9f3a\"],[0.8888888888888888,\"#fdca26\"],[1.0,\"#f0f921\"]],\"type\":\"histogram2dcontour\"}],\"mesh3d\":[{\"colorbar\":{\"outlinewidth\":0,\"ticks\":\"\"},\"type\":\"mesh3d\"}],\"parcoords\":[{\"line\":{\"colorbar\":{\"outlinewidth\":0,\"ticks\":\"\"}},\"type\":\"parcoords\"}],\"pie\":[{\"automargin\":true,\"type\":\"pie\"}],\"scatter\":[{\"marker\":{\"colorbar\":{\"outlinewidth\":0,\"ticks\":\"\"}},\"type\":\"scatter\"}],\"scatter3d\":[{\"line\":{\"colorbar\":{\"outlinewidth\":0,\"ticks\":\"\"}},\"marker\":{\"colorbar\":{\"outlinewidth\":0,\"ticks\":\"\"}},\"type\":\"scatter3d\"}],\"scattercarpet\":[{\"marker\":{\"colorbar\":{\"outlinewidth\":0,\"ticks\":\"\"}},\"type\":\"scattercarpet\"}],\"scattergeo\":[{\"marker\":{\"colorbar\":{\"outlinewidth\":0,\"ticks\":\"\"}},\"type\":\"scattergeo\"}],\"scattergl\":[{\"marker\":{\"colorbar\":{\"outlinewidth\":0,\"ticks\":\"\"}},\"type\":\"scattergl\"}],\"scattermapbox\":[{\"marker\":{\"colorbar\":{\"outlinewidth\":0,\"ticks\":\"\"}},\"type\":\"scattermapbox\"}],\"scatterpolar\":[{\"marker\":{\"colorbar\":{\"outlinewidth\":0,\"ticks\":\"\"}},\"type\":\"scatterpolar\"}],\"scatterpolargl\":[{\"marker\":{\"colorbar\":{\"outlinewidth\":0,\"ticks\":\"\"}},\"type\":\"scatterpolargl\"}],\"scatterternary\":[{\"marker\":{\"colorbar\":{\"outlinewidth\":0,\"ticks\":\"\"}},\"type\":\"scatterternary\"}],\"surface\":[{\"colorbar\":{\"outlinewidth\":0,\"ticks\":\"\"},\"colorscale\":[[0.0,\"#0d0887\"],[0.1111111111111111,\"#46039f\"],[0.2222222222222222,\"#7201a8\"],[0.3333333333333333,\"#9c179e\"],[0.4444444444444444,\"#bd3786\"],[0.5555555555555556,\"#d8576b\"],[0.6666666666666666,\"#ed7953\"],[0.7777777777777778,\"#fb9f3a\"],[0.8888888888888888,\"#fdca26\"],[1.0,\"#f0f921\"]],\"type\":\"surface\"}],\"table\":[{\"cells\":{\"fill\":{\"color\":\"#EBF0F8\"},\"line\":{\"color\":\"white\"}},\"header\":{\"fill\":{\"color\":\"#C8D4E3\"},\"line\":{\"color\":\"white\"}},\"type\":\"table\"}]},\"layout\":{\"annotationdefaults\":{\"arrowcolor\":\"#2a3f5f\",\"arrowhead\":0,\"arrowwidth\":1},\"autotypenumbers\":\"strict\",\"coloraxis\":{\"colorbar\":{\"outlinewidth\":0,\"ticks\":\"\"}},\"colorscale\":{\"diverging\":[[0,\"#8e0152\"],[0.1,\"#c51b7d\"],[0.2,\"#de77ae\"],[0.3,\"#f1b6da\"],[0.4,\"#fde0ef\"],[0.5,\"#f7f7f7\"],[0.6,\"#e6f5d0\"],[0.7,\"#b8e186\"],[0.8,\"#7fbc41\"],[0.9,\"#4d9221\"],[1,\"#276419\"]],\"sequential\":[[0.0,\"#0d0887\"],[0.1111111111111111,\"#46039f\"],[0.2222222222222222,\"#7201a8\"],[0.3333333333333333,\"#9c179e\"],[0.4444444444444444,\"#bd3786\"],[0.5555555555555556,\"#d8576b\"],[0.6666666666666666,\"#ed7953\"],[0.7777777777777778,\"#fb9f3a\"],[0.8888888888888888,\"#fdca26\"],[1.0,\"#f0f921\"]],\"sequentialminus\":[[0.0,\"#0d0887\"],[0.1111111111111111,\"#46039f\"],[0.2222222222222222,\"#7201a8\"],[0.3333333333333333,\"#9c179e\"],[0.4444444444444444,\"#bd3786\"],[0.5555555555555556,\"#d8576b\"],[0.6666666666666666,\"#ed7953\"],[0.7777777777777778,\"#fb9f3a\"],[0.8888888888888888,\"#fdca26\"],[1.0,\"#f0f921\"]]},\"colorway\":[\"#636efa\",\"#EF553B\",\"#00cc96\",\"#ab63fa\",\"#FFA15A\",\"#19d3f3\",\"#FF6692\",\"#B6E880\",\"#FF97FF\",\"#FECB52\"],\"font\":{\"color\":\"#2a3f5f\"},\"geo\":{\"bgcolor\":\"white\",\"lakecolor\":\"white\",\"landcolor\":\"#E5ECF6\",\"showlakes\":true,\"showland\":true,\"subunitcolor\":\"white\"},\"hoverlabel\":{\"align\":\"left\"},\"hovermode\":\"closest\",\"mapbox\":{\"style\":\"light\"},\"paper_bgcolor\":\"white\",\"plot_bgcolor\":\"#E5ECF6\",\"polar\":{\"angularaxis\":{\"gridcolor\":\"white\",\"linecolor\":\"white\",\"ticks\":\"\"},\"bgcolor\":\"#E5ECF6\",\"radialaxis\":{\"gridcolor\":\"white\",\"linecolor\":\"white\",\"ticks\":\"\"}},\"scene\":{\"xaxis\":{\"backgroundcolor\":\"#E5ECF6\",\"gridcolor\":\"white\",\"gridwidth\":2,\"linecolor\":\"white\",\"showbackground\":true,\"ticks\":\"\",\"zerolinecolor\":\"white\"},\"yaxis\":{\"backgroundcolor\":\"#E5ECF6\",\"gridcolor\":\"white\",\"gridwidth\":2,\"linecolor\":\"white\",\"showbackground\":true,\"ticks\":\"\",\"zerolinecolor\":\"white\"},\"zaxis\":{\"backgroundcolor\":\"#E5ECF6\",\"gridcolor\":\"white\",\"gridwidth\":2,\"linecolor\":\"white\",\"showbackground\":true,\"ticks\":\"\",\"zerolinecolor\":\"white\"}},\"shapedefaults\":{\"line\":{\"color\":\"#2a3f5f\"}},\"ternary\":{\"aaxis\":{\"gridcolor\":\"white\",\"linecolor\":\"white\",\"ticks\":\"\"},\"baxis\":{\"gridcolor\":\"white\",\"linecolor\":\"white\",\"ticks\":\"\"},\"bgcolor\":\"#E5ECF6\",\"caxis\":{\"gridcolor\":\"white\",\"linecolor\":\"white\",\"ticks\":\"\"}},\"title\":{\"x\":0.05},\"xaxis\":{\"automargin\":true,\"gridcolor\":\"white\",\"linecolor\":\"white\",\"ticks\":\"\",\"title\":{\"standoff\":15},\"zerolinecolor\":\"white\",\"zerolinewidth\":2},\"yaxis\":{\"automargin\":true,\"gridcolor\":\"white\",\"linecolor\":\"white\",\"ticks\":\"\",\"title\":{\"standoff\":15},\"zerolinecolor\":\"white\",\"zerolinewidth\":2}}},\"title\":{\"text\":\"Visualization of predictions | DecisionTreeRegressor | MAE: 1.4259927378803687\"},\"xaxis\":{\"title\":{\"text\":\"Real values\"},\"range\":[0,100],\"scaleratio\":1},\"yaxis\":{\"title\":{\"text\":\"Predicted values\"},\"range\":[0,100],\"scaleratio\":1}},                        {\"responsive\": true}                    ).then(function(){\n                            \nvar gd = document.getElementById('efb61498-b66f-470c-8af0-f134170e73c3');\nvar x = new MutationObserver(function (mutations, observer) {{\n        var display = window.getComputedStyle(gd).display;\n        if (!display || display === 'none') {{\n            console.log([gd, 'removed!']);\n            Plotly.purge(gd);\n            observer.disconnect();\n        }}\n}});\n\n// Listen for the removal of the full notebook cells\nvar notebookContainer = gd.closest('#notebook-container');\nif (notebookContainer) {{\n    x.observe(notebookContainer, {childList: true});\n}}\n\n// Listen for the clearing of the current output cell\nvar outputEl = gd.closest('.output');\nif (outputEl) {{\n    x.observe(outputEl, {childList: true});\n}}\n\n                        })                };                            </script>        </div>\n</body>\n</html>"
     },
     "metadata": {},
     "output_type": "display_data"
    }
   ],
   "execution_count": null
  },
  {
   "cell_type": "markdown",
   "source": "* Jakožto druhý alternativní model použiju RandomForestRegressor s laděnými hyperparametry pomocí metriky MAE.",
   "metadata": {
    "tags": [],
    "cell_id": "00161-b64251ec-f0e7-4816-9748-06e1b09d8632",
    "deepnote_cell_type": "markdown"
   }
  },
  {
   "cell_type": "code",
   "metadata": {
    "tags": [],
    "cell_id": "00160-8094b4f4-02f3-49e4-95e0-2239eee4174b",
    "deepnote_to_be_reexecuted": false,
    "source_hash": "3ecbe040",
    "execution_start": 1640535865032,
    "execution_millis": 31436,
    "deepnote_cell_type": "code"
   },
   "source": "from sklearn.ensemble import RandomForestRegressor\nfrom sklearn.model_selection import ParameterGrid\n\nparam_grid = {\n    'n_estimators': range(1,100,5),\n    'max_depth': range(1,5)\n}\n\nparam_comb = ParameterGrid(param_grid)\n\ntrain_acc = []\ntest_acc = []\n\nfor params in param_comb:\n    rf = RandomForestRegressor(**params).fit(X, Y)\n    train_acc.append(get_mae(Y, rf.predict(X)))\n    test_acc.append(get_mae(Y_test, rf.predict(X_test)))",
   "outputs": [],
   "execution_count": null
  },
  {
   "cell_type": "code",
   "metadata": {
    "tags": [],
    "cell_id": "00161-ac8b3a1e-5bdc-4d9a-9076-51e4c663a0af",
    "deepnote_to_be_reexecuted": false,
    "source_hash": "baa8f496",
    "execution_start": 1640535896510,
    "execution_millis": 180,
    "deepnote_output_heights": [
     21.1875,
     21.1875
    ],
    "deepnote_cell_type": "code"
   },
   "source": "best_params = param_comb[np.argmin(test_acc)]\n\nrf = RandomForestRegressor(**best_params).fit(X, Y)",
   "outputs": [],
   "execution_count": null
  },
  {
   "cell_type": "code",
   "metadata": {
    "tags": [],
    "cell_id": "00162-6c676838-eda9-4816-84ee-b8a2f9f75da2",
    "deepnote_to_be_reexecuted": false,
    "source_hash": "f42e224a",
    "execution_start": 1640535896703,
    "execution_millis": 28,
    "deepnote_output_heights": [
     527
    ],
    "deepnote_cell_type": "code"
   },
   "source": "plot_prediction_results(\"RandomForestRegressor\", Y_test, rf.predict(X_test))",
   "outputs": [
    {
     "data": {
      "text/html": "<html>\n<head><meta charset=\"utf-8\" /></head>\n<body>\n    <div>            <script src=\"https://cdnjs.cloudflare.com/ajax/libs/mathjax/2.7.5/MathJax.js?config=TeX-AMS-MML_SVG\"></script><script type=\"text/javascript\">if (window.MathJax) {MathJax.Hub.Config({SVG: {font: \"STIX-Web\"}});}</script>                <script type=\"text/javascript\">window.PlotlyConfig = {MathJaxConfig: 'local'};</script>\n        <script src=\"https://cdn.plot.ly/plotly-2.6.3.min.js\"></script>                <div id=\"6fa3bca7-983c-454a-8db3-025feaf4c423\" class=\"plotly-graph-div\" style=\"height:525px; width:100%;\"></div>            <script type=\"text/javascript\">                                    window.PLOTLYENV=window.PLOTLYENV || {};                                    if (document.getElementById(\"6fa3bca7-983c-454a-8db3-025feaf4c423\")) {                    Plotly.newPlot(                        \"6fa3bca7-983c-454a-8db3-025feaf4c423\",                        [{\"mode\":\"lines\",\"name\":\"y = \\u0177\",\"x\":[0,100],\"y\":[0,100],\"type\":\"scatter\"},{\"mode\":\"markers\",\"name\":\"(test, prediction)\",\"x\":[56.5,73.0,82.5,75.6,53.0,65.2,72.4,74.1,77.0,67.8,73.1,75.1,44.3,47.9,74.3,74.6,78.4,77.7,79.1,73.3,62.8,82.5,54.0,63.4,72.0,47.8,52.1,75.1,65.6,78.4,73.9,76.3,61.2,69.6,72.7,57.9,74.5,69.4,77.0,75.4,57.7,67.3,78.5,54.2,47.6,68.9,79.4,67.6,63.3,59.8,71.7,73.2,66.5,58.6,67.7,72.8,69.2,72.8,76.4,53.3,72.5,69.0,59.4,56.0,54.1,81.9,64.5,55.3,73.0,72.4,75.5,85.0,74.1,75.6,53.2,75.2,74.9,74.7,73.3,77.3,75.9,83.0,71.3,63.8,76.8,65.9,74.1,79.1,77.8,77.5,62.2,79.5,81.1,77.7,65.3,51.9,74.7,67.3,66.2,84.0,69.6,51.2,74.6,76.9,58.0,75.6,57.4,75.7,63.3,67.3,82.1,71.0,81.8,62.9,75.3,83.0,82.7,72.9,59.8,75.2,73.0,76.0,72.2,71.1,74.3,70.0,69.5,74.4,69.9,75.6,73.6,67.9,54.0,81.5,86.0,74.0,79.0,64.4,79.0,82.5,72.8,71.6,64.0,81.5,74.6,56.5,78.7,55.3,81.6,67.1,52.1,74.9,59.9,82.0,77.5,76.5,73.5,76.5,57.9,66.8,68.7,61.3,74.7,54.6,49.2,72.6,66.5,77.0,51.2,71.9,67.6,71.0,51.3,77.2,76.7,55.7,62.8,87.0,59.6,65.3,67.0,43.8,73.6,73.6,75.6,73.5,62.9,74.2,78.5,78.0,73.8,81.7,82.0,57.6,74.8,73.9,51.7,79.8,67.5,62.3,56.4,75.3,51.9,74.8,72.5,80.0,81.6,45.3,66.1,79.4,65.0,71.6,75.8,73.6,79.1,76.0,52.0,76.3,68.3,74.4,74.1,68.1,72.7,67.1,81.0,52.4,75.7,61.0,73.5,81.3,69.0,71.4,73.3,79.3,51.6,57.3,73.0,76.6,77.0,58.6,78.8,68.0,79.8,74.9,73.9,79.3,72.1,71.7,79.9,62.1,83.0,62.2,73.1,73.0,67.7,79.8,81.7,75.2,79.4,72.2,74.0,71.2,55.0,71.0,46.3,59.5,75.2,51.4,58.5,52.5,79.2,65.5,73.3,75.4,82.1,76.7,54.0,76.4,78.0,77.0,61.6,58.0,76.0,74.7,59.0,73.5,77.5,75.4,71.0,75.4,77.0,48.2,72.6,74.5,72.8,79.3,53.1,67.7,75.0,46.0,71.4,72.9,68.7,72.5,77.1,60.0,55.3,65.0,56.3,78.0,74.6,63.8,74.3,81.3,71.6,66.2,61.3,68.8,72.1,69.0,68.9,62.8,74.2,72.0,58.0,73.9,69.8,76.0,79.3,48.9,74.3,79.7,79.9,72.1,67.1,63.7,68.0,62.5,72.3,67.0,75.0,61.8,72.0,64.4,58.4,73.3,74.7,77.5,75.7,73.0,79.0,52.7,66.0,75.0,74.1,69.9,72.3,75.4,59.1,79.9,56.5,71.1,75.4,57.4,63.8,84.0,79.3,79.1,73.0,54.5,71.1,74.2,51.4,76.0,63.9,77.7,80.0,82.0,63.9,73.5,78.9,66.0,81.3,73.0,64.0,68.2,79.0,78.1,72.0,73.5,55.0,62.1,49.7,86.0,73.1,72.3,68.0,78.3,80.0,71.6,66.8,73.3,65.7,73.0,62.6,61.4,60.0,68.2,66.5,78.2,63.5,52.7,59.3,86.0,74.4,71.3,78.0,66.0,63.6,77.3,70.0,74.5,79.3,75.8,79.6,69.7,64.4,78.0,73.1,51.9,74.7,83.4,74.4,73.3,76.3,76.5,83.0,68.7,75.1,52.8,67.3,55.3,83.5,42.3,84.0,77.0,73.2,79.0,75.0,68.1,51.9,65.1,68.0,74.3,66.1,73.0,72.1,71.4,75.2,59.7,63.7,82.0,75.2,72.2,66.7,76.3,76.2,71.4,56.0,79.0,57.4,80.0,62.2,64.2,59.8,46.0,56.1,69.2,72.7,73.6,73.3,54.8,72.8,75.2,64.7,75.0,47.4,63.3,76.2,51.0,64.1,58.9,49.6,72.4,72.8,53.1,59.2,62.3,53.3,69.1,58.2,68.4,73.1,69.4,79.8,73.7,56.1,52.5,70.0,48.2,66.2,73.2,73.4,74.8,81.2,77.5,73.9,69.9,77.2,81.0,74.9,73.3,73.5,65.0,53.8,88.0,67.0,71.7,78.1,77.3,71.0,87.0,58.0,68.7,71.1,61.0,72.9,52.0,51.5,66.2,74.9,56.7,67.7,56.2,82.4,71.1,72.8,53.8,55.9,79.5,81.0,79.5,72.8,75.1,48.6,44.5,84.0,65.5,75.0,67.3,58.1,51.1,65.8,75.0,73.6,79.4,82.4,69.4,78.4,73.3,62.9,72.1,76.6,54.4,74.3,53.8,69.4,73.0,72.3,73.0,74.3,69.1,74.8,65.6,66.0,65.7,74.9,71.5,56.2,81.1,58.9,85.0,72.9,73.9,53.5,48.0,81.0,75.0,74.1,69.3,82.3,77.4,74.7,67.6,73.7,78.2,73.6,73.1,52.0,81.4,67.2,56.7,72.6,64.2,74.9,79.4,78.3,73.9,66.1,57.2,62.0,59.3,65.3,72.9,71.9,81.3,73.8,82.0,59.4,79.5,77.0,59.4,67.8,60.0,66.4,44.6,78.0,67.7,79.2,75.9,74.5,73.9,65.1,65.6,61.8,73.0,73.2,69.5,62.3,67.5,82.0,76.3,76.5,75.3,51.6,68.0,46.4,68.1,57.3,64.0,74.7,51.9,75.5,71.7,66.0,68.7,73.1,57.2,66.6,62.4,73.2,77.9,71.0,79.5,68.0,74.4,73.7,45.3,48.1,63.7,49.6,63.1,74.7,62.6,55.0,74.9,58.7,71.6,75.0,61.9,53.4,47.7,56.9,78.0,79.9,59.3,65.8,61.4,50.0,79.9,72.6,55.5,69.6,61.0,63.5,74.8,75.5,73.0,69.0,67.2,73.8,54.0,47.7,81.7,52.4,75.8,59.3,73.0,56.5,59.1,53.5,79.6,55.3,67.0,74.4,69.8,54.8,75.6,74.2,55.0,74.5,67.3],\"y\":[55.84503971974251,66.17294836614806,79.95227017282657,75.50333000132227,55.127386726773295,66.85185490916398,73.79699834698964,75.17159778795492,73.79699834698964,69.06010979090692,73.79699834698964,74.37490001171588,46.64700565931197,47.6288517085656,72.7651624659143,74.04032624663004,75.01006885718277,77.36566970184491,80.63741617480459,72.77981064567147,56.89174465992702,80.7330261281966,52.61371406832535,58.253003538675664,71.23820291769412,46.64700565931197,50.075217051259436,73.79699834698964,64.02191250170301,79.68066362991956,71.89124225421367,72.96694762544591,61.674753673409654,66.83268456337093,74.04032624663004,55.69585189116825,74.04032624663004,69.12028773636952,77.61963837109595,72.10999308093325,57.0204267974722,68.17722396659985,75.40005916811948,57.90356472489683,54.62901015324227,71.92285610115881,80.16068382810155,68.56290968853126,67.28809838855152,57.856861422747855,73.55217186712291,74.24452556480125,68.78166051525083,60.89599802090055,71.89124225421367,73.60986136721519,70.71018375039887,73.26490834652793,73.79699834698964,55.89811857814876,71.55354749335167,69.63387189446328,61.72386439972574,56.71322029808554,50.85123559274181,81.56169010012648,60.906252370517755,55.567169753623084,74.05910884738967,73.79699834698964,70.29360809168617,80.44893047133593,73.79699834698964,76.2819601588832,51.63949237554861,73.55217186712291,73.79699834698964,73.79699834698964,73.5974178660631,74.24452556480125,74.37490001171588,80.16068382810155,71.46461645785527,67.0440980221871,76.2804769158196,66.23548127329225,73.79699834698964,81.37320439665783,75.0022880332093,76.53864554064792,58.73578386915495,79.67174434046441,81.56169010012648,76.9563033447196,68.4754831033683,54.62901015324227,73.79699834698964,68.92477899833794,66.52002153021934,81.56169010012648,69.76652136297784,54.300826204620684,74.28818757373357,73.79699834698964,55.740941443725355,74.37490001171588,58.20193223609394,72.96694762544591,62.22886282041724,66.17294836614806,81.56169010012648,73.22470236309945,81.56169010012648,58.253003538675664,75.92453812710365,81.56169010012648,81.56169010012648,73.8458899848552,62.05820574532667,74.64229669971144,73.00856268543112,72.96694762544591,71.24227375086059,67.36399449454018,72.10999308093325,70.5719902476659,71.3189462703235,74.24452556480125,71.51631778734792,73.79699834698964,71.89124225421367,70.91840082375005,62.162759552307435,81.09916663886875,81.56169010012648,74.37490001171588,81.56169010012648,67.91056190080735,79.18499008559908,81.56169010012648,74.04032624663004,72.96694762544591,64.59328181787592,81.56169010012648,74.37490001171588,55.53236320128692,79.96261252434435,55.859301226795615,81.56169010012648,68.17722396659985,54.87783965329626,75.81455872357753,59.055558593963205,81.56169010012648,78.72152108785957,74.64229669971144,73.36503488734847,76.2804769158196,59.993938732271445,68.69069952527887,72.7651624659143,62.77429468666159,73.79699834698964,55.65840864241587,50.964682541902576,69.84454167604692,64.06082985184854,72.76736714451935,54.57022614867945,73.36503488734847,69.20066232418708,67.84473504775204,53.695846107907485,73.79699834698964,75.81455872357753,62.375384150002596,63.83852584808719,81.09916663886875,59.06586804778501,68.4719486985593,61.21655496757074,47.20134506315346,72.76736714451935,73.41885662379983,73.32764669212553,70.29360809168617,62.491675065013744,74.24452556480125,74.79630011118473,74.79630011118473,73.79699834698964,81.56169010012648,80.55742091696358,56.02230054850582,73.6193993251148,74.18948329430427,52.6205778885383,81.56169010012648,66.18403766680515,62.21218450796997,55.364903066642576,75.03203014542518,53.787284313870984,74.05910884738967,70.39926593533521,81.56169010012648,81.56169010012648,55.64971553881818,68.44669915891447,81.56169010012648,62.30360644219078,72.76736714451935,77.43629622306284,70.29360809168617,79.54347826105501,73.79699834698964,55.69585189116825,76.94773097226354,70.73581255557392,76.6084582667753,74.79630011118473,68.57529651578339,73.60986136721519,66.40795168382262,81.56169010012648,55.89811857814876,73.79699834698964,66.39169919286763,69.4151210677437,81.56169010012648,60.97435188399328,74.24452556480125,73.79699834698964,79.80219565264562,54.300826204620684,56.1913557944648,70.9609649541957,75.40005916811948,78.79792646948272,56.67288332832192,79.88507921433515,67.87021188146277,81.56169010012648,73.79699834698964,73.79699834698964,80.22610244501377,72.96694762544591,72.96694762544591,81.37320439665783,63.23796882994191,81.56169010012648,60.95673720696653,73.79699834698964,71.7710851507554,70.5340273960423,80.63741617480459,81.56169010012648,73.79699834698964,81.56169010012648,73.63997040432116,71.9104126000067,72.96694762544591,53.19500388651905,71.77453587058005,53.575234659023764,60.89599802090055,74.24452556480125,50.60204869699454,57.0204267974722,54.02480065374026,80.4727626943648,68.63978491304954,70.9609649541957,74.37490001171588,81.09916663886875,72.96694762544591,51.71199580009717,79.68066362991956,79.02435202942347,72.39465164155573,62.70923026266911,56.18602874636649,73.79699834698964,74.98378131033073,63.456719656661484,73.79699834698964,74.24452556480125,74.37490001171588,69.80651463099456,74.24452556480125,69.88412855387753,55.31119034185179,74.04032624663004,72.96694762544591,72.7651624659143,78.72152108785957,54.02480065374026,67.91056190080735,73.79699834698964,51.04026082404628,68.58407921273508,73.79699834698964,73.55217186712291,73.82710738409558,78.05871448537921,61.419435009837535,55.912034089949785,67.35985092197136,57.856861422747855,77.51435985856895,74.3451560561725,65.50908410059958,73.79699834698964,81.56169010012648,71.69166177328712,71.9104126000067,62.27927854226154,68.89503971302135,71.24227375086059,68.69069952527887,68.17722396659985,64.8475343908966,73.08098695751183,72.2583671925901,50.964682541902576,74.24452556480125,72.61008251879088,72.76736714451935,81.56169010012648,55.32965341375381,74.28818757373357,81.56169010012648,81.56169010012648,73.60986136721519,68.69069952527887,64.59328181787592,58.13659951798596,63.32674292210279,71.69166177328712,56.709511886450606,74.87410712486705,60.1383757070454,72.96694762544591,66.6331040824444,57.46020982432198,72.76736714451935,73.89068249484414,81.56169010012648,73.79699834698964,73.79699834698964,70.1674367879008,54.99772300798962,68.06348587447161,74.98378131033073,73.6193993251148,62.7212658900986,72.96694762544591,74.79630011118473,55.42453830139646,81.56169010012648,57.0204267974722,73.6193993251148,75.92453812710365,57.521790577835255,63.32674292210279,81.56169010012648,81.56169010012648,79.96261252434435,72.96694762544591,56.10311114831394,73.79699834698964,74.04032624663004,53.05609883243868,77.50510588540278,67.35985092197136,75.40005916811948,81.40233072565084,79.96261252434435,60.98219885255449,73.79699834698964,80.4727626943648,58.89050494018212,81.56169010012648,74.24452556480125,68.00629508777399,69.76652136297784,79.80219565264562,79.96261252434435,72.96694762544591,72.24119735687675,51.541009665997514,60.05663900626379,52.508654255908716,81.56169010012648,74.37490001171588,73.4401332403346,68.92477899833794,77.61963837109595,80.80860845337651,67.4545803536637,71.69166177328712,74.37490001171588,68.34266550542668,73.79699834698964,64.13006020783612,61.38900525536504,60.71135496225322,72.96694762544591,67.7894222351355,80.4727626943648,64.32411526931205,54.361188476465955,57.32400580214729,81.56169010012648,72.96694762544591,71.32685365450881,72.96694762544591,68.92477899833794,71.89124225421367,81.56169010012648,73.22470236309945,74.18948329430427,79.13042481252108,74.24452556480125,81.56169010012648,73.79699834698964,64.47317888037087,81.56169010012648,71.9104126000067,51.71199580009717,74.3451560561725,81.56169010012648,73.78912745199538,74.37490001171588,76.39346854766669,74.04032624663004,80.4727626943648,66.71749604957961,73.79699834698964,55.89543159702024,70.08370903480407,56.532286516443925,80.51960685927419,50.598788964281916,79.96261252434435,73.22470236309945,73.79699834698964,72.96694762544591,70.73581255557392,71.50452479351269,51.50286529290371,63.4922223109007,68.57529651578339,76.41310337790294,71.89124225421367,72.10999308093325,70.69060247848748,69.88412855387753,75.4485149845299,56.54329761963122,66.6331040824444,81.56169010012648,74.37490001171588,72.61008251879088,69.66537772715795,75.81455872357753,73.79699834698964,72.69261236263776,54.56168643828243,70.29360809168617,55.19747531763723,81.56169010012648,62.05820574532667,63.21942307264187,62.91876459255782,46.64700565931197,57.53169678730177,66.83268456337093,72.76736714451935,73.63997040432116,73.79699834698964,55.08333763968128,72.96694762544591,70.29360809168617,67.0440980221871,73.26490834652793,53.89231741026509,67.3017713466177,75.92453812710365,54.0633098647514,67.92594659667876,55.859909148049574,52.42006000111472,72.96694762544591,74.15536672635693,55.62540111092463,57.46020982432198,60.839180947291936,52.474213110684765,66.17294836614806,59.74070038827345,66.83268456337093,72.58023016474492,68.19510285921346,80.4727626943648,74.05910884738967,57.222693484452705,55.127386726773295,69.76558352674803,51.28713041974207,68.69069952527887,71.9104126000067,72.96694762544591,73.79699834698964,81.56169010012648,76.4673768762948,73.79699834698964,71.89124225421367,78.12058300521247,81.56169010012648,74.65547302192422,71.69166177328712,73.79699834698964,66.52677146458242,55.84503971974251,81.56169010012648,57.63422947392302,74.80282334047753,74.37490001171588,75.92453812710365,73.79699834698964,78.62605117182684,54.57022614867945,66.85185490916398,73.79699834698964,62.27927854226154,73.79699834698964,52.83194484819404,54.57022614867945,66.17294836614806,74.37490001171588,60.24526496114493,68.92477899833794,55.00146946513222,80.55742091696358,67.27648430515694,73.79699834698964,53.66358816193028,56.09819166926565,81.40233072565084,81.56169010012648,81.56169010012648,73.79699834698964,73.79699834698964,50.999137389776415,46.64700565931197,81.56169010012648,66.17294836614806,69.58515789502567,68.79344772511442,54.85956504999698,49.556574780924294,62.2334566461922,71.0468869864449,73.79699834698964,81.40233072565084,81.09916663886875,71.24227375086059,79.80219565264562,74.05910884738967,63.47562545366949,73.79699834698964,76.04705963885533,56.303420868232124,74.5305727735841,55.6157245037575,71.06498458786344,73.79699834698964,70.69060247848748,65.30761551643266,73.79699834698964,71.0080171080325,75.92453812710365,65.79095845212689,58.25484167986448,66.17294836614806,74.24452556480125,71.77453587058005,54.73344151041973,81.56169010012648,57.46020982432198,81.56169010012648,72.96694762544591,75.81455872357753,54.68545710643649,54.247689193936225,81.56169010012648,73.79699834698964,73.79699834698964,71.50452479351269,81.56169010012648,80.4727626943648,73.79699834698964,70.08370903480407,70.29360809168617,81.56169010012648,73.55217186712291,72.61469776793581,53.08592150538285,81.56169010012648,67.87021188146277,56.02230054850582,72.56558198498774,66.17294836614806,73.78912745199538,79.23111579681552,79.02435202942347,72.10999308093325,69.07613164396125,57.11242702589667,57.46020982432198,61.419435009837535,66.23548127329225,73.48902487820017,70.29360809168617,81.56169010012648,70.53145916347827,77.97812654655189,57.12010707318123,79.61276321376376,66.46750870417364,58.121440275714306,72.76736714451935,56.301059468546576,66.17294836614806,47.20134506315346,80.4727626943648,67.87021188146277,81.56169010012648,72.96694762544591,72.10999308093325,73.79699834698964,68.01002461511456,68.27398061653095,59.52671060133538,73.41885662379983,74.24452556480125,70.99744727099385,62.90410045436075,68.92477899833794,81.56169010012648,76.4673768762948,75.81455872357753,74.24452556480125,54.57022614867945,59.323452366856976,47.39146686432572,68.92477899833794,56.71322029808554,61.37145083067598,72.10999308093325,54.57022614867945,73.79699834698964,69.88412855387753,65.62973369208403,68.35654568906382,73.9762644317698,55.4349916575065,70.70314502582626,64.16599841686448,74.37490001171588,76.76781764125093,69.20066232418708,80.4727626943648,62.05820574532667,73.79699834698964,73.79699834698964,55.364903066642576,52.16500319915715,64.43601971248847,52.83194484819404,61.89229894467105,73.79699834698964,58.253003538675664,57.22000650332418,73.79699834698964,60.89599802090055,74.37490001171588,72.10999308093325,63.7014900063077,52.53114022099703,51.28713041974207,56.3260314019678,73.79699834698964,81.56169010012648,57.46020982432198,71.89124225421367,60.53733531265218,53.86962189007615,79.23111579681552,73.79699834698964,54.990492305688534,71.22259966961562,61.71389317518837,65.9665843666806,73.79699834698964,74.5305727735841,73.34807351988023,71.11936578939694,68.69069952527887,73.79699834698964,53.919279009697945,54.11008493858118,80.63741617480459,48.85945362304051,73.79699834698964,56.09819166926565,70.78995972056507,58.624082401834734,58.643486361834135,55.6157245037575,80.4727626943648,55.69585189116825,67.90656338987348,73.26490834652793,71.16414713959223,55.00146946513222,74.18948329430427,73.79699834698964,56.710978480627794,74.37490001171588,71.9104126000067],\"type\":\"scatter\"}],                        {\"template\":{\"data\":{\"bar\":[{\"error_x\":{\"color\":\"#2a3f5f\"},\"error_y\":{\"color\":\"#2a3f5f\"},\"marker\":{\"line\":{\"color\":\"#E5ECF6\",\"width\":0.5},\"pattern\":{\"fillmode\":\"overlay\",\"size\":10,\"solidity\":0.2}},\"type\":\"bar\"}],\"barpolar\":[{\"marker\":{\"line\":{\"color\":\"#E5ECF6\",\"width\":0.5},\"pattern\":{\"fillmode\":\"overlay\",\"size\":10,\"solidity\":0.2}},\"type\":\"barpolar\"}],\"carpet\":[{\"aaxis\":{\"endlinecolor\":\"#2a3f5f\",\"gridcolor\":\"white\",\"linecolor\":\"white\",\"minorgridcolor\":\"white\",\"startlinecolor\":\"#2a3f5f\"},\"baxis\":{\"endlinecolor\":\"#2a3f5f\",\"gridcolor\":\"white\",\"linecolor\":\"white\",\"minorgridcolor\":\"white\",\"startlinecolor\":\"#2a3f5f\"},\"type\":\"carpet\"}],\"choropleth\":[{\"colorbar\":{\"outlinewidth\":0,\"ticks\":\"\"},\"type\":\"choropleth\"}],\"contour\":[{\"colorbar\":{\"outlinewidth\":0,\"ticks\":\"\"},\"colorscale\":[[0.0,\"#0d0887\"],[0.1111111111111111,\"#46039f\"],[0.2222222222222222,\"#7201a8\"],[0.3333333333333333,\"#9c179e\"],[0.4444444444444444,\"#bd3786\"],[0.5555555555555556,\"#d8576b\"],[0.6666666666666666,\"#ed7953\"],[0.7777777777777778,\"#fb9f3a\"],[0.8888888888888888,\"#fdca26\"],[1.0,\"#f0f921\"]],\"type\":\"contour\"}],\"contourcarpet\":[{\"colorbar\":{\"outlinewidth\":0,\"ticks\":\"\"},\"type\":\"contourcarpet\"}],\"heatmap\":[{\"colorbar\":{\"outlinewidth\":0,\"ticks\":\"\"},\"colorscale\":[[0.0,\"#0d0887\"],[0.1111111111111111,\"#46039f\"],[0.2222222222222222,\"#7201a8\"],[0.3333333333333333,\"#9c179e\"],[0.4444444444444444,\"#bd3786\"],[0.5555555555555556,\"#d8576b\"],[0.6666666666666666,\"#ed7953\"],[0.7777777777777778,\"#fb9f3a\"],[0.8888888888888888,\"#fdca26\"],[1.0,\"#f0f921\"]],\"type\":\"heatmap\"}],\"heatmapgl\":[{\"colorbar\":{\"outlinewidth\":0,\"ticks\":\"\"},\"colorscale\":[[0.0,\"#0d0887\"],[0.1111111111111111,\"#46039f\"],[0.2222222222222222,\"#7201a8\"],[0.3333333333333333,\"#9c179e\"],[0.4444444444444444,\"#bd3786\"],[0.5555555555555556,\"#d8576b\"],[0.6666666666666666,\"#ed7953\"],[0.7777777777777778,\"#fb9f3a\"],[0.8888888888888888,\"#fdca26\"],[1.0,\"#f0f921\"]],\"type\":\"heatmapgl\"}],\"histogram\":[{\"marker\":{\"pattern\":{\"fillmode\":\"overlay\",\"size\":10,\"solidity\":0.2}},\"type\":\"histogram\"}],\"histogram2d\":[{\"colorbar\":{\"outlinewidth\":0,\"ticks\":\"\"},\"colorscale\":[[0.0,\"#0d0887\"],[0.1111111111111111,\"#46039f\"],[0.2222222222222222,\"#7201a8\"],[0.3333333333333333,\"#9c179e\"],[0.4444444444444444,\"#bd3786\"],[0.5555555555555556,\"#d8576b\"],[0.6666666666666666,\"#ed7953\"],[0.7777777777777778,\"#fb9f3a\"],[0.8888888888888888,\"#fdca26\"],[1.0,\"#f0f921\"]],\"type\":\"histogram2d\"}],\"histogram2dcontour\":[{\"colorbar\":{\"outlinewidth\":0,\"ticks\":\"\"},\"colorscale\":[[0.0,\"#0d0887\"],[0.1111111111111111,\"#46039f\"],[0.2222222222222222,\"#7201a8\"],[0.3333333333333333,\"#9c179e\"],[0.4444444444444444,\"#bd3786\"],[0.5555555555555556,\"#d8576b\"],[0.6666666666666666,\"#ed7953\"],[0.7777777777777778,\"#fb9f3a\"],[0.8888888888888888,\"#fdca26\"],[1.0,\"#f0f921\"]],\"type\":\"histogram2dcontour\"}],\"mesh3d\":[{\"colorbar\":{\"outlinewidth\":0,\"ticks\":\"\"},\"type\":\"mesh3d\"}],\"parcoords\":[{\"line\":{\"colorbar\":{\"outlinewidth\":0,\"ticks\":\"\"}},\"type\":\"parcoords\"}],\"pie\":[{\"automargin\":true,\"type\":\"pie\"}],\"scatter\":[{\"marker\":{\"colorbar\":{\"outlinewidth\":0,\"ticks\":\"\"}},\"type\":\"scatter\"}],\"scatter3d\":[{\"line\":{\"colorbar\":{\"outlinewidth\":0,\"ticks\":\"\"}},\"marker\":{\"colorbar\":{\"outlinewidth\":0,\"ticks\":\"\"}},\"type\":\"scatter3d\"}],\"scattercarpet\":[{\"marker\":{\"colorbar\":{\"outlinewidth\":0,\"ticks\":\"\"}},\"type\":\"scattercarpet\"}],\"scattergeo\":[{\"marker\":{\"colorbar\":{\"outlinewidth\":0,\"ticks\":\"\"}},\"type\":\"scattergeo\"}],\"scattergl\":[{\"marker\":{\"colorbar\":{\"outlinewidth\":0,\"ticks\":\"\"}},\"type\":\"scattergl\"}],\"scattermapbox\":[{\"marker\":{\"colorbar\":{\"outlinewidth\":0,\"ticks\":\"\"}},\"type\":\"scattermapbox\"}],\"scatterpolar\":[{\"marker\":{\"colorbar\":{\"outlinewidth\":0,\"ticks\":\"\"}},\"type\":\"scatterpolar\"}],\"scatterpolargl\":[{\"marker\":{\"colorbar\":{\"outlinewidth\":0,\"ticks\":\"\"}},\"type\":\"scatterpolargl\"}],\"scatterternary\":[{\"marker\":{\"colorbar\":{\"outlinewidth\":0,\"ticks\":\"\"}},\"type\":\"scatterternary\"}],\"surface\":[{\"colorbar\":{\"outlinewidth\":0,\"ticks\":\"\"},\"colorscale\":[[0.0,\"#0d0887\"],[0.1111111111111111,\"#46039f\"],[0.2222222222222222,\"#7201a8\"],[0.3333333333333333,\"#9c179e\"],[0.4444444444444444,\"#bd3786\"],[0.5555555555555556,\"#d8576b\"],[0.6666666666666666,\"#ed7953\"],[0.7777777777777778,\"#fb9f3a\"],[0.8888888888888888,\"#fdca26\"],[1.0,\"#f0f921\"]],\"type\":\"surface\"}],\"table\":[{\"cells\":{\"fill\":{\"color\":\"#EBF0F8\"},\"line\":{\"color\":\"white\"}},\"header\":{\"fill\":{\"color\":\"#C8D4E3\"},\"line\":{\"color\":\"white\"}},\"type\":\"table\"}]},\"layout\":{\"annotationdefaults\":{\"arrowcolor\":\"#2a3f5f\",\"arrowhead\":0,\"arrowwidth\":1},\"autotypenumbers\":\"strict\",\"coloraxis\":{\"colorbar\":{\"outlinewidth\":0,\"ticks\":\"\"}},\"colorscale\":{\"diverging\":[[0,\"#8e0152\"],[0.1,\"#c51b7d\"],[0.2,\"#de77ae\"],[0.3,\"#f1b6da\"],[0.4,\"#fde0ef\"],[0.5,\"#f7f7f7\"],[0.6,\"#e6f5d0\"],[0.7,\"#b8e186\"],[0.8,\"#7fbc41\"],[0.9,\"#4d9221\"],[1,\"#276419\"]],\"sequential\":[[0.0,\"#0d0887\"],[0.1111111111111111,\"#46039f\"],[0.2222222222222222,\"#7201a8\"],[0.3333333333333333,\"#9c179e\"],[0.4444444444444444,\"#bd3786\"],[0.5555555555555556,\"#d8576b\"],[0.6666666666666666,\"#ed7953\"],[0.7777777777777778,\"#fb9f3a\"],[0.8888888888888888,\"#fdca26\"],[1.0,\"#f0f921\"]],\"sequentialminus\":[[0.0,\"#0d0887\"],[0.1111111111111111,\"#46039f\"],[0.2222222222222222,\"#7201a8\"],[0.3333333333333333,\"#9c179e\"],[0.4444444444444444,\"#bd3786\"],[0.5555555555555556,\"#d8576b\"],[0.6666666666666666,\"#ed7953\"],[0.7777777777777778,\"#fb9f3a\"],[0.8888888888888888,\"#fdca26\"],[1.0,\"#f0f921\"]]},\"colorway\":[\"#636efa\",\"#EF553B\",\"#00cc96\",\"#ab63fa\",\"#FFA15A\",\"#19d3f3\",\"#FF6692\",\"#B6E880\",\"#FF97FF\",\"#FECB52\"],\"font\":{\"color\":\"#2a3f5f\"},\"geo\":{\"bgcolor\":\"white\",\"lakecolor\":\"white\",\"landcolor\":\"#E5ECF6\",\"showlakes\":true,\"showland\":true,\"subunitcolor\":\"white\"},\"hoverlabel\":{\"align\":\"left\"},\"hovermode\":\"closest\",\"mapbox\":{\"style\":\"light\"},\"paper_bgcolor\":\"white\",\"plot_bgcolor\":\"#E5ECF6\",\"polar\":{\"angularaxis\":{\"gridcolor\":\"white\",\"linecolor\":\"white\",\"ticks\":\"\"},\"bgcolor\":\"#E5ECF6\",\"radialaxis\":{\"gridcolor\":\"white\",\"linecolor\":\"white\",\"ticks\":\"\"}},\"scene\":{\"xaxis\":{\"backgroundcolor\":\"#E5ECF6\",\"gridcolor\":\"white\",\"gridwidth\":2,\"linecolor\":\"white\",\"showbackground\":true,\"ticks\":\"\",\"zerolinecolor\":\"white\"},\"yaxis\":{\"backgroundcolor\":\"#E5ECF6\",\"gridcolor\":\"white\",\"gridwidth\":2,\"linecolor\":\"white\",\"showbackground\":true,\"ticks\":\"\",\"zerolinecolor\":\"white\"},\"zaxis\":{\"backgroundcolor\":\"#E5ECF6\",\"gridcolor\":\"white\",\"gridwidth\":2,\"linecolor\":\"white\",\"showbackground\":true,\"ticks\":\"\",\"zerolinecolor\":\"white\"}},\"shapedefaults\":{\"line\":{\"color\":\"#2a3f5f\"}},\"ternary\":{\"aaxis\":{\"gridcolor\":\"white\",\"linecolor\":\"white\",\"ticks\":\"\"},\"baxis\":{\"gridcolor\":\"white\",\"linecolor\":\"white\",\"ticks\":\"\"},\"bgcolor\":\"#E5ECF6\",\"caxis\":{\"gridcolor\":\"white\",\"linecolor\":\"white\",\"ticks\":\"\"}},\"title\":{\"x\":0.05},\"xaxis\":{\"automargin\":true,\"gridcolor\":\"white\",\"linecolor\":\"white\",\"ticks\":\"\",\"title\":{\"standoff\":15},\"zerolinecolor\":\"white\",\"zerolinewidth\":2},\"yaxis\":{\"automargin\":true,\"gridcolor\":\"white\",\"linecolor\":\"white\",\"ticks\":\"\",\"title\":{\"standoff\":15},\"zerolinecolor\":\"white\",\"zerolinewidth\":2}}},\"title\":{\"text\":\"Visualization of predictions | RandomForestRegressor | MAE: 1.9141294405448748\"},\"xaxis\":{\"title\":{\"text\":\"Real values\"},\"range\":[0,100],\"scaleratio\":1},\"yaxis\":{\"title\":{\"text\":\"Predicted values\"},\"range\":[0,100],\"scaleratio\":1}},                        {\"responsive\": true}                    ).then(function(){\n                            \nvar gd = document.getElementById('6fa3bca7-983c-454a-8db3-025feaf4c423');\nvar x = new MutationObserver(function (mutations, observer) {{\n        var display = window.getComputedStyle(gd).display;\n        if (!display || display === 'none') {{\n            console.log([gd, 'removed!']);\n            Plotly.purge(gd);\n            observer.disconnect();\n        }}\n}});\n\n// Listen for the removal of the full notebook cells\nvar notebookContainer = gd.closest('#notebook-container');\nif (notebookContainer) {{\n    x.observe(notebookContainer, {childList: true});\n}}\n\n// Listen for the clearing of the current output cell\nvar outputEl = gd.closest('.output');\nif (outputEl) {{\n    x.observe(outputEl, {childList: true});\n}}\n\n                        })                };                            </script>        </div>\n</body>\n</html>"
     },
     "metadata": {},
     "output_type": "display_data"
    }
   ],
   "execution_count": null
  },
  {
   "cell_type": "markdown",
   "source": "* Podívám se nyní na to, který z alternativních modelů byl pro tento dataset úspěšnější.",
   "metadata": {
    "tags": [],
    "cell_id": "00165-0f77a9e3-6800-4b53-a751-b2be692ab51e",
    "deepnote_cell_type": "markdown"
   }
  },
  {
   "cell_type": "code",
   "metadata": {
    "tags": [],
    "cell_id": "00163-bd49309d-fd78-49a7-8570-b900109c4727",
    "deepnote_to_be_reexecuted": false,
    "source_hash": "c8879163",
    "execution_start": 1640535896736,
    "execution_millis": 42,
    "deepnote_output_heights": [
     null,
     527
    ],
    "deepnote_cell_type": "code"
   },
   "source": "dt_score = get_mae(Y_test, dt.predict(X_test))\nrf_score = get_mae(Y_test, rf.predict(X_test))\n\nprint(\"Neúspěšnějším alternativním modelem je:\")\n\nif dt_score < rf_score:\n    print(\"DecisionTreeRegressor se score: {}\".format(dt_score))\n    plot_prediction_results(\"DecisionTreeRegressor\", Y_test, dt.predict(X_test))\nelse:\n    print(\"RandomForestRegressor se score: {}\".format(rf_score))\n    plot_prediction_results(\"RandomForestRegressor\", Y_test, rf.predict(X_test))",
   "outputs": [
    {
     "name": "stdout",
     "text": "Neúspěšnějším alternativním modelem je:\nDecisionTreeRegressor se score: 1.4259927378803687\n",
     "output_type": "stream",
     "data": {}
    },
    {
     "data": {
      "text/html": "<html>\n<head><meta charset=\"utf-8\" /></head>\n<body>\n    <div>            <script src=\"https://cdnjs.cloudflare.com/ajax/libs/mathjax/2.7.5/MathJax.js?config=TeX-AMS-MML_SVG\"></script><script type=\"text/javascript\">if (window.MathJax) {MathJax.Hub.Config({SVG: {font: \"STIX-Web\"}});}</script>                <script type=\"text/javascript\">window.PlotlyConfig = {MathJaxConfig: 'local'};</script>\n        <script src=\"https://cdn.plot.ly/plotly-2.6.3.min.js\"></script>                <div id=\"77983cc0-3294-45e9-a286-7b6eed9a59b9\" class=\"plotly-graph-div\" style=\"height:525px; width:100%;\"></div>            <script type=\"text/javascript\">                                    window.PLOTLYENV=window.PLOTLYENV || {};                                    if (document.getElementById(\"77983cc0-3294-45e9-a286-7b6eed9a59b9\")) {                    Plotly.newPlot(                        \"77983cc0-3294-45e9-a286-7b6eed9a59b9\",                        [{\"mode\":\"lines\",\"name\":\"y = \\u0177\",\"x\":[0,100],\"y\":[0,100],\"type\":\"scatter\"},{\"mode\":\"markers\",\"name\":\"(test, prediction)\",\"x\":[56.5,73.0,82.5,75.6,53.0,65.2,72.4,74.1,77.0,67.8,73.1,75.1,44.3,47.9,74.3,74.6,78.4,77.7,79.1,73.3,62.8,82.5,54.0,63.4,72.0,47.8,52.1,75.1,65.6,78.4,73.9,76.3,61.2,69.6,72.7,57.9,74.5,69.4,77.0,75.4,57.7,67.3,78.5,54.2,47.6,68.9,79.4,67.6,63.3,59.8,71.7,73.2,66.5,58.6,67.7,72.8,69.2,72.8,76.4,53.3,72.5,69.0,59.4,56.0,54.1,81.9,64.5,55.3,73.0,72.4,75.5,85.0,74.1,75.6,53.2,75.2,74.9,74.7,73.3,77.3,75.9,83.0,71.3,63.8,76.8,65.9,74.1,79.1,77.8,77.5,62.2,79.5,81.1,77.7,65.3,51.9,74.7,67.3,66.2,84.0,69.6,51.2,74.6,76.9,58.0,75.6,57.4,75.7,63.3,67.3,82.1,71.0,81.8,62.9,75.3,83.0,82.7,72.9,59.8,75.2,73.0,76.0,72.2,71.1,74.3,70.0,69.5,74.4,69.9,75.6,73.6,67.9,54.0,81.5,86.0,74.0,79.0,64.4,79.0,82.5,72.8,71.6,64.0,81.5,74.6,56.5,78.7,55.3,81.6,67.1,52.1,74.9,59.9,82.0,77.5,76.5,73.5,76.5,57.9,66.8,68.7,61.3,74.7,54.6,49.2,72.6,66.5,77.0,51.2,71.9,67.6,71.0,51.3,77.2,76.7,55.7,62.8,87.0,59.6,65.3,67.0,43.8,73.6,73.6,75.6,73.5,62.9,74.2,78.5,78.0,73.8,81.7,82.0,57.6,74.8,73.9,51.7,79.8,67.5,62.3,56.4,75.3,51.9,74.8,72.5,80.0,81.6,45.3,66.1,79.4,65.0,71.6,75.8,73.6,79.1,76.0,52.0,76.3,68.3,74.4,74.1,68.1,72.7,67.1,81.0,52.4,75.7,61.0,73.5,81.3,69.0,71.4,73.3,79.3,51.6,57.3,73.0,76.6,77.0,58.6,78.8,68.0,79.8,74.9,73.9,79.3,72.1,71.7,79.9,62.1,83.0,62.2,73.1,73.0,67.7,79.8,81.7,75.2,79.4,72.2,74.0,71.2,55.0,71.0,46.3,59.5,75.2,51.4,58.5,52.5,79.2,65.5,73.3,75.4,82.1,76.7,54.0,76.4,78.0,77.0,61.6,58.0,76.0,74.7,59.0,73.5,77.5,75.4,71.0,75.4,77.0,48.2,72.6,74.5,72.8,79.3,53.1,67.7,75.0,46.0,71.4,72.9,68.7,72.5,77.1,60.0,55.3,65.0,56.3,78.0,74.6,63.8,74.3,81.3,71.6,66.2,61.3,68.8,72.1,69.0,68.9,62.8,74.2,72.0,58.0,73.9,69.8,76.0,79.3,48.9,74.3,79.7,79.9,72.1,67.1,63.7,68.0,62.5,72.3,67.0,75.0,61.8,72.0,64.4,58.4,73.3,74.7,77.5,75.7,73.0,79.0,52.7,66.0,75.0,74.1,69.9,72.3,75.4,59.1,79.9,56.5,71.1,75.4,57.4,63.8,84.0,79.3,79.1,73.0,54.5,71.1,74.2,51.4,76.0,63.9,77.7,80.0,82.0,63.9,73.5,78.9,66.0,81.3,73.0,64.0,68.2,79.0,78.1,72.0,73.5,55.0,62.1,49.7,86.0,73.1,72.3,68.0,78.3,80.0,71.6,66.8,73.3,65.7,73.0,62.6,61.4,60.0,68.2,66.5,78.2,63.5,52.7,59.3,86.0,74.4,71.3,78.0,66.0,63.6,77.3,70.0,74.5,79.3,75.8,79.6,69.7,64.4,78.0,73.1,51.9,74.7,83.4,74.4,73.3,76.3,76.5,83.0,68.7,75.1,52.8,67.3,55.3,83.5,42.3,84.0,77.0,73.2,79.0,75.0,68.1,51.9,65.1,68.0,74.3,66.1,73.0,72.1,71.4,75.2,59.7,63.7,82.0,75.2,72.2,66.7,76.3,76.2,71.4,56.0,79.0,57.4,80.0,62.2,64.2,59.8,46.0,56.1,69.2,72.7,73.6,73.3,54.8,72.8,75.2,64.7,75.0,47.4,63.3,76.2,51.0,64.1,58.9,49.6,72.4,72.8,53.1,59.2,62.3,53.3,69.1,58.2,68.4,73.1,69.4,79.8,73.7,56.1,52.5,70.0,48.2,66.2,73.2,73.4,74.8,81.2,77.5,73.9,69.9,77.2,81.0,74.9,73.3,73.5,65.0,53.8,88.0,67.0,71.7,78.1,77.3,71.0,87.0,58.0,68.7,71.1,61.0,72.9,52.0,51.5,66.2,74.9,56.7,67.7,56.2,82.4,71.1,72.8,53.8,55.9,79.5,81.0,79.5,72.8,75.1,48.6,44.5,84.0,65.5,75.0,67.3,58.1,51.1,65.8,75.0,73.6,79.4,82.4,69.4,78.4,73.3,62.9,72.1,76.6,54.4,74.3,53.8,69.4,73.0,72.3,73.0,74.3,69.1,74.8,65.6,66.0,65.7,74.9,71.5,56.2,81.1,58.9,85.0,72.9,73.9,53.5,48.0,81.0,75.0,74.1,69.3,82.3,77.4,74.7,67.6,73.7,78.2,73.6,73.1,52.0,81.4,67.2,56.7,72.6,64.2,74.9,79.4,78.3,73.9,66.1,57.2,62.0,59.3,65.3,72.9,71.9,81.3,73.8,82.0,59.4,79.5,77.0,59.4,67.8,60.0,66.4,44.6,78.0,67.7,79.2,75.9,74.5,73.9,65.1,65.6,61.8,73.0,73.2,69.5,62.3,67.5,82.0,76.3,76.5,75.3,51.6,68.0,46.4,68.1,57.3,64.0,74.7,51.9,75.5,71.7,66.0,68.7,73.1,57.2,66.6,62.4,73.2,77.9,71.0,79.5,68.0,74.4,73.7,45.3,48.1,63.7,49.6,63.1,74.7,62.6,55.0,74.9,58.7,71.6,75.0,61.9,53.4,47.7,56.9,78.0,79.9,59.3,65.8,61.4,50.0,79.9,72.6,55.5,69.6,61.0,63.5,74.8,75.5,73.0,69.0,67.2,73.8,54.0,47.7,81.7,52.4,75.8,59.3,73.0,56.5,59.1,53.5,79.6,55.3,67.0,74.4,69.8,54.8,75.6,74.2,55.0,74.5,67.3],\"y\":[54.8,77.0,82.79166666666664,76.75555555555556,52.63333333333333,64.8,73.87000000000002,74.2,74.31780821917806,66.6,73.87000000000002,74.31780821917806,36.3,50.0,72.83238636363633,74.31780821917806,78.0,77.8,86.0,72.83238636363633,58.275,82.79166666666664,58.0,62.9,71.0,50.0,52.1,74.31780821917806,66.0,80.55199999999999,72.83238636363633,72.83238636363633,61.8,69.3,73.87000000000002,57.99999999999999,73.87000000000002,69.3,77.1,72.83238636363633,63.0,67.3,78.0,55.0,48.42,68.2,79.8,68.3,66.9,58.175000000000004,73.42647058823528,74.31780821917806,67.6,59.4,72.83238636363633,73.87000000000002,68.53846153846153,74.14,75.85263157894735,57.6,72.83238636363633,69.1,64.8,51.0,52.2,81.92075471698114,64.0,56.888888888888886,74.14,74.31780821917806,74.775,89.0,74.31780821917806,76.1,52.6,74.31780821917806,74.31780821917806,73.87000000000002,74.31780821917806,76.75555555555556,76.1,82.0,71.2,63.2,75.5,65.75,74.31780821917806,78.9,76.75555555555556,77.8,64.0,79.50000000000001,81.92075471698114,77.1,64.6,49.8,74.31780821917806,66.89999999999999,66.8,81.0,69.4,55.0,74.31780821917806,74.31780821917806,56.6,74.58,61.6,72.83238636363633,61.81666666666666,66.8,81.92075471698114,76.2,81.92075471698114,62.0,75.8,86.0,82.79166666666664,72.51250000000002,58.7,74.58,76.0,72.83238636363633,72.16,72.83238636363633,72.83238636363633,69.05,72.83238636363633,73.87000000000002,71.0,74.31780821917806,72.83238636363633,68.53846153846153,62.845454545454544,81.8,82.79166666666664,74.31780821917806,79.03750000000001,64.7,79.03750000000001,81.92075471698114,73.87000000000002,72.18,65.1,81.92075471698114,74.9,58.4,80.0,62.0,81.92075471698114,63.9,52.63333333333333,75.1,64.0,81.92075471698114,77.6,76.75555555555556,72.51250000000002,75.9,55.0,66.89999999999999,68.0,65.2,74.31780821917806,54.03846153846154,51.3,77.0,67.4,72.83238636363633,51.1,72.51250000000002,67.5,68.6,52.01818181818182,74.31780821917806,76.1,57.9,61.925,81.06666666666666,61.1,67.88571428571429,63.8,44.6,72.83238636363633,74.45,73.87000000000002,73.0,62.845454545454544,74.31780821917806,78.78,78.0,72.51250000000002,81.92075471698114,81.1,58.175000000000004,74.9,74.4,52.3,78.80000000000001,67.4,64.0,58.175000000000004,75.7,53.59166666666667,74.0,72.83238636363633,80.5,81.92075471698114,45.7,66.89999999999999,81.92075471698114,64.2,72.83238636363633,75.6,73.5,79.03750000000001,75.85263157894735,53.59166666666667,76.2,68.53846153846153,74.4,74.9,68.3,73.87000000000002,67.3,81.1,53.59166666666667,74.31780821917806,63.35,73.25,82.79166666666664,62.4,74.31780821917806,73.87000000000002,79.03750000000001,55.0,56.888888888888886,72.175,77.225,77.1,58.9,78.80000000000001,68.0375,78.80000000000001,74.31780821917806,74.31780821917806,79.03750000000001,72.83238636363633,72.83238636363633,89.0,61.8,82.79166666666664,61.1,72.51250000000002,72.83238636363633,67.88571428571429,80.55199999999999,81.92075471698114,75.85263157894735,78.80000000000001,72.51250000000002,72.83238636363633,72.83238636363633,53.6,71.8,45.6,63.3,74.31780821917806,53.6,63.0,53.59166666666667,80.55199999999999,65.9,72.175,76.75555555555556,81.1,72.83238636363633,56.425,76.975,78.0,72.83238636363633,61.81666666666666,57.99999999999999,75.85263157894735,74.31780821917806,59.9,73.87000000000002,76.75555555555556,74.31780821917806,76.0,75.65,76.0,49.6,72.51250000000002,72.83238636363633,72.83238636363633,77.8,53.6,67.5,73.87000000000002,48.42,71.2,74.31780821917806,68.6,72.51250000000002,77.3,67.0,59.333333333333336,64.5,57.05,77.1,74.4,69.9,73.87000000000002,81.92075471698114,72.3625,68.2,61.81666666666666,68.53846153846153,72.16,68.9,68.0375,64.7,72.83238636363633,72.83238636363633,51.5,74.31780821917806,72.83238636363633,72.83238636363633,79.1,55.0,74.31780821917806,80.5,78.80000000000001,72.51250000000002,66.89999999999999,62.9,58.175000000000004,61.925,72.83238636363633,58.4,74.4,62.0,72.83238636363633,64.9,56.888888888888886,72.83238636363633,74.31780821917806,78.13333333333334,74.31780821917806,74.31780821917806,79.0,55.0,65.2,74.31780821917806,74.9,65.69999999999999,72.83238636363633,75.65,58.8,82.79166666666664,56.36,78.0,75.6,58.175000000000004,63.65909090909091,79.03750000000001,82.79166666666664,82.79166666666664,72.83238636363633,54.0,74.31780821917806,74.31780821917806,54.03846153846154,77.6,64.4,77.225,80.55199999999999,80.55199999999999,64.2,74.31780821917806,80.55199999999999,69.0,81.92075471698114,74.31780821917806,64.3,67.5,79.03750000000001,78.80000000000001,72.83238636363633,74.31780821917806,54.7,62.5,48.9,85.0,74.31780821917806,72.51250000000002,66.89999999999999,79.03750000000001,79.8,65.8,70.375,74.31780821917806,71.0,74.31780821917806,65.1,62.4,59.5,72.83238636363633,68.53846153846153,78.80000000000001,62.845454545454544,52.01818181818182,58.9,81.0,72.83238636363633,71.0,72.83238636363633,66.89999999999999,72.83238636363633,77.75,76.2,74.4,79.03750000000001,74.31780821917806,81.92075471698114,69.1,64.8,78.13333333333334,72.83238636363633,52.16363636363637,74.4,82.79166666666664,74.9,74.31780821917806,76.8,76.75555555555556,80.55199999999999,69.3,73.87000000000002,62.0,67.88571428571429,56.888888888888886,82.79166666666664,44.3,80.55199999999999,72.51250000000002,73.87000000000002,72.83238636363633,71.8,69.6,52.16363636363637,64.65,68.3,76.7,65.1,72.18,72.83238636363633,71.9,75.8,48.9,63.65909090909091,81.92075471698114,74.31780821917806,72.83238636363633,67.88571428571429,76.4,75.85263157894735,73.42647058823528,52.01818181818182,77.0,57.99999999999999,81.0,61.1,64.8,59.7,45.3,56.888888888888886,68.9,72.83238636363633,73.87000000000002,74.31780821917806,55.9,72.83238636363633,74.775,65.9,72.83238636363633,47.400000000000006,64.5,76.35,52.01818181818182,64.3,58.4,53.6,72.83238636363633,72.3,51.0,58.175000000000004,62.8,52.3,68.6,57.5,68.0,72.18,69.8,80.55199999999999,74.14,56.36,52.63333333333333,69.8,48.7,71.0,72.83238636363633,72.83238636363633,74.31780821917806,88.0,77.6,73.42647058823528,72.83238636363633,77.8,84.0,74.4,72.83238636363633,73.42647058823528,65.375,53.7,81.1,60.0,75.65,78.0,76.9,78.0,79.03750000000001,51.1,68.3,78.0,61.81666666666666,73.87000000000002,51.6,52.4,66.0,74.31780821917806,57.3,67.8,58.175000000000004,81.1,71.2,74.31780821917806,54.3,58.175000000000004,79.50000000000001,81.92075471698114,82.79166666666664,73.87000000000002,74.31780821917806,47.6,45.5,83.0,65.1,73.0,67.5,52.01818181818182,52.2,66.1,72.18,73.87000000000002,76.6,82.79166666666664,67.5,79.03750000000001,74.14,64.8,73.87000000000002,74.4,53.980000000000004,74.31780821917806,53.980000000000004,74.31780821917806,73.42647058823528,72.83238636363633,66.2,73.87000000000002,69.05,76.0,65.4,58.175000000000004,66.0,74.31780821917806,71.5,56.9,82.79166666666664,62.0,86.5,72.83238636363633,74.1,52.63333333333333,49.2,84.0,74.31780821917806,72.51250000000002,69.6,82.79166666666664,76.975,74.31780821917806,71.2,73.9,78.1,73.42647058823528,74.31780821917806,52.3,82.79166666666664,68.0375,56.888888888888886,72.83238636363633,63.65909090909091,74.9,79.50000000000001,78.4,72.83238636363633,66.4,57.6,69.0,58.7,65.1,73.87000000000002,72.1,82.79166666666664,72.83238636363633,79.03750000000001,55.9,80.55199999999999,72.83238636363633,57.99999999999999,72.83238636363633,57.0,66.0,45.3,78.13333333333334,68.0375,79.03750000000001,72.83238636363633,72.83238636363633,73.87000000000002,71.0,64.5,61.8,73.87000000000002,74.31780821917806,69.5,62.4,66.89999999999999,82.79166666666664,76.1,76.1,74.31780821917806,52.2,64.0,47.1,66.89999999999999,51.1,69.0,72.83238636363633,52.4,74.31780821917806,71.9,64.6,68.8,73.4,54.03846153846154,76.0,61.7,74.31780821917806,76.7,71.7,80.55199999999999,61.1,74.31780821917806,73.8,56.888888888888886,51.7,64.1,54.1,62.845454545454544,74.31780821917806,62.9,54.53333333333333,73.87000000000002,59.6,74.31780821917806,72.83238636363633,61.1,56.425,48.0,53.980000000000004,74.31780821917806,78.80000000000001,58.175000000000004,65.7,58.1,52.6,83.0,73.42647058823528,56.3,69.6,62.845454545454544,63.65909090909091,73.87000000000002,74.31780821917806,74.31780821917806,68.53846153846153,66.54285714285714,72.51250000000002,54.3,47.4,80.55199999999999,53.6,74.31780821917806,56.3,76.0,56.888888888888886,58.6,53.980000000000004,78.80000000000001,57.99999999999999,67.65,72.83238636363633,69.4,51.5,75.7,74.31780821917806,54.8,74.9,66.6],\"type\":\"scatter\"}],                        {\"template\":{\"data\":{\"bar\":[{\"error_x\":{\"color\":\"#2a3f5f\"},\"error_y\":{\"color\":\"#2a3f5f\"},\"marker\":{\"line\":{\"color\":\"#E5ECF6\",\"width\":0.5},\"pattern\":{\"fillmode\":\"overlay\",\"size\":10,\"solidity\":0.2}},\"type\":\"bar\"}],\"barpolar\":[{\"marker\":{\"line\":{\"color\":\"#E5ECF6\",\"width\":0.5},\"pattern\":{\"fillmode\":\"overlay\",\"size\":10,\"solidity\":0.2}},\"type\":\"barpolar\"}],\"carpet\":[{\"aaxis\":{\"endlinecolor\":\"#2a3f5f\",\"gridcolor\":\"white\",\"linecolor\":\"white\",\"minorgridcolor\":\"white\",\"startlinecolor\":\"#2a3f5f\"},\"baxis\":{\"endlinecolor\":\"#2a3f5f\",\"gridcolor\":\"white\",\"linecolor\":\"white\",\"minorgridcolor\":\"white\",\"startlinecolor\":\"#2a3f5f\"},\"type\":\"carpet\"}],\"choropleth\":[{\"colorbar\":{\"outlinewidth\":0,\"ticks\":\"\"},\"type\":\"choropleth\"}],\"contour\":[{\"colorbar\":{\"outlinewidth\":0,\"ticks\":\"\"},\"colorscale\":[[0.0,\"#0d0887\"],[0.1111111111111111,\"#46039f\"],[0.2222222222222222,\"#7201a8\"],[0.3333333333333333,\"#9c179e\"],[0.4444444444444444,\"#bd3786\"],[0.5555555555555556,\"#d8576b\"],[0.6666666666666666,\"#ed7953\"],[0.7777777777777778,\"#fb9f3a\"],[0.8888888888888888,\"#fdca26\"],[1.0,\"#f0f921\"]],\"type\":\"contour\"}],\"contourcarpet\":[{\"colorbar\":{\"outlinewidth\":0,\"ticks\":\"\"},\"type\":\"contourcarpet\"}],\"heatmap\":[{\"colorbar\":{\"outlinewidth\":0,\"ticks\":\"\"},\"colorscale\":[[0.0,\"#0d0887\"],[0.1111111111111111,\"#46039f\"],[0.2222222222222222,\"#7201a8\"],[0.3333333333333333,\"#9c179e\"],[0.4444444444444444,\"#bd3786\"],[0.5555555555555556,\"#d8576b\"],[0.6666666666666666,\"#ed7953\"],[0.7777777777777778,\"#fb9f3a\"],[0.8888888888888888,\"#fdca26\"],[1.0,\"#f0f921\"]],\"type\":\"heatmap\"}],\"heatmapgl\":[{\"colorbar\":{\"outlinewidth\":0,\"ticks\":\"\"},\"colorscale\":[[0.0,\"#0d0887\"],[0.1111111111111111,\"#46039f\"],[0.2222222222222222,\"#7201a8\"],[0.3333333333333333,\"#9c179e\"],[0.4444444444444444,\"#bd3786\"],[0.5555555555555556,\"#d8576b\"],[0.6666666666666666,\"#ed7953\"],[0.7777777777777778,\"#fb9f3a\"],[0.8888888888888888,\"#fdca26\"],[1.0,\"#f0f921\"]],\"type\":\"heatmapgl\"}],\"histogram\":[{\"marker\":{\"pattern\":{\"fillmode\":\"overlay\",\"size\":10,\"solidity\":0.2}},\"type\":\"histogram\"}],\"histogram2d\":[{\"colorbar\":{\"outlinewidth\":0,\"ticks\":\"\"},\"colorscale\":[[0.0,\"#0d0887\"],[0.1111111111111111,\"#46039f\"],[0.2222222222222222,\"#7201a8\"],[0.3333333333333333,\"#9c179e\"],[0.4444444444444444,\"#bd3786\"],[0.5555555555555556,\"#d8576b\"],[0.6666666666666666,\"#ed7953\"],[0.7777777777777778,\"#fb9f3a\"],[0.8888888888888888,\"#fdca26\"],[1.0,\"#f0f921\"]],\"type\":\"histogram2d\"}],\"histogram2dcontour\":[{\"colorbar\":{\"outlinewidth\":0,\"ticks\":\"\"},\"colorscale\":[[0.0,\"#0d0887\"],[0.1111111111111111,\"#46039f\"],[0.2222222222222222,\"#7201a8\"],[0.3333333333333333,\"#9c179e\"],[0.4444444444444444,\"#bd3786\"],[0.5555555555555556,\"#d8576b\"],[0.6666666666666666,\"#ed7953\"],[0.7777777777777778,\"#fb9f3a\"],[0.8888888888888888,\"#fdca26\"],[1.0,\"#f0f921\"]],\"type\":\"histogram2dcontour\"}],\"mesh3d\":[{\"colorbar\":{\"outlinewidth\":0,\"ticks\":\"\"},\"type\":\"mesh3d\"}],\"parcoords\":[{\"line\":{\"colorbar\":{\"outlinewidth\":0,\"ticks\":\"\"}},\"type\":\"parcoords\"}],\"pie\":[{\"automargin\":true,\"type\":\"pie\"}],\"scatter\":[{\"marker\":{\"colorbar\":{\"outlinewidth\":0,\"ticks\":\"\"}},\"type\":\"scatter\"}],\"scatter3d\":[{\"line\":{\"colorbar\":{\"outlinewidth\":0,\"ticks\":\"\"}},\"marker\":{\"colorbar\":{\"outlinewidth\":0,\"ticks\":\"\"}},\"type\":\"scatter3d\"}],\"scattercarpet\":[{\"marker\":{\"colorbar\":{\"outlinewidth\":0,\"ticks\":\"\"}},\"type\":\"scattercarpet\"}],\"scattergeo\":[{\"marker\":{\"colorbar\":{\"outlinewidth\":0,\"ticks\":\"\"}},\"type\":\"scattergeo\"}],\"scattergl\":[{\"marker\":{\"colorbar\":{\"outlinewidth\":0,\"ticks\":\"\"}},\"type\":\"scattergl\"}],\"scattermapbox\":[{\"marker\":{\"colorbar\":{\"outlinewidth\":0,\"ticks\":\"\"}},\"type\":\"scattermapbox\"}],\"scatterpolar\":[{\"marker\":{\"colorbar\":{\"outlinewidth\":0,\"ticks\":\"\"}},\"type\":\"scatterpolar\"}],\"scatterpolargl\":[{\"marker\":{\"colorbar\":{\"outlinewidth\":0,\"ticks\":\"\"}},\"type\":\"scatterpolargl\"}],\"scatterternary\":[{\"marker\":{\"colorbar\":{\"outlinewidth\":0,\"ticks\":\"\"}},\"type\":\"scatterternary\"}],\"surface\":[{\"colorbar\":{\"outlinewidth\":0,\"ticks\":\"\"},\"colorscale\":[[0.0,\"#0d0887\"],[0.1111111111111111,\"#46039f\"],[0.2222222222222222,\"#7201a8\"],[0.3333333333333333,\"#9c179e\"],[0.4444444444444444,\"#bd3786\"],[0.5555555555555556,\"#d8576b\"],[0.6666666666666666,\"#ed7953\"],[0.7777777777777778,\"#fb9f3a\"],[0.8888888888888888,\"#fdca26\"],[1.0,\"#f0f921\"]],\"type\":\"surface\"}],\"table\":[{\"cells\":{\"fill\":{\"color\":\"#EBF0F8\"},\"line\":{\"color\":\"white\"}},\"header\":{\"fill\":{\"color\":\"#C8D4E3\"},\"line\":{\"color\":\"white\"}},\"type\":\"table\"}]},\"layout\":{\"annotationdefaults\":{\"arrowcolor\":\"#2a3f5f\",\"arrowhead\":0,\"arrowwidth\":1},\"autotypenumbers\":\"strict\",\"coloraxis\":{\"colorbar\":{\"outlinewidth\":0,\"ticks\":\"\"}},\"colorscale\":{\"diverging\":[[0,\"#8e0152\"],[0.1,\"#c51b7d\"],[0.2,\"#de77ae\"],[0.3,\"#f1b6da\"],[0.4,\"#fde0ef\"],[0.5,\"#f7f7f7\"],[0.6,\"#e6f5d0\"],[0.7,\"#b8e186\"],[0.8,\"#7fbc41\"],[0.9,\"#4d9221\"],[1,\"#276419\"]],\"sequential\":[[0.0,\"#0d0887\"],[0.1111111111111111,\"#46039f\"],[0.2222222222222222,\"#7201a8\"],[0.3333333333333333,\"#9c179e\"],[0.4444444444444444,\"#bd3786\"],[0.5555555555555556,\"#d8576b\"],[0.6666666666666666,\"#ed7953\"],[0.7777777777777778,\"#fb9f3a\"],[0.8888888888888888,\"#fdca26\"],[1.0,\"#f0f921\"]],\"sequentialminus\":[[0.0,\"#0d0887\"],[0.1111111111111111,\"#46039f\"],[0.2222222222222222,\"#7201a8\"],[0.3333333333333333,\"#9c179e\"],[0.4444444444444444,\"#bd3786\"],[0.5555555555555556,\"#d8576b\"],[0.6666666666666666,\"#ed7953\"],[0.7777777777777778,\"#fb9f3a\"],[0.8888888888888888,\"#fdca26\"],[1.0,\"#f0f921\"]]},\"colorway\":[\"#636efa\",\"#EF553B\",\"#00cc96\",\"#ab63fa\",\"#FFA15A\",\"#19d3f3\",\"#FF6692\",\"#B6E880\",\"#FF97FF\",\"#FECB52\"],\"font\":{\"color\":\"#2a3f5f\"},\"geo\":{\"bgcolor\":\"white\",\"lakecolor\":\"white\",\"landcolor\":\"#E5ECF6\",\"showlakes\":true,\"showland\":true,\"subunitcolor\":\"white\"},\"hoverlabel\":{\"align\":\"left\"},\"hovermode\":\"closest\",\"mapbox\":{\"style\":\"light\"},\"paper_bgcolor\":\"white\",\"plot_bgcolor\":\"#E5ECF6\",\"polar\":{\"angularaxis\":{\"gridcolor\":\"white\",\"linecolor\":\"white\",\"ticks\":\"\"},\"bgcolor\":\"#E5ECF6\",\"radialaxis\":{\"gridcolor\":\"white\",\"linecolor\":\"white\",\"ticks\":\"\"}},\"scene\":{\"xaxis\":{\"backgroundcolor\":\"#E5ECF6\",\"gridcolor\":\"white\",\"gridwidth\":2,\"linecolor\":\"white\",\"showbackground\":true,\"ticks\":\"\",\"zerolinecolor\":\"white\"},\"yaxis\":{\"backgroundcolor\":\"#E5ECF6\",\"gridcolor\":\"white\",\"gridwidth\":2,\"linecolor\":\"white\",\"showbackground\":true,\"ticks\":\"\",\"zerolinecolor\":\"white\"},\"zaxis\":{\"backgroundcolor\":\"#E5ECF6\",\"gridcolor\":\"white\",\"gridwidth\":2,\"linecolor\":\"white\",\"showbackground\":true,\"ticks\":\"\",\"zerolinecolor\":\"white\"}},\"shapedefaults\":{\"line\":{\"color\":\"#2a3f5f\"}},\"ternary\":{\"aaxis\":{\"gridcolor\":\"white\",\"linecolor\":\"white\",\"ticks\":\"\"},\"baxis\":{\"gridcolor\":\"white\",\"linecolor\":\"white\",\"ticks\":\"\"},\"bgcolor\":\"#E5ECF6\",\"caxis\":{\"gridcolor\":\"white\",\"linecolor\":\"white\",\"ticks\":\"\"}},\"title\":{\"x\":0.05},\"xaxis\":{\"automargin\":true,\"gridcolor\":\"white\",\"linecolor\":\"white\",\"ticks\":\"\",\"title\":{\"standoff\":15},\"zerolinecolor\":\"white\",\"zerolinewidth\":2},\"yaxis\":{\"automargin\":true,\"gridcolor\":\"white\",\"linecolor\":\"white\",\"ticks\":\"\",\"title\":{\"standoff\":15},\"zerolinecolor\":\"white\",\"zerolinewidth\":2}}},\"title\":{\"text\":\"Visualization of predictions | DecisionTreeRegressor | MAE: 1.4259927378803687\"},\"xaxis\":{\"title\":{\"text\":\"Real values\"},\"range\":[0,100],\"scaleratio\":1},\"yaxis\":{\"title\":{\"text\":\"Predicted values\"},\"range\":[0,100],\"scaleratio\":1}},                        {\"responsive\": true}                    ).then(function(){\n                            \nvar gd = document.getElementById('77983cc0-3294-45e9-a286-7b6eed9a59b9');\nvar x = new MutationObserver(function (mutations, observer) {{\n        var display = window.getComputedStyle(gd).display;\n        if (!display || display === 'none') {{\n            console.log([gd, 'removed!']);\n            Plotly.purge(gd);\n            observer.disconnect();\n        }}\n}});\n\n// Listen for the removal of the full notebook cells\nvar notebookContainer = gd.closest('#notebook-container');\nif (notebookContainer) {{\n    x.observe(notebookContainer, {childList: true});\n}}\n\n// Listen for the clearing of the current output cell\nvar outputEl = gd.closest('.output');\nif (outputEl) {{\n    x.observe(outputEl, {childList: true});\n}}\n\n                        })                };                            </script>        </div>\n</body>\n</html>"
     },
     "metadata": {},
     "output_type": "display_data"
    }
   ],
   "execution_count": null
  },
  {
   "cell_type": "markdown",
   "source": "# K O N E C",
   "metadata": {
    "tags": [],
    "is_collapsed": false,
    "cell_id": "00164-3f24d31f-6cdd-4a4b-8106-2332cd325345",
    "deepnote_cell_type": "text-cell-h1"
   }
  },
  {
   "cell_type": "markdown",
   "source": "<a style='text-decoration:none;line-height:16px;display:flex;color:#5B5B62;padding:10px;justify-content:end;' href='https://deepnote.com?utm_source=created-in-deepnote-cell&projectId=00eb39a2-b20f-47d3-be80-8aa12fe287b8' target=\"_blank\">\n<img alt='Created in deepnote.com' style='display:inline;max-height:16px;margin:0px;margin-right:7.5px;' src='data:image/svg+xml;base64,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' > </img>\nCreated in <span style='font-weight:600;margin-left:4px;'>Deepnote</span></a>",
   "metadata": {
    "tags": [],
    "created_in_deepnote_cell": true,
    "deepnote_cell_type": "markdown"
   }
  }
 ],
 "nbformat": 4,
 "nbformat_minor": 2,
 "metadata": {
  "orig_nbformat": 2,
  "deepnote": {
   "is_reactive": false
  },
  "deepnote_notebook_id": "f75f79a2-0912-4ebe-963c-8edec126b777",
  "deepnote_execution_queue": []
 }
}