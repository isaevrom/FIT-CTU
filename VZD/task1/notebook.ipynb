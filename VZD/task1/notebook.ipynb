{
 "cells": [
  {
   "cell_type": "markdown",
   "source": "# Úkol č. 1 - předzpracování dat a binární klasifikace\n\n  * **Deadline je do 31. října 23:59**, pokud odevzdáte úkol do 7. listopadu 23:59 budete penalizování -4 body, pozdější odevzdání je bez bodu.\n  * V rámci tohoto úkolu se musíte vypořádat s příznaky, které jsou různých typů.\n  * Před tím, než na nich postavíte predikční model, je třeba je nějakým způsobem převést do číselné reprezentace.\n    \n> **Úkoly jsou zadány tak, aby Vám daly prostor pro invenci. Vymyslet _jak přesně_ budete úkol řešit, je důležitou součástí zadání a originalita či nápaditost bude také hodnocena!**\n\n## Zdroj dat\n\nBudeme se zabývat predikcí přežití pasažérů Titaniku.\nK dispozici máte trénovací data v souboru **data.csv** a data na vyhodnocení v souboru **evaluation.csv**.\n\n#### Seznam příznaků:\n* survived - zda přežil, 0 = Ne, 1 = Ano, **vysvětlovaná proměnná**, kterou chcete predikovat\n* pclass - Třída lodního lístku, 1 = první, 2 = druhá, 3 = třetí\n* name - jméno\n* sex - pohlaví\n* age - věk v letech\n* sibsp\t- počet sourozenců / manželů, manželek na palubě\n* parch - počet rodičů / dětí na palubě\n* ticket - číslo lodního lístku\n* fare - cena lodního lístku\n* cabin\t- číslo kajuty\n* embarked\t- místo nalodění, C = Cherbourg, Q = Queenstown, S = Southampton\n* home.dest - Bydliště/Cíl\n\n## Pokyny k vypracování\n\n**Základní body zadání**, za jejichž (poctivé) vypracování získáte **12 bodů**:\n  * Využívejte buňky typu `Markdown` k vysvětlování Vašeho postupu. Za nepřehlednost budeme strhávat body.\n  * V notebooku načtěte data ze souboru **data.csv**. Vhodným způsobem si je rozdělte na podmnožiny vhodné k trénování modelu.\n  * Projděte si jednotlivé příznaky a transformujte je do vhodné podoby pro použití ve vybraném klasifikačním modelu.\n  * Podle potřeby si můžete vytvářet nové příznaky (na základě existujících), například tedy můžete vytvořit příznak měřící délku jména. Některé příznaky můžete také úplně zahodit. Pro průzkum dat využívejte vizualizace.\n  * Nějakým způsobem se vypořádejte s chybějícími hodnotami.\n  * Následně si vyberte vhodný klasifikační model z přednášek. Najděte vhodné hyperparametry a určete jeho přesnost (accuracy) na trénovací množině. Také určete jeho přesnost na testovací množině.\n  * Načtěte vyhodnocovací data ze souboru **evaluation.csv**. Napočítejte predikce pro tyto data (vysvětlovaná proměnná v nich již není). Vytvořte **results.csv** soubor, ve kterém tyto predikce uložíte do dvou sloupců: ID, predikce přežití. Tento soubor též odevzdejte (uložte do projektu vedle notebooku).\n  * Ukázka prvních řádků souboru *results.csv*:\n  \n```\nID,survived\n1000,0\n1001,1\n...\n```\n\n**Další body zadání** za případné další body  (můžete si vybrat, maximum bodů za úkol je každopádně 16 bodů):\n  * (až +4 body) Aplikujte všechny klasifikační modely z přednášek a určete (na základě přesnosti na validační množině), který je nejlepší. Přesnost tohoto nejlepšího modelu odhadněte pomocí křížové validace. K predikcím na vyhodnocovacích datech využijte tento model.\n  * (až +4 body) Zkuste použít nějaké (alespoň dvě) netriviální metody doplňování chybějících hodnot u věku. Zaměřte na vliv těchto metod na přesnost predikce výsledného modelu. K predikcím na vyhodnocovacích datech využijte ten přístup, který Vám vyjde jako nejlepší.\n\n## Poznámky k odevzdání\n\n  * Řiďte se pokyny ze stránky https://courses.fit.cvut.cz/BI-VZD/homeworks/index.html.\n  * Vytvořte i csv soubor s predikcemi a uložte ho v rámci projektu (`results.csv`, vedle ipython notebooku).\n  * Opravující Vám může umožnit úkol dodělat či opravit a získat tak další body. První verze je ale důležitá a bude-li odbytá, budete za to penalizováni.",
   "metadata": {
    "tags": [],
    "cell_id": "00001-f1691064-d64c-4100-989c-00352e98c53b",
    "deepnote_cell_type": "markdown",
    "deepnote_cell_height": 1661.71875
   }
  },
  {
   "cell_type": "markdown",
   "source": "## DecisionTreeClassifier",
   "metadata": {
    "tags": [],
    "cell_id": "00001-df98bd9b-c2c1-4d8c-9f07-9315ea9dcc34",
    "deepnote_cell_type": "markdown",
    "deepnote_cell_height": 70
   }
  },
  {
   "cell_type": "code",
   "metadata": {
    "tags": [],
    "cell_id": "00002-a7e82641-cb7b-4c52-a693-70dfb96d7236",
    "deepnote_to_be_reexecuted": false,
    "source_hash": "ede661b2",
    "execution_start": 1641768311582,
    "execution_millis": 0,
    "deepnote_cell_type": "code",
    "deepnote_cell_height": 94
   },
   "source": "import pandas as pd\nimport numpy  as np",
   "execution_count": null,
   "outputs": []
  },
  {
   "cell_type": "markdown",
   "source": "* Data přečteme a podíváme se, s jakými příznaky vlastně pracujeme",
   "metadata": {
    "tags": [],
    "cell_id": "00003-498c794d-72ec-4eb2-8f5d-75c0a145b4e3",
    "deepnote_cell_type": "markdown",
    "deepnote_cell_height": 69.390625
   }
  },
  {
   "cell_type": "code",
   "metadata": {
    "tags": [],
    "cell_id": "00003-eaf9cc31-3234-4b65-8a87-6fd0871a4a71",
    "deepnote_to_be_reexecuted": false,
    "source_hash": "2d45d304",
    "execution_start": 1641768311583,
    "execution_millis": 53,
    "deepnote_cell_type": "code",
    "deepnote_cell_height": 219.78125
   },
   "source": "df  = pd.read_csv('data.csv')\nprint(np.sort(df.columns.values))\ndf2 = pd.read_csv('evaluation.csv')\nprint(np.sort(df2.columns.values))",
   "execution_count": null,
   "outputs": [
    {
     "name": "stdout",
     "text": "['ID' 'age' 'cabin' 'embarked' 'fare' 'home.dest' 'name' 'parch' 'pclass'\n 'sex' 'sibsp' 'survived' 'ticket']\n['ID' 'age' 'cabin' 'embarked' 'fare' 'home.dest' 'name' 'parch' 'pclass'\n 'sex' 'sibsp' 'ticket']\n",
     "output_type": "stream",
     "data": {}
    }
   ]
  },
  {
   "cell_type": "code",
   "metadata": {
    "tags": [],
    "cell_id": "00003-0fc6ed23-6452-426a-97fe-a7c80ab76fd1",
    "deepnote_to_be_reexecuted": false,
    "source_hash": "c30f95ff",
    "execution_start": 1641768311632,
    "execution_millis": 1,
    "deepnote_cell_type": "code",
    "deepnote_cell_height": 130
   },
   "source": "# příznaky -- vše kromě vysvětlované proměnné\nX = df.drop(columns=['survived'])\n# survived -- vysvětlovaná proměnná\ny = df['survived'] ",
   "execution_count": null,
   "outputs": []
  },
  {
   "cell_type": "code",
   "metadata": {
    "tags": [],
    "cell_id": "00006-add22c28-4df1-4192-ac7a-551bf8bfafd0",
    "deepnote_to_be_reexecuted": false,
    "source_hash": "7e28487e",
    "execution_start": 1641768311633,
    "execution_millis": 1573,
    "deepnote_cell_type": "code",
    "deepnote_cell_height": 112
   },
   "source": "from sklearn.tree import DecisionTreeClassifier\n\ndt = DecisionTreeClassifier()",
   "execution_count": null,
   "outputs": []
  },
  {
   "cell_type": "code",
   "metadata": {
    "tags": [],
    "cell_id": "00005-11de1e12-f5ca-46a3-a533-61e9aaddacf8",
    "deepnote_to_be_reexecuted": false,
    "source_hash": "afd6c755",
    "execution_start": 1641768313217,
    "execution_millis": 6,
    "deepnote_cell_type": "code",
    "deepnote_cell_height": 94
   },
   "source": "# nepodařilo se\n# dt.fit(X, y)",
   "execution_count": null,
   "outputs": []
  },
  {
   "cell_type": "markdown",
   "source": "* Musí se nějakým způsobem vyřešit **null hodnoty** v datech a také **nečíselné hodnoty**, se kterými (nejen) strom neumí pracovat",
   "metadata": {
    "tags": [],
    "cell_id": "00006-744258a8-0c38-454f-9517-0c01608cc776",
    "deepnote_cell_type": "markdown",
    "deepnote_cell_height": 69.390625
   }
  },
  {
   "cell_type": "code",
   "metadata": {
    "tags": [],
    "cell_id": "00007-888389eb-5911-434a-b103-8106755f7511",
    "deepnote_to_be_reexecuted": false,
    "source_hash": "cb1fb6f3",
    "execution_start": 1641768313276,
    "execution_millis": 521,
    "is_output_hidden": true,
    "deepnote_cell_type": "code",
    "deepnote_cell_height": 106.796875
   },
   "source": "display(X)",
   "execution_count": null,
   "outputs": [
    {
     "data": {
      "application/vnd.deepnote.dataframe.v3+json": {
       "column_count": 12,
       "row_count": 1000,
       "columns": [
        {
         "name": "ID",
         "dtype": "int64",
         "stats": {
          "unique_count": 1000,
          "nan_count": 0,
          "min": "0",
          "max": "999",
          "histogram": [
           {
            "bin_start": 0,
            "bin_end": 99.9,
            "count": 100
           },
           {
            "bin_start": 99.9,
            "bin_end": 199.8,
            "count": 100
           },
           {
            "bin_start": 199.8,
            "bin_end": 299.70000000000005,
            "count": 100
           },
           {
            "bin_start": 299.70000000000005,
            "bin_end": 399.6,
            "count": 100
           },
           {
            "bin_start": 399.6,
            "bin_end": 499.5,
            "count": 100
           },
           {
            "bin_start": 499.5,
            "bin_end": 599.4000000000001,
            "count": 100
           },
           {
            "bin_start": 599.4000000000001,
            "bin_end": 699.3000000000001,
            "count": 100
           },
           {
            "bin_start": 699.3000000000001,
            "bin_end": 799.2,
            "count": 100
           },
           {
            "bin_start": 799.2,
            "bin_end": 899.1,
            "count": 100
           },
           {
            "bin_start": 899.1,
            "bin_end": 999,
            "count": 100
           }
          ]
         }
        },
        {
         "name": "pclass",
         "dtype": "int64",
         "stats": {
          "unique_count": 3,
          "nan_count": 0,
          "min": "1",
          "max": "3",
          "histogram": [
           {
            "bin_start": 1,
            "bin_end": 1.2,
            "count": 249
           },
           {
            "bin_start": 1.2,
            "bin_end": 1.4,
            "count": 0
           },
           {
            "bin_start": 1.4,
            "bin_end": 1.6,
            "count": 0
           },
           {
            "bin_start": 1.6,
            "bin_end": 1.8,
            "count": 0
           },
           {
            "bin_start": 1.8,
            "bin_end": 2,
            "count": 0
           },
           {
            "bin_start": 2,
            "bin_end": 2.2,
            "count": 209
           },
           {
            "bin_start": 2.2,
            "bin_end": 2.4000000000000004,
            "count": 0
           },
           {
            "bin_start": 2.4000000000000004,
            "bin_end": 2.6,
            "count": 0
           },
           {
            "bin_start": 2.6,
            "bin_end": 2.8,
            "count": 0
           },
           {
            "bin_start": 2.8,
            "bin_end": 3,
            "count": 542
           }
          ]
         }
        },
        {
         "name": "name",
         "dtype": "object",
         "stats": {
          "unique_count": 999,
          "nan_count": 0,
          "categories": [
           {
            "name": "Connolly, Miss. Kate",
            "count": 2
           },
           {
            "name": "Andersson, Mr. August Edvard (\"Wennerstrom\")",
            "count": 1
           },
           {
            "name": "997 others",
            "count": 997
           }
          ]
         }
        },
        {
         "name": "sex",
         "dtype": "object",
         "stats": {
          "unique_count": 2,
          "nan_count": 0,
          "categories": [
           {
            "name": "male",
            "count": 646
           },
           {
            "name": "female",
            "count": 354
           }
          ]
         }
        },
        {
         "name": "age",
         "dtype": "float64",
         "stats": {
          "unique_count": 94,
          "nan_count": 203,
          "min": "0.1667",
          "max": "76.0",
          "histogram": [
           {
            "bin_start": 0.1667,
            "bin_end": 7.750029999999999,
            "count": 46
           },
           {
            "bin_start": 7.750029999999999,
            "bin_end": 15.333359999999999,
            "count": 38
           },
           {
            "bin_start": 15.333359999999999,
            "bin_end": 22.916689999999996,
            "count": 163
           },
           {
            "bin_start": 22.916689999999996,
            "bin_end": 30.500019999999996,
            "count": 219
           },
           {
            "bin_start": 30.500019999999996,
            "bin_end": 38.083349999999996,
            "count": 131
           },
           {
            "bin_start": 38.083349999999996,
            "bin_end": 45.66667999999999,
            "count": 81
           },
           {
            "bin_start": 45.66667999999999,
            "bin_end": 53.250009999999996,
            "count": 63
           },
           {
            "bin_start": 53.250009999999996,
            "bin_end": 60.83333999999999,
            "count": 32
           },
           {
            "bin_start": 60.83333999999999,
            "bin_end": 68.41667,
            "count": 18
           },
           {
            "bin_start": 68.41667,
            "bin_end": 76,
            "count": 6
           }
          ]
         }
        },
        {
         "name": "sibsp",
         "dtype": "int64",
         "stats": {
          "unique_count": 7,
          "nan_count": 0,
          "min": "0",
          "max": "8",
          "histogram": [
           {
            "bin_start": 0,
            "bin_end": 0.8,
            "count": 677
           },
           {
            "bin_start": 0.8,
            "bin_end": 1.6,
            "count": 246
           },
           {
            "bin_start": 1.6,
            "bin_end": 2.4000000000000004,
            "count": 34
           },
           {
            "bin_start": 2.4000000000000004,
            "bin_end": 3.2,
            "count": 15
           },
           {
            "bin_start": 3.2,
            "bin_end": 4,
            "count": 0
           },
           {
            "bin_start": 4,
            "bin_end": 4.800000000000001,
            "count": 18
           },
           {
            "bin_start": 4.800000000000001,
            "bin_end": 5.6000000000000005,
            "count": 4
           },
           {
            "bin_start": 5.6000000000000005,
            "bin_end": 6.4,
            "count": 0
           },
           {
            "bin_start": 6.4,
            "bin_end": 7.2,
            "count": 0
           },
           {
            "bin_start": 7.2,
            "bin_end": 8,
            "count": 6
           }
          ]
         }
        },
        {
         "name": "parch",
         "dtype": "int64",
         "stats": {
          "unique_count": 7,
          "nan_count": 0,
          "min": "0",
          "max": "9",
          "histogram": [
           {
            "bin_start": 0,
            "bin_end": 0.9,
            "count": 768
           },
           {
            "bin_start": 0.9,
            "bin_end": 1.8,
            "count": 126
           },
           {
            "bin_start": 1.8,
            "bin_end": 2.7,
            "count": 89
           },
           {
            "bin_start": 2.7,
            "bin_end": 3.6,
            "count": 4
           },
           {
            "bin_start": 3.6,
            "bin_end": 4.5,
            "count": 5
           },
           {
            "bin_start": 4.5,
            "bin_end": 5.4,
            "count": 6
           },
           {
            "bin_start": 5.4,
            "bin_end": 6.3,
            "count": 0
           },
           {
            "bin_start": 6.3,
            "bin_end": 7.2,
            "count": 0
           },
           {
            "bin_start": 7.2,
            "bin_end": 8.1,
            "count": 0
           },
           {
            "bin_start": 8.1,
            "bin_end": 9,
            "count": 2
           }
          ]
         }
        },
        {
         "name": "ticket",
         "dtype": "object",
         "stats": {
          "unique_count": 754,
          "nan_count": 0,
          "categories": [
           {
            "name": "CA. 2343",
            "count": 8
           },
           {
            "name": "347082",
            "count": 7
           },
           {
            "name": "752 others",
            "count": 985
           }
          ]
         }
        },
        {
         "name": "fare",
         "dtype": "float64",
         "stats": {
          "unique_count": 249,
          "nan_count": 1,
          "min": "0.0",
          "max": "512.3292",
          "histogram": [
           {
            "bin_start": 0,
            "bin_end": 51.23292,
            "count": 816
           },
           {
            "bin_start": 51.23292,
            "bin_end": 102.46584,
            "count": 123
           },
           {
            "bin_start": 102.46584,
            "bin_end": 153.69876,
            "count": 29
           },
           {
            "bin_start": 153.69876,
            "bin_end": 204.93168,
            "count": 1
           },
           {
            "bin_start": 204.93168,
            "bin_end": 256.1646,
            "count": 17
           },
           {
            "bin_start": 256.1646,
            "bin_end": 307.39752,
            "count": 9
           },
           {
            "bin_start": 307.39752,
            "bin_end": 358.63044,
            "count": 0
           },
           {
            "bin_start": 358.63044,
            "bin_end": 409.86336,
            "count": 0
           },
           {
            "bin_start": 409.86336,
            "bin_end": 461.09628,
            "count": 0
           },
           {
            "bin_start": 461.09628,
            "bin_end": 512.3292,
            "count": 4
           }
          ]
         }
        },
        {
         "name": "cabin",
         "dtype": "object",
         "stats": {
          "unique_count": 156,
          "nan_count": 778,
          "categories": [
           {
            "name": "C23 C25 C27",
            "count": 5
           },
           {
            "name": "155 others",
            "count": 217
           },
           {
            "name": "Missing",
            "count": 778
           }
          ]
         }
        },
        {
         "name": "embarked",
         "dtype": "object",
         "stats": {
          "unique_count": 3,
          "nan_count": 1,
          "categories": [
           {
            "name": "S",
            "count": 695
           },
           {
            "name": "2 others",
            "count": 304
           },
           {
            "name": "Missing",
            "count": 1
           }
          ]
         }
        },
        {
         "name": "home.dest",
         "dtype": "object",
         "stats": {
          "unique_count": 314,
          "nan_count": 427,
          "categories": [
           {
            "name": "New York, NY",
            "count": 50
           },
           {
            "name": "313 others",
            "count": 523
           },
           {
            "name": "Missing",
            "count": 427
           }
          ]
         }
        },
        {
         "name": "_deepnote_index_column",
         "dtype": "int64"
        }
       ],
       "rows": [
        {
         "ID": 0,
         "pclass": 3,
         "name": "Andersson, Mr. August Edvard (\"Wennerstrom\")",
         "sex": "male",
         "age": 27,
         "sibsp": 0,
         "parch": 0,
         "ticket": "350043",
         "fare": 7.7958,
         "cabin": "nan",
         "embarked": "S",
         "home.dest": "nan",
         "_deepnote_index_column": 0
        },
        {
         "ID": 1,
         "pclass": 3,
         "name": "Dahl, Mr. Karl Edwart",
         "sex": "male",
         "age": 45,
         "sibsp": 0,
         "parch": 0,
         "ticket": "7598",
         "fare": 8.05,
         "cabin": "nan",
         "embarked": "S",
         "home.dest": "Australia Fingal, ND",
         "_deepnote_index_column": 1
        },
        {
         "ID": 2,
         "pclass": 2,
         "name": "Watson, Mr. Ennis Hastings",
         "sex": "male",
         "age": "nan",
         "sibsp": 0,
         "parch": 0,
         "ticket": "239856",
         "fare": 0,
         "cabin": "nan",
         "embarked": "S",
         "home.dest": "Belfast",
         "_deepnote_index_column": 2
        },
        {
         "ID": 3,
         "pclass": 3,
         "name": "Johnson, Mrs. Oscar W (Elisabeth Vilhelmina Berg)",
         "sex": "female",
         "age": 27,
         "sibsp": 0,
         "parch": 2,
         "ticket": "347742",
         "fare": 11.1333,
         "cabin": "nan",
         "embarked": "S",
         "home.dest": "nan",
         "_deepnote_index_column": 3
        },
        {
         "ID": 4,
         "pclass": 1,
         "name": "Meyer, Mr. Edgar Joseph",
         "sex": "male",
         "age": 28,
         "sibsp": 1,
         "parch": 0,
         "ticket": "PC 17604",
         "fare": 82.1708,
         "cabin": "nan",
         "embarked": "C",
         "home.dest": "New York, NY",
         "_deepnote_index_column": 4
        },
        {
         "ID": 5,
         "pclass": 3,
         "name": "Torfa, Mr. Assad",
         "sex": "male",
         "age": "nan",
         "sibsp": 0,
         "parch": 0,
         "ticket": "2673",
         "fare": 7.2292,
         "cabin": "nan",
         "embarked": "C",
         "home.dest": "nan",
         "_deepnote_index_column": 5
        },
        {
         "ID": 6,
         "pclass": 1,
         "name": "Astor, Col. John Jacob",
         "sex": "male",
         "age": 47,
         "sibsp": 1,
         "parch": 0,
         "ticket": "PC 17757",
         "fare": 227.525,
         "cabin": "C62 C64",
         "embarked": "C",
         "home.dest": "New York, NY",
         "_deepnote_index_column": 6
        },
        {
         "ID": 7,
         "pclass": 2,
         "name": "Drew, Master. Marshall Brines",
         "sex": "male",
         "age": 8,
         "sibsp": 0,
         "parch": 2,
         "ticket": "28220",
         "fare": 32.5,
         "cabin": "nan",
         "embarked": "S",
         "home.dest": "Greenport, NY",
         "_deepnote_index_column": 7
        },
        {
         "ID": 8,
         "pclass": 1,
         "name": "Harper, Mrs. Henry Sleeper (Myna Haxtun)",
         "sex": "female",
         "age": 49,
         "sibsp": 1,
         "parch": 0,
         "ticket": "PC 17572",
         "fare": 76.7292,
         "cabin": "D33",
         "embarked": "C",
         "home.dest": "New York, NY",
         "_deepnote_index_column": 8
        },
        {
         "ID": 9,
         "pclass": 2,
         "name": "Beane, Mrs. Edward (Ethel Clarke)",
         "sex": "female",
         "age": 19,
         "sibsp": 1,
         "parch": 0,
         "ticket": "2908",
         "fare": 26,
         "cabin": "nan",
         "embarked": "S",
         "home.dest": "Norwich / New York, NY",
         "_deepnote_index_column": 9
        }
       ]
      },
      "text/plain": "      ID  pclass                                               name     sex  \\\n0      0       3       Andersson, Mr. August Edvard (\"Wennerstrom\")    male   \n1      1       3                              Dahl, Mr. Karl Edwart    male   \n2      2       2                         Watson, Mr. Ennis Hastings    male   \n3      3       3  Johnson, Mrs. Oscar W (Elisabeth Vilhelmina Berg)  female   \n4      4       1                            Meyer, Mr. Edgar Joseph    male   \n..   ...     ...                                                ...     ...   \n995  995       1                               Cleaver, Miss. Alice  female   \n996  996       2                               Hood, Mr. Ambrose Jr    male   \n997  997       1                               Sagesser, Mlle. Emma  female   \n998  998       3                                Sage, Mr. Frederick    male   \n999  999       3                     Coelho, Mr. Domingos Fernandeo    male   \n\n      age  sibsp  parch              ticket      fare cabin embarked  \\\n0    27.0      0      0              350043    7.7958   NaN        S   \n1    45.0      0      0                7598    8.0500   NaN        S   \n2     NaN      0      0              239856    0.0000   NaN        S   \n3    27.0      0      2              347742   11.1333   NaN        S   \n4    28.0      1      0            PC 17604   82.1708   NaN        C   \n..    ...    ...    ...                 ...       ...   ...      ...   \n995  22.0      0      0              113781  151.5500   NaN        S   \n996  21.0      0      0        S.O.C. 14879   73.5000   NaN        S   \n997  24.0      0      0            PC 17477   69.3000   B35        C   \n998   NaN      8      2            CA. 2343   69.5500   NaN        S   \n999  20.0      0      0  SOTON/O.Q. 3101307    7.0500   NaN        S   \n\n                home.dest  \n0                     NaN  \n1    Australia Fingal, ND  \n2                 Belfast  \n3                     NaN  \n4            New York, NY  \n..                    ...  \n995                   NaN  \n996   New Forest, England  \n997                   NaN  \n998                   NaN  \n999              Portugal  \n\n[1000 rows x 12 columns]",
      "text/html": "<div>\n<style scoped>\n    .dataframe tbody tr th:only-of-type {\n        vertical-align: middle;\n    }\n\n    .dataframe tbody tr th {\n        vertical-align: top;\n    }\n\n    .dataframe thead th {\n        text-align: right;\n    }\n</style>\n<table border=\"1\" class=\"dataframe\">\n  <thead>\n    <tr style=\"text-align: right;\">\n      <th></th>\n      <th>ID</th>\n      <th>pclass</th>\n      <th>name</th>\n      <th>sex</th>\n      <th>age</th>\n      <th>sibsp</th>\n      <th>parch</th>\n      <th>ticket</th>\n      <th>fare</th>\n      <th>cabin</th>\n      <th>embarked</th>\n      <th>home.dest</th>\n    </tr>\n  </thead>\n  <tbody>\n    <tr>\n      <th>0</th>\n      <td>0</td>\n      <td>3</td>\n      <td>Andersson, Mr. August Edvard (\"Wennerstrom\")</td>\n      <td>male</td>\n      <td>27.0</td>\n      <td>0</td>\n      <td>0</td>\n      <td>350043</td>\n      <td>7.7958</td>\n      <td>NaN</td>\n      <td>S</td>\n      <td>NaN</td>\n    </tr>\n    <tr>\n      <th>1</th>\n      <td>1</td>\n      <td>3</td>\n      <td>Dahl, Mr. Karl Edwart</td>\n      <td>male</td>\n      <td>45.0</td>\n      <td>0</td>\n      <td>0</td>\n      <td>7598</td>\n      <td>8.0500</td>\n      <td>NaN</td>\n      <td>S</td>\n      <td>Australia Fingal, ND</td>\n    </tr>\n    <tr>\n      <th>2</th>\n      <td>2</td>\n      <td>2</td>\n      <td>Watson, Mr. Ennis Hastings</td>\n      <td>male</td>\n      <td>NaN</td>\n      <td>0</td>\n      <td>0</td>\n      <td>239856</td>\n      <td>0.0000</td>\n      <td>NaN</td>\n      <td>S</td>\n      <td>Belfast</td>\n    </tr>\n    <tr>\n      <th>3</th>\n      <td>3</td>\n      <td>3</td>\n      <td>Johnson, Mrs. Oscar W (Elisabeth Vilhelmina Berg)</td>\n      <td>female</td>\n      <td>27.0</td>\n      <td>0</td>\n      <td>2</td>\n      <td>347742</td>\n      <td>11.1333</td>\n      <td>NaN</td>\n      <td>S</td>\n      <td>NaN</td>\n    </tr>\n    <tr>\n      <th>4</th>\n      <td>4</td>\n      <td>1</td>\n      <td>Meyer, Mr. Edgar Joseph</td>\n      <td>male</td>\n      <td>28.0</td>\n      <td>1</td>\n      <td>0</td>\n      <td>PC 17604</td>\n      <td>82.1708</td>\n      <td>NaN</td>\n      <td>C</td>\n      <td>New York, NY</td>\n    </tr>\n    <tr>\n      <th>...</th>\n      <td>...</td>\n      <td>...</td>\n      <td>...</td>\n      <td>...</td>\n      <td>...</td>\n      <td>...</td>\n      <td>...</td>\n      <td>...</td>\n      <td>...</td>\n      <td>...</td>\n      <td>...</td>\n      <td>...</td>\n    </tr>\n    <tr>\n      <th>995</th>\n      <td>995</td>\n      <td>1</td>\n      <td>Cleaver, Miss. Alice</td>\n      <td>female</td>\n      <td>22.0</td>\n      <td>0</td>\n      <td>0</td>\n      <td>113781</td>\n      <td>151.5500</td>\n      <td>NaN</td>\n      <td>S</td>\n      <td>NaN</td>\n    </tr>\n    <tr>\n      <th>996</th>\n      <td>996</td>\n      <td>2</td>\n      <td>Hood, Mr. Ambrose Jr</td>\n      <td>male</td>\n      <td>21.0</td>\n      <td>0</td>\n      <td>0</td>\n      <td>S.O.C. 14879</td>\n      <td>73.5000</td>\n      <td>NaN</td>\n      <td>S</td>\n      <td>New Forest, England</td>\n    </tr>\n    <tr>\n      <th>997</th>\n      <td>997</td>\n      <td>1</td>\n      <td>Sagesser, Mlle. Emma</td>\n      <td>female</td>\n      <td>24.0</td>\n      <td>0</td>\n      <td>0</td>\n      <td>PC 17477</td>\n      <td>69.3000</td>\n      <td>B35</td>\n      <td>C</td>\n      <td>NaN</td>\n    </tr>\n    <tr>\n      <th>998</th>\n      <td>998</td>\n      <td>3</td>\n      <td>Sage, Mr. Frederick</td>\n      <td>male</td>\n      <td>NaN</td>\n      <td>8</td>\n      <td>2</td>\n      <td>CA. 2343</td>\n      <td>69.5500</td>\n      <td>NaN</td>\n      <td>S</td>\n      <td>NaN</td>\n    </tr>\n    <tr>\n      <th>999</th>\n      <td>999</td>\n      <td>3</td>\n      <td>Coelho, Mr. Domingos Fernandeo</td>\n      <td>male</td>\n      <td>20.0</td>\n      <td>0</td>\n      <td>0</td>\n      <td>SOTON/O.Q. 3101307</td>\n      <td>7.0500</td>\n      <td>NaN</td>\n      <td>S</td>\n      <td>Portugal</td>\n    </tr>\n  </tbody>\n</table>\n<p>1000 rows × 12 columns</p>\n</div>"
     },
     "metadata": {},
     "output_type": "display_data"
    }
   ]
  },
  {
   "cell_type": "markdown",
   "source": "* Zbavíme se 'nezajímavých' hodnot (např. co name, to unikátní hodnota, což nam k předpovědi nic moc užitečného nepřidá; u ostatních dropnutých columns je to prakticky stejně (chybí příliš mnoho dat/samé unikátní hodnoty/...))",
   "metadata": {
    "tags": [],
    "cell_id": "00008-c75f4ba2-8989-4ea7-997a-48a0d74e0147",
    "deepnote_cell_type": "markdown",
    "deepnote_cell_height": 91.796875
   }
  },
  {
   "cell_type": "code",
   "metadata": {
    "tags": [],
    "cell_id": "00008-2c8f1608-2413-4090-9d42-3c33b43f0604",
    "deepnote_to_be_reexecuted": false,
    "source_hash": "405693c0",
    "execution_start": 1641768313659,
    "execution_millis": 10,
    "is_output_hidden": true,
    "deepnote_cell_type": "code",
    "deepnote_cell_height": 106.796875
   },
   "source": "df.drop(columns=['name', 'cabin', 'home.dest', 'ID', 'ticket'], inplace=True)",
   "execution_count": null,
   "outputs": []
  },
  {
   "cell_type": "markdown",
   "source": "* Chybící embarked nahradíme nejvyskytovanější hodnotou tohoto příznaku",
   "metadata": {
    "tags": [],
    "cell_id": "00012-d8e0a7f7-9324-4e57-b858-20703d6343ea",
    "deepnote_cell_type": "markdown",
    "deepnote_cell_height": 69.390625
   }
  },
  {
   "cell_type": "code",
   "metadata": {
    "tags": [],
    "cell_id": "00012-1bba1d38-7ff2-4710-98b2-71d7e7486a6d",
    "deepnote_to_be_reexecuted": false,
    "source_hash": "cad47094",
    "execution_start": 1641768313683,
    "execution_millis": 11,
    "deepnote_cell_type": "code",
    "deepnote_cell_height": 94
   },
   "source": "tmp = df['embarked'].value_counts().idxmax()\ndf['embarked'].fillna(value=tmp, inplace=True)",
   "execution_count": null,
   "outputs": []
  },
  {
   "cell_type": "code",
   "metadata": {
    "tags": [],
    "cell_id": "00012-5518ce38-fc1b-4e7e-a81d-5951a1a94eae",
    "deepnote_to_be_reexecuted": false,
    "source_hash": "a7a05601",
    "execution_start": 1641768313704,
    "execution_millis": 190,
    "is_output_hidden": false,
    "deepnote_cell_type": "code",
    "deepnote_cell_height": 610
   },
   "source": "display(df)",
   "execution_count": null,
   "outputs": [
    {
     "data": {
      "application/vnd.deepnote.dataframe.v3+json": {
       "column_count": 8,
       "row_count": 1000,
       "columns": [
        {
         "name": "survived",
         "dtype": "int64",
         "stats": {
          "unique_count": 2,
          "nan_count": 0,
          "min": "0",
          "max": "1",
          "histogram": [
           {
            "bin_start": 0,
            "bin_end": 0.1,
            "count": 609
           },
           {
            "bin_start": 0.1,
            "bin_end": 0.2,
            "count": 0
           },
           {
            "bin_start": 0.2,
            "bin_end": 0.30000000000000004,
            "count": 0
           },
           {
            "bin_start": 0.30000000000000004,
            "bin_end": 0.4,
            "count": 0
           },
           {
            "bin_start": 0.4,
            "bin_end": 0.5,
            "count": 0
           },
           {
            "bin_start": 0.5,
            "bin_end": 0.6000000000000001,
            "count": 0
           },
           {
            "bin_start": 0.6000000000000001,
            "bin_end": 0.7000000000000001,
            "count": 0
           },
           {
            "bin_start": 0.7000000000000001,
            "bin_end": 0.8,
            "count": 0
           },
           {
            "bin_start": 0.8,
            "bin_end": 0.9,
            "count": 0
           },
           {
            "bin_start": 0.9,
            "bin_end": 1,
            "count": 391
           }
          ]
         }
        },
        {
         "name": "pclass",
         "dtype": "int64",
         "stats": {
          "unique_count": 3,
          "nan_count": 0,
          "min": "1",
          "max": "3",
          "histogram": [
           {
            "bin_start": 1,
            "bin_end": 1.2,
            "count": 249
           },
           {
            "bin_start": 1.2,
            "bin_end": 1.4,
            "count": 0
           },
           {
            "bin_start": 1.4,
            "bin_end": 1.6,
            "count": 0
           },
           {
            "bin_start": 1.6,
            "bin_end": 1.8,
            "count": 0
           },
           {
            "bin_start": 1.8,
            "bin_end": 2,
            "count": 0
           },
           {
            "bin_start": 2,
            "bin_end": 2.2,
            "count": 209
           },
           {
            "bin_start": 2.2,
            "bin_end": 2.4000000000000004,
            "count": 0
           },
           {
            "bin_start": 2.4000000000000004,
            "bin_end": 2.6,
            "count": 0
           },
           {
            "bin_start": 2.6,
            "bin_end": 2.8,
            "count": 0
           },
           {
            "bin_start": 2.8,
            "bin_end": 3,
            "count": 542
           }
          ]
         }
        },
        {
         "name": "sex",
         "dtype": "object",
         "stats": {
          "unique_count": 2,
          "nan_count": 0,
          "categories": [
           {
            "name": "male",
            "count": 646
           },
           {
            "name": "female",
            "count": 354
           }
          ]
         }
        },
        {
         "name": "age",
         "dtype": "float64",
         "stats": {
          "unique_count": 94,
          "nan_count": 203,
          "min": "0.1667",
          "max": "76.0",
          "histogram": [
           {
            "bin_start": 0.1667,
            "bin_end": 7.750029999999999,
            "count": 46
           },
           {
            "bin_start": 7.750029999999999,
            "bin_end": 15.333359999999999,
            "count": 38
           },
           {
            "bin_start": 15.333359999999999,
            "bin_end": 22.916689999999996,
            "count": 163
           },
           {
            "bin_start": 22.916689999999996,
            "bin_end": 30.500019999999996,
            "count": 219
           },
           {
            "bin_start": 30.500019999999996,
            "bin_end": 38.083349999999996,
            "count": 131
           },
           {
            "bin_start": 38.083349999999996,
            "bin_end": 45.66667999999999,
            "count": 81
           },
           {
            "bin_start": 45.66667999999999,
            "bin_end": 53.250009999999996,
            "count": 63
           },
           {
            "bin_start": 53.250009999999996,
            "bin_end": 60.83333999999999,
            "count": 32
           },
           {
            "bin_start": 60.83333999999999,
            "bin_end": 68.41667,
            "count": 18
           },
           {
            "bin_start": 68.41667,
            "bin_end": 76,
            "count": 6
           }
          ]
         }
        },
        {
         "name": "sibsp",
         "dtype": "int64",
         "stats": {
          "unique_count": 7,
          "nan_count": 0,
          "min": "0",
          "max": "8",
          "histogram": [
           {
            "bin_start": 0,
            "bin_end": 0.8,
            "count": 677
           },
           {
            "bin_start": 0.8,
            "bin_end": 1.6,
            "count": 246
           },
           {
            "bin_start": 1.6,
            "bin_end": 2.4000000000000004,
            "count": 34
           },
           {
            "bin_start": 2.4000000000000004,
            "bin_end": 3.2,
            "count": 15
           },
           {
            "bin_start": 3.2,
            "bin_end": 4,
            "count": 0
           },
           {
            "bin_start": 4,
            "bin_end": 4.800000000000001,
            "count": 18
           },
           {
            "bin_start": 4.800000000000001,
            "bin_end": 5.6000000000000005,
            "count": 4
           },
           {
            "bin_start": 5.6000000000000005,
            "bin_end": 6.4,
            "count": 0
           },
           {
            "bin_start": 6.4,
            "bin_end": 7.2,
            "count": 0
           },
           {
            "bin_start": 7.2,
            "bin_end": 8,
            "count": 6
           }
          ]
         }
        },
        {
         "name": "parch",
         "dtype": "int64",
         "stats": {
          "unique_count": 7,
          "nan_count": 0,
          "min": "0",
          "max": "9",
          "histogram": [
           {
            "bin_start": 0,
            "bin_end": 0.9,
            "count": 768
           },
           {
            "bin_start": 0.9,
            "bin_end": 1.8,
            "count": 126
           },
           {
            "bin_start": 1.8,
            "bin_end": 2.7,
            "count": 89
           },
           {
            "bin_start": 2.7,
            "bin_end": 3.6,
            "count": 4
           },
           {
            "bin_start": 3.6,
            "bin_end": 4.5,
            "count": 5
           },
           {
            "bin_start": 4.5,
            "bin_end": 5.4,
            "count": 6
           },
           {
            "bin_start": 5.4,
            "bin_end": 6.3,
            "count": 0
           },
           {
            "bin_start": 6.3,
            "bin_end": 7.2,
            "count": 0
           },
           {
            "bin_start": 7.2,
            "bin_end": 8.1,
            "count": 0
           },
           {
            "bin_start": 8.1,
            "bin_end": 9,
            "count": 2
           }
          ]
         }
        },
        {
         "name": "fare",
         "dtype": "float64",
         "stats": {
          "unique_count": 249,
          "nan_count": 1,
          "min": "0.0",
          "max": "512.3292",
          "histogram": [
           {
            "bin_start": 0,
            "bin_end": 51.23292,
            "count": 816
           },
           {
            "bin_start": 51.23292,
            "bin_end": 102.46584,
            "count": 123
           },
           {
            "bin_start": 102.46584,
            "bin_end": 153.69876,
            "count": 29
           },
           {
            "bin_start": 153.69876,
            "bin_end": 204.93168,
            "count": 1
           },
           {
            "bin_start": 204.93168,
            "bin_end": 256.1646,
            "count": 17
           },
           {
            "bin_start": 256.1646,
            "bin_end": 307.39752,
            "count": 9
           },
           {
            "bin_start": 307.39752,
            "bin_end": 358.63044,
            "count": 0
           },
           {
            "bin_start": 358.63044,
            "bin_end": 409.86336,
            "count": 0
           },
           {
            "bin_start": 409.86336,
            "bin_end": 461.09628,
            "count": 0
           },
           {
            "bin_start": 461.09628,
            "bin_end": 512.3292,
            "count": 4
           }
          ]
         }
        },
        {
         "name": "embarked",
         "dtype": "object",
         "stats": {
          "unique_count": 3,
          "nan_count": 0,
          "categories": [
           {
            "name": "S",
            "count": 696
           },
           {
            "name": "C",
            "count": 207
           },
           {
            "name": "Q",
            "count": 97
           }
          ]
         }
        },
        {
         "name": "_deepnote_index_column",
         "dtype": "int64"
        }
       ],
       "rows": [
        {
         "survived": 1,
         "pclass": 3,
         "sex": "male",
         "age": 27,
         "sibsp": 0,
         "parch": 0,
         "fare": 7.7958,
         "embarked": "S",
         "_deepnote_index_column": 0
        },
        {
         "survived": 1,
         "pclass": 3,
         "sex": "male",
         "age": 45,
         "sibsp": 0,
         "parch": 0,
         "fare": 8.05,
         "embarked": "S",
         "_deepnote_index_column": 1
        },
        {
         "survived": 0,
         "pclass": 2,
         "sex": "male",
         "age": "nan",
         "sibsp": 0,
         "parch": 0,
         "fare": 0,
         "embarked": "S",
         "_deepnote_index_column": 2
        },
        {
         "survived": 1,
         "pclass": 3,
         "sex": "female",
         "age": 27,
         "sibsp": 0,
         "parch": 2,
         "fare": 11.1333,
         "embarked": "S",
         "_deepnote_index_column": 3
        },
        {
         "survived": 0,
         "pclass": 1,
         "sex": "male",
         "age": 28,
         "sibsp": 1,
         "parch": 0,
         "fare": 82.1708,
         "embarked": "C",
         "_deepnote_index_column": 4
        },
        {
         "survived": 0,
         "pclass": 3,
         "sex": "male",
         "age": "nan",
         "sibsp": 0,
         "parch": 0,
         "fare": 7.2292,
         "embarked": "C",
         "_deepnote_index_column": 5
        },
        {
         "survived": 0,
         "pclass": 1,
         "sex": "male",
         "age": 47,
         "sibsp": 1,
         "parch": 0,
         "fare": 227.525,
         "embarked": "C",
         "_deepnote_index_column": 6
        },
        {
         "survived": 1,
         "pclass": 2,
         "sex": "male",
         "age": 8,
         "sibsp": 0,
         "parch": 2,
         "fare": 32.5,
         "embarked": "S",
         "_deepnote_index_column": 7
        },
        {
         "survived": 1,
         "pclass": 1,
         "sex": "female",
         "age": 49,
         "sibsp": 1,
         "parch": 0,
         "fare": 76.7292,
         "embarked": "C",
         "_deepnote_index_column": 8
        },
        {
         "survived": 1,
         "pclass": 2,
         "sex": "female",
         "age": 19,
         "sibsp": 1,
         "parch": 0,
         "fare": 26,
         "embarked": "S",
         "_deepnote_index_column": 9
        }
       ]
      },
      "text/plain": "     survived  pclass     sex   age  sibsp  parch      fare embarked\n0           1       3    male  27.0      0      0    7.7958        S\n1           1       3    male  45.0      0      0    8.0500        S\n2           0       2    male   NaN      0      0    0.0000        S\n3           1       3  female  27.0      0      2   11.1333        S\n4           0       1    male  28.0      1      0   82.1708        C\n..        ...     ...     ...   ...    ...    ...       ...      ...\n995         1       1  female  22.0      0      0  151.5500        S\n996         0       2    male  21.0      0      0   73.5000        S\n997         1       1  female  24.0      0      0   69.3000        C\n998         0       3    male   NaN      8      2   69.5500        S\n999         0       3    male  20.0      0      0    7.0500        S\n\n[1000 rows x 8 columns]",
      "text/html": "<div>\n<style scoped>\n    .dataframe tbody tr th:only-of-type {\n        vertical-align: middle;\n    }\n\n    .dataframe tbody tr th {\n        vertical-align: top;\n    }\n\n    .dataframe thead th {\n        text-align: right;\n    }\n</style>\n<table border=\"1\" class=\"dataframe\">\n  <thead>\n    <tr style=\"text-align: right;\">\n      <th></th>\n      <th>survived</th>\n      <th>pclass</th>\n      <th>sex</th>\n      <th>age</th>\n      <th>sibsp</th>\n      <th>parch</th>\n      <th>fare</th>\n      <th>embarked</th>\n    </tr>\n  </thead>\n  <tbody>\n    <tr>\n      <th>0</th>\n      <td>1</td>\n      <td>3</td>\n      <td>male</td>\n      <td>27.0</td>\n      <td>0</td>\n      <td>0</td>\n      <td>7.7958</td>\n      <td>S</td>\n    </tr>\n    <tr>\n      <th>1</th>\n      <td>1</td>\n      <td>3</td>\n      <td>male</td>\n      <td>45.0</td>\n      <td>0</td>\n      <td>0</td>\n      <td>8.0500</td>\n      <td>S</td>\n    </tr>\n    <tr>\n      <th>2</th>\n      <td>0</td>\n      <td>2</td>\n      <td>male</td>\n      <td>NaN</td>\n      <td>0</td>\n      <td>0</td>\n      <td>0.0000</td>\n      <td>S</td>\n    </tr>\n    <tr>\n      <th>3</th>\n      <td>1</td>\n      <td>3</td>\n      <td>female</td>\n      <td>27.0</td>\n      <td>0</td>\n      <td>2</td>\n      <td>11.1333</td>\n      <td>S</td>\n    </tr>\n    <tr>\n      <th>4</th>\n      <td>0</td>\n      <td>1</td>\n      <td>male</td>\n      <td>28.0</td>\n      <td>1</td>\n      <td>0</td>\n      <td>82.1708</td>\n      <td>C</td>\n    </tr>\n    <tr>\n      <th>...</th>\n      <td>...</td>\n      <td>...</td>\n      <td>...</td>\n      <td>...</td>\n      <td>...</td>\n      <td>...</td>\n      <td>...</td>\n      <td>...</td>\n    </tr>\n    <tr>\n      <th>995</th>\n      <td>1</td>\n      <td>1</td>\n      <td>female</td>\n      <td>22.0</td>\n      <td>0</td>\n      <td>0</td>\n      <td>151.5500</td>\n      <td>S</td>\n    </tr>\n    <tr>\n      <th>996</th>\n      <td>0</td>\n      <td>2</td>\n      <td>male</td>\n      <td>21.0</td>\n      <td>0</td>\n      <td>0</td>\n      <td>73.5000</td>\n      <td>S</td>\n    </tr>\n    <tr>\n      <th>997</th>\n      <td>1</td>\n      <td>1</td>\n      <td>female</td>\n      <td>24.0</td>\n      <td>0</td>\n      <td>0</td>\n      <td>69.3000</td>\n      <td>C</td>\n    </tr>\n    <tr>\n      <th>998</th>\n      <td>0</td>\n      <td>3</td>\n      <td>male</td>\n      <td>NaN</td>\n      <td>8</td>\n      <td>2</td>\n      <td>69.5500</td>\n      <td>S</td>\n    </tr>\n    <tr>\n      <th>999</th>\n      <td>0</td>\n      <td>3</td>\n      <td>male</td>\n      <td>20.0</td>\n      <td>0</td>\n      <td>0</td>\n      <td>7.0500</td>\n      <td>S</td>\n    </tr>\n  </tbody>\n</table>\n<p>1000 rows × 8 columns</p>\n</div>"
     },
     "metadata": {},
     "output_type": "display_data"
    }
   ]
  },
  {
   "cell_type": "markdown",
   "source": "* Číselně zakodujeme nečíselné hodnoty, abychom s dataframem mohli nakládat",
   "metadata": {
    "tags": [],
    "cell_id": "00013-712f41b1-26dd-4d41-9698-006fbc386f2d",
    "deepnote_cell_type": "markdown",
    "deepnote_cell_height": 69.390625
   }
  },
  {
   "cell_type": "code",
   "metadata": {
    "tags": [],
    "cell_id": "00014-866e8917-47ed-4260-bee0-6819c57b2fc0",
    "deepnote_to_be_reexecuted": false,
    "source_hash": "69647701",
    "execution_start": 1641768313949,
    "execution_millis": 1,
    "deepnote_cell_type": "code",
    "deepnote_cell_height": 94
   },
   "source": "enc_cols = ['sex', 'embarked']\ndf[enc_cols] = df[enc_cols].astype('category').apply(lambda x: x.cat.codes)",
   "execution_count": null,
   "outputs": []
  },
  {
   "cell_type": "code",
   "metadata": {
    "tags": [],
    "cell_id": "00015-fc9d17f1-ccbb-4986-9642-24c4fc48c107",
    "deepnote_to_be_reexecuted": false,
    "source_hash": "de1e323c",
    "execution_start": 1641768313993,
    "execution_millis": 4,
    "deepnote_cell_type": "code",
    "deepnote_cell_height": 382.421875
   },
   "source": "df.info()",
   "execution_count": null,
   "outputs": [
    {
     "name": "stdout",
     "text": "<class 'pandas.core.frame.DataFrame'>\nRangeIndex: 1000 entries, 0 to 999\nData columns (total 8 columns):\n #   Column    Non-Null Count  Dtype  \n---  ------    --------------  -----  \n 0   survived  1000 non-null   int64  \n 1   pclass    1000 non-null   int64  \n 2   sex       1000 non-null   int8   \n 3   age       797 non-null    float64\n 4   sibsp     1000 non-null   int64  \n 5   parch     1000 non-null   int64  \n 6   fare      999 non-null    float64\n 7   embarked  1000 non-null   int8   \ndtypes: float64(2), int64(4), int8(2)\nmemory usage: 49.0 KB\n",
     "output_type": "stream",
     "data": {}
    }
   ]
  },
  {
   "cell_type": "code",
   "metadata": {
    "tags": [],
    "cell_id": "00017-b05f3556-8c20-4a4c-b186-e478af04083d",
    "deepnote_to_be_reexecuted": false,
    "source_hash": "fd918595",
    "execution_start": 1641768314003,
    "execution_millis": 29,
    "deepnote_cell_type": "code",
    "deepnote_cell_height": 131.390625,
    "deepnote_output_heights": [
     39.390625
    ]
   },
   "source": "df.loc[df['fare'].isnull(), 'pclass']",
   "execution_count": null,
   "outputs": [
    {
     "output_type": "execute_result",
     "execution_count": 12,
     "data": {
      "text/plain": "383    3\nName: pclass, dtype: int64"
     },
     "metadata": {}
    }
   ]
  },
  {
   "cell_type": "code",
   "metadata": {
    "tags": [],
    "cell_id": "00018-bad1bf11-9026-4dda-9b7d-ebc3b1f23ef3",
    "deepnote_to_be_reexecuted": false,
    "source_hash": "f5077213",
    "execution_start": 1641768314035,
    "execution_millis": 71,
    "is_output_hidden": true,
    "deepnote_cell_type": "code",
    "deepnote_cell_height": 178.796875
   },
   "source": "tmp = df.loc[383, 'pclass']\nprint(tmp)\ntmp = df[df['pclass'] == 3]['fare'].median()\ndf['fare'].fillna(tmp, inplace=True)\ndf['fare'].value_counts()",
   "execution_count": null,
   "outputs": [
    {
     "name": "stdout",
     "text": "3\n",
     "output_type": "stream",
     "data": {}
    },
    {
     "output_type": "execute_result",
     "execution_count": 13,
     "data": {
      "text/plain": "8.0500     50\n7.7500     45\n13.0000    41\n7.8958     39\n26.0000    36\n           ..\n91.0792     1\n8.4042      1\n28.5375     1\n45.5000     1\n4.0125      1\nName: fare, Length: 249, dtype: int64"
     },
     "metadata": {}
    }
   ]
  },
  {
   "cell_type": "markdown",
   "source": "## Předpověď age",
   "metadata": {
    "tags": [],
    "cell_id": "00023-14cd6408-2933-4076-8425-7beac25ad7d9",
    "deepnote_cell_type": "markdown",
    "deepnote_cell_height": 70
   }
  },
  {
   "cell_type": "markdown",
   "source": "* Tuto hodnotu můžeme buďto naivně nahradit mediánem/aritm. průměrem, a nebo ji zkusit předpovědět. Zkusím tu druhou možnost",
   "metadata": {
    "tags": [],
    "cell_id": "00021-7dbded5d-55ef-4636-8cca-474d31f246ac",
    "deepnote_cell_type": "markdown",
    "deepnote_cell_height": 91.796875
   }
  },
  {
   "cell_type": "code",
   "metadata": {
    "tags": [],
    "cell_id": "00024-73f68a26-de41-4aef-995f-3596acbd5511",
    "deepnote_to_be_reexecuted": false,
    "source_hash": "2b66b4a1",
    "execution_start": 1641768314120,
    "execution_millis": 112,
    "deepnote_cell_type": "code",
    "deepnote_cell_height": 1238.34375,
    "deepnote_output_heights": [
     null,
     20.1875,
     20.1875,
     null,
     20.1875,
     20.1875,
     null,
     20.1875,
     20.1875,
     null,
     20.1875,
     20.1875,
     null,
     20.1875,
     20.1875
    ]
   },
   "source": "from sklearn.tree import DecisionTreeRegressor\nfrom sklearn.model_selection import train_test_split\n\nXage = df[df['age'].notnull()].drop(['survived', 'age'], axis=1)\nyage = df[df['age'].notnull()]['age']\n\nrd_seed = 228\nXage_train, Xage_test, yage_train, yage_test = train_test_split(Xage, yage, test_size=0.25, random_state=rd_seed)\nprint(\"původní data\")\ndisplay(Xage.shape)\ndisplay(yage.shape)\nprint(\"trénovací data\")\ndisplay(Xage_train.shape)\ndisplay(yage_train.shape)\nprint(\"testovací data\")\ndisplay(Xage_test.shape)\ndisplay(yage_test.shape)\n\nXage_train, Xage_val, yage_train, yage_val = train_test_split(Xage_train, yage_train, test_size=0.25, random_state=rd_seed) \nprint('nové trénovací data')\ndisplay(Xage_train.shape)\ndisplay(yage_train.shape)\nprint('validační data')\ndisplay(Xage_val.shape)\ndisplay(yage_val.shape)",
   "execution_count": null,
   "outputs": [
    {
     "name": "stdout",
     "text": "původní data\n",
     "output_type": "stream",
     "data": {}
    },
    {
     "data": {
      "text/plain": "(797, 6)"
     },
     "metadata": {},
     "output_type": "display_data"
    },
    {
     "data": {
      "text/plain": "(797,)"
     },
     "metadata": {},
     "output_type": "display_data"
    },
    {
     "name": "stdout",
     "text": "trénovací data\n",
     "output_type": "stream",
     "data": {}
    },
    {
     "data": {
      "text/plain": "(597, 6)"
     },
     "metadata": {},
     "output_type": "display_data"
    },
    {
     "data": {
      "text/plain": "(597,)"
     },
     "metadata": {},
     "output_type": "display_data"
    },
    {
     "name": "stdout",
     "text": "testovací data\n",
     "output_type": "stream",
     "data": {}
    },
    {
     "data": {
      "text/plain": "(200, 6)"
     },
     "metadata": {},
     "output_type": "display_data"
    },
    {
     "data": {
      "text/plain": "(200,)"
     },
     "metadata": {},
     "output_type": "display_data"
    },
    {
     "name": "stdout",
     "text": "nové trénovací data\n",
     "output_type": "stream",
     "data": {}
    },
    {
     "data": {
      "text/plain": "(447, 6)"
     },
     "metadata": {},
     "output_type": "display_data"
    },
    {
     "data": {
      "text/plain": "(447,)"
     },
     "metadata": {},
     "output_type": "display_data"
    },
    {
     "name": "stdout",
     "text": "validační data\n",
     "output_type": "stream",
     "data": {}
    },
    {
     "data": {
      "text/plain": "(150, 6)"
     },
     "metadata": {},
     "output_type": "display_data"
    },
    {
     "data": {
      "text/plain": "(150,)"
     },
     "metadata": {},
     "output_type": "display_data"
    }
   ]
  },
  {
   "cell_type": "code",
   "metadata": {
    "tags": [],
    "cell_id": "00025-58374576-5750-45d9-94ea-7b9b76735341",
    "deepnote_to_be_reexecuted": false,
    "source_hash": "c2938c24",
    "execution_start": 1641768314290,
    "execution_millis": 4,
    "deepnote_cell_type": "code",
    "deepnote_cell_height": 130.1875,
    "deepnote_output_heights": [
     20.1875
    ]
   },
   "source": "dt_age = DecisionTreeRegressor(max_depth=5)\ndt_age.fit(Xage_train, yage_train)",
   "execution_count": null,
   "outputs": [
    {
     "output_type": "execute_result",
     "execution_count": 15,
     "data": {
      "text/plain": "DecisionTreeRegressor(max_depth=5)"
     },
     "metadata": {}
    }
   ]
  },
  {
   "cell_type": "code",
   "metadata": {
    "tags": [],
    "cell_id": "00028-71ab0899-ea31-4f9b-90b5-1435c52c30ad",
    "deepnote_to_be_reexecuted": false,
    "source_hash": "e7c57c95",
    "execution_start": 1641768314292,
    "execution_millis": 6081537767,
    "deepnote_cell_type": "code",
    "deepnote_cell_height": 76
   },
   "source": "import sklearn.metrics as metrics",
   "execution_count": null,
   "outputs": []
  },
  {
   "cell_type": "markdown",
   "source": "* Odladíme hloubku",
   "metadata": {
    "tags": [],
    "cell_id": "00027-916e12d9-f0ab-403a-b372-a2292c1366a8",
    "deepnote_cell_type": "markdown",
    "deepnote_cell_height": 69.390625
   }
  },
  {
   "cell_type": "code",
   "metadata": {
    "tags": [],
    "cell_id": "00028-c7167e68-82ad-45c5-9a42-6d83925d5fd8",
    "deepnote_to_be_reexecuted": false,
    "source_hash": "e04f3c77",
    "execution_start": 1641768314293,
    "execution_millis": 1331,
    "deepnote_cell_type": "code",
    "deepnote_cell_height": 220
   },
   "source": "val_acc = []\ntrain_acc = []\ndepths = range(1,101)\nfor depth in depths:\n    dt_age = DecisionTreeRegressor(max_depth=depth)\n    dt_age.fit(Xage_train, yage_train)\n    train_acc.append(metrics.mean_squared_error(yage_train, dt_age.predict(Xage_train)))\n    val_acc.append(metrics.mean_squared_error(yage_val, dt_age.predict(Xage_val)))\n",
   "execution_count": null,
   "outputs": []
  },
  {
   "cell_type": "code",
   "metadata": {
    "tags": [],
    "cell_id": "00030-adde0aea-5ebe-4edb-bf78-9abc0aff63cb",
    "deepnote_to_be_reexecuted": false,
    "source_hash": "aa74dcc",
    "execution_start": 1641768315638,
    "execution_millis": 15,
    "deepnote_cell_type": "code",
    "deepnote_cell_height": 130.1875,
    "deepnote_output_heights": [
     20.1875
    ]
   },
   "source": "optimal_depth = np.argmin(val_acc) + 1\noptimal_depth",
   "execution_count": null,
   "outputs": [
    {
     "output_type": "execute_result",
     "execution_count": 18,
     "data": {
      "text/plain": "1"
     },
     "metadata": {}
    }
   ]
  },
  {
   "cell_type": "code",
   "metadata": {
    "tags": [],
    "cell_id": "00031-2ac71a33-f2ff-4623-9e2d-4982a4039a47",
    "deepnote_to_be_reexecuted": false,
    "source_hash": "efb55af8",
    "execution_start": 1641768315663,
    "execution_millis": 56,
    "deepnote_cell_type": "code",
    "deepnote_cell_height": 130.1875,
    "deepnote_output_heights": [
     20.1875
    ]
   },
   "source": "dt_age = DecisionTreeRegressor(max_depth=optimal_depth)\ndt_age.fit(Xage_train, yage_train)",
   "execution_count": null,
   "outputs": [
    {
     "output_type": "execute_result",
     "execution_count": 19,
     "data": {
      "text/plain": "DecisionTreeRegressor(max_depth=1)"
     },
     "metadata": {}
    }
   ]
  },
  {
   "cell_type": "markdown",
   "source": "* Věk si předpovíme tam, kde chybí, na základě existujících příznaků, posléze chybící hodnoty nahradíme za ty předpovězené",
   "metadata": {
    "tags": [],
    "cell_id": "00029-73f668f6-29b9-4ba8-9f48-c30a2f714adc",
    "deepnote_cell_type": "markdown",
    "deepnote_cell_height": 69.390625
   }
  },
  {
   "cell_type": "code",
   "metadata": {
    "tags": [],
    "cell_id": "00031-23cd68a6-dfdb-4f1c-a45e-1acee60dc04c",
    "deepnote_to_be_reexecuted": false,
    "source_hash": "4cad5cd3",
    "execution_start": 1641768315718,
    "execution_millis": 0,
    "deepnote_cell_type": "code",
    "deepnote_cell_height": 94
   },
   "source": "tmpX = df[df['age'].isnull()].drop(columns=['age', 'survived'])\ntmpy = dt_age.predict(tmpX)",
   "execution_count": null,
   "outputs": []
  },
  {
   "cell_type": "code",
   "metadata": {
    "tags": [],
    "cell_id": "00031-6a136395-2499-445d-8582-6e127cedacd9",
    "deepnote_to_be_reexecuted": false,
    "source_hash": "2018544d",
    "execution_start": 1641768315762,
    "execution_millis": 6081537595,
    "deepnote_cell_type": "code",
    "deepnote_cell_height": 76
   },
   "source": "df.loc[df['age'].isnull(), 'age'] = tmpy",
   "execution_count": null,
   "outputs": []
  },
  {
   "cell_type": "code",
   "metadata": {
    "tags": [],
    "cell_id": "00032-99c1b553-b46a-46d9-ae99-1456b89b17e4",
    "deepnote_to_be_reexecuted": false,
    "source_hash": "f804c160",
    "execution_start": 1641768315762,
    "execution_millis": 438,
    "deepnote_cell_type": "code",
    "deepnote_cell_height": 610
   },
   "source": "df",
   "execution_count": null,
   "outputs": [
    {
     "output_type": "execute_result",
     "execution_count": 22,
     "data": {
      "application/vnd.deepnote.dataframe.v3+json": {
       "column_count": 8,
       "row_count": 1000,
       "columns": [
        {
         "name": "survived",
         "dtype": "int64",
         "stats": {
          "unique_count": 2,
          "nan_count": 0,
          "min": "0",
          "max": "1",
          "histogram": [
           {
            "bin_start": 0,
            "bin_end": 0.1,
            "count": 609
           },
           {
            "bin_start": 0.1,
            "bin_end": 0.2,
            "count": 0
           },
           {
            "bin_start": 0.2,
            "bin_end": 0.30000000000000004,
            "count": 0
           },
           {
            "bin_start": 0.30000000000000004,
            "bin_end": 0.4,
            "count": 0
           },
           {
            "bin_start": 0.4,
            "bin_end": 0.5,
            "count": 0
           },
           {
            "bin_start": 0.5,
            "bin_end": 0.6000000000000001,
            "count": 0
           },
           {
            "bin_start": 0.6000000000000001,
            "bin_end": 0.7000000000000001,
            "count": 0
           },
           {
            "bin_start": 0.7000000000000001,
            "bin_end": 0.8,
            "count": 0
           },
           {
            "bin_start": 0.8,
            "bin_end": 0.9,
            "count": 0
           },
           {
            "bin_start": 0.9,
            "bin_end": 1,
            "count": 391
           }
          ]
         }
        },
        {
         "name": "pclass",
         "dtype": "int64",
         "stats": {
          "unique_count": 3,
          "nan_count": 0,
          "min": "1",
          "max": "3",
          "histogram": [
           {
            "bin_start": 1,
            "bin_end": 1.2,
            "count": 249
           },
           {
            "bin_start": 1.2,
            "bin_end": 1.4,
            "count": 0
           },
           {
            "bin_start": 1.4,
            "bin_end": 1.6,
            "count": 0
           },
           {
            "bin_start": 1.6,
            "bin_end": 1.8,
            "count": 0
           },
           {
            "bin_start": 1.8,
            "bin_end": 2,
            "count": 0
           },
           {
            "bin_start": 2,
            "bin_end": 2.2,
            "count": 209
           },
           {
            "bin_start": 2.2,
            "bin_end": 2.4000000000000004,
            "count": 0
           },
           {
            "bin_start": 2.4000000000000004,
            "bin_end": 2.6,
            "count": 0
           },
           {
            "bin_start": 2.6,
            "bin_end": 2.8,
            "count": 0
           },
           {
            "bin_start": 2.8,
            "bin_end": 3,
            "count": 542
           }
          ]
         }
        },
        {
         "name": "sex",
         "dtype": "int8",
         "stats": {
          "unique_count": 2,
          "nan_count": 0,
          "min": "0",
          "max": "1",
          "histogram": [
           {
            "bin_start": 0,
            "bin_end": 0.1,
            "count": 354
           },
           {
            "bin_start": 0.1,
            "bin_end": 0.2,
            "count": 0
           },
           {
            "bin_start": 0.2,
            "bin_end": 0.30000000000000004,
            "count": 0
           },
           {
            "bin_start": 0.30000000000000004,
            "bin_end": 0.4,
            "count": 0
           },
           {
            "bin_start": 0.4,
            "bin_end": 0.5,
            "count": 0
           },
           {
            "bin_start": 0.5,
            "bin_end": 0.6000000000000001,
            "count": 0
           },
           {
            "bin_start": 0.6000000000000001,
            "bin_end": 0.7000000000000001,
            "count": 0
           },
           {
            "bin_start": 0.7000000000000001,
            "bin_end": 0.8,
            "count": 0
           },
           {
            "bin_start": 0.8,
            "bin_end": 0.9,
            "count": 0
           },
           {
            "bin_start": 0.9,
            "bin_end": 1,
            "count": 646
           }
          ]
         }
        },
        {
         "name": "age",
         "dtype": "float64",
         "stats": {
          "unique_count": 96,
          "nan_count": 0,
          "min": "0.1667",
          "max": "76.0",
          "histogram": [
           {
            "bin_start": 0.1667,
            "bin_end": 7.750029999999999,
            "count": 46
           },
           {
            "bin_start": 7.750029999999999,
            "bin_end": 15.333359999999999,
            "count": 38
           },
           {
            "bin_start": 15.333359999999999,
            "bin_end": 22.916689999999996,
            "count": 163
           },
           {
            "bin_start": 22.916689999999996,
            "bin_end": 30.500019999999996,
            "count": 390
           },
           {
            "bin_start": 30.500019999999996,
            "bin_end": 38.083349999999996,
            "count": 131
           },
           {
            "bin_start": 38.083349999999996,
            "bin_end": 45.66667999999999,
            "count": 113
           },
           {
            "bin_start": 45.66667999999999,
            "bin_end": 53.250009999999996,
            "count": 63
           },
           {
            "bin_start": 53.250009999999996,
            "bin_end": 60.83333999999999,
            "count": 32
           },
           {
            "bin_start": 60.83333999999999,
            "bin_end": 68.41667,
            "count": 18
           },
           {
            "bin_start": 68.41667,
            "bin_end": 76,
            "count": 6
           }
          ]
         }
        },
        {
         "name": "sibsp",
         "dtype": "int64",
         "stats": {
          "unique_count": 7,
          "nan_count": 0,
          "min": "0",
          "max": "8",
          "histogram": [
           {
            "bin_start": 0,
            "bin_end": 0.8,
            "count": 677
           },
           {
            "bin_start": 0.8,
            "bin_end": 1.6,
            "count": 246
           },
           {
            "bin_start": 1.6,
            "bin_end": 2.4000000000000004,
            "count": 34
           },
           {
            "bin_start": 2.4000000000000004,
            "bin_end": 3.2,
            "count": 15
           },
           {
            "bin_start": 3.2,
            "bin_end": 4,
            "count": 0
           },
           {
            "bin_start": 4,
            "bin_end": 4.800000000000001,
            "count": 18
           },
           {
            "bin_start": 4.800000000000001,
            "bin_end": 5.6000000000000005,
            "count": 4
           },
           {
            "bin_start": 5.6000000000000005,
            "bin_end": 6.4,
            "count": 0
           },
           {
            "bin_start": 6.4,
            "bin_end": 7.2,
            "count": 0
           },
           {
            "bin_start": 7.2,
            "bin_end": 8,
            "count": 6
           }
          ]
         }
        },
        {
         "name": "parch",
         "dtype": "int64",
         "stats": {
          "unique_count": 7,
          "nan_count": 0,
          "min": "0",
          "max": "9",
          "histogram": [
           {
            "bin_start": 0,
            "bin_end": 0.9,
            "count": 768
           },
           {
            "bin_start": 0.9,
            "bin_end": 1.8,
            "count": 126
           },
           {
            "bin_start": 1.8,
            "bin_end": 2.7,
            "count": 89
           },
           {
            "bin_start": 2.7,
            "bin_end": 3.6,
            "count": 4
           },
           {
            "bin_start": 3.6,
            "bin_end": 4.5,
            "count": 5
           },
           {
            "bin_start": 4.5,
            "bin_end": 5.4,
            "count": 6
           },
           {
            "bin_start": 5.4,
            "bin_end": 6.3,
            "count": 0
           },
           {
            "bin_start": 6.3,
            "bin_end": 7.2,
            "count": 0
           },
           {
            "bin_start": 7.2,
            "bin_end": 8.1,
            "count": 0
           },
           {
            "bin_start": 8.1,
            "bin_end": 9,
            "count": 2
           }
          ]
         }
        },
        {
         "name": "fare",
         "dtype": "float64",
         "stats": {
          "unique_count": 249,
          "nan_count": 0,
          "min": "0.0",
          "max": "512.3292",
          "histogram": [
           {
            "bin_start": 0,
            "bin_end": 51.23292,
            "count": 817
           },
           {
            "bin_start": 51.23292,
            "bin_end": 102.46584,
            "count": 123
           },
           {
            "bin_start": 102.46584,
            "bin_end": 153.69876,
            "count": 29
           },
           {
            "bin_start": 153.69876,
            "bin_end": 204.93168,
            "count": 1
           },
           {
            "bin_start": 204.93168,
            "bin_end": 256.1646,
            "count": 17
           },
           {
            "bin_start": 256.1646,
            "bin_end": 307.39752,
            "count": 9
           },
           {
            "bin_start": 307.39752,
            "bin_end": 358.63044,
            "count": 0
           },
           {
            "bin_start": 358.63044,
            "bin_end": 409.86336,
            "count": 0
           },
           {
            "bin_start": 409.86336,
            "bin_end": 461.09628,
            "count": 0
           },
           {
            "bin_start": 461.09628,
            "bin_end": 512.3292,
            "count": 4
           }
          ]
         }
        },
        {
         "name": "embarked",
         "dtype": "int8",
         "stats": {
          "unique_count": 3,
          "nan_count": 0,
          "min": "0",
          "max": "2",
          "histogram": [
           {
            "bin_start": 0,
            "bin_end": 0.2,
            "count": 207
           },
           {
            "bin_start": 0.2,
            "bin_end": 0.4,
            "count": 0
           },
           {
            "bin_start": 0.4,
            "bin_end": 0.6000000000000001,
            "count": 0
           },
           {
            "bin_start": 0.6000000000000001,
            "bin_end": 0.8,
            "count": 0
           },
           {
            "bin_start": 0.8,
            "bin_end": 1,
            "count": 0
           },
           {
            "bin_start": 1,
            "bin_end": 1.2000000000000002,
            "count": 97
           },
           {
            "bin_start": 1.2000000000000002,
            "bin_end": 1.4000000000000001,
            "count": 0
           },
           {
            "bin_start": 1.4000000000000001,
            "bin_end": 1.6,
            "count": 0
           },
           {
            "bin_start": 1.6,
            "bin_end": 1.8,
            "count": 0
           },
           {
            "bin_start": 1.8,
            "bin_end": 2,
            "count": 696
           }
          ]
         }
        },
        {
         "name": "_deepnote_index_column",
         "dtype": "int64"
        }
       ],
       "rows": [
        {
         "survived": 1,
         "pclass": 3,
         "sex": 1,
         "age": 27,
         "sibsp": 0,
         "parch": 0,
         "fare": 7.7958,
         "embarked": 2,
         "_deepnote_index_column": 0
        },
        {
         "survived": 1,
         "pclass": 3,
         "sex": 1,
         "age": 45,
         "sibsp": 0,
         "parch": 0,
         "fare": 8.05,
         "embarked": 2,
         "_deepnote_index_column": 1
        },
        {
         "survived": 0,
         "pclass": 2,
         "sex": 1,
         "age": 26.107551875000002,
         "sibsp": 0,
         "parch": 0,
         "fare": 0,
         "embarked": 2,
         "_deepnote_index_column": 2
        },
        {
         "survived": 1,
         "pclass": 3,
         "sex": 0,
         "age": 27,
         "sibsp": 0,
         "parch": 2,
         "fare": 11.1333,
         "embarked": 2,
         "_deepnote_index_column": 3
        },
        {
         "survived": 0,
         "pclass": 1,
         "sex": 1,
         "age": 28,
         "sibsp": 1,
         "parch": 0,
         "fare": 82.1708,
         "embarked": 0,
         "_deepnote_index_column": 4
        },
        {
         "survived": 0,
         "pclass": 3,
         "sex": 1,
         "age": 26.107551875000002,
         "sibsp": 0,
         "parch": 0,
         "fare": 7.2292,
         "embarked": 0,
         "_deepnote_index_column": 5
        },
        {
         "survived": 0,
         "pclass": 1,
         "sex": 1,
         "age": 47,
         "sibsp": 1,
         "parch": 0,
         "fare": 227.525,
         "embarked": 0,
         "_deepnote_index_column": 6
        },
        {
         "survived": 1,
         "pclass": 2,
         "sex": 1,
         "age": 8,
         "sibsp": 0,
         "parch": 2,
         "fare": 32.5,
         "embarked": 2,
         "_deepnote_index_column": 7
        },
        {
         "survived": 1,
         "pclass": 1,
         "sex": 0,
         "age": 49,
         "sibsp": 1,
         "parch": 0,
         "fare": 76.7292,
         "embarked": 0,
         "_deepnote_index_column": 8
        },
        {
         "survived": 1,
         "pclass": 2,
         "sex": 0,
         "age": 19,
         "sibsp": 1,
         "parch": 0,
         "fare": 26,
         "embarked": 2,
         "_deepnote_index_column": 9
        }
       ]
      },
      "text/plain": "     survived  pclass  sex        age  sibsp  parch      fare  embarked\n0           1       3    1  27.000000      0      0    7.7958         2\n1           1       3    1  45.000000      0      0    8.0500         2\n2           0       2    1  26.107552      0      0    0.0000         2\n3           1       3    0  27.000000      0      2   11.1333         2\n4           0       1    1  28.000000      1      0   82.1708         0\n..        ...     ...  ...        ...    ...    ...       ...       ...\n995         1       1    0  22.000000      0      0  151.5500         2\n996         0       2    1  21.000000      0      0   73.5000         2\n997         1       1    0  24.000000      0      0   69.3000         0\n998         0       3    1  26.107552      8      2   69.5500         2\n999         0       3    1  20.000000      0      0    7.0500         2\n\n[1000 rows x 8 columns]",
      "text/html": "<div>\n<style scoped>\n    .dataframe tbody tr th:only-of-type {\n        vertical-align: middle;\n    }\n\n    .dataframe tbody tr th {\n        vertical-align: top;\n    }\n\n    .dataframe thead th {\n        text-align: right;\n    }\n</style>\n<table border=\"1\" class=\"dataframe\">\n  <thead>\n    <tr style=\"text-align: right;\">\n      <th></th>\n      <th>survived</th>\n      <th>pclass</th>\n      <th>sex</th>\n      <th>age</th>\n      <th>sibsp</th>\n      <th>parch</th>\n      <th>fare</th>\n      <th>embarked</th>\n    </tr>\n  </thead>\n  <tbody>\n    <tr>\n      <th>0</th>\n      <td>1</td>\n      <td>3</td>\n      <td>1</td>\n      <td>27.000000</td>\n      <td>0</td>\n      <td>0</td>\n      <td>7.7958</td>\n      <td>2</td>\n    </tr>\n    <tr>\n      <th>1</th>\n      <td>1</td>\n      <td>3</td>\n      <td>1</td>\n      <td>45.000000</td>\n      <td>0</td>\n      <td>0</td>\n      <td>8.0500</td>\n      <td>2</td>\n    </tr>\n    <tr>\n      <th>2</th>\n      <td>0</td>\n      <td>2</td>\n      <td>1</td>\n      <td>26.107552</td>\n      <td>0</td>\n      <td>0</td>\n      <td>0.0000</td>\n      <td>2</td>\n    </tr>\n    <tr>\n      <th>3</th>\n      <td>1</td>\n      <td>3</td>\n      <td>0</td>\n      <td>27.000000</td>\n      <td>0</td>\n      <td>2</td>\n      <td>11.1333</td>\n      <td>2</td>\n    </tr>\n    <tr>\n      <th>4</th>\n      <td>0</td>\n      <td>1</td>\n      <td>1</td>\n      <td>28.000000</td>\n      <td>1</td>\n      <td>0</td>\n      <td>82.1708</td>\n      <td>0</td>\n    </tr>\n    <tr>\n      <th>...</th>\n      <td>...</td>\n      <td>...</td>\n      <td>...</td>\n      <td>...</td>\n      <td>...</td>\n      <td>...</td>\n      <td>...</td>\n      <td>...</td>\n    </tr>\n    <tr>\n      <th>995</th>\n      <td>1</td>\n      <td>1</td>\n      <td>0</td>\n      <td>22.000000</td>\n      <td>0</td>\n      <td>0</td>\n      <td>151.5500</td>\n      <td>2</td>\n    </tr>\n    <tr>\n      <th>996</th>\n      <td>0</td>\n      <td>2</td>\n      <td>1</td>\n      <td>21.000000</td>\n      <td>0</td>\n      <td>0</td>\n      <td>73.5000</td>\n      <td>2</td>\n    </tr>\n    <tr>\n      <th>997</th>\n      <td>1</td>\n      <td>1</td>\n      <td>0</td>\n      <td>24.000000</td>\n      <td>0</td>\n      <td>0</td>\n      <td>69.3000</td>\n      <td>0</td>\n    </tr>\n    <tr>\n      <th>998</th>\n      <td>0</td>\n      <td>3</td>\n      <td>1</td>\n      <td>26.107552</td>\n      <td>8</td>\n      <td>2</td>\n      <td>69.5500</td>\n      <td>2</td>\n    </tr>\n    <tr>\n      <th>999</th>\n      <td>0</td>\n      <td>3</td>\n      <td>1</td>\n      <td>20.000000</td>\n      <td>0</td>\n      <td>0</td>\n      <td>7.0500</td>\n      <td>2</td>\n    </tr>\n  </tbody>\n</table>\n<p>1000 rows × 8 columns</p>\n</div>"
     },
     "metadata": {}
    }
   ]
  },
  {
   "cell_type": "markdown",
   "source": "## Předpověď survived",
   "metadata": {
    "tags": [],
    "cell_id": "00031-4c36153a-4636-4c11-8e2f-0d9bab871244",
    "deepnote_cell_type": "markdown",
    "deepnote_cell_height": 70
   }
  },
  {
   "cell_type": "code",
   "metadata": {
    "tags": [],
    "cell_id": "00032-93fadbff-9375-482d-9497-e5d263ea4fb5",
    "deepnote_to_be_reexecuted": false,
    "source_hash": "170f47a6",
    "execution_start": 1641768315851,
    "execution_millis": 7,
    "deepnote_cell_type": "code",
    "deepnote_cell_height": 94
   },
   "source": "X = df.drop(columns=['survived'])\ny = df['survived']",
   "execution_count": null,
   "outputs": []
  },
  {
   "cell_type": "code",
   "metadata": {
    "tags": [],
    "cell_id": "00019-645b7420-8b55-4f0e-b8c5-ded68848031b",
    "deepnote_to_be_reexecuted": false,
    "source_hash": "7d04435b",
    "execution_start": 1641768315910,
    "execution_millis": 1,
    "deepnote_cell_type": "code",
    "deepnote_cell_height": 112.1875,
    "deepnote_output_heights": [
     20.1875
    ]
   },
   "source": "dt.fit(X, y)",
   "execution_count": null,
   "outputs": [
    {
     "output_type": "execute_result",
     "execution_count": 24,
     "data": {
      "text/plain": "DecisionTreeClassifier()"
     },
     "metadata": {}
    }
   ]
  },
  {
   "cell_type": "code",
   "metadata": {
    "tags": [],
    "cell_id": "00021-279343ef-ffdf-47af-92cf-597e20aa989a",
    "deepnote_to_be_reexecuted": false,
    "source_hash": "7374347e",
    "execution_start": 1641768315912,
    "execution_millis": 290,
    "is_output_hidden": false,
    "deepnote_cell_type": "code",
    "deepnote_cell_height": 703.203125,
    "deepnote_output_heights": [
     null,
     20.1875,
     20.1875,
     null,
     20.1875,
     20.1875,
     null,
     20.1875,
     20.1875
    ]
   },
   "source": "rd_seed = 228\nfrom sklearn.model_selection import train_test_split\nXtrain, Xtest, ytrain, ytest = train_test_split(X, y, test_size=0.25, random_state=rd_seed)\nprint(\"původní data\")\ndisplay(X.shape)\ndisplay(y.shape)\nprint(\"trénovací data\")\ndisplay(Xtrain.shape)\ndisplay(ytrain.shape)\nprint(\"testovací data\")\ndisplay(Xtest.shape)\ndisplay(ytest.shape)",
   "execution_count": null,
   "outputs": [
    {
     "name": "stdout",
     "text": "původní data\n",
     "output_type": "stream",
     "data": {}
    },
    {
     "data": {
      "text/plain": "(1000, 7)"
     },
     "metadata": {},
     "output_type": "display_data"
    },
    {
     "data": {
      "text/plain": "(1000,)"
     },
     "metadata": {},
     "output_type": "display_data"
    },
    {
     "name": "stdout",
     "text": "trénovací data\n",
     "output_type": "stream",
     "data": {}
    },
    {
     "data": {
      "text/plain": "(750, 7)"
     },
     "metadata": {},
     "output_type": "display_data"
    },
    {
     "data": {
      "text/plain": "(750,)"
     },
     "metadata": {},
     "output_type": "display_data"
    },
    {
     "name": "stdout",
     "text": "testovací data\n",
     "output_type": "stream",
     "data": {}
    },
    {
     "data": {
      "text/plain": "(250, 7)"
     },
     "metadata": {},
     "output_type": "display_data"
    },
    {
     "data": {
      "text/plain": "(250,)"
     },
     "metadata": {},
     "output_type": "display_data"
    }
   ]
  },
  {
   "cell_type": "markdown",
   "source": "* Mějme navíc i validační množinu (data se tedy děli do 3 kategorií: trénovací, testovací a validační)",
   "metadata": {
    "tags": [],
    "cell_id": "00023-76ecb091-5d2b-4afb-bfd9-e14e544f1b14",
    "deepnote_cell_type": "markdown",
    "deepnote_cell_height": 69.390625
   }
  },
  {
   "cell_type": "code",
   "metadata": {
    "tags": [],
    "cell_id": "00022-cfd320ed-7e70-4c2e-85d0-616d4ed8d267",
    "deepnote_to_be_reexecuted": false,
    "source_hash": "54762b20",
    "execution_start": 1641768315999,
    "execution_millis": 204,
    "is_output_hidden": false,
    "deepnote_cell_type": "code",
    "deepnote_cell_height": 465.140625,
    "deepnote_output_heights": [
     null,
     20.1875,
     20.1875,
     null,
     20.1875,
     20.1875
    ]
   },
   "source": "Xtrain, Xval, ytrain, yval = train_test_split(Xtrain, ytrain, test_size=0.25, random_state=rd_seed) \nprint('nové trénovací data')\ndisplay(Xtrain.shape)\ndisplay(ytrain.shape)\nprint('validační data')\ndisplay(Xval.shape)\ndisplay(yval.shape)",
   "execution_count": null,
   "outputs": [
    {
     "name": "stdout",
     "text": "nové trénovací data\n",
     "output_type": "stream",
     "data": {}
    },
    {
     "data": {
      "text/plain": "(562, 7)"
     },
     "metadata": {},
     "output_type": "display_data"
    },
    {
     "data": {
      "text/plain": "(562,)"
     },
     "metadata": {},
     "output_type": "display_data"
    },
    {
     "name": "stdout",
     "text": "validační data\n",
     "output_type": "stream",
     "data": {}
    },
    {
     "data": {
      "text/plain": "(188, 7)"
     },
     "metadata": {},
     "output_type": "display_data"
    },
    {
     "data": {
      "text/plain": "(188,)"
     },
     "metadata": {},
     "output_type": "display_data"
    }
   ]
  },
  {
   "cell_type": "code",
   "metadata": {
    "tags": [],
    "cell_id": "00023-d7c68dce-b722-4c99-89ed-e4842faad520",
    "deepnote_to_be_reexecuted": false,
    "source_hash": "62589d46",
    "execution_start": 1641768316059,
    "execution_millis": 145,
    "deepnote_cell_type": "code",
    "deepnote_cell_height": 130.1875,
    "deepnote_output_heights": [
     20.1875
    ]
   },
   "source": "dt = DecisionTreeClassifier(max_depth=5)\ndt.fit(Xtrain, ytrain)",
   "execution_count": null,
   "outputs": [
    {
     "output_type": "execute_result",
     "execution_count": 27,
     "data": {
      "text/plain": "DecisionTreeClassifier(max_depth=5)"
     },
     "metadata": {}
    }
   ]
  },
  {
   "cell_type": "code",
   "metadata": {
    "tags": [],
    "cell_id": "00024-3635734a-8840-4444-8ea9-b7502857a5d1",
    "deepnote_to_be_reexecuted": false,
    "source_hash": "2aa811c9",
    "execution_start": 1641768316110,
    "execution_millis": 94,
    "deepnote_cell_type": "code",
    "deepnote_cell_height": 76
   },
   "source": "ypredicted = dt.predict(Xtrain)",
   "execution_count": null,
   "outputs": []
  },
  {
   "cell_type": "code",
   "metadata": {
    "tags": [],
    "cell_id": "00025-926c7746-94c2-455c-ae34-c5df443e9039",
    "deepnote_to_be_reexecuted": false,
    "source_hash": "19c444c5",
    "execution_start": 1641768316111,
    "execution_millis": 94,
    "deepnote_cell_type": "code",
    "deepnote_cell_height": 169.78125,
    "deepnote_output_heights": [
     77.78125
    ]
   },
   "source": "(ytrain - ypredicted).value_counts(normalize=True)",
   "execution_count": null,
   "outputs": [
    {
     "output_type": "execute_result",
     "execution_count": 29,
     "data": {
      "text/plain": " 0    0.857651\n 1    0.117438\n-1    0.024911\nName: survived, dtype: float64"
     },
     "metadata": {}
    }
   ]
  },
  {
   "cell_type": "code",
   "metadata": {
    "tags": [],
    "cell_id": "00026-567de75d-2d66-46aa-abd6-17ea0a638d3c",
    "deepnote_to_be_reexecuted": false,
    "source_hash": "2c403f2a",
    "execution_start": 1641768316112,
    "execution_millis": 94,
    "deepnote_cell_type": "code",
    "deepnote_cell_height": 124.6875
   },
   "source": "import sklearn.metrics as metrics\nprint('accuracy score (train): {0:.6f}'.format(metrics.accuracy_score(ytrain, dt.predict(Xtrain))))",
   "execution_count": null,
   "outputs": [
    {
     "name": "stdout",
     "text": "accuracy score (train): 0.857651\n",
     "output_type": "stream",
     "data": {}
    }
   ]
  },
  {
   "cell_type": "code",
   "metadata": {
    "tags": [],
    "cell_id": "00029-fd886466-33a6-4a9a-9abe-edfb7ce32038",
    "deepnote_to_be_reexecuted": false,
    "source_hash": "bed37013",
    "execution_start": 1641768316154,
    "execution_millis": 53,
    "deepnote_cell_type": "code",
    "deepnote_cell_height": 124.6875
   },
   "source": "import sklearn.metrics as metrics\nprint('accuracy score (test): {0:.6f}'.format(metrics.accuracy_score(ytest, dt.predict(Xtest))))",
   "execution_count": null,
   "outputs": [
    {
     "name": "stdout",
     "text": "accuracy score (test): 0.772000\n",
     "output_type": "stream",
     "data": {}
    }
   ]
  },
  {
   "cell_type": "markdown",
   "source": "* Ladění **max_depth** parametru",
   "metadata": {
    "tags": [],
    "cell_id": "00030-50736219-0a29-4f96-9e86-07568704b05c",
    "deepnote_cell_type": "markdown",
    "deepnote_cell_height": 69.390625
   }
  },
  {
   "cell_type": "code",
   "metadata": {
    "tags": [],
    "cell_id": "00027-94eae641-0603-45f9-82eb-ee95f6f52620",
    "deepnote_to_be_reexecuted": false,
    "source_hash": "2f58c0d9",
    "execution_start": 1641768316155,
    "execution_millis": 1377,
    "deepnote_cell_type": "code",
    "deepnote_cell_height": 202
   },
   "source": "val_acc = []\ntrain_acc = []\ndepths = range(1,101)\nfor depth in depths:\n    dt = DecisionTreeClassifier(max_depth=depth)\n    dt.fit(Xtrain, ytrain)\n    train_acc.append(metrics.accuracy_score(ytrain, dt.predict(Xtrain)))\n    val_acc.append(metrics.accuracy_score(yval, dt.predict(Xval)))",
   "execution_count": null,
   "outputs": []
  },
  {
   "cell_type": "code",
   "metadata": {
    "tags": [],
    "cell_id": "00028-1f0d7db8-3aa7-49fe-89e4-f0a6735e25ae",
    "deepnote_to_be_reexecuted": false,
    "source_hash": "44255c0e",
    "execution_start": 1641768317551,
    "execution_millis": 3424,
    "deepnote_cell_type": "code",
    "deepnote_cell_height": 562.1875,
    "deepnote_output_heights": [
     20.1875,
     275
    ]
   },
   "source": "import matplotlib\nimport matplotlib.pyplot as plt\n%matplotlib inline\nplt.figure(figsize=(20,6))\nplt.plot(depths, train_acc,'or-') #o: body, r: barva, -: spojení bodů linkou\nplt.plot(depths, val_acc,'ob-')\nplt.xlabel('max_depth')\nplt.ylabel('accuracy')\nplt.legend(['train', 'validation'])",
   "execution_count": null,
   "outputs": [
    {
     "output_type": "execute_result",
     "execution_count": 33,
     "data": {
      "text/plain": "<matplotlib.legend.Legend at 0x7fa094409990>"
     },
     "metadata": {}
    },
    {
     "data": {
      "text/plain": "<Figure size 1440x432 with 1 Axes>",
      "image/png": "[encoded data removed]"
     },
     "metadata": {
      "needs_background": "light",
      "image/png": {
       "width": 1173,
       "height": 372
      }
     },
     "output_type": "display_data"
    }
   ]
  },
  {
   "cell_type": "code",
   "metadata": {
    "tags": [],
    "cell_id": "00029-0fbffb54-4585-47f4-aa62-6e77c4e0a1e3",
    "deepnote_to_be_reexecuted": false,
    "source_hash": "a732f2d8",
    "execution_start": 1641768320981,
    "execution_millis": 14,
    "deepnote_cell_type": "code",
    "deepnote_cell_height": 130.1875,
    "deepnote_output_heights": [
     20.1875
    ]
   },
   "source": "optimal_depth = np.argmax(val_acc) + 1\noptimal_depth ",
   "execution_count": null,
   "outputs": [
    {
     "output_type": "execute_result",
     "execution_count": 34,
     "data": {
      "text/plain": "3"
     },
     "metadata": {}
    }
   ]
  },
  {
   "cell_type": "code",
   "metadata": {
    "tags": [],
    "cell_id": "00035-ce912aa6-4ac3-4cc1-b582-bc475ac118cd",
    "deepnote_to_be_reexecuted": false,
    "source_hash": "702feb4a",
    "execution_start": 1641768321026,
    "execution_millis": 6081539199,
    "deepnote_cell_type": "code",
    "deepnote_cell_height": 111.1875
   },
   "source": "print(val_acc)",
   "execution_count": null,
   "outputs": [
    {
     "name": "stdout",
     "text": "[0.8085106382978723, 0.7553191489361702, 0.8191489361702128, 0.7925531914893617, 0.7925531914893617, 0.7659574468085106, 0.75, 0.7446808510638298, 0.7712765957446809, 0.7287234042553191, 0.7606382978723404, 0.7712765957446809, 0.7287234042553191, 0.7659574468085106, 0.7393617021276596, 0.7393617021276596, 0.7340425531914894, 0.7340425531914894, 0.7606382978723404, 0.7340425531914894, 0.7553191489361702, 0.7287234042553191, 0.7553191489361702, 0.7553191489361702, 0.7553191489361702, 0.7553191489361702, 0.75, 0.7553191489361702, 0.7553191489361702, 0.7553191489361702, 0.7287234042553191, 0.75, 0.75, 0.7287234042553191, 0.7659574468085106, 0.7393617021276596, 0.75, 0.723404255319149, 0.7553191489361702, 0.7606382978723404, 0.7553191489361702, 0.7606382978723404, 0.723404255319149, 0.7393617021276596, 0.75, 0.7446808510638298, 0.7553191489361702, 0.7606382978723404, 0.7553191489361702, 0.7446808510638298, 0.7446808510638298, 0.7446808510638298, 0.7446808510638298, 0.75, 0.7393617021276596, 0.75, 0.7393617021276596, 0.75, 0.7446808510638298, 0.7712765957446809, 0.7446808510638298, 0.75, 0.7553191489361702, 0.7340425531914894, 0.7553191489361702, 0.7340425531914894, 0.75, 0.7446808510638298, 0.7553191489361702, 0.7340425531914894, 0.7393617021276596, 0.7606382978723404, 0.7446808510638298, 0.7393617021276596, 0.7446808510638298, 0.7340425531914894, 0.7446808510638298, 0.7659574468085106, 0.7393617021276596, 0.7606382978723404, 0.7606382978723404, 0.7446808510638298, 0.7180851063829787, 0.75, 0.7446808510638298, 0.7446808510638298, 0.7553191489361702, 0.7180851063829787, 0.7393617021276596, 0.7393617021276596, 0.7606382978723404, 0.776595744680851, 0.7446808510638298, 0.7287234042553191, 0.7553191489361702, 0.75, 0.7606382978723404, 0.7606382978723404, 0.75, 0.7553191489361702]\n",
     "output_type": "stream",
     "data": {}
    }
   ]
  },
  {
   "cell_type": "code",
   "metadata": {
    "tags": [],
    "cell_id": "00030-b2245b5d-69a0-4b3c-ba37-fc1962c65c22",
    "deepnote_to_be_reexecuted": false,
    "source_hash": "2222fd3d",
    "execution_start": 1641768321027,
    "execution_millis": 5,
    "deepnote_cell_type": "code",
    "deepnote_cell_height": 142.6875
   },
   "source": "dt = DecisionTreeClassifier(max_depth=optimal_depth)\ndt.fit(Xtrain, ytrain)\nprint('accuracy score (test): {0:.6f}'.format(metrics.accuracy_score(ytest, dt.predict(Xtest))))",
   "execution_count": null,
   "outputs": [
    {
     "name": "stdout",
     "text": "accuracy score (test): 0.788000\n",
     "output_type": "stream",
     "data": {}
    }
   ]
  },
  {
   "cell_type": "code",
   "metadata": {
    "tags": [],
    "cell_id": "00031-dcf99b5b-38ff-4fd9-91d3-76fe0dc71393",
    "deepnote_to_be_reexecuted": false,
    "source_hash": "d230a2f8",
    "execution_start": 1641768321028,
    "execution_millis": 2,
    "deepnote_cell_type": "code",
    "deepnote_cell_height": 166
   },
   "source": "from sklearn.model_selection import ParameterGrid\nparam_grid = {\n    'max_depth': range(1,31), \n    'criterion': ['entropy', 'gini']\n}\nparam_comb = ParameterGrid(param_grid)",
   "execution_count": null,
   "outputs": []
  },
  {
   "cell_type": "code",
   "metadata": {
    "tags": [],
    "cell_id": "00032-4038372b-aa3b-492a-888c-b313b8d3aa17",
    "deepnote_to_be_reexecuted": false,
    "source_hash": "90cdb773",
    "execution_start": 1641768321036,
    "execution_millis": 776,
    "deepnote_cell_type": "code",
    "deepnote_cell_height": 238
   },
   "source": "val_acc = []\ntrain_acc = []\ntest_acc = []\nfor params in param_comb:\n    dt = DecisionTreeClassifier(max_depth=params['max_depth'], criterion=params['criterion'])\n    dt.fit(Xtrain, ytrain)\n    train_acc.append(metrics.accuracy_score(ytrain, dt.predict(Xtrain)))\n    val_acc.append(metrics.accuracy_score(yval, dt.predict(Xval)))\n    test_acc.append(metrics.accuracy_score(ytest, dt.predict(Xtest)))\n",
   "execution_count": null,
   "outputs": []
  },
  {
   "cell_type": "code",
   "metadata": {
    "tags": [],
    "cell_id": "00033-27abcc74-906e-478b-b856-cac704d1df4e",
    "deepnote_to_be_reexecuted": false,
    "source_hash": "c7237039",
    "execution_start": 1641768321828,
    "execution_millis": 607,
    "deepnote_cell_type": "code",
    "deepnote_cell_height": 652.828125,
    "deepnote_output_heights": [
     434.828125
    ]
   },
   "source": "plt.figure(figsize=(20,10))\nplt.plot(train_acc,'or-')\nplt.plot(val_acc,'ob-')\nplt.plot(test_acc,'og-')\nplt.xlabel('hyperparametr index')\nplt.ylabel('accuracy')\nplt.legend(['train', 'validation', 'test'])\nplt.show()",
   "execution_count": null,
   "outputs": [
    {
     "data": {
      "text/plain": "<Figure size 1440x720 with 1 Axes>",
      "image/png": "[encoded data removed]"
     },
     "metadata": {
      "needs_background": "light",
      "image/png": {
       "width": 1173,
       "height": 589
      }
     },
     "output_type": "display_data"
    }
   ]
  },
  {
   "cell_type": "markdown",
   "source": "* Našli jsme nejlepší parametry, na kterých teď náš model naučíme předpovídat",
   "metadata": {
    "tags": [],
    "cell_id": "00052-9c31747b-1fd2-4338-906f-f3dc16a168c1",
    "deepnote_cell_type": "markdown",
    "deepnote_cell_height": 69.390625
   }
  },
  {
   "cell_type": "code",
   "metadata": {
    "tags": [],
    "cell_id": "00034-de09ae0b-c5ab-4ecd-8d46-507e6e28c7d7",
    "deepnote_to_be_reexecuted": false,
    "source_hash": "a047312b",
    "execution_start": 1641768322478,
    "execution_millis": 2,
    "deepnote_cell_type": "code",
    "deepnote_cell_height": 275.46875
   },
   "source": "best_params = param_comb[np.argmax(val_acc)]\nprint(best_params)\nprint(\"Max accuracies:\")\nprint(train_acc[np.argmax(train_acc)])\nprint(val_acc[np.argmax(val_acc)])\nprint(test_acc[np.argmax(test_acc)])",
   "execution_count": null,
   "outputs": [
    {
     "name": "stdout",
     "text": "{'max_depth': 9, 'criterion': 'entropy'}\nMax accuracies:\n0.9786476868327402\n0.824468085106383\n0.812\n",
     "output_type": "stream",
     "data": {}
    }
   ]
  },
  {
   "cell_type": "code",
   "metadata": {
    "tags": [],
    "cell_id": "00035-aa7a96eb-20bc-44d8-b6cb-13d8aea7840e",
    "deepnote_to_be_reexecuted": false,
    "source_hash": "33c80010",
    "execution_start": 1641768322479,
    "execution_millis": 44,
    "deepnote_cell_type": "code",
    "deepnote_cell_height": 218.078125
   },
   "source": "dt = DecisionTreeClassifier(**best_params) \ndt.fit(Xtrain, ytrain)\nprint('accuracy score (train): {0:.6f}'.format(metrics.accuracy_score(ytrain, dt.predict(Xtrain))))\nprint('accuracy score (validation): {0:.6f}'.format(metrics.accuracy_score(yval, dt.predict(Xval))))\nprint('accuracy score (test): {0:.6f}'.format(metrics.accuracy_score(ytest, dt.predict(Xtest))))",
   "execution_count": null,
   "outputs": [
    {
     "name": "stdout",
     "text": "accuracy score (train): 0.886121\naccuracy score (validation): 0.808511\naccuracy score (test): 0.796000\n",
     "output_type": "stream",
     "data": {}
    }
   ]
  },
  {
   "cell_type": "markdown",
   "source": "* Přečteme a případně předzpracujeme dataframe na bázi evaluation.csv",
   "metadata": {
    "tags": [],
    "cell_id": "00046-310809d4-e22f-46d8-92b8-9136ac496b56",
    "deepnote_cell_type": "markdown",
    "deepnote_cell_height": 69.390625
   }
  },
  {
   "cell_type": "code",
   "metadata": {
    "tags": [],
    "cell_id": "00042-3d338750-feba-4dfc-bc98-8050f98a8465",
    "deepnote_to_be_reexecuted": false,
    "source_hash": "78523e06",
    "execution_start": 1641768322522,
    "execution_millis": 151,
    "deepnote_cell_type": "code",
    "deepnote_cell_height": 76
   },
   "source": "df2 = pd.read_csv('evaluation.csv')",
   "execution_count": null,
   "outputs": []
  },
  {
   "cell_type": "code",
   "metadata": {
    "tags": [],
    "cell_id": "00043-0c992135-292e-438e-b62e-4982cc56a9c1",
    "deepnote_to_be_reexecuted": false,
    "source_hash": "7cece97e",
    "execution_start": 1641768322681,
    "execution_millis": 14,
    "deepnote_cell_type": "code",
    "deepnote_cell_height": 342.53125,
    "deepnote_output_heights": [
     250.53125
    ]
   },
   "source": "df2.isnull().sum()",
   "execution_count": null,
   "outputs": [
    {
     "output_type": "execute_result",
     "execution_count": 43,
     "data": {
      "text/plain": "ID             0\npclass         0\nname           0\nsex            0\nage           60\nsibsp          0\nparch          0\nticket         0\nfare           0\ncabin        236\nembarked       1\nhome.dest    137\ndtype: int64"
     },
     "metadata": {}
    }
   ]
  },
  {
   "cell_type": "code",
   "metadata": {
    "tags": [],
    "cell_id": "00044-8bac5e47-1f0c-4e32-9118-3b66f0aad013",
    "deepnote_to_be_reexecuted": false,
    "source_hash": "a8ae9008",
    "execution_start": 1641768322754,
    "execution_millis": 3,
    "deepnote_cell_type": "code",
    "deepnote_cell_height": 182.078125
   },
   "source": "print(df.columns.values)\nprint(df2.columns.values)\ncols_to_drop = np.setdiff1d(df2.columns.values, df.columns.values)",
   "execution_count": null,
   "outputs": [
    {
     "name": "stdout",
     "text": "['survived' 'pclass' 'sex' 'age' 'sibsp' 'parch' 'fare' 'embarked']\n['ID' 'pclass' 'name' 'sex' 'age' 'sibsp' 'parch' 'ticket' 'fare' 'cabin'\n 'embarked' 'home.dest']\n",
     "output_type": "stream",
     "data": {}
    }
   ]
  },
  {
   "cell_type": "markdown",
   "source": "* Zbavíme se u df2 těch příznaků, které jsme pro učení našeho modelu nepoužívali a tudíž je nemůžeme použít i pro předpověď ",
   "metadata": {
    "tags": [],
    "cell_id": "00049-4cb03b3c-db83-4985-94eb-2de9c23a67d0",
    "deepnote_cell_type": "markdown",
    "deepnote_cell_height": 69.390625
   }
  },
  {
   "cell_type": "code",
   "metadata": {
    "tags": [],
    "cell_id": "00045-3b80b9e6-83bd-4065-865a-25671c8a5512",
    "deepnote_to_be_reexecuted": false,
    "source_hash": "665fa81",
    "execution_start": 1641768322755,
    "execution_millis": 0,
    "deepnote_cell_type": "code",
    "deepnote_cell_height": 76
   },
   "source": "df2.drop(columns=cols_to_drop, inplace=True)",
   "execution_count": null,
   "outputs": []
  },
  {
   "cell_type": "markdown",
   "source": "* Chybící hodnotu v embarked nahradíme za 'S', jelikož je to nejčastější hodnota v tomto sloupci + strašně malý počet dat chybí, tedy přidání hodnoty, která se vyskytuje nejčastěji, nám nijak neuškodí\n* Chybící věk naivně nahradíme aritemtickým průměrem",
   "metadata": {
    "tags": [],
    "cell_id": "00048-9d63785f-7541-45c3-91ed-0574beee324d",
    "deepnote_cell_type": "markdown",
    "deepnote_cell_height": 117.1875
   }
  },
  {
   "cell_type": "code",
   "metadata": {
    "tags": [],
    "cell_id": "00046-dcb3ba43-3291-4ac3-b386-a93ad1b82576",
    "deepnote_to_be_reexecuted": false,
    "source_hash": "b26a6783",
    "execution_start": 1641768322798,
    "execution_millis": 0,
    "deepnote_cell_type": "code",
    "deepnote_cell_height": 94
   },
   "source": "df2.isnull().sum()\ndf2['embarked'].fillna('S', inplace=True)",
   "execution_count": null,
   "outputs": []
  },
  {
   "cell_type": "markdown",
   "source": "* Číselně zakodujeme nečíselné hodnoty, abychom s dataframem mohli nakládat",
   "metadata": {
    "tags": [],
    "cell_id": "00066-c870e83a-4e63-4adf-926b-5050d9f00b7d",
    "deepnote_cell_type": "markdown",
    "deepnote_cell_height": 69.390625
   }
  },
  {
   "cell_type": "code",
   "metadata": {
    "tags": [],
    "cell_id": "00066-fe675dc1-be8a-4e82-8330-73c447edd17f",
    "deepnote_to_be_reexecuted": false,
    "source_hash": "fc67402",
    "execution_start": 1641768322798,
    "execution_millis": 3,
    "deepnote_cell_type": "code",
    "deepnote_cell_height": 142.6875
   },
   "source": "obj_cols = df2.select_dtypes(['object']).columns\nprint(obj_cols)\ndf2[obj_cols] = df2[obj_cols].astype('category').apply(lambda x: x.cat.codes)",
   "execution_count": null,
   "outputs": [
    {
     "name": "stdout",
     "text": "Index(['sex', 'embarked'], dtype='object')\n",
     "output_type": "stream",
     "data": {}
    }
   ]
  },
  {
   "cell_type": "markdown",
   "source": "* Chybící věk nahradíme pomocí předpovědí již natrénovaného modelu",
   "metadata": {
    "tags": [],
    "cell_id": "00066-e6f72652-bd83-44f2-a129-81d1d71d6336",
    "deepnote_cell_type": "markdown",
    "deepnote_cell_height": 69.390625
   }
  },
  {
   "cell_type": "code",
   "metadata": {
    "tags": [],
    "cell_id": "00063-9725b5ed-16d6-47e7-aa94-21ea1ebe06e2",
    "deepnote_to_be_reexecuted": false,
    "source_hash": "fa740fa6",
    "execution_start": 1641768322799,
    "execution_millis": 43,
    "deepnote_cell_type": "code",
    "deepnote_cell_height": 112
   },
   "source": "tmpX = df2[df2['age'].isnull()].drop(columns=['age'])\ntmpy = dt_age.predict(tmpX)\ndf2.loc[df2['age'].isnull(), 'age'] = tmpy",
   "execution_count": null,
   "outputs": []
  },
  {
   "cell_type": "code",
   "metadata": {
    "tags": [],
    "cell_id": "00069-6f82e557-5a52-4cc3-90b0-29db389925cd",
    "deepnote_to_be_reexecuted": false,
    "source_hash": "7cece97e",
    "execution_start": 1641768322842,
    "execution_millis": 2,
    "deepnote_cell_type": "code",
    "deepnote_cell_height": 246.5625,
    "deepnote_output_heights": [
     154.5625
    ]
   },
   "source": "df2.isnull().sum()",
   "execution_count": null,
   "outputs": [
    {
     "output_type": "execute_result",
     "execution_count": 49,
     "data": {
      "text/plain": "pclass      0\nsex         0\nage         0\nsibsp       0\nparch       0\nfare        0\nembarked    0\ndtype: int64"
     },
     "metadata": {}
    }
   ]
  },
  {
   "cell_type": "code",
   "metadata": {
    "tags": [],
    "cell_id": "00049-dcf2c851-0c2f-4845-8feb-09633cf2390c",
    "deepnote_to_be_reexecuted": false,
    "source_hash": "5d0f3a93",
    "execution_start": 1641768322860,
    "execution_millis": 359,
    "deepnote_cell_type": "code",
    "deepnote_cell_height": 380.921875,
    "deepnote_output_heights": [
     288.921875
    ]
   },
   "source": "dt.predict(df2)",
   "execution_count": null,
   "outputs": [
    {
     "output_type": "execute_result",
     "execution_count": 50,
     "data": {
      "text/plain": "array([1, 1, 1, 0, 0, 0, 0, 0, 1, 1, 1, 0, 1, 0, 0, 0, 0, 0, 1, 0, 0, 0,\n       0, 0, 0, 0, 0, 0, 0, 1, 1, 0, 0, 0, 1, 1, 0, 0, 1, 1, 0, 1, 1, 0,\n       0, 1, 0, 1, 1, 1, 0, 0, 0, 1, 0, 0, 1, 0, 0, 0, 1, 0, 0, 0, 1, 1,\n       1, 1, 1, 0, 0, 0, 0, 0, 0, 1, 0, 0, 1, 1, 0, 1, 1, 0, 1, 1, 0, 0,\n       0, 0, 0, 1, 1, 0, 0, 1, 0, 1, 0, 1, 0, 0, 1, 0, 0, 0, 0, 1, 1, 1,\n       1, 1, 1, 0, 0, 0, 1, 0, 1, 0, 0, 0, 0, 0, 0, 1, 0, 0, 0, 0, 1, 0,\n       1, 1, 1, 1, 0, 0, 1, 0, 0, 1, 0, 0, 0, 1, 1, 0, 0, 0, 0, 1, 1, 0,\n       0, 0, 0, 0, 1, 0, 1, 0, 1, 1, 0, 0, 0, 0, 0, 0, 0, 1, 0, 0, 0, 1,\n       1, 0, 0, 1, 0, 1, 0, 1, 0, 0, 1, 0, 1, 0, 1, 0, 1, 1, 0, 0, 0, 0,\n       0, 1, 1, 1, 1, 0, 1, 0, 1, 0, 0, 0, 0, 0, 1, 1, 1, 0, 0, 1, 1, 0,\n       1, 0, 1, 0, 0, 0, 1, 0, 0, 0, 1, 0, 0, 0, 0, 0, 1, 0, 1, 0, 1, 0,\n       0, 0, 1, 0, 1, 0, 0, 0, 0, 0, 1, 0, 1, 0, 0, 0, 0, 1, 0, 0, 0, 0,\n       0, 0, 0, 0, 0, 1, 1, 0, 0, 1, 0, 0, 0, 0, 0, 0, 0, 0, 1, 0, 0, 1,\n       0, 0, 0, 0, 0, 0, 1, 1, 1, 0, 1, 0, 0, 0, 0, 0, 0, 1, 1, 0, 0, 0,\n       0])"
     },
     "metadata": {}
    }
   ]
  },
  {
   "cell_type": "code",
   "metadata": {
    "tags": [],
    "cell_id": "00050-a2587296-5182-412f-9627-6001a5f9c80e",
    "deepnote_to_be_reexecuted": false,
    "source_hash": "d60f9395",
    "execution_start": 1641768322886,
    "execution_millis": 18,
    "deepnote_cell_type": "code",
    "deepnote_cell_height": 76
   },
   "source": "df_res = pd.DataFrame(data=dt.predict(df2), columns=['survived'])",
   "execution_count": null,
   "outputs": []
  },
  {
   "cell_type": "code",
   "metadata": {
    "tags": [],
    "cell_id": "00051-b581bc8e-0ca1-4ce4-899d-2bfa82d7512c",
    "deepnote_to_be_reexecuted": false,
    "source_hash": "16660442",
    "execution_start": 1641768322905,
    "execution_millis": 324,
    "is_output_hidden": false,
    "deepnote_cell_type": "code",
    "deepnote_cell_height": 595
   },
   "source": "df_res",
   "execution_count": null,
   "outputs": [
    {
     "output_type": "execute_result",
     "execution_count": 52,
     "data": {
      "application/vnd.deepnote.dataframe.v3+json": {
       "column_count": 1,
       "row_count": 309,
       "columns": [
        {
         "name": "survived",
         "dtype": "int64",
         "stats": {
          "unique_count": 2,
          "nan_count": 0,
          "min": "0",
          "max": "1",
          "histogram": [
           {
            "bin_start": 0,
            "bin_end": 0.1,
            "count": 199
           },
           {
            "bin_start": 0.1,
            "bin_end": 0.2,
            "count": 0
           },
           {
            "bin_start": 0.2,
            "bin_end": 0.30000000000000004,
            "count": 0
           },
           {
            "bin_start": 0.30000000000000004,
            "bin_end": 0.4,
            "count": 0
           },
           {
            "bin_start": 0.4,
            "bin_end": 0.5,
            "count": 0
           },
           {
            "bin_start": 0.5,
            "bin_end": 0.6000000000000001,
            "count": 0
           },
           {
            "bin_start": 0.6000000000000001,
            "bin_end": 0.7000000000000001,
            "count": 0
           },
           {
            "bin_start": 0.7000000000000001,
            "bin_end": 0.8,
            "count": 0
           },
           {
            "bin_start": 0.8,
            "bin_end": 0.9,
            "count": 0
           },
           {
            "bin_start": 0.9,
            "bin_end": 1,
            "count": 110
           }
          ]
         }
        },
        {
         "name": "_deepnote_index_column",
         "dtype": "int64"
        }
       ],
       "rows": [
        {
         "survived": 1,
         "_deepnote_index_column": 0
        },
        {
         "survived": 1,
         "_deepnote_index_column": 1
        },
        {
         "survived": 1,
         "_deepnote_index_column": 2
        },
        {
         "survived": 0,
         "_deepnote_index_column": 3
        },
        {
         "survived": 0,
         "_deepnote_index_column": 4
        },
        {
         "survived": 0,
         "_deepnote_index_column": 5
        },
        {
         "survived": 0,
         "_deepnote_index_column": 6
        },
        {
         "survived": 0,
         "_deepnote_index_column": 7
        },
        {
         "survived": 1,
         "_deepnote_index_column": 8
        },
        {
         "survived": 1,
         "_deepnote_index_column": 9
        }
       ]
      },
      "text/plain": "     survived\n0           1\n1           1\n2           1\n3           0\n4           0\n..        ...\n304         1\n305         0\n306         0\n307         0\n308         0\n\n[309 rows x 1 columns]",
      "text/html": "<div>\n<style scoped>\n    .dataframe tbody tr th:only-of-type {\n        vertical-align: middle;\n    }\n\n    .dataframe tbody tr th {\n        vertical-align: top;\n    }\n\n    .dataframe thead th {\n        text-align: right;\n    }\n</style>\n<table border=\"1\" class=\"dataframe\">\n  <thead>\n    <tr style=\"text-align: right;\">\n      <th></th>\n      <th>survived</th>\n    </tr>\n  </thead>\n  <tbody>\n    <tr>\n      <th>0</th>\n      <td>1</td>\n    </tr>\n    <tr>\n      <th>1</th>\n      <td>1</td>\n    </tr>\n    <tr>\n      <th>2</th>\n      <td>1</td>\n    </tr>\n    <tr>\n      <th>3</th>\n      <td>0</td>\n    </tr>\n    <tr>\n      <th>4</th>\n      <td>0</td>\n    </tr>\n    <tr>\n      <th>...</th>\n      <td>...</td>\n    </tr>\n    <tr>\n      <th>304</th>\n      <td>1</td>\n    </tr>\n    <tr>\n      <th>305</th>\n      <td>0</td>\n    </tr>\n    <tr>\n      <th>306</th>\n      <td>0</td>\n    </tr>\n    <tr>\n      <th>307</th>\n      <td>0</td>\n    </tr>\n    <tr>\n      <th>308</th>\n      <td>0</td>\n    </tr>\n  </tbody>\n</table>\n<p>309 rows × 1 columns</p>\n</div>"
     },
     "metadata": {}
    }
   ]
  },
  {
   "cell_type": "code",
   "metadata": {
    "tags": [],
    "cell_id": "00072-7858a9d6-a3fc-4add-8ce9-d35a450a4809",
    "deepnote_to_be_reexecuted": false,
    "source_hash": "9af1d4c3",
    "execution_start": 1641768323001,
    "execution_millis": 16437,
    "deepnote_cell_type": "code",
    "deepnote_cell_height": 1315.03125,
    "deepnote_output_heights": [
     605.5,
     532.53125
    ]
   },
   "source": "from sklearn.tree import plot_tree\n\nplt.figure(figsize=(16,10))\nplot_tree(dt, filled=True, feature_names=df2.columns, class_names=True, rounded=True)",
   "execution_count": null,
   "outputs": [
    {
     "output_type": "execute_result",
     "execution_count": 53,
     "data": {
      "text/plain": "[Text(441.36885245901635, 516.4200000000001, 'sex <= 0.5\\nentropy = 0.961\\nsamples = 562\\nvalue = [346, 216]\\nclass = y[0]'),\n Text(224.11475409836063, 462.06000000000006, 'pclass <= 2.5\\nentropy = 0.852\\nsamples = 198\\nvalue = [55, 143]\\nclass = y[1]'),\n Text(73.18032786885246, 407.70000000000005, 'age <= 3.5\\nentropy = 0.233\\nsamples = 105\\nvalue = [4, 101]\\nclass = y[1]'),\n Text(58.544262295081964, 353.34000000000003, 'entropy = 0.0\\nsamples = 1\\nvalue = [1, 0]\\nclass = y[0]'),\n Text(87.81639344262294, 353.34000000000003, 'fare <= 13.25\\nentropy = 0.189\\nsamples = 104\\nvalue = [3, 101]\\nclass = y[1]'),\n Text(43.90819672131147, 298.98, 'fare <= 12.675\\nentropy = 0.722\\nsamples = 10\\nvalue = [2, 8]\\nclass = y[1]'),\n Text(29.272131147540982, 244.62, 'entropy = 0.0\\nsamples = 5\\nvalue = [0, 5]\\nclass = y[1]'),\n Text(58.544262295081964, 244.62, 'age <= 33.0\\nentropy = 0.971\\nsamples = 5\\nvalue = [2, 3]\\nclass = y[1]'),\n Text(43.90819672131147, 190.26000000000005, 'age <= 29.0\\nentropy = 1.0\\nsamples = 4\\nvalue = [2, 2]\\nclass = y[0]'),\n Text(29.272131147540982, 135.90000000000003, 'age <= 26.0\\nentropy = 0.918\\nsamples = 3\\nvalue = [1, 2]\\nclass = y[1]'),\n Text(14.636065573770491, 81.54000000000002, 'entropy = 1.0\\nsamples = 2\\nvalue = [1, 1]\\nclass = y[0]'),\n Text(43.90819672131147, 81.54000000000002, 'entropy = 0.0\\nsamples = 1\\nvalue = [0, 1]\\nclass = y[1]'),\n Text(58.544262295081964, 135.90000000000003, 'entropy = 0.0\\nsamples = 1\\nvalue = [1, 0]\\nclass = y[0]'),\n Text(73.18032786885246, 190.26000000000005, 'entropy = 0.0\\nsamples = 1\\nvalue = [0, 1]\\nclass = y[1]'),\n Text(131.7245901639344, 298.98, 'fare <= 31.681\\nentropy = 0.085\\nsamples = 94\\nvalue = [1, 93]\\nclass = y[1]'),\n Text(117.08852459016393, 244.62, 'fare <= 30.875\\nentropy = 0.201\\nsamples = 32\\nvalue = [1, 31]\\nclass = y[1]'),\n Text(102.45245901639343, 190.26000000000005, 'entropy = 0.0\\nsamples = 31\\nvalue = [0, 31]\\nclass = y[1]'),\n Text(131.7245901639344, 190.26000000000005, 'entropy = 0.0\\nsamples = 1\\nvalue = [1, 0]\\nclass = y[0]'),\n Text(146.36065573770492, 244.62, 'entropy = 0.0\\nsamples = 62\\nvalue = [0, 62]\\nclass = y[1]'),\n Text(375.04918032786884, 407.70000000000005, 'fare <= 22.904\\nentropy = 0.993\\nsamples = 93\\nvalue = [51, 42]\\nclass = y[0]'),\n Text(296.3803278688524, 353.34000000000003, 'fare <= 15.373\\nentropy = 0.995\\nsamples = 74\\nvalue = [34, 40]\\nclass = y[1]'),\n Text(226.8590163934426, 298.98, 'fare <= 7.7\\nentropy = 0.996\\nsamples = 56\\nvalue = [30, 26]\\nclass = y[0]'),\n Text(175.63278688524588, 244.62, 'fare <= 6.875\\nentropy = 0.722\\nsamples = 10\\nvalue = [2, 8]\\nclass = y[1]'),\n Text(160.9967213114754, 190.26000000000005, 'entropy = 0.0\\nsamples = 1\\nvalue = [1, 0]\\nclass = y[0]'),\n Text(190.2688524590164, 190.26000000000005, 'age <= 19.75\\nentropy = 0.503\\nsamples = 9\\nvalue = [1, 8]\\nclass = y[1]'),\n Text(175.63278688524588, 135.90000000000003, 'age <= 18.25\\nentropy = 0.811\\nsamples = 4\\nvalue = [1, 3]\\nclass = y[1]'),\n Text(160.9967213114754, 81.54000000000002, 'entropy = 0.0\\nsamples = 3\\nvalue = [0, 3]\\nclass = y[1]'),\n Text(190.2688524590164, 81.54000000000002, 'entropy = 0.0\\nsamples = 1\\nvalue = [1, 0]\\nclass = y[0]'),\n Text(204.90491803278687, 135.90000000000003, 'entropy = 0.0\\nsamples = 5\\nvalue = [0, 5]\\nclass = y[1]'),\n Text(278.0852459016393, 244.62, 'age <= 30.25\\nentropy = 0.966\\nsamples = 46\\nvalue = [28, 18]\\nclass = y[0]'),\n Text(248.81311475409834, 190.26000000000005, 'age <= 28.5\\nentropy = 0.992\\nsamples = 38\\nvalue = [21, 17]\\nclass = y[0]'),\n Text(234.17704918032786, 135.90000000000003, 'fare <= 14.177\\nentropy = 0.98\\nsamples = 36\\nvalue = [21, 15]\\nclass = y[0]'),\n Text(219.54098360655738, 81.54000000000002, 'age <= 3.5\\nentropy = 0.999\\nsamples = 31\\nvalue = [16, 15]\\nclass = y[0]'),\n Text(204.90491803278687, 27.180000000000064, 'entropy = 0.0\\nsamples = 2\\nvalue = [2, 0]\\nclass = y[0]'),\n Text(234.17704918032786, 27.180000000000064, 'entropy = 0.999\\nsamples = 29\\nvalue = [14, 15]\\nclass = y[1]'),\n Text(248.81311475409834, 81.54000000000002, 'entropy = 0.0\\nsamples = 5\\nvalue = [5, 0]\\nclass = y[0]'),\n Text(263.4491803278688, 135.90000000000003, 'entropy = 0.0\\nsamples = 2\\nvalue = [0, 2]\\nclass = y[1]'),\n Text(307.3573770491803, 190.26000000000005, 'fare <= 13.146\\nentropy = 0.544\\nsamples = 8\\nvalue = [7, 1]\\nclass = y[0]'),\n Text(292.72131147540983, 135.90000000000003, 'entropy = 0.0\\nsamples = 6\\nvalue = [6, 0]\\nclass = y[0]'),\n Text(321.9934426229508, 135.90000000000003, 'fare <= 14.281\\nentropy = 1.0\\nsamples = 2\\nvalue = [1, 1]\\nclass = y[0]'),\n Text(307.3573770491803, 81.54000000000002, 'entropy = 0.0\\nsamples = 1\\nvalue = [0, 1]\\nclass = y[1]'),\n Text(336.6295081967213, 81.54000000000002, 'entropy = 0.0\\nsamples = 1\\nvalue = [1, 0]\\nclass = y[0]'),\n Text(365.90163934426226, 298.98, 'embarked <= 1.5\\nentropy = 0.764\\nsamples = 18\\nvalue = [4, 14]\\nclass = y[1]'),\n Text(351.26557377049176, 244.62, 'entropy = 0.0\\nsamples = 7\\nvalue = [0, 7]\\nclass = y[1]'),\n Text(380.5377049180328, 244.62, 'fare <= 20.825\\nentropy = 0.946\\nsamples = 11\\nvalue = [4, 7]\\nclass = y[1]'),\n Text(365.90163934426226, 190.26000000000005, 'fare <= 15.7\\nentropy = 0.764\\nsamples = 9\\nvalue = [2, 7]\\nclass = y[1]'),\n Text(351.26557377049176, 135.90000000000003, 'entropy = 0.0\\nsamples = 1\\nvalue = [1, 0]\\nclass = y[0]'),\n Text(380.5377049180328, 135.90000000000003, 'age <= 22.554\\nentropy = 0.544\\nsamples = 8\\nvalue = [1, 7]\\nclass = y[1]'),\n Text(365.90163934426226, 81.54000000000002, 'parch <= 0.5\\nentropy = 0.918\\nsamples = 3\\nvalue = [1, 2]\\nclass = y[1]'),\n Text(351.26557377049176, 27.180000000000064, 'entropy = 0.0\\nsamples = 1\\nvalue = [1, 0]\\nclass = y[0]'),\n Text(380.5377049180328, 27.180000000000064, 'entropy = 0.0\\nsamples = 2\\nvalue = [0, 2]\\nclass = y[1]'),\n Text(395.1737704918033, 81.54000000000002, 'entropy = 0.0\\nsamples = 5\\nvalue = [0, 5]\\nclass = y[1]'),\n Text(395.1737704918033, 190.26000000000005, 'entropy = 0.0\\nsamples = 2\\nvalue = [2, 0]\\nclass = y[0]'),\n Text(453.7180327868852, 353.34000000000003, 'age <= 7.0\\nentropy = 0.485\\nsamples = 19\\nvalue = [17, 2]\\nclass = y[0]'),\n Text(424.44590163934424, 298.98, 'fare <= 29.644\\nentropy = 1.0\\nsamples = 2\\nvalue = [1, 1]\\nclass = y[0]'),\n Text(409.80983606557373, 244.62, 'entropy = 0.0\\nsamples = 1\\nvalue = [1, 0]\\nclass = y[0]'),\n Text(439.08196721311475, 244.62, 'entropy = 0.0\\nsamples = 1\\nvalue = [0, 1]\\nclass = y[1]'),\n Text(482.9901639344262, 298.98, 'embarked <= 1.5\\nentropy = 0.323\\nsamples = 17\\nvalue = [16, 1]\\nclass = y[0]'),\n Text(468.3540983606557, 244.62, 'age <= 32.554\\nentropy = 1.0\\nsamples = 2\\nvalue = [1, 1]\\nclass = y[0]'),\n Text(453.7180327868852, 190.26000000000005, 'entropy = 0.0\\nsamples = 1\\nvalue = [0, 1]\\nclass = y[1]'),\n Text(482.9901639344262, 190.26000000000005, 'entropy = 0.0\\nsamples = 1\\nvalue = [1, 0]\\nclass = y[0]'),\n Text(497.6262295081967, 244.62, 'entropy = 0.0\\nsamples = 15\\nvalue = [15, 0]\\nclass = y[0]'),\n Text(658.622950819672, 462.06000000000006, 'fare <= 15.146\\nentropy = 0.723\\nsamples = 364\\nvalue = [291, 73]\\nclass = y[0]'),\n Text(556.1704918032787, 407.70000000000005, 'age <= 15.0\\nentropy = 0.566\\nsamples = 218\\nvalue = [189, 29]\\nclass = y[0]'),\n Text(526.8983606557376, 353.34000000000003, 'fare <= 12.821\\nentropy = 0.918\\nsamples = 6\\nvalue = [2, 4]\\nclass = y[1]'),\n Text(512.2622950819672, 298.98, 'entropy = 0.0\\nsamples = 3\\nvalue = [0, 3]\\nclass = y[1]'),\n Text(541.5344262295082, 298.98, 'pclass <= 2.5\\nentropy = 0.918\\nsamples = 3\\nvalue = [2, 1]\\nclass = y[0]'),\n Text(526.8983606557376, 244.62, 'entropy = 0.0\\nsamples = 1\\nvalue = [0, 1]\\nclass = y[1]'),\n Text(556.1704918032787, 244.62, 'entropy = 0.0\\nsamples = 2\\nvalue = [2, 0]\\nclass = y[0]'),\n Text(585.4426229508197, 353.34000000000003, 'age <= 19.5\\nentropy = 0.523\\nsamples = 212\\nvalue = [187, 25]\\nclass = y[0]'),\n Text(570.8065573770491, 298.98, 'entropy = 0.0\\nsamples = 20\\nvalue = [20, 0]\\nclass = y[0]'),\n Text(600.0786885245901, 298.98, 'fare <= 7.048\\nentropy = 0.558\\nsamples = 192\\nvalue = [167, 25]\\nclass = y[0]'),\n Text(585.4426229508197, 244.62, 'entropy = 0.0\\nsamples = 15\\nvalue = [15, 0]\\nclass = y[0]'),\n Text(614.7147540983606, 244.62, 'fare <= 13.881\\nentropy = 0.587\\nsamples = 177\\nvalue = [152, 25]\\nclass = y[0]'),\n Text(600.0786885245901, 190.26000000000005, 'fare <= 13.681\\nentropy = 0.614\\nsamples = 165\\nvalue = [140, 25]\\nclass = y[0]'),\n Text(585.4426229508197, 135.90000000000003, 'age <= 21.5\\nentropy = 0.601\\nsamples = 164\\nvalue = [140, 24]\\nclass = y[0]'),\n Text(556.1704918032787, 81.54000000000002, 'fare <= 7.988\\nentropy = 0.792\\nsamples = 21\\nvalue = [16, 5]\\nclass = y[0]'),\n Text(541.5344262295082, 27.180000000000064, 'entropy = 0.896\\nsamples = 16\\nvalue = [11, 5]\\nclass = y[0]'),\n Text(570.8065573770491, 27.180000000000064, 'entropy = 0.0\\nsamples = 5\\nvalue = [5, 0]\\nclass = y[0]'),\n Text(614.7147540983606, 81.54000000000002, 'age <= 26.75\\nentropy = 0.565\\nsamples = 143\\nvalue = [124, 19]\\nclass = y[0]'),\n Text(600.0786885245901, 27.180000000000064, 'entropy = 0.454\\nsamples = 84\\nvalue = [76, 8]\\nclass = y[0]'),\n Text(629.3508196721311, 27.180000000000064, 'entropy = 0.694\\nsamples = 59\\nvalue = [48, 11]\\nclass = y[0]'),\n Text(614.7147540983606, 135.90000000000003, 'entropy = 0.0\\nsamples = 1\\nvalue = [0, 1]\\nclass = y[1]'),\n Text(629.3508196721311, 190.26000000000005, 'entropy = 0.0\\nsamples = 12\\nvalue = [12, 0]\\nclass = y[0]'),\n Text(761.0754098360655, 407.70000000000005, 'sibsp <= 2.5\\nentropy = 0.883\\nsamples = 146\\nvalue = [102, 44]\\nclass = y[0]'),\n Text(746.4393442622951, 353.34000000000003, 'age <= 12.0\\nentropy = 0.911\\nsamples = 135\\nvalue = [91, 44]\\nclass = y[0]'),\n Text(687.8950819672131, 298.98, 'embarked <= 1.0\\nentropy = 0.544\\nsamples = 8\\nvalue = [1, 7]\\nclass = y[1]'),\n Text(673.2590163934426, 244.62, 'age <= 6.5\\nentropy = 1.0\\nsamples = 2\\nvalue = [1, 1]\\nclass = y[0]'),\n Text(658.622950819672, 190.26000000000005, 'entropy = 0.0\\nsamples = 1\\nvalue = [1, 0]\\nclass = y[0]'),\n Text(687.8950819672131, 190.26000000000005, 'entropy = 0.0\\nsamples = 1\\nvalue = [0, 1]\\nclass = y[1]'),\n Text(702.5311475409835, 244.62, 'entropy = 0.0\\nsamples = 6\\nvalue = [0, 6]\\nclass = y[1]'),\n Text(804.983606557377, 298.98, 'embarked <= 0.5\\nentropy = 0.87\\nsamples = 127\\nvalue = [90, 37]\\nclass = y[0]'),\n Text(761.0754098360655, 244.62, 'age <= 28.0\\nentropy = 0.988\\nsamples = 46\\nvalue = [26, 20]\\nclass = y[0]'),\n Text(717.1672131147541, 190.26000000000005, 'parch <= 0.5\\nentropy = 0.863\\nsamples = 14\\nvalue = [4, 10]\\nclass = y[1]'),\n Text(702.5311475409835, 135.90000000000003, 'age <= 24.5\\nentropy = 0.991\\nsamples = 9\\nvalue = [4, 5]\\nclass = y[1]'),\n Text(687.8950819672131, 81.54000000000002, 'entropy = 0.0\\nsamples = 2\\nvalue = [2, 0]\\nclass = y[0]'),\n Text(717.1672131147541, 81.54000000000002, 'pclass <= 1.5\\nentropy = 0.863\\nsamples = 7\\nvalue = [2, 5]\\nclass = y[1]'),\n Text(702.5311475409835, 27.180000000000064, 'entropy = 0.0\\nsamples = 4\\nvalue = [0, 4]\\nclass = y[1]'),\n Text(731.8032786885245, 27.180000000000064, 'entropy = 0.918\\nsamples = 3\\nvalue = [2, 1]\\nclass = y[0]'),\n Text(731.8032786885245, 135.90000000000003, 'entropy = 0.0\\nsamples = 5\\nvalue = [0, 5]\\nclass = y[1]'),\n Text(804.983606557377, 190.26000000000005, 'fare <= 369.927\\nentropy = 0.896\\nsamples = 32\\nvalue = [22, 10]\\nclass = y[0]'),\n Text(790.3475409836066, 135.90000000000003, 'fare <= 97.765\\nentropy = 0.869\\nsamples = 31\\nvalue = [22, 9]\\nclass = y[0]'),\n Text(775.711475409836, 81.54000000000002, 'sibsp <= 0.5\\nentropy = 0.931\\nsamples = 26\\nvalue = [17, 9]\\nclass = y[0]'),\n Text(761.0754098360655, 27.180000000000064, 'entropy = 0.764\\nsamples = 18\\nvalue = [14, 4]\\nclass = y[0]'),\n Text(790.3475409836066, 27.180000000000064, 'entropy = 0.954\\nsamples = 8\\nvalue = [3, 5]\\nclass = y[1]'),\n Text(804.983606557377, 81.54000000000002, 'entropy = 0.0\\nsamples = 5\\nvalue = [5, 0]\\nclass = y[0]'),\n Text(819.6196721311475, 135.90000000000003, 'entropy = 0.0\\nsamples = 1\\nvalue = [0, 1]\\nclass = y[1]'),\n Text(848.8918032786885, 244.62, 'fare <= 25.962\\nentropy = 0.741\\nsamples = 81\\nvalue = [64, 17]\\nclass = y[0]'),\n Text(834.255737704918, 190.26000000000005, 'entropy = 0.0\\nsamples = 17\\nvalue = [17, 0]\\nclass = y[0]'),\n Text(863.5278688524589, 190.26000000000005, 'age <= 51.5\\nentropy = 0.835\\nsamples = 64\\nvalue = [47, 17]\\nclass = y[0]'),\n Text(848.8918032786885, 135.90000000000003, 'age <= 25.0\\nentropy = 0.886\\nsamples = 56\\nvalue = [39, 17]\\nclass = y[0]'),\n Text(834.255737704918, 81.54000000000002, 'entropy = 0.0\\nsamples = 7\\nvalue = [7, 0]\\nclass = y[0]'),\n Text(863.5278688524589, 81.54000000000002, 'fare <= 26.144\\nentropy = 0.931\\nsamples = 49\\nvalue = [32, 17]\\nclass = y[0]'),\n Text(848.8918032786885, 27.180000000000064, 'entropy = 0.469\\nsamples = 10\\nvalue = [9, 1]\\nclass = y[0]'),\n Text(878.1639344262295, 27.180000000000064, 'entropy = 0.977\\nsamples = 39\\nvalue = [23, 16]\\nclass = y[0]'),\n Text(878.1639344262295, 135.90000000000003, 'entropy = 0.0\\nsamples = 8\\nvalue = [8, 0]\\nclass = y[0]'),\n Text(775.711475409836, 353.34000000000003, 'entropy = 0.0\\nsamples = 11\\nvalue = [11, 0]\\nclass = y[0]')]"
     },
     "metadata": {}
    },
    {
     "data": {
      "text/plain": "<Figure size 1152x720 with 1 Axes>",
      "image/png": "[encoded data removed]"
     },
     "metadata": {
      "needs_background": "light",
      "image/png": {
       "width": 907,
       "height": 558
      }
     },
     "output_type": "display_data"
    }
   ]
  },
  {
   "cell_type": "code",
   "metadata": {
    "tags": [],
    "cell_id": "00052-465446ba-9abc-4f51-8ec0-f105f2e00dc9",
    "deepnote_to_be_reexecuted": false,
    "source_hash": "12da1070",
    "execution_start": 1641768339476,
    "execution_millis": 106,
    "deepnote_cell_type": "code",
    "deepnote_cell_height": 112
   },
   "source": "df_res['ID'] = 1000\nfor i in range(len(df_res)):\n    df_res.iloc[i, 1] += i ",
   "execution_count": null,
   "outputs": []
  },
  {
   "cell_type": "code",
   "metadata": {
    "tags": [],
    "cell_id": "00053-bb7170fc-bc39-481e-a119-c9a6590d6dfa",
    "deepnote_to_be_reexecuted": false,
    "source_hash": "61432e42",
    "execution_start": 1641768339590,
    "execution_millis": 6081554872,
    "deepnote_cell_type": "code",
    "deepnote_cell_height": 76
   },
   "source": "df_res = df_res.reindex(columns=['ID', 'survived'])",
   "execution_count": null,
   "outputs": []
  },
  {
   "cell_type": "code",
   "metadata": {
    "tags": [],
    "cell_id": "00054-cda4b7bf-1aba-46e3-9f34-4914673bd2cd",
    "deepnote_to_be_reexecuted": false,
    "source_hash": "8866cd06",
    "execution_start": 1641768339595,
    "execution_millis": 8,
    "deepnote_cell_type": "code",
    "deepnote_cell_height": 76
   },
   "source": "df_res.set_index('ID', inplace=True)",
   "execution_count": null,
   "outputs": []
  },
  {
   "cell_type": "code",
   "metadata": {
    "tags": [],
    "cell_id": "00054-bf67fa8c-5e05-4cfd-a5c1-0d171faacc12",
    "deepnote_to_be_reexecuted": false,
    "source_hash": "578c6a3a",
    "execution_start": 1641768339611,
    "execution_millis": 11,
    "deepnote_cell_type": "code",
    "deepnote_cell_height": 76
   },
   "source": "df_res.to_csv('results.csv')",
   "execution_count": null,
   "outputs": []
  },
  {
   "cell_type": "markdown",
   "source": "* Tady končí standardní úroveň zadání a následuje použití dalších dvou metod **(randomforest, adaboost)** + nasazení **CV (cross validation)**",
   "metadata": {
    "tags": [],
    "cell_id": "00056-7c5c78c8-dd65-485d-bf3a-977fc066140f",
    "deepnote_cell_type": "markdown",
    "deepnote_cell_height": 91.796875
   }
  },
  {
   "cell_type": "markdown",
   "source": "## RandomForestClassifier",
   "metadata": {
    "tags": [],
    "cell_id": "00057-0cd03122-e706-436f-ad41-ea35a6aa0d5f",
    "deepnote_cell_type": "markdown",
    "deepnote_cell_height": 70
   }
  },
  {
   "cell_type": "code",
   "metadata": {
    "tags": [],
    "cell_id": "00058-39655bce-a8bc-40da-8e1a-98aff1155f34",
    "deepnote_to_be_reexecuted": false,
    "source_hash": "39ef4b5b",
    "execution_start": 1641768339628,
    "execution_millis": 56,
    "deepnote_cell_type": "code",
    "deepnote_cell_height": 76
   },
   "source": "from sklearn.ensemble import RandomForestClassifier",
   "execution_count": null,
   "outputs": []
  },
  {
   "cell_type": "code",
   "metadata": {
    "tags": [],
    "cell_id": "00059-312feae2-f17c-46a1-a8af-88f4f652cad1",
    "deepnote_to_be_reexecuted": false,
    "source_hash": "b501b2",
    "execution_start": 1641768339693,
    "execution_millis": 1,
    "deepnote_cell_type": "code",
    "deepnote_cell_height": 184
   },
   "source": "rf = RandomForestClassifier(\n    n_estimators = 100,\n    criterion='gini',\n    max_depth=None,\n    min_samples_leaf=1,\n    max_features='auto'\n)",
   "execution_count": null,
   "outputs": []
  },
  {
   "cell_type": "code",
   "metadata": {
    "tags": [],
    "cell_id": "00060-0ac80f96-75bd-4b7a-b3a2-0300c2452ae4",
    "deepnote_to_be_reexecuted": false,
    "source_hash": "4847ca93",
    "execution_start": 1641768339696,
    "execution_millis": 11574,
    "deepnote_cell_type": "code",
    "deepnote_cell_height": 346
   },
   "source": "param_grid = {\n    'n_estimators': range(1,100,5),\n    'max_depth': range(1,5)\n}\n\nparam_comb = ParameterGrid(param_grid)\n\nval_acc = []\ntrain_acc = []\ntest_acc = []\nfor params in param_comb:\n    dt = RandomForestClassifier(**params).fit(Xtrain, ytrain)\n    train_acc.append(metrics.accuracy_score(ytrain, dt.predict(Xtrain)))\n    val_acc.append(metrics.accuracy_score(yval, dt.predict(Xval)))\n    test_acc.append(metrics.accuracy_score(ytest, dt.predict(Xtest)))\n",
   "execution_count": null,
   "outputs": []
  },
  {
   "cell_type": "code",
   "metadata": {
    "tags": [],
    "cell_id": "00061-5675dfdb-a9c4-48b8-9347-bf4931f7f592",
    "deepnote_to_be_reexecuted": false,
    "source_hash": "a047312b",
    "execution_start": 1641768351277,
    "execution_millis": 20,
    "deepnote_cell_type": "code",
    "deepnote_cell_height": 275.46875
   },
   "source": "best_params = param_comb[np.argmax(val_acc)]\nprint(best_params)\nprint(\"Max accuracies:\")\nprint(train_acc[np.argmax(train_acc)])\nprint(val_acc[np.argmax(val_acc)])\nprint(test_acc[np.argmax(test_acc)])",
   "execution_count": null,
   "outputs": [
    {
     "name": "stdout",
     "text": "{'n_estimators': 91, 'max_depth': 3}\nMax accuracies:\n0.8487544483985765\n0.8297872340425532\n0.82\n",
     "output_type": "stream",
     "data": {}
    }
   ]
  },
  {
   "cell_type": "code",
   "metadata": {
    "tags": [],
    "cell_id": "00070-4c786c45-51b2-4f8d-97e9-b53cf63a9385",
    "deepnote_to_be_reexecuted": false,
    "source_hash": "c7237039",
    "execution_start": 1641768351302,
    "execution_millis": 707,
    "deepnote_cell_type": "code",
    "deepnote_cell_height": 650.265625,
    "deepnote_output_heights": [
     432.265625
    ]
   },
   "source": "plt.figure(figsize=(20,10))\nplt.plot(train_acc,'or-')\nplt.plot(val_acc,'ob-')\nplt.plot(test_acc,'og-')\nplt.xlabel('hyperparametr index')\nplt.ylabel('accuracy')\nplt.legend(['train', 'validation', 'test'])\nplt.show()",
   "execution_count": null,
   "outputs": [
    {
     "data": {
      "text/plain": "<Figure size 1440x720 with 1 Axes>",
      "image/png": "[encoded data removed]"
     },
     "metadata": {
      "needs_background": "light",
      "image/png": {
       "width": 1180,
       "height": 589
      }
     },
     "output_type": "display_data"
    }
   ]
  },
  {
   "cell_type": "code",
   "metadata": {
    "tags": [],
    "cell_id": "00082-21499d28-c85e-406b-8900-10dd5d9aa6ea",
    "deepnote_to_be_reexecuted": false,
    "source_hash": "3bc164e2",
    "execution_start": 1641768351838,
    "execution_millis": 277,
    "deepnote_cell_type": "code",
    "deepnote_cell_height": 218.078125
   },
   "source": "dt = RandomForestClassifier(**best_params) \ndt.fit(Xtrain, ytrain)\nprint('accuracy score (train): {0:.6f}'.format(metrics.accuracy_score(ytrain, dt.predict(Xtrain))))\nprint('accuracy score (validation): {0:.6f}'.format(metrics.accuracy_score(yval, dt.predict(Xval))))\nprint('accuracy score (test): {0:.6f}'.format(metrics.accuracy_score(ytest, dt.predict(Xtest))))",
   "execution_count": null,
   "outputs": [
    {
     "name": "stdout",
     "text": "accuracy score (train): 0.814947\naccuracy score (validation): 0.792553\naccuracy score (test): 0.784000\n",
     "output_type": "stream",
     "data": {}
    }
   ]
  },
  {
   "cell_type": "markdown",
   "source": "## AdaBoost",
   "metadata": {
    "tags": [],
    "cell_id": "00063-0628536a-b8f9-4e63-8f2c-065288eefade",
    "deepnote_cell_type": "markdown",
    "deepnote_cell_height": 70
   }
  },
  {
   "cell_type": "code",
   "metadata": {
    "tags": [],
    "cell_id": "00063-006cbd57-4856-4846-bcb9-99d2fdc8955a",
    "deepnote_to_be_reexecuted": false,
    "source_hash": "c671121a",
    "execution_start": 1641768352126,
    "execution_millis": 32035,
    "deepnote_cell_type": "code",
    "deepnote_cell_height": 382
   },
   "source": "from sklearn.ensemble import AdaBoostClassifier\n\nparam_grid = {\n    'n_estimators': range(1,100,3),\n    'learning_rate': [0.01, 0.05, 0.1, 0.3, 0.5, 1]\n}\n\nparam_comb = ParameterGrid(param_grid)\n\nval_acc = []\ntrain_acc = []\ntest_acc = []\nfor params in param_comb:\n    dt = AdaBoostClassifier(**params).fit(Xtrain.values, ytrain.values)\n    train_acc.append(metrics.accuracy_score(ytrain.values, dt.predict(Xtrain.values)))\n    val_acc.append(metrics.accuracy_score(yval.values, dt.predict(Xval.values)))\n    test_acc.append(metrics.accuracy_score(ytest.values, dt.predict(Xtest.values)))\n",
   "execution_count": null,
   "outputs": []
  },
  {
   "cell_type": "code",
   "metadata": {
    "tags": [],
    "cell_id": "00064-84bcb345-75d5-40ef-9e07-f2f51d545486",
    "deepnote_to_be_reexecuted": false,
    "source_hash": "d7717c92",
    "execution_start": 1641768384162,
    "execution_millis": 0,
    "deepnote_cell_type": "code",
    "deepnote_cell_height": 237.78125
   },
   "source": "best_params = param_comb[np.argmax(val_acc)]\nprint(best_params)\nprint(train_acc[np.argmax(train_acc)])\nprint(val_acc[np.argmax(val_acc)])\nprint(test_acc[np.argmax(test_acc)])",
   "execution_count": null,
   "outputs": [
    {
     "name": "stdout",
     "text": "{'n_estimators': 22, 'learning_rate': 1}\n0.8309608540925267\n0.8351063829787234\n0.796\n",
     "output_type": "stream",
     "data": {}
    }
   ]
  },
  {
   "cell_type": "code",
   "metadata": {
    "tags": [],
    "cell_id": "00073-bd449337-a56c-4c4b-ad61-badcd3953524",
    "deepnote_to_be_reexecuted": false,
    "source_hash": "dac71752",
    "execution_start": 1641768384163,
    "execution_millis": 462,
    "deepnote_cell_type": "code",
    "deepnote_cell_height": 652.828125,
    "deepnote_output_heights": [
     434.828125
    ]
   },
   "source": "plt.figure(figsize=(20,10))\nplt.plot(train_acc,'or-')\nplt.plot(val_acc,'ob-')\nplt.plot(test_acc, 'og-')\nplt.xlabel('hyperparametr index')\nplt.ylabel('accuracy')\nplt.legend(['train', 'validation', 'test'])\nplt.show()",
   "execution_count": null,
   "outputs": [
    {
     "data": {
      "text/plain": "<Figure size 1440x720 with 1 Axes>",
      "image/png": "[encoded data removed]"
     },
     "metadata": {
      "needs_background": "light",
      "image/png": {
       "width": 1173,
       "height": 589
      }
     },
     "output_type": "display_data"
    }
   ]
  },
  {
   "cell_type": "code",
   "metadata": {
    "tags": [],
    "cell_id": "00087-e8377ffb-381e-4e60-bd0c-db490c81289f",
    "deepnote_to_be_reexecuted": false,
    "source_hash": "c673758e",
    "execution_start": 1641768384634,
    "execution_millis": 93,
    "deepnote_cell_type": "code",
    "deepnote_cell_height": 223.078125
   },
   "source": "dt = AdaBoostClassifier(**best_params) \ndt.fit(Xtrain.values, ytrain.values)\nprint('accuracy score (train): {0:.6f}'.format(metrics.accuracy_score(ytrain.values, dt.predict(Xtrain.values))))\nprint('accuracy score (validation): {0:.6f}'.format(metrics.accuracy_score(yval.values, dt.predict(Xval.values))))\nprint('accuracy score (test): {0:.6f}'.format(metrics.accuracy_score(ytest.values, dt.predict(Xtest.values))))",
   "execution_count": null,
   "outputs": [
    {
     "name": "stdout",
     "text": "accuracy score (train): 0.797153\naccuracy score (validation): 0.835106\naccuracy score (test): 0.780000\n",
     "output_type": "stream",
     "data": {}
    }
   ]
  },
  {
   "cell_type": "markdown",
   "source": "# Cross Validation",
   "metadata": {
    "tags": [],
    "cell_id": "00065-f0902033-58c1-4a8e-bca5-babfbee360c7",
    "deepnote_cell_type": "markdown",
    "deepnote_cell_height": 82
   }
  },
  {
   "cell_type": "code",
   "metadata": {
    "tags": [],
    "cell_id": "00066-aae6fe82-02e3-46d5-a4f5-aa2ed906f681",
    "deepnote_to_be_reexecuted": false,
    "source_hash": "9bf289da",
    "execution_start": 1641768384740,
    "execution_millis": 6081525021,
    "deepnote_cell_type": "code",
    "deepnote_cell_height": 94
   },
   "source": "from sklearn.model_selection import KFold \nnum_of_folds = 5",
   "execution_count": null,
   "outputs": []
  },
  {
   "cell_type": "markdown",
   "source": "* Předpřipravím si jednotlivé dictionaries s parametry, které pak budu nasazovat na modely",
   "metadata": {
    "tags": [],
    "cell_id": "00075-415e25da-44f7-4a01-baaf-196130d728e8",
    "deepnote_cell_type": "markdown",
    "deepnote_cell_height": 69.390625
   }
  },
  {
   "cell_type": "code",
   "metadata": {
    "tags": [],
    "cell_id": "00067-950424d8-0252-4101-985a-d2533799ab3f",
    "deepnote_to_be_reexecuted": false,
    "source_hash": "5e4e9341",
    "execution_start": 1641768384757,
    "execution_millis": 6081525008,
    "deepnote_cell_type": "code",
    "deepnote_cell_height": 364
   },
   "source": "param_gridTree = {\n    'max_depth': range(1,31), \n    'criterion': ['entropy', 'gini']\n}\nparam_gridTree_comb = ParameterGrid(param_gridTree)\n\nparam_gridForest = {\n    'n_estimators': range(1,100,5),\n    'max_depth': range(1,5)\n}\nparam_gridForest_comb = ParameterGrid(param_gridForest)\n\nparam_gridAda = {\n    'n_estimators': range(1,100,5),\n    'learning_rate': [0.01, 0.05, 0.1, 0.3, 0.5, 1]\n}\nparam_gridAda_comb = ParameterGrid(param_gridAda)",
   "execution_count": null,
   "outputs": []
  },
  {
   "cell_type": "markdown",
   "source": "* S dovolením si zapůjčím kod z 5. cvičení a poupravím si jej dle svých potřeb",
   "metadata": {
    "tags": [],
    "cell_id": "00077-7e10b86d-8099-4f17-b23d-6465de37874a",
    "deepnote_cell_type": "markdown",
    "deepnote_cell_height": 69.390625
   }
  },
  {
   "cell_type": "markdown",
   "source": "# <font color='green'>- - - - - - - - - - - -</font>\n# <font color='brown'>CV - *STROM*</font>",
   "metadata": {
    "tags": [],
    "cell_id": "00078-52b6f410-a792-4bd5-a4bf-a694b9f7bb82",
    "deepnote_cell_type": "markdown",
    "deepnote_cell_height": 160
   }
  },
  {
   "cell_type": "code",
   "metadata": {
    "tags": [],
    "cell_id": "00067-2505abcb-bae3-40e5-87b0-1f5b8ee103bd",
    "deepnote_to_be_reexecuted": false,
    "source_hash": "16e3d90c",
    "execution_start": 1641768384809,
    "execution_millis": 2619,
    "is_output_hidden": true,
    "deepnote_cell_type": "code",
    "deepnote_cell_height": 610.796875
   },
   "source": "# accTree v sobě ukládá aritmetické průměry jednotlivých \n# množin, jež mají za své prvky predikce jednotlivých stromů\n# každý ze kterých běží s jinými hyperparametry (respektive s \n# jinou kombinací předepsaných hyperparametrů) \n\naccTree = []\nfor params in param_gridTree_comb:\n    print('Combination', len(accTree) + 1, '/', len(param_gridTree_comb))\n    # comb_accTree v sobě ukládá úspěnosti predikcí\n    # přes jednotlivé folds, což nám na konec dá \n    # lepší přehled o tom, jak dobrý ten model je\n    comb_accTree = []\n\n    for train, val in KFold(n_splits=num_of_folds).split(df.index):\n        print('Fold', len(comb_accTree) + 1, '/', num_of_folds)\n        \n        Xtrain = df[df.index.isin(train)].drop(columns=['survived'])\n        ytrain = df[df.index.isin(train)]['survived']\n        Xval = df[df.index.isin(val)].drop(columns=['survived'])\n        yval = df[df.index.isin(val)]['survived']\n        \n        modelTree = DecisionTreeClassifier(**params)\n        modelTree.fit(Xtrain.values, ytrain.values)\n        # v rámci jednotlivých běhu si ukládáme \n        # úspěšnosti předpovědi na jednotlivých folds\n        comb_accTree.append(metrics.accuracy_score(yval.values, modelTree.predict(Xval.values)))\n    # uložíme si aritmetický průměr množiny\n    # úspěšnosti předpovědí aktuálního modelu \n    accTree.append(np.mean(comb_accTree))",
   "execution_count": null,
   "outputs": [
    {
     "name": "stdout",
     "text": "Combination 1 / 60\nFold 1 / 5\nFold 2 / 5\nFold 3 / 5\nFold 4 / 5\nFold 5 / 5\nCombination 2 / 60\nFold 1 / 5\nFold 2 / 5\nFold 3 / 5\nFold 4 / 5\nFold 5 / 5\nCombination 3 / 60\nFold 1 / 5\nFold 2 / 5\nFold 3 / 5\nFold 4 / 5\nFold 5 / 5\nCombination 4 / 60\nFold 1 / 5\nFold 2 / 5\nFold 3 / 5\nFold 4 / 5\nFold 5 / 5\nCombination 5 / 60\nFold 1 / 5\nFold 2 / 5\nFold 3 / 5\nFold 4 / 5\nFold 5 / 5\nCombination 6 / 60\nFold 1 / 5\nFold 2 / 5\nFold 3 / 5\nFold 4 / 5\nFold 5 / 5\nCombination 7 / 60\nFold 1 / 5\nFold 2 / 5\nFold 3 / 5\nFold 4 / 5\nFold 5 / 5\nCombination 8 / 60\nFold 1 / 5\nFold 2 / 5\nFold 3 / 5\nFold 4 / 5\nFold 5 / 5\nCombination 9 / 60\nFold 1 / 5\nFold 2 / 5\nFold 3 / 5\nFold 4 / 5\nFold 5 / 5\nCombination 10 / 60\nFold 1 / 5\nFold 2 / 5\nFold 3 / 5\nFold 4 / 5\nFold 5 / 5\nCombination 11 / 60\nFold 1 / 5\nFold 2 / 5\nFold 3 / 5\nFold 4 / 5\nFold 5 / 5\nCombination 12 / 60\nFold 1 / 5\nFold 2 / 5\nFold 3 / 5\nFold 4 / 5\nFold 5 / 5\nCombination 13 / 60\nFold 1 / 5\nFold 2 / 5\nFold 3 / 5\nFold 4 / 5\nFold 5 / 5\nCombination 14 / 60\nFold 1 / 5\nFold 2 / 5\nFold 3 / 5\nFold 4 / 5\nFold 5 / 5\nCombination 15 / 60\nFold 1 / 5\nFold 2 / 5\nFold 3 / 5\nFold 4 / 5\nFold 5 / 5\nCombination 16 / 60\nFold 1 / 5\nFold 2 / 5\nFold 3 / 5\nFold 4 / 5\nFold 5 / 5\nCombination 17 / 60\nFold 1 / 5\nFold 2 / 5\nFold 3 / 5\nFold 4 / 5\nFold 5 / 5\nCombination 18 / 60\nFold 1 / 5\nFold 2 / 5\nFold 3 / 5\nFold 4 / 5\nFold 5 / 5\nCombination 19 / 60\nFold 1 / 5\nFold 2 / 5\nFold 3 / 5\nFold 4 / 5\nFold 5 / 5\nCombination 20 / 60\nFold 1 / 5\nFold 2 / 5\nFold 3 / 5\nFold 4 / 5\nFold 5 / 5\nCombination 21 / 60\nFold 1 / 5\nFold 2 / 5\nFold 3 / 5\nFold 4 / 5\nFold 5 / 5\nCombination 22 / 60\nFold 1 / 5\nFold 2 / 5\nFold 3 / 5\nFold 4 / 5\nFold 5 / 5\nCombination 23 / 60\nFold 1 / 5\nFold 2 / 5\nFold 3 / 5\nFold 4 / 5\nFold 5 / 5\nCombination 24 / 60\nFold 1 / 5\nFold 2 / 5\nFold 3 / 5\nFold 4 / 5\nFold 5 / 5\nCombination 25 / 60\nFold 1 / 5\nFold 2 / 5\nFold 3 / 5\nFold 4 / 5\nFold 5 / 5\nCombination 26 / 60\nFold 1 / 5\nFold 2 / 5\nFold 3 / 5\nFold 4 / 5\nFold 5 / 5\nCombination 27 / 60\nFold 1 / 5\nFold 2 / 5\nFold 3 / 5\nFold 4 / 5\nFold 5 / 5\nCombination 28 / 60\nFold 1 / 5\nFold 2 / 5\nFold 3 / 5\nFold 4 / 5\nFold 5 / 5\nCombination 29 / 60\nFold 1 / 5\nFold 2 / 5\nFold 3 / 5\nFold 4 / 5\nFold 5 / 5\nCombination 30 / 60\nFold 1 / 5\nFold 2 / 5\nFold 3 / 5\nFold 4 / 5\nFold 5 / 5\nCombination 31 / 60\nFold 1 / 5\nFold 2 / 5\nFold 3 / 5\nFold 4 / 5\nFold 5 / 5\nCombination 32 / 60\nFold 1 / 5\nFold 2 / 5\nFold 3 / 5\nFold 4 / 5\nFold 5 / 5\nCombination 33 / 60\nFold 1 / 5\nFold 2 / 5\nFold 3 / 5\nFold 4 / 5\nFold 5 / 5\nCombination 34 / 60\nFold 1 / 5\nFold 2 / 5\nFold 3 / 5\nFold 4 / 5\nFold 5 / 5\nCombination 35 / 60\nFold 1 / 5\nFold 2 / 5\nFold 3 / 5\nFold 4 / 5\nFold 5 / 5\nCombination 36 / 60\nFold 1 / 5\nFold 2 / 5\nFold 3 / 5\nFold 4 / 5\nFold 5 / 5\nCombination 37 / 60\nFold 1 / 5\nFold 2 / 5\nFold 3 / 5\nFold 4 / 5\nFold 5 / 5\nCombination 38 / 60\nFold 1 / 5\nFold 2 / 5\nFold 3 / 5\nFold 4 / 5\nFold 5 / 5\nCombination 39 / 60\nFold 1 / 5\nFold 2 / 5\nFold 3 / 5\nFold 4 / 5\nFold 5 / 5\nCombination 40 / 60\nFold 1 / 5\nFold 2 / 5\nFold 3 / 5\nFold 4 / 5\nFold 5 / 5\nCombination 41 / 60\nFold 1 / 5\nFold 2 / 5\nFold 3 / 5\nFold 4 / 5\nFold 5 / 5\nCombination 42 / 60\nFold 1 / 5\nFold 2 / 5\nFold 3 / 5\nFold 4 / 5\nFold 5 / 5\nCombination 43 / 60\nFold 1 / 5\nFold 2 / 5\nFold 3 / 5\nFold 4 / 5\nFold 5 / 5\nCombination 44 / 60\nFold 1 / 5\nFold 2 / 5\nFold 3 / 5\nFold 4 / 5\nFold 5 / 5\nCombination 45 / 60\nFold 1 / 5\nFold 2 / 5\nFold 3 / 5\nFold 4 / 5\nFold 5 / 5\nCombination 46 / 60\nFold 1 / 5\nFold 2 / 5\nFold 3 / 5\nFold 4 / 5\nFold 5 / 5\nCombination 47 / 60\nFold 1 / 5\nFold 2 / 5\nFold 3 / 5\nFold 4 / 5\nFold 5 / 5\nCombination 48 / 60\nFold 1 / 5\nFold 2 / 5\nFold 3 / 5\nFold 4 / 5\nFold 5 / 5\nCombination 49 / 60\nFold 1 / 5\nFold 2 / 5\nFold 3 / 5\nFold 4 / 5\nFold 5 / 5\nCombination 50 / 60\nFold 1 / 5\nFold 2 / 5\nFold 3 / 5\nFold 4 / 5\nFold 5 / 5\nCombination 51 / 60\nFold 1 / 5\nFold 2 / 5\nFold 3 / 5\nFold 4 / 5\nFold 5 / 5\nCombination 52 / 60\nFold 1 / 5\nFold 2 / 5\nFold 3 / 5\nFold 4 / 5\nFold 5 / 5\nCombination 53 / 60\nFold 1 / 5\nFold 2 / 5\nFold 3 / 5\nFold 4 / 5\nFold 5 / 5\nCombination 54 / 60\nFold 1 / 5\nFold 2 / 5\nFold 3 / 5\nFold 4 / 5\nFold 5 / 5\nCombination 55 / 60\nFold 1 / 5\nFold 2 / 5\nFold 3 / 5\nFold 4 / 5\nFold 5 / 5\nCombination 56 / 60\nFold 1 / 5\nFold 2 / 5\nFold 3 / 5\nFold 4 / 5\nFold 5 / 5\nCombination 57 / 60\nFold 1 / 5\nFold 2 / 5\nFold 3 / 5\nFold 4 / 5\nFold 5 / 5\nCombination 58 / 60\nFold 1 / 5\nFold 2 / 5\nFold 3 / 5\nFold 4 / 5\nFold 5 / 5\nCombination 59 / 60\nFold 1 / 5\nFold 2 / 5\nFold 3 / 5\nFold 4 / 5\nFold 5 / 5\nCombination 60 / 60\nFold 1 / 5\nFold 2 / 5\nFold 3 / 5\nFold 4 / 5\nFold 5 / 5\n",
     "output_type": "stream",
     "data": {}
    }
   ]
  },
  {
   "cell_type": "code",
   "metadata": {
    "tags": [],
    "cell_id": "00069-1118c6e9-808f-4aff-b817-2b32daf57d25",
    "deepnote_to_be_reexecuted": false,
    "source_hash": "36ba800a",
    "execution_start": 1641768387478,
    "execution_millis": 2,
    "deepnote_cell_type": "code",
    "deepnote_cell_height": 234.390625
   },
   "source": "# Vypíšeme si nejlepší parametry a nejvyšší dosaženou přesnost \nbest_indexTree = np.argmax(accTree)\nbest_paramsTree = param_gridTree_comb[best_indexTree]\nbest_accTree = accTree[best_indexTree]\n\nprint('Best params:', best_paramsTree)\nprint('Best accuracy: ', best_accTree)",
   "execution_count": null,
   "outputs": [
    {
     "name": "stdout",
     "text": "Best params: {'max_depth': 5, 'criterion': 'entropy'}\nBest accuracy:  0.806\n",
     "output_type": "stream",
     "data": {}
    }
   ]
  },
  {
   "cell_type": "markdown",
   "source": "* Nyní model naučíme na nejlepších parametrech a podíváme se na přesnost",
   "metadata": {
    "tags": [],
    "cell_id": "00096-7ca7038d-ec4a-48c6-a4ce-c92787fb04fd",
    "deepnote_cell_type": "markdown",
    "deepnote_cell_height": 69.390625
   }
  },
  {
   "cell_type": "code",
   "metadata": {
    "tags": [],
    "cell_id": "00096-fc418c28-2e11-44dd-aa18-6cf4a3cd6f0f",
    "deepnote_to_be_reexecuted": false,
    "source_hash": "fcdab8db",
    "execution_start": 1641768387478,
    "execution_millis": 2,
    "deepnote_cell_type": "code",
    "deepnote_cell_height": 223.078125
   },
   "source": "dmodelTreet = DecisionTreeClassifier(**best_paramsTree) \nmodelTree.fit(Xtrain.values, ytrain.values)\nprint('accuracy score (train): {0:.6f}'.format(metrics.accuracy_score(ytrain.values, modelTree.predict(Xtrain.values))))\nprint('accuracy score (validation): {0:.6f}'.format(metrics.accuracy_score(yval.values, modelTree.predict(Xval.values))))\nprint('accuracy score (test): {0:.6f}'.format(metrics.accuracy_score(ytest.values, modelTree.predict(Xtest.values))))",
   "execution_count": null,
   "outputs": [
    {
     "name": "stdout",
     "text": "accuracy score (train): 0.972500\naccuracy score (validation): 0.735000\naccuracy score (test): 0.928000\n",
     "output_type": "stream",
     "data": {}
    }
   ]
  },
  {
   "cell_type": "markdown",
   "source": "# <font color='brown'>- - - - - - - - - - - -</font>\n# <font color='green'>CV - *LES*</font>",
   "metadata": {
    "tags": [],
    "cell_id": "00081-7c9cde23-2f5f-4655-aff3-cd2b744bc840",
    "deepnote_cell_type": "markdown",
    "deepnote_cell_height": 160
   }
  },
  {
   "cell_type": "markdown",
   "source": "* Tady si s prominutím již odpustím komentáře ke kodu, který je prakticky identický s kodem výše",
   "metadata": {
    "tags": [],
    "cell_id": "00080-80c2338c-cacb-4bde-aaa2-916536871781",
    "deepnote_cell_type": "markdown",
    "deepnote_cell_height": 69.390625
   }
  },
  {
   "cell_type": "code",
   "metadata": {
    "tags": [],
    "cell_id": "00071-042fa37b-6704-46ad-9b3f-036e0d000a34",
    "deepnote_to_be_reexecuted": false,
    "source_hash": "7e6a288",
    "execution_start": 1641768387522,
    "execution_millis": 50637,
    "is_output_hidden": true,
    "deepnote_cell_type": "code",
    "deepnote_cell_height": 430.796875
   },
   "source": "accForest = []\nfor params in param_gridForest_comb:\n    print('Combination', len(accForest) + 1, '/', len(param_gridForest_comb))\n    \n    comb_accForest = []\n\n    for train, val in KFold(n_splits=num_of_folds).split(df.index):\n        print('Fold', len(comb_accForest) + 1, '/', num_of_folds)\n        \n        Xtrain = df[df.index.isin(train)].drop(columns=['survived'])\n        ytrain = df[df.index.isin(train)]['survived']\n        Xval = df[df.index.isin(val)].drop(columns=['survived'])\n        yval = df[df.index.isin(val)]['survived']\n        \n        modelForest = RandomForestClassifier(**params)\n        modelForest.fit(Xtrain.values, ytrain.values)\n        comb_accForest.append(metrics.accuracy_score(yval.values, modelForest.predict(Xval.values)))\n\n    accForest.append(np.mean(comb_accForest))",
   "execution_count": null,
   "outputs": [
    {
     "name": "stdout",
     "text": "Combination 1 / 80\nFold 1 / 5\nFold 2 / 5\nFold 3 / 5\nFold 4 / 5\nFold 5 / 5\nCombination 2 / 80\nFold 1 / 5\nFold 2 / 5\nFold 3 / 5\nFold 4 / 5\nFold 5 / 5\nCombination 3 / 80\nFold 1 / 5\nFold 2 / 5\nFold 3 / 5\nFold 4 / 5\nFold 5 / 5\nCombination 4 / 80\nFold 1 / 5\nFold 2 / 5\nFold 3 / 5\nFold 4 / 5\nFold 5 / 5\nCombination 5 / 80\nFold 1 / 5\nFold 2 / 5\nFold 3 / 5\nFold 4 / 5\nFold 5 / 5\nCombination 6 / 80\nFold 1 / 5\nFold 2 / 5\nFold 3 / 5\nFold 4 / 5\nFold 5 / 5\nCombination 7 / 80\nFold 1 / 5\nFold 2 / 5\nFold 3 / 5\nFold 4 / 5\nFold 5 / 5\nCombination 8 / 80\nFold 1 / 5\nFold 2 / 5\nFold 3 / 5\nFold 4 / 5\nFold 5 / 5\nCombination 9 / 80\nFold 1 / 5\nFold 2 / 5\nFold 3 / 5\nFold 4 / 5\nFold 5 / 5\nCombination 10 / 80\nFold 1 / 5\nFold 2 / 5\nFold 3 / 5\nFold 4 / 5\nFold 5 / 5\nCombination 11 / 80\nFold 1 / 5\nFold 2 / 5\nFold 3 / 5\nFold 4 / 5\nFold 5 / 5\nCombination 12 / 80\nFold 1 / 5\nFold 2 / 5\nFold 3 / 5\nFold 4 / 5\nFold 5 / 5\nCombination 13 / 80\nFold 1 / 5\nFold 2 / 5\nFold 3 / 5\nFold 4 / 5\nFold 5 / 5\nCombination 14 / 80\nFold 1 / 5\nFold 2 / 5\nFold 3 / 5\nFold 4 / 5\nFold 5 / 5\nCombination 15 / 80\nFold 1 / 5\nFold 2 / 5\nFold 3 / 5\nFold 4 / 5\nFold 5 / 5\nCombination 16 / 80\nFold 1 / 5\nFold 2 / 5\nFold 3 / 5\nFold 4 / 5\nFold 5 / 5\nCombination 17 / 80\nFold 1 / 5\nFold 2 / 5\nFold 3 / 5\nFold 4 / 5\nFold 5 / 5\nCombination 18 / 80\nFold 1 / 5\nFold 2 / 5\nFold 3 / 5\nFold 4 / 5\nFold 5 / 5\nCombination 19 / 80\nFold 1 / 5\nFold 2 / 5\nFold 3 / 5\nFold 4 / 5\nFold 5 / 5\nCombination 20 / 80\nFold 1 / 5\nFold 2 / 5\nFold 3 / 5\nFold 4 / 5\nFold 5 / 5\nCombination 21 / 80\nFold 1 / 5\nFold 2 / 5\nFold 3 / 5\nFold 4 / 5\nFold 5 / 5\nCombination 22 / 80\nFold 1 / 5\nFold 2 / 5\nFold 3 / 5\nFold 4 / 5\nFold 5 / 5\nCombination 23 / 80\nFold 1 / 5\nFold 2 / 5\nFold 3 / 5\nFold 4 / 5\nFold 5 / 5\nCombination 24 / 80\nFold 1 / 5\nFold 2 / 5\nFold 3 / 5\nFold 4 / 5\nFold 5 / 5\nCombination 25 / 80\nFold 1 / 5\nFold 2 / 5\nFold 3 / 5\nFold 4 / 5\nFold 5 / 5\nCombination 26 / 80\nFold 1 / 5\nFold 2 / 5\nFold 3 / 5\nFold 4 / 5\nFold 5 / 5\nCombination 27 / 80\nFold 1 / 5\nFold 2 / 5\nFold 3 / 5\nFold 4 / 5\nFold 5 / 5\nCombination 28 / 80\nFold 1 / 5\nFold 2 / 5\nFold 3 / 5\nFold 4 / 5\nFold 5 / 5\nCombination 29 / 80\nFold 1 / 5\nFold 2 / 5\nFold 3 / 5\nFold 4 / 5\nFold 5 / 5\nCombination 30 / 80\nFold 1 / 5\nFold 2 / 5\nFold 3 / 5\nFold 4 / 5\nFold 5 / 5\nCombination 31 / 80\nFold 1 / 5\nFold 2 / 5\nFold 3 / 5\nFold 4 / 5\nFold 5 / 5\nCombination 32 / 80\nFold 1 / 5\nFold 2 / 5\nFold 3 / 5\nFold 4 / 5\nFold 5 / 5\nCombination 33 / 80\nFold 1 / 5\nFold 2 / 5\nFold 3 / 5\nFold 4 / 5\nFold 5 / 5\nCombination 34 / 80\nFold 1 / 5\nFold 2 / 5\nFold 3 / 5\nFold 4 / 5\nFold 5 / 5\nCombination 35 / 80\nFold 1 / 5\nFold 2 / 5\nFold 3 / 5\nFold 4 / 5\nFold 5 / 5\nCombination 36 / 80\nFold 1 / 5\nFold 2 / 5\nFold 3 / 5\nFold 4 / 5\nFold 5 / 5\nCombination 37 / 80\nFold 1 / 5\nFold 2 / 5\nFold 3 / 5\nFold 4 / 5\nFold 5 / 5\nCombination 38 / 80\nFold 1 / 5\nFold 2 / 5\nFold 3 / 5\nFold 4 / 5\nFold 5 / 5\nCombination 39 / 80\nFold 1 / 5\nFold 2 / 5\nFold 3 / 5\nFold 4 / 5\nFold 5 / 5\nCombination 40 / 80\nFold 1 / 5\nFold 2 / 5\nFold 3 / 5\nFold 4 / 5\nFold 5 / 5\nCombination 41 / 80\nFold 1 / 5\nFold 2 / 5\nFold 3 / 5\nFold 4 / 5\nFold 5 / 5\nCombination 42 / 80\nFold 1 / 5\nFold 2 / 5\nFold 3 / 5\nFold 4 / 5\nFold 5 / 5\nCombination 43 / 80\nFold 1 / 5\nFold 2 / 5\nFold 3 / 5\nFold 4 / 5\nFold 5 / 5\nCombination 44 / 80\nFold 1 / 5\nFold 2 / 5\nFold 3 / 5\nFold 4 / 5\nFold 5 / 5\nCombination 45 / 80\nFold 1 / 5\nFold 2 / 5\nFold 3 / 5\nFold 4 / 5\nFold 5 / 5\nCombination 46 / 80\nFold 1 / 5\nFold 2 / 5\nFold 3 / 5\nFold 4 / 5\nFold 5 / 5\nCombination 47 / 80\nFold 1 / 5\nFold 2 / 5\nFold 3 / 5\nFold 4 / 5\nFold 5 / 5\nCombination 48 / 80\nFold 1 / 5\nFold 2 / 5\nFold 3 / 5\nFold 4 / 5\nFold 5 / 5\nCombination 49 / 80\nFold 1 / 5\nFold 2 / 5\nFold 3 / 5\nFold 4 / 5\nFold 5 / 5\nCombination 50 / 80\nFold 1 / 5\nFold 2 / 5\nFold 3 / 5\nFold 4 / 5\nFold 5 / 5\nCombination 51 / 80\nFold 1 / 5\nFold 2 / 5\nFold 3 / 5\nFold 4 / 5\nFold 5 / 5\nCombination 52 / 80\nFold 1 / 5\nFold 2 / 5\nFold 3 / 5\nFold 4 / 5\nFold 5 / 5\nCombination 53 / 80\nFold 1 / 5\nFold 2 / 5\nFold 3 / 5\nFold 4 / 5\nFold 5 / 5\nCombination 54 / 80\nFold 1 / 5\nFold 2 / 5\nFold 3 / 5\nFold 4 / 5\nFold 5 / 5\nCombination 55 / 80\nFold 1 / 5\nFold 2 / 5\nFold 3 / 5\nFold 4 / 5\nFold 5 / 5\nCombination 56 / 80\nFold 1 / 5\nFold 2 / 5\nFold 3 / 5\nFold 4 / 5\nFold 5 / 5\nCombination 57 / 80\nFold 1 / 5\nFold 2 / 5\nFold 3 / 5\nFold 4 / 5\nFold 5 / 5\nCombination 58 / 80\nFold 1 / 5\nFold 2 / 5\nFold 3 / 5\nFold 4 / 5\nFold 5 / 5\nCombination 59 / 80\nFold 1 / 5\nFold 2 / 5\nFold 3 / 5\nFold 4 / 5\nFold 5 / 5\nCombination 60 / 80\nFold 1 / 5\nFold 2 / 5\nFold 3 / 5\nFold 4 / 5\nFold 5 / 5\nCombination 61 / 80\nFold 1 / 5\nFold 2 / 5\nFold 3 / 5\nFold 4 / 5\nFold 5 / 5\nCombination 62 / 80\nFold 1 / 5\nFold 2 / 5\nFold 3 / 5\nFold 4 / 5\nFold 5 / 5\nCombination 63 / 80\nFold 1 / 5\nFold 2 / 5\nFold 3 / 5\nFold 4 / 5\nFold 5 / 5\nCombination 64 / 80\nFold 1 / 5\nFold 2 / 5\nFold 3 / 5\nFold 4 / 5\nFold 5 / 5\nCombination 65 / 80\nFold 1 / 5\nFold 2 / 5\nFold 3 / 5\nFold 4 / 5\nFold 5 / 5\nCombination 66 / 80\nFold 1 / 5\nFold 2 / 5\nFold 3 / 5\nFold 4 / 5\nFold 5 / 5\nCombination 67 / 80\nFold 1 / 5\nFold 2 / 5\nFold 3 / 5\nFold 4 / 5\nFold 5 / 5\nCombination 68 / 80\nFold 1 / 5\nFold 2 / 5\nFold 3 / 5\nFold 4 / 5\nFold 5 / 5\nCombination 69 / 80\nFold 1 / 5\nFold 2 / 5\nFold 3 / 5\nFold 4 / 5\nFold 5 / 5\nCombination 70 / 80\nFold 1 / 5\nFold 2 / 5\nFold 3 / 5\nFold 4 / 5\nFold 5 / 5\nCombination 71 / 80\nFold 1 / 5\nFold 2 / 5\nFold 3 / 5\nFold 4 / 5\nFold 5 / 5\nCombination 72 / 80\nFold 1 / 5\nFold 2 / 5\nFold 3 / 5\nFold 4 / 5\nFold 5 / 5\nCombination 73 / 80\nFold 1 / 5\nFold 2 / 5\nFold 3 / 5\nFold 4 / 5\nFold 5 / 5\nCombination 74 / 80\nFold 1 / 5\nFold 2 / 5\nFold 3 / 5\nFold 4 / 5\nFold 5 / 5\nCombination 75 / 80\nFold 1 / 5\nFold 2 / 5\nFold 3 / 5\nFold 4 / 5\nFold 5 / 5\nCombination 76 / 80\nFold 1 / 5\nFold 2 / 5\nFold 3 / 5\nFold 4 / 5\nFold 5 / 5\nCombination 77 / 80\nFold 1 / 5\nFold 2 / 5\nFold 3 / 5\nFold 4 / 5\nFold 5 / 5\nCombination 78 / 80\nFold 1 / 5\nFold 2 / 5\nFold 3 / 5\nFold 4 / 5\nFold 5 / 5\nCombination 79 / 80\nFold 1 / 5\nFold 2 / 5\nFold 3 / 5\nFold 4 / 5\nFold 5 / 5\nCombination 80 / 80\nFold 1 / 5\nFold 2 / 5\nFold 3 / 5\nFold 4 / 5\nFold 5 / 5\n",
     "output_type": "stream",
     "data": {}
    }
   ]
  },
  {
   "cell_type": "code",
   "metadata": {
    "tags": [],
    "cell_id": "00072-30a02be7-d3a4-4fdf-b087-6a8a017ebc36",
    "deepnote_to_be_reexecuted": false,
    "source_hash": "26290403",
    "execution_start": 1641768438012,
    "execution_millis": 148,
    "deepnote_cell_type": "code",
    "deepnote_cell_height": 234.390625
   },
   "source": "# Vypíšeme si nejlepší parametry a nejvyšší dosaženou přesnost \nbest_indexForest = np.argmax(accForest)\nbest_paramsForest = param_gridForest_comb[best_indexForest]\nbest_accForest = accForest[best_indexForest]\n\nprint('Best params:', best_paramsForest)\nprint('Best accuracy: ', best_accForest)",
   "execution_count": null,
   "outputs": [
    {
     "name": "stdout",
     "text": "Best params: {'n_estimators': 76, 'max_depth': 4}\nBest accuracy:  0.808\n",
     "output_type": "stream",
     "data": {}
    }
   ]
  },
  {
   "cell_type": "markdown",
   "source": "* Nyní model naučíme na nejlepších parametrech a podíváme se na přesnost",
   "metadata": {
    "tags": [],
    "cell_id": "00102-c048de20-8fcf-42fe-9ebe-76d119a68126",
    "deepnote_cell_type": "markdown",
    "deepnote_cell_height": 69.390625
   }
  },
  {
   "cell_type": "code",
   "metadata": {
    "tags": [],
    "cell_id": "00101-aa6438d9-9fa3-463e-a310-b40264311cc6",
    "deepnote_to_be_reexecuted": false,
    "source_hash": "c260e234",
    "execution_start": 1641768438087,
    "execution_millis": 195,
    "deepnote_cell_type": "code",
    "deepnote_cell_height": 223.078125
   },
   "source": "modelForest = RandomForestClassifier(**best_paramsForest) \nmodelForest.fit(Xtrain.values, ytrain.values)\nprint('accuracy score (train): {0:.6f}'.format(metrics.accuracy_score(ytrain.values, modelForest.predict(Xtrain.values))))\nprint('accuracy score (validation): {0:.6f}'.format(metrics.accuracy_score(yval.values, modelForest.predict(Xval.values))))\nprint('accuracy score (test): {0:.6f}'.format(metrics.accuracy_score(ytest.values, modelForest.predict(Xtest.values))))",
   "execution_count": null,
   "outputs": [
    {
     "name": "stdout",
     "text": "accuracy score (train): 0.830000\naccuracy score (validation): 0.845000\naccuracy score (test): 0.836000\n",
     "output_type": "stream",
     "data": {}
    }
   ]
  },
  {
   "cell_type": "markdown",
   "source": "# <font color='blue'>- - - - - - - - - - - -</font>\n# <font color='red'>CV - *ADABOOST*</font>",
   "metadata": {
    "tags": [],
    "cell_id": "00085-0e91ec0a-dc74-4086-ba16-502fb49e329f",
    "deepnote_cell_type": "markdown",
    "deepnote_cell_height": 160
   }
  },
  {
   "cell_type": "code",
   "metadata": {
    "tags": [],
    "cell_id": "00073-95f4bfcc-de81-4b8a-9838-758824d9e4fb",
    "deepnote_to_be_reexecuted": false,
    "source_hash": "4cd4b22e",
    "execution_start": 1641768438311,
    "execution_millis": 64192,
    "is_output_hidden": true,
    "deepnote_cell_type": "code",
    "deepnote_cell_height": 430.796875
   },
   "source": "accAda = []\nfor params in param_gridAda_comb:\n    print('Combination', len(accAda) + 1, '/', len(param_gridAda_comb))\n    \n    comb_accAda = []\n\n    for train, val in KFold(n_splits=num_of_folds).split(df.index):\n        print('Fold', len(comb_accAda) + 1, '/', num_of_folds)\n        \n        Xtrain = df[df.index.isin(train)].drop(columns=['survived'])\n        ytrain = df[df.index.isin(train)]['survived']\n        Xval = df[df.index.isin(val)].drop(columns=['survived'])\n        yval = df[df.index.isin(val)]['survived']\n        \n        modelAda = AdaBoostClassifier(**params)\n        modelAda.fit(Xtrain.values, ytrain.values)\n        comb_accAda.append(metrics.accuracy_score(yval.values, modelAda.predict(Xval.values)))\n\n    accAda.append(np.mean(comb_accAda))",
   "execution_count": null,
   "outputs": [
    {
     "name": "stdout",
     "text": "Combination 1 / 120\nFold 1 / 5\nFold 2 / 5\nFold 3 / 5\nFold 4 / 5\nFold 5 / 5\nCombination 2 / 120\nFold 1 / 5\nFold 2 / 5\nFold 3 / 5\nFold 4 / 5\nFold 5 / 5\nCombination 3 / 120\nFold 1 / 5\nFold 2 / 5\nFold 3 / 5\nFold 4 / 5\nFold 5 / 5\nCombination 4 / 120\nFold 1 / 5\nFold 2 / 5\nFold 3 / 5\nFold 4 / 5\nFold 5 / 5\nCombination 5 / 120\nFold 1 / 5\nFold 2 / 5\nFold 3 / 5\nFold 4 / 5\nFold 5 / 5\nCombination 6 / 120\nFold 1 / 5\nFold 2 / 5\nFold 3 / 5\nFold 4 / 5\nFold 5 / 5\nCombination 7 / 120\nFold 1 / 5\nFold 2 / 5\nFold 3 / 5\nFold 4 / 5\nFold 5 / 5\nCombination 8 / 120\nFold 1 / 5\nFold 2 / 5\nFold 3 / 5\nFold 4 / 5\nFold 5 / 5\nCombination 9 / 120\nFold 1 / 5\nFold 2 / 5\nFold 3 / 5\nFold 4 / 5\nFold 5 / 5\nCombination 10 / 120\nFold 1 / 5\nFold 2 / 5\nFold 3 / 5\nFold 4 / 5\nFold 5 / 5\nCombination 11 / 120\nFold 1 / 5\nFold 2 / 5\nFold 3 / 5\nFold 4 / 5\nFold 5 / 5\nCombination 12 / 120\nFold 1 / 5\nFold 2 / 5\nFold 3 / 5\nFold 4 / 5\nFold 5 / 5\nCombination 13 / 120\nFold 1 / 5\nFold 2 / 5\nFold 3 / 5\nFold 4 / 5\nFold 5 / 5\nCombination 14 / 120\nFold 1 / 5\nFold 2 / 5\nFold 3 / 5\nFold 4 / 5\nFold 5 / 5\nCombination 15 / 120\nFold 1 / 5\nFold 2 / 5\nFold 3 / 5\nFold 4 / 5\nFold 5 / 5\nCombination 16 / 120\nFold 1 / 5\nFold 2 / 5\nFold 3 / 5\nFold 4 / 5\nFold 5 / 5\nCombination 17 / 120\nFold 1 / 5\nFold 2 / 5\nFold 3 / 5\nFold 4 / 5\nFold 5 / 5\nCombination 18 / 120\nFold 1 / 5\nFold 2 / 5\nFold 3 / 5\nFold 4 / 5\nFold 5 / 5\nCombination 19 / 120\nFold 1 / 5\nFold 2 / 5\nFold 3 / 5\nFold 4 / 5\nFold 5 / 5\nCombination 20 / 120\nFold 1 / 5\nFold 2 / 5\nFold 3 / 5\nFold 4 / 5\nFold 5 / 5\nCombination 21 / 120\nFold 1 / 5\nFold 2 / 5\nFold 3 / 5\nFold 4 / 5\nFold 5 / 5\nCombination 22 / 120\nFold 1 / 5\nFold 2 / 5\nFold 3 / 5\nFold 4 / 5\nFold 5 / 5\nCombination 23 / 120\nFold 1 / 5\nFold 2 / 5\nFold 3 / 5\nFold 4 / 5\nFold 5 / 5\nCombination 24 / 120\nFold 1 / 5\nFold 2 / 5\nFold 3 / 5\nFold 4 / 5\nFold 5 / 5\nCombination 25 / 120\nFold 1 / 5\nFold 2 / 5\nFold 3 / 5\nFold 4 / 5\nFold 5 / 5\nCombination 26 / 120\nFold 1 / 5\nFold 2 / 5\nFold 3 / 5\nFold 4 / 5\nFold 5 / 5\nCombination 27 / 120\nFold 1 / 5\nFold 2 / 5\nFold 3 / 5\nFold 4 / 5\nFold 5 / 5\nCombination 28 / 120\nFold 1 / 5\nFold 2 / 5\nFold 3 / 5\nFold 4 / 5\nFold 5 / 5\nCombination 29 / 120\nFold 1 / 5\nFold 2 / 5\nFold 3 / 5\nFold 4 / 5\nFold 5 / 5\nCombination 30 / 120\nFold 1 / 5\nFold 2 / 5\nFold 3 / 5\nFold 4 / 5\nFold 5 / 5\nCombination 31 / 120\nFold 1 / 5\nFold 2 / 5\nFold 3 / 5\nFold 4 / 5\nFold 5 / 5\nCombination 32 / 120\nFold 1 / 5\nFold 2 / 5\nFold 3 / 5\nFold 4 / 5\nFold 5 / 5\nCombination 33 / 120\nFold 1 / 5\nFold 2 / 5\nFold 3 / 5\nFold 4 / 5\nFold 5 / 5\nCombination 34 / 120\nFold 1 / 5\nFold 2 / 5\nFold 3 / 5\nFold 4 / 5\nFold 5 / 5\nCombination 35 / 120\nFold 1 / 5\nFold 2 / 5\nFold 3 / 5\nFold 4 / 5\nFold 5 / 5\nCombination 36 / 120\nFold 1 / 5\nFold 2 / 5\nFold 3 / 5\nFold 4 / 5\nFold 5 / 5\nCombination 37 / 120\nFold 1 / 5\nFold 2 / 5\nFold 3 / 5\nFold 4 / 5\nFold 5 / 5\nCombination 38 / 120\nFold 1 / 5\nFold 2 / 5\nFold 3 / 5\nFold 4 / 5\nFold 5 / 5\nCombination 39 / 120\nFold 1 / 5\nFold 2 / 5\nFold 3 / 5\nFold 4 / 5\nFold 5 / 5\nCombination 40 / 120\nFold 1 / 5\nFold 2 / 5\nFold 3 / 5\nFold 4 / 5\nFold 5 / 5\nCombination 41 / 120\nFold 1 / 5\nFold 2 / 5\nFold 3 / 5\nFold 4 / 5\nFold 5 / 5\nCombination 42 / 120\nFold 1 / 5\nFold 2 / 5\nFold 3 / 5\nFold 4 / 5\nFold 5 / 5\nCombination 43 / 120\nFold 1 / 5\nFold 2 / 5\nFold 3 / 5\nFold 4 / 5\nFold 5 / 5\nCombination 44 / 120\nFold 1 / 5\nFold 2 / 5\nFold 3 / 5\nFold 4 / 5\nFold 5 / 5\nCombination 45 / 120\nFold 1 / 5\nFold 2 / 5\nFold 3 / 5\nFold 4 / 5\nFold 5 / 5\nCombination 46 / 120\nFold 1 / 5\nFold 2 / 5\nFold 3 / 5\nFold 4 / 5\nFold 5 / 5\nCombination 47 / 120\nFold 1 / 5\nFold 2 / 5\nFold 3 / 5\nFold 4 / 5\nFold 5 / 5\nCombination 48 / 120\nFold 1 / 5\nFold 2 / 5\nFold 3 / 5\nFold 4 / 5\nFold 5 / 5\nCombination 49 / 120\nFold 1 / 5\nFold 2 / 5\nFold 3 / 5\nFold 4 / 5\nFold 5 / 5\nCombination 50 / 120\nFold 1 / 5\nFold 2 / 5\nFold 3 / 5\nFold 4 / 5\nFold 5 / 5\nCombination 51 / 120\nFold 1 / 5\nFold 2 / 5\nFold 3 / 5\nFold 4 / 5\nFold 5 / 5\nCombination 52 / 120\nFold 1 / 5\nFold 2 / 5\nFold 3 / 5\nFold 4 / 5\nFold 5 / 5\nCombination 53 / 120\nFold 1 / 5\nFold 2 / 5\nFold 3 / 5\nFold 4 / 5\nFold 5 / 5\nCombination 54 / 120\nFold 1 / 5\nFold 2 / 5\nFold 3 / 5\nFold 4 / 5\nFold 5 / 5\nCombination 55 / 120\nFold 1 / 5\nFold 2 / 5\nFold 3 / 5\nFold 4 / 5\nFold 5 / 5\nCombination 56 / 120\nFold 1 / 5\nFold 2 / 5\nFold 3 / 5\nFold 4 / 5\nFold 5 / 5\nCombination 57 / 120\nFold 1 / 5\nFold 2 / 5\nFold 3 / 5\nFold 4 / 5\nFold 5 / 5\nCombination 58 / 120\nFold 1 / 5\nFold 2 / 5\nFold 3 / 5\nFold 4 / 5\nFold 5 / 5\nCombination 59 / 120\nFold 1 / 5\nFold 2 / 5\nFold 3 / 5\nFold 4 / 5\nFold 5 / 5\nCombination 60 / 120\nFold 1 / 5\nFold 2 / 5\nFold 3 / 5\nFold 4 / 5\nFold 5 / 5\nCombination 61 / 120\nFold 1 / 5\nFold 2 / 5\nFold 3 / 5\nFold 4 / 5\nFold 5 / 5\nCombination 62 / 120\nFold 1 / 5\nFold 2 / 5\nFold 3 / 5\nFold 4 / 5\nFold 5 / 5\nCombination 63 / 120\nFold 1 / 5\nFold 2 / 5\nFold 3 / 5\nFold 4 / 5\nFold 5 / 5\nCombination 64 / 120\nFold 1 / 5\nFold 2 / 5\nFold 3 / 5\nFold 4 / 5\nFold 5 / 5\nCombination 65 / 120\nFold 1 / 5\nFold 2 / 5\nFold 3 / 5\nFold 4 / 5\nFold 5 / 5\nCombination 66 / 120\nFold 1 / 5\nFold 2 / 5\nFold 3 / 5\nFold 4 / 5\nFold 5 / 5\nCombination 67 / 120\nFold 1 / 5\nFold 2 / 5\nFold 3 / 5\nFold 4 / 5\nFold 5 / 5\nCombination 68 / 120\nFold 1 / 5\nFold 2 / 5\nFold 3 / 5\nFold 4 / 5\nFold 5 / 5\nCombination 69 / 120\nFold 1 / 5\nFold 2 / 5\nFold 3 / 5\nFold 4 / 5\nFold 5 / 5\nCombination 70 / 120\nFold 1 / 5\nFold 2 / 5\nFold 3 / 5\nFold 4 / 5\nFold 5 / 5\nCombination 71 / 120\nFold 1 / 5\nFold 2 / 5\nFold 3 / 5\nFold 4 / 5\nFold 5 / 5\nCombination 72 / 120\nFold 1 / 5\nFold 2 / 5\nFold 3 / 5\nFold 4 / 5\nFold 5 / 5\nCombination 73 / 120\nFold 1 / 5\nFold 2 / 5\nFold 3 / 5\nFold 4 / 5\nFold 5 / 5\nCombination 74 / 120\nFold 1 / 5\nFold 2 / 5\nFold 3 / 5\nFold 4 / 5\nFold 5 / 5\nCombination 75 / 120\nFold 1 / 5\nFold 2 / 5\nFold 3 / 5\nFold 4 / 5\nFold 5 / 5\nCombination 76 / 120\nFold 1 / 5\nFold 2 / 5\nFold 3 / 5\nFold 4 / 5\nFold 5 / 5\nCombination 77 / 120\nFold 1 / 5\nFold 2 / 5\nFold 3 / 5\nFold 4 / 5\nFold 5 / 5\nCombination 78 / 120\nFold 1 / 5\nFold 2 / 5\nFold 3 / 5\nFold 4 / 5\nFold 5 / 5\nCombination 79 / 120\nFold 1 / 5\nFold 2 / 5\nFold 3 / 5\nFold 4 / 5\nFold 5 / 5\nCombination 80 / 120\nFold 1 / 5\nFold 2 / 5\nFold 3 / 5\nFold 4 / 5\nFold 5 / 5\nCombination 81 / 120\nFold 1 / 5\nFold 2 / 5\nFold 3 / 5\nFold 4 / 5\nFold 5 / 5\nCombination 82 / 120\nFold 1 / 5\nFold 2 / 5\nFold 3 / 5\nFold 4 / 5\nFold 5 / 5\nCombination 83 / 120\nFold 1 / 5\nFold 2 / 5\nFold 3 / 5\nFold 4 / 5\nFold 5 / 5\nCombination 84 / 120\nFold 1 / 5\nFold 2 / 5\nFold 3 / 5\nFold 4 / 5\nFold 5 / 5\nCombination 85 / 120\nFold 1 / 5\nFold 2 / 5\nFold 3 / 5\nFold 4 / 5\nFold 5 / 5\nCombination 86 / 120\nFold 1 / 5\nFold 2 / 5\nFold 3 / 5\nFold 4 / 5\nFold 5 / 5\nCombination 87 / 120\nFold 1 / 5\nFold 2 / 5\nFold 3 / 5\nFold 4 / 5\nFold 5 / 5\nCombination 88 / 120\nFold 1 / 5\nFold 2 / 5\nFold 3 / 5\nFold 4 / 5\nFold 5 / 5\nCombination 89 / 120\nFold 1 / 5\nFold 2 / 5\nFold 3 / 5\nFold 4 / 5\nFold 5 / 5\nCombination 90 / 120\nFold 1 / 5\nFold 2 / 5\nFold 3 / 5\nFold 4 / 5\nFold 5 / 5\nCombination 91 / 120\nFold 1 / 5\nFold 2 / 5\nFold 3 / 5\nFold 4 / 5\nFold 5 / 5\nCombination 92 / 120\nFold 1 / 5\nFold 2 / 5\nFold 3 / 5\nFold 4 / 5\nFold 5 / 5\nCombination 93 / 120\nFold 1 / 5\nFold 2 / 5\nFold 3 / 5\nFold 4 / 5\nFold 5 / 5\nCombination 94 / 120\nFold 1 / 5\nFold 2 / 5\nFold 3 / 5\nFold 4 / 5\nFold 5 / 5\nCombination 95 / 120\nFold 1 / 5\nFold 2 / 5\nFold 3 / 5\nFold 4 / 5\nFold 5 / 5\nCombination 96 / 120\nFold 1 / 5\nFold 2 / 5\nFold 3 / 5\nFold 4 / 5\nFold 5 / 5\nCombination 97 / 120\nFold 1 / 5\nFold 2 / 5\nFold 3 / 5\nFold 4 / 5\nFold 5 / 5\nCombination 98 / 120\nFold 1 / 5\nFold 2 / 5\nFold 3 / 5\nFold 4 / 5\nFold 5 / 5\nCombination 99 / 120\nFold 1 / 5\nFold 2 / 5\nFold 3 / 5\nFold 4 / 5\nFold 5 / 5\nCombination 100 / 120\nFold 1 / 5\nFold 2 / 5\nFold 3 / 5\nFold 4 / 5\nFold 5 / 5\nCombination 101 / 120\nFold 1 / 5\nFold 2 / 5\nFold 3 / 5\nFold 4 / 5\nFold 5 / 5\nCombination 102 / 120\nFold 1 / 5\nFold 2 / 5\nFold 3 / 5\nFold 4 / 5\nFold 5 / 5\nCombination 103 / 120\nFold 1 / 5\nFold 2 / 5\nFold 3 / 5\nFold 4 / 5\nFold 5 / 5\nCombination 104 / 120\nFold 1 / 5\nFold 2 / 5\nFold 3 / 5\nFold 4 / 5\nFold 5 / 5\nCombination 105 / 120\nFold 1 / 5\nFold 2 / 5\nFold 3 / 5\nFold 4 / 5\nFold 5 / 5\nCombination 106 / 120\nFold 1 / 5\nFold 2 / 5\nFold 3 / 5\nFold 4 / 5\nFold 5 / 5\nCombination 107 / 120\nFold 1 / 5\nFold 2 / 5\nFold 3 / 5\nFold 4 / 5\nFold 5 / 5\nCombination 108 / 120\nFold 1 / 5\nFold 2 / 5\nFold 3 / 5\nFold 4 / 5\nFold 5 / 5\nCombination 109 / 120\nFold 1 / 5\nFold 2 / 5\nFold 3 / 5\nFold 4 / 5\nFold 5 / 5\nCombination 110 / 120\nFold 1 / 5\nFold 2 / 5\nFold 3 / 5\nFold 4 / 5\nFold 5 / 5\nCombination 111 / 120\nFold 1 / 5\nFold 2 / 5\nFold 3 / 5\nFold 4 / 5\nFold 5 / 5\nCombination 112 / 120\nFold 1 / 5\nFold 2 / 5\nFold 3 / 5\nFold 4 / 5\nFold 5 / 5\nCombination 113 / 120\nFold 1 / 5\nFold 2 / 5\nFold 3 / 5\nFold 4 / 5\nFold 5 / 5\nCombination 114 / 120\nFold 1 / 5\nFold 2 / 5\nFold 3 / 5\nFold 4 / 5\nFold 5 / 5\nCombination 115 / 120\nFold 1 / 5\nFold 2 / 5\nFold 3 / 5\nFold 4 / 5\nFold 5 / 5\nCombination 116 / 120\nFold 1 / 5\nFold 2 / 5\nFold 3 / 5\nFold 4 / 5\nFold 5 / 5\nCombination 117 / 120\nFold 1 / 5\nFold 2 / 5\nFold 3 / 5\nFold 4 / 5\nFold 5 / 5\nCombination 118 / 120\nFold 1 / 5\nFold 2 / 5\nFold 3 / 5\nFold 4 / 5\nFold 5 / 5\nCombination 119 / 120\nFold 1 / 5\nFold 2 / 5\nFold 3 / 5\nFold 4 / 5\nFold 5 / 5\nCombination 120 / 120\nFold 1 / 5\nFold 2 / 5\nFold 3 / 5\nFold 4 / 5\nFold 5 / 5\n",
     "output_type": "stream",
     "data": {}
    }
   ]
  },
  {
   "cell_type": "code",
   "metadata": {
    "tags": [],
    "cell_id": "00074-124fd422-25eb-4c05-a6a6-704b0e2316b4",
    "deepnote_to_be_reexecuted": false,
    "source_hash": "cf8b8cb9",
    "execution_start": 1641768502508,
    "execution_millis": 1,
    "deepnote_cell_type": "code",
    "deepnote_cell_height": 234.390625
   },
   "source": "# Vypíšeme si nejlepší parametry a nejvyšší dosaženou přesnost \nbest_indexAda = np.argmax(accAda)\nbest_paramsAda = param_gridAda_comb[best_indexAda]\nbest_accAda = accAda[best_indexAda]\n\nprint('Best params:', best_paramsAda)\nprint('Best accuracy: ', best_accAda)",
   "execution_count": null,
   "outputs": [
    {
     "name": "stdout",
     "text": "Best params: {'n_estimators': 26, 'learning_rate': 0.5}\nBest accuracy:  0.792\n",
     "output_type": "stream",
     "data": {}
    }
   ]
  },
  {
   "cell_type": "markdown",
   "source": "* Nyní model naučíme na nejlepších parametrech a podíváme se na přesnost",
   "metadata": {
    "tags": [],
    "cell_id": "00107-a7243e26-d837-40f3-a337-0ff190cfdd1b",
    "deepnote_cell_type": "markdown",
    "deepnote_cell_height": 69.390625
   }
  },
  {
   "cell_type": "code",
   "metadata": {
    "tags": [],
    "cell_id": "00105-e380731f-0107-4c4b-a104-06a22194f11c",
    "deepnote_to_be_reexecuted": false,
    "source_hash": "63d3b01e",
    "execution_start": 1641768502518,
    "execution_millis": 409,
    "deepnote_cell_type": "code",
    "deepnote_cell_height": 223.078125
   },
   "source": "modelAda = AdaBoostClassifier(**best_paramsAda) \nmodelAda.fit(Xtrain.values, ytrain.values)\nprint('accuracy score (train): {0:.6f}'.format(metrics.accuracy_score(ytrain.values, modelAda.predict(Xtrain.values))))\nprint('accuracy score (validation): {0:.6f}'.format(metrics.accuracy_score(yval.values, modelAda.predict(Xval.values))))\nprint('accuracy score (test): {0:.6f}'.format(metrics.accuracy_score(ytest.values, modelAda.predict(Xtest.values))))",
   "execution_count": null,
   "outputs": [
    {
     "name": "stdout",
     "text": "accuracy score (train): 0.797500\naccuracy score (validation): 0.815000\naccuracy score (test): 0.800000\n",
     "output_type": "stream",
     "data": {}
    }
   ]
  },
  {
   "cell_type": "markdown",
   "source": "## Vybereme ten nejlepší model",
   "metadata": {
    "tags": [],
    "cell_id": "00109-34e0fc04-0eb3-49d9-9ac6-1380f1c5e006",
    "deepnote_cell_type": "markdown",
    "deepnote_cell_height": 70
   }
  },
  {
   "cell_type": "code",
   "metadata": {
    "tags": [],
    "cell_id": "00075-93be68b9-7623-47e6-be9b-cfcb67a3b442",
    "deepnote_to_be_reexecuted": false,
    "source_hash": "c4dbd056",
    "execution_start": 1641768502584,
    "execution_millis": 351,
    "deepnote_cell_type": "code",
    "deepnote_cell_height": 182.078125
   },
   "source": "print(metrics.accuracy_score(ytest.values, modelTree.predict(Xtest.values)))\nprint(metrics.accuracy_score(ytest.values, modelForest.predict(Xtest.values)))\nprint(metrics.accuracy_score(ytest.values, modelAda.predict(Xtest.values)))",
   "execution_count": null,
   "outputs": [
    {
     "name": "stdout",
     "text": "0.928\n0.836\n0.8\n",
     "output_type": "stream",
     "data": {}
    }
   ]
  },
  {
   "cell_type": "markdown",
   "source": "* Nabízí se napsat si primitivní funkci, která na základě toho, který model měl nejlepší přesnost, vrátí typ tohoto modelu s nasazením nejlepších hyperparametrů:",
   "metadata": {
    "tags": [],
    "cell_id": "00076-4c40cd95-220a-4cac-9ec9-392e0cb4bb83",
    "deepnote_cell_type": "markdown",
    "deepnote_cell_height": 91.796875
   }
  },
  {
   "cell_type": "code",
   "metadata": {
    "tags": [],
    "cell_id": "00081-3272bd9c-53c4-46ec-92d1-1d3eedd6c24b",
    "deepnote_to_be_reexecuted": false,
    "source_hash": "c7390a1a",
    "execution_start": 1641768502617,
    "execution_millis": 45,
    "deepnote_cell_type": "code",
    "deepnote_cell_height": 418
   },
   "source": "from typing import Union\n\ndef best_model_prediction() -> Union[DecisionTreeClassifier, RandomForestClassifier, AdaBoostClassifier]:\n    T = metrics.accuracy_score(ytest.values, modelTree.predict(Xtest.values))\n    F = metrics.accuracy_score(ytest.values, modelForest.predict(Xtest.values))\n    A = metrics.accuracy_score(ytest.values, modelAda.predict(Xtest.values))\n\n    max = T\n    if (max < F):\n        max = F\n    if (max < A):\n        max = A\n\n    if max == T:\n        return DecisionTreeClassifier(**best_paramsTree)\n    elif max == F:\n        return RandomForestClassifier(**best_paramsForest)\n    return AdaBoostClassifier(**best_paramsAda)\n\n",
   "execution_count": null,
   "outputs": []
  },
  {
   "cell_type": "markdown",
   "source": "* Nyní máme zaručeno, že pracujeme s tím nejlepším modelem (adaboost/strom/les) a zároveň na něj máme nasazené ty nejlepší hyperparametry",
   "metadata": {
    "tags": [],
    "cell_id": "00086-f6be4be5-fab1-4301-aa09-55091a196721",
    "deepnote_cell_type": "markdown",
    "deepnote_cell_height": 91.796875
   }
  },
  {
   "cell_type": "code",
   "metadata": {
    "tags": [],
    "cell_id": "00083-a9f3b143-590b-4d55-b76c-a872486b0784",
    "deepnote_to_be_reexecuted": false,
    "source_hash": "739776f7",
    "execution_start": 1641768502663,
    "execution_millis": 1,
    "deepnote_cell_type": "code",
    "deepnote_cell_height": 76
   },
   "source": "best_model = best_model_prediction()",
   "execution_count": null,
   "outputs": []
  },
  {
   "cell_type": "code",
   "metadata": {
    "tags": [],
    "cell_id": "00079-307455ca-c265-4bd5-aa13-be6f131a0d2b",
    "deepnote_to_be_reexecuted": false,
    "source_hash": "fe191335",
    "execution_start": 1641768502664,
    "execution_millis": 0,
    "deepnote_cell_type": "code",
    "deepnote_cell_height": 112.1875,
    "deepnote_output_heights": [
     20.1875
    ]
   },
   "source": "type(best_model)",
   "execution_count": null,
   "outputs": [
    {
     "output_type": "execute_result",
     "execution_count": 82,
     "data": {
      "text/plain": "sklearn.tree._classes.DecisionTreeClassifier"
     },
     "metadata": {}
    }
   ]
  },
  {
   "cell_type": "code",
   "metadata": {
    "tags": [],
    "cell_id": "00084-46809b09-1e6e-48ad-9099-567b1eda151a",
    "deepnote_to_be_reexecuted": false,
    "source_hash": "b017da4a",
    "execution_start": 1641768502665,
    "execution_millis": 273,
    "deepnote_cell_type": "code",
    "deepnote_cell_height": 112.1875,
    "deepnote_output_heights": [
     20.1875
    ]
   },
   "source": "best_model.fit(Xtrain.values, ytrain.values)",
   "execution_count": null,
   "outputs": [
    {
     "output_type": "execute_result",
     "execution_count": 83,
     "data": {
      "text/plain": "DecisionTreeClassifier(criterion='entropy', max_depth=5)"
     },
     "metadata": {}
    }
   ]
  },
  {
   "cell_type": "code",
   "metadata": {
    "tags": [],
    "cell_id": "00087-f007cb98-1b9f-43ad-9715-687bb521d3ab",
    "deepnote_to_be_reexecuted": false,
    "source_hash": "c36a65b5",
    "execution_start": 1641768502708,
    "execution_millis": 0,
    "deepnote_cell_type": "code",
    "deepnote_cell_height": 76
   },
   "source": "df_res = pd.DataFrame(best_model.predict(df2.values), columns=['survive'])",
   "execution_count": null,
   "outputs": []
  },
  {
   "cell_type": "code",
   "metadata": {
    "tags": [],
    "cell_id": "00083-b30bf66f-5329-4675-8f20-da19e647366a",
    "deepnote_to_be_reexecuted": false,
    "source_hash": "16660442",
    "execution_start": 1641768502709,
    "execution_millis": 230,
    "deepnote_cell_type": "code",
    "deepnote_cell_height": 595
   },
   "source": "df_res",
   "execution_count": null,
   "outputs": [
    {
     "output_type": "execute_result",
     "execution_count": 85,
     "data": {
      "application/vnd.deepnote.dataframe.v3+json": {
       "column_count": 1,
       "row_count": 309,
       "columns": [
        {
         "name": "survive",
         "dtype": "int64",
         "stats": {
          "unique_count": 2,
          "nan_count": 0,
          "min": "0",
          "max": "1",
          "histogram": [
           {
            "bin_start": 0,
            "bin_end": 0.1,
            "count": 200
           },
           {
            "bin_start": 0.1,
            "bin_end": 0.2,
            "count": 0
           },
           {
            "bin_start": 0.2,
            "bin_end": 0.30000000000000004,
            "count": 0
           },
           {
            "bin_start": 0.30000000000000004,
            "bin_end": 0.4,
            "count": 0
           },
           {
            "bin_start": 0.4,
            "bin_end": 0.5,
            "count": 0
           },
           {
            "bin_start": 0.5,
            "bin_end": 0.6000000000000001,
            "count": 0
           },
           {
            "bin_start": 0.6000000000000001,
            "bin_end": 0.7000000000000001,
            "count": 0
           },
           {
            "bin_start": 0.7000000000000001,
            "bin_end": 0.8,
            "count": 0
           },
           {
            "bin_start": 0.8,
            "bin_end": 0.9,
            "count": 0
           },
           {
            "bin_start": 0.9,
            "bin_end": 1,
            "count": 109
           }
          ]
         }
        },
        {
         "name": "_deepnote_index_column",
         "dtype": "int64"
        }
       ],
       "rows": [
        {
         "survive": 1,
         "_deepnote_index_column": 0
        },
        {
         "survive": 1,
         "_deepnote_index_column": 1
        },
        {
         "survive": 1,
         "_deepnote_index_column": 2
        },
        {
         "survive": 0,
         "_deepnote_index_column": 3
        },
        {
         "survive": 0,
         "_deepnote_index_column": 4
        },
        {
         "survive": 0,
         "_deepnote_index_column": 5
        },
        {
         "survive": 0,
         "_deepnote_index_column": 6
        },
        {
         "survive": 0,
         "_deepnote_index_column": 7
        },
        {
         "survive": 1,
         "_deepnote_index_column": 8
        },
        {
         "survive": 0,
         "_deepnote_index_column": 9
        }
       ]
      },
      "text/plain": "     survive\n0          1\n1          1\n2          1\n3          0\n4          0\n..       ...\n304        1\n305        0\n306        0\n307        0\n308        0\n\n[309 rows x 1 columns]",
      "text/html": "<div>\n<style scoped>\n    .dataframe tbody tr th:only-of-type {\n        vertical-align: middle;\n    }\n\n    .dataframe tbody tr th {\n        vertical-align: top;\n    }\n\n    .dataframe thead th {\n        text-align: right;\n    }\n</style>\n<table border=\"1\" class=\"dataframe\">\n  <thead>\n    <tr style=\"text-align: right;\">\n      <th></th>\n      <th>survive</th>\n    </tr>\n  </thead>\n  <tbody>\n    <tr>\n      <th>0</th>\n      <td>1</td>\n    </tr>\n    <tr>\n      <th>1</th>\n      <td>1</td>\n    </tr>\n    <tr>\n      <th>2</th>\n      <td>1</td>\n    </tr>\n    <tr>\n      <th>3</th>\n      <td>0</td>\n    </tr>\n    <tr>\n      <th>4</th>\n      <td>0</td>\n    </tr>\n    <tr>\n      <th>...</th>\n      <td>...</td>\n    </tr>\n    <tr>\n      <th>304</th>\n      <td>1</td>\n    </tr>\n    <tr>\n      <th>305</th>\n      <td>0</td>\n    </tr>\n    <tr>\n      <th>306</th>\n      <td>0</td>\n    </tr>\n    <tr>\n      <th>307</th>\n      <td>0</td>\n    </tr>\n    <tr>\n      <th>308</th>\n      <td>0</td>\n    </tr>\n  </tbody>\n</table>\n<p>309 rows × 1 columns</p>\n</div>"
     },
     "metadata": {}
    }
   ]
  },
  {
   "cell_type": "markdown",
   "source": "* Přidáme sloupeček ID ke každé jednotlivé předpovědi (1. řádek odpovídá předpovědi survive pro pasažéra číslo 1000)",
   "metadata": {
    "tags": [],
    "cell_id": "00091-06978039-a67f-4439-a6fc-2368d37ed307",
    "deepnote_cell_type": "markdown",
    "deepnote_cell_height": 69.390625
   }
  },
  {
   "cell_type": "code",
   "metadata": {
    "tags": [],
    "cell_id": "00088-2ee522d8-6a30-4ef9-8276-6c7ed93da2aa",
    "deepnote_to_be_reexecuted": false,
    "source_hash": "12da1070",
    "execution_start": 1641768502765,
    "execution_millis": 54,
    "deepnote_cell_type": "code",
    "deepnote_cell_height": 112
   },
   "source": "df_res['ID'] = 1000\nfor i in range(len(df_res)):\n    df_res.iloc[i, 1] += i ",
   "execution_count": null,
   "outputs": []
  },
  {
   "cell_type": "markdown",
   "source": "* Přeindexujeme dle požadavku v zadání",
   "metadata": {
    "tags": [],
    "cell_id": "00092-9fac8289-155e-4bb8-8beb-04dad7b087ed",
    "deepnote_cell_type": "markdown",
    "deepnote_cell_height": 69.390625
   }
  },
  {
   "cell_type": "code",
   "metadata": {
    "tags": [],
    "cell_id": "00087-ad4cd062-69bb-482f-9148-a4daed2f8e11",
    "deepnote_to_be_reexecuted": false,
    "source_hash": "f06e2e2f",
    "execution_start": 1641768502863,
    "execution_millis": 0,
    "deepnote_cell_type": "code",
    "deepnote_cell_height": 94
   },
   "source": "df_res = df_res.reindex(columns=['ID', 'survive'])\ndf_res.set_index(keys='ID', inplace=True)",
   "execution_count": null,
   "outputs": []
  },
  {
   "cell_type": "markdown",
   "source": "* Výsledek uložíme do **results.csv**",
   "metadata": {
    "tags": [],
    "cell_id": "00096-3b06a7fc-4192-46b1-a1d2-0c786e04b12f",
    "deepnote_cell_type": "markdown",
    "deepnote_cell_height": 69.390625
   }
  },
  {
   "cell_type": "code",
   "metadata": {
    "tags": [],
    "cell_id": "00086-a434ba75-0d49-4598-ac77-eb3f06328c33",
    "deepnote_to_be_reexecuted": false,
    "source_hash": "578c6a3a",
    "execution_start": 1641768502864,
    "execution_millis": 1,
    "deepnote_cell_type": "code",
    "deepnote_cell_height": 76
   },
   "source": "df_res.to_csv('results.csv')",
   "execution_count": null,
   "outputs": []
  },
  {
   "cell_type": "markdown",
   "source": "## Konec ",
   "metadata": {
    "tags": [],
    "cell_id": "00088-e28e3430-6622-4e6f-b492-38aede0439c4",
    "deepnote_cell_type": "markdown",
    "deepnote_cell_height": 117
   }
  },
  {
   "cell_type": "markdown",
   "source": "<a style='text-decoration:none;line-height:16px;display:flex;color:#5B5B62;padding:10px;justify-content:end;' href='https://deepnote.com?utm_source=created-in-deepnote-cell&projectId=2dc389db-6765-4fd2-884f-416340f54fea' target=\"_blank\">\n<img alt='Created in deepnote.com' style='display:inline;max-height:16px;margin:0px;margin-right:7.5px;' src='data:image/svg+xml;base64,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' > </img>\nCreated in <span style='font-weight:600;margin-left:4px;'>Deepnote</span></a>",
   "metadata": {
    "tags": [],
    "created_in_deepnote_cell": true,
    "deepnote_cell_type": "markdown"
   }
  }
 ],
 "nbformat": 4,
 "nbformat_minor": 2,
 "metadata": {
  "orig_nbformat": 2,
  "deepnote": {
   "is_reactive": false
  },
  "deepnote_notebook_id": "5a0abba9-7c40-47d0-81a0-3c0fe43c485b",
  "deepnote_execution_queue": []
 }
}